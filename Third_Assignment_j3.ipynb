{
 "cells": [
  {
   "cell_type": "markdown",
   "metadata": {
    "collapsed": false
   },
   "source": [
    "<center> <h1> Third Assignment: Numerical Simulation </h1></center>\n",
    "\n",
    "<center> <h2><span style=\"font-family:Courier New; \"> Random Trend Model Estimation for Panel Data </span></h2></center>\n",
    "\n",
    "\n",
    "<center> <h3><span style=\"color:blue; font-family:Courier New; \"> Carlos Gonzales (536572) </span></h3></center>\n",
    "\n",
    "<center> <h3><span style=\"color:blue; font-family:Courier New; \"> Daniel Dimitrov (275140) </span></h3></center>\n",
    "\n",
    "<center> <h3><span style=\"color:blue; font-family:Courier New; \"> Jakob Schwerter (110583) </span></h3></center>"
   ]
  },
  {
   "cell_type": "markdown",
   "metadata": {},
   "source": [
    "--------------------"
   ]
  },
  {
   "cell_type": "markdown",
   "metadata": {},
   "source": [
    "Things that have to be done:\n",
    "    - Fixing the problem of the random.seed: Does not work in the python code\n",
    "    - Make plots flexible to parameter changes (for us n, t and beta)\n",
    "    - If possible, make the code faster / easier\n",
    "    - Count the time python code needs\n",
    "    - Loading a dataset to check the simulation results for a empirical dataset\n",
    "    - write an executive summary/abstract\n",
    "    - write a conclusion\n",
    "    - updating the table of contents"
   ]
  },
  {
   "cell_type": "markdown",
   "metadata": {},
   "source": [
    "<center><h2><span style=\"font-family:Courier New; \"> Contents </span></h2></center>\n",
    "<h3><span style=\"font-family:Courier New; \">1. <a href='#Motivation'>Motivation</a></span></h3>\n",
    "<h3><span style=\"font-family:Courier New; \"> 2. <a href='#SimStata'>Simulation and Estimation with Stata</a></span></h3>\n",
    "<h4><span style=\"font-family:Courier New; \">        2.1. <a href='#SimStata'>Preparing ipystata</span></a></h4>\n",
    "<h4><span style=\"font-family:Courier New; \">        2.2. <a href='#DGP'>Overview of the DGP</span></a></h4>\n",
    "<h4><span style=\"font-family:Courier New; \">        2.2. <a href='#SimNoTrend'>Simulation without Random Trend in the true DGP]</a></span></h4>\n",
    "<h4><span style=\"font-family:Courier New; \">        2.3. <a href='#MCNoTrend'>Monte Carlo study without trend in the DGP]</a></span></h4>\n",
    "<h4><span style=\"font-family:Courier New; \">        2.4. <a href='#MCConstTrend'>Monte Carlo study with the same trend for all individuals</a></span></h4>\n",
    "<h4><span style=\"font-family:Courier New; \">        2.5. <a href='#MCIndivTrend'>Monte Carlo study with individual specific linear trends (Random Trend)</a></span></h4>\n",
    "<h4><span style=\"font-family:Courier New; \">        2.6. <a href='#MCNonLinTrend'>Monte Carlo study with nonlinear individual specific trends</a></span></h4>\n",
    "<h3><span style=\"font-family:Courier New; \"> 3. <a href='#MCPythonRT'>Random Trend Simulation using Python</a></span></h3>\n",
    "<h4><span style=\"font-family:Courier New; \">        3.1. <a href='#MCPythonDGP'>DGP</a></span></h4>\n",
    "<h4><span style=\"font-family:Courier New; \">        3.2. <a href='#MCPythonDataTr'>Data Transformation</a></span></h4>\n",
    "<h4><span style=\"font-family:Courier New; \">        3.3. <a href='#MCPythonReg'>Regression</a></span></h4>"
   ]
  },
  {
   "cell_type": "markdown",
   "metadata": {
    "collapsed": true
   },
   "source": [
    "-----------------\n",
    "<a id='Motivation'></a>"
   ]
  },
  {
   "cell_type": "markdown",
   "metadata": {
    "collapsed": false
   },
   "source": [
    "# 1. Motivation\n",
    "\n",
    "We construct a simulation for a random-trend (RT) model as defined by [Wooldrige 2010](https://mitpress.mit.edu/books/econometric-analysis-cross-section-and-panel-data),  section 11.7.1. The model is an extension of the [first-difference (FD) model](https://en.wikipedia.org/wiki/First-difference_estimator) for panel-data and overcomes some of its deficiencies. Our main interest is to find an unbiased estimator after a linear random-trend has already introduced some bias in the classical panel estimation methods.\n",
    "\n",
    "## 1.1. Basic Panel Data Model\n",
    "\n",
    "The basic model to estimate a dependent variable follows a linear panel data specification. The specific model is as follows:\n",
    "\n",
    "<a id='EQ1'></a>\n",
    "$$y_{it} = \\beta \\cdot x_{it} + u_{it} \\quad (1) $$\n",
    "\n",
    "As we are working with a panel, the index $i$ stands for an individual (person, company, country, etc.), while the index $t$ represents time. The dependent and the independent variables are respectively indicated by $y_{it}$ and $x_{it}$ and vary both over the individuals and over the time dimension. The error term is represented by $u_{it}$. This can be decomposed into three terms:\n",
    "\n",
    "$$u_{it} = \\alpha_i + e_{it} $$\n",
    "\n",
    "In this context $\\alpha_i$ is an unobserved individual specific effect that stays constant for each individual and $e_{it}$ is an idiosyncratic error that changes both over time and over individuals. In practice we are mostly interested in estimating the effect of $x$ on $y$ and so we are looking for an unbiased and consistent estimation of $\\beta$. \n",
    "\n",
    "Given that both $x$ and $y$ are correlated with the first two parts of the error term, using just normal OLS without any data-transformation (pooled regression) will give biased results due to an [endogeneity bias](https://en.wikipedia.org/wiki/Endogeneity_%28econometrics%29).\n",
    "\n",
    "Two methods can be used to deal with the endogeneity problem induced by the constant error term: The [fixed-effects](https://en.wikipedia.org/wiki/Fixed_effects_model) (FE) and the first-differences (FD) method.\n",
    "\n",
    "The fixed-effects (FE) method can handle situations using the so-called within transformation, subtracting the mean from each variable corresponding to each individual. This eliminates the individual-specific effect which is constant over time (here: $\\alpha_i$) and allows for a consistent [OLS estimation](https://en.wikipedia.org/wiki/Ordinary_least_squares): \n",
    "\n",
    "<a id='EQ2'></a>\n",
    "$$y_{it} - \\bar{y}_{i} = \\beta \\cdot (x_{it} - \\bar{x}_{i}) + \\alpha_i - \\alpha_i + e_{it} - \\bar{e}_{i} \\quad (2)$$ \n",
    "\n",
    "with $\\bar{y}_{i} = \\sum_{t=1}^T y_{it}$, $\\bar{x}_{i} = \\sum_{t=1}^T x_{it}$ and $\\bar{e}_{i} = \\sum_{t=1}^T e_{it}$\n",
    "\n",
    "The first-differences manages to control for the bias by subtracting the past observation from the current one:\n",
    "\n",
    "<a id='EQ3'></a>\n",
    "$$y_{it} - y_{it-1} = \\beta \\cdot ( x_{it} - x_{it-1}) + \\alpha_i - \\alpha_{i} + (e_{it} - e_{it-1}) \\quad (3) $$\n",
    "\n",
    "One can clearly see that in both methods the $\\alpha_i$ cancels out of the regression, solving a possible correlation between $\\alpha_i$ with $y_{it} $ and $x_{it}$. Still, a crucial requirement for retrieving reliable estimates is that the independent variable and the idiosyncratic term remain uncorrelated in expectations.     \n",
    "\n",
    "Things get complicated however, when besides the unobserved constant ($\\alpha_i$), the variable of interest $x_{it}$ is correlated also with a linear trend ($g_i \\cdot t$). Keeping the variable names as before, the error term can now be decomposed as:\n",
    "\n",
    "$$u_{it} = \\alpha_i + g_i \\cdot t + e_{it} $$\n",
    "\n",
    "Now, $g_i$ is a linear trend which is specific for each individual. Note that if $y_{it}$ is a logarithm of the original variable, $g_i$ can also be interpreted as roughly the average growth rate over a period. In that case, the equation is usually referred to a random-growth model, otherwise simply as a random-trend. Overall, this presents an additional source of heterogeneity and needs to be dealt with before employing an OLS estimation.      \n",
    "\n",
    "To solve the possible bias problem due to the RT component, the literature states that in the first step we have to calculate the first-differences in order to transform the linear trend into a constant. To illustrate this more formally, taking the first-difference in the RT set-up gives\n",
    "\n",
    "$$y_{it} - y_{it-1} = \\beta \\cdot (x_{it} - x_{it-1}) + \\alpha_i - \\alpha_{i} +   g_i \\cdot t - g_{i} \\cdot (t-1) + (e_{it} - e_{it-1})$$\n",
    "\n",
    "$$ \\iff \\Delta y_{it} = \\beta \\cdot \\Delta x_{it} + g_i + \\Delta  e_{it}$$\n",
    "\n",
    "Thereafter, it is up to the researcher to continue with either the within-transformation or to first-difference again. Note that even though both are fixed-effect methods, we will be consistent with the literature to call the within-transformation the fixed-effect method. We will investigate if one of the approaches is superior to the other in means of the estimation bias of the coefficient. <span style=\"color: green\">It would be further of interest to investigate the standard errors and model selection criteria like $R^2$, AIC and BIC, but this will be left out for the future research. </span>\n",
    "\n",
    "As we saw, the linear trend has been reduced to a constant term which can now be canceled out by a second first-difference or a with-transformation. So, we have two possibilities for estimation given the RT model: \n",
    "- The **FD Method**: Taking two times the first-difference, will be named _pure_ in the tables later on\n",
    "- The **FD-FE Method**: First the first-difference, then the fixed-effect, named _mix_.\n",
    "\n",
    "First-differencing leads to the FD Method:\n",
    "\n",
    "<a id='EQ4'></a>\n",
    "$$\\Delta^2 y_{it} = \\beta \\cdot \\Delta^2 x_{it} + \\Delta^2 e_{it} \\quad (4) $$ where $\\Delta^2$ stands for the taking two first-differences. \n",
    "\n",
    "The alternative is to do a FE transformation for each variable by subtracting from it the mean corresponding to each individual. This leads to the FD-FE method:\n",
    "\n",
    "<a id='EQ5'></a>\n",
    "$$\\Delta y'_{it} = \\beta \\cdot \\Delta x'_{it} + \\Delta e'_{it} \\quad (5) $$\n",
    "\n",
    "where ' denotes that the variables are demeaned.\n",
    "\n",
    "One can clearly see that in (4) and (5) we canceled out both terms $\\alpha_i$ and $g_i \\cdot t$. Thereby $\\beta$ will not be biased even though the data initially included two different sorts of bias.\n",
    "\n",
    "On the other hand, if we had failed to take first differences in the first place, taking first the fixed-effects as in equation (3) would have given us the following:\n",
    "\n",
    "$$y_{it} - \\bar{y}_{i} = \\beta \\cdot ( x_{it} - \\bar{x}_{i}) + \\alpha_i - \\alpha_{i} +   g_i \\cdot (t - \\bar{t}) + (e_{it} - \\bar{e}_{i})$$\n",
    "\n",
    "Using a second transformation we will not be able to cancel out the time trend effect (we will confirm this in the simulation [at some point](#MCNonFEFD)). We thereby see that it is crucial to first take the first-difference and not the within-transformation.\n",
    "\n",
    "Given that our group is new to python but experienced in Stata, we will first do the simulation via Stata by using the package [`ipystata`](https://github.com/TiesdeKok/ipystata). Thereby we have a known language which we can refer to as our benchmark. In a second step we will use only open software packages to replicate the results. Thereby we will comment which python code is comparable to which Stata code. Besides having the results obtained using Stata as a benchmark, we start a nice _translater_ from Stata to Python. We will also comment on the speed of both languages as well as advantages and disadvantages of the coding part.\n",
    "\n",
    "The assignment will continue as follows: (i) First we explain step by step our [Data Generating Process (DGP)](#DGP). (ii) Then we run a [simulation without a random trend](#SimNoTrend) to see if everything works fine. As a single simulation is not enough to produce definitive answers, from here on we perform a Monte Carlo study with numerous simulation draws. First we do that with the basic DGP model [without a trend](#MCNoTrend) (iii) Next we run the same simulation using a [constant linear trend](#MCConstTrend) and (iv) an [individual specific trend](#MCIndivTrend) in the data generating process. To see how robust the random-trend estimates are, we will further run two simulations using two [non-linear trends](#MCNonLinTrend). Finally that we will reproduce the results of the individual trend using [open-source python packages](#MCPythonRT) only, such as _numpy_, _pandas_ and _random_.\n",
    "\n",
    "## 1.2. Setting up Python packages  for this study\n"
   ]
  },
  {
   "cell_type": "markdown",
   "metadata": {},
   "source": [
    "   > First we import the computational packages that will be used for this study. Note that _ipystata_, even though an open source package itself, relies on [Stata libraries](http://www.stata.com/) and as a result requires a Stata license and installation on your computer.  \n",
    "   \n",
    "   > After that we install and activate a spell checker in order to keep typos under control. We use [_ICalico_](http://calicoproject.org/ICalico) for the purpose.  "
   ]
  },
  {
   "cell_type": "code",
   "execution_count": 191,
   "metadata": {
    "collapsed": false
   },
   "outputs": [
    {
     "name": "stdout",
     "output_type": "stream",
     "text": [
      "1.9.7\n"
     ]
    }
   ],
   "source": [
    "import ipystata # https://github.com/TiesdeKok/ipystata - We kind of helped so that ipystata works on mac as well :)\n",
    "import numpy as np\n",
    "import pandas as pd\n",
    "import random\n",
    "\n",
    "from plotly import __version__\n",
    "from plotly.offline import download_plotlyjs, init_notebook_mode, iplot\n",
    "\n",
    "print __version__ # requires version >= 1.9.0\n",
    "\n",
    "from plotly.offline import plot\n",
    "from plotly.graph_objs import *\n",
    "import cufflinks as cf\n",
    "init_notebook_mode()\n",
    "\n",
    "\n",
    "# Those packages where not used in the end, but we keep it to find them easier for later projects\n",
    "#from scipy import stats\n",
    "#import statsmodels.api as sm\n",
    "#from statsmodels.sandbox.regression.predstd import wls_prediction_std\n",
    "\n",
    "# Different plot-package\n",
    "#import matplotlib.pyplot as plt\n",
    "#%matplotlib inline\n",
    "\n",
    "\n",
    "# pip install ipystata --upgrade --force-reinstall\n",
    "# Check if a new version is online before running the code.\n",
    "# Might be useful and does not take much time"
   ]
  },
  {
   "cell_type": "code",
   "execution_count": 192,
   "metadata": {
    "collapsed": false,
    "scrolled": true
   },
   "outputs": [
    {
     "name": "stdout",
     "output_type": "stream",
     "text": [
      "[TerminalIPythonApp] WARNING | Subcommand `ipython install-nbextension` is deprecated and will be removed in future versions.\n",
      "[TerminalIPythonApp] WARNING | You likely want to use `jupyter install-nbextension`... continue in 5 sec. Press Ctrl-C to quit now.\n",
      "downloading https://bitbucket.org/ipre/calico/downloads/calico-spell-check-1.0.zip to /var/folders/fq/w4v55vm52pvg18kzm9tvtddm0000gn/T/tmpZKpZZW/calico-spell-check-1.0.zip\n",
      "extracting /var/folders/fq/w4v55vm52pvg18kzm9tvtddm0000gn/T/tmpZKpZZW/calico-spell-check-1.0.zip to /usr/local/share/jupyter/nbextensions\n"
     ]
    }
   ],
   "source": [
    "#install spellchecker\n",
    "!ipython install-nbextension https://bitbucket.org/ipre/calico/downloads/calico-spell-check-1.0.zip\n",
    "#after you install it, activate it executing the next step.     \n",
    "#this video provides a demo of how it works after you install it: https://www.youtube.com/watch?v=Km3AtRynWFQ"
   ]
  },
  {
   "cell_type": "code",
   "execution_count": 193,
   "metadata": {
    "collapsed": false
   },
   "outputs": [
    {
     "data": {
      "application/javascript": [
       "require(['base/js/utils'],\n",
       "function(utils) {\n",
       "   utils.load_extensions('calico-spell-check');\n",
       "});"
      ],
      "text/plain": [
       "<IPython.core.display.Javascript object>"
      ]
     },
     "metadata": {},
     "output_type": "display_data"
    }
   ],
   "source": [
    "%%javascript\n",
    "require(['base/js/utils'],\n",
    "function(utils) {\n",
    "   utils.load_extensions('calico-spell-check');\n",
    "});"
   ]
  },
  {
   "cell_type": "markdown",
   "metadata": {},
   "source": [
    "-------------------\n",
    "<a id='SimStata'></a>"
   ]
  },
  {
   "cell_type": "markdown",
   "metadata": {
    "collapsed": false
   },
   "source": [
    "# 2. Simulation and Estimation with Stata\n",
    "\n",
    "## 2.1. Preparing ipystata\n",
    "Before we proceed with setting up our DGP we will first make sure that _ipystata_ has been successfully installed and is working well within the python environment. The first two cells are to call _Stata_ and to see if it actually works within the Python environment. In the third cell you have to provide a path to a folder on your computer so that the system can use it to store data from the simulations. "
   ]
  },
  {
   "cell_type": "code",
   "execution_count": 194,
   "metadata": {
    "collapsed": false
   },
   "outputs": [],
   "source": [
    "from ipystata.config import config_stata\n",
    "config_stata('/Applications/Stata/StataSE.app/Contents/MacOS/StataSE') \n",
    "\n",
    "# Windows  --> 'C:\\Program Files (x86)\\Stata14\\StataSE-64.exe'\n",
    "# Mac OS X --> '/Applications/Stata/StataSE.app/Contents/MacOS/stataSE'\n",
    "# Linux    --> '/home/user/stata14/stata-se'"
   ]
  },
  {
   "cell_type": "code",
   "execution_count": 195,
   "metadata": {
    "collapsed": false
   },
   "outputs": [
    {
     "name": "stdout",
     "output_type": "stream",
     "text": [
      "\n",
      "Hello, I am printed by Stata\n",
      "We welcome you to our assignment and we hope you enjoy it\n"
     ]
    }
   ],
   "source": [
    "%%stata \n",
    "display \"Hello, I am printed by Stata\" \n",
    "display \"We welcome you to our assignment and we hope you enjoy it\""
   ]
  },
  {
   "cell_type": "code",
   "execution_count": 196,
   "metadata": {
    "collapsed": false,
    "scrolled": true
   },
   "outputs": [
    {
     "name": "stdout",
     "output_type": "stream",
     "text": [
      "\n",
      "/Users/jakobschwerter/Dropbox/github/python/Stata/Assignment\n"
     ]
    }
   ],
   "source": [
    "%%stata \n",
    "cd \"/Users/jakobschwerter/Dropbox/github/python/Stata/Assignment\"\n",
    "    * cd \"D:\\Google Doc\\_Tilburg\\_Simulation\\stata\" \n",
    "set seed 100"
   ]
  },
  {
   "cell_type": "markdown",
   "metadata": {},
   "source": [
    "<a id='DGP'></a> \n",
    "## 2.2. Overview of the DGP\n",
    "\n",
    "We will now go through the main part of the simulation process. Minor changes or additions to the process later on will be explained with _Stata's_ commenting functionality within the code, which is done by \" * \".\n",
    "\n",
    "> First we have to _call_ Stata using `%%stata`. Then by using `cd` we indicate where it should look for files and where it can save them.\n",
    "\n",
    "> We further set the seed to 100, so that results are easier to be reproduced."
   ]
  },
  {
   "cell_type": "code",
   "execution_count": 197,
   "metadata": {
    "collapsed": false
   },
   "outputs": [
    {
     "name": "stdout",
     "output_type": "stream",
     "text": [
      "\n",
      "(obs 200)\n"
     ]
    }
   ],
   "source": [
    "%%stata -o simulation\n",
    "drawnorm alpha_i, n(200)\n"
   ]
  },
  {
   "cell_type": "markdown",
   "metadata": {},
   "source": [
    ">We create a new dataset called _simulation_ using `-o`. The type is a pandas core frame Data Frame. This is necessary for `ipystata` on mac, because the data would not be stored otherwise.\n",
    "\n",
    ">Then we draw 200 (independent and identical distributed (iid) random numbers of a standard normal distribution with mean zero and variance 1. We name it $alpha_i$ ($\\alpha_i$). In the context of panel data, the variable $\\alpha_i$ stands for the unobserved time-invariant individual effect.   "
   ]
  },
  {
   "cell_type": "code",
   "execution_count": 198,
   "metadata": {
    "collapsed": false
   },
   "outputs": [
    {
     "name": "stdout",
     "output_type": "stream",
     "text": [
      "\n",
      "(800 observations created)\n"
     ]
    }
   ],
   "source": [
    "%%stata -d simulation -o simulation\n",
    "expand 5"
   ]
  },
  {
   "cell_type": "markdown",
   "metadata": {
    "collapsed": false
   },
   "source": [
    "> `-d` calls the dataset _simulation_ , otherwise the commands afterwards would not find any variables. The command `-o simulation` saves the changes.\n",
    "\n",
    "> We expand the generated data by 5, i.e. simply repeating every alpha 4 additional times. This creates 800 additional observations.\n",
    "\n",
    ">As a result, the vector expands from $(200 \\; \\text{x} \\; 1)$ to $(200 \\cdot 5 \\; \\text{x} \\; 1)$. What we have done is to create a variable of 800 observations, each described by some measure that is randomly generated. The expanding here ensures that for each individual the measure stays constant over time, thus replicating time-invariant individual effects. "
   ]
  },
  {
   "cell_type": "code",
   "execution_count": 199,
   "metadata": {
    "collapsed": false
   },
   "outputs": [
    {
     "name": "stdout",
     "output_type": "stream",
     "text": [
      "\n",
      "\n"
     ]
    }
   ],
   "source": [
    "%%stata -d simulation -o simulation\n",
    "drawnorm nu_it e_it, n(1000)"
   ]
  },
  {
   "cell_type": "markdown",
   "metadata": {},
   "source": [
    "> We draw two new variables (or vectors) now with 1000 entries from a multivariate normal distribution. 1000 draws are made, so that this fits with the 200 persons and the 5 time periods we created by expanding the alphas by 5. Both variables are independent from each other, so they are not correlated, and the data is also i.i.d. over time.\n",
    " \n",
    "> To verify that we did everything correctly, we have a look into summary statistics"
   ]
  },
  {
   "cell_type": "code",
   "execution_count": 200,
   "metadata": {
    "collapsed": false
   },
   "outputs": [
    {
     "name": "stdout",
     "output_type": "stream",
     "text": [
      "\n",
      "    Variable |       Obs        Mean    Std. Dev.       Min        Max\n",
      "-------------+--------------------------------------------------------\n",
      "       index |      1000       499.5    288.8194          0        999\n",
      "     alpha_i |      1000   -.0376166    1.014596  -2.885089    2.10282\n",
      "       nu_it |      1000    .0101147    1.027895  -2.885089   3.081883\n",
      "        e_it |      1000   -.0310172    .9936022  -2.741925   3.359478\n"
     ]
    }
   ],
   "source": [
    "%%stata -d simulation\n",
    "sum "
   ]
  },
  {
   "cell_type": "markdown",
   "metadata": {},
   "source": [
    ">We see the three generated variables $\\alpha_i, \\; nu_{it}, \\; e_{it}$, having a mean very close to zero and a standard deviation close to 1. Further, using stata in python, and index variable is generated automatically. The index variable would be the individual identifier variable if we would run a pooled panel regression. "
   ]
  },
  {
   "cell_type": "code",
   "execution_count": 201,
   "metadata": {
    "collapsed": false
   },
   "outputs": [
    {
     "name": "stdout",
     "output_type": "stream",
     "text": [
      "\n",
      "\n"
     ]
    }
   ],
   "source": [
    "%%stata -d simulation -o simulation\n",
    "g x_it = nu_it + alpha_i"
   ]
  },
  {
   "cell_type": "markdown",
   "metadata": {},
   "source": [
    ">Generates our variable of interest $x_{it}$ using the two variables we created in a previous step. Since $\\alpha_i$ is part of it and is time-invariant, $x_{it}$ will be correlated over time."
   ]
  },
  {
   "cell_type": "code",
   "execution_count": 202,
   "metadata": {
    "collapsed": false
   },
   "outputs": [
    {
     "name": "stdout",
     "output_type": "stream",
     "text": [
      "\n",
      "\n"
     ]
    }
   ],
   "source": [
    "%%stata -d simulation -o simulation\n",
    "g y_it=3+alpha_i+2*x_it+e_it"
   ]
  },
  {
   "cell_type": "markdown",
   "metadata": {},
   "source": [
    ">Generates our dependent variable $y_{it}$. We use an intercept, $\\alpha_i$, dependent variable $x_{it}$ and residual $e_{it}$ for that. The assigned regression parameter to $x_{it}$ is $2$.\n",
    " \n",
    ">The underlying model is a panel data model, consisting of 200 individuals and 5 time periods per person. It is completely balanced. The variables $y_{it}$ and $x_{it}$ are correlated with a constant term $\\alpha_i$. This produces autocorrelation within an individual.\n",
    "\n",
    "\n",
    "\n",
    ">Checking if the code worked:"
   ]
  },
  {
   "cell_type": "code",
   "execution_count": 203,
   "metadata": {
    "collapsed": false
   },
   "outputs": [
    {
     "name": "stdout",
     "output_type": "stream",
     "text": [
      "\n",
      "             |    index  alpha_i    nu_it     e_it     x_it     y_it\n",
      "-------------+------------------------------------------------------\n",
      "       index |   1.0000 \n",
      "             |\n",
      "             |\n",
      "     alpha_i |   0.0079   1.0000 \n",
      "             |   0.8022\n",
      "             |\n",
      "       nu_it |   0.0283   0.2159   1.0000 \n",
      "             |   0.3711   0.0000\n",
      "             |\n",
      "        e_it |  -0.0082  -0.0082  -0.0185   1.0000 \n",
      "             |   0.7967   0.7949   0.5600\n",
      "             |\n",
      "        x_it |   0.0233   0.7764   0.7830  -0.0172   1.0000 \n",
      "             |   0.4612   0.0000   0.0000   0.5880\n",
      "             |\n",
      "        y_it |   0.0180   0.8425   0.6525   0.2253   0.9579   1.0000 \n",
      "             |   0.5701   0.0000   0.0000   0.0000   0.0000\n",
      "             |\n",
      "An output file must be specified\n"
     ]
    }
   ],
   "source": [
    "%%stata -d simulation\n",
    "pwcorr,sig\n",
    "corrtex alpha_i e_it x_it y_it, sig "
   ]
  },
  {
   "cell_type": "markdown",
   "metadata": {},
   "source": [
    "> The command [_pwcorr_](http://www.stata.com/help.cgi?pwcorr) shows a correlation table of the variables in the dataset (which were generated previously). The option _sig_ prints significance level for each correlation. Results are presented above. There is a statistically significant correlation between $x_{it}$ and $\\alpha_i$ (77.64%). As a result, not including or solving for $\\alpha_i$ when regressing in a panel model $x_it$ on $y_{it}$ will produce biased estimates. The correlation of $x_{it}$ on $y_{it}$ and $\\alpha_i$ is naturally very high, since it depends on both variables in our set-up.\n",
    " The correlation of $e_{it}$ with $x_{it}$ and $\\alpha_i$ is very low and statistical insignificant, which is necessary and by construction. An OLS model like $y_{it} = \\beta x_{it}$  will be upward biased since the correlation of $\\alpha_i$ and $x_{it}$ is positive. $\\beta$ will estimate the effect of $\\alpha$ and $x_{it}$. If the correlation would be negative, it would have been downward biased.\n",
    "\n",
    " To check if the DGP is correct, we do one simulation without imposing a trend into the DGP.\n",
    "\n",
    "<a id='SimNoTrend'></a> \n",
    "\n",
    "\n",
    "# 2.2. Simulation without Random Trend in the true DGP\n",
    "\n",
    "Now we run the DGP [defined earlier](#DGP) and verify how different estimation procedures are able to capture the parameters we have embedded, namely a intercept of 3 and a $\\beta$ of 2. We evaluate the following panel data methods\n",
    "   + Pooled regression, i.e. ignoring the panel structure as presented in equation [(1)](#EQ1) and pooling time and individual information together \n",
    "   + Fixed Effects (FE),  [(2)](#EQ2)\n",
    "   + First-Difference (FD),  [(3)](#EQ3)\n",
    "   + Random-Trend using the first approach, namely taking two first-differences (_pure_),  [(4)](#EQ4)\n",
    "   + Random-Trend using the second approach, namely taking first the  first-differences and then the fixed-effects (_mix_), [(5)](#EQ5)\n"
   ]
  },
  {
   "cell_type": "code",
   "execution_count": 204,
   "metadata": {
    "collapsed": false
   },
   "outputs": [
    {
     "name": "stdout",
     "output_type": "stream",
     "text": [
      "\n",
      ". qui expand 5\n",
      ". qui drawnorm nu_it e_it, n(1000)\n",
      ". qui xtset i t \n",
      ". qui gen dx_it = d.x_it \n",
      ". qui gen dy_it = d.y_it \n",
      ". . qui eststo: xtreg  y_it x_it, fe  \n",
      ". qui eststo: reg d.y_it d.x_it, \n",
      ". qui eststo: xtreg d.y_it d.x_it,fe \n",
      ". qui eststo: reg d2.y_it d2.x_it,  \n",
      ". esttab, long compress nogaps rename(D.x_it x_it D2.x_it x_it D.dx_it x_it) drop(_cons) ///\n",
      ">         b(%7,3f) se(%6.4f) scalars(\"N N\" \"F F-Stat\" \"p p-value\" \"r2 r2\") sfmt(%4,0f %5,0f %5,2f %6,2f %9,2f %9,2f) star(* 0.001) ///\n",
      ">         label mtitles( \"OLS\" \"FE\" \"FD\" \"FD-FE\" \"2-FD\" \"FD-FD\" ) title(\"Without a random trend component\") nolabel replace\n",
      "\n",
      "Without a random trend component\n",
      "-----------------------------------------------------------------------\n",
      "                       (1)        (2)        (3)        (4)        (5) \n",
      "                       OLS         FE         FD      FD-FE       2-FD \n",
      "-----------------------------------------------------------------------\n",
      "x_it                 2,500*     2,052*     2,002*     1,989*     1,995*\n",
      "                  (0.0312)   (0.0338)   (0.0354)   (0.0412)   (0.0422) \n",
      "-----------------------------------------------------------------------\n",
      "Observations          1000       1000        800        800        600 \n",
      "F-Stat                6403       3675       3192       2331       2238 \n",
      "p-value               0,00       0,00       0,00       0,00       0,00 \n",
      "r2                    0,89       0,82       0,80       0,80       0,79 \n",
      "-----------------------------------------------------------------------\n",
      "Standard errors in parentheses\n",
      "* p<0.001\n"
     ]
    }
   ],
   "source": [
    "%%stata -o sim\n",
    "qui set seed 123\n",
    "qui drawnorm alpha_i, n(200)\n",
    "qui gen i = _n \n",
    "    * included additional to generate an index for the individual level\n",
    "qui expand 5\n",
    "qui bys i: g t = _n \n",
    "    * included additional to generate an index for the time level\n",
    "qui drawnorm nu_it e_it, n(1000)\n",
    "qui g x_it = nu_it + alpha_i\n",
    "qui g y_it = 3 + alpha_i + 2*x_it + e_it \n",
    "    * DGP\n",
    "\n",
    "qui xtset i t \n",
    "    * give stata panel-information\n",
    "\n",
    "qui gen dx_it = d.x_it \n",
    "    * generates the first-difference for x prior to the regression command\n",
    "qui gen dy_it = d.y_it \n",
    "    * generates the first-difference for y prior to the regression command\n",
    "\n",
    "\n",
    "qui eststo: reg y_it x_it, cluster(i) \n",
    "    * OLS-regression (biased) (eststo saves the regression results)\n",
    "qui eststo: xtreg  y_it x_it, fe  \n",
    "    * FE-regression (OLS, but first the within-transformation is done)\n",
    "qui eststo: reg d.y_it d.x_it, \n",
    "    * FD-regression\n",
    "qui eststo: xtreg d.y_it d.x_it,fe \n",
    "    * Random-Trend 1 (mix)\n",
    "qui eststo: reg d2.y_it d2.x_it,  \n",
    "    * Random-Trend 2 (pure)  \n",
    "\n",
    "esttab, long compress nogaps rename(D.x_it x_it D2.x_it x_it D.dx_it x_it) drop(_cons) ///\n",
    "\tb(%7,3f) se(%6.4f) scalars(\"N N\" \"F F-Stat\" \"p p-value\" \"r2 r2\") sfmt(%4,0f %5,0f %5,2f %6,2f %9,2f %9,2f) star(* 0.001) ///\n",
    "\tlabel mtitles( \"OLS\" \"FE\" \"FD\" \"FD-FE\" \"2-FD\" \"FD-FD\" ) title(\"Without a random trend component\") nolabel replace\n",
    "    * esttab produces the table"
   ]
  },
  {
   "cell_type": "markdown",
   "metadata": {},
   "source": [
    "> We can see that the results of the normal OLS are biased, i.e. the coefficient for $x_{it}$ is not 2 but around 2.5. For FE and the FD however the coefficient if very close to 2.\n",
    "Also both random-trend (RT) approaches are unbiased. _mix_ is farthermost of the true parameter and also the standard error is the highest (together with the other RT-approach). So we can conclude that even if we do not have a random-trend component, using two transformations does not really harm the estimation.\n",
    "\n",
    "> Comparing the different RT calculations, we see that the _mix_ seem to be more efficient, but the _pure_ is closer to the true value. This is consistent comparing just the normal FE and FD."
   ]
  },
  {
   "cell_type": "markdown",
   "metadata": {},
   "source": [
    "# 2.3. Monte Carlo study without trend in the DGP\n",
    "<a id='MCnoTrend'></a> \n",
    "\n",
    "In a single simulation we need to keep in mind that the results from just one run can be misleading, as they can be driven by chance if the seed in use simply draws numbers which work better for one method than the other. Therefore, we will run a program now to do a Monte Carlo study which will take 1000 replications to see if above results are robust.\n",
    "\n",
    "What we add in the code now is:\n",
    "\n",
    "   1. A timer to measure the time the code runs. The necessary commands are `timer on 1`, starting the timer, called '1', `timer off 1`, stopping the started timer and `timer list 1`, displaying the time needed.\n",
    "   2.  For the simulation commands `simulation`, we first have to embed the code in a program. The first line `capture program drop mcprog_pool` drops if somehow the program is already defined. This command is useful if you run the code an additional time. `program mcprog_pool` starts the program and ends with `end`.\n",
    "\n",
    "The DGP in each of the following simulations stays the same, namely\n",
    "\n",
    "$$y_{it} = 3 + \\alpha_i + 2\\cdot x_{it} + e_{it} $$\n",
    "\n",
    "What we change in each of the Monte Carlo specifications is the estimation procedure by applying each of the procedures discussed so far. In the code, the following notation will be used: _pool_ stands for the [pooled regress](#MCnoTrendPool), _fe_ for the [within-transformation](#MCnoTrendFE), _fd_ for [the first-difference](#MCnoTrendFD), _mix_ for the random-trend estimation using [first-difference](#MCnoTrendFDFE) and fixed-effects and _pure_ the random trend with [two first-differences](#MCnoTrendFDFD).  \n",
    "\n",
    "The simulation results are stored in `_b` for the coefficient and `_se` for the standard errors. <span style=\"color: green\">The simulation of the standard errors differ from the standard deviation of the estimate ($\\beta$) which was presented in the table above. In the simulation only the variation in beta is used. It is not calculated\n",
    "by the normal variance formula which includes the variances of the error component $\\alpha_{i}$ und $e_{it}$. </span>\n",
    "\n",
    "We take 1000 replications and we call the earlier defined program `mcprog_pool` (Monte Carlo Program - Pooled Regression). \n",
    "\n",
    "At the end we rename the coefficient for a better understanding and drop everything else from the data frame (`keep beta_pool`). The outcomes from all Monte Carlo runs are [compared](#MCnoTrendComp) in the end.\n",
    "\n"
   ]
  },
  {
   "cell_type": "markdown",
   "metadata": {},
   "source": [
    "<a id='MCnoTrendPool'></a>"
   ]
  },
  {
   "cell_type": "markdown",
   "metadata": {},
   "source": [
    "###  2.3.1. Pooled Regression"
   ]
  },
  {
   "cell_type": "code",
   "execution_count": 205,
   "metadata": {
    "collapsed": false
   },
   "outputs": [
    {
     "name": "stdout",
     "output_type": "stream",
     "text": [
      "\n",
      "The time this code runs is\n",
      "   1:     11.49 /        1 =      11.4880\n"
     ]
    }
   ],
   "source": [
    "%%stata -o pool \n",
    "timer on 1\n",
    "set seed 100\n",
    "capture program drop mcprog_pool\n",
    "program mcprog_pool\n",
    "        clear\n",
    "        drawnorm alpha_i, n(200)\n",
    "        gen i = _n \n",
    "        expand 5\n",
    "        bys i: g t = _n \n",
    "        drawnorm nu_it e_it, n(1000)\n",
    "        g x_it=nu_it+alpha_i\n",
    "        g y_it=3+alpha_i+2*x_it+e_it\n",
    "        reg y_it x_it, \n",
    "        drop nu_it alpha_i e_it y_it x_it\n",
    "end\n",
    "        simulate _b _se, nodots nolegend  reps(1000): mcprog_pool\n",
    "        rename _b_x_it beta_pool\n",
    "        rename _se_x_it se_pool\n",
    "        keep beta_pool se_pool\n",
    "timer off 1\n",
    "display \"The time this code runs is\"\n",
    "timer list 1\n"
   ]
  },
  {
   "cell_type": "markdown",
   "metadata": {},
   "source": [
    "<a id='MCnoTrendFE'></a>"
   ]
  },
  {
   "cell_type": "markdown",
   "metadata": {},
   "source": [
    "### 2.3.2.  FE Estimation"
   ]
  },
  {
   "cell_type": "code",
   "execution_count": 206,
   "metadata": {
    "collapsed": false
   },
   "outputs": [
    {
     "name": "stdout",
     "output_type": "stream",
     "text": [
      "\n",
      "The time this code runs is\n",
      "   1:     53.02 /        1 =      53.0240\n"
     ]
    }
   ],
   "source": [
    "%%stata -o fe\n",
    "timer on 1\n",
    "set seed 100\n",
    "capture program drop mcprog_fe\n",
    "        program mcprog_fe\n",
    "         clear\n",
    "         drawnorm alpha_i, n(200)\n",
    "         gen i = _n \n",
    "         expand 5\n",
    "         bys i: g t = _n \n",
    "         drawnorm nu_it e_it, n(1000)\n",
    "         g x_it=nu_it+alpha_i\n",
    "         g y_it=3+alpha_i+2*x_it+e_it\n",
    "         xtset i t\n",
    "         xtreg y_it x_it, fe \n",
    "         drop nu_it alpha_i e_it y_it x_it\n",
    "end\n",
    "        simulate _b _se, nodots nolegend  reps(1000): mcprog_fe\n",
    "        rename _b_x_it beta_fe\n",
    "        rename _se_x_it se_fe\n",
    "        keep beta_fe se_fe\n",
    "timer off 1\n",
    "display \"The time this code runs is\"\n",
    "timer list 1\n",
    "        "
   ]
  },
  {
   "cell_type": "markdown",
   "metadata": {},
   "source": [
    "<a id='MCnoTrendFD'></a> "
   ]
  },
  {
   "cell_type": "markdown",
   "metadata": {},
   "source": [
    "### 2.3.2. FD Estimation"
   ]
  },
  {
   "cell_type": "code",
   "execution_count": 207,
   "metadata": {
    "collapsed": false,
    "scrolled": true
   },
   "outputs": [
    {
     "name": "stdout",
     "output_type": "stream",
     "text": [
      "\n",
      "The time this code runs is\n",
      "   1:     16.58 /        1 =      16.5830\n",
      ".         \n"
     ]
    }
   ],
   "source": [
    "%%stata -o fd\n",
    "timer on 1\n",
    "set seed 100\n",
    "capture program drop mcprog_fd\n",
    "        program mcprog_fd\n",
    "        clear\n",
    "        drawnorm alpha_i, n(200)\n",
    "        gen i = _n \n",
    "        expand 5\n",
    "        bys i: g t = _n \n",
    "        drawnorm nu_it e_it, n(1000)\n",
    "        g x_it=nu_it+alpha_i\n",
    "        g y_it=3+alpha_i+2*x_it+e_it\n",
    "        xtset i t\n",
    "        g dx_it = d.x_it\n",
    "        g dy_it = d.y_it\n",
    "        reg dy_it dx_it, \n",
    "        drop nu_it alpha_i e_it dy_it dx_it y_it x_it\n",
    "end\n",
    "        simulate _b _se, nodots nolegend  reps(1000): mcprog_fd\n",
    "        rename _b_dx_it beta_fd\n",
    "        rename _se_dx_it se_fd\n",
    "        keep beta_fd se_fd\n",
    "timer off 1\n",
    "display \"The time this code runs is\"\n",
    "timer list 1\n",
    "        \n",
    "        "
   ]
  },
  {
   "cell_type": "markdown",
   "metadata": {},
   "source": [
    "<a id='MCnoTrendFDFE'></a> "
   ]
  },
  {
   "cell_type": "markdown",
   "metadata": {},
   "source": [
    "###  2.3.3.  FD-FE (mix) Estimation"
   ]
  },
  {
   "cell_type": "code",
   "execution_count": 208,
   "metadata": {
    "collapsed": false
   },
   "outputs": [
    {
     "name": "stdout",
     "output_type": "stream",
     "text": [
      "\n",
      ". timer off 1\n",
      "The time this code runs is\n",
      "   1:     57.87 /        1 =      57.8730\n"
     ]
    }
   ],
   "source": [
    "%%stata -o mix\n",
    "timer on 1\n",
    "set seed 100\n",
    "capture program drop mcprog_mix\n",
    "        program mcprog_mix\n",
    "         clear\n",
    "         drawnorm alpha_i, n(200)\n",
    "         gen i = _n \n",
    "         expand 5\n",
    "         bys i: g t = _n \n",
    "         drawnorm nu_it e_it, n(1000)\n",
    "         g x_it=nu_it+alpha_i\n",
    "        g y_it=3+alpha_i+2*x_it+e_it\n",
    "        xtset i t\n",
    "        g dx_it = d.x_it\n",
    "        g dy_it = d.y_it\n",
    "         xtreg dy_it dx_it, fe \n",
    "         drop nu_it alpha_i e_it dy_it dx_it y_it x_it\n",
    "end\n",
    "        simulate _b _se, nodots nolegend  reps(1000): mcprog_mix\n",
    "        rename _b_dx_it beta_mix\n",
    "        rename _se_dx_it se_mix\n",
    "        keep beta_mix se_mix\n",
    "        \n",
    "timer off 1\n",
    "display \"The time this code runs is\"\n",
    "timer list 1"
   ]
  },
  {
   "cell_type": "markdown",
   "metadata": {},
   "source": [
    "<a id='MCnoTrendFDFD'></a> "
   ]
  },
  {
   "cell_type": "markdown",
   "metadata": {},
   "source": [
    "###  2.3.4.  FD-FD (pure) Estimation"
   ]
  },
  {
   "cell_type": "code",
   "execution_count": 209,
   "metadata": {
    "collapsed": false
   },
   "outputs": [
    {
     "name": "stdout",
     "output_type": "stream",
     "text": [
      "\n",
      ". timer off 1\n",
      "The time this code runs is\n",
      "   1:     17.86 /        1 =      17.8630\n"
     ]
    }
   ],
   "source": [
    "%%stata -o pure\n",
    "timer on 1\n",
    "set seed 100\n",
    "capture program drop mcprog_pure\n",
    "        program mcprog_pure\n",
    "         clear\n",
    "         drawnorm alpha_i, n(200)\n",
    "         gen i = _n \n",
    "         expand 5\n",
    "         bys i: g t = _n \n",
    "         drawnorm nu_it e_it, n(1000)\n",
    "         g x_it=nu_it+alpha_i\n",
    "         g y_it=3+alpha_i+2*x_it+e_it\n",
    "        xtset i t\n",
    "        g d2x_it = d2.x_it\n",
    "        g d2y_it = d2.y_it\n",
    "         reg d2y_it d2x_it, \n",
    "         drop nu_it alpha_i e_it y_it x_it d2y_it d2x_it\n",
    "end\n",
    "        simulate _b _se, nodots nolegend  reps(1000): mcprog_pure\n",
    "        rename _b_d2x_it beta_pure\n",
    "        rename _se_d2x_it se_pure\n",
    "        keep beta_pure se_pure\n",
    "        \n",
    "timer off 1\n",
    "display \"The time this code runs is\"\n",
    "timer list 1"
   ]
  },
  {
   "cell_type": "markdown",
   "metadata": {},
   "source": [
    "> First, before we talk about the regression results, we want to point out that the within-transformation in FE and _mix_ is the reason the time is much higher in those to simulations. Thus, those are less efficient in the sense on how fast they can be calculated. "
   ]
  },
  {
   "cell_type": "markdown",
   "metadata": {},
   "source": [
    "<a id='MCnoTrendComp'></a> "
   ]
  },
  {
   "cell_type": "markdown",
   "metadata": {
    "collapsed": false
   },
   "source": [
    "###  2.3.5. Comparison of results"
   ]
  },
  {
   "cell_type": "code",
   "execution_count": 210,
   "metadata": {
    "collapsed": false
   },
   "outputs": [
    {
     "name": "stdout",
     "output_type": "stream",
     "text": [
      "          Pool        FE        FD       mix      pure\n",
      "Beta  2.499105  2.001513  2.000731  2.000577  1.999209\n",
      "SE    0.027386  0.035339  0.035368  0.040823  0.040857\n"
     ]
    }
   ],
   "source": [
    "############################ Regression Results without trend\n",
    "# Pool Regression Results\n",
    "pool_mean = pool.mean() # Storing the results produces by the pool-simulation\n",
    "beta_pool = pool_mean[0] # Results of the coefficient\n",
    "se_pool = pool_mean[1] # Results of the standard error\n",
    "# FE Regression Results\n",
    "fe_mean = fe.mean()\n",
    "beta_fe = fe_mean[0]\n",
    "se_fe = fe_mean[1]\n",
    "# FD Regression Results\n",
    "fd_mean = fd.mean()\n",
    "beta_fd = fd_mean[0]\n",
    "se_fd = fd_mean[1]\n",
    "# Mix Regression Results\n",
    "mix_mean = mix.mean()\n",
    "beta_mix = mix_mean[0]\n",
    "se_mix = mix_mean[1]\n",
    "# Pure Regression Results\n",
    "pure_mean = pure.mean()\n",
    "beta_pure = pure_mean[0]\n",
    "se_pure = pure_mean[1]\n",
    "\n",
    "\n",
    "results_notrend_beta = np.array([beta_pool, beta_fe, beta_fd, beta_mix, beta_pure])\n",
    "results_notrend_se = np.array([se_pool, se_fe, se_fd, se_mix, se_pure])\n",
    "results_notrend = np.mat([results_notrend_beta, results_notrend_se]) \n",
    "results_notrend = pd.DataFrame(results_notrend)\n",
    "results_notrend.index = [\"Beta\", \"SE\"]\n",
    "results_notrend.columns = [\"Pool\", \"FE\", \"FD\", \"mix\", \"pure\"]\n",
    "print results_notrend\n",
    "\n"
   ]
  },
  {
   "cell_type": "markdown",
   "metadata": {},
   "source": [
    "> We can see that the pooled regression is upward biased from the true beta value (2). This is in line with econometric theory, as not considering the nature of the panel and pooling together the unobserved individual effects produces biased results. All other methods produce unbiased results that very close to each other. The SE are smallest for the pooled regression. Then the FE and FD are very close to each other and both RT has the highest variation. For every transformation we do we have a loss in efficiency. "
   ]
  },
  {
   "cell_type": "markdown",
   "metadata": {},
   "source": [
    "<a id='MCNoTrend'></a> "
   ]
  },
  {
   "cell_type": "markdown",
   "metadata": {},
   "source": [
    "\n",
    "# 2.4. Monte Carlo study with the same trend for all individuals\n",
    "\n",
    "Here we investigate what happens to our estimator as we include the same trend for all individuals. If we would just run normal regression as presented first, we could just use the same datasets, replacing just some variables. But since we have to define programs, we need to copy all the programs and change for the trend. We will leave out the pooled regression because we already know, that this one is biased just due to the constant $\\alpha_i$.\n",
    "\n",
    "###  2.4.1. FE Regression"
   ]
  },
  {
   "cell_type": "code",
   "execution_count": 211,
   "metadata": {
    "collapsed": false
   },
   "outputs": [
    {
     "name": "stdout",
     "output_type": "stream",
     "text": [
      "\n",
      ". timer off 1\n",
      "The time this code runs is\n",
      "   1:      8.58 /        1 =       8.5830\n"
     ]
    }
   ],
   "source": [
    "%%stata -o fe_st\n",
    "timer on 1\n",
    "set seed 100\n",
    "capture program drop mcprog_fe\n",
    "        program mcprog_fe\n",
    "        clear\n",
    "        drawnorm alpha_i, n(200)\n",
    "        gen i = _n \n",
    "        expand 5\n",
    "        bys i: g t = _n \n",
    "        drawnorm nu_it e_it, n(1000)\n",
    "        g x_it = nu_it + alpha_i + t \n",
    "            *NOW: x_it is correlated with a linear term\n",
    "        g y_it = 3 + alpha_i + 2*x_it + t + e_it \n",
    "            *DGP includes now a linear trend t\n",
    "        xtset i t\n",
    "        xtreg y_it x_it, fe \n",
    "        drop nu_it alpha_i e_it y_it x_it\n",
    "end\n",
    "        simulate _b _se, nodots nolegend  reps(100): mcprog_fe\n",
    "        rename _b_x_it beta_fe_st\n",
    "        rename _se_x_it se_fe_st\n",
    "        keep beta_fe_st se_fe_st\n",
    "            *st = same trend\n",
    "timer off 1\n",
    "display \"The time this code runs is\"\n",
    "timer list 1"
   ]
  },
  {
   "cell_type": "markdown",
   "metadata": {},
   "source": [
    "###  2.4.1. FD Regression"
   ]
  },
  {
   "cell_type": "code",
   "execution_count": 212,
   "metadata": {
    "collapsed": false
   },
   "outputs": [
    {
     "name": "stdout",
     "output_type": "stream",
     "text": [
      "\n",
      "The time this code runs is\n",
      "   1:      2.22 /        1 =       2.2170\n"
     ]
    }
   ],
   "source": [
    "%%stata -o fd_st\n",
    "timer on 1\n",
    "set seed 100\n",
    "capture program drop mcprog_fe\n",
    "        program mcprog_fe\n",
    "        clear\n",
    "        drawnorm alpha_i, n(200)\n",
    "        gen i = _n \n",
    "        expand 5\n",
    "        bys i: g t = _n \n",
    "        drawnorm nu_it e_it, n(1000)\n",
    "        g x_it = nu_it + alpha_i + t \n",
    "            * NOW: x_it is correlated with a linear term\n",
    "        g y_it = 3 + alpha_i + 2*x_it + t + e_it \n",
    "            * DGP includes know the linear trend\n",
    "        xtset i t\n",
    "        g dx_it = d.x_it\n",
    "        g dy_it = d.y_it\n",
    "        reg dy_it dx_it, \n",
    "        drop nu_it alpha_i e_it y_it x_it dy_it dx_it\n",
    "end\n",
    "        simulate _b _se, nodots nolegend  reps(100): mcprog_fe\n",
    "        rename _b_dx_it beta_fd_st\n",
    "        rename _se_dx_it se_fd_st\n",
    "        keep beta_fd_st se_fd_st\n",
    "timer off 1\n",
    "display \"The time this code runs is\"\n",
    "timer list 1"
   ]
  },
  {
   "cell_type": "markdown",
   "metadata": {},
   "source": [
    "###  2.4.2.  FD-FE (mix) Estimation"
   ]
  },
  {
   "cell_type": "code",
   "execution_count": 213,
   "metadata": {
    "collapsed": false
   },
   "outputs": [
    {
     "name": "stdout",
     "output_type": "stream",
     "text": [
      "\n",
      ". timer off 1\n",
      "The time this code runs is\n",
      "   1:      6.07 /        1 =       6.0720\n"
     ]
    }
   ],
   "source": [
    "%%stata -o mix_st\n",
    "timer on 1\n",
    "set seed 100\n",
    "capture program drop mcprog_mix\n",
    "        program mcprog_mix\n",
    "        clear\n",
    "        drawnorm alpha_i, n(200)\n",
    "        gen i = _n \n",
    "        expand 5\n",
    "        bys i: g t = _n \n",
    "        drawnorm nu_it e_it, n(1000)\n",
    "        g x_it = nu_it + alpha_i + t \n",
    "            * NOW: x_it is correlated with a linear term\n",
    "        g y_it = 3 + alpha_i + 2*x_it + t + e_it \n",
    "            * DGP includes know the linear trend\n",
    "        xtset i t\n",
    "        g dx_it = d.x_it\n",
    "        g dy_it = d.y_it\n",
    "        xtreg dy_it dx_it, fe \n",
    "        drop nu_it alpha_i e_it dy_it dx_it y_it x_it\n",
    "end\n",
    "        simulate _b _se, nodots nolegend  reps(100): mcprog_mix\n",
    "        rename _b_dx_it beta_mix_st\n",
    "        rename _se_dx_it se_mix_st\n",
    "        keep beta_mix_st se_mix_st\n",
    "        \n",
    "timer off 1\n",
    "display \"The time this code runs is\"\n",
    "timer list 1"
   ]
  },
  {
   "cell_type": "markdown",
   "metadata": {},
   "source": [
    "###  2.4.3.  FD-FD (pure) Estimation"
   ]
  },
  {
   "cell_type": "code",
   "execution_count": 214,
   "metadata": {
    "collapsed": false
   },
   "outputs": [
    {
     "name": "stdout",
     "output_type": "stream",
     "text": [
      "\n",
      ". timer off 1\n",
      "The time this code runs is\n",
      "   1:      2.02 /        1 =       2.0160\n"
     ]
    }
   ],
   "source": [
    "%%stata -o pure_st\n",
    "timer on 1\n",
    "set seed 100\n",
    "capture program drop mcprog_pure\n",
    "        program mcprog_pure\n",
    "        clear\n",
    "        drawnorm alpha_i, n(200)\n",
    "        gen i = _n \n",
    "        expand 5\n",
    "        bys i: g t = _n \n",
    "        drawnorm nu_it e_it, n(1000)\n",
    "        g x_it = nu_it + alpha_i + t \n",
    "            * NOW: x_it is correlated with a linear term\n",
    "        g y_it = 3 + alpha_i + 2*x_it + t + e_it \n",
    "            * DGP includes know the linear trend\n",
    "        xtset i t\n",
    "        g d2x_it = d2.x_it\n",
    "        g d2y_it = d2.y_it\n",
    "        reg d2y_it d2x_it, \n",
    "            * cluster(i)\n",
    "        drop nu_it alpha_i e_it y_it x_it d2y_it d2x_it\n",
    "end\n",
    "        simulate _b _se, nodots nolegend  reps(100): mcprog_pure\n",
    "        rename _b_d2x_it beta_pure_st\n",
    "        rename _se_d2x_it se_pure_st\n",
    "        keep beta_pure_st se_pure_st\n",
    "        \n",
    "timer off 1\n",
    "display \"The time this code runs is\"\n",
    "timer list 1"
   ]
  },
  {
   "cell_type": "markdown",
   "metadata": {},
   "source": [
    "###  2.4.4. Comparison of results"
   ]
  },
  {
   "cell_type": "code",
   "execution_count": 215,
   "metadata": {
    "collapsed": false
   },
   "outputs": [
    {
     "name": "stdout",
     "output_type": "stream",
     "text": [
      "            FE        FD       mix      pure\n",
      "Beta  2.714095  2.003978  2.004183  2.002594\n",
      "SE    0.024645  0.035522  0.040986  0.041070\n"
     ]
    }
   ],
   "source": [
    "############################ Regression Results with same trend\n",
    "# FE Regression Results\n",
    "fe_mean = fe_st.mean()\n",
    "beta_fe = fe_mean[0]\n",
    "se_fe = fe_mean[1]\n",
    "# FD Regression Results\n",
    "fd_mean = fd_st.mean()\n",
    "beta_fd = fd_mean[0]\n",
    "se_fd = fd_mean[1]\n",
    "# Mix Regression Results\n",
    "mix_mean = mix_st.mean()\n",
    "beta_mix = mix_mean[0]\n",
    "se_mix = mix_mean[1]\n",
    "# Pure Regression Results\n",
    "pure_mean = pure_st.mean()\n",
    "beta_pure = pure_mean[0]\n",
    "se_pure = pure_mean[1]\n",
    "\n",
    "\n",
    "results_sametrend_beta = np.array([beta_fe, beta_fd, beta_mix, beta_pure])\n",
    "results_sametrend_se = np.array([se_fe, se_fd, se_mix, se_pure])\n",
    "results_sametrend = np.mat([results_sametrend_beta, results_sametrend_se]) \n",
    "results_sametrend = pd.DataFrame(results_sametrend)\n",
    "results_sametrend.index = [\"Beta\", \"SE\"]\n",
    "results_sametrend.columns = [ \"FE\", \"FD\", \"mix\", \"pure\"]\n",
    "print results_sametrend"
   ]
  },
  {
   "cell_type": "markdown",
   "metadata": {},
   "source": [
    "\n",
    "> As expected, the simulation shows that if the trend is the same for all individuals in the data, the within-transformation cannot solve the linear trend. Thereby the coefficient is biased. Surprisingly however, the first-difference is enough to solve for the problem introduced by a correlation of the variable of interest and the trend. We will not take a deeper look here, but it might be interest to investigate how many individuals are allowed to differ so that the first-difference is not unbiased anymore.\n",
    "The FD is thereby more robust than the FE. It is however questionable in empirical work if the observed individuals really follow the same trend.\n",
    "\n",
    ">Further, the first-difference performs better than the _mix_, but worse than the _pure_. The _pure_ again has a higher standard error than the _mix_.\n",
    "\n",
    "<a id='MCIndivTrend'></a> \n",
    "\n",
    "# 2.5. Monte Carlo study with individual specific linear trends (Random Trend)\n",
    "\n",
    "\n",
    "<span style=\"color: green\"> Here we will (finally) introduce the model including the individual specific linear trend. Here we expect that only the two RT-methods will solve for the bias in $x_it$ and that now both, FE and FD preform poorly. </span>\n",
    "\n"
   ]
  },
  {
   "cell_type": "markdown",
   "metadata": {
    "collapsed": false
   },
   "source": [
    "### 2.5.1 FE Estimation"
   ]
  },
  {
   "cell_type": "code",
   "execution_count": 216,
   "metadata": {
    "collapsed": false
   },
   "outputs": [
    {
     "name": "stdout",
     "output_type": "stream",
     "text": [
      "\n",
      ". timer off 1\n",
      "The time this code runs is\n",
      "   1:      5.80 /        1 =       5.8040\n"
     ]
    }
   ],
   "source": [
    "%%stata -o fe_it\n",
    "timer on 1\n",
    "set seed 100\n",
    "capture program drop mcprog_fe\n",
    "        program mcprog_fe\n",
    "        clear\n",
    "        drawnorm alpha_i, n(200)\n",
    "        gen i = _n \n",
    "        expand 5\n",
    "        bys i: g t = _n \n",
    "        gen trend = t*i\n",
    "            * individual specific trand   \n",
    "        drawnorm nu_it e_it, n(1000)\n",
    "        g x_it = nu_it + alpha_i + trend \n",
    "            * NOW: x_it is correlated with a linear specific term\n",
    "        g y_it = 3 + alpha_i + 2*x_it + trend + e_it \n",
    "        xtset i t\n",
    "        xtreg y_it x_it, fe \n",
    "            * cluster(i)\n",
    "        drop nu_it alpha_i e_it y_it x_it\n",
    "end\n",
    "        simulate _b _se, nodots nolegend  reps(100): mcprog_fe\n",
    "        rename _b_x_it beta_fe_it\n",
    "        rename _se_x_it se_fe_it\n",
    "        keep beta_fe_it se_fe_it\n",
    "            * it = individual trend\n",
    "timer off 1\n",
    "display \"The time this code runs is\"\n",
    "timer list 1"
   ]
  },
  {
   "cell_type": "markdown",
   "metadata": {},
   "source": [
    "### 2.5.2 FD Estimation"
   ]
  },
  {
   "cell_type": "code",
   "execution_count": 217,
   "metadata": {
    "collapsed": false
   },
   "outputs": [
    {
     "name": "stdout",
     "output_type": "stream",
     "text": [
      "\n",
      "The time this code runs is\n",
      "   1:      1.92 /        1 =       1.9180\n"
     ]
    }
   ],
   "source": [
    "%%stata -o fd_it\n",
    "timer on 1\n",
    "set seed 100\n",
    "capture program drop mcprog_fe\n",
    "        program mcprog_fe\n",
    "        clear\n",
    "        drawnorm alpha_i, n(200)\n",
    "        gen i = _n \n",
    "        expand 5\n",
    "        bys i: g t = _n \n",
    "        gen trend = t*i \n",
    "            * individual specific trand   \n",
    "        drawnorm nu_it e_it, n(1000)\n",
    "        g x_it = nu_it + alpha_i + trend \n",
    "            * NOW: x_it is correlated with a linear specific term\n",
    "        g y_it = 3 + alpha_i + 2*x_it + trend + e_it \n",
    "        xtset i t\n",
    "        g dx_it = d.x_it\n",
    "        g dy_it = d.y_it\n",
    "        reg dy_it dx_it, \n",
    "        drop nu_it alpha_i e_it y_it x_it dy_it dx_it\n",
    "end\n",
    "        simulate _b _se, nodots nolegend  reps(100): mcprog_fe\n",
    "        rename _b_dx_it beta_fd_it\n",
    "        rename _se_dx_it se_fd_it\n",
    "        keep beta_fd_it se_fd_it\n",
    "timer off 1\n",
    "display \"The time this code runs is\"\n",
    "timer list 1"
   ]
  },
  {
   "cell_type": "markdown",
   "metadata": {},
   "source": [
    "### 2.5.3 FD-FE (mix) Estimation"
   ]
  },
  {
   "cell_type": "code",
   "execution_count": 218,
   "metadata": {
    "collapsed": false
   },
   "outputs": [
    {
     "name": "stdout",
     "output_type": "stream",
     "text": [
      "\n",
      ". timer off 1\n",
      "The time this code runs is\n",
      "   1:      6.59 /        1 =       6.5940\n"
     ]
    }
   ],
   "source": [
    "%%stata -o mix_it\n",
    "timer on 1\n",
    "set seed 100\n",
    "capture program drop mcprog_mix\n",
    "        program mcprog_mix\n",
    "        clear\n",
    "        drawnorm alpha_i, n(200)\n",
    "        gen i = _n\n",
    "        expand 5\n",
    "        bys i: g t = _n \n",
    "        gen trend = t*i \n",
    "            * individual specific trand   \n",
    "        drawnorm nu_it e_it, n(1000)\n",
    "        g x_it = nu_it + alpha_i + trend \n",
    "            * NOW: x_it is correlated with a linear specific term\n",
    "        g y_it = 3 + alpha_i + 2*x_it + trend + e_it \n",
    "        xtset i t\n",
    "        g dx_it = d.x_it\n",
    "        g dy_it = d.y_it\n",
    "        xtreg dy_it dx_it, fe \n",
    "        drop nu_it alpha_i e_it dy_it dx_it y_it x_it\n",
    "end\n",
    "        simulate _b _se, nodots nolegend  reps(100): mcprog_mix\n",
    "        rename _b_dx_it beta_mix_it\n",
    "        rename _se_dx_it se_mix_it\n",
    "        keep beta_mix_it se_mix_it\n",
    "        \n",
    "timer off 1\n",
    "display \"The time this code runs is\"\n",
    "timer list 1"
   ]
  },
  {
   "cell_type": "markdown",
   "metadata": {},
   "source": [
    "### 2.5.4 FD-FD (mix) Estimation"
   ]
  },
  {
   "cell_type": "code",
   "execution_count": 219,
   "metadata": {
    "collapsed": false
   },
   "outputs": [
    {
     "name": "stdout",
     "output_type": "stream",
     "text": [
      "\n",
      ". timer off 1\n",
      "The time this code runs is\n",
      "   1:      1.99 /        1 =       1.9880\n"
     ]
    }
   ],
   "source": [
    "%%stata -o pure_it\n",
    "timer on 1\n",
    "set seed 100\n",
    "capture program drop mcprog_pure\n",
    "        program mcprog_pure\n",
    "        clear\n",
    "        drawnorm alpha_i, n(200)\n",
    "        gen i = _n \n",
    "        expand 5\n",
    "        bys i: g t = _n \n",
    "        gen trend = t*i \n",
    "            * individual specific trand   \n",
    "        drawnorm nu_it e_it, n(1000)\n",
    "        g x_it = nu_it + alpha_i + trend \n",
    "            * NOW: x_it is correlated with a linear specific term\n",
    "        g y_it = 3 + alpha_i + 2*x_it + trend + e_it \n",
    "        xtset i t\n",
    "        g d2x_it = d2.x_it\n",
    "        g d2y_it = d2.y_it\n",
    "        reg d2y_it d2x_it, \n",
    "        drop nu_it alpha_i e_it y_it x_it d2y_it d2x_it\n",
    "end\n",
    "        simulate _b _se, nodots nolegend  reps(100): mcprog_pure\n",
    "        rename _b_d2x_it beta_pure_it\n",
    "        rename _se_d2x_it se_pure_it\n",
    "        keep beta_pure_it se_pure_it\n",
    "        \n",
    "timer off 1\n",
    "display \"The time this code runs is\"\n",
    "timer list 1"
   ]
  },
  {
   "cell_type": "markdown",
   "metadata": {},
   "source": [
    "###  2.4.4. Comparison of results"
   ]
  },
  {
   "cell_type": "code",
   "execution_count": 220,
   "metadata": {
    "collapsed": false
   },
   "outputs": [
    {
     "name": "stdout",
     "output_type": "stream",
     "text": [
      "            FE        FD       mix      pure\n",
      "Beta  2.999957  2.999481  2.004183  2.002594\n",
      "SE    0.000272  0.001220  0.040986  0.041070\n"
     ]
    }
   ],
   "source": [
    "############################ Regression Results with individual specific linear trend\n",
    "# FE Regression Results\n",
    "fe_mean_it = fe_it.mean()\n",
    "beta_fe_it = fe_mean_it[0]\n",
    "se_fe_it = fe_mean_it[1]\n",
    "# FD Regression Results\n",
    "fd_mean_it = fd_it.mean()\n",
    "beta_fd_it = fd_mean_it[0]\n",
    "se_fd_it = fd_mean_it[1]\n",
    "# Mix Regression Results\n",
    "mix_mean_it = mix_it.mean()\n",
    "beta_mix_it = mix_mean_it[0]\n",
    "se_mix_it = mix_mean_it[1]\n",
    "# Pure Regression Results\n",
    "pure_mean_it = pure_it.mean()\n",
    "beta_pure_it = pure_mean_it[0]\n",
    "se_pure_it = pure_mean_it[1]\n",
    "\n",
    "\n",
    "results_inditrend_beta = np.array([beta_fe_it, beta_fd_it, beta_mix_it, beta_pure_it])\n",
    "results_inditrend_se = np.array([se_fe_it, se_fd_it, se_mix_it, se_pure_it])\n",
    "results_inditrend = np.mat([results_inditrend_beta, results_inditrend_se]) \n",
    "results_inditrend = pd.DataFrame(results_inditrend)\n",
    "results_inditrend.index = [\"Beta\", \"SE\"]\n",
    "results_inditrend.columns = [ \"FE\", \"FD\", \"mix\", \"pure\"]\n",
    "print results_inditrend"
   ]
  },
  {
   "cell_type": "markdown",
   "metadata": {},
   "source": [
    ">The results confirm (unsurprisingly) the bad results of the FE. Now, also the FD is not capable to control for the trend within $x_{it}$. Only unbiased estimations are obtained by _mix_ and _pure_. The results are the same as before (remember: same seed and the only difference is canceled out). After checking that we really changed the code, it can be concluded that for the random-trend model it does not matter whether the trend is constant or individual specific.\n",
    "\n",
    "> In this easy example it further seems that the double difference (_pure_) is more robust, i.e. closer to the true value. Thereby the example is in favor to use the _pure_ rather than the _mix_ random-trend method. Also the time point, the _pure_ is much faster. Only the standard error suggest to use _mix_.\n",
    "\n",
    "<a id='MCNonLinTrend'></a> \n",
    "\n",
    "# 2.6. Monte Carlo study with nonlinear individual specific trends \n",
    "\n",
    "We will further check for two cases in which the trend is non-linear. The motivation is to see if one of the random-trend methods performs better even though the baseline assumption of a linear trend does not hold. Therefore we will use an exponential individual specific trend and a log individual specific trend. \n",
    "\n",
    "Here we will not include the FE estimation anymore, because it preforms equally bad or worse than the FD. The FD is included to check whether the RT are of additional help.\n",
    "\n",
    "## 2.6.1 Monte Carlo study with exponential individual specific trends \n",
    "\n",
    "### 2.6.1.1 FD Estimation\n"
   ]
  },
  {
   "cell_type": "code",
   "execution_count": 221,
   "metadata": {
    "collapsed": false
   },
   "outputs": [
    {
     "name": "stdout",
     "output_type": "stream",
     "text": [
      "\n",
      "The time this code runs is\n",
      "   1:      2.23 /        1 =       2.2300\n"
     ]
    }
   ],
   "source": [
    "%%stata -o fd_exp\n",
    "timer on 1\n",
    "set seed 100\n",
    "capture program drop mcprog_fe\n",
    "        program mcprog_fe\n",
    "        clear\n",
    "        drawnorm alpha_i, n(200)\n",
    "        gen i = _n \n",
    "        expand 5\n",
    "        bys i: g t = _n \n",
    "        gen trend = exp(t*i/100) \n",
    "            * exponential individual specific trand   \n",
    "            * We devide by 100, because otherwise the values of the trend would have been to high at the end\n",
    "            * Thereby it would have dominated the whole term, in our case resulting in no variation between the replications\n",
    "        drawnorm nu_it e_it, n(1000)\n",
    "        g x_it = nu_it + alpha_i + trend \n",
    "        g y_it = 3 + alpha_i + 2*x_it + trend + e_it \n",
    "        xtset i t\n",
    "        g dx_it = d.x_it\n",
    "        g dy_it = d.y_it\n",
    "        reg dy_it dx_it, \n",
    "        drop nu_it alpha_i e_it y_it x_it dy_it dx_it\n",
    "end\n",
    "        simulate _b _se, nodots nolegend  reps(100): mcprog_fe\n",
    "        rename _b_dx_it beta_fd_exp\n",
    "        rename _se_dx_it se_fd_exp\n",
    "        keep beta_fd_exp se_fd_exp\n",
    "timer off 1\n",
    "display \"The time this code runs is\"\n",
    "timer list 1"
   ]
  },
  {
   "cell_type": "markdown",
   "metadata": {},
   "source": [
    "### 2.6.1.2 FD-FE (mix) Estimation"
   ]
  },
  {
   "cell_type": "code",
   "execution_count": 222,
   "metadata": {
    "collapsed": false
   },
   "outputs": [
    {
     "name": "stdout",
     "output_type": "stream",
     "text": [
      "\n",
      ". timer off 1\n",
      "The time this code runs is\n",
      "   1:      7.02 /        1 =       7.0210\n"
     ]
    }
   ],
   "source": [
    "%%stata -o mix_exp\n",
    "timer on 1\n",
    "set seed 100\n",
    "capture program drop mcprog_mix\n",
    "        program mcprog_mix\n",
    "        clear\n",
    "        drawnorm alpha_i, n(200)\n",
    "        gen i = _n \n",
    "        expand 5\n",
    "        bys i: g t = _n \n",
    "        gen trend = exp(t*i/100) \n",
    "            * exponential individual specific trand   \n",
    "        drawnorm nu_it e_it, n(1000)\n",
    "        g x_it = nu_it + alpha_i + trend \n",
    "        g y_it = 3 + alpha_i + 2*x_it + trend + e_it \n",
    "        xtset i t\n",
    "        g dx_it = d.x_it\n",
    "        g dy_it = d.y_it\n",
    "        xtreg dy_it dx_it, fe \n",
    "        drop nu_it alpha_i e_it dy_it dx_it y_it x_it\n",
    "end\n",
    "        simulate _b _se, nodots nolegend  reps(100): mcprog_mix\n",
    "        rename _b_dx_it beta_mix_exp\n",
    "        rename _se_dx_it se_mix_exp\n",
    "        keep beta_mix_exp se_mix_exp\n",
    "        \n",
    "timer off 1\n",
    "display \"The time this code runs is\"\n",
    "timer list 1"
   ]
  },
  {
   "cell_type": "markdown",
   "metadata": {},
   "source": [
    "### 2.6.1.3 FD-FD (pure) Estimation"
   ]
  },
  {
   "cell_type": "code",
   "execution_count": 223,
   "metadata": {
    "collapsed": false
   },
   "outputs": [
    {
     "name": "stdout",
     "output_type": "stream",
     "text": [
      "\n",
      ".         The time this code runs is\n",
      "   1:      2.00 /        1 =       2.0030\n"
     ]
    }
   ],
   "source": [
    "%%stata -o pure_exp\n",
    "timer on 1\n",
    "set seed 100\n",
    "capture program drop mcprog_pure\n",
    "        program mcprog_pure\n",
    "        clear\n",
    "        drawnorm alpha_i, n(200)\n",
    "        gen i = _n \n",
    "        expand 5\n",
    "        bys i: g t = _n \n",
    "        gen trend = exp(t*i/100) \n",
    "            * exponential individual specific trand   \n",
    "        drawnorm nu_it e_it, n(1000)\n",
    "        g x_it = nu_it + alpha_i + trend \n",
    "        g y_it = 3 + alpha_i + 2*x_it + trend + e_it \n",
    "        xtset i t\n",
    "        g d2x_it = d2.x_it\n",
    "        g d2y_it = d2.y_it\n",
    "        reg d2y_it d2x_it, \n",
    "        drop nu_it alpha_i e_it y_it x_it d2y_it d2x_it\n",
    "end\n",
    "        simulate _b _se, nodots nolegend  reps(100): mcprog_pure\n",
    "        rename _b_d2x_it beta_pure_exp\n",
    "        rename _se_d2x_it se_pure_exp\n",
    "        keep beta_pure_exp se_pure_exp\n",
    "            * exp for exponential\n",
    "        \n",
    "timer off 1\n",
    "display \"The time this code runs is\"\n",
    "timer list 1"
   ]
  },
  {
   "cell_type": "markdown",
   "metadata": {},
   "source": [
    "###  2.6.1.4 Comparison of results"
   ]
  },
  {
   "cell_type": "code",
   "execution_count": 224,
   "metadata": {
    "collapsed": false
   },
   "outputs": [
    {
     "name": "stdout",
     "output_type": "stream",
     "text": [
      "            FD       mix      pure\n",
      "Beta  3.000002  3.000002  2.999999\n",
      "SE    0.000034  0.000045  0.000069\n"
     ]
    }
   ],
   "source": [
    "############################ Regression Results with exponential individual specific linear trend\n",
    "# FD Regression Results\n",
    "fd_mean_exp = fd_exp.mean()\n",
    "beta_fd_exp = fd_mean_exp[0]\n",
    "se_fd_exp = fd_mean_exp[1]\n",
    "# Mix Regression Results\n",
    "mix_mean_exp = mix_exp.mean()\n",
    "beta_mix_exp = mix_mean_exp[0]\n",
    "se_mix_exp = mix_mean_exp[1]\n",
    "# Pure Regression Results\n",
    "pure_mean_exp = pure_exp.mean()\n",
    "beta_pure_exp = pure_mean_exp[0]\n",
    "se_pure_exp = pure_mean_exp[1]\n",
    "\n",
    "\n",
    "results_exptrend_beta = np.array([beta_fd_exp, beta_mix_exp, beta_pure_exp])\n",
    "results_exptrend_se = np.array([se_fd_exp, se_mix_exp, se_pure_exp])\n",
    "results_exptrend = np.mat([results_exptrend_beta, results_exptrend_se]) \n",
    "results_exptrend = pd.DataFrame(results_exptrend)\n",
    "results_exptrend.index = [\"Beta\", \"SE\"]\n",
    "results_exptrend.columns = [\"FD\", \"mix\", \"pure\"]\n",
    "print results_exptrend"
   ]
  },
  {
   "cell_type": "markdown",
   "metadata": {},
   "source": [
    "> Here we have the case that the trend increases individual specific exponential over time, i.e. the trend is a convex function.\n",
    "Both RT methods are biased, and the difference between the two is at the 6. digit, so obsolete from our point of view. Surprisingly to us is, that there is no difference between the normal FD and the RT's. This means that if the trend increases exponential, the random trend method does not improve the estimation. I would have expected that the random-trend model comes a bite closer to the true, but in this example it does not. Thus, we just get higher standard errors without the trade of more robust results.\n",
    "\n",
    "## 2.6.2 Monte Carlo study with log individual specific trends \n",
    "\n",
    "### 2.6.2.1 FD Estimation"
   ]
  },
  {
   "cell_type": "code",
   "execution_count": 225,
   "metadata": {
    "collapsed": false
   },
   "outputs": [
    {
     "name": "stdout",
     "output_type": "stream",
     "text": [
      "\n",
      "The time this code runs is\n",
      "   1:      2.12 /        1 =       2.1230\n"
     ]
    }
   ],
   "source": [
    "%%stata -o fd_log\n",
    "timer on 1\n",
    "set seed 100\n",
    "capture program drop mcprog_fe\n",
    "        program mcprog_fe\n",
    "        clear\n",
    "        drawnorm alpha_i, n(200)\n",
    "        gen i = _n \n",
    "        expand 5\n",
    "        bys i: g t = _n \n",
    "        gen trend = log(t*i) \n",
    "            * logarithm !!! \n",
    "        drawnorm nu_it e_it, n(1000)\n",
    "        g x_it = nu_it + alpha_i + trend \n",
    "        g y_it = 3 + alpha_i + 2*x_it + trend + e_it \n",
    "        xtset i t\n",
    "        g dx_it = d.x_it\n",
    "        g dy_it = d.y_it\n",
    "        reg dy_it dx_it\n",
    "        drop nu_it alpha_i e_it y_it x_it dy_it dx_it\n",
    "end\n",
    "        simulate _b _se, nodots nolegend  reps(100): mcprog_fe\n",
    "        rename _b_dx_it beta_fd_log\n",
    "        rename _se_dx_it se_fd_log\n",
    "        keep beta_fd_log se_fd_log\n",
    "timer off 1\n",
    "display \"The time this code runs is\"\n",
    "timer list 1"
   ]
  },
  {
   "cell_type": "markdown",
   "metadata": {},
   "source": [
    "###  2.6.2.2. FD-FE (mix) Estimation"
   ]
  },
  {
   "cell_type": "code",
   "execution_count": 226,
   "metadata": {
    "collapsed": false
   },
   "outputs": [
    {
     "name": "stdout",
     "output_type": "stream",
     "text": [
      "\n",
      ". timer off 1\n",
      "The time this code runs is\n",
      "   1:      6.13 /        1 =       6.1350\n"
     ]
    }
   ],
   "source": [
    "%%stata -o mix_log\n",
    "timer on 1\n",
    "set seed 100\n",
    "capture program drop mcprog_mix\n",
    "        program mcprog_mix\n",
    "        clear\n",
    "        drawnorm alpha_i, n(200)\n",
    "        gen i = _n \n",
    "        expand 5\n",
    "        bys i: g t = _n \n",
    "        gen trend = log(t*i) \n",
    "            * logarithm!\n",
    "        drawnorm nu_it e_it, n(1000)\n",
    "        g x_it = nu_it + alpha_i + trend \n",
    "        g y_it = 3 + alpha_i + 2*x_it + trend + e_it \n",
    "        xtset i t\n",
    "        g dx_it = d.x_it\n",
    "        g dy_it = d.y_it\n",
    "        xtreg dy_it dx_it, fe \n",
    "            * cluster(i)\n",
    "        drop nu_it alpha_i e_it dy_it dx_it y_it x_it\n",
    "end\n",
    "        simulate _b _se, nodots nolegend  reps(100): mcprog_mix\n",
    "        rename _b_dx_it beta_mix_log\n",
    "        rename _se_dx_it se_mix_log\n",
    "        keep beta_mix_log se_mix_log\n",
    "        \n",
    "timer off 1\n",
    "display \"The time this code runs is\"\n",
    "timer list 1"
   ]
  },
  {
   "cell_type": "markdown",
   "metadata": {},
   "source": [
    "###  2.6.2.3. FD-FD (pure) Estimation"
   ]
  },
  {
   "cell_type": "code",
   "execution_count": 227,
   "metadata": {
    "collapsed": false
   },
   "outputs": [
    {
     "name": "stdout",
     "output_type": "stream",
     "text": [
      "\n",
      ". timer off 1\n",
      "The time this code runs is\n",
      "   1:      2.25 /        1 =       2.2540\n"
     ]
    }
   ],
   "source": [
    "%%stata -o pure_log\n",
    "timer on 1\n",
    "set seed 100\n",
    "capture program drop mcprog_pure\n",
    "        program mcprog_pure\n",
    "        clear\n",
    "        drawnorm alpha_i, n(200)\n",
    "        gen i = _n \n",
    "        expand 5\n",
    "        bys i: g t = _n \n",
    "        gen trend = log(t*i) \n",
    "            * logarithm! \n",
    "        drawnorm nu_it e_it, n(1000)\n",
    "        g x_it = nu_it + alpha_i + trend \n",
    "        g y_it = 3 + alpha_i + 2*x_it + trend + e_it \n",
    "        xtset i t\n",
    "        g d2x_it = d2.x_it\n",
    "        g d2y_it = d2.y_it\n",
    "        reg d2y_it d2x_it, \n",
    "        drop nu_it alpha_i e_it y_it x_it d2y_it d2x_it\n",
    "end\n",
    "        simulate _b _se, nodots nolegend  reps(100): mcprog_pure\n",
    "        rename _b_d2x_it beta_pure_log\n",
    "        rename _se_d2x_it se_pure_log\n",
    "        keep beta_pure_log se_pure_log\n",
    "        \n",
    "timer off 1\n",
    "display \"The time this code runs is\"\n",
    "timer list 1\n",
    "    "
   ]
  },
  {
   "cell_type": "markdown",
   "metadata": {},
   "source": [
    "###  2.6.2.4 Comparison of results"
   ]
  },
  {
   "cell_type": "code",
   "execution_count": 228,
   "metadata": {
    "collapsed": false
   },
   "outputs": [
    {
     "name": "stdout",
     "output_type": "stream",
     "text": [
      "            FD       mix      pure\n",
      "Beta  2.020059  2.021325  2.004355\n",
      "SE    0.035496  0.040955  0.041070\n"
     ]
    }
   ],
   "source": [
    "############################ Regression Results with log individual specific linear trend\n",
    "# FD Regression Results\n",
    "fd_mean_log = fd_log.mean()\n",
    "beta_fd_log = fd_mean_log[0]\n",
    "se_fd_log = fd_mean_log[1]\n",
    "# Mix Regression Results\n",
    "mix_mean_log = mix_log.mean()\n",
    "beta_mix_log = mix_mean_log[0]\n",
    "se_mix_log = mix_mean_log[1]\n",
    "# Pure Regression Results\n",
    "pure_mean_log = pure_log.mean()\n",
    "beta_pure_log = pure_mean_log[0]\n",
    "se_pure_log = pure_mean_log[1]\n",
    "\n",
    "\n",
    "results_logtrend_beta = np.array([beta_fd_log, beta_mix_log, beta_pure_log])\n",
    "results_logtrend_se = np.array([se_fd_log, se_mix_log, se_pure_log])\n",
    "results_logtrend = np.mat([results_logtrend_beta, results_logtrend_se]) \n",
    "results_logtrend = pd.DataFrame(results_logtrend)\n",
    "results_logtrend.index = [\"Beta\", \"SE\"]\n",
    "results_logtrend.columns = [\"FD\", \"mix\", \"pure\"]\n",
    "print results_logtrend"
   ]
  },
  {
   "cell_type": "markdown",
   "metadata": {},
   "source": [
    "> For the log individual specific trend we have the case that the trend is upward sloping, but the marginal increase decreases, i.e. we have concave trends.\n",
    "All three methods are good in capturing the _unobserved_ trend component. As for the constant trend, the _mix_ performs worst, FD second and _pure_ performs best.\n",
    "\n",
    "> Again, FD is capable to solve the endogeneity problem and there is no need for a random-trend model."
   ]
  },
  {
   "cell_type": "markdown",
   "metadata": {
    "collapsed": true
   },
   "source": [
    "<a id='MCNonFEFD'></a> "
   ]
  },
  {
   "cell_type": "markdown",
   "metadata": {},
   "source": [
    "## 2.6.3. The within-transformation first-step \n",
    "We discussed in the beginning that it does not make sense theoretically to first transform the data using the within-transformation and then to use the first-differences. For the canceling of the trend, it was crucial to take first the first-difference. We will verify here with the Monte Carlo framework that this produces biased results.\n",
    "\n",
    "### 2.6.3.1 FE-FE Estimation"
   ]
  },
  {
   "cell_type": "code",
   "execution_count": 229,
   "metadata": {
    "collapsed": false
   },
   "outputs": [
    {
     "name": "stdout",
     "output_type": "stream",
     "text": [
      "\n",
      ". timer off 1\n",
      "The time this codes run is\n",
      "   1:      6.57 /        1 =       6.5680\n"
     ]
    }
   ],
   "source": [
    "%%stata -o fe_fe\n",
    "timer on 1\n",
    "set seed 100\n",
    "capture program drop mcprog_fe\n",
    "        program mcprog_fe\n",
    "        clear\n",
    "        drawnorm alpha_i, n(200)\n",
    "        gen i = _n \n",
    "        expand 5\n",
    "        bys i: g t = _n \n",
    "        gen trend = t*i  \n",
    "        drawnorm nu_it e_it, n(1000)\n",
    "        g x_it = nu_it + alpha_i + trend \n",
    "        g y_it = 3 + alpha_i + 2*x_it + trend + e_it \n",
    "        xtset i t\n",
    "        xtdata i t x_it y_it, fe clear \n",
    "            * preforms the within-transformation, so we can be sure that it is really the first thing in the regression\n",
    "        xtreg y_it x_it, fe \n",
    "            *  Random-Trend (FE-FD)\n",
    "        drop y_it x_it\n",
    "end\n",
    "        simulate _b, nodots nolegend  reps(100): mcprog_fe\n",
    "        rename _b_x_it beta_fe_fe\n",
    "        keep beta_fe_fe \n",
    "            * it = individual trend\n",
    "timer off 1\n",
    "display \"The time this codes run is\"\n",
    "timer list 1\n",
    "\n"
   ]
  },
  {
   "cell_type": "markdown",
   "metadata": {},
   "source": [
    "### 2.6.3.2 FE-FD Estimation"
   ]
  },
  {
   "cell_type": "code",
   "execution_count": 230,
   "metadata": {
    "collapsed": false
   },
   "outputs": [
    {
     "name": "stdout",
     "output_type": "stream",
     "text": [
      "\n",
      ". timer off 1\n",
      "The time this code runs is\n",
      "   1:      3.85 /        1 =       3.8510\n"
     ]
    }
   ],
   "source": [
    "%%stata -o fe_fd\n",
    "timer on 1\n",
    "set seed 100\n",
    "capture program drop mcprog_fe\n",
    "        program mcprog_fe\n",
    "        clear\n",
    "        drawnorm alpha_i, n(200)\n",
    "        gen i = _n \n",
    "        expand 5\n",
    "        bys i: g t = _n \n",
    "        gen trend = t*i  \n",
    "        drawnorm nu_it e_it, n(1000)\n",
    "        g x_it = nu_it + alpha_i + trend \n",
    "        g y_it = 3 + alpha_i + 2*x_it + trend + e_it \n",
    "        xtset i t\n",
    "        xtdata i t x_it y_it, fe clear \n",
    "            * preforms the within-transformation, so we can be sure that it is really the first thing in the regression\n",
    "        xtset i t \n",
    "            * to sort the data\n",
    "        g dx_it = d.x_it\n",
    "        g dy_it = d.y_it\n",
    "        reg dy_it dx_it,  \n",
    "            * Random-Trend (FE-FD)\n",
    "        drop y_it x_it\n",
    "end\n",
    "        simulate _b, nodots nolegend  reps(100): mcprog_fe\n",
    "        rename _b_dx_it beta_fe_fd\n",
    "        keep beta_fe_fd \n",
    "            * it = individual trend\n",
    "timer off 1\n",
    "display \"The time this code runs is\"\n",
    "timer list 1"
   ]
  },
  {
   "cell_type": "markdown",
   "metadata": {},
   "source": [
    "### 2.6.3.3 Comparison of results"
   ]
  },
  {
   "cell_type": "code",
   "execution_count": 231,
   "metadata": {
    "collapsed": false
   },
   "outputs": [
    {
     "name": "stdout",
     "output_type": "stream",
     "text": [
      "           Beta\n",
      "FE-FE  2.999957\n",
      "FE-FD  2.999481\n"
     ]
    }
   ],
   "source": [
    "fe_fe_mean = fe_fe.mean()\n",
    "fe_fd_mean = fe_fd.mean()\n",
    "\n",
    "results_within_beta = np.mat([fe_fe_mean, fe_fd_mean])\n",
    "results_within = pd.DataFrame(results_within_beta)\n",
    "results_within.index = [\"FE-FE\", \"FE-FD\"]\n",
    "results_within.columns = [\"Beta\"]\n",
    "print results_within\n",
    "\n"
   ]
  },
  {
   "cell_type": "markdown",
   "metadata": {},
   "source": [
    "> Results are just as biased to the normal FE. Doing the second transformation was not helpful at all, i.e. the results confirm the theoretical model. We suppress the standard errors because the results are inconsistent anyway and are in line with our expectations."
   ]
  },
  {
   "cell_type": "markdown",
   "metadata": {},
   "source": [
    "-------------------------------\n",
    "<a id='MCPythonRT'></a> "
   ]
  },
  {
   "cell_type": "markdown",
   "metadata": {},
   "source": [
    "# 3. Random Trend Simulation using Python\n",
    "\n",
    "Since the course requires not only a strong focus on simulation within Jupyter Notebook, but is also about employing free software packages (especially python), we will now do a similar simulation using Python. \n",
    "\n",
    "As before, we will first do an example with just one simulation to verify that the code is working properly. In a second step, we will run the same simulation with 1,000 replications.\n",
    "\n",
    "Following the conclusions from our benchmark results with _ipstata_, we will only look into the case of the linear individual specific trend. If we get similar results here, results should hold for the others as well. Besides, the RT estimation was our main question of interest in the first place.\n",
    "\n",
    "There are some packages which can be used to run regressions, but we did not find a package that explicitly runs panel-data transformations. Since we had to write the transformation on our own, we decided calculate the regression ourselves as well. "
   ]
  },
  {
   "cell_type": "markdown",
   "metadata": {},
   "source": [
    "<a id='MCPythonDGP'></a> "
   ]
  },
  {
   "cell_type": "markdown",
   "metadata": {
    "collapsed": false
   },
   "source": [
    "###  3.1. DGP"
   ]
  },
  {
   "cell_type": "code",
   "execution_count": 399,
   "metadata": {
    "collapsed": false
   },
   "outputs": [
    {
     "name": "stdout",
     "output_type": "stream",
     "text": [
      "     Individual  Time   alpha_i  trend         y_it         x_it      e_it\n",
      "0             1     1  0.589693      1     2.339515    -0.608645 -1.032887\n",
      "1             1     2  0.589693      2    13.408392     4.015701 -0.212702\n",
      "2             1     3  0.589693      3    11.838224     2.498469  0.251594\n",
      "3             1     4  0.589693      4    16.301759     4.449141 -0.186216\n",
      "4             1     5  0.589693      5    23.632949     7.036685  0.969886\n",
      "5             2     1 -0.908038      2     5.911088     1.587717 -1.356309\n",
      "6             2     2 -0.908038      4    13.043852     2.702108  1.547675\n",
      "7             2     3 -0.908038      6    16.989319     4.222591  0.452175\n",
      "8             2     4 -0.908038      8    23.762787     7.060915 -0.451005\n",
      "9             2     5 -0.908038     10    30.341827     8.451016  1.347833\n",
      "10            3     1 -0.235765      3     7.556173     0.137732  1.516473\n",
      "11            3     2 -0.235765      6    18.465701     5.773586 -1.845706\n",
      "12            3     3 -0.235765      9    30.429293     9.258875  0.147308\n",
      "13            3     4 -0.235765     12    38.640929    11.768288  0.340118\n",
      "14            3     5 -0.235765     15    51.806603    16.462400  1.117569\n",
      "15            4     1  0.313141      4    16.036869     4.837212 -0.950697\n",
      "16            4     2  0.313141      8    26.896250     8.426881 -1.270654\n",
      "17            4     3  0.313141     12    34.781331    10.988332 -2.508473\n",
      "18            4     4  0.313141     16    51.322585    16.447692 -0.885941\n",
      "19            4     5  0.313141     20    65.393614    21.061720 -0.042968\n",
      "20            5     1  0.206966      5    20.408802     6.243931 -0.286026\n",
      "21            5     2  0.206966     10    36.667250    11.865286 -0.270290\n",
      "22            5     3  0.206966     15    48.560291    15.021633  0.310059\n",
      "23            5     4  0.206966     20    61.557727    18.850993  0.648774\n",
      "24            5     5  0.206966     25    81.921724    26.395507  0.923742\n",
      "25            6     1  2.228312      6    31.575270     9.988791  0.369377\n",
      "26            6     2  2.228312     12    44.189589    14.542532 -2.123786\n",
      "27            6     3  2.228312     18    65.201005    20.838793  0.295108\n",
      "28            6     4  2.228312     24    84.284258    26.788537  1.478873\n",
      "29            6     5  2.228312     30   100.774721    32.857985 -0.169561\n",
      "..          ...   ...       ...    ...          ...          ...       ...\n",
      "970         195     1  2.275628    195   592.762603   196.191235  0.104506\n",
      "971         195     2  2.275628    390  1178.091700   391.066942  0.682188\n",
      "972         195     3  2.275628    585  1764.963572   587.935374 -1.182803\n",
      "973         195     4  2.275628    780  2351.533348   782.175824  1.906072\n",
      "974         195     5  2.275628    975  2932.073742   975.956244 -0.114374\n",
      "975         196     1 -1.090812    196   586.322342   194.397903 -0.382651\n",
      "976         196     2 -1.090812    392  1174.343299   390.590021 -0.745931\n",
      "977         196     3 -1.090812    588  1761.465478   586.532890 -1.509490\n",
      "978         196     4 -1.090812    784  2349.524404   782.122552 -0.629889\n",
      "979         196     5 -1.090812    980  2940.705009   979.602272 -0.408723\n",
      "980         197     1  2.527238    197   606.218994   201.688201  0.315354\n",
      "981         197     2  2.527238    394  1192.374366   396.158353  0.530422\n",
      "982         197     3  2.527238    591  1781.413748   592.073994  0.738522\n",
      "983         197     4  2.527238    788  2374.301782   790.627192 -0.479840\n",
      "984         197     5  2.527238    985  2966.246596   987.311415  1.096528\n",
      "985         198     1  1.518171    198   599.254389   198.153847  0.428523\n",
      "986         198     2  1.518171    396  1192.360899   396.491955 -1.141183\n",
      "987         198     3  1.518171    594  1789.323454   594.988040  0.829202\n",
      "988         198     4  1.518171    792  2382.938167   793.690801 -0.961606\n",
      "989         198     5  1.518171    990  2983.861910   993.916702  1.510335\n",
      "990         199     1  0.767250    199   603.676443   200.688882 -0.468570\n",
      "991         199     2  0.767250    398  1198.709676   398.100200  0.742026\n",
      "992         199     3  0.767250    597  1794.897830   597.751129 -1.371677\n",
      "993         199     4  0.767250    796  2397.874265   798.749041  0.608933\n",
      "994         199     5  0.767250    995  2990.024172   995.474948  0.307025\n",
      "995         200     1  2.398002    200   607.847452   201.942980 -1.436511\n",
      "996         200     2  2.398002    400  1212.121667   403.277214  0.169235\n",
      "997         200     3  2.398002    600  1808.735735   602.111738 -0.885743\n",
      "998         200     4  2.398002    800  2414.612115   804.282263  0.649587\n",
      "999         200     5  2.398002   1000  3012.874572  1003.625470  0.225629\n",
      "\n",
      "[1000 rows x 7 columns]\n"
     ]
    }
   ],
   "source": [
    "random.seed(100) # Equivalent to `set seed 100`\n",
    "############################################### Somehow the seed does not work\n",
    "\n",
    "# For the coding part, we will set some variables which was not necessary in stata:\n",
    "n = 200 # in python there is no need (or not allowed) to write `generate`\n",
    "T = 5\n",
    "N = n * T\n",
    "\n",
    "alpha_i = np.random.normal(0, 1, 200) # Equivalent to `drawnorm alpha_i, n(200)`\n",
    "alpha_i = np.repeat(alpha_i,5) # Equivalent to `expand 5`  \n",
    "\n",
    "i = np.arange(n) + 1 # Equivalent to `gen i = _n`  # +1 because python would start with 0\n",
    "i = np.repeat(i,T) # Equivalent to `expand 5`  \n",
    "\n",
    "t = np.arange(5) + 1 # Equivalent to bys i: g t = _n \n",
    "t = np.tile(t,200) # Equivalent to `expand 5`  \n",
    "\n",
    "trend = t*i # <=> `gen trend = t*i`\n",
    "\n",
    "mean = [0, 0]\n",
    "cov = [[1, 0], [0, 1]]\n",
    "nu_it, e_it = np.random.multivariate_normal(mean, cov, 1000).T # <=> `drawnorm nu_it e_it, n(1000)`\n",
    "\n",
    "x_it = (nu_it + alpha_i + trend).T # <=> `g x_it = nu_it + alpha_i + trend`\n",
    "# Since we will transform the data at least ones, we don't have to include an intercept in the first place.\n",
    "\n",
    "y_it = (3 + alpha_i + 2*x_it + trend + e_it).T # <=> `g y_it = 3 + alpha_i + 2*x_it + trend + e_it `\n",
    "\n",
    "m = np.matrix((i, t, alpha_i, trend, y_it, x_it, e_it))\n",
    "mt = m.transpose()\n",
    "df = pd.DataFrame(mt)\n",
    "df.columns = [\"Individual\", \"Time\", \"alpha_i\", \"trend\", \"y_it\", \"x_it\", \"e_it\"]\n",
    "print(df)\n"
   ]
  },
  {
   "cell_type": "markdown",
   "metadata": {},
   "source": [
    "> The data generating process is here now down completely using open source packages (numpy). We print the data frame to have a quick overview whether the the DGP was correct or not. Judging from the output, it seems that so far everything is fine.\n",
    "\n",
    "> The arising problem now however is, that our Internet research did not provide us with commands which can analyze panel data as easily as Stata can do. I.e. there is no command which is directly comparable to \n",
    "`xtset i t` and `xtreg y_it x_it, fe`. We therefor have to construct the transformations ourselves. \n",
    "\n",
    "<a id='MCPythonDataTr'></a> \n",
    "\n",
    "###  3.2. Data Transformation"
   ]
  },
  {
   "cell_type": "code",
   "execution_count": 233,
   "metadata": {
    "collapsed": false
   },
   "outputs": [],
   "source": [
    "\n",
    "# First and double Difference for x:\n",
    "x_reshape = np.reshape(np.ravel(x_it), (200, 5)).T # reshape x-variable to wide form for the transformation\n",
    "    # To verify the reshape command, comment out the next to lines. We need 200 columsn with each 5 rows for 200 individuals haven 5 time periods\n",
    "    #x_df = pd.DataFrame(x_reshape)\n",
    "    #print x_df.head(n=5) # One can see that we have now 200 columns with each 5 time periods\n",
    "dx = np.zeros(x_reshape.shape) #Constructing a zero variable for the first-difference command which is following (this is necessary)\n",
    "dx[1:] = x_reshape[1:] - x_reshape[:-1] # First-Difference\n",
    "dx = np.delete(dx,(0), axis=0) # Dropping the first period which does not contain any information anymore.\n",
    "    # Every dirst-difference means that we will lose one time period.\n",
    "    #dx = numpy.delete(dx,(0), axis=1)\n",
    "d2x = np.zeros(dx.shape) #Constructing a zero variable for the first-difference command which is following (this is necessary)\n",
    "d2x[1:] = dx[1:] - dx[:-1] # Second-Difference\n",
    "d2x = np.delete(d2x,(0), axis=0)\n",
    "    #For verification command out the next lines:\n",
    "    #dx_df = pd.DataFrame(dx)\n",
    "    #print dx_df.head(n=5) # The first entry is now zero for all zero because we can't take the first-difference from the starting value. Comparing dx_df and x_df one can clearly see that the first-differnce worked well.\n",
    "    # Now we have the reshape the data again in long form for the regression\n",
    "dx_reshape = dx # result is stored for the within-transformation    \n",
    "dx = np.reshape(dx.T, N-n) # replacing dx with long form (to be used in a regression)\n",
    "# We have to substract n from N, because we delete one time period\n",
    "d2x = np.reshape(d2x.T, N-2*n)\n",
    "# Same here, just that now we deleted two time periods.\n",
    "    #dx[:11] #to check if transition worked\n",
    "\n",
    "# Within-transformation for x\n",
    "dx_mean = dx_reshape.mean(axis=0) # obtaining the mean for each individual after the first-difference is done\n",
    "dx_mean_i = np.repeat(dx_mean,T-1) # for the calculation, construct a mean-matrix with same shape as the x-variable\n",
    "dx_mean_i_reshape = np.reshape(dx_mean_i.T, N-n) # Reshaping the data into long-form\n",
    "dwx = dx - dx_mean_i_reshape # Substracting the mean for the within-fransformation:\n",
    "# dwx is now constructed for the Random-Trend 2, mix    \n",
    "    \n",
    "################ Some transition for the y-variable\n",
    "y_reshape = np.reshape(np.ravel(y_it), (200, 5)).T # reshape x-variable to wide form for the transformation\n",
    "dy = np.zeros(y_reshape.shape) #Constructing a zero variable for the first-difference command which is following (this is necessary)\n",
    "dy[1:] = y_reshape[1:] - y_reshape[:-1] # First-Difference\n",
    "dy = np.delete(dy,(0), axis=0) # Dropping the first period which does not contain any information nomore.\n",
    "\n",
    "d2y = np.zeros(dy.shape) #Constructing a zero variable for the first-difference command which is following (this is necessary)\n",
    "d2y[1:] = dy[1:] - dy[:-1] # Second-Difference\n",
    "d2y = np.delete(d2y,(0), axis=0)\n",
    "dy_reshape = dy # result is stored for the within-transformation\n",
    "dy = np.reshape(dy.T, N-n)\n",
    "d2y = np.reshape(d2y.T, N-2*n)\n",
    "\n",
    "dy_mean = dy_reshape.mean(axis=0) \n",
    "dy_mean_i = np.repeat(dy_mean,T-1) \n",
    "dy_mean_i_reshape = np.reshape(dy_mean_i.T, N-n) \n",
    "dwy = dy - dy_mean_i_reshape \n",
    "# dwy is now constructed for the Random-Trend 2, mix\n",
    "\n"
   ]
  },
  {
   "cell_type": "markdown",
   "metadata": {},
   "source": [
    ">Already noting this transformation part, it does seem very reasonable to rely on Stata if one wants to analyze panel data. Surely, this code is not as efficient as possible since we just started coding, and we are certain that the code can be improved, but Stata seems so far still more convenient to us.\n",
    "\n",
    "To have a look into our data transformation, we will show some contour histograms to show how the untransformed and transformed variables are distributed.\n",
    "\n",
    "#### Relationship between untransformed $y_{it}$ and $x_{it}$"
   ]
  },
  {
   "cell_type": "code",
   "execution_count": 234,
   "metadata": {
    "collapsed": false
   },
   "outputs": [
    {
     "data": {
      "text/html": [
       "<div id=\"9f13d269-3ec4-4277-b82a-97dd7f2837ee\" style=\"height: 525; width: 100%;\" class=\"plotly-graph-div\"></div><script type=\"text/javascript\">window.PLOTLYENV=window.PLOTLYENV || {};window.PLOTLYENV.BASE_URL=\"https://plot.ly\";Plotly.newPlot(\"9f13d269-3ec4-4277-b82a-97dd7f2837ee\", [{\"y\": [2.8139298024682837, 7.683711684912466, 8.318601688922502, 13.275310022298038, 14.846177197894626, 7.323432361207236, 11.518509267584745, 16.068370158682235, 24.268800890752196, 26.453793150881477, 7.930827412679241, 20.3544577981483, 25.242359459433644, 40.96571927974576, 43.37711831281073, 13.944224081561597, 29.132600142882776, 37.85411248781096, 52.85776829909051, 65.99851091188101, 22.39293990244173, 35.90345164076911, 53.518971015893314, 63.795251773019395, 83.32063677052678, 21.086092931172434, 38.72658022156233, 56.491195757379415, 70.53664509829167, 95.44839521822344, 25.190669771811795, 42.92924085985267, 69.57020870385762, 91.23865043265141, 106.81896925801435, 19.396485618698435, 48.29555322569648, 65.1079330782667, 85.82065844738098, 110.2277727345172, 32.80324283467171, 54.12938957726006, 86.5051670950595, 108.71678017303456, 139.49180799553744, 39.03977218177698, 64.62741552182187, 96.35643399531797, 123.82553039388957, 153.31278050445698, 44.70565023383456, 74.19928533564932, 110.91089034975666, 141.13292048452047, 174.340702190958, 38.49171958863938, 73.48157751654747, 111.94069709661592, 149.02510017286167, 179.63593778394474, 41.65543156614164, 87.17208780047939, 117.80782451447634, 159.72652207769787, 200.00998927093048, 48.65158075159216, 87.6403917642513, 131.70849183945492, 171.93516607790875, 215.20795174173114, 47.488224942999736, 90.4151660382702, 134.4471835019836, 180.31859422164186, 224.2608360830359, 52.03400153538526, 103.38707535375892, 149.5795073440733, 197.99360024539118, 240.60515967894236, 53.15350395083175, 104.41886969278913, 154.28923461957814, 210.06396723332273, 257.35703823927685, 58.88404277549252, 114.5089314383867, 165.69702956437942, 221.25630193143854, 272.3158850723921, 63.50780460880845, 118.40187716622013, 177.9914299518283, 232.58392166650836, 288.8221652601259, 58.79783530341417, 118.11438036149518, 176.89111755215734, 236.53973264161888, 300.34551867886455, 60.443028253122414, 122.617472443765, 194.34670648050198, 252.45516301380752, 318.515283162371, 64.68909837298558, 133.5584303976615, 199.4248758418266, 264.06049006904084, 332.37624324445363, 65.85397528391964, 136.92877235182013, 205.41145897785296, 275.3625607225994, 344.75557315188945, 82.02627214010955, 148.22644930262211, 226.53891680877706, 297.4585421280258, 364.5749756565992, 80.96125887321594, 152.29114353467793, 226.06183035607282, 305.3497720878645, 379.645070888541, 84.06639860912078, 159.66671089583375, 237.9626288251333, 316.7785281973137, 394.2980694044914, 83.2360824629437, 164.1984815266592, 246.08033098513638, 328.02146983951724, 409.53344006633466, 86.71021225383865, 168.23488000012503, 256.02420073403454, 335.65859712599917, 421.63822995651367, 99.61251699321474, 182.02556095101053, 265.47837869512495, 358.2528532295928, 444.18041786154635, 98.46473924659435, 186.57764910624084, 277.62179185795236, 364.20033386734633, 455.7003697786455, 93.2311119153146, 192.43374485145438, 281.1146686954263, 375.4528745208981, 466.8009066638084, 98.81185333616432, 192.31011727992717, 292.98203765932044, 390.05932475412527, 482.69255512183435, 105.15390485254248, 200.35794756385576, 296.71703851612295, 401.1565542481356, 500.8968832350653, 103.6016741429163, 208.98506513414392, 309.132094861057, 409.207242314476, 511.92895045742534, 103.43190478815742, 212.7550047451209, 317.424377139875, 420.5474317323998, 529.5579140739704, 115.59489498756143, 224.13274429371137, 328.2782991215423, 438.54743584113936, 546.8983956121733, 113.38291474896242, 218.37697423037912, 332.4690702692433, 444.1735878951895, 549.6410217636659, 120.70225020130891, 235.61530862719704, 347.33011801213365, 459.7359081459561, 573.7042723942604, 124.1870081514747, 239.913469480766, 353.00679907173344, 471.8004270965315, 584.5510552113847, 119.8172290140087, 245.31299745577857, 362.20853520940335, 486.7379837168913, 601.9005667104601, 128.8096066258145, 251.62975632159984, 375.11955960228556, 493.31081711690297, 621.3962117905819, 122.92201876400657, 250.20226747135297, 373.69379853274614, 502.4776084389714, 625.9441050299594, 135.3762611055351, 261.7292985058047, 394.0528849401554, 520.7662331128523, 646.7409944408929, 139.5832032441647, 268.77877346338727, 404.2510164899695, 531.5768147103037, 664.0265156983226, 142.37829733362986, 275.56759337649913, 408.74316436393303, 546.473155573408, 681.918466200211, 142.91236250167665, 282.2900439013692, 417.4265388613441, 555.5044630734365, 694.3130341044618, 146.04406199986758, 286.62314582450415, 431.55066758314024, 571.2817207403866, 714.552197811566, 147.91912839916174, 293.4125246168732, 431.69550205589354, 578.6189328012223, 721.6584931072043, 146.08618571978883, 294.99741558685804, 441.6181995856175, 594.5128815668055, 735.1322325146798, 155.02013742300204, 311.7594053253289, 453.72167414529275, 607.2943054033154, 761.6692793553257, 159.2576093131163, 309.5245920219119, 464.6634311254172, 615.1303009684207, 773.5938323979115, 156.33224243595882, 317.8875596057595, 471.94375543443454, 622.2835683311546, 785.5472021615468, 158.52977991269086, 321.3683349082982, 480.3569054620657, 641.4847583635052, 798.455777395201, 166.76736548054964, 325.2791251992819, 490.4369873739984, 649.695297083754, 813.1147613166858, 161.36524308711236, 328.82500212268707, 491.7682788836636, 655.0487340720006, 818.0023596677999, 168.2402310628157, 337.63078833283106, 501.5057774860834, 676.5672445322158, 845.3404734208143, 173.8672481502233, 345.4800121919201, 518.1707464355497, 689.2444367677908, 858.660814165199, 177.99772960042378, 354.73056869501505, 527.7072922471796, 704.999337955508, 875.094567201534, 183.50152467959438, 357.95929556427814, 540.6294947375484, 709.9762068961737, 892.2918817991799, 180.6791152338573, 361.59170279909625, 541.8752161641062, 722.069029546309, 902.4882192543574, 186.013680762217, 367.379800676228, 550.5644009358516, 737.3323938151309, 918.4038470757251, 193.93389324483587, 375.98042128646796, 562.0113379436829, 748.0638505303689, 935.1915441597637, 189.83352894172822, 380.6554363357053, 571.422021752058, 760.567177560516, 952.4869251868048, 193.66270196914826, 388.1787326664514, 580.5584369242996, 771.7360094460574, 961.6193502871124, 198.97535780186, 390.4345314958709, 586.2912277838485, 781.3737492738401, 977.8855769161505, 195.54269223700828, 396.89358535392233, 594.4447108563119, 792.7118308135914, 987.5155652078059, 206.96556176801772, 404.23981782164014, 610.0564624216181, 808.1830269596035, 1007.4098478748367, 202.23685983766381, 408.12294667207516, 612.0206839609341, 814.6840994783477, 1021.0929838878258, 212.9180796349298, 418.1445289321421, 629.3818854998904, 833.5658208909791, 1042.549888235463, 211.49955410775587, 421.4662145062631, 631.4680746475871, 843.2064449719138, 1054.4136723936774, 215.78226334724621, 427.71460331095057, 635.7892245477318, 851.1614116667718, 1067.7746387559928, 221.33079582371428, 435.988106816401, 652.2295857022574, 868.1668963359442, 1084.1212288266731, 224.3252450062589, 442.0558048909498, 664.9978741298712, 887.0067105622521, 1102.505347189509, 223.79748973502802, 447.598742543545, 667.8742607198313, 890.3492440155476, 1111.9759546495984, 228.63817129750498, 451.38171659305414, 677.167569369009, 903.1449231277579, 1127.7250303384037, 226.84896005260697, 455.8962282478067, 682.9301781981643, 912.3206008676891, 1143.250177306833, 236.11772322139163, 467.2318523725122, 692.0497617272539, 926.7246395167695, 1159.1305844582532, 243.0750862905251, 471.16997405395705, 710.5137717126761, 938.3269863302183, 1173.5036211422719, 241.8001189113729, 478.50081913273743, 712.5926135201726, 952.6941786884345, 1190.046689705877, 244.4900901892285, 482.6475292386058, 731.0359614921864, 963.5909714141009, 1205.7415663585177, 249.17501608810545, 491.7658108879081, 737.2517970507738, 977.3065938946504, 1220.5112934713588, 249.00624070787214, 492.76620764209326, 739.4971548774469, 983.7600058646539, 1229.4063394452746, 255.6480192788816, 497.49492254519066, 748.0818786590279, 999.1271505826636, 1247.617590461401, 263.03627824807006, 509.6175307079041, 767.3400134843913, 1017.1006667182907, 1267.6294766640945, 254.9219207984387, 511.7661270329386, 767.2560470141797, 1020.9925144285295, 1276.6827978837432, 264.2597187178288, 519.9246858461231, 776.111641516552, 1030.6669885011218, 1291.3484525515362, 261.6337654607257, 528.3659614337284, 784.8616722794101, 1045.3762426174644, 1305.6534163316621, 272.83514617502834, 534.0387072466657, 796.6812733277666, 1061.9377359054097, 1323.0092884095268, 267.6238991453877, 530.9498869102267, 803.8167653695582, 1069.8088008855846, 1339.5265513289291, 270.3037283626486, 541.40286640897, 808.9937784268302, 1079.9789509888367, 1353.274907763077, 272.62394648824386, 549.6451997921921, 821.5883437302333, 1096.0795050176123, 1370.1781829515362, 287.5816403322816, 556.3854121416935, 835.1818666132275, 1110.7410512340398, 1388.717627162735, 285.69124516966934, 564.5035303585094, 844.1706155244068, 1121.014347777981, 1395.4021590646134, 284.82368297714885, 566.8476637481631, 849.1402324251557, 1129.4212876917727, 1411.7230731090006, 285.44902531814023, 573.4514642472898, 854.0767314836844, 1142.193415746777, 1427.494805935045, 290.8740520265347, 574.7802533634724, 864.86839676326, 1153.2094851485099, 1444.036003514145, 291.64260159626747, 579.862798291084, 875.3652000958342, 1164.1766789112005, 1451.8732529606038, 296.7471910580078, 590.5200393808205, 885.0734008019762, 1183.2349168437654, 1474.3204730204309, 295.9383389188104, 595.0212136674307, 888.7587359744344, 1189.723378584815, 1485.2886920478886, 298.23885913383816, 598.2553574058076, 900.108887984007, 1197.5267277376702, 1500.120690991427, 316.23275975822463, 616.5977267743848, 922.4585276474609, 1220.0871092795178, 1524.4134307610757, 307.67478688187697, 615.4317092657577, 916.2197548078792, 1228.7911555653293, 1529.2804399130403, 311.78047520518857, 622.380410204497, 933.4107773960582, 1240.8127887431071, 1547.951733612405, 310.3370422210126, 617.8955099349325, 935.7986065299166, 1243.4124184401876, 1556.6820835290987, 313.7603533275249, 627.9294354743269, 942.7184520343881, 1259.338201196288, 1575.3891637265574, 323.8200548190895, 642.4745190336529, 958.1666845893983, 1274.8298801867586, 1595.1783454805172, 323.68447901567686, 647.1219008113013, 966.7532960835144, 1288.8792247545507, 1611.060634645857, 329.2558883026643, 651.1636673975592, 981.8203215894711, 1304.4785384994907, 1623.2378480679724, 326.99669411434445, 660.035524660812, 981.0380472851169, 1306.2544725880884, 1632.2587450949802, 333.42707147756335, 665.8587372171202, 993.2350142887209, 1325.8923900013574, 1656.2610555858066, 336.9691840967598, 669.9936285198359, 1000.5896682334, 1329.175445233939, 1667.7085284467864, 341.08121484451135, 677.2104037313932, 1007.0174904712352, 1347.3588632501737, 1687.043990431995, 343.89788819105166, 675.0183884814929, 1020.6293263794822, 1357.7876729073541, 1701.0463380993895, 350.27450828611506, 691.5899380627211, 1037.759149254133, 1376.821727850203, 1719.4409145305574, 347.1832860773786, 696.4383727189547, 1034.791791003492, 1386.4653814918076, 1725.3335261386992, 352.47452241907916, 699.5716925209933, 1043.731630791657, 1390.0033412026228, 1745.153718518761, 352.74006537148455, 705.2582101565574, 1058.749301136343, 1413.6936199877164, 1758.7183641484762, 359.04505421248587, 707.3219666009385, 1064.63095913982, 1419.5493701081743, 1771.4069506091375, 362.98735955139813, 716.2429057037234, 1076.482546938018, 1431.36929520005, 1786.785961754054, 366.1404517348849, 728.9003794862138, 1087.2264025568088, 1440.413759620716, 1807.5047959206715, 364.4316197300225, 728.8216937344849, 1093.33367088845, 1453.0981471395503, 1819.3449864497222, 363.33963792007313, 735.489333959387, 1102.1080511159673, 1466.682561846218, 1830.3585949528683, 376.35086847314267, 740.1197467312857, 1113.3634837734269, 1479.7146819162397, 1848.0398209358766, 375.380534838953, 749.9943272005901, 1119.82465364161, 1495.938283172197, 1857.4107666504601, 376.71085089850277, 753.9306546650172, 1123.3418030473968, 1504.5235807545725, 1878.2447801576502, 384.08402836244903, 760.705080897131, 1140.464427112927, 1515.0902215051497, 1897.283031567911, 391.0304133343533, 770.1039216269352, 1150.5589233139378, 1535.5548880649528, 1912.4206440523922, 393.29811915114493, 775.2078654736448, 1158.6705652270864, 1544.8039008941043, 1928.7063059766779, 390.1103382269895, 778.2363599382686, 1165.9197514681312, 1546.4652807846303, 1939.2666438721278, 393.50153386680637, 783.8478038602785, 1176.397785559055, 1566.6344361291976, 1955.724076797658, 401.0032709467544, 788.0624793652524, 1181.8266270718934, 1578.9435605374833, 1965.9959299259533, 400.3867534141911, 803.8754985722121, 1200.6972247321917, 1592.4677449711178, 1987.5821192226092, 405.6633222761251, 801.6268685623941, 1205.4334302964894, 1603.0311507059705, 2002.0098373776268, 405.34318333279145, 809.9346747918988, 1206.0121767342755, 1615.2763492784034, 2014.2655289603827, 409.196361062367, 813.236992718684, 1219.902266538107, 1621.4610718854387, 2027.619153294129, 410.56427621506117, 820.1433396363861, 1223.3282312399435, 1632.3933727675444, 2038.9974600754012, 414.38194336822716, 831.1733058011945, 1237.0270202371762, 1646.0271009599003, 2062.09651954338, 414.91217878547735, 826.3529346168267, 1244.991102415903, 1651.0253738099102, 2070.0243310005626, 419.50688906398824, 835.5247243533787, 1250.9756413777095, 1666.7149122881917, 2085.274032590159, 420.79423187096825, 843.8673614519639, 1261.7762019956472, 1679.8120926300599, 2101.6347207213234, 431.47577823902617, 853.3666591800196, 1274.9758034508068, 1698.7280266941802, 2121.6134783779953, 426.8410927899252, 861.4101099571916, 1283.7416208966617, 1703.8073781890002, 2136.6851455407054, 427.65379449963456, 862.3688425610976, 1285.6054717632428, 1716.5379256440049, 2147.1876737832135, 431.59439277943085, 865.0031215966878, 1301.804638567043, 1733.698110975206, 2161.926545654433, 435.6804662231304, 877.0943311431021, 1307.0724654932274, 1744.0062709436613, 2175.5100798699696, 446.63335049714726, 885.2033355317135, 1323.0968396314856, 1765.8204921261358, 2195.0064785845307, 446.90159224771855, 883.634221737303, 1331.3751044400458, 1769.3262578527017, 2209.6773575339453, 444.39367196498534, 892.7649586790433, 1334.3071511469466, 1778.2485022074293, 2222.64383046336, 448.3982560788661, 896.0205998115592, 1343.655300264356, 1793.6865887459794, 2235.9767172373513, 448.91569031578786, 907.1336859375559, 1351.090271120342, 1799.2152359611357, 2250.5962952233963, 456.7519834547833, 913.1552457719662, 1360.3303772928623, 1817.6694607398463, 2265.2117447116275, 459.1354523647538, 920.4967317291863, 1373.8148825006351, 1833.1636502299903, 2288.828456014326, 459.93848101249705, 921.9165211079851, 1376.1562637327866, 1836.6188513028508, 2295.8875610514315, 460.87211848562833, 925.4767486422584, 1388.7652648602611, 1848.4619722040516, 2314.4289530678134, 460.7577825111669, 927.3177399720228, 1394.2492210203536, 1856.3513934213152, 2322.0576828618655, 468.98810546246784, 933.1419590137405, 1403.4732929107013, 1876.6958786449113, 2340.042897640644, 481.44902917939515, 945.9323619695289, 1423.900445113998, 1889.400784816641, 2359.314485716363, 482.71368839021466, 952.2032604028377, 1424.2432688361946, 1903.222410997873, 2372.9901954609845, 482.7795780145136, 955.7977534843044, 1434.4404772308658, 1914.635930204971, 2390.599882951395, 482.0299302289829, 964.4189995233531, 1444.1945303027092, 1922.016892866038, 2402.3799986084477, 483.3948863346724, 964.874807559076, 1449.8981481577698, 1938.7598690604934, 2421.425045413171, 486.8227802678593, 975.458447475293, 1459.1504821505905, 1945.5173331778788, 2431.975477292504, 492.95201304347626, 980.2892570084533, 1471.871775915768, 1960.2453122976424, 2445.3778880354025, 495.59606888344626, 986.5414262322736, 1482.2850124621173, 1972.26263751747, 2462.5255593926927, 493.08238863512145, 993.6267736187918, 1484.277268769012, 1976.6424252085426, 2477.2995421657697, 502.42398997051953, 998.2990183630625, 1494.0339356634997, 1994.0424492887566, 2490.5513243015525, 509.6593740648395, 1011.401298731087, 1512.3018260942692, 2010.8607188799838, 2509.9647377691495, 513.9452732993532, 1017.220653384084, 1520.3962000458039, 2021.1959968998794, 2527.757446324756, 511.4676562838433, 1018.2142952598053, 1520.0905536863652, 2030.1395903407006, 2539.489856745246, 512.8633820942149, 1029.233921165041, 1535.5199184504795, 2045.4406350382092, 2557.784134872552, 509.00027546776613, 1022.4826549648386, 1538.2259875887223, 2046.0424864099864, 2560.9518370898786, 517.8792963643507, 1033.4634020006524, 1552.0491891760141, 2066.29185216139, 2582.6063287169727, 522.717561999161, 1044.8211054946426, 1558.7834090272281, 2082.377545374028, 2598.637384911997, 531.3495249061942, 1047.8340602287772, 1576.7333099001185, 2093.494167593521, 2614.4159466702954, 517.4539787009131, 1046.393256877911, 1569.5992304973909, 2090.7556015683717, 2622.9800597707963, 534.5796859023194, 1062.2907950378078, 1590.6519277344196, 2117.550939171928, 2646.1705505719788, 537.4950108827289, 1069.8465372396993, 1595.2650833816906, 2127.471220176126, 2657.717418810916, 544.0651477253688, 1076.8841043909988, 1606.4026634812435, 2141.9887289586877, 2677.7385633622926, 536.3654549331045, 1073.772098841018, 1610.0970491485068, 2148.1944205346804, 2684.812968214733, 546.48180542542, 1081.160752018661, 1623.5540746882612, 2162.3000653554814, 2706.4601025305506, 552.1481144354261, 1091.1566590118978, 1636.3945929067181, 2176.5179182217253, 2721.409676878773, 552.5244999760099, 1098.3292212239096, 1644.7759802651033, 2190.150152128413, 2732.6876142317024, 553.1358778088005, 1101.9805784204914, 1651.1599359289803, 2204.495027254961, 2750.380242321634, 553.3184610492311, 1105.5971598510027, 1656.4574405364356, 2207.82946713253, 2762.2637372893487, 554.7508506566337, 1115.3174874589529, 1669.5879783592568, 2221.532979291137, 2779.449254731914, 560.4490790873776, 1117.6791200213788, 1676.8745611254462, 2239.282315098835, 2790.486899664573, 568.7055000162395, 1126.7187186313845, 1691.3263925959645, 2252.530105973701, 2817.2180438208457, 562.8561054418301, 1130.1049521808989, 1695.78263993959, 2259.1399807913135, 2824.6524759699096, 564.7983457589787, 1136.43526151767, 1705.300109358139, 2266.382220592354, 2834.326771391702, 575.3815666956614, 1143.9080586163318, 1714.938789449365, 2278.410344580727, 2852.6242109865175, 572.540212453201, 1143.3346374976777, 1718.4356926137207, 2291.1299596328813, 2863.0072494725564, 571.8566289196151, 1145.7325762726473, 1724.1064186504925, 2302.4392131224326, 2877.9744699310595, 582.8210161818574, 1158.3633859815336, 1744.2904430954209, 2319.454779272614, 2901.011747341282, 588.1122434218196, 1169.7395825643748, 1753.392790420597, 2336.165934391911, 2916.2766578820742, 585.2492280383423, 1177.339075017856, 1757.4952492263799, 2342.0880425448568, 2931.0379796427924, 591.6660178085126, 1179.4589542303136, 1766.000711326205, 2357.6044686611135, 2943.2949245017858, 601.794119886747, 1191.3823084220414, 1787.3862450425872, 2373.792327174792, 2969.8956031509833, 597.9382003801429, 1186.4101842538464, 1785.0192292522277, 2376.703207315675, 2975.1794532891017, 605.3495069071798, 1197.4298660176373, 1794.0825875946211, 2394.3935007482487, 2984.3093843922907, 606.439521063108, 1201.466300776441, 1801.1160571271887, 2406.105654191511, 3007.464735515177], \"x\": [0.20632198707503424, 1.9304929630013534, 1.1664142262787442, 3.6351164223747703, 4.116028084478673, 0.8331036532460205, 2.4704307549637434, 5.184577102097952, 7.091645931279971, 7.763963763848228, 0.8789312468281798, 5.7737847884231694, 7.399030783429779, 12.555856061378515, 13.697702627964963, 3.4095557287977902, 8.921177599764732, 11.303610470007007, 16.20256496943907, 21.097931253727342, 6.091079915723084, 11.064516772212214, 16.537310144409123, 20.945025682155084, 26.82293841531224, 6.168096076071729, 11.644999419034587, 17.893595174077802, 22.741827597878583, 31.244377272998406, 7.814045542860914, 12.611528208929853, 22.18602876181242, 29.242416648478304, 35.093828860410106, 4.788154619887585, 15.203834586138555, 21.144608976917365, 27.320184298681205, 34.81290770278413, 9.653738190852495, 16.739998612624394, 27.969860161435914, 35.20885222368619, 46.13637116773439, 11.948992161643703, 20.996823054629665, 30.52011197556122, 40.318493605821445, 49.03424989623911, 14.10954440992522, 24.536664067369255, 36.50704030380912, 45.76953664445004, 56.53327251522867, 10.58226033404573, 23.771128774451665, 36.548098382473874, 48.28803957875176, 58.36340447370069, 12.954802383316679, 27.74801553427633, 38.4387832968054, 52.37943398913107, 65.67882212737484, 15.683505240224122, 27.48127040753876, 43.830931536272395, 56.439799333153324, 71.36720428588566, 15.080105935433503, 29.798259471135754, 44.12893992324942, 59.36081141147949, 73.43658896933361, 16.301224584608175, 33.41757867278689, 48.74700314207564, 65.86323440067736, 79.52798945300789, 16.330211977794654, 34.21671532300497, 50.26273342279981, 70.06968765803983, 85.27772399222327, 18.852677672947454, 36.9035792265785, 54.31676019521665, 72.29326481502133, 89.63905671814736, 20.28499395272521, 38.77241645935957, 58.55993298255211, 76.65438902834327, 95.42088294765566, 17.986619367301785, 38.354474086314944, 57.6225248293502, 77.30730400429572, 98.8583886931774, 18.462045316769153, 38.487982737173866, 64.00661299122511, 83.11044685714504, 104.62972966613901, 20.081570493905225, 44.024335967823355, 65.9472431035322, 87.454219067181, 109.32472189768795, 20.17842034972728, 44.023274194951, 66.87669958846432, 90.34253975595738, 114.83784081043233, 26.889682655060607, 48.440515978944276, 74.89742425301002, 99.45696454073322, 120.0622471341416, 27.018424312727525, 49.51176142876295, 74.44681765160378, 101.20063469544851, 125.3835274742378, 27.69454533018891, 52.02367921946739, 78.83880610686475, 104.83232108614074, 130.83410881745016, 26.365745855674806, 53.67898362643114, 80.74656233794951, 108.32513342319473, 135.33582808499716, 28.104695096364424, 55.12855125763326, 84.22503875342531, 110.22530235186672, 139.16388289824596, 32.576874714008284, 59.91722955865244, 87.09027370414415, 118.39786642807537, 147.3156530384072, 31.91153178139145, 61.158240031993884, 92.12128386115207, 119.56767344101928, 151.93407339402168, 29.99030171058144, 63.417361591578675, 93.13081512979808, 123.8530162647613, 154.08200499998196, 31.41035452459958, 63.214458895586795, 96.0940111758482, 129.4356897862776, 158.88965968696428, 33.545017031452815, 66.00630789932734, 97.72890999919522, 132.96589662663817, 166.58622557633672, 34.12996371370029, 69.22909641986213, 101.84786549449075, 134.67590653469705, 169.22053254931188, 32.802300158890255, 69.83844847963194, 104.33452544013464, 139.24252324855243, 176.49175916831672, 37.99199188124061, 73.9320613449202, 108.07504385880118, 145.5766154218957, 180.67160270896053, 36.40812766773395, 71.44897877887114, 109.81864355508215, 147.2010581285343, 182.14082665069887, 38.67456152369475, 77.9286359064873, 114.41471708984062, 152.48950370006045, 190.2268814960867, 41.02424668710424, 78.63419191487304, 116.21009517448604, 156.45278863557098, 193.9691126480363, 38.8985494137828, 80.38228186485918, 120.21752319623084, 162.06365681977135, 199.97729385876517, 41.47379925339277, 82.93250328123422, 124.04622627057238, 163.51274449816356, 205.84672486680756, 40.4173564317343, 83.11413422668842, 123.72829815317684, 166.55609536530608, 206.7896570719088, 44.496536688491496, 85.72694234182562, 130.16422598586203, 172.64707397781774, 214.76120490967182, 45.608220681033046, 88.86998897602096, 134.28788866678673, 176.44884813160462, 220.48770196054724, 48.09707219323055, 90.81369361405112, 134.94274168143122, 181.69285644701094, 226.16282689828685, 46.22317629284549, 92.68001209199211, 138.55266646028423, 184.26186874093844, 229.93770725895078, 47.565875943209385, 94.921793579323, 143.59013718891228, 189.40253925303065, 237.31708128446058, 47.43555763454113, 96.88995646910196, 142.7955881196271, 192.15991102790343, 239.10080385092928, 47.315896057448064, 97.34605050965335, 145.88392987800296, 197.09424710714075, 244.7257638998866, 50.04788552811173, 103.34179047868012, 150.64408055409694, 201.36797888399497, 252.46495684649472, 52.13693155039986, 102.53496070277382, 153.31410060032152, 203.56839718204773, 257.11691284565865, 50.54186844351348, 105.41295104110176, 156.4092792198866, 206.27196901812295, 261.2287594007828, 51.94272329909361, 106.12641997442176, 159.03737994181208, 212.90470872362866, 265.9316758382919, 54.72387445048714, 107.12139995472526, 162.65227030696752, 216.0724995600631, 269.7009704354792, 53.38271820435839, 109.41521089114444, 162.7819668424843, 216.90117910367252, 271.1569922071961, 55.89425188391022, 111.11602714502551, 165.3550281688098, 225.28926840953758, 280.74800300267475, 56.27057701316175, 113.54923216762914, 171.74879212823404, 228.76748087286637, 284.62886532437307, 58.553016714646695, 117.37259807600759, 175.05226102627793, 233.78273657347742, 290.5757109270937, 59.99215516219337, 118.58211335386315, 180.18754540934503, 235.06906588576962, 296.2351298648432, 59.5095024896763, 119.9616292024252, 180.0219005981169, 239.60457016216844, 299.6936932049179, 60.58154385436945, 121.21185166167245, 182.20105269540517, 244.77162323977777, 305.611948008943, 64.7596397746293, 123.41257939372632, 186.24341689573896, 248.4634978687109, 310.8879173940213, 62.5111063523789, 126.13254334030596, 188.8829062251207, 252.57071493186558, 317.13529819773464, 63.71907494103992, 128.3457731859177, 192.96800184225435, 255.67760812035738, 319.5096175518208, 64.98527381806343, 129.35864408835803, 194.4155574776401, 260.2689972421869, 325.0223198903248, 64.79734717522041, 131.23488608786866, 196.92171579722378, 263.47406860494954, 327.2374495658894, 67.92966911240964, 133.24908982156617, 202.6319428079547, 268.3279043925643, 334.6244822702568, 65.93859629508914, 135.4004627310266, 202.94283609845263, 270.7249780314474, 339.7220676698747, 70.04126791734765, 137.81977415539447, 209.6824649520834, 277.7003862758103, 346.0306649746149, 69.72876763148165, 139.7395378118639, 209.62904188391263, 279.59272081894187, 350.4145240413602, 70.58576383376379, 141.71152291940496, 211.32530249624415, 282.8131890920461, 355.352560888344, 72.44617224224311, 144.91975747892283, 216.34602235668106, 287.75160479137423, 359.6716201019657, 72.94213456725343, 146.15645098791947, 221.53803681508109, 294.76951250680816, 365.7839766551023, 73.7521374309621, 148.98954928913838, 222.04151003810065, 296.1907982138355, 369.3560912187262, 75.2174075455728, 150.0042495988613, 222.85016793804837, 300.8293910753122, 374.32643093568413, 74.47798979379968, 150.88084569393047, 227.04708961201538, 303.27093418063845, 380.5098135103502, 77.44068310497673, 154.26892012691232, 229.75205493853974, 308.1249211665734, 385.33016510093455, 80.33540020974067, 156.2728091633679, 236.124277173687, 311.5189851908776, 389.7868152192826, 79.30203841017295, 158.6320785117817, 236.5565930631814, 317.2298658818795, 395.8633488399368, 80.05575736879715, 159.60623235848234, 242.9717253499899, 319.87819709251653, 400.51051730288424, 81.64089486858832, 162.6959308636033, 245.2601147870314, 324.7726715628698, 405.59353369342585, 82.98899170522196, 163.50145323426452, 246.21748007587027, 326.3887634814318, 409.2476367981947, 84.38817772780821, 164.47667242520106, 248.3841282635868, 332.192845687858, 414.79684356020977, 86.88664396901355, 168.49308142041187, 255.56761956221465, 337.2607296218124, 421.2008757077861, 83.86196275455657, 170.0749674397873, 254.68652661430826, 339.5334331067803, 424.2187813204648, 86.85912661731163, 172.1608239868636, 257.5341763332518, 342.8183856672121, 429.07960939430416, 85.6781872849867, 175.3536719025267, 260.50936749651845, 347.3357226085324, 433.96256398954034, 90.3409284870222, 177.41283725050633, 263.95732195208313, 353.4441375366983, 439.3008235721131, 88.85020886210373, 175.84242031815336, 267.7648035765971, 355.44883376888737, 446.21619071532785, 89.10011048397337, 179.72026233371503, 267.9997340466819, 358.99313757843714, 450.5648246028321, 89.11849172562529, 181.664749982593, 273.0449515881065, 364.1660473222104, 455.7645731531568, 95.08258801226685, 184.49189011518408, 278.0379825728314, 369.4568623690819, 462.31117933867705, 94.42656817472984, 187.2804039599331, 280.6257000777589, 373.32905848791836, 464.3932396372918, 93.25551661245831, 188.22839858362582, 282.7630904718215, 374.8460952422735, 469.71933310506114, 94.22921626473202, 189.87600001175392, 283.6630541301956, 380.0727045497862, 475.07623462590414, 95.31056711883748, 190.40800315876402, 287.2465966039668, 383.5580290647501, 480.36923456626886, 96.15900324570453, 192.29128973818763, 290.5397262924371, 386.61574736435006, 482.81455415945, 97.69646053608027, 195.75120458903623, 294.12868064934463, 394.06950846468567, 490.9115375106618, 98.23301735305193, 197.23139125514794, 295.0554321815867, 396.3351558050756, 494.203081418064, 97.43867837987374, 198.96301873488264, 299.45272517902185, 397.7344326638487, 499.3325163344341, 104.1623250236821, 204.80118549035484, 307.1123188277713, 405.13736930004944, 506.8438912949405, 101.78580035501044, 205.10343747143128, 303.96673447198066, 408.11479677934125, 508.24239982550694, 102.95350570653541, 206.97726847884687, 310.27251538901186, 413.3538232014418, 514.9540433607873, 102.006565429901, 204.80496148943283, 311.2856181017215, 413.54055626753393, 518.165228125778, 102.84819646644908, 207.96930673999913, 313.53761392978134, 419.1940222340262, 524.914804511438, 106.86754479362112, 213.611905357028, 318.5962719027281, 423.6607658470536, 531.2789921065435, 106.56876389126106, 214.57360591966219, 321.33670875414464, 428.7231658206063, 535.5414459814933, 108.07309796530032, 215.38782854511692, 326.5514190046693, 434.20318368031786, 539.1283454777678, 108.22939751451887, 219.6903854626887, 326.2940112313824, 434.85824789433417, 543.3168027346187, 110.10641456743242, 220.45192259085658, 329.7643248587755, 441.0874779924209, 550.8848348230728, 111.24815870803754, 221.26681818242113, 332.22702054320007, 442.48120016784105, 554.6710658475389, 113.08022726938901, 224.49886828522762, 334.048352613403, 448.1319265717771, 561.6515982257803, 114.32244114465023, 223.15283675420315, 339.3749145794527, 451.38040895251345, 566.3915223253512, 116.36419945153479, 229.53723955635238, 345.01037540313104, 458.16184140442164, 571.8187697226413, 115.44470782615208, 231.9089140845331, 343.6107600864232, 461.14894481025016, 573.8730026168892, 116.29228061925288, 232.2524965303392, 346.7925378898609, 461.58769063424444, 581.8490732825289, 116.02311490876896, 235.1538900671387, 352.14687522792974, 470.4494325472369, 585.0888620249774, 119.07110596942556, 233.90672239255025, 354.7325719172692, 472.48439386473245, 589.2080592059442, 120.7257423204181, 238.71878993810284, 357.7027323580391, 475.3686550819571, 594.5720689848582, 120.26306560265817, 241.9542897808422, 361.0789321263673, 478.4828377330195, 601.6929495435927, 119.78875385243269, 241.66121211328743, 363.21642103469, 483.0782003696183, 605.7593894656052, 119.23668484017992, 244.0334406463188, 366.22916476727625, 487.74307292260545, 609.5237890812641, 125.16534478323024, 245.4838169990245, 370.0109572778075, 492.3857277382537, 614.2813525886071, 123.8058085405826, 250.2103838362047, 372.3685483535268, 498.1458325510455, 617.5854375137845, 124.66536868768593, 250.86180965781963, 373.33500248629457, 500.7191025337968, 625.1148103179063, 127.48075330391572, 253.15518389503762, 379.3575827211203, 504.5425085340308, 632.3561981885101, 129.11761025255637, 255.4914931387824, 382.02154271732326, 511.6197484255609, 636.5051929528119, 130.736037560978, 257.2682901622279, 384.8570079278293, 514.8537116847656, 642.1246331463472, 129.57979065887474, 259.3699044649289, 387.54557370066334, 514.8055826527296, 645.4843670400708, 130.09461286769996, 260.55621959252943, 390.3972087320953, 521.3585213338486, 651.29395229678, 132.58388401153016, 261.15371543318133, 392.5713828525335, 525.7460758872259, 653.5676857708299, 132.73332710892544, 267.4663225200916, 399.89564337943546, 529.3245377800504, 661.4715216147581, 133.64948970406778, 266.01500510655165, 400.5258247754763, 533.6924911590476, 665.9909568453498, 133.4307329836099, 269.3155450176758, 400.9537447210347, 537.6039880895784, 670.0072132921695, 135.60590635477664, 269.7889557802238, 405.14205850649915, 539.5462727329987, 674.5311248895857, 135.99227602533813, 272.077842723003, 406.5630265348976, 543.1799267506459, 677.9744215212062, 137.19722500176678, 277.02053487784747, 411.08196945836164, 547.7782413727957, 685.6846542612057, 137.7893003474756, 274.3284893595138, 413.9735686594889, 549.5027163930793, 688.2164594368639, 139.1177003235003, 277.55232932457795, 415.71635831794805, 554.2039990471803, 693.9588956565756, 138.68084553208328, 279.8513742103421, 419.74398618907145, 559.2211048530279, 699.3073131107437, 142.833751193774, 283.42362517826416, 423.91705774293786, 565.1273752650073, 705.6504390204911, 141.58898208527145, 286.22231368993266, 426.4581906797341, 566.5635611008931, 711.4017964015104, 141.4998717379725, 286.9018112311899, 427.2391747553606, 571.0322395215267, 715.0074322247574, 142.73455185154978, 286.76568647580484, 433.24737897277015, 577.5399882157335, 719.4735544206437, 144.9159446026747, 291.86129580433084, 434.34535279933397, 580.7196665648345, 724.8483958227129, 148.03053889339594, 294.1281515330642, 440.7746351067003, 587.7938051488493, 729.7455239291819, 147.11867781818137, 292.8122130545399, 443.53039661157237, 588.2493849629867, 735.972070918572, 146.89219444985363, 296.975727871442, 443.5271056313697, 591.8580841610858, 740.177214790337, 149.07075065490707, 297.8143530423497, 447.50912556393223, 596.4755064074249, 744.742591550836, 148.19190717648675, 301.665909868979, 448.80120389306865, 598.1794624845019, 748.7172400134647, 151.52832315321768, 303.27433455949443, 452.5972172152856, 604.7895823893937, 753.4773855126565, 152.28044004234786, 306.75917803025, 456.07594521588095, 609.9134870139176, 761.8511757704368, 152.67696500453835, 305.85704797621094, 457.9940591720845, 611.5412235459576, 764.7970045288192, 152.34510480861812, 307.4431852766486, 462.7132383318851, 614.221463048517, 771.1158429963752, 152.826291446447, 308.6696588934758, 464.52214754773354, 617.2076412908415, 773.0334310001518, 154.82047672513835, 310.4404843121053, 466.52237797815474, 624.7609177064298, 779.932921797948, 159.55833250315067, 314.7151698857985, 473.20561927662413, 628.2942114977238, 785.1154703542979, 159.8763722337703, 315.6742400421737, 473.55611972540413, 633.6553569438444, 790.2586586112011, 159.7042867704063, 317.4928709829258, 476.07664844722257, 637.4372014223757, 796.3025280647379, 159.29483131641692, 321.35535590817926, 480.59236683273457, 639.7015678145254, 799.7006724854011, 160.63543176167843, 320.1417980713824, 481.8364515127741, 646.119556475463, 806.3710266902266, 161.4576741848298, 324.1658649509169, 486.2675347383737, 647.8249874005573, 809.8473002169309, 163.46132839478182, 326.1710816838295, 490.554014743083, 651.8915532521148, 813.6428152275013, 164.68298233960837, 327.6082243272827, 492.8596301417278, 656.6421872796273, 819.7851006281846, 163.66430941551857, 330.08999913661927, 493.9487413631159, 657.9344191258274, 825.1453272747516, 167.09987838255375, 332.1443510251505, 496.6927042159842, 663.6067091641357, 829.5752907626912, 169.07012203457273, 336.33491118196577, 503.28185419581945, 669.8744604936385, 835.9828783226774, 170.6917894901195, 337.19389730355914, 506.4851073583701, 672.3318561836182, 841.7655657616067, 169.6084918372592, 337.8556339393834, 505.4593517110806, 675.8972463464854, 845.5746641383679, 169.80809010852084, 341.9969102387314, 511.33960166752985, 680.811608698095, 852.2224720284673, 168.72937511412442, 339.8552889998174, 511.99860140350916, 680.7822000048967, 852.4130790477294, 171.66848463779755, 342.888170839415, 516.7091019338044, 687.7525883361648, 859.8795487000006, 173.00381820371217, 347.8919984077836, 518.5231596141368, 693.5191181723822, 864.8490661306097, 176.57182335314684, 348.0044531262637, 525.150244924454, 696.563148935263, 870.5991672605793, 172.43228449071435, 348.77745556311174, 522.0196585923424, 695.5367395018407, 873.6236039142362, 176.22686166538753, 353.28671572091287, 529.5487197840532, 705.2013297557482, 880.3644614066689, 178.33075348568966, 356.1987219336356, 530.6069273207113, 707.8714666348067, 884.2814033184134, 180.50477491600816, 358.09962824922434, 534.730058774296, 712.6172549187593, 891.2480270313325, 177.45193376853825, 356.6473484439001, 535.2450033012041, 715.4701648016701, 894.1054512824999, 180.95670136696194, 358.63186359782287, 539.9631548934633, 720.2797079531191, 901.1885451584347, 183.26967283313252, 362.8917969731827, 544.9425637867774, 724.4662708728656, 906.0721713583227, 183.67922422310914, 364.9569500935064, 547.4324764264072, 728.4417125086746, 908.7908747777394, 183.06359020809813, 366.6676720326594, 549.4013972698071, 734.4571455013819, 915.7441163128624, 183.73745451735556, 367.2972031262065, 551.0121744934753, 734.2058599598394, 920.3264638341435, 184.35008734305683, 370.0782778989722, 555.4736634478795, 739.6452033021166, 927.030704847803, 185.95494073874852, 371.37896620860704, 557.9196697666321, 746.0040328785194, 929.8154676455904, 188.9043198190262, 374.0015311700554, 562.7495056170294, 750.2838039117236, 938.3619843517715, 185.68256136739646, 375.86014971706163, 564.115520578199, 752.137266187176, 940.4524455124075, 187.36226645874456, 378.0424982737215, 567.3061563245188, 754.2190990413246, 943.1973508536079, 190.75683391857626, 381.0261843977037, 570.8928856940471, 757.8103356215192, 949.3263154922075, 189.35937737044222, 380.04452289059515, 573.0434919076105, 761.9391804156533, 952.5675914419394, 189.7631511563518, 380.4510964945904, 573.3073085331636, 767.3670199602427, 958.7903575176535, 193.5139496953512, 385.07756072607265, 581.6178937198258, 770.6974551425385, 965.4897067769366, 194.2544034105818, 388.8603887200671, 583.4046197407, 778.2724288642353, 970.1577649964584, 193.13718439506678, 391.34203245372044, 584.5752571909295, 779.9205116296833, 976.1538007340985, 195.79178115919433, 391.9454028366485, 587.5491984622441, 785.8714451238563, 979.7206325480607, 199.17089581071122, 395.90576334975844, 593.9199191103205, 789.1122568891881, 988.8851919240635, 198.3654158048019, 393.96279902336073, 594.173993439, 791.5393440428742, 990.8744018744691, 201.47251042455122, 397.99499682793515, 596.7909287155799, 797.5271193928189, 993.366707850139, 201.20905579829636, 399.5005203586522, 599.5856289410758, 801.9586269891822, 1002.0649058766783], \"showlegend\": true, \"type\": \"histogram2dcontour\", \"contours\": {\"coloring\": \"heatmap\"}}, {\"marker\": {\"opacity\": 0.3, \"color\": \"white\", \"size\": 3}, \"y\": [2.8139298024682837, 7.683711684912466, 8.318601688922502, 13.275310022298038, 14.846177197894626, 7.323432361207236, 11.518509267584745, 16.068370158682235, 24.268800890752196, 26.453793150881477, 7.930827412679241, 20.3544577981483, 25.242359459433644, 40.96571927974576, 43.37711831281073, 13.944224081561597, 29.132600142882776, 37.85411248781096, 52.85776829909051, 65.99851091188101, 22.39293990244173, 35.90345164076911, 53.518971015893314, 63.795251773019395, 83.32063677052678, 21.086092931172434, 38.72658022156233, 56.491195757379415, 70.53664509829167, 95.44839521822344, 25.190669771811795, 42.92924085985267, 69.57020870385762, 91.23865043265141, 106.81896925801435, 19.396485618698435, 48.29555322569648, 65.1079330782667, 85.82065844738098, 110.2277727345172, 32.80324283467171, 54.12938957726006, 86.5051670950595, 108.71678017303456, 139.49180799553744, 39.03977218177698, 64.62741552182187, 96.35643399531797, 123.82553039388957, 153.31278050445698, 44.70565023383456, 74.19928533564932, 110.91089034975666, 141.13292048452047, 174.340702190958, 38.49171958863938, 73.48157751654747, 111.94069709661592, 149.02510017286167, 179.63593778394474, 41.65543156614164, 87.17208780047939, 117.80782451447634, 159.72652207769787, 200.00998927093048, 48.65158075159216, 87.6403917642513, 131.70849183945492, 171.93516607790875, 215.20795174173114, 47.488224942999736, 90.4151660382702, 134.4471835019836, 180.31859422164186, 224.2608360830359, 52.03400153538526, 103.38707535375892, 149.5795073440733, 197.99360024539118, 240.60515967894236, 53.15350395083175, 104.41886969278913, 154.28923461957814, 210.06396723332273, 257.35703823927685, 58.88404277549252, 114.5089314383867, 165.69702956437942, 221.25630193143854, 272.3158850723921, 63.50780460880845, 118.40187716622013, 177.9914299518283, 232.58392166650836, 288.8221652601259, 58.79783530341417, 118.11438036149518, 176.89111755215734, 236.53973264161888, 300.34551867886455, 60.443028253122414, 122.617472443765, 194.34670648050198, 252.45516301380752, 318.515283162371, 64.68909837298558, 133.5584303976615, 199.4248758418266, 264.06049006904084, 332.37624324445363, 65.85397528391964, 136.92877235182013, 205.41145897785296, 275.3625607225994, 344.75557315188945, 82.02627214010955, 148.22644930262211, 226.53891680877706, 297.4585421280258, 364.5749756565992, 80.96125887321594, 152.29114353467793, 226.06183035607282, 305.3497720878645, 379.645070888541, 84.06639860912078, 159.66671089583375, 237.9626288251333, 316.7785281973137, 394.2980694044914, 83.2360824629437, 164.1984815266592, 246.08033098513638, 328.02146983951724, 409.53344006633466, 86.71021225383865, 168.23488000012503, 256.02420073403454, 335.65859712599917, 421.63822995651367, 99.61251699321474, 182.02556095101053, 265.47837869512495, 358.2528532295928, 444.18041786154635, 98.46473924659435, 186.57764910624084, 277.62179185795236, 364.20033386734633, 455.7003697786455, 93.2311119153146, 192.43374485145438, 281.1146686954263, 375.4528745208981, 466.8009066638084, 98.81185333616432, 192.31011727992717, 292.98203765932044, 390.05932475412527, 482.69255512183435, 105.15390485254248, 200.35794756385576, 296.71703851612295, 401.1565542481356, 500.8968832350653, 103.6016741429163, 208.98506513414392, 309.132094861057, 409.207242314476, 511.92895045742534, 103.43190478815742, 212.7550047451209, 317.424377139875, 420.5474317323998, 529.5579140739704, 115.59489498756143, 224.13274429371137, 328.2782991215423, 438.54743584113936, 546.8983956121733, 113.38291474896242, 218.37697423037912, 332.4690702692433, 444.1735878951895, 549.6410217636659, 120.70225020130891, 235.61530862719704, 347.33011801213365, 459.7359081459561, 573.7042723942604, 124.1870081514747, 239.913469480766, 353.00679907173344, 471.8004270965315, 584.5510552113847, 119.8172290140087, 245.31299745577857, 362.20853520940335, 486.7379837168913, 601.9005667104601, 128.8096066258145, 251.62975632159984, 375.11955960228556, 493.31081711690297, 621.3962117905819, 122.92201876400657, 250.20226747135297, 373.69379853274614, 502.4776084389714, 625.9441050299594, 135.3762611055351, 261.7292985058047, 394.0528849401554, 520.7662331128523, 646.7409944408929, 139.5832032441647, 268.77877346338727, 404.2510164899695, 531.5768147103037, 664.0265156983226, 142.37829733362986, 275.56759337649913, 408.74316436393303, 546.473155573408, 681.918466200211, 142.91236250167665, 282.2900439013692, 417.4265388613441, 555.5044630734365, 694.3130341044618, 146.04406199986758, 286.62314582450415, 431.55066758314024, 571.2817207403866, 714.552197811566, 147.91912839916174, 293.4125246168732, 431.69550205589354, 578.6189328012223, 721.6584931072043, 146.08618571978883, 294.99741558685804, 441.6181995856175, 594.5128815668055, 735.1322325146798, 155.02013742300204, 311.7594053253289, 453.72167414529275, 607.2943054033154, 761.6692793553257, 159.2576093131163, 309.5245920219119, 464.6634311254172, 615.1303009684207, 773.5938323979115, 156.33224243595882, 317.8875596057595, 471.94375543443454, 622.2835683311546, 785.5472021615468, 158.52977991269086, 321.3683349082982, 480.3569054620657, 641.4847583635052, 798.455777395201, 166.76736548054964, 325.2791251992819, 490.4369873739984, 649.695297083754, 813.1147613166858, 161.36524308711236, 328.82500212268707, 491.7682788836636, 655.0487340720006, 818.0023596677999, 168.2402310628157, 337.63078833283106, 501.5057774860834, 676.5672445322158, 845.3404734208143, 173.8672481502233, 345.4800121919201, 518.1707464355497, 689.2444367677908, 858.660814165199, 177.99772960042378, 354.73056869501505, 527.7072922471796, 704.999337955508, 875.094567201534, 183.50152467959438, 357.95929556427814, 540.6294947375484, 709.9762068961737, 892.2918817991799, 180.6791152338573, 361.59170279909625, 541.8752161641062, 722.069029546309, 902.4882192543574, 186.013680762217, 367.379800676228, 550.5644009358516, 737.3323938151309, 918.4038470757251, 193.93389324483587, 375.98042128646796, 562.0113379436829, 748.0638505303689, 935.1915441597637, 189.83352894172822, 380.6554363357053, 571.422021752058, 760.567177560516, 952.4869251868048, 193.66270196914826, 388.1787326664514, 580.5584369242996, 771.7360094460574, 961.6193502871124, 198.97535780186, 390.4345314958709, 586.2912277838485, 781.3737492738401, 977.8855769161505, 195.54269223700828, 396.89358535392233, 594.4447108563119, 792.7118308135914, 987.5155652078059, 206.96556176801772, 404.23981782164014, 610.0564624216181, 808.1830269596035, 1007.4098478748367, 202.23685983766381, 408.12294667207516, 612.0206839609341, 814.6840994783477, 1021.0929838878258, 212.9180796349298, 418.1445289321421, 629.3818854998904, 833.5658208909791, 1042.549888235463, 211.49955410775587, 421.4662145062631, 631.4680746475871, 843.2064449719138, 1054.4136723936774, 215.78226334724621, 427.71460331095057, 635.7892245477318, 851.1614116667718, 1067.7746387559928, 221.33079582371428, 435.988106816401, 652.2295857022574, 868.1668963359442, 1084.1212288266731, 224.3252450062589, 442.0558048909498, 664.9978741298712, 887.0067105622521, 1102.505347189509, 223.79748973502802, 447.598742543545, 667.8742607198313, 890.3492440155476, 1111.9759546495984, 228.63817129750498, 451.38171659305414, 677.167569369009, 903.1449231277579, 1127.7250303384037, 226.84896005260697, 455.8962282478067, 682.9301781981643, 912.3206008676891, 1143.250177306833, 236.11772322139163, 467.2318523725122, 692.0497617272539, 926.7246395167695, 1159.1305844582532, 243.0750862905251, 471.16997405395705, 710.5137717126761, 938.3269863302183, 1173.5036211422719, 241.8001189113729, 478.50081913273743, 712.5926135201726, 952.6941786884345, 1190.046689705877, 244.4900901892285, 482.6475292386058, 731.0359614921864, 963.5909714141009, 1205.7415663585177, 249.17501608810545, 491.7658108879081, 737.2517970507738, 977.3065938946504, 1220.5112934713588, 249.00624070787214, 492.76620764209326, 739.4971548774469, 983.7600058646539, 1229.4063394452746, 255.6480192788816, 497.49492254519066, 748.0818786590279, 999.1271505826636, 1247.617590461401, 263.03627824807006, 509.6175307079041, 767.3400134843913, 1017.1006667182907, 1267.6294766640945, 254.9219207984387, 511.7661270329386, 767.2560470141797, 1020.9925144285295, 1276.6827978837432, 264.2597187178288, 519.9246858461231, 776.111641516552, 1030.6669885011218, 1291.3484525515362, 261.6337654607257, 528.3659614337284, 784.8616722794101, 1045.3762426174644, 1305.6534163316621, 272.83514617502834, 534.0387072466657, 796.6812733277666, 1061.9377359054097, 1323.0092884095268, 267.6238991453877, 530.9498869102267, 803.8167653695582, 1069.8088008855846, 1339.5265513289291, 270.3037283626486, 541.40286640897, 808.9937784268302, 1079.9789509888367, 1353.274907763077, 272.62394648824386, 549.6451997921921, 821.5883437302333, 1096.0795050176123, 1370.1781829515362, 287.5816403322816, 556.3854121416935, 835.1818666132275, 1110.7410512340398, 1388.717627162735, 285.69124516966934, 564.5035303585094, 844.1706155244068, 1121.014347777981, 1395.4021590646134, 284.82368297714885, 566.8476637481631, 849.1402324251557, 1129.4212876917727, 1411.7230731090006, 285.44902531814023, 573.4514642472898, 854.0767314836844, 1142.193415746777, 1427.494805935045, 290.8740520265347, 574.7802533634724, 864.86839676326, 1153.2094851485099, 1444.036003514145, 291.64260159626747, 579.862798291084, 875.3652000958342, 1164.1766789112005, 1451.8732529606038, 296.7471910580078, 590.5200393808205, 885.0734008019762, 1183.2349168437654, 1474.3204730204309, 295.9383389188104, 595.0212136674307, 888.7587359744344, 1189.723378584815, 1485.2886920478886, 298.23885913383816, 598.2553574058076, 900.108887984007, 1197.5267277376702, 1500.120690991427, 316.23275975822463, 616.5977267743848, 922.4585276474609, 1220.0871092795178, 1524.4134307610757, 307.67478688187697, 615.4317092657577, 916.2197548078792, 1228.7911555653293, 1529.2804399130403, 311.78047520518857, 622.380410204497, 933.4107773960582, 1240.8127887431071, 1547.951733612405, 310.3370422210126, 617.8955099349325, 935.7986065299166, 1243.4124184401876, 1556.6820835290987, 313.7603533275249, 627.9294354743269, 942.7184520343881, 1259.338201196288, 1575.3891637265574, 323.8200548190895, 642.4745190336529, 958.1666845893983, 1274.8298801867586, 1595.1783454805172, 323.68447901567686, 647.1219008113013, 966.7532960835144, 1288.8792247545507, 1611.060634645857, 329.2558883026643, 651.1636673975592, 981.8203215894711, 1304.4785384994907, 1623.2378480679724, 326.99669411434445, 660.035524660812, 981.0380472851169, 1306.2544725880884, 1632.2587450949802, 333.42707147756335, 665.8587372171202, 993.2350142887209, 1325.8923900013574, 1656.2610555858066, 336.9691840967598, 669.9936285198359, 1000.5896682334, 1329.175445233939, 1667.7085284467864, 341.08121484451135, 677.2104037313932, 1007.0174904712352, 1347.3588632501737, 1687.043990431995, 343.89788819105166, 675.0183884814929, 1020.6293263794822, 1357.7876729073541, 1701.0463380993895, 350.27450828611506, 691.5899380627211, 1037.759149254133, 1376.821727850203, 1719.4409145305574, 347.1832860773786, 696.4383727189547, 1034.791791003492, 1386.4653814918076, 1725.3335261386992, 352.47452241907916, 699.5716925209933, 1043.731630791657, 1390.0033412026228, 1745.153718518761, 352.74006537148455, 705.2582101565574, 1058.749301136343, 1413.6936199877164, 1758.7183641484762, 359.04505421248587, 707.3219666009385, 1064.63095913982, 1419.5493701081743, 1771.4069506091375, 362.98735955139813, 716.2429057037234, 1076.482546938018, 1431.36929520005, 1786.785961754054, 366.1404517348849, 728.9003794862138, 1087.2264025568088, 1440.413759620716, 1807.5047959206715, 364.4316197300225, 728.8216937344849, 1093.33367088845, 1453.0981471395503, 1819.3449864497222, 363.33963792007313, 735.489333959387, 1102.1080511159673, 1466.682561846218, 1830.3585949528683, 376.35086847314267, 740.1197467312857, 1113.3634837734269, 1479.7146819162397, 1848.0398209358766, 375.380534838953, 749.9943272005901, 1119.82465364161, 1495.938283172197, 1857.4107666504601, 376.71085089850277, 753.9306546650172, 1123.3418030473968, 1504.5235807545725, 1878.2447801576502, 384.08402836244903, 760.705080897131, 1140.464427112927, 1515.0902215051497, 1897.283031567911, 391.0304133343533, 770.1039216269352, 1150.5589233139378, 1535.5548880649528, 1912.4206440523922, 393.29811915114493, 775.2078654736448, 1158.6705652270864, 1544.8039008941043, 1928.7063059766779, 390.1103382269895, 778.2363599382686, 1165.9197514681312, 1546.4652807846303, 1939.2666438721278, 393.50153386680637, 783.8478038602785, 1176.397785559055, 1566.6344361291976, 1955.724076797658, 401.0032709467544, 788.0624793652524, 1181.8266270718934, 1578.9435605374833, 1965.9959299259533, 400.3867534141911, 803.8754985722121, 1200.6972247321917, 1592.4677449711178, 1987.5821192226092, 405.6633222761251, 801.6268685623941, 1205.4334302964894, 1603.0311507059705, 2002.0098373776268, 405.34318333279145, 809.9346747918988, 1206.0121767342755, 1615.2763492784034, 2014.2655289603827, 409.196361062367, 813.236992718684, 1219.902266538107, 1621.4610718854387, 2027.619153294129, 410.56427621506117, 820.1433396363861, 1223.3282312399435, 1632.3933727675444, 2038.9974600754012, 414.38194336822716, 831.1733058011945, 1237.0270202371762, 1646.0271009599003, 2062.09651954338, 414.91217878547735, 826.3529346168267, 1244.991102415903, 1651.0253738099102, 2070.0243310005626, 419.50688906398824, 835.5247243533787, 1250.9756413777095, 1666.7149122881917, 2085.274032590159, 420.79423187096825, 843.8673614519639, 1261.7762019956472, 1679.8120926300599, 2101.6347207213234, 431.47577823902617, 853.3666591800196, 1274.9758034508068, 1698.7280266941802, 2121.6134783779953, 426.8410927899252, 861.4101099571916, 1283.7416208966617, 1703.8073781890002, 2136.6851455407054, 427.65379449963456, 862.3688425610976, 1285.6054717632428, 1716.5379256440049, 2147.1876737832135, 431.59439277943085, 865.0031215966878, 1301.804638567043, 1733.698110975206, 2161.926545654433, 435.6804662231304, 877.0943311431021, 1307.0724654932274, 1744.0062709436613, 2175.5100798699696, 446.63335049714726, 885.2033355317135, 1323.0968396314856, 1765.8204921261358, 2195.0064785845307, 446.90159224771855, 883.634221737303, 1331.3751044400458, 1769.3262578527017, 2209.6773575339453, 444.39367196498534, 892.7649586790433, 1334.3071511469466, 1778.2485022074293, 2222.64383046336, 448.3982560788661, 896.0205998115592, 1343.655300264356, 1793.6865887459794, 2235.9767172373513, 448.91569031578786, 907.1336859375559, 1351.090271120342, 1799.2152359611357, 2250.5962952233963, 456.7519834547833, 913.1552457719662, 1360.3303772928623, 1817.6694607398463, 2265.2117447116275, 459.1354523647538, 920.4967317291863, 1373.8148825006351, 1833.1636502299903, 2288.828456014326, 459.93848101249705, 921.9165211079851, 1376.1562637327866, 1836.6188513028508, 2295.8875610514315, 460.87211848562833, 925.4767486422584, 1388.7652648602611, 1848.4619722040516, 2314.4289530678134, 460.7577825111669, 927.3177399720228, 1394.2492210203536, 1856.3513934213152, 2322.0576828618655, 468.98810546246784, 933.1419590137405, 1403.4732929107013, 1876.6958786449113, 2340.042897640644, 481.44902917939515, 945.9323619695289, 1423.900445113998, 1889.400784816641, 2359.314485716363, 482.71368839021466, 952.2032604028377, 1424.2432688361946, 1903.222410997873, 2372.9901954609845, 482.7795780145136, 955.7977534843044, 1434.4404772308658, 1914.635930204971, 2390.599882951395, 482.0299302289829, 964.4189995233531, 1444.1945303027092, 1922.016892866038, 2402.3799986084477, 483.3948863346724, 964.874807559076, 1449.8981481577698, 1938.7598690604934, 2421.425045413171, 486.8227802678593, 975.458447475293, 1459.1504821505905, 1945.5173331778788, 2431.975477292504, 492.95201304347626, 980.2892570084533, 1471.871775915768, 1960.2453122976424, 2445.3778880354025, 495.59606888344626, 986.5414262322736, 1482.2850124621173, 1972.26263751747, 2462.5255593926927, 493.08238863512145, 993.6267736187918, 1484.277268769012, 1976.6424252085426, 2477.2995421657697, 502.42398997051953, 998.2990183630625, 1494.0339356634997, 1994.0424492887566, 2490.5513243015525, 509.6593740648395, 1011.401298731087, 1512.3018260942692, 2010.8607188799838, 2509.9647377691495, 513.9452732993532, 1017.220653384084, 1520.3962000458039, 2021.1959968998794, 2527.757446324756, 511.4676562838433, 1018.2142952598053, 1520.0905536863652, 2030.1395903407006, 2539.489856745246, 512.8633820942149, 1029.233921165041, 1535.5199184504795, 2045.4406350382092, 2557.784134872552, 509.00027546776613, 1022.4826549648386, 1538.2259875887223, 2046.0424864099864, 2560.9518370898786, 517.8792963643507, 1033.4634020006524, 1552.0491891760141, 2066.29185216139, 2582.6063287169727, 522.717561999161, 1044.8211054946426, 1558.7834090272281, 2082.377545374028, 2598.637384911997, 531.3495249061942, 1047.8340602287772, 1576.7333099001185, 2093.494167593521, 2614.4159466702954, 517.4539787009131, 1046.393256877911, 1569.5992304973909, 2090.7556015683717, 2622.9800597707963, 534.5796859023194, 1062.2907950378078, 1590.6519277344196, 2117.550939171928, 2646.1705505719788, 537.4950108827289, 1069.8465372396993, 1595.2650833816906, 2127.471220176126, 2657.717418810916, 544.0651477253688, 1076.8841043909988, 1606.4026634812435, 2141.9887289586877, 2677.7385633622926, 536.3654549331045, 1073.772098841018, 1610.0970491485068, 2148.1944205346804, 2684.812968214733, 546.48180542542, 1081.160752018661, 1623.5540746882612, 2162.3000653554814, 2706.4601025305506, 552.1481144354261, 1091.1566590118978, 1636.3945929067181, 2176.5179182217253, 2721.409676878773, 552.5244999760099, 1098.3292212239096, 1644.7759802651033, 2190.150152128413, 2732.6876142317024, 553.1358778088005, 1101.9805784204914, 1651.1599359289803, 2204.495027254961, 2750.380242321634, 553.3184610492311, 1105.5971598510027, 1656.4574405364356, 2207.82946713253, 2762.2637372893487, 554.7508506566337, 1115.3174874589529, 1669.5879783592568, 2221.532979291137, 2779.449254731914, 560.4490790873776, 1117.6791200213788, 1676.8745611254462, 2239.282315098835, 2790.486899664573, 568.7055000162395, 1126.7187186313845, 1691.3263925959645, 2252.530105973701, 2817.2180438208457, 562.8561054418301, 1130.1049521808989, 1695.78263993959, 2259.1399807913135, 2824.6524759699096, 564.7983457589787, 1136.43526151767, 1705.300109358139, 2266.382220592354, 2834.326771391702, 575.3815666956614, 1143.9080586163318, 1714.938789449365, 2278.410344580727, 2852.6242109865175, 572.540212453201, 1143.3346374976777, 1718.4356926137207, 2291.1299596328813, 2863.0072494725564, 571.8566289196151, 1145.7325762726473, 1724.1064186504925, 2302.4392131224326, 2877.9744699310595, 582.8210161818574, 1158.3633859815336, 1744.2904430954209, 2319.454779272614, 2901.011747341282, 588.1122434218196, 1169.7395825643748, 1753.392790420597, 2336.165934391911, 2916.2766578820742, 585.2492280383423, 1177.339075017856, 1757.4952492263799, 2342.0880425448568, 2931.0379796427924, 591.6660178085126, 1179.4589542303136, 1766.000711326205, 2357.6044686611135, 2943.2949245017858, 601.794119886747, 1191.3823084220414, 1787.3862450425872, 2373.792327174792, 2969.8956031509833, 597.9382003801429, 1186.4101842538464, 1785.0192292522277, 2376.703207315675, 2975.1794532891017, 605.3495069071798, 1197.4298660176373, 1794.0825875946211, 2394.3935007482487, 2984.3093843922907, 606.439521063108, 1201.466300776441, 1801.1160571271887, 2406.105654191511, 3007.464735515177], \"type\": \"scatter\", \"mode\": \"markers\", \"x\": [0.20632198707503424, 1.9304929630013534, 1.1664142262787442, 3.6351164223747703, 4.116028084478673, 0.8331036532460205, 2.4704307549637434, 5.184577102097952, 7.091645931279971, 7.763963763848228, 0.8789312468281798, 5.7737847884231694, 7.399030783429779, 12.555856061378515, 13.697702627964963, 3.4095557287977902, 8.921177599764732, 11.303610470007007, 16.20256496943907, 21.097931253727342, 6.091079915723084, 11.064516772212214, 16.537310144409123, 20.945025682155084, 26.82293841531224, 6.168096076071729, 11.644999419034587, 17.893595174077802, 22.741827597878583, 31.244377272998406, 7.814045542860914, 12.611528208929853, 22.18602876181242, 29.242416648478304, 35.093828860410106, 4.788154619887585, 15.203834586138555, 21.144608976917365, 27.320184298681205, 34.81290770278413, 9.653738190852495, 16.739998612624394, 27.969860161435914, 35.20885222368619, 46.13637116773439, 11.948992161643703, 20.996823054629665, 30.52011197556122, 40.318493605821445, 49.03424989623911, 14.10954440992522, 24.536664067369255, 36.50704030380912, 45.76953664445004, 56.53327251522867, 10.58226033404573, 23.771128774451665, 36.548098382473874, 48.28803957875176, 58.36340447370069, 12.954802383316679, 27.74801553427633, 38.4387832968054, 52.37943398913107, 65.67882212737484, 15.683505240224122, 27.48127040753876, 43.830931536272395, 56.439799333153324, 71.36720428588566, 15.080105935433503, 29.798259471135754, 44.12893992324942, 59.36081141147949, 73.43658896933361, 16.301224584608175, 33.41757867278689, 48.74700314207564, 65.86323440067736, 79.52798945300789, 16.330211977794654, 34.21671532300497, 50.26273342279981, 70.06968765803983, 85.27772399222327, 18.852677672947454, 36.9035792265785, 54.31676019521665, 72.29326481502133, 89.63905671814736, 20.28499395272521, 38.77241645935957, 58.55993298255211, 76.65438902834327, 95.42088294765566, 17.986619367301785, 38.354474086314944, 57.6225248293502, 77.30730400429572, 98.8583886931774, 18.462045316769153, 38.487982737173866, 64.00661299122511, 83.11044685714504, 104.62972966613901, 20.081570493905225, 44.024335967823355, 65.9472431035322, 87.454219067181, 109.32472189768795, 20.17842034972728, 44.023274194951, 66.87669958846432, 90.34253975595738, 114.83784081043233, 26.889682655060607, 48.440515978944276, 74.89742425301002, 99.45696454073322, 120.0622471341416, 27.018424312727525, 49.51176142876295, 74.44681765160378, 101.20063469544851, 125.3835274742378, 27.69454533018891, 52.02367921946739, 78.83880610686475, 104.83232108614074, 130.83410881745016, 26.365745855674806, 53.67898362643114, 80.74656233794951, 108.32513342319473, 135.33582808499716, 28.104695096364424, 55.12855125763326, 84.22503875342531, 110.22530235186672, 139.16388289824596, 32.576874714008284, 59.91722955865244, 87.09027370414415, 118.39786642807537, 147.3156530384072, 31.91153178139145, 61.158240031993884, 92.12128386115207, 119.56767344101928, 151.93407339402168, 29.99030171058144, 63.417361591578675, 93.13081512979808, 123.8530162647613, 154.08200499998196, 31.41035452459958, 63.214458895586795, 96.0940111758482, 129.4356897862776, 158.88965968696428, 33.545017031452815, 66.00630789932734, 97.72890999919522, 132.96589662663817, 166.58622557633672, 34.12996371370029, 69.22909641986213, 101.84786549449075, 134.67590653469705, 169.22053254931188, 32.802300158890255, 69.83844847963194, 104.33452544013464, 139.24252324855243, 176.49175916831672, 37.99199188124061, 73.9320613449202, 108.07504385880118, 145.5766154218957, 180.67160270896053, 36.40812766773395, 71.44897877887114, 109.81864355508215, 147.2010581285343, 182.14082665069887, 38.67456152369475, 77.9286359064873, 114.41471708984062, 152.48950370006045, 190.2268814960867, 41.02424668710424, 78.63419191487304, 116.21009517448604, 156.45278863557098, 193.9691126480363, 38.8985494137828, 80.38228186485918, 120.21752319623084, 162.06365681977135, 199.97729385876517, 41.47379925339277, 82.93250328123422, 124.04622627057238, 163.51274449816356, 205.84672486680756, 40.4173564317343, 83.11413422668842, 123.72829815317684, 166.55609536530608, 206.7896570719088, 44.496536688491496, 85.72694234182562, 130.16422598586203, 172.64707397781774, 214.76120490967182, 45.608220681033046, 88.86998897602096, 134.28788866678673, 176.44884813160462, 220.48770196054724, 48.09707219323055, 90.81369361405112, 134.94274168143122, 181.69285644701094, 226.16282689828685, 46.22317629284549, 92.68001209199211, 138.55266646028423, 184.26186874093844, 229.93770725895078, 47.565875943209385, 94.921793579323, 143.59013718891228, 189.40253925303065, 237.31708128446058, 47.43555763454113, 96.88995646910196, 142.7955881196271, 192.15991102790343, 239.10080385092928, 47.315896057448064, 97.34605050965335, 145.88392987800296, 197.09424710714075, 244.7257638998866, 50.04788552811173, 103.34179047868012, 150.64408055409694, 201.36797888399497, 252.46495684649472, 52.13693155039986, 102.53496070277382, 153.31410060032152, 203.56839718204773, 257.11691284565865, 50.54186844351348, 105.41295104110176, 156.4092792198866, 206.27196901812295, 261.2287594007828, 51.94272329909361, 106.12641997442176, 159.03737994181208, 212.90470872362866, 265.9316758382919, 54.72387445048714, 107.12139995472526, 162.65227030696752, 216.0724995600631, 269.7009704354792, 53.38271820435839, 109.41521089114444, 162.7819668424843, 216.90117910367252, 271.1569922071961, 55.89425188391022, 111.11602714502551, 165.3550281688098, 225.28926840953758, 280.74800300267475, 56.27057701316175, 113.54923216762914, 171.74879212823404, 228.76748087286637, 284.62886532437307, 58.553016714646695, 117.37259807600759, 175.05226102627793, 233.78273657347742, 290.5757109270937, 59.99215516219337, 118.58211335386315, 180.18754540934503, 235.06906588576962, 296.2351298648432, 59.5095024896763, 119.9616292024252, 180.0219005981169, 239.60457016216844, 299.6936932049179, 60.58154385436945, 121.21185166167245, 182.20105269540517, 244.77162323977777, 305.611948008943, 64.7596397746293, 123.41257939372632, 186.24341689573896, 248.4634978687109, 310.8879173940213, 62.5111063523789, 126.13254334030596, 188.8829062251207, 252.57071493186558, 317.13529819773464, 63.71907494103992, 128.3457731859177, 192.96800184225435, 255.67760812035738, 319.5096175518208, 64.98527381806343, 129.35864408835803, 194.4155574776401, 260.2689972421869, 325.0223198903248, 64.79734717522041, 131.23488608786866, 196.92171579722378, 263.47406860494954, 327.2374495658894, 67.92966911240964, 133.24908982156617, 202.6319428079547, 268.3279043925643, 334.6244822702568, 65.93859629508914, 135.4004627310266, 202.94283609845263, 270.7249780314474, 339.7220676698747, 70.04126791734765, 137.81977415539447, 209.6824649520834, 277.7003862758103, 346.0306649746149, 69.72876763148165, 139.7395378118639, 209.62904188391263, 279.59272081894187, 350.4145240413602, 70.58576383376379, 141.71152291940496, 211.32530249624415, 282.8131890920461, 355.352560888344, 72.44617224224311, 144.91975747892283, 216.34602235668106, 287.75160479137423, 359.6716201019657, 72.94213456725343, 146.15645098791947, 221.53803681508109, 294.76951250680816, 365.7839766551023, 73.7521374309621, 148.98954928913838, 222.04151003810065, 296.1907982138355, 369.3560912187262, 75.2174075455728, 150.0042495988613, 222.85016793804837, 300.8293910753122, 374.32643093568413, 74.47798979379968, 150.88084569393047, 227.04708961201538, 303.27093418063845, 380.5098135103502, 77.44068310497673, 154.26892012691232, 229.75205493853974, 308.1249211665734, 385.33016510093455, 80.33540020974067, 156.2728091633679, 236.124277173687, 311.5189851908776, 389.7868152192826, 79.30203841017295, 158.6320785117817, 236.5565930631814, 317.2298658818795, 395.8633488399368, 80.05575736879715, 159.60623235848234, 242.9717253499899, 319.87819709251653, 400.51051730288424, 81.64089486858832, 162.6959308636033, 245.2601147870314, 324.7726715628698, 405.59353369342585, 82.98899170522196, 163.50145323426452, 246.21748007587027, 326.3887634814318, 409.2476367981947, 84.38817772780821, 164.47667242520106, 248.3841282635868, 332.192845687858, 414.79684356020977, 86.88664396901355, 168.49308142041187, 255.56761956221465, 337.2607296218124, 421.2008757077861, 83.86196275455657, 170.0749674397873, 254.68652661430826, 339.5334331067803, 424.2187813204648, 86.85912661731163, 172.1608239868636, 257.5341763332518, 342.8183856672121, 429.07960939430416, 85.6781872849867, 175.3536719025267, 260.50936749651845, 347.3357226085324, 433.96256398954034, 90.3409284870222, 177.41283725050633, 263.95732195208313, 353.4441375366983, 439.3008235721131, 88.85020886210373, 175.84242031815336, 267.7648035765971, 355.44883376888737, 446.21619071532785, 89.10011048397337, 179.72026233371503, 267.9997340466819, 358.99313757843714, 450.5648246028321, 89.11849172562529, 181.664749982593, 273.0449515881065, 364.1660473222104, 455.7645731531568, 95.08258801226685, 184.49189011518408, 278.0379825728314, 369.4568623690819, 462.31117933867705, 94.42656817472984, 187.2804039599331, 280.6257000777589, 373.32905848791836, 464.3932396372918, 93.25551661245831, 188.22839858362582, 282.7630904718215, 374.8460952422735, 469.71933310506114, 94.22921626473202, 189.87600001175392, 283.6630541301956, 380.0727045497862, 475.07623462590414, 95.31056711883748, 190.40800315876402, 287.2465966039668, 383.5580290647501, 480.36923456626886, 96.15900324570453, 192.29128973818763, 290.5397262924371, 386.61574736435006, 482.81455415945, 97.69646053608027, 195.75120458903623, 294.12868064934463, 394.06950846468567, 490.9115375106618, 98.23301735305193, 197.23139125514794, 295.0554321815867, 396.3351558050756, 494.203081418064, 97.43867837987374, 198.96301873488264, 299.45272517902185, 397.7344326638487, 499.3325163344341, 104.1623250236821, 204.80118549035484, 307.1123188277713, 405.13736930004944, 506.8438912949405, 101.78580035501044, 205.10343747143128, 303.96673447198066, 408.11479677934125, 508.24239982550694, 102.95350570653541, 206.97726847884687, 310.27251538901186, 413.3538232014418, 514.9540433607873, 102.006565429901, 204.80496148943283, 311.2856181017215, 413.54055626753393, 518.165228125778, 102.84819646644908, 207.96930673999913, 313.53761392978134, 419.1940222340262, 524.914804511438, 106.86754479362112, 213.611905357028, 318.5962719027281, 423.6607658470536, 531.2789921065435, 106.56876389126106, 214.57360591966219, 321.33670875414464, 428.7231658206063, 535.5414459814933, 108.07309796530032, 215.38782854511692, 326.5514190046693, 434.20318368031786, 539.1283454777678, 108.22939751451887, 219.6903854626887, 326.2940112313824, 434.85824789433417, 543.3168027346187, 110.10641456743242, 220.45192259085658, 329.7643248587755, 441.0874779924209, 550.8848348230728, 111.24815870803754, 221.26681818242113, 332.22702054320007, 442.48120016784105, 554.6710658475389, 113.08022726938901, 224.49886828522762, 334.048352613403, 448.1319265717771, 561.6515982257803, 114.32244114465023, 223.15283675420315, 339.3749145794527, 451.38040895251345, 566.3915223253512, 116.36419945153479, 229.53723955635238, 345.01037540313104, 458.16184140442164, 571.8187697226413, 115.44470782615208, 231.9089140845331, 343.6107600864232, 461.14894481025016, 573.8730026168892, 116.29228061925288, 232.2524965303392, 346.7925378898609, 461.58769063424444, 581.8490732825289, 116.02311490876896, 235.1538900671387, 352.14687522792974, 470.4494325472369, 585.0888620249774, 119.07110596942556, 233.90672239255025, 354.7325719172692, 472.48439386473245, 589.2080592059442, 120.7257423204181, 238.71878993810284, 357.7027323580391, 475.3686550819571, 594.5720689848582, 120.26306560265817, 241.9542897808422, 361.0789321263673, 478.4828377330195, 601.6929495435927, 119.78875385243269, 241.66121211328743, 363.21642103469, 483.0782003696183, 605.7593894656052, 119.23668484017992, 244.0334406463188, 366.22916476727625, 487.74307292260545, 609.5237890812641, 125.16534478323024, 245.4838169990245, 370.0109572778075, 492.3857277382537, 614.2813525886071, 123.8058085405826, 250.2103838362047, 372.3685483535268, 498.1458325510455, 617.5854375137845, 124.66536868768593, 250.86180965781963, 373.33500248629457, 500.7191025337968, 625.1148103179063, 127.48075330391572, 253.15518389503762, 379.3575827211203, 504.5425085340308, 632.3561981885101, 129.11761025255637, 255.4914931387824, 382.02154271732326, 511.6197484255609, 636.5051929528119, 130.736037560978, 257.2682901622279, 384.8570079278293, 514.8537116847656, 642.1246331463472, 129.57979065887474, 259.3699044649289, 387.54557370066334, 514.8055826527296, 645.4843670400708, 130.09461286769996, 260.55621959252943, 390.3972087320953, 521.3585213338486, 651.29395229678, 132.58388401153016, 261.15371543318133, 392.5713828525335, 525.7460758872259, 653.5676857708299, 132.73332710892544, 267.4663225200916, 399.89564337943546, 529.3245377800504, 661.4715216147581, 133.64948970406778, 266.01500510655165, 400.5258247754763, 533.6924911590476, 665.9909568453498, 133.4307329836099, 269.3155450176758, 400.9537447210347, 537.6039880895784, 670.0072132921695, 135.60590635477664, 269.7889557802238, 405.14205850649915, 539.5462727329987, 674.5311248895857, 135.99227602533813, 272.077842723003, 406.5630265348976, 543.1799267506459, 677.9744215212062, 137.19722500176678, 277.02053487784747, 411.08196945836164, 547.7782413727957, 685.6846542612057, 137.7893003474756, 274.3284893595138, 413.9735686594889, 549.5027163930793, 688.2164594368639, 139.1177003235003, 277.55232932457795, 415.71635831794805, 554.2039990471803, 693.9588956565756, 138.68084553208328, 279.8513742103421, 419.74398618907145, 559.2211048530279, 699.3073131107437, 142.833751193774, 283.42362517826416, 423.91705774293786, 565.1273752650073, 705.6504390204911, 141.58898208527145, 286.22231368993266, 426.4581906797341, 566.5635611008931, 711.4017964015104, 141.4998717379725, 286.9018112311899, 427.2391747553606, 571.0322395215267, 715.0074322247574, 142.73455185154978, 286.76568647580484, 433.24737897277015, 577.5399882157335, 719.4735544206437, 144.9159446026747, 291.86129580433084, 434.34535279933397, 580.7196665648345, 724.8483958227129, 148.03053889339594, 294.1281515330642, 440.7746351067003, 587.7938051488493, 729.7455239291819, 147.11867781818137, 292.8122130545399, 443.53039661157237, 588.2493849629867, 735.972070918572, 146.89219444985363, 296.975727871442, 443.5271056313697, 591.8580841610858, 740.177214790337, 149.07075065490707, 297.8143530423497, 447.50912556393223, 596.4755064074249, 744.742591550836, 148.19190717648675, 301.665909868979, 448.80120389306865, 598.1794624845019, 748.7172400134647, 151.52832315321768, 303.27433455949443, 452.5972172152856, 604.7895823893937, 753.4773855126565, 152.28044004234786, 306.75917803025, 456.07594521588095, 609.9134870139176, 761.8511757704368, 152.67696500453835, 305.85704797621094, 457.9940591720845, 611.5412235459576, 764.7970045288192, 152.34510480861812, 307.4431852766486, 462.7132383318851, 614.221463048517, 771.1158429963752, 152.826291446447, 308.6696588934758, 464.52214754773354, 617.2076412908415, 773.0334310001518, 154.82047672513835, 310.4404843121053, 466.52237797815474, 624.7609177064298, 779.932921797948, 159.55833250315067, 314.7151698857985, 473.20561927662413, 628.2942114977238, 785.1154703542979, 159.8763722337703, 315.6742400421737, 473.55611972540413, 633.6553569438444, 790.2586586112011, 159.7042867704063, 317.4928709829258, 476.07664844722257, 637.4372014223757, 796.3025280647379, 159.29483131641692, 321.35535590817926, 480.59236683273457, 639.7015678145254, 799.7006724854011, 160.63543176167843, 320.1417980713824, 481.8364515127741, 646.119556475463, 806.3710266902266, 161.4576741848298, 324.1658649509169, 486.2675347383737, 647.8249874005573, 809.8473002169309, 163.46132839478182, 326.1710816838295, 490.554014743083, 651.8915532521148, 813.6428152275013, 164.68298233960837, 327.6082243272827, 492.8596301417278, 656.6421872796273, 819.7851006281846, 163.66430941551857, 330.08999913661927, 493.9487413631159, 657.9344191258274, 825.1453272747516, 167.09987838255375, 332.1443510251505, 496.6927042159842, 663.6067091641357, 829.5752907626912, 169.07012203457273, 336.33491118196577, 503.28185419581945, 669.8744604936385, 835.9828783226774, 170.6917894901195, 337.19389730355914, 506.4851073583701, 672.3318561836182, 841.7655657616067, 169.6084918372592, 337.8556339393834, 505.4593517110806, 675.8972463464854, 845.5746641383679, 169.80809010852084, 341.9969102387314, 511.33960166752985, 680.811608698095, 852.2224720284673, 168.72937511412442, 339.8552889998174, 511.99860140350916, 680.7822000048967, 852.4130790477294, 171.66848463779755, 342.888170839415, 516.7091019338044, 687.7525883361648, 859.8795487000006, 173.00381820371217, 347.8919984077836, 518.5231596141368, 693.5191181723822, 864.8490661306097, 176.57182335314684, 348.0044531262637, 525.150244924454, 696.563148935263, 870.5991672605793, 172.43228449071435, 348.77745556311174, 522.0196585923424, 695.5367395018407, 873.6236039142362, 176.22686166538753, 353.28671572091287, 529.5487197840532, 705.2013297557482, 880.3644614066689, 178.33075348568966, 356.1987219336356, 530.6069273207113, 707.8714666348067, 884.2814033184134, 180.50477491600816, 358.09962824922434, 534.730058774296, 712.6172549187593, 891.2480270313325, 177.45193376853825, 356.6473484439001, 535.2450033012041, 715.4701648016701, 894.1054512824999, 180.95670136696194, 358.63186359782287, 539.9631548934633, 720.2797079531191, 901.1885451584347, 183.26967283313252, 362.8917969731827, 544.9425637867774, 724.4662708728656, 906.0721713583227, 183.67922422310914, 364.9569500935064, 547.4324764264072, 728.4417125086746, 908.7908747777394, 183.06359020809813, 366.6676720326594, 549.4013972698071, 734.4571455013819, 915.7441163128624, 183.73745451735556, 367.2972031262065, 551.0121744934753, 734.2058599598394, 920.3264638341435, 184.35008734305683, 370.0782778989722, 555.4736634478795, 739.6452033021166, 927.030704847803, 185.95494073874852, 371.37896620860704, 557.9196697666321, 746.0040328785194, 929.8154676455904, 188.9043198190262, 374.0015311700554, 562.7495056170294, 750.2838039117236, 938.3619843517715, 185.68256136739646, 375.86014971706163, 564.115520578199, 752.137266187176, 940.4524455124075, 187.36226645874456, 378.0424982737215, 567.3061563245188, 754.2190990413246, 943.1973508536079, 190.75683391857626, 381.0261843977037, 570.8928856940471, 757.8103356215192, 949.3263154922075, 189.35937737044222, 380.04452289059515, 573.0434919076105, 761.9391804156533, 952.5675914419394, 189.7631511563518, 380.4510964945904, 573.3073085331636, 767.3670199602427, 958.7903575176535, 193.5139496953512, 385.07756072607265, 581.6178937198258, 770.6974551425385, 965.4897067769366, 194.2544034105818, 388.8603887200671, 583.4046197407, 778.2724288642353, 970.1577649964584, 193.13718439506678, 391.34203245372044, 584.5752571909295, 779.9205116296833, 976.1538007340985, 195.79178115919433, 391.9454028366485, 587.5491984622441, 785.8714451238563, 979.7206325480607, 199.17089581071122, 395.90576334975844, 593.9199191103205, 789.1122568891881, 988.8851919240635, 198.3654158048019, 393.96279902336073, 594.173993439, 791.5393440428742, 990.8744018744691, 201.47251042455122, 397.99499682793515, 596.7909287155799, 797.5271193928189, 993.366707850139, 201.20905579829636, 399.5005203586522, 599.5856289410758, 801.9586269891822, 1002.0649058766783]}], {}, {\"linkText\": \"Export to plot.ly\", \"showLink\": false})</script>"
      ],
      "text/plain": [
       "<IPython.core.display.HTML object>"
      ]
     },
     "metadata": {},
     "output_type": "display_data"
    }
   ],
   "source": [
    "iplot([Histogram2dContour(x=x_it, y=y_it, contours=Contours(coloring='heatmap'),showlegend = (True)),\n",
    "       Scatter(x=x_it, y=y_it, mode='markers', marker=Marker(color='white', size=3, opacity=0.3))], show_link=False)"
   ]
  },
  {
   "cell_type": "markdown",
   "metadata": {},
   "source": [
    "The Contour Histogram shows the observations are distributed. A higher contour line is denoted by the change from the color blue to the color brown as shown in the legend on the right.\n",
    "\n",
    "Two things can be clearly seen in this graph: First that most of the observations are in the lower left hand corner where the color goes from blue to brown and from there it increase up to the top right hand corner.\n",
    "Secondly the trend included in the DGP is clearly seen by the almost straight line off the white dots in the graph (the actual points from the x- and y-coordinates).\n",
    "\n",
    "#### Relationship between first-differenced $\\Delta y_{it}$ and $\\Delta x_{it}$"
   ]
  },
  {
   "cell_type": "code",
   "execution_count": 235,
   "metadata": {
    "collapsed": false
   },
   "outputs": [
    {
     "data": {
      "text/html": [
       "<div id=\"7256a540-659f-48e6-a863-4d21b902cc4d\" style=\"height: 525; width: 100%;\" class=\"plotly-graph-div\"></div><script type=\"text/javascript\">window.PLOTLYENV=window.PLOTLYENV || {};window.PLOTLYENV.BASE_URL=\"https://plot.ly\";Plotly.newPlot(\"7256a540-659f-48e6-a863-4d21b902cc4d\", [{\"y\": [5.1292673903988835, -4.57635307260991, 4.676180639781049, -4.05800966577068, 7.925934906874683, -1.7141303689214755, 4.138371525229065, 2.7476225213896566, 3.35150392312274, 9.313360700150266, 8.267193579621821, 4.452988882941764, 9.141644337441367, 7.70766516150039, 7.9316543460007765, 6.917123003648072, 13.84821400670079, 5.3982954174572875, 21.814248513203445, 8.53391699899666, 18.695938801036412, 14.613024901939092, 12.58152378903943, 14.569711345823109, 17.794770860174722, 21.377605905636926, 17.41936542492779, 17.471085242728677, 17.981542989718687, 23.44960062910951, 24.356539856693445, 17.760863466301245, 24.677252234383978, 27.43139335746909, 24.37507563295965, 25.52804798865077, 21.878632241141624, 24.378135319277177, 32.2056056210035, 26.62854350128555, 34.64227577425211, 30.608179556174903, 27.81348030544683, 30.54660516471418, 34.20750768695428, 33.81767755802194, 34.631213324025424, 28.747913226934173, 38.899236796399805, 36.24084766738905, 31.077263878978812, 40.813799601574885, 41.23078440015196, 36.18781983623509, 37.898689289997165, 41.26593567337858, 40.80800519025262, 41.36689336027678, 46.2980631663724, 38.36690869706459, 44.416018939500944, 46.43508649113225, 43.79138966333056, 41.799168580295486, 42.31994745344225, 52.21109835430808, 43.89666812383126, 51.79204582115099, 53.2244092543644, 48.473751875352505, 53.137931933496844, 46.47951636857047, 56.51570681374966, 52.36439822478057, 52.15125632610574, 58.55574086438682, 59.912989847583844, 56.114884201524035, 55.5150168760683, 57.28019906334734, 59.819918461675904, 55.568023112358006, 63.38207798980332, 56.79700686846928, 62.252707253184866, 64.45267440276916, 60.270245269586866, 65.81624711969494, 65.79112390791433, 69.31409254021762, 65.09810398980525, 63.67419616739778, 66.72169110285711, 68.44678577707592, 70.6398343170003, 67.43484589562104, 73.36122883973563, 67.76632648552192, 74.37511397996582, 73.53821841286452, 68.75236847118673, 80.54570975568643, 70.32380822600541, 74.83190676588043, 71.3595757908506, 81.55248686128132, 77.26206652426609, 77.02572101201889, 82.5383682530772, 81.19725188353479, 77.33164345274696, 83.43664974023932, 84.36148547113005, 81.39218638280272, 89.3798220948268, 81.20548873032885, 88.61834687431718, 87.74561846805946, 86.97152476102167, 83.80311518575195, 86.87357625609579, 90.03483726660045, 90.91105210073977, 91.23445485703968, 90.1871410964407, 93.34606048368806, 93.20002533293064, 95.69425377082723, 94.99527478946546, 96.28875499763691, 89.87008500633078, 100.43239640843552, 103.2222169391314, 94.09989709906748, 100.60085441223492, 98.33793670624237, 102.87543854880688, 103.25185925087732, 99.88149093515261, 100.52240642503654, 107.84336651174021, 102.16991810461491, 104.16458051071112, 103.22265041966324, 102.92989974570173, 107.3219102637641, 107.2408566929223, 114.97854474629509, 114.56034893974683, 111.18261282744729, 104.28911679923141, 115.06244491811043, 118.55235670524407, 109.76166175869216, 117.51903564586092, 114.3866654878434, 117.50670946068796, 117.45957918734618, 117.42005964569051, 117.86020711010474, 118.65972192368494, 119.20983404252962, 121.11889600094804, 116.37374002176426, 122.87389669166265, 115.59984661314252, 126.8471884490861, 123.23936954790258, 126.59125358871839, 125.24998057862592, 126.85423507680173, 125.41874760848009, 129.21836636837662, 131.54999858287076, 127.81774610623495, 127.57031062104545, 132.75908867638873, 129.98471347250273, 132.92969654282973, 129.89193363188656, 132.82972306904344, 134.36933146919029, 134.36619007291142, 136.21665751914725, 135.92803126176312, 136.89029672984606, 139.4298637974369, 136.7758136926177, 138.99722352244999, 144.5785402491988, 141.39182911389582, 141.93741790213994, 149.2767064728543, 143.66523296322214, 140.32028510515, 147.1809073759299, 146.5728966112435, 143.9878767098968, 148.90475885705797, 147.58864880261592, 148.9009013264734, 152.0248054700475, 149.01807678633782, 147.39099930692453, 150.5918045015281, 153.67823817484157, 156.09601532167125, 146.36084050954344, 151.93131499022473, 160.47400755299418, 152.4384574553635, 155.49745230259884, 158.5222862611675, 159.54684015378638, 157.21861749482895, 159.19331032523155, 162.48969761067758, 160.2792858005585, 166.21158679357814, 160.9223255713223, 166.59070731836215, 159.2760447833018, 169.63618653413857, 166.15694631203849, 166.30105927195441, 169.27844951249944, 168.01991618132672, 170.49240790796875, 167.39017265921925, 170.09736948192796, 172.38913170317517, 170.43154721446035, 175.57714853165334, 170.00181003343107, 178.34639694167083, 173.77439013899527, 170.84391114497356, 179.86002697995775, 169.11760061548262, 180.14171491993693, 177.6695786985169, 180.92320763489624, 184.23937630832677, 173.86134197314084, 182.1781527282216, 185.88132523514673, 182.99905123709163, 182.20384333593938, 187.46286887246666, 183.00894943933145, 189.02605552014734, 182.59496651829966, 187.00939407471498, 184.62060858686147, 194.80329529023948, 188.86185864719937, 191.54217762558426, 196.7587278964524, 188.38896850571996, 196.5550522478245, 195.31455458072006, 196.663463757873, 199.34332386160338, 190.89650430350514, 196.3490956574168, 200.93365403768155, 199.98982705569358, 196.46253508151676, 196.60143325737604, 203.83116665422597, 197.24999784547367, 202.74723985732783, 206.0620897792793, 204.25684221144928, 202.7154704032081, 203.5894828539482, 205.25786339583766, 204.88346501393522, 212.36729212075647, 201.44440076177182, 210.3047985499926, 208.99270499693682, 210.02591362318242, 212.45555613929616, 210.9586235263098, 215.64060429918226, 204.31385250299434, 221.270047827589, 213.98746492985686, 218.42082046939385, 216.9021991749446, 212.8836665555218, 221.240082530147, 217.29197796878083, 220.68380924410405, 217.86811024751546, 224.81368602649883, 217.51688211188593, 221.76840609289206, 225.95843225188423, 226.96134323008687, 223.04217105485958, 232.62931088377036, 218.11300489171037, 231.18473732550586, 228.56790754264256, 225.5116111769081, 230.48424586838576, 230.2199784688909, 233.20383642900663, 228.33013006058502, 230.01940358096624, 241.05365060389357, 232.81228699166468, 233.16236512740534, 233.30150848052642, 236.27897219246228, 237.0846540319958, 239.21743009368765, 236.8960016089327, 243.21142342924625, 237.89065807434832, 236.420758832003, 244.47743351429688, 247.30833124683593, 242.29216493738903, 241.51953868966075, 238.15405052677, 249.37486493681143, 244.29397599960828, 245.78918441185135, 246.23280242912574, 247.3506433351059, 247.14376692842995, 252.95372925715435, 241.8166625774594, 252.5036942494665, 253.07977055731425, 251.97330406171432, 252.07893807797802, 254.80521717835762, 259.4752782824904, 255.2427698031828, 251.41047167441752, 259.5494618499214, 258.9304930489171, 259.2854425624922, 256.51836696377063, 263.9563115784215, 259.7984245087364, 260.34746817573796, 261.27078758432754, 267.1927914887121, 261.815848116452, 261.56911224957, 269.5847305389643, 267.3422927370082, 267.8310427405062, 264.00643764335723, 272.0903821501479, 274.37672258319884, 272.13870144531415, 266.2853656807191, 272.9558665598163, 270.9362343136314, 272.3955728003974, 277.74768065312287, 267.5214559879705, 270.08765685754025, 278.68031936833347, 272.2046325182721, 280.84337944439835, 279.39707152675595, 276.1895331230271, 278.74526078485917, 278.73125905027314, 279.93573809254735, 291.81651786845805, 270.5304172827216, 286.6091385420136, 279.99001818642165, 286.8894151002339, 288.22794791262095, 284.6299630795422, 286.72521095511496, 288.21479563948503, 281.8212051708275, 295.6433762661661, 290.6752362887757, 289.47447186247234, 298.482140367056, 286.4594561011638, 298.6061363154413, 286.5244404100488, 298.2379675502283, 300.15150316209906, 296.1645335763446, 302.6364524983484, 287.5304345367442, 301.361637230355, 296.2365905861857, 302.1808245561683, 301.2628306578422, 300.27950074057003, 305.4176852096027, 303.15183742097463, 301.6662451006896, 304.33607549426756, 312.48085080959606, 302.50180837493224, 301.95384082029557, 306.63490351736027, 309.58135686158704, 307.89780713852076, 308.5427695224039, 309.6561896122489, 315.51178254885235, 310.8981109174416, 313.35811685515387, 315.69162647265625, 311.702290946169, 314.83539857310825, 318.55086661124733, 312.5125366883085, 315.8290050561908, 317.6857903121702, 313.3189871235189, 320.80775543107075, 323.1910104061158, 321.5752238291068, 324.4669555577357, 314.23691313198265, 323.9723036215801, 324.0773365893708, 322.9484621615162, 320.47772364297043, 326.94557738968274, 324.28712892308533, 326.3922787214276, 329.72847349137373, 329.3288329821892, 329.47870650796733, 327.2032388472185, 333.9006048660035, 336.6460948122522, 328.04210293869414, 327.54927913534516, 340.21138685204846, 336.52660902227393, 334.63129084951254, 336.3110809884056, 340.8864536419726, 343.0038602522551, 336.3562070017074, 339.9547911819326, 340.9812515489764, 342.35462252646056, 341.2582394187964, 338.97575996951537, 345.3881463811674, 341.48988265404034, 342.88417393325165, 348.1053326026563, 336.84675893841904, 350.5857205765135, 351.6144112201158, 343.3164338042618, 346.4296008314618, 350.06024545203917, 353.1365352022358, 346.5519130282728, 353.0427022923959, 354.62814695551043, 349.8325773559029, 350.565063165061, 360.06255791366834, 356.8163208428814, 354.61106225097024, 362.09619372283623, 355.60949389196253, 355.5144140361456, 360.18790862964363, 361.9409220884138, 363.3970577989937, 365.5385227584463, 360.33841958863, 364.4441529224107, 367.13983320985176, 364.80816465802354, 369.95386832881127, 361.9458299556968, 365.1932961237924, 368.7273313697763, 366.50231803434565, 370.7320523733963, 369.190597205848, 373.2133763975495, 371.75947294603554, 372.51150364417686, 371.5483574625175, 380.6215039435936, 371.85771737223695, 377.29530124328016, 374.5825995389182, 379.7812777487643, 383.1895572740383, 375.4138785430025, 378.9673472101538, 382.072133166498, 383.2661941374413, 379.79392637501246, 379.47840383785206, 385.4923540121589, 381.42221198444895, 387.2862502566336, 381.3182721973776, 387.53073529946, 388.7683266387446, 383.2685176337757, 384.4666320465328, 391.7113675417367, 393.8217354385266, 387.5404527189587, 389.69601947118053, 390.9533439479579, 393.4603690618105, 391.1589808828073, 398.19114556328304, 393.58578494497095, 396.94719969208677, 397.382892919235, 393.55699741956346, 396.55912044194525, 402.8172310711486, 397.96791881791637, 397.5321906461643, 396.68557082236356, 404.7993945093899, 405.9184067981921, 399.1663471155914, 407.06271985724504, 404.6515872285221, 406.8751662962088, 403.8765463317361, 404.0221180822854, 408.58461322308153, 408.2153438979685, 405.2693952278014, 412.1204500498798, 414.3323688158074, 411.3653921914238, 406.9148544389586, 413.95681946322657, 411.422515152135, 416.04181975419647, 409.9797986656149, 415.1502269470142, 417.4828404694831, 414.22612355505316, 421.2606720208141, 419.5372825005186, 422.66323955304404, 421.86595003876596, 418.0650060450098, 429.7078198363114, 421.8223011428671, 421.93246529492944, 423.5757245864529, 420.0990309336463, 427.7285521365418, 429.45667454110844, 424.49079028538677, 431.5138587392647, 424.95166660810924, 435.03504399490043, 427.11570387267716, 434.163126283739, 434.72974569278904, 435.05256988366796, 426.64652078115773, 435.2192477787512, 435.2322343665396, 435.4485925251536, 431.42761805070495, 438.31017662310114, 438.4907485621176, 437.84744832678484, 439.38797374261776, 438.2406323363915, 442.65727858060893, 444.2902258191241, 435.14214177215854, 445.76200378168176, 440.3349366624029, 443.82761910616705, 446.9301011064224, 444.18431842817756, 450.1261749972256, 446.25871648589236, 441.1575725315695, 451.87989410850065, 450.4209041884146, 446.05342267765536, 451.9359498819622, 457.15497271152856, 448.8672429058797, 452.6717171559462, 453.3906382808898, 462.047948245698, 451.8923615242179, 456.14729006175094, 458.57227481699556, 462.2511870029833, 458.5482141511484, 461.98343541260374, 459.0050097284534, 454.4853959793688, 466.7466026999467, 460.89765772794067, 463.4892375435968, 467.90396036539687, 462.9781435463286, 460.5595593353796, 468.1809829249787, 474.1796406863978, 464.27918032225045, 468.58449547696387, 466.94863443560916, 467.0628328577282, 477.45361793765073, 470.75829226445785, 464.26190147360126, 471.40066350595464, 477.60844780968023, 475.9423043285367, 470.64947483067067, 477.1495780356338, 478.4084714234234, 477.9810053385115, 479.0310800488526, 475.2783655281103, 478.9169121189, 482.20292887951655, 483.76149973354654, 478.7314298776561, 479.6952346360706, 489.2124546334626, 482.45912534782565, 486.2903129248608, 481.54543906708204, 489.65169279157703, 481.97963337174065, 488.16037306139754, 483.39264697789463, 490.55197343259806, 491.175708717474, 493.7874639625633, 489.6595301515715, 491.81094975677297, 492.4832990773607, 497.4269520554256, 493.67453817119485, 494.95344488812225, 491.55090823085334, 503.77647307917925, 495.08302008501516, 499.92895331012664, 494.89190948612054, 504.8881341780122, 498.99937342999567, 503.9548489679655, 491.5190627044999, 504.0204189465032, 504.5696856855128, 503.732865988183, 503.63038136209866, 506.4032724049216, 501.29599986778646, 507.89979777240046, 509.7288053463592, 515.1274557017409, 506.19943697191275, 510.5722522238457, 511.0038376784405, 517.3597438622985, 510.5623639811745, 513.3563528859149, 514.6379203026959, 519.8761033879412, 517.5127022149379, 511.5735712224023, 520.6866808771724, 522.9674905511833, 517.2446345030723, 513.6546263659416, 521.1870438968049, 517.4226102960275, 521.098696668545, 526.414914154986, 520.7385832838768, 531.4981838490012, 524.8364933193486, 522.9462840256313, 519.6872632651543, 528.9202340506932, 528.3189070462643, 528.6483354648662, 526.7439340603978, 529.6795373934638, 537.1276084414524, 529.4926816831676, 528.6544245503692, 529.2283534929195, 540.3093207045015, 535.2255568456972, 534.238844994793, 536.4305091327525, 533.006167167498, 538.9033753478368, 538.6313601842835, 541.4697641246727, 539.9100341577328, 537.5582797374361, 537.1946612761649, 541.1469155095822, 551.742485543074, 538.3313438787557, 542.0619803883951, 549.7676895887141, 546.1530426874854, 545.3184934446783, 546.9571468587251, 547.5108673123751, 549.9726981170031, 545.500711078319, 553.4030326871261, 553.5122996329887, 548.580323144572, 556.7184333342193, 549.7924910230845, 554.718971915462, 559.5968259086376, 554.952708271805, 553.1419947546619, 555.7358621065789, 557.1180009302905, 562.4175110029435, 555.7228522075993, 560.7198950210202, 558.1762781122279, 567.8467592644715, 557.0393561050273, 564.8575279264419, 564.9585088376048, 565.887977654105, 563.592390130776, 561.4914598142183, 570.7839760885063, 570.3854234059193, 566.897279122978, 568.4387477740601, 576.4733060348774, 564.7739481861654, 572.4115730457988, 574.9377747034678, 574.1677176422586, 573.7442186047758, 572.0946918570044, 573.8174372307163, 574.7466755626092, 576.7271274804755, 580.2974089605714, 582.9064637158284, 582.0063592802583, 573.9963917079378, 576.5370338838984, 586.0538205605235, 582.1574851652235, 578.6578054784256, 581.5082341587649, 584.6506525445103, 588.7215640652043, 581.6893154148147, 587.1463803285606, 586.7368151513205, 590.8156965661651, 590.0177865388694, 580.9928687078609, 592.5979548899687, 587.3849557354263, 592.6050327644589, 599.0566396065183, 593.4361023939791, 596.927448996181, 594.9994295312581, 590.7330508050964, 595.4914461666323, 598.2135926520361, 597.3595534973688, 594.7614051572746], \"x\": [2.4099609383665266, -1.966673262496983, 1.8715368374296386, -2.1059315333825968, 2.975592136672087, -2.2050083277815453, 3.194263071964235, 0.8015897941325774, 2.0392706919352177, 1.9375104891082393, 3.1401194912203607, 2.162760025432508, 1.6106920070914232, 3.70577475110281, 2.4618943754832223, 1.8726847908246604, 4.364842061090515, 2.038969361121956, 8.15254151077534, 2.89552944212614, 6.291955476335071, 5.413770395724416, 3.9194788796881124, 4.208329028989855, 7.10921473280992, 6.711629753691712, 6.0813097693346805, 6.603700083300598, 5.979548137883729, 8.279334198820722, 6.910128637859476, 6.415038136142613, 8.543392343261084, 8.705043972964965, 8.218904496651795, 8.235604047920233, 7.700100456900822, 7.269002886009606, 11.902400673064207, 8.316159638200382, 11.586738802862454, 10.775788792704052, 10.192628302563186, 8.495609515395536, 11.363604652078498, 11.140550609322272, 12.54060224757204, 8.367270435421482, 13.230722307402367, 11.984981891567465, 9.95579418890813, 14.401290367261666, 14.978484995295343, 10.745525244013024, 12.709766846610222, 13.4855235232028, 13.200750543438781, 14.157400483934154, 14.569853704887848, 13.67688854603292, 13.919841014982588, 16.690003301272647, 14.682872340677825, 12.679948148236683, 14.448535758531156, 17.294627501131444, 13.758139229578099, 17.543284887384075, 17.209166802925594, 17.194193924531753, 16.732480539908934, 15.999112319031028, 18.745798222237894, 17.51484453900912, 17.46609656540086, 19.56646954471897, 20.645173825649607, 17.986821906129762, 18.360817112150627, 20.29947257227532, 19.854037619572654, 18.90593483893386, 20.889566771627692, 18.933672193018523, 20.502901540791044, 21.814636496048358, 19.091201897985727, 22.195393062645053, 21.526496524093993, 23.21579225103985, 21.261509911003188, 21.42769957562787, 22.77991843043733, 23.738368398105663, 23.25208194916786, 21.480891752178024, 25.18846353902116, 23.206351208091142, 24.003384498008415, 23.473461341600625, 22.91411478753198, 26.145844116473675, 24.59419526448481, 24.48198468588663, 23.64335394525802, 27.37076154779811, 25.660060043775417, 25.58924873073414, 27.207628706946366, 26.907987148671346, 25.337526749761196, 28.467450348764373, 28.252836022967298, 26.56968059412352, 30.07771974590638, 27.060774252959618, 30.165582250294495, 29.34290202629849, 29.74948073356863, 27.13940856874244, 29.240953442326926, 30.313780522219254, 29.263264420179098, 29.999495947562437, 30.302228125798866, 30.328267385116575, 31.296061670273772, 31.58884262550869, 33.296135058197876, 31.319584769036553, 29.31514331441204, 34.42547898845973, 34.56525544091949, 30.90956329916085, 34.21332363966893, 32.798758507950424, 34.46927754974771, 34.54445840769809, 32.51423789508996, 33.865856186353966, 37.361068995793886, 33.771070355914205, 34.41500096718238, 33.894982462075944, 33.051908936476565, 36.288448285654226, 34.94832074325572, 39.35037026443797, 37.95038445775519, 37.55637160497059, 34.86389235914547, 37.48559057579121, 40.33331834203937, 36.97220035567625, 38.64682806717671, 38.41792363837982, 39.33127034057277, 39.116136950054326, 39.79440411791738, 39.98953609461395, 39.829976466479444, 40.44673653474602, 40.14266102948697, 38.64935146507594, 40.814159640729834, 37.41069224585577, 43.09057078259771, 40.914727405314096, 41.224248454108164, 41.62265648077427, 42.8510040488669, 41.56475891116639, 44.29325730779022, 43.26658258071173, 42.05624853843261, 42.10551273713776, 45.04576065907263, 43.100535962909774, 45.08583616740975, 42.86912197155277, 44.397873570856085, 43.1962394030992, 45.04751796270449, 46.30026140196688, 45.22550010114047, 46.01091461052398, 45.01344026977674, 46.83570663042369, 46.31142072496781, 48.844262976830706, 47.54777141830385, 46.065530062167994, 48.638382492983524, 48.06329150561834, 46.16859884314346, 50.078361057165665, 48.31179584796553, 48.38369178669106, 48.43880521916475, 49.09386610583067, 49.3587771810279, 50.47137270245496, 50.71012090637316, 48.63224757823849, 50.011056782554434, 51.19509765180712, 53.38889215357318, 47.28931831707658, 51.78891874402731, 52.19114100583667, 51.26899663147489, 50.553614474880334, 53.20357708179091, 52.747132808023636, 52.66504530048127, 52.09813011671332, 54.41075634915428, 53.5466930296885, 56.036922662883285, 52.80988013553946, 55.59413546781161, 53.04926291582609, 57.56568670782045, 54.19362746047943, 54.79024066530659, 57.65435080497002, 55.6646701443793, 56.22071978282304, 55.26180135427817, 56.655602441910446, 57.42059223716916, 56.431060056234315, 58.605651169466505, 56.52169339064655, 59.842246682664666, 57.02612598123565, 56.35068937589803, 60.69921255847483, 56.38489728358633, 59.386289074946376, 58.79531550858339, 60.00606134867577, 61.6331810810789, 57.94080261616594, 61.20557012568323, 61.070411892048284, 60.93424699252583, 61.1101595636799, 62.41054968659809, 60.324910191396995, 63.026821646903215, 60.80295439774068, 62.24389762366386, 61.73359964923442, 64.36755210475417, 63.42269688298765, 63.32989605421614, 66.00625063836073, 61.928203741273336, 66.76474743148268, 65.10412932214004, 64.96816183481118, 67.00855852876379, 63.819273225151676, 65.36098250702236, 67.48868742697786, 67.30144249148151, 64.5442416352223, 66.57966727260822, 68.49028613719955, 64.46373072830716, 67.60773389380574, 67.99379078754188, 68.61295715036832, 67.75851681222935, 68.02698522137632, 68.97004485494304, 67.3241917155743, 72.0022963839927, 66.22275513318607, 70.25862148405182, 69.19851887067549, 70.56286354286667, 70.39252719660959, 69.57731703715699, 72.54673020303602, 67.23658016340534, 74.87870755404464, 70.55776452707966, 73.23196102897231, 72.04282936132472, 70.79836168263432, 73.47183162739896, 72.27418206160607, 73.08313426348482, 73.60724615374613, 74.81425629899911, 72.95651138373711, 74.36420763303147, 75.430554560296, 75.99762846900006, 74.59434006695287, 77.53389331262576, 72.49831222341521, 76.1818624597443, 76.04808288571903, 75.07571351973144, 76.59429444944823, 76.40470070571351, 76.75077813863626, 76.93626098501875, 76.27129633098502, 81.26314700043109, 77.14445954015824, 77.71032156644787, 78.39298622460541, 79.68912922515977, 78.56103281412854, 79.8244796739992, 78.69565715521799, 80.78584881740278, 80.41928858030309, 78.32310829452572, 81.86426443959891, 81.93717882347549, 81.69278803070611, 79.61901250486818, 79.55490229939505, 83.78681666844291, 81.75466831296063, 81.81150558503435, 82.09268957399212, 82.46130425007769, 82.57488759140932, 84.84607002756522, 80.02550088418229, 83.69499849196002, 85.5333050524608, 83.61212621246744, 83.78127511406836, 85.70590881741012, 86.10729301732218, 85.60742799656066, 82.91535209092916, 86.40731254407753, 86.1227080761692, 86.8539308028499, 84.81597492768532, 88.54668438025266, 85.75289220915434, 86.90708090602794, 87.1671588456557, 89.20385111365664, 87.61540768974876, 86.22360982306941, 90.38032989219431, 88.29308325684848, 90.1555496504786, 86.6844546503969, 91.43261182450448, 91.2483948843325, 90.28445219948472, 89.10499383464582, 91.30369750475, 90.47028533837374, 91.30639557199208, 92.36808099609522, 88.83348206198616, 89.28323059555447, 93.71155440287686, 89.66933572438802, 94.40225165375534, 93.45771997716885, 91.76831349531363, 93.1069431716665, 92.68967336715195, 92.75073194444508, 98.61350846844479, 89.34481833847298, 95.14759826043348, 92.65887257561796, 96.19757900203277, 95.60835353716959, 94.41937042613728, 95.09269479514583, 96.370383700173, 93.20224489379524, 99.65130080316004, 96.45730281788008, 95.77613685200652, 100.12853950924926, 95.81784465979337, 100.8970247788644, 94.72798977383374, 99.63670387012894, 101.39300443138762, 98.35459676900297, 101.42346191920853, 95.74316839035441, 100.35659818469315, 98.0330345576521, 102.20242052255105, 99.2660172653625, 101.43525947496664, 100.76761778978826, 101.25511481707062, 100.41109666291828, 101.8390721717467, 105.70011092937405, 100.39020224175351, 99.97953843450398, 102.08520287979513, 102.46341454676892, 102.94506808861743, 102.98163121084588, 104.15203804495252, 104.73978152787899, 104.3029836818703, 103.73602115464939, 105.78800227462517, 103.79248248525711, 104.43930072899877, 107.42586022543588, 103.56961549455986, 105.20035555173278, 105.88536303815553, 103.75370986535853, 107.16154465998807, 106.9214778248671, 107.49036524898096, 107.57547934089285, 105.00591220292978, 108.01904523102543, 107.36290075064824, 107.79566537766624, 106.82600492051085, 108.62488590551028, 108.29848243468587, 109.47047236211637, 110.01871526114263, 110.22001178905644, 109.54041303093459, 108.99271763488179, 112.08836632106494, 111.6521540531325, 110.77234547124391, 108.18129379103789, 113.42284243828124, 112.30045761346449, 111.70025440535542, 113.00306893893844, 113.05384002884927, 115.27227442976843, 112.58015414860031, 113.46767810627216, 113.16827160710801, 113.10507499413546, 114.28572388753659, 112.95676037778708, 114.6356319221477, 113.80163557020035, 114.13114830995877, 115.35504405181939, 111.70111091794439, 117.15655806749339, 115.78889593279888, 114.84982662161065, 115.64244955772489, 116.55212808752027, 118.05210632749927, 114.72661268904113, 118.85183915905844, 118.4838252158557, 116.35129461580499, 115.9788914305039, 121.03148665675923, 119.62563772455692, 117.83922549341912, 122.11816065259501, 117.30659630940153, 118.962970558978, 120.14441999599927, 120.22095133987597, 121.62154526538933, 120.99290305427895, 120.26437001511903, 121.52308254779211, 123.27275778352964, 122.76360654017864, 123.27270806558212, 120.06049322005913, 121.93269967938608, 123.00674509349426, 121.97686704311383, 123.79293065885628, 123.34736750075342, 123.82835896453211, 125.66567964223728, 122.71488309496726, 124.22046659759559, 127.13613216355549, 124.51111704241376, 124.90200564542965, 125.97240073904345, 126.57410923710088, 127.18469888462064, 125.52782757591899, 125.39854882879047, 126.90707368912348, 128.11859870004102, 125.60132411228051, 126.81756188940096, 127.94548539592142, 127.46941925013326, 129.66385799061538, 127.20000266933675, 128.99115458894786, 130.10041470947556, 127.43086065146235, 128.19786183076883, 129.2767877040037, 133.07921566934698, 128.85606277117517, 128.89660171998082, 130.38320473920737, 130.62404798118888, 130.25665563121146, 133.02865834909596, 130.5536034748803, 132.8225290312726, 132.91431183258806, 129.57134618339933, 132.57355981100125, 133.81140246377856, 133.79773187153666, 131.76572766153254, 132.8266221911897, 134.4011597065185, 135.3873767261212, 132.49905909421102, 136.53869059352138, 134.38078673321064, 134.79563997006227, 135.4572516395691, 134.14473403406384, 136.03554543497108, 136.07085925618236, 134.260812070846, 137.63750190911279, 138.57181190237577, 136.68310510868088, 135.65853409593126, 137.67141871063336, 137.61742439059356, 138.21315223037732, 137.43424726666512, 137.2957276896371, 139.89676529041492, 137.8208203245735, 140.4321937635641, 139.72482278167564, 141.25643488875653, 140.4206147033765, 139.31654074277026, 144.23928087871198, 140.47445238856648, 140.8068253169498, 140.78183592053688, 139.176015712342, 142.26189112507626, 144.371235262857, 140.16284555515188, 144.63592113226207, 140.79417145931188, 145.38368781424117, 142.3627753704252, 144.19848709962272, 145.29128377791176, 145.64060491995832, 141.1913058248482, 144.46388454629445, 145.3974760769912, 144.16092232748133, 144.6710581883525, 146.69292178472838, 145.8752367410969, 146.1762082194038, 146.5708938164296, 145.8341823952977, 147.80393172950767, 148.32609486055776, 144.48018272733668, 149.5976391210948, 145.9005012618435, 148.1385644233905, 148.6703165093386, 149.0305700159293, 149.09400157127305, 149.15766522002878, 146.7128675098396, 150.20226207462397, 149.45632272576415, 148.923116862384, 151.6868363281908, 152.40814159147132, 149.03839565687377, 150.3066475711003, 151.9636321413417, 155.943670967252, 149.5574706175828, 152.78716541745615, 152.28437501741473, 154.52535715029114, 152.45733585313764, 154.51052997892776, 153.13224651471876, 151.54972159578563, 155.5841609885606, 154.00549464238662, 154.07233257885548, 156.58925007652897, 152.89584790681891, 153.80269977979242, 156.4642410113429, 157.91977024250843, 155.32145131826172, 156.51336781933543, 154.50670336153985, 154.90363161091975, 159.7742424967264, 156.33335493399449, 155.217906757641, 156.90099173573108, 158.7709150977857, 157.93563212980354, 157.200212053766, 159.37166851970687, 158.6372850605445, 160.00527111604163, 160.12751653117732, 158.34672103941747, 158.82828752632247, 160.6528889245144, 161.40762425150785, 160.1925934896529, 160.00887997042997, 163.08884144495312, 160.2776611900341, 162.88895866132128, 159.29508171789792, 164.2215924580284, 160.74183787477216, 163.41422443111276, 159.69062926238115, 164.29477760227263, 164.48805121701537, 165.1669753309887, 162.7881838717032, 164.60845581472643, 162.75424081974097, 165.77302143176252, 164.75342387298537, 165.41099302269606, 164.03514958783296, 168.8372351570576, 163.97917753219963, 167.6515835709468, 164.22360333424, 168.34080583197994, 166.03647122057976, 168.48064087484107, 162.7585966517155, 168.2313888538677, 168.11348502083473, 168.32816066171563, 167.26020790267978, 167.88988081533807, 167.85882630685563, 169.47943991455844, 169.08704738480048, 171.98111177608791, 168.74144892147723, 170.1676232095794, 169.52020284824482, 173.16824860258367, 169.07676689643256, 172.07457953207455, 170.6374642079727, 172.97763751966485, 173.43723059845854, 169.79933531142217, 172.21043268759206, 174.44754680176942, 172.6100045537895, 169.69156123146684, 175.8979726505919, 172.5647974756675, 172.86764420532324, 176.5178204027094, 174.12662346593436, 176.87131193430818, 175.45848462905775, 173.74854601667255, 172.8778909348364, 177.26362241236674, 176.08456525044522, 175.18418679322713, 176.86826161722195, 175.64928334555202, 180.9450365761394, 176.19759751608183, 175.10726806472292, 175.98212187253847, 180.3452568126454, 178.73626395420854, 177.69929111007752, 178.95425019932628, 176.77239565268525, 180.41214870526676, 179.96075013506731, 180.39842825678085, 179.49725998456205, 178.75892040960855, 179.04225445988197, 181.19559671270116, 184.3307752656105, 178.63143255928526, 181.04459995809884, 183.0610337272068, 180.995254186071, 181.938952854175, 182.75719961881532, 181.83132951885008, 183.66311020271831, 181.4757016806626, 184.44709321076505, 183.62791471329584, 183.2621032567934, 185.08752500757055, 183.31174156419252, 184.57564977220383, 188.1059175295427, 185.30921543542433, 183.10167888697924, 185.5193975421737, 185.36405504823205, 187.70498302157046, 185.37612200061494, 186.59865784513437, 185.12877827706382, 190.5577866593635, 186.03894726656904, 188.7527984685533, 187.4140243998985, 188.8420679842851, 187.3345152052451, 186.17140265181038, 190.85540868295823, 190.14199121106924, 188.79888425360082, 188.97224374633632, 192.5746202551157, 188.55558356733104, 191.31251067473931, 192.1403160562361, 191.61157476352446, 191.00539438309806, 190.68295841044198, 190.08902045443318, 192.28562187777817, 191.66161606831508, 194.1878633312282, 196.61059473252823, 193.1109138893235, 190.36448048332272, 193.22623075556908, 195.1111157768284, 193.6654219267279, 193.72309351309855, 192.90201401214597, 194.91823624960264, 196.61577692785824, 193.5804401794336, 196.18923211011565, 195.71183147436204, 197.12271026031135, 196.87357552426863, 192.82294013021, 196.24009734058313, 195.84410648079728, 198.01325127274322, 200.7998748023598, 197.38764739052758, 198.77787148529336, 198.7722959465034, 196.8358105569365, 198.2585047024917, 199.88171017631527, 198.92061184333852, 198.8483346299164], \"type\": \"histogram2dcontour\", \"contours\": {\"coloring\": \"heatmap\"}}, {\"marker\": {\"opacity\": 0.3, \"color\": \"white\", \"size\": 3}, \"y\": [5.1292673903988835, -4.57635307260991, 4.676180639781049, -4.05800966577068, 7.925934906874683, -1.7141303689214755, 4.138371525229065, 2.7476225213896566, 3.35150392312274, 9.313360700150266, 8.267193579621821, 4.452988882941764, 9.141644337441367, 7.70766516150039, 7.9316543460007765, 6.917123003648072, 13.84821400670079, 5.3982954174572875, 21.814248513203445, 8.53391699899666, 18.695938801036412, 14.613024901939092, 12.58152378903943, 14.569711345823109, 17.794770860174722, 21.377605905636926, 17.41936542492779, 17.471085242728677, 17.981542989718687, 23.44960062910951, 24.356539856693445, 17.760863466301245, 24.677252234383978, 27.43139335746909, 24.37507563295965, 25.52804798865077, 21.878632241141624, 24.378135319277177, 32.2056056210035, 26.62854350128555, 34.64227577425211, 30.608179556174903, 27.81348030544683, 30.54660516471418, 34.20750768695428, 33.81767755802194, 34.631213324025424, 28.747913226934173, 38.899236796399805, 36.24084766738905, 31.077263878978812, 40.813799601574885, 41.23078440015196, 36.18781983623509, 37.898689289997165, 41.26593567337858, 40.80800519025262, 41.36689336027678, 46.2980631663724, 38.36690869706459, 44.416018939500944, 46.43508649113225, 43.79138966333056, 41.799168580295486, 42.31994745344225, 52.21109835430808, 43.89666812383126, 51.79204582115099, 53.2244092543644, 48.473751875352505, 53.137931933496844, 46.47951636857047, 56.51570681374966, 52.36439822478057, 52.15125632610574, 58.55574086438682, 59.912989847583844, 56.114884201524035, 55.5150168760683, 57.28019906334734, 59.819918461675904, 55.568023112358006, 63.38207798980332, 56.79700686846928, 62.252707253184866, 64.45267440276916, 60.270245269586866, 65.81624711969494, 65.79112390791433, 69.31409254021762, 65.09810398980525, 63.67419616739778, 66.72169110285711, 68.44678577707592, 70.6398343170003, 67.43484589562104, 73.36122883973563, 67.76632648552192, 74.37511397996582, 73.53821841286452, 68.75236847118673, 80.54570975568643, 70.32380822600541, 74.83190676588043, 71.3595757908506, 81.55248686128132, 77.26206652426609, 77.02572101201889, 82.5383682530772, 81.19725188353479, 77.33164345274696, 83.43664974023932, 84.36148547113005, 81.39218638280272, 89.3798220948268, 81.20548873032885, 88.61834687431718, 87.74561846805946, 86.97152476102167, 83.80311518575195, 86.87357625609579, 90.03483726660045, 90.91105210073977, 91.23445485703968, 90.1871410964407, 93.34606048368806, 93.20002533293064, 95.69425377082723, 94.99527478946546, 96.28875499763691, 89.87008500633078, 100.43239640843552, 103.2222169391314, 94.09989709906748, 100.60085441223492, 98.33793670624237, 102.87543854880688, 103.25185925087732, 99.88149093515261, 100.52240642503654, 107.84336651174021, 102.16991810461491, 104.16458051071112, 103.22265041966324, 102.92989974570173, 107.3219102637641, 107.2408566929223, 114.97854474629509, 114.56034893974683, 111.18261282744729, 104.28911679923141, 115.06244491811043, 118.55235670524407, 109.76166175869216, 117.51903564586092, 114.3866654878434, 117.50670946068796, 117.45957918734618, 117.42005964569051, 117.86020711010474, 118.65972192368494, 119.20983404252962, 121.11889600094804, 116.37374002176426, 122.87389669166265, 115.59984661314252, 126.8471884490861, 123.23936954790258, 126.59125358871839, 125.24998057862592, 126.85423507680173, 125.41874760848009, 129.21836636837662, 131.54999858287076, 127.81774610623495, 127.57031062104545, 132.75908867638873, 129.98471347250273, 132.92969654282973, 129.89193363188656, 132.82972306904344, 134.36933146919029, 134.36619007291142, 136.21665751914725, 135.92803126176312, 136.89029672984606, 139.4298637974369, 136.7758136926177, 138.99722352244999, 144.5785402491988, 141.39182911389582, 141.93741790213994, 149.2767064728543, 143.66523296322214, 140.32028510515, 147.1809073759299, 146.5728966112435, 143.9878767098968, 148.90475885705797, 147.58864880261592, 148.9009013264734, 152.0248054700475, 149.01807678633782, 147.39099930692453, 150.5918045015281, 153.67823817484157, 156.09601532167125, 146.36084050954344, 151.93131499022473, 160.47400755299418, 152.4384574553635, 155.49745230259884, 158.5222862611675, 159.54684015378638, 157.21861749482895, 159.19331032523155, 162.48969761067758, 160.2792858005585, 166.21158679357814, 160.9223255713223, 166.59070731836215, 159.2760447833018, 169.63618653413857, 166.15694631203849, 166.30105927195441, 169.27844951249944, 168.01991618132672, 170.49240790796875, 167.39017265921925, 170.09736948192796, 172.38913170317517, 170.43154721446035, 175.57714853165334, 170.00181003343107, 178.34639694167083, 173.77439013899527, 170.84391114497356, 179.86002697995775, 169.11760061548262, 180.14171491993693, 177.6695786985169, 180.92320763489624, 184.23937630832677, 173.86134197314084, 182.1781527282216, 185.88132523514673, 182.99905123709163, 182.20384333593938, 187.46286887246666, 183.00894943933145, 189.02605552014734, 182.59496651829966, 187.00939407471498, 184.62060858686147, 194.80329529023948, 188.86185864719937, 191.54217762558426, 196.7587278964524, 188.38896850571996, 196.5550522478245, 195.31455458072006, 196.663463757873, 199.34332386160338, 190.89650430350514, 196.3490956574168, 200.93365403768155, 199.98982705569358, 196.46253508151676, 196.60143325737604, 203.83116665422597, 197.24999784547367, 202.74723985732783, 206.0620897792793, 204.25684221144928, 202.7154704032081, 203.5894828539482, 205.25786339583766, 204.88346501393522, 212.36729212075647, 201.44440076177182, 210.3047985499926, 208.99270499693682, 210.02591362318242, 212.45555613929616, 210.9586235263098, 215.64060429918226, 204.31385250299434, 221.270047827589, 213.98746492985686, 218.42082046939385, 216.9021991749446, 212.8836665555218, 221.240082530147, 217.29197796878083, 220.68380924410405, 217.86811024751546, 224.81368602649883, 217.51688211188593, 221.76840609289206, 225.95843225188423, 226.96134323008687, 223.04217105485958, 232.62931088377036, 218.11300489171037, 231.18473732550586, 228.56790754264256, 225.5116111769081, 230.48424586838576, 230.2199784688909, 233.20383642900663, 228.33013006058502, 230.01940358096624, 241.05365060389357, 232.81228699166468, 233.16236512740534, 233.30150848052642, 236.27897219246228, 237.0846540319958, 239.21743009368765, 236.8960016089327, 243.21142342924625, 237.89065807434832, 236.420758832003, 244.47743351429688, 247.30833124683593, 242.29216493738903, 241.51953868966075, 238.15405052677, 249.37486493681143, 244.29397599960828, 245.78918441185135, 246.23280242912574, 247.3506433351059, 247.14376692842995, 252.95372925715435, 241.8166625774594, 252.5036942494665, 253.07977055731425, 251.97330406171432, 252.07893807797802, 254.80521717835762, 259.4752782824904, 255.2427698031828, 251.41047167441752, 259.5494618499214, 258.9304930489171, 259.2854425624922, 256.51836696377063, 263.9563115784215, 259.7984245087364, 260.34746817573796, 261.27078758432754, 267.1927914887121, 261.815848116452, 261.56911224957, 269.5847305389643, 267.3422927370082, 267.8310427405062, 264.00643764335723, 272.0903821501479, 274.37672258319884, 272.13870144531415, 266.2853656807191, 272.9558665598163, 270.9362343136314, 272.3955728003974, 277.74768065312287, 267.5214559879705, 270.08765685754025, 278.68031936833347, 272.2046325182721, 280.84337944439835, 279.39707152675595, 276.1895331230271, 278.74526078485917, 278.73125905027314, 279.93573809254735, 291.81651786845805, 270.5304172827216, 286.6091385420136, 279.99001818642165, 286.8894151002339, 288.22794791262095, 284.6299630795422, 286.72521095511496, 288.21479563948503, 281.8212051708275, 295.6433762661661, 290.6752362887757, 289.47447186247234, 298.482140367056, 286.4594561011638, 298.6061363154413, 286.5244404100488, 298.2379675502283, 300.15150316209906, 296.1645335763446, 302.6364524983484, 287.5304345367442, 301.361637230355, 296.2365905861857, 302.1808245561683, 301.2628306578422, 300.27950074057003, 305.4176852096027, 303.15183742097463, 301.6662451006896, 304.33607549426756, 312.48085080959606, 302.50180837493224, 301.95384082029557, 306.63490351736027, 309.58135686158704, 307.89780713852076, 308.5427695224039, 309.6561896122489, 315.51178254885235, 310.8981109174416, 313.35811685515387, 315.69162647265625, 311.702290946169, 314.83539857310825, 318.55086661124733, 312.5125366883085, 315.8290050561908, 317.6857903121702, 313.3189871235189, 320.80775543107075, 323.1910104061158, 321.5752238291068, 324.4669555577357, 314.23691313198265, 323.9723036215801, 324.0773365893708, 322.9484621615162, 320.47772364297043, 326.94557738968274, 324.28712892308533, 326.3922787214276, 329.72847349137373, 329.3288329821892, 329.47870650796733, 327.2032388472185, 333.9006048660035, 336.6460948122522, 328.04210293869414, 327.54927913534516, 340.21138685204846, 336.52660902227393, 334.63129084951254, 336.3110809884056, 340.8864536419726, 343.0038602522551, 336.3562070017074, 339.9547911819326, 340.9812515489764, 342.35462252646056, 341.2582394187964, 338.97575996951537, 345.3881463811674, 341.48988265404034, 342.88417393325165, 348.1053326026563, 336.84675893841904, 350.5857205765135, 351.6144112201158, 343.3164338042618, 346.4296008314618, 350.06024545203917, 353.1365352022358, 346.5519130282728, 353.0427022923959, 354.62814695551043, 349.8325773559029, 350.565063165061, 360.06255791366834, 356.8163208428814, 354.61106225097024, 362.09619372283623, 355.60949389196253, 355.5144140361456, 360.18790862964363, 361.9409220884138, 363.3970577989937, 365.5385227584463, 360.33841958863, 364.4441529224107, 367.13983320985176, 364.80816465802354, 369.95386832881127, 361.9458299556968, 365.1932961237924, 368.7273313697763, 366.50231803434565, 370.7320523733963, 369.190597205848, 373.2133763975495, 371.75947294603554, 372.51150364417686, 371.5483574625175, 380.6215039435936, 371.85771737223695, 377.29530124328016, 374.5825995389182, 379.7812777487643, 383.1895572740383, 375.4138785430025, 378.9673472101538, 382.072133166498, 383.2661941374413, 379.79392637501246, 379.47840383785206, 385.4923540121589, 381.42221198444895, 387.2862502566336, 381.3182721973776, 387.53073529946, 388.7683266387446, 383.2685176337757, 384.4666320465328, 391.7113675417367, 393.8217354385266, 387.5404527189587, 389.69601947118053, 390.9533439479579, 393.4603690618105, 391.1589808828073, 398.19114556328304, 393.58578494497095, 396.94719969208677, 397.382892919235, 393.55699741956346, 396.55912044194525, 402.8172310711486, 397.96791881791637, 397.5321906461643, 396.68557082236356, 404.7993945093899, 405.9184067981921, 399.1663471155914, 407.06271985724504, 404.6515872285221, 406.8751662962088, 403.8765463317361, 404.0221180822854, 408.58461322308153, 408.2153438979685, 405.2693952278014, 412.1204500498798, 414.3323688158074, 411.3653921914238, 406.9148544389586, 413.95681946322657, 411.422515152135, 416.04181975419647, 409.9797986656149, 415.1502269470142, 417.4828404694831, 414.22612355505316, 421.2606720208141, 419.5372825005186, 422.66323955304404, 421.86595003876596, 418.0650060450098, 429.7078198363114, 421.8223011428671, 421.93246529492944, 423.5757245864529, 420.0990309336463, 427.7285521365418, 429.45667454110844, 424.49079028538677, 431.5138587392647, 424.95166660810924, 435.03504399490043, 427.11570387267716, 434.163126283739, 434.72974569278904, 435.05256988366796, 426.64652078115773, 435.2192477787512, 435.2322343665396, 435.4485925251536, 431.42761805070495, 438.31017662310114, 438.4907485621176, 437.84744832678484, 439.38797374261776, 438.2406323363915, 442.65727858060893, 444.2902258191241, 435.14214177215854, 445.76200378168176, 440.3349366624029, 443.82761910616705, 446.9301011064224, 444.18431842817756, 450.1261749972256, 446.25871648589236, 441.1575725315695, 451.87989410850065, 450.4209041884146, 446.05342267765536, 451.9359498819622, 457.15497271152856, 448.8672429058797, 452.6717171559462, 453.3906382808898, 462.047948245698, 451.8923615242179, 456.14729006175094, 458.57227481699556, 462.2511870029833, 458.5482141511484, 461.98343541260374, 459.0050097284534, 454.4853959793688, 466.7466026999467, 460.89765772794067, 463.4892375435968, 467.90396036539687, 462.9781435463286, 460.5595593353796, 468.1809829249787, 474.1796406863978, 464.27918032225045, 468.58449547696387, 466.94863443560916, 467.0628328577282, 477.45361793765073, 470.75829226445785, 464.26190147360126, 471.40066350595464, 477.60844780968023, 475.9423043285367, 470.64947483067067, 477.1495780356338, 478.4084714234234, 477.9810053385115, 479.0310800488526, 475.2783655281103, 478.9169121189, 482.20292887951655, 483.76149973354654, 478.7314298776561, 479.6952346360706, 489.2124546334626, 482.45912534782565, 486.2903129248608, 481.54543906708204, 489.65169279157703, 481.97963337174065, 488.16037306139754, 483.39264697789463, 490.55197343259806, 491.175708717474, 493.7874639625633, 489.6595301515715, 491.81094975677297, 492.4832990773607, 497.4269520554256, 493.67453817119485, 494.95344488812225, 491.55090823085334, 503.77647307917925, 495.08302008501516, 499.92895331012664, 494.89190948612054, 504.8881341780122, 498.99937342999567, 503.9548489679655, 491.5190627044999, 504.0204189465032, 504.5696856855128, 503.732865988183, 503.63038136209866, 506.4032724049216, 501.29599986778646, 507.89979777240046, 509.7288053463592, 515.1274557017409, 506.19943697191275, 510.5722522238457, 511.0038376784405, 517.3597438622985, 510.5623639811745, 513.3563528859149, 514.6379203026959, 519.8761033879412, 517.5127022149379, 511.5735712224023, 520.6866808771724, 522.9674905511833, 517.2446345030723, 513.6546263659416, 521.1870438968049, 517.4226102960275, 521.098696668545, 526.414914154986, 520.7385832838768, 531.4981838490012, 524.8364933193486, 522.9462840256313, 519.6872632651543, 528.9202340506932, 528.3189070462643, 528.6483354648662, 526.7439340603978, 529.6795373934638, 537.1276084414524, 529.4926816831676, 528.6544245503692, 529.2283534929195, 540.3093207045015, 535.2255568456972, 534.238844994793, 536.4305091327525, 533.006167167498, 538.9033753478368, 538.6313601842835, 541.4697641246727, 539.9100341577328, 537.5582797374361, 537.1946612761649, 541.1469155095822, 551.742485543074, 538.3313438787557, 542.0619803883951, 549.7676895887141, 546.1530426874854, 545.3184934446783, 546.9571468587251, 547.5108673123751, 549.9726981170031, 545.500711078319, 553.4030326871261, 553.5122996329887, 548.580323144572, 556.7184333342193, 549.7924910230845, 554.718971915462, 559.5968259086376, 554.952708271805, 553.1419947546619, 555.7358621065789, 557.1180009302905, 562.4175110029435, 555.7228522075993, 560.7198950210202, 558.1762781122279, 567.8467592644715, 557.0393561050273, 564.8575279264419, 564.9585088376048, 565.887977654105, 563.592390130776, 561.4914598142183, 570.7839760885063, 570.3854234059193, 566.897279122978, 568.4387477740601, 576.4733060348774, 564.7739481861654, 572.4115730457988, 574.9377747034678, 574.1677176422586, 573.7442186047758, 572.0946918570044, 573.8174372307163, 574.7466755626092, 576.7271274804755, 580.2974089605714, 582.9064637158284, 582.0063592802583, 573.9963917079378, 576.5370338838984, 586.0538205605235, 582.1574851652235, 578.6578054784256, 581.5082341587649, 584.6506525445103, 588.7215640652043, 581.6893154148147, 587.1463803285606, 586.7368151513205, 590.8156965661651, 590.0177865388694, 580.9928687078609, 592.5979548899687, 587.3849557354263, 592.6050327644589, 599.0566396065183, 593.4361023939791, 596.927448996181, 594.9994295312581, 590.7330508050964, 595.4914461666323, 598.2135926520361, 597.3595534973688, 594.7614051572746], \"type\": \"scatter\", \"mode\": \"markers\", \"x\": [2.4099609383665266, -1.966673262496983, 1.8715368374296386, -2.1059315333825968, 2.975592136672087, -2.2050083277815453, 3.194263071964235, 0.8015897941325774, 2.0392706919352177, 1.9375104891082393, 3.1401194912203607, 2.162760025432508, 1.6106920070914232, 3.70577475110281, 2.4618943754832223, 1.8726847908246604, 4.364842061090515, 2.038969361121956, 8.15254151077534, 2.89552944212614, 6.291955476335071, 5.413770395724416, 3.9194788796881124, 4.208329028989855, 7.10921473280992, 6.711629753691712, 6.0813097693346805, 6.603700083300598, 5.979548137883729, 8.279334198820722, 6.910128637859476, 6.415038136142613, 8.543392343261084, 8.705043972964965, 8.218904496651795, 8.235604047920233, 7.700100456900822, 7.269002886009606, 11.902400673064207, 8.316159638200382, 11.586738802862454, 10.775788792704052, 10.192628302563186, 8.495609515395536, 11.363604652078498, 11.140550609322272, 12.54060224757204, 8.367270435421482, 13.230722307402367, 11.984981891567465, 9.95579418890813, 14.401290367261666, 14.978484995295343, 10.745525244013024, 12.709766846610222, 13.4855235232028, 13.200750543438781, 14.157400483934154, 14.569853704887848, 13.67688854603292, 13.919841014982588, 16.690003301272647, 14.682872340677825, 12.679948148236683, 14.448535758531156, 17.294627501131444, 13.758139229578099, 17.543284887384075, 17.209166802925594, 17.194193924531753, 16.732480539908934, 15.999112319031028, 18.745798222237894, 17.51484453900912, 17.46609656540086, 19.56646954471897, 20.645173825649607, 17.986821906129762, 18.360817112150627, 20.29947257227532, 19.854037619572654, 18.90593483893386, 20.889566771627692, 18.933672193018523, 20.502901540791044, 21.814636496048358, 19.091201897985727, 22.195393062645053, 21.526496524093993, 23.21579225103985, 21.261509911003188, 21.42769957562787, 22.77991843043733, 23.738368398105663, 23.25208194916786, 21.480891752178024, 25.18846353902116, 23.206351208091142, 24.003384498008415, 23.473461341600625, 22.91411478753198, 26.145844116473675, 24.59419526448481, 24.48198468588663, 23.64335394525802, 27.37076154779811, 25.660060043775417, 25.58924873073414, 27.207628706946366, 26.907987148671346, 25.337526749761196, 28.467450348764373, 28.252836022967298, 26.56968059412352, 30.07771974590638, 27.060774252959618, 30.165582250294495, 29.34290202629849, 29.74948073356863, 27.13940856874244, 29.240953442326926, 30.313780522219254, 29.263264420179098, 29.999495947562437, 30.302228125798866, 30.328267385116575, 31.296061670273772, 31.58884262550869, 33.296135058197876, 31.319584769036553, 29.31514331441204, 34.42547898845973, 34.56525544091949, 30.90956329916085, 34.21332363966893, 32.798758507950424, 34.46927754974771, 34.54445840769809, 32.51423789508996, 33.865856186353966, 37.361068995793886, 33.771070355914205, 34.41500096718238, 33.894982462075944, 33.051908936476565, 36.288448285654226, 34.94832074325572, 39.35037026443797, 37.95038445775519, 37.55637160497059, 34.86389235914547, 37.48559057579121, 40.33331834203937, 36.97220035567625, 38.64682806717671, 38.41792363837982, 39.33127034057277, 39.116136950054326, 39.79440411791738, 39.98953609461395, 39.829976466479444, 40.44673653474602, 40.14266102948697, 38.64935146507594, 40.814159640729834, 37.41069224585577, 43.09057078259771, 40.914727405314096, 41.224248454108164, 41.62265648077427, 42.8510040488669, 41.56475891116639, 44.29325730779022, 43.26658258071173, 42.05624853843261, 42.10551273713776, 45.04576065907263, 43.100535962909774, 45.08583616740975, 42.86912197155277, 44.397873570856085, 43.1962394030992, 45.04751796270449, 46.30026140196688, 45.22550010114047, 46.01091461052398, 45.01344026977674, 46.83570663042369, 46.31142072496781, 48.844262976830706, 47.54777141830385, 46.065530062167994, 48.638382492983524, 48.06329150561834, 46.16859884314346, 50.078361057165665, 48.31179584796553, 48.38369178669106, 48.43880521916475, 49.09386610583067, 49.3587771810279, 50.47137270245496, 50.71012090637316, 48.63224757823849, 50.011056782554434, 51.19509765180712, 53.38889215357318, 47.28931831707658, 51.78891874402731, 52.19114100583667, 51.26899663147489, 50.553614474880334, 53.20357708179091, 52.747132808023636, 52.66504530048127, 52.09813011671332, 54.41075634915428, 53.5466930296885, 56.036922662883285, 52.80988013553946, 55.59413546781161, 53.04926291582609, 57.56568670782045, 54.19362746047943, 54.79024066530659, 57.65435080497002, 55.6646701443793, 56.22071978282304, 55.26180135427817, 56.655602441910446, 57.42059223716916, 56.431060056234315, 58.605651169466505, 56.52169339064655, 59.842246682664666, 57.02612598123565, 56.35068937589803, 60.69921255847483, 56.38489728358633, 59.386289074946376, 58.79531550858339, 60.00606134867577, 61.6331810810789, 57.94080261616594, 61.20557012568323, 61.070411892048284, 60.93424699252583, 61.1101595636799, 62.41054968659809, 60.324910191396995, 63.026821646903215, 60.80295439774068, 62.24389762366386, 61.73359964923442, 64.36755210475417, 63.42269688298765, 63.32989605421614, 66.00625063836073, 61.928203741273336, 66.76474743148268, 65.10412932214004, 64.96816183481118, 67.00855852876379, 63.819273225151676, 65.36098250702236, 67.48868742697786, 67.30144249148151, 64.5442416352223, 66.57966727260822, 68.49028613719955, 64.46373072830716, 67.60773389380574, 67.99379078754188, 68.61295715036832, 67.75851681222935, 68.02698522137632, 68.97004485494304, 67.3241917155743, 72.0022963839927, 66.22275513318607, 70.25862148405182, 69.19851887067549, 70.56286354286667, 70.39252719660959, 69.57731703715699, 72.54673020303602, 67.23658016340534, 74.87870755404464, 70.55776452707966, 73.23196102897231, 72.04282936132472, 70.79836168263432, 73.47183162739896, 72.27418206160607, 73.08313426348482, 73.60724615374613, 74.81425629899911, 72.95651138373711, 74.36420763303147, 75.430554560296, 75.99762846900006, 74.59434006695287, 77.53389331262576, 72.49831222341521, 76.1818624597443, 76.04808288571903, 75.07571351973144, 76.59429444944823, 76.40470070571351, 76.75077813863626, 76.93626098501875, 76.27129633098502, 81.26314700043109, 77.14445954015824, 77.71032156644787, 78.39298622460541, 79.68912922515977, 78.56103281412854, 79.8244796739992, 78.69565715521799, 80.78584881740278, 80.41928858030309, 78.32310829452572, 81.86426443959891, 81.93717882347549, 81.69278803070611, 79.61901250486818, 79.55490229939505, 83.78681666844291, 81.75466831296063, 81.81150558503435, 82.09268957399212, 82.46130425007769, 82.57488759140932, 84.84607002756522, 80.02550088418229, 83.69499849196002, 85.5333050524608, 83.61212621246744, 83.78127511406836, 85.70590881741012, 86.10729301732218, 85.60742799656066, 82.91535209092916, 86.40731254407753, 86.1227080761692, 86.8539308028499, 84.81597492768532, 88.54668438025266, 85.75289220915434, 86.90708090602794, 87.1671588456557, 89.20385111365664, 87.61540768974876, 86.22360982306941, 90.38032989219431, 88.29308325684848, 90.1555496504786, 86.6844546503969, 91.43261182450448, 91.2483948843325, 90.28445219948472, 89.10499383464582, 91.30369750475, 90.47028533837374, 91.30639557199208, 92.36808099609522, 88.83348206198616, 89.28323059555447, 93.71155440287686, 89.66933572438802, 94.40225165375534, 93.45771997716885, 91.76831349531363, 93.1069431716665, 92.68967336715195, 92.75073194444508, 98.61350846844479, 89.34481833847298, 95.14759826043348, 92.65887257561796, 96.19757900203277, 95.60835353716959, 94.41937042613728, 95.09269479514583, 96.370383700173, 93.20224489379524, 99.65130080316004, 96.45730281788008, 95.77613685200652, 100.12853950924926, 95.81784465979337, 100.8970247788644, 94.72798977383374, 99.63670387012894, 101.39300443138762, 98.35459676900297, 101.42346191920853, 95.74316839035441, 100.35659818469315, 98.0330345576521, 102.20242052255105, 99.2660172653625, 101.43525947496664, 100.76761778978826, 101.25511481707062, 100.41109666291828, 101.8390721717467, 105.70011092937405, 100.39020224175351, 99.97953843450398, 102.08520287979513, 102.46341454676892, 102.94506808861743, 102.98163121084588, 104.15203804495252, 104.73978152787899, 104.3029836818703, 103.73602115464939, 105.78800227462517, 103.79248248525711, 104.43930072899877, 107.42586022543588, 103.56961549455986, 105.20035555173278, 105.88536303815553, 103.75370986535853, 107.16154465998807, 106.9214778248671, 107.49036524898096, 107.57547934089285, 105.00591220292978, 108.01904523102543, 107.36290075064824, 107.79566537766624, 106.82600492051085, 108.62488590551028, 108.29848243468587, 109.47047236211637, 110.01871526114263, 110.22001178905644, 109.54041303093459, 108.99271763488179, 112.08836632106494, 111.6521540531325, 110.77234547124391, 108.18129379103789, 113.42284243828124, 112.30045761346449, 111.70025440535542, 113.00306893893844, 113.05384002884927, 115.27227442976843, 112.58015414860031, 113.46767810627216, 113.16827160710801, 113.10507499413546, 114.28572388753659, 112.95676037778708, 114.6356319221477, 113.80163557020035, 114.13114830995877, 115.35504405181939, 111.70111091794439, 117.15655806749339, 115.78889593279888, 114.84982662161065, 115.64244955772489, 116.55212808752027, 118.05210632749927, 114.72661268904113, 118.85183915905844, 118.4838252158557, 116.35129461580499, 115.9788914305039, 121.03148665675923, 119.62563772455692, 117.83922549341912, 122.11816065259501, 117.30659630940153, 118.962970558978, 120.14441999599927, 120.22095133987597, 121.62154526538933, 120.99290305427895, 120.26437001511903, 121.52308254779211, 123.27275778352964, 122.76360654017864, 123.27270806558212, 120.06049322005913, 121.93269967938608, 123.00674509349426, 121.97686704311383, 123.79293065885628, 123.34736750075342, 123.82835896453211, 125.66567964223728, 122.71488309496726, 124.22046659759559, 127.13613216355549, 124.51111704241376, 124.90200564542965, 125.97240073904345, 126.57410923710088, 127.18469888462064, 125.52782757591899, 125.39854882879047, 126.90707368912348, 128.11859870004102, 125.60132411228051, 126.81756188940096, 127.94548539592142, 127.46941925013326, 129.66385799061538, 127.20000266933675, 128.99115458894786, 130.10041470947556, 127.43086065146235, 128.19786183076883, 129.2767877040037, 133.07921566934698, 128.85606277117517, 128.89660171998082, 130.38320473920737, 130.62404798118888, 130.25665563121146, 133.02865834909596, 130.5536034748803, 132.8225290312726, 132.91431183258806, 129.57134618339933, 132.57355981100125, 133.81140246377856, 133.79773187153666, 131.76572766153254, 132.8266221911897, 134.4011597065185, 135.3873767261212, 132.49905909421102, 136.53869059352138, 134.38078673321064, 134.79563997006227, 135.4572516395691, 134.14473403406384, 136.03554543497108, 136.07085925618236, 134.260812070846, 137.63750190911279, 138.57181190237577, 136.68310510868088, 135.65853409593126, 137.67141871063336, 137.61742439059356, 138.21315223037732, 137.43424726666512, 137.2957276896371, 139.89676529041492, 137.8208203245735, 140.4321937635641, 139.72482278167564, 141.25643488875653, 140.4206147033765, 139.31654074277026, 144.23928087871198, 140.47445238856648, 140.8068253169498, 140.78183592053688, 139.176015712342, 142.26189112507626, 144.371235262857, 140.16284555515188, 144.63592113226207, 140.79417145931188, 145.38368781424117, 142.3627753704252, 144.19848709962272, 145.29128377791176, 145.64060491995832, 141.1913058248482, 144.46388454629445, 145.3974760769912, 144.16092232748133, 144.6710581883525, 146.69292178472838, 145.8752367410969, 146.1762082194038, 146.5708938164296, 145.8341823952977, 147.80393172950767, 148.32609486055776, 144.48018272733668, 149.5976391210948, 145.9005012618435, 148.1385644233905, 148.6703165093386, 149.0305700159293, 149.09400157127305, 149.15766522002878, 146.7128675098396, 150.20226207462397, 149.45632272576415, 148.923116862384, 151.6868363281908, 152.40814159147132, 149.03839565687377, 150.3066475711003, 151.9636321413417, 155.943670967252, 149.5574706175828, 152.78716541745615, 152.28437501741473, 154.52535715029114, 152.45733585313764, 154.51052997892776, 153.13224651471876, 151.54972159578563, 155.5841609885606, 154.00549464238662, 154.07233257885548, 156.58925007652897, 152.89584790681891, 153.80269977979242, 156.4642410113429, 157.91977024250843, 155.32145131826172, 156.51336781933543, 154.50670336153985, 154.90363161091975, 159.7742424967264, 156.33335493399449, 155.217906757641, 156.90099173573108, 158.7709150977857, 157.93563212980354, 157.200212053766, 159.37166851970687, 158.6372850605445, 160.00527111604163, 160.12751653117732, 158.34672103941747, 158.82828752632247, 160.6528889245144, 161.40762425150785, 160.1925934896529, 160.00887997042997, 163.08884144495312, 160.2776611900341, 162.88895866132128, 159.29508171789792, 164.2215924580284, 160.74183787477216, 163.41422443111276, 159.69062926238115, 164.29477760227263, 164.48805121701537, 165.1669753309887, 162.7881838717032, 164.60845581472643, 162.75424081974097, 165.77302143176252, 164.75342387298537, 165.41099302269606, 164.03514958783296, 168.8372351570576, 163.97917753219963, 167.6515835709468, 164.22360333424, 168.34080583197994, 166.03647122057976, 168.48064087484107, 162.7585966517155, 168.2313888538677, 168.11348502083473, 168.32816066171563, 167.26020790267978, 167.88988081533807, 167.85882630685563, 169.47943991455844, 169.08704738480048, 171.98111177608791, 168.74144892147723, 170.1676232095794, 169.52020284824482, 173.16824860258367, 169.07676689643256, 172.07457953207455, 170.6374642079727, 172.97763751966485, 173.43723059845854, 169.79933531142217, 172.21043268759206, 174.44754680176942, 172.6100045537895, 169.69156123146684, 175.8979726505919, 172.5647974756675, 172.86764420532324, 176.5178204027094, 174.12662346593436, 176.87131193430818, 175.45848462905775, 173.74854601667255, 172.8778909348364, 177.26362241236674, 176.08456525044522, 175.18418679322713, 176.86826161722195, 175.64928334555202, 180.9450365761394, 176.19759751608183, 175.10726806472292, 175.98212187253847, 180.3452568126454, 178.73626395420854, 177.69929111007752, 178.95425019932628, 176.77239565268525, 180.41214870526676, 179.96075013506731, 180.39842825678085, 179.49725998456205, 178.75892040960855, 179.04225445988197, 181.19559671270116, 184.3307752656105, 178.63143255928526, 181.04459995809884, 183.0610337272068, 180.995254186071, 181.938952854175, 182.75719961881532, 181.83132951885008, 183.66311020271831, 181.4757016806626, 184.44709321076505, 183.62791471329584, 183.2621032567934, 185.08752500757055, 183.31174156419252, 184.57564977220383, 188.1059175295427, 185.30921543542433, 183.10167888697924, 185.5193975421737, 185.36405504823205, 187.70498302157046, 185.37612200061494, 186.59865784513437, 185.12877827706382, 190.5577866593635, 186.03894726656904, 188.7527984685533, 187.4140243998985, 188.8420679842851, 187.3345152052451, 186.17140265181038, 190.85540868295823, 190.14199121106924, 188.79888425360082, 188.97224374633632, 192.5746202551157, 188.55558356733104, 191.31251067473931, 192.1403160562361, 191.61157476352446, 191.00539438309806, 190.68295841044198, 190.08902045443318, 192.28562187777817, 191.66161606831508, 194.1878633312282, 196.61059473252823, 193.1109138893235, 190.36448048332272, 193.22623075556908, 195.1111157768284, 193.6654219267279, 193.72309351309855, 192.90201401214597, 194.91823624960264, 196.61577692785824, 193.5804401794336, 196.18923211011565, 195.71183147436204, 197.12271026031135, 196.87357552426863, 192.82294013021, 196.24009734058313, 195.84410648079728, 198.01325127274322, 200.7998748023598, 197.38764739052758, 198.77787148529336, 198.7722959465034, 196.8358105569365, 198.2585047024917, 199.88171017631527, 198.92061184333852, 198.8483346299164]}], {}, {\"linkText\": \"Export to plot.ly\", \"showLink\": false})</script>"
      ],
      "text/plain": [
       "<IPython.core.display.HTML object>"
      ]
     },
     "metadata": {},
     "output_type": "display_data"
    }
   ],
   "source": [
    "iplot([Histogram2dContour(x=dX, y=dY, contours=Contours(coloring='heatmap')),\n",
    "       Scatter(x=dX, y=dY, mode='markers', marker=Marker(color='white', size=3, opacity=0.3))], show_link=False)"
   ]
  },
  {
   "cell_type": "markdown",
   "metadata": {},
   "source": [
    "For the first-differenced data we see that (i) we have now four regions where a lot of data points are located and (ii) that the data points in general are much closer to each other than before. Note that the axis decrease from (3000,1000) down to (600,250).\n",
    "\n",
    "We thereby clearly see how the first-difference already changed the shape of the data\n",
    "\n",
    "#### Relationship between two first-differenced $\\Delta^2 y_{it}$ and $\\Delta^2 x_{it}$ (i.e. FD-FD)"
   ]
  },
  {
   "cell_type": "code",
   "execution_count": 236,
   "metadata": {
    "collapsed": false
   },
   "outputs": [
    {
     "data": {
      "text/html": [
       "<div id=\"7d2cb395-720a-4b82-bd1c-9e45c685bb72\" style=\"height: 525; width: 100%;\" class=\"plotly-graph-div\"></div><script type=\"text/javascript\">window.PLOTLYENV=window.PLOTLYENV || {};window.PLOTLYENV.BASE_URL=\"https://plot.ly\";Plotly.newPlot(\"7d2cb395-720a-4b82-bd1c-9e45c685bb72\", [{\"y\": [-9.705620463008794, 9.25253371239096, -8.734190305551728, -9.640065275796157, 5.8525018941505405, -1.3907490038394084, 5.961856777027526, -1.0461671205284446, -3.814204696680058, -1.4339791759409763, 0.22398918450038607, -1.0145313423527043, -8.449918589243502, 16.415953095746158, -13.280331514206786, -4.082913899097321, -2.0315011128996616, 1.9881875567836786, 3.582835045462204, -3.9582404807091365, 0.05171981780088686, 5.468057639390825, 0.9069392275839334, -6.5956763903921996, 2.7541411230851125, -3.056317724509441, 1.1529723556911193, 2.499503078135554, 7.827470301726322, -5.577062119717951, -4.0340962180772095, -2.7946992507280726, 2.733124859267349, -0.3898301289323385, 0.8135357660034828, -5.883300097091251, -2.6583891290107573, -5.163583788410236, 9.736535722596074, -5.042964563916868, 1.7108694537620721, 3.3672463833814135, 0.5588881700241544, 4.931169806095625, -7.931154469307813, 2.0190675516313092, -2.6436968278016906, -1.9922210830350764, 9.891150900865824, -8.314430230476816, 7.895377697319731, -4.750657379011898, 4.664180058144339, -6.658415564926372, -4.151308588969087, -0.21314189867483435, 6.404484538281082, -3.7981056460598097, -0.5998673254557332, 1.7651821872790379, -4.251895349317898, 7.814054877445315, -6.585071121334039, 2.199967149584296, -4.182429133182296, 5.54600185010807, 3.5229686323032894, -4.215988550412362, -1.4239078224074717, 1.7250946742188091, 2.1930485399243764, -3.204988421379255, -5.5949023542137155, 6.608787494443902, -0.8368955671012941, 11.793341284499704, -10.22190152968102, 4.5080985398750215, 10.192911070430725, -4.2904203370152345, -0.23634551224719758, -1.341116369542405, -3.8656084307878302, 6.105006287492358, -2.9692990883273325, 7.987635712024087, -8.174333364497954, -0.8727284062577212, -0.7740937070377925, -3.1684095752697203, 3.16126101050466, 0.8762148341393186, 0.3234027562999131, 3.1589193872473658, -0.14603515075742735, 2.494228437896595, 1.2934802081714594, -6.418669991306132, 10.56231140210474, -9.122319840063923, 6.500957313167447, -2.2629177059925496, 0.3764207020704333, -3.370368315724704, 0.6409154898839233, -5.673448407125306, 1.9946624060962108, -0.9419300910478796, 4.392010518062364, -0.08105357084178877, 7.7376880533727785, -3.3777361122995444, -6.893496028215878, 10.773328118879022, -8.790694946551909, 7.757373887168768, -3.1323701580175225, -0.04713027334177866, -0.039519541655664625, 0.44014746441422403, 0.5501121188446803, 1.9090619584184196, -4.745155979183778, -7.274050078520133, 11.247341835943587, -3.6078189011835207, -1.3412730100924648, 1.6042544981758056, -1.4354874683216394, 2.3316322144941353, -3.732252476635807, -0.24743548518949865, -2.7743752038859952, 2.944983070326998, -3.0377629109431723, 1.5396084001468466, -0.00314139627886334, 1.8504674462358253, 0.9622654680829328, 2.5395670675908377, -2.6540501048191913, 5.58131672674881, -3.1867111353029713, 0.5455887882441175, -5.611473509632162, -3.344947858072146, 6.860622270779913, -2.5850199013466977, 4.916882147161175, -1.3161100544420492, 3.123904143574123, -3.006728683709696, -1.6270774794132876, 3.086433673313479, 2.4177771468296783, -9.73517481212781, 8.542692562769446, -8.035550097630676, 3.05899484723534, 1.0245538926188829, -2.3282226589574293, 1.9746928304026028, -2.2104118101190693, 5.9323009930196235, -5.2892612222558455, -7.314662535060336, 10.36014175083676, -3.4792402221000884, 2.97739024054502, -1.258533331172714, 2.4724917266420334, 2.7071968227087098, 2.291762221247211, -1.957584488714815, -5.575338498222266, 8.344586908239762, -4.57200680267556, 9.016115834984191, -10.742426364475136, 11.024114304454315, 3.253628936379357, 3.316168673430525, -10.37803433518593, 3.703172506925142, -2.8822739980550978, -0.7952079011522528, -4.453919433135212, 6.017106080815893, -6.431089001847681, -2.388785487853511, 10.18268670337801, -5.941436643040106, 5.21655027086814, -8.36975939073244, 8.166083742104547, 1.3489091771529331, 2.679860103730391, -8.446819558098241, 4.5845583802647525, -0.9438269819879679, -3.527291974176819, 7.229733396849923, -6.581168808752295, 5.497242011854155, -1.8052475678300084, -1.5413718082411947, 0.8740124507401106, -0.3743983819024379, 7.483827106821252, -10.922891358984657, -1.3120935530557745, 1.033208626245596, 2.429642516113745, 4.681980772872464, -11.32675179618792, 16.95619532459466, 4.43335553953699, -1.5186212944492468, -4.0185326194227855, -3.948104561366165, 3.391831275323227, -2.815698996588594, -7.2968039146128945, 4.25152398100613, 4.190026158992168, -3.9191721752272883, 9.587139828910779, -14.516305992059984, -2.616829782863306, -3.056296365734454, 4.972634691477651, 2.983857960115728, -4.873706368421608, 1.6892735203812208, -8.241363612228895, 0.3500781357406595, 0.13914335312108506, 0.8056818395335199, 2.1327760616918567, -2.3214284847549607, -5.3207653548979295, -1.4698992423453205, 8.056674682293874, -5.016166309446902, -0.772626247728283, -3.365488162890756, -5.080888937203156, 1.4952084122430733, 0.4436180172743889, -0.20687640667594565, 5.809962328724396, -11.137066679694954, 0.5760763078477567, -1.106466495599932, 0.10563401626370705, 4.670061104132799, -4.232508479307626, -3.8322981287652738, -0.6189688010042573, 0.3549495135750931, -2.76707559872159, -4.157887069685103, 0.5490436670015697, 0.9233194085895775, -5.376943372260087, -0.24673586688197702, 8.015618289394297, 0.4887500034979553, -3.8246050971489467, 8.083944506790658, -2.2380211378846866, -5.853335764595045, 6.670500879097176, 1.4593384867660006, 5.352107852725453, -10.226224665152358, 8.592662510793218, -6.475686850061379, 8.63874692612626, -3.2075384037288472, 2.5557276618320657, -0.014001734586031489, 11.880779775910696, -21.28610058573645, 16.078721259292024, 6.899396913812268, 1.3385328123870295, -3.5979848330787263, 1.4895846843700724, -6.393590468657521, 13.822171095338604, -1.2007644263033512, 9.007668504583648, -12.022684265892167, -12.081695905392507, 11.713527140179508, 1.9135356118707705, 6.471918922003795, -15.106017961604152, 13.831202693610749, 5.944233969982633, -0.9179938983261309, -0.9833299172721581, -2.2658477886280934, -1.4855923202850363, 2.6698303935779677, -9.979042434663825, -0.5479675546366707, 4.681062697064704, -1.6835497230662781, 0.6449623838831258, 1.1134200898450217, -4.613671631410739, 2.4600059377122534, 2.3335096175023864, 3.1331076269392497, 3.715468038139079, -6.0383299229388285, 1.8567852559793891, -4.366803188651261, 7.4887683075518225, -1.6157865770090325, 2.8917317286288835, -10.230042425753027, 0.1050329677906916, -1.128874427854612, -2.4707385185457724, -2.658448466597406, 2.105149798342268, 3.3361947699461325, 0.14987352577810498, -2.275467660748859, 6.697366018785033, -8.603991873558073, -0.49282380334898335, 12.662107716703304, -1.8953181727613924, 1.679790138893054, 4.575372653567001, -6.647653250547705, 3.5985841802252025, 1.0264603670437964, -1.0963831076641668, -2.282479449281027, 6.412386411652051, 1.394291279211302, 5.221158669404645, -11.258573664237247, 1.0286906436023173, -8.297977415854007, 3.1131670272000065, 3.076289750196622, -6.584622173962998, 6.490789264123123, -4.795569599607518, 0.7324858091581063, 9.497494748607323, -2.2052585919111607, 7.485131471865998, -6.486699830873704, 4.673494593498049, 1.7530134587701696, 1.4561357105799289, -5.200103169816259, 4.105733333780677, 2.695680287441064, 5.145703670787725, -8.00803837311446, 3.2474661680955705, -2.225013335430674, 4.229734339050651, -1.5414551675482926, -1.453903451513952, 0.7520306981413114, -0.9631461816593401, -8.763786571356661, 5.437583871043216, -2.7127017043619617, 3.408279525273997, -7.775678731035782, 3.5534686671512645, 1.1940609709432692, -3.472267762428828, -0.3155225371604047, -4.070142027709949, 5.864038272184644, -5.967978059255984, 1.23759133928462, -5.499809004968938, 1.1981144127571497, 2.11036789678991, -6.281282719567912, 2.15556675222183, 2.5070251138526487, -2.3013881790031974, 7.0321646804757165, 3.3614147471158162, 0.4356932271482492, -3.82589549967156, 6.258110629203372, -4.849312253232256, -0.4357281717520891, 8.113823687026354, 1.119012288802196, -6.752059682600702, -2.411132628722953, 2.223579067686728, -2.9986199644727094, 4.562495140796159, -0.3692693251130095, -2.9459486701671267, 2.211918765927578, -2.9669766243836193, -4.450537752465152, -2.534304311091546, 4.619304602061447, -6.0620210885815595, 2.3326135224689324, -3.256716914429944, 7.034548465760963, 3.1259570525254503, -0.7972895142780771, -3.8009439937561638, -7.885518693444283, 0.11016415206233887, 1.6432592915234636, 7.629521202895489, 1.7281224045666477, -4.965884255721676, -6.562192131155484, 10.083377386791199, -7.919340122223275, 0.5666194090500198, 0.32282419087891867, -8.406049102510224, 0.012986587788418547, 0.21635815861395713, -4.0209744744486215, 0.18057193901643132, -0.6433002353327311, 1.5405254158329171, 4.416646244217418, 1.6329472385151576, -9.14808404696555, -5.427067119278831, 3.4926824437641244, 3.1024820002553497, 5.941856569048014, -3.8674585113332114, -5.101143954322879, -1.458989920086026, -4.367481510759262, 5.882527204306825, -8.287729805648837, 3.804474250066505, 0.718921124943563, -10.15558672148012, 4.254928537533033, 2.4249847552446226, -3.702972851834886, 3.4352212614553537, -2.978425684150352, 12.261206720577945, -5.848944972006052, 2.5915798156561323, -4.925816819068245, -2.4185842109490068, 7.62142358959909, -9.900460364147364, 4.305315154713412, -1.6358610413547012, 10.390785079922523, -6.695325673192883, -6.496390790856594, 6.207784303725589, -1.6661434811435356, -5.292829497866023, 1.2588933877896125, -0.42746608491188454, 1.0500747103410504, 3.6385465907896446, 3.286016760616576, 1.5585708540299947, 0.9638047584144829, 9.517219997391976, -6.753329285636937, -4.744873857778771, 8.10625372449499, -7.672059419836387, -4.767726083502907, 7.159326454703432, 0.6237352848759201, -4.127933810991806, 2.151419605201454, 0.6723493205877276, -3.752413884230748, 1.2789067169273949, -3.402536657268911, -8.69345299416409, 4.84593322511148, -5.037043824006105, -5.888760748016523, 4.955475537969846, -12.435786263465616, 0.5492667390096244, -0.8368196973298154, -0.10248462608433329, -5.107272537135145, 6.603797904613998, 1.8290075739587337, -8.928018729828182, 4.372815251932934, 0.4315854545948241, -6.797379881124016, 2.793988904740445, 1.2815674167809448, -2.36340117300324, -5.939130992535638, 9.113109654770142, -5.722856048110998, -3.5900081371307806, 7.532417530863313, 3.6760863725174886, 5.316217486441019, -5.676330871109258, -6.66169052965256, -1.890209293717362, -3.259020760476915, -0.6013270044289811, 0.32942841860199223, -1.9044014044684445, 7.448071047988606, -7.6349267582847915, -0.8382571327983896, 11.080967211581992, -5.083763858804332, -0.9867118509041575, -3.4243419652544844, 5.897208180338794, -0.2720151635533057, -1.5597299669399263, -2.351754420296629, -0.3636184612712441, 10.595570033491867, -13.411141664318393, 3.730636509639453, -3.6146469012287525, -0.8345492428070429, 1.6386534140467575, 2.4618308046279935, -4.471987038684119, 7.902321608807142, -4.931976488416694, 8.13811018964725, -6.925942311134804, 4.877853993175563, -4.644117636832561, -1.8107135171430855, 1.382138823711557, 5.299510072652993, -6.694658795344139, -2.5436169087922735, 9.67048115224361, -10.80740315944422, 0.10098091116287833, 0.9294688165002754, -2.2955875233290044, 9.292516274288005, -0.3985526825870238, -3.488144282941221, 8.034558260817334, -11.699357848711998, 7.6376248596334335, -0.7700570612091724, -0.4234990374827703, -1.6495267477714606, 0.9292383318928614, 1.9804519178662758, 3.5702814800959004, -0.9001044355701424, -8.00996757232042, 2.5406421759605564, -3.896335395299957, -3.49967968679789, 2.8504286803392915, 4.07091152069404, -7.032248650389647, 5.457064913745853, 4.078881414844659, -0.7979100272957567, -9.024917831008452, -5.212999154542445, 5.220077029032609, 6.451606842059391, 3.4913466022019293, -1.9280194649229543, -4.266378726161747, 2.7221464854038686, -0.8540391546673618, -2.5981483400942125], \"x\": [-4.37663420086351, 3.8382100999266218, -3.977468370812235, -5.180600464453633, 5.39927139974578, -2.3926732778316575, -0.1017602028269784, 1.2026090021121214, -0.9773594657878526, 2.095082744011387, -1.2438803756195878, -0.5892095846585619, -2.325872699968559, 6.1135721496533835, -5.2570120686492, -0.8781850806106544, -1.494291516036304, 0.2888501493017426, -0.397584979118208, -0.6303199843570315, 0.5223903139659178, 2.2997860609369933, -1.3692055609612463, -0.495090501716863, 0.16165162970388103, -0.4861394763131699, 0.01669955126843803, -0.43109757089121636, 4.6333977870546015, -3.586241034863825, -0.8109500101584022, -0.583160490140866, -1.69701878716765, -0.22305404275622642, 1.4000516382497672, -4.173331812150558, -1.2457404158349021, -2.0291877026593355, 4.445496178353537, -4.232959751282319, 1.9642416025971983, 0.7757566765925787, 0.9566499404953728, 0.41245322095369374, -0.8929651588549277, 2.7701622862900592, -2.0071309605948215, -2.0029241924411423, 2.8460917426002883, -3.5364882715533454, 3.785145657805977, -0.014972878393841427, -0.4617133846228185, -0.7333682208779067, -1.2309536832287762, -0.048747973608257666, 2.1003729793181094, -2.658351919519845, 0.3739952060208651, 1.9386554601246928, -0.9481027806387949, 1.9836319326938323, -1.9558945786091684, 1.3117349552573145, -2.7234345980626316, 3.1041911646593263, 1.6892957269458577, -1.954282340036663, 0.16618966462468165, 0.9584499676683329, -0.48628644893780404, -1.771190196989835, -1.9821123309300184, 0.7970332899172732, -0.52992315640779, 3.2317293289416966, -1.5516488519888654, -0.11221057859818018, 3.72740760254009, -1.710701504022694, -0.07081131304127553, -0.29964155827502026, -1.57046039891015, 3.1299235990031775, -1.6831554288437793, 3.50803915178286, -3.0169454929467605, -0.8226802239960058, 0.40657870727014256, -2.6100721648261924, 1.0728270798923276, -1.0505161020401559, 0.7362315273833389, 0.02603925931770945, 0.967794285157197, 0.29278095523491743, -1.9765502891613238, -2.004441454624512, 5.11033567404769, -3.6556921417586423, 3.3037603405080773, -1.4145651317185042, 0.07518085795037877, -2.0302205126081247, 1.3516182912640033, -3.5899986398796813, 0.6439306112681749, -0.5200185051064352, 3.2365393491776615, -1.3401275423985055, 4.402049521182249, -0.3940128527845985, -2.692479245825126, 2.62169821664574, -3.3611179863631193, 1.674627711500463, -0.22890442879689488, -0.21513339051844582, 0.678267167863055, 0.19513197669657245, 0.6167600682665793, -0.3040755052590498, -1.4933095644110352, -3.4034673948740632, 5.679878536741938, -2.1758433772836128, 0.39840802666610386, 1.2283475680926301, -1.2862451377005044, -1.0266747270784933, -1.210334042279115, 0.049264198705145645, -1.9452246961628532, 1.9853002044999783, -2.21671419585698, -1.201634167756886, 1.8512785596052908, 1.2527434392623888, 0.7854145093835143, -0.997474340747246, 1.8222663606469496, 2.5328422518628955, -1.2964915585268528, -1.4822413561358587, -0.5750909873651864, -1.8946926624748812, 3.9097622140222086, 0.07189593872553246, 0.05511343247368927, 0.6550608866659218, 1.1125955214270604, 0.23874820391820606, -2.0778733281346717, 1.1840408692526836, 2.193794501766064, -6.099573836496603, 0.4022222618093565, -0.9221443743617783, -0.7153821565945577, -0.4564442737672749, -0.0820875075423686, -0.5669151837679465, -0.8640633194657852, 2.4902296331947866, -3.2270425273438264, -2.54487255198552, 4.516423791994356, -3.3720592473410136, 2.864110139663431, -1.9896806605907216, 0.5560496384437386, 1.3938010876322764, 0.7649897952587139, -0.9895321809348445, -2.0839577788199577, 3.3205532920181184, -2.816120701429014, 4.348523182576798, -4.3143152748885, 3.0013917913600494, 1.210745840092379, 1.6271197324031306, -3.692378464912963, -0.1351582336349466, -0.13616489952245558, 0.17591257115407188, -2.085639495201093, 2.7019114555062202, -2.223867249162538, -0.5102979744294416, 2.633952455519747, -0.9448552217665167, 2.6763545841445833, -4.07804689708739, 4.836543690209339, -0.13596748732885544, 2.0403966939526015, -3.1892853036121096, 2.127704919955505, -0.18724493549635213, -2.757200856259203, 1.9106188645913278, -4.026555408892392, 3.1440031654985887, 0.6191663628264337, -0.8544403381389714, 0.26846840914697623, -1.6458531393687394, 4.678104668418399, -5.779541250806631, -1.0601026133763298, 1.36434467219118, -0.1703363462570735, 2.9694131658790326, -5.310150039630685, 7.642127390639303, 2.674196501892652, -1.1891316676475867, -1.2444676786903983, -1.1976495657928865, 0.8089522018787534, 0.5241118902613096, -1.8577449152620034, 1.4076962492943608, 1.066346927264533, -1.4032884020471954, 2.939553245672897, -5.035581089210552, -0.13377957402526874, -0.9723693659875892, 1.5185809297167907, 0.3460774329227547, 0.18548284638248447, -0.6649646540337244, -4.118687460272852, 0.5658620262896363, 0.6826646581575346, -1.1280964110312368, 1.263446859870669, -1.1288225187812202, -0.36656023709969077, -2.096180285777365, 3.541156145073188, -0.24439079276938003, -2.073775525837931, -0.06411020547312773, -2.0321483554822777, 0.05683727207372158, 0.2811839889577641, 0.11358334133163339, 2.2711824361558968, -4.820569143382926, 1.838306560500783, -1.9211788399933596, 0.16914890160092, 0.40138419991205865, -0.4998650207615185, -2.692075905631498, -0.2846044679083235, 0.7312227266806985, -2.0379558751645845, -2.7937921710983176, 1.1541886968736037, 0.26007793962776304, -1.5884434239078757, -1.3917978666793545, 4.156720069124901, 1.862466393630129, -3.4710950000817036, 4.748157174107575, -0.9639426848477797, -1.1794583648388937, 2.19870367010418, 0.8361102336183421, 1.061685424103132, -3.534598934109056, 4.428323807322386, -4.042218678488837, 4.732915929367323, -1.6894064818552152, 1.3386296763528662, -0.41726980451454665, 5.862776523999713, -9.268690129971816, 5.802779921960507, 3.538706426414805, -0.5892254648631763, -1.1889831110323144, 1.277688905027162, -3.1681388063777547, 6.449055909364802, -0.6811659658735607, 4.352402657242749, -4.310694849455899, -6.169035005030665, 4.908714096295199, 1.7563005612586835, 3.0688651502055677, -5.680293528854122, 4.613429794338742, 4.16938596489895, -2.9364032571885446, 2.1692422096041355, 0.4874970272823589, -0.8440181541523373, 1.4279755088284105, -5.309908687620535, -0.41066380724953433, 2.105664445291154, 0.48165354184851594, 0.03656312222844349, 1.1704068341066431, -0.43679784600868743, -0.5669625272209089, 2.0519811199757783, 0.646818243741663, 2.98655949643711, -3.8562447308760284, 0.685007486422748, -2.1316531727970016, 3.4078347946295366, 0.5688874241138677, 0.08511409191189045, -2.5695671379630767, -0.6561444803771934, 0.43276462701800256, -0.9696604571553848, -0.3264034708244168, 1.1719899274305021, 0.5482428990262633, -0.6795987581218554, -0.5476953960528022, 3.0956486861831536, -0.8798085818885966, -2.5910516802060215, 5.241548647243349, -0.6002032081090647, 1.3028145335830175, 0.050771089910824685, -2.6921202811681155, 0.8875239576718457, -0.2994064991641494, 1.180648893401127, -1.3289635097495136, 1.678871544360618, 0.3295127397584281, 1.2238957418606162, -3.6539331338750003, -1.3676621346945126, -0.9390693111882342, 0.7926229361142418, 1.4999782399790007, -3.3254936384581413, 4.12522647001731, -2.132530600050714, -0.3724031853010956, 5.052595226255335, -1.7864122311378026, 4.278935159175887, -4.811564343193481, 1.1814494370212714, 0.07653134387669525, 1.4005939255133626, -0.7285330391599274, 1.258712532673087, 1.7496752357375271, 0.5091015254034801, -3.2122148455229933, 1.8722064593269465, -1.0298780503804323, 1.8160636157424506, -0.44556315810285696, 1.837320677705165, -2.9507965472700164, 1.5055835026283262, -2.625015121141729, 0.39088860301589534, 1.0703950936137971, 0.6105896475197596, -1.6568713087016533, -0.12927874712852372, 1.2115250109175406, -2.517274587760511, 1.2162377771204547, -0.47606614578816675, 2.194438740482127, -2.463855321278629, 1.1092601205276935, -2.6695540580132047, 0.7670011793064759, 3.80242796534327, -4.223152898171804, 0.040538948805647124, 0.24084324198150853, -0.3673923499774219, 2.7720027178845044, 2.268925556392304, 0.09178280131544625, -3.342965649188727, 1.2378426527773172, -0.013670592241908253, -2.032004210004118, 1.5745375153288137, 0.9862170196026909, -2.8883176319101835, -2.157903860310739, 0.4148532368516271, 0.6616116695068399, 1.8908114009072392, 0.035313821211275354, -1.8100471853363729, 0.9343099932629855, -1.8887067936948938, -1.0245710127496181, -0.05399432003980564, 0.5957278397837626, -0.7789049637121934, 2.601037600777829, -2.0759449658414155, 2.611373438990597, 1.531612107080889, -0.8358201853800438, -1.1040739606062289, -3.7648284901455042, 0.3323729283833359, -0.024989396412934184, 3.0858754127342536, 2.109344137780738, -4.208389707705123, -3.8417496729501863, 4.5895163549292874, -3.0209124438159733, 1.0927966782890337, 0.3493211420465627, -4.449299095110121, 0.9335915306967593, -1.2365537495098806, 0.5101358608711735, -0.8176850436314851, 0.30097147830690574, 0.3946855970257843, 1.969749334209979, 0.5221631310500925, -3.845912133221077, -3.6971378592513133, 2.238063161547018, 0.5317520859480851, 0.06343155534375455, 0.06366364875572117, -2.444797710189164, -0.7459393488598209, -0.5332058633801466, 2.763719465806787, -3.369745934597546, 1.2682519142265392, 1.6569845702413772, -6.3862003496691955, 3.229694799873357, -0.5027904000414196, -2.068021297153507, 2.053194125790128, -1.3782834642090052, 4.034439392774971, -1.578666346173975, 0.0668379364688576, -3.6934021697100547, 0.9068518729735047, 2.6615412315504727, -2.598318924246712, 1.191916501073706, -2.00666445779558, 4.870610885806656, -3.440887562731916, -1.1154481763534818, 1.8699233620546067, -0.8352829679821525, -0.735420076037542, -0.734383459162359, 1.3679860554971128, 0.1222454151356942, 0.48156648690499537, 1.8246013981919305, 0.7547353269934547, -0.18371351922291979, 3.079961474523145, -2.811180254919009, -3.5938769434233677, 4.926510740130482, -3.4797545832562378, -3.723595168731606, 4.604148339891481, 0.1932736147427363, -2.3787914592854804, 1.820271943023215, -1.8542149949854547, -1.01959755877715, 0.6575691497106959, -1.3758434348631, -4.858057624857963, 3.6724060387471695, -3.4279802367067873, -2.3043346114001793, 2.444169654261316, -5.722044223125579, -0.11790383303298313, 0.2146756408808983, -1.0679527590358475, -0.03105450848244118, 1.6206136077028077, -0.3923925297579558, -3.2396628546106854, 1.4261742881021746, -0.6474203613345821, -4.091481706151114, 2.997812635641992, -1.4371153241018533, 0.45959307879368794, -3.637895287036372, 2.4110973761698915, -1.8375422479799113, -2.9184433223226733, 6.206411419125061, 0.3028467296557551, 3.650176197386145, -2.3911969367750316, -1.4128273052504312, -1.7099386123852014, -0.870655081836162, -1.17905716192152, -0.9003784572180962, 1.6840748239948198, 5.295753230587366, -4.747439060057559, -1.0903294513589117, 4.3631349401069315, -1.6089928584368636, -1.0369728441310144, -2.181854546641034, 3.6397530525815114, -0.4513985701994443, -0.901168272218797, -0.7383395749534998, 0.2833340502734245, 3.1351785529093377, -5.69934270632524, 2.4131673988135844, -2.0657795411357824, 0.9436986681039912, 0.8182467646403211, 1.8317806838682316, -2.187408522055705, 2.971391530102437, -0.36581145650242775, 1.8254217507771386, -1.7757834433780317, 3.530267757338862, -2.796702094118359, -2.2075365484450913, -0.1553424939416459, 2.3409279733384096, -2.3288610209555145, -1.469879568070553, 5.429008382299685, -4.518839392794462, -1.3387740686548, 1.4280435843866144, -1.5075527790399974, 4.684006031147845, -0.7134174718889881, -1.3431069574684216, 3.602376508779372, -4.019036687784649, 2.7569271074082735, -0.5287412927116293, -0.6061803804263945, -0.3224359726560806, 2.196601423344987, -0.6240058094630854, 2.5262472629131025, -3.4996808432047146, -2.74643340600079, 2.861750272246354, -1.445693850100497, 0.0576715863706454, -0.8210795009525782, 1.6975406782555922, -3.0353367484246405, 2.6087919306820595, 1.4108787859493077, -0.24913473604271985, -4.050635394058645, -0.39599085978585435, 2.1691447919459392, 2.786623529616577, 1.3902240947657845, -0.005575538789969414, -1.936485389566883, 1.6232054738235604, -0.9610983329767464, -0.0722772134221259], \"type\": \"histogram2dcontour\", \"contours\": {\"coloring\": \"heatmap\"}}, {\"marker\": {\"opacity\": 0.3, \"color\": \"white\", \"size\": 3}, \"y\": [-9.705620463008794, 9.25253371239096, -8.734190305551728, -9.640065275796157, 5.8525018941505405, -1.3907490038394084, 5.961856777027526, -1.0461671205284446, -3.814204696680058, -1.4339791759409763, 0.22398918450038607, -1.0145313423527043, -8.449918589243502, 16.415953095746158, -13.280331514206786, -4.082913899097321, -2.0315011128996616, 1.9881875567836786, 3.582835045462204, -3.9582404807091365, 0.05171981780088686, 5.468057639390825, 0.9069392275839334, -6.5956763903921996, 2.7541411230851125, -3.056317724509441, 1.1529723556911193, 2.499503078135554, 7.827470301726322, -5.577062119717951, -4.0340962180772095, -2.7946992507280726, 2.733124859267349, -0.3898301289323385, 0.8135357660034828, -5.883300097091251, -2.6583891290107573, -5.163583788410236, 9.736535722596074, -5.042964563916868, 1.7108694537620721, 3.3672463833814135, 0.5588881700241544, 4.931169806095625, -7.931154469307813, 2.0190675516313092, -2.6436968278016906, -1.9922210830350764, 9.891150900865824, -8.314430230476816, 7.895377697319731, -4.750657379011898, 4.664180058144339, -6.658415564926372, -4.151308588969087, -0.21314189867483435, 6.404484538281082, -3.7981056460598097, -0.5998673254557332, 1.7651821872790379, -4.251895349317898, 7.814054877445315, -6.585071121334039, 2.199967149584296, -4.182429133182296, 5.54600185010807, 3.5229686323032894, -4.215988550412362, -1.4239078224074717, 1.7250946742188091, 2.1930485399243764, -3.204988421379255, -5.5949023542137155, 6.608787494443902, -0.8368955671012941, 11.793341284499704, -10.22190152968102, 4.5080985398750215, 10.192911070430725, -4.2904203370152345, -0.23634551224719758, -1.341116369542405, -3.8656084307878302, 6.105006287492358, -2.9692990883273325, 7.987635712024087, -8.174333364497954, -0.8727284062577212, -0.7740937070377925, -3.1684095752697203, 3.16126101050466, 0.8762148341393186, 0.3234027562999131, 3.1589193872473658, -0.14603515075742735, 2.494228437896595, 1.2934802081714594, -6.418669991306132, 10.56231140210474, -9.122319840063923, 6.500957313167447, -2.2629177059925496, 0.3764207020704333, -3.370368315724704, 0.6409154898839233, -5.673448407125306, 1.9946624060962108, -0.9419300910478796, 4.392010518062364, -0.08105357084178877, 7.7376880533727785, -3.3777361122995444, -6.893496028215878, 10.773328118879022, -8.790694946551909, 7.757373887168768, -3.1323701580175225, -0.04713027334177866, -0.039519541655664625, 0.44014746441422403, 0.5501121188446803, 1.9090619584184196, -4.745155979183778, -7.274050078520133, 11.247341835943587, -3.6078189011835207, -1.3412730100924648, 1.6042544981758056, -1.4354874683216394, 2.3316322144941353, -3.732252476635807, -0.24743548518949865, -2.7743752038859952, 2.944983070326998, -3.0377629109431723, 1.5396084001468466, -0.00314139627886334, 1.8504674462358253, 0.9622654680829328, 2.5395670675908377, -2.6540501048191913, 5.58131672674881, -3.1867111353029713, 0.5455887882441175, -5.611473509632162, -3.344947858072146, 6.860622270779913, -2.5850199013466977, 4.916882147161175, -1.3161100544420492, 3.123904143574123, -3.006728683709696, -1.6270774794132876, 3.086433673313479, 2.4177771468296783, -9.73517481212781, 8.542692562769446, -8.035550097630676, 3.05899484723534, 1.0245538926188829, -2.3282226589574293, 1.9746928304026028, -2.2104118101190693, 5.9323009930196235, -5.2892612222558455, -7.314662535060336, 10.36014175083676, -3.4792402221000884, 2.97739024054502, -1.258533331172714, 2.4724917266420334, 2.7071968227087098, 2.291762221247211, -1.957584488714815, -5.575338498222266, 8.344586908239762, -4.57200680267556, 9.016115834984191, -10.742426364475136, 11.024114304454315, 3.253628936379357, 3.316168673430525, -10.37803433518593, 3.703172506925142, -2.8822739980550978, -0.7952079011522528, -4.453919433135212, 6.017106080815893, -6.431089001847681, -2.388785487853511, 10.18268670337801, -5.941436643040106, 5.21655027086814, -8.36975939073244, 8.166083742104547, 1.3489091771529331, 2.679860103730391, -8.446819558098241, 4.5845583802647525, -0.9438269819879679, -3.527291974176819, 7.229733396849923, -6.581168808752295, 5.497242011854155, -1.8052475678300084, -1.5413718082411947, 0.8740124507401106, -0.3743983819024379, 7.483827106821252, -10.922891358984657, -1.3120935530557745, 1.033208626245596, 2.429642516113745, 4.681980772872464, -11.32675179618792, 16.95619532459466, 4.43335553953699, -1.5186212944492468, -4.0185326194227855, -3.948104561366165, 3.391831275323227, -2.815698996588594, -7.2968039146128945, 4.25152398100613, 4.190026158992168, -3.9191721752272883, 9.587139828910779, -14.516305992059984, -2.616829782863306, -3.056296365734454, 4.972634691477651, 2.983857960115728, -4.873706368421608, 1.6892735203812208, -8.241363612228895, 0.3500781357406595, 0.13914335312108506, 0.8056818395335199, 2.1327760616918567, -2.3214284847549607, -5.3207653548979295, -1.4698992423453205, 8.056674682293874, -5.016166309446902, -0.772626247728283, -3.365488162890756, -5.080888937203156, 1.4952084122430733, 0.4436180172743889, -0.20687640667594565, 5.809962328724396, -11.137066679694954, 0.5760763078477567, -1.106466495599932, 0.10563401626370705, 4.670061104132799, -4.232508479307626, -3.8322981287652738, -0.6189688010042573, 0.3549495135750931, -2.76707559872159, -4.157887069685103, 0.5490436670015697, 0.9233194085895775, -5.376943372260087, -0.24673586688197702, 8.015618289394297, 0.4887500034979553, -3.8246050971489467, 8.083944506790658, -2.2380211378846866, -5.853335764595045, 6.670500879097176, 1.4593384867660006, 5.352107852725453, -10.226224665152358, 8.592662510793218, -6.475686850061379, 8.63874692612626, -3.2075384037288472, 2.5557276618320657, -0.014001734586031489, 11.880779775910696, -21.28610058573645, 16.078721259292024, 6.899396913812268, 1.3385328123870295, -3.5979848330787263, 1.4895846843700724, -6.393590468657521, 13.822171095338604, -1.2007644263033512, 9.007668504583648, -12.022684265892167, -12.081695905392507, 11.713527140179508, 1.9135356118707705, 6.471918922003795, -15.106017961604152, 13.831202693610749, 5.944233969982633, -0.9179938983261309, -0.9833299172721581, -2.2658477886280934, -1.4855923202850363, 2.6698303935779677, -9.979042434663825, -0.5479675546366707, 4.681062697064704, -1.6835497230662781, 0.6449623838831258, 1.1134200898450217, -4.613671631410739, 2.4600059377122534, 2.3335096175023864, 3.1331076269392497, 3.715468038139079, -6.0383299229388285, 1.8567852559793891, -4.366803188651261, 7.4887683075518225, -1.6157865770090325, 2.8917317286288835, -10.230042425753027, 0.1050329677906916, -1.128874427854612, -2.4707385185457724, -2.658448466597406, 2.105149798342268, 3.3361947699461325, 0.14987352577810498, -2.275467660748859, 6.697366018785033, -8.603991873558073, -0.49282380334898335, 12.662107716703304, -1.8953181727613924, 1.679790138893054, 4.575372653567001, -6.647653250547705, 3.5985841802252025, 1.0264603670437964, -1.0963831076641668, -2.282479449281027, 6.412386411652051, 1.394291279211302, 5.221158669404645, -11.258573664237247, 1.0286906436023173, -8.297977415854007, 3.1131670272000065, 3.076289750196622, -6.584622173962998, 6.490789264123123, -4.795569599607518, 0.7324858091581063, 9.497494748607323, -2.2052585919111607, 7.485131471865998, -6.486699830873704, 4.673494593498049, 1.7530134587701696, 1.4561357105799289, -5.200103169816259, 4.105733333780677, 2.695680287441064, 5.145703670787725, -8.00803837311446, 3.2474661680955705, -2.225013335430674, 4.229734339050651, -1.5414551675482926, -1.453903451513952, 0.7520306981413114, -0.9631461816593401, -8.763786571356661, 5.437583871043216, -2.7127017043619617, 3.408279525273997, -7.775678731035782, 3.5534686671512645, 1.1940609709432692, -3.472267762428828, -0.3155225371604047, -4.070142027709949, 5.864038272184644, -5.967978059255984, 1.23759133928462, -5.499809004968938, 1.1981144127571497, 2.11036789678991, -6.281282719567912, 2.15556675222183, 2.5070251138526487, -2.3013881790031974, 7.0321646804757165, 3.3614147471158162, 0.4356932271482492, -3.82589549967156, 6.258110629203372, -4.849312253232256, -0.4357281717520891, 8.113823687026354, 1.119012288802196, -6.752059682600702, -2.411132628722953, 2.223579067686728, -2.9986199644727094, 4.562495140796159, -0.3692693251130095, -2.9459486701671267, 2.211918765927578, -2.9669766243836193, -4.450537752465152, -2.534304311091546, 4.619304602061447, -6.0620210885815595, 2.3326135224689324, -3.256716914429944, 7.034548465760963, 3.1259570525254503, -0.7972895142780771, -3.8009439937561638, -7.885518693444283, 0.11016415206233887, 1.6432592915234636, 7.629521202895489, 1.7281224045666477, -4.965884255721676, -6.562192131155484, 10.083377386791199, -7.919340122223275, 0.5666194090500198, 0.32282419087891867, -8.406049102510224, 0.012986587788418547, 0.21635815861395713, -4.0209744744486215, 0.18057193901643132, -0.6433002353327311, 1.5405254158329171, 4.416646244217418, 1.6329472385151576, -9.14808404696555, -5.427067119278831, 3.4926824437641244, 3.1024820002553497, 5.941856569048014, -3.8674585113332114, -5.101143954322879, -1.458989920086026, -4.367481510759262, 5.882527204306825, -8.287729805648837, 3.804474250066505, 0.718921124943563, -10.15558672148012, 4.254928537533033, 2.4249847552446226, -3.702972851834886, 3.4352212614553537, -2.978425684150352, 12.261206720577945, -5.848944972006052, 2.5915798156561323, -4.925816819068245, -2.4185842109490068, 7.62142358959909, -9.900460364147364, 4.305315154713412, -1.6358610413547012, 10.390785079922523, -6.695325673192883, -6.496390790856594, 6.207784303725589, -1.6661434811435356, -5.292829497866023, 1.2588933877896125, -0.42746608491188454, 1.0500747103410504, 3.6385465907896446, 3.286016760616576, 1.5585708540299947, 0.9638047584144829, 9.517219997391976, -6.753329285636937, -4.744873857778771, 8.10625372449499, -7.672059419836387, -4.767726083502907, 7.159326454703432, 0.6237352848759201, -4.127933810991806, 2.151419605201454, 0.6723493205877276, -3.752413884230748, 1.2789067169273949, -3.402536657268911, -8.69345299416409, 4.84593322511148, -5.037043824006105, -5.888760748016523, 4.955475537969846, -12.435786263465616, 0.5492667390096244, -0.8368196973298154, -0.10248462608433329, -5.107272537135145, 6.603797904613998, 1.8290075739587337, -8.928018729828182, 4.372815251932934, 0.4315854545948241, -6.797379881124016, 2.793988904740445, 1.2815674167809448, -2.36340117300324, -5.939130992535638, 9.113109654770142, -5.722856048110998, -3.5900081371307806, 7.532417530863313, 3.6760863725174886, 5.316217486441019, -5.676330871109258, -6.66169052965256, -1.890209293717362, -3.259020760476915, -0.6013270044289811, 0.32942841860199223, -1.9044014044684445, 7.448071047988606, -7.6349267582847915, -0.8382571327983896, 11.080967211581992, -5.083763858804332, -0.9867118509041575, -3.4243419652544844, 5.897208180338794, -0.2720151635533057, -1.5597299669399263, -2.351754420296629, -0.3636184612712441, 10.595570033491867, -13.411141664318393, 3.730636509639453, -3.6146469012287525, -0.8345492428070429, 1.6386534140467575, 2.4618308046279935, -4.471987038684119, 7.902321608807142, -4.931976488416694, 8.13811018964725, -6.925942311134804, 4.877853993175563, -4.644117636832561, -1.8107135171430855, 1.382138823711557, 5.299510072652993, -6.694658795344139, -2.5436169087922735, 9.67048115224361, -10.80740315944422, 0.10098091116287833, 0.9294688165002754, -2.2955875233290044, 9.292516274288005, -0.3985526825870238, -3.488144282941221, 8.034558260817334, -11.699357848711998, 7.6376248596334335, -0.7700570612091724, -0.4234990374827703, -1.6495267477714606, 0.9292383318928614, 1.9804519178662758, 3.5702814800959004, -0.9001044355701424, -8.00996757232042, 2.5406421759605564, -3.896335395299957, -3.49967968679789, 2.8504286803392915, 4.07091152069404, -7.032248650389647, 5.457064913745853, 4.078881414844659, -0.7979100272957567, -9.024917831008452, -5.212999154542445, 5.220077029032609, 6.451606842059391, 3.4913466022019293, -1.9280194649229543, -4.266378726161747, 2.7221464854038686, -0.8540391546673618, -2.5981483400942125], \"type\": \"scatter\", \"mode\": \"markers\", \"x\": [-4.37663420086351, 3.8382100999266218, -3.977468370812235, -5.180600464453633, 5.39927139974578, -2.3926732778316575, -0.1017602028269784, 1.2026090021121214, -0.9773594657878526, 2.095082744011387, -1.2438803756195878, -0.5892095846585619, -2.325872699968559, 6.1135721496533835, -5.2570120686492, -0.8781850806106544, -1.494291516036304, 0.2888501493017426, -0.397584979118208, -0.6303199843570315, 0.5223903139659178, 2.2997860609369933, -1.3692055609612463, -0.495090501716863, 0.16165162970388103, -0.4861394763131699, 0.01669955126843803, -0.43109757089121636, 4.6333977870546015, -3.586241034863825, -0.8109500101584022, -0.583160490140866, -1.69701878716765, -0.22305404275622642, 1.4000516382497672, -4.173331812150558, -1.2457404158349021, -2.0291877026593355, 4.445496178353537, -4.232959751282319, 1.9642416025971983, 0.7757566765925787, 0.9566499404953728, 0.41245322095369374, -0.8929651588549277, 2.7701622862900592, -2.0071309605948215, -2.0029241924411423, 2.8460917426002883, -3.5364882715533454, 3.785145657805977, -0.014972878393841427, -0.4617133846228185, -0.7333682208779067, -1.2309536832287762, -0.048747973608257666, 2.1003729793181094, -2.658351919519845, 0.3739952060208651, 1.9386554601246928, -0.9481027806387949, 1.9836319326938323, -1.9558945786091684, 1.3117349552573145, -2.7234345980626316, 3.1041911646593263, 1.6892957269458577, -1.954282340036663, 0.16618966462468165, 0.9584499676683329, -0.48628644893780404, -1.771190196989835, -1.9821123309300184, 0.7970332899172732, -0.52992315640779, 3.2317293289416966, -1.5516488519888654, -0.11221057859818018, 3.72740760254009, -1.710701504022694, -0.07081131304127553, -0.29964155827502026, -1.57046039891015, 3.1299235990031775, -1.6831554288437793, 3.50803915178286, -3.0169454929467605, -0.8226802239960058, 0.40657870727014256, -2.6100721648261924, 1.0728270798923276, -1.0505161020401559, 0.7362315273833389, 0.02603925931770945, 0.967794285157197, 0.29278095523491743, -1.9765502891613238, -2.004441454624512, 5.11033567404769, -3.6556921417586423, 3.3037603405080773, -1.4145651317185042, 0.07518085795037877, -2.0302205126081247, 1.3516182912640033, -3.5899986398796813, 0.6439306112681749, -0.5200185051064352, 3.2365393491776615, -1.3401275423985055, 4.402049521182249, -0.3940128527845985, -2.692479245825126, 2.62169821664574, -3.3611179863631193, 1.674627711500463, -0.22890442879689488, -0.21513339051844582, 0.678267167863055, 0.19513197669657245, 0.6167600682665793, -0.3040755052590498, -1.4933095644110352, -3.4034673948740632, 5.679878536741938, -2.1758433772836128, 0.39840802666610386, 1.2283475680926301, -1.2862451377005044, -1.0266747270784933, -1.210334042279115, 0.049264198705145645, -1.9452246961628532, 1.9853002044999783, -2.21671419585698, -1.201634167756886, 1.8512785596052908, 1.2527434392623888, 0.7854145093835143, -0.997474340747246, 1.8222663606469496, 2.5328422518628955, -1.2964915585268528, -1.4822413561358587, -0.5750909873651864, -1.8946926624748812, 3.9097622140222086, 0.07189593872553246, 0.05511343247368927, 0.6550608866659218, 1.1125955214270604, 0.23874820391820606, -2.0778733281346717, 1.1840408692526836, 2.193794501766064, -6.099573836496603, 0.4022222618093565, -0.9221443743617783, -0.7153821565945577, -0.4564442737672749, -0.0820875075423686, -0.5669151837679465, -0.8640633194657852, 2.4902296331947866, -3.2270425273438264, -2.54487255198552, 4.516423791994356, -3.3720592473410136, 2.864110139663431, -1.9896806605907216, 0.5560496384437386, 1.3938010876322764, 0.7649897952587139, -0.9895321809348445, -2.0839577788199577, 3.3205532920181184, -2.816120701429014, 4.348523182576798, -4.3143152748885, 3.0013917913600494, 1.210745840092379, 1.6271197324031306, -3.692378464912963, -0.1351582336349466, -0.13616489952245558, 0.17591257115407188, -2.085639495201093, 2.7019114555062202, -2.223867249162538, -0.5102979744294416, 2.633952455519747, -0.9448552217665167, 2.6763545841445833, -4.07804689708739, 4.836543690209339, -0.13596748732885544, 2.0403966939526015, -3.1892853036121096, 2.127704919955505, -0.18724493549635213, -2.757200856259203, 1.9106188645913278, -4.026555408892392, 3.1440031654985887, 0.6191663628264337, -0.8544403381389714, 0.26846840914697623, -1.6458531393687394, 4.678104668418399, -5.779541250806631, -1.0601026133763298, 1.36434467219118, -0.1703363462570735, 2.9694131658790326, -5.310150039630685, 7.642127390639303, 2.674196501892652, -1.1891316676475867, -1.2444676786903983, -1.1976495657928865, 0.8089522018787534, 0.5241118902613096, -1.8577449152620034, 1.4076962492943608, 1.066346927264533, -1.4032884020471954, 2.939553245672897, -5.035581089210552, -0.13377957402526874, -0.9723693659875892, 1.5185809297167907, 0.3460774329227547, 0.18548284638248447, -0.6649646540337244, -4.118687460272852, 0.5658620262896363, 0.6826646581575346, -1.1280964110312368, 1.263446859870669, -1.1288225187812202, -0.36656023709969077, -2.096180285777365, 3.541156145073188, -0.24439079276938003, -2.073775525837931, -0.06411020547312773, -2.0321483554822777, 0.05683727207372158, 0.2811839889577641, 0.11358334133163339, 2.2711824361558968, -4.820569143382926, 1.838306560500783, -1.9211788399933596, 0.16914890160092, 0.40138419991205865, -0.4998650207615185, -2.692075905631498, -0.2846044679083235, 0.7312227266806985, -2.0379558751645845, -2.7937921710983176, 1.1541886968736037, 0.26007793962776304, -1.5884434239078757, -1.3917978666793545, 4.156720069124901, 1.862466393630129, -3.4710950000817036, 4.748157174107575, -0.9639426848477797, -1.1794583648388937, 2.19870367010418, 0.8361102336183421, 1.061685424103132, -3.534598934109056, 4.428323807322386, -4.042218678488837, 4.732915929367323, -1.6894064818552152, 1.3386296763528662, -0.41726980451454665, 5.862776523999713, -9.268690129971816, 5.802779921960507, 3.538706426414805, -0.5892254648631763, -1.1889831110323144, 1.277688905027162, -3.1681388063777547, 6.449055909364802, -0.6811659658735607, 4.352402657242749, -4.310694849455899, -6.169035005030665, 4.908714096295199, 1.7563005612586835, 3.0688651502055677, -5.680293528854122, 4.613429794338742, 4.16938596489895, -2.9364032571885446, 2.1692422096041355, 0.4874970272823589, -0.8440181541523373, 1.4279755088284105, -5.309908687620535, -0.41066380724953433, 2.105664445291154, 0.48165354184851594, 0.03656312222844349, 1.1704068341066431, -0.43679784600868743, -0.5669625272209089, 2.0519811199757783, 0.646818243741663, 2.98655949643711, -3.8562447308760284, 0.685007486422748, -2.1316531727970016, 3.4078347946295366, 0.5688874241138677, 0.08511409191189045, -2.5695671379630767, -0.6561444803771934, 0.43276462701800256, -0.9696604571553848, -0.3264034708244168, 1.1719899274305021, 0.5482428990262633, -0.6795987581218554, -0.5476953960528022, 3.0956486861831536, -0.8798085818885966, -2.5910516802060215, 5.241548647243349, -0.6002032081090647, 1.3028145335830175, 0.050771089910824685, -2.6921202811681155, 0.8875239576718457, -0.2994064991641494, 1.180648893401127, -1.3289635097495136, 1.678871544360618, 0.3295127397584281, 1.2238957418606162, -3.6539331338750003, -1.3676621346945126, -0.9390693111882342, 0.7926229361142418, 1.4999782399790007, -3.3254936384581413, 4.12522647001731, -2.132530600050714, -0.3724031853010956, 5.052595226255335, -1.7864122311378026, 4.278935159175887, -4.811564343193481, 1.1814494370212714, 0.07653134387669525, 1.4005939255133626, -0.7285330391599274, 1.258712532673087, 1.7496752357375271, 0.5091015254034801, -3.2122148455229933, 1.8722064593269465, -1.0298780503804323, 1.8160636157424506, -0.44556315810285696, 1.837320677705165, -2.9507965472700164, 1.5055835026283262, -2.625015121141729, 0.39088860301589534, 1.0703950936137971, 0.6105896475197596, -1.6568713087016533, -0.12927874712852372, 1.2115250109175406, -2.517274587760511, 1.2162377771204547, -0.47606614578816675, 2.194438740482127, -2.463855321278629, 1.1092601205276935, -2.6695540580132047, 0.7670011793064759, 3.80242796534327, -4.223152898171804, 0.040538948805647124, 0.24084324198150853, -0.3673923499774219, 2.7720027178845044, 2.268925556392304, 0.09178280131544625, -3.342965649188727, 1.2378426527773172, -0.013670592241908253, -2.032004210004118, 1.5745375153288137, 0.9862170196026909, -2.8883176319101835, -2.157903860310739, 0.4148532368516271, 0.6616116695068399, 1.8908114009072392, 0.035313821211275354, -1.8100471853363729, 0.9343099932629855, -1.8887067936948938, -1.0245710127496181, -0.05399432003980564, 0.5957278397837626, -0.7789049637121934, 2.601037600777829, -2.0759449658414155, 2.611373438990597, 1.531612107080889, -0.8358201853800438, -1.1040739606062289, -3.7648284901455042, 0.3323729283833359, -0.024989396412934184, 3.0858754127342536, 2.109344137780738, -4.208389707705123, -3.8417496729501863, 4.5895163549292874, -3.0209124438159733, 1.0927966782890337, 0.3493211420465627, -4.449299095110121, 0.9335915306967593, -1.2365537495098806, 0.5101358608711735, -0.8176850436314851, 0.30097147830690574, 0.3946855970257843, 1.969749334209979, 0.5221631310500925, -3.845912133221077, -3.6971378592513133, 2.238063161547018, 0.5317520859480851, 0.06343155534375455, 0.06366364875572117, -2.444797710189164, -0.7459393488598209, -0.5332058633801466, 2.763719465806787, -3.369745934597546, 1.2682519142265392, 1.6569845702413772, -6.3862003496691955, 3.229694799873357, -0.5027904000414196, -2.068021297153507, 2.053194125790128, -1.3782834642090052, 4.034439392774971, -1.578666346173975, 0.0668379364688576, -3.6934021697100547, 0.9068518729735047, 2.6615412315504727, -2.598318924246712, 1.191916501073706, -2.00666445779558, 4.870610885806656, -3.440887562731916, -1.1154481763534818, 1.8699233620546067, -0.8352829679821525, -0.735420076037542, -0.734383459162359, 1.3679860554971128, 0.1222454151356942, 0.48156648690499537, 1.8246013981919305, 0.7547353269934547, -0.18371351922291979, 3.079961474523145, -2.811180254919009, -3.5938769434233677, 4.926510740130482, -3.4797545832562378, -3.723595168731606, 4.604148339891481, 0.1932736147427363, -2.3787914592854804, 1.820271943023215, -1.8542149949854547, -1.01959755877715, 0.6575691497106959, -1.3758434348631, -4.858057624857963, 3.6724060387471695, -3.4279802367067873, -2.3043346114001793, 2.444169654261316, -5.722044223125579, -0.11790383303298313, 0.2146756408808983, -1.0679527590358475, -0.03105450848244118, 1.6206136077028077, -0.3923925297579558, -3.2396628546106854, 1.4261742881021746, -0.6474203613345821, -4.091481706151114, 2.997812635641992, -1.4371153241018533, 0.45959307879368794, -3.637895287036372, 2.4110973761698915, -1.8375422479799113, -2.9184433223226733, 6.206411419125061, 0.3028467296557551, 3.650176197386145, -2.3911969367750316, -1.4128273052504312, -1.7099386123852014, -0.870655081836162, -1.17905716192152, -0.9003784572180962, 1.6840748239948198, 5.295753230587366, -4.747439060057559, -1.0903294513589117, 4.3631349401069315, -1.6089928584368636, -1.0369728441310144, -2.181854546641034, 3.6397530525815114, -0.4513985701994443, -0.901168272218797, -0.7383395749534998, 0.2833340502734245, 3.1351785529093377, -5.69934270632524, 2.4131673988135844, -2.0657795411357824, 0.9436986681039912, 0.8182467646403211, 1.8317806838682316, -2.187408522055705, 2.971391530102437, -0.36581145650242775, 1.8254217507771386, -1.7757834433780317, 3.530267757338862, -2.796702094118359, -2.2075365484450913, -0.1553424939416459, 2.3409279733384096, -2.3288610209555145, -1.469879568070553, 5.429008382299685, -4.518839392794462, -1.3387740686548, 1.4280435843866144, -1.5075527790399974, 4.684006031147845, -0.7134174718889881, -1.3431069574684216, 3.602376508779372, -4.019036687784649, 2.7569271074082735, -0.5287412927116293, -0.6061803804263945, -0.3224359726560806, 2.196601423344987, -0.6240058094630854, 2.5262472629131025, -3.4996808432047146, -2.74643340600079, 2.861750272246354, -1.445693850100497, 0.0576715863706454, -0.8210795009525782, 1.6975406782555922, -3.0353367484246405, 2.6087919306820595, 1.4108787859493077, -0.24913473604271985, -4.050635394058645, -0.39599085978585435, 2.1691447919459392, 2.786623529616577, 1.3902240947657845, -0.005575538789969414, -1.936485389566883, 1.6232054738235604, -0.9610983329767464, -0.0722772134221259]}], {}, {\"linkText\": \"Export to plot.ly\", \"showLink\": false})</script>"
      ],
      "text/plain": [
       "<IPython.core.display.HTML object>"
      ]
     },
     "metadata": {},
     "output_type": "display_data"
    }
   ],
   "source": [
    "iplot([Histogram2dContour(x=d2X, y=d2Y, contours=Contours(coloring='heatmap')),\n",
    "       Scatter(x=d2X, y=d2Y, mode='markers', marker=Marker(color='white', size=3, opacity=0.3))], show_link=False)"
   ]
  },
  {
   "cell_type": "markdown",
   "metadata": {},
   "source": [
    "The variation in the data (unsurprisingly) decreased and the data is much more centered, having almost just one bigger region is which most of the data is located. We can further see that the observations are not ordered within a straight line anymore.\n",
    "\n",
    "#### Relationship between first-differenced and de-meand $\\Delta y'_{it}$ and $\\Delta x'_{it}$ (i.e. FD-FE)"
   ]
  },
  {
   "cell_type": "code",
   "execution_count": 237,
   "metadata": {
    "collapsed": false
   },
   "outputs": [
    {
     "data": {
      "text/html": [
       "<div id=\"b438e11e-3522-48e9-8f9f-cb8989face42\" style=\"height: 525; width: 100%;\" class=\"plotly-graph-div\"></div><script type=\"text/javascript\">window.PLOTLYENV=window.PLOTLYENV || {};window.PLOTLYENV.BASE_URL=\"https://plot.ly\";Plotly.newPlot(\"b438e11e-3522-48e9-8f9f-cb8989face42\", [{\"y\": [4.836496067449048, -4.869124395559746, 4.383409316831213, -4.3507809887205156, 4.6514852607317, -4.988580015064457, 0.863921879086083, -0.5268271247533254, -2.994757848336408, 2.967098928691118, 1.9209318081626732, -1.8932728885173846, 1.2171226252937153, -0.21685655064726106, 0.007132633853125014, -1.0073987084995792, 1.4495452726112443, -7.000373316632258, 9.4155797791139, -3.864751735092886, 3.5808890915769016, -0.502024807520419, -2.5335259204200806, -0.545338363636402, -0.7209359981923065, 2.8618990472698975, -1.096341433439239, -1.044621615638352, -2.905593745737036, 2.5624638936537885, 3.469403121237722, -3.1262732691544777, -0.825690068981892, 1.9284510541032205, -1.1278666704062204, 0.025105685284898982, -4.394096929535337, -1.894593851399783, 5.932876450326539, 0.35581433060858814, 3.739640574105106, -0.29445564397210333, -3.089154894700176, -0.35603003543282696, 1.3564297379703234, 0.9665996090379849, 1.7801353750414677, -4.103164722049783, 2.141449810314171, -0.5169393186965863, -5.680523107106822, 4.0560126154892515, 2.084977100211262, -2.9579874637056065, -1.2471180099435344, 2.120128373437879, -0.9019624132389765, -0.34307424321482216, 4.5880955628808024, -3.343058906427011, 0.30560302093613245, 2.3246705725674417, -0.3190262552342489, -2.3112473382693253, -5.234992484740893, 4.656158416124931, -3.6582718143518846, 4.237105882967846, 2.895506896418347, -1.855150482593551, 2.809029575550788, -3.849385989375584, 1.6189312564939584, -2.5323773324751286, -2.745519231149963, 3.658965307131119, 2.7072173504529644, -1.0908882956068453, -1.6907556210625785, 0.07442656621645938, 0.9281618535992777, -3.3237334957186206, 4.4903213817266945, -2.0947497396073445, -0.9452612581240913, 1.2547058914602047, -2.9277232417220915, 2.618278608385978, -0.17825524341942867, 3.3447133888838607, -0.8712751615285015, -2.295182983935973, -1.5890981702814884, 0.13599650393732077, 2.329045043861697, -0.875943377517558, 1.1010069102136555, -4.49389544400006, 2.114892050443842, 1.2779964833425481, -4.8610798335030125, 6.932261450996691, -3.2896400786843287, 1.2184584611906928, -5.4403867562536306, 4.752524314177094, 0.4621039771618598, 0.22575846491466223, 1.4123899206776258, 0.07127355113522071, -3.7943348796526095, 2.310671407839749, 0.27673980135794807, -2.6925592869693844, 5.295076425054702, -2.879256939443252, 1.83369555202961, 0.9609671457718889, 0.18687343873409645, -2.981536136535624, -2.8899038640231396, 0.2713571464815203, 1.1475719806208389, 1.470974736920752, -2.919729074530963, 0.2391903127164028, 0.09315516195897544, 2.5873835998555705, -0.40135301100171716, 0.8921271971697422, -5.52654279413639, 5.03576860796835, 4.156990649962353, -4.965329190101571, 1.5356281230658766, -0.727289582926673, 1.2426397588385498, 1.6190604609089831, -1.751307854815721, -1.1103923649317977, 3.4932376250578443, -2.180210782067462, -0.1855483759712513, -1.127478467019131, -5.187903116469073, -0.7958925984067093, -0.8769461692484981, 6.86074188412428, 3.286718068612842, -0.0910180436867023, -6.984514071902581, 3.788814046976441, 3.497426805833925, -5.293268140717984, 2.464105746450784, -0.6682644115667387, -0.05492939026939325, -0.10205966361117191, -0.14157920526683654, 0.2985682591473875, -0.1808260735467826, 0.36928604529789766, 2.2783480037163173, -2.466807975467461, 0.7338213662141868, -6.540228712305947, 4.70711312363764, 1.0992942224541196, 0.5626993755618628, -0.778573634530602, 0.8256808636452035, -0.6098066046764359, 0.1792609487446839, 2.510893163238819, -1.221359313396988, -1.4687947985864866, 1.3677305954867904, -1.4066446083992048, 1.5383384619277933, -1.499424449015379, -1.6157524635296454, -0.07614406338279878, -0.07928545966166212, 1.7711819865741631, -1.3279701086528348, -0.36570464056990204, 2.1738624270209357, -0.48018767779825566, -2.729029174471151, 2.8522875522776587, -0.3344235830253126, 0.21116520521880489, 4.165923493565231, -1.4455500160669317, -4.790497874139078, 2.0701243966408356, -0.19064863396005194, -2.7756685353067496, 2.1412136118544254, 0.8251035574123762, -0.4327943959724223, 2.6911097476017005, -0.3156189361079953, -1.942696415521283, -1.0899201253679962, 1.996513547945483, 4.414290694775161, -5.320884117352648, -3.1539930850705673, 5.388699477698879, -2.646850619931797, 0.4121442273035427, -0.0979772975861124, 0.9265765950327705, -1.4016460639246588, 0.573046766477944, 0.013973666643437355, -2.196438143475632, 3.7358628495439916, -1.5533983727118539, 1.175736081401908, -6.138926453658428, 4.2212152971783325, 0.7419750750782441, -2.2218989464829235, 0.7554912940620966, -0.5030420371106175, 1.969449689531416, -2.686882605476427, 0.020314217232282772, 2.312076438479494, 0.3544919497646788, 1.1522121202156939, -4.423126378006572, 3.9214605302331904, -0.6505462724423694, -4.14690227011414, 4.869213564870051, -5.873212799605085, 5.15090150484923, -1.5037974552032836, 1.7498314811760736, 5.0660001546065985, -5.312034180579332, -1.1374404058782375, 2.5657321010469047, -0.316541897008193, -1.1117497981604458, 1.9396587849053901, -2.514260648229822, 3.5028454325860707, -2.9282435692616104, -1.8143950750388456, -4.203180562892356, 5.979506140485654, 0.038069497445547995, -1.7690539433110075, 3.4474963275571326, -4.922263063175308, 3.2438206789292394, -0.23990704520534223, 1.109002131947591, 3.788862235677982, -4.657957322420259, -2.0846823006603756, 2.499876079604377, 1.556049097616409, -1.9712428765604102, -3.5060261462248263, 3.7237072506250968, -2.8574615581271985, 2.6397804537269565, 1.9061184673080618, 0.10087089947805339, -1.4405009087631413, -0.5664884580230307, -0.7303919272376334, -1.1047903091400713, 6.379036797681181, -4.543854561303476, -0.13994477735940336, -1.4520383304151778, -0.4188297041695819, 2.010812811944163, -2.0871585127090384, 2.5948222601634257, -8.731929536024495, 8.224265788570165, -1.5610728525724085, 2.8722826869645814, 1.3536613925153347, -2.664871226907451, 1.9690875325101729, -1.979017028855992, 1.412814246467235, -1.402884750121359, 2.299334405708578, -4.997469508904317, -0.7459455278981864, 3.444080631093982, 1.7748857149800585, -2.14428646024723, 7.442853368663549, -7.0734526233964345, 2.2476118471452935, -0.3692179357180123, -3.4255143014524663, 1.547120390025185, -0.22335866597128984, 2.760499294144438, -2.1132070742771702, -0.42393355389594944, 5.971197803021056, -2.270165809207839, -1.9200876734671795, -1.7809443203460944, -1.0902922893073423, -0.28461044977382244, 1.8481656119180343, -0.47326287283692636, 2.7113549667726318, -2.6094103881252977, -4.079309630470618, 3.9773650518232557, 4.989809896672, -0.026356412774902083, -0.7989826605031851, -4.164470823393941, 2.9521579924622188, -2.128730944740937, -0.6335225324978637, -0.18990451522347485, 0.03444281056849263, -0.172433596107453, 5.637528732616943, -5.499537947078011, 0.09476751284822171, 0.6708438206959784, -0.43562267490395357, -0.3299886586402465, -0.4282170562544536, 4.241844047878345, 0.009335568570719488, -3.8229625601945543, 0.9785207436460723, 0.359551942641815, 0.7145014562169081, -2.0525741425046817, 2.613063616615648, -1.544823453069455, -0.9957797860678852, -0.07246037747830769, 2.1521708902874934, -3.224772481972593, -3.47150834885457, 4.544109940539727, -0.47524608074667185, 0.013503922751283426, -3.8111011743976633, 4.272843332392995, 2.9375585159367006, 0.699537378052014, -5.153798386543031, 1.5167024925541455, -1.2140016251491375, 0.2453368616168632, 5.597444714342316, -4.628779950810042, -5.366340189595803, 3.226322321197415, -3.249364528863964, 5.389382397262295, 1.1312904055270678, -2.0762479982017794, 0.47947966363028627, 0.4654779290442548, -2.2872148538878037, 9.593564922022892, -11.692535663713556, 4.386185595578468, -4.94431788328302, 1.955079030529248, 3.2936118429162775, -0.3043729901624488, -1.375936052783402, 0.11364863158667049, -6.279941837070851, 7.542229258267753, -0.5975898660912549, -1.798354292394606, 7.209314212189042, -4.8133700537031245, 2.7261244559869056, -9.355571449405602, 2.357955690773906, 4.271491302644677, -0.7587308841034428, 5.713188037900352, -9.3928299237038, 4.438372769906948, -3.75334604900587, 2.1908879209767633, 1.2728940226506325, 0.2895641053784743, 1.7747244032191247, -0.4911233854089687, -1.976715705694005, 0.6931146878839627, 6.587999929050056, -3.3910425056137683, -3.939010060250439, 0.7420526368142646, 0.6618260778968761, -1.021723645169402, -0.3767612612862763, 0.7366588285587454, 1.6468733503263593, -2.9667982810843796, -0.5067923433721262, 1.8267172741302602, -2.6979822585392412, 0.4351253684000085, 4.1505934065390875, -1.887736516399741, -1.081379424546867, 0.7754058314325221, -3.5913973572187388, 3.897370950333084, 2.3234846748806035, 0.707698097871571, 3.5994298265004545, -6.630612599252572, 1.1033471177207161, 1.2083800855114077, 0.07950565765679585, -2.3912328608889766, 0.10721275829041588, -2.55123570830699, -0.4460859099647223, 2.89010885998141, -0.6490128186554216, -0.4991392928773166, -2.7746069536261757, 3.922759065158857, 3.5338788776672345, -5.070112995890838, -5.5629367992398215, 7.099170917463482, -0.5622496032672188, -2.457567776028611, -0.7777776371355571, 3.797595016431444, 2.9298327560372286, -3.7178204945104767, -0.11923631428527415, 0.9072240527585222, 0.3604304524756117, -0.7359526551885551, -3.018432104469582, 3.3939543071824687, -0.8416543780514871, 0.5526369011598149, 5.7737955705644595, -5.484778093672787, 2.5991789684252353, 3.6278696120275526, -4.670107803826454, -1.5569407766264476, -0.6376035416967625, 2.4386862084998597, -4.1459359654631385, 2.3448532986599844, 0.8560606079747686, -3.9395089916327493, -3.207023182474643, 6.29047156613268, -0.4669468342812024, -2.672205426192363, 4.812926045673635, -1.6737737852000691, -4.745661602153575, -0.07216700865552639, 1.6808464501146432, 3.136982160694572, 1.1732906386116042, -4.026812531204655, 0.07892080257602174, 2.774601090017086, -0.6671251085574568, 4.478578562230268, -3.529459810884191, -0.2819936427886205, -0.060743376065261145, -2.285756711495935, 1.943977627554716, 0.40252246000642344, 0.9551987849796433, -0.49870466653430867, 0.25332603160700273, -0.7098201500523373, 4.532223419086392, -4.231563152270269, 1.2060207187729475, -1.5066809855890142, 0.4432625547745488, 3.851542080048546, -3.9241366509872364, -0.3706679838359719, 0.9194687872970917, 2.113529758240361, -1.3587380041884671, -1.6742605413488718, 1.6125818995041072, -2.4575601282058415, 3.406478143978802, -2.5614999152771816, 1.5221823948317024, 2.7597737341163224, -2.7400352708526157, -1.541920858095466, 1.0189737491360802, 3.12934164592599, -3.1519410736419218, -0.9963743214200917, -2.4876159160068028, 0.019409197845845938, -2.2819789811573514, 4.750185699318365, -1.782433798993111, 1.5789809481227053, 2.0146741752709545, -1.8112213244006057, -2.159994802348365, 4.0981158268550075, -0.7511964263772484, -1.1869245981293375, -4.956858989020702, 3.156964698005652, 4.275976986807848, -2.4760826957928543, 1.446214928817028, -0.964917699905925, 1.2586613677808032, -1.7399585966919062, -2.5007495254988044, 2.0617456152973546, 1.692476290184345, -1.2534723799827816, 0.9371836758623999, 3.149102441789978, 0.1821258174063587, -4.2684119350587935, 1.1065812044333256, -1.4277231066582203, 3.191581495403227, -2.8704395931783324, -1.8797388010769964, 0.45287472139193596, -2.803842193038008, 4.230706272722955, -0.9955870338160366, 2.1303700187094137, 1.3330805044313365, -2.4678634893248272, 5.448242121171177, -2.437276572273106, -2.327112420210767, -0.6838531286873035, -5.34473104052455, 2.284790162370939, 4.012912566937587, -0.9529716887840891, 1.8597904355268042, -4.70240169562868, 5.380975691162519, -2.5383644310607565, 1.5151356234005675, 2.0817550324505874, 2.404579223329506, -6.001469879180718, 0.8873245984638629, 0.9003111862522815, 1.1166693448662386, -2.904305129582383, -0.19891019055421566, -0.018338251537784345, -0.6616384868705154, 0.8788869289624017, -1.8419372906792546, 2.5747089535381633, 4.207656192053321, -4.94042785491223, 1.5483386175132523, -3.878728501765579, -0.38604605800145464, 2.716435942253895, -1.2473771825386848, 4.694479386509329, 0.8270208751761174, -4.2741230791467615, 1.8073513943674584, 0.3483614742814325, -4.01912003647783, 1.8634071678289956, 4.133829947967513, -4.153899857681324, -0.349425607614819, 0.36949551732874397, 4.8829795835324035, -5.272607137947716, -1.0176786004146834, 1.4073061548299393, 1.80422542918609, -1.8987474226487961, 1.5364738388065575, -1.4419518453437945, -6.919327508344452, 5.3418792122334935, -0.5070657597725585, 2.0845140558835737, 2.9982988223758866, -1.9275179966923588, -4.346102207641366, 3.275321381957724, 5.681652956092478, -4.218807408054886, 0.08650774665852623, -1.549353294696175, -2.821328275631288, 7.569456804291235, 0.8741311310983519, -5.622259659758242, -2.4995591127558896, 3.7082251909696993, 2.0420817098261637, -3.2507477880398596, -0.9929556759715297, 0.2659377118180828, -0.16152837309380175, 0.8885463372472486, -4.761561036908006, -1.1230144461183613, 2.1630023144982147, 3.7215731685282094, -3.79313124609763, -2.829326487683147, 6.687893509708829, -0.06543577592810834, 1.423543386045651, -3.32133047173312, 4.784923252761871, -2.887136167074516, -0.15980248594354407, -4.9275285694464515, 2.231797885256981, 2.855533170132901, 1.8521532254961812, -2.2757805854956246, -0.12436098029417053, 0.547988340293557, 3.0254912190266054, -0.7269226652041425, 0.5519840517232524, -2.8505526055456585, 5.356384089068854, -3.3370689050952365, 1.5088643200162437, -3.528179503989861, 5.047779357893887, -0.8409813901226357, 4.114494147847211, -8.321292115618405, 0.03208095092878693, 0.5813476899384113, -0.2554720073914041, -0.35795663347573736, 0.07130355705470492, -5.03596898008044, 1.5678289245335577, 3.3968364984922914, 4.401710057755963, -4.5263086720722185, -0.15349342013928435, 0.27809203445553976, 3.380648604277553, -3.4167312768464626, -0.6227423721060177, 0.6588250446749271, 2.4638389623277135, 0.10043778932447367, -5.8386932032111645, 3.2744164515589773, 4.204041721932754, -1.5188143261782443, -5.108822463309025, 2.423595067554288, -3.996090804831283, -0.3200044323137945, 4.9962130541272245, -0.6801178169820332, 6.75612773421733, 0.09443720456476967, -1.7957720891525923, -5.054792849629507, 0.7623813951378224, 0.1610543907088413, 0.49048280931083355, -1.413918595157611, -1.5590256236494042, 5.889045424339201, -1.74588133394559, -2.5841384667439797, -5.522165516558289, 5.558801695023703, 0.47503783621937146, -0.511674014684786, -0.3123438253402355, -3.73668579059472, 2.1605223897440737, 1.888507226190768, 2.436579300671042, 0.8768493337311156, -1.4749050865655136, -1.8385235478367576, -2.1737658203695673, 8.4218042131223, -4.989337451196093, -1.25870094155664, 2.7185964438133396, -0.8960504574154129, -1.7305997002224558, -0.09194628617569833, -1.5859599863307494, 0.8758708182972441, -3.5961162203868753, 4.306205388420267, 1.3614128492725968, -3.5705636391440976, 4.5675465505031525, -2.3583957606316517, -0.8836532971796487, 3.9942006959959144, -0.649916940836647, -2.4606304579797325, -2.012694455274186, -0.6305556315626291, 4.668954441090364, -2.025704354253776, -0.22567710466660174, -2.7692940134588753, 6.901187138784735, -3.9062160206594854, 0.033426789209897834, 0.13440770037277616, 1.0638765168730515, -1.2317110064559529, -5.898074793687215, 3.39444148060079, 2.995888798013766, -0.49225548492745475, -2.085645986165332, 5.9489122746520025, -5.750445574059995, 1.8871792855734384, 1.2016740015910727, 0.43161694038190035, 0.008117902899130058, -1.6414088448723305, -2.5797250778767875, -1.650486745983926, 0.32996517188234975, 3.90024665197825, 4.044901568847649, 3.144797133277507, -4.865170439042913, -2.3245282630823567, 3.9594842197891467, 0.06314882448918979, -3.4365308623087003, -0.5861021819694088, -0.901325543762141, 3.1695859769318986, -3.8626626734577485, 1.5944022402881046, -0.4039765897335883, 3.6749048251110707, 2.876994797815314, -6.147923033193138, -0.3131908591243473, -5.526190013666792, -0.3061129846341828, 6.145493857425208, -0.5879055376494762, 2.903441064552453, 0.9754215996294988, -3.2909571265322484, -0.9650532016956959, 1.7570932837081727, 0.903054129040811, -1.6950942110534015], \"x\": [2.35773769338738, -2.0188965074761294, 1.8193135924504922, -2.158154778361743, 1.7839829679252488, -3.3966174965283837, 2.0026539032173964, -0.39001937461426106, -0.28064448248886364, -0.38240468531584204, 0.8202043167962794, -0.15715514899157323, -0.8020694740341057, 1.2930132699772812, 0.04913289435769341, -0.5400766903008685, 0.001871467312027697, -2.3240012326565314, 3.789570916996852, -1.4674411516523476, 1.333572031150707, 0.45538695054005274, -1.0389045654962512, -0.7500544161945086, 0.4827511480256925, 0.08516616890748452, -0.545153815449547, -0.022763501483629156, -0.9164641397929056, 1.3833219211440877, 0.014116360182841348, -0.4809741415340216, 0.11765612806156511, 0.27930775776544614, -0.20683171854772375, -0.19013216727928572, -1.0968154566429327, -1.527913027534149, 3.1054847595204524, -0.4807562753433725, 1.3240474494811476, 0.5130974393227454, -0.07006305081812059, -1.7670818379857707, 0.5105976659799261, 0.28754362322369964, 1.6875952614734668, -2.4857365506770908, 0.8375251186174602, -0.408215297217442, -2.4374029998767774, 2.0080931784767593, 1.9986598430149947, -2.2342999082673245, -0.27005830567012623, 0.5056983709224525, -0.7004727761346441, 0.2561771643607287, 0.6686303853144224, -0.22433477354050524, -0.5733251863098481, 2.196837099980211, 0.1897061393853896, -1.8132180530557527, -1.3126110856250381, 1.5334806569752502, -2.0030076145780953, 1.7821380432278815, 0.42542840632626877, 0.41045552793242734, -0.05125785669039118, -0.7846260775682978, 0.4224960043961836, -0.8084576788325926, -0.8572056524408502, 1.2431673268772592, 1.3221024715982779, -1.336249447921567, -0.9622542419007019, 0.976401218223991, 0.20823476378447126, -0.7398680168543237, 1.2437639158395086, -0.7121306627696598, -0.39813170857649993, 0.9136032466808146, -1.809831351381817, 1.2943598132775094, -0.33137804134723226, 1.3579176855986255, -0.5963646544380374, -0.4301749898133558, -0.03289670203488981, 0.9255532656334431, 0.43926681669563905, -1.3319233802941959, 1.2205483923408238, -0.7615639385891946, 0.0354693513280786, -0.4944538050797114, -1.6199199260622947, 1.6118094028794019, 0.06016055089053651, -0.052050027707643665, -1.9225021216334, 1.8049054809066902, 0.09420397688399618, 0.02339266384272065, 0.2274804684105476, -0.07216108986447267, -1.6426214887746227, 1.4873021102285549, 0.2625833689780954, -1.420572059865684, 2.0874670919171763, -0.9294784010295842, 1.066238855568482, 0.24355863157247626, 0.6501373388426188, -1.9599348259835736, -0.46342014074500426, 0.6094069391473234, -0.44110916289283253, 0.29512236449050633, -0.5766218258756091, -0.5505825665578996, 0.4172117185992974, 0.7099926738342148, 1.207049525671323, -0.7695007634900008, -2.773942218114513, 2.3363934559331767, 1.4435302189945745, -2.212161922764068, 1.0915984177440095, -0.3229667139744947, 0.6208200400252792, 0.696000897975658, -1.3342196146324667, 0.017398676631536603, 2.5005383005522788, -1.0894603393274025, -0.44552972805922764, -0.9655482331656629, -2.8578531209795557, 0.3786862281981058, -0.9614413142003997, 3.4406082069818495, 0.9863247083395805, 0.592311855554982, -2.100167390270144, 0.5215308263755958, 1.7407507412213263, -1.620367245141793, 0.0542604663586701, -0.17464396243822478, -0.22656653521683268, -0.4416999257352785, 0.23656724212777647, 0.4316992188243489, 0.0627950925323475, 0.6795551607989267, 0.37547965553987694, -1.1178299088711583, 0.2566221221054761, -3.146845272768587, 2.5330332639733513, 0.3571898866897385, -0.5914185196207669, -0.193010492954663, 1.0353370751379671, -0.2509080625625373, 1.3628570167721392, 0.33618228969364594, -0.874151752585469, -0.8248875538803233, 1.0204469688363957, -0.9247777273264575, 1.0605224771735209, -1.1561917186834592, -0.3375995138005763, -1.5392336815574623, 0.31204487804782843, 1.5647883173102173, -0.5458903018257502, 0.23952420755776416, -0.7579501331894818, 1.0643162274574678, -0.8808255705997823, 1.6520166812631132, 0.35552512273626036, -1.1267162333995984, 0.4012240182557818, -0.17386696910940458, -2.068559631584286, 1.8412025824379228, -0.24524389194747442, -0.17334795322194196, -0.11823452074825269, 0.5368263659176691, -0.43435241099572863, 0.6782431104313318, 0.9169913143495378, -1.160882013785134, -0.4600344436983974, 0.7240064255542862, 2.91780092732035, -3.181772909176253, 0.3382510299725112, 0.7404732917818677, -0.1816710825799106, -0.8970532391744683, 0.5251057550386236, 0.06866148127134863, -0.013426026271019964, -0.5803412100389664, 0.2096933048378986, -0.6543700146278866, 1.8358596185669, -1.3911829087769263, 0.4934573298272156, -2.0514152221583046, 2.4650085698360513, -0.9070506775049623, -1.2922546840631455, 1.5718554556002857, -0.41782520499043585, 0.1382244334533027, -1.1804626681198513, 0.21333841951242505, 0.978328214771139, -0.011203966163705559, 0.6067218634631644, -1.4772359153567933, 1.8433173766613251, -0.972803324767689, -1.854582697328361, 2.4939404852484373, -1.8203747896400628, 1.1810170017199866, -0.798524630042607, 0.41222121004977197, 2.0393409424529025, -1.6530375224600604, 0.12547298219892156, -0.009685251436025055, -0.14585015095848064, 0.030062420195591244, 0.7692407059383441, -1.316398789262749, 1.3855126662434714, -0.8383545829190666, -0.698038941496165, -1.2083369159256065, 1.4256155395941406, 0.48076031782762385, -1.1773784121170863, 1.498976172027497, -2.5790707250598928, 2.2574729651494465, -0.12090140557663176, -0.2568688929054872, 1.7835278010471143, -1.4057575025649953, -0.8128560081536591, 1.314848911801846, 1.127603976305494, -1.6295968799537093, -0.2056872353719541, 1.7049316292193737, -2.3216237796730184, 0.8223793858255704, -0.10427170533708363, 0.51489465748935, -0.3395456806496213, -0.07107727150264509, 0.3402228330190127, -1.3056303063497268, 3.3724743620686723, -2.4070668887379583, 0.15548871050091861, -0.9046139028754112, 0.45973076931576884, 0.28939442305869534, -1.4825167022537613, 1.4868964636252713, -3.8232535760054134, 3.818873814633889, -1.0999646229230962, 1.574231878969556, 0.38510021132196925, -0.8593674673684291, 0.3627331008399608, -0.8349164649529257, -0.025964263074172322, 0.49814762718713723, 0.4228738299831889, -1.4348710852788145, -0.027174835984453694, 1.0391720912800793, 0.8415849510015789, -0.5617034510456165, 2.3778497946272807, -2.6577312945832716, 0.20687413108355202, 0.07309455705828327, -0.8992748089293059, 0.6193061207874848, -0.18605833437487718, 0.16001909854787755, 0.345501944930362, -0.3194627091033624, 2.635418417520441, -1.4832690427524113, -0.917407016462775, -0.23474235830524037, 0.4965545080333982, -0.6315419029978386, 0.6319049568728303, -0.49691756190838987, 0.43772128444516056, 0.0711610473454698, -2.025019238431895, 1.516136906641293, 1.236208408864286, 0.9918176160949059, -1.081957909743025, -1.1460681152161527, 1.42539663333541, -0.6067517221468677, -0.5499144500731461, -0.268730461115382, -0.015636438230941963, 0.09794690310069143, 2.369129339256588, -2.4514398041263377, -0.46042772577914093, 1.377878834721642, -0.5433000052717176, -0.3741511036707976, 0.6219133368545897, 1.0232975367666484, 0.5234325160051299, -2.168643389626368, 0.35733095638204304, 0.07272648847371954, 0.8039492151544181, -1.2340066600101665, 1.4532302949800027, -1.340561876118315, -0.1863731792447112, 0.07370476038305185, 0.8480514839893516, -0.7403919399185241, -2.1321898065978786, 2.0245302625270227, -0.8483415887086352, 1.0141248049214937, -2.45697019516021, 2.2911869789473656, 0.7630102785292365, -0.20093240631854314, -1.3803907711574368, 0.8183128989467434, -0.2742756537380586, 0.5618345798802835, 1.6235200039834154, -1.9110789301256403, -2.4833624985892016, 1.944961308733184, -2.0972573697556527, 2.63565855961167, 0.7020574743436185, -0.9873490075115967, 0.3512806688412695, -0.06598913567327713, -1.2134323085039966, 4.6493442154957165, -4.619345914476099, 1.1834340074844079, -2.0621713096214336, 1.4765351167933716, 0.8873096519301953, -0.30167345910211907, -0.9864612529226946, 0.29122765210446744, -2.8769111542732873, 3.5721447550915144, -0.587653141852229, -1.2688191077257898, 3.083583549516959, -1.2271112999389402, 1.7333440653107317, -4.435690939719933, 0.47302315657526606, 2.2293237178339496, -0.6148595468118003, 2.4540056033937674, -3.2262879254603547, 1.3871418688783876, -2.201148397480978, 1.9682375674179724, -0.9681656897705722, 1.2010765198335633, -0.30060757059270315, 0.18688945668965573, -0.6571286974626815, 0.770846811365729, 3.6613473080173833, -1.6485613796031515, -2.059225186852686, 0.0464392584384683, -0.6721234260272695, -0.19046988417875355, -0.15390676195031006, 1.016500072156333, 0.09808436812302546, -0.338713477885662, -0.9056760051065709, 1.1463051148692074, -1.0143322483057915, -0.3675140045641285, 2.6190454918729813, -1.237199239003047, -0.2998877270759408, 0.3851197593468072, -1.7465334134501944, 1.6613013811793422, 0.1731691704494267, 0.7420565945632944, 0.8271706864751849, -1.7423964514878918, 0.5181411610627435, -0.13800331931444987, 0.2947613077035527, -0.6748991494518322, -0.47825308535350075, -0.8046565561779175, 0.3673333712525846, 0.9155762702788479, 0.009634595072000707, -0.6699641630498547, -1.2176595591026569, 1.8779891270804967, 0.644995114708621, -0.23481346717997553, -2.825865147385997, 2.4156834998573515, -0.2139476331874164, -0.8141508412964811, 0.4886636922865364, 0.5394347821973611, 1.6501798568312012, -1.0419404243369144, -0.1544164666650687, -0.4538229658292181, -0.6407228012662358, 0.5399260921348912, -0.7890374176146224, 0.8898341267459955, 0.05440085771961378, 0.3839135974780419, 1.607809339338658, -2.046123794536342, 1.297125522586441, -0.0705366121080715, -1.0096059232963057, -0.21698298718206388, -0.49354347825951095, 1.0064347617194898, -2.3190588767386515, 1.8061675932786585, 0.5224507361247532, -1.6100798639259608, -1.9824830492270564, 3.070112177028278, 0.4032326795637715, -1.383179551574031, 2.8957556076018562, -1.9158087355916251, -1.2745012310826382, -0.09305179406136688, -0.01652045018467163, 1.384073475328691, -0.5203752959009762, -1.2489083350609036, 0.00980419761218343, 1.7594794333497106, 0.75622966387715, 1.26533118928063, -1.9468836562423633, -0.07467719691541674, -0.024232480560186787, -1.0541105309406191, 0.7619530848018314, 0.3163899266989745, -0.2789881103009435, 1.5583325674042214, -1.392463979865795, 0.11311952276253123, 1.5057182659448927, -1.1192968551968363, -0.728408252180941, 0.3419868414328562, 0.40281310549313787, 1.0134027530128975, -0.6434685556887558, -0.7727473028172795, 0.04593409141199345, 1.257459102329534, -1.2598154854309769, -0.04357770831052221, -0.12420593058027407, -0.6002720763684408, 1.5941666641136862, -0.8696886571649429, 0.3110816437842061, 1.4203417643118996, -1.249212293701305, -0.4822111143948291, -0.7503792621229763, 3.0520487032202936, -1.1711041949515106, -1.1305652461458635, -0.6899369359685465, -0.449093693987038, -0.8164860439644599, 1.9555166739200445, -0.9118441556547623, 1.3570814007375418, 1.448864202052988, -1.8941014471357391, -0.4135456409609901, 0.8242970118163271, 0.8106264195744188, -1.221377790429699, -0.9519322383204099, 0.6226052770084038, 1.6088222966110948, -1.2794953352990888, 1.2455983594305167, -0.9123055008802226, -0.49745226402859544, 0.16415940547824448, -0.9832536649519739, 0.9075577359552653, 0.9428715571665407, -0.8671756281698322, 0.49976365508760523, 1.4340736483505907, -0.4546331453443031, -1.4792041580939213, -0.06264193893397874, -0.11663625897378438, 0.47909158080997827, -0.29981338290221515, -1.5656490774103133, 1.0353885233675157, -1.0405564424738998, 1.5708169965166974, -0.45478049746907345, 1.0768316096118156, 0.2410114242317718, -0.8630625363744571, 2.6636822525206867, -1.1011462376248176, -0.7687733092414817, -0.7937627056544159, -2.3169812015147784, 0.7688942112194752, 2.8782383490002132, -1.33015135870491, 1.3417821882019894, -2.499967484748197, 2.0895488701810905, -0.9313635736348829, 0.1180666940374806, 1.2108633723265143, 1.560184514373077, -2.8891145807370435, -0.2094507384854296, 0.7241407922113297, -0.512412957298551, -0.0022770964273775007, 0.36410664431369355, -0.45357839931779154, -0.1526069210108858, 0.24207867601489852, -0.7769155328772683, 1.1928338013327107, 1.7149969323828032, -2.130915200838274, 1.5208837921779548, -2.1762540670733586, 0.06180909447365934, 0.5935611804217444, 0.5317939366616145, 0.595225492005369, 0.6588891407610902, -1.7859085694280736, 0.1351275768832636, -0.6108117719765573, -1.144017635356704, 1.619701830450083, 1.4789373512745385, -1.8908085833230075, -0.6225566690964683, 1.034427901144909, 3.300500462325573, -3.0856998873436225, 0.14399491252973462, -0.358795487511685, 0.8689897760223175, -1.1990315211311895, 0.8541626046589386, -0.5241208595500666, -2.2532058556114407, 1.78123353716353, 0.202567190989555, 0.2694051274584126, 1.6512403829081563, -2.0421617868018984, -1.1353099138283937, 1.526231317722079, 1.854447057097076, -0.743871867149636, 0.44804463392407, -1.5586198238715099, -1.6536523389006845, 3.216958546905971, -0.22392901582594504, -1.3393771921794269, -0.8009460185404862, 1.0689773435141205, 0.23369437553196803, -0.501725700505574, -0.1637667871607107, -0.8981502463230697, 0.4698358091740431, 0.5920812243097373, -1.4621593960230825, -0.9805929091180872, 0.8440084890738433, 1.598743816067298, -0.6994005341146305, -0.8831140533375503, 2.196847421185595, -0.614332833733414, 1.1020909833163444, -2.4917859601070234, 2.4347247800234584, -1.0450298032327794, 0.4423038029172801, -3.281291365814326, 1.3228569740771547, 1.516130588819891, 1.3375113716988665, -1.041280087586614, 0.7789918554366011, -1.0752231395488536, 0.7798744529432895, -0.23972310583386047, 0.41784604387683544, -0.9579973909862645, 2.6643352584465845, -2.1937223664113787, 1.4786836723357908, -1.9492965643709965, 1.9366771872008712, -0.367657424199308, 2.076512230062008, -3.645531993063571, 0.24807824409325008, 0.13017441106026695, 0.34485005194116525, -0.7231027070946823, -0.688917790050084, -0.7199722985325252, 0.9006413091702825, 0.5082487794123267, 1.8785150872405723, -1.3611477673701131, 0.0650265207320615, -0.5823938406025206, 1.928983792817803, -2.1624979133333113, 0.8353147223086808, -0.6018006017931725, 0.87147849038044, 1.331071569174128, -2.306823717862244, 0.10427365830764757, 1.2857754923649907, -0.5517667556149206, -3.470210077937594, 2.736201341187467, -1.454423911741145, -1.15157718208539, 2.498599015300755, 0.10740207852572325, 2.1322535555894717, 0.7194262503390405, -0.9905123620461609, -1.861167443882323, 0.9134633940514902, -0.26559376787002975, -1.165972225088126, 0.5181025989066939, -1.3255130300720168, 3.9702402005153488, -0.7771988595422101, -1.8675283109011218, -2.208611564828999, 2.1545233752779325, 0.5455305168410689, -0.4914423272899455, -0.07063597376011899, -2.252490520401153, 1.3872625321803582, 0.9358639619809139, 0.9742124790724915, 0.0730442068536945, -0.6652953680998053, -0.38196131782638076, -0.10500441122277948, 3.030174141686558, -2.6691685646386816, -0.25600116582509713, 0.8729236306397752, -1.1928559104960073, -0.2491572423920161, 0.569089522248305, -1.0229791343989234, 0.8088015494693082, -1.3786069725863968, 1.5927845575160404, -0.19440642216724768, -0.5602178786696754, 1.2652038721074632, -0.5105795712705685, -0.6974656338337013, 2.832802123505161, 0.03610002938680168, -2.1714365190582896, -0.47174186097407755, -0.6270843549157235, 1.7138436184226862, -0.6150174025328283, -0.4823846668983265, -1.9522642349688795, 3.4767441473308054, -1.0420952454636563, 0.6669469540578064, -0.6718271145969936, 0.7562164697896208, -0.7513363092503766, -2.8205190480492774, 1.8634869830985679, 1.1500695112095798, -0.19303744625884178, -1.3814958145442802, 2.220880694235092, -1.7981559935495568, 0.9587711138587167, 0.7802551529109394, 0.2515138601993101, -0.35466652022708445, -0.677102492883165, -1.967009978505473, 0.22959144483951377, -0.3944143646235716, 2.131832898289531, 3.2825397673423424, -0.2171410758623722, -2.963574481863162, -0.10182420961680805, 1.2607044696281946, -0.1849893804723024, -0.127317794101657, -0.9483972950542352, -0.40768511714989586, 1.2898555611056963, -1.7454811873189442, 0.8633107433631153, 0.0790671270740404, 1.4899459130233481, 1.2408111769806283, -2.8098242170780168, -1.4842351335377373, -1.8802259933235916, 0.2889187986223476, 3.0755423282389245, -0.5557589542876258, 0.8344651404781587, 0.8288896016881893, -1.1075957878786937, -0.7187856355237727, 0.9044198382997877, -0.056678494676958735, -0.12895570809908463], \"type\": \"histogram2dcontour\", \"contours\": {\"coloring\": \"heatmap\"}}, {\"marker\": {\"opacity\": 0.3, \"color\": \"white\", \"size\": 3}, \"y\": [4.836496067449048, -4.869124395559746, 4.383409316831213, -4.3507809887205156, 4.6514852607317, -4.988580015064457, 0.863921879086083, -0.5268271247533254, -2.994757848336408, 2.967098928691118, 1.9209318081626732, -1.8932728885173846, 1.2171226252937153, -0.21685655064726106, 0.007132633853125014, -1.0073987084995792, 1.4495452726112443, -7.000373316632258, 9.4155797791139, -3.864751735092886, 3.5808890915769016, -0.502024807520419, -2.5335259204200806, -0.545338363636402, -0.7209359981923065, 2.8618990472698975, -1.096341433439239, -1.044621615638352, -2.905593745737036, 2.5624638936537885, 3.469403121237722, -3.1262732691544777, -0.825690068981892, 1.9284510541032205, -1.1278666704062204, 0.025105685284898982, -4.394096929535337, -1.894593851399783, 5.932876450326539, 0.35581433060858814, 3.739640574105106, -0.29445564397210333, -3.089154894700176, -0.35603003543282696, 1.3564297379703234, 0.9665996090379849, 1.7801353750414677, -4.103164722049783, 2.141449810314171, -0.5169393186965863, -5.680523107106822, 4.0560126154892515, 2.084977100211262, -2.9579874637056065, -1.2471180099435344, 2.120128373437879, -0.9019624132389765, -0.34307424321482216, 4.5880955628808024, -3.343058906427011, 0.30560302093613245, 2.3246705725674417, -0.3190262552342489, -2.3112473382693253, -5.234992484740893, 4.656158416124931, -3.6582718143518846, 4.237105882967846, 2.895506896418347, -1.855150482593551, 2.809029575550788, -3.849385989375584, 1.6189312564939584, -2.5323773324751286, -2.745519231149963, 3.658965307131119, 2.7072173504529644, -1.0908882956068453, -1.6907556210625785, 0.07442656621645938, 0.9281618535992777, -3.3237334957186206, 4.4903213817266945, -2.0947497396073445, -0.9452612581240913, 1.2547058914602047, -2.9277232417220915, 2.618278608385978, -0.17825524341942867, 3.3447133888838607, -0.8712751615285015, -2.295182983935973, -1.5890981702814884, 0.13599650393732077, 2.329045043861697, -0.875943377517558, 1.1010069102136555, -4.49389544400006, 2.114892050443842, 1.2779964833425481, -4.8610798335030125, 6.932261450996691, -3.2896400786843287, 1.2184584611906928, -5.4403867562536306, 4.752524314177094, 0.4621039771618598, 0.22575846491466223, 1.4123899206776258, 0.07127355113522071, -3.7943348796526095, 2.310671407839749, 0.27673980135794807, -2.6925592869693844, 5.295076425054702, -2.879256939443252, 1.83369555202961, 0.9609671457718889, 0.18687343873409645, -2.981536136535624, -2.8899038640231396, 0.2713571464815203, 1.1475719806208389, 1.470974736920752, -2.919729074530963, 0.2391903127164028, 0.09315516195897544, 2.5873835998555705, -0.40135301100171716, 0.8921271971697422, -5.52654279413639, 5.03576860796835, 4.156990649962353, -4.965329190101571, 1.5356281230658766, -0.727289582926673, 1.2426397588385498, 1.6190604609089831, -1.751307854815721, -1.1103923649317977, 3.4932376250578443, -2.180210782067462, -0.1855483759712513, -1.127478467019131, -5.187903116469073, -0.7958925984067093, -0.8769461692484981, 6.86074188412428, 3.286718068612842, -0.0910180436867023, -6.984514071902581, 3.788814046976441, 3.497426805833925, -5.293268140717984, 2.464105746450784, -0.6682644115667387, -0.05492939026939325, -0.10205966361117191, -0.14157920526683654, 0.2985682591473875, -0.1808260735467826, 0.36928604529789766, 2.2783480037163173, -2.466807975467461, 0.7338213662141868, -6.540228712305947, 4.70711312363764, 1.0992942224541196, 0.5626993755618628, -0.778573634530602, 0.8256808636452035, -0.6098066046764359, 0.1792609487446839, 2.510893163238819, -1.221359313396988, -1.4687947985864866, 1.3677305954867904, -1.4066446083992048, 1.5383384619277933, -1.499424449015379, -1.6157524635296454, -0.07614406338279878, -0.07928545966166212, 1.7711819865741631, -1.3279701086528348, -0.36570464056990204, 2.1738624270209357, -0.48018767779825566, -2.729029174471151, 2.8522875522776587, -0.3344235830253126, 0.21116520521880489, 4.165923493565231, -1.4455500160669317, -4.790497874139078, 2.0701243966408356, -0.19064863396005194, -2.7756685353067496, 2.1412136118544254, 0.8251035574123762, -0.4327943959724223, 2.6911097476017005, -0.3156189361079953, -1.942696415521283, -1.0899201253679962, 1.996513547945483, 4.414290694775161, -5.320884117352648, -3.1539930850705673, 5.388699477698879, -2.646850619931797, 0.4121442273035427, -0.0979772975861124, 0.9265765950327705, -1.4016460639246588, 0.573046766477944, 0.013973666643437355, -2.196438143475632, 3.7358628495439916, -1.5533983727118539, 1.175736081401908, -6.138926453658428, 4.2212152971783325, 0.7419750750782441, -2.2218989464829235, 0.7554912940620966, -0.5030420371106175, 1.969449689531416, -2.686882605476427, 0.020314217232282772, 2.312076438479494, 0.3544919497646788, 1.1522121202156939, -4.423126378006572, 3.9214605302331904, -0.6505462724423694, -4.14690227011414, 4.869213564870051, -5.873212799605085, 5.15090150484923, -1.5037974552032836, 1.7498314811760736, 5.0660001546065985, -5.312034180579332, -1.1374404058782375, 2.5657321010469047, -0.316541897008193, -1.1117497981604458, 1.9396587849053901, -2.514260648229822, 3.5028454325860707, -2.9282435692616104, -1.8143950750388456, -4.203180562892356, 5.979506140485654, 0.038069497445547995, -1.7690539433110075, 3.4474963275571326, -4.922263063175308, 3.2438206789292394, -0.23990704520534223, 1.109002131947591, 3.788862235677982, -4.657957322420259, -2.0846823006603756, 2.499876079604377, 1.556049097616409, -1.9712428765604102, -3.5060261462248263, 3.7237072506250968, -2.8574615581271985, 2.6397804537269565, 1.9061184673080618, 0.10087089947805339, -1.4405009087631413, -0.5664884580230307, -0.7303919272376334, -1.1047903091400713, 6.379036797681181, -4.543854561303476, -0.13994477735940336, -1.4520383304151778, -0.4188297041695819, 2.010812811944163, -2.0871585127090384, 2.5948222601634257, -8.731929536024495, 8.224265788570165, -1.5610728525724085, 2.8722826869645814, 1.3536613925153347, -2.664871226907451, 1.9690875325101729, -1.979017028855992, 1.412814246467235, -1.402884750121359, 2.299334405708578, -4.997469508904317, -0.7459455278981864, 3.444080631093982, 1.7748857149800585, -2.14428646024723, 7.442853368663549, -7.0734526233964345, 2.2476118471452935, -0.3692179357180123, -3.4255143014524663, 1.547120390025185, -0.22335866597128984, 2.760499294144438, -2.1132070742771702, -0.42393355389594944, 5.971197803021056, -2.270165809207839, -1.9200876734671795, -1.7809443203460944, -1.0902922893073423, -0.28461044977382244, 1.8481656119180343, -0.47326287283692636, 2.7113549667726318, -2.6094103881252977, -4.079309630470618, 3.9773650518232557, 4.989809896672, -0.026356412774902083, -0.7989826605031851, -4.164470823393941, 2.9521579924622188, -2.128730944740937, -0.6335225324978637, -0.18990451522347485, 0.03444281056849263, -0.172433596107453, 5.637528732616943, -5.499537947078011, 0.09476751284822171, 0.6708438206959784, -0.43562267490395357, -0.3299886586402465, -0.4282170562544536, 4.241844047878345, 0.009335568570719488, -3.8229625601945543, 0.9785207436460723, 0.359551942641815, 0.7145014562169081, -2.0525741425046817, 2.613063616615648, -1.544823453069455, -0.9957797860678852, -0.07246037747830769, 2.1521708902874934, -3.224772481972593, -3.47150834885457, 4.544109940539727, -0.47524608074667185, 0.013503922751283426, -3.8111011743976633, 4.272843332392995, 2.9375585159367006, 0.699537378052014, -5.153798386543031, 1.5167024925541455, -1.2140016251491375, 0.2453368616168632, 5.597444714342316, -4.628779950810042, -5.366340189595803, 3.226322321197415, -3.249364528863964, 5.389382397262295, 1.1312904055270678, -2.0762479982017794, 0.47947966363028627, 0.4654779290442548, -2.2872148538878037, 9.593564922022892, -11.692535663713556, 4.386185595578468, -4.94431788328302, 1.955079030529248, 3.2936118429162775, -0.3043729901624488, -1.375936052783402, 0.11364863158667049, -6.279941837070851, 7.542229258267753, -0.5975898660912549, -1.798354292394606, 7.209314212189042, -4.8133700537031245, 2.7261244559869056, -9.355571449405602, 2.357955690773906, 4.271491302644677, -0.7587308841034428, 5.713188037900352, -9.3928299237038, 4.438372769906948, -3.75334604900587, 2.1908879209767633, 1.2728940226506325, 0.2895641053784743, 1.7747244032191247, -0.4911233854089687, -1.976715705694005, 0.6931146878839627, 6.587999929050056, -3.3910425056137683, -3.939010060250439, 0.7420526368142646, 0.6618260778968761, -1.021723645169402, -0.3767612612862763, 0.7366588285587454, 1.6468733503263593, -2.9667982810843796, -0.5067923433721262, 1.8267172741302602, -2.6979822585392412, 0.4351253684000085, 4.1505934065390875, -1.887736516399741, -1.081379424546867, 0.7754058314325221, -3.5913973572187388, 3.897370950333084, 2.3234846748806035, 0.707698097871571, 3.5994298265004545, -6.630612599252572, 1.1033471177207161, 1.2083800855114077, 0.07950565765679585, -2.3912328608889766, 0.10721275829041588, -2.55123570830699, -0.4460859099647223, 2.89010885998141, -0.6490128186554216, -0.4991392928773166, -2.7746069536261757, 3.922759065158857, 3.5338788776672345, -5.070112995890838, -5.5629367992398215, 7.099170917463482, -0.5622496032672188, -2.457567776028611, -0.7777776371355571, 3.797595016431444, 2.9298327560372286, -3.7178204945104767, -0.11923631428527415, 0.9072240527585222, 0.3604304524756117, -0.7359526551885551, -3.018432104469582, 3.3939543071824687, -0.8416543780514871, 0.5526369011598149, 5.7737955705644595, -5.484778093672787, 2.5991789684252353, 3.6278696120275526, -4.670107803826454, -1.5569407766264476, -0.6376035416967625, 2.4386862084998597, -4.1459359654631385, 2.3448532986599844, 0.8560606079747686, -3.9395089916327493, -3.207023182474643, 6.29047156613268, -0.4669468342812024, -2.672205426192363, 4.812926045673635, -1.6737737852000691, -4.745661602153575, -0.07216700865552639, 1.6808464501146432, 3.136982160694572, 1.1732906386116042, -4.026812531204655, 0.07892080257602174, 2.774601090017086, -0.6671251085574568, 4.478578562230268, -3.529459810884191, -0.2819936427886205, -0.060743376065261145, -2.285756711495935, 1.943977627554716, 0.40252246000642344, 0.9551987849796433, -0.49870466653430867, 0.25332603160700273, -0.7098201500523373, 4.532223419086392, -4.231563152270269, 1.2060207187729475, -1.5066809855890142, 0.4432625547745488, 3.851542080048546, -3.9241366509872364, -0.3706679838359719, 0.9194687872970917, 2.113529758240361, -1.3587380041884671, -1.6742605413488718, 1.6125818995041072, -2.4575601282058415, 3.406478143978802, -2.5614999152771816, 1.5221823948317024, 2.7597737341163224, -2.7400352708526157, -1.541920858095466, 1.0189737491360802, 3.12934164592599, -3.1519410736419218, -0.9963743214200917, -2.4876159160068028, 0.019409197845845938, -2.2819789811573514, 4.750185699318365, -1.782433798993111, 1.5789809481227053, 2.0146741752709545, -1.8112213244006057, -2.159994802348365, 4.0981158268550075, -0.7511964263772484, -1.1869245981293375, -4.956858989020702, 3.156964698005652, 4.275976986807848, -2.4760826957928543, 1.446214928817028, -0.964917699905925, 1.2586613677808032, -1.7399585966919062, -2.5007495254988044, 2.0617456152973546, 1.692476290184345, -1.2534723799827816, 0.9371836758623999, 3.149102441789978, 0.1821258174063587, -4.2684119350587935, 1.1065812044333256, -1.4277231066582203, 3.191581495403227, -2.8704395931783324, -1.8797388010769964, 0.45287472139193596, -2.803842193038008, 4.230706272722955, -0.9955870338160366, 2.1303700187094137, 1.3330805044313365, -2.4678634893248272, 5.448242121171177, -2.437276572273106, -2.327112420210767, -0.6838531286873035, -5.34473104052455, 2.284790162370939, 4.012912566937587, -0.9529716887840891, 1.8597904355268042, -4.70240169562868, 5.380975691162519, -2.5383644310607565, 1.5151356234005675, 2.0817550324505874, 2.404579223329506, -6.001469879180718, 0.8873245984638629, 0.9003111862522815, 1.1166693448662386, -2.904305129582383, -0.19891019055421566, -0.018338251537784345, -0.6616384868705154, 0.8788869289624017, -1.8419372906792546, 2.5747089535381633, 4.207656192053321, -4.94042785491223, 1.5483386175132523, -3.878728501765579, -0.38604605800145464, 2.716435942253895, -1.2473771825386848, 4.694479386509329, 0.8270208751761174, -4.2741230791467615, 1.8073513943674584, 0.3483614742814325, -4.01912003647783, 1.8634071678289956, 4.133829947967513, -4.153899857681324, -0.349425607614819, 0.36949551732874397, 4.8829795835324035, -5.272607137947716, -1.0176786004146834, 1.4073061548299393, 1.80422542918609, -1.8987474226487961, 1.5364738388065575, -1.4419518453437945, -6.919327508344452, 5.3418792122334935, -0.5070657597725585, 2.0845140558835737, 2.9982988223758866, -1.9275179966923588, -4.346102207641366, 3.275321381957724, 5.681652956092478, -4.218807408054886, 0.08650774665852623, -1.549353294696175, -2.821328275631288, 7.569456804291235, 0.8741311310983519, -5.622259659758242, -2.4995591127558896, 3.7082251909696993, 2.0420817098261637, -3.2507477880398596, -0.9929556759715297, 0.2659377118180828, -0.16152837309380175, 0.8885463372472486, -4.761561036908006, -1.1230144461183613, 2.1630023144982147, 3.7215731685282094, -3.79313124609763, -2.829326487683147, 6.687893509708829, -0.06543577592810834, 1.423543386045651, -3.32133047173312, 4.784923252761871, -2.887136167074516, -0.15980248594354407, -4.9275285694464515, 2.231797885256981, 2.855533170132901, 1.8521532254961812, -2.2757805854956246, -0.12436098029417053, 0.547988340293557, 3.0254912190266054, -0.7269226652041425, 0.5519840517232524, -2.8505526055456585, 5.356384089068854, -3.3370689050952365, 1.5088643200162437, -3.528179503989861, 5.047779357893887, -0.8409813901226357, 4.114494147847211, -8.321292115618405, 0.03208095092878693, 0.5813476899384113, -0.2554720073914041, -0.35795663347573736, 0.07130355705470492, -5.03596898008044, 1.5678289245335577, 3.3968364984922914, 4.401710057755963, -4.5263086720722185, -0.15349342013928435, 0.27809203445553976, 3.380648604277553, -3.4167312768464626, -0.6227423721060177, 0.6588250446749271, 2.4638389623277135, 0.10043778932447367, -5.8386932032111645, 3.2744164515589773, 4.204041721932754, -1.5188143261782443, -5.108822463309025, 2.423595067554288, -3.996090804831283, -0.3200044323137945, 4.9962130541272245, -0.6801178169820332, 6.75612773421733, 0.09443720456476967, -1.7957720891525923, -5.054792849629507, 0.7623813951378224, 0.1610543907088413, 0.49048280931083355, -1.413918595157611, -1.5590256236494042, 5.889045424339201, -1.74588133394559, -2.5841384667439797, -5.522165516558289, 5.558801695023703, 0.47503783621937146, -0.511674014684786, -0.3123438253402355, -3.73668579059472, 2.1605223897440737, 1.888507226190768, 2.436579300671042, 0.8768493337311156, -1.4749050865655136, -1.8385235478367576, -2.1737658203695673, 8.4218042131223, -4.989337451196093, -1.25870094155664, 2.7185964438133396, -0.8960504574154129, -1.7305997002224558, -0.09194628617569833, -1.5859599863307494, 0.8758708182972441, -3.5961162203868753, 4.306205388420267, 1.3614128492725968, -3.5705636391440976, 4.5675465505031525, -2.3583957606316517, -0.8836532971796487, 3.9942006959959144, -0.649916940836647, -2.4606304579797325, -2.012694455274186, -0.6305556315626291, 4.668954441090364, -2.025704354253776, -0.22567710466660174, -2.7692940134588753, 6.901187138784735, -3.9062160206594854, 0.033426789209897834, 0.13440770037277616, 1.0638765168730515, -1.2317110064559529, -5.898074793687215, 3.39444148060079, 2.995888798013766, -0.49225548492745475, -2.085645986165332, 5.9489122746520025, -5.750445574059995, 1.8871792855734384, 1.2016740015910727, 0.43161694038190035, 0.008117902899130058, -1.6414088448723305, -2.5797250778767875, -1.650486745983926, 0.32996517188234975, 3.90024665197825, 4.044901568847649, 3.144797133277507, -4.865170439042913, -2.3245282630823567, 3.9594842197891467, 0.06314882448918979, -3.4365308623087003, -0.5861021819694088, -0.901325543762141, 3.1695859769318986, -3.8626626734577485, 1.5944022402881046, -0.4039765897335883, 3.6749048251110707, 2.876994797815314, -6.147923033193138, -0.3131908591243473, -5.526190013666792, -0.3061129846341828, 6.145493857425208, -0.5879055376494762, 2.903441064552453, 0.9754215996294988, -3.2909571265322484, -0.9650532016956959, 1.7570932837081727, 0.903054129040811, -1.6950942110534015], \"type\": \"scatter\", \"mode\": \"markers\", \"x\": [2.35773769338738, -2.0188965074761294, 1.8193135924504922, -2.158154778361743, 1.7839829679252488, -3.3966174965283837, 2.0026539032173964, -0.39001937461426106, -0.28064448248886364, -0.38240468531584204, 0.8202043167962794, -0.15715514899157323, -0.8020694740341057, 1.2930132699772812, 0.04913289435769341, -0.5400766903008685, 0.001871467312027697, -2.3240012326565314, 3.789570916996852, -1.4674411516523476, 1.333572031150707, 0.45538695054005274, -1.0389045654962512, -0.7500544161945086, 0.4827511480256925, 0.08516616890748452, -0.545153815449547, -0.022763501483629156, -0.9164641397929056, 1.3833219211440877, 0.014116360182841348, -0.4809741415340216, 0.11765612806156511, 0.27930775776544614, -0.20683171854772375, -0.19013216727928572, -1.0968154566429327, -1.527913027534149, 3.1054847595204524, -0.4807562753433725, 1.3240474494811476, 0.5130974393227454, -0.07006305081812059, -1.7670818379857707, 0.5105976659799261, 0.28754362322369964, 1.6875952614734668, -2.4857365506770908, 0.8375251186174602, -0.408215297217442, -2.4374029998767774, 2.0080931784767593, 1.9986598430149947, -2.2342999082673245, -0.27005830567012623, 0.5056983709224525, -0.7004727761346441, 0.2561771643607287, 0.6686303853144224, -0.22433477354050524, -0.5733251863098481, 2.196837099980211, 0.1897061393853896, -1.8132180530557527, -1.3126110856250381, 1.5334806569752502, -2.0030076145780953, 1.7821380432278815, 0.42542840632626877, 0.41045552793242734, -0.05125785669039118, -0.7846260775682978, 0.4224960043961836, -0.8084576788325926, -0.8572056524408502, 1.2431673268772592, 1.3221024715982779, -1.336249447921567, -0.9622542419007019, 0.976401218223991, 0.20823476378447126, -0.7398680168543237, 1.2437639158395086, -0.7121306627696598, -0.39813170857649993, 0.9136032466808146, -1.809831351381817, 1.2943598132775094, -0.33137804134723226, 1.3579176855986255, -0.5963646544380374, -0.4301749898133558, -0.03289670203488981, 0.9255532656334431, 0.43926681669563905, -1.3319233802941959, 1.2205483923408238, -0.7615639385891946, 0.0354693513280786, -0.4944538050797114, -1.6199199260622947, 1.6118094028794019, 0.06016055089053651, -0.052050027707643665, -1.9225021216334, 1.8049054809066902, 0.09420397688399618, 0.02339266384272065, 0.2274804684105476, -0.07216108986447267, -1.6426214887746227, 1.4873021102285549, 0.2625833689780954, -1.420572059865684, 2.0874670919171763, -0.9294784010295842, 1.066238855568482, 0.24355863157247626, 0.6501373388426188, -1.9599348259835736, -0.46342014074500426, 0.6094069391473234, -0.44110916289283253, 0.29512236449050633, -0.5766218258756091, -0.5505825665578996, 0.4172117185992974, 0.7099926738342148, 1.207049525671323, -0.7695007634900008, -2.773942218114513, 2.3363934559331767, 1.4435302189945745, -2.212161922764068, 1.0915984177440095, -0.3229667139744947, 0.6208200400252792, 0.696000897975658, -1.3342196146324667, 0.017398676631536603, 2.5005383005522788, -1.0894603393274025, -0.44552972805922764, -0.9655482331656629, -2.8578531209795557, 0.3786862281981058, -0.9614413142003997, 3.4406082069818495, 0.9863247083395805, 0.592311855554982, -2.100167390270144, 0.5215308263755958, 1.7407507412213263, -1.620367245141793, 0.0542604663586701, -0.17464396243822478, -0.22656653521683268, -0.4416999257352785, 0.23656724212777647, 0.4316992188243489, 0.0627950925323475, 0.6795551607989267, 0.37547965553987694, -1.1178299088711583, 0.2566221221054761, -3.146845272768587, 2.5330332639733513, 0.3571898866897385, -0.5914185196207669, -0.193010492954663, 1.0353370751379671, -0.2509080625625373, 1.3628570167721392, 0.33618228969364594, -0.874151752585469, -0.8248875538803233, 1.0204469688363957, -0.9247777273264575, 1.0605224771735209, -1.1561917186834592, -0.3375995138005763, -1.5392336815574623, 0.31204487804782843, 1.5647883173102173, -0.5458903018257502, 0.23952420755776416, -0.7579501331894818, 1.0643162274574678, -0.8808255705997823, 1.6520166812631132, 0.35552512273626036, -1.1267162333995984, 0.4012240182557818, -0.17386696910940458, -2.068559631584286, 1.8412025824379228, -0.24524389194747442, -0.17334795322194196, -0.11823452074825269, 0.5368263659176691, -0.43435241099572863, 0.6782431104313318, 0.9169913143495378, -1.160882013785134, -0.4600344436983974, 0.7240064255542862, 2.91780092732035, -3.181772909176253, 0.3382510299725112, 0.7404732917818677, -0.1816710825799106, -0.8970532391744683, 0.5251057550386236, 0.06866148127134863, -0.013426026271019964, -0.5803412100389664, 0.2096933048378986, -0.6543700146278866, 1.8358596185669, -1.3911829087769263, 0.4934573298272156, -2.0514152221583046, 2.4650085698360513, -0.9070506775049623, -1.2922546840631455, 1.5718554556002857, -0.41782520499043585, 0.1382244334533027, -1.1804626681198513, 0.21333841951242505, 0.978328214771139, -0.011203966163705559, 0.6067218634631644, -1.4772359153567933, 1.8433173766613251, -0.972803324767689, -1.854582697328361, 2.4939404852484373, -1.8203747896400628, 1.1810170017199866, -0.798524630042607, 0.41222121004977197, 2.0393409424529025, -1.6530375224600604, 0.12547298219892156, -0.009685251436025055, -0.14585015095848064, 0.030062420195591244, 0.7692407059383441, -1.316398789262749, 1.3855126662434714, -0.8383545829190666, -0.698038941496165, -1.2083369159256065, 1.4256155395941406, 0.48076031782762385, -1.1773784121170863, 1.498976172027497, -2.5790707250598928, 2.2574729651494465, -0.12090140557663176, -0.2568688929054872, 1.7835278010471143, -1.4057575025649953, -0.8128560081536591, 1.314848911801846, 1.127603976305494, -1.6295968799537093, -0.2056872353719541, 1.7049316292193737, -2.3216237796730184, 0.8223793858255704, -0.10427170533708363, 0.51489465748935, -0.3395456806496213, -0.07107727150264509, 0.3402228330190127, -1.3056303063497268, 3.3724743620686723, -2.4070668887379583, 0.15548871050091861, -0.9046139028754112, 0.45973076931576884, 0.28939442305869534, -1.4825167022537613, 1.4868964636252713, -3.8232535760054134, 3.818873814633889, -1.0999646229230962, 1.574231878969556, 0.38510021132196925, -0.8593674673684291, 0.3627331008399608, -0.8349164649529257, -0.025964263074172322, 0.49814762718713723, 0.4228738299831889, -1.4348710852788145, -0.027174835984453694, 1.0391720912800793, 0.8415849510015789, -0.5617034510456165, 2.3778497946272807, -2.6577312945832716, 0.20687413108355202, 0.07309455705828327, -0.8992748089293059, 0.6193061207874848, -0.18605833437487718, 0.16001909854787755, 0.345501944930362, -0.3194627091033624, 2.635418417520441, -1.4832690427524113, -0.917407016462775, -0.23474235830524037, 0.4965545080333982, -0.6315419029978386, 0.6319049568728303, -0.49691756190838987, 0.43772128444516056, 0.0711610473454698, -2.025019238431895, 1.516136906641293, 1.236208408864286, 0.9918176160949059, -1.081957909743025, -1.1460681152161527, 1.42539663333541, -0.6067517221468677, -0.5499144500731461, -0.268730461115382, -0.015636438230941963, 0.09794690310069143, 2.369129339256588, -2.4514398041263377, -0.46042772577914093, 1.377878834721642, -0.5433000052717176, -0.3741511036707976, 0.6219133368545897, 1.0232975367666484, 0.5234325160051299, -2.168643389626368, 0.35733095638204304, 0.07272648847371954, 0.8039492151544181, -1.2340066600101665, 1.4532302949800027, -1.340561876118315, -0.1863731792447112, 0.07370476038305185, 0.8480514839893516, -0.7403919399185241, -2.1321898065978786, 2.0245302625270227, -0.8483415887086352, 1.0141248049214937, -2.45697019516021, 2.2911869789473656, 0.7630102785292365, -0.20093240631854314, -1.3803907711574368, 0.8183128989467434, -0.2742756537380586, 0.5618345798802835, 1.6235200039834154, -1.9110789301256403, -2.4833624985892016, 1.944961308733184, -2.0972573697556527, 2.63565855961167, 0.7020574743436185, -0.9873490075115967, 0.3512806688412695, -0.06598913567327713, -1.2134323085039966, 4.6493442154957165, -4.619345914476099, 1.1834340074844079, -2.0621713096214336, 1.4765351167933716, 0.8873096519301953, -0.30167345910211907, -0.9864612529226946, 0.29122765210446744, -2.8769111542732873, 3.5721447550915144, -0.587653141852229, -1.2688191077257898, 3.083583549516959, -1.2271112999389402, 1.7333440653107317, -4.435690939719933, 0.47302315657526606, 2.2293237178339496, -0.6148595468118003, 2.4540056033937674, -3.2262879254603547, 1.3871418688783876, -2.201148397480978, 1.9682375674179724, -0.9681656897705722, 1.2010765198335633, -0.30060757059270315, 0.18688945668965573, -0.6571286974626815, 0.770846811365729, 3.6613473080173833, -1.6485613796031515, -2.059225186852686, 0.0464392584384683, -0.6721234260272695, -0.19046988417875355, -0.15390676195031006, 1.016500072156333, 0.09808436812302546, -0.338713477885662, -0.9056760051065709, 1.1463051148692074, -1.0143322483057915, -0.3675140045641285, 2.6190454918729813, -1.237199239003047, -0.2998877270759408, 0.3851197593468072, -1.7465334134501944, 1.6613013811793422, 0.1731691704494267, 0.7420565945632944, 0.8271706864751849, -1.7423964514878918, 0.5181411610627435, -0.13800331931444987, 0.2947613077035527, -0.6748991494518322, -0.47825308535350075, -0.8046565561779175, 0.3673333712525846, 0.9155762702788479, 0.009634595072000707, -0.6699641630498547, -1.2176595591026569, 1.8779891270804967, 0.644995114708621, -0.23481346717997553, -2.825865147385997, 2.4156834998573515, -0.2139476331874164, -0.8141508412964811, 0.4886636922865364, 0.5394347821973611, 1.6501798568312012, -1.0419404243369144, -0.1544164666650687, -0.4538229658292181, -0.6407228012662358, 0.5399260921348912, -0.7890374176146224, 0.8898341267459955, 0.05440085771961378, 0.3839135974780419, 1.607809339338658, -2.046123794536342, 1.297125522586441, -0.0705366121080715, -1.0096059232963057, -0.21698298718206388, -0.49354347825951095, 1.0064347617194898, -2.3190588767386515, 1.8061675932786585, 0.5224507361247532, -1.6100798639259608, -1.9824830492270564, 3.070112177028278, 0.4032326795637715, -1.383179551574031, 2.8957556076018562, -1.9158087355916251, -1.2745012310826382, -0.09305179406136688, -0.01652045018467163, 1.384073475328691, -0.5203752959009762, -1.2489083350609036, 0.00980419761218343, 1.7594794333497106, 0.75622966387715, 1.26533118928063, -1.9468836562423633, -0.07467719691541674, -0.024232480560186787, -1.0541105309406191, 0.7619530848018314, 0.3163899266989745, -0.2789881103009435, 1.5583325674042214, -1.392463979865795, 0.11311952276253123, 1.5057182659448927, -1.1192968551968363, -0.728408252180941, 0.3419868414328562, 0.40281310549313787, 1.0134027530128975, -0.6434685556887558, -0.7727473028172795, 0.04593409141199345, 1.257459102329534, -1.2598154854309769, -0.04357770831052221, -0.12420593058027407, -0.6002720763684408, 1.5941666641136862, -0.8696886571649429, 0.3110816437842061, 1.4203417643118996, -1.249212293701305, -0.4822111143948291, -0.7503792621229763, 3.0520487032202936, -1.1711041949515106, -1.1305652461458635, -0.6899369359685465, -0.449093693987038, -0.8164860439644599, 1.9555166739200445, -0.9118441556547623, 1.3570814007375418, 1.448864202052988, -1.8941014471357391, -0.4135456409609901, 0.8242970118163271, 0.8106264195744188, -1.221377790429699, -0.9519322383204099, 0.6226052770084038, 1.6088222966110948, -1.2794953352990888, 1.2455983594305167, -0.9123055008802226, -0.49745226402859544, 0.16415940547824448, -0.9832536649519739, 0.9075577359552653, 0.9428715571665407, -0.8671756281698322, 0.49976365508760523, 1.4340736483505907, -0.4546331453443031, -1.4792041580939213, -0.06264193893397874, -0.11663625897378438, 0.47909158080997827, -0.29981338290221515, -1.5656490774103133, 1.0353885233675157, -1.0405564424738998, 1.5708169965166974, -0.45478049746907345, 1.0768316096118156, 0.2410114242317718, -0.8630625363744571, 2.6636822525206867, -1.1011462376248176, -0.7687733092414817, -0.7937627056544159, -2.3169812015147784, 0.7688942112194752, 2.8782383490002132, -1.33015135870491, 1.3417821882019894, -2.499967484748197, 2.0895488701810905, -0.9313635736348829, 0.1180666940374806, 1.2108633723265143, 1.560184514373077, -2.8891145807370435, -0.2094507384854296, 0.7241407922113297, -0.512412957298551, -0.0022770964273775007, 0.36410664431369355, -0.45357839931779154, -0.1526069210108858, 0.24207867601489852, -0.7769155328772683, 1.1928338013327107, 1.7149969323828032, -2.130915200838274, 1.5208837921779548, -2.1762540670733586, 0.06180909447365934, 0.5935611804217444, 0.5317939366616145, 0.595225492005369, 0.6588891407610902, -1.7859085694280736, 0.1351275768832636, -0.6108117719765573, -1.144017635356704, 1.619701830450083, 1.4789373512745385, -1.8908085833230075, -0.6225566690964683, 1.034427901144909, 3.300500462325573, -3.0856998873436225, 0.14399491252973462, -0.358795487511685, 0.8689897760223175, -1.1990315211311895, 0.8541626046589386, -0.5241208595500666, -2.2532058556114407, 1.78123353716353, 0.202567190989555, 0.2694051274584126, 1.6512403829081563, -2.0421617868018984, -1.1353099138283937, 1.526231317722079, 1.854447057097076, -0.743871867149636, 0.44804463392407, -1.5586198238715099, -1.6536523389006845, 3.216958546905971, -0.22392901582594504, -1.3393771921794269, -0.8009460185404862, 1.0689773435141205, 0.23369437553196803, -0.501725700505574, -0.1637667871607107, -0.8981502463230697, 0.4698358091740431, 0.5920812243097373, -1.4621593960230825, -0.9805929091180872, 0.8440084890738433, 1.598743816067298, -0.6994005341146305, -0.8831140533375503, 2.196847421185595, -0.614332833733414, 1.1020909833163444, -2.4917859601070234, 2.4347247800234584, -1.0450298032327794, 0.4423038029172801, -3.281291365814326, 1.3228569740771547, 1.516130588819891, 1.3375113716988665, -1.041280087586614, 0.7789918554366011, -1.0752231395488536, 0.7798744529432895, -0.23972310583386047, 0.41784604387683544, -0.9579973909862645, 2.6643352584465845, -2.1937223664113787, 1.4786836723357908, -1.9492965643709965, 1.9366771872008712, -0.367657424199308, 2.076512230062008, -3.645531993063571, 0.24807824409325008, 0.13017441106026695, 0.34485005194116525, -0.7231027070946823, -0.688917790050084, -0.7199722985325252, 0.9006413091702825, 0.5082487794123267, 1.8785150872405723, -1.3611477673701131, 0.0650265207320615, -0.5823938406025206, 1.928983792817803, -2.1624979133333113, 0.8353147223086808, -0.6018006017931725, 0.87147849038044, 1.331071569174128, -2.306823717862244, 0.10427365830764757, 1.2857754923649907, -0.5517667556149206, -3.470210077937594, 2.736201341187467, -1.454423911741145, -1.15157718208539, 2.498599015300755, 0.10740207852572325, 2.1322535555894717, 0.7194262503390405, -0.9905123620461609, -1.861167443882323, 0.9134633940514902, -0.26559376787002975, -1.165972225088126, 0.5181025989066939, -1.3255130300720168, 3.9702402005153488, -0.7771988595422101, -1.8675283109011218, -2.208611564828999, 2.1545233752779325, 0.5455305168410689, -0.4914423272899455, -0.07063597376011899, -2.252490520401153, 1.3872625321803582, 0.9358639619809139, 0.9742124790724915, 0.0730442068536945, -0.6652953680998053, -0.38196131782638076, -0.10500441122277948, 3.030174141686558, -2.6691685646386816, -0.25600116582509713, 0.8729236306397752, -1.1928559104960073, -0.2491572423920161, 0.569089522248305, -1.0229791343989234, 0.8088015494693082, -1.3786069725863968, 1.5927845575160404, -0.19440642216724768, -0.5602178786696754, 1.2652038721074632, -0.5105795712705685, -0.6974656338337013, 2.832802123505161, 0.03610002938680168, -2.1714365190582896, -0.47174186097407755, -0.6270843549157235, 1.7138436184226862, -0.6150174025328283, -0.4823846668983265, -1.9522642349688795, 3.4767441473308054, -1.0420952454636563, 0.6669469540578064, -0.6718271145969936, 0.7562164697896208, -0.7513363092503766, -2.8205190480492774, 1.8634869830985679, 1.1500695112095798, -0.19303744625884178, -1.3814958145442802, 2.220880694235092, -1.7981559935495568, 0.9587711138587167, 0.7802551529109394, 0.2515138601993101, -0.35466652022708445, -0.677102492883165, -1.967009978505473, 0.22959144483951377, -0.3944143646235716, 2.131832898289531, 3.2825397673423424, -0.2171410758623722, -2.963574481863162, -0.10182420961680805, 1.2607044696281946, -0.1849893804723024, -0.127317794101657, -0.9483972950542352, -0.40768511714989586, 1.2898555611056963, -1.7454811873189442, 0.8633107433631153, 0.0790671270740404, 1.4899459130233481, 1.2408111769806283, -2.8098242170780168, -1.4842351335377373, -1.8802259933235916, 0.2889187986223476, 3.0755423282389245, -0.5557589542876258, 0.8344651404781587, 0.8288896016881893, -1.1075957878786937, -0.7187856355237727, 0.9044198382997877, -0.056678494676958735, -0.12895570809908463]}], {}, {\"linkText\": \"Export to plot.ly\", \"showLink\": false})</script>"
      ],
      "text/plain": [
       "<IPython.core.display.HTML object>"
      ]
     },
     "metadata": {},
     "output_type": "display_data"
    }
   ],
   "source": [
    "iplot([Histogram2dContour(x=dwX, y=dwY, contours=Contours(coloring='heatmap')),\n",
    "       Scatter(x=dwX, y=dwY, mode='markers', marker=Marker(color='white', size=3, opacity=0.3))], show_link=False)"
   ]
  },
  {
   "cell_type": "markdown",
   "metadata": {},
   "source": [
    "The last contour histogram looks of the mix-approach looks very similar to the pure-approach. The contour lines however look a bit more homogeneous or less curvy. The data points are in general a bit closer to each other given that the axis are of smaller scale. At last, the data cloud seems a bit fatter and less stretched. \n",
    "\n",
    "Concluding, we can see clear differences introduced due to the different transformation technics which should be seen in the regression results later on. "
   ]
  },
  {
   "cell_type": "markdown",
   "metadata": {},
   "source": [
    "<a id='MCPythonReg'></a> \n",
    "\n",
    "### 3.3.  Regression"
   ]
  },
  {
   "cell_type": "code",
   "execution_count": 238,
   "metadata": {
    "collapsed": false
   },
   "outputs": [
    {
     "name": "stdout",
     "output_type": "stream",
     "text": [
      "            FD   RT-pure    RT-mix\n",
      "Beta  2.999968  2.068774  2.057981\n"
     ]
    }
   ],
   "source": [
    "######### Regression\n",
    "# First-Difference\n",
    "x = np.mat(dx).T\n",
    "y = np.mat(dy).T\n",
    "estimate_fd = (x.T * x).I * x.T * y\n",
    "\n",
    "x2 = np.mat(d2x).T\n",
    "y2 = np.mat(d2y).T\n",
    "estimate_pure = (x2.T * x2).I * x2.T * y2\n",
    "\n",
    "xw = np.mat(dwx).T\n",
    "yw = np.mat(dwy).T\n",
    "estimate_mix = (xw.T * xw).I * xw.T * yw\n",
    "\n",
    "results = np.array((estimate_fd, estimate_pure, estimate_mix))\n",
    "results = np.mat(results)\n",
    "results_df = pd.DataFrame(results)\n",
    "results_df.columns = [\"FD\", \"RT-pure\", \"RT-mix\",]\n",
    "results_df.index = [\"Beta\"]\n",
    "print results_df\n",
    "\n",
    "########################## Possible OLS-regression packages we decided against. We kept in the code just in case we want to find it somewhen later on.\n",
    "#model = sm.OLS(dy, dx)\n",
    "#results = model.fit()\n",
    "#print(results.summary())\n",
    "#print('Parameters: ', results.params)\n",
    "\n",
    "#model = sm.OLS(d2y, d2x)\n",
    "#results = model.fit()\n",
    "#print(results.summary())\n",
    "#print('Parameters: ', results.params)"
   ]
  },
  {
   "cell_type": "markdown",
   "metadata": {
    "collapsed": false
   },
   "source": [
    "The results show for the first two entries a similar picture to what we had in in the Stata results as well. The FD is upwards biased due to the linear specific trend. The _pure_ estimation solves for the engogeneity problem and gives a coefficient very close to the true value. For the _mix_, where we first calculate the first-difference and then subtract the mean specific to each individual performs not as good as before. The coeffcient is equal to 1.9575542, so roughly biased by 0.04. Looking into the Stata help file of the [xtreg](http://www.stata.com/manuals13/xtxtreg.pdf) command shows us that in Stata does not just uses the within-transformation, but also adds the overall average:\n",
    "\n",
    "$$y_{it} - \\bar{y}_{i} + \\bar{\\bar{y}} = \\beta \\cdot (x_{it} - \\bar{x}_{i} + \\bar{\\bar{x}}) + \\alpha_i - \\alpha_i + \\bar{\\alpha} + e_{it} - \\bar{e}_{i} +\\bar{\\bar{e}} \\quad $$ \n",
    "\n",
    "with $\\bar{y}_{i} = \\sum_{t=1}^T y_{it}$, $\\bar{\\bar{y}} = \\sum_{i}\\sum_{t} x_{it} /(nT_i)$\n",
    "\n",
    "This however should just enable to calculate an intercept and have an impact on the standard errors. Another possibility would be that the seed was just not _in favor_ for the _mix_ method. This highly motivates to do a monte carlo study.\n",
    "\n",
    "As noted before, we will run now the regression with 1000 replications to see how the estimations behaves.\n",
    "\n",
    "### 3.4 Monte Carlo Study\n"
   ]
  },
  {
   "cell_type": "code",
   "execution_count": 239,
   "metadata": {
    "collapsed": false,
    "scrolled": true
   },
   "outputs": [
    {
     "name": "stdout",
     "output_type": "stream",
     "text": [
      "                 -5        -1       0.5         2\n",
      "FD_beta   -4.000162 -0.000145  1.499847  2.999859\n",
      "FD_se      0.000304  0.000299  0.000311  0.000309\n",
      "RT-1_beta -4.998875 -1.000888  0.501487  1.996736\n",
      "RT-1_se    0.053425  0.052189  0.052058  0.051188\n",
      "RT-2_beta -4.998768 -1.000331  0.500759  1.997588\n",
      "RT-2_se    0.044909  0.043586  0.043852  0.043751\n"
     ]
    }
   ],
   "source": [
    "r = 1000 # number of replications of the simulation\n",
    "\n",
    "#### empty matrices generated to store the results at the end of the loop\n",
    "# for first-difference\n",
    "estimate_fd = np.mat(np.empty((1, r))) \n",
    "estimate_mat_fd = np.mat(np.empty((4, r))) \n",
    "beta_fd_hat = np.zeros(4)\n",
    "se_fd_hat = np.zeros(4)\n",
    "\n",
    "# for random-trend (1) (pure)\n",
    "estimate_rt_p = np.mat(np.empty((1, r)))\n",
    "estimate_mat_p = np.mat(np.empty((4, r))) \n",
    "beta_rt_p_hat = np.zeros(4)\n",
    "se_rt_p_hat = np.zeros(4)\n",
    "\n",
    "# for random-trend (2) (mix)\n",
    "estimate_rt_m = np.mat(np.empty((1, r)))\n",
    "estimate_mat_m = np.mat(np.empty((4, r))) \n",
    "beta_rt_m_hat = np.zeros(4)\n",
    "se_rt_m_hat = np.zeros(4)\n",
    "####\n",
    "\n",
    "l = 0 # Used to move within a vector to store results at the end\n",
    "n = 200 # defines the number of individuals\n",
    "T = 5 # defines the number of time periods\n",
    "N = n * T # maximum number of observations, necessary for the calculations\n",
    "intercept = 3 # Even though the intercept cancels out, we leave it in the model because it was in the basic model\n",
    "for beta in (-5, -1, 0.5, 2): # Here we actually run the code vor reveral beta's, -5, -1, 0.5 and 2\n",
    "    # in stata it would be `forvalue beta in (-5, -1, 0.5, 2)`\n",
    "    for j in range(0, r): # Loop for the different amounts of replications of the simulation, done for each beta     \n",
    "        # DGP\n",
    "        random.seed(r) # Seed is defined in the loop to have a different seed per replication, but still knowing which seed's are used\n",
    "        alpha_i = np.random.normal(0, 1, n)\n",
    "        alpha_i = np.repeat(alpha_i,T) \n",
    "        i = np.arange(n)\n",
    "        i = np.repeat(i,T)\n",
    "        t = np.arange(T) + 1 \n",
    "        t = np.tile(t,n)\n",
    "        trend = t*i \n",
    "        mean = [0, 0]\n",
    "        cov = [[1, 0], [0, 1]]\n",
    "        nu_it, e_it = np.random.multivariate_normal(mean, cov, N).T \n",
    "        x_it = (nu_it + alpha_i + trend).T \n",
    "        y_it = (intercept + alpha_i + beta*x_it + trend + e_it).T # <=> `g y_it = 3 + alpha_i + 2*x_it + trend + e_it `\n",
    "        \n",
    "        ############################### Transformation for the first-difference and randon-trend (1) and (2)\n",
    "        \n",
    "        # First-difference and random-trend (1)\n",
    "        x_reshape = np.reshape(np.ravel(x_it), (n, T)).T \n",
    "        dx = np.zeros(x_reshape.shape)\n",
    "        dx[1:] = x_reshape[1:] - x_reshape[:-1] \n",
    "        dx = np.delete(dx,(0), axis=0) \n",
    "        dx_reshape = dx # result is stored for the within-transformation\n",
    "        d2x = np.zeros(dx.shape) \n",
    "        d2x[1:] = dx[1:] - dx[:-1] \n",
    "        d2x = np.delete(d2x,(0), axis=0)\n",
    "        \n",
    "        dX = np.reshape(dx.T, N-n) \n",
    "        d2X = np.reshape(d2x.T, N-2*n)\n",
    "\n",
    "        y_reshape = np.reshape(np.ravel(y_it), (n, T)).T \n",
    "        dy = np.zeros(y_reshape.shape)\n",
    "        dy[1:] = y_reshape[1:] - y_reshape[:-1] \n",
    "        dy = np.delete(dy,(0), axis=0)\n",
    "        dy_reshape = dy # result is stored for the within-transformation\n",
    "        d2y = np.zeros(dy.shape)\n",
    "        d2y[1:] = dy[1:] - dy[:-1] \n",
    "        d2y = np.delete(d2y,(0), axis=0)\n",
    "        dY = np.reshape(dy.T, N-n)\n",
    "        d2Y = np.reshape(d2y.T, N-2*n)\n",
    "        \n",
    "        # Within-transformation\n",
    "        dx_mean = dx_reshape.mean(axis=0) \n",
    "        dx_mean_i = np.repeat(dx_mean,T-1) \n",
    "        dx_mean_i_reshape = np.reshape(dx_mean_i.T, N-n) \n",
    "        dwX = dX - dx_mean_i_reshape\n",
    "        # dwX is now constructed for the Random-Trend 2, mix\n",
    "        # Same for the y-variable\n",
    "        dy_mean = dy_reshape.mean(axis=0) \n",
    "        dy_mean_i = np.repeat(dy_mean,T-1) \n",
    "        dy_mean_i_reshape = np.reshape(dy_mean_i.T, N-n) \n",
    "        dwY = dY - dy_mean_i_reshape \n",
    "        # dwY is now constructed for the Random-Trend 2, mix\n",
    "        \n",
    "        ################# First-Difference Regression\n",
    "        X = np.mat(dX).T\n",
    "        Y = np.mat(dY).T\n",
    "        M = (X.T * X).I * X.T\n",
    "        estimate_fd[:, j] = M * Y\n",
    "        estimate_mat_fd[l] = estimate_fd\n",
    "        \n",
    "        ################# Random-Trend (1), pure Regression\n",
    "        X2 = np.mat(d2X).T\n",
    "        Y2 = np.mat(d2Y).T\n",
    "        M2 = (X2.T * X2).I * X2.T\n",
    "        estimate_rt_p[:, j] = M2 * Y2\n",
    "        estimate_mat_p[l] = estimate_rt_p\n",
    "        \n",
    "        ################# Random-Trend (2), mix Regression\n",
    "        Xw = np.mat(dwX).T\n",
    "        Yw = np.mat(dwY).T\n",
    "        Mw = (Xw.T * Xw).I * Xw.T\n",
    "        estimate_rt_m[:, j] = Mw * Yw \n",
    "        estimate_mat_m[l] = estimate_rt_m\n",
    "        \n",
    "        \n",
    "        \n",
    "    mu_fd = estimate_fd.mean()\n",
    "    var_fd = estimate_fd.var()\n",
    "    sigma_fd = np.sqrt(var_fd)\n",
    "    beta_fd_hat[l] = mu_fd\n",
    "    se_fd_hat[l] = sigma_fd\n",
    "    \n",
    "    mu_rt_p = estimate_rt_p.mean()\n",
    "    var_rt_p = estimate_rt_p.var()\n",
    "    sigma_rt_p = np.sqrt(var_rt_p)\n",
    "    beta_rt_p_hat[l] = mu_rt_p\n",
    "    se_rt_p_hat[l] = sigma_rt_p\n",
    "    \n",
    "    mu_rt_m = estimate_rt_m.mean()\n",
    "    var_rt_m = estimate_rt_m.var()\n",
    "    sigma_rt_m = np.sqrt(var_rt_m)\n",
    "    beta_rt_m_hat[l] = mu_rt_m\n",
    "    se_rt_m_hat[l] = sigma_rt_m\n",
    "    \n",
    "    l = l + 1\n",
    "    \n",
    "\n",
    "#estimate_fd = np.squeeze(np.asarray(estimate_fd))\n",
    "\n",
    "\n",
    "#estimate_rt_p = np.squeeze(np.asarray(estimate_rt_p))\n",
    "\n",
    "\n",
    "#estimate_rt_m = np.squeeze(np.asarray(estimate_rt_m))\n",
    "\n",
    "\n",
    "results = np.matrix((beta_fd_hat, se_fd_hat, beta_rt_p_hat, se_rt_p_hat, beta_rt_m_hat, se_rt_m_hat))\n",
    "results_df = pd.DataFrame(results)\n",
    "results_df.index = [\"FD_beta\", \"FD_se\", \"RT-1_beta\", \"RT-1_se\", \"RT-2_beta\", \"RT-2_se\"]\n",
    "results_df.columns = [\"-5\", \"-1\", \"0.5\", \"2\"]\n",
    "print results_df"
   ]
  },
  {
   "cell_type": "markdown",
   "metadata": {},
   "source": [
    "In the output table `results` one can see the results of the estimated coefficient $\\beta$ for the first-difference and random-trend _pure_ (1) and _mix_ (2). Further, we included the the standard deviation of the distribution the estimated coefficients have from the various replication (so, this is not a mean from each standard error, but just the one standard error from the coefficients). The numbers of each columns show the true value of the coefficient.\n",
    "\n",
    "We see that the now the RT-_mix_ is not much different from the _pure_ estimation as before. Differences are only slightly. Looking at the standard errors, using the second data transformation increases the spread of the estimation in the replications. Within the method they are quite constant, but both RT have much higher standard errors than the FD.\n",
    "\n",
    "For a better overview of the results, the next cells will do some comparisons. First we calculate the differences of the estimated $\\hat{\\beta}$ (given by beta_fd_hat for the first-difference) and the true $\\beta$ (given by beta).\n",
    "\n",
    "#### 3.4.1 Comparison of the Monte Carlo Results"
   ]
  },
  {
   "cell_type": "code",
   "execution_count": 240,
   "metadata": {
    "collapsed": false
   },
   "outputs": [],
   "source": [
    "beta = np.array((-5, -1, 0.5, 2))\n",
    "diff_fd = beta_fd_hat - beta\n",
    "diff_fd_r = np.round(np.absolute(diff_fd),0)\n",
    "\n",
    "diff_rt_p = beta_rt_p_hat - beta\n",
    "diff_rt_p_r = np.round(np.absolute(diff_rt_p),0)\n",
    "\n",
    "diff_rt_m = beta_rt_m_hat - beta\n",
    "diff_rt_m_r = np.round(np.absolute(diff_rt_m),0)\n",
    "\n",
    "diff_se_rt = se_rt_p_hat - se_rt_m_hat        \n",
    "        "
   ]
  },
  {
   "cell_type": "markdown",
   "metadata": {},
   "source": [
    "To see whether the differences from the true coefficient is large, we compare the estimate to the value $0.01$ and let python tell us whether the difference is bigger or smaller than the chosen value.:"
   ]
  },
  {
   "cell_type": "code",
   "execution_count": 241,
   "metadata": {
    "collapsed": false
   },
   "outputs": [
    {
     "name": "stdout",
     "output_type": "stream",
     "text": [
      "\n",
      "Test if the difference between estimator of the first-difference and the true value is significant unequal to zero\n",
      "Reject\n",
      "Reject\n",
      "Reject\n",
      "Reject\n",
      "\n",
      "Test if the difference between estimator of the random-trend (1) and the true value is significant unequal to zero\n",
      "Don't reject\n",
      "Don't reject\n",
      "Don't reject\n",
      "Don't reject\n",
      "\n",
      "Test if the difference between estimator of the random-trend (2) and the true value is significant unequal to zero\n",
      "Don't reject\n",
      "Don't reject\n",
      "Don't reject\n",
      "Don't reject\n"
     ]
    }
   ],
   "source": [
    "print \"\"\n",
    "print \"Test if the difference between estimator of the first-difference and the true value is significant unequal to zero\" \n",
    "for l in range(0,4):\n",
    "    if diff_fd[l] / se_fd_hat[l] > 1.96:\n",
    "        print \"Reject\"\n",
    "    else:\n",
    "        print \"Don't reject\"  \n",
    "print \"\"\n",
    "print \"Test if the difference between estimator of the random-trend (1) and the true value is significant unequal to zero\"         \n",
    "for l in range(0,4):\n",
    "    if diff_rt_m[l] / se_rt_m_hat[l] > 1.96:\n",
    "        print \"Reject\"\n",
    "    else:\n",
    "        print \"Don't reject\" \n",
    "\n",
    "print \"\"\n",
    "print \"Test if the difference between estimator of the random-trend (2) and the true value is significant unequal to zero\"                 \n",
    "for l in range(0,4):\n",
    "    if diff_rt_m[l] / se_rt_m_hat[l] > 1.96:\n",
    "        print \"Reject\"\n",
    "    else:\n",
    "        print \"Don't reject\"         \n",
    "        \n"
   ]
  },
  {
   "cell_type": "markdown",
   "metadata": {},
   "source": [
    "For the test we used the 95\\%-quantile. We conclude that both, the _pure_ and the _mix_ random-trend give consistent estimates. The first-difference (as expected) gives us inconsistent results. Thereby we conferm the results we obtained from stata above. It seems that the code conducted by us works. Works in the sense that the transformations are done correctly.\n",
    "\n",
    "To see however whether _pure_ or _mix_ is better, we will see which difference of the coefficient is smaller and which standard-errors are smaller"
   ]
  },
  {
   "cell_type": "code",
   "execution_count": 242,
   "metadata": {
    "collapsed": false
   },
   "outputs": [
    {
     "name": "stdout",
     "output_type": "stream",
     "text": [
      "Which method produces a smaller differences with the true value?\n",
      "Pure\n",
      "Pure\n",
      "Mix\n",
      "Pure\n",
      "\n",
      "Which method produces smaller standard errors?\n",
      "Mix\n",
      "Mix\n",
      "Mix\n",
      "Mix\n",
      "\n",
      "Difference of the standard errors:\n",
      "[ 0.00851544  0.00860356  0.00820562  0.00743675]\n"
     ]
    }
   ],
   "source": [
    "print \"Which method produces a smaller differences with the true value?\"\n",
    "for l in range(0,4):\n",
    "    if diff_rt_p[l] < diff_rt_m[l]:\n",
    "        print \"Pure\"\n",
    "    else:\n",
    "        print \"Mix\" \n",
    "\n",
    "print \"\"        \n",
    "print \"Which method produces smaller standard errors?\"        \n",
    "for l in range(0,4):\n",
    "    if se_rt_p_hat[l] < se_rt_m_hat[l]:\n",
    "        print \"Pure\"\n",
    "    else:\n",
    "        print \"Mix\" \n",
    "        \n",
    "print \"\"\n",
    "print \"Difference of the standard errors:\"\n",
    "print diff_se_rt"
   ]
  },
  {
   "cell_type": "markdown",
   "metadata": {},
   "source": [
    "For our simulation, it does not seem that for the mean of the coefficient it makes a different whether ones uses the first or the second random-trend approach. Here, two times the _mix_-approach has a smaller difference and two times the _pure_-approach has a smaller difference. The differences overall are very small, so small that in empirical papers it should not matter.\n",
    "\n",
    "For the standard error however, always the _mix_-approach is preferred. This means that the for the 1000 replications, the _mix_-approach is more accurate than the _pure_-approach. The difference of the standard errors is at the second decimal digit which, from our point of view, does not seem to be small enough to neglect it.\n",
    "\n",
    "We therefore conclude that it might be reasonable to suggest to use the second random-trend approach, in which one calculates first the first-difference to cancel out the constant and transform the linear trend into a constant and then takes use of the within-transformation to cancel out the remaining constant.\n",
    "\n",
    "At the very last we also have a graphical view on our estimation.\n",
    "\n",
    "### 3.5 Graphical Comparison of the Estimation Methods"
   ]
  },
  {
   "cell_type": "code",
   "execution_count": 243,
   "metadata": {
    "collapsed": false
   },
   "outputs": [
    {
     "data": {
      "text/html": [
       "<div id=\"0f2d8ac3-8c50-4a2b-9d1e-c438cfeff0bc\" style=\"height: 587; width: 1116px;\" class=\"plotly-graph-div\"></div><script type=\"text/javascript\">window.PLOTLYENV=window.PLOTLYENV || {};window.PLOTLYENV.BASE_URL=\"https://plot.ly\";Plotly.newPlot(\"0f2d8ac3-8c50-4a2b-9d1e-c438cfeff0bc\", [{\"opacity\": 0.8, \"orientation\": \"v\", \"yaxis\": \"y1\", \"histnorm\": \"\", \"histfunc\": \"count\", \"nbinsx\": 30, \"xaxis\": \"x1\", \"marker\": {\"color\": \"rgba(255, 153, 51, 1.0)\", \"line\": {\"color\": \"#4D5663\", \"width\": 1.3}}, \"x\": [-4.000510961621638, -3.9996781302252185, -4.000306648401823, -4.000110245347756, -4.000329549951001, -4.000518904861185, -4.000064458265612, -4.000280714490078, -3.999923324607532, -4.000165782467887, -3.999771150300072, -3.9998860250829127, -4.000260724346131, -3.999309053140772, -4.000412821955264, -4.000747640361672, -4.00000859712007, -3.9997493043931733, -4.00082291193381, -4.000264445936513, -3.999765451494132, -4.000084290749692, -4.0004892112943375, -3.9999007484691145, -3.999996644479488, -3.9997388343946128, -4.000196313675048, -4.000693384392351, -3.999869557338891, -4.000176235194546, -4.000663120536579, -3.9998587375415426, -3.9998899213865453, -4.000539889496515, -3.999676395435146, -4.0005329519631285, -4.000172900367334, -4.000461780735895, -4.000269587055335, -4.000812469447156, -4.000008490743214, -4.000235463838072, -4.000346313044668, -4.000052123232461, -4.000239737990744, -3.9999571394767615, -3.999889105951067, -4.000380832072237, -3.9997919071111045, -4.000140626056304, -3.9996779317030438, -4.000290762313532, -4.000409964961979, -4.000237699869084, -4.000118130845879, -3.9995271569107214, -3.9995073263249403, -3.9999767770975465, -4.0008384254307625, -4.0000188251020266, -3.9996311406004486, -4.000344795536503, -4.000043524699075, -4.000275476916313, -4.000133615516738, -4.000470355074252, -4.0006232325434015, -4.000046391922906, -4.000283184129881, -3.9997723113664945, -4.000265227045852, -4.000483884701085, -4.000085365051406, -3.999155316334421, -3.999955491206439, -4.000283190037339, -4.000113025596985, -3.999882028040947, -4.000343009615933, -4.00014066673379, -4.000007740305531, -4.000337005062846, -4.000170581863984, -3.9999575834676446, -4.0002237897008985, -4.000141486428287, -4.000086078734207, -4.000251569647813, -4.000197458914412, -4.000035465145992, -4.000294824469567, -3.999983381951939, -4.000845830918214, -4.000279046722685, -4.000255172365033, -4.000380158234578, -3.999738504378465, -3.9994524754326712, -3.9999883663268476, -3.9998473570981927, -4.000323574419283, -4.000517349515413, -3.9997172049143694, -4.000049073583809, -4.000349479758494, -4.000416466026579, -3.999808736122668, -4.000256933384877, -4.000262382241734, -4.0002244002482366, -4.000311847869908, -4.000517254476977, -3.9998182667569475, -4.00046895010061, -4.000015254312427, -4.000542010281528, -3.9996369873823028, -3.9994399416243676, -4.000112066167441, -4.000146901843072, -3.999668977700944, -4.000296549099195, -4.0003034169666165, -4.000040701387051, -4.0005060831877834, -4.000312360428411, -4.00000900404825, -4.000055196839324, -4.000127960436583, -4.000451189496898, -3.999546848063685, -3.99967164363519, -4.000255197122539, -4.000024419963285, -4.000153053190532, -3.9997843570547684, -4.000055319086313, -4.0002202264972, -4.000283374575393, -4.000038567848751, -4.00004796683655, -3.9999076544522083, -4.000369610461426, -3.9996630835002507, -4.000584101510862, -3.999960900420696, -3.9998087428549183, -4.000612654706737, -4.000085604292083, -4.00014797306402, -4.0007856074679555, -4.000205492213244, -3.9999613072906035, -4.000046913391621, -3.999775170924896, -3.9999203963827874, -4.000078558867689, -4.0002639597118055, -4.000694601779525, -4.000187287880189, -4.000089439305229, -3.999678400448561, -4.000265215721614, -4.00024460918034, -4.000170911751808, -4.0003511650257675, -4.000452747737906, -4.00002285225953, -4.000323617601471, -4.000507493950002, -3.9996513655860992, -3.9999217745436626, -4.0002222135649745, -3.999611342996906, -3.9998132050740063, -3.9999480350779266, -3.9999111463197305, -4.00048416606449, -4.000153817427362, -4.000790665240211, -4.000198308249287, -4.000103306318511, -4.000118243642153, -4.000435945117575, -3.999833294230422, -3.999699441895861, -4.000677080742915, -4.000169248083753, -3.9997687073137462, -3.9999130645864316, -4.00028354822293, -4.000445993792969, -4.00056505695817, -4.000366914522021, -4.000623125201781, -3.9999318184858144, -4.000186904391723, -4.000150614014028, -4.000060513625622, -3.9996287707250513, -4.000592710053915, -3.999834164137176, -4.000333299337278, -4.000138346376771, -4.000436447005078, -4.000235627230428, -4.000388141379577, -4.000310585210654, -3.99982490718658, -4.000384778175071, -3.9997092606116147, -3.9997869304848077, -3.999708371949298, -4.000316344228387, -4.000461360648372, -4.0001258104151685, -4.000573438859936, -4.000209461605603, -4.000447002558301, -3.9998382712059968, -3.9997817094328463, -4.000294331354976, -4.00047246728436, -4.000272130428384, -3.9998703252029313, -3.9998125937410984, -3.999522537368679, -4.000145997204105, -3.9996290151128733, -4.000037545647644, -4.000060585164799, -4.000397773005213, -4.000079317166882, -3.9998073622641668, -4.000635825934195, -3.9997217321675698, -3.9998700850058486, -3.9999005424275453, -4.000659092086813, -3.9997568395740144, -4.00056804276813, -4.000115057683311, -4.000012181488754, -3.9999007161336015, -4.000387406288773, -3.999573034898874, -4.0002838737059205, -3.999949876785963, -3.9999472485777483, -4.0004924185277195, -3.9997952093988376, -4.0002501116335765, -4.000058788919028, -4.000579263758781, -3.9993415463314226, -4.000154516442598, -3.999833950267175, -4.001037671616313, -4.000378607328692, -4.000002942819158, -3.9998745609533612, -4.0002088494079775, -3.9999787041688006, -4.0001502523469705, -4.000151935124432, -4.000600125301699, -4.000023872607811, -3.999963543116168, -3.9999639266273297, -3.9997526435404396, -4.000500577603463, -4.00031235897365, -4.0003494015024055, -4.000189553238166, -4.0001454670136525, -4.000969259953351, -3.9996205779741336, -4.000057331292232, -4.000293931844178, -4.0003689819604045, -4.000264101573012, -3.999898905475443, -4.00017826874697, -4.000013551566267, -4.000184547582627, -4.000131935592009, -4.000340936128054, -4.000101562784428, -4.000051060346827, -4.000298556203424, -4.000484747053545, -4.000054292887941, -4.000682737446457, -4.000395897682219, -4.000305372589906, -4.000549234042796, -4.000355313386404, -3.999996049720997, -3.999855945778331, -3.9998730654538215, -3.999768700240431, -3.9999039683271507, -4.000105918899632, -4.000108870747651, -4.000431253462566, -4.0002213896802115, -4.000271434596921, -4.000438526215874, -3.99973487755793, -4.000064417137845, -4.000322250391384, -4.000513341722913, -3.9998431415259885, -3.9993760677575816, -4.0002371592613395, -4.000027257560113, -3.999693641640128, -4.00027408225749, -4.000129382217239, -4.000342608009197, -3.9999288962733983, -4.000113372143428, -4.000345990531373, -4.0003406410971225, -3.9995460595794143, -4.000069389572365, -3.99983326077944, -4.000335093068773, -4.00009314163233, -4.000810516276609, -4.000501683047416, -4.000584431306862, -3.999621214305629, -4.000585492278756, -4.000330893864411, -4.000197863266603, -3.9999588513250295, -4.000059282889401, -4.000436255661447, -4.000368568987253, -4.000829397907493, -4.0003196050267205, -4.000367611219667, -4.00022673134054, -3.9992963071162477, -4.000005999799297, -4.000439858542478, -4.0002546735978495, -4.000431859361805, -4.000253454890555, -4.000208183212053, -4.000701067909294, -3.999791945093749, -4.00047046650884, -4.000245061138714, -4.000511503596849, -4.000300055507526, -4.000659102173838, -4.000171447900593, -4.000066631818305, -4.000522682832412, -4.00029682648855, -3.999665916270271, -4.000069259155877, -3.999796227997431, -4.000012910143412, -3.999722933340926, -4.0007216420534, -4.000110451236497, -3.9998948980014166, -4.000753100375791, -4.00040889684097, -4.000302596311588, -4.000373044185481, -4.000396857723253, -3.9998216014227257, -4.000247970503788, -4.000815732232175, -4.000291565602787, -4.000109723784149, -3.999941167336632, -4.000282097682555, -3.9996842790111278, -4.0002170337881156, -3.9996284000349616, -4.000048083938408, -4.000459313958193, -4.000350493191913, -4.000706254942487, -4.000263977634717, -4.0000392940828196, -4.000257922566258, -3.99996757529959, -3.9997564689282425, -4.000624148578208, -4.000200953843506, -4.000320908099097, -4.00025541669313, -4.000446847393764, -4.000302266616636, -3.9999721837425994, -4.00019642018567, -3.9999882689779187, -4.00041996666198, -4.0001607081343025, -3.999861372978019, -3.9997609498586595, -3.999856639841939, -4.000307535237958, -3.9998436650614506, -3.99999208358989, -4.000346765068603, -4.000329469583958, -4.000611849640473, -4.000913072002752, -4.0003814445373935, -4.000299936250891, -3.999994266896867, -4.000170644520524, -4.000296824012855, -4.000209211268934, -4.000091072172703, -4.0000914081174095, -4.000149258524798, -4.0000837533500615, -3.999956181445396, -4.000694790058651, -4.000463550192226, -4.000121651830243, -4.000368774014693, -4.000075183363414, -3.9998484300747132, -4.000380738754353, -4.00054805484237, -4.000420056868034, -4.000507014477438, -4.000354517070781, -3.9998740939634336, -3.999662363613254, -4.00013183655431, -4.000216342789409, -4.000533137402192, -4.000490876228881, -3.999910675876987, -4.000641658160392, -4.00034148798866, -4.000289986927534, -3.999528769412078, -3.9999670316622677, -4.000093505159357, -3.9995331840570296, -4.00015224223101, -3.9997641744052475, -4.00019380504863, -3.9996083208627815, -3.999983575933938, -4.000109665552227, -4.000356260980533, -3.999719884384395, -3.999640451258996, -3.9993394233647592, -3.9998226411644686, -4.00007962329842, -3.999810873761195, -3.999863702770294, -4.000267621887209, -4.000247027115286, -3.999873734690799, -4.000026399085896, -4.000362828325663, -4.000210350547253, -4.000440087454242, -4.000006721696206, -3.9994643754895063, -4.000133013167986, -4.000683184024781, -4.000387470731077, -4.0000898919898065, -4.0001877850796514, -4.0004318886445365, -4.0000034717575295, -3.99959377414366, -3.9995655710660114, -4.000846020334821, -4.000045300321346, -4.000334343333165, -4.000103964983191, -3.999997717014698, -4.000586143196648, -4.000347416480816, -3.9999976445670953, -4.000456687400945, -3.9998440270335704, -4.000971076240674, -4.000729601394951, -3.9999542206126026, -3.9997761380326473, -4.0002961205091285, -4.0001279687203475, -3.999708311517752, -3.9998485623894773, -3.9999651816727995, -4.000746509408875, -4.000184569657224, -4.000352757579915, -4.000410975428226, -3.999982308924344, -3.999799174466607, -4.000134689517022, -4.000252326000224, -3.9999719915800047, -3.999474002425213, -3.9996000077797795, -4.000303431667621, -3.999762023751439, -4.000275292204146, -4.000674467223741, -4.000407721929738, -4.000459997978403, -4.000411653269568, -3.999666886925908, -4.000019634092674, -4.000417465026973, -4.000220379278269, -4.000245783399077, -3.9997081872648033, -4.000093293924465, -4.001003540880366, -4.000264255972103, -4.00016507251803, -4.000129742590152, -3.9998866102764112, -4.000169296362818, -4.00008764721344, -3.9998509939118696, -4.00008463639623, -3.99946880530017, -4.000449156818471, -4.000447680429332, -4.000062985644279, -3.9998104276861612, -3.9998625058476773, -4.00061083445177, -3.9998893023804456, -4.000127347182218, -4.0000064503527675, -3.9996646501837505, -4.000402509354838, -4.000316479144265, -3.9999868704609285, -4.000325186078692, -4.000246077894335, -3.9999811757062376, -4.0001715488604415, -4.000420764089624, -3.999370439563151, -4.000073967075025, -4.000469304019962, -4.0004422380404385, -4.000108983535175, -4.000506824207781, -4.000116943261281, -4.000027716406686, -4.000079562379556, -3.99994677144233, -3.999990616949315, -4.000143356425323, -4.000127537416784, -4.000132310779157, -4.000153446581809, -4.000594525238178, -4.000958400107392, -4.000463370935444, -4.000319396104988, -4.000316754376259, -4.000385332746369, -4.00034786845307, -4.00002248544464, -4.000234921953041, -4.000404596195016, -4.0000532575804835, -4.000263621909546, -4.0002154259970295, -4.000055366244618, -4.000093716065519, -4.000460852640927, -4.000518276068089, -3.9997980826773674, -3.9996797971908666, -4.000731839699638, -3.9997408268699526, -3.999976228812992, -4.000291402223024, -3.9999636338971856, -4.000558973772761, -4.000112111754507, -4.000669758180422, -3.9999461061368233, -3.999954963492824, -4.000014097943283, -4.00033532799861, -4.000103957101468, -4.000264458749025, -4.0000586174121775, -4.000399947081517, -4.000108196372301, -4.000022081186181, -4.000510170040975, -4.000092245805093, -4.000188915952313, -4.000782433115822, -3.9995183337281883, -4.000006197791185, -4.000762918552002, -3.999858994426228, -3.999883038791006, -3.999617507247842, -4.000389386265079, -4.000220733097796, -4.000074137655766, -3.9997495924491213, -4.000074774360952, -4.000334820574766, -4.000654492430014, -4.0002205661292, -4.000072090853798, -4.000635949043901, -3.9998886783429275, -4.000256179628571, -4.000152102191424, -4.000322487045432, -4.000161546510456, -4.00035812314427, -4.000662842412222, -4.000102253068729, -3.9999160687209177, -4.000433340528408, -4.000092293283044, -4.000432175429015, -4.000177800488507, -4.000497924468289, -4.00025069860036, -4.000225522786045, -3.999724684209073, -3.9999806075911177, -4.00032895944892, -4.000224964181909, -4.000393422972987, -4.0000244748381455, -4.000760818295689, -4.000130251895039, -3.999974291826977, -4.0000889477505535, -3.999981304225274, -4.000464820929256, -3.9997844846676522, -3.9998594643086065, -4.000029068524032, -4.00065515813785, -4.000234585952521, -3.9999572726000148, -3.999604059420591, -4.000526736680804, -4.000391993201065, -4.000309331436955, -3.999955115443292, -3.999820145682629, -4.000346720320602, -3.9998907237855033, -4.000153229214777, -3.9998263640659397, -4.000118841125009, -4.000219327812067, -4.000518430395055, -4.000523234084325, -3.9999481432401183, -4.000062846163955, -3.999668226814869, -3.9996047493100315, -3.9998152869491004, -4.000193714369169, -3.9993734818740645, -4.000163061217902, -3.999861556801823, -4.0000165896821205, -3.9999582929198465, -4.000446863110417, -4.000149884533315, -4.000124920754745, -3.9999822489642027, -4.000053890455385, -4.000312558007909, -4.000485204610783, -4.000324037455709, -4.000233525152262, -4.000035494255402, -3.9998073755037753, -4.000129080570323, -4.000051342662509, -3.9998020413825506, -4.000030270177508, -4.000128839006299, -4.000097917618463, -4.000012309441708, -4.000139813328227, -4.000123613692304, -4.0008420185704425, -4.000005354621831, -4.000216846296446, -3.9998350212020783, -4.000226578830775, -4.00043150388402, -4.000595535918723, -4.000567224220424, -4.000602912301719, -4.000253597304259, -4.000303081892275, -3.999847027245499, -4.0004320340941515, -3.9998491483267973, -4.000450209262199, -3.999808886726075, -3.9999134671367713, -4.0002047255561095, -4.000251157851511, -4.000749928045327, -4.000258282688268, -3.9999347098948057, -3.999819806459, -4.000387731120587, -4.00052797734617, -4.0004688182545465, -4.000186432997029, -3.999656374834034, -4.000976401183175, -4.000060875285917, -4.000123542123955, -3.999986419088423, -4.000637894674446, -4.000284788305539, -3.9995331821205093, -3.999744022287331, -4.0001280783078155, -4.000412944301515, -3.999936709608008, -3.9999816628889917, -3.999840332299584, -3.9999012747755547, -4.000626274512619, -3.9999393700863073, -3.9999369763146673, -4.000479033277125, -4.000197981327594, -3.9997962689431628, -4.000113695942857, -4.000078051109921, -4.000012678391663, -4.000061290838437, -3.999978292527098, -4.000136450604399, -4.000378600662703, -4.000525850396674, -4.000371088327113, -3.999706520612839, -4.000258421439148, -4.000119322183721, -3.99990645137834, -4.000544635314652, -4.00045619565214, -4.000084375649825, -4.000104266410456, -4.000621347274839, -3.999875203876215, -4.0000740619488155, -4.000321969001013, -3.999638957625554, -4.000323738826946, -4.000178216902981, -4.000225696190567, -4.000223876885478, -4.000432849891238, -4.000105055207411, -4.000366412037673, -4.000953851091398, -3.9995806709695834, -4.000235969502263, -4.000244396460832, -4.000404361051562, -4.000368440219628, -3.999980694206592, -3.9999971964596224, -4.000469201700452, -4.000428587244471, -4.0004060682172495, -4.000154894197877, -4.000165033472514, -4.000151698152769, -4.0002742551991926, -4.000377482312912, -3.9997499414778996, -4.0003643653488155, -4.000099738920246, -4.000553721831827, -4.000010212805264, -4.0007161743715205, -4.000340527167984, -4.000289528026662, -3.999777476392814, -3.9996000472825264, -4.000032176273405, -4.000420596104531, -4.0000473534413885, -4.000038910017133, -4.000396504118168, -4.0003728655725075, -4.0003496695617295, -4.0005072731987115, -4.000060071674221, -4.000047881332816, -4.000249943673698, -4.000347168352204, -4.0002830345957445, -4.0000972613536945, -4.00000625200323, -4.0007045581184055, -4.000378391011893, -4.000167161750435, -3.9998465255088655, -3.9998969267241944, -4.000269949382221, -4.000371170967881, -3.999728894492237, -4.000278569786491, -3.999815621249188, -4.000347547174691, -4.000356542567719, -4.00017005821198, -4.000301491045335, -4.000038043981915, -4.000579886890544, -3.9997303252475613, -4.000360186167317, -4.000076434638612, -4.000040532166986, -3.9998775611978483, -4.000396814959471, -4.00041823955984, -3.9998825343395703, -4.000064243470894, -3.999989202768696, -3.999715047242463, -4.000498664843371, -4.0002702254551945, -4.000264106929659, -4.000519514296886, -4.000182648521634, -4.000143776423755, -4.000464955078596, -3.999968410960494, -4.0008891907043935, -4.000667435980261, -4.0002563703111385, -3.9999790290822044, -4.000490829578624, -3.9999756396934596, -3.999962164513338, -4.000205055320838, -4.000439535979609, -4.000312927152612, -4.000296790971629, -4.000199103832548, -3.9995859778959377, -4.000118675666525, -3.999993650482998, -4.000412158676901, -4.000232084443523, -4.000236175726035, -3.9998603765995435, -3.9999837302478736, -3.9999918371423955, -4.000285669576941, -3.9997700901126545, -4.000489953225611, -4.000369234786602, -4.000339018224109, -4.000348369564702, -4.000006150813961, -4.000289499192045, -4.00038129586903, -3.999970451995039, -4.000411318072222, -4.000366801515119, -3.999961762457663, -4.000303265420969, -4.000299039083018, -4.000287196772945, -4.000795566587995, -3.9998148056378353, -4.000265789877538, -3.999921274079555, -4.000343950975047, -4.000429952491178, -4.000245641137094, -4.000269448477299, -3.9996529600439055, -4.000334300702144, -3.999791476486939, -4.000109567940858, -3.999938164279583, -4.000292220859415, -4.000068621827061, -4.000061775474829, -4.0003562882268415, -3.9998898025468734, -4.000666952793916, -4.000537451722472, -4.000687983675069, -4.000682007221494, -4.000443171422332, -4.000362648533278, -3.99994412992306, -4.000445111443835, -4.000622620823475, -4.000119733653489, -3.999989494656497, -4.000510344570836, -4.000293723782261, -4.00028607874056, -4.0000700691290625, -4.00064443393405, -4.00080570936425, -4.000237876850457, -3.9998771658934267, -4.000302954937679, -4.000471763887894, -4.000548019498362, -3.9997933253456956, -4.00044884035519, -4.000391693699704, -4.000063440744785, -4.000136556754679, -4.00006980651107, -3.99989786536662, -4.000273251605524, -3.9997463581023487, -3.999791059368972, -3.999990459781858, -3.9995823749697936, -4.000393768567079, -3.9999794628487, -3.9999493004913207, -3.999935192970524, -3.99974547654409, -4.000693111299114, -3.999971746282307, -3.99994920312475, -4.000570825144324, -4.000346464614288, -3.9997658197436787, -4.000413037762736, -4.000655769134005, -4.0000273560568775, -3.999884870800388, -4.000705044280988, -4.000511949944978, -4.0006265708641475, -3.9999623734347987, -4.000050127611693, -3.999999056236147, -4.00013119027128, -4.000154012618603, -4.000126795396735, -3.9997893270191227, -4.000006811699986, -4.000270562075524, -4.000607688008531, -3.9997674415345923, -4.000299462381792, -4.000080875142406, -4.000327733052871, -4.000232537094338, -3.999994899089989, -3.999600162337581, -4.000934200660371, -4.000397462535588, -4.000120834158342, -3.9997562375426714, -4.000201889769191, -4.000138036311185, -4.000431638755714, -4.000400433286012, -3.999980797392526, -3.9999710884548785, -3.999135344947663, -3.999860817159201, -4.0002537437262955, -3.999891765802725, -4.0004796464348376, -4.000116975516481, -4.000239047596925], \"type\": \"histogram\", \"name\": \"FD\"}, {\"opacity\": 0.8, \"orientation\": \"v\", \"yaxis\": \"y2\", \"histnorm\": \"\", \"histfunc\": \"count\", \"nbinsx\": 30, \"xaxis\": \"x2\", \"marker\": {\"color\": \"rgba(55, 128, 191, 1.0)\", \"line\": {\"color\": \"#4D5663\", \"width\": 1.3}}, \"x\": [-5.016200988249233, -5.007870966855695, -5.029864369333973, -5.03458259754321, -5.061107575151107, -5.125431400361537, -4.94011450195119, -4.9215771290713715, -5.006553270776305, -4.99225568780208, -5.045864271513706, -4.957732214640441, -5.065090969724446, -5.016906119691178, -5.013435360860935, -5.051024740417249, -5.007965911217271, -5.011139746494962, -5.007810342772316, -4.975656416721192, -4.9565502622343764, -4.989774532263464, -5.001192171912596, -5.009721298677163, -5.072724854623696, -4.9829558921727575, -4.966285170175335, -5.015888572579708, -4.996538786370484, -4.872280459564293, -4.907472302912558, -4.977660591298103, -4.951424752389266, -5.017927927571268, -5.0164804610780465, -4.918158722150412, -4.966576964620148, -4.968642744395941, -4.990386843011493, -5.066326380620858, -5.032820781926718, -4.964236831509779, -5.019299919551321, -5.042260375447807, -5.043686077819385, -4.945131728032238, -4.977648065898778, -4.970211812632565, -4.968370425611719, -4.944753015826347, -4.941247386292759, -5.028581783981117, -5.067571282978542, -4.97384334657878, -5.058494771402357, -4.965598218292005, -5.081372312102313, -5.003341510753077, -4.92856091064472, -5.08500022323695, -4.985143079204534, -4.984896578243831, -5.060781484141474, -5.042373912987607, -5.034420498922142, -5.092425569277465, -4.997115916317915, -4.95910241657431, -5.130497979057925, -4.95209488984169, -4.862834500845789, -4.979074173948975, -5.04775660306514, -5.071146377421178, -4.931076150153745, -5.0599712567339665, -4.999172763217764, -5.078356371653554, -5.043109739450543, -4.9861977184831705, -5.064889352138211, -4.996566418495213, -5.0762244817686675, -4.94707756280177, -4.982116756393072, -5.010472155869111, -4.929803127770222, -5.0397554806204266, -4.980109981804614, -4.915317688027997, -4.96458294657562, -5.0302795833091345, -5.064154721707903, -5.007668568495678, -5.0662020375659065, -4.948791064027004, -5.0813693423328825, -5.094977353591396, -5.031716208760993, -5.066259390459839, -5.0275276581895945, -5.038237606351874, -4.987045949948096, -5.025275226187349, -4.954326712005216, -4.982437001420397, -4.992058299649685, -5.003965421751191, -4.954032219366642, -5.039051462832434, -5.0014477422454595, -5.011862151016162, -4.996807942984792, -4.923864480385571, -4.982792171066105, -4.955872545339159, -4.971386815142685, -4.937155196346297, -5.050190449174979, -4.984666853779658, -4.9915095029255605, -5.1121526260837795, -4.999662203481881, -5.012119244069445, -4.939149000079716, -4.949967370683565, -4.963613677756222, -5.02411629522905, -4.968840362787162, -5.08583011481311, -4.987596907895483, -4.952016868443279, -5.029589759593639, -5.041076018883119, -4.9945855935043095, -4.978550467084847, -5.059906491948756, -5.05675350619384, -4.897461554765447, -5.067209251624138, -5.021971147773025, -4.963740468029883, -5.0857474130238245, -4.924654341135131, -4.926664352462024, -4.959689663768064, -4.907356665059716, -5.097639752375876, -5.023667081035507, -4.986209338402924, -4.9442641547571515, -5.078753395714703, -5.055951215894974, -5.0004959827702375, -5.002761676888831, -5.036889847546669, -5.027851605852047, -4.933420752045734, -5.000804439562586, -5.027398550974091, -4.990728111613487, -4.915718324911456, -5.024230343569706, -4.925671859201705, -5.03631653431794, -4.9124503569840705, -4.920534063821461, -5.034784086951252, -4.949858172639534, -4.933988033055305, -5.0877474207774815, -4.943922344658171, -4.971679426204188, -4.963264507889338, -5.003908912222287, -5.062267250965073, -4.932873465258448, -5.068092886977074, -4.960317189019095, -5.032045236078332, -4.992410457073035, -5.070308973590156, -5.102006549353105, -4.944781869156518, -5.078742768860961, -4.9902001230786475, -4.924862683931126, -4.872159810268174, -4.935014749267632, -5.017441238326125, -5.039763284265348, -4.95806187746689, -5.066568116311618, -5.083678650230249, -5.020079546183734, -4.886263208381644, -4.888325926450708, -5.056937523712324, -5.052752685628844, -4.964394870839467, -4.9561722064067215, -5.004266861176601, -4.914007713959506, -5.010822438944204, -5.044983161026232, -5.004643338727115, -5.054510796025371, -5.036117878163585, -5.021667677835435, -4.960759568519968, -4.984229132939907, -5.021396455703906, -4.98908647781924, -5.089514863088883, -5.026901956914733, -4.991374104014979, -5.104183934435072, -5.065637794728271, -4.945211259543881, -4.935783888344926, -5.091455708903217, -5.044843999371107, -4.954920109127714, -5.0171808787019945, -4.996883465565702, -5.035188115156794, -5.004111907385727, -5.0299121730385, -5.005575350931521, -4.946485965275781, -5.0198743797186465, -5.033123750728573, -5.104020000615921, -4.981905007171132, -4.985729594066006, -5.010160818744222, -5.041608710206623, -5.063286652187937, -4.948144577767175, -4.898999866420112, -5.046246522176016, -4.9935893622319565, -4.942979088689418, -5.062571112911571, -5.069970277702886, -4.995528528677668, -4.988759791997802, -4.865112665343015, -4.909423410238034, -4.959224116746442, -4.931705056125092, -5.075876126724916, -5.029882115143176, -4.907682133840631, -5.088022972974782, -5.1067247018357556, -5.111543437191173, -5.0652300228115115, -5.011097810471492, -4.949964463130552, -5.052181142755846, -4.888125331803925, -5.005405476593113, -4.918453063111389, -5.0239464459000605, -5.0572678445153745, -4.946908838860805, -4.9492056964919, -4.952136479695484, -5.053269917755734, -4.920113521398587, -4.883695568027422, -5.045846620761708, -5.034582504347855, -5.086031308853423, -5.014461054621801, -4.968215228276451, -4.993210730756885, -5.030415316751686, -4.999355733357492, -4.947138135398342, -4.898944270173133, -5.002127482162958, -4.973193579004476, -4.969172271007208, -5.024872704272111, -4.9492899592118285, -4.9543812066289785, -5.038929390682948, -5.049169112712837, -4.950604535915035, -4.915263648872109, -4.9512736413767175, -4.982066410558147, -5.048954278335181, -5.006454030475797, -4.991836547388484, -4.920424317522895, -4.965046198852718, -4.96620851502999, -4.961357070406515, -4.937377651147006, -5.013491279707275, -5.0301065656410255, -5.034869061109346, -5.024055226830183, -5.043090017341281, -5.05675336489543, -5.0231079929561435, -5.044740883802735, -5.076973864569981, -4.866430117017945, -5.0004951810455385, -4.973206736503833, -5.020073188480424, -5.020741234262979, -4.934796670851484, -5.087483173960875, -4.989717610840547, -5.020240300296939, -4.9991888214307885, -4.997647417770279, -5.063296491128067, -4.951921278153616, -5.046212172670701, -4.899356838639237, -4.933553807023744, -5.055969008874083, -4.942376560018403, -4.996611215657772, -4.991612563564941, -4.938045059136207, -5.009422521905643, -4.88306792162124, -4.9718592508706045, -4.988434327222658, -4.924906920584554, -4.943815194801635, -5.011956821649228, -4.965281821976662, -4.8905874350635035, -4.99934114402156, -5.060454293611224, -5.028699166647357, -4.971239115328862, -5.026614352876464, -4.967026005707554, -5.093885992110993, -5.036829778331095, -5.044592899656092, -4.947382044361871, -4.9841317581050095, -4.938296932527734, -5.02049998869423, -5.002698314630792, -4.950585386866756, -5.055043594319283, -4.989418575890265, -5.015696476008699, -4.888129120352582, -5.074316987996495, -4.933839241917482, -5.025170254882597, -4.956517948882623, -4.959732226429107, -4.98884373090787, -4.878904626124891, -5.0066932022095845, -5.00796701463392, -5.054180351603401, -4.9585499310692605, -4.9588490117803445, -4.976586047797154, -4.970909887199315, -4.999743272960352, -4.984411487117463, -4.969745451759711, -4.958580626145893, -4.964203760680075, -4.897920246681594, -4.931143077214097, -5.0805246608599015, -4.998400960764791, -5.016653534922499, -4.86084511749543, -4.983020380132691, -4.979681656487848, -4.977366787179156, -4.978979247953286, -4.987686379389335, -5.011609811821169, -5.05756601526396, -5.085701268143192, -5.039906723674546, -4.98623908940583, -4.9959488162435095, -4.891514941135405, -5.078768048550639, -4.949996238432513, -5.085162361505038, -4.950709141280167, -5.146898970640205, -4.953603117543862, -4.982918565768771, -4.931443599350594, -4.983731330224137, -4.948934425573083, -4.950794688132072, -4.995460705695709, -4.877652578209219, -5.038680384855802, -5.041603420665407, -4.965973163213375, -4.958900978122489, -5.046873872033586, -5.021885238534659, -5.09656569593521, -4.95363363288733, -5.054632104316667, -5.091131900765518, -4.944822956160962, -5.066343008304063, -5.052430320152164, -5.067805271266467, -4.892867641163598, -5.032451737805113, -4.951932906713186, -4.908998905064061, -5.0282561368361165, -4.960963134047784, -4.975902020120625, -4.987291256421322, -5.016950939033316, -4.984113875695112, -5.010725764471564, -5.022405622546385, -5.020278890799835, -4.893361946095231, -5.009965091121434, -4.935962558407553, -5.03748273326466, -4.933984798675691, -4.996160940450661, -4.983419313306641, -5.019716656311985, -4.9798681072444, -5.067422561869952, -4.989268037763671, -4.989682542590256, -5.039814049067061, -4.968607885276082, -4.9415093449858265, -4.949502083995753, -5.0620392784060275, -5.021398067166775, -4.9621297631630625, -5.0810364520434135, -4.99797182830763, -4.976300500978041, -4.979697824377878, -5.039281469126026, -5.002521230823646, -5.021343264461642, -4.901873497532398, -5.016460950845335, -5.061055633649909, -5.011304827319723, -4.969160046004973, -5.109200430264538, -5.048453715381225, -5.05280474069981, -5.0153251769529765, -4.9725816034952395, -5.063869562422488, -4.874556718410674, -5.040242164035009, -4.94157614539548, -5.05811376005811, -4.974500628818337, -5.028609721679205, -5.0165102393001595, -5.047610866822282, -5.040312192847975, -5.111996675901293, -4.970098918516104, -5.022243461073148, -4.947362243624765, -5.0692510996115825, -5.038313112866451, -5.019081241295382, -5.003195483366471, -5.0206163214843835, -4.948212106547844, -4.997838318795669, -4.948565163400793, -4.991935035777951, -4.994880713105824, -4.996801396608127, -4.966996199405386, -4.963795750471595, -4.919608872078408, -5.052183700251376, -4.965767954122347, -4.890509921830066, -4.989966820771512, -5.026476025799573, -4.989270266609097, -4.977212407630589, -4.936754232048182, -5.02511643502522, -5.032677532506781, -5.0483093270368276, -4.974732980269357, -5.016676903519096, -4.943207009759781, -5.052708122428562, -5.010721258937818, -4.908639875711718, -4.95713720400995, -5.014295390221687, -5.063335285727872, -5.024920487026142, -4.973754262159758, -4.878499067390101, -5.003725791779426, -4.984214609041173, -4.964526821174768, -4.928456396378281, -5.074351965461723, -4.98815645388356, -5.00956047640006, -5.013784890059166, -5.000189306328847, -4.927828146295942, -4.963851841216563, -5.005139935286033, -5.005037903540464, -5.105878335464348, -5.055702150048752, -5.041944016648745, -4.919204629190229, -5.189108542375321, -4.975436665526994, -4.96269216278033, -4.981690499999541, -4.994883244647133, -5.03156100257258, -4.984410660765061, -5.009247233445013, -5.049786721241169, -4.998644469326902, -4.985805139526379, -5.074047431160464, -4.943641554669037, -5.014012806438073, -4.9736704824845965, -4.965089953724976, -4.919126021668766, -5.070111688657889, -4.951219923002652, -5.138192032140008, -4.9833134364144005, -4.983796533020845, -5.01567557539566, -4.981576318962251, -4.989469103073569, -5.026723991236371, -4.987591778021782, -5.0344481647626385, -4.994038627642494, -4.999356195878753, -5.09939147325152, -4.880446036085628, -5.024179619696714, -4.998279347484251, -4.952802957381749, -5.071587582140901, -5.0153394480541795, -4.9661010174676035, -5.046883208598647, -4.936788743803516, -4.976017392394832, -4.961756800937035, -4.931049335428916, -4.983175806541358, -5.009706725200344, -5.030868663132646, -5.0114352258711286, -5.04593119800116, -4.970568141407915, -4.96267102968376, -5.041126891380026, -5.092186912680267, -4.996935593630677, -4.994991360326633, -4.97496510809755, -5.053705900150961, -5.00655807370455, -5.044188289661802, -5.009036213452684, -5.0208586676352995, -5.0273894891619015, -5.008653986743017, -5.043947243198877, -4.944491793609748, -4.999416267645506, -4.9939629056746755, -4.910759812475225, -4.981612549570871, -5.028808530416343, -5.0365688438578555, -5.027471611300818, -5.026862766053572, -5.017794331658838, -5.006562325060056, -5.030504131990223, -5.028122434857989, -5.019127955499183, -5.082115931365994, -5.035568325735172, -5.01465547269388, -4.981914451714873, -5.103080307142184, -4.993451958291386, -4.990865352014325, -5.029812611024054, -4.99983381382026, -5.001001367241152, -5.020167034400696, -4.98023945497491, -4.998721457589549, -4.981334345470983, -4.971942753052462, -5.001037803086938, -4.9886890165389355, -5.089475394254261, -5.021698666337023, -4.990192352483032, -4.975583830145627, -5.07766738348808, -5.025085326150034, -5.080125989813389, -4.9931847000568705, -4.83030499504282, -5.04482187252617, -5.004610935961812, -5.018105443226212, -4.981095745739438, -4.9946027371931105, -4.982740342510134, -5.010091219077442, -5.0272053156616785, -4.948440041840255, -4.986015865094007, -5.018188821222321, -4.9208543321512455, -4.967265364448449, -5.141703971762579, -5.031594614047515, -5.0245201591399775, -4.968574096408236, -4.861461617869558, -5.034614753228528, -4.92331420812105, -4.889579819434788, -4.950205507973896, -4.98261912955119, -5.052010950063929, -5.058791419549556, -4.979936527655769, -4.969837718229067, -4.972889887498097, -5.030870202710176, -5.037041516987804, -4.98652354586693, -4.92721814556247, -4.960725398520836, -4.980482122234603, -5.012351125602376, -4.977131936823435, -5.172838637854124, -4.971460023524313, -5.097406958080518, -5.019366212973645, -5.0364139901490255, -4.97497110721673, -4.914346552622195, -5.00008512504526, -5.063332200233258, -4.880275583692679, -5.043649029927569, -5.001202803588404, -4.945424769987095, -5.0501974713938695, -5.077781902530479, -4.912071420157578, -4.981138374555312, -5.019628185819539, -4.956180412013791, -4.969312484807695, -5.1133002015828115, -5.033201661831792, -4.89292525822119, -5.028516114720052, -5.016511884795979, -5.003255962159361, -4.932442226085984, -5.028976809810767, -5.022767333288888, -5.110025600689218, -5.002900025518698, -4.962899525900665, -4.965742349803966, -4.946031880728514, -4.936059787031896, -4.999200472303455, -5.098053867651497, -4.953636416929582, -5.075263893855624, -5.012281111463723, -4.998555766693666, -4.949475447844406, -4.989817916484361, -5.06017237642793, -4.977325637361299, -5.008271100162187, -4.970278021929684, -5.000478082818633, -5.062125008694366, -4.941716046753559, -4.961405797894811, -5.214258363639425, -5.013020560605907, -4.996688613095424, -4.970938104408992, -5.043825996476587, -4.992301292968379, -4.970551159122121, -5.0296688257556195, -4.992112138823015, -5.040624088553516, -4.967098932573752, -4.975833382067572, -5.084566031979436, -5.0089192361200965, -4.949780344680638, -5.024569700786758, -4.944889310850775, -5.016270231350907, -4.879648920633427, -5.124991791053523, -4.987789475277781, -5.025666435533161, -4.91590254096112, -5.000152281451424, -5.0900302265939175, -5.054571705542436, -5.034782948247635, -5.02173092054449, -4.979910640856428, -5.023969954927315, -5.07198390793638, -5.012767563007931, -5.0249130956019465, -5.036276546577033, -4.942290966527318, -4.957765684401487, -4.91980236680087, -5.032726656148028, -4.972757571561104, -5.000180529937628, -5.005671993716909, -5.043841383147058, -5.039820238409858, -5.034294547686587, -4.8666885087078775, -5.07444364210494, -4.976271927971665, -5.023236523002806, -4.952098763683554, -4.97120815769311, -5.049075276968118, -5.0528113786972515, -5.068553819993033, -5.094138433051465, -5.0026853591601705, -4.973554506553329, -4.989413791246305, -4.919661404159406, -5.038311493322627, -5.041850912537389, -5.031031489661313, -4.994309212374923, -5.002582295891059, -4.929801142083433, -4.949572294006557, -4.992582311425389, -5.013768026104173, -4.992374618310707, -5.061621418019819, -5.035494183072203, -5.004506759895672, -4.885580127475559, -5.022280425291426, -4.988836984621938, -4.983957229281632, -4.906298446033379, -5.090195728086281, -4.979741645827662, -5.0404709183940515, -4.980789892633107, -4.956505970475673, -5.066478354346851, -4.966552835957195, -4.923354439331853, -5.064304382929198, -4.946351901846389, -5.018099070669554, -4.963228913188143, -4.976925550880798, -4.978696526444393, -5.03730787657884, -4.968075736562892, -5.0587221414873484, -5.064491212144784, -5.0899566486791725, -4.963953813921821, -4.983271131753089, -4.9575192194866275, -4.972035480733355, -5.013617729289924, -4.942898507540732, -5.0667345360898, -4.964831435691951, -5.048631459089625, -5.076102939707998, -4.9918487747184885, -5.113876002861865, -4.991559917444228, -5.038771246553085, -5.031833282804858, -4.9838424167333795, -5.106290779414566, -5.080224696569935, -4.9488627170869615, -4.995757032360671, -5.0453323171336, -4.98212971248369, -4.973975504932932, -4.890857899419495, -5.026519244263809, -5.072339557024342, -4.941861240393411, -4.902888711805962, -5.06137928073275, -4.982221024424571, -4.947560581722808, -4.973731275657644, -5.0262131157353425, -4.985334736791533, -4.969733011817019, -5.020545542871682, -4.962657083811172, -4.954510076122631, -4.968404164108705, -4.94408754786718, -4.952887356713262, -4.8908149917284645, -5.016432749039047, -5.004287833914544, -5.012399048310057, -4.992975434992127, -4.9457112028936745, -5.009074510595415, -4.958421529502788, -5.039313026855074, -5.042201876558877, -4.967556796934831, -5.028209324943648, -4.972399935878732, -4.993835445422495, -5.009516041057971, -5.0149688782440265, -5.017893014904908, -4.961942856616818, -4.975493154348508, -5.0473694830864835, -5.072687850835925, -5.067027387689198, -5.034560514931419, -5.054897172953604, -4.940947113186428, -5.039593220816916, -4.993522064459348, -5.082824149127824, -5.001586872919916, -4.949319042448391, -4.937769633543495, -4.987814838763259, -4.9797498203855595, -5.037935538669206, -4.978475895261949, -4.928762354907658, -4.865868237822602, -5.035126061447102, -5.009024389578741, -5.060254196502636, -4.9942987528426865, -5.086292955470649, -4.935132843048553, -4.956191390811309, -5.071315666396826, -5.0281315896542775, -4.9893807804548675, -4.9944074721436715, -5.100102639295409, -4.914225299047257, -4.97444426251834, -4.941971733834938, -4.982322651991998, -4.973802273494555, -4.987128071572278, -4.984276973773458, -5.0517127761568315, -5.004058096785504, -5.027780490263186, -4.972307470407733, -4.996154298937397, -5.03870428614041, -4.96026839008961, -4.955551715733792, -5.036293565837832, -5.048814800208943, -5.022304255819075, -4.942862980162447, -4.990235180991622, -4.97395607503688, -5.028174063295628, -4.92769778455072, -4.920298670508886, -5.062223983690419, -5.06797467286332, -5.031770853017038, -4.9823934619036425, -5.169642160057204, -5.050385282738873, -4.894263828246244, -5.134311898054859, -5.001089140725709, -4.93276936786344, -4.9784610633153275, -4.942471710932596, -4.9509742748776, -4.978325826220671, -5.008456223749149, -4.951482209883252, -4.898064789843425, -5.014566887747755, -5.022646647000448, -4.997160712005594, -5.042503716752614, -5.016677172254425, -4.978979879177647, -4.936201701559577, -5.005563865983673, -4.958136156809897, -4.952221635333994, -4.967719472471579, -5.039236670141184, -4.931997276289083, -5.031325204645505, -4.998961536713518, -5.024581141827996, -4.986226313455841, -4.866492235412379, -4.942331278426297, -5.010643370518572, -4.995661528876468, -4.955267442119597, -5.084004425068837, -4.991294642698845, -4.980650321965829, -4.991058428163857, -5.033792748597087, -4.900325286062108, -4.983997906782378, -4.940490615986713, -4.961410305400746, -4.949828364538974, -4.9939263389746245, -4.991191647640094, -5.032050424344293, -5.04197715343648, -4.986504776627414, -4.931636179871136, -4.95309743047911, -5.029588080521007, -5.013582313627696, -4.965990709813985, -5.005832703669675], \"type\": \"histogram\", \"name\": \"FD-FD\"}, {\"opacity\": 0.8, \"orientation\": \"v\", \"yaxis\": \"y3\", \"histnorm\": \"\", \"histfunc\": \"count\", \"nbinsx\": 30, \"xaxis\": \"x3\", \"marker\": {\"color\": \"rgba(50, 171, 96, 1.0)\", \"line\": {\"color\": \"#4D5663\", \"width\": 1.3}}, \"x\": [-4.989324099396027, -5.024741084751831, -5.01628538082406, -5.027077309467643, -5.054814578747996, -5.071832961700432, -4.949766928314121, -4.922543258779362, -5.001207760945936, -4.988178537593363, -5.048986248873989, -4.956899926608465, -5.053925996097222, -5.021315496893552, -4.978594489000383, -5.032851964724506, -4.985403809551317, -5.002002724073089, -4.999400862175927, -4.9795352957924734, -4.961501051559088, -5.000989158683931, -4.970847085776001, -5.007781341961357, -5.05089941063482, -4.986170635094973, -4.983415024028893, -5.030247361196402, -4.996871110921594, -4.931547805810032, -4.947318705268794, -4.987836927126881, -4.940673537239078, -5.005352895871179, -5.010874702524147, -4.908206129143514, -4.951791145850628, -4.942819487938731, -4.999378995270449, -5.044905185754349, -5.026394734787852, -4.984816919934883, -5.028801758102846, -5.046198226638563, -5.02735386980914, -4.952628145835953, -4.976839611688896, -4.979889161924439, -4.964457252051356, -4.953895582791798, -4.932486471175118, -5.024590202586021, -5.053895691649313, -4.962189089134279, -5.034941656294743, -4.977078963286846, -5.0558646644200405, -5.030208266605028, -4.962332416388392, -5.083503059863271, -5.010099257303584, -4.976125404548032, -5.072097916419512, -5.055788707551319, -5.022794423195301, -5.056733359742788, -5.012831574207831, -4.979602490706688, -5.117552033896986, -4.9393295525232315, -4.899520649300748, -4.983170922883856, -5.048240297358464, -5.084776569660283, -4.951473236801947, -5.074177074471908, -4.977406161799546, -5.054088274403302, -5.046303103060147, -4.9641083288748415, -5.0755795201084055, -5.01713665452853, -5.044810183642207, -4.94466789039031, -4.978378322791535, -5.012868982670017, -4.932218426062621, -5.007843651951404, -4.982969029177152, -4.9488516113544465, -4.996036930902353, -5.002755428891147, -5.073313704373719, -5.031038448637017, -5.035297487410888, -4.939811513928882, -5.086600513089898, -5.0505229224823776, -5.0123377775475175, -5.073127439525544, -5.033492324199776, -5.0006068504669114, -5.012996098723186, -4.996747776426955, -4.979970957358476, -4.979172700940613, -4.999799971150563, -5.0119184852349274, -4.962558835768196, -5.051663945465738, -4.978056493367905, -4.990230744749388, -4.980906187675363, -4.9372605456814345, -4.999847818365342, -4.979441710250723, -4.964793087773154, -4.958115468312024, -5.045784513191624, -4.995098926371166, -5.001693258931802, -5.092409175196622, -4.982825930981583, -5.033697042617206, -4.946537651127967, -4.970223434117077, -4.953398603529939, -5.026569654797766, -4.978821252342772, -5.08997610861293, -4.993276839263438, -4.956462771973686, -5.024346034606653, -5.0329401827709574, -4.972178788459923, -4.970447765780248, -5.0347523324860415, -5.050150853082277, -4.91234383046606, -5.054530896376631, -5.046576366395447, -4.971880474851536, -5.0577974123032305, -4.9229442647845305, -4.94705951879858, -4.948594910379162, -4.910378164583222, -5.074738737874036, -5.007540379020856, -4.988096887129048, -4.947157498277527, -5.044125693033482, -5.043730821753297, -5.007791996517108, -5.001893017790589, -4.998859268679996, -5.012585581385338, -4.946954956101711, -5.009443187703763, -5.017688729678241, -5.012700952452041, -4.928500386870416, -5.023623693656722, -4.9208430723653676, -5.028231702857513, -4.928598404224825, -4.935212936858441, -5.016459015505555, -4.943323975724582, -4.953782970422375, -5.066889175908422, -4.968040918239739, -4.994971628062753, -4.974798530702837, -5.007934457973164, -5.026450352273406, -4.936539861566137, -5.055052070638688, -4.983071439386684, -5.017717924229097, -5.007287034155526, -5.076226693291021, -5.05924370969529, -4.961238042123577, -5.06663777264267, -4.990697904106738, -4.939691593457817, -4.8912940433828265, -4.957824952659226, -5.051539327508138, -5.015068670635133, -4.961402181250954, -5.054116084707546, -5.071279257719968, -5.006757020930447, -4.920385452296715, -4.918838896664988, -5.03889322199266, -5.0581417046578565, -4.959922774122846, -4.961675483462791, -5.01024638886293, -4.944674831331797, -5.004976074444005, -5.066897165177666, -5.001110212451453, -5.019194988195656, -5.036091438049018, -5.0038570294658, -4.941014709490478, -4.9820524159639366, -5.03077442844331, -4.966736833661498, -5.086986156409436, -5.016286423255911, -4.98177917147692, -5.079771444014355, -5.050166582525, -4.938125607796306, -4.9634443427148565, -5.076504548301235, -5.016195802686158, -4.98663180676727, -5.029527964140378, -4.986034394248199, -5.036216934288891, -4.994592047963843, -5.016393383750577, -5.006914017652242, -4.956091169206072, -5.010995600680793, -5.0155003179377475, -5.067459991703847, -4.992539443266553, -4.9715783086047125, -5.0156118451992056, -5.002133109604297, -5.072680799858185, -4.96689248644568, -4.899448151844614, -5.031510393974817, -5.001169149832754, -4.944827839314046, -5.0439723220764225, -5.062648150371096, -4.9826255022079255, -5.022073188879974, -4.894473532307181, -4.926133469921885, -5.016018289386524, -4.952033064071532, -5.080583439554973, -5.024634363214614, -4.92371889946034, -5.0721021393064, -5.089717482274259, -5.128264912313562, -5.055953115091883, -5.017093778051365, -4.930434346111752, -5.039908584965961, -4.920927136848789, -5.00052571005093, -4.946921325120418, -5.0156790688579385, -5.0251829099330125, -4.943805987475625, -4.975549208084335, -4.963780661872685, -5.043326192720868, -4.931568600412864, -4.90119202346133, -5.051126095567067, -5.0169162144395685, -5.084946573730705, -5.026809070896499, -4.97232707506272, -4.992415722482889, -5.027494826167018, -5.006422312235797, -4.928803538583384, -4.939006246499922, -5.005224531695108, -4.9745360925588855, -4.966161216401681, -5.025203362821312, -4.979733012359775, -4.96577110618761, -5.033816662258743, -5.0278064074917665, -4.9719665639551724, -4.947960480277608, -4.9700339046244, -4.972067820527454, -5.021316946833389, -4.984788333031606, -5.025282934461471, -4.982248388716533, -5.004650752721844, -4.9638331719386315, -4.966143245197708, -4.94785389377108, -5.020909779138839, -5.02808225992849, -5.042351055912058, -5.016820068639554, -5.035246250546326, -5.060429204356342, -5.040879754088346, -5.030810480298735, -5.0469133199677625, -4.906092763068467, -5.019369372762065, -4.975691901780324, -5.004358410697183, -5.008474438687276, -4.933516997348754, -5.0799928146863875, -4.981276466541365, -5.0285090086842565, -4.983139293733016, -5.005892484974229, -5.049919952661164, -4.940945483742988, -5.029760238509239, -4.949704315949813, -4.929032102331292, -5.048013270499685, -4.951893092777218, -4.992584554149326, -5.0337136030816785, -4.954154913655044, -5.003870487652527, -4.89962850238073, -4.9603175646983715, -4.967170030928177, -4.956883588872259, -4.956501619219184, -5.002749651238335, -4.970567943232096, -4.901980948737229, -5.005460683834326, -5.03667059117449, -4.9879453081592295, -4.9695672607974934, -5.034933841131821, -4.9661887098205115, -5.090010992543405, -5.01502751954782, -5.037984497346402, -4.938380019635862, -5.00112432922977, -4.961250707332747, -5.004855228647791, -4.9885392443848176, -4.958099043532436, -5.032406826391943, -4.98132569110314, -4.999272633345356, -4.88861413258046, -5.08957357231437, -4.962525288556169, -5.027015366031925, -4.962791163522612, -4.944064626090174, -5.003549819143009, -4.8845754705615185, -5.030758726874864, -5.013489606243565, -5.026809280478617, -4.976987759911, -4.9738155384128255, -4.975486251246078, -4.9644318746714475, -4.990810107845789, -4.98465625497537, -4.962555472720743, -4.963916181517327, -4.981421894572993, -4.919306320593126, -4.963035475854188, -5.069483443662397, -5.028817660372489, -5.019609276427772, -4.892704443079179, -4.96882576065776, -4.974339960778559, -4.962008389515459, -4.9851533281592975, -4.988455329668303, -5.009109217830207, -5.032417401622097, -5.100822852258176, -5.026823065614769, -4.966003078632784, -5.000853978796259, -4.905376079430715, -5.063150152933814, -4.980182291989074, -5.063756129353967, -4.954255529718803, -5.128869331293154, -4.950838622097195, -4.983478537270865, -4.959738920629084, -4.971415830795104, -4.949814061775449, -4.95256225784123, -4.967277658960658, -4.931173489423356, -5.012220195631128, -5.040782523360123, -4.977011503637463, -4.96252485947414, -5.031227512920101, -5.035013186521931, -5.068249337989278, -4.965727666091383, -5.038937723581483, -5.0544465772643825, -4.941247701895369, -5.034473299160547, -5.040931935536413, -5.067010804251695, -4.9356825143308445, -5.033483485294694, -4.953062932354047, -4.924277030423514, -5.007185471016949, -4.986489499748544, -5.000194252821308, -4.990167973677009, -4.997054007580078, -5.004240624148331, -5.010823375217118, -5.031727494620648, -4.997812995472854, -4.909974123230906, -5.001097109716955, -4.965003256095199, -5.033227095142921, -4.93525083248072, -5.027349870328891, -4.993405762428559, -5.014907605815544, -4.987724736206717, -5.073782956697744, -5.004309487081742, -4.99786339107958, -5.017259336332369, -4.979028664696051, -4.948705067003756, -4.974225093332548, -5.039120361526296, -5.035555540516375, -4.973844635582219, -5.056282952430898, -5.0244861768494005, -4.992163361478003, -5.002144145658328, -5.02354817323788, -5.010271116527914, -5.015452277570542, -4.909467770906241, -5.018428630509478, -5.01364420299222, -5.018723475698426, -4.968791141458252, -5.072317478327651, -5.061552326582189, -5.053750012191269, -5.007394353717428, -4.986831759527881, -5.050243279123077, -4.8895214739541775, -5.031158012497707, -4.944469744029829, -5.0823911919630635, -4.981883807991454, -4.997645770110648, -5.038010833055301, -5.0634984219250185, -5.0318936285230755, -5.092597909539251, -4.9972905430133805, -5.022955372894367, -4.946701284835761, -5.054865492052047, -5.033240747509183, -5.028253723133574, -4.9844853585871585, -5.03510841703662, -4.94558289149048, -4.99894898437549, -4.9411651274813435, -4.997876360076965, -5.014376076574841, -5.019020437625097, -4.970630479286564, -4.964048851214737, -4.9351991364956165, -5.059575671422007, -4.965600938164783, -4.927045695812273, -4.987835613692212, -5.037697799881906, -4.9610658071797875, -4.987135669214446, -4.946417685369521, -5.025223988845912, -5.0246131218912, -5.042637814727119, -4.961545309821819, -5.0106687772131, -4.949970455226374, -5.047404649075711, -5.009293614130869, -4.927821042037267, -4.97288696488177, -5.005195515037764, -5.068076612832273, -5.011202871653342, -5.013892450853989, -4.914199223188156, -5.000175982340958, -4.987324288396559, -4.974019338182744, -4.9532843102422595, -5.04605429743847, -4.962325408275509, -5.013289534255962, -5.018764255627556, -5.01732739725756, -4.94658164033881, -4.9716612317709465, -4.983016950109999, -4.971332278366635, -5.064978508993156, -5.058693869126437, -5.0466871282043355, -4.943403634955981, -5.176107338525654, -5.01080318195163, -4.969646162925905, -4.969717602000232, -5.011203000804769, -5.0212611970762, -4.985754387126707, -4.994729726417958, -5.0299628035714665, -4.9946943695299595, -5.00612711972191, -5.058247094303509, -4.958950745690146, -5.041728731179614, -4.99763133650636, -4.987944920050213, -4.932040564462078, -5.056999416816078, -4.94914648007866, -5.122956746107122, -5.012355787417809, -4.997261530667036, -5.035927714813436, -5.002100631765206, -4.985009281483578, -4.993984846704636, -4.992829991635546, -5.054814925289946, -4.99747802834383, -4.9806751179478255, -5.089523662837218, -4.8876492617759375, -5.027314309987617, -4.987601733438799, -4.973868299558068, -5.048208522992581, -5.0139911451014525, -4.979107206253354, -5.028725838933439, -4.9408218239729145, -4.9666191322961275, -4.957715781699358, -4.952616716687091, -4.993090113743488, -4.995577036278219, -5.0380719958674804, -5.019893398262329, -5.007568402067706, -4.961717850946293, -4.9520365977531835, -5.023940721538668, -5.074729281667546, -5.009814378382346, -4.996943442512079, -4.987561142388558, -5.028515318019849, -5.021538625890901, -5.046519694527939, -5.023669278190622, -5.001809860259624, -5.030589093149426, -5.004462683225329, -5.01722501972511, -4.966606692024465, -4.982832689469721, -5.011410589095459, -4.926036578024286, -4.972972050749315, -5.011180633511417, -5.046476128355153, -5.034736645815347, -4.992867789320231, -5.025476764776849, -4.986370629938261, -5.022765792390605, -5.012217793813445, -5.0112055540216085, -5.051844243482508, -5.010430472348633, -4.996537129967862, -4.999424253209826, -5.081242526316923, -4.970675608626577, -4.98662262169926, -5.026254436335488, -5.009677664356198, -5.010147521832328, -4.964471303164478, -4.978924920334261, -4.999763368295587, -4.988517036608891, -4.981239674981224, -5.00139343094536, -5.003812895983137, -5.073479897530633, -5.033569296955602, -4.982764647820268, -5.005097922755295, -5.061470826231183, -4.9993673222440895, -5.069580355455024, -5.002249675126064, -4.8471668001668045, -5.009281366646489, -5.023504561455473, -5.041746004047036, -4.975895664000273, -5.002906993936178, -4.989928054589024, -5.00655362919853, -5.010239243126331, -4.961690720455284, -4.990328845776909, -4.991671374258681, -4.917856461113619, -4.94457112966847, -5.116398710473285, -5.030377103141369, -4.99436354303038, -4.976730878656781, -4.899441518690352, -5.012517645182376, -4.941636071283772, -4.899638504822343, -4.948564524219645, -5.000533040671858, -5.024085334785832, -5.041270958470198, -4.979544246890574, -4.974348107324921, -4.982182102948958, -5.0295345032459915, -5.050585968440787, -4.9945939286192464, -4.9450881644160765, -4.971569123872494, -4.97866309234645, -4.994543444046563, -4.973419900640493, -5.118354978723659, -4.986623753276742, -5.08618518667036, -5.026619857768345, -5.050583629952332, -4.9799908629441525, -4.916037840013765, -5.006788762879719, -5.065129040023055, -4.8968517183221705, -5.014225900368698, -5.008375231170442, -4.945873938779247, -5.048202867769633, -5.0526283854627305, -4.9115833565380695, -5.013287276563437, -5.016477535838625, -4.950600082772782, -4.985868506652427, -5.09658746505824, -5.032841029448922, -4.927618095447052, -5.001887993222475, -5.0021496638713145, -4.999170613291659, -4.939341373281023, -5.010343007941892, -5.0094905703890955, -5.098160641490313, -4.9996668848171755, -4.962265158232221, -4.948062001182006, -4.9603833586720665, -4.940269739704954, -4.999053203573384, -5.084117371465388, -4.967473273396468, -5.066285272651059, -5.010371483102544, -5.00185266322408, -4.978169968085104, -4.977525651457792, -5.020996722079724, -4.983837402950256, -4.994771146443224, -4.972100095483623, -4.987505205173246, -5.020066353871327, -4.9464310659252995, -4.963187354494318, -5.1742837953448415, -5.013652569581923, -5.017984198789386, -4.986422934986205, -5.038040587307762, -4.980469432608356, -4.965721503786533, -5.01543257704718, -4.976282777156246, -5.020888536984252, -4.981707196549027, -4.952830264724086, -5.060368447698131, -4.993691018514971, -4.96053776966601, -5.014004698960371, -4.964519786723181, -5.036932653129141, -4.908595265546675, -5.092393880968895, -4.973616455778821, -5.013866836859705, -4.956545291661373, -5.0121031752386305, -5.0950353270599145, -5.05240805380078, -5.03988546099262, -5.047325833571042, -4.999058361752764, -5.0160001459477765, -5.066202869993266, -5.008628064896732, -5.007126594726663, -5.061282026680462, -4.969346903050179, -4.96113576652788, -4.932370692243044, -4.98968143121615, -4.969642077193182, -4.984722634125834, -4.995660736425776, -5.045269821175006, -5.029369960942175, -5.031318775705586, -4.906478265587989, -5.067573927373493, -4.953789955565704, -5.023323578514983, -4.962283517832836, -4.958640029019463, -5.019114929491147, -5.032477876708632, -5.052725792880705, -5.073302861957442, -4.970741490046386, -4.968338693712635, -4.982049892128806, -4.9290751193595925, -5.027489526162579, -5.038853230672481, -5.002905157291162, -4.992801199968899, -4.9834979275974245, -4.9393995693288835, -4.963660277713348, -4.985566246077468, -4.988368537831811, -4.986287146444277, -5.0351460221248185, -4.987611768447502, -5.01021776687713, -4.912375311910279, -5.0059096507575545, -4.989337015329046, -4.99043986314039, -4.915292427161354, -5.0796857964923925, -4.98325895950985, -5.015107036480792, -4.994389986579228, -4.948524638335076, -5.025450680444198, -4.996688481841906, -4.921971944451862, -5.078507449613429, -4.953601874963612, -5.0199412202233304, -4.9648703629562405, -4.966255933536964, -5.008586368402952, -5.050132180672827, -4.963649030332986, -5.044561387332331, -5.046504348381429, -5.062832884351831, -4.992503603232349, -4.957152399399374, -4.963395835370077, -4.982324182863886, -5.001454862603366, -4.949975870816001, -5.0455746403268185, -4.972576205489405, -5.034342138887128, -5.0788250407563265, -4.99499672334647, -5.117752167108229, -5.002373509871451, -5.02731430798489, -5.057767962437935, -4.969949414263421, -5.094683981345785, -5.058824835679129, -4.95570893700187, -5.006711702061747, -5.061309962982854, -4.989626913061735, -4.978077928585659, -4.9214602136474195, -5.040482032885754, -5.067643322317551, -4.932651342229754, -4.920154817483066, -5.03599353621602, -4.987801971269015, -4.967556850705771, -4.966582171516658, -4.999410784107929, -4.97291171289792, -4.992610248752072, -5.012463825240182, -4.977711987785922, -4.9760731965468255, -4.9910255399816155, -4.950289609860174, -4.958857957553401, -4.922614349326659, -5.0073995462241445, -5.007705396723427, -5.009681532580354, -5.0001561335361, -4.95406472735604, -5.002672446403912, -4.974084466934795, -5.018352155242874, -5.046609593898868, -4.9673173759408735, -5.012113296617237, -4.970938606610327, -5.00018678039639, -4.997070754239118, -5.024852348757765, -4.978307269279173, -5.001325982103711, -4.985566019471131, -5.037159826654516, -5.070009654674275, -5.042600799887261, -5.014849498524221, -5.056959347221154, -4.966106420544165, -5.017670910016459, -5.010188095350346, -5.0779227716982405, -4.989971971987723, -4.9445053579124405, -4.936428647904945, -4.974489218390414, -4.970364664210803, -5.028486664807191, -5.004769405362099, -4.92631926424671, -4.927787474546056, -5.030488938339689, -4.981224947969288, -5.033506533446214, -4.969621915405387, -5.0463660905208885, -4.927852477624277, -4.9802629388636035, -5.062361007506995, -5.032244830741196, -4.986385802781946, -4.975178113107349, -5.09477881230862, -4.919129198966498, -4.973406165414633, -4.935437454367972, -4.984304246436269, -4.990955151712626, -4.987338576334258, -4.998139305524691, -5.050106854174976, -4.992987246129789, -4.996888822178224, -4.958313585076949, -5.007230617364401, -5.031641965855439, -4.954060864548731, -4.968940162176926, -5.0268271039949415, -5.060808711147123, -5.018489954665808, -4.9464568243564635, -5.000305964413478, -4.984688941012649, -5.038355002611802, -4.959682561722546, -4.961761038008644, -5.052999328628234, -5.029383596463283, -5.004235031400747, -5.001079728698938, -5.133788998835644, -5.030070595894511, -4.9229366292391985, -5.132925438924215, -5.004662485738122, -4.959304572588151, -4.979019846990678, -4.965894052216477, -4.985171312451929, -4.969431821048224, -5.005905550618625, -4.966005222440931, -4.901935914900536, -5.012403087931393, -5.034181122569722, -4.99340202533161, -5.039154506769947, -5.024281019700966, -4.981998916331246, -4.944640382163054, -4.980854169150742, -4.954915217591463, -4.969574579726021, -4.973483854910667, -5.012293139722809, -4.962290980817908, -5.032921228284939, -5.037905408268941, -5.010847137699974, -5.008226254093881, -4.916915201647236, -4.950301041763057, -5.006924265687367, -4.994512015517945, -4.9616875978001485, -5.048339689687466, -5.000345400057842, -4.987489200300301, -5.018375252762146, -5.016770810775082, -4.926491073929387, -4.993255620668235, -4.944229895195189, -4.977498856816689, -4.960986087119968, -4.9931188441457905, -4.983775849139103, -4.998566171749593, -5.0335440963782965, -4.993298370580224, -4.938305044902934, -4.964647314311698, -5.022144742158661, -4.99710273543114, -4.975909608624173, -4.9846217906174415], \"type\": \"histogram\", \"name\": \"FD-FE\"}], {\"title\": \"Histogram for estimates with true beta = (-5)\", \"paper_bgcolor\": \"#F5F6F9\", \"plot_bgcolor\": \"#F5F6F9\", \"xaxis3\": {\"domain\": [0.7111111111111111, 1.0], \"anchor\": \"y3\"}, \"xaxis2\": {\"domain\": [0.35555555555555557, 0.6444444444444445], \"anchor\": \"y2\"}, \"xaxis1\": {\"tickfont\": {\"color\": \"#4D5663\"}, \"domain\": [0.0, 0.2888888888888889], \"title\": \"\", \"showgrid\": true, \"zerolinecolor\": \"#E1E5ED\", \"gridcolor\": \"#E1E5ED\", \"titlefont\": {\"color\": \"#4D5663\"}, \"anchor\": \"y1\"}, \"height\": 587, \"width\": 1116, \"yaxis2\": {\"domain\": [0.0, 1.0], \"anchor\": \"x2\"}, \"yaxis3\": {\"domain\": [0.0, 1.0], \"anchor\": \"x3\"}, \"titlefont\": {\"color\": \"#4D5663\"}, \"barmode\": \"overlay\", \"annotations\": [{\"yanchor\": \"bottom\", \"xref\": \"paper\", \"xanchor\": \"center\", \"yref\": \"paper\", \"text\": \"FD Estimation\", \"y\": 1.0, \"x\": 0.14444444444444446, \"font\": {\"color\": \"#4D5663\", \"size\": 16}, \"showarrow\": false}, {\"yanchor\": \"bottom\", \"xref\": \"paper\", \"xanchor\": \"center\", \"yref\": \"paper\", \"text\": \"FD-FE Estimation\", \"y\": 1.0, \"x\": 0.5, \"font\": {\"color\": \"#4D5663\", \"size\": 16}, \"showarrow\": false}, {\"yanchor\": \"bottom\", \"xref\": \"paper\", \"xanchor\": \"center\", \"yref\": \"paper\", \"text\": \"FD-FD Estimation\", \"y\": 1.0, \"x\": 0.8555555555555556, \"font\": {\"color\": \"#4D5663\", \"size\": 16}, \"showarrow\": false}], \"yaxis1\": {\"tickfont\": {\"color\": \"#4D5663\"}, \"domain\": [0.0, 1.0], \"title\": \"\", \"showgrid\": true, \"zerolinecolor\": \"#E1E5ED\", \"gridcolor\": \"#E1E5ED\", \"titlefont\": {\"color\": \"#4D5663\"}, \"anchor\": \"x1\"}, \"legend\": {\"bgcolor\": \"#F5F6F9\", \"font\": {\"color\": \"#4D5663\"}}}, {\"linkText\": \"Export to plot.ly\", \"showLink\": true})</script>"
      ],
      "text/plain": [
       "<IPython.core.display.HTML object>"
      ]
     },
     "metadata": {},
     "output_type": "display_data"
    }
   ],
   "source": [
    "########## Restoring the data to panda data frames for the plot\n",
    "#fd\n",
    "estimate_fd_df = pd.DataFrame(estimate_mat_fd).T\n",
    "\n",
    "#mix\n",
    "estimate_m_df = pd.DataFrame(estimate_mat_m).T\n",
    "\n",
    "#pure\n",
    "estimate_p_df = pd.DataFrame(estimate_mat_p).T\n",
    "\n",
    "########## Generating plots using plotly\n",
    "\n",
    "cf.set_config_file(offline=False, world_readable=True, theme='pearl')\n",
    "\n",
    "df = pd.DataFrame({'FD': estimate_fd_df[0],\n",
    "                   'FD-FE': estimate_m_df[0],\n",
    "                   'FD-FD': estimate_p_df[0]})\n",
    "#df.head(2)\n",
    "\n",
    "df.iplot(kind='histogram', subplots=True, shape=(1, 3),\n",
    "         title = \"Histogram for estimates with true beta = (-5)\",\n",
    "         bins = 30,\n",
    "         subplot_titles=('FD Estimation', 'FD-FE Estimation','FD-FD Estimation'),\n",
    "         filename='cufflinks/histogram-subplots')\n",
    "\n",
    "# See https://plot.ly/ipython-notebooks/cufflinks/ for further options"
   ]
  },
  {
   "cell_type": "markdown",
   "metadata": {},
   "source": [
    "The histogram shows that for all three methods the distribution looks similar to a normal distribution which was to be expected. The estimation therefore behaves nicely and gives confident that there is no major errors in the DGP nor the the by-hand regressions.\n",
    "\n",
    "For a better comparison we plot the _mix_ (yellow) and _pure_ (blue) estimation within one plot to show differences. Since the FD estimation is biased and would only make the graphical comparison more difficult, we don't include it furthermore."
   ]
  },
  {
   "cell_type": "code",
   "execution_count": 244,
   "metadata": {
    "collapsed": false
   },
   "outputs": [
    {
     "data": {
      "text/html": [
       "<div id=\"dc3b20c9-526f-4a21-89c9-8268412ec553\" style=\"height: 587; width: 1116px;\" class=\"plotly-graph-div\"></div><script type=\"text/javascript\">window.PLOTLYENV=window.PLOTLYENV || {};window.PLOTLYENV.BASE_URL=\"https://plot.ly\";Plotly.newPlot(\"dc3b20c9-526f-4a21-89c9-8268412ec553\", [{\"opacity\": 0.8, \"name\": \"FD-FD\", \"histnorm\": \"percent\", \"histfunc\": \"count\", \"marker\": {\"color\": \"rgba(255, 153, 51, 1.0)\", \"line\": {\"color\": \"#4D5663\", \"width\": 1.3}}, \"x\": [-5.016200988249233, -5.007870966855695, -5.029864369333973, -5.03458259754321, -5.061107575151107, -5.125431400361537, -4.94011450195119, -4.9215771290713715, -5.006553270776305, -4.99225568780208, -5.045864271513706, -4.957732214640441, -5.065090969724446, -5.016906119691178, -5.013435360860935, -5.051024740417249, -5.007965911217271, -5.011139746494962, -5.007810342772316, -4.975656416721192, -4.9565502622343764, -4.989774532263464, -5.001192171912596, -5.009721298677163, -5.072724854623696, -4.9829558921727575, -4.966285170175335, -5.015888572579708, -4.996538786370484, -4.872280459564293, -4.907472302912558, -4.977660591298103, -4.951424752389266, -5.017927927571268, -5.0164804610780465, -4.918158722150412, -4.966576964620148, -4.968642744395941, -4.990386843011493, -5.066326380620858, -5.032820781926718, -4.964236831509779, -5.019299919551321, -5.042260375447807, -5.043686077819385, -4.945131728032238, -4.977648065898778, -4.970211812632565, -4.968370425611719, -4.944753015826347, -4.941247386292759, -5.028581783981117, -5.067571282978542, -4.97384334657878, -5.058494771402357, -4.965598218292005, -5.081372312102313, -5.003341510753077, -4.92856091064472, -5.08500022323695, -4.985143079204534, -4.984896578243831, -5.060781484141474, -5.042373912987607, -5.034420498922142, -5.092425569277465, -4.997115916317915, -4.95910241657431, -5.130497979057925, -4.95209488984169, -4.862834500845789, -4.979074173948975, -5.04775660306514, -5.071146377421178, -4.931076150153745, -5.0599712567339665, -4.999172763217764, -5.078356371653554, -5.043109739450543, -4.9861977184831705, -5.064889352138211, -4.996566418495213, -5.0762244817686675, -4.94707756280177, -4.982116756393072, -5.010472155869111, -4.929803127770222, -5.0397554806204266, -4.980109981804614, -4.915317688027997, -4.96458294657562, -5.0302795833091345, -5.064154721707903, -5.007668568495678, -5.0662020375659065, -4.948791064027004, -5.0813693423328825, -5.094977353591396, -5.031716208760993, -5.066259390459839, -5.0275276581895945, -5.038237606351874, -4.987045949948096, -5.025275226187349, -4.954326712005216, -4.982437001420397, -4.992058299649685, -5.003965421751191, -4.954032219366642, -5.039051462832434, -5.0014477422454595, -5.011862151016162, -4.996807942984792, -4.923864480385571, -4.982792171066105, -4.955872545339159, -4.971386815142685, -4.937155196346297, -5.050190449174979, -4.984666853779658, -4.9915095029255605, -5.1121526260837795, -4.999662203481881, -5.012119244069445, -4.939149000079716, -4.949967370683565, -4.963613677756222, -5.02411629522905, -4.968840362787162, -5.08583011481311, -4.987596907895483, -4.952016868443279, -5.029589759593639, -5.041076018883119, -4.9945855935043095, -4.978550467084847, -5.059906491948756, -5.05675350619384, -4.897461554765447, -5.067209251624138, -5.021971147773025, -4.963740468029883, -5.0857474130238245, -4.924654341135131, -4.926664352462024, -4.959689663768064, -4.907356665059716, -5.097639752375876, -5.023667081035507, -4.986209338402924, -4.9442641547571515, -5.078753395714703, -5.055951215894974, -5.0004959827702375, -5.002761676888831, -5.036889847546669, -5.027851605852047, -4.933420752045734, -5.000804439562586, -5.027398550974091, -4.990728111613487, -4.915718324911456, -5.024230343569706, -4.925671859201705, -5.03631653431794, -4.9124503569840705, -4.920534063821461, -5.034784086951252, -4.949858172639534, -4.933988033055305, -5.0877474207774815, -4.943922344658171, -4.971679426204188, -4.963264507889338, -5.003908912222287, -5.062267250965073, -4.932873465258448, -5.068092886977074, -4.960317189019095, -5.032045236078332, -4.992410457073035, -5.070308973590156, -5.102006549353105, -4.944781869156518, -5.078742768860961, -4.9902001230786475, -4.924862683931126, -4.872159810268174, -4.935014749267632, -5.017441238326125, -5.039763284265348, -4.95806187746689, -5.066568116311618, -5.083678650230249, -5.020079546183734, -4.886263208381644, -4.888325926450708, -5.056937523712324, -5.052752685628844, -4.964394870839467, -4.9561722064067215, -5.004266861176601, -4.914007713959506, -5.010822438944204, -5.044983161026232, -5.004643338727115, -5.054510796025371, -5.036117878163585, -5.021667677835435, -4.960759568519968, -4.984229132939907, -5.021396455703906, -4.98908647781924, -5.089514863088883, -5.026901956914733, -4.991374104014979, -5.104183934435072, -5.065637794728271, -4.945211259543881, -4.935783888344926, -5.091455708903217, -5.044843999371107, -4.954920109127714, -5.0171808787019945, -4.996883465565702, -5.035188115156794, -5.004111907385727, -5.0299121730385, -5.005575350931521, -4.946485965275781, -5.0198743797186465, -5.033123750728573, -5.104020000615921, -4.981905007171132, -4.985729594066006, -5.010160818744222, -5.041608710206623, -5.063286652187937, -4.948144577767175, -4.898999866420112, -5.046246522176016, -4.9935893622319565, -4.942979088689418, -5.062571112911571, -5.069970277702886, -4.995528528677668, -4.988759791997802, -4.865112665343015, -4.909423410238034, -4.959224116746442, -4.931705056125092, -5.075876126724916, -5.029882115143176, -4.907682133840631, -5.088022972974782, -5.1067247018357556, -5.111543437191173, -5.0652300228115115, -5.011097810471492, -4.949964463130552, -5.052181142755846, -4.888125331803925, -5.005405476593113, -4.918453063111389, -5.0239464459000605, -5.0572678445153745, -4.946908838860805, -4.9492056964919, -4.952136479695484, -5.053269917755734, -4.920113521398587, -4.883695568027422, -5.045846620761708, -5.034582504347855, -5.086031308853423, -5.014461054621801, -4.968215228276451, -4.993210730756885, -5.030415316751686, -4.999355733357492, -4.947138135398342, -4.898944270173133, -5.002127482162958, -4.973193579004476, -4.969172271007208, -5.024872704272111, -4.9492899592118285, -4.9543812066289785, -5.038929390682948, -5.049169112712837, -4.950604535915035, -4.915263648872109, -4.9512736413767175, -4.982066410558147, -5.048954278335181, -5.006454030475797, -4.991836547388484, -4.920424317522895, -4.965046198852718, -4.96620851502999, -4.961357070406515, -4.937377651147006, -5.013491279707275, -5.0301065656410255, -5.034869061109346, -5.024055226830183, -5.043090017341281, -5.05675336489543, -5.0231079929561435, -5.044740883802735, -5.076973864569981, -4.866430117017945, -5.0004951810455385, -4.973206736503833, -5.020073188480424, -5.020741234262979, -4.934796670851484, -5.087483173960875, -4.989717610840547, -5.020240300296939, -4.9991888214307885, -4.997647417770279, -5.063296491128067, -4.951921278153616, -5.046212172670701, -4.899356838639237, -4.933553807023744, -5.055969008874083, -4.942376560018403, -4.996611215657772, -4.991612563564941, -4.938045059136207, -5.009422521905643, -4.88306792162124, -4.9718592508706045, -4.988434327222658, -4.924906920584554, -4.943815194801635, -5.011956821649228, -4.965281821976662, -4.8905874350635035, -4.99934114402156, -5.060454293611224, -5.028699166647357, -4.971239115328862, -5.026614352876464, -4.967026005707554, -5.093885992110993, -5.036829778331095, -5.044592899656092, -4.947382044361871, -4.9841317581050095, -4.938296932527734, -5.02049998869423, -5.002698314630792, -4.950585386866756, -5.055043594319283, -4.989418575890265, -5.015696476008699, -4.888129120352582, -5.074316987996495, -4.933839241917482, -5.025170254882597, -4.956517948882623, -4.959732226429107, -4.98884373090787, -4.878904626124891, -5.0066932022095845, -5.00796701463392, -5.054180351603401, -4.9585499310692605, -4.9588490117803445, -4.976586047797154, -4.970909887199315, -4.999743272960352, -4.984411487117463, -4.969745451759711, -4.958580626145893, -4.964203760680075, -4.897920246681594, -4.931143077214097, -5.0805246608599015, -4.998400960764791, -5.016653534922499, -4.86084511749543, -4.983020380132691, -4.979681656487848, -4.977366787179156, -4.978979247953286, -4.987686379389335, -5.011609811821169, -5.05756601526396, -5.085701268143192, -5.039906723674546, -4.98623908940583, -4.9959488162435095, -4.891514941135405, -5.078768048550639, -4.949996238432513, -5.085162361505038, -4.950709141280167, -5.146898970640205, -4.953603117543862, -4.982918565768771, -4.931443599350594, -4.983731330224137, -4.948934425573083, -4.950794688132072, -4.995460705695709, -4.877652578209219, -5.038680384855802, -5.041603420665407, -4.965973163213375, -4.958900978122489, -5.046873872033586, -5.021885238534659, -5.09656569593521, -4.95363363288733, -5.054632104316667, -5.091131900765518, -4.944822956160962, -5.066343008304063, -5.052430320152164, -5.067805271266467, -4.892867641163598, -5.032451737805113, -4.951932906713186, -4.908998905064061, -5.0282561368361165, -4.960963134047784, -4.975902020120625, -4.987291256421322, -5.016950939033316, -4.984113875695112, -5.010725764471564, -5.022405622546385, -5.020278890799835, -4.893361946095231, -5.009965091121434, -4.935962558407553, -5.03748273326466, -4.933984798675691, -4.996160940450661, -4.983419313306641, -5.019716656311985, -4.9798681072444, -5.067422561869952, -4.989268037763671, -4.989682542590256, -5.039814049067061, -4.968607885276082, -4.9415093449858265, -4.949502083995753, -5.0620392784060275, -5.021398067166775, -4.9621297631630625, -5.0810364520434135, -4.99797182830763, -4.976300500978041, -4.979697824377878, -5.039281469126026, -5.002521230823646, -5.021343264461642, -4.901873497532398, -5.016460950845335, -5.061055633649909, -5.011304827319723, -4.969160046004973, -5.109200430264538, -5.048453715381225, -5.05280474069981, -5.0153251769529765, -4.9725816034952395, -5.063869562422488, -4.874556718410674, -5.040242164035009, -4.94157614539548, -5.05811376005811, -4.974500628818337, -5.028609721679205, -5.0165102393001595, -5.047610866822282, -5.040312192847975, -5.111996675901293, -4.970098918516104, -5.022243461073148, -4.947362243624765, -5.0692510996115825, -5.038313112866451, -5.019081241295382, -5.003195483366471, -5.0206163214843835, -4.948212106547844, -4.997838318795669, -4.948565163400793, -4.991935035777951, -4.994880713105824, -4.996801396608127, -4.966996199405386, -4.963795750471595, -4.919608872078408, -5.052183700251376, -4.965767954122347, -4.890509921830066, -4.989966820771512, -5.026476025799573, -4.989270266609097, -4.977212407630589, -4.936754232048182, -5.02511643502522, -5.032677532506781, -5.0483093270368276, -4.974732980269357, -5.016676903519096, -4.943207009759781, -5.052708122428562, -5.010721258937818, -4.908639875711718, -4.95713720400995, -5.014295390221687, -5.063335285727872, -5.024920487026142, -4.973754262159758, -4.878499067390101, -5.003725791779426, -4.984214609041173, -4.964526821174768, -4.928456396378281, -5.074351965461723, -4.98815645388356, -5.00956047640006, -5.013784890059166, -5.000189306328847, -4.927828146295942, -4.963851841216563, -5.005139935286033, -5.005037903540464, -5.105878335464348, -5.055702150048752, -5.041944016648745, -4.919204629190229, -5.189108542375321, -4.975436665526994, -4.96269216278033, -4.981690499999541, -4.994883244647133, -5.03156100257258, -4.984410660765061, -5.009247233445013, -5.049786721241169, -4.998644469326902, -4.985805139526379, -5.074047431160464, -4.943641554669037, -5.014012806438073, -4.9736704824845965, -4.965089953724976, -4.919126021668766, -5.070111688657889, -4.951219923002652, -5.138192032140008, -4.9833134364144005, -4.983796533020845, -5.01567557539566, -4.981576318962251, -4.989469103073569, -5.026723991236371, -4.987591778021782, -5.0344481647626385, -4.994038627642494, -4.999356195878753, -5.09939147325152, -4.880446036085628, -5.024179619696714, -4.998279347484251, -4.952802957381749, -5.071587582140901, -5.0153394480541795, -4.9661010174676035, -5.046883208598647, -4.936788743803516, -4.976017392394832, -4.961756800937035, -4.931049335428916, -4.983175806541358, -5.009706725200344, -5.030868663132646, -5.0114352258711286, -5.04593119800116, -4.970568141407915, -4.96267102968376, -5.041126891380026, -5.092186912680267, -4.996935593630677, -4.994991360326633, -4.97496510809755, -5.053705900150961, -5.00655807370455, -5.044188289661802, -5.009036213452684, -5.0208586676352995, -5.0273894891619015, -5.008653986743017, -5.043947243198877, -4.944491793609748, -4.999416267645506, -4.9939629056746755, -4.910759812475225, -4.981612549570871, -5.028808530416343, -5.0365688438578555, -5.027471611300818, -5.026862766053572, -5.017794331658838, -5.006562325060056, -5.030504131990223, -5.028122434857989, -5.019127955499183, -5.082115931365994, -5.035568325735172, -5.01465547269388, -4.981914451714873, -5.103080307142184, -4.993451958291386, -4.990865352014325, -5.029812611024054, -4.99983381382026, -5.001001367241152, -5.020167034400696, -4.98023945497491, -4.998721457589549, -4.981334345470983, -4.971942753052462, -5.001037803086938, -4.9886890165389355, -5.089475394254261, -5.021698666337023, -4.990192352483032, -4.975583830145627, -5.07766738348808, -5.025085326150034, -5.080125989813389, -4.9931847000568705, -4.83030499504282, -5.04482187252617, -5.004610935961812, -5.018105443226212, -4.981095745739438, -4.9946027371931105, -4.982740342510134, -5.010091219077442, -5.0272053156616785, -4.948440041840255, -4.986015865094007, -5.018188821222321, -4.9208543321512455, -4.967265364448449, -5.141703971762579, -5.031594614047515, -5.0245201591399775, -4.968574096408236, -4.861461617869558, -5.034614753228528, -4.92331420812105, -4.889579819434788, -4.950205507973896, -4.98261912955119, -5.052010950063929, -5.058791419549556, -4.979936527655769, -4.969837718229067, -4.972889887498097, -5.030870202710176, -5.037041516987804, -4.98652354586693, -4.92721814556247, -4.960725398520836, -4.980482122234603, -5.012351125602376, -4.977131936823435, -5.172838637854124, -4.971460023524313, -5.097406958080518, -5.019366212973645, -5.0364139901490255, -4.97497110721673, -4.914346552622195, -5.00008512504526, -5.063332200233258, -4.880275583692679, -5.043649029927569, -5.001202803588404, -4.945424769987095, -5.0501974713938695, -5.077781902530479, -4.912071420157578, -4.981138374555312, -5.019628185819539, -4.956180412013791, -4.969312484807695, -5.1133002015828115, -5.033201661831792, -4.89292525822119, -5.028516114720052, -5.016511884795979, -5.003255962159361, -4.932442226085984, -5.028976809810767, -5.022767333288888, -5.110025600689218, -5.002900025518698, -4.962899525900665, -4.965742349803966, -4.946031880728514, -4.936059787031896, -4.999200472303455, -5.098053867651497, -4.953636416929582, -5.075263893855624, -5.012281111463723, -4.998555766693666, -4.949475447844406, -4.989817916484361, -5.06017237642793, -4.977325637361299, -5.008271100162187, -4.970278021929684, -5.000478082818633, -5.062125008694366, -4.941716046753559, -4.961405797894811, -5.214258363639425, -5.013020560605907, -4.996688613095424, -4.970938104408992, -5.043825996476587, -4.992301292968379, -4.970551159122121, -5.0296688257556195, -4.992112138823015, -5.040624088553516, -4.967098932573752, -4.975833382067572, -5.084566031979436, -5.0089192361200965, -4.949780344680638, -5.024569700786758, -4.944889310850775, -5.016270231350907, -4.879648920633427, -5.124991791053523, -4.987789475277781, -5.025666435533161, -4.91590254096112, -5.000152281451424, -5.0900302265939175, -5.054571705542436, -5.034782948247635, -5.02173092054449, -4.979910640856428, -5.023969954927315, -5.07198390793638, -5.012767563007931, -5.0249130956019465, -5.036276546577033, -4.942290966527318, -4.957765684401487, -4.91980236680087, -5.032726656148028, -4.972757571561104, -5.000180529937628, -5.005671993716909, -5.043841383147058, -5.039820238409858, -5.034294547686587, -4.8666885087078775, -5.07444364210494, -4.976271927971665, -5.023236523002806, -4.952098763683554, -4.97120815769311, -5.049075276968118, -5.0528113786972515, -5.068553819993033, -5.094138433051465, -5.0026853591601705, -4.973554506553329, -4.989413791246305, -4.919661404159406, -5.038311493322627, -5.041850912537389, -5.031031489661313, -4.994309212374923, -5.002582295891059, -4.929801142083433, -4.949572294006557, -4.992582311425389, -5.013768026104173, -4.992374618310707, -5.061621418019819, -5.035494183072203, -5.004506759895672, -4.885580127475559, -5.022280425291426, -4.988836984621938, -4.983957229281632, -4.906298446033379, -5.090195728086281, -4.979741645827662, -5.0404709183940515, -4.980789892633107, -4.956505970475673, -5.066478354346851, -4.966552835957195, -4.923354439331853, -5.064304382929198, -4.946351901846389, -5.018099070669554, -4.963228913188143, -4.976925550880798, -4.978696526444393, -5.03730787657884, -4.968075736562892, -5.0587221414873484, -5.064491212144784, -5.0899566486791725, -4.963953813921821, -4.983271131753089, -4.9575192194866275, -4.972035480733355, -5.013617729289924, -4.942898507540732, -5.0667345360898, -4.964831435691951, -5.048631459089625, -5.076102939707998, -4.9918487747184885, -5.113876002861865, -4.991559917444228, -5.038771246553085, -5.031833282804858, -4.9838424167333795, -5.106290779414566, -5.080224696569935, -4.9488627170869615, -4.995757032360671, -5.0453323171336, -4.98212971248369, -4.973975504932932, -4.890857899419495, -5.026519244263809, -5.072339557024342, -4.941861240393411, -4.902888711805962, -5.06137928073275, -4.982221024424571, -4.947560581722808, -4.973731275657644, -5.0262131157353425, -4.985334736791533, -4.969733011817019, -5.020545542871682, -4.962657083811172, -4.954510076122631, -4.968404164108705, -4.94408754786718, -4.952887356713262, -4.8908149917284645, -5.016432749039047, -5.004287833914544, -5.012399048310057, -4.992975434992127, -4.9457112028936745, -5.009074510595415, -4.958421529502788, -5.039313026855074, -5.042201876558877, -4.967556796934831, -5.028209324943648, -4.972399935878732, -4.993835445422495, -5.009516041057971, -5.0149688782440265, -5.017893014904908, -4.961942856616818, -4.975493154348508, -5.0473694830864835, -5.072687850835925, -5.067027387689198, -5.034560514931419, -5.054897172953604, -4.940947113186428, -5.039593220816916, -4.993522064459348, -5.082824149127824, -5.001586872919916, -4.949319042448391, -4.937769633543495, -4.987814838763259, -4.9797498203855595, -5.037935538669206, -4.978475895261949, -4.928762354907658, -4.865868237822602, -5.035126061447102, -5.009024389578741, -5.060254196502636, -4.9942987528426865, -5.086292955470649, -4.935132843048553, -4.956191390811309, -5.071315666396826, -5.0281315896542775, -4.9893807804548675, -4.9944074721436715, -5.100102639295409, -4.914225299047257, -4.97444426251834, -4.941971733834938, -4.982322651991998, -4.973802273494555, -4.987128071572278, -4.984276973773458, -5.0517127761568315, -5.004058096785504, -5.027780490263186, -4.972307470407733, -4.996154298937397, -5.03870428614041, -4.96026839008961, -4.955551715733792, -5.036293565837832, -5.048814800208943, -5.022304255819075, -4.942862980162447, -4.990235180991622, -4.97395607503688, -5.028174063295628, -4.92769778455072, -4.920298670508886, -5.062223983690419, -5.06797467286332, -5.031770853017038, -4.9823934619036425, -5.169642160057204, -5.050385282738873, -4.894263828246244, -5.134311898054859, -5.001089140725709, -4.93276936786344, -4.9784610633153275, -4.942471710932596, -4.9509742748776, -4.978325826220671, -5.008456223749149, -4.951482209883252, -4.898064789843425, -5.014566887747755, -5.022646647000448, -4.997160712005594, -5.042503716752614, -5.016677172254425, -4.978979879177647, -4.936201701559577, -5.005563865983673, -4.958136156809897, -4.952221635333994, -4.967719472471579, -5.039236670141184, -4.931997276289083, -5.031325204645505, -4.998961536713518, -5.024581141827996, -4.986226313455841, -4.866492235412379, -4.942331278426297, -5.010643370518572, -4.995661528876468, -4.955267442119597, -5.084004425068837, -4.991294642698845, -4.980650321965829, -4.991058428163857, -5.033792748597087, -4.900325286062108, -4.983997906782378, -4.940490615986713, -4.961410305400746, -4.949828364538974, -4.9939263389746245, -4.991191647640094, -5.032050424344293, -5.04197715343648, -4.986504776627414, -4.931636179871136, -4.95309743047911, -5.029588080521007, -5.013582313627696, -4.965990709813985, -5.005832703669675], \"type\": \"histogram\", \"orientation\": \"v\"}, {\"opacity\": 0.8, \"name\": \"FD-FE\", \"histnorm\": \"percent\", \"histfunc\": \"count\", \"marker\": {\"color\": \"rgba(55, 128, 191, 1.0)\", \"line\": {\"color\": \"#4D5663\", \"width\": 1.3}}, \"x\": [-4.989324099396027, -5.024741084751831, -5.01628538082406, -5.027077309467643, -5.054814578747996, -5.071832961700432, -4.949766928314121, -4.922543258779362, -5.001207760945936, -4.988178537593363, -5.048986248873989, -4.956899926608465, -5.053925996097222, -5.021315496893552, -4.978594489000383, -5.032851964724506, -4.985403809551317, -5.002002724073089, -4.999400862175927, -4.9795352957924734, -4.961501051559088, -5.000989158683931, -4.970847085776001, -5.007781341961357, -5.05089941063482, -4.986170635094973, -4.983415024028893, -5.030247361196402, -4.996871110921594, -4.931547805810032, -4.947318705268794, -4.987836927126881, -4.940673537239078, -5.005352895871179, -5.010874702524147, -4.908206129143514, -4.951791145850628, -4.942819487938731, -4.999378995270449, -5.044905185754349, -5.026394734787852, -4.984816919934883, -5.028801758102846, -5.046198226638563, -5.02735386980914, -4.952628145835953, -4.976839611688896, -4.979889161924439, -4.964457252051356, -4.953895582791798, -4.932486471175118, -5.024590202586021, -5.053895691649313, -4.962189089134279, -5.034941656294743, -4.977078963286846, -5.0558646644200405, -5.030208266605028, -4.962332416388392, -5.083503059863271, -5.010099257303584, -4.976125404548032, -5.072097916419512, -5.055788707551319, -5.022794423195301, -5.056733359742788, -5.012831574207831, -4.979602490706688, -5.117552033896986, -4.9393295525232315, -4.899520649300748, -4.983170922883856, -5.048240297358464, -5.084776569660283, -4.951473236801947, -5.074177074471908, -4.977406161799546, -5.054088274403302, -5.046303103060147, -4.9641083288748415, -5.0755795201084055, -5.01713665452853, -5.044810183642207, -4.94466789039031, -4.978378322791535, -5.012868982670017, -4.932218426062621, -5.007843651951404, -4.982969029177152, -4.9488516113544465, -4.996036930902353, -5.002755428891147, -5.073313704373719, -5.031038448637017, -5.035297487410888, -4.939811513928882, -5.086600513089898, -5.0505229224823776, -5.0123377775475175, -5.073127439525544, -5.033492324199776, -5.0006068504669114, -5.012996098723186, -4.996747776426955, -4.979970957358476, -4.979172700940613, -4.999799971150563, -5.0119184852349274, -4.962558835768196, -5.051663945465738, -4.978056493367905, -4.990230744749388, -4.980906187675363, -4.9372605456814345, -4.999847818365342, -4.979441710250723, -4.964793087773154, -4.958115468312024, -5.045784513191624, -4.995098926371166, -5.001693258931802, -5.092409175196622, -4.982825930981583, -5.033697042617206, -4.946537651127967, -4.970223434117077, -4.953398603529939, -5.026569654797766, -4.978821252342772, -5.08997610861293, -4.993276839263438, -4.956462771973686, -5.024346034606653, -5.0329401827709574, -4.972178788459923, -4.970447765780248, -5.0347523324860415, -5.050150853082277, -4.91234383046606, -5.054530896376631, -5.046576366395447, -4.971880474851536, -5.0577974123032305, -4.9229442647845305, -4.94705951879858, -4.948594910379162, -4.910378164583222, -5.074738737874036, -5.007540379020856, -4.988096887129048, -4.947157498277527, -5.044125693033482, -5.043730821753297, -5.007791996517108, -5.001893017790589, -4.998859268679996, -5.012585581385338, -4.946954956101711, -5.009443187703763, -5.017688729678241, -5.012700952452041, -4.928500386870416, -5.023623693656722, -4.9208430723653676, -5.028231702857513, -4.928598404224825, -4.935212936858441, -5.016459015505555, -4.943323975724582, -4.953782970422375, -5.066889175908422, -4.968040918239739, -4.994971628062753, -4.974798530702837, -5.007934457973164, -5.026450352273406, -4.936539861566137, -5.055052070638688, -4.983071439386684, -5.017717924229097, -5.007287034155526, -5.076226693291021, -5.05924370969529, -4.961238042123577, -5.06663777264267, -4.990697904106738, -4.939691593457817, -4.8912940433828265, -4.957824952659226, -5.051539327508138, -5.015068670635133, -4.961402181250954, -5.054116084707546, -5.071279257719968, -5.006757020930447, -4.920385452296715, -4.918838896664988, -5.03889322199266, -5.0581417046578565, -4.959922774122846, -4.961675483462791, -5.01024638886293, -4.944674831331797, -5.004976074444005, -5.066897165177666, -5.001110212451453, -5.019194988195656, -5.036091438049018, -5.0038570294658, -4.941014709490478, -4.9820524159639366, -5.03077442844331, -4.966736833661498, -5.086986156409436, -5.016286423255911, -4.98177917147692, -5.079771444014355, -5.050166582525, -4.938125607796306, -4.9634443427148565, -5.076504548301235, -5.016195802686158, -4.98663180676727, -5.029527964140378, -4.986034394248199, -5.036216934288891, -4.994592047963843, -5.016393383750577, -5.006914017652242, -4.956091169206072, -5.010995600680793, -5.0155003179377475, -5.067459991703847, -4.992539443266553, -4.9715783086047125, -5.0156118451992056, -5.002133109604297, -5.072680799858185, -4.96689248644568, -4.899448151844614, -5.031510393974817, -5.001169149832754, -4.944827839314046, -5.0439723220764225, -5.062648150371096, -4.9826255022079255, -5.022073188879974, -4.894473532307181, -4.926133469921885, -5.016018289386524, -4.952033064071532, -5.080583439554973, -5.024634363214614, -4.92371889946034, -5.0721021393064, -5.089717482274259, -5.128264912313562, -5.055953115091883, -5.017093778051365, -4.930434346111752, -5.039908584965961, -4.920927136848789, -5.00052571005093, -4.946921325120418, -5.0156790688579385, -5.0251829099330125, -4.943805987475625, -4.975549208084335, -4.963780661872685, -5.043326192720868, -4.931568600412864, -4.90119202346133, -5.051126095567067, -5.0169162144395685, -5.084946573730705, -5.026809070896499, -4.97232707506272, -4.992415722482889, -5.027494826167018, -5.006422312235797, -4.928803538583384, -4.939006246499922, -5.005224531695108, -4.9745360925588855, -4.966161216401681, -5.025203362821312, -4.979733012359775, -4.96577110618761, -5.033816662258743, -5.0278064074917665, -4.9719665639551724, -4.947960480277608, -4.9700339046244, -4.972067820527454, -5.021316946833389, -4.984788333031606, -5.025282934461471, -4.982248388716533, -5.004650752721844, -4.9638331719386315, -4.966143245197708, -4.94785389377108, -5.020909779138839, -5.02808225992849, -5.042351055912058, -5.016820068639554, -5.035246250546326, -5.060429204356342, -5.040879754088346, -5.030810480298735, -5.0469133199677625, -4.906092763068467, -5.019369372762065, -4.975691901780324, -5.004358410697183, -5.008474438687276, -4.933516997348754, -5.0799928146863875, -4.981276466541365, -5.0285090086842565, -4.983139293733016, -5.005892484974229, -5.049919952661164, -4.940945483742988, -5.029760238509239, -4.949704315949813, -4.929032102331292, -5.048013270499685, -4.951893092777218, -4.992584554149326, -5.0337136030816785, -4.954154913655044, -5.003870487652527, -4.89962850238073, -4.9603175646983715, -4.967170030928177, -4.956883588872259, -4.956501619219184, -5.002749651238335, -4.970567943232096, -4.901980948737229, -5.005460683834326, -5.03667059117449, -4.9879453081592295, -4.9695672607974934, -5.034933841131821, -4.9661887098205115, -5.090010992543405, -5.01502751954782, -5.037984497346402, -4.938380019635862, -5.00112432922977, -4.961250707332747, -5.004855228647791, -4.9885392443848176, -4.958099043532436, -5.032406826391943, -4.98132569110314, -4.999272633345356, -4.88861413258046, -5.08957357231437, -4.962525288556169, -5.027015366031925, -4.962791163522612, -4.944064626090174, -5.003549819143009, -4.8845754705615185, -5.030758726874864, -5.013489606243565, -5.026809280478617, -4.976987759911, -4.9738155384128255, -4.975486251246078, -4.9644318746714475, -4.990810107845789, -4.98465625497537, -4.962555472720743, -4.963916181517327, -4.981421894572993, -4.919306320593126, -4.963035475854188, -5.069483443662397, -5.028817660372489, -5.019609276427772, -4.892704443079179, -4.96882576065776, -4.974339960778559, -4.962008389515459, -4.9851533281592975, -4.988455329668303, -5.009109217830207, -5.032417401622097, -5.100822852258176, -5.026823065614769, -4.966003078632784, -5.000853978796259, -4.905376079430715, -5.063150152933814, -4.980182291989074, -5.063756129353967, -4.954255529718803, -5.128869331293154, -4.950838622097195, -4.983478537270865, -4.959738920629084, -4.971415830795104, -4.949814061775449, -4.95256225784123, -4.967277658960658, -4.931173489423356, -5.012220195631128, -5.040782523360123, -4.977011503637463, -4.96252485947414, -5.031227512920101, -5.035013186521931, -5.068249337989278, -4.965727666091383, -5.038937723581483, -5.0544465772643825, -4.941247701895369, -5.034473299160547, -5.040931935536413, -5.067010804251695, -4.9356825143308445, -5.033483485294694, -4.953062932354047, -4.924277030423514, -5.007185471016949, -4.986489499748544, -5.000194252821308, -4.990167973677009, -4.997054007580078, -5.004240624148331, -5.010823375217118, -5.031727494620648, -4.997812995472854, -4.909974123230906, -5.001097109716955, -4.965003256095199, -5.033227095142921, -4.93525083248072, -5.027349870328891, -4.993405762428559, -5.014907605815544, -4.987724736206717, -5.073782956697744, -5.004309487081742, -4.99786339107958, -5.017259336332369, -4.979028664696051, -4.948705067003756, -4.974225093332548, -5.039120361526296, -5.035555540516375, -4.973844635582219, -5.056282952430898, -5.0244861768494005, -4.992163361478003, -5.002144145658328, -5.02354817323788, -5.010271116527914, -5.015452277570542, -4.909467770906241, -5.018428630509478, -5.01364420299222, -5.018723475698426, -4.968791141458252, -5.072317478327651, -5.061552326582189, -5.053750012191269, -5.007394353717428, -4.986831759527881, -5.050243279123077, -4.8895214739541775, -5.031158012497707, -4.944469744029829, -5.0823911919630635, -4.981883807991454, -4.997645770110648, -5.038010833055301, -5.0634984219250185, -5.0318936285230755, -5.092597909539251, -4.9972905430133805, -5.022955372894367, -4.946701284835761, -5.054865492052047, -5.033240747509183, -5.028253723133574, -4.9844853585871585, -5.03510841703662, -4.94558289149048, -4.99894898437549, -4.9411651274813435, -4.997876360076965, -5.014376076574841, -5.019020437625097, -4.970630479286564, -4.964048851214737, -4.9351991364956165, -5.059575671422007, -4.965600938164783, -4.927045695812273, -4.987835613692212, -5.037697799881906, -4.9610658071797875, -4.987135669214446, -4.946417685369521, -5.025223988845912, -5.0246131218912, -5.042637814727119, -4.961545309821819, -5.0106687772131, -4.949970455226374, -5.047404649075711, -5.009293614130869, -4.927821042037267, -4.97288696488177, -5.005195515037764, -5.068076612832273, -5.011202871653342, -5.013892450853989, -4.914199223188156, -5.000175982340958, -4.987324288396559, -4.974019338182744, -4.9532843102422595, -5.04605429743847, -4.962325408275509, -5.013289534255962, -5.018764255627556, -5.01732739725756, -4.94658164033881, -4.9716612317709465, -4.983016950109999, -4.971332278366635, -5.064978508993156, -5.058693869126437, -5.0466871282043355, -4.943403634955981, -5.176107338525654, -5.01080318195163, -4.969646162925905, -4.969717602000232, -5.011203000804769, -5.0212611970762, -4.985754387126707, -4.994729726417958, -5.0299628035714665, -4.9946943695299595, -5.00612711972191, -5.058247094303509, -4.958950745690146, -5.041728731179614, -4.99763133650636, -4.987944920050213, -4.932040564462078, -5.056999416816078, -4.94914648007866, -5.122956746107122, -5.012355787417809, -4.997261530667036, -5.035927714813436, -5.002100631765206, -4.985009281483578, -4.993984846704636, -4.992829991635546, -5.054814925289946, -4.99747802834383, -4.9806751179478255, -5.089523662837218, -4.8876492617759375, -5.027314309987617, -4.987601733438799, -4.973868299558068, -5.048208522992581, -5.0139911451014525, -4.979107206253354, -5.028725838933439, -4.9408218239729145, -4.9666191322961275, -4.957715781699358, -4.952616716687091, -4.993090113743488, -4.995577036278219, -5.0380719958674804, -5.019893398262329, -5.007568402067706, -4.961717850946293, -4.9520365977531835, -5.023940721538668, -5.074729281667546, -5.009814378382346, -4.996943442512079, -4.987561142388558, -5.028515318019849, -5.021538625890901, -5.046519694527939, -5.023669278190622, -5.001809860259624, -5.030589093149426, -5.004462683225329, -5.01722501972511, -4.966606692024465, -4.982832689469721, -5.011410589095459, -4.926036578024286, -4.972972050749315, -5.011180633511417, -5.046476128355153, -5.034736645815347, -4.992867789320231, -5.025476764776849, -4.986370629938261, -5.022765792390605, -5.012217793813445, -5.0112055540216085, -5.051844243482508, -5.010430472348633, -4.996537129967862, -4.999424253209826, -5.081242526316923, -4.970675608626577, -4.98662262169926, -5.026254436335488, -5.009677664356198, -5.010147521832328, -4.964471303164478, -4.978924920334261, -4.999763368295587, -4.988517036608891, -4.981239674981224, -5.00139343094536, -5.003812895983137, -5.073479897530633, -5.033569296955602, -4.982764647820268, -5.005097922755295, -5.061470826231183, -4.9993673222440895, -5.069580355455024, -5.002249675126064, -4.8471668001668045, -5.009281366646489, -5.023504561455473, -5.041746004047036, -4.975895664000273, -5.002906993936178, -4.989928054589024, -5.00655362919853, -5.010239243126331, -4.961690720455284, -4.990328845776909, -4.991671374258681, -4.917856461113619, -4.94457112966847, -5.116398710473285, -5.030377103141369, -4.99436354303038, -4.976730878656781, -4.899441518690352, -5.012517645182376, -4.941636071283772, -4.899638504822343, -4.948564524219645, -5.000533040671858, -5.024085334785832, -5.041270958470198, -4.979544246890574, -4.974348107324921, -4.982182102948958, -5.0295345032459915, -5.050585968440787, -4.9945939286192464, -4.9450881644160765, -4.971569123872494, -4.97866309234645, -4.994543444046563, -4.973419900640493, -5.118354978723659, -4.986623753276742, -5.08618518667036, -5.026619857768345, -5.050583629952332, -4.9799908629441525, -4.916037840013765, -5.006788762879719, -5.065129040023055, -4.8968517183221705, -5.014225900368698, -5.008375231170442, -4.945873938779247, -5.048202867769633, -5.0526283854627305, -4.9115833565380695, -5.013287276563437, -5.016477535838625, -4.950600082772782, -4.985868506652427, -5.09658746505824, -5.032841029448922, -4.927618095447052, -5.001887993222475, -5.0021496638713145, -4.999170613291659, -4.939341373281023, -5.010343007941892, -5.0094905703890955, -5.098160641490313, -4.9996668848171755, -4.962265158232221, -4.948062001182006, -4.9603833586720665, -4.940269739704954, -4.999053203573384, -5.084117371465388, -4.967473273396468, -5.066285272651059, -5.010371483102544, -5.00185266322408, -4.978169968085104, -4.977525651457792, -5.020996722079724, -4.983837402950256, -4.994771146443224, -4.972100095483623, -4.987505205173246, -5.020066353871327, -4.9464310659252995, -4.963187354494318, -5.1742837953448415, -5.013652569581923, -5.017984198789386, -4.986422934986205, -5.038040587307762, -4.980469432608356, -4.965721503786533, -5.01543257704718, -4.976282777156246, -5.020888536984252, -4.981707196549027, -4.952830264724086, -5.060368447698131, -4.993691018514971, -4.96053776966601, -5.014004698960371, -4.964519786723181, -5.036932653129141, -4.908595265546675, -5.092393880968895, -4.973616455778821, -5.013866836859705, -4.956545291661373, -5.0121031752386305, -5.0950353270599145, -5.05240805380078, -5.03988546099262, -5.047325833571042, -4.999058361752764, -5.0160001459477765, -5.066202869993266, -5.008628064896732, -5.007126594726663, -5.061282026680462, -4.969346903050179, -4.96113576652788, -4.932370692243044, -4.98968143121615, -4.969642077193182, -4.984722634125834, -4.995660736425776, -5.045269821175006, -5.029369960942175, -5.031318775705586, -4.906478265587989, -5.067573927373493, -4.953789955565704, -5.023323578514983, -4.962283517832836, -4.958640029019463, -5.019114929491147, -5.032477876708632, -5.052725792880705, -5.073302861957442, -4.970741490046386, -4.968338693712635, -4.982049892128806, -4.9290751193595925, -5.027489526162579, -5.038853230672481, -5.002905157291162, -4.992801199968899, -4.9834979275974245, -4.9393995693288835, -4.963660277713348, -4.985566246077468, -4.988368537831811, -4.986287146444277, -5.0351460221248185, -4.987611768447502, -5.01021776687713, -4.912375311910279, -5.0059096507575545, -4.989337015329046, -4.99043986314039, -4.915292427161354, -5.0796857964923925, -4.98325895950985, -5.015107036480792, -4.994389986579228, -4.948524638335076, -5.025450680444198, -4.996688481841906, -4.921971944451862, -5.078507449613429, -4.953601874963612, -5.0199412202233304, -4.9648703629562405, -4.966255933536964, -5.008586368402952, -5.050132180672827, -4.963649030332986, -5.044561387332331, -5.046504348381429, -5.062832884351831, -4.992503603232349, -4.957152399399374, -4.963395835370077, -4.982324182863886, -5.001454862603366, -4.949975870816001, -5.0455746403268185, -4.972576205489405, -5.034342138887128, -5.0788250407563265, -4.99499672334647, -5.117752167108229, -5.002373509871451, -5.02731430798489, -5.057767962437935, -4.969949414263421, -5.094683981345785, -5.058824835679129, -4.95570893700187, -5.006711702061747, -5.061309962982854, -4.989626913061735, -4.978077928585659, -4.9214602136474195, -5.040482032885754, -5.067643322317551, -4.932651342229754, -4.920154817483066, -5.03599353621602, -4.987801971269015, -4.967556850705771, -4.966582171516658, -4.999410784107929, -4.97291171289792, -4.992610248752072, -5.012463825240182, -4.977711987785922, -4.9760731965468255, -4.9910255399816155, -4.950289609860174, -4.958857957553401, -4.922614349326659, -5.0073995462241445, -5.007705396723427, -5.009681532580354, -5.0001561335361, -4.95406472735604, -5.002672446403912, -4.974084466934795, -5.018352155242874, -5.046609593898868, -4.9673173759408735, -5.012113296617237, -4.970938606610327, -5.00018678039639, -4.997070754239118, -5.024852348757765, -4.978307269279173, -5.001325982103711, -4.985566019471131, -5.037159826654516, -5.070009654674275, -5.042600799887261, -5.014849498524221, -5.056959347221154, -4.966106420544165, -5.017670910016459, -5.010188095350346, -5.0779227716982405, -4.989971971987723, -4.9445053579124405, -4.936428647904945, -4.974489218390414, -4.970364664210803, -5.028486664807191, -5.004769405362099, -4.92631926424671, -4.927787474546056, -5.030488938339689, -4.981224947969288, -5.033506533446214, -4.969621915405387, -5.0463660905208885, -4.927852477624277, -4.9802629388636035, -5.062361007506995, -5.032244830741196, -4.986385802781946, -4.975178113107349, -5.09477881230862, -4.919129198966498, -4.973406165414633, -4.935437454367972, -4.984304246436269, -4.990955151712626, -4.987338576334258, -4.998139305524691, -5.050106854174976, -4.992987246129789, -4.996888822178224, -4.958313585076949, -5.007230617364401, -5.031641965855439, -4.954060864548731, -4.968940162176926, -5.0268271039949415, -5.060808711147123, -5.018489954665808, -4.9464568243564635, -5.000305964413478, -4.984688941012649, -5.038355002611802, -4.959682561722546, -4.961761038008644, -5.052999328628234, -5.029383596463283, -5.004235031400747, -5.001079728698938, -5.133788998835644, -5.030070595894511, -4.9229366292391985, -5.132925438924215, -5.004662485738122, -4.959304572588151, -4.979019846990678, -4.965894052216477, -4.985171312451929, -4.969431821048224, -5.005905550618625, -4.966005222440931, -4.901935914900536, -5.012403087931393, -5.034181122569722, -4.99340202533161, -5.039154506769947, -5.024281019700966, -4.981998916331246, -4.944640382163054, -4.980854169150742, -4.954915217591463, -4.969574579726021, -4.973483854910667, -5.012293139722809, -4.962290980817908, -5.032921228284939, -5.037905408268941, -5.010847137699974, -5.008226254093881, -4.916915201647236, -4.950301041763057, -5.006924265687367, -4.994512015517945, -4.9616875978001485, -5.048339689687466, -5.000345400057842, -4.987489200300301, -5.018375252762146, -5.016770810775082, -4.926491073929387, -4.993255620668235, -4.944229895195189, -4.977498856816689, -4.960986087119968, -4.9931188441457905, -4.983775849139103, -4.998566171749593, -5.0335440963782965, -4.993298370580224, -4.938305044902934, -4.964647314311698, -5.022144742158661, -4.99710273543114, -4.975909608624173, -4.9846217906174415], \"type\": \"histogram\", \"orientation\": \"v\"}], {\"title\": \"Overlay-Histogram for RT mix and pure, true beta = (-5)\", \"paper_bgcolor\": \"#F5F6F9\", \"plot_bgcolor\": \"#F5F6F9\", \"xaxis1\": {\"tickfont\": {\"color\": \"#4D5663\"}, \"title\": \"\", \"showgrid\": true, \"zerolinecolor\": \"#E1E5ED\", \"gridcolor\": \"#E1E5ED\", \"titlefont\": {\"color\": \"#4D5663\"}}, \"height\": 587, \"yaxis1\": {\"tickfont\": {\"color\": \"#4D5663\"}, \"title\": \"\", \"showgrid\": true, \"zerolinecolor\": \"#E1E5ED\", \"gridcolor\": \"#E1E5ED\", \"titlefont\": {\"color\": \"#4D5663\"}}, \"width\": 1116, \"titlefont\": {\"color\": \"#4D5663\"}, \"barmode\": \"overlay\", \"legend\": {\"bgcolor\": \"#F5F6F9\", \"font\": {\"color\": \"#4D5663\"}}}, {\"linkText\": \"Export to plot.ly\", \"showLink\": true})</script>"
      ],
      "text/plain": [
       "<IPython.core.display.HTML object>"
      ]
     },
     "metadata": {},
     "output_type": "display_data"
    },
    {
     "data": {
      "text/html": [
       "<div id=\"b71bad7c-786d-45a6-a2a3-51a40f0d60aa\" style=\"height: 587; width: 1116px;\" class=\"plotly-graph-div\"></div><script type=\"text/javascript\">window.PLOTLYENV=window.PLOTLYENV || {};window.PLOTLYENV.BASE_URL=\"https://plot.ly\";Plotly.newPlot(\"b71bad7c-786d-45a6-a2a3-51a40f0d60aa\", [{\"opacity\": 0.8, \"name\": \"FD-FD\", \"histnorm\": \"percent\", \"histfunc\": \"count\", \"marker\": {\"color\": \"rgba(255, 153, 51, 1.0)\", \"line\": {\"color\": \"#4D5663\", \"width\": 1.3}}, \"x\": [-1.017311222504372, -1.02642162032474, -0.995382277534387, -0.931117973536189, -1.0368266203030618, -0.8737661156431873, -1.0074895431341055, -0.9866278929866359, -1.0565956229365734, -0.9631239158142496, -1.037665115231442, -1.0683640088623785, -1.0347265952173403, -0.9881447615682819, -0.9635023626989836, -1.0425250100471588, -1.0542347924175164, -0.9855442983484978, -0.9666838948946885, -1.0767492656145894, -0.9032933493231274, -1.0661797058858105, -0.9528294787618778, -0.9769489628675264, -1.0208771571768627, -1.027303786973313, -1.0388473386273747, -0.8891665817999297, -0.9653696932950578, -0.9928553872681648, -0.9720600555738923, -0.9571443412271767, -1.0610381790866779, -0.9986196590295521, -1.011904686765987, -0.9328510250547462, -1.0808720878443503, -0.8928423272815277, -1.0376254273856216, -0.9643007568835406, -1.0517777887451698, -0.9969687998943926, -1.0342303794690901, -0.9478527009306184, -0.991763209597032, -1.0173552802016983, -1.155250774424196, -0.9756547064130481, -0.9970493467943335, -0.985498651575896, -0.9016028662833845, -1.0507173683268194, -1.0681370140371298, -1.012530887012968, -0.9685426414421342, -1.0293509438997723, -1.0027805636859337, -1.0281639940770098, -1.0256765172881974, -0.962174465452991, -0.9952202002275712, -1.029183546325732, -0.9898370437872739, -1.0432220856046845, -0.9868332109924373, -1.0223205510889803, -1.0475485281103099, -1.0685250220503768, -0.9628521912510537, -1.0420751091057943, -0.9336932957819806, -1.019139722578046, -1.0842768335148176, -0.9713150493315577, -0.9807082795840691, -0.9494674199832956, -1.0168989836441211, -1.029739825603932, -0.9632766678054581, -1.017725496924825, -1.0339672768171657, -0.971289460377465, -1.0516516927911372, -0.9939536943190515, -1.0290205102003922, -0.9214751753622537, -1.0018157353032868, -0.9948597426099393, -1.032065481546986, -0.9158735594796197, -0.96985000742259, -0.9553919091643441, -0.9742118908452901, -1.0088019947359876, -1.0727614431064856, -0.9225097927921728, -0.9713272219841991, -0.9225129171317571, -0.9195876534519059, -0.9817999138291517, -0.9930935815240117, -1.0292678745326842, -0.9720479895829535, -1.0487602603717034, -1.0433165294757576, -1.0531591689201103, -1.0049793181363484, -1.0209839297299919, -0.9473983031446571, -1.1095468989261175, -0.9970832959261247, -0.9443979238654039, -1.0651955391011394, -1.0255312897823121, -0.9841078834764944, -0.9440624933416447, -0.9983595295805012, -0.976588836518109, -0.9626615889373574, -1.0483262184760758, -0.9632422885232002, -1.0229813983213936, -1.0491729232637703, -0.9444801912212759, -0.9849904911999974, -1.0248263870789, -1.0259189552281773, -0.964099585240028, -1.0320175992708944, -0.9828991883242327, -0.9284148497010287, -1.0435589099909082, -1.108768620088213, -0.9472111546769596, -1.0171989996407422, -0.953415116280453, -0.9297015232573365, -1.0163070510080394, -1.0079418950401051, -0.9558971466417914, -1.1158971542405403, -0.8816984045427796, -0.9899527981152277, -0.993575793599596, -0.9361915697963231, -1.0222800721932856, -0.9173775842683658, -0.940801032338367, -0.9623540483474226, -1.0509342101242096, -0.962023161093721, -0.9527542486091349, -0.9196228317666573, -1.0777062353691589, -0.9459875196762044, -1.0125496282713038, -0.9415099099587934, -1.0223268810413384, -0.9415903220574674, -1.0557145957426073, -1.0040239065274625, -1.0008662220039868, -1.1105200687800294, -1.050108958026393, -0.9554262106782372, -1.029099254876763, -1.059683544442192, -0.9746690408245768, -0.911472753975574, -1.0492383909292777, -1.1148524260241333, -1.0268553574894381, -1.035406569334308, -1.083814348518133, -0.9741613912433594, -1.043241183882548, -1.0683125462284484, -0.9364807213312565, -1.0598344637833543, -1.003113062585851, -0.9926592546229925, -1.024699829681352, -0.9792343221126791, -0.9712693556302897, -0.9654007084853435, -1.0263824102753127, -0.9689200700576794, -0.984828179313009, -0.8909510751321045, -0.9501471986798788, -1.0013830739068974, -0.9718495499828734, -0.935618859038896, -0.9958009821468923, -0.9783562660493148, -1.0876927700679189, -1.0650830974116428, -1.0190737396869118, -1.045546864377786, -1.0691586186130364, -1.0103391192738669, -0.9981278274178687, -1.0266118714205006, -0.9431863317287644, -1.0122832174841703, -0.9849388230367828, -1.0543389902766636, -0.9914011027028727, -1.0468736721266725, -0.9992277072688487, -0.9647712365677141, -0.990002634171516, -1.0124689964377591, -1.0881789847638335, -0.9804967690794648, -0.9508255220571511, -0.9861933026286553, -1.0572569159140588, -0.8937977636415022, -1.0148368984048504, -0.9705151395951294, -0.9154288301505256, -1.071102213808047, -1.031264536907338, -0.9163088082924091, -1.0503777317024507, -0.9920553657096891, -1.0415655078914778, -0.9874002750504689, -0.9590097631213007, -1.0072318025458329, -1.0934632624951133, -0.9679549401071761, -1.0313299045642141, -0.9829943593968021, -1.0524180632164193, -1.0522654343366638, -1.0277679861458737, -0.9686539992659873, -0.9774286349573665, -1.0692441417050946, -1.00171949344583, -1.0048517509069637, -0.9525196733964271, -1.0070006886294776, -0.9944295157775638, -1.0082321842335324, -1.052661305461735, -0.9601202232379851, -0.9887463030522075, -1.0422436706716032, -0.9311759793788387, -0.9818640663942937, -1.0465353927494885, -1.02352386188089, -0.9338303680033826, -0.9974448557104597, -0.9587298538244063, -0.9466223384632051, -1.0075631182096167, -0.9442254166088371, -0.9955590684501406, -0.986497582590999, -0.9050200552405219, -1.0040456532979674, -0.992045850849278, -1.0283702013929275, -0.9388664023620519, -1.0366981822259715, -0.9914433096453878, -0.9526015835179698, -0.9825422024843515, -1.0819503710239875, -0.9776849464229649, -0.9935337770855659, -0.979535390715593, -1.0352092781117457, -0.9785280355802868, -0.9576013508091589, -0.9681925220606743, -1.0040516291833317, -0.9956396951505762, -1.0450526601748011, -0.9276579393022666, -0.990919266990944, -1.0392313377642473, -0.9989107024653335, -0.9639081950857626, -1.0040406228124792, -1.021790162270149, -1.0422391370326847, -0.978903039810599, -1.10888862919168, -1.0151422853985839, -1.0170212728060761, -0.9572390853999787, -0.9897959404978809, -0.9650709306409333, -1.0228610490562948, -1.0882665564467122, -0.9837828765170122, -0.9274386739020091, -0.9381882349005057, -0.9486596761004831, -0.9980618100884437, -1.0828038662950106, -1.0730812269591494, -0.9426134725782466, -0.9560079213518068, -1.0543076769092556, -0.9666999075860607, -0.9626348803116905, -1.0430224119955256, -0.9454507428054676, -1.043784700440808, -0.9746873186990834, -1.054608584009666, -0.9220811639316793, -1.0427469354931502, -1.0718465661422878, -0.9950328584520116, -1.1084623696150966, -1.0482021643351445, -0.9195052276451132, -1.0093199425922692, -0.9802677574102805, -0.9365218623159539, -1.019044845239776, -1.068938974306667, -1.0149587142700653, -1.114770514756058, -1.0313692111231518, -0.984755870155744, -0.9598038384985038, -1.103660566026941, -0.9418700123518924, -0.9697846145826368, -1.0411769224403038, -1.0578195511040085, -1.0550819351582108, -1.065837669525157, -1.0810581377027761, -1.010039219807323, -1.025877367600795, -0.9940521568007165, -0.9231069462757862, -0.9738383930622431, -0.9657586874106697, -1.1059350642887784, -0.972713099845523, -0.9827970872215079, -0.9845452304386175, -1.0710255266018827, -0.9547046585487804, -1.0153058703591311, -1.055531298897883, -1.0373719927989038, -1.0353303234030156, -1.0232307087418135, -1.0129675589521898, -0.9800126572215191, -0.999097308817873, -0.9954165958535204, -0.9663311922092372, -0.8943907819499934, -0.9180357566572558, -0.992432051762683, -1.080834523907971, -1.0178801228589573, -0.9674255357857852, -0.9385765055757659, -0.9375023045600774, -0.9531721400040931, -0.9822487208425655, -0.9754105967990157, -0.9925166491025603, -0.9140301733382438, -1.0694672016752138, -1.0550878592993018, -0.918069150450061, -1.0394605145252243, -0.9772783728763089, -1.0381736584507757, -1.038412583156282, -0.9595585806058885, -1.1055851963259422, -1.0011948105082629, -0.96006968961506, -0.9790332355534368, -0.9524937712675636, -1.029666869123706, -1.0637185297986664, -0.9811601651640249, -0.9255622699677076, -0.996553349895319, -1.0567205984337447, -0.9355601406996252, -1.1791340193154525, -0.9076241827290082, -0.9966032952653177, -1.0031041676521772, -1.0831157658467343, -0.9125972809353757, -1.0395197480047336, -1.034639958081337, -1.0231644233581676, -0.9632216699234122, -0.9692529357531025, -0.9929527309208506, -0.9509346572622696, -0.9558514960585835, -1.0910733620169428, -1.0273366354355775, -0.9452259170419095, -0.9513465732426676, -0.9777410311693586, -1.03171517706048, -1.0324057568463978, -1.0772384426164772, -0.9604095076531395, -1.0406015882352118, -1.0779930031311589, -1.0681662997661983, -1.0042800049382365, -1.0272639522788576, -0.9988095428105869, -0.9977473086909604, -1.056255147603351, -0.9312224100764768, -0.9375592241855516, -0.9536863090463623, -1.0360275687166112, -1.0059722758676046, -1.1028835525210092, -0.9240547956286298, -1.0499786402887472, -1.0012904793786241, -1.0248426156790544, -0.9436650736186231, -0.9498465578862322, -0.83452479208047, -1.0125002135197074, -0.9984120934483761, -0.9567100746166557, -1.0322145628188149, -1.0259560307400393, -0.9883546072467718, -0.8805571144598581, -1.0677218395231818, -1.0328252393403208, -0.9790034226541637, -0.9768637658376826, -0.9374896987301247, -0.9345904564765812, -1.0693762225651153, -1.022855584098978, -0.8962055804548132, -0.918198011303863, -1.0210188386154964, -0.9582124739771309, -0.9269371238351043, -0.9764331020767482, -0.9827362481626982, -0.9604318906140308, -1.0547380262750528, -0.9715614289789982, -0.9763528547114959, -1.0918578301491122, -0.9792825555155941, -0.9344917330315657, -1.0172595738343664, -0.9727322552980713, -0.9874857708198721, -0.9923764096925403, -1.008654491931114, -1.046682584973882, -0.9596644148061422, -1.10328827823614, -0.9375248990945354, -0.9633333713761794, -1.0680666050467837, -1.018697162846286, -1.0452581972650037, -1.0266509040263005, -0.9213602364117831, -0.9472312553583904, -1.0040838886439225, -0.9110354045458291, -1.054643582201518, -1.1365434119492113, -1.004318765037904, -1.018323371298968, -1.1263820968995328, -1.0613755500235142, -1.0541948011001048, -0.976280995361255, -0.9750564354044134, -1.027116792944795, -0.9510842822178449, -1.003604897956189, -1.1688149961406118, -1.0252920279503863, -1.0557725423027133, -0.9470820614372542, -1.0076688924001658, -1.0188284000959997, -1.0298826476785972, -0.9709441060573948, -0.9690380107897356, -1.0229388044946401, -1.0521272914726771, -1.0325549984606628, -1.0547380820079593, -1.0254845252126459, -0.9355056455001971, -0.9994855531274843, -1.0216279041640495, -0.9990963466163956, -0.956520309421224, -0.9971963525787244, -1.0295125951464057, -0.9970963378486455, -1.0457668292961282, -1.0312445322875503, -0.9499897046700685, -0.9222849688563342, -1.015285302947923, -1.0185192351362629, -0.9526323251044941, -0.8999102319041785, -0.9754417993646616, -1.0180339331929495, -1.0284104855441514, -1.0217367999977354, -0.9770843722888556, -1.0526056012916711, -0.9740752307320015, -1.0461930620017004, -1.0564454315233491, -0.9834730812759518, -1.0025143273373522, -1.0470691995045946, -1.131173279673249, -0.9524219751104952, -1.0376955683390192, -1.0132760171103787, -0.9635278436860346, -0.9019136405268642, -0.9557009431261487, -0.9782868872261312, -1.005282133098277, -0.9496820640582114, -1.0097129495818713, -0.9972168025958059, -1.0245293331646206, -1.0585141375168288, -0.9933625037396296, -0.9058753457516144, -1.0587363230171265, -0.9877130762846933, -0.9930681885331496, -0.9311876557679191, -1.0185119611354123, -0.9697647863793223, -1.0179074345974677, -0.8937813161515269, -1.060469299931615, -0.9792008298156323, -1.0478905740508113, -1.0146812796314744, -1.078921112242936, -1.0246987013987803, -1.0545583879271438, -1.0832072798150165, -0.9621627048235772, -0.9794427275441382, -0.8786719765768751, -1.069007866272559, -0.9446742860796284, -1.0131416666652198, -1.0280761368731737, -0.9097823057668438, -0.9241092508804916, -1.0446976867161981, -0.957601371328143, -1.1152604184020447, -1.0187035562754945, -0.969247463719539, -1.0089374183260973, -0.8239509006464212, -0.9830805232349009, -0.9666461269762783, -0.9990762774214154, -0.9718784148025958, -0.9748327593816137, -0.9605623266664604, -0.9958514966548758, -1.0726707389227164, -0.9535491931678407, -1.0539825828131835, -1.0183218612408766, -1.0193621028839992, -0.9535857211165895, -1.0516850855452897, -1.0599116972916647, -1.0147377379195306, -0.9952970540159731, -0.9851960512201792, -1.0781062497190657, -0.9800480089211202, -1.0190652985124786, -0.9130456624015925, -1.0526514404303253, -1.0103446222694124, -1.0171990105605957, -0.9527745284329783, -1.029995702236327, -1.027031446867357, -1.0371701480183866, -0.9896929576105364, -1.0365124659542861, -0.8675052986014632, -0.9202857463961289, -1.0629162973015018, -0.9723609302236884, -1.012888449598626, -1.0003473482908527, -1.010346301065603, -0.9100413547319458, -1.0153156628258568, -1.0510653595694217, -0.9849084393472539, -1.0440074137130733, -0.9381065517517386, -1.0064613254457546, -0.8831020123449353, -1.0887510898373662, -0.9862200877545897, -0.9323748923218401, -1.0180190356044159, -1.0791421001839618, -0.9306315587820686, -1.0402869126747125, -0.8484655226849912, -0.9795785917271818, -0.9370963917777704, -1.0626437636904564, -1.0754499719075925, -0.925533094023494, -0.9740817756460842, -1.0241555688472042, -0.8580806368884148, -0.9751598031803127, -1.0532130062786522, -0.9859647080808892, -1.0395497900012045, -0.9630024853077794, -1.0288199076729243, -0.9520454780818297, -1.030888184825974, -0.9283532107407007, -1.0092317307523782, -0.9876414659943882, -1.0688174387460365, -1.0287748592166712, -0.9777828922006994, -0.8804991189972313, -1.0377492153200283, -1.0446958816021839, -0.9373228424001987, -1.0139126213825307, -1.0079612409484098, -0.9399517936005337, -0.9419913598734515, -1.0446651827234066, -1.065083207064923, -1.017459322115256, -0.9279133381372365, -0.9931772812876158, -1.023239448711439, -1.0542884965590216, -1.0355839014576989, -1.0615063856669766, -1.00547187375365, -0.9604877665512989, -1.008780374382205, -1.054394052266649, -0.970172233688906, -0.988179960576302, -1.0092278518541251, -0.956911747192666, -1.012581556553458, -0.9703875586268471, -1.0372041838509072, -0.9990736715383108, -1.0143654566864775, -0.9689129261052575, -1.0366806028355289, -0.988759605715293, -1.0202459784324467, -0.9711163711344676, -0.9860198318874884, -0.9662148277628788, -0.9945883935618017, -0.9971973213376222, -1.097401902058952, -1.0636859076567475, -0.8827307686621154, -1.085086752893882, -1.058856727951264, -1.0356810013350364, -1.022258532370146, -0.9242593328024729, -0.9927691664034223, -0.9598326003758952, -0.9856795436587633, -0.9300819452933992, -0.9991661587322898, -0.9752097055489339, -0.9174948427919253, -1.0773885624119404, -0.9583461463615796, -0.9574469428249472, -0.9623631983654373, -0.9842429274722593, -1.0527489089201723, -0.9164009473793022, -0.9494906922014761, -0.957249273507027, -1.0259584035477578, -0.9467192408541768, -0.9697599072363532, -0.9866097806070773, -0.9292932098995044, -0.9608737016649183, -1.022616051774234, -1.0048402943007895, -0.9729186520570652, -1.0232101246107432, -1.065174846316874, -1.1078934451293638, -1.0049254492550037, -1.0280317650086244, -0.9374719069027905, -0.9977083987460482, -1.0485767296334667, -0.9947521206136065, -1.0251947709523217, -0.9655760729811564, -0.9966138979366168, -0.9945238689582014, -1.0536144507271996, -1.0166490875236378, -1.0406995614820962, -1.061283325920888, -0.9870230969106608, -0.983742576179436, -0.8934617607079329, -0.9814950063972915, -1.1212637199204436, -1.0648489957763863, -1.0229600345430692, -0.9296344994326495, -0.9489875426099228, -1.0203823983015665, -1.00748897470431, -1.0875190177838727, -0.9992038906534401, -0.9914870781621092, -0.9449011978301695, -0.978352014455277, -0.9476724736074031, -0.982822098953725, -1.0660515861806312, -0.9862954320125545, -1.1308597801969942, -0.971915373254719, -0.9734077257813565, -1.0850850294036312, -1.033280801660658, -1.0349921956520975, -1.0378354251779112, -1.0595419931202144, -1.0611049234309013, -1.0285636748418805, -1.0082430659349715, -1.0560370865042514, -1.004134930895401, -0.9980263509371073, -1.0195997230025475, -0.9935689344875097, -1.035153052069816, -0.9802160187104588, -0.9414227094145986, -1.0086226781105012, -1.0163130799940907, -0.9945290986788426, -0.9931979685162763, -1.0127895996058773, -0.9654434996763162, -1.0024185447700047, -1.0177755216038196, -1.001789138786537, -0.9018944969965057, -0.9269121219027078, -0.9712390060028709, -1.09694051419749, -1.018469682174071, -0.9862377763126944, -1.0500162555728583, -1.0688804389829452, -1.0724091807599312, -0.9885772195768266, -0.960185523987387, -1.0034604441798822, -1.0405007415190992, -1.0047186152792815, -0.9456745185372748, -1.0961127624489437, -0.9892986482450639, -0.9266585315465012, -0.9373977396683508, -1.0006941549759603, -1.0506141869894217, -0.9454246910786492, -0.9839506258487479, -0.9908698303967673, -1.0401431501437328, -0.9870315976183872, -1.0101115660820834, -1.0195430046732512, -0.9280648854865676, -1.0247663990125537, -0.9868025675269927, -0.9703531236128555, -1.0352337953102757, -0.9786064776060558, -0.8907511479226877, -1.0585859290702506, -0.950250564011702, -1.0125300285928596, -0.9923398574469646, -1.045002083022191, -0.9153726782712877, -1.057830799137235, -0.9782234717740264, -1.0888432478427599, -1.051081473809786, -0.9895060154018731, -1.0998728202777022, -1.0308929172332921, -0.8677732398383556, -1.108930854267116, -1.036049885286016, -0.932519788384112, -1.0255367825172041, -1.0220643729836163, -1.1025912758750311, -0.9855879384033357, -1.1306492188377382, -0.9758082018418497, -0.9930098828873167, -1.0095727068050628, -0.9548671330126075, -1.0512899943770555, -1.0052104918320293, -0.9800555059905617, -0.993374076906004, -1.1124367181484316, -1.0321130055640584, -0.9250797806706625, -0.9691266451808523, -1.0125783796991614, -1.036762360186424, -1.049734872055812, -1.026906823881697, -0.9765028686789277, -0.9918619348860651, -1.0154228624831174, -0.9598328794970408, -1.0027614259238993, -1.0276377600055384, -0.9419672095996386, -1.025984707224223, -1.0649812273717099, -1.01795576747111, -0.9874604139815126, -1.0108098025984753, -1.0566655089193548, -1.1475544896780498, -1.0013456106494711, -0.9950770278217274, -0.9507778507611437, -0.9733175825252572, -1.0367149207387478, -0.9957773321287502, -0.9300964066204813, -0.9819420862460104, -1.0554960239222433, -1.082793814235787, -0.9740724386973542, -0.9703492033976184, -1.0106432736730648, -1.0272502646249095, -1.0301209579503072, -0.9827794896525512, -1.0622669091746553, -0.9735098578552497, -1.043846560521955, -0.9895425705417665, -1.0136390747633386, -0.9713615877580647, -0.9677285396962614, -1.0346238900775764, -0.9423059230201518, -0.94899066970167, -1.031391658291449, -0.94520384477817, -1.0762601556640845, -0.9040196641796812, -0.9396686226897504, -0.862875689237785, -1.0126961392327172, -1.08728357054351, -1.0089822148843177, -0.926557014422372, -0.9476854218175508, -0.9101305025795181, -1.002205642760623, -0.9360174774951056, -0.9844245179792099, -1.0568063034186241, -0.9961711528019399, -0.8830033419849579, -1.0327320119537822, -0.9907472620464438, -0.9842516178264775, -0.9298134131916448, -1.0443235201402628, -1.1116731723990707, -0.9480582891563314, -1.0816457526428644, -0.9346453516374164, -0.8925289230211201, -0.9333164243592147, -1.0677274027236565, -0.9915545610344731, -0.9859078029508799, -1.1018183486539654, -0.9413049181181952, -1.0374543850231652, -1.0045576285466935, -1.0057805665252162, -1.1400086861927887, -1.1089692846460428, -1.039667086838111, -1.079943862139227, -1.0477860820465112, -1.0222999618297455, -0.9548529865795217, -1.0173295744828499, -0.9601465751274526, -1.0317995982438761, -1.046538110556372, -1.0711203101626645, -1.0660293513323045, -0.9378634556341395, -1.0515677090585855, -1.0071307520199821, -1.0500155649216685, -1.0222540716921622, -0.9666384553855643, -0.9420344684548819, -0.9712818661309408, -0.9816318624918186, -0.9101699108234285, -1.0386202787751557, -0.9264746277618011, -1.023632682848552, -1.007142763484727, -1.005793351393378, -1.0303301100023035, -0.9102936831066513, -0.9461340182432266, -0.9971431790847355, -1.022383727296169, -0.9404745763965413, -1.0281400604512159, -0.9893651889682639, -1.0618946334920703, -1.0071864609479593, -1.0806268636132708, -1.0165781637951574, -1.0614641200926291, -1.1162080626698954, -1.0224879522345671, -1.012615926335211, -1.0416739879237933, -0.9491146037962156, -1.0445093618650523], \"type\": \"histogram\", \"orientation\": \"v\"}, {\"opacity\": 0.8, \"name\": \"FD-FE\", \"histnorm\": \"percent\", \"histfunc\": \"count\", \"marker\": {\"color\": \"rgba(55, 128, 191, 1.0)\", \"line\": {\"color\": \"#4D5663\", \"width\": 1.3}}, \"x\": [-1.0201587279151418, -1.0378195434471895, -0.985444421772226, -0.9198588518919081, -1.0837017220520775, -0.8887687569787317, -1.031355109859791, -1.0002329696694146, -1.0190085684018049, -0.9859453548945063, -1.0216358559231513, -1.0534434898101928, -1.0390303134163306, -0.9899853404120624, -0.958104907800613, -1.0411778501414715, -1.0379361064695625, -0.9868183921866697, -0.974714949785217, -1.0610282832718163, -0.9490599902332397, -1.0591309179052666, -0.985109079357108, -0.9860552192550093, -1.028101252874477, -1.0301483903918707, -1.0393179704029534, -0.9018013519445498, -0.9461741208760647, -1.009003920503761, -0.9574343219050685, -0.9516521935222597, -1.0377655796968401, -0.9915649117336097, -1.0051084465985327, -0.9353746290771694, -1.0505117072911627, -0.9083696792035475, -1.0297266715258901, -0.9992094395658325, -1.042624156788369, -0.994695516532234, -1.0090386965724432, -0.9524054050461195, -0.9787109215342913, -0.9861423592296907, -1.13988953958278, -0.9658134080249705, -1.0141512070182115, -1.0068966904319288, -0.9172279507237154, -1.0425257203514446, -1.0237551486744936, -1.0215940675271336, -0.9668955861378348, -0.9924655491624204, -0.9957616018953083, -1.0083064656943364, -1.0244404534816458, -0.9627035777581775, -1.004812158905667, -1.0438676996834666, -1.0062403981957493, -1.011091824168948, -0.995033906022305, -0.9894836010380892, -1.0494919324530505, -1.0635504112100356, -0.9601210350796958, -1.0494932241118224, -0.9547303981718374, -1.0197523842417457, -1.0615675507765958, -0.9722154722318868, -0.9883334562963841, -0.9582450309630239, -1.008244516488212, -1.0281804793508384, -0.9437070478738687, -1.014616942246036, -1.0405873004874884, -0.9824015102973258, -1.02750640197185, -1.0011130206550005, -1.0514250592748504, -0.939483399498803, -0.9905964456366767, -0.9957116396567429, -1.0243841943292091, -0.9220631786587947, -0.9834853869809628, -0.9665721378050549, -0.9810100864405493, -0.9962913550476235, -1.0540429922217847, -0.9775871381343305, -0.9751555780315455, -0.9390468897056302, -0.9380107393620417, -0.985041245891837, -0.9702783691109462, -1.028931513310991, -0.9395563625898469, -1.0395820823515365, -1.023579222698319, -1.0267634421247815, -1.012281077901831, -1.0312372455472363, -0.9657788974649678, -1.0932564488356247, -1.0062523756197126, -0.9610133107727077, -1.053537880001587, -1.0142111002486398, -0.9922381678645033, -0.9527274766390479, -0.9951478800970937, -1.0132741226553272, -0.9867940032546159, -1.0449920694461134, -0.9831854877464189, -1.017448631277785, -1.038038789571631, -0.941816884256429, -1.0200868401025278, -1.033399533091965, -1.0107527717628468, -0.970362451682638, -1.0171947629237128, -0.994713043567527, -0.9394085649119116, -1.035543305587583, -1.073488697053803, -0.9629684720386396, -1.0167281294567863, -0.9744672604115813, -0.9370826095992674, -1.0154805162292444, -1.0440868479264847, -0.9821556166448829, -1.1110246892347426, -0.9352091848860777, -0.9999934787791043, -0.9775713415518442, -0.9809892952399776, -1.0130784781225226, -0.9341566772898091, -0.9905080674445349, -0.9659263493336809, -1.035429238458669, -0.9718414213719666, -0.9665453708503301, -0.915634416182742, -1.0587644759702581, -0.9518178624177291, -1.0092221602655504, -0.9391212803444129, -1.000089310072899, -0.9535880369902969, -1.0512820612005842, -0.9945092434347671, -0.9945669115067721, -1.092183127698479, -1.0364061056257308, -0.9632550056394615, -1.0535627858692365, -1.0721483858983647, -0.9916419651613273, -0.9206218538750236, -1.0441317467759583, -1.0986610864234578, -1.0180496162243156, -1.0383484988987015, -1.0695525470463583, -0.9943056061857295, -1.0543019216341143, -1.076545127367059, -0.9558013052624923, -1.0638858680314778, -0.9942082165669139, -0.9923306389510326, -1.0246141594280929, -0.9773534438247589, -0.9694370008246164, -0.9508953870362162, -1.033759612710957, -0.9547357323953418, -0.9887897869122999, -0.9011581814582601, -0.9549689738242324, -1.0158129189128813, -0.9926529944308022, -0.9651616392171521, -0.982547214341355, -0.9630085435402603, -1.082995786919465, -1.021382825430155, -1.0100439120264388, -1.0125979779315981, -1.0332298599902756, -1.0030449807633879, -0.9945365801907701, -1.0435771687423063, -0.9412250828309398, -0.9949523214249956, -0.9911599954666184, -1.0616813931404505, -1.0081880675530652, -1.029330054895918, -0.9662529790796818, -0.9869510236505606, -0.9845520586848597, -1.0247040887241439, -1.0694036941843528, -0.9964147265146543, -0.978562822654189, -0.9743876151197005, -1.048654584271388, -0.9109248670705745, -1.0177198571763921, -0.9397487350651947, -0.9186351885865292, -1.0213573187812224, -1.0347862019900163, -0.8974953617647236, -1.0409106158749264, -1.0028945186410192, -1.0336712495513591, -0.9920518930498243, -0.9751883218066424, -0.9986539058562242, -1.0497530668565553, -0.9734981630473467, -1.0417174172209718, -0.99028496306801, -1.0202702920271158, -1.011419106796393, -1.0079014066633167, -0.9861490584040488, -0.9605646093942729, -1.0556779537888035, -0.9871029534843556, -1.0013051939143502, -0.9607068067254437, -1.005647850993773, -0.9774752439566796, -1.0034051717985752, -1.0202602016167852, -0.9855586272080628, -1.0040835926521638, -1.021552906643238, -0.9356008920721635, -0.993220989285611, -1.0498149906515502, -1.0101983024388892, -0.9326571310577163, -1.0154032466044463, -0.9758435585139847, -0.9600855459550374, -1.0347796092653845, -0.9592456369586331, -0.98287087060449, -0.987070609057257, -0.9327533570373571, -0.9943656676276607, -1.0065280788735933, -1.0121222724647412, -0.9462395151222602, -1.0335679031605245, -0.9862065729851691, -0.9508351402049385, -0.9806619293750907, -1.0849077535175258, -0.9846640968353128, -1.0023861350638366, -0.9792616006827193, -1.0351275020294857, -0.990452344986734, -0.9707746628875988, -0.9527734192863554, -0.9820680220329892, -0.9943075478564738, -1.0343826654940667, -0.9336274702315219, -0.9918310040023378, -1.0259651915244625, -0.996711997085172, -0.9652924035501732, -0.9932148039041171, -1.0102871150259856, -1.0339980883583626, -0.9645305462692201, -1.1115975429012854, -1.0226879436056613, -1.0109187322389475, -0.9643753341153818, -0.9730279767644319, -0.9756229026582846, -1.0540826581591545, -1.0449657875977438, -0.9931997064776029, -0.9452106109571141, -0.9266680024181395, -0.9450123339418544, -0.9627085430130197, -1.0658121973686954, -1.0593459074258047, -0.9728437856364197, -0.9822483110508886, -1.0303497241367614, -0.9777352538449349, -0.9592536205469258, -1.047271331844625, -0.9685286201786347, -1.0356132634138864, -0.9870572663357899, -1.032201734640494, -0.9252438601249965, -1.0254747464370428, -1.059611798512465, -1.0132804150764385, -1.0905331209745084, -1.0252987361229402, -0.9488592772134083, -1.0063714644293291, -0.9904989942615002, -0.969142023196568, -1.004370289727381, -1.0442771954206547, -1.0226098958904137, -1.0897918310171537, -1.0018666617493797, -1.0011960255545589, -0.9813571951357036, -1.085847949199584, -0.9501959831431332, -0.9599446010125487, -1.0444063544562319, -1.049043790397621, -1.037273496296567, -1.0704161187686374, -1.0624429773543562, -1.013712819672377, -1.01285328768545, -0.9969763359463333, -0.9439325144331424, -0.9816115762192974, -0.9717609158404178, -1.0670297631840722, -0.9545250838794688, -0.9720167069587935, -0.9788938271983214, -1.041689134647145, -0.9692319334447536, -1.0043039064069905, -1.0515244021407846, -1.050729686869786, -1.0015657233823507, -1.0082906829539597, -1.0252510864184226, -0.9866869012829594, -0.9729827426671716, -0.990256663599709, -1.0058381048624683, -0.9072861981880285, -0.9282274604353378, -0.9933568607876133, -1.0796487895743823, -1.00227251095554, -0.956868590593983, -0.950820589764865, -0.936317686022976, -0.9730742226291293, -0.9852549518919013, -0.9936124344068478, -0.9757205416349526, -0.9445266589118991, -1.0545401208423855, -1.0269256982326498, -0.9487143345000353, -1.045286229954219, -0.9779734212877392, -1.040312321669856, -1.0071269295075331, -0.9582280339839014, -1.0782495489313457, -0.9981807132475329, -0.9601608744307726, -0.9776279363653401, -0.966108982695636, -1.020267248192193, -1.031499880638071, -0.9841490871188382, -0.9407715672565857, -0.9986463096219951, -1.039367217951691, -0.9527874374826946, -1.1242731432536606, -0.8936565394952131, -1.0176339228045643, -1.0130492282337848, -1.0473226944409761, -0.910521615200427, -1.0472760626004924, -1.0215371941970393, -1.0285957115625166, -1.002680310096476, -0.9773859238610259, -0.9991012674372615, -0.9814685172413578, -0.972871809482422, -1.0707942480328212, -1.0043851638040127, -0.9721910208821574, -0.9804427522860147, -0.9888380324117598, -1.0211265962799707, -1.0156716026175863, -1.0632434773680983, -1.0020956189222554, -1.0252843718901077, -1.0762041801743334, -1.04563324750388, -1.0086382512129528, -1.0279534338123995, -0.9887066282159273, -0.9911609852976437, -1.0540905779661123, -0.9523799623099205, -0.9430319956500037, -0.9835549361156728, -1.0288341884990235, -0.9857569494652264, -1.0771718816048346, -0.9581442061954324, -1.0471111116053229, -1.0136868496125797, -1.0205299455718684, -0.942326949098423, -0.9417860345642666, -0.876337326024661, -0.9981112328309525, -0.9831188970992994, -0.9719194697423222, -1.020836876294621, -0.9880826284429123, -0.9775752035435774, -0.9033920938680389, -1.0618459453124216, -1.0098219925019136, -1.0067723878393375, -0.96785173610501, -0.9754026702199015, -0.9384946922233789, -1.0611541755364167, -1.0068682152098956, -0.9193897675537589, -0.9420408729126264, -1.0113804991383986, -0.9438966152967447, -0.9335154262671561, -1.000245673839374, -0.9907645409667376, -0.9787496377060239, -1.024095711725969, -0.9479122265587105, -0.9699477890347576, -1.0332789464116936, -0.9640115587792575, -0.956400657190106, -0.9950872922190155, -0.9986400262356867, -0.9954865160143975, -1.0147911531379967, -1.0297504129042363, -1.0363277690908457, -0.9751529513973713, -1.0846300020724162, -0.9551733425324598, -0.9733534184741525, -1.0429123841019141, -1.0373882415423288, -1.0257924561498686, -1.0441994584040317, -0.9336418838921734, -0.9307731604664371, -0.9921071902489005, -0.8998695017236324, -1.044133336712587, -1.101876045947531, -0.984261277558955, -1.0188518071355794, -1.104018607473079, -1.0566164764613584, -1.0059496511312858, -0.9627365238814918, -0.9742261732792756, -1.0258893476761488, -0.9770978648954758, -0.986825066820636, -1.1390663699789094, -1.0497763386009051, -1.0375304899490083, -0.9653166107966293, -0.9844721258654104, -0.992867161209563, -1.0199198958706757, -0.9926525054012335, -0.9892305742146505, -1.0130226660488078, -1.0595170814925066, -1.0296347614321808, -1.0479472305359483, -1.0085270911962607, -0.9223332984817063, -0.9874201524453876, -1.019969331676299, -0.9951622603254656, -0.9645121765453164, -0.9975705003063886, -1.017487468405681, -1.000080487282965, -1.0414916947983175, -1.0283914963284262, -0.9787145205475563, -0.9388823228212926, -1.0110725740499622, -1.023531939229024, -0.9450060814084578, -0.9094613251600172, -0.9981225480464522, -1.006152906004349, -1.020248040489757, -1.0101077249376234, -0.9891324203939784, -1.0287855070679135, -0.994652003461524, -1.023787628539188, -1.0371335053594324, -0.9895993713443215, -1.0153060687521758, -1.0422698984842276, -1.1142314639192068, -0.9688771594750196, -1.0049104004945317, -1.0001159939449338, -0.9949298695629704, -0.9454035770567243, -0.945866505752611, -0.976364647006511, -0.9977508772394876, -0.9538418363952641, -0.984882029971079, -0.9773232617816701, -1.0126209690453343, -1.0800099869827668, -0.9997764473856304, -0.9405497466054679, -1.0493929565333717, -1.0005987849978961, -0.9948543340782414, -0.9225919058720669, -1.014568645406826, -0.9818824284760636, -1.026811997977997, -0.8989464139458418, -1.0439823384662716, -0.9854522970346282, -1.055148836633582, -1.0089149581240746, -1.0565171494275076, -1.0181391881603936, -1.0220535374050865, -1.0572230288223234, -0.9559225099051252, -0.9851503345979543, -0.895097074369065, -1.0709540708859187, -0.9818094847198242, -0.9877530988779767, -1.0172354929998197, -0.9259332852647042, -0.9346615879639945, -1.0266703353768352, -0.9660277309062375, -1.0890747753529113, -1.0189254207810499, -0.9809112258442643, -1.0075233268164725, -0.8659127085817864, -0.9948439681713672, -0.988077213886083, -0.987163004869271, -0.9703380320255751, -0.9991668438473967, -0.9757325222257207, -0.9850780590609025, -1.0279304891249597, -0.9573926625673298, -1.0535881936154108, -0.9954711530197924, -1.0439498911367413, -0.9634571045297864, -1.0463517373335085, -1.0648673278474234, -1.051365235914838, -1.0206770116759907, -0.9652270523788259, -1.0632468025340196, -0.9863783744282875, -0.9853086498145976, -0.9191806660571713, -1.0218829576579616, -1.009269498320886, -1.0087018790893278, -0.9786599025482694, -1.0513320359341574, -1.0011865507917714, -1.0331993737389358, -0.968353873332148, -1.047547234490892, -0.8756782766872284, -0.9293964551347564, -1.0500800528478558, -0.9703601240962176, -1.0197379354773273, -0.9953172196362614, -0.9767786291879229, -0.9118150520367803, -1.0100201956907147, -1.018235384654047, -0.9699861852717943, -1.0338848254385684, -0.9685939995974998, -1.0325634200107168, -0.922120543069767, -1.073958960006291, -0.9815085655835569, -0.9564431081082024, -1.026745230372898, -1.052163234481657, -0.9396812767086556, -1.0464219925732263, -0.8602256463227542, -0.9526788806162407, -0.940463519668921, -1.0410359575779875, -1.057691582122819, -0.9554021283816102, -0.9736032610547285, -1.0360873803149626, -0.8863805449381976, -0.9697690868992062, -1.0561354091422979, -0.9758016401925541, -1.0138196309795102, -0.9730558523534029, -1.0322610741569789, -0.9683515398464528, -1.0181188539868007, -0.9416785155154801, -1.0016625360829987, -0.9845695108849307, -1.0497956295074138, -1.0210825931357412, -1.0095338691533444, -0.9091145630935068, -1.0264522059766885, -1.030765872043159, -0.95599974912813, -1.003105617625316, -1.0103585496523182, -0.9279063148790119, -0.9536053167197536, -1.0307700211980353, -1.049682442508797, -1.0412223631977036, -0.933036773867185, -1.0014246412091103, -1.0232634729022432, -1.0507169431539687, -0.9977396305064558, -1.0685215261157903, -1.0080583993805403, -0.9699012809151288, -1.0123387247868045, -1.0260875689054094, -0.9685137232608465, -1.0059448345387143, -0.9685938652162918, -0.9761250434149744, -0.9981080514590045, -0.9629293750577412, -1.0391511406053628, -1.0381404849361138, -0.9835265849452435, -0.9764766981461472, -1.0181547798191684, -0.9878666643310531, -1.025416679202705, -0.9805683901876404, -1.0013370558833394, -0.9468655082043338, -1.014788075715631, -0.9686465886699662, -1.085280119484429, -1.0645931283915964, -0.907855115417541, -1.0660243667782674, -1.034634523364903, -1.0182150205999407, -1.026428813488371, -0.9262458179823585, -1.0033344180458064, -0.9695184078913889, -1.0052804131113886, -0.9727143454095202, -0.9967182030432645, -1.0161827764376494, -0.9170411755498399, -1.0483454946616353, -0.9785025975801275, -0.9786856222151776, -0.9691580812183177, -0.9767757042462666, -1.0215401060383347, -0.9195352431660173, -0.9714117132079648, -0.9450563987140268, -1.0313785559470086, -0.943278770185681, -0.9600636084928783, -0.975022091559318, -0.9353416539027867, -0.951259574295715, -1.0185881487457484, -1.0047666800516102, -0.9590325247096442, -1.0235225582743266, -1.044385646368398, -1.0988321915682155, -1.0179325080557486, -1.0357411873015692, -0.9440806242380094, -0.9794178924805751, -1.0481962586049125, -0.9904158500559466, -1.013610876974203, -0.9839249896117179, -1.0119794529951296, -0.9730687622951335, -1.0566838717516949, -0.9913039635866459, -1.0144813987351295, -1.031107264029394, -0.9880419874746298, -0.9786751426180837, -0.9043032312004599, -0.983973503900193, -1.106392066535209, -1.0473302783448712, -0.9972742740741262, -0.948233286783936, -0.9723843567345818, -1.0040987995918735, -1.0065005740689519, -1.081623769308266, -1.0064404410924799, -1.0244449198339036, -0.9621484873651562, -0.9803511188737954, -0.9498660440392043, -1.0022378646793504, -1.0575268844812162, -0.9833051861312803, -1.0925509259322208, -0.9813076743975958, -0.9842078004422752, -1.0384588821050809, -1.0237149308513545, -1.0151258071414113, -1.0369737970116644, -1.048835097008885, -1.059239588084273, -1.0354071102192308, -1.0247412591431115, -1.0485713616867731, -1.0169610070950919, -0.9878515466015851, -1.0167134327893952, -0.9884955950390294, -1.0497232826500973, -0.9780508720230436, -0.9775277958006143, -0.9885762299390649, -1.0075017070881407, -0.9777615951667082, -1.0366358726015168, -1.009815942566554, -0.9530123253268599, -1.0108968441389665, -1.022173317161002, -0.9931611980749527, -0.9319012055316229, -0.9325349536867559, -0.9813396927889855, -1.0879916738794957, -1.0236327441333897, -0.9921635330025829, -1.03060557905894, -1.070275841605945, -1.0622399792000496, -0.991479855604749, -0.9796962369173946, -1.0369624927315753, -1.0176119348355317, -1.002146447429474, -0.9495076109298626, -1.0808347319485847, -0.9973901098221625, -0.9316022122195926, -0.9408919844137434, -1.0085653924386389, -1.0297443152220573, -0.9547759659258815, -1.0071527993447131, -0.998844223850181, -1.0153448322460368, -1.0096286022634673, -1.0208875552318197, -1.0329411551882373, -0.9227931222621241, -1.026619330736254, -0.9780568455965877, -1.005375753157078, -1.0425342316622848, -0.9815460735374588, -0.9092179848532569, -1.036789644820746, -0.9480510172111121, -1.0372987818691095, -1.0109590971066407, -1.0246302574865402, -0.9202097455571903, -1.0504792359341413, -0.9675274355757209, -1.0841973308480894, -1.0201164841274166, -0.9849632510053509, -1.0666032429962464, -1.037591460096461, -0.8949074073923766, -1.1054979866368595, -1.0747978039146688, -0.9443409161067426, -1.001692875502521, -1.0346988702950837, -1.0584393408422184, -0.9972320616956414, -1.0938228712766294, -0.9778760215399407, -0.9999248418670497, -1.0038513302792444, -0.9840471132936984, -1.0397819695428128, -1.0087133706871425, -1.0105458714562834, -1.0038229782509722, -1.1042836863005476, -1.0185880445363795, -0.9366484338774698, -0.970453768952718, -1.0037040631797114, -1.0246250155555254, -1.0607121873630614, -1.0264848961443427, -0.9634482784236216, -0.9865540902170731, -1.0138801486181859, -0.9727276321122782, -0.9977213432016513, -1.0100775804430933, -0.9718093281990727, -1.0452855018180063, -1.0605943210835576, -1.0016650149457367, -1.022482089204495, -1.0046011986290777, -1.0527943788503555, -1.0978106286146911, -0.9867862543656962, -1.0051538765133503, -0.9837117222609069, -0.9767313635799475, -1.0369100073290092, -1.0056306886900217, -0.9452222356577688, -0.9890304850659882, -1.0279941633452816, -1.056037338109445, -0.9666285369815695, -0.976624733699045, -0.9893311841458555, -1.0279542675120312, -1.0323746286364743, -0.9754193373049531, -1.0295352785130258, -0.9713967485658097, -1.0454079233211524, -1.0049030854162508, -1.0057078831993336, -0.987786628858291, -0.974888852441052, -1.01664440729034, -0.9503636499896306, -0.9436281552913592, -1.0353884789063503, -0.9805541848568827, -1.0933422718055463, -0.9522764574143681, -0.9606468350912636, -0.8917650471277787, -1.0128312787670262, -1.054877981641574, -1.0061714652800062, -0.9230653033646337, -0.9637937703095028, -0.9097842836651853, -1.0092146538846474, -0.9430408473739551, -0.9964678270705615, -1.038419444373162, -0.9902206348439072, -0.9036845264397112, -1.0364099820615116, -0.9789224770309695, -1.0077842860355855, -0.9224527472750936, -1.0243017578170561, -1.0925461376778167, -0.950142147814649, -1.0652907917790624, -0.918943376402156, -0.9119304869177338, -0.9675724463528352, -1.0610128658111846, -1.0104972955213252, -0.9776172786287644, -1.0684819742323837, -0.9544973230487988, -1.01364869731335, -0.9999941784849713, -1.0006557030922778, -1.1017722889486963, -1.0979355604989172, -1.0458458687592573, -1.0662962064971906, -1.023980127035707, -1.0008583918499263, -0.9568483344944245, -1.0294217236166305, -0.9741874230840546, -1.016099879634078, -1.0230761652685185, -1.051250895496453, -1.049502229831068, -0.9609278756206189, -1.0397590249500133, -1.0001378914762846, -1.0298755331269152, -1.033479255538979, -0.9900178292433826, -0.9741975338459159, -0.9907254303983685, -0.9634327638005648, -0.9103666744115918, -1.0601342282568211, -0.9236414749702425, -1.0052934706602568, -0.9975976812283588, -1.025568756195961, -1.0506945359964646, -0.9491256629379323, -0.9510864914900024, -0.9962877411870825, -1.0201108113693946, -0.9829881736395024, -1.0028740155970588, -1.0071270428348345, -1.0496484194613918, -0.9903278049529493, -1.0568768314598262, -1.0014289947926753, -1.0349469267519842, -1.063027555173832, -1.0364448466722171, -0.9892839848498582, -1.01951380947761, -0.9675584736741243, -1.0436290346081998], \"type\": \"histogram\", \"orientation\": \"v\"}], {\"title\": \"Overlay-Histogram for RT mix and pure, true beta = (-1)\", \"paper_bgcolor\": \"#F5F6F9\", \"plot_bgcolor\": \"#F5F6F9\", \"xaxis1\": {\"tickfont\": {\"color\": \"#4D5663\"}, \"title\": \"\", \"showgrid\": true, \"zerolinecolor\": \"#E1E5ED\", \"gridcolor\": \"#E1E5ED\", \"titlefont\": {\"color\": \"#4D5663\"}}, \"height\": 587, \"yaxis1\": {\"tickfont\": {\"color\": \"#4D5663\"}, \"title\": \"\", \"showgrid\": true, \"zerolinecolor\": \"#E1E5ED\", \"gridcolor\": \"#E1E5ED\", \"titlefont\": {\"color\": \"#4D5663\"}}, \"width\": 1116, \"titlefont\": {\"color\": \"#4D5663\"}, \"barmode\": \"overlay\", \"legend\": {\"bgcolor\": \"#F5F6F9\", \"font\": {\"color\": \"#4D5663\"}}}, {\"linkText\": \"Export to plot.ly\", \"showLink\": true})</script>"
      ],
      "text/plain": [
       "<IPython.core.display.HTML object>"
      ]
     },
     "metadata": {},
     "output_type": "display_data"
    },
    {
     "data": {
      "text/html": [
       "<div id=\"5442b3f9-9834-41a9-83c0-0ea47ae505c5\" style=\"height: 587; width: 1116px;\" class=\"plotly-graph-div\"></div><script type=\"text/javascript\">window.PLOTLYENV=window.PLOTLYENV || {};window.PLOTLYENV.BASE_URL=\"https://plot.ly\";Plotly.newPlot(\"5442b3f9-9834-41a9-83c0-0ea47ae505c5\", [{\"opacity\": 0.8, \"name\": \"FD-FD\", \"histnorm\": \"percent\", \"histfunc\": \"count\", \"marker\": {\"color\": \"rgba(255, 153, 51, 1.0)\", \"line\": {\"color\": \"#4D5663\", \"width\": 1.3}}, \"x\": [0.5506720942353391, 0.421168889331743, 0.5283154565761106, 0.45863169665057174, 0.5126890920340835, 0.5338356741513695, 0.43917308390039955, 0.4815950040155048, 0.4637111366593926, 0.5515850235500569, 0.5546437084325666, 0.5384746529392187, 0.5757350070812765, 0.47436283124879286, 0.5086775011109042, 0.5616841080712638, 0.5063080171659384, 0.4708592314418896, 0.4482043362640403, 0.5459689211706527, 0.5570114144152394, 0.5990007460682737, 0.48876043171370964, 0.5710167464601845, 0.42045727352382944, 0.5258313781218416, 0.5372736925020587, 0.4817480352792476, 0.4491738192559848, 0.4741625198120498, 0.48190057463625846, 0.5064365176317825, 0.5121378922613344, 0.4921168092482453, 0.508673495039734, 0.49550638511114464, 0.5245721721487744, 0.4187479498052456, 0.5733082337614481, 0.5423074312259549, 0.5144763801419141, 0.5427987683774005, 0.541876710427488, 0.5011744938010578, 0.5391630075297846, 0.4553800342258595, 0.4356832575437197, 0.4640270410957339, 0.4944753165151774, 0.45263136685419764, 0.49510819384980576, 0.46191366531153577, 0.5362919836378625, 0.49013802984710303, 0.5555114760316502, 0.48635618979203366, 0.5495610783627479, 0.5261549122706553, 0.5104808527600535, 0.4270604975215849, 0.40445324847815034, 0.506075857065134, 0.4099203298997078, 0.5577519738861627, 0.4756143678393, 0.3915259521738472, 0.47169519407200544, 0.5003738524701697, 0.5923426090602089, 0.46094287791789246, 0.42893164500404746, 0.39798933656620544, 0.4779559888571926, 0.4972151359153565, 0.4844378309575825, 0.5083075033480673, 0.6207495282878366, 0.4761442674237976, 0.5152932775775697, 0.6168966881647497, 0.5151012489327808, 0.49028755677621894, 0.40703654880448914, 0.5324211039803022, 0.4386988111945191, 0.4762513752856086, 0.5037795175905547, 0.5506541082477376, 0.4414818172361298, 0.5342932946291049, 0.5598472160274901, 0.4693234387129851, 0.5738698859115503, 0.5013404477497616, 0.4746254207531209, 0.4742839663653837, 0.38646903401718813, 0.45393968730008083, 0.6174150077371671, 0.5007894898830212, 0.5204856220316971, 0.5612751794957458, 0.5838082208550659, 0.5346359844240617, 0.526459379963954, 0.45900678457858046, 0.48069562597930326, 0.48369342897119927, 0.44771662664266565, 0.49975837318927235, 0.5201548154598177, 0.5799613471247174, 0.5221525425456761, 0.4643349334473161, 0.4340444182631765, 0.4990155710725483, 0.5137002771002168, 0.4974160942696958, 0.5429050821594784, 0.499272153219236, 0.41800716512632674, 0.5683891296021457, 0.5457218993639257, 0.5493167420419938, 0.5740010265931865, 0.5358530694452885, 0.4898115782341828, 0.5304330817045103, 0.5433033628626116, 0.5052023513521673, 0.4204258225426999, 0.5082221215310374, 0.5079629453200244, 0.5257710833733233, 0.4706365756547723, 0.4910726086034275, 0.4859092980389989, 0.5166670626512272, 0.4965758490669005, 0.5277440795214563, 0.5128664893023079, 0.5081424791896723, 0.4623018668062458, 0.5150971240603907, 0.511837420750994, 0.5162916086082149, 0.4915420489674944, 0.47631039061628, 0.5131645133007975, 0.5586016795037121, 0.5894015796049884, 0.5703753530457354, 0.5664839967333235, 0.5061318355029141, 0.5169145964599811, 0.5105662115367862, 0.5351348768974957, 0.46927516429285965, 0.513224323590472, 0.502890159204678, 0.47451540930166997, 0.5597430522299182, 0.3815220621346746, 0.5194136115555301, 0.554934081773064, 0.5271063893124481, 0.5241612525638688, 0.5145745396137235, 0.44575390140206983, 0.4752834109466175, 0.5448493837135303, 0.46600158206729103, 0.5621008739892314, 0.568669999995685, 0.5120172639672962, 0.518528976096305, 0.3930344373830276, 0.5063459312134266, 0.5381769658781499, 0.5519573781123092, 0.5795951118220214, 0.5017085219396424, 0.4581784530344927, 0.49505985614994186, 0.4761307391049883, 0.5661887455711477, 0.46468409650325676, 0.4945153463536922, 0.49250699267366493, 0.4765509665691519, 0.4693851692720801, 0.4458281734128725, 0.5244975215078667, 0.5444800573182156, 0.5450217474154011, 0.5879203272946594, 0.4535022712899889, 0.5234127898108459, 0.4124692418540768, 0.5708707801931827, 0.6116120691337195, 0.5316445880892234, 0.5452283622988905, 0.4211949055309574, 0.48700225557855814, 0.4636995019689173, 0.42731505158919303, 0.6211120776341215, 0.4425418790325235, 0.45329643122342367, 0.5310977279253197, 0.5366408481995051, 0.5319425116378049, 0.5403954531118819, 0.4669021026485811, 0.46986380956357404, 0.4770960049882839, 0.4610537698389571, 0.5648101319979333, 0.4816064525995058, 0.41555922141224144, 0.45950727609507935, 0.635184235629476, 0.5460267045308106, 0.45777047272101445, 0.5642783046047682, 0.487764562243995, 0.533800007661015, 0.4679838293500803, 0.5871483196700882, 0.5249020552046035, 0.602693376217551, 0.507461338758695, 0.41902854649415344, 0.49496251449750206, 0.5284771775902095, 0.5377657765205023, 0.479289666648809, 0.5971627848278607, 0.4933871898553355, 0.5593552649664728, 0.5162769429005005, 0.3832266325709061, 0.5316838096497334, 0.5901174275233458, 0.496733060112196, 0.6499334521843834, 0.5079882478384706, 0.5138949134294871, 0.49622702880234804, 0.549553243568386, 0.47240589711956626, 0.40557051898871854, 0.5263660549457512, 0.5896405206320471, 0.5264959903764636, 0.5235514718389548, 0.5837773087848915, 0.5643540961188293, 0.47115501347833555, 0.5959983368423114, 0.48433061200975286, 0.5297743915188544, 0.5556313745239039, 0.5051676624581265, 0.5111275450350758, 0.4903931716282085, 0.49669550596839507, 0.5256463655261177, 0.4739944265974669, 0.41851220535024525, 0.5356962791750752, 0.5338199653222567, 0.4998922140315558, 0.4570929579758913, 0.5267807678598531, 0.506879148419495, 0.4227880977400361, 0.4027637165149549, 0.5342519733824462, 0.4579402398662111, 0.48287761963457576, 0.46707688173235884, 0.5336347318868204, 0.4858611552541927, 0.5658207757054328, 0.4443624635479235, 0.5264769797575587, 0.5543157859730994, 0.5325119986694469, 0.4862604994471697, 0.5221343923473201, 0.4649992600783849, 0.5370371019816766, 0.4319767975113764, 0.4832734150602024, 0.568760857301479, 0.5350722528841788, 0.4918165583392893, 0.5282993097401057, 0.4793642758183757, 0.5353802016756427, 0.43651398511789125, 0.4930284274234726, 0.4910808897273458, 0.5208855472636174, 0.4980650123770016, 0.5128850777366134, 0.44980408712522013, 0.4289667860927038, 0.491041199425183, 0.4749749233138135, 0.48493641241829955, 0.44842418914319193, 0.46129346744669153, 0.41725621634959886, 0.42739204623345506, 0.5187683312430696, 0.49195066625314543, 0.5558893843403447, 0.465289365196796, 0.4682054630663844, 0.5160922494342872, 0.5168506328397349, 0.4445194222398104, 0.488554048462552, 0.4929370609626524, 0.4901927760383571, 0.49301248609228676, 0.5141627418198811, 0.5930528570809347, 0.444694703329758, 0.49691746711918006, 0.4254601655924005, 0.5765394778510593, 0.5741800533394276, 0.5648080246699472, 0.4422857981137913, 0.419428620557406, 0.5087810569061815, 0.5191729336433508, 0.4516123153417997, 0.514170316496986, 0.4929067396552083, 0.4980346528136197, 0.4544215190145561, 0.5649608024289434, 0.4965337548250601, 0.5208095873342871, 0.344138925087519, 0.4815504180484093, 0.5026965645107089, 0.4595246550863702, 0.43911749096973607, 0.521219763921128, 0.5359580780402099, 0.5509475085673419, 0.48618613453394594, 0.5078760994754661, 0.5562544680779206, 0.5123174631045171, 0.5811699814416871, 0.5230484573125052, 0.4831183969793854, 0.5621718592413083, 0.509641052113903, 0.49509113541457855, 0.4102045687716256, 0.4702247739801138, 0.4801725725192786, 0.5417837642180878, 0.509393778742377, 0.4609710969230085, 0.46075190974736735, 0.5393453087086353, 0.5375319044196214, 0.5088446616543157, 0.4721919641333165, 0.5308871215599972, 0.5102836652472962, 0.5133429771586904, 0.5374697062049263, 0.4973071009711215, 0.3891371622124232, 0.5391903103826284, 0.4755116080799899, 0.47459557526263346, 0.4275934841813808, 0.41352489866852593, 0.4696511590915964, 0.5608556105616547, 0.557352544986619, 0.4652133242277, 0.45556197298974044, 0.4967280364142145, 0.3922084277238961, 0.5643695591762075, 0.566813285797036, 0.609606637613245, 0.5666426306084207, 0.5238233187031951, 0.4955886380185735, 0.47807617035328803, 0.4397398049476109, 0.48168672313394634, 0.6196737037023715, 0.41172199259871134, 0.4681643427432146, 0.5123290277560275, 0.4145351570346406, 0.4989996292311419, 0.5164247391569835, 0.4662192299407595, 0.5150189477377194, 0.5303266542673586, 0.5184459159642001, 0.5645515957229973, 0.511801035840058, 0.5896220764591698, 0.46514199686694313, 0.40249153008150096, 0.48871053240315343, 0.45276619989485645, 0.5152352723630782, 0.5329041019400478, 0.5508464295124789, 0.6125133616279644, 0.4869162973571515, 0.6004670221994588, 0.5294876302838746, 0.5290899464775565, 0.47944344179285636, 0.5266625939218338, 0.5035503726574788, 0.5273182893615548, 0.5470213999444185, 0.44253646112210987, 0.503012984678715, 0.4291240406009522, 0.5064546637579385, 0.442162435077135, 0.5444284758734061, 0.4954338447236098, 0.46371501384603286, 0.5525548399584591, 0.5205508535100579, 0.5568700015413218, 0.5179873350906548, 0.49822471051217765, 0.516656197969486, 0.48612256080243965, 0.6166149043737263, 0.45814822607414857, 0.4156282078853581, 0.4319148535402422, 0.5089899115198668, 0.3845100042197701, 0.5016873838991991, 0.47613138179686165, 0.5778166045418225, 0.5724362689480913, 0.5461162831249872, 0.4709092158052365, 0.5892564041883539, 0.4394921818040045, 0.48773967663475704, 0.5619677904475927, 0.5606868864794994, 0.493013420778881, 0.6560584932945449, 0.6136361426170914, 0.4187078276625842, 0.5215510500177841, 0.5146174182115423, 0.5496980423117495, 0.40034350079605385, 0.4196474198784102, 0.5155942455704787, 0.5573408278708268, 0.48715575044078274, 0.4523012785406739, 0.465184274727682, 0.5264046491992567, 0.45865286240376446, 0.43344226762810967, 0.5322814769615942, 0.4052490850114619, 0.48585973881391575, 0.5383246301075559, 0.4153906650979301, 0.5583012321109125, 0.5155638077349024, 0.47430863735740103, 0.530965457912959, 0.5152185050409482, 0.5079916282412471, 0.47885110867779485, 0.520830379403604, 0.4888548595569465, 0.3973705050837, 0.4965737779560734, 0.44157777098642814, 0.540145604263236, 0.5309383977175858, 0.5876175641907958, 0.5086825693056923, 0.39814138382166786, 0.5611749737249534, 0.542232230613062, 0.5168576072867939, 0.3276402507344449, 0.48626748082009663, 0.4729163457967138, 0.5458232509999108, 0.5835717806437781, 0.48848270398785976, 0.4834214908010555, 0.5056844277805782, 0.48434972641742824, 0.49850369283581686, 0.46556456880908825, 0.4419249829683781, 0.49174709480470113, 0.4413012808421105, 0.3809672802007898, 0.5920094964442253, 0.3982092678395959, 0.4862476444812086, 0.4276792036024073, 0.4599596617808662, 0.48986351077165186, 0.5162502689735151, 0.5092989900389728, 0.5827348539479561, 0.601110955748182, 0.5660010480055969, 0.5062424110780007, 0.446354106491516, 0.49500072449851745, 0.4824649279173659, 0.4570928633770493, 0.5579468226575796, 0.4496565480977026, 0.5601643947468712, 0.5186888904690694, 0.47873453948758293, 0.5005455056289377, 0.4968895103366949, 0.4607038812304893, 0.5762412013502761, 0.49635072957812915, 0.5005697190432872, 0.44472027708517914, 0.5235395497290966, 0.5155266060173116, 0.4783128507996322, 0.5530788793392527, 0.46936398372451127, 0.4904575161641451, 0.4895633193702278, 0.46276864099556014, 0.5808460104410863, 0.4911721870385489, 0.515268820998894, 0.5525677094200416, 0.5032957953449065, 0.5727828681140255, 0.6386791426738202, 0.3364644581333148, 0.5171827519712178, 0.5046552418332164, 0.4689713746456295, 0.553965647424606, 0.5998172900433185, 0.5705672755355582, 0.5996125441105483, 0.42837985881592267, 0.56101714807907, 0.49716228365476256, 0.5162715506885782, 0.5229214074570773, 0.4227863112796896, 0.46920359325235944, 0.4968751737322724, 0.5342690208429042, 0.5920516519801459, 0.5614202972913808, 0.4633224337339153, 0.5958903900876217, 0.5455341649704137, 0.41458443532595, 0.5336871913981062, 0.5068065406913881, 0.4651721388668677, 0.5111014870204417, 0.5423046929782607, 0.5130849024284101, 0.529160434616597, 0.49037079354911745, 0.5516783572338617, 0.47608636103825275, 0.5399979312349608, 0.5066766118334979, 0.5111452195009641, 0.4230556962163181, 0.456212912938014, 0.49331738850441825, 0.4343555203580861, 0.4644960591922107, 0.41796838542944037, 0.5257107405404978, 0.47690073202128513, 0.5493346939515331, 0.44257260611703664, 0.48470807571085767, 0.49354187901726276, 0.49037413471144414, 0.4739476395683264, 0.5880331305394568, 0.46657437362176457, 0.5326457385733556, 0.502076954914071, 0.5927695092103573, 0.39113142036139603, 0.48428100971879356, 0.4977531970296488, 0.5045112441710213, 0.47847669955737027, 0.5197817389003424, 0.46788755345646327, 0.43786218806971133, 0.47844687162484467, 0.5053114934480889, 0.5133674544901555, 0.48633752295101607, 0.4451761795455623, 0.4623004352234409, 0.5114657656838342, 0.5727147976930675, 0.4617978718839496, 0.5190824668349371, 0.4140276956865382, 0.5730971084698127, 0.5783489810048686, 0.3938462753582675, 0.46863951210978244, 0.4806771560014476, 0.45164069992479305, 0.573438471247561, 0.49177691228167186, 0.40049662214836973, 0.44632905397442246, 0.5069665427021678, 0.5302977868804395, 0.5593890066782188, 0.5317836706475648, 0.4682313770186165, 0.47970601001815133, 0.48688153147290525, 0.5386891758561426, 0.5655452104780997, 0.5169062871403614, 0.4359329599992251, 0.39989581210075786, 0.5051969513698016, 0.5455676061507913, 0.516218826714056, 0.45709671923922435, 0.43528206211418985, 0.4600190864234888, 0.5135789994778172, 0.5083756921669152, 0.3968838253240664, 0.48768433598191474, 0.5104496237829835, 0.4996865716359642, 0.45175443091947187, 0.5062173508545893, 0.6258125005723825, 0.5162432399241832, 0.5254499279744379, 0.4805488631277157, 0.4693556597470152, 0.48716194735905194, 0.48922578407783773, 0.41643585749603007, 0.4794287110611505, 0.6007051749060903, 0.5086064316563035, 0.48153902908789337, 0.39701093034443946, 0.5341274585385597, 0.4350634297968258, 0.5830514579084445, 0.5358798256205122, 0.5251086239476865, 0.5236806714540188, 0.47334620888242385, 0.46916435917425464, 0.5378403709221533, 0.3684860177881003, 0.4827549924500396, 0.5499716376691486, 0.4623000365757223, 0.50385607912453, 0.4307618465892483, 0.554755530278146, 0.5394175071398315, 0.5255948867428745, 0.4698208744257306, 0.5009062373258384, 0.5488639182999634, 0.5685777836952413, 0.484104952106939, 0.5467162374785683, 0.5142146576672422, 0.42298828902988084, 0.47171397271477733, 0.549518587215129, 0.5379429028323622, 0.37196649899656703, 0.5104722127909178, 0.48846369544098456, 0.4694032738339229, 0.5666150601593338, 0.5766169473581461, 0.5622403846024824, 0.45047955279083807, 0.5329967445753494, 0.5077370784567877, 0.4479334259488522, 0.5059753201000781, 0.45942183921251245, 0.5129983514452544, 0.47409401772505466, 0.4263449248116966, 0.439487349581402, 0.5138584139515705, 0.4996097660877936, 0.46408058865043356, 0.5036126093365186, 0.5332425348904876, 0.543231097091565, 0.4477014749415578, 0.4346630208283086, 0.4402103629103023, 0.5317592425193968, 0.4644554314883783, 0.5485381330875257, 0.39921420678727104, 0.5140435710190447, 0.46329798210700235, 0.4723401827887128, 0.4849369550398893, 0.43621307436724194, 0.5278712609027725, 0.4689296020896998, 0.49305111905584537, 0.5511175485142834, 0.4893587427693355, 0.5603958150200574, 0.6168794505481722, 0.47059398866007285, 0.4687040643986547, 0.5482864787704145, 0.5072012007162228, 0.49757214790797355, 0.5032320020460967, 0.43327222077799116, 0.5852703269845543, 0.49348139224045745, 0.4201285049488852, 0.4793709160660832, 0.47404212460921613, 0.5045256720962865, 0.5344415155317788, 0.5942819410550122, 0.5822714900625651, 0.4705393394431389, 0.5182111134799828, 0.5034162818426016, 0.4457141386264978, 0.47814208784042983, 0.39826116224373076, 0.5518631729681363, 0.5784510579268941, 0.5077757390175064, 0.48958242107841116, 0.5860038932350792, 0.43926235076929143, 0.49753340638759197, 0.4789797702241443, 0.42380493213785153, 0.5098620853399888, 0.4290995560722786, 0.5334841815543832, 0.42146001522802934, 0.5324744545569917, 0.4838057863046269, 0.4840307053862622, 0.44548414698312633, 0.41124401786755566, 0.5045482632428784, 0.5013223746529429, 0.5655455844773276, 0.4555760404411059, 0.48141919183907583, 0.5442318398504952, 0.616250062474697, 0.5041547175013961, 0.42221113622331796, 0.5658582695075955, 0.4723953232123521, 0.5572901494314457, 0.4769072633379516, 0.4564626791166104, 0.4395162015607485, 0.4448459881056094, 0.5559409625365547, 0.502975610575482, 0.4732408160339033, 0.6383180256861176, 0.5950589939683144, 0.40032020797693685, 0.4506393616002434, 0.5337548077166218, 0.5262672379209874, 0.49563386383078245, 0.4742053981150462, 0.4946123730872879, 0.4971498244116417, 0.5159471647821408, 0.5639363459915308, 0.41717961209063115, 0.5354014963964695, 0.5358024679927657, 0.524309476130226, 0.3973535175798506, 0.526000859208811, 0.48829121594895003, 0.4640524526293972, 0.489417213952717, 0.5182919312247665, 0.4529505151238562, 0.5681565174902691, 0.5338666772108123, 0.5627027098045997, 0.5027868338503564, 0.5039315652576515, 0.5243202076093709, 0.47813685272936274, 0.5361240204781345, 0.41557631456403615, 0.43141945392620773, 0.5322082573567009, 0.42835140098374924, 0.5569294825924853, 0.4772575930134545, 0.5728383753594771, 0.4834633290441238, 0.5725287431900067, 0.6198167525972806, 0.454905845532621, 0.4210777809157986, 0.4569153737494871, 0.478306661667159, 0.5593948049159523, 0.6467742443320963, 0.5351168616297254, 0.4478052666031441, 0.4686371311235991, 0.5016932518036779, 0.5503066934954878, 0.5296597053344256, 0.5069689317893044, 0.4054158016403606, 0.5173408093533283, 0.5076864608199767, 0.5095431053161078, 0.5016803480923004, 0.5144781896330302, 0.47380725644925653, 0.578437716638363, 0.4682838285125934, 0.5726071669215909, 0.5468960090446489, 0.565611626357287, 0.4529471259001313, 0.5067885390388741, 0.5367624417976272, 0.4671664972658723, 0.5493957743254914, 0.5625825815361511, 0.4576184466523744, 0.5295767808386108, 0.6274039117097576, 0.49372161143506543, 0.4385213591259506, 0.5139392557744286, 0.541660393697285, 0.533214390303119, 0.5496335181760533, 0.4307322332158781, 0.535119205933569, 0.42634425928008346, 0.46016522949267463, 0.5013699915427063, 0.4165568200097035, 0.5681033715200757, 0.486495917004134, 0.5315803480799983, 0.49663300196173304, 0.491401776986923, 0.530333412340569, 0.5472803526407459, 0.5020870668611377, 0.5351316015445781, 0.5231912188884174, 0.5001490216511939, 0.4424287054503447, 0.47659272340510833, 0.4597281975991132, 0.5208416086096638, 0.580770439899468, 0.5131830652127897, 0.6133089027711918, 0.47881751675311773, 0.5044870586338257, 0.4445029091724418, 0.5557261788472319, 0.48525678882732715, 0.4947475879271981, 0.4567601892837876, 0.4931417887053867, 0.4678548403969136, 0.4484899407047292, 0.5134200792375472, 0.48369746842854733, 0.5382187815050362, 0.467105429358441, 0.5002140173840629, 0.5414445257235148, 0.45247101420814856, 0.4765193190435182, 0.5082659298471637, 0.48513898281785267, 0.40240224514162204, 0.44330307828202054, 0.5919987037100642, 0.4641623742165732, 0.5541099950797272, 0.39600861130844933, 0.46257112578106757, 0.50976675221393, 0.5787381639480409, 0.45923915516013475, 0.4496086561005983, 0.49613822454083634, 0.5325687780984174, 0.5418549215934189, 0.5541697012889493, 0.48421196300863, 0.5510952586661051, 0.4401251505648518, 0.5883079096978535, 0.5128245792388957, 0.47228510107321126, 0.5404885626969924, 0.5548646308700895, 0.5317748732506486, 0.5764341786210901, 0.5398941370745037, 0.4064104437164311, 0.3980047414528972, 0.48010203974187726, 0.44220954405545215, 0.5542491124421032, 0.5084346265542651, 0.5559059521869019, 0.48466510934555435, 0.5048681190942368, 0.5625626458832552, 0.5285277190030909, 0.5368365337601768, 0.38166302002775404, 0.44292248982023025, 0.47661747969969365, 0.4954213481035138, 0.4737326342901865, 0.5633964160679459, 0.5723599341089807, 0.5022911334580189, 0.35527254303002004, 0.44312187289793414, 0.4443420232782752, 0.5185373340416441, 0.5548287889135943, 0.6042496849294354, 0.3854316474151436, 0.4492104822712497], \"type\": \"histogram\", \"orientation\": \"v\"}, {\"opacity\": 0.8, \"name\": \"FD-FE\", \"histnorm\": \"percent\", \"histfunc\": \"count\", \"marker\": {\"color\": \"rgba(55, 128, 191, 1.0)\", \"line\": {\"color\": \"#4D5663\", \"width\": 1.3}}, \"x\": [0.5581195935665944, 0.4401763567602953, 0.5134927939015349, 0.47959187190355057, 0.5327594579173152, 0.5400513233103987, 0.43441117622027786, 0.4567856619024122, 0.47311558310786883, 0.5477002895084837, 0.5522093170096297, 0.5440606166157005, 0.5631507953154672, 0.4674158734690912, 0.5232992038756998, 0.5502071646297835, 0.5041249819712901, 0.4833375733910409, 0.46993121680046374, 0.5447577684868814, 0.5259970404039467, 0.6187574686875821, 0.5225471171569336, 0.5456395572853024, 0.4358176188239976, 0.5306158762226103, 0.5386283691215303, 0.4855528146346424, 0.4403546279885152, 0.47176707614535, 0.46449154972488316, 0.516287464535891, 0.5223728938539449, 0.4802090023833706, 0.5316009171362112, 0.4919276274715213, 0.5315375317806219, 0.4416293457996442, 0.5653838632571269, 0.5744870980503504, 0.5230182660258267, 0.5560702924599592, 0.5191769038348912, 0.5056727038817022, 0.5486313942601981, 0.46075966400345236, 0.4562155338388102, 0.44174991534746794, 0.47674371457475473, 0.4561064274264769, 0.49077706630617635, 0.4720243875381839, 0.5258737482035507, 0.4884364096566223, 0.5360643650000192, 0.4901692244457816, 0.5657788840393533, 0.49982014518003093, 0.4948928279187063, 0.4356882705939331, 0.41891845266129846, 0.5128295698479098, 0.4349332438483001, 0.5574070911816807, 0.47644097460179, 0.4302503964699623, 0.49353269940411076, 0.501551346648698, 0.5863922008395442, 0.48294078582836386, 0.4504522707666475, 0.41852688611116007, 0.5045339022359681, 0.49755696881354927, 0.4902654695567013, 0.5221912068799548, 0.576608974791136, 0.4914116342361432, 0.47454151807009576, 0.5741131355501952, 0.48661115559772167, 0.4756373817411309, 0.461376558736826, 0.47956779584147047, 0.47273306094074524, 0.47261202086028176, 0.4880198326179124, 0.5413073258209182, 0.47527151384820904, 0.5159748854196129, 0.5544951615540941, 0.46640568933192195, 0.5489707067374674, 0.5245807590732674, 0.47475802682489154, 0.4890350784004683, 0.41274435233097206, 0.4671002419218386, 0.5804682607649816, 0.4980364472097125, 0.5206010236163926, 0.5403641357406828, 0.5611868962119277, 0.5439000256089075, 0.5108593661978726, 0.46764041094131537, 0.48974351928776516, 0.492508170235162, 0.45053578687943885, 0.52093664260683, 0.5162111342392272, 0.5696083509028095, 0.5246042016671538, 0.48844906418488043, 0.4288903120850466, 0.47697613165986186, 0.528304160744349, 0.5136787548138018, 0.5447553968554493, 0.5168992555587391, 0.420233154301498, 0.5667626777823069, 0.5310472097630966, 0.5233528198025359, 0.5365473601528918, 0.5309502421484413, 0.47751198887245955, 0.5178947261813132, 0.5617541139736527, 0.5028381902759892, 0.4569354806328165, 0.5137579039638527, 0.5115129891810719, 0.5339514099388788, 0.4589134475771065, 0.48015131317431475, 0.45871581636745323, 0.5071745205228145, 0.4943297850872088, 0.517715857167326, 0.5189116072994823, 0.4795637424020368, 0.4736785745261656, 0.5029015635181433, 0.5044235604236772, 0.5265177578491472, 0.4840774602956388, 0.46946754412256786, 0.48208654115609795, 0.5594296597094242, 0.5809803522163566, 0.5371592427876302, 0.5544767186183595, 0.500586325173067, 0.5207009012162851, 0.4866811580309656, 0.5384001724938081, 0.45958014705168193, 0.5081250084137886, 0.5010994718376538, 0.5046584410279813, 0.5652904757077204, 0.40948750764073905, 0.5013955796782883, 0.5621344731561435, 0.5111571043230589, 0.5175530191124931, 0.5232059062993684, 0.47854260922555875, 0.5018474892009062, 0.5548341895821209, 0.49224208145508097, 0.5381509790257083, 0.538381902639039, 0.4827375920581679, 0.5123715605844434, 0.40212975140854545, 0.5004026053895767, 0.5107469350289008, 0.5434304166080111, 0.5589605672423923, 0.5022128767602827, 0.4831090810180814, 0.4774781574173631, 0.4874873927318782, 0.5557400709490588, 0.4660211927207991, 0.5118758327304659, 0.47971112555526146, 0.4659711358841754, 0.4727009112533594, 0.42121033747356995, 0.514341642912209, 0.5283222499367877, 0.5462886446067278, 0.5864096269958403, 0.44523231409480735, 0.5216576011828308, 0.43418465413790275, 0.5620474953610352, 0.5565110813906707, 0.5365836724747219, 0.5453568045774184, 0.4374354563151851, 0.4833157002573653, 0.49987388149699585, 0.4509080303244256, 0.5988622978906548, 0.455856735455186, 0.4666133240698429, 0.5249373371969615, 0.5353184118334628, 0.5116824446595977, 0.5318291468333, 0.5038964915169537, 0.4852910327336256, 0.4944942317094046, 0.45277666006281203, 0.5539018323700746, 0.4944946856419444, 0.41660381627609827, 0.46095376949454575, 0.6065013188542427, 0.5449178658419569, 0.45612019917619434, 0.5407031458005813, 0.48542274644855155, 0.5235633309675924, 0.47462970258603154, 0.5868418660867623, 0.5151238194212764, 0.5983710864468706, 0.5042782118491688, 0.4584505795251157, 0.5003158198650344, 0.5403559023079185, 0.534849859616936, 0.4856413742277213, 0.5647821379158606, 0.5039065852081177, 0.5400754926362189, 0.4824235137596259, 0.40194851977920654, 0.5230270474250694, 0.5494595617754037, 0.4913110413660995, 0.6453822438133854, 0.5331110661150694, 0.508721034325115, 0.507935639228509, 0.5340199470339476, 0.4942260572362252, 0.4330743441894782, 0.5180286115319223, 0.5468649533260208, 0.5216345128340516, 0.5229423213737312, 0.5717121126351895, 0.5429419608556958, 0.46301482677720385, 0.5818069748620183, 0.4917074989340959, 0.5143406920019967, 0.5592942573829478, 0.484287298283794, 0.49298948117783037, 0.502667817465013, 0.5209926685740104, 0.5121669797628011, 0.47692538827864184, 0.4490116476587403, 0.5155503272408388, 0.5252630707987413, 0.4884051428790034, 0.4593083439134691, 0.5036754669632844, 0.5213240670651829, 0.43338246448859075, 0.41466190754035215, 0.5392601099723457, 0.4432406443809638, 0.4807222930109133, 0.4727995691038514, 0.5217368526398448, 0.4869758521565186, 0.5588065678571876, 0.46924548036560654, 0.5433777824686374, 0.5374362977034981, 0.5097756346040714, 0.47544768383906305, 0.5085085805441785, 0.4630778356408771, 0.528867691479532, 0.48976616422773817, 0.47912156828342556, 0.5797449778503169, 0.5309808027901524, 0.5023977141602016, 0.49215643895549754, 0.489561348058177, 0.5184066833184546, 0.4338461556645642, 0.5085555856206665, 0.4709920518982541, 0.5172620726793404, 0.5009621802399764, 0.48552183113966485, 0.4737898315338477, 0.43879858925893717, 0.46923045205491204, 0.4834348877186366, 0.5022679006144962, 0.44719037521434246, 0.48425369638577725, 0.4112477866950038, 0.42438503955516055, 0.5061876489741531, 0.49006402193136284, 0.5582798932102797, 0.468595676212384, 0.48432749995989377, 0.515294331951435, 0.5115059668166748, 0.43755571779901226, 0.49430286334451934, 0.5115811350266051, 0.5056683741819381, 0.49802111222530726, 0.4924693481283217, 0.5764373109973661, 0.45914628041916417, 0.4982143684263938, 0.4281226601135665, 0.5522522464689557, 0.5508348737030899, 0.55466670823673, 0.46272129368845427, 0.45320609076453555, 0.5140125446986299, 0.5085346323522255, 0.4605108791548472, 0.4908810232946377, 0.4840925301936553, 0.4999187993817158, 0.44598040652325044, 0.5445889640245418, 0.5117092633543434, 0.5368877441509888, 0.3756979792001887, 0.4676738417939641, 0.5017184063733282, 0.46995857723562146, 0.45977755755519567, 0.5165752545435395, 0.5298887279208768, 0.5545723133157099, 0.4872582810712233, 0.5105616720634936, 0.534621941541543, 0.5270268148123513, 0.5703244104557524, 0.5107687913197949, 0.4828448978989492, 0.5387535707621564, 0.5049142766252004, 0.4904094711824294, 0.4233953911309056, 0.4509864273379669, 0.49330461752689125, 0.5265322950957777, 0.5209067155706039, 0.46709898341056333, 0.499678124628526, 0.5455777286351962, 0.547298222421984, 0.5027013198152478, 0.47653544966419403, 0.5330800346182667, 0.5097486961966812, 0.5022636468021039, 0.5399486411421613, 0.4859417852100467, 0.4184023716926061, 0.5240136155347894, 0.46716622565886085, 0.47564204940967425, 0.4102597276444938, 0.4360713384864723, 0.44791969011483646, 0.5459121571214174, 0.5287129468680396, 0.4951391293475783, 0.44564326843374047, 0.4775760027796647, 0.41120737138422636, 0.5691095560175016, 0.5580433345372355, 0.5796628570127474, 0.5388714029319615, 0.5242988708495395, 0.4642109586464561, 0.4410126374175129, 0.46241240495236635, 0.48344328150889637, 0.6141268118490694, 0.42733899426966127, 0.4627043143636287, 0.5144561600898188, 0.407910450914989, 0.5096139646207747, 0.5160076918987169, 0.45030706604629706, 0.500741955006562, 0.5196453224021008, 0.5177355731450667, 0.5565462178136877, 0.5126410209454231, 0.5706504933743658, 0.48608877615447965, 0.4275539036528746, 0.4671277388986743, 0.4507713931279178, 0.49877289983595563, 0.5268022870573866, 0.5380077541687222, 0.6100730487987917, 0.5010668830776919, 0.5877498128111381, 0.5103922520804373, 0.4984274266096149, 0.4715920958724281, 0.5192829130424716, 0.5161958540559294, 0.5312911968619791, 0.5461326619592869, 0.46531617428585903, 0.4766282911583398, 0.4225323783735016, 0.5089293557288769, 0.44853273115950465, 0.5122176212710813, 0.4966844089750726, 0.4821770717162895, 0.5389789218737708, 0.511559179897552, 0.5324648799501497, 0.519004294607188, 0.4942772353663187, 0.5112662779205663, 0.5062744575112305, 0.56258329636031, 0.4358611851908143, 0.43193134296170843, 0.4295639725417365, 0.5133146730913843, 0.4172193233503396, 0.5086412540504441, 0.4697971347615346, 0.5672053738256999, 0.5313541772145833, 0.5200385405061889, 0.49205920864770336, 0.5726868146334323, 0.4683269177892513, 0.47880063531839767, 0.5573720027974995, 0.576622179768003, 0.5019499686344993, 0.621622682529909, 0.5929292283698966, 0.4306215323765112, 0.5252676907546324, 0.5141718695442663, 0.5545085755789583, 0.4112705303347566, 0.4488849243643231, 0.5178996015820978, 0.5594618061264853, 0.4947131270351247, 0.45599855391045097, 0.4779718506427489, 0.5292254943987883, 0.4646026122287325, 0.43536528279324804, 0.5200264881327333, 0.4278066783775649, 0.5158390492907906, 0.5249702185031647, 0.42360304171757646, 0.5404229321999887, 0.4984756051787073, 0.4791895564301478, 0.5342462496016958, 0.4991264125732362, 0.507577788596101, 0.4877385075821148, 0.5193947545295001, 0.511013657011562, 0.4149386415482451, 0.5038557057421835, 0.45323799732684966, 0.5177471266781997, 0.5190142886816853, 0.5726960745970477, 0.5052194897107767, 0.4081152076830038, 0.5548736487778588, 0.5212714642276786, 0.4977053982338383, 0.36672743401002483, 0.4861489422393131, 0.47394397486624185, 0.5384086027137484, 0.5531548142669505, 0.4754048698202955, 0.48337491098790913, 0.5279952338633089, 0.4873364528836097, 0.4797401008771446, 0.4529324530759231, 0.4516319995311884, 0.5088562655574393, 0.4427073137692724, 0.42826110502365267, 0.5607011464186871, 0.4331100553730889, 0.4645536531341563, 0.43960557478593243, 0.46255292743880994, 0.5000386071978762, 0.5244057056622764, 0.472751809679949, 0.5741213871363903, 0.5943247503257627, 0.558750256148546, 0.48971321121979156, 0.4475971935472403, 0.4923820765475389, 0.5123753549325235, 0.4525577013924702, 0.5563801917344305, 0.463757337196656, 0.5523911215545294, 0.4913607690286845, 0.47846637397461, 0.48849259002266454, 0.5037038320530176, 0.48995285228706786, 0.5693747333069511, 0.4827141196897391, 0.4700076391120196, 0.4617055884755863, 0.5044116104198686, 0.5007042334740925, 0.4692607795948092, 0.5321926089626539, 0.47291071464593215, 0.4864271295100131, 0.477999070660437, 0.44996182750530744, 0.5693079481853114, 0.5059554631554032, 0.4978636736213241, 0.5224705819197976, 0.48000561103160877, 0.5594081626305782, 0.6232739101246686, 0.3917066619551214, 0.5209259528639563, 0.532928238954474, 0.49799969063174526, 0.5330892189259946, 0.5820964778059707, 0.5750907050565012, 0.5577432052811555, 0.4344141139134043, 0.56851603213365, 0.508167453959314, 0.5302445879932813, 0.49866489192634156, 0.42971657040850914, 0.45538396406059467, 0.48343751921129574, 0.5108126352046157, 0.59869168228457, 0.545789937812539, 0.48452188399449375, 0.5600201875361279, 0.5627437257213812, 0.44267363848109376, 0.5185500526031511, 0.494964853844781, 0.4516223220883375, 0.5071960519097213, 0.527317335531478, 0.504046261288841, 0.5407780547322595, 0.5123350528724359, 0.5293137212408994, 0.48236925652236146, 0.5292273990142415, 0.5055041979522921, 0.4989704078225649, 0.4461178203041961, 0.449475049677847, 0.4998925527715573, 0.4558984087161828, 0.4488691307473335, 0.4451468997452456, 0.5300984062736634, 0.519012095055234, 0.5386789813964823, 0.47085083840077324, 0.4933786183569857, 0.5133211628094523, 0.5107974491218414, 0.4849854946556487, 0.5773611977927431, 0.49690579269671936, 0.5245787715896804, 0.45920330556833366, 0.5901885394497672, 0.422350653197498, 0.4758027716744946, 0.5108647230058059, 0.5016248063132805, 0.4790304325977145, 0.5327352020415971, 0.4955848876396881, 0.44466814649991065, 0.48282396461424715, 0.5044455602428528, 0.5203867024531144, 0.4768747568430186, 0.4505369567215635, 0.4671524178715337, 0.503016892059363, 0.5639428043928969, 0.4744794228172675, 0.5426097574804452, 0.4313281802423323, 0.5510217434749637, 0.5878480311042266, 0.4283483477215552, 0.4889548550025748, 0.4874641755781071, 0.45610601577804655, 0.5768726931745717, 0.4910709544789795, 0.41715859920712084, 0.46773704059807875, 0.5013991597974814, 0.5057828462442975, 0.5358506067968392, 0.5242233642795937, 0.4573673611818869, 0.484391247101749, 0.5074483735598991, 0.5073349705245537, 0.5277277399393826, 0.5227381042001095, 0.4408511224787973, 0.42173450562227593, 0.49546572528421484, 0.5210886401986459, 0.49723681033176087, 0.46232085260576106, 0.4342510591817581, 0.5071297611981488, 0.52496162621346, 0.5249157210683522, 0.43286319654842453, 0.48711399434053815, 0.5156909686972583, 0.5083240695405788, 0.4647517975866705, 0.514013142956699, 0.5996116994120435, 0.5174799811668294, 0.5234666701497612, 0.462166341337405, 0.4671679590707909, 0.46450618556875556, 0.47923208291215436, 0.4195237122243433, 0.48554789693614464, 0.6039926833892099, 0.5057769576737771, 0.49585265551142615, 0.4074662128453235, 0.5338124823927737, 0.4647883628649304, 0.536333797010959, 0.5097889513286517, 0.5180901596985079, 0.529080526143181, 0.4787835358679833, 0.48386263238491656, 0.521975940134569, 0.3901767949838858, 0.4764103123243413, 0.5533173156450467, 0.4512656898512363, 0.4983137795210975, 0.4293874985670678, 0.5676859844439273, 0.5205752103946084, 0.5095702592810016, 0.46358671969912985, 0.48933933309018085, 0.5511773450057078, 0.5412067121405959, 0.49272036141762043, 0.5182799720301331, 0.49636603249761424, 0.4455582682140713, 0.5000847523119214, 0.5168984091673012, 0.5179426545053643, 0.42593796969054454, 0.5159233270505298, 0.4895154640337961, 0.4716941507178719, 0.5369667415925401, 0.5596595271124742, 0.5706769291238154, 0.48584749917466097, 0.5295505988905826, 0.4986184525285415, 0.4849571423118246, 0.510402078858344, 0.46494816836682223, 0.487234332140832, 0.47586579365257775, 0.4372380060693583, 0.45617772314376925, 0.49972917875759765, 0.495212374347269, 0.4453333887121617, 0.5275144966110933, 0.5482989739857472, 0.5258678179435958, 0.4782667424685648, 0.4422144067464493, 0.44337085019133665, 0.5172099807946974, 0.4635032719439501, 0.5473311250869741, 0.43523191529410543, 0.5042220328095809, 0.4700094101893076, 0.4877375718103367, 0.48699755783183396, 0.461856189110974, 0.49896581792828165, 0.47948321046792686, 0.5150615470660802, 0.5548772780391565, 0.5145528573378002, 0.5500782722996049, 0.5674744731030327, 0.4824579388174336, 0.48196959559318264, 0.5419610653726854, 0.5176680800247699, 0.48683994260697483, 0.49219864245833433, 0.45402898203968145, 0.570930010586465, 0.5006505209639917, 0.4165702637238198, 0.48145978830766717, 0.484578514621447, 0.5075500096572731, 0.5254356081005297, 0.594293430068396, 0.5554043997544853, 0.46844803595315715, 0.5051087218271673, 0.5016864106807181, 0.44841897895549504, 0.49026955525885785, 0.41939618580420135, 0.5303918683714814, 0.5870777101502501, 0.47994254595105956, 0.4459821665773208, 0.56956682645033, 0.4661151235154516, 0.511563508242079, 0.48137564841231817, 0.4443727618956019, 0.5258849032109084, 0.41820944339292093, 0.515655295989275, 0.43959848021272774, 0.5132397886277007, 0.4661127832606177, 0.4769123150819844, 0.4693770601295091, 0.4121145642114308, 0.4859350338461356, 0.49290288903028334, 0.5419145328320797, 0.45961438287715584, 0.4656591631771106, 0.5600425322754294, 0.5834300094300273, 0.5013658808266064, 0.4227121864673543, 0.5518469752557991, 0.5002490278963907, 0.5344079372942003, 0.47304994366088654, 0.4728254974081089, 0.4508915393048647, 0.4533087750642927, 0.5468417590744374, 0.4980529585118608, 0.47596852404472134, 0.6463945932031029, 0.5712111376537122, 0.4265347591042441, 0.45159201873393706, 0.5418592386853951, 0.5248345495007541, 0.4906392466840052, 0.480610839065074, 0.4913818400072736, 0.48971166864609816, 0.5060744596471263, 0.5445834374219176, 0.44325387951312767, 0.5293218937253314, 0.5208690085398467, 0.5004335309156748, 0.41426457355785606, 0.5276398741324795, 0.44967293945564646, 0.5139772860691694, 0.5088522003737477, 0.5162609047158317, 0.44602659930239164, 0.5528164766120885, 0.5492907622025838, 0.5403543744373045, 0.5262461445998079, 0.49843201377467106, 0.5225905979093102, 0.47980429358079435, 0.525570819986779, 0.4219574396268193, 0.4546384721369474, 0.5215865976032956, 0.4456863535773064, 0.5657544933600964, 0.4761591417822303, 0.5261831324837336, 0.4868737146313157, 0.5743238286445941, 0.6048534827828318, 0.46453355631343757, 0.45068247262825306, 0.4786829519744088, 0.4855363349018513, 0.5568898504301032, 0.624012677665561, 0.49178252556974417, 0.4409874698177493, 0.478556160389188, 0.508627787209464, 0.5415964524475718, 0.5464056099361717, 0.4837081732267227, 0.41658865968866465, 0.5051469503813448, 0.48756608726533013, 0.5030014479814601, 0.49788564484246134, 0.5014318198751084, 0.4766140174882319, 0.558134997554708, 0.47003032636798125, 0.5305365575072958, 0.5473494366894731, 0.576692143539651, 0.4626278426121464, 0.50775056996394, 0.5213953377143591, 0.4799750390902848, 0.5427010207162872, 0.5634763273255256, 0.47736612689706104, 0.5283822202530599, 0.6070527652599792, 0.5032873817262038, 0.4347598767396316, 0.5318040905355588, 0.5249229155478883, 0.5183506087962514, 0.5610511690720814, 0.4025886986509935, 0.5298323041908015, 0.4525589875041025, 0.4687830624856947, 0.48898654979499256, 0.45490239839388785, 0.5481735022095309, 0.4881891809949286, 0.5058022698830125, 0.4848323173722435, 0.48994328333490433, 0.5228353550271128, 0.5353184593445053, 0.49651773303681235, 0.49233375088628345, 0.5159627479106373, 0.5026113472911435, 0.4525964732606177, 0.48424384428783984, 0.4569121958214103, 0.5197012273258237, 0.5625669458795601, 0.5115707849844677, 0.6012864849290142, 0.4794013995043644, 0.47074666520745634, 0.4482675305763388, 0.5402481310642014, 0.5066606275623545, 0.49127817248042116, 0.47001889725665835, 0.5184362025683814, 0.4631632862794657, 0.46820803318121074, 0.5050139358383816, 0.48340871209935393, 0.5359906955192011, 0.45545673881810417, 0.5081117784478155, 0.5227999730654274, 0.4546853919286705, 0.4798078361207212, 0.5120913970153277, 0.5058114870319057, 0.4230822023757238, 0.44869919098251565, 0.5470647816600733, 0.47749246747078916, 0.5569577557668978, 0.39006379175423245, 0.4713872733379178, 0.519410477492023, 0.5967994731339563, 0.4842761441585508, 0.4896438799930629, 0.5163270576340182, 0.5325897575830677, 0.5502604951923352, 0.5175719784063914, 0.4891297796175017, 0.5540909115528766, 0.4722188078905191, 0.5571709383845944, 0.5031418047871754, 0.46582608489910193, 0.5218942944643603, 0.5490399963575113, 0.5221587390502134, 0.5706710748824232, 0.5399703679525527, 0.4234631597343725, 0.40459622887473756, 0.5003172989180678, 0.4421546232387187, 0.54398416045136, 0.5080968063120843, 0.5508911208449063, 0.5049152742795665, 0.49545927122424727, 0.5568786420471212, 0.4964041240845489, 0.5356478181248487, 0.3840789027755977, 0.4447818003946726, 0.47552953786444785, 0.4821865197729249, 0.4763713245170897, 0.5519223587820106, 0.5480515186011704, 0.4912858552990018, 0.39514981721051734, 0.43972562788271885, 0.48072624420159576, 0.48279634331553173, 0.5702533673519112, 0.570462185965172, 0.4155093184589832, 0.488982670710823], \"type\": \"histogram\", \"orientation\": \"v\"}], {\"title\": \"Overlay-Histogram for RT mix and pure, true beta = 0.5\", \"paper_bgcolor\": \"#F5F6F9\", \"plot_bgcolor\": \"#F5F6F9\", \"xaxis1\": {\"tickfont\": {\"color\": \"#4D5663\"}, \"title\": \"\", \"showgrid\": true, \"zerolinecolor\": \"#E1E5ED\", \"gridcolor\": \"#E1E5ED\", \"titlefont\": {\"color\": \"#4D5663\"}}, \"height\": 587, \"yaxis1\": {\"tickfont\": {\"color\": \"#4D5663\"}, \"title\": \"\", \"showgrid\": true, \"zerolinecolor\": \"#E1E5ED\", \"gridcolor\": \"#E1E5ED\", \"titlefont\": {\"color\": \"#4D5663\"}}, \"width\": 1116, \"titlefont\": {\"color\": \"#4D5663\"}, \"barmode\": \"overlay\", \"legend\": {\"bgcolor\": \"#F5F6F9\", \"font\": {\"color\": \"#4D5663\"}}}, {\"linkText\": \"Export to plot.ly\", \"showLink\": true})</script>"
      ],
      "text/plain": [
       "<IPython.core.display.HTML object>"
      ]
     },
     "metadata": {},
     "output_type": "display_data"
    },
    {
     "data": {
      "text/html": [
       "<div id=\"f88fd3cc-5aec-4f43-a29c-3eb5d005eb02\" style=\"height: 587; width: 1116px;\" class=\"plotly-graph-div\"></div><script type=\"text/javascript\">window.PLOTLYENV=window.PLOTLYENV || {};window.PLOTLYENV.BASE_URL=\"https://plot.ly\";Plotly.newPlot(\"f88fd3cc-5aec-4f43-a29c-3eb5d005eb02\", [{\"opacity\": 0.8, \"name\": \"FD-FD\", \"histnorm\": \"percent\", \"histfunc\": \"count\", \"marker\": {\"color\": \"rgba(255, 153, 51, 1.0)\", \"line\": {\"color\": \"#4D5663\", \"width\": 1.3}}, \"x\": [2.000573374417863, 2.1062999965253995, 2.031857971322208, 2.0449697003945397, 2.044037529802729, 1.9688134266170452, 1.9803758557144295, 2.044043022312943, 1.9366701092901017, 1.9548484620789197, 1.9682785373169436, 1.9431206994477754, 1.9690125160853829, 1.9924690938794967, 2.0074025929343047, 2.0356175535473993, 2.050808965648195, 1.9514315681346641, 2.0548055783644426, 1.915912253141057, 2.0441843685854835, 1.9477528161129203, 1.903167991987674, 1.892317615203249, 1.9185540469950557, 2.016662943061763, 1.9391727113559742, 1.9308187085746495, 2.097373512318782, 1.9047840127350408, 1.9776450534801202, 2.0697008198644875, 1.9476078018380591, 1.9240085651383507, 2.0229136005880455, 1.9894823227339868, 1.8818507277293943, 2.0313979148053254, 1.9468867822184284, 1.992408639982616, 1.933166702813473, 2.078766007271172, 1.9799686104347913, 2.0015835516039253, 2.0315347409434876, 1.9066298364488423, 2.025265006682954, 1.9608846672248998, 2.065434723424204, 1.9316392372711013, 2.028995027301788, 1.9880852689938846, 2.0348161971838916, 2.017713247394661, 1.9573950137930252, 1.977842364697774, 1.9930545276971625, 1.9812379268553766, 2.0369193247623825, 2.0417030713940383, 1.907307027473475, 2.029732720689577, 1.9964762708901298, 2.020524704082759, 1.9704411405783164, 2.0596723406216952, 2.04873742534569, 1.9662102752353738, 2.0080853638535983, 2.0436465912891126, 1.9683405791604978, 1.9592174816799108, 1.9925142556944813, 2.025620289607407, 2.036704281141816, 2.0997524742988096, 2.044531730024326, 1.9511436008469536, 2.050553991964604, 1.9100639217656052, 2.0109588601451733, 1.9680655443748756, 1.8850768403154834, 2.0125558830790444, 1.9905800509245566, 2.0417225389438816, 2.018450919704573, 1.997474801421994, 2.09883510142953, 2.0825431906468026, 1.9875914610896062, 2.0209093661058004, 2.0255057539787513, 1.9586624796807206, 2.018958272154054, 2.062879443869684, 1.9452517085078533, 2.028212215267849, 2.064385255119084, 2.050160223636194, 2.0093272533141753, 2.016418110337543, 1.9757370791528848, 1.9564777200652994, 1.9622252118350425, 2.039173441599922, 2.0095390330252973, 1.957911074769616, 2.006851699701922, 1.997533902610376, 1.996118317907356, 1.9441744601180444, 2.019331089945341, 1.9777292153551833, 1.969407057832206, 1.9779979633614662, 2.030059739017429, 2.0478794943226934, 2.0164524496397305, 1.9912745123460887, 2.04770632329572, 1.9625380345713794, 1.9448381870067188, 1.9688722777405632, 1.9406750313341479, 2.0411801014739472, 2.0364549355894646, 2.068589949190967, 2.030132513235225, 1.9461501767378224, 2.031877760078454, 1.9297045986178194, 1.9105453823620329, 1.9629546849821655, 2.0126762955501536, 1.9733348563843467, 2.048652812701297, 2.065559302736287, 2.0185406919786795, 1.9568773254926046, 2.0795614179659125, 1.9649404805458741, 1.9703731708515315, 2.0175559528210414, 1.9751884366210504, 2.009730206365175, 2.030056344944625, 1.9615221598048644, 2.0083230915149737, 2.0443201656964316, 2.0700591606451684, 1.970945833795172, 2.0522147130372224, 2.0107718950618114, 1.932649690958696, 2.001689088921016, 2.0139721895920237, 1.9350013783821658, 2.0139036825043877, 2.0319949008874163, 2.0792870874529132, 1.9495708770322089, 2.0363395089935903, 1.9816973874168242, 2.0431993912192534, 2.0447899714650353, 2.0132294390347454, 2.0980910409855786, 1.9398438430150107, 1.9461973077583472, 1.957736558538695, 2.0051573930956677, 2.037552080562634, 2.016328800949736, 2.055783879560982, 2.0209904807014705, 1.9412401090622804, 2.033649545100876, 1.9229617773678476, 2.0726496635521103, 2.010471381066279, 1.9506128696052087, 1.9612047799495742, 1.9979201640739794, 1.9758061724966005, 1.9721727817775307, 1.9513380280291188, 2.00698182550796, 1.9589534203022205, 2.029610406155911, 2.0033713451947412, 2.0059001857781036, 2.0486566374383894, 1.9386205886735177, 2.0449800883700977, 2.0513182868269926, 2.0027730029138007, 1.9840523355477313, 1.9582119987079885, 2.0507222419904334, 2.0153073703614233, 2.003561092739815, 2.1034081352120433, 2.0024460796940637, 2.0570573397070007, 2.05118246183627, 1.9872105241421227, 2.000731615410764, 2.033512500059566, 1.9074022937726003, 1.920836962305446, 1.9660998003626955, 2.0497086424263236, 2.0263578353390774, 2.04826485638041, 1.9538014970212638, 1.9905042289962729, 1.9546598957300834, 2.0238470356610274, 2.0610395572576716, 2.05585046528131, 1.874314153617905, 2.026114136281565, 2.047019794527847, 1.9677116845671858, 2.0448945368442426, 1.9431526590762798, 1.9495720826514202, 1.9569039073169956, 1.9332718220302605, 2.057906279679144, 2.0908909553646877, 2.119515195059628, 1.9895774387999627, 1.9786658804740682, 1.9863655329547978, 1.944761383154588, 2.025149618176782, 2.0618604614688323, 2.0121714597560687, 2.0314112584130273, 1.9457326065660179, 2.010395487550619, 1.9725168611651513, 1.9956094582241062, 1.9512753598488883, 1.9462398048433194, 2.0305013723899332, 2.037359885810718, 1.9553037539019011, 2.009563474350097, 1.9516572437055415, 1.9590089425552266, 2.030721060075342, 1.9205293578105094, 2.013327385752078, 1.9888978444716217, 2.0537904850073714, 2.0607138595415773, 2.0549737966464248, 2.1232025364189786, 2.002108818558917, 1.9099259188830413, 2.054024291282056, 2.0841893194906254, 2.0379463057144807, 2.060823008998385, 2.0514463860443106, 1.91646485194957, 2.025669757339758, 1.972353392865806, 2.0891728771451636, 2.004688627343147, 1.9581024190371905, 2.024733242419132, 2.055225582206755, 1.9423710507741265, 2.033544772144, 1.9064390507845932, 2.0452150280615595, 1.9790750675870363, 1.974779303954179, 2.003122725109709, 2.0271048118379102, 1.9804699194560942, 2.0046779207609426, 2.0397889979159003, 1.99565789484574, 2.054380074860881, 1.9197058177048314, 2.0263769829743183, 1.9910358308506888, 2.014004692555452, 1.9700482073921752, 2.0795356797778926, 1.9549784476873682, 2.0157379037617345, 1.9915631477173554, 2.0538606597393896, 2.0274984718552393, 1.9812918002508928, 1.9920273309368817, 1.9464020149993466, 1.913255104827101, 1.9441132114762083, 1.9411881294965145, 2.071907780834871, 2.0420703754487914, 2.0293840945562986, 2.083684051937352, 1.9396116068235407, 1.9589947824498912, 2.003521768782945, 1.968540658591683, 1.952996289156579, 2.0159196125641814, 2.0661400839971966, 1.9630484513832787, 2.04082195874864, 2.0198355550507925, 2.0287757587527153, 2.0990554815484517, 2.011173830293242, 2.0606294664138574, 2.0097188926698135, 1.9710516392218702, 2.0361929786653956, 2.024607893855243, 1.920612813385255, 1.9293796743006126, 1.8644730100765043, 2.0123748601747526, 2.0439612220654304, 1.9635354764789488, 1.977494068402469, 2.03295000059339, 1.9691057382036181, 1.9730056516919419, 1.96970053841746, 2.0930745447965364, 1.9015150247634738, 1.9764049070536118, 2.101505708995005, 1.97429715608085, 2.006844840914591, 2.0284442752069984, 1.985076591560242, 2.061579898783886, 1.9480325307683146, 2.0893703685421556, 2.0464069724923326, 2.035645900582176, 2.0312072716094827, 1.9659433911229205, 1.9871399565662577, 2.033242407476445, 1.8947640685778784, 1.9745740757221302, 1.9966975727940717, 2.1069340806148316, 1.9404489594711485, 2.0001974633252457, 2.0681597596337418, 1.9387875200493232, 1.9518661877707335, 1.9289358468361995, 2.0062843587148422, 2.067518840789937, 2.039056029533123, 1.9520107158954842, 2.0655698126432007, 1.9222322823688422, 1.9819454989279772, 2.0462912861559093, 1.9775368760084338, 2.0279545141493376, 1.9401091311174175, 2.0620721882517006, 1.998863923943413, 1.969629030990359, 2.0160784823702294, 2.030893034726802, 2.0004857392200286, 2.0326451803856784, 2.0426443823531386, 2.0086412286949873, 2.0618003392035424, 1.9277723467838963, 2.022511129725614, 1.948707093344241, 2.06346640831127, 1.9913814667992535, 1.953743869881067, 2.050372760882636, 1.9668408216878013, 2.0265612080161484, 2.057615176932689, 2.0015513792753215, 2.0629092300262517, 1.9321039351709417, 2.0576280847666464, 1.972135501746499, 1.9600357188808244, 1.9375379321476571, 2.0304020736413464, 1.9529478504452311, 1.955024432059846, 2.0970845190396123, 1.8804710129781994, 1.9606438888118738, 1.992831707224599, 2.1294877470211615, 1.9558831664445273, 2.0253455844180985, 1.9447869280794434, 1.9402185105393848, 2.01990114872154, 1.99253182542112, 1.9688043385538143, 2.022674264733281, 1.996142578260783, 2.0418449485193837, 2.023045269269235, 1.9571495255338767, 1.9376972841510762, 1.9637327693499207, 2.000010567705678, 2.00341575201759, 1.974717844052779, 2.0741818738255526, 1.9758418134979396, 1.9937004899941884, 1.9279421663449092, 2.026670269608863, 1.951992662183666, 2.126300468906769, 1.9442234949038197, 1.9862991569282529, 1.9527622887167069, 1.9694987512259297, 2.008698989725168, 2.16937052911282, 2.006012332810833, 2.1037892725454954, 1.9376637936231886, 1.945239644986351, 2.0299149641523986, 1.9822981155707124, 2.02648092874976, 2.0161983775555736, 1.906576105908407, 1.926501448019137, 1.9263030638729521, 1.9565064654322508, 2.033454971576157, 1.9516210567686632, 2.021696252944855, 1.972764161124381, 1.841562429643506, 2.00171353859571, 2.050879588582145, 2.017857923629557, 1.9097139748685041, 2.0152954748514453, 2.0179106072107906, 2.010807511468757, 1.9481604112460764, 2.0141639889236123, 2.0159534316586396, 1.9532527629176728, 1.9721662034862222, 2.001913431048396, 2.0442208318801818, 1.998905903029791, 1.8620420307924666, 1.941502802220947, 1.9792150565390774, 2.052228328825602, 2.0145471940084234, 1.9460725746601564, 1.9442284555692328, 1.995879873833771, 2.070310370903319, 1.950707282528896, 1.993771353329079, 1.909480749077801, 2.0176392736604676, 2.05598439628717, 1.9325942661985582, 1.9939875918356311, 2.0602747687546135, 1.9115165143111192, 2.034826628994016, 1.9932400245073958, 2.012337727671642, 1.942495831028448, 1.9481095518147509, 1.9575997339277071, 1.975793665343047, 1.9887453474255525, 2.0030579339478924, 2.1179133344112255, 2.0856648512483815, 2.0384844209033637, 2.005434541063851, 1.972388249856222, 2.0235662510716357, 2.0159656614265327, 2.0508925996890293, 1.992486112319078, 2.056774442947333, 2.0621774918480735, 1.908260671677278, 2.0689923298896367, 1.9379389314626514, 2.035805706715963, 1.9964710102489602, 1.9576055525246716, 1.9698089865924961, 1.998379015381326, 1.940007697578286, 1.959955787268604, 2.0357361599148986, 1.9920462212369567, 1.970024834516439, 1.9358546769468177, 1.9881293376547284, 1.948614731397415, 2.078967768667342, 2.0337943757281143, 1.972960043358498, 1.9402074119521888, 2.03916760416346, 1.9510044477020376, 2.007866545104777, 1.930238803537602, 1.9570224245029708, 1.9150631033801084, 1.9962052049680914, 2.0205435597865327, 1.9785594860218993, 1.9805152007917777, 1.9484389365073016, 1.969772061947542, 2.0397415300491777, 1.9631682240578736, 1.958411528043591, 1.9982712291676616, 2.1137043421434996, 2.015874146193365, 1.9433193598617624, 1.9433289328845602, 2.0932703514368054, 2.087934962695426, 1.9744639915822664, 2.010225339693437, 2.0518184074370027, 2.0023136284122525, 1.9801671060992712, 1.9481852893891687, 2.000371836096562, 1.981400479300569, 2.024681285454481, 2.0453625373328164, 2.012114102273822, 1.9657390855420043, 1.9896362346969916, 2.032643731608655, 1.9545137475523449, 1.9586144924596824, 1.9675387007463283, 1.9600348329834951, 2.00497827456115, 2.064479721478067, 1.9778381803877987, 2.027449956752995, 1.9850440396734617, 2.0063484136620526, 2.025086161402764, 1.916831700170037, 1.994368522704343, 1.9933731058128297, 2.0006238171692368, 2.065619034368941, 2.0700348131379083, 2.0748431587067433, 2.0144533700235363, 1.921710294330776, 1.9216817310632717, 1.9226506655509195, 1.9994495305267854, 1.9945345924014366, 1.9153894843715489, 1.8831666963549571, 2.0309778824668383, 1.9681975096129376, 2.06078470252206, 1.9079454668634788, 1.994690422085515, 2.006668059524215, 2.001519070262437, 2.0989192872164137, 1.994017440808627, 1.9737793206769496, 1.9943797392487275, 2.0845713588489394, 1.9917084444004736, 2.037973929348495, 1.9996418326183145, 1.9453427999197417, 2.0454254517362225, 2.0380763430074866, 2.0196870772029873, 1.9641507761792076, 1.9989477374678408, 2.0360738882374445, 1.9799831222368092, 1.9689627234637312, 1.9879959089598132, 1.9911372313360163, 2.0219169103691104, 1.9313132057200204, 2.0026925900800707, 1.9299766827861329, 1.9620993669791007, 1.9845253612249665, 2.0579903266097315, 1.9423418009880438, 2.057227481100304, 1.9846644228684278, 2.056460895185614, 2.0254849071598775, 2.049549169264937, 2.084227278963069, 1.956197824746642, 1.9381582120987089, 2.0000158237192585, 1.8992432708640217, 1.9385981994447725, 1.9331201099868132, 1.9799152331074255, 2.1063621952641385, 2.0404909100930055, 2.013232753480251, 1.964447178147565, 1.96987341683423, 1.9820071076603811, 1.9590918367299428, 2.058325837040675, 2.022275890720443, 1.9857971674760562, 2.0355204602642387, 1.9327558480132567, 1.9847025851056732, 1.9985512138335575, 2.007919169815437, 2.0436233338625103, 1.9283985341633452, 2.0323435613492036, 2.013509145525962, 1.9869866302736905, 2.0687664536743915, 2.0085350454062194, 2.037115944219811, 1.9827492852181634, 2.0408904688688834, 2.0394332298193865, 1.9900417167256474, 2.078911264372668, 2.018326067285843, 1.9744912343868932, 2.0290668089704176, 1.9161897975461775, 1.9682629855992402, 2.0284570593786215, 1.982092278101378, 1.8773628596470675, 2.038802678947161, 2.0200874227961765, 1.9647820742371667, 1.9179182144780613, 1.9488029623492944, 2.1318708440206993, 2.0165760817380125, 1.9288274706221356, 1.9014414188024507, 1.9530930248113885, 2.0360367766602456, 1.9486812725325384, 1.8203657304739567, 1.952688994417617, 2.013393749441934, 2.010161800019752, 1.996240308915702, 1.9461298309836241, 2.005643780189493, 2.0405890001987443, 2.0703325481449903, 2.016321413984013, 1.9608081199522824, 1.8921848271032484, 1.96785744867017, 1.8902256418811105, 2.029461107285134, 2.0567018462969244, 2.0013357665055604, 2.0004302017941655, 1.9430408683318572, 1.9967708724389324, 2.030975251238704, 2.037693699669391, 1.9166094334091084, 1.9556365896378283, 1.9624804912593685, 1.9471750070695746, 1.9912115581630916, 2.0423386792393803, 2.0531654980049243, 1.9157158941341887, 1.9891799111518176, 1.9963811005562104, 1.9399192426320389, 2.1220845017842658, 2.0433927246353956, 2.064067208868118, 2.0208379492128423, 2.0157192448075927, 2.0748982368845263, 2.0736451477103066, 1.9366766021322568, 2.0567821221678186, 1.96704805671372, 1.9611623547632315, 1.8812903252900743, 1.9624164154365022, 1.934513561671158, 2.0382943711757058, 1.8757089382394443, 1.9765029169495145, 1.956650680445522, 1.9555927994506268, 1.9203418536239711, 2.001951375748595, 1.9853196716622796, 1.9617449841478694, 1.9236031927116652, 1.993082659201388, 2.076741084133335, 1.927244147726822, 1.9326170569477175, 2.02223581292296, 2.050732015995763, 2.004013379475639, 1.869096651561938, 1.9709763589027047, 2.0100433502117747, 2.0026476840296223, 1.9604297087473945, 2.0844397375614614, 1.939438955052023, 2.0076143785351763, 1.9983950173427094, 1.9741119864471366, 1.9513814269578251, 1.888701697608917, 2.039025500884243, 1.9852648384715927, 1.9443738508332047, 1.996483757366695, 2.0107895535172604, 1.9886138823158226, 1.9589873614543472, 1.984296519760698, 1.8748488254727234, 2.0391936388482867, 1.9352006755775382, 2.0395753807650374, 2.0090228143173, 1.9968142330704557, 1.908050510382369, 1.979260872952026, 1.9615523227970937, 1.985196976525046, 1.9902322851607792, 1.9568396499171214, 2.076683317367945, 2.1013123885099434, 2.0561192912056185, 1.9636553274826822, 1.9508873432732874, 1.999345537970314, 1.9881652022291765, 1.9366726666926635, 2.102716011129592, 2.0023042176241272, 2.0048535723740644, 2.002558244494198, 2.0277829202015742, 2.0713103515733007, 2.000666712686853, 2.034538814291603, 2.058447070277537, 2.0158295335133314, 2.0269735335099917, 1.9690228750329912, 2.081601115065029, 1.9521396429845592, 2.043862194682864, 1.9622444117677982, 1.9559875692206747, 2.0084601469410153, 2.091288893931762, 1.9577751817814995, 1.9751632710174039, 2.0664940778944443, 2.0621243012800594, 2.0200193939770226, 1.9520160173766308, 1.9999672163923359, 2.0491111972966705, 1.9799377228199966, 2.0068352144324253, 2.026185677114976, 2.0215827150066, 1.9536359539944974, 1.9640116633519944, 2.0614734608905096, 1.9194836836177553, 1.9407235432435823, 2.029963033059844, 2.050265948541484, 1.9095854068431044, 1.9915776675088768, 2.1635242503537393, 2.050342512186357, 2.0552850229375856, 1.916550214110291, 1.9974706655146877, 2.0348844370491443, 1.9781633639196605, 2.0434608301936477, 2.00234540604944, 2.0041853129817864, 1.9201837158613964, 2.0060230286979768, 1.9998564936232417, 1.9922147605194973, 2.0293368892441968, 1.977577893979595, 1.9459345345961068, 2.0142352693012424, 1.9902587878986382, 1.9639491038160977, 1.9003575220556688, 2.0419329421588177, 1.988728649540401, 2.0626104763731488, 1.9886377770051187, 2.072789752692756, 2.090599382773373, 2.0168665423152836, 2.0699536502398104, 1.90678088216425, 1.9207931318004303, 2.006119484038921, 1.937630525125783, 1.955972368425006, 1.8691687871658647, 1.9720088630775985, 2.008342019854899, 1.9491230297540851, 1.9176104837604386, 2.016280176033309, 2.0145337537463766, 2.022249409676741, 1.9554936618879104, 2.0309594204853685, 1.9926596693056393, 1.9885603601950808, 2.020484475924047, 1.931472283171228, 1.929015915839905, 2.0058994781269917, 2.023914510956784, 2.0196577194318213, 2.0288722650499027, 1.9046836033638481, 1.9892795352566977, 1.9947308322491715, 1.9883799655528915, 2.0219724117176554, 1.9348226773794575, 2.0156944988875853, 1.9853224975259898, 1.9583468097484178, 1.9496931386233756, 1.9465781491054464, 2.0505835211572725, 1.9563074743824882, 1.96836895526028, 1.9480609726998308, 1.9513586941512713, 2.0135888204738097, 1.9803742968599058, 1.9349923405010783, 2.0791261693351304, 1.9869507422705643, 2.0099326607116836, 1.9119611301481538, 2.0353871173533875, 2.029441112807325, 1.9862154927068412, 2.0305234763047526, 2.02664870555902, 1.9591882413823678, 2.089814641860073, 1.9546201703884685, 1.954106577135915, 2.0055398116348564, 1.9625149540920972, 2.004302323255648, 2.022463254229251, 2.0404423700350582, 1.9815127574511258, 1.9754680846324186, 2.022576838688856, 1.991838716252178, 1.9843521000151665, 1.9624412665553903, 2.066641193303031, 2.052195526754354, 2.0216764856133973, 1.9975719481160417, 1.9893013557021275, 2.011421474767745, 1.994258164191047, 2.053644263758711, 2.047183269838631, 2.016083864585294, 2.0259402095767753, 1.9412718514135379, 1.9728341051841742, 2.031842476268083, 1.9139949737417146, 2.083575602996184, 1.980601083916211, 1.9951396698556332, 1.8692887974738868, 1.9114304241349442, 1.9758357365162829, 1.948241776972845, 2.07252005460464, 2.019595047548692, 2.0396641922257643, 1.895942311393957, 2.0398115831817334, 2.0663122860192256, 1.9853592904859712, 1.9729856293439618, 1.9400865609141176, 1.979570296325625, 1.9405672877282594, 2.0012211815044796, 1.9587810918697541, 1.9534689797918707, 2.0196450825042462, 1.9818092114994572, 2.0552997421629637, 1.9674980164023748, 2.096549269439434, 2.0824422942523184, 2.097347463736218, 2.0321426864285326, 1.9622396766173031, 1.975306678655706, 2.1240955415743237, 1.9700900973708575, 1.9176883534574798, 2.107372809852058, 2.0402079031759826, 2.1123173883515403, 2.063876531709577, 1.9770826321945767, 2.009875729156766, 1.97433919958423, 1.977073179789221, 1.9891952989177502, 1.9709190402604841, 1.9429082332142056, 1.9657531113525293, 2.0479755324702413, 1.9677485986697825, 1.9728716233527965, 2.0640334543708283, 1.9893190927146378, 2.0354757272440143, 1.9232264751099128, 2.0081144933833883, 2.0035477003807456, 1.9872093208659813], \"type\": \"histogram\", \"orientation\": \"v\"}, {\"opacity\": 0.8, \"name\": \"FD-FE\", \"histnorm\": \"percent\", \"histfunc\": \"count\", \"marker\": {\"color\": \"rgba(55, 128, 191, 1.0)\", \"line\": {\"color\": \"#4D5663\", \"width\": 1.3}}, \"x\": [1.9919639580237374, 2.098053644197235, 2.0227165116206165, 2.0436061172602296, 2.0405250690181496, 1.9716526268009376, 1.9821101733079192, 2.0283329012653093, 1.9235179871079722, 1.9670792345823485, 1.9797580157719414, 1.9746045592829513, 1.96769968978222, 2.0086058489233354, 2.019019425162879, 2.0250198842906206, 2.057298171975887, 1.9724322827086147, 2.055791661135216, 1.9282947842954377, 2.0288857103971507, 1.9394633476636245, 1.9023292949179613, 1.9055530887207093, 1.9256080214189624, 2.021542987324519, 1.9466322312425288, 1.9513708866802402, 2.0748627066160905, 1.9241121609052696, 1.9880789963118777, 2.050006351898971, 1.979691864855111, 1.9173146997806247, 2.0000559387338113, 1.976276102572751, 1.8933995134951085, 2.036621348399108, 1.9570075435503265, 2.004061071312874, 1.9350904410790912, 2.0758452538069054, 1.9936764009846568, 1.9972128127355284, 2.001357604130212, 1.9139423689135682, 2.0455656225378887, 1.9649425631430752, 2.0419063963296065, 1.9775080304564878, 2.0301963728221146, 1.9638186925306405, 2.0382787858026576, 2.0228033365081446, 1.9686137052836767, 2.0064789297709145, 1.9929858640496492, 1.9850127473254608, 2.0315220218992507, 2.0290742402740856, 1.9136768389871248, 2.0480907535868944, 2.014479193253723, 2.0135884617139697, 1.9677583447094462, 2.0469834826796003, 2.0292422472942775, 1.9576979813052802, 2.012116293241326, 2.03317373355288, 1.9492646633027706, 1.9747799052760586, 1.9902427645495435, 2.025282270476004, 2.033504705270536, 2.065119415115354, 2.0295304599807356, 1.9622795951207679, 2.0516399586778964, 1.8825136675353815, 1.9960076780925562, 1.9786917838216764, 1.926177062221655, 2.0152474830954596, 1.9921634026925388, 2.057574747938896, 2.016710848555855, 2.008730363951175, 2.1013584837261075, 2.081132759894939, 1.9904812720081217, 2.0081342070353636, 2.005062911575916, 1.9679119634060915, 2.03757987211426, 2.0761469003262083, 1.9843898358953453, 2.0244826175163233, 2.039593810573898, 2.023273847263591, 1.9829981983544824, 1.9967127981619859, 1.962891007782063, 1.9726953965294132, 1.9816487355933834, 2.040814507436755, 2.017179149938711, 1.9808983624401026, 2.0021186169678518, 2.003703867502308, 1.9953192340307764, 1.9338568251767638, 2.0121023112069354, 2.0035952661712986, 1.952675098983939, 1.976446025581808, 2.0350239262650427, 2.029652138950751, 2.0008060824546874, 1.9844249677967896, 2.038077701843217, 1.960550186142498, 1.9290383254846133, 1.983510336564051, 1.9626110236197682, 2.025386710517764, 2.0465473303539223, 2.0782026359261607, 2.0473604909827423, 1.9555796691804177, 2.0261252005858514, 1.9476187296969516, 1.9529485617754223, 1.9639118825534276, 2.0166017690475386, 1.9811917962549273, 2.01343790206447, 2.071622266616986, 2.041687190166756, 1.986195352045401, 2.0816211541875833, 1.9571419975505338, 1.9603928807397146, 2.019446772921994, 1.9730489047927249, 2.0114135162815816, 2.0075261483162246, 1.958120961564678, 2.035366213345818, 2.0321578203862902, 2.061935798357972, 2.00294549717477, 2.0354801049543534, 2.0044201794912837, 1.9302558229808813, 2.0117880906979284, 2.029201124774719, 1.9584844564527226, 1.9978645075161856, 2.0373532984959786, 2.0635381386590277, 1.9482639920617637, 2.0304345665050616, 1.9658165167166624, 2.0407038382841605, 2.022158697020567, 2.019532229740902, 2.0911717556081104, 1.9367339074579306, 1.9635467447361243, 1.9579958235196053, 2.012895645440005, 2.0039217844889805, 1.995914266818662, 2.0390359222473173, 2.0065449052498074, 1.9681625703639083, 2.0236354910125613, 1.9522915884837841, 2.0565901496772607, 2.010350920656286, 1.9683733929227722, 1.9899059362307367, 1.9934250370955793, 1.9798931136316926, 1.9791914959973018, 1.9554432814588392, 2.0081184436174686, 1.9813611500518544, 2.0080032112281403, 2.0221874487401297, 1.9950534044661588, 2.034414175340395, 1.953199003514766, 2.0366088904206716, 2.039135293610107, 2.016747946108185, 1.9901931538818056, 1.9630253077535003, 2.0540252460563035, 2.0100612530074278, 1.9938110348120688, 2.0848041543056572, 1.9842849841303314, 2.038178140902527, 2.041730517868811, 1.9883080794669479, 1.99892071834833, 2.0376466074275337, 1.9397671878146276, 1.9436393760283814, 1.9464504209946758, 2.042239056940316, 2.002718388597428, 2.0345092273563825, 1.974642238189622, 1.9977076365312247, 1.9524609961273636, 2.020386395328149, 2.068975642782278, 2.036614596839268, 1.895077096528079, 2.0336082075164734, 2.038863371642827, 1.9636026161248028, 2.0313314962763154, 1.963927668707587, 1.9741061710390881, 1.9615086979548169, 1.950516778178767, 2.0313333248471244, 2.076225490748616, 2.081289172763151, 1.9952793577975378, 1.9643960975505321, 1.9898975165741188, 1.956634652276643, 2.019794906987854, 2.0558568975077685, 1.9817579728136816, 2.0238725041767114, 1.9698753249905459, 2.027966100747559, 1.9817783108204066, 2.0102825346397246, 1.961582641675642, 1.963626847515924, 2.0308719230273784, 2.02945399519753, 1.9529456281006246, 2.0093518697936794, 1.948120221901687, 1.981906502277392, 2.0393361857919183, 1.9418622804620052, 2.018172223829435, 1.9795222520685165, 2.068695638250148, 2.0587036920520645, 2.033465509721089, 2.0809015550550534, 2.0035624395814624, 1.9328172347918886, 2.014237721433133, 2.040106303508548, 2.050518660251745, 2.0403995324718505, 2.0464693033397654, 1.9414125161126776, 2.0230530799303454, 1.9686582926021199, 2.081480323057623, 1.9998389537726837, 1.9824067712030429, 2.009951891805964, 2.0527062115275467, 1.9855408837262147, 2.022748095115774, 1.904863238911718, 2.0367648579160678, 1.990332492708235, 2.003006796265061, 1.9932281240423957, 2.0129277480185928, 1.9973834326259596, 2.013854267516144, 2.0231681184247874, 2.007889104879508, 2.0287564241036145, 1.970021606615962, 2.0353509307579962, 1.9957935175844712, 2.0340732503028334, 1.943730091159964, 2.039758405847527, 1.9706319740121434, 2.000646960148623, 1.998996932856852, 2.04402665728219, 2.010587297601554, 1.9955318659518166, 1.9956254604291175, 1.9463332725861386, 1.919822248467141, 1.9319592162234702, 1.964624748532884, 2.050985262164451, 2.0116936753989045, 2.0358091335307678, 2.087945670672709, 1.9502985958582242, 1.9657376162301932, 2.007323487752413, 1.9701734336312537, 1.9535167556351765, 2.007385319060221, 2.041349759444379, 1.9436286308020967, 2.039786308819936, 2.006377102661618, 2.0119780745232685, 2.1169421648749314, 1.9948083350029877, 2.0372230052925095, 2.032878875223291, 1.9661070321951457, 2.0313470078652576, 2.0284741321485793, 1.9319186208789265, 1.9272920653077101, 1.9023056194118577, 1.9945853205395532, 2.0412664187052094, 1.9867303187859322, 1.9633849631189868, 2.0323662800110878, 1.9755328127813738, 1.9829168237885797, 1.9718286557370708, 2.0733083796614062, 1.9294403117739445, 1.9747256197314234, 2.0828911958927785, 1.9493047219779698, 2.0175164041324507, 2.0217509324434855, 1.99296928423104, 2.035255264928, 1.9761853737076263, 2.0769715164809166, 2.0244779064823897, 2.0322725208355528, 2.0336946057761827, 1.982614948287675, 1.981990935599025, 2.0291080333774554, 1.8846321844152594, 1.9880286721263851, 1.978589870165728, 2.0668898540046294, 1.9464166541567964, 2.0264610161786907, 2.0383545151938343, 1.982057138226152, 1.9619155553021665, 1.9239949733364596, 1.9922115031216938, 2.068044125801849, 2.0310898719230206, 1.9575360400132173, 2.085170430092846, 1.952143931842517, 2.003119162348932, 2.0262433550331034, 2.0013745205703013, 2.0190654971227997, 1.9725605921656961, 2.0472199403111686, 2.001023216957303, 1.9594182202477817, 2.0019448512101468, 2.020511650866099, 2.0025509754681936, 2.009519471586853, 2.0486547789937255, 2.0061006374823758, 2.0296248166664395, 1.9422201655434477, 2.026125392218125, 1.968124625976628, 2.0418813631243085, 1.9838280403508257, 1.9493498138355192, 2.038022051275548, 1.9461890428689013, 1.998710774887373, 2.047618551045364, 2.0097059782836997, 2.0545542517753486, 1.9353057857653924, 2.067616862243738, 2.0007788646948104, 1.988213475565312, 1.9643671981860176, 2.024423456184825, 1.9644043456982256, 1.946479630848987, 2.0809078618551826, 1.9127760479830425, 1.9639401797878184, 2.0076492162454787, 2.09915814756726, 1.9587897425681189, 1.9941475933445, 1.9562048726633352, 1.9533597743046216, 2.0065032496370896, 2.0144003213823862, 1.9687712938394768, 2.0037483646656367, 1.9728639894741296, 2.032959607730929, 2.0310814864781253, 1.986042951107171, 1.9431184005584696, 1.9845411141846703, 1.994613037911601, 2.0057370230420366, 1.9844851451597938, 2.0648413363788456, 1.9691737869779589, 1.9881532902836705, 1.9097705090091956, 2.0356533040192724, 1.962109717060236, 2.0973758825574675, 1.9563890599324323, 1.9716098850990789, 1.9427028975119545, 2.005954361338098, 2.0390365962120187, 2.1148677592904526, 1.9941189367287735, 2.0820136393447326, 1.9444602221119895, 1.9726514354384417, 2.034851446027756, 1.9753389501977314, 2.033723387606333, 2.002452871985449, 1.919533513396503, 1.9483417365631819, 1.9391190670750285, 1.9673925090914366, 2.0433708298563715, 1.974541419650654, 2.0347176057867737, 1.995287942598908, 1.8796125011809206, 2.0072180955177865, 2.0512410466608553, 2.0144925326997285, 1.9317890638150663, 2.0292982600701737, 1.9971566002937646, 2.012783752475157, 1.9611139029019191, 2.013498380237655, 2.0265784846675534, 1.950856510209898, 1.988801616790252, 2.0131122449604693, 2.0525755945381765, 1.9762052257708356, 1.911204282903786, 1.9244891029712887, 1.9769108428806237, 2.0468166814380755, 2.0262043906341236, 1.9575077979283224, 1.9348273363233548, 1.9887366048964226, 2.020076657763622, 1.9760157371634595, 1.9838503975061177, 1.9168658968126306, 1.9806973194980302, 2.0389751186423934, 1.9291454458398003, 1.9940019168031866, 2.0051789237299253, 1.921165769503462, 2.01654260439805, 1.9878470981546341, 2.020149797673602, 1.9231604666268831, 1.9395934100013017, 1.9434591480292274, 1.969203052703836, 1.982382849158431, 2.0128821040085683, 2.0879674868939837, 2.0915901781803132, 2.0263973074751576, 1.986826173885123, 1.971665695966458, 1.9959501532995945, 2.0405946493854707, 2.0288209811896474, 1.9789685597525306, 2.0214464886337162, 2.0629899115425623, 1.9251649300337808, 2.057803457467579, 1.9393893343297774, 2.0137721638029156, 2.007648744846602, 1.9705105600324888, 1.9545721874440067, 1.9800195520158186, 1.9563766386298405, 1.9606378374859137, 2.0169204185443976, 1.986252254388609, 1.9679578614278261, 1.9252708233011537, 1.9610287553404102, 1.9593207879894792, 2.0730381142661463, 2.016381455103795, 1.9783895909787585, 1.9361246024464718, 2.031250510269211, 1.982342200218579, 2.0093827969439078, 1.9145573775288511, 1.969778373841468, 1.9279961747541754, 1.9919947293955418, 2.026439080639481, 1.98216002554505, 1.9964184579194546, 1.9566394887554195, 1.96376148049797, 2.020957768171627, 1.9484716966571356, 1.9854766338882603, 1.9999445735080963, 2.0940300832322967, 1.9862764843179583, 1.959719887932756, 1.9450375352811347, 2.0880246639785183, 2.0505139375554275, 1.9758196471229517, 2.0021871380321494, 2.035769665906146, 2.010629845965104, 1.9620353057143785, 1.947018707699883, 1.9821614913037007, 1.987957206700182, 2.0118805711711847, 2.0270666623811406, 2.0320917880786267, 1.967510635944774, 2.0079932939798155, 2.0194249791212076, 1.9335889072920833, 1.9617530559128316, 1.9749052865206322, 1.9314244946670045, 2.0117943091610258, 2.071838512305921, 1.9650737703704726, 2.02882579609029, 1.9880544824525992, 2.028948324022576, 2.0167719488909444, 1.9540263688376696, 1.967866044364779, 2.0091301903883974, 1.9834615220148262, 2.0653313547634657, 2.0721256958798504, 2.057999682921848, 2.022365293693263, 1.9371198455509777, 1.9631674654298514, 1.9274701687136997, 2.019629819810741, 1.999281385852793, 1.9020946116398254, 1.9033107820583375, 2.034775113895302, 1.9890831157289621, 2.0596948123590173, 1.915835723333756, 2.002031982759799, 1.9980017476079568, 1.9838018831751862, 2.093211893070253, 1.994291280007626, 1.9941795998072922, 1.9853416188354807, 2.0459193086662255, 2.005807405791652, 2.0550082711434854, 2.0360614561578387, 1.9647095938857555, 2.0253135870759937, 2.044512856297298, 2.0179610607153853, 1.977220408831929, 2.006253133879988, 2.0436953704909397, 1.9916182378621872, 1.9519279758076367, 1.9804525644187538, 2.006301602593524, 2.00715941163443, 1.9490212865411514, 2.005871446778536, 1.9289446915284634, 1.9622499154194335, 2.003631938222054, 2.0711916113754767, 1.9562473110261291, 2.0608668721613186, 1.9663944729034868, 2.0470921493540146, 2.0323117271763134, 2.0089552308367864, 2.0728701559980895, 1.9693421257927546, 1.930816416556728, 1.9846476716823807, 1.9257640551071558, 1.9536760034668328, 1.9387541213331354, 1.9855090243187028, 2.1011527110844574, 2.022228011118374, 2.0268429009023805, 1.9699724645281806, 1.9797481332988083, 1.996850974706877, 1.961217566861976, 2.051740622973446, 2.011383134406194, 2.00266301821543, 2.051479412693457, 1.9664322021773086, 1.991201710225459, 2.0152704686094634, 1.9968011234723033, 2.0414026118477513, 1.9626834029863574, 2.036411316768901, 2.004703512650828, 1.9748668867703052, 2.0563290166228225, 2.003053769250542, 2.0373331004762343, 1.9724078244977798, 2.029316128915258, 2.0360866962742135, 1.9997456070088002, 2.06232052970561, 2.0146645662246527, 1.9713307462398528, 2.035115821512318, 1.943742642438822, 1.980996128618204, 2.0282110325182936, 1.9727499429871502, 1.9104249205545507, 2.054488205978232, 2.000734216601454, 1.9626071136619756, 1.9363055622149972, 1.9636051903197886, 2.1048099429489424, 2.001585469964404, 1.937896612054934, 1.9193298022512784, 1.971018865901887, 2.0118295340525654, 1.975365047585254, 1.8835974680084908, 1.9637974120263126, 2.015284204525053, 2.011063787862775, 2.0067439970742256, 1.963331305747208, 2.0089089324513125, 2.035687884492414, 2.027232286559466, 2.0229139861859395, 1.9641105980200342, 1.932098205888258, 1.9817622403827402, 1.9124266784736843, 2.0422658730252925, 2.062126036943195, 2.002995618784922, 1.9841750931929512, 1.964033021073409, 1.9913817701547136, 2.037550908515694, 2.066146942963851, 1.9356934363578193, 1.968530604020429, 1.9765404919040273, 1.9478048967937354, 1.995971608825275, 2.027320524312073, 2.0395084320631067, 1.924879325071044, 1.9879488824608036, 1.999574408171218, 1.9617276693076815, 2.094913724666645, 2.028690382815047, 2.056289840377074, 2.0130430906283827, 1.9946108670572111, 2.06813749763257, 2.070626702783269, 1.9487455417915434, 2.058558255956372, 1.970071667751104, 1.974952701694139, 1.9055213678782743, 1.981875182922956, 1.9489207545904583, 2.05244417625993, 1.9009861411739846, 1.9950690197843324, 1.953338177088325, 1.9425802933840466, 1.9399611220874444, 2.0015461445098683, 2.0037380133065765, 1.9641507013448622, 1.9425172304351688, 2.0105744585225542, 2.0572249322575824, 1.9517220940698936, 1.9352240929294777, 2.0279821151768593, 2.049187337627897, 2.031676940990151, 1.8745374080284622, 1.9618051621119845, 2.0169284717496163, 2.0196728999340525, 1.9563562638468532, 2.0759788714428544, 1.9430176973467403, 1.996127517176315, 1.9803071834986214, 1.9793980783795222, 1.9362311023670578, 1.9068415203099622, 2.0251302679399097, 1.9906731927338974, 1.9407215900965729, 2.0210353101722145, 1.9826842875133828, 1.9799718398801733, 1.9640503342614903, 1.9685925978514982, 1.9321528488843227, 2.013859202670912, 1.9698357676702387, 2.0412058178835557, 2.0089478483148184, 1.9941805567441164, 1.904947544290838, 1.971104821445991, 1.979419135281935, 1.990693054097951, 2.0187706385488844, 1.9730991339055546, 2.0366310910991765, 2.070964916696916, 2.049259058130814, 1.9686144312926854, 1.940927129410182, 1.984020905586199, 1.998942296607684, 1.9795595649678757, 2.0835406644602052, 1.9962939012831957, 2.009041050742937, 2.014544141264932, 2.027047204089623, 2.049417111821964, 2.018652771032312, 2.015817964790277, 2.0631870742569283, 2.0278303601053422, 2.0403601273494876, 1.9523741101822945, 2.080151694666738, 1.97369699356063, 2.0521098911153945, 1.976036022734697, 1.9604256779725906, 2.020922647430696, 2.1002508544141634, 1.9690244198023739, 1.9886668872303892, 2.0427793194498265, 2.046661750319665, 2.00582039510465, 1.9822099401071296, 2.0097082012831047, 2.0360169104210195, 1.999753159127678, 2.016493832495521, 2.032574972242854, 2.0089318955465068, 1.9738636809987302, 1.9638055289128142, 2.0377253077687776, 1.9419878797865104, 1.9629822123211589, 2.022388934958273, 2.0445445843378347, 1.9304385977325107, 1.99428988052642, 2.125889226312526, 2.0348975894859445, 2.040663852802016, 1.9202215029733778, 2.00276628027164, 2.0434976117673163, 1.9939841510890308, 2.0405290805741974, 1.9981110227721186, 2.0229433611562864, 1.9412060482501285, 2.024145468296369, 2.008910153963955, 1.9922880092197315, 2.0346940273181158, 1.963581201417739, 1.9430111582064447, 1.999304950418085, 1.9860781108930847, 1.970830198746923, 1.9381595091674013, 2.0164909506222015, 1.9533474935711401, 2.0685877946264015, 1.9957915100624146, 2.0495291617982243, 2.067070700253215, 2.0201946931123995, 2.0517209978959814, 1.929817262017498, 1.948288907445094, 2.007765909925432, 1.95610667683457, 1.9820662159327718, 1.901802472221271, 2.0049908199804958, 2.0117621637645247, 1.9448257833828322, 1.932983672059523, 1.984774694179825, 2.0203633641159833, 2.0195505966421474, 1.9704793046670415, 2.0278407109084995, 1.9883050953175427, 1.9905266712064238, 2.0059347618896943, 1.9206379794002593, 1.967942473066855, 1.9953196966408786, 2.024714970045539, 2.0189235506293945, 2.0082673735523393, 1.903717132977429, 1.9887406127589164, 1.963124914412554, 2.0174397602346787, 2.0326893318888697, 1.9219135674558196, 2.006049927577429, 1.9861664939179904, 1.9493587392808411, 1.9644440127563167, 1.9663116799522224, 2.026223209047308, 1.9708517432751, 1.9776787687790947, 1.9580751427473748, 1.9533667050027865, 1.9847432847493394, 1.9865334645308967, 1.9617695245770754, 2.04412711171074, 1.9866492885962237, 2.006240378131962, 1.9329136394254613, 2.036875921861644, 1.985943531666395, 1.998903778117974, 2.0532778802223413, 2.0390351573158565, 1.9690089077008601, 2.0600496879796744, 1.969240183896995, 1.955855934419004, 2.0101045439914875, 1.956604298724048, 2.0031930448674773, 2.035904142898361, 2.02654998015307, 1.9855190671078047, 2.006804701925784, 2.035686711069686, 2.005814406064408, 1.9876458576832587, 1.9850888560193347, 2.059556329953675, 2.0502313489717974, 2.0316938466699033, 1.9957112161218462, 2.013971248716129, 2.0118035156250214, 1.9886733559324477, 2.01767940319741, 2.059025220063368, 1.9943996557106072, 2.0277394148503785, 1.947680866685142, 1.9825861719970095, 2.020032268968518, 1.9113999978376213, 2.067924408072386, 1.9659211025180698, 1.9999145715057514, 1.904304724817398, 1.9073286201311546, 2.0239300656153856, 1.9565767657713065, 2.067447401042982, 2.0394094582020337, 2.025946040461465, 1.9281123087616516, 2.0189358350884534, 2.0419428406331583, 1.9847470155404972, 1.9790215210632096, 1.9548554844008206, 1.9477057758773535, 1.9421192842715698, 1.9913841007443867, 1.9696808962968637, 1.937192406189749, 1.9891646362219881, 2.0051774014210535, 2.0260886900456745, 1.982319936389906, 2.085765244293948, 2.071069348235177, 2.0872150953937085, 2.044000099885393, 1.948198161480939, 1.9621843230954572, 2.1232946780113364, 1.9855907398205064, 1.941122439829471, 2.0753318667169345, 2.0729134138413734, 2.1199541434187674, 2.066636480931343, 1.9916848936424625, 2.0066296062229894, 1.9733004949550823, 1.9656470661940824, 2.0104505435206432, 1.962038057787604, 1.93044909384508, 1.9592007758990557, 2.0542985464139676, 1.976160319037907, 1.9761624033668357, 2.0280660796617807, 1.9963722406877182, 2.027312251336917, 1.9373177140556734, 2.0117540045255033, 1.9960231525949954, 2.0008237272646854], \"type\": \"histogram\", \"orientation\": \"v\"}], {\"title\": \"Overlay-Histogram for RT mix and pure, true beta = 2\", \"paper_bgcolor\": \"#F5F6F9\", \"plot_bgcolor\": \"#F5F6F9\", \"xaxis1\": {\"tickfont\": {\"color\": \"#4D5663\"}, \"title\": \"\", \"showgrid\": true, \"zerolinecolor\": \"#E1E5ED\", \"gridcolor\": \"#E1E5ED\", \"titlefont\": {\"color\": \"#4D5663\"}}, \"height\": 587, \"yaxis1\": {\"tickfont\": {\"color\": \"#4D5663\"}, \"title\": \"\", \"showgrid\": true, \"zerolinecolor\": \"#E1E5ED\", \"gridcolor\": \"#E1E5ED\", \"titlefont\": {\"color\": \"#4D5663\"}}, \"width\": 1116, \"titlefont\": {\"color\": \"#4D5663\"}, \"barmode\": \"overlay\", \"legend\": {\"bgcolor\": \"#F5F6F9\", \"font\": {\"color\": \"#4D5663\"}}}, {\"linkText\": \"Export to plot.ly\", \"showLink\": true})</script>"
      ],
      "text/plain": [
       "<IPython.core.display.HTML object>"
      ]
     },
     "metadata": {},
     "output_type": "display_data"
    }
   ],
   "source": [
    "###### True beta = -5\n",
    "\n",
    "cf.set_config_file(offline=False, world_readable=True, theme='pearl')\n",
    "\n",
    "df = pd.DataFrame({'FD-FE': estimate_m_df[0],\n",
    "                   'FD-FD': estimate_p_df[0]})\n",
    "#df.head(2)\n",
    "\n",
    "df.iplot(kind='histogram',barmode='overlay', \n",
    "         histnorm='percent', \n",
    "         title = \"Overlay-Histogram for RT mix and pure, true beta = (-5)\",\n",
    "         filename='cufflinks/multiple-histograms')\n",
    "\n",
    "\n",
    "###### True beta = -1\n",
    "\n",
    "cf.set_config_file(offline=False, world_readable=True, theme='pearl')\n",
    "\n",
    "df = pd.DataFrame({'FD-FE': estimate_m_df[1],\n",
    "                   'FD-FD': estimate_p_df[1]})\n",
    "#df.head(2)\n",
    "\n",
    "df.iplot(kind='histogram',barmode='overlay', \n",
    "         histnorm='percent', \n",
    "         title = \"Overlay-Histogram for RT mix and pure, true beta = (-1)\",\n",
    "         filename='cufflinks/multiple-histograms')\n",
    "\n",
    "\n",
    "###### True beta = 0.5\n",
    "\n",
    "cf.set_config_file(offline=False, world_readable=True, theme='pearl')\n",
    "\n",
    "df = pd.DataFrame({'FD-FE': estimate_m_df[2],\n",
    "                   'FD-FD': estimate_p_df[2]})\n",
    "#df.head(2)\n",
    "\n",
    "df.iplot(kind='histogram',barmode='overlay', \n",
    "         histnorm='percent', \n",
    "         title = \"Overlay-Histogram for RT mix and pure, true beta = 0.5\",\n",
    "         filename='cufflinks/multiple-histograms')\n",
    "\n",
    "\n",
    "###### True beta = 2\n",
    "\n",
    "cf.set_config_file(offline=False, world_readable=True, theme='pearl')\n",
    "\n",
    "df = pd.DataFrame({'FD-FE': estimate_m_df[3],\n",
    "                   'FD-FD': estimate_p_df[3]})\n",
    "#df.head(2)\n",
    "\n",
    "df.iplot(kind='histogram',barmode='overlay', \n",
    "         histnorm='percent', \n",
    "         title = \"Overlay-Histogram for RT mix and pure, true beta = 2\",\n",
    "         filename='cufflinks/multiple-histograms')"
   ]
  },
  {
   "cell_type": "markdown",
   "metadata": {},
   "source": [
    "One can see that for all fours graphs the _mix_ estimation results have a higher kurtosis and (consequently) less fatter tails than the _pure_ estimation results (neglecting the two outliers to the right for _mix_).\n",
    "\n",
    "This strengthens our conclusions from the comparison of the means and standard errors. The _mix_ method seem to perform better in the sense that it is more narrowed to the true value. "
   ]
  },
  {
   "cell_type": "code",
   "execution_count": null,
   "metadata": {
    "collapsed": false
   },
   "outputs": [],
   "source": []
  },
  {
   "cell_type": "code",
   "execution_count": null,
   "metadata": {
    "collapsed": false
   },
   "outputs": [],
   "source": []
  },
  {
   "cell_type": "code",
   "execution_count": null,
   "metadata": {
    "collapsed": true
   },
   "outputs": [],
   "source": []
  },
  {
   "cell_type": "markdown",
   "metadata": {
    "collapsed": false
   },
   "source": [
    "# Conclusion\n",
    "\n",
    "## Comparison between Stata and Python\n",
    "Stata Pros\n",
    "    - Stata easier set up because of implemented commands and a huge amount of online example\n",
    "    - Faster to code if one just does some regression, i.e. just using commands without doing much coding. \n",
    "Stata (in notebook) Cons\n",
    "    - Does not safe background estimation results which are saved in vectors or matrices in Stata\n",
    "    - Difficult to work with estimation results fur further coding (i.e. creating plots in plotly)\n",
    "    - Seems to be slower than within Stata\n",
    "    - Not all commands work\n",
    "    \n",
    "Why should someone use Stata within Python? If someone is more familiar to Stata than Python as we are, it might be convenient to start the project with Stata. Especially since often one has old code one can reuse. Then, step-by-step one can do new stuff in Python and transform more and more code from Stata to Python to have a smooth transition and to be able to get the best out of both (like regression-packages which are not available in python yet).\n",
    "\n",
    "Python Pros\n",
    "    - Just google it, way to much to list them up\n",
    "    \n",
    "Python Cons (using in microeconometrics)\n",
    "    - One as to be able to really code a lot because of the little amount of packages. This might increase errors in the estimations (which could be found from others looking at the notebook) or increase the time researchers which are unfamiliar with coding need to do the research\n",
    "    - low amount of packages for regressions. But this should be just a question of time (i.e. not a problem in a year or so)\n",
    "\n",
    "We failed to find a packages to safe the time python needs to run. For Stata clearly the FD is much faster than the FE estimation, and thereby _pure_ faster than _mix_. A comparison is also difficult because while coding using python it was convenient to run all three transformation (FD, FD-FE, FD-FD) within one cell. Just from our feeling, the code does run very fast for all and might be even faster than the FE-Estimation in Stata. However, we do the estimation ourselves and just calculate our coefficient. Stata usually estimates much more just the coefficient which weakens the time comparison as well.\n",
    "\n",
    "\n",
    "## Theoretical\n",
    "Random-Trend model\n",
    "    - Random-Trend model solves the endogeneity problem imposed by the linear trend. Thereby the RT Estimation is superior to the FD and FE Estimations because they can only solve for an endogeneity problem induced by a constant. \n",
    "    However, the Stata part showed that the first-difference works if the trend is the same for all individual or the marginal increase decreases (log). Further, the random-trend is equally biased compared to the first-difference if the trend increases exponential overtime. \n",
    "The comparison of the different RT methods suggests the _mix_-approach if the calculation time is not much of a burden.\n",
    "\n",
    "Giving the bad results for nonlinear trends, it is questionable if the RT model overall can be used in empirical work.\n",
    "\n",
    "More research has to be done for more examples of non-linear trends to see whether in some cases the RT is superior to the FD.\n",
    "\n",
    "\n",
    "\n",
    "\n",
    "\n"
   ]
  },
  {
   "cell_type": "code",
   "execution_count": null,
   "metadata": {
    "collapsed": false
   },
   "outputs": [],
   "source": []
  },
  {
   "cell_type": "code",
   "execution_count": null,
   "metadata": {
    "collapsed": false
   },
   "outputs": [],
   "source": []
  },
  {
   "cell_type": "code",
   "execution_count": 308,
   "metadata": {
    "collapsed": false
   },
   "outputs": [],
   "source": [
    "alpha_i = np.random.normal(0, 1, n)\n",
    "alpha_i = np.repeat(alpha_i,T) \n",
    "i = np.arange(n) + 1\n",
    "i = np.repeat(i,T)\n",
    "t = np.arange(T) + 1 \n",
    "t = np.tile(t,n)\n",
    "trend = t*i \n",
    "mean = [0, 0]\n",
    "cov = [[1, 0], [0, 1]]\n",
    "nu_it, e_it = np.random.multivariate_normal(mean, cov, N).T \n",
    "x_it = (nu_it + alpha_i + trend).T \n",
    "y_it = (3 + alpha_i + (-1)*x_it + trend + e_it).T # <=> `g y_it = 3 + alpha_i + 2*x_it + trend + e_it `\n",
    "        \n",
    "# First-difference and random-trend (1)\n",
    "x_reshape = np.reshape(np.ravel(x_it), (n, T)).T \n",
    "dx = np.zeros(x_reshape.shape)\n",
    "dx[1:] = x_reshape[1:] - x_reshape[:-1] \n",
    "dx = np.delete(dx,(0), axis=0) \n",
    "dx_reshape = dx # result is stored for the within-transformation\n",
    "d2x = np.zeros(dx.shape) \n",
    "d2x[1:] = dx[1:] - dx[:-1] \n",
    "d2x = np.delete(d2x,(0), axis=0)\n",
    "        \n",
    "dX = np.reshape(dx.T, N-n) \n",
    "d2X = np.reshape(d2x.T, N-2*n)\n",
    "\n",
    "y_reshape = np.reshape(np.ravel(y_it), (n, T)).T \n",
    "dy = np.zeros(y_reshape.shape)\n",
    "dy[1:] = y_reshape[1:] - y_reshape[:-1] \n",
    "dy = np.delete(dy,(0), axis=0)\n",
    "dy_reshape = dy # result is stored for the within-transformation\n",
    "d2y = np.zeros(dy.shape)\n",
    "d2y[1:] = dy[1:] - dy[:-1] \n",
    "d2y = np.delete(d2y,(0), axis=0)\n",
    "dY = np.reshape(dy.T, N-n)\n",
    "d2Y = np.reshape(d2y.T, N-2*n)\n",
    "        \n",
    "# Within-transformation\n",
    "dx_mean = dx_reshape.mean(axis=0) \n",
    "dx_mean_i = np.repeat(dx_mean,T-1) \n",
    "dx_mean_i_reshape = np.reshape(dx_mean_i.T, N-n) \n",
    "dwX = dX - dx_mean_i_reshape\n",
    "# dwX is now constructed for the Random-Trend 2, mix\n",
    "# Same for the y-variable\n",
    "dy_mean = dy_reshape.mean(axis=0) \n",
    "dy_mean_i = np.repeat(dy_mean,T-1) \n",
    "dy_mean_i_reshape = np.reshape(dy_mean_i.T, N-n) \n",
    "dwY = dY - dy_mean_i_reshape \n",
    "# dwY is now constructed for the Random-Trend 2, mix"
   ]
  },
  {
   "cell_type": "code",
   "execution_count": 425,
   "metadata": {
    "collapsed": false
   },
   "outputs": [],
   "source": []
  },
  {
   "cell_type": "code",
   "execution_count": 426,
   "metadata": {
    "collapsed": false
   },
   "outputs": [
    {
     "ename": "PlotlyError",
     "evalue": "Request throttled. You've created/updated more charts than your allowed limit of 50/day. You may either wait one day or upgrade your account. Visit https://plot.ly/settings/subscription/ to upgrade.",
     "output_type": "error",
     "traceback": [
      "\u001b[0;31m---------------------------------------------------------------------------\u001b[0m",
      "\u001b[0;31mPlotlyError\u001b[0m                               Traceback (most recent call last)",
      "\u001b[0;32m<ipython-input-426-c7d831573eca>\u001b[0m in \u001b[0;36m<module>\u001b[0;34m()\u001b[0m\n\u001b[1;32m     35\u001b[0m \u001b[0;34m\u001b[0m\u001b[0m\n\u001b[1;32m     36\u001b[0m \u001b[0;31m# Plot and embed in ipython notebook!\u001b[0m\u001b[0;34m\u001b[0m\u001b[0;34m\u001b[0m\u001b[0m\n\u001b[0;32m---> 37\u001b[0;31m \u001b[0mpy\u001b[0m\u001b[0;34m.\u001b[0m\u001b[0miplot\u001b[0m\u001b[0;34m(\u001b[0m\u001b[0mdata\u001b[0m\u001b[0;34m,\u001b[0m \u001b[0mfilename\u001b[0m\u001b[0;34m=\u001b[0m\u001b[0;34m'scatter-mode'\u001b[0m\u001b[0;34m)\u001b[0m\u001b[0;34m\u001b[0m\u001b[0m\n\u001b[0m",
      "\u001b[0;32m/Applications/anaconda/lib/python2.7/site-packages/plotly/plotly/plotly.pyc\u001b[0m in \u001b[0;36miplot\u001b[0;34m(figure_or_data, **plot_options)\u001b[0m\n\u001b[1;32m    149\u001b[0m     \u001b[0;32mif\u001b[0m \u001b[0;34m'auto_open'\u001b[0m \u001b[0;32mnot\u001b[0m \u001b[0;32min\u001b[0m \u001b[0mplot_options\u001b[0m\u001b[0;34m:\u001b[0m\u001b[0;34m\u001b[0m\u001b[0m\n\u001b[1;32m    150\u001b[0m         \u001b[0mplot_options\u001b[0m\u001b[0;34m[\u001b[0m\u001b[0;34m'auto_open'\u001b[0m\u001b[0;34m]\u001b[0m \u001b[0;34m=\u001b[0m \u001b[0mFalse\u001b[0m\u001b[0;34m\u001b[0m\u001b[0m\n\u001b[0;32m--> 151\u001b[0;31m     \u001b[0murl\u001b[0m \u001b[0;34m=\u001b[0m \u001b[0mplot\u001b[0m\u001b[0;34m(\u001b[0m\u001b[0mfigure_or_data\u001b[0m\u001b[0;34m,\u001b[0m \u001b[0;34m**\u001b[0m\u001b[0mplot_options\u001b[0m\u001b[0;34m)\u001b[0m\u001b[0;34m\u001b[0m\u001b[0m\n\u001b[0m\u001b[1;32m    152\u001b[0m \u001b[0;34m\u001b[0m\u001b[0m\n\u001b[1;32m    153\u001b[0m     \u001b[0;32mif\u001b[0m \u001b[0misinstance\u001b[0m\u001b[0;34m(\u001b[0m\u001b[0mfigure_or_data\u001b[0m\u001b[0;34m,\u001b[0m \u001b[0mdict\u001b[0m\u001b[0;34m)\u001b[0m\u001b[0;34m:\u001b[0m\u001b[0;34m\u001b[0m\u001b[0m\n",
      "\u001b[0;32m/Applications/anaconda/lib/python2.7/site-packages/plotly/plotly/plotly.pyc\u001b[0m in \u001b[0;36mplot\u001b[0;34m(figure_or_data, validate, **plot_options)\u001b[0m\n\u001b[1;32m    239\u001b[0m \u001b[0;34m\u001b[0m\u001b[0m\n\u001b[1;32m    240\u001b[0m     \u001b[0mplot_options\u001b[0m \u001b[0;34m=\u001b[0m \u001b[0m_plot_option_logic\u001b[0m\u001b[0;34m(\u001b[0m\u001b[0mplot_options\u001b[0m\u001b[0;34m)\u001b[0m\u001b[0;34m\u001b[0m\u001b[0m\n\u001b[0;32m--> 241\u001b[0;31m     \u001b[0mres\u001b[0m \u001b[0;34m=\u001b[0m \u001b[0m_send_to_plotly\u001b[0m\u001b[0;34m(\u001b[0m\u001b[0mfigure\u001b[0m\u001b[0;34m,\u001b[0m \u001b[0;34m**\u001b[0m\u001b[0mplot_options\u001b[0m\u001b[0;34m)\u001b[0m\u001b[0;34m\u001b[0m\u001b[0m\n\u001b[0m\u001b[1;32m    242\u001b[0m     \u001b[0;32mif\u001b[0m \u001b[0mres\u001b[0m\u001b[0;34m[\u001b[0m\u001b[0;34m'error'\u001b[0m\u001b[0;34m]\u001b[0m \u001b[0;34m==\u001b[0m \u001b[0;34m''\u001b[0m\u001b[0;34m:\u001b[0m\u001b[0;34m\u001b[0m\u001b[0m\n\u001b[1;32m    243\u001b[0m         \u001b[0;32mif\u001b[0m \u001b[0mplot_options\u001b[0m\u001b[0;34m[\u001b[0m\u001b[0;34m'auto_open'\u001b[0m\u001b[0;34m]\u001b[0m\u001b[0;34m:\u001b[0m\u001b[0;34m\u001b[0m\u001b[0m\n",
      "\u001b[0;32m/Applications/anaconda/lib/python2.7/site-packages/plotly/plotly/plotly.pyc\u001b[0m in \u001b[0;36m_send_to_plotly\u001b[0;34m(figure, **plot_options)\u001b[0m\n\u001b[1;32m   1402\u001b[0m \u001b[0;34m\u001b[0m\u001b[0m\n\u001b[1;32m   1403\u001b[0m     \u001b[0;32mif\u001b[0m \u001b[0;34m'error'\u001b[0m \u001b[0;32min\u001b[0m \u001b[0mr\u001b[0m \u001b[0;32mand\u001b[0m \u001b[0mr\u001b[0m\u001b[0;34m[\u001b[0m\u001b[0;34m'error'\u001b[0m\u001b[0;34m]\u001b[0m \u001b[0;34m!=\u001b[0m \u001b[0;34m''\u001b[0m\u001b[0;34m:\u001b[0m\u001b[0;34m\u001b[0m\u001b[0m\n\u001b[0;32m-> 1404\u001b[0;31m         \u001b[0;32mraise\u001b[0m \u001b[0mexceptions\u001b[0m\u001b[0;34m.\u001b[0m\u001b[0mPlotlyError\u001b[0m\u001b[0;34m(\u001b[0m\u001b[0mr\u001b[0m\u001b[0;34m[\u001b[0m\u001b[0;34m'error'\u001b[0m\u001b[0;34m]\u001b[0m\u001b[0;34m)\u001b[0m\u001b[0;34m\u001b[0m\u001b[0m\n\u001b[0m\u001b[1;32m   1405\u001b[0m \u001b[0;34m\u001b[0m\u001b[0m\n\u001b[1;32m   1406\u001b[0m     \u001b[0;31m# Check if the url needs a secret key\u001b[0m\u001b[0;34m\u001b[0m\u001b[0;34m\u001b[0m\u001b[0m\n",
      "\u001b[0;31mPlotlyError\u001b[0m: Request throttled. You've created/updated more charts than your allowed limit of 50/day. You may either wait one day or upgrade your account. Visit https://plot.ly/settings/subscription/ to upgrade."
     ]
    }
   ],
   "source": [
    "\n",
    "\n"
   ]
  },
  {
   "cell_type": "code",
   "execution_count": null,
   "metadata": {
    "collapsed": false
   },
   "outputs": [],
   "source": []
  },
  {
   "cell_type": "code",
   "execution_count": null,
   "metadata": {
    "collapsed": false
   },
   "outputs": [],
   "source": []
  },
  {
   "cell_type": "code",
   "execution_count": null,
   "metadata": {
    "collapsed": false
   },
   "outputs": [],
   "source": []
  },
  {
   "cell_type": "code",
   "execution_count": 419,
   "metadata": {
    "collapsed": false
   },
   "outputs": [
    {
     "name": "stdout",
     "output_type": "stream",
     "text": [
      "[  49.60189029  101.21369528  151.01252701  202.72654949  253.78019027]\n",
      "[ 51.61180498  49.79883173  51.71402249  51.05364078]\n",
      "[-1.81297325  1.91519076 -0.66038171]\n",
      "\n",
      "[ 2.89930484  2.36429659  3.6297286   1.66250651  3.39182102]\n",
      "[-0.53500825  1.26543201 -1.96722209  1.72931451]\n",
      "[ 1.80044026 -3.2326541   3.69653661]\n"
     ]
    }
   ],
   "source": [
    "print x_df_1\n",
    "print dx_df_1\n",
    "print d2x_df_1\n",
    "print\n",
    "print y_df_1\n",
    "print dy_df_1\n",
    "print d2y_df_1\n",
    "\n"
   ]
  },
  {
   "cell_type": "code",
   "execution_count": 420,
   "metadata": {
    "collapsed": false
   },
   "outputs": [],
   "source": [
    "v = 20\n",
    "x_a_0 = x_df[v:v + 20].values\n"
   ]
  },
  {
   "cell_type": "code",
   "execution_count": 395,
   "metadata": {
    "collapsed": false
   },
   "outputs": [
    {
     "name": "stdout",
     "output_type": "stream",
     "text": [
      "[[ -2.75605506e+00   3.35403718e-01   4.09897306e+00   1.97111553e+00\n",
      "    3.55502615e+00   3.10282242e+00   7.22726654e+00   8.85833902e+00\n",
      "    6.58396537e+00   7.90831867e+00   6.53816373e+00   9.70995459e+00\n",
      "    8.42749154e+00   8.92931918e+00   1.19627150e+01   1.33192520e+01\n",
      "    1.22771354e+01   1.52752676e+01   1.31199034e+01   1.51199958e+01\n",
      "    1.53346050e+01   1.82944990e+01   1.76559000e+01   1.55950558e+01\n",
      "    1.90882617e+01   1.94385533e+01   1.96596377e+01   1.90866240e+01\n",
      "    2.07475609e+01   2.24091271e+01   2.14614764e+01   2.50291773e+01\n",
      "    2.19453380e+01   2.44315517e+01   2.48861478e+01   2.53912389e+01\n",
      "    2.77579424e+01   2.91314404e+01   2.71261227e+01   3.06243772e+01\n",
      "    3.19117972e+01   2.95893684e+01   3.06863379e+01   3.34161085e+01\n",
      "    3.29859938e+01   3.19406316e+01   3.63241720e+01   3.44217146e+01\n",
      "    3.43046782e+01   3.61346256e+01   3.88270767e+01   3.84144565e+01\n",
      "    3.94620295e+01   4.03315606e+01   4.22515442e+01   4.13414661e+01\n",
      "    4.09336758e+01   4.36652544e+01   4.20389515e+01   4.59845537e+01\n",
      "    4.51734932e+01   4.44936975e+01   4.81858115e+01   4.68250460e+01\n",
      "    4.60261516e+01   5.02898398e+01   5.10290010e+01   4.81018433e+01\n",
      "    5.33857281e+01   5.30041062e+01   5.26626207e+01   5.43926983e+01\n",
      "    5.45075540e+01   5.63657736e+01   5.56909682e+01   5.46243032e+01\n",
      "    5.70827545e+01   5.88638965e+01   5.80252890e+01   5.99671800e+01\n",
      "    6.06319080e+01   6.24548203e+01   6.20629898e+01   6.36346906e+01\n",
      "    6.11222697e+01   6.40240045e+01   6.54398119e+01   6.44298585e+01\n",
      "    6.23819786e+01   6.62622053e+01   6.76278511e+01   6.85792707e+01\n",
      "    6.85968439e+01   7.02083317e+01   7.01584368e+01   7.56189219e+01\n",
      "    7.18727607e+01   7.44110408e+01   7.56773304e+01   7.45989616e+01\n",
      "    7.52928430e+01   7.54942928e+01   7.65796368e+01   8.03990171e+01\n",
      "    7.66871038e+01   7.64943955e+01   8.23503071e+01   8.22136474e+01\n",
      "    8.19407313e+01   8.30340903e+01   8.10436700e+01   8.25733625e+01\n",
      "    8.21365614e+01   8.43474621e+01   8.71712001e+01   8.65657037e+01\n",
      "    8.57552495e+01   8.89328824e+01   9.04109586e+01   9.12483758e+01\n",
      "    9.22381193e+01   9.09004674e+01   9.31844269e+01   9.21070656e+01\n",
      "    9.09323436e+01   9.37337161e+01   9.40205459e+01   9.82691050e+01\n",
      "    9.73988661e+01   9.59785302e+01   9.96574151e+01   9.92472913e+01\n",
      "    9.77897540e+01   9.67986896e+01   1.01319133e+02   1.04241228e+02\n",
      "    1.00494526e+02   1.00483229e+02   1.03747664e+02   1.05070834e+02\n",
      "    1.03320012e+02   1.05479446e+02   1.06769239e+02   1.07147564e+02\n",
      "    1.04912655e+02   1.09238108e+02   1.09513735e+02   1.12301639e+02\n",
      "    1.09129615e+02   1.10281761e+02   1.09711735e+02   1.13173559e+02\n",
      "    1.12073505e+02   1.16635496e+02   1.16045112e+02   1.13851829e+02\n",
      "    1.16047644e+02   1.19194473e+02   1.18920890e+02   1.19698384e+02\n",
      "    1.22319928e+02   1.20524569e+02   1.21313009e+02   1.24644508e+02\n",
      "    1.20790300e+02   1.24037567e+02   1.24412196e+02   1.28608834e+02\n",
      "    1.25502944e+02   1.25037162e+02   1.29564615e+02   1.27905871e+02\n",
      "    1.30916500e+02   1.30682900e+02   1.31140659e+02   1.34001884e+02\n",
      "    1.32310264e+02   1.32693103e+02   1.32215883e+02   1.33112354e+02\n",
      "    1.32406860e+02   1.36818139e+02   1.35877058e+02   1.38718601e+02\n",
      "    1.36913690e+02   1.40769834e+02   1.39605624e+02   1.41305695e+02\n",
      "    1.38301632e+02   1.41828706e+02   1.42087181e+02   1.42720694e+02\n",
      "    1.45870955e+02   1.46102427e+02   1.46162448e+02   1.47694690e+02\n",
      "    1.46711904e+02   1.48221928e+02   1.46187974e+02   1.49711774e+02]\n",
      " [ -5.03432155e+01  -4.97803286e+01  -4.98942593e+01  -4.62960467e+01\n",
      "   -4.68401472e+01  -4.51011426e+01  -4.65515025e+01  -4.63660113e+01\n",
      "   -4.48162949e+01  -4.39103118e+01  -4.34060395e+01  -4.06804570e+01\n",
      "   -4.18433579e+01  -4.08951436e+01  -3.94162992e+01  -3.75932471e+01\n",
      "   -3.78556783e+01  -3.84043294e+01  -3.38111528e+01  -3.30262995e+01\n",
      "   -3.37954540e+01  -3.44619440e+01  -3.06935212e+01  -3.30498978e+01\n",
      "   -3.13657488e+01  -3.08832553e+01  -2.91705431e+01  -2.92908071e+01\n",
      "   -2.98230195e+01  -2.87316854e+01  -2.76023540e+01  -2.74105408e+01\n",
      "   -2.48671493e+01  -2.46552234e+01  -2.14141880e+01  -1.84731174e+01\n",
      "   -2.44217550e+01  -2.42531998e+01  -2.00955880e+01  -2.24824260e+01\n",
      "   -2.30369711e+01  -1.87402499e+01  -1.61865020e+01  -1.74210755e+01\n",
      "   -1.82517243e+01  -1.65662249e+01  -1.60757589e+01  -1.32716108e+01\n",
      "   -1.19369053e+01  -1.22661178e+01  -1.33459615e+01  -8.53849724e+00\n",
      "   -1.02234796e+01  -8.62437888e+00  -7.81252794e+00  -9.20976420e+00\n",
      "   -7.10210099e+00  -5.89746500e+00  -6.29250656e+00  -6.41873844e+00\n",
      "   -5.60084979e+00  -4.47296537e+00  -4.67149015e+00  -1.17181044e+00\n",
      "   -9.85703347e-01  -2.84896923e+00   7.86327533e-01   8.65843322e-01\n",
      "    1.30904062e+00   1.58572138e-01   4.61152473e+00   4.18645419e+00\n",
      "    5.52619086e+00   4.00770789e+00   6.36812015e+00   8.76217253e+00\n",
      "    5.90479734e+00   7.78481937e+00   9.31048483e+00   1.05962107e+01\n",
      "    9.77304597e+00   1.06889499e+01   1.22761012e+01   1.10457541e+01\n",
      "    1.34351613e+01   1.32244648e+01   1.60193781e+01   1.76839381e+01\n",
      "    1.61566670e+01   1.68139692e+01   2.00862061e+01   1.91857310e+01\n",
      "    1.90751669e+01   1.93392633e+01   2.16046416e+01   2.06185776e+01\n",
      "    2.20154562e+01   2.26746170e+01   2.23743869e+01   2.36357895e+01\n",
      "    2.45988347e+01   2.64483478e+01   2.75808409e+01   2.73613889e+01\n",
      "    3.03282177e+01   2.98467393e+01   2.72636465e+01   2.96051396e+01\n",
      "    3.18933667e+01   3.13526095e+01   3.31480514e+01   3.46634001e+01\n",
      "    3.48183863e+01   3.58353997e+01   3.67588821e+01   3.79887701e+01\n",
      "    3.65802943e+01   4.07097186e+01   3.85696724e+01   4.02111775e+01\n",
      "    3.88808644e+01   4.10092580e+01   4.09570903e+01   4.31198142e+01\n",
      "    4.16855373e+01   4.38994892e+01   4.57102622e+01   4.64268047e+01\n",
      "    4.62625867e+01   4.66056535e+01   4.61133987e+01   4.87634375e+01\n",
      "    4.87346298e+01   5.13057688e+01   4.81085102e+01   4.91140233e+01\n",
      "    5.49522066e+01   5.35726208e+01   5.47990130e+01   5.34452949e+01\n",
      "    5.60281474e+01   5.61886798e+01   5.83368845e+01   5.76964780e+01\n",
      "    5.82601004e+01   5.92351973e+01   6.12826495e+01   5.94098740e+01\n",
      "    6.12694315e+01   6.32784794e+01   6.37820140e+01   6.13161862e+01\n",
      "    6.57813215e+01   6.43943810e+01   6.65799190e+01   7.01066297e+01\n",
      "    6.61802631e+01   6.73419575e+01   6.67481123e+01   7.04319859e+01\n",
      "    6.56537746e+01   7.04825257e+01   7.36328501e+01   7.16607868e+01\n",
      "    7.36851120e+01   7.46147322e+01   7.64197755e+01   7.61996071e+01\n",
      "    7.71053464e+01   7.78456447e+01   7.57716327e+01   7.80813622e+01\n",
      "    7.88902280e+01   7.84536400e+01   7.97884093e+01   8.01567726e+01\n",
      "    8.21352652e+01   8.19248215e+01   8.45537874e+01   8.70428115e+01\n",
      "    8.62452295e+01   8.44698424e+01   8.72525752e+01   8.45383347e+01\n",
      "    8.75043166e+01   8.82950223e+01   9.09711241e+01   8.90328805e+01\n",
      "    9.27805542e+01   8.98434078e+01   9.21284579e+01   9.40801940e+01\n",
      "    9.35453234e+01   9.33840104e+01   9.56643749e+01   9.85947407e+01\n",
      "    9.73007101e+01   9.87364107e+01   1.00237791e+02   9.89475703e+01]\n",
      " [ -9.77089738e+01  -9.80416405e+01  -9.86149634e+01  -9.61995763e+01\n",
      "   -9.85041606e+01  -9.64716005e+01  -9.62869430e+01  -9.27400255e+01\n",
      "   -9.38950487e+01  -9.30351979e+01  -8.82941477e+01  -9.01607557e+01\n",
      "   -8.99588255e+01  -9.12330570e+01  -9.15401419e+01  -8.72966853e+01\n",
      "   -8.59237281e+01  -8.57653450e+01  -8.61409009e+01  -8.54775293e+01\n",
      "   -8.33201805e+01  -8.32644992e+01  -8.26578700e+01  -7.94909546e+01\n",
      "   -7.97027752e+01  -7.94043657e+01  -7.89852605e+01  -7.69868424e+01\n",
      "   -7.81923733e+01  -7.75191045e+01  -7.64897801e+01  -7.58219414e+01\n",
      "   -7.62666816e+01  -7.50399903e+01  -7.55305721e+01  -7.55752787e+01\n",
      "   -7.31220079e+01  -7.13781645e+01  -7.22143032e+01  -6.84117410e+01\n",
      "   -6.82506527e+01  -6.77647310e+01  -6.75628555e+01  -6.68683648e+01\n",
      "   -6.61318031e+01  -6.50850791e+01  -6.47579647e+01  -6.40952466e+01\n",
      "   -6.42597474e+01  -6.32598497e+01  -6.11109850e+01  -6.24246639e+01\n",
      "   -6.05780097e+01  -6.02253527e+01  -5.80569486e+01  -5.72312606e+01\n",
      "   -5.88995678e+01  -5.69785743e+01  -5.63653121e+01  -5.17009464e+01\n",
      "   -5.51524411e+01  -5.29296704e+01  -5.19327216e+01  -5.08077528e+01\n",
      "   -5.22231571e+01  -4.93957958e+01  -5.21827300e+01  -4.96456535e+01\n",
      "   -5.03012245e+01  -4.64233577e+01  -4.53055314e+01  -4.42181383e+01\n",
      "   -4.88645668e+01  -4.51389187e+01  -4.50232118e+01  -4.53820097e+01\n",
      "   -4.23290207e+01  -4.34346909e+01  -4.19293984e+01  -4.14737148e+01\n",
      "   -3.97662237e+01  -3.80270009e+01  -3.65555525e+01  -3.79030979e+01\n",
      "   -3.62676752e+01  -3.36564022e+01  -3.63678929e+01  -3.46726905e+01\n",
      "   -3.16502678e+01  -3.26550523e+01  -3.26168542e+01  -3.06623086e+01\n",
      "   -3.16463786e+01  -2.98939212e+01  -2.78698722e+01  -2.76805803e+01\n",
      "   -2.81638777e+01  -2.46374585e+01  -2.53880869e+01  -2.13939758e+01\n",
      "   -2.34957811e+01  -2.30626242e+01  -2.18685875e+01  -1.97986277e+01\n",
      "   -2.39418372e+01  -2.00304489e+01  -2.15105081e+01  -1.89947400e+01\n",
      "   -2.14389764e+01  -1.58491721e+01  -1.59479671e+01  -1.69962204e+01\n",
      "   -1.45094634e+01  -1.62944222e+01  -1.57885866e+01  -1.54394206e+01\n",
      "   -1.06469289e+01  -1.37522593e+01  -1.12064460e+01  -1.03434551e+01\n",
      "   -1.07536936e+01  -9.25877940e+00  -6.31816404e+00  -8.31277110e+00\n",
      "   -6.31382702e+00  -4.71897714e+00  -6.98767806e+00  -4.45134096e+00\n",
      "   -3.62671460e+00  -5.58271992e-01   1.20012744e+00  -1.87558163e+00\n",
      "    2.70277411e-01   1.82283117e-02   2.18577731e+00   4.84511529e+00\n",
      "    1.08021543e+00   3.70473736e+00   1.61788428e+00   5.81092697e+00\n",
      "    5.47567336e+00   5.63295306e+00   7.84126374e+00   7.91101665e+00\n",
      "    1.00306468e+01   8.27553820e+00   1.01363616e+01   9.10590151e+00\n",
      "    1.35828959e+01   9.13471466e+00   1.36734714e+01   1.42224088e+01\n",
      "    1.30876762e+01   1.54400696e+01   1.56561721e+01   1.84463337e+01\n",
      "    1.77312803e+01   1.58656276e+01   2.02971021e+01   1.89042889e+01\n",
      "    2.22581426e+01   2.19939368e+01   2.06359694e+01   2.25563010e+01\n",
      "    2.32446078e+01   2.29165282e+01   2.30424311e+01   2.53471681e+01\n",
      "    2.48229845e+01   2.67176342e+01   2.89145477e+01   2.99645177e+01\n",
      "    2.83079856e+01   2.98232521e+01   3.12507889e+01   3.25749873e+01\n",
      "    3.21913302e+01   3.18902313e+01   3.44948189e+01   3.20568773e+01\n",
      "    3.11067043e+01   3.66165032e+01   3.56574532e+01   3.75522557e+01\n",
      "    4.04727260e+01   3.92194151e+01   3.81042600e+01   4.28576523e+01\n",
      "    3.92218084e+01   4.35481703e+01   4.34865983e+01   4.20515993e+01\n",
      "    4.44138390e+01   4.61997190e+01   4.92013566e+01   4.48153944e+01\n",
      "    4.80055380e+01   4.45056050e+01   4.83311112e+01   4.76396300e+01]\n",
      " [ -1.49647294e+02  -1.48802246e+02  -1.47820239e+02  -1.45039568e+02\n",
      "   -1.48294675e+02  -1.45386891e+02  -1.44990174e+02  -1.44987463e+02\n",
      "   -1.41924678e+02  -1.42646821e+02  -1.43075847e+02  -1.37901664e+02\n",
      "   -1.43105034e+02  -1.40573264e+02  -1.37467354e+02  -1.39753958e+02\n",
      "   -1.38816453e+02  -1.37863326e+02  -1.37375763e+02  -1.36268824e+02\n",
      "   -1.34847437e+02  -1.33967283e+02  -1.34182349e+02  -1.32467364e+02\n",
      "   -1.35725078e+02  -1.31697232e+02  -1.31830422e+02  -1.29837210e+02\n",
      "   -1.27653436e+02  -1.30241423e+02  -1.25894880e+02  -1.25117025e+02\n",
      "   -1.26926113e+02  -1.23153873e+02  -1.24026165e+02  -1.23256014e+02\n",
      "   -1.21282412e+02  -1.21061396e+02  -1.20055580e+02  -1.19316100e+02\n",
      "   -1.20452403e+02  -1.18961400e+02  -1.17387446e+02  -1.16438132e+02\n",
      "   -1.16130278e+02  -1.14073544e+02  -1.13749779e+02  -1.12191858e+02\n",
      "   -1.15010627e+02  -1.10756502e+02  -1.12056124e+02  -1.10880206e+02\n",
      "   -1.11164535e+02  -1.09126240e+02  -1.09983547e+02  -1.09535474e+02\n",
      "   -1.07128234e+02  -1.06811562e+02  -1.04353941e+02  -1.04004799e+02\n",
      "   -1.05118026e+02  -1.04020081e+02  -1.03626776e+02  -1.04807077e+02\n",
      "   -1.02528033e+02  -1.01770732e+02  -9.83298433e+01  -9.80725398e+01\n",
      "   -1.00415829e+02  -9.69599245e+01  -1.00976722e+02  -9.98922265e+01\n",
      "   -9.57870581e+01  -9.43582031e+01  -9.21842966e+01  -9.29146042e+01\n",
      "   -9.54126654e+01  -9.26671933e+01  -9.10157530e+01  -8.86066365e+01\n",
      "   -8.89650829e+01  -9.14144855e+01  -9.02278304e+01  -8.47362817e+01\n",
      "   -8.61602158e+01  -8.79432683e+01  -8.40560944e+01  -8.12525558e+01\n",
      "   -8.55857432e+01  -8.23375173e+01  -8.24268198e+01  -8.14937250e+01\n",
      "   -7.97959600e+01  -8.11721665e+01  -7.90937263e+01  -7.78291171e+01\n",
      "   -7.83362103e+01  -7.87011575e+01  -7.64095849e+01  -7.72505209e+01\n",
      "   -7.63070270e+01  -7.45151307e+01  -7.59678397e+01  -7.40865397e+01\n",
      "   -7.23765943e+01  -7.31537508e+01  -6.88783786e+01  -6.89232693e+01\n",
      "   -6.60914499e+01  -6.91875865e+01  -6.74211358e+01  -6.44497795e+01\n",
      "   -6.72298929e+01  -6.34113091e+01  -6.41024317e+01  -6.26633927e+01\n",
      "   -6.37839357e+01  -6.46942587e+01  -6.09335274e+01  -5.95497872e+01\n",
      "   -6.09672686e+01  -5.89597365e+01  -5.99930115e+01  -5.33826260e+01\n",
      "   -5.65179030e+01  -5.72626183e+01  -5.33328254e+01  -5.68136913e+01\n",
      "   -5.33702807e+01  -5.42020417e+01  -5.35456941e+01  -4.87749967e+01\n",
      "   -5.04706497e+01  -5.14420398e+01  -4.58755310e+01  -4.80823709e+01\n",
      "   -4.91153711e+01  -4.72357815e+01  -4.52803082e+01  -4.27891936e+01\n",
      "   -4.59031739e+01  -4.37061466e+01  -4.44072623e+01  -4.20985554e+01\n",
      "   -4.11812879e+01  -4.02380366e+01  -4.00666122e+01  -3.47584570e+01\n",
      "   -4.25069602e+01  -3.51952768e+01  -3.62382521e+01  -3.34461778e+01\n",
      "   -3.60637534e+01  -3.42367052e+01  -3.28616687e+01  -3.37605191e+01\n",
      "   -3.36888464e+01  -2.97616382e+01  -3.12424855e+01  -3.07493008e+01\n",
      "   -2.99680817e+01  -2.85809440e+01  -2.65913319e+01  -2.54544181e+01\n",
      "   -2.68313145e+01  -2.43068039e+01  -2.42250091e+01  -2.25220926e+01\n",
      "   -2.38699430e+01  -2.21795737e+01  -2.31754787e+01  -2.20808998e+01\n",
      "   -1.96874621e+01  -2.00871740e+01  -1.82542081e+01  -1.74948625e+01\n",
      "   -1.79885170e+01  -1.64478642e+01  -1.86916165e+01  -1.41566897e+01\n",
      "   -1.20191337e+01  -1.32972235e+01  -1.15737100e+01  -1.07723881e+01\n",
      "   -1.36473656e+01  -1.09864813e+01  -1.00873393e+01  -1.03732498e+01\n",
      "   -8.14900208e+00  -9.11257548e+00  -9.23262785e+00  -4.92274989e+00\n",
      "   -5.85467492e+00  -4.59233910e+00  -4.07294559e+00  -1.02847034e+00\n",
      "   -3.77919420e+00   1.06474606e+00  -4.01768607e-01   3.45717909e+00]]\n",
      "[ 80.39901713  27.36138893 -19.7986277  -74.08653971]\n",
      "          0           1           2           3           4           5    \\\n",
      "0   -2.756055    0.335404    4.098973    1.971116    3.555026    3.102822   \n",
      "1  -50.343215  -49.780329  -49.894259  -46.296047  -46.840147  -45.101143   \n",
      "2  -97.708974  -98.041641  -98.614963  -96.199576  -98.504161  -96.471600   \n",
      "3 -149.647294 -148.802246 -147.820239 -145.039568 -148.294675 -145.386891   \n",
      "\n",
      "          6           7           8           9       ...             190  \\\n",
      "0    7.227267    8.858339    6.583965    7.908319     ...      142.087181   \n",
      "1  -46.551502  -46.366011  -44.816295  -43.910312     ...       92.128458   \n",
      "2  -96.286943  -92.740025  -93.895049  -93.035198     ...       43.486598   \n",
      "3 -144.990174 -144.987463 -141.924678 -142.646821     ...       -9.232628   \n",
      "\n",
      "          191         192         193         194         195         196  \\\n",
      "0  142.720694  145.870955  146.102427  146.162448  147.694690  146.711904   \n",
      "1   94.080194   93.545323   93.384010   95.664375   98.594741   97.300710   \n",
      "2   42.051599   44.413839   46.199719   49.201357   44.815394   48.005538   \n",
      "3   -4.922750   -5.854675   -4.592339   -4.072946   -1.028470   -3.779194   \n",
      "\n",
      "          197         198         199  \n",
      "0  148.221928  146.187974  149.711774  \n",
      "1   98.736411  100.237791   98.947570  \n",
      "2   44.505605   48.331111   47.639630  \n",
      "3    1.064746   -0.401769    3.457179  \n",
      "\n",
      "[4 rows x 200 columns]\n"
     ]
    }
   ],
   "source": [
    "\n",
    "\n"
   ]
  },
  {
   "cell_type": "code",
   "execution_count": 330,
   "metadata": {
    "collapsed": false
   },
   "outputs": [
    {
     "name": "stdout",
     "output_type": "stream",
     "text": [
      "<type 'numpy.ndarray'>\n",
      "<class 'pandas.core.frame.DataFrame'>\n",
      "[[ 26.23672234]\n",
      " [ 25.9795602 ]\n",
      " [ 27.30845595]\n",
      " [ 25.03585826]\n",
      " [ 26.45780674]\n",
      " [ 27.6922724 ]\n",
      " [ 27.72756118]\n",
      " [ 24.90266798]\n",
      " [ 25.88479298]\n",
      " [ 27.57200847]\n",
      " [ 29.72597931]\n",
      " [ 26.89588026]\n",
      " [ 28.88727774]\n",
      " [ 28.583266  ]\n",
      " [ 29.68937608]\n",
      " [ 30.67217416]\n",
      " [ 30.548844  ]\n",
      " [ 29.67460003]\n",
      " [ 30.36264483]\n",
      " [ 28.08418656]]\n"
     ]
    }
   ],
   "source": [
    "print type(dX)\n",
    "print type(pd.DataFrame(dX))\n",
    "print dx_a_0"
   ]
  },
  {
   "cell_type": "code",
   "execution_count": null,
   "metadata": {
    "collapsed": true
   },
   "outputs": [],
   "source": []
  },
  {
   "cell_type": "code",
   "execution_count": null,
   "metadata": {
    "collapsed": true
   },
   "outputs": [],
   "source": []
  },
  {
   "cell_type": "code",
   "execution_count": null,
   "metadata": {
    "collapsed": false
   },
   "outputs": [],
   "source": []
  },
  {
   "cell_type": "markdown",
   "metadata": {},
   "source": []
  },
  {
   "cell_type": "code",
   "execution_count": null,
   "metadata": {
    "collapsed": false
   },
   "outputs": [],
   "source": []
  },
  {
   "cell_type": "markdown",
   "metadata": {},
   "source": []
  },
  {
   "cell_type": "code",
   "execution_count": null,
   "metadata": {
    "collapsed": false
   },
   "outputs": [],
   "source": []
  },
  {
   "cell_type": "code",
   "execution_count": null,
   "metadata": {
    "collapsed": false
   },
   "outputs": [],
   "source": []
  },
  {
   "cell_type": "code",
   "execution_count": null,
   "metadata": {
    "collapsed": false
   },
   "outputs": [],
   "source": []
  },
  {
   "cell_type": "code",
   "execution_count": null,
   "metadata": {
    "collapsed": false
   },
   "outputs": [],
   "source": []
  },
  {
   "cell_type": "code",
   "execution_count": null,
   "metadata": {
    "collapsed": true
   },
   "outputs": [],
   "source": []
  },
  {
   "cell_type": "code",
   "execution_count": null,
   "metadata": {
    "collapsed": true
   },
   "outputs": [],
   "source": []
  }
 ],
 "metadata": {
  "kernelspec": {
   "display_name": "Python 2",
   "language": "python",
   "name": "python2"
  },
  "language_info": {
   "codemirror_mode": {
    "name": "ipython",
    "version": 2
   },
   "file_extension": ".py",
   "mimetype": "text/x-python",
   "name": "python",
   "nbconvert_exporter": "python",
   "pygments_lexer": "ipython2",
   "version": "2.7.11"
  }
 },
 "nbformat": 4,
 "nbformat_minor": 0
}
