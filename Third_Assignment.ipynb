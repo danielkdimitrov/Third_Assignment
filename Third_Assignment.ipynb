{
 "cells": [
  {
   "cell_type": "markdown",
   "metadata": {
    "collapsed": false
   },
   "source": [
    "# Third Assignment\n",
    "\n",
    "Carlos Gonzales (<span style=\"color: red\"> ??? </span>),\n",
    "Daniel Dimitrov (<span style=\"color: red\"> ??? </span>),\n",
    "Jakob Schwerter (110583)"
   ]
  },
  {
   "cell_type": "markdown",
   "metadata": {},
   "source": [
    "Things that have to be done:\n",
    "\n",
    "( <span style=\"color: red\"> Calculating the within-transformation using numpy. I might get it done tomorrow</span> )\n",
    "    - Getting the standard errors in all simulations of the estimation (not the estimator!)\n",
    "    - Nice plots for all the results to picture the results. \n",
    "    - Make plots flexible to parameter changes (for us n, t and beta)\n",
    "    - If possible, make the code faster / easier\n",
    "    - Count the time the stata and comparable python code needs\n",
    "    - Comment on which program to prefer\n",
    "    - Check typos\n",
    "    - Loading a dataset to check the simulation results for a empirical dataset\n",
    "    - write an executive summary \n",
    "    - Do we want to talk about the differences of the estimator to the true?"
   ]
  },
  {
   "cell_type": "code",
   "execution_count": 36,
   "metadata": {
    "collapsed": false
   },
   "outputs": [],
   "source": [
    "import ipystata # https://github.com/TiesdeKok/ipystata - We kind of helped so that ipystata works on mac as well :)\n",
    "import numpy as np\n",
    "import pandas as pd\n",
    "\n",
    "# pip install ipystata --upgrade --force-reinstall\n",
    "# Check if a new version is online before running the code.\n",
    "# Might be useful and does not take much time"
   ]
  },
  {
   "cell_type": "code",
   "execution_count": 37,
   "metadata": {
    "collapsed": false,
    "scrolled": true
   },
   "outputs": [
    {
     "name": "stdout",
     "output_type": "stream",
     "text": [
      "[TerminalIPythonApp] WARNING | Subcommand `ipython install-nbextension` is deprecated and will be removed in future versions.\n",
      "[TerminalIPythonApp] WARNING | You likely want to use `jupyter install-nbextension`... continue in 5 sec. Press Ctrl-C to quit now.\n",
      "downloading https://bitbucket.org/ipre/calico/downloads/calico-spell-check-1.0.zip to /var/folders/fq/w4v55vm52pvg18kzm9tvtddm0000gn/T/tmpoXR6Nr/calico-spell-check-1.0.zip\n",
      "extracting /var/folders/fq/w4v55vm52pvg18kzm9tvtddm0000gn/T/tmpoXR6Nr/calico-spell-check-1.0.zip to /usr/local/share/jupyter/nbextensions\n"
     ]
    }
   ],
   "source": [
    "#install spellchecker\n",
    "!ipython install-nbextension https://bitbucket.org/ipre/calico/downloads/calico-spell-check-1.0.zip\n",
    "#after you install it, activate it executing the next step.     \n",
    "#this video provides a demo of how it works after you install it: https://www.youtube.com/watch?v=Km3AtRynWFQ"
   ]
  },
  {
   "cell_type": "code",
   "execution_count": 39,
   "metadata": {
    "collapsed": false
   },
   "outputs": [
    {
     "data": {
      "application/javascript": [
       "require(['base/js/utils'],\n",
       "function(utils) {\n",
       "   utils.load_extensions('calico-spell-check');\n",
       "});"
      ],
      "text/plain": [
       "<IPython.core.display.Javascript object>"
      ]
     },
     "metadata": {},
     "output_type": "display_data"
    }
   ],
   "source": [
    "%%javascript\n",
    "require(['base/js/utils'],\n",
    "function(utils) {\n",
    "   utils.load_extensions('calico-spell-check');\n",
    "});"
   ]
  },
  {
   "cell_type": "code",
   "execution_count": null,
   "metadata": {
    "collapsed": false
   },
   "outputs": [],
   "source": []
  },
  {
   "cell_type": "markdown",
   "metadata": {
    "collapsed": false
   },
   "source": [
    "# 1. Motivation\n",
    "\n",
    "We construct a simulation for a random-trend (RT) model as defined by [Wooldrige 2010](https://mitpress.mit.edu/books/econometric-analysis-cross-section-and-panel-data),  section 11.7.1. The model is an extension of the [fixed-effects (FE) model](https://en.wikipedia.org/wiki/Fixed_effects_model) for panel-data and overcomes some deficiencies. Our main interest is to find an unbiased estimator after a linear random-trend has already introduced some bias in the classical panel estimation methods.\n",
    "\n",
    "The basic model to estimate a dependent variable follows a linear panel data specification. The specific model is as follows:\n",
    "\n",
    "$$y_{it} = \\beta \\cdot x_{it} + u_{it} \\quad (1) $$\n",
    "\n",
    "As we are working with a panel, the index $i$ stands for an individual (person, company, country, etc.), while the index $t$ represents time. The dependent and the independent variables are respectively indicated by $y_{it}$ and $x_{it}$ and vary both over the individuals and over the time dimension. The error term is represented by $u_{it}$. This can be decomposed into three terms:\n",
    "\n",
    "$$u_{it} = \\alpha_i + e_{it} $$\n",
    "\n",
    "In this context $\\alpha_i$ is an unobserved individual specific effect that stays constant for each individual and $e_{it}$ is an idiosyncratic error that changes both over time and over individuals. In practice we are mostly interested in estimating the effect of $x$ on $y$ and so we are looking for an unbiased and consistent estimation of $\\beta$. \n",
    "\n",
    "Given that both $x$ and $y$ are correlated with the first two parts of the error term, using just normal OLS without any data-transformation (pooled regression) will give biased results ([omitted variable bias](https://www.youtube.com/watch?v=6I1tUM0RB6I)).\n",
    "\n",
    "To methods can be used to deal with the ommited variable bias induced by the constant error term: The fixed-effects (FE) and the first-differecen (FD) method.\n",
    "\n",
    "The fixed-effects (FE) method can handle situations by the so-called within transformation, subtracting the mean from each variable corresponding to each individual. This eliminates the individual-specific effect which is constant over time (here: $\\alpha_i$) and allows for a standard [OLS estimation](https://en.wikipedia.org/wiki/Ordinary_least_squares). \n",
    "\n",
    "$$y_{it} - \\bar{y}_{i} = \\beta \\cdot (x_{it} - \\bar{x}_{i} + \\alpha_i - \\alpha_i + e_{it} - \\bar{e}_{i} \\quad (2)$$ with $\\bar{y}_{i} = \\sum_{t=1}^T y_{it}$, $\\bar{x}_{i} = \\sum_{t=1}^T x_{it}$ and $\\bar{e}_{i} = \\sum_{t=1}^T e_{it}$\n",
    "\n",
    "The first-differences achieves to control for the bias be taking substracting the past observation from the current one:\n",
    "\n",
    "$$y_{it} - y_{it-1} = \\beta \\cdot ( x_{it} - x_{it-1}) + \\alpha_i - \\alpha_{i} + (e_{it} - e_{it-1}) \\quad (3) $$\n",
    "\n",
    "One can clearly see that in both methods the $\\alpha_i$ cancels out of the regression, solving a possible correlation between $\\alpha_i$ with $y_{it} $ and $x_{it}$. Still, a crucial requirement for retrieving reliable estimates is that the independent variable and the idiosyncratic term remain uncorrelated in expectations.     \n",
    "\n",
    "Things get complicated however, when besides the unobserved constant ($\\alpha_i$), the variable of interest ($x_{it}$) is correlated also with a linear trend ($g_i \\cdot t$). Keeping the variable names as before, the error term can be decomposed as:\n",
    "\n",
    "$$u_{it} = \\alpha_i + g_i \\cdot t + e_{it} $$\n",
    "\n",
    "Now, $g_i$ is a linear trend which is specific for each individual. Note that if $y_{it}$ is a logarithm of the original variable, $g_i$ can also be interpreted as roughly the average growth rate over a period. Overall, this presents an additional source of heterogeneity and needs to be dealt with before employing an OLS estimation.      \n",
    "\n",
    "To solve the possible bias problem due to the random-trend component, the literature just states that in the first step we have to calculate the first-differences in order to transform the linear trend into a constant. Thereafter, it is up to the researcher to continue with either the within-transformation or the first-difference (even though both are fixed-effect methods, we will be consistent with the literature to call the within-transformation the fixed-effect method). We will investigate if one of the approaches is superior to the other in means of the estimation bias of the coefficient [<span style=\"color: red\">???, standard errors and model selection criteria ($R^2$, AIC and BIC)???</span>].\n",
    "\n",
    "Taking the first-difference in the RT set-up gives\n",
    "\n",
    "$$y_{it} - y_{it-1} = \\beta \\cdot ( x_{it} - x_{it-1}) + \\alpha_i - \\alpha_{i} +   g_i \\cdot t - g_{i} \\cdot (t-1) + (e_{it} - e_{it-1})$$\n",
    "\n",
    "$$ \\iff \\Delta y_{it} = \\beta \\cdot \\Delta x_{it} + g_i + \\Delta  e_{it}$$\n",
    "\n",
    "One can see that the linear trend is reduced to a constant term which can be canceled out by a second first-difference or an with-transformation. So, we have two possibilities for estimation given the RT model: \n",
    "- The **FD Method**: Taking two times the first-difference, will be named _pure_ in the tables later on\n",
    "- The **FD-FE Method**: First the first-difference, then the fixed-effect, named _mix_.\n",
    "\n",
    "<span style=\"color: red\"> [Daniel: this part is a bit unclear to me. Jakob: Can you be more precise what you don't understand. This part just shows that if we indeed use the **FD Method** or the **FD-FE Method** will cancel out the remaining constant term given by $ g_i$.] \n",
    "\n",
    "First-differencing leads to:\n",
    "$$\\Delta^2 y_{it} = \\beta \\cdot \\Delta^2 x_{it} + \\Delta^2 e_{it} \\quad (4) $$, whereby $\\Delta^2$ stands for the taking two first-differences.  \n",
    "The FE transformation for each variable is to subtract from it the mean corresponding to each individual:\n",
    "$$\\Delta y'_{it} = \\beta \\cdot \\Delta x'_{it} + \\Delta e'_{it} \\quad (5) $$\n",
    "where ' denotes that the variables are demeaned.\n",
    "One can clearly see that we canceld out both terms $\\alpha_i$ and $g_i \\cdot t$. Thereby $\\beta$ will not be biased even though in the data included two different sorts of bias' in the first place.\n",
    "\n",
    "\n",
    "Taking first the fixed-effects rather than the first-difference would give the following:\n",
    "$$y_{it} - \\bar{y}_{i} = \\beta \\cdot ( x_{it} - \\bar{x}_{i}) + \\alpha_i - \\alpha_{i} +   g_i \\cdot (t - \\bar{t}) + (e_{it} - \\bar{e}_{i})$$\n",
    "Using a second transformation we will not be able to cancel out the time trend effect (we will confirm this in the simulation at some point). We thereby see that it is crucial to first take the first-difference and not the within-transformation.</span>\n",
    "\n",
    "Given that our group is new to python but experienced in stata, we will first do the simulation via stata by using the package [`ipystata`](https://github.com/TiesdeKok/ipystata). Thereby we have a known language which we can refer to as our benchmark. In a second step we will use only open software packages to replicate the results. Thereby we will comment which python code is comparable to which stata code. Despide having the stata-results as a benchmark, we start a nice _translater_ from stata to python. We will also comment on the speed of both languages as well as advantages and disadvantages of the coding part.\n",
    "\n",
    "The assignment will continue as follows: (i) First we explain step by step our Data Generating Process (DGP). (ii) Then we run a simulation without a random trend to see if everything works fine. (iii) Next we run the same simulation using a constant linear trend and (iv) an individual specific trend in the data generating process. To see how robust the random-trend estimates are, we will further run two simulations using two non-linear trends.\n",
    "After that we will reproduce the results of the individual trend using open-source packages only.\n"
   ]
  },
  {
   "cell_type": "markdown",
   "metadata": {
    "collapsed": false
   },
   "source": [
    "# 2. Simulation and Estimation with Stata\n",
    "\n",
    "## 2.1. Explanation of the Data Generating Process (DGP)\n",
    "We will first explain the main part of the simulation process. Minor changes or additions however will be denoted later in the code. In _Stata_ commenting within the code is done using \" * \"\n",
    "\n",
    "The first two cells are to call _Stata_ and to see if it actually works within the Python environment."
   ]
  },
  {
   "cell_type": "code",
   "execution_count": 5,
   "metadata": {
    "collapsed": false
   },
   "outputs": [],
   "source": [
    "from ipystata.config import config_stata\n",
    "config_stata('/Applications/Stata/StataSE.app/Contents/MacOS/StataSE') \n",
    "\n",
    "# Windows  --> 'C:\\Program Files (x86)\\Stata14\\StataSE-64.exe'\n",
    "# Mac OS X --> '/Applications/Stata/StataSE.app/Contents/MacOS/stataSE'\n",
    "# Linux    --> '/home/user/stata14/stata-se'"
   ]
  },
  {
   "cell_type": "code",
   "execution_count": 6,
   "metadata": {
    "collapsed": false
   },
   "outputs": [
    {
     "name": "stdout",
     "output_type": "stream",
     "text": [
      "\n",
      "Hello, I am printed by Stata\n",
      "We welcome you to our assignment and we hope you enjoy it\n"
     ]
    }
   ],
   "source": [
    "%%stata \n",
    "display \"Hello, I am printed by Stata\" \n",
    "display \"We welcome you to our assignment and we hope you enjoy it\""
   ]
  },
  {
   "cell_type": "code",
   "execution_count": 7,
   "metadata": {
    "collapsed": false,
    "scrolled": true
   },
   "outputs": [
    {
     "name": "stdout",
     "output_type": "stream",
     "text": [
      "\n",
      "D:\\Google Doc\\_Tilburg\\_Simulation\\stata\n"
     ]
    }
   ],
   "source": [
    "%%stata \n",
    "cd \"D:\\Google Doc\\_Tilburg\\_Simulation\\stata\" \n",
    "set seed 100"
   ]
  },
  {
   "cell_type": "markdown",
   "metadata": {},
   "source": [
    "> First we have to _call_ stata using `%%stata`. Then by using `cd` we indicate where it should look for files and where it can save them.\n",
    "\n",
    "> We further set the seed to 100, so that results are easier to be reproduced."
   ]
  },
  {
   "cell_type": "code",
   "execution_count": 8,
   "metadata": {
    "collapsed": false
   },
   "outputs": [
    {
     "name": "stdout",
     "output_type": "stream",
     "text": [
      "\n",
      "(obs 200)\n"
     ]
    }
   ],
   "source": [
    "%%stata -o simulation\n",
    "drawnorm alpha_i, n(200)\n"
   ]
  },
  {
   "cell_type": "markdown",
   "metadata": {},
   "source": [
    ">We create a new dataset called _simulation_ using `-o`. This is necessary for `ipystata` on mac, because the data would not be stored otherwise.\n",
    "\n",
    ">Then we draw 200 iid random numbers of a standard normal distribution with mean zero and variance 1. We name it $alpha_i$ ($\\alpha_i$). In the context of panel data, the variable $\\alpha_i$ stands for the unobserved time-invariant individual effect.   "
   ]
  },
  {
   "cell_type": "code",
   "execution_count": 9,
   "metadata": {
    "collapsed": false
   },
   "outputs": [
    {
     "name": "stdout",
     "output_type": "stream",
     "text": [
      "\n",
      "(800 observations created)\n"
     ]
    }
   ],
   "source": [
    "%%stata -d simulation -o simulation\n",
    "expand 5"
   ]
  },
  {
   "cell_type": "markdown",
   "metadata": {
    "collapsed": false
   },
   "source": [
    "> `-d` calls the dataset _simulation_ , otherwise the commands afterwards would not find any variables. The command `-o simulation` saves the changes.\n",
    "\n",
    "> We expand the generated data by 5, i.e. simply repeating every alpha 4 additional times\n",
    "As a result, the vector expands from $(200 \\; \\text{x} \\; 1)$ to $(200 \\cdot 5 \\; \\text{x} \\; 1)$. What we have done is to create a variable of 500 individuals, each described by some measure that is randomly generated. The expanding here ensures that for each individual the measure stays constant over time, thus replicating time-invariant individual effects. "
   ]
  },
  {
   "cell_type": "code",
   "execution_count": 10,
   "metadata": {
    "collapsed": false
   },
   "outputs": [
    {
     "name": "stdout",
     "output_type": "stream",
     "text": [
      "\n",
      "\n"
     ]
    }
   ],
   "source": [
    "%%stata -d simulation -o simulation\n",
    "drawnorm nu_it e_it, n(1000)"
   ]
  },
  {
   "cell_type": "markdown",
   "metadata": {},
   "source": [
    "> We draw two new variables (or vectors) now with $1000$ entries from a multivariate normal distribution. 1000 draws are made, so that this fits with the 200 persons and the 5 time periods we created by expanding the alphas by 5. Both variables are independent from each other, so they are not correlated, and the data is also i.i.d. over time.\n",
    " \n",
    "> To verify that we did everything correctly, we have a look into summary statistics"
   ]
  },
  {
   "cell_type": "code",
   "execution_count": 11,
   "metadata": {
    "collapsed": false
   },
   "outputs": [
    {
     "name": "stdout",
     "output_type": "stream",
     "text": [
      "\n",
      "    Variable |       Obs        Mean    Std. Dev.       Min        Max\n",
      "-------------+--------------------------------------------------------\n",
      "       index |      1000       499.5    288.8194          0        999\n",
      "     alpha_i |      1000    .0433381    .9505638  -1.962526   2.542606\n",
      "       nu_it |      1000      .06557    1.007816  -2.971299   3.528579\n",
      "        e_it |      1000   -.0280785    1.039311   -3.89692   3.124364\n"
     ]
    }
   ],
   "source": [
    "%%stata -d simulation\n",
    "sum "
   ]
  },
  {
   "cell_type": "markdown",
   "metadata": {},
   "source": [
    ">We see the three generated variables $\\alpha_i, \\; nu_{it}, \\; e_{it}$, having a mean very close to zero and a standard deviation close to 1. Further, using stata in python, and index variable is generated automatically. The index variable would be the individual identifier variable if we would run a pooled panel regression. "
   ]
  },
  {
   "cell_type": "code",
   "execution_count": 12,
   "metadata": {
    "collapsed": false
   },
   "outputs": [
    {
     "name": "stdout",
     "output_type": "stream",
     "text": [
      "\n",
      "\n"
     ]
    }
   ],
   "source": [
    "%%stata -d simulation -o simulation\n",
    "g x_it = nu_it + alpha_i"
   ]
  },
  {
   "cell_type": "markdown",
   "metadata": {},
   "source": [
    ">Generates our variable of interest $x_{it}$ using the two variables we created in a previous step. Since $\\alpha_i$ is part of it and is time-invariant, $x_{it}$ will be correlated over time."
   ]
  },
  {
   "cell_type": "code",
   "execution_count": 13,
   "metadata": {
    "collapsed": false
   },
   "outputs": [
    {
     "name": "stdout",
     "output_type": "stream",
     "text": [
      "\n",
      "\n"
     ]
    }
   ],
   "source": [
    "%%stata -d simulation -o simulation\n",
    "g y_it=3+alpha_i+2*x_it+e_it"
   ]
  },
  {
   "cell_type": "markdown",
   "metadata": {},
   "source": [
    ">Generates our dependent variable $y_{it}$. We use an intercept, $\\alpha_i$, dependent variable $x_{it}$ and residual $e_{it}$ for that. The assigned regression parameter to $x_{it}$ is $2$.\n",
    " \n",
    ">The underlying model is a panel data model, consisting of 200 individuals and 5 time periods per person. It is completely balanced. The variables $y_{it}$ and $x_{it}$ are correlated with a constant term $\\alpha_i$. This produces autocorrelation within an individual.\n",
    "\n",
    "\n",
    "\n",
    ">Checking if the code worked:"
   ]
  },
  {
   "cell_type": "code",
   "execution_count": 14,
   "metadata": {
    "collapsed": false
   },
   "outputs": [
    {
     "name": "stdout",
     "output_type": "stream",
     "text": [
      "\n",
      "             |    index  alpha_i    nu_it     e_it     x_it     y_it\n",
      "-------------+------------------------------------------------------\n",
      "       index |   1.0000 \n",
      "             |\n",
      "             |\n",
      "     alpha_i |  -0.0304   1.0000 \n",
      "             |   0.3368\n",
      "             |\n",
      "       nu_it |  -0.0383  -0.0237   1.0000 \n",
      "             |   0.2258   0.4532\n",
      "             |\n",
      "        e_it |   0.0054   0.0121   0.0262   1.0000 \n",
      "             |   0.8646   0.7018   0.4079\n",
      "             |\n",
      "        x_it |  -0.0493   0.6769   0.7198   0.0277   1.0000 \n",
      "             |   0.1189   0.0000   0.0000   0.3814\n",
      "             |\n",
      "        y_it |  -0.0436   0.7757   0.5440   0.3103   0.9391   1.0000 \n",
      "             |   0.1682   0.0000   0.0000   0.0000   0.0000\n",
      "             |\n",
      "unrecognized command:  corrtex\n",
      "r(199);\n"
     ]
    }
   ],
   "source": [
    "%%stata -d simulation\n",
    "pwcorr,sig\n",
    "corrtex alpha_i e_it x_it y_it, sig "
   ]
  },
  {
   "cell_type": "markdown",
   "metadata": {},
   "source": [
    "> The command [_pwcorr_](http://www.stata.com/help.cgi?pwcorr) shows a correlation table of the variables in the dataset (which were generated previously). The option _sig_ prints significance level for each correlation. Results are presented above. There is a statistically significant correlation between $x_{it}$ and $\\alpha_i$ (77.64%). As a result, not including or solving for $\\alpha_i$ when regressing in a panel model $x_it$ on $y_{it}$ will produce biased estimates. The correlation of $x_{it}$ on $y_{it}$ and $\\alpha_i$ is naturally very high, since it depends on both variables in our set-up.\n",
    " The correlation of $e_{it}$ with $x_{it}$ and $\\alpha_i$ is very low and statistical insignificant, which is necessary and by construction. An OLS model like $y_{it} = \\beta x_{it}$  will be upward biased since the correlation of $\\alpha_i$ and $x_{it}$ is positive. $\\beta$ will estimate the effect of $\\alpha$ and $x_{it}$. If the correlation would be negative, it would have been downward biased.\n",
    "\n",
    "> To check if the DGP is correct, we do one simulation without imposing a trend into the DGP.\n",
    "\n",
    "# 2.2. Simulation without Random Trend in the true DGP\n",
    "\n",
    "Now we run the DGP defined earlier and verify how different estimation procedures are able to capture the parameters we have embedded, namely a constant of 3 and a beta of 2. We evaluate the following panel data methods\n",
    "   + Pooled regression, i.e. ignoring the panel structure (pool) as presented in equation (1) \n",
    "   + Fixed Effects (FE) (2)\n",
    "   + First-Difference method (3) \n",
    "   + Random-Trend using the first approach, namely taking two first-differences  (4)\n",
    "   + Random-Trend using the second approach, namely taking first the  first-differences and then the fixed-effects (5)\n",
    "\n",
    "<span style=\"color: red\"> [Daniel: Some more explanation on each of the methods is needed. There was some explanation in the intro but it's not quite clear what each of these do. I think we should expnd that here] [I don't agree. What more do you want to explain?</span> <span style=\"color: green\">[Jakob: I strongly believe that the reader will ahve a sufficient econometrics background and much more than in the introduction is not done in the textbooks neither.] </span>"
   ]
  },
  {
   "cell_type": "code",
   "execution_count": 47,
   "metadata": {
    "collapsed": false
   },
   "outputs": [
    {
     "name": "stdout",
     "output_type": "stream",
     "text": [
      "\n",
      ". qui expand 5\n",
      ". qui drawnorm nu_it e_it, n(1000)\n",
      ". qui xtset i t \n",
      ". qui gen dx_it = d.x_it \n",
      ". qui gen dy_it = d.y_it \n",
      ". . qui eststo: xtreg  y_it x_it, fe  \n",
      ". qui eststo: reg d.y_it d.x_it, \n",
      ". qui eststo: xtreg d.y_it d.x_it,fe \n",
      ". qui eststo: reg d2.y_it d2.x_it,  \n",
      ". esttab, long compress nogaps rename(D.x_it x_it D2.x_it x_it D.dx_it x_it) drop(_cons) ///\n",
      ">         b(%7,5f) se(%6.3f) scalars(\"N N\" \"r2_a r2_a\" \"F F-Stat\" \"p p-value\" \"r2 r2\" \"aic aic\" \"bic\") sfmt(%4,0f %6,5f %5,2f %5,4f %6,5f %9,2f %9,2f) star(+ 0.1 * 0.05 ** 0.01 *** 0.001) ///\n",
      ">         label mtitles( \"OLS\" \"FE\" \"FD\" \"FD-FE\" \"2-FD\" \"FD-FD\" ) title(\"Without a random trend component\") nolabel replace \n",
      "\n",
      "Without a random trend component\n",
      "---------------------------------------------------------------------------------\n",
      "                       (1)          (2)          (3)          (4)          (5)   \n",
      "                       OLS           FE           FD        FD-FE         2-FD   \n",
      "---------------------------------------------------------------------------------\n",
      "x_it               2,47702***   2,02807***   2,03600***   2,03628***   2,02678***\n",
      "                   (0.033)      (0.037)      (0.037)      (0.043)      (0.043)   \n",
      "---------------------------------------------------------------------------------\n",
      "Observations          1000         1000          800          800          600   \n",
      "r2_a               0,88590      0,73902      0,78723      0,71468      0,79025   \n",
      "F-Stat             5621,67      3028,86      2957,19      2201,34      2257,80   \n",
      "p-value             0,0000       0,0000       0,0000       0,0000       0,0000   \n",
      "r2                 0,88602      0,79127      0,78749      0,78610      0,79060   \n",
      "aic                3256,78      2687,09      2904,96      2856,71      2830,15   \n",
      "bic                3266,60      2696,91      2914,33      2866,08      2838,94   \n",
      "---------------------------------------------------------------------------------\n",
      "Standard errors in parentheses\n",
      "+ p<0.1, * p<0.05, ** p<0.01, *** p<0.001\n",
      "Time needed to run:\n",
      "   1:      5.31 /        1 =       5.3130\n"
     ]
    }
   ],
   "source": [
    "%%stata -o sim\n",
    "timer on 1\n",
    "qui set seed 100\n",
    "qui drawnorm alpha_i, n(200)\n",
    "qui gen i = _n \n",
    "    * included additional to generate an index for the individual level\n",
    "qui expand 5\n",
    "qui bys i: g t = _n \n",
    "    * included additional to generate an index for the time level\n",
    "qui drawnorm nu_it e_it, n(1000)\n",
    "qui g x_it = nu_it + alpha_i\n",
    "qui g y_it = 3 + alpha_i + 2*x_it + e_it \n",
    "    * DGP\n",
    "\n",
    "qui xtset i t \n",
    "    * give stata panel-information\n",
    "\n",
    "qui gen dx_it = d.x_it \n",
    "    * generates the first-difference prior to the regression command\n",
    "qui gen dy_it = d.y_it \n",
    "    * generates the first-difference prior to the regression command\n",
    "\n",
    "\n",
    "qui eststo: reg y_it x_it, cluster(i) \n",
    "    * OLS-regression (biased) (eststo saves the regression results)\n",
    "qui eststo: xtreg  y_it x_it, fe  \n",
    "    * FE-regression\n",
    "qui eststo: reg d.y_it d.x_it, \n",
    "    * FD-regression\n",
    "qui eststo: xtreg d.y_it d.x_it,fe \n",
    "    * Random-Trend 1 (mix)\n",
    "qui eststo: reg d2.y_it d2.x_it,  \n",
    "    * Random-Trend 2 (pure)  \n",
    "\n",
    "esttab, long compress nogaps rename(D.x_it x_it D2.x_it x_it D.dx_it x_it) drop(_cons) ///\n",
    "\tb(%7,5f) se(%6.3f) scalars(\"N N\" \"r2_a r2_a\" \"F F-Stat\" \"p p-value\" \"r2 r2\" \"aic aic\" \"bic\") sfmt(%4,0f %6,5f %5,2f %5,4f %6,5f %9,2f %9,2f) star(+ 0.1 * 0.05 ** 0.01 *** 0.001) ///\n",
    "\tlabel mtitles( \"OLS\" \"FE\" \"FD\" \"FD-FE\" \"2-FD\" \"FD-FD\" ) title(\"Without a random trend component\") nolabel replace\n",
    "    * esttab produces the table\n",
    "    \n",
    "timer off 1\n",
    "display \"Time needed to run:\"\n",
    "timer list 1"
   ]
  },
  {
   "cell_type": "markdown",
   "metadata": {},
   "source": [
    "> We can see that the results of the normal OLS are biased, i.e. the coefficient for $x_{it}$ is not 2 but around 2.4. For the within-transformation and the first-difference however the coefficient if very close to 2.\n",
    "Also the random-trend is unbiased, but it seems that the second transformation worsens the results. It is farthermost of the true parameter and also the standard error is the highest. Also the F-Stat, adjusted $R^2$, $R^2$ and AIC decreased (Just for the AIC and BIC, the FE is the worst). So we can conclude that even if we do not have a random-trend component, using two transformations does not really harm the estimation.\n",
    "\n",
    "> Comparing the different Random Trend calculations, we see that the _mix_ seem to be more efficient, but the _pure_ is closer to the true value."
   ]
  },
  {
   "cell_type": "markdown",
   "metadata": {},
   "source": [
    "# 2.3. Monte Carlo Study without Trend\n",
    "\n",
    "In a simulation however, results from just one run can be misleading, because the results can be driven by chance, i.e. if the seed in use just draws numbers which workes better for one method than the other. Therefore, we will run a programm now to do a monte carlo study. We will take 1000 draws to see if above resusts are robust.\n",
    "\n",
    "New in the code is (i) a timer which measure the time the code runs. The necessary commands are `timer on 1`, starting the timer, called '1', `timer off 1`, stopping the started timer and `timer list 1`, displaying the time needed.\n",
    "(ii) For the simulation commands `simulation`, we first have to embed the code in a program. The first line `capture program drop mcprog_ols` drops if somehow the program is already defined. This command is useful if you run the code an additional time. `program mcprog_ols` starts the program and ends with `end`.\n",
    "\n",
    "Then the simulation just simulate the coefficients saved in stata in `_b` (given the time, we focus on the coefficients and leave out the standard errors). We take 1000 replications and we call the earlier defined programm `mcprog_pool` (Monte Carlo Program - Pooled Regression). \n",
    "\n",
    "At the end we rename the coefficient for a better understanding and drop everything else from the dataframe (`keep beta_pool`).\n",
    "\n",
    "Using `-np` only suppresses any output. We will compare the combined output later on.\n",
    "\n",
    "_pool_ stands for the pooled regress, _fe_ for the within-transformation, _fd_ for the first-difference, _mix_ for the random-trend, using first-difference and fixed-effects and _pure_ the random trend with two first-differences."
   ]
  },
  {
   "cell_type": "code",
   "execution_count": 16,
   "metadata": {
    "collapsed": false
   },
   "outputs": [
    {
     "name": "stdout",
     "output_type": "stream",
     "text": [
      "\n",
      "The time this codes run is\n",
      "   1:     13.71 /        2 =       6.8540\n"
     ]
    }
   ],
   "source": [
    "%%stata -o pool \n",
    "timer on 1\n",
    "set seed 100\n",
    "capture program drop mcprog_pool\n",
    "program mcprog_pool\n",
    "         clear\n",
    "         drawnorm alpha_i, n(200)\n",
    "         gen i = _n \n",
    "            * included additional to generate an index for the individual level\n",
    "         expand 5\n",
    "         bys i: g t = _n \n",
    "            * included additional to generate an index for the time level\n",
    "         drawnorm nu_it e_it, n(1000)\n",
    "         g x_it=nu_it+alpha_i\n",
    "         g y_it=3+alpha_i+2*x_it+e_it\n",
    "         reg y_it x_it, \n",
    "            * cluster(i) Take out the clustered standard errors because we focus on the coefficients\n",
    "         drop nu_it alpha_i e_it y_it x_it\n",
    "end\n",
    "        simulate _b, nodots nolegend  reps(1000): mcprog_pool\n",
    "        rename _b_x_it beta_pool\n",
    "        keep beta_pool\n",
    "timer off 1\n",
    "display \"The time this codes run is\"\n",
    "timer list 1\n"
   ]
  },
  {
   "cell_type": "code",
   "execution_count": 9,
   "metadata": {
    "collapsed": false
   },
   "outputs": [],
   "source": [
    "%%stata -o fe\n",
    "timer on 1\n",
    "set seed 100\n",
    "capture program drop mcprog_fe\n",
    "        program mcprog_fe\n",
    "         clear\n",
    "         drawnorm alpha_i, n(200)\n",
    "         gen i = _n \n",
    "                * included additional to generate an index for the individual level\n",
    "         expand 5\n",
    "         bys i: g t = _n \n",
    "                * included additional to generate an index for the time level\n",
    "         drawnorm nu_it e_it, n(1000)\n",
    "         g x_it=nu_it+alpha_i\n",
    "         g y_it=3+alpha_i+2*x_it+e_it\n",
    "         xtset i t\n",
    "         xtreg y_it x_it, fe \n",
    "                * cluster(i)\n",
    "         drop nu_it alpha_i e_it y_it x_it\n",
    "end\n",
    "        simulate _b, nodots nolegend  reps(1000): mcprog_fe\n",
    "        rename _b_x_it beta_fe\n",
    "        keep beta_fe\n",
    "timer off 1\n",
    "display \"The time this codes run is\"\n",
    "timer list 1\n",
    "        "
   ]
  },
  {
   "cell_type": "code",
   "execution_count": 10,
   "metadata": {
    "collapsed": false
   },
   "outputs": [],
   "source": [
    "%%stata -o fd\n",
    "timer on 1\n",
    "set seed 100\n",
    "capture program drop mcprog_fd\n",
    "        program mcprog_fd\n",
    "        clear\n",
    "        drawnorm alpha_i, n(200)\n",
    "        gen i = _n \n",
    "            * included additional to generate an index for the individual level\n",
    "        expand 5\n",
    "        bys i: g t = _n \n",
    "            * included additional to generate an index for the time level\n",
    "        drawnorm nu_it e_it, n(1000)\n",
    "        g x_it=nu_it+alpha_i\n",
    "        g y_it=3+alpha_i+2*x_it+e_it\n",
    "        xtset i t\n",
    "        g dx_it = d.x_it\n",
    "        g dy_it = d.y_it\n",
    "        reg dy_it dx_it, \n",
    "            * cluster(i)\n",
    "        drop nu_it alpha_i e_it dy_it dx_it y_it x_it\n",
    "end\n",
    "        simulate _b, nodots nolegend  reps(1000): mcprog_fd\n",
    "        rename _b_dx_it beta_fd\n",
    "        keep beta_fd\n",
    "timer off 1\n",
    "display \"The time this codes run is\"\n",
    "timer list 1\n",
    "        \n",
    "        "
   ]
  },
  {
   "cell_type": "code",
   "execution_count": 11,
   "metadata": {
    "collapsed": false
   },
   "outputs": [],
   "source": [
    "%%stata -o mix\n",
    "timer on 1\n",
    "set seed 100\n",
    "capture program drop mcprog_mix\n",
    "        program mcprog_mix\n",
    "         clear\n",
    "         drawnorm alpha_i, n(200)\n",
    "         gen i = _n \n",
    "            * included additional to generate an index for the individual level\n",
    "         expand 5\n",
    "         bys i: g t = _n \n",
    "            * included additional to generate an index for the time level\n",
    "         drawnorm nu_it e_it, n(1000)\n",
    "         g x_it=nu_it+alpha_i\n",
    "        g y_it=3+alpha_i+2*x_it+e_it\n",
    "        xtset i t\n",
    "        g dx_it = d.x_it\n",
    "        g dy_it = d.y_it\n",
    "         xtreg dy_it dx_it, fe \n",
    "            * cluster(i)\n",
    "         drop nu_it alpha_i e_it dy_it dx_it y_it x_it\n",
    "end\n",
    "        simulate _b, nodots nolegend  reps(1000): mcprog_mix\n",
    "        rename _b_dx_it beta_mix\n",
    "        keep beta_mix\n",
    "        \n",
    "timer off 1\n",
    "display \"The time this codes run is\"\n",
    "timer list 1"
   ]
  },
  {
   "cell_type": "code",
   "execution_count": 12,
   "metadata": {
    "collapsed": false
   },
   "outputs": [],
   "source": [
    "%%stata -o pure\n",
    "timer on 1\n",
    "set seed 100\n",
    "capture program drop mcprog_pure\n",
    "        program mcprog_pure\n",
    "         clear\n",
    "         drawnorm alpha_i, n(200)\n",
    "         gen i = _n \n",
    "            * included additional to generate an index for the individual level\n",
    "         expand 5\n",
    "         bys i: g t = _n \n",
    "            * included additional to generate an index for the time level\n",
    "         drawnorm nu_it e_it, n(1000)\n",
    "         g x_it=nu_it+alpha_i\n",
    "         g y_it=3+alpha_i+2*x_it+e_it\n",
    "        xtset i t\n",
    "        g d2x_it = d2.x_it\n",
    "        g d2y_it = d2.y_it\n",
    "         reg d2y_it d2x_it, \n",
    "            * cluster(i)\n",
    "         drop nu_it alpha_i e_it y_it x_it d2y_it d2x_it\n",
    "end\n",
    "        simulate _b, nodots nolegend  reps(1000): mcprog_pure\n",
    "        rename _b_d2x_it beta_pure\n",
    "        keep beta_pure\n",
    "        \n",
    "timer off 1\n",
    "display \"The time this codes run is\"\n",
    "timer list 1"
   ]
  },
  {
   "cell_type": "code",
   "execution_count": 15,
   "metadata": {
    "collapsed": false
   },
   "outputs": [
    {
     "data": {
      "text/plain": [
       "array([[ 2.49910474],\n",
       "       [ 2.001513  ],\n",
       "       [ 2.00073147],\n",
       "       [ 2.00057745],\n",
       "       [ 1.99920857]], dtype=float32)"
      ]
     },
     "execution_count": 15,
     "metadata": {},
     "output_type": "execute_result"
    }
   ],
   "source": [
    "pool_mean = pool.mean()\n",
    "fe_mean = fe.mean()\n",
    "fd_mean = fd.mean()\n",
    "mix_mean = mix.mean()\n",
    "pure_mean = pure.mean()\n",
    "\n",
    "mean = [pool_mean, fe_mean, fd_mean, mix_mean, pure_mean]\n",
    "mean\n",
    "meanv = np.array([pool_mean, fe_mean, fd_mean, mix_mean, pure_mean])\n",
    "print meanv\n",
    "\n"
   ]
  },
  {
   "cell_type": "markdown",
   "metadata": {},
   "source": [
    "> We can see that the pooled regression is upward biased form the true value (2). Closest to the true are (??? -should calulate the difference to the true here???)\n",
    "Further, we could include histograms, but I could not do it easily."
   ]
  },
  {
   "cell_type": "markdown",
   "metadata": {},
   "source": [
    "\n",
    "# 2.4. Monte Carlo Study with the same trend for all individuals\n",
    "\n",
    "Here we investigate what happens to our estimator as we include the same trend for all individuals. If we would just run normal regression as presented first, we could just use the same datasets, replacing just some variables. But since we have to define programs, we need to copy all the programs and change for the trend. We will leave out the pooled regression because we already know, that this one is biased just due to the constant $\\alpha_i$."
   ]
  },
  {
   "cell_type": "code",
   "execution_count": 26,
   "metadata": {
    "collapsed": false
   },
   "outputs": [
    {
     "name": "stdout",
     "output_type": "stream",
     "text": [
      "\n",
      "The time this codes run is\n",
      "   1:     14.88 /       11 =       1.3526\n"
     ]
    }
   ],
   "source": [
    "%%stata -o fe_st\n",
    "timer on 1\n",
    "set seed 100\n",
    "capture program drop mcprog_fe\n",
    "        program mcprog_fe\n",
    "        clear\n",
    "        drawnorm alpha_i, n(200)\n",
    "        gen i = _n \n",
    "            *included additional to generate an index for the individual level\n",
    "        expand 5\n",
    "        bys i: g t = _n \n",
    "            *included additional to generate an index for the time level\n",
    "        drawnorm nu_it e_it, n(1000)\n",
    "        g x_it = nu_it + alpha_i + t \n",
    "            *NOW: x_it is correlated with a linear term\n",
    "        g y_it = 3 + alpha_i + 2*x_it + t + e_it \n",
    "            *DGP includes know the linear trend\n",
    "        xtset i t\n",
    "        xtreg y_it x_it, fe \n",
    "            *cluster(i)\n",
    "        drop nu_it alpha_i e_it y_it x_it\n",
    "end\n",
    "        simulate _b, nodots nolegend  reps(100): mcprog_fe\n",
    "        rename _b_x_it beta_fe_st\n",
    "        keep beta_fe_st \n",
    "            *st = same trend\n",
    "timer off 1\n",
    "display \"The time this codes run is\"\n",
    "timer list 1"
   ]
  },
  {
   "cell_type": "code",
   "execution_count": 22,
   "metadata": {
    "collapsed": false
   },
   "outputs": [
    {
     "name": "stdout",
     "output_type": "stream",
     "text": [
      "\n",
      "The time this codes run is\n",
      "   1:      1.98 /        1 =       1.9790\n"
     ]
    }
   ],
   "source": [
    "%%stata -o fd_st\n",
    "timer on 1\n",
    "set seed 100\n",
    "capture program drop mcprog_fe\n",
    "        program mcprog_fe\n",
    "        clear\n",
    "        drawnorm alpha_i, n(200)\n",
    "        gen i = _n \n",
    "            * included additional to generate an index for the individual level\n",
    "        expand 5\n",
    "        bys i: g t = _n \n",
    "            * included additional to generate an index for the time level\n",
    "        drawnorm nu_it e_it, n(1000)\n",
    "        g x_it = nu_it + alpha_i + t \n",
    "            * NOW: x_it is correlated with a linear term\n",
    "        g y_it = 3 + alpha_i + 2*x_it + t + e_it \n",
    "            * DGP includes know the linear trend\n",
    "        xtset i t\n",
    "        g dx_it = d.x_it\n",
    "        g dy_it = d.y_it\n",
    "        reg dy_it dx_it, \n",
    "            * cluster(i)\n",
    "        drop nu_it alpha_i e_it y_it x_it dy_it dx_it\n",
    "end\n",
    "        simulate _b, nodots nolegend  reps(100): mcprog_fe\n",
    "        rename _b_dx_it beta_fd_st\n",
    "        keep beta_fd_st\n",
    "timer off 1\n",
    "display \"The time this codes run is\"\n",
    "timer list 1"
   ]
  },
  {
   "cell_type": "code",
   "execution_count": 24,
   "metadata": {
    "collapsed": false
   },
   "outputs": [
    {
     "name": "stdout",
     "output_type": "stream",
     "text": [
      "\n",
      ". timer off 1\n",
      "The time this codes run is\n",
      "   1:      6.30 /        1 =       6.3000\n"
     ]
    }
   ],
   "source": [
    "%%stata -o mix_st\n",
    "timer on 1\n",
    "set seed 100\n",
    "capture program drop mcprog_mix\n",
    "        program mcprog_mix\n",
    "        clear\n",
    "        drawnorm alpha_i, n(200)\n",
    "        gen i = _n \n",
    "            * included additional to generate an index for the individual level\n",
    "        expand 5\n",
    "        bys i: g t = _n \n",
    "            * included additional to generate an index for the time level\n",
    "        drawnorm nu_it e_it, n(1000)\n",
    "        g x_it = nu_it + alpha_i + t \n",
    "            * NOW: x_it is correlated with a linear term\n",
    "        g y_it = 3 + alpha_i + 2*x_it + t + e_it \n",
    "            * DGP includes know the linear trend\n",
    "        xtset i t\n",
    "        g dx_it = d.x_it\n",
    "        g dy_it = d.y_it\n",
    "        xtreg dy_it dx_it, fe \n",
    "            * cluster(i)\n",
    "        drop nu_it alpha_i e_it dy_it dx_it y_it x_it\n",
    "end\n",
    "        simulate _b, nodots nolegend  reps(100): mcprog_mix\n",
    "        rename _b_dx_it beta_mix_st\n",
    "        keep beta_mix_st\n",
    "        \n",
    "timer off 1\n",
    "display \"The time this codes run is\"\n",
    "timer list 1"
   ]
  },
  {
   "cell_type": "code",
   "execution_count": 26,
   "metadata": {
    "collapsed": false
   },
   "outputs": [
    {
     "name": "stdout",
     "output_type": "stream",
     "text": [
      "\n",
      ". timer off 1\n",
      "The time this codes run is\n",
      "   1:      1.97 /        1 =       1.9690\n"
     ]
    }
   ],
   "source": [
    "%%stata -o pure_st\n",
    "timer on 1\n",
    "set seed 100\n",
    "capture program drop mcprog_pure\n",
    "        program mcprog_pure\n",
    "        clear\n",
    "        drawnorm alpha_i, n(200)\n",
    "        gen i = _n \n",
    "            * included additional to generate an index for the individual level\n",
    "        expand 5\n",
    "        bys i: g t = _n \n",
    "            * included additional to generate an index for the time level\n",
    "        drawnorm nu_it e_it, n(1000)\n",
    "        g x_it = nu_it + alpha_i + t \n",
    "            * NOW: x_it is correlated with a linear term\n",
    "        g y_it = 3 + alpha_i + 2*x_it + t + e_it \n",
    "            * DGP includes know the linear trend\n",
    "        xtset i t\n",
    "        g d2x_it = d2.x_it\n",
    "        g d2y_it = d2.y_it\n",
    "        reg d2y_it d2x_it, \n",
    "            * cluster(i)\n",
    "        drop nu_it alpha_i e_it y_it x_it d2y_it d2x_it\n",
    "end\n",
    "        simulate _b, nodots nolegend  reps(100): mcprog_pure\n",
    "        rename _b_d2x_it beta_pure_st\n",
    "        keep beta_pure_st\n",
    "        \n",
    "timer off 1\n",
    "display \"The time this codes run is\"\n",
    "timer list 1"
   ]
  },
  {
   "cell_type": "code",
   "execution_count": 27,
   "metadata": {
    "collapsed": false
   },
   "outputs": [
    {
     "data": {
      "text/plain": [
       "array([[ 2.71409535],\n",
       "       [ 2.00397825],\n",
       "       [ 2.00418329],\n",
       "       [ 2.00259447]], dtype=float32)"
      ]
     },
     "execution_count": 27,
     "metadata": {},
     "output_type": "execute_result"
    }
   ],
   "source": [
    "fe_st_mean = fe_st.mean()\n",
    "fd_st_mean = fd_st.mean()\n",
    "mix_st_mean = mix_st.mean()\n",
    "pure_st_mean = pure_st.mean()\n",
    "\n",
    "\n",
    "meanv = np.array([fe_st_mean, fd_st_mean, mix_st_mean, pure_st_mean])\n",
    "print meanv"
   ]
  },
  {
   "cell_type": "markdown",
   "metadata": {},
   "source": [
    "\n",
    ">The simulation shows that if the trend is the same for all individuals in the data, the within-transformation cannot capture the linear trend. Thereby the coefficent is biased. Suprisingly the first-difference is enough to solve for the problem introduced by a correlation of the variable of interest and the trend. We will not take a deeper look here, but it might be interest to investigate how many individuals are allowed to differ so that the first-difference is not unbiased anymore (or should we?)\n",
    "It seems that the First-Difference is more robust here. It is however questionable in practice if the observed individuals really follow the same trend.\n",
    "\n",
    ">Further, the first-difference performs better than the mixe, but worse than the pure.\n",
    "\n",
    "# 2.5. Monte Carlo study with individual specific trends (Random Trend)\n",
    "\n",
    "\n",
    "<span style=\"color: red\"> Add some text here with explanations that summarizes what each of the following cases does. We can also add some nice charts at the bottom that compare the results for each case </span>\n"
   ]
  },
  {
   "cell_type": "code",
   "execution_count": 32,
   "metadata": {
    "collapsed": false
   },
   "outputs": [
    {
     "name": "stdout",
     "output_type": "stream",
     "text": [
      "\n",
      "The time this codes run is\n",
      "   1:      5.39 /        1 =       5.3900\n"
     ]
    }
   ],
   "source": [
    "%%stata -o fe_it\n",
    "timer on 1\n",
    "set seed 100\n",
    "capture program drop mcprog_fe\n",
    "        program mcprog_fe\n",
    "        clear\n",
    "        drawnorm alpha_i, n(200)\n",
    "        gen i = _n \n",
    "        expand 5\n",
    "        bys i: g t = _n \n",
    "        gen trend = t*i\n",
    "            * individual specific trand   \n",
    "        drawnorm nu_it e_it, n(1000)\n",
    "        g x_it = nu_it + alpha_i + trend \n",
    "            * NOW: x_it is correlated with a linear specific term\n",
    "        g y_it = 3 + alpha_i + 2*x_it + trend + e_it \n",
    "        xtset i t\n",
    "        xtreg y_it x_it, fe \n",
    "            * cluster(i)\n",
    "        drop nu_it alpha_i e_it y_it x_it\n",
    "end\n",
    "        simulate _b, nodots nolegend  reps(100): mcprog_fe\n",
    "        rename _b_x_it beta_fe_it\n",
    "        keep beta_fe_it \n",
    "            * it = individual trend\n",
    "timer off 1\n",
    "display \"The time this codes run is\"\n",
    "timer list 1"
   ]
  },
  {
   "cell_type": "code",
   "execution_count": 29,
   "metadata": {
    "collapsed": false
   },
   "outputs": [
    {
     "name": "stdout",
     "output_type": "stream",
     "text": [
      "\n",
      "The time this codes run is\n",
      "   1:      2.31 /        1 =       2.3130\n"
     ]
    }
   ],
   "source": [
    "%%stata -o fd_it\n",
    "timer on 1\n",
    "set seed 100\n",
    "capture program drop mcprog_fe\n",
    "        program mcprog_fe\n",
    "        clear\n",
    "        drawnorm alpha_i, n(200)\n",
    "        gen i = _n \n",
    "            * included additional to generate an index for the individual level\n",
    "        expand 5\n",
    "        bys i: g t = _n \n",
    "            * included additional to generate an index for the time level\n",
    "        gen trend = t*i \n",
    "            * individual specific trand   \n",
    "        drawnorm nu_it e_it, n(1000)\n",
    "        g x_it = nu_it + alpha_i + trend \n",
    "            * NOW: x_it is correlated with a linear specific term\n",
    "        g y_it = 3 + alpha_i + 2*x_it + trend + e_it \n",
    "        xtset i t\n",
    "        g dx_it = d.x_it\n",
    "        g dy_it = d.y_it\n",
    "        reg dy_it dx_it, \n",
    "            * cluster(i)\n",
    "        drop nu_it alpha_i e_it y_it x_it dy_it dx_it\n",
    "end\n",
    "        simulate _b, nodots nolegend  reps(100): mcprog_fe\n",
    "        rename _b_dx_it beta_fd_it\n",
    "        keep beta_fd_it\n",
    "timer off 1\n",
    "display \"The time this codes run is\"\n",
    "timer list 1"
   ]
  },
  {
   "cell_type": "code",
   "execution_count": 30,
   "metadata": {
    "collapsed": false
   },
   "outputs": [
    {
     "name": "stdout",
     "output_type": "stream",
     "text": [
      "\n",
      ". timer off 1\n",
      "The time this codes run is\n",
      "   1:      6.58 /        1 =       6.5770\n"
     ]
    }
   ],
   "source": [
    "%%stata -o mix_it\n",
    "timer on 1\n",
    "set seed 100\n",
    "capture program drop mcprog_mix\n",
    "        program mcprog_mix\n",
    "        clear\n",
    "        drawnorm alpha_i, n(200)\n",
    "        gen i = _n\n",
    "            * included additional to generate an index for the individual level\n",
    "        expand 5\n",
    "        bys i: g t = _n \n",
    "            * included additional to generate an index for the time level\n",
    "        gen trend = t*i \n",
    "            * individual specific trand   \n",
    "        drawnorm nu_it e_it, n(1000)\n",
    "        g x_it = nu_it + alpha_i + trend \n",
    "            * NOW: x_it is correlated with a linear specific term\n",
    "        g y_it = 3 + alpha_i + 2*x_it + trend + e_it \n",
    "        xtset i t\n",
    "        g dx_it = d.x_it\n",
    "        g dy_it = d.y_it\n",
    "        xtreg dy_it dx_it, fe \n",
    "            * cluster(i)\n",
    "        drop nu_it alpha_i e_it dy_it dx_it y_it x_it\n",
    "end\n",
    "        simulate _b, nodots nolegend  reps(100): mcprog_mix\n",
    "        rename _b_dx_it beta_mix_it\n",
    "        keep beta_mix_it\n",
    "        \n",
    "timer off 1\n",
    "display \"The time this codes run is\"\n",
    "timer list 1"
   ]
  },
  {
   "cell_type": "code",
   "execution_count": 31,
   "metadata": {
    "collapsed": false
   },
   "outputs": [
    {
     "name": "stdout",
     "output_type": "stream",
     "text": [
      "\n",
      ". timer off 1\n",
      "The time this codes run is\n",
      "   1:      2.15 /        1 =       2.1460\n"
     ]
    }
   ],
   "source": [
    "%%stata -o pure_it\n",
    "timer on 1\n",
    "set seed 100\n",
    "capture program drop mcprog_pure\n",
    "        program mcprog_pure\n",
    "        clear\n",
    "        drawnorm alpha_i, n(200)\n",
    "        gen i = _n \n",
    "            * included additional to generate an index for the individual level\n",
    "        expand 5\n",
    "        bys i: g t = _n \n",
    "            * included additional to generate an index for the time level\n",
    "        gen trend = t*i \n",
    "            * individual specific trand   \n",
    "        drawnorm nu_it e_it, n(1000)\n",
    "        g x_it = nu_it + alpha_i + trend \n",
    "            * NOW: x_it is correlated with a linear specific term\n",
    "        g y_it = 3 + alpha_i + 2*x_it + trend + e_it \n",
    "        xtset i t\n",
    "        g d2x_it = d2.x_it\n",
    "        g d2y_it = d2.y_it\n",
    "        reg d2y_it d2x_it, \n",
    "            * cluster(i)\n",
    "        drop nu_it alpha_i e_it y_it x_it d2y_it d2x_it\n",
    "end\n",
    "        simulate _b, nodots nolegend  reps(100): mcprog_pure\n",
    "        rename _b_d2x_it beta_pure_it\n",
    "        keep beta_pure_it\n",
    "        \n",
    "timer off 1\n",
    "display \"The time this codes run is\"\n",
    "timer list 1"
   ]
  },
  {
   "cell_type": "code",
   "execution_count": 33,
   "metadata": {
    "collapsed": false
   },
   "outputs": [
    {
     "data": {
      "text/plain": [
       "array([[ 2.99995708],\n",
       "       [ 2.9994812 ],\n",
       "       [ 2.00418329],\n",
       "       [ 2.00259447]], dtype=float32)"
      ]
     },
     "execution_count": 33,
     "metadata": {},
     "output_type": "execute_result"
    }
   ],
   "source": [
    "fe_it_mean = fe_it.mean()\n",
    "fd_it_mean = fd_it.mean()\n",
    "mix_it_mean = mix_it.mean()\n",
    "pure_it_mean = pure_it.mean()\n",
    "\n",
    "\n",
    "meanv = np.array([fe_it_mean, fd_it_mean, mix_it_mean, pure_it_mean])\n",
    "print meanv"
   ]
  },
  {
   "cell_type": "markdown",
   "metadata": {},
   "source": [
    ">The results confirm (unsurprisingly) the bad results of the within-tranformation. Now, also the first-difference is not capable to control for the trend within $x_{it}$. Only unbiased estimations are _mix_ and _pure_. The results are the same as before (remember: same seed). After checking that we really changed the code, it can be concluded that for the random-trend model it does not matter whether the trend is constant or individual specific.\n",
    "\n",
    "> In this easy example it further seems that the double difference (_pure_) is more robust, i.e. closer to the true value. Thereby the example is in favor to use the _pure_ rather than the _mix_ random-trend method. Also the time point, the _pure_ is much faster.\n",
    "\n",
    "# 2.6. Monte Carlo study with nonlinear individual specific trends (Random Trend)\n",
    "\n",
    "We will check for two cases, an exponential individual specific trend and a log individual specific trend. The motivation is if one of the random-trend methods performs better even if the baseline assumption, that the trend is linear, does not hold.\n",
    "\n",
    "### Monte Carlo study with exponential individual specific trends (Random Trend)\n"
   ]
  },
  {
   "cell_type": "code",
   "execution_count": 44,
   "metadata": {
    "collapsed": false
   },
   "outputs": [
    {
     "name": "stdout",
     "output_type": "stream",
     "text": [
      "\n",
      "The time this codes run is\n",
      "   1:      2.33 /        1 =       2.3270\n"
     ]
    }
   ],
   "source": [
    "%%stata -o fd_exp\n",
    "timer on 1\n",
    "set seed 100\n",
    "capture program drop mcprog_fe\n",
    "        program mcprog_fe\n",
    "        clear\n",
    "        drawnorm alpha_i, n(200)\n",
    "        gen i = _n \n",
    "            * included additional to generate an index for the individual level\n",
    "        expand 5\n",
    "        bys i: g t = _n \n",
    "            * included additional to generate an index for the time level\n",
    "        gen trend = exp(t*i) \n",
    "            * individual specific trand   \n",
    "        drawnorm nu_it e_it, n(1000)\n",
    "        g x_it = nu_it + alpha_i + trend \n",
    "            * NOW: x_it is correlated with a linear specific term\n",
    "        g y_it = 3 + alpha_i + 2*x_it + trend + e_it \n",
    "        xtset i t\n",
    "        g dx_it = d.x_it\n",
    "        g dy_it = d.y_it\n",
    "        reg dy_it dx_it, \n",
    "            * cluster(i)\n",
    "        drop nu_it alpha_i e_it y_it x_it dy_it dx_it\n",
    "end\n",
    "        simulate _b, nodots nolegend  reps(100): mcprog_fe\n",
    "        rename _b_dx_it beta_fd_exp\n",
    "        keep beta_fd_exp\n",
    "timer off 1\n",
    "display \"The time this codes run is\"\n",
    "timer list 1"
   ]
  },
  {
   "cell_type": "code",
   "execution_count": 41,
   "metadata": {
    "collapsed": false
   },
   "outputs": [
    {
     "name": "stdout",
     "output_type": "stream",
     "text": [
      "\n",
      ". timer off 1\n",
      "The time this codes run is\n",
      "   1:      6.16 /        1 =       6.1560\n"
     ]
    }
   ],
   "source": [
    "%%stata -o mix_exp\n",
    "timer on 1\n",
    "set seed 100\n",
    "capture program drop mcprog_mix\n",
    "        program mcprog_mix\n",
    "        clear\n",
    "        drawnorm alpha_i, n(200)\n",
    "        gen i = _n \n",
    "            * included additional to generate an index for the individual level\n",
    "        expand 5\n",
    "        bys i: g t = _n \n",
    "            * included additional to generate an index for the time level\n",
    "        gen trend = exp(t*i) \n",
    "            * individual specific trand   \n",
    "        drawnorm nu_it e_it, n(1000)\n",
    "        g x_it = nu_it + alpha_i + trend \n",
    "            * NOW: x_it is correlated with a linear specific term\n",
    "        g y_it = 3 + alpha_i + 2*x_it + trend + e_it \n",
    "        xtset i t\n",
    "        g dx_it = d.x_it\n",
    "        g dy_it = d.y_it\n",
    "        xtreg dy_it dx_it, fe \n",
    "            * cluster(i)\n",
    "        drop nu_it alpha_i e_it dy_it dx_it y_it x_it\n",
    "end\n",
    "        simulate _b, nodots nolegend  reps(100): mcprog_mix\n",
    "        rename _b_dx_it beta_mix_exp\n",
    "        keep beta_mix_exp\n",
    "        \n",
    "timer off 1\n",
    "display \"The time this codes run is\"\n",
    "timer list 1"
   ]
  },
  {
   "cell_type": "code",
   "execution_count": 42,
   "metadata": {
    "collapsed": false
   },
   "outputs": [
    {
     "name": "stdout",
     "output_type": "stream",
     "text": [
      "\n",
      ". timer off 1\n",
      "The time this codes run is\n",
      "   1:      2.43 /        1 =       2.4290\n"
     ]
    }
   ],
   "source": [
    "%%stata -o pure_exp\n",
    "timer on 1\n",
    "set seed 100\n",
    "capture program drop mcprog_pure\n",
    "        program mcprog_pure\n",
    "        clear\n",
    "        drawnorm alpha_i, n(200)\n",
    "        gen i = _n \n",
    "            * included additional to generate an index for the individual level\n",
    "        expand 5\n",
    "        bys i: g t = _n \n",
    "            * included additional to generate an index for the time level\n",
    "        gen trend = exp(t*i) \n",
    "            * individual specific trand   \n",
    "        drawnorm nu_it e_it, n(1000)\n",
    "        g x_it = nu_it + alpha_i + trend \n",
    "            * NOW: x_it is correlated with a linear specific term\n",
    "        g y_it = 3 + alpha_i + 2*x_it + trend + e_it \n",
    "        xtset i t\n",
    "        g d2x_it = d2.x_it\n",
    "        g d2y_it = d2.y_it\n",
    "        reg d2y_it d2x_it, \n",
    "            * cluster(i)\n",
    "        drop nu_it alpha_i e_it y_it x_it d2y_it d2x_it\n",
    "end\n",
    "        simulate _b, nodots nolegend  reps(100): mcprog_pure\n",
    "        rename _b_d2x_it beta_pure_exp\n",
    "        keep beta_pure_exp\n",
    "        \n",
    "timer off 1\n",
    "display \"The time this codes run is\"\n",
    "timer list 1"
   ]
  },
  {
   "cell_type": "code",
   "execution_count": 45,
   "metadata": {
    "collapsed": false
   },
   "outputs": [
    {
     "data": {
      "text/plain": [
       "array([[ 3.        ],\n",
       "       [ 3.00000024],\n",
       "       [ 3.        ]], dtype=float32)"
      ]
     },
     "execution_count": 45,
     "metadata": {},
     "output_type": "execute_result"
    }
   ],
   "source": [
    "fd_exp_mean = fd_exp.mean()\n",
    "mix_exp_mean = mix_exp.mean()\n",
    "pure_exp_mean = pure_exp.mean()\n",
    "\n",
    "meanv = np.array([fd_exp_mean, mix_exp_mean, pure_exp_mean])\n",
    "print meanv"
   ]
  },
  {
   "cell_type": "markdown",
   "metadata": {},
   "source": [
    "> Here we have the case that the trend increases individual specific exponential over time, i.e. convex\n",
    "Both are biased, and the difference between the two is at the 7. digit, so obsolete. Suprisingly to us is, that there is no difference between the normal first-difference. This means that if the trend is not linear, the random trend method does not improve the estimation. I would have expected that the rantom-trend model comes a bite closer to the true, but in this example it does not.\n",
    "\n",
    "> ### Monte Carlo study with exponential individual specific trends (Random Trend)"
   ]
  },
  {
   "cell_type": "code",
   "execution_count": 46,
   "metadata": {
    "collapsed": false
   },
   "outputs": [
    {
     "name": "stdout",
     "output_type": "stream",
     "text": [
      "\n",
      "The time this codes run is\n",
      "   1:      3.98 /        1 =       3.9800\n"
     ]
    }
   ],
   "source": [
    "%%stata -o fd_log\n",
    "timer on 1\n",
    "set seed 100\n",
    "capture program drop mcprog_fe\n",
    "        program mcprog_fe\n",
    "        clear\n",
    "        drawnorm alpha_i, n(200)\n",
    "        gen i = _n \n",
    "        expand 5\n",
    "        bys i: g t = _n \n",
    "        gen trend = log(t*i) \n",
    "            * logarithm !!! \n",
    "        drawnorm nu_it e_it, n(1000)\n",
    "        g x_it = nu_it + alpha_i + trend \n",
    "        g y_it = 3 + alpha_i + 2*x_it + trend + e_it \n",
    "        xtset i t\n",
    "        g dx_it = d.x_it\n",
    "        g dy_it = d.y_it\n",
    "        reg dy_it dx_it\n",
    "        drop nu_it alpha_i e_it y_it x_it dy_it dx_it\n",
    "end\n",
    "        simulate _b, nodots nolegend  reps(100): mcprog_fe\n",
    "        rename _b_dx_it beta_fd_log\n",
    "        keep beta_fd_log\n",
    "timer off 1\n",
    "display \"The time this codes run is\"\n",
    "timer list 1"
   ]
  },
  {
   "cell_type": "code",
   "execution_count": 47,
   "metadata": {
    "collapsed": false
   },
   "outputs": [
    {
     "name": "stdout",
     "output_type": "stream",
     "text": [
      "\n",
      ". timer off 1\n",
      "The time this codes run is\n",
      "   1:      7.34 /        1 =       7.3440\n"
     ]
    }
   ],
   "source": [
    "%%stata -o mix_log\n",
    "timer on 1\n",
    "set seed 100\n",
    "capture program drop mcprog_mix\n",
    "        program mcprog_mix\n",
    "        clear\n",
    "        drawnorm alpha_i, n(200)\n",
    "        gen i = _n \n",
    "        expand 5\n",
    "        bys i: g t = _n \n",
    "        gen trend = log(t*i) \n",
    "            * logarithm!\n",
    "        drawnorm nu_it e_it, n(1000)\n",
    "        g x_it = nu_it + alpha_i + trend \n",
    "        g y_it = 3 + alpha_i + 2*x_it + trend + e_it \n",
    "        xtset i t\n",
    "        g dx_it = d.x_it\n",
    "        g dy_it = d.y_it\n",
    "        xtreg dy_it dx_it, fe \n",
    "            * cluster(i)\n",
    "        drop nu_it alpha_i e_it dy_it dx_it y_it x_it\n",
    "end\n",
    "        simulate _b, nodots nolegend  reps(100): mcprog_mix\n",
    "        rename _b_dx_it beta_mix_log\n",
    "        keep beta_mix_log\n",
    "        \n",
    "timer off 1\n",
    "display \"The time this codes run is\"\n",
    "timer list 1"
   ]
  },
  {
   "cell_type": "code",
   "execution_count": 49,
   "metadata": {
    "collapsed": false
   },
   "outputs": [
    {
     "name": "stdout",
     "output_type": "stream",
     "text": [
      "\n",
      ". timer off 1\n",
      "The time this codes run is\n",
      "   1:      2.27 /        1 =       2.2740\n"
     ]
    }
   ],
   "source": [
    "%%stata -o pure_log\n",
    "timer on 1\n",
    "set seed 100\n",
    "capture program drop mcprog_pure\n",
    "        program mcprog_pure\n",
    "        clear\n",
    "        drawnorm alpha_i, n(200)\n",
    "        gen i = _n \n",
    "            * included additional to generate an index for the individual level\n",
    "        expand 5\n",
    "        bys i: g t = _n \n",
    "            * included additional to generate an index for the time level\n",
    "        gen trend = log(t*i) \n",
    "            * individual specific trand   \n",
    "        drawnorm nu_it e_it, n(1000)\n",
    "        g x_it = nu_it + alpha_i + trend \n",
    "            * NOW: x_it is correlated with a linear specific term\n",
    "        g y_it = 3 + alpha_i + 2*x_it + trend + e_it \n",
    "        xtset i t\n",
    "        g d2x_it = d2.x_it\n",
    "        g d2y_it = d2.y_it\n",
    "        reg d2y_it d2x_it, \n",
    "            * cluster(i)\n",
    "        drop nu_it alpha_i e_it y_it x_it d2y_it d2x_it\n",
    "end\n",
    "        simulate _b, nodots nolegend  reps(100): mcprog_pure\n",
    "        rename _b_d2x_it beta_pure_log\n",
    "        keep beta_pure_log\n",
    "        \n",
    "timer off 1\n",
    "display \"The time this codes run is\"\n",
    "timer list 1\n",
    "    "
   ]
  },
  {
   "cell_type": "code",
   "execution_count": 44,
   "metadata": {
    "collapsed": false
   },
   "outputs": [
    {
     "ename": "NameError",
     "evalue": "name 'fd_log' is not defined",
     "output_type": "error",
     "traceback": [
      "\u001b[0;31m---------------------------------------------------------------------------\u001b[0m",
      "\u001b[0;31mNameError\u001b[0m                                 Traceback (most recent call last)",
      "\u001b[0;32m<ipython-input-44-c537a5739129>\u001b[0m in \u001b[0;36m<module>\u001b[0;34m()\u001b[0m\n\u001b[0;32m----> 1\u001b[0;31m \u001b[0mfd_log_mean\u001b[0m \u001b[0;34m=\u001b[0m \u001b[0mfd_log\u001b[0m\u001b[0;34m.\u001b[0m\u001b[0mmean\u001b[0m\u001b[0;34m(\u001b[0m\u001b[0;34m)\u001b[0m\u001b[0;34m\u001b[0m\u001b[0m\n\u001b[0m\u001b[1;32m      2\u001b[0m \u001b[0mmix_log_mean\u001b[0m \u001b[0;34m=\u001b[0m \u001b[0mmix_log\u001b[0m\u001b[0;34m.\u001b[0m\u001b[0mmean\u001b[0m\u001b[0;34m(\u001b[0m\u001b[0;34m)\u001b[0m\u001b[0;34m\u001b[0m\u001b[0m\n\u001b[1;32m      3\u001b[0m \u001b[0mpure_log_mean\u001b[0m \u001b[0;34m=\u001b[0m \u001b[0mpure_log\u001b[0m\u001b[0;34m.\u001b[0m\u001b[0mmean\u001b[0m\u001b[0;34m(\u001b[0m\u001b[0;34m)\u001b[0m\u001b[0;34m\u001b[0m\u001b[0m\n\u001b[1;32m      4\u001b[0m \u001b[0;34m\u001b[0m\u001b[0m\n\u001b[1;32m      5\u001b[0m \u001b[0mmeanv\u001b[0m \u001b[0;34m=\u001b[0m \u001b[0mnp\u001b[0m\u001b[0;34m.\u001b[0m\u001b[0marray\u001b[0m\u001b[0;34m(\u001b[0m\u001b[0;34m[\u001b[0m\u001b[0mfd_log_mean\u001b[0m\u001b[0;34m,\u001b[0m \u001b[0mmix_log_mean\u001b[0m\u001b[0;34m,\u001b[0m \u001b[0mpure_log_mean\u001b[0m\u001b[0;34m]\u001b[0m\u001b[0;34m)\u001b[0m\u001b[0;34m\u001b[0m\u001b[0m\n",
      "\u001b[0;31mNameError\u001b[0m: name 'fd_log' is not defined"
     ]
    }
   ],
   "source": [
    "fd_log_mean = fd_log.mean()\n",
    "mix_log_mean = mix_log.mean()\n",
    "pure_log_mean = pure_log.mean()\n",
    "\n",
    "meanv = np.array([fd_log_mean, mix_log_mean, pure_log_mean])\n",
    "print meanv"
   ]
  },
  {
   "cell_type": "markdown",
   "metadata": {},
   "source": [
    "> Here we have the case that the trend is upward sloping, but the marginal increase decreases, i.e. we have cоncаve trends.\n",
    "All three methods are suprisingly good in capturing the _unobserved_ trend component. As for the constant trend, the _mixe_ performs worst, _fd_ second and _pure_ performs best."
   ]
  },
  {
   "cell_type": "code",
   "execution_count": null,
   "metadata": {
    "collapsed": true
   },
   "outputs": [],
   "source": []
  },
  {
   "cell_type": "markdown",
   "metadata": {},
   "source": [
    "### The not-working within-transformation first-step: \n",
    "At the very top we stated that it does not make any sense to first transform the data using the within-transformation and then using the first-difference. For the canceling of the trend, it was crucial to take first the first-difference. We will investigate this in the following using the following code:"
   ]
  },
  {
   "cell_type": "code",
   "execution_count": 37,
   "metadata": {
    "collapsed": false
   },
   "outputs": [
    {
     "name": "stdout",
     "output_type": "stream",
     "text": [
      "\n",
      "The time this codes run is\n",
      "   1:     10.57 /        1 =      10.5670\n"
     ]
    }
   ],
   "source": [
    "%%stata -o fe_fe\n",
    "timer on 1\n",
    "set seed 100\n",
    "capture program drop mcprog_fe\n",
    "        program mcprog_fe\n",
    "        clear\n",
    "        drawnorm alpha_i, n(200)\n",
    "        gen i = _n \n",
    "        expand 5\n",
    "        bys i: g t = _n \n",
    "        gen trend = t*i  \n",
    "        drawnorm nu_it e_it, n(1000)\n",
    "        g x_it = nu_it + alpha_i + trend \n",
    "        g y_it = 3 + alpha_i + 2*x_it + trend + e_it \n",
    "        xtset i t\n",
    "        xtdata i t x_it y_it, fe clear \n",
    "            * preforms the within-transformation, so we can be sure that it is really the first thing in the regression\n",
    "        xtreg y_it x_it, fe \n",
    "            *  Random-Trend (FE-FD)\n",
    "        drop y_it x_it\n",
    "end\n",
    "        simulate _b, nodots nolegend  reps(100): mcprog_fe\n",
    "        rename _b_x_it beta_fe_fe\n",
    "        keep beta_fe_fe \n",
    "            * it = individual trend\n",
    "timer off 1\n",
    "display \"The time this codes run is\"\n",
    "timer list 1\n",
    "\n"
   ]
  },
  {
   "cell_type": "code",
   "execution_count": 39,
   "metadata": {
    "collapsed": false
   },
   "outputs": [
    {
     "name": "stdout",
     "output_type": "stream",
     "text": [
      "\n",
      "The time this codes run is\n",
      "   1:      3.69 /        1 =       3.6920\n"
     ]
    }
   ],
   "source": [
    "%%stata -o fe_fd\n",
    "timer on 1\n",
    "set seed 100\n",
    "capture program drop mcprog_fe\n",
    "        program mcprog_fe\n",
    "        clear\n",
    "        drawnorm alpha_i, n(200)\n",
    "        gen i = _n \n",
    "        expand 5\n",
    "        bys i: g t = _n \n",
    "        gen trend = t*i  \n",
    "        drawnorm nu_it e_it, n(1000)\n",
    "        g x_it = nu_it + alpha_i + trend \n",
    "        g y_it = 3 + alpha_i + 2*x_it + trend + e_it \n",
    "        xtset i t\n",
    "        xtdata i t x_it y_it, fe clear \n",
    "            * preforms the within-transformation, so we can be sure that it is really the first thing in the regression\n",
    "        xtset i t \n",
    "            * to sort the data\n",
    "        g dx_it = d.x_it\n",
    "        g dy_it = d.y_it\n",
    "        reg dy_it dx_it,  \n",
    "            * Random-Trend (FE-FD)\n",
    "        drop y_it x_it\n",
    "end\n",
    "        simulate _b, nodots nolegend  reps(100): mcprog_fe\n",
    "        rename _b_dx_it beta_fe_fd\n",
    "        keep beta_fe_fd \n",
    "            * it = individual trend\n",
    "timer off 1\n",
    "display \"The time this codes run is\"\n",
    "timer list 1"
   ]
  },
  {
   "cell_type": "code",
   "execution_count": 43,
   "metadata": {
    "collapsed": false
   },
   "outputs": [
    {
     "ename": "NameError",
     "evalue": "name 'fe_fe' is not defined",
     "output_type": "error",
     "traceback": [
      "\u001b[0;31m---------------------------------------------------------------------------\u001b[0m",
      "\u001b[0;31mNameError\u001b[0m                                 Traceback (most recent call last)",
      "\u001b[0;32m<ipython-input-43-6fac6794ff96>\u001b[0m in \u001b[0;36m<module>\u001b[0;34m()\u001b[0m\n\u001b[0;32m----> 1\u001b[0;31m \u001b[0mfe_fe_mean\u001b[0m \u001b[0;34m=\u001b[0m \u001b[0mfe_fe\u001b[0m\u001b[0;34m.\u001b[0m\u001b[0mmean\u001b[0m\u001b[0;34m(\u001b[0m\u001b[0;34m)\u001b[0m\u001b[0;34m\u001b[0m\u001b[0m\n\u001b[0m\u001b[1;32m      2\u001b[0m \u001b[0mfe_fd_mean\u001b[0m \u001b[0;34m=\u001b[0m \u001b[0mfe_fd\u001b[0m\u001b[0;34m.\u001b[0m\u001b[0mmean\u001b[0m\u001b[0;34m(\u001b[0m\u001b[0;34m)\u001b[0m\u001b[0;34m\u001b[0m\u001b[0m\n\u001b[1;32m      3\u001b[0m \u001b[0;34m\u001b[0m\u001b[0m\n\u001b[1;32m      4\u001b[0m \u001b[0mmeanv\u001b[0m \u001b[0;34m=\u001b[0m \u001b[0mnp\u001b[0m\u001b[0;34m.\u001b[0m\u001b[0marray\u001b[0m\u001b[0;34m(\u001b[0m\u001b[0;34m[\u001b[0m\u001b[0mfe_fe_mean\u001b[0m\u001b[0;34m,\u001b[0m \u001b[0mfe_fd_mean\u001b[0m\u001b[0;34m]\u001b[0m\u001b[0;34m)\u001b[0m\u001b[0;34m\u001b[0m\u001b[0m\n\u001b[1;32m      5\u001b[0m \u001b[0;32mprint\u001b[0m \u001b[0mmeanv\u001b[0m\u001b[0;34m\u001b[0m\u001b[0m\n",
      "\u001b[0;31mNameError\u001b[0m: name 'fe_fe' is not defined"
     ]
    }
   ],
   "source": [
    "fe_fe_mean = fe_fe.mean()\n",
    "fe_fd_mean = fe_fd.mean()\n",
    "\n",
    "meanv = np.array([fe_fe_mean, fe_fd_mean])\n",
    "print meanv"
   ]
  },
  {
   "cell_type": "markdown",
   "metadata": {},
   "source": [
    "> Results are similar to the normal within-tranformation. Doing the second transformation is not helpful at all, i.e. the results confirm the theoretical model."
   ]
  },
  {
   "cell_type": "code",
   "execution_count": null,
   "metadata": {
    "collapsed": true
   },
   "outputs": [],
   "source": []
  },
  {
   "cell_type": "markdown",
   "metadata": {},
   "source": [
    "# 3. The same using Python:"
   ]
  },
  {
   "cell_type": "code",
   "execution_count": 4,
   "metadata": {
    "collapsed": false
   },
   "outputs": [],
   "source": [
    "#import scipy as sp\n",
    "from pandas import *\n",
    "import pandas\n",
    "#import rpy2.robjects as ro\n",
    "import random\n",
    "\n",
    "#import numpy.random as R\n",
    "import statsmodels.api as sm\n",
    "from statsmodels.sandbox.regression.predstd import wls_prediction_std\n",
    "#import pylab as P\n",
    "import matplotlib.pyplot as plt\n",
    "%matplotlib inline"
   ]
  },
  {
   "cell_type": "code",
   "execution_count": 3,
   "metadata": {
    "collapsed": true
   },
   "outputs": [
    {
     "name": "stdout",
     "output_type": "stream",
     "text": [
      "     Individual  Time   alpha_i  trend         y_it        x_it      e_it\n",
      "0             1     1 -0.315619      1     5.966723    0.938004  0.406333\n",
      "1             1     2 -0.315619      2    10.755261    2.813945  0.442990\n",
      "2             1     3 -0.315619      3     7.405965    1.378846 -1.036109\n",
      "3             1     4 -0.315619      4    14.477653    4.473510 -1.153749\n",
      "4             1     5 -0.315619      5    15.647115    3.662680  0.637374\n",
      "5             2     1 -0.451261      2     7.723998    1.533979  0.107301\n",
      "6             2     2 -0.451261      4    16.808943    4.416874  1.426456\n",
      "7             2     3 -0.451261      6    21.083685    6.690712 -0.846477\n",
      "8             2     4 -0.451261      8    25.771535    7.709322 -0.195847\n",
      "9             2     5 -0.451261     10    31.494125   10.567407 -2.189428\n",
      "10            3     1  0.983558      3    10.620450    2.318532 -1.000171\n",
      "11            3     2  0.983558      6    24.865002    7.089636  0.702173\n",
      "12            3     3  0.983558      9    36.127754   11.508935  0.126326\n",
      "13            3     4  0.983558     12    44.172457   14.281514 -0.374129\n",
      "14            3     5  0.983558     15    54.709226   17.569823  0.586023\n",
      "15            4     1  0.059631      4    19.227044    6.301467 -0.435521\n",
      "16            4     2  0.059631      8    25.131449    7.101045 -0.130272\n",
      "17            4     3  0.059631     12    45.087969   13.616062  2.796214\n",
      "18            4     4  0.059631     16    51.514576   16.264929 -0.074912\n",
      "19            4     5  0.059631     20    68.043212   21.567387  1.848807\n",
      "20            5     1  0.643015      5    17.154219    4.076013  0.359179\n",
      "21            5     2  0.643015     10    35.083558   10.079757  1.281030\n",
      "22            5     3  0.643015     15    50.035960   15.188337  1.016272\n",
      "23            5     4  0.643015     20    63.470534   19.948240 -0.068961\n",
      "24            5     5  0.643015     25    77.335433   24.156609  0.379201\n",
      "25            6     1 -1.639359      6    19.119571    5.714306  0.330319\n",
      "26            6     2 -1.639359     12    32.700032   10.307497 -1.275602\n",
      "27            6     3 -1.639359     18    54.495770   17.581111 -0.027094\n",
      "28            6     4 -1.639359     24    71.761877   23.154238  0.092760\n",
      "29            6     5 -1.639359     30    90.861300   29.878937 -0.257216\n",
      "..          ...   ...       ...    ...          ...         ...       ...\n",
      "970         195     1  0.115249    195   584.163220  192.139436  1.769099\n",
      "971         195     2  0.115249    390  1173.517951  391.134804 -1.866907\n",
      "972         195     3  0.115249    585  1757.725828  584.635223  0.340134\n",
      "973         195     4  0.115249    780  2342.229836  779.473266  0.168054\n",
      "974         195     5  0.115249    975  2926.787504  974.868918 -1.065581\n",
      "975         196     1  0.294247    196   589.291379  195.915089 -1.833045\n",
      "976         196     2  0.294247    392  1179.744909  392.012463  0.425737\n",
      "977         196     3  0.294247    588  1768.137548  588.416142  0.011018\n",
      "978         196     4  0.294247    784  2355.748868  783.939151  0.576320\n",
      "979         196     5  0.294247    980  2942.810427  978.987381  1.541419\n",
      "980         197     1 -0.895012    197   591.752802  195.848526  0.950761\n",
      "981         197     2 -0.895012    394  1182.381528  393.077480  0.121580\n",
      "982         197     3 -0.895012    591  1775.911273  592.024751 -1.243217\n",
      "983         197     4 -0.895012    788  2365.003159  788.059729 -1.221286\n",
      "984         197     5 -0.895012    985  2957.245296  984.788939  0.562430\n",
      "985         198     1  2.330758    198   600.591067  198.944610 -0.628911\n",
      "986         198     2  2.330758    396  1197.102374  398.275333 -0.779052\n",
      "987         198     3  2.330758    594  1792.987567  596.748420  0.159969\n",
      "988         198     4  2.330758    792  2386.393883  794.440355  0.182414\n",
      "989         198     5  2.330758    990  2976.554494  990.438317  0.347103\n",
      "990         199     1  1.102723    199   600.516614  198.839384 -0.264877\n",
      "991         199     2  1.102723    398  1197.846238  397.650863  0.441790\n",
      "992         199     3  1.102723    597  1797.077438  598.492802 -1.010889\n",
      "993         199     4  1.102723    796  2393.279760  797.463670 -1.750304\n",
      "994         199     5  1.102723    995  2992.216389  996.660751 -0.207837\n",
      "995         200     1 -0.190925    200   603.067243  199.913669  0.430830\n",
      "996         200     2 -0.190925    400  1199.741780  399.443464 -1.954223\n",
      "997         200     3 -0.190925    600  1801.503471  599.251292  0.191813\n",
      "998         200     4 -0.190925    800  2401.976458  799.657661 -0.147939\n",
      "999         200     5 -0.190925   1000  3001.187465  999.122964  0.132461\n",
      "\n",
      "[1000 rows x 7 columns]\n"
     ]
    }
   ],
   "source": [
    "random.seed(100)\n",
    "n = 200\n",
    "T = 5\n",
    "N = n * T\n",
    "alpha_i = np.random.normal(0, 1, 200) # Equivalent to `drawnorm alpha_i, n(200)`\n",
    "alpha_i = np.repeat(alpha_i,5) # Equivalent to `expand 5`  \n",
    "\n",
    "\n",
    "i = np.arange(n) # Equivalent to `gen i = _n`  \n",
    "i = np.repeat(i,T) # Equivalent to `expand 5`  \n",
    "\n",
    "t = np.arange(5) + 1 # Equivalent to bys i: g t = _n \n",
    "t = np.tile(t,200)\n",
    "#t.shape\n",
    "trend = t*i # <=> `gen trend = t*i`\n",
    "\n",
    "mean = [0, 0]\n",
    "cov = [[1, 0], [0, 1]]\n",
    "nu_it, e_it = np.random.multivariate_normal(mean, cov, 1000).T # <=> `drawnorm nu_it e_it, n(1000)`\n",
    "\n",
    "x_it = (nu_it + alpha_i + trend).T # <=> `g x_it = nu_it + alpha_i + trend`\n",
    "# Since we will transform the data at least ones, we don't have to include an intercept in the first place.\n",
    "\n",
    "y_it = (3 + alpha_i + 2*x_it + trend + e_it).T # <=> `g y_it = 3 + alpha_i + 2*x_it + trend + e_it `\n",
    "\n",
    "\n",
    "\n",
    "m = np.matrix((i, t, alpha_i, trend, y_it, x_it, e_it))\n",
    "mt = m.transpose()\n",
    "\n",
    "df = pd.DataFrame(mt)\n",
    "df.columns = [\"Individual\", \"Time\", \"alpha_i\", \"trend\", \"y_it\", \"x_it\", \"e_it\"]\n",
    "#print(df)\n",
    "\n",
    "#np.set_printoptions(precision=3, suppress=True)\n",
    "#print(mt)\n",
    "#y_it.shape"
   ]
  },
  {
   "cell_type": "markdown",
   "metadata": {},
   "source": [
    "The data generating process is here now down completely using open source packages. The arising problem now however is, that our internet research did not provide us bith commands which can analyse panel data as easily as stata can do. I.e. there is no command which is directly comparable to \n",
    "`xtset i t` and `xtreg y_it x_it, fe`. We therefor have to construct the transformations ourselfs. We will start with taking the first-difference"
   ]
  },
  {
   "cell_type": "code",
   "execution_count": 6,
   "metadata": {
    "collapsed": false
   },
   "outputs": [
    {
     "data": {
      "image/png": "[encoded data removed]",
      "text/plain": [
       "<matplotlib.figure.Figure at 0x10e07c0d0>"
      ]
     },
     "metadata": {},
     "output_type": "display_data"
    },
    {
     "name": "stdout",
     "output_type": "stream",
     "text": [
      "('Parameters: ', array([ 2.99971809]))\n",
      "('Parameters: ', array([ 2.00802103]))\n"
     ]
    }
   ],
   "source": [
    "\n",
    "\n",
    "x_reshape = np.reshape(np.ravel(x_it), (200, 5)).T # reshape x-variable to wide form for the transformation\n",
    "    # To verify the reshape command, comment out the next to lines. We need 200 columsn with each 5 rows for 200 individuals haven 5 time periods\n",
    "    #x_df = pd.DataFrame(x_reshape)\n",
    "    #print x_df.head(n=5) # One can see that we have now 200 columns with each 5 time periods\n",
    "dx = np.zeros(x_reshape.shape) #Constructing a zero variable for the first-difference command which is following (this is necessary)\n",
    "dx[1:] = x_reshape[1:] - x_reshape[:-1] # First-Difference\n",
    "dx = np.delete(dx,(0), axis=0) # Dropping the first period which does not contain any information anymore.\n",
    "    # Every dirst-difference means that we will lose one time period.\n",
    "    #dx = numpy.delete(dx,(0), axis=1)\n",
    "d2x = np.zeros(dx.shape) #Constructing a zero variable for the first-difference command which is following (this is necessary)\n",
    "d2x[1:] = dx[1:] - dx[:-1] # Second-Difference\n",
    "d2x = np.delete(d2x,(0), axis=0)\n",
    "    # For verification command out the next lines:\n",
    "    #dx_df = pd.DataFrame(dx)\n",
    "    #print dx_df.head(n=5) # The first entry is now zero for all zero because we can't take the first-difference from the starting value. Comparing dx_df and x_df one can clearly see that the first-differnce worked well.\n",
    "    # Now we have the reshape the data again in long form for the regression\n",
    "dx = np.reshape(dx.T, N-n) # replacing dx with long form (to be used in a regression)\n",
    "# We have to substract n from N, because we delete one time period\n",
    "d2x = np.reshape(d2x.T, N-2*n)\n",
    "# Same here, just that now we deleted two time periods.\n",
    "    #dx[:11] #to check if transition worked\n",
    "\n",
    "################ Some transition for the y-variable\n",
    "y_reshape = np.reshape(np.ravel(y_it), (200, 5)).T # reshape x-variable to wide form for the transformation\n",
    "dy = np.zeros(y_reshape.shape) #Constructing a zero variable for the first-difference command which is following (this is necessary)\n",
    "dy[1:] = y_reshape[1:] - y_reshape[:-1] # First-Difference\n",
    "dy = np.delete(dy,(0), axis=0) # Dropping the first period which does not contain any information nomore.\n",
    "\n",
    "d2y = np.zeros(dy.shape) #Constructing a zero variable for the first-difference command which is following (this is necessary)\n",
    "d2y[1:] = dy[1:] - dy[:-1] # Second-Difference\n",
    "d2y = np.delete(d2y,(0), axis=0)\n",
    "\n",
    "dy = np.reshape(dy.T, N-n)\n",
    "d2y = np.reshape(d2y.T, N-2*n)\n",
    "\n",
    "x = np.mat(dx).T\n",
    "y = np.mat(dy).T\n",
    "estimate = (x.T * x).I * x.T * y\n",
    "\n",
    "\n",
    "\n",
    "model = sm.OLS(dy, dx)\n",
    "results = model.fit()\n",
    "#print(results.summary())\n",
    "print('Parameters: ', results.params)\n",
    "\n",
    "\n",
    "\n",
    "model = sm.OLS(d2y, d2x)\n",
    "results = model.fit()\n",
    "#print(results.summary())\n",
    "print('Parameters: ', results.params)"
   ]
  },
  {
   "cell_type": "code",
   "execution_count": null,
   "metadata": {
    "collapsed": false
   },
   "outputs": [],
   "source": []
  },
  {
   "cell_type": "markdown",
   "metadata": {
    "collapsed": false
   },
   "source": [
    "We can clearly see that the first regression, where we just use one difference, is biased as it was in the stata code. For the second estimation, we get and unbiased estimator. It seems that the transformation using python (or numpy) worked. This however was just for one simulation. As we did before, we should now repeat the simulation several times.\n"
   ]
  },
  {
   "cell_type": "code",
   "execution_count": 48,
   "metadata": {
    "collapsed": false
   },
   "outputs": [],
   "source": [
    "r = 100 # number of replications\n",
    "\n",
    "#estimate = np.mat(np.empty((1, r)))\n",
    "estimate_fd = np.mat(np.empty((2, r)))\n",
    "beta_fd_hat = np.zeros(4)\n",
    "l = 0\n",
    "estimate_rt = np.mat(np.empty((1, r)))\n",
    "beta_rt_hat = np.zeros(4)\n",
    "\n",
    "n = 100\n",
    "T = 3\n",
    "N = n * T\n",
    "intercept = 3\n",
    "for beta in (-5, -1, 0.5, 2):\n",
    "    for j in range(0, r):\n",
    "        # DGP\n",
    "        random.seed(r)\n",
    "        alpha_i = np.random.normal(0, 1, n)\n",
    "        alpha_i = np.repeat(alpha_i,T) \n",
    "        i = np.arange(n)\n",
    "        i = np.repeat(i,T)\n",
    "        t = np.arange(T) + 1 \n",
    "        t = np.tile(t,n)\n",
    "        trend = t*i \n",
    "        mean = [0, 0]\n",
    "        cov = [[1, 0], [0, 1]]\n",
    "        nu_it, e_it = np.random.multivariate_normal(mean, cov, N).T \n",
    "        x_it = (nu_it + alpha_i + trend).T \n",
    "        y_it = (intercept + alpha_i + beta*x_it + trend + e_it).T # <=> `g y_it = 3 + alpha_i + 2*x_it + trend + e_it `\n",
    "        ########## Transformation\n",
    "        x_reshape = np.reshape(np.ravel(x_it), (n, T)).T \n",
    "        dx = np.zeros(x_reshape.shape)\n",
    "        dx[1:] = x_reshape[1:] - x_reshape[:-1] \n",
    "        dx = np.delete(dx,(0), axis=0) \n",
    "        d2x = np.zeros(dx.shape) \n",
    "        d2x[1:] = dx[1:] - dx[:-1] \n",
    "        d2x = np.delete(d2x,(0), axis=0)\n",
    "        dx = np.reshape(dx.T, N-n) \n",
    "        d2x = np.reshape(d2x.T, N-2*n)\n",
    "\n",
    "        y_reshape = np.reshape(np.ravel(y_it), (n, T)).T \n",
    "        dy = np.zeros(y_reshape.shape)\n",
    "        dy[1:] = y_reshape[1:] - y_reshape[:-1] \n",
    "        dy = np.delete(dy,(0), axis=0) \n",
    "        d2y = np.zeros(dy.shape)\n",
    "        d2y[1:] = dy[1:] - dy[:-1] \n",
    "        d2y = np.delete(d2y,(0), axis=0)\n",
    "        dy = np.reshape(dy.T, N-n)\n",
    "        d2y = np.reshape(d2y.T, N-2*n)\n",
    "\n",
    "        ################# First-Difference Regression\n",
    "        x = np.mat(dx).T\n",
    "        y = np.mat(dy).T\n",
    "        M = (x.T * x).I * x.T\n",
    "        estimate_fd[:, j] = M * y\n",
    "        \n",
    "        ################# Random-Trend Regression\n",
    "        x2 = np.mat(d2x).T\n",
    "        y2 = np.mat(d2y).T\n",
    "        M2 = (x2.T * x2).I * x2.T\n",
    "        estimate_rt[:, j] = M2 * y2\n",
    "        \n",
    "    mu_fd = estimate_fd.mean()\n",
    "    beta_fd_hat[l] = mu_fd \n",
    "    mu_rt = estimate_rt.mean()\n",
    "    beta_rt_hat[l] = mu_rt\n",
    "    l = l + 1\n",
    "    \n",
    "    \n",
    "mu_fd = estimate_fd.mean()\n",
    "var_fd = estimate_fd.var()\n",
    "sigma_fd = np.sqrt(var_fd)\n",
    "estimate_fd = np.squeeze(np.asarray(estimate_fd))\n",
    "mu_rt = estimate_rt.mean()\n",
    "var_rt = estimate_rt.var()\n",
    "sigma_rt = np.sqrt(var_rt)\n",
    "estimate_rt = np.squeeze(np.asarray(estimate_rt))\n",
    "\n",
    "\n",
    "\n"
   ]
  },
  {
   "cell_type": "code",
   "execution_count": 51,
   "metadata": {
    "collapsed": false
   },
   "outputs": [
    {
     "name": "stdout",
     "output_type": "stream",
     "text": [
      "[ 0.99920051  0.99920261  0.99941749  0.99928697]\n",
      "[-0.01569321 -0.01182767 -0.00048577 -0.00870224]\n",
      "False\n",
      "False\n",
      "False\n",
      "False\n",
      "True\n",
      "True\n",
      "True\n",
      "True\n"
     ]
    }
   ],
   "source": [
    "beta = np.array((-5, -1, 0.5, 2))\n",
    "diff_fd = beta_fd_hat - beta\n",
    "diff_fd_r = np.round(np.absolute(diff_fd),0)\n",
    "print diff_fd\n",
    "diff_rt = beta_rt_hat - beta\n",
    "diff_rt_r = np.round(np.absolute(diff_rt),0)\n",
    "print diff_rt\n",
    "for l in range(0,4):\n",
    "    if diff_fd_r[l] < 0.1:\n",
    "        print True\n",
    "    else:\n",
    "        print False\n",
    "        \n",
    "for l in range(0,4):\n",
    "    if diff_rt_r[l] < 0.1:\n",
    "        print True\n",
    "    else:\n",
    "        print False\n",
    "        "
   ]
  },
  {
   "cell_type": "code",
   "execution_count": 14,
   "metadata": {
    "collapsed": false
   },
   "outputs": [],
   "source": [
    "#axis = np.round(estimate,4)\n",
    "#h = plt.hist(np.round(estimate,2))    \n",
    "n, bins, patches = plt.hist(np.round(estimate_fd,6), 15, normed=1, facecolor='g', alpha=0.85)\n",
    "#plt.axis([2.9981, 3.0009, 0, 25])\n",
    "plt.xlabel('Coefficient of variable x'); plt.ylabel('Density'); plt.title('Histogram Estimation Results')\n",
    "plt.plot(bins, 1/(sigma_fd * np.sqrt(2 * np.pi)) *\n",
    "               np.exp( - (bins - mu_fd)**2 / (2 * sigma_fd**2) ),\n",
    "         linewidth=2, color='r')\n",
    "#plt.text(60, .025, r'$\\mu=100,\\ \\sigma=15$')\n",
    "plt.show()\n",
    "\n",
    "#axis = np.round(estimate,4)\n",
    "#h = plt.hist(np.round(estimate,2))    \n",
    "n, bins, patches = plt.hist(np.round(estimate_rt,6), 15, normed=1, facecolor='g', alpha=0.85)\n",
    "#plt.axis([2.9981, 3.0009, 0, 25])\n",
    "plt.xlabel('Coefficient of random trend model'); plt.ylabel('Density'); plt.title('Histogram Estimation Results')\n",
    "#plt.text(60, .025, r'$\\mu=100,\\ \\sigma=15$')\n",
    "plt.show()\n",
    "\n",
    "#diff = beta - estimate_fd\n",
    "#h = plt.hist(diff)    \n",
    "#n, bins, patches = plt.hist(estimate, 12, normed=1, facecolor='g', alpha=0.85)\n",
    "#plt.axis([2.9981, 3.0009, 0, 25])\n",
    "#plt.xlabel('Coefficient of variable x'); plt.ylabel('Density'); plt.title('Histogram Estimation Results')\n",
    "#plt.text(20, -1.0005, r'$\\mu=100,\\ \\sigma=15$')\n",
    "#plt.show()"
   ]
  },
  {
   "cell_type": "code",
   "execution_count": 66,
   "metadata": {
    "collapsed": false
   },
   "outputs": [
    {
     "name": "stdout",
     "output_type": "stream",
     "text": [
      "[[ 0.  1.  2.  0.  0.  0.  0.  0.  0.  0.]]\n"
     ]
    }
   ],
   "source": []
  },
  {
   "cell_type": "code",
   "execution_count": 7,
   "metadata": {
    "collapsed": true
   },
   "outputs": [],
   "source": []
  },
  {
   "cell_type": "code",
   "execution_count": 101,
   "metadata": {
    "collapsed": false
   },
   "outputs": [
    {
     "data": {
      "image/png": "[encoded data removed]",
      "text/plain": [
       "<matplotlib.figure.Figure at 0x10e3511d0>"
      ]
     },
     "metadata": {},
     "output_type": "display_data"
    }
   ],
   "source": [
    "import matplotlib.pyplot as plt\n",
    "%matplotlib inline\n",
    "mu = 0\n",
    "sigma = 1\n",
    "s = np.random.normal(0, 1, 200)\n",
    "count, bins, ignored = plt.hist(s, 30, normed=True)\n",
    "plt.plot(bins, 1/(sigma * np.sqrt(2 * np.pi)) *\n",
    "               np.exp( - (bins - mu)**2 / (2 * sigma**2) ),\n",
    "         linewidth=2, color='r')\n",
    "plt.show()"
   ]
  },
  {
   "cell_type": "code",
   "execution_count": 104,
   "metadata": {
    "collapsed": false
   },
   "outputs": [
    {
     "data": {
      "text/plain": [
       "numpy.ndarray"
      ]
     },
     "execution_count": 104,
     "metadata": {},
     "output_type": "execute_result"
    }
   ],
   "source": []
  },
  {
   "cell_type": "code",
   "execution_count": null,
   "metadata": {
    "collapsed": false
   },
   "outputs": [],
   "source": []
  },
  {
   "cell_type": "code",
   "execution_count": null,
   "metadata": {
    "collapsed": false
   },
   "outputs": [],
   "source": []
  },
  {
   "cell_type": "code",
   "execution_count": null,
   "metadata": {
    "collapsed": false
   },
   "outputs": [],
   "source": []
  },
  {
   "cell_type": "code",
   "execution_count": null,
   "metadata": {
    "collapsed": true
   },
   "outputs": [],
   "source": []
  }
 ],
 "metadata": {
  "kernelspec": {
   "display_name": "Python 2",
   "language": "python",
   "name": "python2"
  },
  "language_info": {
   "codemirror_mode": {
    "name": "ipython",
    "version": 2
   },
   "file_extension": ".py",
   "mimetype": "text/x-python",
   "name": "python",
   "nbconvert_exporter": "python",
   "pygments_lexer": "ipython2",
   "version": "2.7.11"
  }
 },
 "nbformat": 4,
 "nbformat_minor": 0
}
