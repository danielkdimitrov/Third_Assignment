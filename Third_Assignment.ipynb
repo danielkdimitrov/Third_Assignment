{
 "cells": [
  {
   "cell_type": "markdown",
   "metadata": {
    "collapsed": false
   },
   "source": [
    "<center> <h1> Third Assignment: Numerical Simulation </h1></center>\n",
    "\n",
    "<center> <h2><span style=\"font-family:Courier New; \"> Random Trend Model Estimation for Panel Data </span></h2></center>\n",
    "\n",
    "\n",
    "<center> <h3><span style=\"color:blue; font-family:Courier New; \"> Carlos Gonzales (536572) </span></h3></center>\n",
    "\n",
    "<center> <h3><span style=\"color:blue; font-family:Courier New; \"> Daniel Dimitrov (275140) </span></h3></center>\n",
    "\n",
    "<center> <h3><span style=\"color:blue; font-family:Courier New; \"> Jakob Schwerter (110583) </span></h3></center>"
   ]
  },
  {
   "cell_type": "markdown",
   "metadata": {},
   "source": [
    "--------------------"
   ]
  },
  {
   "cell_type": "markdown",
   "metadata": {},
   "source": [
    "<center><h2><span style=\"font-family:Courier New; \"> Abstract </span></h2></center>\n",
    "\n",
    "<div style=\"text-align: justify\"><span style=\"font-family:Courier New;\">In this study we look at some foundational <a href='#EQ1'>panel data</a> models. Using different software packages we perform numerical simulation based on a range of <a href='#DGP'>data generating processes</a>. Our initial interest is first of all to find an unbiased estimator when we know that a linear trend has introduced bias in the classical panel estimation methods. We evaluate the consistency and effectiveness of several alternatives in estimating a <a href='#RT'>random-trend</a> model. We compare two main competing approaches for eliminating the trend: (i) <a href='#EQ4'>first-differencing the data twice</a> and (ii) <a href='#EQ5'>within transformation after first differencing once</a>. We evaluate the <a href='#ConclusionModels'>robustness</a> of the two and find that the mixed approach (ii) may be preferable as long as the researcher can accept certain limitations. Also, we use this study to compare the <a href='#ConclusionStataPython'>effectiveness</a> of  _Stata_ (a standard package for econometric work) against open source python libraries such as  <i>numpy and pandas</i>. We conclude that open source libraries are not yet rich enough to provide all options that a specialized econometrics software offers, but we assume <i>python</i> to have a steep learning curve here in the near future. However, extensions such as <a href=https://github.com/TiesdeKok/ipystata><i>ipystata</i></a> could offer researchers a nice segue towards this very powerful language. To  illustrate some <a href='#graphs'>visually appealing</a> conclusions from our data we also use <i>plotly</i>. </span></div>\n",
    "\n",
    "--------------------------"
   ]
  },
  {
   "cell_type": "code",
   "execution_count": null,
   "metadata": {
    "collapsed": true
   },
   "outputs": [],
   "source": []
  },
  {
   "cell_type": "markdown",
   "metadata": {},
   "source": [
    "Things that have to be done:\n",
    "    - Fixing the problem of the random.seed: Does not work in the python code \n",
    "    - Make plots flexible to parameter changes (for us n, t and beta)\n",
    "    - If possible, make the code faster / easier\n",
    "    - Count the time python code needs\n",
    "    - Loading a dataset to check the simulation results for a empirical dataset"
   ]
  },
  {
   "cell_type": "markdown",
   "metadata": {},
   "source": [
    "<center><h2><span style=\"font-family:Courier New; \"> Contents </span></h2></center>\n",
    "<h3><span style=\"font-family:Courier New; \">1. <a href='#Motivation'>Motivation</a></span></h3>\n",
    "<h3><span style=\"font-family:Courier New; \"> 2. <a href='#SimStata'>Simulation and Estimation with Stata</a></span></h3>\n",
    "<h4><span style=\"font-family:Courier New; \">        2.1. <a href='#SimStata'>Preparing ipystata</span></a></h4>\n",
    "<h4><span style=\"font-family:Courier New; \">        2.2. <a href='#DGP'>Overview of the DGP</span></a></h4>\n",
    "<h4><span style=\"font-family:Courier New; \">        2.2. <a href='#SimNoTrend'>Simulation without Random Trend in the true DGP]</a></span></h4>\n",
    "<h4><span style=\"font-family:Courier New; \">        2.3. <a href='#MCNoTrend'>Monte Carlo study without trend in the DGP]</a></span></h4>\n",
    "<h4><span style=\"font-family:Courier New; \">        2.4. <a href='#MCConstTrend'>Monte Carlo study with the same trend for all individuals</a></span></h4>\n",
    "<h4><span style=\"font-family:Courier New; \">        2.5. <a href='#MCIndivTrend'>Monte Carlo study with individual specific linear trends (Random Trend)</a></span></h4>\n",
    "<h4><span style=\"font-family:Courier New; \">        2.6. <a href='#MCNonLinTrend'>Monte Carlo study with nonlinear individual specific trends</a></span></h4>\n",
    "<h3><span style=\"font-family:Courier New; \"> 3. <a href='#MCPythonRT'>Random Trend Simulation using Python</a></span></h3>\n",
    "<h4><span style=\"font-family:Courier New; \">        3.1. <a href='#MCPythonDGP'>DGP</a></span></h4>\n",
    "<h4><span style=\"font-family:Courier New; \">        3.2. <a href='#MCPythonDataTr'>Data Transformation</a></span></h4>\n",
    "<h4><span style=\"font-family:Courier New; \">        3.3. <a href='#MCPythonReg'>Regression</a></span></h4>\n",
    "<h4><span style=\"font-family:Courier New; \">        3.4. <a href='#MCPython'>Monte Carlo Study</a></span></h4>\n",
    "<h4><span style=\"font-family:Courier New; \">        3.5. <a href='#graphs'>Graphical Comparison of the Estimation Methods</a></span></h4>\n",
    "<h3><span style=\"font-family:Courier New; \"> 4. <a href='#Conclusion'>Conclusion</a></span></h3>\n",
    "<h4><span style=\"font-family:Courier New; \">        4.1. <a href='#ConclusionModels'>Comparison between models</a></span></h4>\n",
    "<h4><span style=\"font-family:Courier New; \">        4.2. <a href='#ConclusionStataPython'>Comparison between Stata and Python</a></span></h4>"
   ]
  },
  {
   "cell_type": "markdown",
   "metadata": {
    "collapsed": true
   },
   "source": [
    "-----------------\n",
    "<a id='Motivation'></a>"
   ]
  },
  {
   "cell_type": "markdown",
   "metadata": {
    "collapsed": false
   },
   "source": [
    "# 1. Motivation\n",
    "\n",
    "We construct a simulation for a random-trend (RT) model as defined by [Wooldrige 2010](https://mitpress.mit.edu/books/econometric-analysis-cross-section-and-panel-data),  section 11.7.1. The model is an extension of the [first-difference (FD) model](https://en.wikipedia.org/wiki/First-difference_estimator) for panel-data and overcomes some of its deficiencies. Our main interest is to find an unbiased estimator after a linear random-trend has already introduced some bias in the classical panel estimation methods.\n",
    "\n",
    "## 1.1. Basic Panel Data Model\n",
    "\n",
    "The basic model to estimate a dependent variable follows a linear panel data specification. The specific model is as follows:\n",
    "\n",
    "<a id='EQ1'></a>\n",
    "$$y_{it} = \\beta \\cdot x_{it} + u_{it} \\quad (1) $$\n",
    "\n",
    "As we are working with a panel, the index $i$ stands for an individual (person, company, country, etc.), while the index $t$ represents time. The dependent and the independent variables are respectively indicated by $y_{it}$ and $x_{it}$ and vary both over the individuals and over the time dimension. The error term is represented by $u_{it}$. This can be decomposed into three terms:\n",
    "\n",
    "$$u_{it} = \\alpha_i + e_{it}$$\n",
    "\n",
    "In this context $\\alpha_i$ is an unobserved individual specific effect that stays constant for each individual and $e_{it}$ is an idiosyncratic error that changes both over time and over individuals. In practice we are mostly interested in estimating the effect of $x$ on $y$ and so we are looking for an unbiased and consistent estimation of $\\beta$. \n",
    "\n",
    "Given that both $x$ and $y$ are correlated with the first two parts of the error term, using just normal OLS without any data-transformation (pooled regression) will give biased results due to an [endogeneity bias](https://en.wikipedia.org/wiki/Endogeneity_%28econometrics%29).\n",
    "\n",
    "Two methods can be used to deal with the endogeneity problem induced by the constant error term: The [fixed-effects](https://en.wikipedia.org/wiki/Fixed_effects_model) (FE) and the first-differences (FD) method.\n",
    "\n",
    "The fixed-effects (FE) method can handle situations using the so-called within transformation, subtracting the mean from each variable corresponding to each individual. This eliminates the individual-specific effect which is constant over time (here: $\\alpha_i$) and allows for a consistent [OLS estimation](https://en.wikipedia.org/wiki/Ordinary_least_squares): \n",
    "\n",
    "<a id='EQ2'></a>\n",
    "$$y_{it} - \\bar{y}_{i} = \\beta \\cdot (x_{it} - \\bar{x}_{i}) + \\alpha_i - \\alpha_i + e_{it} - \\bar{e}_{i} \\quad (2)$$ \n",
    "\n",
    "with $\\bar{y}_{i} = \\sum_{t=1}^T y_{it}$, $\\bar{x}_{i} = \\sum_{t=1}^T x_{it}$ and $\\bar{e}_{i} = \\sum_{t=1}^T e_{it}$\n",
    "\n",
    "The first-differences manages to control for the bias by subtracting the past observation from the current one:\n",
    "\n",
    "<a id='EQ3'></a>\n",
    "$$y_{it} - y_{it-1} = \\beta \\cdot ( x_{it} - x_{it-1}) + \\alpha_i - \\alpha_{i} + (e_{it} - e_{it-1}) \\quad (3) $$\n",
    "\n",
    "One can clearly see that in both methods the $\\alpha_i$ cancels out of the regression, solving a possible correlation between $\\alpha_i$ with $y_{it} $ and $x_{it}$. Still, a crucial requirement for retrieving reliable estimates is that the independent variable and the idiosyncratic term remain uncorrelated in expectations.     \n",
    "\n",
    "Things get complicated however, when besides the unobserved constant ($\\alpha_i$), the variable of interest $x_{it}$ is correlated also with a linear trend ($g_i \\cdot t$). Keeping the variable names as before, the error term can now be decomposed as:\n",
    "\n",
    "<a id='RT'></a>\n",
    "$$u_{it} = \\alpha_i + g_i \\cdot t + e_{it} $$\n",
    "\n",
    "Now, $g_i$ is a linear trend which is specific for each individual. Note that if $y_{it}$ is a logarithm of the original variable, $g_i$ can also be interpreted as roughly the average growth rate over a period. In that case, the equation is usually referred to a random-growth model, otherwise simply as a random-trend. Overall, this presents an additional source of heterogeneity and needs to be dealt with before employing an OLS estimation.      \n",
    "\n",
    "To solve the possible bias problem due to the RT component, the literature states that in the first step we have to calculate the first-differences in order to transform the linear trend into a constant. To illustrate this more formally, taking the first-difference in the RT set-up gives\n",
    "\n",
    "$$y_{it} - y_{it-1} = \\beta \\cdot (x_{it} - x_{it-1}) + \\alpha_i - \\alpha_{i} +   g_i \\cdot t - g_{i} \\cdot (t-1) + (e_{it} - e_{it-1})$$\n",
    "\n",
    "$$ \\iff \\Delta y_{it} = \\beta \\cdot \\Delta x_{it} + g_i + \\Delta  e_{it}$$\n",
    "\n",
    "Thereafter, it is up to the researcher to continue with either the within-transformation or to first-difference again. Note that even though both are fixed-effect methods, we will be consistent with the literature to call the within-transformation the fixed-effect method. We will investigate if one of the approaches is superior to the other in means of the estimation bias of the coefficient. It would be further of interest to investigate the standard errors and model selection criteria like $R^2$, AIC and BIC, but this will be left out for the future research.\n",
    "\n",
    "As we saw, the linear trend has been reduced to a constant term which can now be canceled out by a second first-difference or a with-transformation. So, we have two possibilities for estimation given the RT model: \n",
    "- The **FD Method**: Taking two times the first-difference, will be named _pure_ in the tables later on\n",
    "- The **FD-FE Method**: First the first-difference, then the fixed-effect, named _mix_.\n",
    "\n",
    "First-differencing leads to the FD Method:\n",
    "\n",
    "<a id='EQ4'></a>\n",
    "$$\\Delta^2 y_{it} = \\beta \\cdot \\Delta^2 x_{it} + \\Delta^2 e_{it} \\quad (4) $$ where $\\Delta^2$ stands for the taking two first-differences. \n",
    "\n",
    "The alternative is to do a FE transformation for each variable by subtracting from it the mean corresponding to each individual. This leads to the FD-FE method:\n",
    "\n",
    "<a id='EQ5'></a>\n",
    "$$\\Delta y'_{it} = \\beta \\cdot \\Delta x'_{it} + \\Delta e'_{it} \\quad (5) $$\n",
    "\n",
    "where ' denotes that the variables are demeaned.\n",
    "\n",
    "One can clearly see that in (4) and (5) we canceled out both terms $\\alpha_i$ and $g_i \\cdot t$. Thereby $\\beta$ will not be biased even though the data initially included two different sorts of bias.\n",
    "\n",
    "On the other hand, if we had failed to take first differences in the first place, taking first the fixed-effects as in equation (3) would have given us the following:\n",
    "\n",
    "$$y_{it} - \\bar{y}_{i} = \\beta \\cdot ( x_{it} - \\bar{x}_{i}) + \\alpha_i - \\alpha_{i} +   g_i \\cdot (t - \\bar{t}) + (e_{it} - \\bar{e}_{i})$$\n",
    "\n",
    "Using a second transformation we will not be able to cancel out the time trend effect (we will confirm this in the simulation [at some point](#MCNonFEFD)). We thereby see that it is crucial to first take the first-difference and not the within-transformation.\n",
    "\n",
    "Given that our group is new to python but experienced in Stata, we will first do the simulation via Stata by using the package [`ipystata`](https://github.com/TiesdeKok/ipystata). Thereby we have a known language which we can refer to as our benchmark. In a second step we will use only open software packages to replicate the results. Thereby we will comment which python code is comparable to which Stata code. Besides having the results obtained using Stata as a benchmark, we start a nice _translater_ from Stata to Python. We will also comment on the speed of both languages as well as advantages and disadvantages of the coding part.\n",
    "\n",
    "The assignment will continue as follows: (i) First we explain step by step our [Data Generating Process (DGP)](#DGP). (ii) Then we run a [simulation without a random trend](#SimNoTrend) to see if everything works fine. As a single simulation is not enough to produce definitive answers, from here on we perform a Monte Carlo study with numerous simulation draws. First we do that with the basic DGP model [without a trend](#MCNoTrend) (iii) Next we run the same simulation using a [constant linear trend](#MCConstTrend) and (iv) an [individual specific trend](#MCIndivTrend) in the data generating process. To see how robust the random-trend estimates are, we will further run two simulations using two [non-linear trends](#MCNonLinTrend). Finally that we will reproduce the results of the individual trend using [open-source python packages](#MCPythonRT) only, such as _numpy_, _pandas_ and _random_.\n",
    "\n",
    "## 1.2. Setting up Python packages  for this study\n"
   ]
  },
  {
   "cell_type": "markdown",
   "metadata": {},
   "source": [
    "   > First we import the computational packages that will be used for this study. Note that _ipystata_, even though an open source package itself, relies on [Stata libraries](http://www.stata.com/) and as a result requires a Stata license and installation on your computer.  \n",
    "   \n",
    "   > After that we install and activate a spell checker in order to keep typos under control. We use [_ICalico_](http://calicoproject.org/ICalico) for the purpose.  "
   ]
  },
  {
   "cell_type": "code",
   "execution_count": 27,
   "metadata": {
    "collapsed": false
   },
   "outputs": [
    {
     "name": "stdout",
     "output_type": "stream",
     "text": [
      "1.9.7\n"
     ]
    }
   ],
   "source": [
    "import ipystata # https://github.com/TiesdeKok/ipystata - We kind of helped so that ipystata works on mac as well :)\n",
    "import numpy as np\n",
    "import pandas as pd\n",
    "import random\n",
    "\n",
    "from plotly import __version__\n",
    "from plotly.offline import download_plotlyjs, init_notebook_mode, iplot\n",
    "\n",
    "print __version__ # requires version >= 1.9.0\n",
    "\n",
    "from plotly.offline import plot\n",
    "from plotly.graph_objs import *\n",
    "import plotly.plotly as py\n",
    "import plotly.graph_objs as go\n",
    "import cufflinks as cf\n",
    "init_notebook_mode()\n",
    "\n",
    "\n",
    "# Those packages where not used in the end, but we keep it to find them easier for later projects\n",
    "#from scipy import stats\n",
    "#import statsmodels.api as sm\n",
    "#from statsmodels.sandbox.regression.predstd import wls_prediction_std\n",
    "\n",
    "# Different plot-package\n",
    "#import matplotlib.pyplot as plt\n",
    "#%matplotlib inline\n",
    "\n",
    "\n",
    "# pip install ipystata --upgrade --force-reinstall\n",
    "# Check if a new version is online before running the code.\n",
    "# Might be useful and does not take much time"
   ]
  },
  {
   "cell_type": "code",
   "execution_count": 4,
   "metadata": {
    "collapsed": false,
    "scrolled": true
   },
   "outputs": [
    {
     "name": "stdout",
     "output_type": "stream",
     "text": [
      "downloading https://bitbucket.org/ipre/calico/downloads/calico-spell-check-1.0.zip to c:\\users\\daniel\\appdata\\local\\temp\\tmpv6drbw\\calico-spell-check-1.0.zip\n",
      "extracting c:\\users\\daniel\\appdata\\local\\temp\\tmpv6drbw\\calico-spell-check-1.0.zip to C:\\ProgramData\\jupyter\\nbextensions\n"
     ]
    }
   ],
   "source": [
    "#install spellchecker\n",
    "!ipython install-nbextension https://bitbucket.org/ipre/calico/downloads/calico-spell-check-1.0.zip\n",
    "#after you install it, activate it executing the next step.     \n",
    "#this video provides a demo of how it works after you install it: https://www.youtube.com/watch?v=Km3AtRynWFQ"
   ]
  },
  {
   "cell_type": "code",
   "execution_count": 2,
   "metadata": {
    "collapsed": false
   },
   "outputs": [
    {
     "data": {
      "application/javascript": [
       "require(['base/js/utils'],\n",
       "function(utils) {\n",
       "   utils.load_extensions('calico-spell-check');\n",
       "});"
      ],
      "text/plain": [
       "<IPython.core.display.Javascript object>"
      ]
     },
     "metadata": {},
     "output_type": "display_data"
    }
   ],
   "source": [
    "%%javascript\n",
    "require(['base/js/utils'],\n",
    "function(utils) {\n",
    "   utils.load_extensions('calico-spell-check');\n",
    "});"
   ]
  },
  {
   "cell_type": "markdown",
   "metadata": {},
   "source": [
    "-------------------\n",
    "<a id='SimStata'></a>"
   ]
  },
  {
   "cell_type": "markdown",
   "metadata": {
    "collapsed": false
   },
   "source": [
    "# 2. Simulation and Estimation with Stata\n",
    "\n",
    "## 2.1. Preparing ipystata\n",
    "Before we proceed with setting up our DGP we will first make sure that _ipystata_ has been successfully installed and is working well within the python environment. The first two cells are to call _Stata_ and to see if it actually works within the Python environment. In the third cell you have to provide a path to a folder on your computer so that the system can use it to store data from the simulations. "
   ]
  },
  {
   "cell_type": "code",
   "execution_count": 4,
   "metadata": {
    "collapsed": false
   },
   "outputs": [],
   "source": [
    "from ipystata.config import config_stata\n",
    "config_stata('/Applications/Stata/StataSE.app/Contents/MacOS/StataSE') \n",
    "\n",
    "# Windows  --> 'C:\\Program Files (x86)\\Stata14\\StataSE-64.exe'\n",
    "# Mac OS X --> '/Applications/Stata/StataSE.app/Contents/MacOS/stataSE'\n",
    "# Linux    --> '/home/user/stata14/stata-se'"
   ]
  },
  {
   "cell_type": "code",
   "execution_count": 5,
   "metadata": {
    "collapsed": false
   },
   "outputs": [
    {
     "name": "stdout",
     "output_type": "stream",
     "text": [
      "\n",
      "Hello, I am printed by Stata\n",
      "We welcome you to our assignment and we hope you enjoy it\n"
     ]
    }
   ],
   "source": [
    "%%stata \n",
    "display \"Hello, I am printed by Stata\" \n",
    "display \"We welcome you to our assignment and we hope you enjoy it\""
   ]
  },
  {
   "cell_type": "code",
   "execution_count": 6,
   "metadata": {
    "collapsed": false,
    "scrolled": true
   },
   "outputs": [
    {
     "name": "stdout",
     "output_type": "stream",
     "text": [
      "\n",
      "/Users/jakobschwerter/Dropbox/github/python/Stata/Assignment\n"
     ]
    }
   ],
   "source": [
    "%%stata \n",
    "cd \"/Users/jakobschwerter/Dropbox/github/python/Stata/Assignment\"\n",
    "    * cd \"D:\\Google Doc\\_Tilburg\\_Simulation\\stata\" \n",
    "set seed 100"
   ]
  },
  {
   "cell_type": "markdown",
   "metadata": {},
   "source": [
    "<a id='DGP'></a> \n",
    "## 2.2. Overview of the DGP\n",
    "\n",
    "We will now go through the main part of the simulation process. Minor changes or additions to the process later on will be explained with _Stata's_ commenting functionality within the code, which is done by \" * \".\n",
    "\n",
    "> First we have to _call_ Stata using `%%stata`. Then by using `cd` we indicate where it should look for files and where it can save them.\n",
    "\n",
    "> We further set the seed to 100, so that results are easier to be reproduced."
   ]
  },
  {
   "cell_type": "code",
   "execution_count": 7,
   "metadata": {
    "collapsed": false
   },
   "outputs": [
    {
     "name": "stdout",
     "output_type": "stream",
     "text": [
      "\n",
      "(obs 200)\n"
     ]
    }
   ],
   "source": [
    "%%stata -o simulation\n",
    "drawnorm alpha_i, n(200)\n"
   ]
  },
  {
   "cell_type": "markdown",
   "metadata": {},
   "source": [
    ">We create a new dataset called _simulation_ using `-o`. The type is a pandas core frame Data Frame. This is necessary for `ipystata` on mac, because the data would not be stored otherwise.\n",
    "\n",
    ">Then we draw 200 (independent and identical distributed (iid) random numbers of a standard normal distribution with mean zero and variance 1. We name it $alpha_i$ ($\\alpha_i$). In the context of panel data, the variable $\\alpha_i$ stands for the unobserved time-invariant individual effect.   "
   ]
  },
  {
   "cell_type": "code",
   "execution_count": 8,
   "metadata": {
    "collapsed": false
   },
   "outputs": [
    {
     "name": "stdout",
     "output_type": "stream",
     "text": [
      "\n",
      "(800 observations created)\n"
     ]
    }
   ],
   "source": [
    "%%stata -d simulation -o simulation\n",
    "expand 5"
   ]
  },
  {
   "cell_type": "markdown",
   "metadata": {
    "collapsed": false
   },
   "source": [
    "> `-d` calls the dataset _simulation_ , otherwise the commands afterwards would not find any variables. The command `-o simulation` saves the changes.\n",
    "\n",
    "> We expand the generated data by 5, i.e. simply repeating every alpha 4 additional times. This creates 800 additional observations.\n",
    "\n",
    ">As a result, the vector expands from $(200 \\; \\text{x} \\; 1)$ to $(200 \\cdot 5 \\; \\text{x} \\; 1)$. What we have done is to create a variable of 800 observations, each described by some measure that is randomly generated. The expanding here ensures that for each individual the measure stays constant over time, thus replicating time-invariant individual effects. "
   ]
  },
  {
   "cell_type": "code",
   "execution_count": 9,
   "metadata": {
    "collapsed": false
   },
   "outputs": [
    {
     "name": "stdout",
     "output_type": "stream",
     "text": [
      "\n",
      "\n"
     ]
    }
   ],
   "source": [
    "%%stata -d simulation -o simulation\n",
    "drawnorm nu_it e_it, n(1000)"
   ]
  },
  {
   "cell_type": "markdown",
   "metadata": {},
   "source": [
    "> We draw two new variables (or vectors) now with 1000 entries from a multivariate normal distribution. 1000 draws are made, so that this fits with the 200 persons and the 5 time periods we created by expanding the alphas by 5. Both variables are independent from each other, so they are not correlated, and the data is also i.i.d. over time.\n",
    " \n",
    "> To verify that we did everything correctly, we have a look into summary statistics"
   ]
  },
  {
   "cell_type": "code",
   "execution_count": 10,
   "metadata": {
    "collapsed": false
   },
   "outputs": [
    {
     "name": "stdout",
     "output_type": "stream",
     "text": [
      "\n",
      "    Variable |       Obs        Mean    Std. Dev.       Min        Max\n",
      "-------------+--------------------------------------------------------\n",
      "       index |      1000       499.5    288.8194          0        999\n",
      "     alpha_i |      1000   -.0376166    1.014596  -2.885089    2.10282\n",
      "       nu_it |      1000    .0101147    1.027895  -2.885089   3.081883\n",
      "        e_it |      1000   -.0310172    .9936022  -2.741925   3.359478\n"
     ]
    }
   ],
   "source": [
    "%%stata -d simulation\n",
    "sum "
   ]
  },
  {
   "cell_type": "markdown",
   "metadata": {},
   "source": [
    ">We see the three generated variables $\\alpha_i, \\; nu_{it}, \\; e_{it}$, having a mean very close to zero and a standard deviation close to 1. Further, using stata in python, and index variable is generated automatically. The index variable would be the individual identifier variable if we would run a pooled panel regression. "
   ]
  },
  {
   "cell_type": "code",
   "execution_count": 11,
   "metadata": {
    "collapsed": false
   },
   "outputs": [
    {
     "name": "stdout",
     "output_type": "stream",
     "text": [
      "\n",
      "\n"
     ]
    }
   ],
   "source": [
    "%%stata -d simulation -o simulation\n",
    "g x_it = nu_it + alpha_i"
   ]
  },
  {
   "cell_type": "markdown",
   "metadata": {},
   "source": [
    ">Generates our variable of interest $x_{it}$ using the two variables we created in a previous step. Since $\\alpha_i$ is part of it and is time-invariant, $x_{it}$ will be correlated over time."
   ]
  },
  {
   "cell_type": "code",
   "execution_count": 12,
   "metadata": {
    "collapsed": false
   },
   "outputs": [
    {
     "name": "stdout",
     "output_type": "stream",
     "text": [
      "\n",
      "\n"
     ]
    }
   ],
   "source": [
    "%%stata -d simulation -o simulation\n",
    "g y_it=3+alpha_i+2*x_it+e_it"
   ]
  },
  {
   "cell_type": "markdown",
   "metadata": {},
   "source": [
    ">Generates our dependent variable $y_{it}$. We use an intercept, $\\alpha_i$, dependent variable $x_{it}$ and residual $e_{it}$ for that. The assigned regression parameter to $x_{it}$ is $2$.\n",
    " \n",
    ">The underlying model is a panel data model, consisting of 200 individuals and 5 time periods per person. It is completely balanced. The variables $y_{it}$ and $x_{it}$ are correlated with a constant term $\\alpha_i$. This produces autocorrelation within an individual.\n",
    "\n",
    "\n",
    "\n",
    ">Checking if the code worked:"
   ]
  },
  {
   "cell_type": "code",
   "execution_count": 13,
   "metadata": {
    "collapsed": false
   },
   "outputs": [
    {
     "name": "stdout",
     "output_type": "stream",
     "text": [
      "\n",
      "             |    index  alpha_i    nu_it     e_it     x_it     y_it\n",
      "-------------+------------------------------------------------------\n",
      "       index |   1.0000 \n",
      "             |\n",
      "             |\n",
      "     alpha_i |   0.0079   1.0000 \n",
      "             |   0.8022\n",
      "             |\n",
      "       nu_it |   0.0283   0.2159   1.0000 \n",
      "             |   0.3711   0.0000\n",
      "             |\n",
      "        e_it |  -0.0082  -0.0082  -0.0185   1.0000 \n",
      "             |   0.7967   0.7949   0.5600\n",
      "             |\n",
      "        x_it |   0.0233   0.7764   0.7830  -0.0172   1.0000 \n",
      "             |   0.4612   0.0000   0.0000   0.5880\n",
      "             |\n",
      "        y_it |   0.0180   0.8425   0.6525   0.2253   0.9579   1.0000 \n",
      "             |   0.5701   0.0000   0.0000   0.0000   0.0000\n",
      "             |\n",
      "An output file must be specified\n"
     ]
    }
   ],
   "source": [
    "%%stata -d simulation\n",
    "pwcorr,sig\n",
    "corrtex alpha_i e_it x_it y_it, sig "
   ]
  },
  {
   "cell_type": "markdown",
   "metadata": {},
   "source": [
    "> The command [_pwcorr_](http://www.stata.com/help.cgi?pwcorr) shows a correlation table of the variables in the dataset (which were generated previously). The option _sig_ prints significance level for each correlation. Results are presented above. There is a statistically significant correlation between $x_{it}$ and $\\alpha_i$ (77.64%). As a result, not including or solving for $\\alpha_i$ when regressing in a panel model $x_it$ on $y_{it}$ will produce biased estimates. The correlation of $x_{it}$ on $y_{it}$ and $\\alpha_i$ is naturally very high, since it depends on both variables in our set-up.\n",
    " The correlation of $e_{it}$ with $x_{it}$ and $\\alpha_i$ is very low and statistical insignificant, which is necessary and by construction. An OLS model like $y_{it} = \\beta x_{it}$  will be upward biased since the correlation of $\\alpha_i$ and $x_{it}$ is positive. $\\beta$ will estimate the effect of $\\alpha$ and $x_{it}$. If the correlation would be negative, it would have been downward biased.\n",
    "\n",
    " To check if the DGP is correct, we do one simulation without imposing a trend into the DGP.\n",
    "\n",
    "<a id='SimNoTrend'></a> \n",
    "\n",
    "\n",
    "# 2.2. Simulation without Random Trend in the true DGP\n",
    "\n",
    "Now we run the DGP [defined earlier](#DGP) and verify how different estimation procedures are able to capture the parameters we have embedded, namely a intercept of 3 and a $\\beta$ of 2. We evaluate the following panel data methods\n",
    "   + Pooled regression, i.e. ignoring the panel structure as presented in equation [(1)](#EQ1) and pooling time and individual information together \n",
    "   + Fixed Effects (FE),  [(2)](#EQ2)\n",
    "   + First-Difference (FD),  [(3)](#EQ3)\n",
    "   + Random-Trend using the first approach, namely taking two first-differences (_pure_),  [(4)](#EQ4)\n",
    "   + Random-Trend using the second approach, namely taking first the  first-differences and then the fixed-effects (_mix_), [(5)](#EQ5)\n"
   ]
  },
  {
   "cell_type": "code",
   "execution_count": 127,
   "metadata": {
    "collapsed": false
   },
   "outputs": [
    {
     "name": "stdout",
     "output_type": "stream",
     "text": [
      "\n",
      ". qui expand 5\n",
      ". qui drawnorm nu_it e_it, n(1000)\n",
      ". qui xtset i t \n",
      ". qui gen dx_it = d.x_it \n",
      ". qui gen dy_it = d.y_it \n",
      ". . qui eststo: xtreg  y_it x_it, fe  \n",
      ". qui eststo: reg d.y_it d.x_it, \n",
      ". qui eststo: xtreg d.y_it d.x_it,fe \n",
      ". qui eststo: reg d2.y_it d2.x_it,  \n",
      ". esttab, long compress nogaps rename(D.x_it x_it D2.x_it x_it D.dx_it x_it) drop(_cons) ///\n",
      ">         b(%7,3f) se(%6.4f) scalars(\"N N\" \"F F-Stat\" \"p p-value\" \"r2 r2\") sfmt(%4,0f %5,0f %5,2f %6,2f %9,2f %9,2f) star(* 0.001) ///\n",
      ">         label mtitles( \"OLS\" \"FE\" \"FD\" \"FD-FE\" \"2-FD\" \"FD-FD\" ) title(\"Without a random trend component\") nolabel replace\n",
      "\n",
      "Without a random trend component\n",
      "-----------------------------------------------------------------------\n",
      "                       (1)        (2)        (3)        (4)        (5) \n",
      "                       OLS         FE         FD      FD-FE       2-FD \n",
      "-----------------------------------------------------------------------\n",
      "x_it                 2,500*     2,052*     2,002*     1,989*     1,995*\n",
      "                  (0.0312)   (0.0338)   (0.0354)   (0.0412)   (0.0422) \n",
      "-----------------------------------------------------------------------\n",
      "Observations          1000       1000        800        800        600 \n",
      "F-Stat                6403       3675       3192       2331       2238 \n",
      "p-value               0,00       0,00       0,00       0,00       0,00 \n",
      "r2                    0,89       0,82       0,80       0,80       0,79 \n",
      "-----------------------------------------------------------------------\n",
      "Standard errors in parentheses\n",
      "* p<0.001\n"
     ]
    }
   ],
   "source": [
    "%%stata -o sim\n",
    "qui set seed 123\n",
    "qui drawnorm alpha_i, n(200)\n",
    "qui gen i = _n \n",
    "    * included additional to generate an index for the individual level\n",
    "qui expand 5\n",
    "qui bys i: g t = _n \n",
    "    * included additional to generate an index for the time level\n",
    "qui drawnorm nu_it e_it, n(1000)\n",
    "qui g x_it = nu_it + alpha_i\n",
    "qui g y_it = 3 + alpha_i + 2*x_it + e_it \n",
    "    * DGP\n",
    "\n",
    "qui xtset i t \n",
    "    * give stata panel-information\n",
    "\n",
    "qui gen dx_it = d.x_it \n",
    "    * generates the first-difference for x prior to the regression command\n",
    "qui gen dy_it = d.y_it \n",
    "    * generates the first-difference for y prior to the regression command\n",
    "\n",
    "\n",
    "qui eststo: reg y_it x_it, cluster(i) \n",
    "    * OLS-regression (biased) (eststo saves the regression results)\n",
    "qui eststo: xtreg  y_it x_it, fe  \n",
    "    * FE-regression (OLS, but first the within-transformation is done)\n",
    "qui eststo: reg d.y_it d.x_it, \n",
    "    * FD-regression\n",
    "qui eststo: xtreg d.y_it d.x_it,fe \n",
    "    * Random-Trend 1 (mix)\n",
    "qui eststo: reg d2.y_it d2.x_it,  \n",
    "    * Random-Trend 2 (pure)  \n",
    "\n",
    "esttab, long compress nogaps rename(D.x_it x_it D2.x_it x_it D.dx_it x_it) drop(_cons) ///\n",
    "\tb(%7,3f) se(%6.4f) scalars(\"N N\" \"F F-Stat\" \"p p-value\" \"r2 r2\") sfmt(%4,0f %5,0f %5,2f %6,2f %9,2f %9,2f) star(* 0.001) ///\n",
    "\tlabel mtitles( \"OLS\" \"FE\" \"FD\" \"FD-FE\" \"2-FD\" \"FD-FD\" ) title(\"Without a random trend component\") nolabel replace\n",
    "    * esttab produces the table"
   ]
  },
  {
   "cell_type": "markdown",
   "metadata": {},
   "source": [
    "> We can see that the results of the normal OLS are biased, i.e. the coefficient for $x_{it}$ is not 2 but around 2.5. For FE and the FD however the coefficient if very close to 2.\n",
    "Also both random-trend (RT) approaches are unbiased. _mix_ is farthermost of the true parameter and also the standard error is the highest (together with the other RT-approach). So we can conclude that even if we do not have a random-trend component, using two transformations does not really harm the estimation.\n",
    "\n",
    "> Comparing the different RT calculations, we see that the _mix_ seem to be more efficient, but the _pure_ is closer to the true value. This is consistent comparing just the normal FE and FD."
   ]
  },
  {
   "cell_type": "markdown",
   "metadata": {},
   "source": [
    "# 2.3. Monte Carlo study without trend in the DGP\n",
    "<a id='MCnoTrend'></a> \n",
    "\n",
    "In a single simulation we need to keep in mind that the results from just one run can be misleading, as they can be driven by chance if the seed in use simply draws numbers which work better for one method than the other. Therefore, we will run a program now to do a Monte Carlo study which will take 1000 replications to see if above results are robust.\n",
    "\n",
    "What we add in the code now is:\n",
    "\n",
    "   1. A timer to measure the time the code runs. The necessary commands are `timer on 1`, starting the timer, called '1', `timer off 1`, stopping the started timer and `timer list 1`, displaying the time needed.\n",
    "   2.  For the simulation commands `simulation`, we first have to embed the code in a program. The first line `capture program drop mcprog_pool` drops if somehow the program is already defined. This command is useful if you run the code an additional time. `program mcprog_pool` starts the program and ends with `end`.\n",
    "\n",
    "The DGP in each of the following simulations stays the same, namely\n",
    "\n",
    "$$y_{it} = 3 + \\alpha_i + 2\\cdot x_{it} + e_{it} $$\n",
    "\n",
    "What we change in each of the Monte Carlo specifications is the estimation procedure by applying each of the procedures discussed so far. In the code, the following notation will be used: _pool_ stands for the [pooled regress](#MCnoTrendPool), _fe_ for the [within-transformation](#MCnoTrendFE), _fd_ for [the first-difference](#MCnoTrendFD), _mix_ for the random-trend estimation using [first-difference](#MCnoTrendFDFE) and fixed-effects and _pure_ the random trend with [two first-differences](#MCnoTrendFDFD).  \n",
    "\n",
    "The simulation results are stored in `_b` for the coefficient and `_se` for the standard errors. <span style=\"color: green\">The simulation of the standard errors differ from the standard deviation of the estimate ($\\beta$) which was presented in the table above. In the simulation only the variation in beta is used. It is not calculated\n",
    "by the normal variance formula which includes the variances of the error component $\\alpha_{i}$ und $e_{it}$. </span>\n",
    "\n",
    "We take 1000 replications and we call the earlier defined program `mcprog_pool` (Monte Carlo Program - Pooled Regression). \n",
    "\n",
    "At the end we rename the coefficient for a better understanding and drop everything else from the data frame (`keep beta_pool`). The outcomes from all Monte Carlo runs are [compared](#MCnoTrendComp) in the end.\n",
    "\n"
   ]
  },
  {
   "cell_type": "markdown",
   "metadata": {},
   "source": [
    "<a id='MCnoTrendPool'></a>"
   ]
  },
  {
   "cell_type": "markdown",
   "metadata": {},
   "source": [
    "###  2.3.1. Pooled Regression"
   ]
  },
  {
   "cell_type": "code",
   "execution_count": 15,
   "metadata": {
    "collapsed": false
   },
   "outputs": [
    {
     "name": "stdout",
     "output_type": "stream",
     "text": [
      "\n",
      "The time this codes run is\n",
      "   1:     11.42 /        1 =      11.4200\n"
     ]
    }
   ],
   "source": [
    "%%stata -o pool \n",
    "timer on 1\n",
    "set seed 100\n",
    "capture program drop mcprog_pool\n",
    "program mcprog_pool\n",
    "        clear\n",
    "        drawnorm alpha_i, n(200)\n",
    "        gen i = _n \n",
    "        expand 5\n",
    "        bys i: g t = _n \n",
    "        drawnorm nu_it e_it, n(1000)\n",
    "        g x_it=nu_it+alpha_i\n",
    "        g y_it=3+alpha_i+2*x_it+e_it\n",
    "        reg y_it x_it, \n",
    "        drop nu_it alpha_i e_it y_it x_it\n",
    "end\n",
    "        simulate _b _se, nodots nolegend  reps(1000): mcprog_pool\n",
    "        rename _b_x_it beta_pool\n",
    "        rename _se_x_it se_pool\n",
    "        keep beta_pool se_pool\n",
    "timer off 1\n",
    "display \"The time this code runs is\"\n",
    "timer list 1\n"
   ]
  },
  {
   "cell_type": "markdown",
   "metadata": {},
   "source": [
    "<a id='MCnoTrendFE'></a>"
   ]
  },
  {
   "cell_type": "markdown",
   "metadata": {},
   "source": [
    "### 2.3.2.  FE Estimation"
   ]
  },
  {
   "cell_type": "code",
   "execution_count": 16,
   "metadata": {
    "collapsed": false
   },
   "outputs": [
    {
     "name": "stdout",
     "output_type": "stream",
     "text": [
      "\n",
      "The time this codes run is\n",
      "   1:     56.57 /        1 =      56.5720\n"
     ]
    }
   ],
   "source": [
    "%%stata -o fe\n",
    "timer on 1\n",
    "set seed 100\n",
    "capture program drop mcprog_fe\n",
    "        program mcprog_fe\n",
    "         clear\n",
    "         drawnorm alpha_i, n(200)\n",
    "         gen i = _n \n",
    "         expand 5\n",
    "         bys i: g t = _n \n",
    "         drawnorm nu_it e_it, n(1000)\n",
    "         g x_it=nu_it+alpha_i\n",
    "         g y_it=3+alpha_i+2*x_it+e_it\n",
    "         xtset i t\n",
    "         xtreg y_it x_it, fe \n",
    "         drop nu_it alpha_i e_it y_it x_it\n",
    "end\n",
    "        simulate _b _se, nodots nolegend  reps(1000): mcprog_fe\n",
    "        rename _b_x_it beta_fe\n",
    "        rename _se_x_it se_fe\n",
    "        keep beta_fe se_fe\n",
    "timer off 1\n",
    "display \"The time this code runs is\"\n",
    "timer list 1\n",
    "        "
   ]
  },
  {
   "cell_type": "markdown",
   "metadata": {},
   "source": [
    "<a id='MCnoTrendFD'></a> "
   ]
  },
  {
   "cell_type": "markdown",
   "metadata": {},
   "source": [
    "### 2.3.2. FD Estimation"
   ]
  },
  {
   "cell_type": "code",
   "execution_count": 17,
   "metadata": {
    "collapsed": false,
    "scrolled": true
   },
   "outputs": [
    {
     "name": "stdout",
     "output_type": "stream",
     "text": [
      "\n",
      "The time this codes run is\n",
      "   1:     18.25 /        1 =      18.2480\n",
      ".         \n"
     ]
    }
   ],
   "source": [
    "%%stata -o fd\n",
    "timer on 1\n",
    "set seed 100\n",
    "capture program drop mcprog_fd\n",
    "        program mcprog_fd\n",
    "        clear\n",
    "        drawnorm alpha_i, n(200)\n",
    "        gen i = _n \n",
    "        expand 5\n",
    "        bys i: g t = _n \n",
    "        drawnorm nu_it e_it, n(1000)\n",
    "        g x_it=nu_it+alpha_i\n",
    "        g y_it=3+alpha_i+2*x_it+e_it\n",
    "        xtset i t\n",
    "        g dx_it = d.x_it\n",
    "        g dy_it = d.y_it\n",
    "        reg dy_it dx_it, \n",
    "        drop nu_it alpha_i e_it dy_it dx_it y_it x_it\n",
    "end\n",
    "        simulate _b _se, nodots nolegend  reps(1000): mcprog_fd\n",
    "        rename _b_dx_it beta_fd\n",
    "        rename _se_dx_it se_fd\n",
    "        keep beta_fd se_fd\n",
    "timer off 1\n",
    "display \"The time this code runs is\"\n",
    "timer list 1\n",
    "        \n",
    "        "
   ]
  },
  {
   "cell_type": "markdown",
   "metadata": {},
   "source": [
    "<a id='MCnoTrendFDFE'></a> "
   ]
  },
  {
   "cell_type": "markdown",
   "metadata": {},
   "source": [
    "###  2.3.3.  FD-FE (mix) Estimation"
   ]
  },
  {
   "cell_type": "code",
   "execution_count": 18,
   "metadata": {
    "collapsed": false
   },
   "outputs": [
    {
     "name": "stdout",
     "output_type": "stream",
     "text": [
      "\n",
      ". timer off 1\n",
      "The time this codes run is\n",
      "   1:     61.27 /        1 =      61.2690\n"
     ]
    }
   ],
   "source": [
    "%%stata -o mix\n",
    "timer on 1\n",
    "set seed 100\n",
    "capture program drop mcprog_mix\n",
    "        program mcprog_mix\n",
    "         clear\n",
    "         drawnorm alpha_i, n(200)\n",
    "         gen i = _n \n",
    "         expand 5\n",
    "         bys i: g t = _n \n",
    "         drawnorm nu_it e_it, n(1000)\n",
    "         g x_it=nu_it+alpha_i\n",
    "        g y_it=3+alpha_i+2*x_it+e_it\n",
    "        xtset i t\n",
    "        g dx_it = d.x_it\n",
    "        g dy_it = d.y_it\n",
    "         xtreg dy_it dx_it, fe \n",
    "         drop nu_it alpha_i e_it dy_it dx_it y_it x_it\n",
    "end\n",
    "        simulate _b _se, nodots nolegend  reps(1000): mcprog_mix\n",
    "        rename _b_dx_it beta_mix\n",
    "        rename _se_dx_it se_mix\n",
    "        keep beta_mix se_mix\n",
    "        \n",
    "timer off 1\n",
    "display \"The time this code runs is\"\n",
    "timer list 1"
   ]
  },
  {
   "cell_type": "markdown",
   "metadata": {},
   "source": [
    "<a id='MCnoTrendFDFD'></a> "
   ]
  },
  {
   "cell_type": "markdown",
   "metadata": {},
   "source": [
    "###  2.3.4.  FD-FD (pure) Estimation"
   ]
  },
  {
   "cell_type": "code",
   "execution_count": 19,
   "metadata": {
    "collapsed": false
   },
   "outputs": [
    {
     "name": "stdout",
     "output_type": "stream",
     "text": [
      "\n",
      ". timer off 1\n",
      "The time this codes run is\n",
      "   1:     16.97 /        1 =      16.9680\n"
     ]
    }
   ],
   "source": [
    "%%stata -o pure\n",
    "timer on 1\n",
    "set seed 100\n",
    "capture program drop mcprog_pure\n",
    "        program mcprog_pure\n",
    "         clear\n",
    "         drawnorm alpha_i, n(200)\n",
    "         gen i = _n \n",
    "         expand 5\n",
    "         bys i: g t = _n \n",
    "         drawnorm nu_it e_it, n(1000)\n",
    "         g x_it=nu_it+alpha_i\n",
    "         g y_it=3+alpha_i+2*x_it+e_it\n",
    "        xtset i t\n",
    "        g d2x_it = d2.x_it\n",
    "        g d2y_it = d2.y_it\n",
    "         reg d2y_it d2x_it, \n",
    "         drop nu_it alpha_i e_it y_it x_it d2y_it d2x_it\n",
    "end\n",
    "        simulate _b _se, nodots nolegend  reps(1000): mcprog_pure\n",
    "        rename _b_d2x_it beta_pure\n",
    "        rename _se_d2x_it se_pure\n",
    "        keep beta_pure se_pure\n",
    "        \n",
    "timer off 1\n",
    "display \"The time this code runs is\"\n",
    "timer list 1"
   ]
  },
  {
   "cell_type": "markdown",
   "metadata": {},
   "source": [
    "> First, before we talk about the regression results, we want to point out that the within-transformation in FE and _mix_ is the reason the time is much higher in those to simulations. Thus, those are less efficient in the sense on how fast they can be calculated. "
   ]
  },
  {
   "cell_type": "markdown",
   "metadata": {},
   "source": [
    "<a id='MCnoTrendComp'></a> "
   ]
  },
  {
   "cell_type": "markdown",
   "metadata": {
    "collapsed": false
   },
   "source": [
    "###  2.3.5. Comparison of results"
   ]
  },
  {
   "cell_type": "code",
   "execution_count": 20,
   "metadata": {
    "collapsed": false
   },
   "outputs": [
    {
     "name": "stdout",
     "output_type": "stream",
     "text": [
      "          Pool        FE        FD       mix      pure\n",
      "Beta  2.499105  2.001513  2.000731  2.000577  1.999209\n",
      "SE    0.027386  0.035339  0.035368  0.040823  0.040857\n"
     ]
    }
   ],
   "source": [
    "############################ Regression Results without trend\n",
    "# Pool Regression Results\n",
    "pool_mean = pool.mean() # Storing the results produces by the pool-simulation\n",
    "beta_pool = pool_mean[0] # Results of the coefficient\n",
    "se_pool = pool_mean[1] # Results of the standard error\n",
    "# FE Regression Results\n",
    "fe_mean = fe.mean()\n",
    "beta_fe = fe_mean[0]\n",
    "se_fe = fe_mean[1]\n",
    "# FD Regression Results\n",
    "fd_mean = fd.mean()\n",
    "beta_fd = fd_mean[0]\n",
    "se_fd = fd_mean[1]\n",
    "# Mix Regression Results\n",
    "mix_mean = mix.mean()\n",
    "beta_mix = mix_mean[0]\n",
    "se_mix = mix_mean[1]\n",
    "# Pure Regression Results\n",
    "pure_mean = pure.mean()\n",
    "beta_pure = pure_mean[0]\n",
    "se_pure = pure_mean[1]\n",
    "\n",
    "\n",
    "results_notrend_beta = np.array([beta_pool, beta_fe, beta_fd, beta_mix, beta_pure])\n",
    "results_notrend_se = np.array([se_pool, se_fe, se_fd, se_mix, se_pure])\n",
    "results_notrend = np.mat([results_notrend_beta, results_notrend_se]) \n",
    "results_notrend = pd.DataFrame(results_notrend)\n",
    "results_notrend.index = [\"Beta\", \"SE\"]\n",
    "results_notrend.columns = [\"Pool\", \"FE\", \"FD\", \"mix\", \"pure\"]\n",
    "print results_notrend\n",
    "\n"
   ]
  },
  {
   "cell_type": "markdown",
   "metadata": {},
   "source": [
    "> We can see that the pooled regression is upward biased from the true beta value (2). This is in line with econometric theory, as not considering the nature of the panel and pooling together the unobserved individual effects produces biased results. All other methods produce unbiased results that very close to each other. The SE are smallest for the pooled regression. Then the FE and FD are very close to each other and both RT has the highest variation. For every transformation we do we have a loss in efficiency. "
   ]
  },
  {
   "cell_type": "markdown",
   "metadata": {},
   "source": [
    "<a id='MCNoTrend'></a> "
   ]
  },
  {
   "cell_type": "markdown",
   "metadata": {},
   "source": [
    "\n",
    "# 2.4. Monte Carlo study with the same trend for all individuals\n",
    "\n",
    "Here we investigate what happens to our estimator as we include the same trend for all individuals. If we would just run normal regression as presented first, we could just use the same datasets, replacing just some variables. But since we have to define programs, we need to copy all the programs and change for the trend. We will leave out the pooled regression because we already know, that this one is biased just due to the constant $\\alpha_i$.\n",
    "\n",
    "###  2.4.1. FE Regression"
   ]
  },
  {
   "cell_type": "code",
   "execution_count": 21,
   "metadata": {
    "collapsed": false
   },
   "outputs": [
    {
     "name": "stdout",
     "output_type": "stream",
     "text": [
      "\n",
      ". timer off 1\n",
      "The time this codes run is\n",
      "   1:      6.38 /        1 =       6.3810\n"
     ]
    }
   ],
   "source": [
    "%%stata -o fe_st\n",
    "timer on 1\n",
    "set seed 100\n",
    "capture program drop mcprog_fe\n",
    "        program mcprog_fe\n",
    "        clear\n",
    "        drawnorm alpha_i, n(200)\n",
    "        gen i = _n \n",
    "        expand 5\n",
    "        bys i: g t = _n \n",
    "        drawnorm nu_it e_it, n(1000)\n",
    "        g x_it = nu_it + alpha_i + t \n",
    "            *NOW: x_it is correlated with a linear term\n",
    "        g y_it = 3 + alpha_i + 2*x_it + t + e_it \n",
    "            *DGP includes now a linear trend t\n",
    "        xtset i t\n",
    "        xtreg y_it x_it, fe \n",
    "        drop nu_it alpha_i e_it y_it x_it\n",
    "end\n",
    "        simulate _b _se, nodots nolegend  reps(100): mcprog_fe\n",
    "        rename _b_x_it beta_fe_st\n",
    "        rename _se_x_it se_fe_st\n",
    "        keep beta_fe_st se_fe_st\n",
    "            *st = same trend\n",
    "timer off 1\n",
    "display \"The time this code runs is\"\n",
    "timer list 1"
   ]
  },
  {
   "cell_type": "markdown",
   "metadata": {},
   "source": [
    "###  2.4.1. FD Regression"
   ]
  },
  {
   "cell_type": "code",
   "execution_count": 22,
   "metadata": {
    "collapsed": false
   },
   "outputs": [
    {
     "name": "stdout",
     "output_type": "stream",
     "text": [
      "\n",
      "The time this codes run is\n",
      "   1:      3.79 /        1 =       3.7870\n"
     ]
    }
   ],
   "source": [
    "%%stata -o fd_st\n",
    "timer on 1\n",
    "set seed 100\n",
    "capture program drop mcprog_fe\n",
    "        program mcprog_fe\n",
    "        clear\n",
    "        drawnorm alpha_i, n(200)\n",
    "        gen i = _n \n",
    "        expand 5\n",
    "        bys i: g t = _n \n",
    "        drawnorm nu_it e_it, n(1000)\n",
    "        g x_it = nu_it + alpha_i + t \n",
    "            * NOW: x_it is correlated with a linear term\n",
    "        g y_it = 3 + alpha_i + 2*x_it + t + e_it \n",
    "            * DGP includes know the linear trend\n",
    "        xtset i t\n",
    "        g dx_it = d.x_it\n",
    "        g dy_it = d.y_it\n",
    "        reg dy_it dx_it, \n",
    "        drop nu_it alpha_i e_it y_it x_it dy_it dx_it\n",
    "end\n",
    "        simulate _b _se, nodots nolegend  reps(100): mcprog_fe\n",
    "        rename _b_dx_it beta_fd_st\n",
    "        rename _se_dx_it se_fd_st\n",
    "        keep beta_fd_st se_fd_st\n",
    "timer off 1\n",
    "display \"The time this code runs is\"\n",
    "timer list 1"
   ]
  },
  {
   "cell_type": "markdown",
   "metadata": {},
   "source": [
    "###  2.4.2.  FD-FE (mix) Estimation"
   ]
  },
  {
   "cell_type": "code",
   "execution_count": 23,
   "metadata": {
    "collapsed": false
   },
   "outputs": [
    {
     "name": "stdout",
     "output_type": "stream",
     "text": [
      "\n",
      ". timer off 1\n",
      "The time this codes run is\n",
      "   1:      6.09 /        1 =       6.0880\n"
     ]
    }
   ],
   "source": [
    "%%stata -o mix_st\n",
    "timer on 1\n",
    "set seed 100\n",
    "capture program drop mcprog_mix\n",
    "        program mcprog_mix\n",
    "        clear\n",
    "        drawnorm alpha_i, n(200)\n",
    "        gen i = _n \n",
    "        expand 5\n",
    "        bys i: g t = _n \n",
    "        drawnorm nu_it e_it, n(1000)\n",
    "        g x_it = nu_it + alpha_i + t \n",
    "            * NOW: x_it is correlated with a linear term\n",
    "        g y_it = 3 + alpha_i + 2*x_it + t + e_it \n",
    "            * DGP includes know the linear trend\n",
    "        xtset i t\n",
    "        g dx_it = d.x_it\n",
    "        g dy_it = d.y_it\n",
    "        xtreg dy_it dx_it, fe \n",
    "        drop nu_it alpha_i e_it dy_it dx_it y_it x_it\n",
    "end\n",
    "        simulate _b _se, nodots nolegend  reps(100): mcprog_mix\n",
    "        rename _b_dx_it beta_mix_st\n",
    "        rename _se_dx_it se_mix_st\n",
    "        keep beta_mix_st se_mix_st\n",
    "        \n",
    "timer off 1\n",
    "display \"The time this code runs is\"\n",
    "timer list 1"
   ]
  },
  {
   "cell_type": "markdown",
   "metadata": {},
   "source": [
    "###  2.4.3.  FD-FD (pure) Estimation"
   ]
  },
  {
   "cell_type": "code",
   "execution_count": 24,
   "metadata": {
    "collapsed": false
   },
   "outputs": [
    {
     "name": "stdout",
     "output_type": "stream",
     "text": [
      "\n",
      ". timer off 1\n",
      "The time this codes run is\n",
      "   1:      1.99 /        1 =       1.9930\n"
     ]
    }
   ],
   "source": [
    "%%stata -o pure_st\n",
    "timer on 1\n",
    "set seed 100\n",
    "capture program drop mcprog_pure\n",
    "        program mcprog_pure\n",
    "        clear\n",
    "        drawnorm alpha_i, n(200)\n",
    "        gen i = _n \n",
    "        expand 5\n",
    "        bys i: g t = _n \n",
    "        drawnorm nu_it e_it, n(1000)\n",
    "        g x_it = nu_it + alpha_i + t \n",
    "            * NOW: x_it is correlated with a linear term\n",
    "        g y_it = 3 + alpha_i + 2*x_it + t + e_it \n",
    "            * DGP includes know the linear trend\n",
    "        xtset i t\n",
    "        g d2x_it = d2.x_it\n",
    "        g d2y_it = d2.y_it\n",
    "        reg d2y_it d2x_it, \n",
    "            * cluster(i)\n",
    "        drop nu_it alpha_i e_it y_it x_it d2y_it d2x_it\n",
    "end\n",
    "        simulate _b _se, nodots nolegend  reps(100): mcprog_pure\n",
    "        rename _b_d2x_it beta_pure_st\n",
    "        rename _se_d2x_it se_pure_st\n",
    "        keep beta_pure_st se_pure_st\n",
    "        \n",
    "timer off 1\n",
    "display \"The time this code runs is\"\n",
    "timer list 1"
   ]
  },
  {
   "cell_type": "markdown",
   "metadata": {},
   "source": [
    "###  2.4.4. Comparison of results"
   ]
  },
  {
   "cell_type": "code",
   "execution_count": 26,
   "metadata": {
    "collapsed": false
   },
   "outputs": [
    {
     "name": "stdout",
     "output_type": "stream",
     "text": [
      "            FE        FD       mix      pure\n",
      "Beta  2.714095  2.003978  2.004183  2.002594\n",
      "SE    0.024645  0.035522  0.040986  0.041070\n"
     ]
    }
   ],
   "source": [
    "############################ Regression Results with same trend\n",
    "# FE Regression Results\n",
    "fe_mean = fe_st.mean()\n",
    "beta_fe = fe_mean[0]\n",
    "se_fe = fe_mean[1]\n",
    "# FD Regression Results\n",
    "fd_mean = fd_st.mean()\n",
    "beta_fd = fd_mean[0]\n",
    "se_fd = fd_mean[1]\n",
    "# Mix Regression Results\n",
    "mix_mean = mix_st.mean()\n",
    "beta_mix = mix_mean[0]\n",
    "se_mix = mix_mean[1]\n",
    "# Pure Regression Results\n",
    "pure_mean = pure_st.mean()\n",
    "beta_pure = pure_mean[0]\n",
    "se_pure = pure_mean[1]\n",
    "\n",
    "\n",
    "results_sametrend_beta = np.array([beta_fe, beta_fd, beta_mix, beta_pure])\n",
    "results_sametrend_se = np.array([se_fe, se_fd, se_mix, se_pure])\n",
    "results_sametrend = np.mat([results_sametrend_beta, results_sametrend_se]) \n",
    "results_sametrend = pd.DataFrame(results_sametrend)\n",
    "results_sametrend.index = [\"Beta\", \"SE\"]\n",
    "results_sametrend.columns = [ \"FE\", \"FD\", \"mix\", \"pure\"]\n",
    "print results_sametrend"
   ]
  },
  {
   "cell_type": "markdown",
   "metadata": {},
   "source": [
    "\n",
    "> As expected, the simulation shows that if the trend is the same for all individuals in the data, the within-transformation cannot solve the linear trend. Thereby the coefficient is biased. Surprisingly however, the first-difference is enough to solve for the problem introduced by a correlation of the variable of interest and the trend. We will not take a deeper look here, but it might be interest to investigate how many individuals are allowed to differ so that the first-difference is not unbiased anymore.\n",
    "The FD is thereby more robust than the FE. It is however questionable in empirical work if the observed individuals really follow the same trend.\n",
    "\n",
    ">Further, the first-difference performs better than the _mix_, but worse than the _pure_. The _pure_ again has a higher standard error than the _mix_.\n",
    "\n",
    "<a id='MCIndivTrend'></a> \n",
    "\n",
    "# 2.5. Monte Carlo study with individual specific linear trends (Random Trend)\n",
    "\n",
    "\n",
    "<span style=\"color: green\"> Here we will (finally) introduce the model including the individual specific linear trend. Here we expect that only the two RT-methods will solve for the bias in $x_it$ and that now both, FE and FD preform poorly. </span>\n",
    "\n"
   ]
  },
  {
   "cell_type": "markdown",
   "metadata": {
    "collapsed": false
   },
   "source": [
    "### 2.5.1 FE Estimation"
   ]
  },
  {
   "cell_type": "code",
   "execution_count": 27,
   "metadata": {
    "collapsed": false
   },
   "outputs": [
    {
     "name": "stdout",
     "output_type": "stream",
     "text": [
      "\n",
      ". timer off 1\n",
      "The time this codes run is\n",
      "   1:     11.01 /        1 =      11.0080\n"
     ]
    }
   ],
   "source": [
    "%%stata -o fe_it\n",
    "timer on 1\n",
    "set seed 100\n",
    "capture program drop mcprog_fe\n",
    "        program mcprog_fe\n",
    "        clear\n",
    "        drawnorm alpha_i, n(200)\n",
    "        gen i = _n \n",
    "        expand 5\n",
    "        bys i: g t = _n \n",
    "        gen trend = t*i\n",
    "            * individual specific trand   \n",
    "        drawnorm nu_it e_it, n(1000)\n",
    "        g x_it = nu_it + alpha_i + trend \n",
    "            * NOW: x_it is correlated with a linear specific term\n",
    "        g y_it = 3 + alpha_i + 2*x_it + trend + e_it \n",
    "        xtset i t\n",
    "        xtreg y_it x_it, fe \n",
    "            * cluster(i)\n",
    "        drop nu_it alpha_i e_it y_it x_it\n",
    "end\n",
    "        simulate _b _se, nodots nolegend  reps(100): mcprog_fe\n",
    "        rename _b_x_it beta_fe_it\n",
    "        rename _se_x_it se_fe_it\n",
    "        keep beta_fe_it se_fe_it\n",
    "            * it = individual trend\n",
    "timer off 1\n",
    "display \"The time this code runs is\"\n",
    "timer list 1"
   ]
  },
  {
   "cell_type": "markdown",
   "metadata": {},
   "source": [
    "### 2.5.2 FD Estimation"
   ]
  },
  {
   "cell_type": "code",
   "execution_count": 28,
   "metadata": {
    "collapsed": false
   },
   "outputs": [
    {
     "name": "stdout",
     "output_type": "stream",
     "text": [
      "\n",
      "The time this codes run is\n",
      "   1:      2.36 /        1 =       2.3620\n"
     ]
    }
   ],
   "source": [
    "%%stata -o fd_it\n",
    "timer on 1\n",
    "set seed 100\n",
    "capture program drop mcprog_fe\n",
    "        program mcprog_fe\n",
    "        clear\n",
    "        drawnorm alpha_i, n(200)\n",
    "        gen i = _n \n",
    "        expand 5\n",
    "        bys i: g t = _n \n",
    "        gen trend = t*i \n",
    "            * individual specific trand   \n",
    "        drawnorm nu_it e_it, n(1000)\n",
    "        g x_it = nu_it + alpha_i + trend \n",
    "            * NOW: x_it is correlated with a linear specific term\n",
    "        g y_it = 3 + alpha_i + 2*x_it + trend + e_it \n",
    "        xtset i t\n",
    "        g dx_it = d.x_it\n",
    "        g dy_it = d.y_it\n",
    "        reg dy_it dx_it, \n",
    "        drop nu_it alpha_i e_it y_it x_it dy_it dx_it\n",
    "end\n",
    "        simulate _b _se, nodots nolegend  reps(100): mcprog_fe\n",
    "        rename _b_dx_it beta_fd_it\n",
    "        rename _se_dx_it se_fd_it\n",
    "        keep beta_fd_it se_fd_it\n",
    "timer off 1\n",
    "display \"The time this code runs is\"\n",
    "timer list 1"
   ]
  },
  {
   "cell_type": "markdown",
   "metadata": {},
   "source": [
    "### 2.5.3 FD-FE (mix) Estimation"
   ]
  },
  {
   "cell_type": "code",
   "execution_count": 29,
   "metadata": {
    "collapsed": false
   },
   "outputs": [
    {
     "name": "stdout",
     "output_type": "stream",
     "text": [
      "\n",
      ". timer off 1\n",
      "The time this codes run is\n",
      "   1:      6.91 /        1 =       6.9080\n"
     ]
    }
   ],
   "source": [
    "%%stata -o mix_it\n",
    "timer on 1\n",
    "set seed 100\n",
    "capture program drop mcprog_mix\n",
    "        program mcprog_mix\n",
    "        clear\n",
    "        drawnorm alpha_i, n(200)\n",
    "        gen i = _n\n",
    "        expand 5\n",
    "        bys i: g t = _n \n",
    "        gen trend = t*i \n",
    "            * individual specific trand   \n",
    "        drawnorm nu_it e_it, n(1000)\n",
    "        g x_it = nu_it + alpha_i + trend \n",
    "            * NOW: x_it is correlated with a linear specific term\n",
    "        g y_it = 3 + alpha_i + 2*x_it + trend + e_it \n",
    "        xtset i t\n",
    "        g dx_it = d.x_it\n",
    "        g dy_it = d.y_it\n",
    "        xtreg dy_it dx_it, fe \n",
    "        drop nu_it alpha_i e_it dy_it dx_it y_it x_it\n",
    "end\n",
    "        simulate _b _se, nodots nolegend  reps(100): mcprog_mix\n",
    "        rename _b_dx_it beta_mix_it\n",
    "        rename _se_dx_it se_mix_it\n",
    "        keep beta_mix_it se_mix_it\n",
    "        \n",
    "timer off 1\n",
    "display \"The time this code runs is\"\n",
    "timer list 1"
   ]
  },
  {
   "cell_type": "markdown",
   "metadata": {},
   "source": [
    "### 2.5.4 FD-FD (mix) Estimation"
   ]
  },
  {
   "cell_type": "code",
   "execution_count": 30,
   "metadata": {
    "collapsed": false
   },
   "outputs": [
    {
     "name": "stdout",
     "output_type": "stream",
     "text": [
      "\n",
      ". timer off 1\n",
      "The time this codes run is\n",
      "   1:      2.11 /        1 =       2.1130\n"
     ]
    }
   ],
   "source": [
    "%%stata -o pure_it\n",
    "timer on 1\n",
    "set seed 100\n",
    "capture program drop mcprog_pure\n",
    "        program mcprog_pure\n",
    "        clear\n",
    "        drawnorm alpha_i, n(200)\n",
    "        gen i = _n \n",
    "        expand 5\n",
    "        bys i: g t = _n \n",
    "        gen trend = t*i \n",
    "            * individual specific trand   \n",
    "        drawnorm nu_it e_it, n(1000)\n",
    "        g x_it = nu_it + alpha_i + trend \n",
    "            * NOW: x_it is correlated with a linear specific term\n",
    "        g y_it = 3 + alpha_i + 2*x_it + trend + e_it \n",
    "        xtset i t\n",
    "        g d2x_it = d2.x_it\n",
    "        g d2y_it = d2.y_it\n",
    "        reg d2y_it d2x_it, \n",
    "        drop nu_it alpha_i e_it y_it x_it d2y_it d2x_it\n",
    "end\n",
    "        simulate _b _se, nodots nolegend  reps(100): mcprog_pure\n",
    "        rename _b_d2x_it beta_pure_it\n",
    "        rename _se_d2x_it se_pure_it\n",
    "        keep beta_pure_it se_pure_it\n",
    "        \n",
    "timer off 1\n",
    "display \"The time this code runs is\"\n",
    "timer list 1"
   ]
  },
  {
   "cell_type": "markdown",
   "metadata": {},
   "source": [
    "###  2.4.4. Comparison of results"
   ]
  },
  {
   "cell_type": "code",
   "execution_count": 31,
   "metadata": {
    "collapsed": false
   },
   "outputs": [
    {
     "name": "stdout",
     "output_type": "stream",
     "text": [
      "            FE        FD       mix      pure\n",
      "Beta  2.999957  2.999481  2.004183  2.002594\n",
      "SE    0.000272  0.001220  0.040986  0.041070\n"
     ]
    }
   ],
   "source": [
    "############################ Regression Results with individual specific linear trend\n",
    "# FE Regression Results\n",
    "fe_mean_it = fe_it.mean()\n",
    "beta_fe_it = fe_mean_it[0]\n",
    "se_fe_it = fe_mean_it[1]\n",
    "# FD Regression Results\n",
    "fd_mean_it = fd_it.mean()\n",
    "beta_fd_it = fd_mean_it[0]\n",
    "se_fd_it = fd_mean_it[1]\n",
    "# Mix Regression Results\n",
    "mix_mean_it = mix_it.mean()\n",
    "beta_mix_it = mix_mean_it[0]\n",
    "se_mix_it = mix_mean_it[1]\n",
    "# Pure Regression Results\n",
    "pure_mean_it = pure_it.mean()\n",
    "beta_pure_it = pure_mean_it[0]\n",
    "se_pure_it = pure_mean_it[1]\n",
    "\n",
    "\n",
    "results_inditrend_beta = np.array([beta_fe_it, beta_fd_it, beta_mix_it, beta_pure_it])\n",
    "results_inditrend_se = np.array([se_fe_it, se_fd_it, se_mix_it, se_pure_it])\n",
    "results_inditrend = np.mat([results_inditrend_beta, results_inditrend_se]) \n",
    "results_inditrend = pd.DataFrame(results_inditrend)\n",
    "results_inditrend.index = [\"Beta\", \"SE\"]\n",
    "results_inditrend.columns = [ \"FE\", \"FD\", \"mix\", \"pure\"]\n",
    "print results_inditrend"
   ]
  },
  {
   "cell_type": "markdown",
   "metadata": {},
   "source": [
    ">The results confirm (unsurprisingly) the bad results of the FE. Now, also the FD is not capable to control for the trend within $x_{it}$. Only unbiased estimations are obtained by _mix_ and _pure_. The results are the same as before (remember: same seed and the only difference is canceled out). After checking that we really changed the code, it can be concluded that for the random-trend model it does not matter whether the trend is constant or individual specific.\n",
    "\n",
    "> In this easy example it further seems that the double difference (_pure_) is more robust, i.e. closer to the true value. Thereby the example is in favor to use the _pure_ rather than the _mix_ random-trend method. Also the time point, the _pure_ is much faster. Only the standard error suggest to use _mix_.\n",
    "\n",
    "<a id='MCNonLinTrend'></a> \n",
    "\n",
    "# 2.6. Monte Carlo study with nonlinear individual specific trends \n",
    "\n",
    "We will further check two cases in which the trend is non-linear. The motivation is to see if one of the random-trend methods performs better even though the baseline assumption of a linear trend does not hold. Therefore we will use an exponential individual specific trend and a log individual specific trend. \n",
    "\n",
    "Here we will not include the FE estimation anymore, because it preforms equally bad or worse than the FD. The FD is included to check whether the RT are of additional help.\n",
    "\n",
    "## 2.6.1 Monte Carlo study with exponential individual specific trends \n",
    "\n",
    "### 2.6.1.1 FD Estimation\n"
   ]
  },
  {
   "cell_type": "code",
   "execution_count": 32,
   "metadata": {
    "collapsed": false
   },
   "outputs": [
    {
     "name": "stdout",
     "output_type": "stream",
     "text": [
      "\n",
      "The time this codes run is\n",
      "   1:      2.14 /        1 =       2.1430\n"
     ]
    }
   ],
   "source": [
    "%%stata -o fd_exp\n",
    "timer on 1\n",
    "set seed 100\n",
    "capture program drop mcprog_fe\n",
    "        program mcprog_fe\n",
    "        clear\n",
    "        drawnorm alpha_i, n(200)\n",
    "        gen i = _n \n",
    "        expand 5\n",
    "        bys i: g t = _n \n",
    "        gen trend = exp(t*i/100) \n",
    "            * exponential individual specific trand   \n",
    "            * We devide by 100, because otherwise the values of the trend would have been to high at the end\n",
    "            * Thereby it would have dominated the whole term, in our case resulting in no variation between the replications\n",
    "        drawnorm nu_it e_it, n(1000)\n",
    "        g x_it = nu_it + alpha_i + trend \n",
    "        g y_it = 3 + alpha_i + 2*x_it + trend + e_it \n",
    "        xtset i t\n",
    "        g dx_it = d.x_it\n",
    "        g dy_it = d.y_it\n",
    "        reg dy_it dx_it, \n",
    "        drop nu_it alpha_i e_it y_it x_it dy_it dx_it\n",
    "end\n",
    "        simulate _b _se, nodots nolegend  reps(100): mcprog_fe\n",
    "        rename _b_dx_it beta_fd_exp\n",
    "        rename _se_dx_it se_fd_exp\n",
    "        keep beta_fd_exp se_fd_exp\n",
    "timer off 1\n",
    "display \"The time this code runs is\"\n",
    "timer list 1"
   ]
  },
  {
   "cell_type": "markdown",
   "metadata": {},
   "source": [
    "### 2.6.1.2 FD-FE (mix) Estimation"
   ]
  },
  {
   "cell_type": "code",
   "execution_count": 33,
   "metadata": {
    "collapsed": false
   },
   "outputs": [
    {
     "name": "stdout",
     "output_type": "stream",
     "text": [
      "\n",
      ". timer off 1\n",
      "The time this codes run is\n",
      "   1:      6.12 /        1 =       6.1150\n"
     ]
    }
   ],
   "source": [
    "%%stata -o mix_exp\n",
    "timer on 1\n",
    "set seed 100\n",
    "capture program drop mcprog_mix\n",
    "        program mcprog_mix\n",
    "        clear\n",
    "        drawnorm alpha_i, n(200)\n",
    "        gen i = _n \n",
    "        expand 5\n",
    "        bys i: g t = _n \n",
    "        gen trend = exp(t*i/100) \n",
    "            * exponential individual specific trand   \n",
    "        drawnorm nu_it e_it, n(1000)\n",
    "        g x_it = nu_it + alpha_i + trend \n",
    "        g y_it = 3 + alpha_i + 2*x_it + trend + e_it \n",
    "        xtset i t\n",
    "        g dx_it = d.x_it\n",
    "        g dy_it = d.y_it\n",
    "        xtreg dy_it dx_it, fe \n",
    "        drop nu_it alpha_i e_it dy_it dx_it y_it x_it\n",
    "end\n",
    "        simulate _b _se, nodots nolegend  reps(100): mcprog_mix\n",
    "        rename _b_dx_it beta_mix_exp\n",
    "        rename _se_dx_it se_mix_exp\n",
    "        keep beta_mix_exp se_mix_exp\n",
    "        \n",
    "timer off 1\n",
    "display \"The time this code runs is\"\n",
    "timer list 1"
   ]
  },
  {
   "cell_type": "markdown",
   "metadata": {},
   "source": [
    "### 2.6.1.3 FD-FD (pure) Estimation"
   ]
  },
  {
   "cell_type": "code",
   "execution_count": 34,
   "metadata": {
    "collapsed": false
   },
   "outputs": [
    {
     "name": "stdout",
     "output_type": "stream",
     "text": [
      "\n",
      ".         The time this codes run is\n",
      "   1:      2.19 /        1 =       2.1860\n"
     ]
    }
   ],
   "source": [
    "%%stata -o pure_exp\n",
    "timer on 1\n",
    "set seed 100\n",
    "capture program drop mcprog_pure\n",
    "        program mcprog_pure\n",
    "        clear\n",
    "        drawnorm alpha_i, n(200)\n",
    "        gen i = _n \n",
    "        expand 5\n",
    "        bys i: g t = _n \n",
    "        gen trend = exp(t*i/100) \n",
    "            * exponential individual specific trand   \n",
    "        drawnorm nu_it e_it, n(1000)\n",
    "        g x_it = nu_it + alpha_i + trend \n",
    "        g y_it = 3 + alpha_i + 2*x_it + trend + e_it \n",
    "        xtset i t\n",
    "        g d2x_it = d2.x_it\n",
    "        g d2y_it = d2.y_it\n",
    "        reg d2y_it d2x_it, \n",
    "        drop nu_it alpha_i e_it y_it x_it d2y_it d2x_it\n",
    "end\n",
    "        simulate _b _se, nodots nolegend  reps(100): mcprog_pure\n",
    "        rename _b_d2x_it beta_pure_exp\n",
    "        rename _se_d2x_it se_pure_exp\n",
    "        keep beta_pure_exp se_pure_exp\n",
    "            * exp for exponential\n",
    "        \n",
    "timer off 1\n",
    "display \"The time this code runs is\"\n",
    "timer list 1"
   ]
  },
  {
   "cell_type": "markdown",
   "metadata": {},
   "source": [
    "###  2.6.1.4 Comparison of results"
   ]
  },
  {
   "cell_type": "code",
   "execution_count": 35,
   "metadata": {
    "collapsed": false
   },
   "outputs": [
    {
     "name": "stdout",
     "output_type": "stream",
     "text": [
      "            FD       mix      pure\n",
      "Beta  3.000002  3.000002  2.999999\n",
      "SE    0.000034  0.000045  0.000069\n"
     ]
    }
   ],
   "source": [
    "############################ Regression Results with exponential individual specific linear trend\n",
    "# FD Regression Results\n",
    "fd_mean_exp = fd_exp.mean()\n",
    "beta_fd_exp = fd_mean_exp[0]\n",
    "se_fd_exp = fd_mean_exp[1]\n",
    "# Mix Regression Results\n",
    "mix_mean_exp = mix_exp.mean()\n",
    "beta_mix_exp = mix_mean_exp[0]\n",
    "se_mix_exp = mix_mean_exp[1]\n",
    "# Pure Regression Results\n",
    "pure_mean_exp = pure_exp.mean()\n",
    "beta_pure_exp = pure_mean_exp[0]\n",
    "se_pure_exp = pure_mean_exp[1]\n",
    "\n",
    "\n",
    "results_exptrend_beta = np.array([beta_fd_exp, beta_mix_exp, beta_pure_exp])\n",
    "results_exptrend_se = np.array([se_fd_exp, se_mix_exp, se_pure_exp])\n",
    "results_exptrend = np.mat([results_exptrend_beta, results_exptrend_se]) \n",
    "results_exptrend = pd.DataFrame(results_exptrend)\n",
    "results_exptrend.index = [\"Beta\", \"SE\"]\n",
    "results_exptrend.columns = [\"FD\", \"mix\", \"pure\"]\n",
    "print results_exptrend"
   ]
  },
  {
   "cell_type": "markdown",
   "metadata": {},
   "source": [
    "> Here we have the case that the trend increases individual specific exponential over time, i.e. the trend is a convex function.\n",
    "Both RT methods are biased, and the difference between the two is at the 6. digit, so obsolete from our point of view. Surprisingly to us is, that there is no difference between the normal FD and the RT's. This means that if the trend increases exponential, the random trend method does not improve the estimation. I would have expected that the random-trend model comes a bite closer to the true, but in this example it does not. Thus, we just get higher standard errors without the trade of more robust results. \n",
    "\n",
    "<a id='MCNLogTrend'></a>\n",
    "\n",
    "## 2.6.2 Monte Carlo study with log individual specific trends \n",
    "\n",
    "### 2.6.2.1 FD Estimation"
   ]
  },
  {
   "cell_type": "code",
   "execution_count": 36,
   "metadata": {
    "collapsed": false
   },
   "outputs": [
    {
     "name": "stdout",
     "output_type": "stream",
     "text": [
      "\n",
      "The time this codes run is\n",
      "   1:      1.88 /        1 =       1.8800\n"
     ]
    }
   ],
   "source": [
    "%%stata -o fd_log\n",
    "timer on 1\n",
    "set seed 100\n",
    "capture program drop mcprog_fe\n",
    "        program mcprog_fe\n",
    "        clear\n",
    "        drawnorm alpha_i, n(200)\n",
    "        gen i = _n \n",
    "        expand 5\n",
    "        bys i: g t = _n \n",
    "        gen trend = log(t*i) \n",
    "            * logarithm !!! \n",
    "        drawnorm nu_it e_it, n(1000)\n",
    "        g x_it = nu_it + alpha_i + trend \n",
    "        g y_it = 3 + alpha_i + 2*x_it + trend + e_it \n",
    "        xtset i t\n",
    "        g dx_it = d.x_it\n",
    "        g dy_it = d.y_it\n",
    "        reg dy_it dx_it\n",
    "        drop nu_it alpha_i e_it y_it x_it dy_it dx_it\n",
    "end\n",
    "        simulate _b _se, nodots nolegend  reps(100): mcprog_fe\n",
    "        rename _b_dx_it beta_fd_log\n",
    "        rename _se_dx_it se_fd_log\n",
    "        keep beta_fd_log se_fd_log\n",
    "timer off 1\n",
    "display \"The time this code runs is\"\n",
    "timer list 1"
   ]
  },
  {
   "cell_type": "markdown",
   "metadata": {},
   "source": [
    "###  2.6.2.2. FD-FE (mix) Estimation"
   ]
  },
  {
   "cell_type": "code",
   "execution_count": 37,
   "metadata": {
    "collapsed": false
   },
   "outputs": [
    {
     "name": "stdout",
     "output_type": "stream",
     "text": [
      "\n",
      ". timer off 1\n",
      "The time this codes run is\n",
      "   1:      7.15 /        1 =       7.1510\n"
     ]
    }
   ],
   "source": [
    "%%stata -o mix_log\n",
    "timer on 1\n",
    "set seed 100\n",
    "capture program drop mcprog_mix\n",
    "        program mcprog_mix\n",
    "        clear\n",
    "        drawnorm alpha_i, n(200)\n",
    "        gen i = _n \n",
    "        expand 5\n",
    "        bys i: g t = _n \n",
    "        gen trend = log(t*i) \n",
    "            * logarithm!\n",
    "        drawnorm nu_it e_it, n(1000)\n",
    "        g x_it = nu_it + alpha_i + trend \n",
    "        g y_it = 3 + alpha_i + 2*x_it + trend + e_it \n",
    "        xtset i t\n",
    "        g dx_it = d.x_it\n",
    "        g dy_it = d.y_it\n",
    "        xtreg dy_it dx_it, fe \n",
    "            * cluster(i)\n",
    "        drop nu_it alpha_i e_it dy_it dx_it y_it x_it\n",
    "end\n",
    "        simulate _b _se, nodots nolegend  reps(100): mcprog_mix\n",
    "        rename _b_dx_it beta_mix_log\n",
    "        rename _se_dx_it se_mix_log\n",
    "        keep beta_mix_log se_mix_log\n",
    "        \n",
    "timer off 1\n",
    "display \"The time this code runs is\"\n",
    "timer list 1"
   ]
  },
  {
   "cell_type": "markdown",
   "metadata": {},
   "source": [
    "###  2.6.2.3. FD-FD (pure) Estimation"
   ]
  },
  {
   "cell_type": "code",
   "execution_count": 38,
   "metadata": {
    "collapsed": false
   },
   "outputs": [
    {
     "name": "stdout",
     "output_type": "stream",
     "text": [
      "\n",
      ". timer off 1\n",
      "The time this codes run is\n",
      "   1:      2.34 /        1 =       2.3430\n"
     ]
    }
   ],
   "source": [
    "%%stata -o pure_log\n",
    "timer on 1\n",
    "set seed 100\n",
    "capture program drop mcprog_pure\n",
    "        program mcprog_pure\n",
    "        clear\n",
    "        drawnorm alpha_i, n(200)\n",
    "        gen i = _n \n",
    "        expand 5\n",
    "        bys i: g t = _n \n",
    "        gen trend = log(t*i) \n",
    "            * logarithm! \n",
    "        drawnorm nu_it e_it, n(1000)\n",
    "        g x_it = nu_it + alpha_i + trend \n",
    "        g y_it = 3 + alpha_i + 2*x_it + trend + e_it \n",
    "        xtset i t\n",
    "        g d2x_it = d2.x_it\n",
    "        g d2y_it = d2.y_it\n",
    "        reg d2y_it d2x_it, \n",
    "        drop nu_it alpha_i e_it y_it x_it d2y_it d2x_it\n",
    "end\n",
    "        simulate _b _se, nodots nolegend  reps(100): mcprog_pure\n",
    "        rename _b_d2x_it beta_pure_log\n",
    "        rename _se_d2x_it se_pure_log\n",
    "        keep beta_pure_log se_pure_log\n",
    "        \n",
    "timer off 1\n",
    "display \"The time this code runs is\"\n",
    "timer list 1\n",
    "    "
   ]
  },
  {
   "cell_type": "markdown",
   "metadata": {},
   "source": [
    "###  2.6.2.4 Comparison of results"
   ]
  },
  {
   "cell_type": "code",
   "execution_count": 39,
   "metadata": {
    "collapsed": false
   },
   "outputs": [
    {
     "name": "stdout",
     "output_type": "stream",
     "text": [
      "            FD       mix      pure\n",
      "Beta  2.020059  2.021325  2.004355\n",
      "SE    0.035496  0.040955  0.041070\n"
     ]
    }
   ],
   "source": [
    "############################ Regression Results with log individual specific linear trend\n",
    "# FD Regression Results\n",
    "fd_mean_log = fd_log.mean()\n",
    "beta_fd_log = fd_mean_log[0]\n",
    "se_fd_log = fd_mean_log[1]\n",
    "# Mix Regression Results\n",
    "mix_mean_log = mix_log.mean()\n",
    "beta_mix_log = mix_mean_log[0]\n",
    "se_mix_log = mix_mean_log[1]\n",
    "# Pure Regression Results\n",
    "pure_mean_log = pure_log.mean()\n",
    "beta_pure_log = pure_mean_log[0]\n",
    "se_pure_log = pure_mean_log[1]\n",
    "\n",
    "\n",
    "results_logtrend_beta = np.array([beta_fd_log, beta_mix_log, beta_pure_log])\n",
    "results_logtrend_se = np.array([se_fd_log, se_mix_log, se_pure_log])\n",
    "results_logtrend = np.mat([results_logtrend_beta, results_logtrend_se]) \n",
    "results_logtrend = pd.DataFrame(results_logtrend)\n",
    "results_logtrend.index = [\"Beta\", \"SE\"]\n",
    "results_logtrend.columns = [\"FD\", \"mix\", \"pure\"]\n",
    "print results_logtrend"
   ]
  },
  {
   "cell_type": "markdown",
   "metadata": {},
   "source": [
    "> For the log individual specific trend we have the case that the trend is upward sloping, but the marginal increase decreases, i.e. we have concave trends.\n",
    "All three methods are good in capturing the _unobserved_ trend component. As for the constant trend, the _mix_ performs worst, FD second and _pure_ performs best.\n",
    "\n",
    "> Again, FD is capable to solve the endogeneity problem and there is no need for a random-trend model."
   ]
  },
  {
   "cell_type": "markdown",
   "metadata": {
    "collapsed": true
   },
   "source": [
    "<a id='MCNonFEFD'></a> "
   ]
  },
  {
   "cell_type": "markdown",
   "metadata": {},
   "source": [
    "## 2.6.3. The within-transformation first-step \n",
    "We discussed in the beginning that it does not make sense theoretically to first transform the data using the within-transformation and then to use the first-differences. For the canceling of the trend, it was crucial to take first the first-difference. We will verify here with the Monte Carlo framework that this produces biased results.\n",
    "\n",
    "### 2.6.3.1 FE-FE Estimation"
   ]
  },
  {
   "cell_type": "code",
   "execution_count": 40,
   "metadata": {
    "collapsed": false
   },
   "outputs": [
    {
     "name": "stdout",
     "output_type": "stream",
     "text": [
      "\n",
      ". timer off 1\n",
      "The time this codes run is\n",
      "   1:      6.60 /        1 =       6.5970\n"
     ]
    }
   ],
   "source": [
    "%%stata -o fe_fe\n",
    "timer on 1\n",
    "set seed 100\n",
    "capture program drop mcprog_fe\n",
    "        program mcprog_fe\n",
    "        clear\n",
    "        drawnorm alpha_i, n(200)\n",
    "        gen i = _n \n",
    "        expand 5\n",
    "        bys i: g t = _n \n",
    "        gen trend = t*i  \n",
    "        drawnorm nu_it e_it, n(1000)\n",
    "        g x_it = nu_it + alpha_i + trend \n",
    "        g y_it = 3 + alpha_i + 2*x_it + trend + e_it \n",
    "        xtset i t\n",
    "        xtdata i t x_it y_it, fe clear \n",
    "            * preforms the within-transformation, so we can be sure that it is really the first thing in the regression\n",
    "        xtreg y_it x_it, fe \n",
    "            *  Random-Trend (FE-FD)\n",
    "        drop y_it x_it\n",
    "end\n",
    "        simulate _b, nodots nolegend  reps(100): mcprog_fe\n",
    "        rename _b_x_it beta_fe_fe\n",
    "        keep beta_fe_fe \n",
    "            * it = individual trend\n",
    "timer off 1\n",
    "display \"The time this codes run is\"\n",
    "timer list 1\n",
    "\n"
   ]
  },
  {
   "cell_type": "markdown",
   "metadata": {},
   "source": [
    "### 2.6.3.2 FE-FD Estimation"
   ]
  },
  {
   "cell_type": "code",
   "execution_count": 41,
   "metadata": {
    "collapsed": false
   },
   "outputs": [
    {
     "name": "stdout",
     "output_type": "stream",
     "text": [
      "\n",
      ". timer off 1\n",
      "The time this codes run is\n",
      "   1:      3.95 /        1 =       3.9490\n"
     ]
    }
   ],
   "source": [
    "%%stata -o fe_fd\n",
    "timer on 1\n",
    "set seed 100\n",
    "capture program drop mcprog_fe\n",
    "        program mcprog_fe\n",
    "        clear\n",
    "        drawnorm alpha_i, n(200)\n",
    "        gen i = _n \n",
    "        expand 5\n",
    "        bys i: g t = _n \n",
    "        gen trend = t*i  \n",
    "        drawnorm nu_it e_it, n(1000)\n",
    "        g x_it = nu_it + alpha_i + trend \n",
    "        g y_it = 3 + alpha_i + 2*x_it + trend + e_it \n",
    "        xtset i t\n",
    "        xtdata i t x_it y_it, fe clear \n",
    "            * preforms the within-transformation, so we can be sure that it is really the first thing in the regression\n",
    "        xtset i t \n",
    "            * to sort the data\n",
    "        g dx_it = d.x_it\n",
    "        g dy_it = d.y_it\n",
    "        reg dy_it dx_it,  \n",
    "            * Random-Trend (FE-FD)\n",
    "        drop y_it x_it\n",
    "end\n",
    "        simulate _b, nodots nolegend  reps(100): mcprog_fe\n",
    "        rename _b_dx_it beta_fe_fd\n",
    "        keep beta_fe_fd \n",
    "            * it = individual trend\n",
    "timer off 1\n",
    "display \"The time this code runs is\"\n",
    "timer list 1"
   ]
  },
  {
   "cell_type": "markdown",
   "metadata": {},
   "source": [
    "### 2.6.3.3 Comparison of results"
   ]
  },
  {
   "cell_type": "code",
   "execution_count": 42,
   "metadata": {
    "collapsed": false
   },
   "outputs": [
    {
     "name": "stdout",
     "output_type": "stream",
     "text": [
      "           Beta\n",
      "FE-FE  2.999957\n",
      "FE-FD  2.999481\n"
     ]
    }
   ],
   "source": [
    "fe_fe_mean = fe_fe.mean()\n",
    "fe_fd_mean = fe_fd.mean()\n",
    "\n",
    "results_within_beta = np.mat([fe_fe_mean, fe_fd_mean])\n",
    "results_within = pd.DataFrame(results_within_beta)\n",
    "results_within.index = [\"FE-FE\", \"FE-FD\"]\n",
    "results_within.columns = [\"Beta\"]\n",
    "print results_within\n",
    "\n"
   ]
  },
  {
   "cell_type": "markdown",
   "metadata": {},
   "source": [
    "> Results are just as biased to the normal FE. Doing the second transformation was not helpful at all, i.e. the results confirm the theoretical model. We suppress the standard errors because the results are inconsistent anyway and are in line with our expectations."
   ]
  },
  {
   "cell_type": "markdown",
   "metadata": {},
   "source": [
    "-------------------------------\n",
    "<a id='MCPythonRT'></a> "
   ]
  },
  {
   "cell_type": "markdown",
   "metadata": {},
   "source": [
    "# 3. Random Trend Simulation using Python\n",
    "\n",
    "Since the course requires not only a strong focus on simulation within Jupyter Notebook, but is also about employing free software packages (especially python), we will now do a similar simulation using Python. \n",
    "\n",
    "As before, we will first do an example with just one simulation to verify that the code is working properly. In a second step, we will run the same simulation with 1,000 replications.\n",
    "\n",
    "Following the conclusions from our benchmark results with _ipstata_, we will only look into the case of the linear individual specific trend. If we get similar results here, results should hold for the others as well. Besides, the RT estimation was our main question of interest in the first place.\n",
    "\n",
    "There are some packages which can be used to run regressions, but we did not find a package that explicitly runs panel-data transformations. Since we had to write the transformation on our own, we decided calculate the regression ourselves as well. "
   ]
  },
  {
   "cell_type": "markdown",
   "metadata": {},
   "source": [
    "<a id='MCPythonDGP'></a> "
   ]
  },
  {
   "cell_type": "markdown",
   "metadata": {
    "collapsed": false
   },
   "source": [
    "###  3.1. DGP"
   ]
  },
  {
   "cell_type": "code",
   "execution_count": 3,
   "metadata": {
    "collapsed": false
   },
   "outputs": [
    {
     "name": "stdout",
     "output_type": "stream",
     "text": [
      "     Individual  Time   alpha_i  trend         y_it         x_it      e_it\n",
      "0             1     1  0.005238      1     5.969862     1.157064 -0.349504\n",
      "1             1     2  0.005238      2    12.287004     3.212727  0.856312\n",
      "2             1     3  0.005238      3    12.981629     3.113886  0.748620\n",
      "3             1     4  0.005238      4    13.418885     3.591650 -0.769653\n",
      "4             1     5  0.005238      5    16.557947     4.661651 -0.770593\n",
      "5             2     1  1.597302      2    10.174301     2.572005 -1.567011\n",
      "6             2     2  1.597302      4    18.316813     4.618204  0.483103\n",
      "7             2     3  1.597302      6    26.470429     7.554837  0.763453\n",
      "8             2     4  1.597302      8    34.624184    11.122987 -0.219092\n",
      "9             2     5  1.597302     10    35.276594    10.525087 -0.370882\n",
      "10            3     1 -0.000119      3    13.940211     3.483390  0.973549\n",
      "11            3     2 -0.000119      6    21.007062     6.210828 -0.414476\n",
      "12            3     3 -0.000119      9    28.704136     9.475260 -2.246264\n",
      "13            3     4 -0.000119     12    38.964216    11.629298  0.705738\n",
      "14            3     5 -0.000119     15    48.112286    14.874509  0.363386\n",
      "15            4     1 -1.042073      4    11.395918     2.785491 -0.132991\n",
      "16            4     2 -1.042073      8    23.432985     6.519393  0.436272\n",
      "17            4     3 -1.042073     12    38.112371    11.943328  0.267788\n",
      "18            4     4 -1.042073     16    46.973679    14.626241 -0.236731\n",
      "19            4     5 -1.042073     20    59.930816    19.046307 -0.119725\n",
      "20            5     1  0.564986      5    22.581150     6.647041  0.722083\n",
      "21            5     2  0.564986     10    32.820935    10.040645 -0.825341\n",
      "22            5     3  0.564986     15    50.609733    16.244513 -0.444278\n",
      "23            5     4  0.564986     20    66.329258    21.920071 -1.075869\n",
      "24            5     5  0.564986     25    80.736853    25.256370  1.659128\n",
      "25            6     1  0.482433      6    23.541716     6.682414  0.694455\n",
      "26            6     2  0.482433     12    34.859743    10.682722 -1.988134\n",
      "27            6     3  0.482433     18    57.461897    17.937512  0.104441\n",
      "28            6     4  0.482433     24    74.329370    23.583677 -0.320417\n",
      "29            6     5  0.482433     30    97.254654    32.423008 -1.073793\n",
      "..          ...   ...       ...    ...          ...          ...       ...\n",
      "970         195     1  1.608531    195   593.169802   197.689718 -1.818165\n",
      "971         195     2  1.608531    390  1175.486622   390.380410  0.117271\n",
      "972         195     3  1.608531    585  1762.939016   586.554374  0.221738\n",
      "973         195     4  1.608531    780  2346.523592   781.254075 -0.593090\n",
      "974         195     5  1.608531    975  2931.871010   975.470908  1.320662\n",
      "975         196     1 -0.380879    196   591.764709   196.495785  0.154017\n",
      "976         196     2 -0.380879    392  1176.852018   390.540988  1.150921\n",
      "977         196     3 -0.380879    588  1770.896452   589.592221  1.092889\n",
      "978         196     4 -0.380879    784  2355.683418   784.620554 -0.176811\n",
      "979         196     5 -0.380879    980  2944.403040   980.868901  0.046117\n",
      "980         197     1 -1.016070    197   595.033089   197.230372  1.588415\n",
      "981         197     2 -1.016070    394  1180.544439   392.640797 -0.721085\n",
      "982         197     3 -1.016070    591  1771.435451   588.842589  0.766342\n",
      "983         197     4 -1.016070    788  2360.436391   785.309162 -0.165862\n",
      "984         197     5 -1.016070    985  2956.088480   983.893340  1.317871\n",
      "985         198     1  0.190325    198   596.292089   197.852827 -0.603891\n",
      "986         198     2  0.190325    396  1190.372887   396.037285 -0.892007\n",
      "987         198     3  0.190325    594  1786.791584   594.755042  0.091175\n",
      "988         198     4  0.190325    792  2380.141144   792.912324 -0.873829\n",
      "989         198     5  0.190325    990  2971.141301   989.562570 -1.174165\n",
      "990         199     1  0.902718    199   604.040888   200.299331  0.539507\n",
      "991         199     2  0.902718    398  1200.924792   399.533032 -0.043990\n",
      "992         199     3  0.902718    597  1793.387996   596.949856 -1.414433\n",
      "993         199     4  0.902718    796  2395.123015   797.623962 -0.027628\n",
      "994         199     5  0.902718    995  2990.395810   995.621201  0.250689\n",
      "995         200     1 -0.281419    200   600.710087   199.202534 -0.413561\n",
      "996         200     2 -0.281419    400  1198.117984   397.998293 -0.597184\n",
      "997         200     3 -0.281419    600  1806.838769   601.374177  1.371833\n",
      "998         200     4 -0.281419    800  2403.252189   800.026460  0.480689\n",
      "999         200     5 -0.281419   1000  3003.451111  1000.567131 -0.401731\n",
      "\n",
      "[1000 rows x 7 columns]\n"
     ]
    }
   ],
   "source": [
    "random.seed(100) # Equivalent to `set seed 100`\n",
    "############################################### Somehow the seed does not work\n",
    "\n",
    "# For the coding part, we will set some variables which was not necessary in stata:\n",
    "n = 200 # in python there is no need (or not allowed) to write `generate`\n",
    "T = 5\n",
    "N = n * T\n",
    "\n",
    "alpha_i = np.random.normal(0, 1, 200) # Equivalent to `drawnorm alpha_i, n(200)`\n",
    "alpha_i = np.repeat(alpha_i,5) # Equivalent to `expand 5`  \n",
    "\n",
    "i = np.arange(n) + 1 # Equivalent to `gen i = _n`  # +1 because python would start with 0\n",
    "i = np.repeat(i,T) # Equivalent to `expand 5`  \n",
    "\n",
    "t = np.arange(5) + 1 # Equivalent to bys i: g t = _n \n",
    "t = np.tile(t,200) # Equivalent to `expand 5`  \n",
    "\n",
    "trend = t*i # <=> `gen trend = t*i`\n",
    "\n",
    "mean = [0, 0]\n",
    "cov = [[1, 0], [0, 1]]\n",
    "nu_it, e_it = np.random.multivariate_normal(mean, cov, 1000).T # <=> `drawnorm nu_it e_it, n(1000)`\n",
    "\n",
    "x_it = (nu_it + alpha_i + trend).T # <=> `g x_it = nu_it + alpha_i + trend`\n",
    "# Since we will transform the data at least ones, we don't have to include an intercept in the first place.\n",
    "\n",
    "y_it = (3 + alpha_i + 2*x_it + trend + e_it).T # <=> `g y_it = 3 + alpha_i + 2*x_it + trend + e_it `\n",
    "\n",
    "m = np.matrix((i, t, alpha_i, trend, y_it, x_it, e_it))\n",
    "mt = m.transpose()\n",
    "df = pd.DataFrame(mt)\n",
    "df.columns = [\"Individual\", \"Time\", \"alpha_i\", \"trend\", \"y_it\", \"x_it\", \"e_it\"]\n",
    "print(df)\n"
   ]
  },
  {
   "cell_type": "markdown",
   "metadata": {},
   "source": [
    "> The data generating process is here now down completely using open source packages (numpy). We print the data frame to have a quick overview whether the the DGP was correct or not. Judging from the output, it seems that so far everything is fine.\n",
    "\n",
    "> The arising problem now however is, that our Internet research did not provide us with commands which can analyze panel data as easily as Stata can do. I.e. there is no command which is directly comparable to \n",
    "`xtset i t` and `xtreg y_it x_it, fe`. We therefor have to construct the transformations ourselves. \n",
    "\n",
    "<a id='MCPythonDataTr'></a> \n",
    "\n",
    "###  3.2. Data Transformation"
   ]
  },
  {
   "cell_type": "code",
   "execution_count": 4,
   "metadata": {
    "collapsed": false
   },
   "outputs": [],
   "source": [
    "\n",
    "# First and double Difference for x:\n",
    "x_reshape = np.reshape(np.ravel(x_it), (200, 5)).T # reshape x-variable to wide form for the transformation\n",
    "    # To verify the reshape command, comment out the next to lines. We need 200 columsn with each 5 rows for 200 individuals haven 5 time periods\n",
    "    #x_df = pd.DataFrame(x_reshape)\n",
    "    #print x_df.head(n=5) # One can see that we have now 200 columns with each 5 time periods\n",
    "dx = np.zeros(x_reshape.shape) #Constructing a zero variable for the first-difference command which is following (this is necessary)\n",
    "dx[1:] = x_reshape[1:] - x_reshape[:-1] # First-Difference\n",
    "dx = np.delete(dx,(0), axis=0) # Dropping the first period which does not contain any information anymore.\n",
    "    # Every dirst-difference means that we will lose one time period.\n",
    "    #dx = numpy.delete(dx,(0), axis=1)\n",
    "d2x = np.zeros(dx.shape) #Constructing a zero variable for the first-difference command which is following (this is necessary)\n",
    "d2x[1:] = dx[1:] - dx[:-1] # Second-Difference\n",
    "d2x = np.delete(d2x,(0), axis=0)\n",
    "    #For verification command out the next lines:\n",
    "    #dx_df = pd.DataFrame(dx)\n",
    "    #print dx_df.head(n=5) # The first entry is now zero for all zero because we can't take the first-difference from the starting value. Comparing dx_df and x_df one can clearly see that the first-differnce worked well.\n",
    "    # Now we have the reshape the data again in long form for the regression\n",
    "dx_reshape = dx # result is stored for the within-transformation    \n",
    "dx = np.reshape(dx.T, N-n) # replacing dx with long form (to be used in a regression)\n",
    "# We have to substract n from N, because we delete one time period\n",
    "d2x = np.reshape(d2x.T, N-2*n)\n",
    "# Same here, just that now we deleted two time periods.\n",
    "    #dx[:11] #to check if transition worked\n",
    "\n",
    "# Within-transformation for x\n",
    "dx_mean = dx_reshape.mean(axis=0) # obtaining the mean for each individual after the first-difference is done\n",
    "dx_mean_i = np.repeat(dx_mean,T-1) # for the calculation, construct a mean-matrix with same shape as the x-variable\n",
    "dx_mean_i_reshape = np.reshape(dx_mean_i.T, N-n) # Reshaping the data into long-form\n",
    "dwx = dx - dx_mean_i_reshape # Substracting the mean for the within-fransformation:\n",
    "# dwx is now constructed for the Random-Trend 2, mix    \n",
    "    \n",
    "################ Some transition for the y-variable\n",
    "y_reshape = np.reshape(np.ravel(y_it), (200, 5)).T # reshape x-variable to wide form for the transformation\n",
    "dy = np.zeros(y_reshape.shape) #Constructing a zero variable for the first-difference command which is following (this is necessary)\n",
    "dy[1:] = y_reshape[1:] - y_reshape[:-1] # First-Difference\n",
    "dy = np.delete(dy,(0), axis=0) # Dropping the first period which does not contain any information nomore.\n",
    "\n",
    "d2y = np.zeros(dy.shape) #Constructing a zero variable for the first-difference command which is following (this is necessary)\n",
    "d2y[1:] = dy[1:] - dy[:-1] # Second-Difference\n",
    "d2y = np.delete(d2y,(0), axis=0)\n",
    "dy_reshape = dy # result is stored for the within-transformation\n",
    "dy = np.reshape(dy.T, N-n)\n",
    "d2y = np.reshape(d2y.T, N-2*n)\n",
    "\n",
    "dy_mean = dy_reshape.mean(axis=0) \n",
    "dy_mean_i = np.repeat(dy_mean,T-1) \n",
    "dy_mean_i_reshape = np.reshape(dy_mean_i.T, N-n) \n",
    "dwy = dy - dy_mean_i_reshape \n",
    "# dwy is now constructed for the Random-Trend 2, mix\n",
    "\n"
   ]
  },
  {
   "cell_type": "markdown",
   "metadata": {},
   "source": [
    ">Already noting this transformation part, it does seem very reasonable to rely on Stata if one wants to analyze panel data. Surely, this code is not as efficient as possible since we just started coding, and we are certain that the code can be improved, but Stata seems so far still more convenient to us.\n",
    "\n",
    "To have a look into our data transformation, we will show some contour histograms to show how the untransformed and transformed variables are distributed.\n",
    "\n",
    "#### Relationship between untransformed $y_{it}$ and $x_{it}$"
   ]
  },
  {
   "cell_type": "code",
   "execution_count": 5,
   "metadata": {
    "collapsed": false
   },
   "outputs": [
    {
     "data": {
      "text/html": [
       "<div id=\"a85a35a4-d5d4-4577-b011-23172bae83c7\" style=\"height: 525; width: 100%;\" class=\"plotly-graph-div\"></div><script type=\"text/javascript\">window.PLOTLYENV=window.PLOTLYENV || {};window.PLOTLYENV.BASE_URL=\"https://plot.ly\";Plotly.newPlot(\"a85a35a4-d5d4-4577-b011-23172bae83c7\", [{\"y\": [5.969861639596034, 12.287004132381272, 12.981629156247811, 13.41888549106045, 16.557947097644917, 10.174300534991492, 18.316813259917357, 26.47042869137194, 34.62418445974428, 35.27659437474096, 13.940210650484655, 21.007061567121568, 28.704136176506367, 38.96421561924343, 48.11228561466974, 11.395917632410576, 23.432985258116787, 38.11237128648931, 46.97367870076315, 59.930815654281986, 22.58115048161612, 32.82093527579562, 50.609733479022225, 66.32925816785666, 80.73685348903821, 23.541715582138952, 34.8597434096192, 57.461897373223245, 74.32937048962572, 97.25465424565967, 28.302012253419193, 48.75646260351411, 70.25185625536274, 89.46088856126332, 107.65640646840073, 15.133376711225793, 43.5265243225478, 65.31195662221612, 93.89960411954839, 115.01837077712011, 32.498046934385464, 61.118797094443565, 85.66590621502256, 110.45272015037006, 142.00214740428763, 35.7326826599627, 65.0895808355613, 95.87149294977804, 125.29410969506064, 153.04480002447252, 35.19384740725434, 69.6935991074141, 103.05320428272513, 137.5051871790563, 172.47622071645878, 43.046287247460384, 78.56473735478723, 114.33279091735572, 149.2981518505778, 186.36761639370386, 46.144805047435824, 83.601458627665, 127.12448773480007, 161.35074064413897, 199.81871613008727, 49.47374284416518, 89.66921431194818, 134.87966734334108, 178.12195861340314, 220.09993407394555, 49.4861567371501, 93.09256767598617, 142.08823228001526, 182.84322906471033, 231.71055384771358, 51.61587560187701, 97.30757401551749, 142.30266843553215, 196.5382935712881, 238.21998054590173, 57.43552268813844, 108.39936602771766, 161.58346719982515, 212.32717014362, 260.87319208657135, 57.755607283320025, 108.249947701078, 160.35738063212185, 218.72622438430193, 272.8564511390415, 62.12027781291013, 122.29409569446392, 172.2178355576943, 232.6586465857734, 292.60249584745594, 64.09820449603114, 124.86867479670074, 188.43864256504474, 247.43371002602166, 309.2805188179099, 65.25098956335832, 125.94755598430666, 189.11467688173698, 253.8775393538799, 317.8648346972015, 65.1930199158002, 131.48797997335703, 199.05823570066826, 262.91911624792056, 325.39692677957373, 72.08146538097786, 137.54793164320142, 204.34980306688303, 274.33126841338003, 345.0668153602803, 76.1740143460788, 146.03299663859724, 220.1740177535089, 290.33978139151884, 364.13302783798787, 84.5347233155509, 155.92319038773888, 231.05157176224898, 303.7028543357874, 378.67026993575206, 83.91226842280804, 161.42481636757017, 239.67087406918043, 316.41891476948086, 398.0498929091005, 85.12192028914511, 173.04154646170815, 244.80292667685413, 325.955894072914, 408.4939472727646, 88.0964169306045, 172.80750225544654, 254.87529731079707, 344.5810177809204, 424.7182352671847, 84.67991967170435, 175.1808454442446, 264.22162008534815, 347.24915324010544, 436.4394510694155, 87.33872617343278, 177.6832325798846, 267.85704844066584, 361.6195035223018, 445.7028395922198, 94.80429734253977, 191.9271927286636, 279.2322662114841, 373.2644115529956, 464.79485238451554, 97.07266895821456, 193.62650131837032, 291.3634355113239, 381.565252632123, 481.8566929367645, 100.78883252425462, 200.34709646989842, 298.1495428377811, 397.69483956806835, 496.61542071259305, 105.45868500361127, 208.49554431857027, 309.49405309426743, 412.39757025393544, 515.6632477545913, 106.04470420095336, 207.3023305565123, 315.5195504511105, 417.1995424937286, 524.2807571267836, 114.07278603742046, 218.9658486249177, 328.6480968566269, 433.80818391101207, 544.0017257710614, 114.30552995020207, 228.26492035682213, 333.74809002862384, 445.11726239024136, 556.0063771956006, 108.94671322556813, 225.6682852904461, 341.17119276685037, 455.18678819872133, 567.2011453582571, 115.49147270292954, 238.93716061602916, 352.3577863158787, 470.7879615219874, 588.068023996677, 118.47919300449676, 240.88940035219096, 360.4501358752208, 480.52666934478475, 595.9152330235559, 127.09144412031445, 252.18468469468436, 371.7612917779189, 498.18743727922396, 618.2690475417901, 125.94090308015524, 253.11790223517406, 380.17317661045394, 500.9345842076636, 630.7408475844919, 127.8165310192344, 259.62643759808503, 390.45782221177853, 522.1931118293742, 645.2919273310125, 138.38481724411477, 262.87221827502714, 400.0867039411788, 529.5537704882462, 664.8080666368646, 138.1019550569093, 273.0230710249502, 406.2688786366209, 540.0774798623942, 676.6149675549514, 142.70582514088414, 281.4211126826927, 412.8979645334112, 556.5079330772145, 689.7431640522382, 144.7696241906984, 286.6061883938778, 421.5898655362223, 568.4522743875715, 704.8024472174279, 148.0980130658487, 289.6937897143615, 434.1750014169128, 579.6721387745243, 721.4402308025847, 152.62327761020197, 296.09894126619304, 447.87377376112545, 592.6695531298286, 739.4054801992203, 153.77776969214233, 300.4790685753165, 451.24873299935587, 602.3404506881602, 750.215143385571, 155.02754947090966, 311.0291448300639, 462.8622804508289, 613.1033463645085, 772.2872370648579, 160.11073988379894, 314.66005601908046, 473.08295123282323, 630.5914263188633, 782.5803592291044, 163.68101601110823, 319.84931967023533, 487.59613611142, 643.74124149132, 803.3526891714788, 163.31142622771443, 331.365315881613, 491.41346885851067, 652.3033830586601, 813.4383999775694, 165.3529270780723, 331.68959546105947, 493.3574558748613, 663.7654282948612, 828.8116090951647, 166.23156704365545, 337.5784407745882, 500.898508359879, 669.6515351922283, 839.3618442887895, 173.37698011882728, 340.8696995089245, 514.0584994289158, 678.7008686611148, 850.8391971647615, 174.29328068287765, 351.77234266465535, 523.2313013573034, 698.6939302468295, 873.9395548669078, 181.6672365415553, 361.58643060117174, 532.0255983757373, 708.0876220849813, 886.2262137381697, 177.79920123670726, 358.55102286100447, 541.2655341520197, 724.7184264899753, 900.4956083660672, 190.5196383243815, 374.0092028329942, 553.46425961631, 736.4269371092548, 923.4863183037675, 186.29942527166043, 376.8468273897218, 561.3330667698438, 747.8149194010845, 934.0033016821434, 191.7105393223404, 380.5466631974414, 565.3427306699421, 758.785677015513, 943.4381059660457, 195.60456840468436, 388.96197780679574, 584.3335241539703, 773.7245396440089, 970.1857437603256, 197.8221059256275, 393.07244925685364, 588.2007216259252, 782.3199791277546, 980.0820952131589, 202.38565342919298, 396.59199274379466, 594.790191354938, 794.5472528978515, 992.0124263605087, 203.37903956943666, 407.44610970750995, 605.2479586963168, 803.7419321173727, 1007.6647593153116, 207.77862933536755, 410.11720596741634, 614.0745156592241, 816.9688198331069, 1017.9565272312535, 205.9170701143018, 411.3320580528766, 615.8688782713486, 828.6850181714703, 1034.9556064294234, 214.599205719631, 425.100043107158, 631.1723801339749, 843.8874032774481, 1054.7988447363366, 211.5135918406537, 419.57400045078003, 638.3310874001896, 845.3093870641745, 1061.9226284452163, 220.4224651147449, 434.94279237542617, 653.7873703890633, 870.5110472017824, 1085.462359461129, 218.98224058547058, 441.06206904182017, 660.1287564512501, 876.2893409538232, 1092.3381150149555, 226.39655247002293, 448.6571979517767, 672.8243478661896, 890.8542616939022, 1113.9660688100205, 229.77770387225647, 455.6322951865366, 681.8876440417135, 903.3748133597387, 1133.9705160860872, 229.62425886320972, 457.2875299319207, 684.9772897976662, 912.6203997254464, 1141.5286421271421, 232.23797816769175, 465.6765574216146, 696.7544662181411, 928.4639066634688, 1158.8382508232532, 238.94680728786153, 471.9294907274654, 707.1462732024856, 941.3424719998662, 1173.873988477711, 233.65406573179152, 477.2449559521357, 709.9741748652361, 945.698698004977, 1187.6024433777995, 243.3838278974088, 479.87446025489277, 722.8852329744127, 959.3603006020245, 1203.9867569276278, 250.3386213971039, 488.38037445838796, 734.688503943467, 975.5830597861972, 1218.8637740937706, 244.07282764752088, 490.01602690332226, 731.8108604359494, 981.6358285065705, 1230.4578808547594, 253.96846305003066, 500.89952733088444, 748.2853679385906, 996.610176863683, 1245.1514549016863, 258.1416828597246, 510.17744947585237, 761.6040745223733, 1010.2558927840731, 1264.4609629315166, 260.7018223718314, 509.5979108522366, 769.9423088326779, 1022.533099425854, 1275.281785288674, 263.06685322991814, 526.8327892108641, 781.3304112789993, 1039.3189042705544, 1296.119781639541, 265.7638011240737, 524.3438195562798, 786.8641424710273, 1046.2992543946793, 1313.219574583894, 264.0514569181113, 528.1920593463279, 792.2118986907453, 1058.0264978953837, 1319.9488464582812, 265.8594893018969, 530.1380553671949, 800.3674990052302, 1064.6504321652535, 1335.5864771927495, 274.21046597069585, 545.3803169785341, 813.4260338087723, 1084.9672135162434, 1358.3569780486905, 275.31551856876786, 549.6820708743519, 826.4009252997594, 1096.181374231849, 1373.487088388755, 279.279295424531, 555.7792574111974, 835.7783997837054, 1108.5695577137228, 1382.817599623976, 280.4954804679977, 562.3103979442167, 836.3706174145916, 1120.8392938656575, 1400.3575929186188, 276.35692752780534, 559.663668554643, 846.8718913476921, 1122.709752978998, 1405.9705719052051, 284.22321133909037, 567.4421403978913, 853.6441825419145, 1140.2327629788451, 1425.66603430839, 291.9021992118233, 582.599512632816, 863.3640770923076, 1154.872226999755, 1439.6797855015366, 295.6336840331829, 587.6699419767617, 878.6075634110697, 1168.245286826348, 1461.5843273975195, 293.77697914909857, 592.5613901895189, 884.9071376342849, 1181.6154945217745, 1473.659424998673, 297.68893907027245, 591.8929614895159, 890.2531020099149, 1189.239379003775, 1483.5893031138412, 301.6943067491009, 600.7726660701633, 903.5675669540543, 1200.863869147583, 1506.603196252594, 301.74529536484937, 605.8177738827139, 909.9481521783946, 1214.6032637130918, 1519.078990048068, 309.2210979805507, 613.637147837428, 917.231067922709, 1226.6436281899098, 1530.795077640399, 310.2652442691906, 618.3775684889558, 926.7046860506348, 1236.6917823140852, 1546.4710089346677, 319.3741403284733, 630.8435619301229, 947.1004924641004, 1258.8459776356897, 1572.1321767502402, 313.7357924418527, 628.6385499771872, 940.258209778457, 1256.8203320315831, 1569.723374831784, 322.5989458135543, 641.8935243775143, 960.9189231855189, 1275.630330288138, 1595.7385726811078, 321.70958400766295, 646.0677370067712, 971.6255049230491, 1290.8877126894956, 1613.6229379453875, 322.50091116418196, 647.8595148440344, 975.1945773803131, 1293.7157405129844, 1619.731164203952, 322.39299602710855, 647.6541000580979, 973.0373039889387, 1308.5699678429523, 1630.5035907177366, 332.906499029529, 661.2551471509889, 991.7913424902572, 1325.3061103042692, 1652.9775577766673, 338.61280104947144, 671.6884703566835, 1004.579509587676, 1331.461791800693, 1671.1949874527775, 339.8495887369042, 671.0173740030629, 1005.8759767817506, 1351.076140382449, 1680.8348273258553, 343.43742872365254, 680.9783750850617, 1023.0369447906592, 1358.103197950448, 1698.7821197223047, 342.0861581873132, 683.7940008523099, 1025.510678125034, 1366.3083884769562, 1708.6393209018859, 342.06870814136676, 688.7230073329115, 1031.8756310316533, 1377.0711656515857, 1721.1458435696175, 349.9726140663916, 697.1637039036233, 1044.1277820943842, 1389.7738433205895, 1737.4931050409552, 350.71482267991826, 698.81291074073, 1053.3137418459958, 1407.048679545274, 1756.7591174844456, 366.04392993990837, 718.716699341559, 1074.7736907051144, 1422.9379503611522, 1773.4005318560382, 363.91466954542267, 718.6244681023201, 1080.2101211654906, 1433.221736078963, 1790.906275613303, 360.5945078400396, 722.3089395952383, 1079.9522004399116, 1437.8660806787957, 1803.1786752610722, 357.75911243891125, 721.6467515357922, 1085.9879959755237, 1444.6089584668312, 1810.178262517318, 364.0988327049076, 732.8721704220898, 1097.6087468868348, 1460.1301174075984, 1825.7351421427477, 369.61539619688773, 743.1956095277797, 1110.9550727772857, 1480.8493891330704, 1843.0727000044944, 376.08078077911296, 744.6452666902921, 1118.9338005529848, 1493.0709127181576, 1860.7501463921787, 375.6233187420095, 754.6747830892236, 1121.305769096289, 1500.8275586975997, 1873.3397524505242, 379.7211172630547, 762.1785356213951, 1138.237945375482, 1517.1542122728188, 1897.0508419388536, 385.06839098529497, 763.6567358766936, 1149.3168770644452, 1532.5266173284833, 1910.6520619219116, 386.20303926046836, 770.4929686392109, 1154.4196719947295, 1536.3632671108628, 1921.2884175701088, 391.1738369407862, 772.1566925107455, 1162.3977832137605, 1544.820307166855, 1929.9516113437778, 396.0501354284079, 784.5783579983698, 1178.6010916254545, 1567.01527727922, 1956.2532453344354, 393.7131180832585, 790.0976837552321, 1177.0574191613077, 1581.094431355597, 1972.1392323496098, 400.42829086689744, 792.4241501896358, 1186.6733323071978, 1586.7384160349127, 1981.816694814442, 401.52337070299745, 798.165056081729, 1202.0806974010986, 1595.5713763695276, 1998.0589695955284, 395.4455250307785, 799.2022880263024, 1204.6235753489493, 1606.2145370040614, 2006.0456902990627, 411.723563492159, 818.9907263043376, 1224.9404138252842, 1624.9385536875932, 2027.3416851098748, 415.26910484225345, 820.6692264714708, 1230.3256329260082, 1641.346368902033, 2048.6861894013796, 410.1301329297034, 825.3540017748373, 1238.3485505616018, 1647.1193625310866, 2056.4808291012037, 418.2902184121016, 831.9818906513825, 1245.5367081490285, 1663.1166687430127, 2071.9068313199155, 415.53295335581294, 836.4671305442582, 1255.597302627212, 1666.370645506272, 2084.9326310782853, 425.2546356665682, 844.3258465510663, 1262.819482068426, 1680.2622973679904, 2104.4800332727878, 428.4412892676336, 847.9886100113588, 1278.415002216153, 1698.3621754599665, 2117.5485384097174, 433.7588357065538, 857.2008722312258, 1282.39711286119, 1710.0173674402968, 2135.3132946666587, 437.1025684138832, 863.852536182437, 1294.962345664075, 1718.6676578668005, 2153.34303394553, 440.86478638988024, 872.0581416744476, 1304.757892076468, 1737.2645582826754, 2164.7696016976265, 439.13026132332544, 875.1463307623108, 1307.205871948961, 1741.0096930030752, 2177.669779089186, 439.7219895068805, 879.8427968016648, 1317.3154516041718, 1749.3669973193173, 2192.6856257019735, 439.5629260378359, 882.7855063023172, 1324.0355425631426, 1764.2029109215853, 2208.166505055885, 439.05388638764117, 889.4843583238492, 1328.7791286842132, 1769.1468999108515, 2218.761455176209, 450.6938276838971, 897.3373684015908, 1342.830598814367, 1792.207481042209, 2237.024010049112, 453.3282826159501, 899.5344964368728, 1348.8455480976643, 1803.3909091997484, 2246.4140488993335, 453.7592044242479, 906.635511451749, 1362.065917689434, 1810.56426717501, 2266.2794645291456, 458.1813661393374, 922.5806975158322, 1371.287918299496, 1832.664048300509, 2284.348185627576, 456.291991726222, 923.5619681198058, 1378.4312457750839, 1842.362868720688, 2293.260453096989, 468.04719588282626, 928.4689210234021, 1396.1701812759734, 1857.7385376747252, 2317.093326984672, 468.4190354337156, 932.25399019148, 1395.3580885603099, 1859.869033735368, 2330.0739966578562, 476.194676400372, 943.5023708116828, 1415.5137317628703, 1882.912505718387, 2346.536129776949, 474.9132538542036, 947.4005167208823, 1417.5431185841915, 1892.184459009257, 2363.1236150413897, 464.00791262746776, 945.8705134457866, 1421.6074981277732, 1894.4042561454569, 2362.586385578425, 479.9223312327493, 955.8651894281832, 1435.340980143736, 1911.8974923115506, 2392.002842575867, 484.896702851424, 965.9220517969036, 1444.9766688581115, 1927.3721861060606, 2406.3899848439346, 485.52878997616557, 966.4749190595145, 1455.4525265868222, 1934.7063140881073, 2417.4062483749935, 489.329889860712, 975.6873197870134, 1465.9909093750346, 1948.2446018306862, 2434.6987545982365, 497.4248576501868, 980.1728840555913, 1472.7518996722931, 1961.6517281589809, 2452.106248166135, 490.7456631193336, 983.7565846082892, 1474.6631533640993, 1964.4358391776584, 2458.409014279626, 498.10736787683555, 991.8776212697121, 1484.7660954492446, 1979.380908715544, 2471.7347911665474, 499.2132175106207, 998.8542219972135, 1496.1769908659373, 1992.2329810488832, 2490.244746940993, 509.39841841141276, 1009.0086930375197, 1509.8415167922597, 2014.5054821030847, 2512.5224499007586, 508.03860058901614, 1009.9338620702983, 1515.2232034372482, 2020.9148394820968, 2522.9567961273606, 512.1255877275844, 1017.2379467518314, 1518.6703085025406, 2030.2948623829811, 2539.8266747640505, 506.0135782057672, 1018.6431388671673, 1524.8237305915857, 2037.4098633821682, 2547.56190998708, 513.1709417851372, 1026.3788348947505, 1543.1225165983274, 2053.351808805889, 2570.874210503574, 513.2915084831997, 1033.7171476788983, 1550.0132162088933, 2061.17233055064, 2578.9758461585297, 525.7741706854601, 1046.4021292000084, 1561.0375592055625, 2082.205110774221, 2601.098097554744, 528.1690926316426, 1049.8848296908589, 1569.475059086332, 2094.414973700771, 2617.3685018496412, 526.0356795953011, 1052.427170421741, 1578.19097352699, 2099.9748352191295, 2626.9098475915207, 522.0624175356268, 1056.1769607250922, 1588.863183446288, 2108.864646790843, 2639.2140345553075, 530.7683063387278, 1060.2773101769842, 1592.267771354593, 2118.5423199882594, 2650.931814331546, 536.9485890128061, 1072.8099886622904, 1607.8722565897344, 2138.4247051857164, 2673.3114226977714, 541.334295833584, 1073.8302339044424, 1611.8387709912352, 2149.813157898453, 2686.13367721857, 541.4865521255974, 1079.721812981568, 1617.1881411270022, 2156.0436322628107, 2698.522913811818, 547.8342413787926, 1093.6020537048762, 1634.0221958727006, 2177.312652711449, 2721.5371573773496, 550.0075060680186, 1090.7925953145066, 1636.5600445510277, 2181.6328296579277, 2729.261187234926, 552.1767289516143, 1098.0022800486781, 1648.2693319107714, 2201.061636705005, 2752.2047893698773, 554.1230367525737, 1104.6302940580997, 1657.5171478670886, 2212.267375159333, 2763.144504362088, 553.2069496434342, 1109.5834870227352, 1664.4785612713802, 2218.5831471475085, 2772.15659161477, 558.8664130583496, 1115.642370386636, 1669.2858709233083, 2233.8348030833126, 2789.2121223496088, 563.523597725834, 1121.214529961543, 1685.3400395886417, 2242.6516105420237, 2805.173158955417, 565.9049312824252, 1127.2004423589299, 1689.7080086289625, 2253.7344426512323, 2822.2306111851995, 573.6856137838242, 1137.0987164075882, 1703.113603263318, 2273.655735587317, 2839.035511941407, 569.3173302748941, 1140.249719211461, 1706.9612697566579, 2282.8075223574087, 2852.7484418213194, 577.0389351169144, 1149.4767841983191, 1717.5696215612745, 2294.9355138759956, 2867.607684776664, 577.3546514022615, 1152.2607025201125, 1728.5181762706466, 2305.1710300008904, 2884.919899916422, 577.6820613182205, 1160.3584319722454, 1738.122090622123, 2314.3218155793384, 2897.102412156754, 577.999846857178, 1161.756169240538, 1745.562146655009, 2324.9472860508886, 2906.722649857568, 593.1698022406231, 1175.4866215102013, 1762.9390162231482, 2346.523592455521, 2931.8710100874446, 591.7647089538026, 1176.8520183314881, 1770.8964519009817, 2355.6834183052706, 2944.4030404118184, 595.033089069664, 1180.544438516928, 1771.4354507138853, 2360.436391319637, 2956.088479990265, 596.2920894828777, 1190.372887300829, 1786.7915836005113, 2380.1411441056985, 2971.141300880891, 604.0408881646453, 1200.9247917086789, 1793.3879963311888, 2395.123015225937, 2990.3958101565554, 600.7100873787891, 1198.1179836536053, 1806.8387691214348, 2403.2521894666297, 3003.4511114346938], \"x\": [1.1570640961496028, 3.212726981825387, 3.113885778954092, 3.5916503376282227, 4.661651262763611, 2.572004794378651, 4.618204097641594, 7.554837130636441, 11.122987183473125, 10.525087275049017, 3.4833904183533044, 6.210828377992823, 9.475259659419315, 11.62929839222212, 14.874509402934406, 2.785490522238592, 6.519393095079134, 11.943327840252199, 14.626241158899663, 19.046306817125686, 6.647040972114688, 10.040645218164963, 16.2445126617434, 21.920070586283252, 25.256369754988047, 6.682414247589132, 10.682722336405245, 17.93751173879408, 23.583677346069667, 32.423007547294354, 7.907753878960653, 14.810120224485159, 22.14970088424335, 29.54138106854213, 35.02564048549467, 3.3789488580835485, 13.37001134253596, 20.802722679130294, 31.02414542197218, 37.24775799513441, 10.215874324008233, 19.695310742841645, 28.45373043324721, 35.39606886809717, 46.844713261708534, 11.72266555996743, 21.169296650528906, 31.358378825676418, 41.488610680963454, 50.19451687111676, 10.9755032668804, 21.15526639355523, 34.00463222118319, 45.199320214955456, 56.69579480140003, 13.795384446591566, 24.768818955653746, 37.01106827882831, 48.81552667954997, 61.34241728768976, 14.812283652434395, 26.5336555998087, 40.85133444981428, 53.48586080598804, 65.63682741099349, 15.471669292449816, 28.635422987272353, 44.42520407501951, 58.35962371431939, 72.7419515902793, 15.865171699439118, 30.064002710069214, 46.58758890072309, 58.88759660132505, 76.73049321377317, 16.440558705987304, 31.187098099425363, 46.26922142080509, 65.06234361299217, 78.4341296322237, 18.161130193453385, 34.86587395301124, 53.49009412657024, 69.89781144840087, 85.59653183770871, 18.706146888890686, 34.84403523351921, 52.524025428850514, 71.89753649720711, 90.27740355153239, 19.940411325962828, 40.19595740992386, 55.79265087023052, 75.88411369355967, 96.80116305837197, 20.358381582877776, 40.88242517527464, 61.61612022394725, 81.7618890116969, 102.05197280329044, 20.786905763784155, 41.55436458417491, 62.19942005249002, 83.11879415143532, 105.1330151913837, 20.850696778235008, 43.48470747314577, 65.52019465157883, 87.26360089005094, 107.04955755396308, 23.31412924585837, 44.4270915149074, 67.47762004185097, 90.18876194629757, 114.91103665497124, 23.32161304838866, 48.201605653772326, 72.39303190362243, 95.38823316984899, 120.24934610889578, 27.968468169008506, 51.07728922554282, 75.76484269466351, 100.13168343910172, 125.24825305875643, 26.46261342831286, 52.83793637186108, 78.81452703369408, 104.81658271777474, 131.91361087413318, 26.989193435278946, 57.950401418733755, 80.89448238626588, 107.25967423837429, 134.50970950649162, 28.317640333639805, 56.95739462669466, 83.68542267159069, 113.69885158051815, 140.13128106733518, 27.15324343607076, 57.68624827599395, 87.50392354777216, 114.76220055499674, 144.54880115154307, 27.750592551965152, 57.99123973089699, 88.92060463654813, 119.69074019960198, 148.22936088077032, 29.507806270611322, 63.04437404441692, 92.02208323024307, 122.40652124725129, 153.38330380915596, 31.18342856580593, 62.69256451092085, 96.19407796211594, 125.84406007163565, 160.3900801992186, 33.383621592833855, 66.25847817467945, 98.6685240950336, 131.8674455298433, 164.36167032959375, 34.482844651578134, 68.36182146220446, 102.39090881662392, 136.98460346040565, 170.93757748945225, 34.71902781323734, 66.96075452186658, 104.60989337074048, 137.05043646764565, 173.171927269976, 37.87000537517527, 71.953921240556, 108.26019800218613, 142.86631007899697, 180.3290747582821, 36.05935690009755, 74.63554882423844, 109.26390843529542, 146.8633934197266, 184.35179126783086, 34.543279873051105, 74.30089245958061, 112.8505109272641, 151.20649614912168, 187.72897404019977, 37.48407594884335, 78.97966232350082, 116.07584921174944, 156.04670382118695, 194.538140355731, 37.68140623187599, 79.61469482596745, 119.01021533320419, 159.48650172323363, 197.07803763891098, 40.73426230868258, 83.04307759659132, 123.5873768081294, 164.89026488906669, 205.04353935939614, 40.741703933185306, 83.17291429208082, 125.36845353821832, 165.204748215308, 208.93754210725055, 41.03848991846039, 85.32824350399342, 128.75021790118376, 173.52639169716755, 214.2097628720237, 45.07927193643106, 85.91139957702723, 132.05559139511163, 176.04156266501369, 221.3413835348914, 45.50359024527798, 89.92889847736055, 134.8057863674591, 179.20662450896006, 224.81843468005238, 47.117492128044645, 92.87952916497797, 136.4257923517049, 184.8851978861368, 228.37322879939936, 47.21969706037456, 94.15965781491755, 139.19451683148841, 188.42999071377943, 233.8101440936694, 48.33700311950038, 95.0846729777023, 143.42344138329935, 191.85064534878705, 239.93745060810312, 50.19755867771705, 96.98300583344461, 147.7731895868487, 195.7151968101357, 245.6562639362253, 50.43626626238966, 99.15471913091929, 149.55223822526295, 200.59149303293955, 249.07186674992806, 50.41429246941913, 102.27301526163697, 153.73479343745967, 203.33403179572434, 256.90014503633716, 52.441227068716174, 103.65492670140169, 156.23360175140786, 209.93604576150008, 259.41491275532064, 53.62222477306955, 105.02966123270303, 161.28371031253346, 214.0786037240108, 267.0431452612916, 53.409547624668804, 109.17748485760363, 162.4055668302308, 216.32321354876126, 269.5158623124944, 54.2585357994732, 109.43577173023237, 162.85581024177802, 220.8818101415196, 275.8283485868639, 54.05983942223564, 112.22889083049513, 165.85726969272847, 221.89062043518956, 278.7151310361065, 56.32996628527958, 112.68714467889073, 169.94113596122278, 224.73099896130745, 282.378767058911, 57.0941534008868, 116.61228347454828, 173.72869479823945, 232.0789728663042, 290.27107617332206, 58.875951224099126, 119.65373331787318, 175.83187822380057, 234.96232772275056, 294.88339405538113, 57.430635153381886, 118.33689560702747, 179.10194166443137, 240.24547362819536, 299.2008599997767, 61.62025280888012, 123.91318064223888, 182.88833080387715, 244.0929800377402, 307.2372531790602, 61.48155209592198, 124.61175294412868, 185.9712573075479, 248.52949305407847, 310.6184512154516, 62.889313136881626, 125.77868345205412, 187.5280073777114, 252.0163523099595, 313.22463151363615, 63.50326932119666, 128.55084598467872, 194.36508546747402, 257.2415430861087, 322.8409949446297, 65.04541411267354, 129.17561180308493, 194.6112082586331, 259.9635799381851, 325.9459717904615, 66.48560052966508, 130.54608774584727, 197.073949025142, 263.1959275342364, 329.9883553232537, 66.9220192394972, 134.83746007216067, 200.75260218542562, 266.7856286178088, 334.95812371309063, 67.86247098567169, 135.97231720263127, 204.1903550214825, 271.09697482838374, 338.0900647302508, 67.98258286332445, 136.04760906019695, 204.08267239035501, 275.80148709525935, 344.21224210466585, 70.89052814040302, 140.71130236278503, 209.23047648694325, 280.53631514606604, 350.22889639256687, 69.26297402829984, 138.55911582308732, 211.64743225137775, 280.27996027105786, 352.63877161850706, 72.12356257694255, 143.41648430557032, 216.97647520831333, 290.1441454193923, 360.73436338655716, 71.76927297579662, 145.6014301963766, 220.16192517473158, 291.0019613514994, 362.56258987929334, 74.32206194190151, 147.5424303125983, 223.52853815282361, 295.9165957563275, 369.3362635789617, 75.00788717793658, 150.24172925633252, 226.36416142649188, 300.7636403323159, 377.91475862405235, 76.487740495297, 151.82907685073457, 228.2524470376166, 303.57743207818197, 380.06678184197244, 75.6115808703894, 154.160090659203, 232.07872474670626, 308.5058916174655, 385.2650106708013, 77.93844302931369, 156.47162637205219, 235.4354836751231, 312.9666767836424, 389.9901692862477, 76.20970915029113, 157.84864042678618, 234.849625068707, 313.5861085910657, 394.65460859258474, 79.61324904547901, 158.65425491405196, 239.55380495580374, 318.5825116259743, 400.6331717545969, 83.26570486301267, 161.45586928399814, 244.26715051132524, 323.946160647145, 405.40971043996683, 80.03274507429516, 162.6858278529437, 242.27980586342142, 325.19880873571793, 409.2254954733103, 83.85905053706554, 166.730036652806, 248.2111234645884, 331.66727965675557, 414.5487355666435, 85.03728440735291, 168.82079968004226, 253.06903186616947, 335.62231411924154, 420.679372133143, 85.71107643397504, 168.5319953088861, 255.93622580135425, 339.32585728172967, 423.5688469149371, 86.35295992531202, 174.72786067279873, 259.24354544977245, 345.2780169667811, 430.9762225158562, 87.05034682373002, 173.19369944001863, 260.4335294130398, 347.6641022200724, 436.5494756835588, 87.6670989522363, 174.18831155859098, 263.20387785657437, 352.16098836966694, 438.66065297358676, 87.85471371769923, 174.6918472172735, 266.54202437152895, 353.85096057092545, 444.95986849458944, 91.15691875840352, 180.89070271902264, 270.0977253507624, 360.5032848848019, 452.25539586714507, 90.10645796405834, 182.81061989912791, 275.1175118450407, 364.4020889617251, 457.1498489640007, 91.4664041131318, 184.1399601823194, 276.8709708466397, 367.6789513269743, 461.1512380854452, 92.03883341127774, 186.57567196448753, 277.44772215788134, 372.52679025464045, 465.5090407358613, 91.47116205817406, 185.61949175343216, 281.060152310948, 373.30898780295104, 467.2912423661333, 93.92587478285103, 188.45374297855903, 283.610307282731, 378.7738034320541, 474.28117782501437, 96.61879659564613, 194.3893194249896, 286.48638319481415, 384.16533979223294, 478.87591268113846, 97.36420015320193, 195.72006567579467, 291.37165592157817, 388.4532108928387, 485.7768810259211, 97.10129172459952, 196.17624528695, 294.232199999827, 392.45875517266944, 490.6933832968655, 98.3566155732888, 196.32274859601387, 295.43337777830493, 396.09638729322495, 493.96234536286187, 99.73111994000556, 199.5761677786873, 299.61280420913357, 398.8105073651956, 501.9403832823098, 99.87066673313089, 200.88044237850607, 302.60090708163705, 403.8111364395624, 505.12402826957754, 102.85856647321623, 203.23318334312802, 304.68767620353856, 407.92675902954227, 509.7857418020832, 103.56415325954211, 205.01899695630024, 307.2092936290837, 411.2994695630339, 514.8436101099203, 105.50117866661641, 209.44134866108004, 315.04439826791565, 417.8095837009475, 523.5050971822327, 103.70536197395981, 209.7662956929095, 312.24960786576037, 418.72365350492134, 521.6679154296597, 106.85976461690699, 212.84057968268488, 319.70958279429686, 424.5030972969085, 530.043050602691, 105.69223607241467, 214.39892035188623, 322.7182391279938, 429.3270267171695, 536.6526464253559, 105.77326386935592, 215.14409094538794, 324.02442450721855, 429.97046478709973, 539.0774337453502, 106.5068716237424, 214.92083991444989, 322.9927512315545, 435.10241605256607, 542.1754298707075, 110.06711789856817, 219.35444476487044, 329.4179771076015, 441.41521313722575, 550.3654283355562, 111.44729569156542, 223.0315174147719, 334.9089060016732, 442.5458467893278, 555.8553760358654, 111.70140064089108, 222.44029525594024, 333.4283824684451, 449.74345594422994, 558.5499631759261, 113.4371458635581, 226.40915163928585, 339.06898132652583, 451.0748375393622, 565.5672418979118, 113.36856030020255, 226.83350134685003, 340.81625371537126, 454.0796194403919, 568.4611705805177, 113.92124695399951, 228.45268442360077, 343.2600195337583, 458.5543579914051, 572.6920593934592, 115.71579504572082, 231.41265496311908, 346.8512007233668, 462.41444597830264, 578.3652475292771, 116.82662142624238, 231.88838005367, 350.10316635950124, 468.50388964553605, 584.8731701127202, 121.0611825790644, 239.73131299368137, 357.0572275363445, 473.26194568101505, 590.605446826197, 120.01058005682377, 238.07489605404507, 359.33813077859935, 476.8056519581094, 596.2921509558741, 119.24674630725669, 239.46610619658952, 358.28342084122386, 477.68937193637015, 600.4900118103134, 118.49767668894756, 239.7360268114411, 360.75239833569583, 480.072972184867, 602.2070516195389, 120.59172087823731, 243.35071016929376, 363.9793382245562, 485.8402285066003, 606.9257212973613, 120.96716714727162, 247.0866920987168, 369.8260606541069, 492.83244139816554, 612.8506418306266, 124.40869579382364, 246.69968867367754, 372.03975500033334, 496.57355593601727, 619.2299627215065, 124.92204633820755, 250.61381535780572, 372.8165859130051, 498.96143354241514, 623.287284827114, 125.48478981037563, 252.7451297454068, 378.1581328358186, 504.6830049707982, 630.7511237214911, 127.44398037910308, 253.9235164498776, 382.4407749594863, 510.8169024652115, 635.3572669485094, 127.97564800219439, 255.40727622913744, 384.2058270079469, 510.68870238018417, 639.1659746650315, 130.18825985728026, 255.91119664037936, 386.54160843341833, 514.0219374172739, 642.806224308738, 130.86848487833169, 261.1617566770928, 392.5556971217581, 521.3787805262707, 650.8735133176475, 130.06540583855354, 262.53728710379715, 390.9785133160466, 526.2343828640769, 657.5124422798696, 132.82288329086123, 262.79821626657923, 394.7032592598826, 527.9504834862458, 660.0427140407159, 132.32656265595503, 265.07041518937086, 400.30369578788674, 530.7620201165437, 664.6399022319838, 131.13473174822158, 265.82915726811285, 400.49728278390694, 534.1166872731925, 667.9366200723244, 135.63413578314322, 272.31042837141484, 407.48002611085565, 540.5644734397862, 674.1074620191761, 137.29087071563163, 272.6223123361739, 409.49267423892024, 545.8877372952633, 681.6395134520618, 134.9428738252815, 273.93461231167873, 412.2161794235443, 547.4957685591812, 684.5794694015369, 139.03908575023013, 276.8635384829396, 413.99851739493096, 554.0950501522375, 689.9995033910691, 137.59192195255272, 278.42255211433786, 417.28109291639845, 554.6766472674346, 694.3286108814946, 141.73024765606004, 280.97688453688403, 420.4849278106555, 558.3847948346917, 701.6935841607487, 142.58077441562656, 281.51619181434245, 424.77354284568514, 566.2238400075942, 704.9764227678004, 144.1214655790028, 285.11183260698203, 426.3511556846474, 569.2454416690426, 710.5829311494228, 144.6896643510477, 287.00921385346584, 430.17125798768336, 572.305274911091, 716.9335289345221, 146.06384058384816, 290.15905130460635, 434.56553957442975, 579.0531120532936, 720.2693830884333, 145.10385429662875, 290.38498892402345, 435.40306624039897, 578.8502159915963, 724.8902135001609, 146.27585381936092, 292.57565055928427, 438.69178779979575, 582.4272204052396, 729.7508339472519, 145.6985811143121, 293.1346728225474, 440.5865760761164, 587.2750814730805, 734.9589776084191, 144.10872611974494, 295.42941276854145, 440.746822097491, 589.4827495127591, 738.4237114882964, 149.31638305007345, 297.7335281083223, 445.89493580124207, 596.347408348629, 744.4318209433628, 150.24739913754743, 298.48332168857, 447.8508642151824, 600.1648971984802, 747.3438609908039, 149.46060306686385, 301.72939474897913, 452.7293149705339, 602.7094528190673, 754.4178694190391, 151.22241389023682, 306.61803835570004, 456.7384486942265, 609.8117140135935, 760.125093913587, 150.25892127206495, 307.63234550759194, 457.7123080728252, 612.7992470776005, 763.7315354423835, 155.24112865600372, 307.8853894136782, 464.6834677776082, 618.3299250253102, 770.9087408295487, 154.95702039601014, 309.9258227456994, 464.02500175702966, 618.8135803028703, 776.0786823341817, 157.84668055701607, 313.7855903207036, 470.29815872440463, 627.083104754221, 782.3409893032821, 156.5439303087405, 314.4072408380988, 472.0492979116018, 630.8543239157793, 786.5103949601083, 153.38056440719996, 314.8228868879144, 473.0026848513605, 629.6454500840445, 785.9465646458519, 159.01607784297974, 316.6936455421995, 477.0803052561592, 636.3641132200459, 796.8213195911441, 161.14982668394362, 321.01746928654734, 480.6246194515364, 641.6937062257643, 800.7490534709007, 159.7970440629931, 320.890758684183, 484.56699622707384, 643.5145937204395, 805.2130983466203, 161.63305610837858, 324.3081185858815, 488.03163159137176, 648.991390437478, 810.5979084096359, 164.5309580043812, 325.46419761049896, 490.25627932555767, 654.0169274217099, 816.2751472291013, 162.10201366228026, 326.4853383849264, 490.0724687874663, 653.8582078825428, 818.3660202782559, 165.01774440068075, 330.08284034505533, 494.2011118853469, 659.2144972493151, 821.7490183317711, 165.43768652118433, 332.41293296617346, 497.10038628715387, 663.8993889098226, 828.7866045656136, 169.03322333127613, 335.22282518023684, 502.78996871651935, 670.5797320396131, 835.3423318202756, 167.82809032897225, 336.1058825225217, 503.44644197877693, 673.0165315553082, 840.0557122660667, 169.7423213165237, 337.4734675256286, 505.2623981538552, 675.1106179148111, 845.9874651215174, 167.51914080525944, 338.33136985816765, 507.6848629934046, 677.606976632666, 847.9854094483313, 170.59388029166558, 340.804310263952, 513.4847923149385, 683.0137490353741, 856.1498136220775, 169.6116518056379, 343.43711515948786, 515.9762257207408, 685.595228709729, 858.3691451234895, 173.6536656800706, 347.5653124302211, 519.5445136297308, 692.9841257040299, 866.0255513018826, 175.24034931232552, 349.0760291629105, 522.1305317209391, 697.0127548039004, 871.4048565118192, 174.05959557159454, 349.4831173058103, 524.9312066551051, 698.4465913672699, 874.9019952577136, 172.33490264060288, 350.89713355031967, 529.2281871600258, 702.4175748499645, 878.6097443579537, 175.39330528111063, 352.6383957504527, 530.7008410770658, 705.2722156245273, 881.8565345625866, 178.11952808901418, 356.605058557116, 535.5667291583696, 711.7971113963184, 889.657365559798, 179.56301546637064, 357.5837447395101, 535.8901759262227, 715.6879083703387, 894.8558867949338, 179.93398247811447, 358.8815789729935, 537.9084888893677, 717.9907511718891, 898.4547674482787, 180.6268697955626, 363.83292576362305, 543.4880635077755, 724.3972462044024, 906.092970848883, 182.45051503489628, 362.8102000439388, 545.0643430541611, 725.8005864480276, 909.5900693045796, 182.66539075355814, 365.27835114898653, 548.468783806802, 732.370248128004, 916.6517079277606, 183.0393777904795, 367.31021700267814, 550.787927857269, 736.708465782993, 919.8047660319683, 182.60259757663422, 369.4110884951001, 553.6712610152314, 738.3025616368624, 922.2415592080928, 185.4608547213095, 371.1138681057527, 555.4799295065628, 743.9117488602474, 928.4210124534985, 187.32409350657315, 372.7094915844738, 560.5997534069026, 747.3492231649229, 933.3963487538797, 188.09599621843918, 374.40082583762324, 562.4580393251831, 750.5065707836457, 939.7808097071621, 189.39021405288238, 377.6725679264738, 566.9080447778942, 756.5906341996118, 944.8875390521882, 189.11671100659157, 378.40778510330813, 567.6353773282489, 760.1641957074902, 949.5200078413246, 191.86147642215928, 382.4783444215322, 571.7470010577748, 763.9868759284872, 955.2279084442747, 191.38467741492317, 382.6297190358263, 574.9000818416205, 766.6605548801238, 961.18941244581, 191.53161917145502, 385.7338934018512, 578.5656289735649, 769.8794226932198, 964.953688010437, 192.0533566028715, 386.6482326032169, 580.6162596370408, 773.4392602965904, 967.5673613726912, 197.6897178819328, 390.38040973549386, 586.5543735565011, 781.2540754542784, 975.4709083449038, 196.49578535029195, 390.5409880516167, 589.592221073213, 784.6205540856015, 980.8689010430686, 197.230372225236, 392.6407967678369, 588.8425893246223, 785.3091620176968, 983.893339902974, 197.85282749293407, 396.0372846398386, 594.7550417825697, 792.9123240961445, 989.5625702364312, 200.29933133258098, 399.5330318937, 596.949855826327, 797.6239623487685, 995.6212014044081, 199.2025335242348, 397.99829315459516, 601.3741773170085, 800.0264596264599, 1000.5671306190179], \"showlegend\": true, \"type\": \"histogram2dcontour\", \"contours\": {\"coloring\": \"heatmap\"}}, {\"marker\": {\"opacity\": 0.3, \"color\": \"white\", \"size\": 3}, \"y\": [5.969861639596034, 12.287004132381272, 12.981629156247811, 13.41888549106045, 16.557947097644917, 10.174300534991492, 18.316813259917357, 26.47042869137194, 34.62418445974428, 35.27659437474096, 13.940210650484655, 21.007061567121568, 28.704136176506367, 38.96421561924343, 48.11228561466974, 11.395917632410576, 23.432985258116787, 38.11237128648931, 46.97367870076315, 59.930815654281986, 22.58115048161612, 32.82093527579562, 50.609733479022225, 66.32925816785666, 80.73685348903821, 23.541715582138952, 34.8597434096192, 57.461897373223245, 74.32937048962572, 97.25465424565967, 28.302012253419193, 48.75646260351411, 70.25185625536274, 89.46088856126332, 107.65640646840073, 15.133376711225793, 43.5265243225478, 65.31195662221612, 93.89960411954839, 115.01837077712011, 32.498046934385464, 61.118797094443565, 85.66590621502256, 110.45272015037006, 142.00214740428763, 35.7326826599627, 65.0895808355613, 95.87149294977804, 125.29410969506064, 153.04480002447252, 35.19384740725434, 69.6935991074141, 103.05320428272513, 137.5051871790563, 172.47622071645878, 43.046287247460384, 78.56473735478723, 114.33279091735572, 149.2981518505778, 186.36761639370386, 46.144805047435824, 83.601458627665, 127.12448773480007, 161.35074064413897, 199.81871613008727, 49.47374284416518, 89.66921431194818, 134.87966734334108, 178.12195861340314, 220.09993407394555, 49.4861567371501, 93.09256767598617, 142.08823228001526, 182.84322906471033, 231.71055384771358, 51.61587560187701, 97.30757401551749, 142.30266843553215, 196.5382935712881, 238.21998054590173, 57.43552268813844, 108.39936602771766, 161.58346719982515, 212.32717014362, 260.87319208657135, 57.755607283320025, 108.249947701078, 160.35738063212185, 218.72622438430193, 272.8564511390415, 62.12027781291013, 122.29409569446392, 172.2178355576943, 232.6586465857734, 292.60249584745594, 64.09820449603114, 124.86867479670074, 188.43864256504474, 247.43371002602166, 309.2805188179099, 65.25098956335832, 125.94755598430666, 189.11467688173698, 253.8775393538799, 317.8648346972015, 65.1930199158002, 131.48797997335703, 199.05823570066826, 262.91911624792056, 325.39692677957373, 72.08146538097786, 137.54793164320142, 204.34980306688303, 274.33126841338003, 345.0668153602803, 76.1740143460788, 146.03299663859724, 220.1740177535089, 290.33978139151884, 364.13302783798787, 84.5347233155509, 155.92319038773888, 231.05157176224898, 303.7028543357874, 378.67026993575206, 83.91226842280804, 161.42481636757017, 239.67087406918043, 316.41891476948086, 398.0498929091005, 85.12192028914511, 173.04154646170815, 244.80292667685413, 325.955894072914, 408.4939472727646, 88.0964169306045, 172.80750225544654, 254.87529731079707, 344.5810177809204, 424.7182352671847, 84.67991967170435, 175.1808454442446, 264.22162008534815, 347.24915324010544, 436.4394510694155, 87.33872617343278, 177.6832325798846, 267.85704844066584, 361.6195035223018, 445.7028395922198, 94.80429734253977, 191.9271927286636, 279.2322662114841, 373.2644115529956, 464.79485238451554, 97.07266895821456, 193.62650131837032, 291.3634355113239, 381.565252632123, 481.8566929367645, 100.78883252425462, 200.34709646989842, 298.1495428377811, 397.69483956806835, 496.61542071259305, 105.45868500361127, 208.49554431857027, 309.49405309426743, 412.39757025393544, 515.6632477545913, 106.04470420095336, 207.3023305565123, 315.5195504511105, 417.1995424937286, 524.2807571267836, 114.07278603742046, 218.9658486249177, 328.6480968566269, 433.80818391101207, 544.0017257710614, 114.30552995020207, 228.26492035682213, 333.74809002862384, 445.11726239024136, 556.0063771956006, 108.94671322556813, 225.6682852904461, 341.17119276685037, 455.18678819872133, 567.2011453582571, 115.49147270292954, 238.93716061602916, 352.3577863158787, 470.7879615219874, 588.068023996677, 118.47919300449676, 240.88940035219096, 360.4501358752208, 480.52666934478475, 595.9152330235559, 127.09144412031445, 252.18468469468436, 371.7612917779189, 498.18743727922396, 618.2690475417901, 125.94090308015524, 253.11790223517406, 380.17317661045394, 500.9345842076636, 630.7408475844919, 127.8165310192344, 259.62643759808503, 390.45782221177853, 522.1931118293742, 645.2919273310125, 138.38481724411477, 262.87221827502714, 400.0867039411788, 529.5537704882462, 664.8080666368646, 138.1019550569093, 273.0230710249502, 406.2688786366209, 540.0774798623942, 676.6149675549514, 142.70582514088414, 281.4211126826927, 412.8979645334112, 556.5079330772145, 689.7431640522382, 144.7696241906984, 286.6061883938778, 421.5898655362223, 568.4522743875715, 704.8024472174279, 148.0980130658487, 289.6937897143615, 434.1750014169128, 579.6721387745243, 721.4402308025847, 152.62327761020197, 296.09894126619304, 447.87377376112545, 592.6695531298286, 739.4054801992203, 153.77776969214233, 300.4790685753165, 451.24873299935587, 602.3404506881602, 750.215143385571, 155.02754947090966, 311.0291448300639, 462.8622804508289, 613.1033463645085, 772.2872370648579, 160.11073988379894, 314.66005601908046, 473.08295123282323, 630.5914263188633, 782.5803592291044, 163.68101601110823, 319.84931967023533, 487.59613611142, 643.74124149132, 803.3526891714788, 163.31142622771443, 331.365315881613, 491.41346885851067, 652.3033830586601, 813.4383999775694, 165.3529270780723, 331.68959546105947, 493.3574558748613, 663.7654282948612, 828.8116090951647, 166.23156704365545, 337.5784407745882, 500.898508359879, 669.6515351922283, 839.3618442887895, 173.37698011882728, 340.8696995089245, 514.0584994289158, 678.7008686611148, 850.8391971647615, 174.29328068287765, 351.77234266465535, 523.2313013573034, 698.6939302468295, 873.9395548669078, 181.6672365415553, 361.58643060117174, 532.0255983757373, 708.0876220849813, 886.2262137381697, 177.79920123670726, 358.55102286100447, 541.2655341520197, 724.7184264899753, 900.4956083660672, 190.5196383243815, 374.0092028329942, 553.46425961631, 736.4269371092548, 923.4863183037675, 186.29942527166043, 376.8468273897218, 561.3330667698438, 747.8149194010845, 934.0033016821434, 191.7105393223404, 380.5466631974414, 565.3427306699421, 758.785677015513, 943.4381059660457, 195.60456840468436, 388.96197780679574, 584.3335241539703, 773.7245396440089, 970.1857437603256, 197.8221059256275, 393.07244925685364, 588.2007216259252, 782.3199791277546, 980.0820952131589, 202.38565342919298, 396.59199274379466, 594.790191354938, 794.5472528978515, 992.0124263605087, 203.37903956943666, 407.44610970750995, 605.2479586963168, 803.7419321173727, 1007.6647593153116, 207.77862933536755, 410.11720596741634, 614.0745156592241, 816.9688198331069, 1017.9565272312535, 205.9170701143018, 411.3320580528766, 615.8688782713486, 828.6850181714703, 1034.9556064294234, 214.599205719631, 425.100043107158, 631.1723801339749, 843.8874032774481, 1054.7988447363366, 211.5135918406537, 419.57400045078003, 638.3310874001896, 845.3093870641745, 1061.9226284452163, 220.4224651147449, 434.94279237542617, 653.7873703890633, 870.5110472017824, 1085.462359461129, 218.98224058547058, 441.06206904182017, 660.1287564512501, 876.2893409538232, 1092.3381150149555, 226.39655247002293, 448.6571979517767, 672.8243478661896, 890.8542616939022, 1113.9660688100205, 229.77770387225647, 455.6322951865366, 681.8876440417135, 903.3748133597387, 1133.9705160860872, 229.62425886320972, 457.2875299319207, 684.9772897976662, 912.6203997254464, 1141.5286421271421, 232.23797816769175, 465.6765574216146, 696.7544662181411, 928.4639066634688, 1158.8382508232532, 238.94680728786153, 471.9294907274654, 707.1462732024856, 941.3424719998662, 1173.873988477711, 233.65406573179152, 477.2449559521357, 709.9741748652361, 945.698698004977, 1187.6024433777995, 243.3838278974088, 479.87446025489277, 722.8852329744127, 959.3603006020245, 1203.9867569276278, 250.3386213971039, 488.38037445838796, 734.688503943467, 975.5830597861972, 1218.8637740937706, 244.07282764752088, 490.01602690332226, 731.8108604359494, 981.6358285065705, 1230.4578808547594, 253.96846305003066, 500.89952733088444, 748.2853679385906, 996.610176863683, 1245.1514549016863, 258.1416828597246, 510.17744947585237, 761.6040745223733, 1010.2558927840731, 1264.4609629315166, 260.7018223718314, 509.5979108522366, 769.9423088326779, 1022.533099425854, 1275.281785288674, 263.06685322991814, 526.8327892108641, 781.3304112789993, 1039.3189042705544, 1296.119781639541, 265.7638011240737, 524.3438195562798, 786.8641424710273, 1046.2992543946793, 1313.219574583894, 264.0514569181113, 528.1920593463279, 792.2118986907453, 1058.0264978953837, 1319.9488464582812, 265.8594893018969, 530.1380553671949, 800.3674990052302, 1064.6504321652535, 1335.5864771927495, 274.21046597069585, 545.3803169785341, 813.4260338087723, 1084.9672135162434, 1358.3569780486905, 275.31551856876786, 549.6820708743519, 826.4009252997594, 1096.181374231849, 1373.487088388755, 279.279295424531, 555.7792574111974, 835.7783997837054, 1108.5695577137228, 1382.817599623976, 280.4954804679977, 562.3103979442167, 836.3706174145916, 1120.8392938656575, 1400.3575929186188, 276.35692752780534, 559.663668554643, 846.8718913476921, 1122.709752978998, 1405.9705719052051, 284.22321133909037, 567.4421403978913, 853.6441825419145, 1140.2327629788451, 1425.66603430839, 291.9021992118233, 582.599512632816, 863.3640770923076, 1154.872226999755, 1439.6797855015366, 295.6336840331829, 587.6699419767617, 878.6075634110697, 1168.245286826348, 1461.5843273975195, 293.77697914909857, 592.5613901895189, 884.9071376342849, 1181.6154945217745, 1473.659424998673, 297.68893907027245, 591.8929614895159, 890.2531020099149, 1189.239379003775, 1483.5893031138412, 301.6943067491009, 600.7726660701633, 903.5675669540543, 1200.863869147583, 1506.603196252594, 301.74529536484937, 605.8177738827139, 909.9481521783946, 1214.6032637130918, 1519.078990048068, 309.2210979805507, 613.637147837428, 917.231067922709, 1226.6436281899098, 1530.795077640399, 310.2652442691906, 618.3775684889558, 926.7046860506348, 1236.6917823140852, 1546.4710089346677, 319.3741403284733, 630.8435619301229, 947.1004924641004, 1258.8459776356897, 1572.1321767502402, 313.7357924418527, 628.6385499771872, 940.258209778457, 1256.8203320315831, 1569.723374831784, 322.5989458135543, 641.8935243775143, 960.9189231855189, 1275.630330288138, 1595.7385726811078, 321.70958400766295, 646.0677370067712, 971.6255049230491, 1290.8877126894956, 1613.6229379453875, 322.50091116418196, 647.8595148440344, 975.1945773803131, 1293.7157405129844, 1619.731164203952, 322.39299602710855, 647.6541000580979, 973.0373039889387, 1308.5699678429523, 1630.5035907177366, 332.906499029529, 661.2551471509889, 991.7913424902572, 1325.3061103042692, 1652.9775577766673, 338.61280104947144, 671.6884703566835, 1004.579509587676, 1331.461791800693, 1671.1949874527775, 339.8495887369042, 671.0173740030629, 1005.8759767817506, 1351.076140382449, 1680.8348273258553, 343.43742872365254, 680.9783750850617, 1023.0369447906592, 1358.103197950448, 1698.7821197223047, 342.0861581873132, 683.7940008523099, 1025.510678125034, 1366.3083884769562, 1708.6393209018859, 342.06870814136676, 688.7230073329115, 1031.8756310316533, 1377.0711656515857, 1721.1458435696175, 349.9726140663916, 697.1637039036233, 1044.1277820943842, 1389.7738433205895, 1737.4931050409552, 350.71482267991826, 698.81291074073, 1053.3137418459958, 1407.048679545274, 1756.7591174844456, 366.04392993990837, 718.716699341559, 1074.7736907051144, 1422.9379503611522, 1773.4005318560382, 363.91466954542267, 718.6244681023201, 1080.2101211654906, 1433.221736078963, 1790.906275613303, 360.5945078400396, 722.3089395952383, 1079.9522004399116, 1437.8660806787957, 1803.1786752610722, 357.75911243891125, 721.6467515357922, 1085.9879959755237, 1444.6089584668312, 1810.178262517318, 364.0988327049076, 732.8721704220898, 1097.6087468868348, 1460.1301174075984, 1825.7351421427477, 369.61539619688773, 743.1956095277797, 1110.9550727772857, 1480.8493891330704, 1843.0727000044944, 376.08078077911296, 744.6452666902921, 1118.9338005529848, 1493.0709127181576, 1860.7501463921787, 375.6233187420095, 754.6747830892236, 1121.305769096289, 1500.8275586975997, 1873.3397524505242, 379.7211172630547, 762.1785356213951, 1138.237945375482, 1517.1542122728188, 1897.0508419388536, 385.06839098529497, 763.6567358766936, 1149.3168770644452, 1532.5266173284833, 1910.6520619219116, 386.20303926046836, 770.4929686392109, 1154.4196719947295, 1536.3632671108628, 1921.2884175701088, 391.1738369407862, 772.1566925107455, 1162.3977832137605, 1544.820307166855, 1929.9516113437778, 396.0501354284079, 784.5783579983698, 1178.6010916254545, 1567.01527727922, 1956.2532453344354, 393.7131180832585, 790.0976837552321, 1177.0574191613077, 1581.094431355597, 1972.1392323496098, 400.42829086689744, 792.4241501896358, 1186.6733323071978, 1586.7384160349127, 1981.816694814442, 401.52337070299745, 798.165056081729, 1202.0806974010986, 1595.5713763695276, 1998.0589695955284, 395.4455250307785, 799.2022880263024, 1204.6235753489493, 1606.2145370040614, 2006.0456902990627, 411.723563492159, 818.9907263043376, 1224.9404138252842, 1624.9385536875932, 2027.3416851098748, 415.26910484225345, 820.6692264714708, 1230.3256329260082, 1641.346368902033, 2048.6861894013796, 410.1301329297034, 825.3540017748373, 1238.3485505616018, 1647.1193625310866, 2056.4808291012037, 418.2902184121016, 831.9818906513825, 1245.5367081490285, 1663.1166687430127, 2071.9068313199155, 415.53295335581294, 836.4671305442582, 1255.597302627212, 1666.370645506272, 2084.9326310782853, 425.2546356665682, 844.3258465510663, 1262.819482068426, 1680.2622973679904, 2104.4800332727878, 428.4412892676336, 847.9886100113588, 1278.415002216153, 1698.3621754599665, 2117.5485384097174, 433.7588357065538, 857.2008722312258, 1282.39711286119, 1710.0173674402968, 2135.3132946666587, 437.1025684138832, 863.852536182437, 1294.962345664075, 1718.6676578668005, 2153.34303394553, 440.86478638988024, 872.0581416744476, 1304.757892076468, 1737.2645582826754, 2164.7696016976265, 439.13026132332544, 875.1463307623108, 1307.205871948961, 1741.0096930030752, 2177.669779089186, 439.7219895068805, 879.8427968016648, 1317.3154516041718, 1749.3669973193173, 2192.6856257019735, 439.5629260378359, 882.7855063023172, 1324.0355425631426, 1764.2029109215853, 2208.166505055885, 439.05388638764117, 889.4843583238492, 1328.7791286842132, 1769.1468999108515, 2218.761455176209, 450.6938276838971, 897.3373684015908, 1342.830598814367, 1792.207481042209, 2237.024010049112, 453.3282826159501, 899.5344964368728, 1348.8455480976643, 1803.3909091997484, 2246.4140488993335, 453.7592044242479, 906.635511451749, 1362.065917689434, 1810.56426717501, 2266.2794645291456, 458.1813661393374, 922.5806975158322, 1371.287918299496, 1832.664048300509, 2284.348185627576, 456.291991726222, 923.5619681198058, 1378.4312457750839, 1842.362868720688, 2293.260453096989, 468.04719588282626, 928.4689210234021, 1396.1701812759734, 1857.7385376747252, 2317.093326984672, 468.4190354337156, 932.25399019148, 1395.3580885603099, 1859.869033735368, 2330.0739966578562, 476.194676400372, 943.5023708116828, 1415.5137317628703, 1882.912505718387, 2346.536129776949, 474.9132538542036, 947.4005167208823, 1417.5431185841915, 1892.184459009257, 2363.1236150413897, 464.00791262746776, 945.8705134457866, 1421.6074981277732, 1894.4042561454569, 2362.586385578425, 479.9223312327493, 955.8651894281832, 1435.340980143736, 1911.8974923115506, 2392.002842575867, 484.896702851424, 965.9220517969036, 1444.9766688581115, 1927.3721861060606, 2406.3899848439346, 485.52878997616557, 966.4749190595145, 1455.4525265868222, 1934.7063140881073, 2417.4062483749935, 489.329889860712, 975.6873197870134, 1465.9909093750346, 1948.2446018306862, 2434.6987545982365, 497.4248576501868, 980.1728840555913, 1472.7518996722931, 1961.6517281589809, 2452.106248166135, 490.7456631193336, 983.7565846082892, 1474.6631533640993, 1964.4358391776584, 2458.409014279626, 498.10736787683555, 991.8776212697121, 1484.7660954492446, 1979.380908715544, 2471.7347911665474, 499.2132175106207, 998.8542219972135, 1496.1769908659373, 1992.2329810488832, 2490.244746940993, 509.39841841141276, 1009.0086930375197, 1509.8415167922597, 2014.5054821030847, 2512.5224499007586, 508.03860058901614, 1009.9338620702983, 1515.2232034372482, 2020.9148394820968, 2522.9567961273606, 512.1255877275844, 1017.2379467518314, 1518.6703085025406, 2030.2948623829811, 2539.8266747640505, 506.0135782057672, 1018.6431388671673, 1524.8237305915857, 2037.4098633821682, 2547.56190998708, 513.1709417851372, 1026.3788348947505, 1543.1225165983274, 2053.351808805889, 2570.874210503574, 513.2915084831997, 1033.7171476788983, 1550.0132162088933, 2061.17233055064, 2578.9758461585297, 525.7741706854601, 1046.4021292000084, 1561.0375592055625, 2082.205110774221, 2601.098097554744, 528.1690926316426, 1049.8848296908589, 1569.475059086332, 2094.414973700771, 2617.3685018496412, 526.0356795953011, 1052.427170421741, 1578.19097352699, 2099.9748352191295, 2626.9098475915207, 522.0624175356268, 1056.1769607250922, 1588.863183446288, 2108.864646790843, 2639.2140345553075, 530.7683063387278, 1060.2773101769842, 1592.267771354593, 2118.5423199882594, 2650.931814331546, 536.9485890128061, 1072.8099886622904, 1607.8722565897344, 2138.4247051857164, 2673.3114226977714, 541.334295833584, 1073.8302339044424, 1611.8387709912352, 2149.813157898453, 2686.13367721857, 541.4865521255974, 1079.721812981568, 1617.1881411270022, 2156.0436322628107, 2698.522913811818, 547.8342413787926, 1093.6020537048762, 1634.0221958727006, 2177.312652711449, 2721.5371573773496, 550.0075060680186, 1090.7925953145066, 1636.5600445510277, 2181.6328296579277, 2729.261187234926, 552.1767289516143, 1098.0022800486781, 1648.2693319107714, 2201.061636705005, 2752.2047893698773, 554.1230367525737, 1104.6302940580997, 1657.5171478670886, 2212.267375159333, 2763.144504362088, 553.2069496434342, 1109.5834870227352, 1664.4785612713802, 2218.5831471475085, 2772.15659161477, 558.8664130583496, 1115.642370386636, 1669.2858709233083, 2233.8348030833126, 2789.2121223496088, 563.523597725834, 1121.214529961543, 1685.3400395886417, 2242.6516105420237, 2805.173158955417, 565.9049312824252, 1127.2004423589299, 1689.7080086289625, 2253.7344426512323, 2822.2306111851995, 573.6856137838242, 1137.0987164075882, 1703.113603263318, 2273.655735587317, 2839.035511941407, 569.3173302748941, 1140.249719211461, 1706.9612697566579, 2282.8075223574087, 2852.7484418213194, 577.0389351169144, 1149.4767841983191, 1717.5696215612745, 2294.9355138759956, 2867.607684776664, 577.3546514022615, 1152.2607025201125, 1728.5181762706466, 2305.1710300008904, 2884.919899916422, 577.6820613182205, 1160.3584319722454, 1738.122090622123, 2314.3218155793384, 2897.102412156754, 577.999846857178, 1161.756169240538, 1745.562146655009, 2324.9472860508886, 2906.722649857568, 593.1698022406231, 1175.4866215102013, 1762.9390162231482, 2346.523592455521, 2931.8710100874446, 591.7647089538026, 1176.8520183314881, 1770.8964519009817, 2355.6834183052706, 2944.4030404118184, 595.033089069664, 1180.544438516928, 1771.4354507138853, 2360.436391319637, 2956.088479990265, 596.2920894828777, 1190.372887300829, 1786.7915836005113, 2380.1411441056985, 2971.141300880891, 604.0408881646453, 1200.9247917086789, 1793.3879963311888, 2395.123015225937, 2990.3958101565554, 600.7100873787891, 1198.1179836536053, 1806.8387691214348, 2403.2521894666297, 3003.4511114346938], \"type\": \"scatter\", \"mode\": \"markers\", \"x\": [1.1570640961496028, 3.212726981825387, 3.113885778954092, 3.5916503376282227, 4.661651262763611, 2.572004794378651, 4.618204097641594, 7.554837130636441, 11.122987183473125, 10.525087275049017, 3.4833904183533044, 6.210828377992823, 9.475259659419315, 11.62929839222212, 14.874509402934406, 2.785490522238592, 6.519393095079134, 11.943327840252199, 14.626241158899663, 19.046306817125686, 6.647040972114688, 10.040645218164963, 16.2445126617434, 21.920070586283252, 25.256369754988047, 6.682414247589132, 10.682722336405245, 17.93751173879408, 23.583677346069667, 32.423007547294354, 7.907753878960653, 14.810120224485159, 22.14970088424335, 29.54138106854213, 35.02564048549467, 3.3789488580835485, 13.37001134253596, 20.802722679130294, 31.02414542197218, 37.24775799513441, 10.215874324008233, 19.695310742841645, 28.45373043324721, 35.39606886809717, 46.844713261708534, 11.72266555996743, 21.169296650528906, 31.358378825676418, 41.488610680963454, 50.19451687111676, 10.9755032668804, 21.15526639355523, 34.00463222118319, 45.199320214955456, 56.69579480140003, 13.795384446591566, 24.768818955653746, 37.01106827882831, 48.81552667954997, 61.34241728768976, 14.812283652434395, 26.5336555998087, 40.85133444981428, 53.48586080598804, 65.63682741099349, 15.471669292449816, 28.635422987272353, 44.42520407501951, 58.35962371431939, 72.7419515902793, 15.865171699439118, 30.064002710069214, 46.58758890072309, 58.88759660132505, 76.73049321377317, 16.440558705987304, 31.187098099425363, 46.26922142080509, 65.06234361299217, 78.4341296322237, 18.161130193453385, 34.86587395301124, 53.49009412657024, 69.89781144840087, 85.59653183770871, 18.706146888890686, 34.84403523351921, 52.524025428850514, 71.89753649720711, 90.27740355153239, 19.940411325962828, 40.19595740992386, 55.79265087023052, 75.88411369355967, 96.80116305837197, 20.358381582877776, 40.88242517527464, 61.61612022394725, 81.7618890116969, 102.05197280329044, 20.786905763784155, 41.55436458417491, 62.19942005249002, 83.11879415143532, 105.1330151913837, 20.850696778235008, 43.48470747314577, 65.52019465157883, 87.26360089005094, 107.04955755396308, 23.31412924585837, 44.4270915149074, 67.47762004185097, 90.18876194629757, 114.91103665497124, 23.32161304838866, 48.201605653772326, 72.39303190362243, 95.38823316984899, 120.24934610889578, 27.968468169008506, 51.07728922554282, 75.76484269466351, 100.13168343910172, 125.24825305875643, 26.46261342831286, 52.83793637186108, 78.81452703369408, 104.81658271777474, 131.91361087413318, 26.989193435278946, 57.950401418733755, 80.89448238626588, 107.25967423837429, 134.50970950649162, 28.317640333639805, 56.95739462669466, 83.68542267159069, 113.69885158051815, 140.13128106733518, 27.15324343607076, 57.68624827599395, 87.50392354777216, 114.76220055499674, 144.54880115154307, 27.750592551965152, 57.99123973089699, 88.92060463654813, 119.69074019960198, 148.22936088077032, 29.507806270611322, 63.04437404441692, 92.02208323024307, 122.40652124725129, 153.38330380915596, 31.18342856580593, 62.69256451092085, 96.19407796211594, 125.84406007163565, 160.3900801992186, 33.383621592833855, 66.25847817467945, 98.6685240950336, 131.8674455298433, 164.36167032959375, 34.482844651578134, 68.36182146220446, 102.39090881662392, 136.98460346040565, 170.93757748945225, 34.71902781323734, 66.96075452186658, 104.60989337074048, 137.05043646764565, 173.171927269976, 37.87000537517527, 71.953921240556, 108.26019800218613, 142.86631007899697, 180.3290747582821, 36.05935690009755, 74.63554882423844, 109.26390843529542, 146.8633934197266, 184.35179126783086, 34.543279873051105, 74.30089245958061, 112.8505109272641, 151.20649614912168, 187.72897404019977, 37.48407594884335, 78.97966232350082, 116.07584921174944, 156.04670382118695, 194.538140355731, 37.68140623187599, 79.61469482596745, 119.01021533320419, 159.48650172323363, 197.07803763891098, 40.73426230868258, 83.04307759659132, 123.5873768081294, 164.89026488906669, 205.04353935939614, 40.741703933185306, 83.17291429208082, 125.36845353821832, 165.204748215308, 208.93754210725055, 41.03848991846039, 85.32824350399342, 128.75021790118376, 173.52639169716755, 214.2097628720237, 45.07927193643106, 85.91139957702723, 132.05559139511163, 176.04156266501369, 221.3413835348914, 45.50359024527798, 89.92889847736055, 134.8057863674591, 179.20662450896006, 224.81843468005238, 47.117492128044645, 92.87952916497797, 136.4257923517049, 184.8851978861368, 228.37322879939936, 47.21969706037456, 94.15965781491755, 139.19451683148841, 188.42999071377943, 233.8101440936694, 48.33700311950038, 95.0846729777023, 143.42344138329935, 191.85064534878705, 239.93745060810312, 50.19755867771705, 96.98300583344461, 147.7731895868487, 195.7151968101357, 245.6562639362253, 50.43626626238966, 99.15471913091929, 149.55223822526295, 200.59149303293955, 249.07186674992806, 50.41429246941913, 102.27301526163697, 153.73479343745967, 203.33403179572434, 256.90014503633716, 52.441227068716174, 103.65492670140169, 156.23360175140786, 209.93604576150008, 259.41491275532064, 53.62222477306955, 105.02966123270303, 161.28371031253346, 214.0786037240108, 267.0431452612916, 53.409547624668804, 109.17748485760363, 162.4055668302308, 216.32321354876126, 269.5158623124944, 54.2585357994732, 109.43577173023237, 162.85581024177802, 220.8818101415196, 275.8283485868639, 54.05983942223564, 112.22889083049513, 165.85726969272847, 221.89062043518956, 278.7151310361065, 56.32996628527958, 112.68714467889073, 169.94113596122278, 224.73099896130745, 282.378767058911, 57.0941534008868, 116.61228347454828, 173.72869479823945, 232.0789728663042, 290.27107617332206, 58.875951224099126, 119.65373331787318, 175.83187822380057, 234.96232772275056, 294.88339405538113, 57.430635153381886, 118.33689560702747, 179.10194166443137, 240.24547362819536, 299.2008599997767, 61.62025280888012, 123.91318064223888, 182.88833080387715, 244.0929800377402, 307.2372531790602, 61.48155209592198, 124.61175294412868, 185.9712573075479, 248.52949305407847, 310.6184512154516, 62.889313136881626, 125.77868345205412, 187.5280073777114, 252.0163523099595, 313.22463151363615, 63.50326932119666, 128.55084598467872, 194.36508546747402, 257.2415430861087, 322.8409949446297, 65.04541411267354, 129.17561180308493, 194.6112082586331, 259.9635799381851, 325.9459717904615, 66.48560052966508, 130.54608774584727, 197.073949025142, 263.1959275342364, 329.9883553232537, 66.9220192394972, 134.83746007216067, 200.75260218542562, 266.7856286178088, 334.95812371309063, 67.86247098567169, 135.97231720263127, 204.1903550214825, 271.09697482838374, 338.0900647302508, 67.98258286332445, 136.04760906019695, 204.08267239035501, 275.80148709525935, 344.21224210466585, 70.89052814040302, 140.71130236278503, 209.23047648694325, 280.53631514606604, 350.22889639256687, 69.26297402829984, 138.55911582308732, 211.64743225137775, 280.27996027105786, 352.63877161850706, 72.12356257694255, 143.41648430557032, 216.97647520831333, 290.1441454193923, 360.73436338655716, 71.76927297579662, 145.6014301963766, 220.16192517473158, 291.0019613514994, 362.56258987929334, 74.32206194190151, 147.5424303125983, 223.52853815282361, 295.9165957563275, 369.3362635789617, 75.00788717793658, 150.24172925633252, 226.36416142649188, 300.7636403323159, 377.91475862405235, 76.487740495297, 151.82907685073457, 228.2524470376166, 303.57743207818197, 380.06678184197244, 75.6115808703894, 154.160090659203, 232.07872474670626, 308.5058916174655, 385.2650106708013, 77.93844302931369, 156.47162637205219, 235.4354836751231, 312.9666767836424, 389.9901692862477, 76.20970915029113, 157.84864042678618, 234.849625068707, 313.5861085910657, 394.65460859258474, 79.61324904547901, 158.65425491405196, 239.55380495580374, 318.5825116259743, 400.6331717545969, 83.26570486301267, 161.45586928399814, 244.26715051132524, 323.946160647145, 405.40971043996683, 80.03274507429516, 162.6858278529437, 242.27980586342142, 325.19880873571793, 409.2254954733103, 83.85905053706554, 166.730036652806, 248.2111234645884, 331.66727965675557, 414.5487355666435, 85.03728440735291, 168.82079968004226, 253.06903186616947, 335.62231411924154, 420.679372133143, 85.71107643397504, 168.5319953088861, 255.93622580135425, 339.32585728172967, 423.5688469149371, 86.35295992531202, 174.72786067279873, 259.24354544977245, 345.2780169667811, 430.9762225158562, 87.05034682373002, 173.19369944001863, 260.4335294130398, 347.6641022200724, 436.5494756835588, 87.6670989522363, 174.18831155859098, 263.20387785657437, 352.16098836966694, 438.66065297358676, 87.85471371769923, 174.6918472172735, 266.54202437152895, 353.85096057092545, 444.95986849458944, 91.15691875840352, 180.89070271902264, 270.0977253507624, 360.5032848848019, 452.25539586714507, 90.10645796405834, 182.81061989912791, 275.1175118450407, 364.4020889617251, 457.1498489640007, 91.4664041131318, 184.1399601823194, 276.8709708466397, 367.6789513269743, 461.1512380854452, 92.03883341127774, 186.57567196448753, 277.44772215788134, 372.52679025464045, 465.5090407358613, 91.47116205817406, 185.61949175343216, 281.060152310948, 373.30898780295104, 467.2912423661333, 93.92587478285103, 188.45374297855903, 283.610307282731, 378.7738034320541, 474.28117782501437, 96.61879659564613, 194.3893194249896, 286.48638319481415, 384.16533979223294, 478.87591268113846, 97.36420015320193, 195.72006567579467, 291.37165592157817, 388.4532108928387, 485.7768810259211, 97.10129172459952, 196.17624528695, 294.232199999827, 392.45875517266944, 490.6933832968655, 98.3566155732888, 196.32274859601387, 295.43337777830493, 396.09638729322495, 493.96234536286187, 99.73111994000556, 199.5761677786873, 299.61280420913357, 398.8105073651956, 501.9403832823098, 99.87066673313089, 200.88044237850607, 302.60090708163705, 403.8111364395624, 505.12402826957754, 102.85856647321623, 203.23318334312802, 304.68767620353856, 407.92675902954227, 509.7857418020832, 103.56415325954211, 205.01899695630024, 307.2092936290837, 411.2994695630339, 514.8436101099203, 105.50117866661641, 209.44134866108004, 315.04439826791565, 417.8095837009475, 523.5050971822327, 103.70536197395981, 209.7662956929095, 312.24960786576037, 418.72365350492134, 521.6679154296597, 106.85976461690699, 212.84057968268488, 319.70958279429686, 424.5030972969085, 530.043050602691, 105.69223607241467, 214.39892035188623, 322.7182391279938, 429.3270267171695, 536.6526464253559, 105.77326386935592, 215.14409094538794, 324.02442450721855, 429.97046478709973, 539.0774337453502, 106.5068716237424, 214.92083991444989, 322.9927512315545, 435.10241605256607, 542.1754298707075, 110.06711789856817, 219.35444476487044, 329.4179771076015, 441.41521313722575, 550.3654283355562, 111.44729569156542, 223.0315174147719, 334.9089060016732, 442.5458467893278, 555.8553760358654, 111.70140064089108, 222.44029525594024, 333.4283824684451, 449.74345594422994, 558.5499631759261, 113.4371458635581, 226.40915163928585, 339.06898132652583, 451.0748375393622, 565.5672418979118, 113.36856030020255, 226.83350134685003, 340.81625371537126, 454.0796194403919, 568.4611705805177, 113.92124695399951, 228.45268442360077, 343.2600195337583, 458.5543579914051, 572.6920593934592, 115.71579504572082, 231.41265496311908, 346.8512007233668, 462.41444597830264, 578.3652475292771, 116.82662142624238, 231.88838005367, 350.10316635950124, 468.50388964553605, 584.8731701127202, 121.0611825790644, 239.73131299368137, 357.0572275363445, 473.26194568101505, 590.605446826197, 120.01058005682377, 238.07489605404507, 359.33813077859935, 476.8056519581094, 596.2921509558741, 119.24674630725669, 239.46610619658952, 358.28342084122386, 477.68937193637015, 600.4900118103134, 118.49767668894756, 239.7360268114411, 360.75239833569583, 480.072972184867, 602.2070516195389, 120.59172087823731, 243.35071016929376, 363.9793382245562, 485.8402285066003, 606.9257212973613, 120.96716714727162, 247.0866920987168, 369.8260606541069, 492.83244139816554, 612.8506418306266, 124.40869579382364, 246.69968867367754, 372.03975500033334, 496.57355593601727, 619.2299627215065, 124.92204633820755, 250.61381535780572, 372.8165859130051, 498.96143354241514, 623.287284827114, 125.48478981037563, 252.7451297454068, 378.1581328358186, 504.6830049707982, 630.7511237214911, 127.44398037910308, 253.9235164498776, 382.4407749594863, 510.8169024652115, 635.3572669485094, 127.97564800219439, 255.40727622913744, 384.2058270079469, 510.68870238018417, 639.1659746650315, 130.18825985728026, 255.91119664037936, 386.54160843341833, 514.0219374172739, 642.806224308738, 130.86848487833169, 261.1617566770928, 392.5556971217581, 521.3787805262707, 650.8735133176475, 130.06540583855354, 262.53728710379715, 390.9785133160466, 526.2343828640769, 657.5124422798696, 132.82288329086123, 262.79821626657923, 394.7032592598826, 527.9504834862458, 660.0427140407159, 132.32656265595503, 265.07041518937086, 400.30369578788674, 530.7620201165437, 664.6399022319838, 131.13473174822158, 265.82915726811285, 400.49728278390694, 534.1166872731925, 667.9366200723244, 135.63413578314322, 272.31042837141484, 407.48002611085565, 540.5644734397862, 674.1074620191761, 137.29087071563163, 272.6223123361739, 409.49267423892024, 545.8877372952633, 681.6395134520618, 134.9428738252815, 273.93461231167873, 412.2161794235443, 547.4957685591812, 684.5794694015369, 139.03908575023013, 276.8635384829396, 413.99851739493096, 554.0950501522375, 689.9995033910691, 137.59192195255272, 278.42255211433786, 417.28109291639845, 554.6766472674346, 694.3286108814946, 141.73024765606004, 280.97688453688403, 420.4849278106555, 558.3847948346917, 701.6935841607487, 142.58077441562656, 281.51619181434245, 424.77354284568514, 566.2238400075942, 704.9764227678004, 144.1214655790028, 285.11183260698203, 426.3511556846474, 569.2454416690426, 710.5829311494228, 144.6896643510477, 287.00921385346584, 430.17125798768336, 572.305274911091, 716.9335289345221, 146.06384058384816, 290.15905130460635, 434.56553957442975, 579.0531120532936, 720.2693830884333, 145.10385429662875, 290.38498892402345, 435.40306624039897, 578.8502159915963, 724.8902135001609, 146.27585381936092, 292.57565055928427, 438.69178779979575, 582.4272204052396, 729.7508339472519, 145.6985811143121, 293.1346728225474, 440.5865760761164, 587.2750814730805, 734.9589776084191, 144.10872611974494, 295.42941276854145, 440.746822097491, 589.4827495127591, 738.4237114882964, 149.31638305007345, 297.7335281083223, 445.89493580124207, 596.347408348629, 744.4318209433628, 150.24739913754743, 298.48332168857, 447.8508642151824, 600.1648971984802, 747.3438609908039, 149.46060306686385, 301.72939474897913, 452.7293149705339, 602.7094528190673, 754.4178694190391, 151.22241389023682, 306.61803835570004, 456.7384486942265, 609.8117140135935, 760.125093913587, 150.25892127206495, 307.63234550759194, 457.7123080728252, 612.7992470776005, 763.7315354423835, 155.24112865600372, 307.8853894136782, 464.6834677776082, 618.3299250253102, 770.9087408295487, 154.95702039601014, 309.9258227456994, 464.02500175702966, 618.8135803028703, 776.0786823341817, 157.84668055701607, 313.7855903207036, 470.29815872440463, 627.083104754221, 782.3409893032821, 156.5439303087405, 314.4072408380988, 472.0492979116018, 630.8543239157793, 786.5103949601083, 153.38056440719996, 314.8228868879144, 473.0026848513605, 629.6454500840445, 785.9465646458519, 159.01607784297974, 316.6936455421995, 477.0803052561592, 636.3641132200459, 796.8213195911441, 161.14982668394362, 321.01746928654734, 480.6246194515364, 641.6937062257643, 800.7490534709007, 159.7970440629931, 320.890758684183, 484.56699622707384, 643.5145937204395, 805.2130983466203, 161.63305610837858, 324.3081185858815, 488.03163159137176, 648.991390437478, 810.5979084096359, 164.5309580043812, 325.46419761049896, 490.25627932555767, 654.0169274217099, 816.2751472291013, 162.10201366228026, 326.4853383849264, 490.0724687874663, 653.8582078825428, 818.3660202782559, 165.01774440068075, 330.08284034505533, 494.2011118853469, 659.2144972493151, 821.7490183317711, 165.43768652118433, 332.41293296617346, 497.10038628715387, 663.8993889098226, 828.7866045656136, 169.03322333127613, 335.22282518023684, 502.78996871651935, 670.5797320396131, 835.3423318202756, 167.82809032897225, 336.1058825225217, 503.44644197877693, 673.0165315553082, 840.0557122660667, 169.7423213165237, 337.4734675256286, 505.2623981538552, 675.1106179148111, 845.9874651215174, 167.51914080525944, 338.33136985816765, 507.6848629934046, 677.606976632666, 847.9854094483313, 170.59388029166558, 340.804310263952, 513.4847923149385, 683.0137490353741, 856.1498136220775, 169.6116518056379, 343.43711515948786, 515.9762257207408, 685.595228709729, 858.3691451234895, 173.6536656800706, 347.5653124302211, 519.5445136297308, 692.9841257040299, 866.0255513018826, 175.24034931232552, 349.0760291629105, 522.1305317209391, 697.0127548039004, 871.4048565118192, 174.05959557159454, 349.4831173058103, 524.9312066551051, 698.4465913672699, 874.9019952577136, 172.33490264060288, 350.89713355031967, 529.2281871600258, 702.4175748499645, 878.6097443579537, 175.39330528111063, 352.6383957504527, 530.7008410770658, 705.2722156245273, 881.8565345625866, 178.11952808901418, 356.605058557116, 535.5667291583696, 711.7971113963184, 889.657365559798, 179.56301546637064, 357.5837447395101, 535.8901759262227, 715.6879083703387, 894.8558867949338, 179.93398247811447, 358.8815789729935, 537.9084888893677, 717.9907511718891, 898.4547674482787, 180.6268697955626, 363.83292576362305, 543.4880635077755, 724.3972462044024, 906.092970848883, 182.45051503489628, 362.8102000439388, 545.0643430541611, 725.8005864480276, 909.5900693045796, 182.66539075355814, 365.27835114898653, 548.468783806802, 732.370248128004, 916.6517079277606, 183.0393777904795, 367.31021700267814, 550.787927857269, 736.708465782993, 919.8047660319683, 182.60259757663422, 369.4110884951001, 553.6712610152314, 738.3025616368624, 922.2415592080928, 185.4608547213095, 371.1138681057527, 555.4799295065628, 743.9117488602474, 928.4210124534985, 187.32409350657315, 372.7094915844738, 560.5997534069026, 747.3492231649229, 933.3963487538797, 188.09599621843918, 374.40082583762324, 562.4580393251831, 750.5065707836457, 939.7808097071621, 189.39021405288238, 377.6725679264738, 566.9080447778942, 756.5906341996118, 944.8875390521882, 189.11671100659157, 378.40778510330813, 567.6353773282489, 760.1641957074902, 949.5200078413246, 191.86147642215928, 382.4783444215322, 571.7470010577748, 763.9868759284872, 955.2279084442747, 191.38467741492317, 382.6297190358263, 574.9000818416205, 766.6605548801238, 961.18941244581, 191.53161917145502, 385.7338934018512, 578.5656289735649, 769.8794226932198, 964.953688010437, 192.0533566028715, 386.6482326032169, 580.6162596370408, 773.4392602965904, 967.5673613726912, 197.6897178819328, 390.38040973549386, 586.5543735565011, 781.2540754542784, 975.4709083449038, 196.49578535029195, 390.5409880516167, 589.592221073213, 784.6205540856015, 980.8689010430686, 197.230372225236, 392.6407967678369, 588.8425893246223, 785.3091620176968, 983.893339902974, 197.85282749293407, 396.0372846398386, 594.7550417825697, 792.9123240961445, 989.5625702364312, 200.29933133258098, 399.5330318937, 596.949855826327, 797.6239623487685, 995.6212014044081, 199.2025335242348, 397.99829315459516, 601.3741773170085, 800.0264596264599, 1000.5671306190179]}], {}, {\"linkText\": \"Export to plot.ly\", \"showLink\": false})</script>"
      ],
      "text/plain": [
       "<IPython.core.display.HTML object>"
      ]
     },
     "metadata": {},
     "output_type": "display_data"
    }
   ],
   "source": [
    "iplot([Histogram2dContour(x=x_it, y=y_it, contours=Contours(coloring='heatmap'),showlegend = (True)),\n",
    "       Scatter(x=x_it, y=y_it, mode='markers', marker=Marker(color='white', size=3, opacity=0.3))], show_link=False)"
   ]
  },
  {
   "cell_type": "markdown",
   "metadata": {},
   "source": [
    "The Contour Histogram shows the observations are distributed. A higher contour line is denoted by the change from the color blue to the color brown as shown in the legend on the right.\n",
    "\n",
    "Two things can be clearly seen in this graph: First that most of the observations are in the lower left hand corner where the color goes from blue to brown and from there it increase up to the top right hand corner.\n",
    "Secondly the trend included in the DGP is clearly seen by the almost straight line off the white dots in the graph (the actual points from the x- and y-coordinates).\n",
    "\n",
    "#### Relationship between first-differenced $\\Delta y_{it}$ and $\\Delta x_{it}$"
   ]
  },
  {
   "cell_type": "code",
   "execution_count": 7,
   "metadata": {
    "collapsed": false
   },
   "outputs": [
    {
     "data": {
      "text/html": [
       "<div id=\"92543ff8-bec3-4e65-9dde-8472eea804fb\" style=\"height: 525; width: 100%;\" class=\"plotly-graph-div\"></div><script type=\"text/javascript\">window.PLOTLYENV=window.PLOTLYENV || {};window.PLOTLYENV.BASE_URL=\"https://plot.ly\";Plotly.newPlot(\"92543ff8-bec3-4e65-9dde-8472eea804fb\", [{\"y\": [6.317142492785238, 0.6946250238665392, 0.4372563348126395, 3.139061606584466, 8.142512724925865, 8.153615431454583, 8.153755768372339, 0.6524099149966816, 7.066850916636913, 7.697074609384799, 10.260079442737066, 9.148069995426305, 12.03706762570621, 14.67938602837252, 8.861307414273845, 12.957136953518834, 10.2397847941795, 17.788798203226605, 15.71952468883444, 14.407595321181546, 11.318027827480247, 22.602153963604046, 16.867473116402472, 22.92528375603395, 20.454450350094916, 21.49539365184863, 19.20903230590058, 18.195517907137415, 28.393147611322007, 21.785432299668315, 28.58764749733227, 21.118766657571726, 28.6207501600581, 24.547109120578995, 24.786813935347496, 31.54942725391757, 29.35689817559861, 30.781912114216738, 29.422616745282596, 27.75069032941188, 34.49975170015976, 33.35960517531103, 34.45198289633116, 34.97103353740249, 35.51845010732684, 35.7680535625685, 34.96536093322207, 37.06946454312606, 37.45665358022917, 43.52302910713507, 34.226252909338896, 38.4679754859483, 40.195471467783, 45.2104530313929, 43.242291270062054, 41.97797546054241, 43.60641093883608, 48.99566460402909, 40.75499678469507, 48.867324783003255, 45.69169841364048, 44.99509442001467, 54.23562513575595, 41.681686974613626, 50.96384333957922, 53.18410117210749, 50.74370294379486, 48.54602194295134, 50.494340417757975, 52.107432931043846, 58.368843752180084, 54.13022675473957, 60.17381788155379, 49.92373986323037, 60.44081102807911, 59.943849261682544, 60.7704703006696, 63.569967768344, 58.99506746097691, 61.846808791888265, 60.69656642094834, 63.16712089743032, 64.76286247214293, 63.98729534332159, 66.29496005755682, 67.57025572731123, 63.86088054725229, 62.477810531653176, 65.46646626222356, 66.8018714236816, 69.981465346497, 70.73554694690029, 69.85898229251843, 74.14102111491167, 70.16576363800993, 73.79324644646903, 71.38846707218798, 75.1283813745101, 72.6512825735384, 74.96741559996468, 77.51254794476213, 78.24605770161025, 76.74804070030044, 81.63097813961963, 87.91962617256304, 71.76138021514598, 81.15296739605989, 82.5380531998506, 84.71108532484203, 82.06779505535053, 89.70572047012331, 80.13721748626432, 90.50092577254024, 89.04077464110355, 83.0275331547573, 89.19029782931005, 90.34450640645181, 90.17381586078125, 93.76245508163595, 84.083336069918, 97.12289538612384, 87.30507348282049, 94.03214534151152, 91.53044083151991, 96.55383236015575, 97.73693419295361, 90.20181712079909, 100.29144030464147, 99.5582639456438, 97.80244636788268, 99.54529673028725, 98.9205811445247, 103.036859314959, 100.99850877569716, 102.90351715966801, 103.2656775006559, 101.25762635555893, 108.2172198945982, 101.6799920426181, 107.08121463305497, 104.89306258749724, 109.68224823170922, 105.16008705438514, 110.19354186004932, 113.95939040662006, 105.4831696718017, 111.36917236161753, 110.88911480535927, 116.72157206487798, 115.50290747640426, 114.01559543187096, 112.01435715953579, 123.44568791309962, 113.42062569984952, 118.43017520610874, 117.28006247468954, 122.4102073476942, 119.56073552302982, 120.07653346956397, 115.3885636787711, 125.09324057436991, 119.57660708323456, 126.42614550130503, 120.08161026256613, 127.17699915501882, 127.05527437527988, 120.76140759720965, 129.80626337682833, 131.80990657885064, 130.8313846136935, 131.73528961759564, 123.09881550163834, 124.48740103091237, 137.2144856661517, 129.46706654706736, 135.25429614861844, 134.92111596804088, 133.24580761167073, 133.80860122577326, 136.5374876925572, 138.71528754180855, 131.4768518507185, 143.6099685438033, 133.23523097502368, 141.8365642031794, 134.9836771423445, 146.8624088513492, 136.35017282985643, 141.5957766485128, 144.48121170255126, 145.49713735761156, 141.76809202806032, 143.47566365599107, 151.7748324949324, 144.79577936870317, 146.73592706939166, 146.70129888317416, 150.76966442403938, 151.09171768880435, 147.87469269741075, 156.00159535915424, 151.833135620765, 150.24106591367962, 159.18389070034937, 154.54931613528152, 158.42289521374278, 157.5084750860401, 151.98893291024103, 156.1683036591271, 167.74681644118465, 156.14510537990003, 159.6114476801588, 168.05388965389858, 160.04815297689765, 160.8899142001494, 161.1350169189093, 166.33666838298717, 161.6678604138018, 170.4079724199999, 165.04618080030355, 171.34687373093277, 163.32006758529076, 168.7530268323493, 169.71030909656122, 167.49271939009722, 173.18879991999125, 164.64236923219903, 172.13832850364668, 177.4790619817777, 171.45895869264808, 175.46262888952606, 175.24562462007827, 179.91919405961644, 170.4391677745656, 176.06202370924393, 178.13859165318843, 180.7518216242972, 182.71451129101519, 183.45289233795563, 175.77718187609196, 183.48956450861272, 179.45505678331574, 182.96267749294486, 187.05938119451264, 190.54740211806137, 184.48623938012196, 186.4818526312407, 186.18838228105892, 188.83612387510098, 184.79606747250068, 193.44294634557093, 184.65242895053268, 193.3574094021114, 195.37154634717456, 189.39101549003863, 196.4612041163167, 195.25034333122613, 195.12827236907157, 194.11925750182934, 197.7621160854044, 194.20633931460168, 198.1981986111433, 199.75706154291356, 197.46517346265716, 204.0670701380733, 197.80184898880685, 198.4939734210559, 203.9228271979389, 202.33857663204878, 203.95730969180772, 202.8943041738828, 200.98770739814665, 205.41498793857482, 204.53682021847203, 212.8161399001217, 206.27058825795302, 210.500837387527, 206.0723370268169, 212.71502314347322, 210.91144145888848, 208.06040861012633, 218.7570869494096, 206.9782996639849, 216.6132413810418, 214.52032726068126, 218.84457801363715, 216.72367681271908, 214.95131225934654, 222.0798284563496, 219.0666874094299, 216.1605845025731, 216.04877406113235, 222.26064548175378, 224.16714991441285, 218.02991382771268, 223.11180711611826, 225.85459131428016, 226.25534885517692, 221.48716931802517, 230.59570272634846, 227.66327106871097, 227.68975986574554, 227.6431099277802, 228.9082424016957, 233.43857925392282, 231.07790879652657, 231.7094404453277, 230.3743441597844, 232.98268343960387, 235.21678247502024, 234.1961987973806, 232.53151647784478, 243.59089022034416, 232.72921891310045, 235.72452313974088, 241.90374537282253, 236.49063235748397, 243.01077271951993, 236.4750676276118, 244.62645632560327, 238.04175306128406, 246.30812948507906, 240.89455584273014, 243.28071430757348, 245.94319925580137, 241.79483353262714, 249.82496807062114, 248.8220523481889, 246.93106428085378, 247.3858406077062, 248.32480892509238, 248.54127803800327, 252.03576661612777, 251.42662504652088, 248.65181826169987, 254.2050701474435, 248.89608848040524, 260.3443979804413, 252.59079059317605, 252.74868586282003, 263.765935980946, 254.49762206813523, 257.98849299155506, 256.8008773689867, 258.58001843220603, 262.52032291474757, 259.435111923652, 266.92032018921464, 264.14060242821665, 264.0198393444174, 265.8145992046384, 261.92234856289747, 264.278566065298, 270.2294436380354, 264.2829331600233, 270.936045027496, 271.16985100783825, 268.04571683023823, 271.5411797074711, 273.3897645324471, 274.36655230558404, 276.71885442540747, 269.7804489320897, 277.3057141569059, 276.49996198666634, 279.999142372508, 272.79115793001745, 274.2480419102533, 281.81491747621897, 274.06021947037493, 284.4686764510659, 279.5182990529613, 283.30674102683764, 287.2082227930491, 275.83786163130594, 283.2608189262071, 283.21892905880094, 286.20204214402315, 286.58858043693067, 285.4332713295448, 290.69731342099266, 280.7645644594917, 291.5081499074473, 284.8075585017816, 292.03625794357885, 290.93762143430797, 289.6377234152784, 293.3390405711714, 298.7844110404203, 292.34574744476606, 296.7083568874896, 292.0439304768986, 294.2040224192434, 298.360140520399, 298.9862769938601, 294.34992411006624, 299.07835932106235, 302.79490088389105, 297.29630219352873, 305.73932710501094, 304.07247851786457, 304.13037829568066, 304.6551115346972, 304.4757263349761, 304.41604985687724, 303.59392008528107, 309.4125602672008, 304.1514494504893, 308.11232421976524, 308.32711756167896, 309.98709626345044, 309.77922662058245, 311.4694216016496, 316.25693053397754, 311.7454851715893, 313.2861991145505, 314.90275753533444, 311.6196598012698, 316.5621222531262, 312.90304280020086, 319.29457856396, 319.02539880800464, 314.7114071026192, 320.1082423929697, 324.3581529991082, 325.55776791627795, 319.2622077664465, 322.7352252558919, 325.3586036798524, 327.33506253627877, 318.5211631326713, 326.0154236909675, 325.2611040309894, 325.38320393084075, 335.53266385401366, 321.9336228747843, 328.3486481214599, 330.53619533926826, 333.514767814012, 327.6714474723981, 333.0756693072121, 332.8910392309924, 326.882282213017, 339.73319565208453, 331.16778526615866, 334.8586027786878, 345.2001636006984, 329.75868694340625, 337.5409463614091, 342.0585697055975, 335.06625315978886, 340.6789217718567, 341.7078426649967, 341.71667727272416, 340.7977103519222, 342.33093242492964, 346.65429919154474, 343.15262369874176, 345.19553461993246, 344.07467791803174, 347.1910898372317, 346.9640781907609, 345.64606122620535, 347.7192617203657, 348.09808806081173, 354.5008311052658, 353.73493769927813, 349.7104379391717, 352.6727694016506, 356.0569913635554, 348.16425965603776, 350.4625814948861, 354.7097985568974, 361.5856530631705, 353.0116149134724, 357.68453953434005, 361.71443175519863, 357.64326084467336, 357.9138802388841, 365.31259458227646, 363.88763909688095, 364.34124443973155, 358.6209624913074, 365.56930405048683, 368.7733377171822, 364.736576464745, 362.52137052076364, 365.6050247351493, 373.5802133308919, 367.7594632495061, 369.89431635578467, 362.223310871424, 368.5644859111792, 374.2885338626927, 374.13711216517277, 367.67923367402113, 379.05146434721416, 366.6309860070653, 379.52178960131073, 372.51219375292453, 382.4574183583404, 376.0594097540869, 378.91626689733675, 379.89662966603487, 378.5883448913986, 385.6601411877516, 383.20974026403815, 378.12544459342826, 384.2899293787425, 383.9267033555186, 381.94359511613334, 384.92515045924597, 380.9828555699593, 390.24109070301495, 382.42252395309447, 385.13130417692287, 388.52822256996194, 394.0227336270847, 388.41418565376557, 389.23796805521533, 396.3845656719736, 386.95973540607565, 404.0370121942892, 391.0448009940128, 391.9958593227384, 394.249182117562, 400.06508372771486, 395.0782787795292, 396.6416853787315, 403.9156413193697, 393.49067896842894, 402.48759322600085, 403.7567629955239, 405.4212873226469, 401.5909616551121, 399.8311532950013, 407.26716281217864, 405.94968752094655, 399.998139862309, 402.4031314222816, 405.4001216292173, 409.65640645453743, 411.02073597602475, 407.3398204993466, 415.22386884513395, 412.9945487867644, 408.77081196948484, 409.36146657011705, 413.69167223928093, 413.554817497646, 417.5799605939842, 408.79016257690273, 420.9341771884453, 419.1301720829538, 410.77334287906, 418.5619855720133, 419.0712108844981, 418.4936355173596, 417.4428152995645, 424.21773590479734, 419.5473207437252, 430.4263922047942, 419.9471732438135, 419.1863629497509, 423.44203652467206, 425.1962406299641, 427.6202545791068, 425.295927226362, 426.7499677685538, 431.10980948163797, 423.7053122027255, 434.6753760787294, 431.19335528456736, 432.6997504020203, 432.50666620620746, 427.50504341495116, 436.0160694389853, 432.0595411866502, 433.8038210541142, 436.6600860861106, 440.1208072947843, 437.472654802507, 432.0515457151455, 443.31862838265624, 443.22258026448134, 441.25003626082537, 440.1673683584427, 443.9635941342997, 450.430471936208, 439.29477036036405, 440.3677712266383, 449.61455526535747, 446.64354071769367, 445.49323041277626, 449.3768822278421, 444.8165290069028, 446.2062138209227, 449.31105166079146, 454.54536110208414, 443.02313969958504, 452.8763070275011, 455.4304062376849, 448.498349485576, 455.7151973541356, 464.3993313764948, 448.70722078366373, 461.37613000101305, 451.6841373270672, 467.26997639358376, 454.8692776552781, 463.9316229456042, 450.89758437630076, 460.42172514057586, 467.7012602525713, 461.5683563987518, 459.3547893099467, 463.8349547577645, 463.1040983688298, 464.51094517505817, 470.2049629224882, 467.3076944113108, 472.0113609511875, 467.3987739555166, 463.6236240585622, 472.48726286667863, 470.1426018633092, 474.64134042506544, 470.9391560321328, 481.86260081831887, 475.73698468198654, 472.7967580176837, 468.18212943296817, 475.94285819543387, 479.4757907155529, 476.5565121678146, 480.10535026431626, 481.0253489454796, 479.05461706120786, 482.3955172479491, 479.01779873787405, 480.9461290833489, 488.97760752730767, 479.25378750128516, 482.6999342868862, 486.3574299263014, 490.30358958802117, 482.2536924556516, 486.45415276755034, 482.7480264054045, 492.5790156167018, 488.89982848668774, 490.4545200071543, 493.01092148895566, 490.9065687558101, 489.77268581355906, 493.9731751019674, 493.77025339287655, 492.8884741795325, 494.6148132662993, 492.3538824510035, 499.64100448659275, 497.32276886872387, 496.05599018294583, 498.0117658921099, 499.61027462610696, 500.83282375473993, 504.663965310825, 498.01696779767394, 501.8952614812822, 505.2893413669499, 505.69163604484856, 502.0419566452638, 505.112359024247, 501.4323617507092, 511.62455388044054, 509.53181238106936, 512.6295606614001, 506.1805917244184, 512.5861327905825, 510.1520466049119, 513.2078931096133, 516.7436817035768, 510.2292922075617, 517.5224016976849, 520.4256391956986, 516.296068529995, 511.15911434174654, 517.80351560789, 520.6279585145483, 514.6354300055541, 521.1675515686584, 518.8929867805232, 521.7157370592163, 519.5902293954732, 524.939914614439, 522.9535281488702, 526.39149082644, 525.763803105249, 521.7838616921395, 526.9350123723912, 534.1145431894654, 532.6862227211959, 520.0014633445548, 530.3493877644646, 529.5090038382564, 531.9904611776087, 526.2745486336664, 532.3894943432865, 535.8613996494843, 535.062267927444, 530.552448595982, 534.8867175120549, 532.4959380708584, 538.0085370867928, 537.9743869072179, 536.320519320117, 538.2352608559706, 537.4663281454341, 538.8554911358085, 542.4792815490073, 545.7678123260836, 540.4201421678245, 543.2904568387485, 544.2245046659004, 540.7850892464879, 545.7674492365211, 545.0727851069, 547.6283575769985, 545.8255510970638, 550.2670518620932, 552.7923047942338, 551.1431526648721, 550.507257305526, 552.8868538089889, 554.7502272922443, 550.877129202755, 556.376537379301, 554.895074248645, 554.1045858761283, 553.5734444672617, 556.7759573282864, 553.6435005366723, 564.5489321600044, 555.3773192662961, 557.6909322357089, 564.1255096270988, 557.311570953382, 562.5215484133932, 561.2955110765047, 562.5075662700326, 564.0264340222698, 568.4961685339672, 563.413102623764, 566.0148868557299, 570.5421323239989, 565.3797763540902, 570.932388936567, 566.7115505451968, 575.8462526007509, 569.9409194639106, 572.4378490814047, 568.0928373629554, 577.3658923147211, 572.6721709006683, 574.906051117851, 576.257473750534, 576.6528537302438, 579.7488699155315, 582.6763706540249, 577.7636586498777, 576.1997249572153, 582.7805965774155, 583.7563223833599, 583.805977414471, 579.3851393958796, 581.7753638066793, 582.3168192695782, 587.4523947129469, 583.5845762323727, 585.3474176319237, 585.0873093776855, 594.0444335694935, 584.7869664042889, 588.7196221065478, 585.511349447264, 590.8910121969573, 589.0009406057518, 595.652088670628, 594.0807978179513, 596.4186962996823, 593.3495605051871, 591.0001567751924, 596.8839035440336, 592.4632046225099, 601.735018894748, 595.2727949306186, 597.4078962748162, 608.7207854678295, 596.4134203451949, 600.198921968064], \"x\": [2.055662885675784, -0.09884120287129505, 0.4777645586741306, 1.0700009251353881, 2.046199303262943, 2.9366330329948473, 3.5681500528366836, -0.5978999084241075, 2.7274379596395186, 3.264431281426492, 2.154038732802805, 3.2452110107122856, 3.7339025728405417, 5.423934745173065, 2.682913318647465, 4.420065658226022, 3.393604246050275, 6.203867443578437, 5.675557924539852, 3.3362991687047945, 4.000308088816113, 7.254789402388834, 5.646165607275588, 8.839330201224687, 6.902366345524506, 7.339580659758193, 7.391680184298778, 5.48425941695254, 9.991062484452412, 7.432711336594334, 10.221422742841884, 6.223612573162228, 9.479436418833412, 8.758419690405564, 6.942338434849958, 11.448644393611367, 9.446631090561477, 10.189082175147512, 10.130231855287036, 8.705906190153307, 10.17976312667483, 12.849365827627963, 11.194687993772263, 11.49647458644457, 10.97343450906218, 12.242249323174565, 11.804458400721657, 12.526890608139794, 11.721371947374305, 14.317678850005581, 12.634526356173758, 12.15096660500545, 13.163753694822537, 15.789781087747155, 13.934419639299882, 14.38232787595991, 14.198831010630096, 16.523586190653877, 12.30000770060196, 17.842896612448122, 14.74653939343806, 15.082123321379726, 18.793122192187077, 13.371786019231536, 16.704743759557854, 18.624220173559003, 16.40771732183063, 15.698720389307837, 16.13788834462852, 17.679990195331307, 19.3735110683566, 18.379867054325274, 20.25554608396103, 15.59669346030666, 20.091462823329152, 20.9170493648123, 20.524043592396865, 20.733695048672608, 20.145768787749645, 20.290083791593545, 20.767458820390758, 20.645055468315107, 20.919374098945305, 22.01422103994838, 22.63401069491076, 22.035487178433065, 21.743406238472105, 19.785956663912145, 21.11296226904903, 23.050528526943566, 22.711141904446606, 24.722274708673666, 24.879992605383666, 24.191426249850103, 22.99520126622656, 24.86111293904679, 23.108821056534314, 24.687553469120694, 24.366840744438207, 25.11656961965471, 26.375322943548223, 25.976590661832994, 26.00205568408066, 27.097028156358448, 30.96120798345481, 22.944080967532123, 26.36519185210841, 27.25003526811733, 28.639754293054853, 26.72802804489603, 30.013428908927466, 26.43242948681703, 30.533004839923187, 29.817675271778214, 27.258277007224578, 29.786600596546336, 30.24064717893184, 30.92936490565114, 30.77013556305384, 28.53862068116834, 33.5365677738056, 28.97770918582615, 30.384438017008222, 30.97678256190467, 31.509135945114924, 33.50151345119509, 29.649982109519712, 34.54602012758295, 32.8748565818456, 32.41004592035415, 33.198921434809705, 32.49422479975044, 33.87897681062633, 34.02908735441946, 34.59369464378173, 33.9529740290466, 32.24172670862924, 37.6491388488739, 32.440543096905174, 36.12149080233036, 34.08391586538073, 36.30627676163013, 34.606112076810845, 37.46276467928513, 38.57619192414089, 34.62835961105698, 37.599484984431186, 37.488397848104256, 39.757612586529504, 38.54961846768349, 38.35598522185758, 36.5224778910781, 41.49558637465747, 37.096186888248624, 39.97085460943751, 38.49143653454405, 41.93328859409146, 39.39552050723674, 40.47628639002944, 37.591535915677355, 42.308815287908736, 40.54429921153809, 41.30288808093728, 40.15327447032945, 42.43121035889551, 42.1955392461375, 39.83629467708968, 43.73279389194255, 44.28975358553303, 43.42197439719034, 44.776173795983794, 40.68337117485615, 40.83212764059616, 46.14419181808441, 43.98597126990205, 45.29982086987772, 44.42530823208257, 44.876887890098544, 44.40083814150097, 45.611810171092316, 45.76203703693332, 43.54626318672693, 48.45940553443191, 43.48803091326255, 46.939960754542994, 45.03485901657086, 49.23547388229102, 45.380153379889975, 46.74766985820192, 48.33876840559705, 48.427203965487706, 48.086805259316066, 46.78544715572756, 50.790183753404094, 47.94200722328699, 49.94106712608959, 48.71845286852963, 50.397519094343664, 51.0392548076766, 48.48037371698851, 51.85872279221784, 51.4617781758227, 49.59923835826467, 53.56611324061282, 51.21369963268552, 52.57867505000617, 53.70244401009222, 49.47886699382056, 51.40743645963349, 56.25404907983042, 52.79489341147735, 52.96454153728081, 55.76793723293483, 53.22808197262718, 53.91764671853045, 53.19264876373313, 55.177235930759174, 53.42003851154564, 58.02599989974158, 54.946538445344316, 58.16905140825949, 53.62837886223333, 56.033350742461096, 56.824510600916966, 56.35717839361115, 57.25399128233205, 54.789863000084665, 57.647768097603574, 59.518130073661474, 57.11641132369117, 58.35027806806477, 58.192103307017845, 60.77778209377405, 56.1781449059274, 59.130449498949986, 59.92106633263057, 60.90626045364559, 60.76504605740389, 61.14353196376399, 58.95538637158134, 62.29292783335877, 58.97515016163827, 61.20464923386305, 63.144273141319985, 63.130200848206705, 61.359504363419205, 62.558235746530585, 62.08895816137314, 62.8893703151725, 61.749323925657265, 64.48834493224811, 61.20827920367665, 65.04757666348206, 65.8142394827953, 62.8764576186347, 65.59945185852098, 64.13019769041139, 65.43559645554816, 65.352371679552, 65.98239185227641, 64.0604872161822, 66.52786127929474, 66.12197850909436, 66.79242778901732, 67.91544083266346, 65.91514211326495, 66.0330264323832, 68.17249509528182, 68.10984621695958, 68.21803781885123, 66.90661980690123, 66.99308990186705, 68.0650261968725, 68.03506333015807, 71.71881470490433, 68.4107550094065, 69.82077422238201, 68.51917412415821, 71.3058386591228, 69.69258124650082, 69.29614179478749, 73.08831642829043, 68.63252801968011, 72.3588113474492, 71.29292172862777, 73.55999090274301, 73.16767021107898, 70.59021796716485, 73.83215722057999, 74.56049497835497, 70.84003617676782, 71.56062852779394, 73.22036837069679, 75.98610784022532, 72.38805760350391, 73.41966782263415, 75.23384207839594, 76.12243217015936, 74.39947890582403, 77.15111829173645, 75.34133635543756, 76.42337018688204, 75.32498504056537, 76.48934976379047, 78.5485097888136, 77.91863408750325, 76.42716687075927, 76.75911905333578, 78.5331833427385, 78.96385730307091, 77.53119310851932, 77.02349250260528, 81.63893127649504, 77.00098464192084, 78.73648352235867, 81.06850000151906, 79.04100586857295, 80.89955004175178, 79.02870667017055, 82.05066012862261, 78.19016442098547, 82.8112812273271, 79.67901013581977, 81.46354979282182, 82.65308277864854, 79.59397801047771, 82.91900287229652, 84.02668673759234, 82.87098611574046, 81.4810868117824, 83.45615619216716, 82.8814559098879, 83.78351527268934, 84.24823218612721, 82.55328225307207, 85.05705801390144, 82.82091887491107, 87.40423049246814, 83.38963148037541, 84.24298963320746, 88.3749007474867, 84.51568477697373, 86.03447151700863, 85.69820554907511, 86.14335261628861, 87.23982997302119, 87.23057280703256, 88.88537346348642, 86.52121260635468, 89.01556629798338, 88.95711051309257, 86.49966460391983, 86.83713349957428, 91.85017715425545, 87.3089361993965, 91.10890792366399, 89.73378396061912, 89.20702263173976, 90.40555953403947, 91.7521109823432, 92.70416193506958, 92.30689194591281, 89.28457711668437, 92.74776000227558, 92.67355606918761, 92.73101066432028, 90.8079804803346, 93.47228675847089, 94.53683855320979, 90.87205019339382, 95.0790680967591, 92.98225048122083, 94.1483296952581, 95.44066055751586, 92.24883549200302, 93.98225456318227, 94.52786819570801, 95.15656430417198, 95.16349614932307, 95.50737439296029, 97.77052282934346, 92.09706376982456, 97.67895659741879, 94.71057288890552, 98.35586552259274, 95.6515902457835, 97.08155497126052, 97.32367013308243, 99.07495356235049, 98.055954712877, 98.22655517284244, 98.23462812419604, 97.96613302272506, 99.11062918229106, 100.66300951492002, 97.86595806963692, 99.84504783868175, 100.03663643044626, 99.197703156062, 103.12987591711425, 101.00977564537519, 101.72046470313097, 101.21022935792536, 101.31289183001513, 100.37461686991179, 101.45449286041054, 103.23908282600371, 101.85898277254091, 101.45484369675813, 102.19029667278343, 104.0901759339502, 103.54414054688641, 103.94016999446363, 105.60304960683561, 102.76518543303183, 105.69551348128522, 106.06093371894968, 102.48331217285087, 106.47404563916098, 102.94426192473838, 105.98081506577789, 106.86900311161199, 104.79351450261163, 105.53995330578249, 108.70668427947156, 108.31931877610756, 106.60878758917568, 107.32561970818642, 109.37082707603203, 108.88033356183061, 105.94604027988117, 109.10696895825043, 108.41396829070749, 108.07191131710462, 112.10966482101156, 107.07301381814142, 109.28732686630227, 110.06353234273104, 111.99723602962428, 108.95021519833045, 111.5842217232065, 111.87738858690128, 107.63694078765462, 113.30952924653764, 110.73889461504916, 110.98808721250484, 116.31507347578486, 108.80650723169617, 112.97200577572775, 112.65982968723998, 112.00585621283636, 114.4924043585496, 113.46494104664748, 113.98275236852123, 113.26336572502066, 114.38155114012574, 114.53143746960126, 114.80733511015751, 115.2943384576468, 114.13770140205412, 115.69685991739826, 115.4385457602477, 115.56324525493585, 115.95080155097446, 115.06175862742762, 118.21478630583124, 118.4007232860348, 116.36928046718418, 118.67013041461698, 117.32591454266313, 116.20471814467055, 117.3435011451819, 118.0643159972213, 121.26323472455428, 117.46752117951007, 119.48649899776473, 120.21935988933284, 118.81731464463434, 119.40595109514629, 122.80063987394323, 121.23835012249353, 121.01637152425474, 119.32057384917118, 122.13407943467189, 122.75898929105645, 120.62862805526245, 121.86089028204407, 121.08549279076101, 126.11952495144519, 122.73936855539012, 123.00638074405862, 120.01820043246107, 122.2909928798539, 125.3400663266558, 124.53380093568393, 122.6564067854892, 125.69176901959817, 122.20277055519938, 126.14484762941004, 124.3258512846989, 127.26033993503118, 125.41300309041179, 126.5248721349796, 126.06811875069292, 126.47953607077453, 128.5172585096087, 128.3761275057252, 124.54036448329788, 127.43162822694305, 128.79855077880944, 126.48287537223729, 128.47727228484734, 125.7229367830991, 130.63041179303897, 127.48032898385554, 128.78428689146415, 130.2932717987611, 131.3939404446653, 128.8230834045126, 129.4947327913768, 132.4718812652436, 128.44122621224943, 135.25586954803032, 131.27805941579265, 129.975332975718, 131.90504299330337, 133.24722422636324, 132.09223055447, 132.74385253341583, 135.23328059851588, 130.45832432865694, 133.87788211544012, 134.69442551989127, 134.6681255157941, 133.61940448928556, 133.81993279913195, 136.67629258827162, 135.1695977394408, 133.08444732893054, 133.54298857938988, 135.33144162054225, 136.87036190274637, 136.39506305634302, 135.75177615679854, 138.99173848639722, 138.28156711186557, 135.2795891356369, 137.0837008423557, 137.82445273270946, 137.13497891199137, 140.09653275730653, 135.9044532388316, 140.83063016178514, 138.8585408020606, 137.3955543510362, 139.65196361405992, 139.24663688082398, 139.50804327377148, 137.89986702403615, 143.30878932605708, 138.93541739871588, 143.2573510313427, 141.45029716190902, 138.75258276020622, 140.99036702797923, 141.23932307766535, 142.89428598439525, 141.3374894803802, 142.31954950241814, 143.16204413421752, 142.13401692340767, 144.62825402343105, 144.0952107207582, 144.4064882698234, 144.48757247886385, 141.2162710351397, 145.2811346273947, 145.01807731637552, 143.44714975119734, 146.03999750856462, 146.29979673992335, 146.11613724051148, 143.73543260544386, 147.32361354201225, 147.43609170823527, 147.45190325356901, 146.6885053969641, 147.6838961353386, 151.3206866487965, 145.31740932894957, 148.73592741526812, 148.94096197553722, 148.41714505824882, 148.1614076929198, 150.4524725473869, 148.08441259473386, 148.23592255102258, 149.3675425266124, 152.31403298329775, 147.17896379232377, 152.26879168211528, 150.99992022155476, 149.98013784853345, 151.70841659997177, 155.39562446546321, 150.12041033852648, 153.07326531936695, 150.3133798999935, 157.37342423552698, 150.07996256523325, 155.08693900477533, 150.93228836478295, 152.64426075767446, 156.79807836393002, 153.64645724770202, 152.5788158042385, 154.96880234968927, 154.09917901133025, 154.7885785458406, 157.26510203131147, 155.93890976368752, 156.51256840370104, 156.7849460298164, 155.25788454906103, 157.8633105293583, 157.642057073503, 158.80502600417753, 155.656071044329, 161.44232248071447, 158.1797979634461, 156.64276523268393, 156.30111456180748, 157.67756769921974, 160.38665971395972, 159.28380796388666, 160.4572063710982, 159.86764260260372, 159.60715016498904, 161.06908677422797, 159.05534724513632, 161.09371462118992, 163.67623754289082, 158.94759749336566, 161.6985046261808, 162.67506247750293, 163.72351300549025, 160.95975884610624, 161.60651797215792, 160.93323960611775, 164.7920817150587, 163.76064809615218, 162.25821980739147, 164.38332472264617, 163.58713040253986, 163.78573909507656, 164.50781239571302, 165.06509594437458, 164.11827154029157, 165.01338536396815, 162.53452108245608, 166.97524644498912, 164.6874533209804, 166.79900262266875, 164.887215655791, 166.1896018489607, 167.56714353628252, 167.78976332309372, 164.76259978066253, 168.27779219354946, 167.34055945625522, 169.5700895765313, 167.0391807107585, 167.73114620910493, 167.78893062822658, 169.84821976095589, 170.87684720670632, 170.8122290529082, 169.35349313523693, 169.92211363926145, 170.3784328156653, 170.21042997228642, 172.68048205098654, 169.52895672043553, 173.13606458670347, 173.82546335384995, 172.53911056125293, 169.6190029889882, 172.7739164137605, 173.91164675015054, 171.97920119950965, 173.43961207429913, 173.0414255978527, 173.835679850585, 173.05450255802856, 174.88222308296133, 174.39210170791875, 175.42352173421577, 175.44808934929483, 173.51538471216475, 176.45540389044368, 178.5622309097168, 178.3310536097061, 173.1893876899387, 176.1921695079892, 177.24509046934205, 178.0624453266131, 174.57137454746157, 176.58431893805925, 178.48553046810184, 178.96167060125362, 176.2303822379488, 177.86025416347957, 178.02072927313947, 178.3064311867126, 179.79773244411604, 179.16797842459505, 178.94759649487904, 179.02690991637422, 180.08226228252136, 180.46401627638966, 183.20605596806044, 179.6551377441524, 180.909182696627, 181.6957246444806, 180.3596850090425, 182.25414301022232, 180.73624339386652, 183.789482856552, 182.6129603954284, 183.19043265781545, 183.90146432120207, 184.2814597997566, 184.27083921219864, 183.47771085459084, 185.92053792572403, 183.09630024897524, 186.80849091846588, 184.26017252013128, 184.631300621631, 183.9389975712304, 185.65301338444323, 184.3660614008101, 188.43181935368455, 184.50926359325115, 185.38539807790067, 187.89026182242873, 186.74946975802038, 186.04712558895676, 186.30482961918406, 188.05721348755986, 188.04853145846255, 189.27423892351646, 188.2823538735914, 189.23547685142046, 189.68258942171758, 188.2969048525764, 189.29107409671656, 189.22759222494074, 192.52881837924133, 189.35581213383443, 190.61686799937291, 189.2686566362426, 192.23987487071236, 191.24103251578754, 191.24504162090315, 192.27036280579415, 191.76047303850328, 194.52885756568628, 194.2022742303962, 192.8317355717137, 191.31379371965488, 195.07426531721717, 194.5948760003454, 193.9680270338239, 192.82300065954962, 194.12810107610073, 192.69069185356105, 196.17396382100725, 194.69970189777735, 194.21683289062537, 194.04520270132474, 199.05123302159626, 195.02833301238854, 196.2483469574671, 195.41042454260088, 196.2017925567854, 196.46657269307457, 198.5841778852772, 198.18445714690455, 198.7177571427311, 198.1572823135748, 196.65024614028664, 199.23370056111904, 197.41682393262704, 200.67410652244143, 197.99723905563962, 198.79575963036035, 203.37588416241334, 198.65228230945138, 200.54067099255803], \"type\": \"histogram2dcontour\", \"contours\": {\"coloring\": \"heatmap\"}}, {\"marker\": {\"opacity\": 0.3, \"color\": \"white\", \"size\": 3}, \"y\": [6.317142492785238, 0.6946250238665392, 0.4372563348126395, 3.139061606584466, 8.142512724925865, 8.153615431454583, 8.153755768372339, 0.6524099149966816, 7.066850916636913, 7.697074609384799, 10.260079442737066, 9.148069995426305, 12.03706762570621, 14.67938602837252, 8.861307414273845, 12.957136953518834, 10.2397847941795, 17.788798203226605, 15.71952468883444, 14.407595321181546, 11.318027827480247, 22.602153963604046, 16.867473116402472, 22.92528375603395, 20.454450350094916, 21.49539365184863, 19.20903230590058, 18.195517907137415, 28.393147611322007, 21.785432299668315, 28.58764749733227, 21.118766657571726, 28.6207501600581, 24.547109120578995, 24.786813935347496, 31.54942725391757, 29.35689817559861, 30.781912114216738, 29.422616745282596, 27.75069032941188, 34.49975170015976, 33.35960517531103, 34.45198289633116, 34.97103353740249, 35.51845010732684, 35.7680535625685, 34.96536093322207, 37.06946454312606, 37.45665358022917, 43.52302910713507, 34.226252909338896, 38.4679754859483, 40.195471467783, 45.2104530313929, 43.242291270062054, 41.97797546054241, 43.60641093883608, 48.99566460402909, 40.75499678469507, 48.867324783003255, 45.69169841364048, 44.99509442001467, 54.23562513575595, 41.681686974613626, 50.96384333957922, 53.18410117210749, 50.74370294379486, 48.54602194295134, 50.494340417757975, 52.107432931043846, 58.368843752180084, 54.13022675473957, 60.17381788155379, 49.92373986323037, 60.44081102807911, 59.943849261682544, 60.7704703006696, 63.569967768344, 58.99506746097691, 61.846808791888265, 60.69656642094834, 63.16712089743032, 64.76286247214293, 63.98729534332159, 66.29496005755682, 67.57025572731123, 63.86088054725229, 62.477810531653176, 65.46646626222356, 66.8018714236816, 69.981465346497, 70.73554694690029, 69.85898229251843, 74.14102111491167, 70.16576363800993, 73.79324644646903, 71.38846707218798, 75.1283813745101, 72.6512825735384, 74.96741559996468, 77.51254794476213, 78.24605770161025, 76.74804070030044, 81.63097813961963, 87.91962617256304, 71.76138021514598, 81.15296739605989, 82.5380531998506, 84.71108532484203, 82.06779505535053, 89.70572047012331, 80.13721748626432, 90.50092577254024, 89.04077464110355, 83.0275331547573, 89.19029782931005, 90.34450640645181, 90.17381586078125, 93.76245508163595, 84.083336069918, 97.12289538612384, 87.30507348282049, 94.03214534151152, 91.53044083151991, 96.55383236015575, 97.73693419295361, 90.20181712079909, 100.29144030464147, 99.5582639456438, 97.80244636788268, 99.54529673028725, 98.9205811445247, 103.036859314959, 100.99850877569716, 102.90351715966801, 103.2656775006559, 101.25762635555893, 108.2172198945982, 101.6799920426181, 107.08121463305497, 104.89306258749724, 109.68224823170922, 105.16008705438514, 110.19354186004932, 113.95939040662006, 105.4831696718017, 111.36917236161753, 110.88911480535927, 116.72157206487798, 115.50290747640426, 114.01559543187096, 112.01435715953579, 123.44568791309962, 113.42062569984952, 118.43017520610874, 117.28006247468954, 122.4102073476942, 119.56073552302982, 120.07653346956397, 115.3885636787711, 125.09324057436991, 119.57660708323456, 126.42614550130503, 120.08161026256613, 127.17699915501882, 127.05527437527988, 120.76140759720965, 129.80626337682833, 131.80990657885064, 130.8313846136935, 131.73528961759564, 123.09881550163834, 124.48740103091237, 137.2144856661517, 129.46706654706736, 135.25429614861844, 134.92111596804088, 133.24580761167073, 133.80860122577326, 136.5374876925572, 138.71528754180855, 131.4768518507185, 143.6099685438033, 133.23523097502368, 141.8365642031794, 134.9836771423445, 146.8624088513492, 136.35017282985643, 141.5957766485128, 144.48121170255126, 145.49713735761156, 141.76809202806032, 143.47566365599107, 151.7748324949324, 144.79577936870317, 146.73592706939166, 146.70129888317416, 150.76966442403938, 151.09171768880435, 147.87469269741075, 156.00159535915424, 151.833135620765, 150.24106591367962, 159.18389070034937, 154.54931613528152, 158.42289521374278, 157.5084750860401, 151.98893291024103, 156.1683036591271, 167.74681644118465, 156.14510537990003, 159.6114476801588, 168.05388965389858, 160.04815297689765, 160.8899142001494, 161.1350169189093, 166.33666838298717, 161.6678604138018, 170.4079724199999, 165.04618080030355, 171.34687373093277, 163.32006758529076, 168.7530268323493, 169.71030909656122, 167.49271939009722, 173.18879991999125, 164.64236923219903, 172.13832850364668, 177.4790619817777, 171.45895869264808, 175.46262888952606, 175.24562462007827, 179.91919405961644, 170.4391677745656, 176.06202370924393, 178.13859165318843, 180.7518216242972, 182.71451129101519, 183.45289233795563, 175.77718187609196, 183.48956450861272, 179.45505678331574, 182.96267749294486, 187.05938119451264, 190.54740211806137, 184.48623938012196, 186.4818526312407, 186.18838228105892, 188.83612387510098, 184.79606747250068, 193.44294634557093, 184.65242895053268, 193.3574094021114, 195.37154634717456, 189.39101549003863, 196.4612041163167, 195.25034333122613, 195.12827236907157, 194.11925750182934, 197.7621160854044, 194.20633931460168, 198.1981986111433, 199.75706154291356, 197.46517346265716, 204.0670701380733, 197.80184898880685, 198.4939734210559, 203.9228271979389, 202.33857663204878, 203.95730969180772, 202.8943041738828, 200.98770739814665, 205.41498793857482, 204.53682021847203, 212.8161399001217, 206.27058825795302, 210.500837387527, 206.0723370268169, 212.71502314347322, 210.91144145888848, 208.06040861012633, 218.7570869494096, 206.9782996639849, 216.6132413810418, 214.52032726068126, 218.84457801363715, 216.72367681271908, 214.95131225934654, 222.0798284563496, 219.0666874094299, 216.1605845025731, 216.04877406113235, 222.26064548175378, 224.16714991441285, 218.02991382771268, 223.11180711611826, 225.85459131428016, 226.25534885517692, 221.48716931802517, 230.59570272634846, 227.66327106871097, 227.68975986574554, 227.6431099277802, 228.9082424016957, 233.43857925392282, 231.07790879652657, 231.7094404453277, 230.3743441597844, 232.98268343960387, 235.21678247502024, 234.1961987973806, 232.53151647784478, 243.59089022034416, 232.72921891310045, 235.72452313974088, 241.90374537282253, 236.49063235748397, 243.01077271951993, 236.4750676276118, 244.62645632560327, 238.04175306128406, 246.30812948507906, 240.89455584273014, 243.28071430757348, 245.94319925580137, 241.79483353262714, 249.82496807062114, 248.8220523481889, 246.93106428085378, 247.3858406077062, 248.32480892509238, 248.54127803800327, 252.03576661612777, 251.42662504652088, 248.65181826169987, 254.2050701474435, 248.89608848040524, 260.3443979804413, 252.59079059317605, 252.74868586282003, 263.765935980946, 254.49762206813523, 257.98849299155506, 256.8008773689867, 258.58001843220603, 262.52032291474757, 259.435111923652, 266.92032018921464, 264.14060242821665, 264.0198393444174, 265.8145992046384, 261.92234856289747, 264.278566065298, 270.2294436380354, 264.2829331600233, 270.936045027496, 271.16985100783825, 268.04571683023823, 271.5411797074711, 273.3897645324471, 274.36655230558404, 276.71885442540747, 269.7804489320897, 277.3057141569059, 276.49996198666634, 279.999142372508, 272.79115793001745, 274.2480419102533, 281.81491747621897, 274.06021947037493, 284.4686764510659, 279.5182990529613, 283.30674102683764, 287.2082227930491, 275.83786163130594, 283.2608189262071, 283.21892905880094, 286.20204214402315, 286.58858043693067, 285.4332713295448, 290.69731342099266, 280.7645644594917, 291.5081499074473, 284.8075585017816, 292.03625794357885, 290.93762143430797, 289.6377234152784, 293.3390405711714, 298.7844110404203, 292.34574744476606, 296.7083568874896, 292.0439304768986, 294.2040224192434, 298.360140520399, 298.9862769938601, 294.34992411006624, 299.07835932106235, 302.79490088389105, 297.29630219352873, 305.73932710501094, 304.07247851786457, 304.13037829568066, 304.6551115346972, 304.4757263349761, 304.41604985687724, 303.59392008528107, 309.4125602672008, 304.1514494504893, 308.11232421976524, 308.32711756167896, 309.98709626345044, 309.77922662058245, 311.4694216016496, 316.25693053397754, 311.7454851715893, 313.2861991145505, 314.90275753533444, 311.6196598012698, 316.5621222531262, 312.90304280020086, 319.29457856396, 319.02539880800464, 314.7114071026192, 320.1082423929697, 324.3581529991082, 325.55776791627795, 319.2622077664465, 322.7352252558919, 325.3586036798524, 327.33506253627877, 318.5211631326713, 326.0154236909675, 325.2611040309894, 325.38320393084075, 335.53266385401366, 321.9336228747843, 328.3486481214599, 330.53619533926826, 333.514767814012, 327.6714474723981, 333.0756693072121, 332.8910392309924, 326.882282213017, 339.73319565208453, 331.16778526615866, 334.8586027786878, 345.2001636006984, 329.75868694340625, 337.5409463614091, 342.0585697055975, 335.06625315978886, 340.6789217718567, 341.7078426649967, 341.71667727272416, 340.7977103519222, 342.33093242492964, 346.65429919154474, 343.15262369874176, 345.19553461993246, 344.07467791803174, 347.1910898372317, 346.9640781907609, 345.64606122620535, 347.7192617203657, 348.09808806081173, 354.5008311052658, 353.73493769927813, 349.7104379391717, 352.6727694016506, 356.0569913635554, 348.16425965603776, 350.4625814948861, 354.7097985568974, 361.5856530631705, 353.0116149134724, 357.68453953434005, 361.71443175519863, 357.64326084467336, 357.9138802388841, 365.31259458227646, 363.88763909688095, 364.34124443973155, 358.6209624913074, 365.56930405048683, 368.7733377171822, 364.736576464745, 362.52137052076364, 365.6050247351493, 373.5802133308919, 367.7594632495061, 369.89431635578467, 362.223310871424, 368.5644859111792, 374.2885338626927, 374.13711216517277, 367.67923367402113, 379.05146434721416, 366.6309860070653, 379.52178960131073, 372.51219375292453, 382.4574183583404, 376.0594097540869, 378.91626689733675, 379.89662966603487, 378.5883448913986, 385.6601411877516, 383.20974026403815, 378.12544459342826, 384.2899293787425, 383.9267033555186, 381.94359511613334, 384.92515045924597, 380.9828555699593, 390.24109070301495, 382.42252395309447, 385.13130417692287, 388.52822256996194, 394.0227336270847, 388.41418565376557, 389.23796805521533, 396.3845656719736, 386.95973540607565, 404.0370121942892, 391.0448009940128, 391.9958593227384, 394.249182117562, 400.06508372771486, 395.0782787795292, 396.6416853787315, 403.9156413193697, 393.49067896842894, 402.48759322600085, 403.7567629955239, 405.4212873226469, 401.5909616551121, 399.8311532950013, 407.26716281217864, 405.94968752094655, 399.998139862309, 402.4031314222816, 405.4001216292173, 409.65640645453743, 411.02073597602475, 407.3398204993466, 415.22386884513395, 412.9945487867644, 408.77081196948484, 409.36146657011705, 413.69167223928093, 413.554817497646, 417.5799605939842, 408.79016257690273, 420.9341771884453, 419.1301720829538, 410.77334287906, 418.5619855720133, 419.0712108844981, 418.4936355173596, 417.4428152995645, 424.21773590479734, 419.5473207437252, 430.4263922047942, 419.9471732438135, 419.1863629497509, 423.44203652467206, 425.1962406299641, 427.6202545791068, 425.295927226362, 426.7499677685538, 431.10980948163797, 423.7053122027255, 434.6753760787294, 431.19335528456736, 432.6997504020203, 432.50666620620746, 427.50504341495116, 436.0160694389853, 432.0595411866502, 433.8038210541142, 436.6600860861106, 440.1208072947843, 437.472654802507, 432.0515457151455, 443.31862838265624, 443.22258026448134, 441.25003626082537, 440.1673683584427, 443.9635941342997, 450.430471936208, 439.29477036036405, 440.3677712266383, 449.61455526535747, 446.64354071769367, 445.49323041277626, 449.3768822278421, 444.8165290069028, 446.2062138209227, 449.31105166079146, 454.54536110208414, 443.02313969958504, 452.8763070275011, 455.4304062376849, 448.498349485576, 455.7151973541356, 464.3993313764948, 448.70722078366373, 461.37613000101305, 451.6841373270672, 467.26997639358376, 454.8692776552781, 463.9316229456042, 450.89758437630076, 460.42172514057586, 467.7012602525713, 461.5683563987518, 459.3547893099467, 463.8349547577645, 463.1040983688298, 464.51094517505817, 470.2049629224882, 467.3076944113108, 472.0113609511875, 467.3987739555166, 463.6236240585622, 472.48726286667863, 470.1426018633092, 474.64134042506544, 470.9391560321328, 481.86260081831887, 475.73698468198654, 472.7967580176837, 468.18212943296817, 475.94285819543387, 479.4757907155529, 476.5565121678146, 480.10535026431626, 481.0253489454796, 479.05461706120786, 482.3955172479491, 479.01779873787405, 480.9461290833489, 488.97760752730767, 479.25378750128516, 482.6999342868862, 486.3574299263014, 490.30358958802117, 482.2536924556516, 486.45415276755034, 482.7480264054045, 492.5790156167018, 488.89982848668774, 490.4545200071543, 493.01092148895566, 490.9065687558101, 489.77268581355906, 493.9731751019674, 493.77025339287655, 492.8884741795325, 494.6148132662993, 492.3538824510035, 499.64100448659275, 497.32276886872387, 496.05599018294583, 498.0117658921099, 499.61027462610696, 500.83282375473993, 504.663965310825, 498.01696779767394, 501.8952614812822, 505.2893413669499, 505.69163604484856, 502.0419566452638, 505.112359024247, 501.4323617507092, 511.62455388044054, 509.53181238106936, 512.6295606614001, 506.1805917244184, 512.5861327905825, 510.1520466049119, 513.2078931096133, 516.7436817035768, 510.2292922075617, 517.5224016976849, 520.4256391956986, 516.296068529995, 511.15911434174654, 517.80351560789, 520.6279585145483, 514.6354300055541, 521.1675515686584, 518.8929867805232, 521.7157370592163, 519.5902293954732, 524.939914614439, 522.9535281488702, 526.39149082644, 525.763803105249, 521.7838616921395, 526.9350123723912, 534.1145431894654, 532.6862227211959, 520.0014633445548, 530.3493877644646, 529.5090038382564, 531.9904611776087, 526.2745486336664, 532.3894943432865, 535.8613996494843, 535.062267927444, 530.552448595982, 534.8867175120549, 532.4959380708584, 538.0085370867928, 537.9743869072179, 536.320519320117, 538.2352608559706, 537.4663281454341, 538.8554911358085, 542.4792815490073, 545.7678123260836, 540.4201421678245, 543.2904568387485, 544.2245046659004, 540.7850892464879, 545.7674492365211, 545.0727851069, 547.6283575769985, 545.8255510970638, 550.2670518620932, 552.7923047942338, 551.1431526648721, 550.507257305526, 552.8868538089889, 554.7502272922443, 550.877129202755, 556.376537379301, 554.895074248645, 554.1045858761283, 553.5734444672617, 556.7759573282864, 553.6435005366723, 564.5489321600044, 555.3773192662961, 557.6909322357089, 564.1255096270988, 557.311570953382, 562.5215484133932, 561.2955110765047, 562.5075662700326, 564.0264340222698, 568.4961685339672, 563.413102623764, 566.0148868557299, 570.5421323239989, 565.3797763540902, 570.932388936567, 566.7115505451968, 575.8462526007509, 569.9409194639106, 572.4378490814047, 568.0928373629554, 577.3658923147211, 572.6721709006683, 574.906051117851, 576.257473750534, 576.6528537302438, 579.7488699155315, 582.6763706540249, 577.7636586498777, 576.1997249572153, 582.7805965774155, 583.7563223833599, 583.805977414471, 579.3851393958796, 581.7753638066793, 582.3168192695782, 587.4523947129469, 583.5845762323727, 585.3474176319237, 585.0873093776855, 594.0444335694935, 584.7869664042889, 588.7196221065478, 585.511349447264, 590.8910121969573, 589.0009406057518, 595.652088670628, 594.0807978179513, 596.4186962996823, 593.3495605051871, 591.0001567751924, 596.8839035440336, 592.4632046225099, 601.735018894748, 595.2727949306186, 597.4078962748162, 608.7207854678295, 596.4134203451949, 600.198921968064], \"type\": \"scatter\", \"mode\": \"markers\", \"x\": [2.055662885675784, -0.09884120287129505, 0.4777645586741306, 1.0700009251353881, 2.046199303262943, 2.9366330329948473, 3.5681500528366836, -0.5978999084241075, 2.7274379596395186, 3.264431281426492, 2.154038732802805, 3.2452110107122856, 3.7339025728405417, 5.423934745173065, 2.682913318647465, 4.420065658226022, 3.393604246050275, 6.203867443578437, 5.675557924539852, 3.3362991687047945, 4.000308088816113, 7.254789402388834, 5.646165607275588, 8.839330201224687, 6.902366345524506, 7.339580659758193, 7.391680184298778, 5.48425941695254, 9.991062484452412, 7.432711336594334, 10.221422742841884, 6.223612573162228, 9.479436418833412, 8.758419690405564, 6.942338434849958, 11.448644393611367, 9.446631090561477, 10.189082175147512, 10.130231855287036, 8.705906190153307, 10.17976312667483, 12.849365827627963, 11.194687993772263, 11.49647458644457, 10.97343450906218, 12.242249323174565, 11.804458400721657, 12.526890608139794, 11.721371947374305, 14.317678850005581, 12.634526356173758, 12.15096660500545, 13.163753694822537, 15.789781087747155, 13.934419639299882, 14.38232787595991, 14.198831010630096, 16.523586190653877, 12.30000770060196, 17.842896612448122, 14.74653939343806, 15.082123321379726, 18.793122192187077, 13.371786019231536, 16.704743759557854, 18.624220173559003, 16.40771732183063, 15.698720389307837, 16.13788834462852, 17.679990195331307, 19.3735110683566, 18.379867054325274, 20.25554608396103, 15.59669346030666, 20.091462823329152, 20.9170493648123, 20.524043592396865, 20.733695048672608, 20.145768787749645, 20.290083791593545, 20.767458820390758, 20.645055468315107, 20.919374098945305, 22.01422103994838, 22.63401069491076, 22.035487178433065, 21.743406238472105, 19.785956663912145, 21.11296226904903, 23.050528526943566, 22.711141904446606, 24.722274708673666, 24.879992605383666, 24.191426249850103, 22.99520126622656, 24.86111293904679, 23.108821056534314, 24.687553469120694, 24.366840744438207, 25.11656961965471, 26.375322943548223, 25.976590661832994, 26.00205568408066, 27.097028156358448, 30.96120798345481, 22.944080967532123, 26.36519185210841, 27.25003526811733, 28.639754293054853, 26.72802804489603, 30.013428908927466, 26.43242948681703, 30.533004839923187, 29.817675271778214, 27.258277007224578, 29.786600596546336, 30.24064717893184, 30.92936490565114, 30.77013556305384, 28.53862068116834, 33.5365677738056, 28.97770918582615, 30.384438017008222, 30.97678256190467, 31.509135945114924, 33.50151345119509, 29.649982109519712, 34.54602012758295, 32.8748565818456, 32.41004592035415, 33.198921434809705, 32.49422479975044, 33.87897681062633, 34.02908735441946, 34.59369464378173, 33.9529740290466, 32.24172670862924, 37.6491388488739, 32.440543096905174, 36.12149080233036, 34.08391586538073, 36.30627676163013, 34.606112076810845, 37.46276467928513, 38.57619192414089, 34.62835961105698, 37.599484984431186, 37.488397848104256, 39.757612586529504, 38.54961846768349, 38.35598522185758, 36.5224778910781, 41.49558637465747, 37.096186888248624, 39.97085460943751, 38.49143653454405, 41.93328859409146, 39.39552050723674, 40.47628639002944, 37.591535915677355, 42.308815287908736, 40.54429921153809, 41.30288808093728, 40.15327447032945, 42.43121035889551, 42.1955392461375, 39.83629467708968, 43.73279389194255, 44.28975358553303, 43.42197439719034, 44.776173795983794, 40.68337117485615, 40.83212764059616, 46.14419181808441, 43.98597126990205, 45.29982086987772, 44.42530823208257, 44.876887890098544, 44.40083814150097, 45.611810171092316, 45.76203703693332, 43.54626318672693, 48.45940553443191, 43.48803091326255, 46.939960754542994, 45.03485901657086, 49.23547388229102, 45.380153379889975, 46.74766985820192, 48.33876840559705, 48.427203965487706, 48.086805259316066, 46.78544715572756, 50.790183753404094, 47.94200722328699, 49.94106712608959, 48.71845286852963, 50.397519094343664, 51.0392548076766, 48.48037371698851, 51.85872279221784, 51.4617781758227, 49.59923835826467, 53.56611324061282, 51.21369963268552, 52.57867505000617, 53.70244401009222, 49.47886699382056, 51.40743645963349, 56.25404907983042, 52.79489341147735, 52.96454153728081, 55.76793723293483, 53.22808197262718, 53.91764671853045, 53.19264876373313, 55.177235930759174, 53.42003851154564, 58.02599989974158, 54.946538445344316, 58.16905140825949, 53.62837886223333, 56.033350742461096, 56.824510600916966, 56.35717839361115, 57.25399128233205, 54.789863000084665, 57.647768097603574, 59.518130073661474, 57.11641132369117, 58.35027806806477, 58.192103307017845, 60.77778209377405, 56.1781449059274, 59.130449498949986, 59.92106633263057, 60.90626045364559, 60.76504605740389, 61.14353196376399, 58.95538637158134, 62.29292783335877, 58.97515016163827, 61.20464923386305, 63.144273141319985, 63.130200848206705, 61.359504363419205, 62.558235746530585, 62.08895816137314, 62.8893703151725, 61.749323925657265, 64.48834493224811, 61.20827920367665, 65.04757666348206, 65.8142394827953, 62.8764576186347, 65.59945185852098, 64.13019769041139, 65.43559645554816, 65.352371679552, 65.98239185227641, 64.0604872161822, 66.52786127929474, 66.12197850909436, 66.79242778901732, 67.91544083266346, 65.91514211326495, 66.0330264323832, 68.17249509528182, 68.10984621695958, 68.21803781885123, 66.90661980690123, 66.99308990186705, 68.0650261968725, 68.03506333015807, 71.71881470490433, 68.4107550094065, 69.82077422238201, 68.51917412415821, 71.3058386591228, 69.69258124650082, 69.29614179478749, 73.08831642829043, 68.63252801968011, 72.3588113474492, 71.29292172862777, 73.55999090274301, 73.16767021107898, 70.59021796716485, 73.83215722057999, 74.56049497835497, 70.84003617676782, 71.56062852779394, 73.22036837069679, 75.98610784022532, 72.38805760350391, 73.41966782263415, 75.23384207839594, 76.12243217015936, 74.39947890582403, 77.15111829173645, 75.34133635543756, 76.42337018688204, 75.32498504056537, 76.48934976379047, 78.5485097888136, 77.91863408750325, 76.42716687075927, 76.75911905333578, 78.5331833427385, 78.96385730307091, 77.53119310851932, 77.02349250260528, 81.63893127649504, 77.00098464192084, 78.73648352235867, 81.06850000151906, 79.04100586857295, 80.89955004175178, 79.02870667017055, 82.05066012862261, 78.19016442098547, 82.8112812273271, 79.67901013581977, 81.46354979282182, 82.65308277864854, 79.59397801047771, 82.91900287229652, 84.02668673759234, 82.87098611574046, 81.4810868117824, 83.45615619216716, 82.8814559098879, 83.78351527268934, 84.24823218612721, 82.55328225307207, 85.05705801390144, 82.82091887491107, 87.40423049246814, 83.38963148037541, 84.24298963320746, 88.3749007474867, 84.51568477697373, 86.03447151700863, 85.69820554907511, 86.14335261628861, 87.23982997302119, 87.23057280703256, 88.88537346348642, 86.52121260635468, 89.01556629798338, 88.95711051309257, 86.49966460391983, 86.83713349957428, 91.85017715425545, 87.3089361993965, 91.10890792366399, 89.73378396061912, 89.20702263173976, 90.40555953403947, 91.7521109823432, 92.70416193506958, 92.30689194591281, 89.28457711668437, 92.74776000227558, 92.67355606918761, 92.73101066432028, 90.8079804803346, 93.47228675847089, 94.53683855320979, 90.87205019339382, 95.0790680967591, 92.98225048122083, 94.1483296952581, 95.44066055751586, 92.24883549200302, 93.98225456318227, 94.52786819570801, 95.15656430417198, 95.16349614932307, 95.50737439296029, 97.77052282934346, 92.09706376982456, 97.67895659741879, 94.71057288890552, 98.35586552259274, 95.6515902457835, 97.08155497126052, 97.32367013308243, 99.07495356235049, 98.055954712877, 98.22655517284244, 98.23462812419604, 97.96613302272506, 99.11062918229106, 100.66300951492002, 97.86595806963692, 99.84504783868175, 100.03663643044626, 99.197703156062, 103.12987591711425, 101.00977564537519, 101.72046470313097, 101.21022935792536, 101.31289183001513, 100.37461686991179, 101.45449286041054, 103.23908282600371, 101.85898277254091, 101.45484369675813, 102.19029667278343, 104.0901759339502, 103.54414054688641, 103.94016999446363, 105.60304960683561, 102.76518543303183, 105.69551348128522, 106.06093371894968, 102.48331217285087, 106.47404563916098, 102.94426192473838, 105.98081506577789, 106.86900311161199, 104.79351450261163, 105.53995330578249, 108.70668427947156, 108.31931877610756, 106.60878758917568, 107.32561970818642, 109.37082707603203, 108.88033356183061, 105.94604027988117, 109.10696895825043, 108.41396829070749, 108.07191131710462, 112.10966482101156, 107.07301381814142, 109.28732686630227, 110.06353234273104, 111.99723602962428, 108.95021519833045, 111.5842217232065, 111.87738858690128, 107.63694078765462, 113.30952924653764, 110.73889461504916, 110.98808721250484, 116.31507347578486, 108.80650723169617, 112.97200577572775, 112.65982968723998, 112.00585621283636, 114.4924043585496, 113.46494104664748, 113.98275236852123, 113.26336572502066, 114.38155114012574, 114.53143746960126, 114.80733511015751, 115.2943384576468, 114.13770140205412, 115.69685991739826, 115.4385457602477, 115.56324525493585, 115.95080155097446, 115.06175862742762, 118.21478630583124, 118.4007232860348, 116.36928046718418, 118.67013041461698, 117.32591454266313, 116.20471814467055, 117.3435011451819, 118.0643159972213, 121.26323472455428, 117.46752117951007, 119.48649899776473, 120.21935988933284, 118.81731464463434, 119.40595109514629, 122.80063987394323, 121.23835012249353, 121.01637152425474, 119.32057384917118, 122.13407943467189, 122.75898929105645, 120.62862805526245, 121.86089028204407, 121.08549279076101, 126.11952495144519, 122.73936855539012, 123.00638074405862, 120.01820043246107, 122.2909928798539, 125.3400663266558, 124.53380093568393, 122.6564067854892, 125.69176901959817, 122.20277055519938, 126.14484762941004, 124.3258512846989, 127.26033993503118, 125.41300309041179, 126.5248721349796, 126.06811875069292, 126.47953607077453, 128.5172585096087, 128.3761275057252, 124.54036448329788, 127.43162822694305, 128.79855077880944, 126.48287537223729, 128.47727228484734, 125.7229367830991, 130.63041179303897, 127.48032898385554, 128.78428689146415, 130.2932717987611, 131.3939404446653, 128.8230834045126, 129.4947327913768, 132.4718812652436, 128.44122621224943, 135.25586954803032, 131.27805941579265, 129.975332975718, 131.90504299330337, 133.24722422636324, 132.09223055447, 132.74385253341583, 135.23328059851588, 130.45832432865694, 133.87788211544012, 134.69442551989127, 134.6681255157941, 133.61940448928556, 133.81993279913195, 136.67629258827162, 135.1695977394408, 133.08444732893054, 133.54298857938988, 135.33144162054225, 136.87036190274637, 136.39506305634302, 135.75177615679854, 138.99173848639722, 138.28156711186557, 135.2795891356369, 137.0837008423557, 137.82445273270946, 137.13497891199137, 140.09653275730653, 135.9044532388316, 140.83063016178514, 138.8585408020606, 137.3955543510362, 139.65196361405992, 139.24663688082398, 139.50804327377148, 137.89986702403615, 143.30878932605708, 138.93541739871588, 143.2573510313427, 141.45029716190902, 138.75258276020622, 140.99036702797923, 141.23932307766535, 142.89428598439525, 141.3374894803802, 142.31954950241814, 143.16204413421752, 142.13401692340767, 144.62825402343105, 144.0952107207582, 144.4064882698234, 144.48757247886385, 141.2162710351397, 145.2811346273947, 145.01807731637552, 143.44714975119734, 146.03999750856462, 146.29979673992335, 146.11613724051148, 143.73543260544386, 147.32361354201225, 147.43609170823527, 147.45190325356901, 146.6885053969641, 147.6838961353386, 151.3206866487965, 145.31740932894957, 148.73592741526812, 148.94096197553722, 148.41714505824882, 148.1614076929198, 150.4524725473869, 148.08441259473386, 148.23592255102258, 149.3675425266124, 152.31403298329775, 147.17896379232377, 152.26879168211528, 150.99992022155476, 149.98013784853345, 151.70841659997177, 155.39562446546321, 150.12041033852648, 153.07326531936695, 150.3133798999935, 157.37342423552698, 150.07996256523325, 155.08693900477533, 150.93228836478295, 152.64426075767446, 156.79807836393002, 153.64645724770202, 152.5788158042385, 154.96880234968927, 154.09917901133025, 154.7885785458406, 157.26510203131147, 155.93890976368752, 156.51256840370104, 156.7849460298164, 155.25788454906103, 157.8633105293583, 157.642057073503, 158.80502600417753, 155.656071044329, 161.44232248071447, 158.1797979634461, 156.64276523268393, 156.30111456180748, 157.67756769921974, 160.38665971395972, 159.28380796388666, 160.4572063710982, 159.86764260260372, 159.60715016498904, 161.06908677422797, 159.05534724513632, 161.09371462118992, 163.67623754289082, 158.94759749336566, 161.6985046261808, 162.67506247750293, 163.72351300549025, 160.95975884610624, 161.60651797215792, 160.93323960611775, 164.7920817150587, 163.76064809615218, 162.25821980739147, 164.38332472264617, 163.58713040253986, 163.78573909507656, 164.50781239571302, 165.06509594437458, 164.11827154029157, 165.01338536396815, 162.53452108245608, 166.97524644498912, 164.6874533209804, 166.79900262266875, 164.887215655791, 166.1896018489607, 167.56714353628252, 167.78976332309372, 164.76259978066253, 168.27779219354946, 167.34055945625522, 169.5700895765313, 167.0391807107585, 167.73114620910493, 167.78893062822658, 169.84821976095589, 170.87684720670632, 170.8122290529082, 169.35349313523693, 169.92211363926145, 170.3784328156653, 170.21042997228642, 172.68048205098654, 169.52895672043553, 173.13606458670347, 173.82546335384995, 172.53911056125293, 169.6190029889882, 172.7739164137605, 173.91164675015054, 171.97920119950965, 173.43961207429913, 173.0414255978527, 173.835679850585, 173.05450255802856, 174.88222308296133, 174.39210170791875, 175.42352173421577, 175.44808934929483, 173.51538471216475, 176.45540389044368, 178.5622309097168, 178.3310536097061, 173.1893876899387, 176.1921695079892, 177.24509046934205, 178.0624453266131, 174.57137454746157, 176.58431893805925, 178.48553046810184, 178.96167060125362, 176.2303822379488, 177.86025416347957, 178.02072927313947, 178.3064311867126, 179.79773244411604, 179.16797842459505, 178.94759649487904, 179.02690991637422, 180.08226228252136, 180.46401627638966, 183.20605596806044, 179.6551377441524, 180.909182696627, 181.6957246444806, 180.3596850090425, 182.25414301022232, 180.73624339386652, 183.789482856552, 182.6129603954284, 183.19043265781545, 183.90146432120207, 184.2814597997566, 184.27083921219864, 183.47771085459084, 185.92053792572403, 183.09630024897524, 186.80849091846588, 184.26017252013128, 184.631300621631, 183.9389975712304, 185.65301338444323, 184.3660614008101, 188.43181935368455, 184.50926359325115, 185.38539807790067, 187.89026182242873, 186.74946975802038, 186.04712558895676, 186.30482961918406, 188.05721348755986, 188.04853145846255, 189.27423892351646, 188.2823538735914, 189.23547685142046, 189.68258942171758, 188.2969048525764, 189.29107409671656, 189.22759222494074, 192.52881837924133, 189.35581213383443, 190.61686799937291, 189.2686566362426, 192.23987487071236, 191.24103251578754, 191.24504162090315, 192.27036280579415, 191.76047303850328, 194.52885756568628, 194.2022742303962, 192.8317355717137, 191.31379371965488, 195.07426531721717, 194.5948760003454, 193.9680270338239, 192.82300065954962, 194.12810107610073, 192.69069185356105, 196.17396382100725, 194.69970189777735, 194.21683289062537, 194.04520270132474, 199.05123302159626, 195.02833301238854, 196.2483469574671, 195.41042454260088, 196.2017925567854, 196.46657269307457, 198.5841778852772, 198.18445714690455, 198.7177571427311, 198.1572823135748, 196.65024614028664, 199.23370056111904, 197.41682393262704, 200.67410652244143, 197.99723905563962, 198.79575963036035, 203.37588416241334, 198.65228230945138, 200.54067099255803]}], {}, {\"linkText\": \"Export to plot.ly\", \"showLink\": false})</script>"
      ],
      "text/plain": [
       "<IPython.core.display.HTML object>"
      ]
     },
     "metadata": {},
     "output_type": "display_data"
    }
   ],
   "source": [
    "iplot([Histogram2dContour(x=dx, y=dy, contours=Contours(coloring='heatmap')),\n",
    "       Scatter(x=dx, y=dy, mode='markers', marker=Marker(color='white', size=3, opacity=0.3))], show_link=False)"
   ]
  },
  {
   "cell_type": "markdown",
   "metadata": {},
   "source": [
    "For the first-differenced data we see that (i) we have now four regions where a lot of data points are located and (ii) that the data points in general are much closer to each other than before. Note that the axis decrease from (3000,1000) down to (600,250).\n",
    "\n",
    "We thereby clearly see how the first-difference already changed the shape of the data\n",
    "\n",
    "#### Relationship between two first-differenced $\\Delta^2 y_{it}$ and $\\Delta^2 x_{it}$ (i.e. FD-FD)"
   ]
  },
  {
   "cell_type": "code",
   "execution_count": 9,
   "metadata": {
    "collapsed": false
   },
   "outputs": [
    {
     "data": {
      "text/html": [
       "<div id=\"9afaa8d0-98d8-4e6b-b42f-829105eee91d\" style=\"height: 525; width: 100%;\" class=\"plotly-graph-div\"></div><script type=\"text/javascript\">window.PLOTLYENV=window.PLOTLYENV || {};window.PLOTLYENV.BASE_URL=\"https://plot.ly\";Plotly.newPlot(\"9afaa8d0-98d8-4e6b-b42f-829105eee91d\", [{\"y\": [-5.622517468918699, -0.25736868905389976, 2.7018052717718266, 0.011102706528717476, 0.00014033691775594548, -7.501345853375657, 0.6302236927478866, 2.5630048333522666, -1.1120094473107613, 2.6423184026663087, -5.818078614098674, 4.095829539244988, 7.549013409047106, -2.0692735143921652, -1.311929367652894, 11.284126136123799, -5.734680847201574, 6.057810639631477, 1.040943301753714, -2.286361345948052, -1.0135143987631636, -6.607715311653692, 6.802215197663955, -7.468880839760544, -4.0736410394791065, 0.23970481476850125, 6.762613318570075, 1.4250139386181289, -1.3592953689341414, -1.6719264158707148, -1.1401465248487312, 1.092377721020128, 0.5190506410713311, 0.24960345524165461, -0.8026926293464243, 2.104103609903987, 6.066375526905901, -9.296776197796177, 4.241722576609405, 5.014981563609901, -1.9681617613308475, -1.264315809519644, 5.38925366519301, -8.240667819334021, 8.112327998308189, -0.6966039936258142, 9.240530715741286, -12.553938161142327, 2.2202578325282687, -2.440398228312631, -2.1976810008435166, 1.6130925132858707, 6.261410821136238, -4.238616997440516, -10.250078018323421, 10.517071164848744, -0.4969617663965664, 2.7994974676743993, -4.574900307367088, 2.851741330911352, 2.470554476481979, 1.595741574712605, -0.7755671288213364, 1.2752956697544136, -3.7093751800589416, -1.3830700155991167, 1.3354051614580413, 3.1795939228153998, 0.754081600403282, 4.282038822393233, -3.9752574769017315, 3.627482808459092, 3.73991430232212, -2.477098800971703, 2.316133026426286, 0.7335097568481217, -1.4980170013098189, 4.882937439319193, -16.158245957417066, 9.391587180913916, 1.3850858037907017, -2.6432902694915015, 7.637925414772781, -9.568502983858991, -1.4601511314366888, -6.01324148634626, 6.162764674552761, -0.17069054567056696, 3.588639220854702, -9.679119011717944, -9.817821903303354, 6.727071858691033, -2.5017045099916118, 1.1831018327978597, -7.53511707215452, 10.089623183842377, -1.7558175777611211, 1.7428503624045675, -0.6247155857625444, -2.0383505392618417, 1.905008383970852, 0.3621603409878844, 6.959593539039275, -6.537227851980106, 5.401222590436873, 4.789185644211983, -4.5221611773240795, 5.033454805664178, -8.476220734818355, 5.886002689815825, -0.4800575562582594, -1.2186645884737146, -1.4873120445332972, -2.001238272335172, -10.025062213250095, 5.009549506259219, -1.150112731419199, -2.849471824664377, 0.5157979465341498, -4.687969790792863, -5.516633491135352, 6.849538418070466, -6.344535238738899, -0.12172477973894047, -6.293866778070225, 9.044855779618672, -0.9785219651571424, 0.903905003902139, -8.636474115957299, 12.727084635239322, -7.747419119084327, 5.787229601551076, -1.6753083563701523, 0.5627936141025316, 2.7288864667839334, -7.2384356910900465, 12.133116693084787, -10.374737568779608, -6.852887060834888, 11.878731709004683, -10.512236021492754, 2.885435054038453, 1.0159256550603004, -3.7290453295512407, 8.299168838941341, -6.979053126229246, 1.9401477006884988, 4.068365540865216, 0.32205326476497476, -3.2170249913936004, -4.168459738389231, -1.5920697070853862, 8.942824786669746, 3.873579078461262, -0.9144201277026696, -5.519542175799074, 11.578512782057544, -11.601711061284618, 3.4663423002587592, -8.005736677000925, 0.8417612232517513, 0.2451027187598811, -4.668807969185366, 8.740112006198103, -5.361791619696362, -8.026806145642013, 5.432959247058534, 0.9572822642119263, 5.696080529894033, -8.546430687792224, 7.495959271447646, -6.020103289129622, 4.003670196877977, -0.21700426944778428, -9.480026285050855, 5.622855934678341, 2.0765679439444966, 1.9626896667179778, 0.7383810469404466, -7.675710461863673, -4.034507725296976, 3.5076207096291228, 4.096703701567776, -6.061162737939412, 1.9956132511187548, -0.29347035018179213, -4.0400564026003, 8.64687887307025, -8.79051739503825, 2.0141369450631714, -5.980530857135932, 7.070188626278082, -0.12207096215456659, -1.0090148672422288, 3.642858583575048, 3.9918592965416337, 1.5588629317702498, -2.291888080256399, -6.265221149266438, 0.6921244322490452, 5.428853776882988, 1.618733059758938, -1.0630055179249212, -1.9065967757361477, -0.8781677201027946, 8.279319681649667, -6.545551642168675, -4.428500360710103, 6.642686116656307, -1.803581684584742, 10.696678339283267, -11.778787285424698, 9.634941717056904, 4.324250752955891, -2.1209012009180697, -1.7723645533725403, -3.013141046919685, -2.906102906856802, -0.11181044144075258, 1.9065044326590623, -6.13723608670017, 5.081893288405581, 0.4007575408967625, -4.768179537151752, 9.108533408323296, 0.026488797034573963, -0.04664993796535555, 1.2651324739155143, -2.360670457396253, 0.6315316488011149, -1.3350962855432726, 2.2340990354163637, -1.0205836776396495, -1.6646823195358138, -10.86167130724371, 2.995304226640428, 6.179222233081646, 6.52014036203596, -6.535705091908142, 8.151388697991479, 8.266376423795009, -5.413573642348922, 2.3861584648433336, -4.148365723174237, 8.030134537994002, -1.002915722432249, 0.454776326852425, 0.938968317386184, 0.216469112910886, -0.6091415696068907, -2.77480678482101, 5.553251885743634, 11.448309500036032, -7.75360738726522, 0.15789526964397282, -9.268313912810754, 3.490870923419834, -1.1876156225683872, 3.940304482541535, -3.0852109910955505, 7.485208265562619, -0.12076308379926104, 1.7947598602210064, -3.8922506417409295, 5.950877572737397, -5.946510478012101, 6.653111867472717, -3.1241341776000127, 3.4954628772328533, 1.848584824976001, 2.3523021198234346, -6.9384054933177595, 7.525265224816167, 3.499180385841669, -7.207984442490556, 1.4568839802358298, -7.754698005844034, 10.408456980690971, -4.950377398104592, 3.901481766211475, -11.370361161743176, 7.422957294901153, 2.9831130852222145, 0.38653829290751673, -1.1553091073858468, -9.932748961500977, 10.743585447955638, -6.700591405665705, -1.0986365092708752, -1.2998980190295697, 3.70131715589298, -6.438663595654248, 4.36260944272351, -4.664426410590977, 4.1561181011555846, 0.6261364734610879, -4.6363528837938475, 3.716541562828695, -5.498598690362314, 8.443024911482212, 0.05789977781608968, 0.5247332390165411, -0.17938519972108224, -0.8221297715961668, 5.8186401819197044, -5.2611108167114935, 0.2147933419137189, 1.6599787017714789, -0.20786964286799048, 4.787508932327967, -4.511445362388258, 1.540713942961247, -3.283097734064654, 4.942462451856386, -3.6590794529253117, -0.26917975595534926, -4.313991705385433, 5.396835290350509, 1.1996149171697539, -6.295560149831431, 3.4730174894453967, 1.9764588564263477, -8.81389940360748, 7.494260558296219, 0.12209989985137781, 10.149459923172913, -13.599040979229358, 2.187547217808344, 2.9785724747437143, -5.8433203416138895, -0.184630076219662, -6.008757017975427, 12.85091343906754, 3.6908175125291223, 10.341560822010592, -15.441476657292128, 4.517623344188394, -6.992316545808649, 5.612668612067864, 0.008834607727465027, -0.9189669208019495, 1.5332220730074368, -3.501675492802974, 2.042910921190696, -1.1208567019007205, -0.2270116464707712, -1.318016964555568, 2.0732004941603464, 6.402743044454041, -0.7658934059876401, -4.024499760106437, 3.3842219619048137, -7.892731707517669, 2.2983218388483238, 6.875854506273129, -8.57403814969814, 4.672924620867661, -4.071170910525268, 0.270619394210712, 7.398714343392385, 0.45360534285060794, -5.7202819484241445, 6.9483415591794255, -4.036761252437202, -2.2152059439813456, 3.0836542143856605, -5.820750081385825, 2.1348531062785696, -7.6710054843606486, 5.724047951513512, -0.15142169751993606, -6.457878491151632, -12.420478340148861, 12.890803594245426, -7.009595848386198, -6.398008604253505, 2.85685714324984, 0.9803627686981145, 7.071796296353, -2.4504009237134596, -5.08429567060989, -0.36322602322388775, -1.983108239385274, 2.981555343112632, 9.25823513305562, -7.818566749920478, 2.7087802238283984, 5.494511057122736, -5.608547973319105, 0.8237824014497619, -9.424830265897924, 17.077276788213567, -12.992211200276415, 2.253322794823589, 5.815901610152878, -4.986804948185636, 7.273955940638189, -10.424962350940746, 8.996914257571916, 1.6645243271229901, -3.830325667534794, -1.75980836011081, -1.3174752912320855, -5.951547658637537, 2.4049915599725864, 4.256284825320108, 1.3643295214873206, -3.6809154766781376, -2.229320058369524, -4.223736817279587, 0.590654600632206, -0.13685474163492017, 4.025143096338184, -8.789798017081466, -1.8040051054915125, -8.356829203893767, 7.788642692953317, -0.5775753671384791, -1.050820217795149, 6.7749206052328645, 10.879071461068975, -10.479218960980688, -0.760810294062594, 1.7542041052920467, 2.4240139491427044, -2.324327352744831, 4.359841713084165, -7.404497278912459, 10.970063876003906, 1.5063951174529393, -0.19308419581284397, -5.001622791256295, -3.95652825233509, 1.7442798674640017, 2.8562650319963723, -2.6481524922772905, -5.421109087361515, 11.26708266751075, -1.972544003655969, -1.0826679023826955, 3.7962257758570104, -11.135701575843939, 1.073000866274242, 9.24678403871917, -1.1503103049174115, 3.883651815065832, -4.560353220939305, 3.1048378398687646, 5.23430944129268, -11.522221402499099, 2.5540992101837787, -6.932056752108906, 7.216847868559626, -15.692110592831057, 12.668909217349324, -9.691992673945833, -12.400698738305664, 9.062345290326107, -13.034038569303448, 7.279535111995415, -6.132903853819471, -2.213567088805121, -0.7308563889346829, 1.4068468062283728, 5.694017747430053, 4.703666539876679, -4.612586995670881, -3.7751498969544173, -2.344661003369424, 4.498738561756227, -3.7021843929326224, -6.125616136332326, -2.940226664302827, -4.614628584715547, 3.5329325201190045, -2.9192785477382586, 3.5488380965016404, -1.9707318842717427, 3.340900186741237, -3.3777185100750557, 8.031478443958747, -9.723820026022509, 3.4461467856010586, 3.9461596617197756, -8.049897132369551, 4.200460311898723, 9.830989211297265, -3.679187130014043, 1.5546915204665765, -2.1043527331455607, -1.1338829422510344, 4.200489288408335, -0.8817792133440321, 1.7263390867667567, -2.260930815295751, -2.318235617868879, -1.2667786857780357, 1.9557757091640724, 1.222549128632977, 3.831141556085072, -6.646997513151064, 3.3940798856676793, 0.4022946778986807, -3.649679399584784, -3.679997273537765, 10.192192129731325, -2.0927414993711864, -6.448968936981714, 6.405541066164119, -2.434086185670594, 3.5357885939635025, -6.514389496015156, 7.293109490123243, -4.129570665703682, -5.13695418824841, 6.644401266143404, -5.992528508994155, 6.532121563104283, -2.2745647881351942, -2.1255076637430648, 5.34968521896576, -1.9863864655687848, -0.6276877211909095, -3.9799414131096, 5.151150680251703, -1.428320468269476, -12.684759376641068, 10.34792441990976, 2.481457339352346, -5.715912543942295, 6.114945709620088, -0.7991317220402152, -4.50981933146204, 4.334268916072915, 5.51259901593437, -0.03415017957490818, -1.6538675871008763, -0.7689327105365464, 1.389162990374416, 3.623790413198776, -5.34767015825912, 2.8703146709240173, 0.9340478271519714, 4.98235999003316, -0.6946641296210601, 2.5555724700984683, 4.441500765029446, 2.5252529321405746, -1.6491521293617097, 2.379596503462949, 1.8633734832553728, -3.8730980894893037, -1.4814631306560386, -0.7904883725166201, -0.5311414088666879, -3.1324567916141177, 10.905431623332106, -9.171612893708243, 6.434577391389894, -6.813938673716848, 5.20997746001126, 1.212055193527931, 1.5188677522371563, 4.469734511697425, 2.601784231965894, 4.5272454682690295, -5.162355969908731, -4.220838391370194, 9.134702055554044, -5.905333136840227, -4.345011718449314, 9.273054951765744, -4.6937214140527885, 1.3514226326830112, 0.3953799797097872, 3.096016185287681, -4.912712004147238, -1.563933692662431, 6.5808716202002415, 0.04965503111111502, -4.420838018591439, 2.3902244107996466, 5.13557544336868, -3.867818480574215, 1.7628413995510073, 8.95712419180802, -9.257467165204616, 3.9326557022588986, 5.379662749693239, -1.8900715912054693, 6.6511480648762245, 2.337898481731031, -3.069135794495196, -2.3494037299947195, -4.4206989215236945, 9.271814272238089, -6.462223964129407, 11.312889193013348, -12.307365122634565, 3.7855016228691056], \"x\": [-2.154504088547079, 0.5766057615454256, 0.5922363664612575, 0.8904337297319045, 0.6315170198418363, -4.166049961260791, 0.5369933217869733, -1.110392548623687, 1.0911722779094806, 1.690032172332523, -2.7410214265255997, 1.7371523395785573, 2.810263197528162, -0.5283095190385847, -2.3392587558350577, 3.254481313572721, -1.608623795113246, 3.193164593949099, 0.43721431423368706, 0.05209952454058531, -1.9074207673462382, -2.558351147858078, 2.7887114062475504, -3.9978101696796564, -0.7210167284278484, -1.8160812555556056, 4.506305958761409, 0.742451084586035, -0.05885031986047551, -1.424325665133729, 2.669602700953133, -1.6546778338557004, 0.30178659267230756, 1.2688148141123854, -0.4377909224529084, 0.7224322074181373, 2.5963069026312766, -1.6831524938318232, -0.4835597511683076, 2.626027392924618, -1.8553614484472725, 0.44790823666002666, 2.3247551800237805, -4.223578490051917, 5.542888911846163, 0.33558392794166636, 3.7109988708073516, -5.421336172955542, 1.9194764140011493, -2.2165028517283716, -0.708996932522794, 1.5421018507027853, 1.6935208730252924, -0.9936440140313252, -4.658852623654369, 4.494769363022492, 0.8255865414831476, 0.20965145627574344, -0.5879262609229627, 0.14431500384390006, -0.12240335207565067, 0.2743186306301979, 1.0948469410030768, -0.5985235164776945, -0.29208093996096096, -1.9574495745599592, 1.9375662578945345, -0.33938662249695994, 2.01113280422706, -0.6885663555335633, -1.1962249836235443, 1.865911672820232, 1.5787324125863798, -0.3207127246824868, 0.7497288752165048, -0.3987322817152297, 0.02546502224766556, 1.0949724722777887, -8.017127015922686, 3.4211108845762865, 0.8848434160089198, -1.9117262481588249, 3.2854008640314376, -3.5809994221104375, -0.7153295681449734, -2.5593982645536357, 2.528323589321758, 0.6887177267193003, -0.1592293425972997, -2.231514881885502, -4.558858587979451, 1.4067288311820718, 0.5923445448964486, 1.9923775060801638, -3.8515313416753756, 4.896038018063237, -0.46481066149144823, 0.7888755144555546, -0.704696635059264, 0.15011054379313293, 0.5646072893622716, -0.6407206147351303, 5.407412140244666, -5.20859575196873, 3.680947705425183, 2.2223608962493984, -1.7001646848192848, 2.856652602474284, -3.9478323130839144, 2.971125373374207, -0.11108713632692968, -1.2079941188460168, -0.19363324582590735, -1.833507330779483, -4.399399486408846, 2.874667721188885, -1.4794180748934593, -2.5377680868547188, 1.0807658827927042, -2.8847504743520886, -1.7645160763706471, 0.7585888693991905, -1.1496136106078296, -0.23567111275801267, -2.359244569047817, 3.8964992148528665, -0.8677791883426877, 1.3541993987934546, -4.092802621127646, 5.312064177488246, -2.1582205481823564, 1.3138495999756685, 0.451579658015973, -0.47604974859757476, 1.2109720295913462, -2.2157738502063893, 4.9131423477049765, -4.97137462116936, -1.9051017379721316, 4.200614865720155, -3.8553205024010424, 1.5910985473951342, 0.08843555989065521, -0.3403987061716407, 4.0047365976765334, -2.848176530117101, 1.9990599028025997, 1.679066225814033, 0.6417357133329347, -2.5588810906880894, -0.3969446163951389, -1.86253981755803, 3.9668748823481508, 1.3649754173206503, 1.1237689600860534, -4.223577016271662, 4.846612620196936, -3.459155668353077, 0.16964812580346234, -2.5398552603076467, 0.6895647459032688, -0.7249979547973169, -1.757197419213533, 4.6059613881959365, -3.0794614543972614, -4.540672546026158, 2.4049718802277624, 0.7911598584558703, 0.8968128887209019, -2.464128282247387, 2.857905097518909, -2.401718749970307, 1.2338667443736, -0.15817476104692219, -4.599637187846653, 2.952304593022589, 0.7906168336805877, -0.1412143962416934, 0.3784859063600976, -2.18814559218265, -3.317777671720499, 2.229499072224783, 1.9396239074569337, -1.7706964847875, 1.1987313831113795, -0.46927758515744245, -1.1400463895152342, 2.7390210065908462, -3.280065728571458, 0.7666628193132397, -2.9377818641605984, 2.722994239886276, 1.305398765136772, -0.08322477599617173, 0.6300201727244144, 2.467374063112544, -0.4058827702003782, 0.6704492799229627, -2.000298719398515, 0.1178843191182466, 2.139468662898622, 0.10819160189164734, -1.3114180119499963, 0.08647009496581859, -0.029962866714427605, 3.683751374746265, -3.308059695497832, -1.3016000982238012, 2.7866645349645864, -1.6132574126219765, 3.7921746335029383, -4.455788408610317, 3.726283327769096, 2.2670691741152353, -0.3923206916640254, -2.577452243914138, 0.7283377577749803, -3.7204588015871423, 0.720592351026113, 2.7657394695285262, -3.598050236721406, 1.0316102191302434, 0.8885900917634189, -1.722953264335331, 2.7516393859124264, 1.0820338314444768, -1.098385146316673, 1.1643647232251055, -0.629875701310354, -1.4914672167439846, 0.33195218257651504, 0.43067396033241323, -1.4326641945515917, -0.5077006059140388, -4.637946634574206, 1.7354988804378308, 2.3320164791603872, 1.858544173178828, -1.8708433715812305, 3.02195345845206, 4.621116806341632, -3.1322710915073344, 1.7845396570020569, -3.059104768170826, 3.325024861818804, 1.1076838652958259, -1.3898993039580603, 1.9750693803847525, -0.5747002822792524, 0.4647169134378686, -1.6949499330551419, 2.5037757608293703, 4.583311617557072, -4.014599012092731, 0.853358152832044, -3.8592159705129774, 1.5187867400348978, -0.3362659679335138, 1.0964773567325778, -0.009257165988628913, 1.6548006564538582, 2.494353691628703, -0.05845578489081049, -2.4574459091727476, 5.013043654681169, -4.541240954858949, 3.7999717242674933, -0.5267613288793598, 1.1985369022997077, 1.3465514483037282, -0.3972699891567686, -3.022314829228435, 3.463182885591209, 0.057454595132668373, -1.9230301839856736, 2.66430627813628, -3.6647883598159723, 4.2070179033652835, -2.0968176155382707, 1.2923308622577565, -3.1918250655128304, 1.7334190711792417, 0.62869610846397, 0.006931845151086691, 0.34387824363722075, -5.673459059518905, 5.581892827594231, -2.9683837085132723, -2.7042752768092413, 1.4299647254770207, 0.24211516182191417, -1.0189988494734905, 0.17060045996544204, 0.008072951353597091, 1.1444961595660033, 1.5523803326289567, -2.7970514452831026, 0.19158859176451415, -0.8389332743842601, 3.932172761052243, 0.7106890577557863, -0.510235345205615, 0.10266247208977575, 1.0798759904987492, 1.7845899655931703, -1.3801000534627974, 0.7354529760253001, 1.8998792611667739, -0.546035387063796, 1.662879612371981, -2.83786417380378, 2.9303280482533864, -3.5776215460988112, 3.990733466310104, -3.5297837144225923, 0.8881880458340987, -2.0754886090003595, 0.7464388031708609, -0.3873655033639949, -1.7105311869318882, 0.7168321190107463, -0.4904935142014182, -2.9342932819494365, 3.1609286783692596, -0.34205697360286536, 4.037753503906941, -5.036651002870144, 0.7762054764287711, 1.9337036868932387, -3.047020831293821, 0.29316686369477907, -4.2404477992466525, 5.672588458883013, 0.249192597455675, 5.32698626328002, -7.508566244088684, -0.31217608848777445, -0.6539734744036139, 2.4865481457132432, 0.5178113218737508, -0.7193866435005702, 1.1181854151050743, 0.2758976405562521, 0.4870033474892921, -1.1566370555926824, -0.2583141571505507, 0.12469949468814434, 0.3875562960386105, 3.1530276784036175, 0.18593698020356442, -2.0314428188506213, -1.3442158719538497, -1.121196397992577, 1.1387830005113528, 3.1989187273329804, -3.795713545044208, 2.0189778182546547, -1.402045244698499, 0.5886364505119559, 3.394688778796933, -0.22197859823879185, -1.6957976750835542, 2.8135055855007067, -2.1303612357939983, 1.2322622267816143, -0.7753974912830586, -3.380156396055071, 0.2670121886685024, -2.988180311597546, 3.0490734468018985, -0.8062653909718733, -1.877394150194732, -3.48899846439879, 3.9420770742106583, -1.8189963447111381, -1.8473368446193916, 1.1118690445678112, -0.4567533842866851, 2.037722438834166, -0.14113100388348698, -3.8357630224273294, 1.366922551866395, -2.3156754065721543, 1.994396912610057, 4.907475009939873, -3.1500828091834308, 1.3039579076086056, 1.100668645904193, -2.5708570401527027, 0.6716493868642033, -4.030655052994177, 6.814643335780886, -3.977810132237664, 1.9297100175853643, 1.3421812330598755, -1.1549936718932372, 2.489428065100043, -4.774956269858933, 3.419557786783173, -0.026300004097180363, -1.048721026508531, 0.20052830984639058, -1.5066948488308185, -2.0851504105102663, 0.4585412504593478, 1.538920282204117, -0.47529884640334785, -0.6432868995444778, -0.7101713745316545, -3.001977976228659, 1.8041117067187997, -0.6894738207180922, 2.9615538453151657, -4.192079518474941, -1.9720893597245492, -1.462986451024392, 2.256409263023727, 0.26140639294749235, -1.6081762497353225, 5.408922302020926, 4.321933632626809, -1.8070538694336733, -2.6977144017027967, 0.2489560496861145, 1.6549629067299065, -1.5567965040150398, 0.8424946317993829, -1.028027210809853, 2.4942371000233834, 0.31127754906520977, 0.08108420904045488, -3.2713014437241554, -0.26305731101916763, -1.5709275651781809, 2.592847757367281, -0.1836594994118741, -2.380704635067616, 3.588180936568392, 0.01581154533374729, -0.7633978566049109, 0.9953907383745104, -6.003277319846944, 3.4185180863185565, 0.20503456026909817, -0.2557373653290256, 2.291064854467095, -2.3680599526530273, 1.131619975589814, 2.9464904566853534, -5.135069190973979, -1.2688714605605185, -1.0197823730213145, 1.7282787514383244, -5.275214126936731, 2.9528549808404705, -2.759885419373461, -7.293461670293738, 5.006976439542086, -4.154650639992383, 4.153817606255558, -3.151621116228, -1.0676414434635149, -0.8696233383590197, 0.6893995345103576, 2.4765234854708638, 0.5736586400135195, 0.27237762611537164, -1.5270614807553784, -0.22125345585530454, 1.1629689306745377, -3.1489549598485382, -3.2625245172683606, -1.5370327307621778, -0.3416506708764473, 2.70909201473998, -1.1028517500730572, 1.1733984072115504, -0.2604924376146869, 1.4619366092389328, -2.0137395290916515, 2.5825229217008996, -4.728640049525154, 2.7509071328151435, 1.0484505279873133, -2.763754159384007, 0.646759126051677, 3.858842108940962, -1.031433618906533, -1.5024282887607114, -0.7961943201063093, 0.198608692536709, 0.7220733006364526, -0.946824404083003, 0.8951138236765814, -2.478864281512074, -2.287793124008715, 2.111549301688342, -1.9117869668777416, 1.3775416873218091, 0.2226197868112081, -3.0271635424311967, -0.937232737294238, 2.229530120276081, -2.530908865772801, 0.05778441912164567, 2.0592891327293046, 1.0286274457504305, -1.4587359176712766, 0.5686205040245227, 0.4563191764038379, 2.470052078700121, -3.15152533055101, 3.6071078662679383, -1.2863527925970288, -2.920107572264726, 3.154913424772303, -1.9324455506408924, 1.4604108747894884, -0.39818647644642624, -0.7811772925564355, 1.8277205249327722, -0.4901213750425768, 0.024567615079064353, -1.9327046371300867, 2.9400191782789307, -0.23117730001069958, -5.141665919767377, 3.0027818180504937, 0.8173548572710558, -3.491070779151528, 2.0129443905976814, 0.47614013315177317, -2.7312883633048273, 1.6298719255307788, 0.2857019135731207, 1.4913012574034497, -0.6297540195209876, 0.07931342149518628, 1.0553523661471331, 0.3817539938683012, -3.5509182239080417, 1.254044952474601, 0.7865419478536069, 1.894458001179828, -1.5178996163558054, 3.0532394626854966, 0.5774722623870616, 0.7110316633866205, 0.37999547855451965, -0.7931283576077988, 2.4428270711331947, -2.824237676748794, -2.548318398334601, 0.3711281014997212, -0.6923030504005965, -1.2869519836331165, 4.065757952874435, -3.922555760433397, 2.504863744528052, -1.1407920644083447, -0.7023441690636218, 1.7523838683758015, -0.00868202909731508, 1.2257074650539153, 0.9531229778290538, 0.44711257029712215, -1.3856845691411763, -0.06348187177582076, 3.3012261543005934, -3.1730062454068957, -1.3482113631303037, 2.9712182344697453, -0.9988423549248182, 1.0253211848909984, -0.509889767290872, 2.7683845271830023, -1.3705386586825057, -1.5179418520588115, 3.7604715975622867, -0.6268489665215213, -1.1450263742742663, 1.305100416551113, 3.4832719674462, -1.4742619232299035, -0.4828690071519759, 5.00603032027152, -4.022900009207717, 1.2200139450785628, 0.7913680141845134, 0.2647801362891755, 2.1176051922026318, 0.5332999958265532, -0.5604748291563055, -1.5070361732881565, -1.8168766284919968, 3.2572825898143947, -2.6768674668018093, 4.5801245320529915, -4.723601852961963, 1.8883886831066548], \"type\": \"histogram2dcontour\", \"contours\": {\"coloring\": \"heatmap\"}}, {\"marker\": {\"opacity\": 0.3, \"color\": \"white\", \"size\": 3}, \"y\": [-5.622517468918699, -0.25736868905389976, 2.7018052717718266, 0.011102706528717476, 0.00014033691775594548, -7.501345853375657, 0.6302236927478866, 2.5630048333522666, -1.1120094473107613, 2.6423184026663087, -5.818078614098674, 4.095829539244988, 7.549013409047106, -2.0692735143921652, -1.311929367652894, 11.284126136123799, -5.734680847201574, 6.057810639631477, 1.040943301753714, -2.286361345948052, -1.0135143987631636, -6.607715311653692, 6.802215197663955, -7.468880839760544, -4.0736410394791065, 0.23970481476850125, 6.762613318570075, 1.4250139386181289, -1.3592953689341414, -1.6719264158707148, -1.1401465248487312, 1.092377721020128, 0.5190506410713311, 0.24960345524165461, -0.8026926293464243, 2.104103609903987, 6.066375526905901, -9.296776197796177, 4.241722576609405, 5.014981563609901, -1.9681617613308475, -1.264315809519644, 5.38925366519301, -8.240667819334021, 8.112327998308189, -0.6966039936258142, 9.240530715741286, -12.553938161142327, 2.2202578325282687, -2.440398228312631, -2.1976810008435166, 1.6130925132858707, 6.261410821136238, -4.238616997440516, -10.250078018323421, 10.517071164848744, -0.4969617663965664, 2.7994974676743993, -4.574900307367088, 2.851741330911352, 2.470554476481979, 1.595741574712605, -0.7755671288213364, 1.2752956697544136, -3.7093751800589416, -1.3830700155991167, 1.3354051614580413, 3.1795939228153998, 0.754081600403282, 4.282038822393233, -3.9752574769017315, 3.627482808459092, 3.73991430232212, -2.477098800971703, 2.316133026426286, 0.7335097568481217, -1.4980170013098189, 4.882937439319193, -16.158245957417066, 9.391587180913916, 1.3850858037907017, -2.6432902694915015, 7.637925414772781, -9.568502983858991, -1.4601511314366888, -6.01324148634626, 6.162764674552761, -0.17069054567056696, 3.588639220854702, -9.679119011717944, -9.817821903303354, 6.727071858691033, -2.5017045099916118, 1.1831018327978597, -7.53511707215452, 10.089623183842377, -1.7558175777611211, 1.7428503624045675, -0.6247155857625444, -2.0383505392618417, 1.905008383970852, 0.3621603409878844, 6.959593539039275, -6.537227851980106, 5.401222590436873, 4.789185644211983, -4.5221611773240795, 5.033454805664178, -8.476220734818355, 5.886002689815825, -0.4800575562582594, -1.2186645884737146, -1.4873120445332972, -2.001238272335172, -10.025062213250095, 5.009549506259219, -1.150112731419199, -2.849471824664377, 0.5157979465341498, -4.687969790792863, -5.516633491135352, 6.849538418070466, -6.344535238738899, -0.12172477973894047, -6.293866778070225, 9.044855779618672, -0.9785219651571424, 0.903905003902139, -8.636474115957299, 12.727084635239322, -7.747419119084327, 5.787229601551076, -1.6753083563701523, 0.5627936141025316, 2.7288864667839334, -7.2384356910900465, 12.133116693084787, -10.374737568779608, -6.852887060834888, 11.878731709004683, -10.512236021492754, 2.885435054038453, 1.0159256550603004, -3.7290453295512407, 8.299168838941341, -6.979053126229246, 1.9401477006884988, 4.068365540865216, 0.32205326476497476, -3.2170249913936004, -4.168459738389231, -1.5920697070853862, 8.942824786669746, 3.873579078461262, -0.9144201277026696, -5.519542175799074, 11.578512782057544, -11.601711061284618, 3.4663423002587592, -8.005736677000925, 0.8417612232517513, 0.2451027187598811, -4.668807969185366, 8.740112006198103, -5.361791619696362, -8.026806145642013, 5.432959247058534, 0.9572822642119263, 5.696080529894033, -8.546430687792224, 7.495959271447646, -6.020103289129622, 4.003670196877977, -0.21700426944778428, -9.480026285050855, 5.622855934678341, 2.0765679439444966, 1.9626896667179778, 0.7383810469404466, -7.675710461863673, -4.034507725296976, 3.5076207096291228, 4.096703701567776, -6.061162737939412, 1.9956132511187548, -0.29347035018179213, -4.0400564026003, 8.64687887307025, -8.79051739503825, 2.0141369450631714, -5.980530857135932, 7.070188626278082, -0.12207096215456659, -1.0090148672422288, 3.642858583575048, 3.9918592965416337, 1.5588629317702498, -2.291888080256399, -6.265221149266438, 0.6921244322490452, 5.428853776882988, 1.618733059758938, -1.0630055179249212, -1.9065967757361477, -0.8781677201027946, 8.279319681649667, -6.545551642168675, -4.428500360710103, 6.642686116656307, -1.803581684584742, 10.696678339283267, -11.778787285424698, 9.634941717056904, 4.324250752955891, -2.1209012009180697, -1.7723645533725403, -3.013141046919685, -2.906102906856802, -0.11181044144075258, 1.9065044326590623, -6.13723608670017, 5.081893288405581, 0.4007575408967625, -4.768179537151752, 9.108533408323296, 0.026488797034573963, -0.04664993796535555, 1.2651324739155143, -2.360670457396253, 0.6315316488011149, -1.3350962855432726, 2.2340990354163637, -1.0205836776396495, -1.6646823195358138, -10.86167130724371, 2.995304226640428, 6.179222233081646, 6.52014036203596, -6.535705091908142, 8.151388697991479, 8.266376423795009, -5.413573642348922, 2.3861584648433336, -4.148365723174237, 8.030134537994002, -1.002915722432249, 0.454776326852425, 0.938968317386184, 0.216469112910886, -0.6091415696068907, -2.77480678482101, 5.553251885743634, 11.448309500036032, -7.75360738726522, 0.15789526964397282, -9.268313912810754, 3.490870923419834, -1.1876156225683872, 3.940304482541535, -3.0852109910955505, 7.485208265562619, -0.12076308379926104, 1.7947598602210064, -3.8922506417409295, 5.950877572737397, -5.946510478012101, 6.653111867472717, -3.1241341776000127, 3.4954628772328533, 1.848584824976001, 2.3523021198234346, -6.9384054933177595, 7.525265224816167, 3.499180385841669, -7.207984442490556, 1.4568839802358298, -7.754698005844034, 10.408456980690971, -4.950377398104592, 3.901481766211475, -11.370361161743176, 7.422957294901153, 2.9831130852222145, 0.38653829290751673, -1.1553091073858468, -9.932748961500977, 10.743585447955638, -6.700591405665705, -1.0986365092708752, -1.2998980190295697, 3.70131715589298, -6.438663595654248, 4.36260944272351, -4.664426410590977, 4.1561181011555846, 0.6261364734610879, -4.6363528837938475, 3.716541562828695, -5.498598690362314, 8.443024911482212, 0.05789977781608968, 0.5247332390165411, -0.17938519972108224, -0.8221297715961668, 5.8186401819197044, -5.2611108167114935, 0.2147933419137189, 1.6599787017714789, -0.20786964286799048, 4.787508932327967, -4.511445362388258, 1.540713942961247, -3.283097734064654, 4.942462451856386, -3.6590794529253117, -0.26917975595534926, -4.313991705385433, 5.396835290350509, 1.1996149171697539, -6.295560149831431, 3.4730174894453967, 1.9764588564263477, -8.81389940360748, 7.494260558296219, 0.12209989985137781, 10.149459923172913, -13.599040979229358, 2.187547217808344, 2.9785724747437143, -5.8433203416138895, -0.184630076219662, -6.008757017975427, 12.85091343906754, 3.6908175125291223, 10.341560822010592, -15.441476657292128, 4.517623344188394, -6.992316545808649, 5.612668612067864, 0.008834607727465027, -0.9189669208019495, 1.5332220730074368, -3.501675492802974, 2.042910921190696, -1.1208567019007205, -0.2270116464707712, -1.318016964555568, 2.0732004941603464, 6.402743044454041, -0.7658934059876401, -4.024499760106437, 3.3842219619048137, -7.892731707517669, 2.2983218388483238, 6.875854506273129, -8.57403814969814, 4.672924620867661, -4.071170910525268, 0.270619394210712, 7.398714343392385, 0.45360534285060794, -5.7202819484241445, 6.9483415591794255, -4.036761252437202, -2.2152059439813456, 3.0836542143856605, -5.820750081385825, 2.1348531062785696, -7.6710054843606486, 5.724047951513512, -0.15142169751993606, -6.457878491151632, -12.420478340148861, 12.890803594245426, -7.009595848386198, -6.398008604253505, 2.85685714324984, 0.9803627686981145, 7.071796296353, -2.4504009237134596, -5.08429567060989, -0.36322602322388775, -1.983108239385274, 2.981555343112632, 9.25823513305562, -7.818566749920478, 2.7087802238283984, 5.494511057122736, -5.608547973319105, 0.8237824014497619, -9.424830265897924, 17.077276788213567, -12.992211200276415, 2.253322794823589, 5.815901610152878, -4.986804948185636, 7.273955940638189, -10.424962350940746, 8.996914257571916, 1.6645243271229901, -3.830325667534794, -1.75980836011081, -1.3174752912320855, -5.951547658637537, 2.4049915599725864, 4.256284825320108, 1.3643295214873206, -3.6809154766781376, -2.229320058369524, -4.223736817279587, 0.590654600632206, -0.13685474163492017, 4.025143096338184, -8.789798017081466, -1.8040051054915125, -8.356829203893767, 7.788642692953317, -0.5775753671384791, -1.050820217795149, 6.7749206052328645, 10.879071461068975, -10.479218960980688, -0.760810294062594, 1.7542041052920467, 2.4240139491427044, -2.324327352744831, 4.359841713084165, -7.404497278912459, 10.970063876003906, 1.5063951174529393, -0.19308419581284397, -5.001622791256295, -3.95652825233509, 1.7442798674640017, 2.8562650319963723, -2.6481524922772905, -5.421109087361515, 11.26708266751075, -1.972544003655969, -1.0826679023826955, 3.7962257758570104, -11.135701575843939, 1.073000866274242, 9.24678403871917, -1.1503103049174115, 3.883651815065832, -4.560353220939305, 3.1048378398687646, 5.23430944129268, -11.522221402499099, 2.5540992101837787, -6.932056752108906, 7.216847868559626, -15.692110592831057, 12.668909217349324, -9.691992673945833, -12.400698738305664, 9.062345290326107, -13.034038569303448, 7.279535111995415, -6.132903853819471, -2.213567088805121, -0.7308563889346829, 1.4068468062283728, 5.694017747430053, 4.703666539876679, -4.612586995670881, -3.7751498969544173, -2.344661003369424, 4.498738561756227, -3.7021843929326224, -6.125616136332326, -2.940226664302827, -4.614628584715547, 3.5329325201190045, -2.9192785477382586, 3.5488380965016404, -1.9707318842717427, 3.340900186741237, -3.3777185100750557, 8.031478443958747, -9.723820026022509, 3.4461467856010586, 3.9461596617197756, -8.049897132369551, 4.200460311898723, 9.830989211297265, -3.679187130014043, 1.5546915204665765, -2.1043527331455607, -1.1338829422510344, 4.200489288408335, -0.8817792133440321, 1.7263390867667567, -2.260930815295751, -2.318235617868879, -1.2667786857780357, 1.9557757091640724, 1.222549128632977, 3.831141556085072, -6.646997513151064, 3.3940798856676793, 0.4022946778986807, -3.649679399584784, -3.679997273537765, 10.192192129731325, -2.0927414993711864, -6.448968936981714, 6.405541066164119, -2.434086185670594, 3.5357885939635025, -6.514389496015156, 7.293109490123243, -4.129570665703682, -5.13695418824841, 6.644401266143404, -5.992528508994155, 6.532121563104283, -2.2745647881351942, -2.1255076637430648, 5.34968521896576, -1.9863864655687848, -0.6276877211909095, -3.9799414131096, 5.151150680251703, -1.428320468269476, -12.684759376641068, 10.34792441990976, 2.481457339352346, -5.715912543942295, 6.114945709620088, -0.7991317220402152, -4.50981933146204, 4.334268916072915, 5.51259901593437, -0.03415017957490818, -1.6538675871008763, -0.7689327105365464, 1.389162990374416, 3.623790413198776, -5.34767015825912, 2.8703146709240173, 0.9340478271519714, 4.98235999003316, -0.6946641296210601, 2.5555724700984683, 4.441500765029446, 2.5252529321405746, -1.6491521293617097, 2.379596503462949, 1.8633734832553728, -3.8730980894893037, -1.4814631306560386, -0.7904883725166201, -0.5311414088666879, -3.1324567916141177, 10.905431623332106, -9.171612893708243, 6.434577391389894, -6.813938673716848, 5.20997746001126, 1.212055193527931, 1.5188677522371563, 4.469734511697425, 2.601784231965894, 4.5272454682690295, -5.162355969908731, -4.220838391370194, 9.134702055554044, -5.905333136840227, -4.345011718449314, 9.273054951765744, -4.6937214140527885, 1.3514226326830112, 0.3953799797097872, 3.096016185287681, -4.912712004147238, -1.563933692662431, 6.5808716202002415, 0.04965503111111502, -4.420838018591439, 2.3902244107996466, 5.13557544336868, -3.867818480574215, 1.7628413995510073, 8.95712419180802, -9.257467165204616, 3.9326557022588986, 5.379662749693239, -1.8900715912054693, 6.6511480648762245, 2.337898481731031, -3.069135794495196, -2.3494037299947195, -4.4206989215236945, 9.271814272238089, -6.462223964129407, 11.312889193013348, -12.307365122634565, 3.7855016228691056], \"type\": \"scatter\", \"mode\": \"markers\", \"x\": [-2.154504088547079, 0.5766057615454256, 0.5922363664612575, 0.8904337297319045, 0.6315170198418363, -4.166049961260791, 0.5369933217869733, -1.110392548623687, 1.0911722779094806, 1.690032172332523, -2.7410214265255997, 1.7371523395785573, 2.810263197528162, -0.5283095190385847, -2.3392587558350577, 3.254481313572721, -1.608623795113246, 3.193164593949099, 0.43721431423368706, 0.05209952454058531, -1.9074207673462382, -2.558351147858078, 2.7887114062475504, -3.9978101696796564, -0.7210167284278484, -1.8160812555556056, 4.506305958761409, 0.742451084586035, -0.05885031986047551, -1.424325665133729, 2.669602700953133, -1.6546778338557004, 0.30178659267230756, 1.2688148141123854, -0.4377909224529084, 0.7224322074181373, 2.5963069026312766, -1.6831524938318232, -0.4835597511683076, 2.626027392924618, -1.8553614484472725, 0.44790823666002666, 2.3247551800237805, -4.223578490051917, 5.542888911846163, 0.33558392794166636, 3.7109988708073516, -5.421336172955542, 1.9194764140011493, -2.2165028517283716, -0.708996932522794, 1.5421018507027853, 1.6935208730252924, -0.9936440140313252, -4.658852623654369, 4.494769363022492, 0.8255865414831476, 0.20965145627574344, -0.5879262609229627, 0.14431500384390006, -0.12240335207565067, 0.2743186306301979, 1.0948469410030768, -0.5985235164776945, -0.29208093996096096, -1.9574495745599592, 1.9375662578945345, -0.33938662249695994, 2.01113280422706, -0.6885663555335633, -1.1962249836235443, 1.865911672820232, 1.5787324125863798, -0.3207127246824868, 0.7497288752165048, -0.3987322817152297, 0.02546502224766556, 1.0949724722777887, -8.017127015922686, 3.4211108845762865, 0.8848434160089198, -1.9117262481588249, 3.2854008640314376, -3.5809994221104375, -0.7153295681449734, -2.5593982645536357, 2.528323589321758, 0.6887177267193003, -0.1592293425972997, -2.231514881885502, -4.558858587979451, 1.4067288311820718, 0.5923445448964486, 1.9923775060801638, -3.8515313416753756, 4.896038018063237, -0.46481066149144823, 0.7888755144555546, -0.704696635059264, 0.15011054379313293, 0.5646072893622716, -0.6407206147351303, 5.407412140244666, -5.20859575196873, 3.680947705425183, 2.2223608962493984, -1.7001646848192848, 2.856652602474284, -3.9478323130839144, 2.971125373374207, -0.11108713632692968, -1.2079941188460168, -0.19363324582590735, -1.833507330779483, -4.399399486408846, 2.874667721188885, -1.4794180748934593, -2.5377680868547188, 1.0807658827927042, -2.8847504743520886, -1.7645160763706471, 0.7585888693991905, -1.1496136106078296, -0.23567111275801267, -2.359244569047817, 3.8964992148528665, -0.8677791883426877, 1.3541993987934546, -4.092802621127646, 5.312064177488246, -2.1582205481823564, 1.3138495999756685, 0.451579658015973, -0.47604974859757476, 1.2109720295913462, -2.2157738502063893, 4.9131423477049765, -4.97137462116936, -1.9051017379721316, 4.200614865720155, -3.8553205024010424, 1.5910985473951342, 0.08843555989065521, -0.3403987061716407, 4.0047365976765334, -2.848176530117101, 1.9990599028025997, 1.679066225814033, 0.6417357133329347, -2.5588810906880894, -0.3969446163951389, -1.86253981755803, 3.9668748823481508, 1.3649754173206503, 1.1237689600860534, -4.223577016271662, 4.846612620196936, -3.459155668353077, 0.16964812580346234, -2.5398552603076467, 0.6895647459032688, -0.7249979547973169, -1.757197419213533, 4.6059613881959365, -3.0794614543972614, -4.540672546026158, 2.4049718802277624, 0.7911598584558703, 0.8968128887209019, -2.464128282247387, 2.857905097518909, -2.401718749970307, 1.2338667443736, -0.15817476104692219, -4.599637187846653, 2.952304593022589, 0.7906168336805877, -0.1412143962416934, 0.3784859063600976, -2.18814559218265, -3.317777671720499, 2.229499072224783, 1.9396239074569337, -1.7706964847875, 1.1987313831113795, -0.46927758515744245, -1.1400463895152342, 2.7390210065908462, -3.280065728571458, 0.7666628193132397, -2.9377818641605984, 2.722994239886276, 1.305398765136772, -0.08322477599617173, 0.6300201727244144, 2.467374063112544, -0.4058827702003782, 0.6704492799229627, -2.000298719398515, 0.1178843191182466, 2.139468662898622, 0.10819160189164734, -1.3114180119499963, 0.08647009496581859, -0.029962866714427605, 3.683751374746265, -3.308059695497832, -1.3016000982238012, 2.7866645349645864, -1.6132574126219765, 3.7921746335029383, -4.455788408610317, 3.726283327769096, 2.2670691741152353, -0.3923206916640254, -2.577452243914138, 0.7283377577749803, -3.7204588015871423, 0.720592351026113, 2.7657394695285262, -3.598050236721406, 1.0316102191302434, 0.8885900917634189, -1.722953264335331, 2.7516393859124264, 1.0820338314444768, -1.098385146316673, 1.1643647232251055, -0.629875701310354, -1.4914672167439846, 0.33195218257651504, 0.43067396033241323, -1.4326641945515917, -0.5077006059140388, -4.637946634574206, 1.7354988804378308, 2.3320164791603872, 1.858544173178828, -1.8708433715812305, 3.02195345845206, 4.621116806341632, -3.1322710915073344, 1.7845396570020569, -3.059104768170826, 3.325024861818804, 1.1076838652958259, -1.3898993039580603, 1.9750693803847525, -0.5747002822792524, 0.4647169134378686, -1.6949499330551419, 2.5037757608293703, 4.583311617557072, -4.014599012092731, 0.853358152832044, -3.8592159705129774, 1.5187867400348978, -0.3362659679335138, 1.0964773567325778, -0.009257165988628913, 1.6548006564538582, 2.494353691628703, -0.05845578489081049, -2.4574459091727476, 5.013043654681169, -4.541240954858949, 3.7999717242674933, -0.5267613288793598, 1.1985369022997077, 1.3465514483037282, -0.3972699891567686, -3.022314829228435, 3.463182885591209, 0.057454595132668373, -1.9230301839856736, 2.66430627813628, -3.6647883598159723, 4.2070179033652835, -2.0968176155382707, 1.2923308622577565, -3.1918250655128304, 1.7334190711792417, 0.62869610846397, 0.006931845151086691, 0.34387824363722075, -5.673459059518905, 5.581892827594231, -2.9683837085132723, -2.7042752768092413, 1.4299647254770207, 0.24211516182191417, -1.0189988494734905, 0.17060045996544204, 0.008072951353597091, 1.1444961595660033, 1.5523803326289567, -2.7970514452831026, 0.19158859176451415, -0.8389332743842601, 3.932172761052243, 0.7106890577557863, -0.510235345205615, 0.10266247208977575, 1.0798759904987492, 1.7845899655931703, -1.3801000534627974, 0.7354529760253001, 1.8998792611667739, -0.546035387063796, 1.662879612371981, -2.83786417380378, 2.9303280482533864, -3.5776215460988112, 3.990733466310104, -3.5297837144225923, 0.8881880458340987, -2.0754886090003595, 0.7464388031708609, -0.3873655033639949, -1.7105311869318882, 0.7168321190107463, -0.4904935142014182, -2.9342932819494365, 3.1609286783692596, -0.34205697360286536, 4.037753503906941, -5.036651002870144, 0.7762054764287711, 1.9337036868932387, -3.047020831293821, 0.29316686369477907, -4.2404477992466525, 5.672588458883013, 0.249192597455675, 5.32698626328002, -7.508566244088684, -0.31217608848777445, -0.6539734744036139, 2.4865481457132432, 0.5178113218737508, -0.7193866435005702, 1.1181854151050743, 0.2758976405562521, 0.4870033474892921, -1.1566370555926824, -0.2583141571505507, 0.12469949468814434, 0.3875562960386105, 3.1530276784036175, 0.18593698020356442, -2.0314428188506213, -1.3442158719538497, -1.121196397992577, 1.1387830005113528, 3.1989187273329804, -3.795713545044208, 2.0189778182546547, -1.402045244698499, 0.5886364505119559, 3.394688778796933, -0.22197859823879185, -1.6957976750835542, 2.8135055855007067, -2.1303612357939983, 1.2322622267816143, -0.7753974912830586, -3.380156396055071, 0.2670121886685024, -2.988180311597546, 3.0490734468018985, -0.8062653909718733, -1.877394150194732, -3.48899846439879, 3.9420770742106583, -1.8189963447111381, -1.8473368446193916, 1.1118690445678112, -0.4567533842866851, 2.037722438834166, -0.14113100388348698, -3.8357630224273294, 1.366922551866395, -2.3156754065721543, 1.994396912610057, 4.907475009939873, -3.1500828091834308, 1.3039579076086056, 1.100668645904193, -2.5708570401527027, 0.6716493868642033, -4.030655052994177, 6.814643335780886, -3.977810132237664, 1.9297100175853643, 1.3421812330598755, -1.1549936718932372, 2.489428065100043, -4.774956269858933, 3.419557786783173, -0.026300004097180363, -1.048721026508531, 0.20052830984639058, -1.5066948488308185, -2.0851504105102663, 0.4585412504593478, 1.538920282204117, -0.47529884640334785, -0.6432868995444778, -0.7101713745316545, -3.001977976228659, 1.8041117067187997, -0.6894738207180922, 2.9615538453151657, -4.192079518474941, -1.9720893597245492, -1.462986451024392, 2.256409263023727, 0.26140639294749235, -1.6081762497353225, 5.408922302020926, 4.321933632626809, -1.8070538694336733, -2.6977144017027967, 0.2489560496861145, 1.6549629067299065, -1.5567965040150398, 0.8424946317993829, -1.028027210809853, 2.4942371000233834, 0.31127754906520977, 0.08108420904045488, -3.2713014437241554, -0.26305731101916763, -1.5709275651781809, 2.592847757367281, -0.1836594994118741, -2.380704635067616, 3.588180936568392, 0.01581154533374729, -0.7633978566049109, 0.9953907383745104, -6.003277319846944, 3.4185180863185565, 0.20503456026909817, -0.2557373653290256, 2.291064854467095, -2.3680599526530273, 1.131619975589814, 2.9464904566853534, -5.135069190973979, -1.2688714605605185, -1.0197823730213145, 1.7282787514383244, -5.275214126936731, 2.9528549808404705, -2.759885419373461, -7.293461670293738, 5.006976439542086, -4.154650639992383, 4.153817606255558, -3.151621116228, -1.0676414434635149, -0.8696233383590197, 0.6893995345103576, 2.4765234854708638, 0.5736586400135195, 0.27237762611537164, -1.5270614807553784, -0.22125345585530454, 1.1629689306745377, -3.1489549598485382, -3.2625245172683606, -1.5370327307621778, -0.3416506708764473, 2.70909201473998, -1.1028517500730572, 1.1733984072115504, -0.2604924376146869, 1.4619366092389328, -2.0137395290916515, 2.5825229217008996, -4.728640049525154, 2.7509071328151435, 1.0484505279873133, -2.763754159384007, 0.646759126051677, 3.858842108940962, -1.031433618906533, -1.5024282887607114, -0.7961943201063093, 0.198608692536709, 0.7220733006364526, -0.946824404083003, 0.8951138236765814, -2.478864281512074, -2.287793124008715, 2.111549301688342, -1.9117869668777416, 1.3775416873218091, 0.2226197868112081, -3.0271635424311967, -0.937232737294238, 2.229530120276081, -2.530908865772801, 0.05778441912164567, 2.0592891327293046, 1.0286274457504305, -1.4587359176712766, 0.5686205040245227, 0.4563191764038379, 2.470052078700121, -3.15152533055101, 3.6071078662679383, -1.2863527925970288, -2.920107572264726, 3.154913424772303, -1.9324455506408924, 1.4604108747894884, -0.39818647644642624, -0.7811772925564355, 1.8277205249327722, -0.4901213750425768, 0.024567615079064353, -1.9327046371300867, 2.9400191782789307, -0.23117730001069958, -5.141665919767377, 3.0027818180504937, 0.8173548572710558, -3.491070779151528, 2.0129443905976814, 0.47614013315177317, -2.7312883633048273, 1.6298719255307788, 0.2857019135731207, 1.4913012574034497, -0.6297540195209876, 0.07931342149518628, 1.0553523661471331, 0.3817539938683012, -3.5509182239080417, 1.254044952474601, 0.7865419478536069, 1.894458001179828, -1.5178996163558054, 3.0532394626854966, 0.5774722623870616, 0.7110316633866205, 0.37999547855451965, -0.7931283576077988, 2.4428270711331947, -2.824237676748794, -2.548318398334601, 0.3711281014997212, -0.6923030504005965, -1.2869519836331165, 4.065757952874435, -3.922555760433397, 2.504863744528052, -1.1407920644083447, -0.7023441690636218, 1.7523838683758015, -0.00868202909731508, 1.2257074650539153, 0.9531229778290538, 0.44711257029712215, -1.3856845691411763, -0.06348187177582076, 3.3012261543005934, -3.1730062454068957, -1.3482113631303037, 2.9712182344697453, -0.9988423549248182, 1.0253211848909984, -0.509889767290872, 2.7683845271830023, -1.3705386586825057, -1.5179418520588115, 3.7604715975622867, -0.6268489665215213, -1.1450263742742663, 1.305100416551113, 3.4832719674462, -1.4742619232299035, -0.4828690071519759, 5.00603032027152, -4.022900009207717, 1.2200139450785628, 0.7913680141845134, 0.2647801362891755, 2.1176051922026318, 0.5332999958265532, -0.5604748291563055, -1.5070361732881565, -1.8168766284919968, 3.2572825898143947, -2.6768674668018093, 4.5801245320529915, -4.723601852961963, 1.8883886831066548]}], {}, {\"linkText\": \"Export to plot.ly\", \"showLink\": false})</script>"
      ],
      "text/plain": [
       "<IPython.core.display.HTML object>"
      ]
     },
     "metadata": {},
     "output_type": "display_data"
    }
   ],
   "source": [
    "iplot([Histogram2dContour(x=d2x, y=d2y, contours=Contours(coloring='heatmap')),\n",
    "       Scatter(x=d2x, y=d2y, mode='markers', marker=Marker(color='white', size=3, opacity=0.3))], show_link=False)"
   ]
  },
  {
   "cell_type": "markdown",
   "metadata": {},
   "source": [
    "The variation in the data (unsurprisingly) decreased and the data is much more centered, having almost just one bigger region is which most of the data is located. We can further see that the observations are not ordered within a straight line anymore.\n",
    "\n",
    "#### Relationship between first-differenced and de-meand $\\Delta y'_{it}$ and $\\Delta x'_{it}$ (i.e. FD-FE)"
   ]
  },
  {
   "cell_type": "code",
   "execution_count": 11,
   "metadata": {
    "collapsed": false
   },
   "outputs": [
    {
     "data": {
      "text/html": [
       "<div id=\"a81d693c-9995-4ab2-838d-23879065ea61\" style=\"height: 525; width: 100%;\" class=\"plotly-graph-div\"></div><script type=\"text/javascript\">window.PLOTLYENV=window.PLOTLYENV || {};window.PLOTLYENV.BASE_URL=\"https://plot.ly\";Plotly.newPlot(\"a81d693c-9995-4ab2-838d-23879065ea61\", [{\"y\": [3.670121128273017, -1.9523963406456817, -2.2097650296995814, 0.49204024207224517, 1.8669392649884982, 1.8780419715172156, 1.8781823084349716, -5.623163544940685, -1.4761678244093588, -0.8459441316614722, 1.7170607016907944, 0.605051254380033, -0.09665687976164072, 2.545661522904668, -3.272417091194006, 0.8234124480509823, -4.299140957676023, 3.2498724513710826, 1.1805989369789174, -0.13133043067397665, -7.110206838399929, 4.17391929772387, -1.5607615494777036, 4.497049090153773, 0.6158517963495314, 1.6567950981032453, -0.6295662478448065, -1.6430806466079702, 3.4218990948484276, -3.1858162168052644, 3.6163989808586905, -3.8524818589018537, 1.2447250425825587, -2.828915996896548, -2.5892111821280466, 4.173402136442029, 0.02886883447115096, 1.4538827730892798, 0.09458740415513844, -1.5773390117155763, 0.17915837285865166, -0.9609881519900796, 0.1313895690300484, 0.6504402101013795, -0.3118821792340256, -0.062278723992371, -0.8649713533387953, 1.2391322565651919, -0.9618241904336884, 5.104551336472213, -4.1922248613239645, 0.049497715285440336, -2.4610763396620925, 2.553905223947808, 0.5857434626169606, -0.6785723469026834, -1.9496883388047905, 3.4395653263882195, -4.801102492945802, 3.311225505362387, -0.9593278223657009, -1.655931815991515, 7.584598899749771, -4.969339261392555, 0.1044259899709914, 2.32468382249926, -0.115714405813371, -2.3133954066568876, -3.2808705461723946, -1.667778032886524, 4.593632788249714, 0.35501579080919754, 2.5532633729173355, -7.696814645406086, 2.8202565194426583, 2.323294753046092, -0.5251082798000937, 2.2743891878743057, -2.300511119492782, 0.5512302114185701, -2.4568948625124563, 0.013659613969522866, 1.6094011886821278, 0.8338340598607914, 1.2439833416134434, 2.519279011367857, -1.1900961686910847, -2.5731661842902014, -2.779871232602048, -1.4444660711440065, 1.7351278516713933, 2.4892094520746753, -2.1307710804588282, 2.1512677419344044, -1.823989734967327, 1.8034930734917651, -2.145419582862303, 1.5944947194598171, -0.8826040815118859, 1.4335289449144, -1.02185817681098, -0.2883484199628583, -1.7863654212726772, 3.0965720180465155, 7.076619426658155, -9.08162653075891, 0.3099606501550056, 1.6950464539457073, 0.5556307406969836, -2.087659528794518, 5.550265885978263, -4.0182370978807285, 2.5610429231124527, 1.100891791675764, -4.912349694670496, 1.2504149798822652, 0.753478051755053, 0.582787506084486, 4.171426726939188, -5.507692284778756, 4.625256625629902, -5.192565277673452, 1.534506581017581, -0.9671979289740307, 0.35782636551826386, 1.5409281983161236, -5.994188873838397, 4.095434310003981, 0.6016168985592003, -1.1542006792019208, 0.5886496832026467, -0.03606590255989772, 0.4857186272139842, -1.5526319120478576, 0.3523764719229945, 0.7145368129108789, -3.301386875898629, 3.6582066631406462, -2.8790211888394595, 2.522201401597414, -2.589172345912999, 2.200013298298984, -2.3221478790250956, 2.7113069266390823, 3.5341785952704186, -4.942042139547937, 0.9439605502678887, 0.4639029940096293, 2.157964031705731, 0.9392994432320165, -0.5480126013012807, -2.5492508736364528, 5.301550089662754, -4.723512123587341, 0.2860373826718785, -0.8640753487473205, 3.0511973429294272, 0.20172551826505014, 0.7175234647991999, -3.970446325993663, 2.298839719001009, -3.2177937721343426, 3.6317446459361236, -2.712790592802776, 0.9770130289346497, 0.8552882491957092, -5.438578528874515, 3.6062772507441565, 2.441057500906112, 1.4625355357489696, 2.3664405396511086, -6.27003357630619, -7.118411317275104, 5.608673317964218, -2.138745801120109, 3.6484838004309665, 0.2928628435303722, -1.3824455128397801, -0.8196518987372485, 1.909234568046685, 1.9559528139700433, -5.282482877120003, 6.850633815964784, -3.524103752814824, 1.8283584464970204, -5.024528614337868, 6.854203094666815, -3.658032926825939, -1.7397777856711798, 1.1456572683672732, 2.1615829234275736, -1.567462406123667, -3.2198869912635075, 5.079281847677834, -1.8997712785514125, 0.040376422137086365, -2.408044540182999, 1.6603210006822167, 1.9823742654471914, -1.234650725946409, 1.6866734606671798, -2.481786277722051, -4.073855984807437, 4.868968801862309, -1.068088701044843, 2.805490377416419, 1.8910702497137493, -3.628471926085325, -3.7496146309655387, 7.828898151092005, -3.772812910192613, -0.30647060993385367, 5.522146216434862, -2.483590460566063, -1.6418292373143117, -1.3967265185544306, 0.4719978787140633, -4.196810090471303, 4.543301915726801, -0.8184897039695613, 3.064304419649261, -4.962501725992752, 0.4704575210657822, 1.4277397852777085, -1.872834871386317, 3.823245658507716, -4.723185029284508, 2.7727742421631376, 2.56749343577016, -3.452609853359462, 0.5510603435185146, 0.33405607407073035, 3.779449760462853, -5.700576524588001, -0.07772058990966002, 1.9988473540348366, 0.0777198419572187, 2.0404095086751965, 2.778790555615643, -4.89691990624803, 0.2478945137662265, -3.7866132115307494, -0.2789925019016266, 3.8177111996661495, 3.62143301544063, -2.4397297224987824, -0.44411647138002763, -0.7375868215618198, 0.9042322141746695, -3.13582418842563, 5.51105468464462, -3.2794627103936307, -0.28788443679891884, 1.7262525082642526, -4.254278348871679, 2.8159102774064024, -0.3146539906567227, -0.4367249528112893, -1.445739820053518, 2.19711876352153, -3.2003539182272505, 0.7915053783143833, 2.350368310084633, 0.05848022982823409, 2.9956402016045445, -3.2695809476618933, -2.577456515412848, 2.85139726147014, -0.205897841922706, 1.412835217836232, 0.34982969991131085, -1.5567670758248369, -1.8446461402055547, -2.7228138603083494, 5.556505821341318, -0.9890458208273571, 0.45092763335060226, -3.977572727359501, 2.665113389296806, 0.8615317047120641, -4.541850541014327, 6.15482779826894, -5.6239594871557586, 4.0109822299011455, -1.739646325914748, 2.5846044270411426, 0.4637032261230729, -1.3086613272494674, 3.740859848978346, 0.7277188020586607, -2.178384104798141, -2.2901945462388937, 0.3682663967543931, 2.2747708294134554, -3.862465257286715, 1.2194280311188663, -0.19361173917752694, 0.20714580171923558, -4.561033735432517, 4.54749967289078, -0.31282474727211707, -0.2863359502375431, -0.33298588820289865, 0.9321465857126157, 1.7885110900324435, -0.5721593673638097, 0.05937228143730522, -1.2757240041059674, -0.7491118578584803, 1.4849871775578833, 0.4644034999182338, -1.20027881961758, 5.103795808842165, -5.757875498401546, -2.762571271761118, 3.416650961320528, -3.660099900070776, 2.860040461965184, -3.6756646299429576, 4.475724068048521, -4.089535112882629, 4.17684131091238, -1.2367323314365422, 1.1494261334067915, -0.653064046008268, -4.801429769182505, 3.2287047688114967, 2.225789046379248, -0.8646836820601322, -0.40990735520770727, 0.5290609621784768, 0.7455300750893628, 0.45594659817976435, -0.15319497142712635, -2.928001756248136, 2.625250129495498, -4.748902248805422, 6.69940725123061, -1.0542001360346092, -0.8963048663906363, 5.502703878540274, -3.7656100342704804, -0.2747391108506463, -1.4623547334190334, -3.2839249327490165, 0.6563795497925184, -2.428831441303032, 5.056376824259587, 0.16625504317414652, 0.04549195937488548, 1.840251819595892, -2.0519988221450376, -3.1531809074151624, 2.797696665322235, -3.148813812689866, 3.5042980547828506, 0.13322298833958257, -2.99091118926043, 0.5045516879724232, 2.3531365129484243, -0.1763401494127379, 2.1759619704106967, -4.762443522907063, 2.762821701909104, 0.6153859368050689, 4.114566322646738, -3.093418119843818, -1.6365341396079884, 1.8493893635636596, -5.905308642280374, 4.503148338410597, -0.4472290596939956, 0.9033299324876793, 4.8048116986991545, -6.565549463044022, 0.857407831857131, -2.1417766835239718, 0.8413364016982428, 1.2278746946057595, 0.07256558721991269, 3.7529168485643254, -6.179832112936651, 4.563753335018987, -2.136838070646718, 0.5485971024947389, -0.5500394067761363, -1.849937425805706, 1.8513797300872739, 3.8137995780266465, -2.6248640176276012, 1.737745425095909, -2.926680985495068, -2.2710685916487705, 1.885049509506814, 2.511185982967902, -2.1251669008259455, -2.1488630548108745, 1.5676785080178206, -3.9309201823444937, 4.512104729137718, -0.26094515294005305, -0.20304537512396337, 0.32168786389257775, 0.1423026641714955, -0.9774450580848111, -1.799574829680978, 4.0190653522387265, -1.242045464472767, -0.939116946604031, -0.7243236046903121, 0.9356550970811668, 0.7277854542131763, -1.720087503792172, 3.067421428535795, -1.4440239338524634, 0.09669000910878367, 0.9058619378516255, -2.3772357962130286, 2.5652266556433574, -1.0938527972819543, 1.0096718470716155, 0.7404920911162662, -3.573499614269167, 1.8233356760813422, 1.3798145146770935, 2.5794294318468474, -3.7161307179845835, -0.24311322853918682, 1.0510404199098957, 3.0274992763362434, -5.786400127271236, 1.707860431024983, -1.7665446416676787, -1.6444447418163008, 8.505015181356612, -5.094025797872746, -1.6691165653246571, 0.518430652483687, 3.4970031272274014, -2.346317214386488, -0.06987729361441097, -0.25450736983407296, -6.2632643878095, 6.58764905125804, -4.0785243810791485, -0.38770686855002623, 9.953853953460566, -5.487622703831562, -1.2952263882539228, 3.222396955934471, -3.7699195898741777, 1.8427490221936864, 0.06955198635353099, 0.07838659408099602, -0.8405803267209535, 0.6926417462864833, 1.885015334482091, -1.616660158320883, 0.4262507628698131, -0.6946059390309074, 0.3109670935907616, 0.08395544711999037, -1.2340615174355776, 0.8391389767247688, -3.41298564032013, 2.9897574041339112, 2.223863998146271, -1.8006357619601658, 0.8336189226181432, 4.217840884522957, -3.674890822994712, -1.3765689841463882, -2.038102960072706, 4.837751546200423, -3.7362866034977174, 0.936638017369944, 1.0683898999404846, -3.0027810105847834, -2.7321616163740714, 4.666552727018313, 0.7828515772792457, 1.2364569201298536, -4.483825028294291, 2.4645165308851347, 3.3642603577221735, -0.6725008947150286, -2.8877068386963742, 0.19594737568928622, 5.21588737899026, -0.6048627023955646, 1.529990403883005, -6.1410150804776436, -2.602855492087258, 3.121192459426254, 2.969770761906318, -3.488107729245314, 4.622355920085454, -7.798122420063407, 5.092681174182019, -1.916914674204179, 3.1249871893906516, -3.2730214148628534, -0.41616427161301317, 0.5641984970851013, -2.807572842755576, 4.264223453597424, 1.8138225298839643, -3.270473140725926, 0.5185848013323948, 0.15535877810850707, -1.8277494612767669, 1.153805881835865, -3.711588030788562, 5.546647102267059, -2.2719196476534194, 0.4368605761749791, -1.52255490654494, 3.971956150577796, -1.636591822741309, -0.8128094212915471, 1.7780371053857493, -7.646793160512175, 9.430483627701392, -3.5617275725750233, -3.3512416641477216, -1.0979188693241326, 4.717982740828745, -0.2688222073568909, -2.4922143444012477, 4.781741596236941, -5.643220754703805, 3.3536935028681114, 1.1067216784528568, 2.771246005575847, -1.0590796619589469, -2.818888022069757, 3.362632407749686, 2.0451571165176006, -3.9063905421199365, -1.5013989821473501, -2.954149510564207, 1.3021353147559012, 2.6664648362432217, -1.0144506404349158, 3.636194802258899, 1.4068747438893752, -2.8168620733902117, -2.2262074727580057, 0.28751901232749333, 0.15066427069257315, 4.175807367030757, -4.6139906500507095, 3.5842577578271744, 1.7802526523356619, -6.576576551558105, 1.212066141395212, -0.7351385170567823, -1.3127138841952615, -2.3635341019904104, 4.411386503242454, -2.729491541795767, 8.149579919273208, -2.3296390417074804, -3.0904493357700744, -1.9465782153541795, -0.19237411006213279, 2.2316398390805716, -0.09268751366425931, -2.3101486143578427, 2.0496930987263227, -5.354804180186136, 5.61525969581777, 0.21715145763079136, 1.7235465750837307, 1.5304623792708867, -3.4711604119854087, 1.3811899975202095, -2.5753382548148807, -0.831058387350879, 2.0252066446454933, 1.8798982460110665, -0.7682542462662241, -6.189363333627739, 5.07771933388301, 1.071685509969086, -0.9008584936868829, -1.9835263960695784, 1.812699379787432, 5.503579739066026, -5.6321218367779124, -4.55912097050367, 4.6876630682155, 0.060995126389968846, -1.0893151785274426, 2.7943366365383895, -1.7660165844009157, -2.0652277499231104, 1.0396100899456542, 6.2739195312383345, -5.2483018712607645, -0.2537579987233016, 2.300341211460477, -4.631715540648429, 2.5851323279111966, 7.857626504435075, -7.834484088395982, 4.834425128953342, -4.8575675449924915, 8.027861050892056, -4.3728376874136075, 4.689507602912499, -8.344530966390948, -1.8398076348855739, 5.439727477109841, -0.69317637670963, -2.906743465514751, -1.5787855482706732, -2.309641937205356, -0.9027951309769833, 4.791222616453069, -0.27766893283347827, 4.4259976070432, -0.18658938862768082, -3.961739285582098, 0.4346725698820819, -1.9099884334873423, 2.5887501282688845, -1.1134342646637378, 7.21798258057953, 1.0923664442472045, -1.8478602200556224, -6.462488804771169, -2.0772696403455484, 1.455662879773456, -1.4636156679648025, 2.085222428536838, 0.6520284473519382, -1.3187034369198045, 2.0221967498214326, -1.3555217602536231, -2.0232355163580564, 6.008242927600691, -3.715577098421818, -0.26943031282075935, 0.015213741920263146, 3.9613734036400388, -4.088523728729513, 0.11193658316921073, -5.922321223582571, 3.9086679877146935, 0.22948085770065063, 1.7841723781672272, 1.095083698882604, -1.0092690342629567, -2.143151976513991, 2.0573373118943437, 0.36339757044856924, -0.5183816428954628, 1.207957443871294, -1.0529733714244571, 1.8831221289996734, -0.43511348886920587, -1.7018921746472415, 0.2538835345168309, -1.1707332462295312, 0.05181588240344581, 3.8829574384885177, -2.764040074662546, -1.8342874033039038, 1.5597924823637754, 1.962087160262456, -1.6875922393223277, -1.812912734869542, -5.492910008407307, 4.699282121324018, 2.6065406219528313, 2.242477716071903, -4.206491220909811, 2.199049845254308, -0.2350363404162863, -1.2179240699958882, 2.3178645239676143, -4.196524972047541, 3.0965845180757015, 4.00455477686603, -0.1250158888376518, -5.261970077086062, 1.3824311890573426, 1.7969767972272166, -4.195551711766939, 2.3365698513373445, 0.06200506320215027, -0.5841152452833285, -2.7096229090263932, 2.640062309939367, 0.6536758443705821, 1.1729488273850848, 0.5452611061941752, -3.434680306915425, 1.7164703733362785, 4.826638934545144, 3.3983184662756685, -9.2864409103654, 1.0614835095443595, -0.5318731599481907, 1.9495841794041553, -3.76632836453814, 2.348617345081948, 1.7706912282429812, 0.971559506202766, -3.5382598252592743, 0.7960090908136408, -3.703907275388133, 1.8086917405462373, 1.774541560971329, 0.12067397387045276, -1.0238295655844922, -1.7927622761210387, -0.4035992857466226, 3.2201911274521535, 2.3420833264443672, -3.005586831814753, -0.1352721608907359, 0.7987756662612355, -4.028331045238929, 0.9540289447942314, 0.25936481517317134, 2.8149372852716397, -4.181464007501859, 0.2600367575275868, 2.7852896896681614, 1.1361375603064516, -1.7481095968526006, 0.6314869066103483, 2.494860389865721, -1.3782376996235826, 1.639126886467011, 0.15766375581097236, -0.6328246167056477, -1.1639660255723356, -0.8104699945283755, -3.9429267861424933, 6.962504837189613, -2.2091080565186303, -2.7214580716868113, 3.7131193197030825, -3.1008193540137654, 2.109158105997494, -2.7859088991888257, -1.5738537056608948, -0.054985953423738465, 4.414748558273686, -2.9243719156318093, -0.3225876836659154, 4.204657784603114, -0.9576981853056168, 0.07461104996070844, -4.146227341409485, 4.988474714144559, -0.9168584226956682, -0.20433833353263253, -4.549350051981946, 4.723704899783797, 0.02998348573100884, -1.9852610106891007, -0.6338383780060894, -0.23845839829630222, 2.8575577869913786, 2.8212829443915552, -2.091429059755683, -3.655362752418114, 2.9255088677821277, 1.5756216332624717, 1.6252766643735868, -2.7955613542178526, -0.4053369434182059, -2.3584826921271542, 2.7770927512415255, -1.0907257293326893, 0.672115670218318, -3.072273486818517, 5.884850704989503, -3.372616460215113, 0.5600392420437856, -4.752498282886222, 0.6271644668070167, -1.2629071243984527, 5.388240940477772, 0.36849496844797613, 2.7063934501790072, -0.3627423443161888, -2.7121460743109083, 0.2951730460561066, -4.125525875467588, 5.146288396770501, -1.3159355673589062, -3.2773597391600333, 8.035529453853314, -4.27183566878125, -0.4863340459121446], \"x\": [1.1795160940222822, -0.974987994524797, -0.39838223297937136, 0.19385413348188618, 0.057928683095351374, 0.9483624128272559, 1.5798794326690921, -2.586170528591699, -0.12034178650575678, 0.41665153528121657, -0.6937410133424704, 0.39743126456701017, -0.33130150088123145, 1.3587306714512914, -1.3822907550743082, 0.3548615845042491, -1.2587279496680646, 1.5515352478600972, 1.0232257288215125, -1.3160330270135452, -2.434840236110192, 0.8196410774625287, -0.7889827176507174, 2.4041818762983818, 0.12289469389100205, 0.5601090081246891, 0.6122085326652744, -1.2952122346809638, 1.5238602001896968, -1.034490947668381, 1.7542204585791694, -2.243589711100487, 0.3222266844083368, -0.39879004401951157, -2.214871299575117, 2.291434659186292, -0.17133173722585582, 0.5711193473601792, 0.5122690274997037, -0.9120566376340253, -1.250309756955076, 1.419292943998057, -0.2353848898576434, 0.06640170281466418, -0.91332370121237, 0.35549111290001534, -0.08229980955289307, 0.6401323978652442, -0.984763992265469, 1.6115429103658077, -0.07160958346601554, -0.5551693346343232, -1.1538168796348334, 1.4722105132897845, -0.383150935157488, 0.06475730150253867, -1.0174993679534179, 1.3072558120703626, -2.9163226779815545, 2.626566233864608, -0.751853338121041, -0.4162694101793747, 3.294729460627977, -2.1266067123275647, -0.1541066515059768, 1.7653697624951725, -0.45113308923319906, -1.1601300217559931, -1.7549258210319039, -0.2128239703291186, 1.4806969026961738, 0.48705288866484864, 1.0403581508587436, -3.618494472795625, 0.8762748902268669, 1.7018614317100145, 0.10064578729370055, 0.310297243569444, -0.27762901735351875, -0.1333140135096187, -0.31906853650912836, -0.44147188858477904, -0.16715325795458114, 0.9276936830484956, 1.0842955009787403, 0.48577198450104575, 0.1936910445400848, -1.7637585300198744, -1.7862645832291868, 0.15130167466534772, -0.18808494783161223, 1.8230478563954478, 0.6480593402568857, -0.04050701527667755, -1.236731998900222, 0.6291796739200102, -1.2111251659026685, 0.36760724668371125, 0.04689452200122446, 0.7966233972177292, 0.012573582093143187, -0.3861586996220865, -0.36069367737442093, 0.7342787949033678, 4.081078965651642, -3.9360480502710438, -0.5149371656947572, 0.3699062503141626, 0.6863441096310083, -1.2253821385278165, 2.060018725503621, -1.5209806966068165, 1.1841154110551066, 0.46878584291013325, -2.0906124216435025, 0.43771116767825546, 0.12095509673055105, 0.8096728234498514, 0.6504434808525517, -1.5810714010329505, 2.5676933891694382, -1.9911651988100125, -0.5844363676279407, 0.007908177268507899, -0.7925269632382417, 1.1998505428419222, -2.6516807988334534, 2.2443572192297836, 0.13034439765562666, -0.33446626383582156, 0.45440925061973303, -0.250287384439531, -0.23470639884220645, -0.08459585504907352, 0.48001143431319804, -0.16070918042193227, -2.371498155555429, 3.0359139846892376, -2.1726817672794922, 1.5082659381456907, -1.530851480395981, 0.6915094158534174, -1.0086552689658674, 1.8479973335084168, 1.5030833322075594, -2.444748980876355, 0.526376392497852, 0.41528925617092227, 1.4611890447423406, 0.25319492589632375, 0.0595616800704164, -1.7739456507090665, 2.232070272935559, -2.1673292134732876, 0.7073385077155976, -0.7720795671778617, 2.084130742332711, -0.4536373445220079, 0.6271285382706964, -2.2576219360813923, 1.2314960252303493, -0.5330200511402978, 0.22556881825889263, -0.924044792348937, 0.38225081537920147, 0.1465797026211888, -2.2126648664266284, 1.6838343484262381, 0.9969353471421982, 0.12915615879951048, 1.4833555575929651, -2.609447063534681, -3.2334002590189215, 2.0786639184693243, -0.07955662971303212, 1.2342929702626364, -0.40340287661102536, 0.04817678140494763, -0.42787296719262713, 0.7830990623987191, 0.44810286909464025, -1.767670981111749, 3.1454713665932275, -1.825903254576133, 0.2923489962192818, -1.6127527417528498, 2.587862123967305, -1.2674583784337372, -1.1524420139487717, 0.4386565334463626, 0.5270920933370178, 0.1866933871653771, -2.0792291588995013, 1.9255074387770321, -0.9226690913400688, 1.076390811462531, -0.9404472533549679, 0.738618972459065, 1.3803546857919997, -1.1785264048960897, 0.2372596504883333, -0.1596849659068056, -2.0222247834648357, 1.944650098883315, -0.5297217889655954, 0.8352536283550549, 1.9590225884411083, -2.2645544278305536, -1.9477936624220291, 2.898818957774907, -0.56033671057817, -0.3906885847747077, 1.7413585609784263, -0.7984966993292204, -0.10893195342595163, -0.8339299082232685, -0.21521726608850145, -1.9724146853020343, 2.633546702893902, -0.44591475150335924, 2.0052285047917664, -2.535444041234392, -0.1304721610066295, 0.6606876974492408, -0.15502179979670672, 0.7417910889241952, -1.7223371933231917, 1.1355679041957174, 1.223899380552659, -1.177819369417648, 0.05604737495595202, -0.10212738609097016, 1.775921385953552, -2.8237158018931012, 0.12858879112948784, 0.9192056248100755, 0.4637042420468802, 0.3224898458051868, 0.7009757521652844, -1.4871698400173656, 0.8886777408137476, -2.4290999309067516, -0.19960085868196842, 1.7400230487749653, 0.8459760683242976, -0.9247204164632024, 0.27401096664817715, -0.1952666185092653, 0.3055407209838634, -0.8345056685313708, 1.9045153380594755, -1.3755503905119824, 0.21314525762380754, 0.9798080769370472, -1.9579737872235512, 0.7650204526627249, -1.0949417290355967, 0.21045703610117528, 0.12723226010500355, 0.7572524328294179, -1.8152014822149596, 0.6521725808975845, 0.24628981069720624, 0.9167390906201689, 0.9064147142650967, -1.0938840051334182, -0.9759996860151716, 1.1634689768834505, 0.5529477808148044, 0.6611393827064518, -0.6502786292435445, -0.5638085342777259, -0.9923886134628503, -1.022351480177278, 2.661399894568987, -0.6466598009288447, -0.013817840658944647, -1.3154179388827458, 1.4712465960818406, -0.14201081654013592, -1.5478076027643084, 2.24436703073863, -2.2114213778716874, 1.5148619498974085, -0.8597784737758758, 1.4072907003393595, 1.0149700086753342, -1.5624822352388037, 1.1338279947058112, 1.8621657524807915, -1.8582930491063507, -1.1377006980802378, -0.5331820385682562, 2.23255743096027, -1.3654928057611357, -0.3338825866308923, -0.49287578313300173, 0.3957143086304171, -1.3272389557049138, 1.4244004302075126, -0.5534239812313047, 0.5286098502131722, -0.5697752961035008, 0.5945894271216048, 1.1351523387106255, 0.5052766374002715, -0.9861905793437131, -0.6542383967671981, 0.5202517785049992, 0.9509257388374124, -0.4817384557141793, -0.989439061628218, 2.0277064159216422, -2.6102402186525637, -0.8747413382147329, 1.4572751409456544, -1.2139748087065243, 0.6445693644723036, -1.2262740071089269, 1.7956794513431333, -2.3458369732530713, 2.275279833088561, -0.8569912584187733, 0.9275483985832835, 0.35489517889476474, -2.7042095892760614, 0.6208152725427425, 1.7284991378385683, 0.19856485834597493, -1.1913344456120853, 0.7837349347726672, 0.2090346524934148, -0.12700665875816242, 0.33771025467970617, -1.3572396783754357, 1.1465360824539346, -1.6435237453294604, 2.939787872227612, -1.074811139865119, -0.22145298703307503, 2.219085099850659, -1.6401308706623183, -0.12134413062742055, -0.4576100985609344, -1.2314295986685835, -0.13495224193600563, -0.14420940792463455, 1.5105912485292237, -1.227175898982935, 1.267177792645768, 1.2087220077549574, -1.2487239014177902, -2.4391551946482792, 2.57388846003289, -1.9673524948260592, 1.832619229441434, -0.5408353165662731, -1.067596645445633, 0.13094025685407473, 1.477491705157803, 0.9433141850839917, 0.5460441959272231, -2.476270633301212, 0.9869122522899971, 0.2523475761092584, 0.30980217124192677, -1.6132280127437468, 1.0510782653925332, 1.1692867220639016, -2.4955016377520707, 1.7115162656132128, -0.38530134992505793, 0.1933096182682874, 1.485640480526044, -1.7061845849867865, 0.027234486192455165, -0.5609575648328189, 0.06773854363115106, 0.07467038878223775, 0.4185486324194585, 2.206243807970381, -3.4672152515485237, 2.1146775760457075, -0.8537061324675648, 1.2526953044129385, -1.4515799723963028, -0.021615246919282072, 0.2204999149026321, 0.6769306692840047, -0.3420681801894858, -0.17146772022404377, -0.16339476887044668, -0.9352994246682016, 0.20919673489780166, 1.7615770675267584, -1.0354743777563442, -0.7072679968943163, -0.5156794051298021, -1.3546126795140623, 2.5775600815381807, -0.30356473873646905, 0.4071243190193172, -0.10311102618629775, -0.0004485540965220025, -1.3571769623049477, -0.2773009718061985, 1.5072889937869718, 0.12718894032417438, -1.3650205158364201, -0.62956753981112, 1.2703117213556538, 0.7242763342918579, -0.5608096344404458, 1.102069977931535, -1.735794195872245, 1.1945338523811415, 1.5702953550247116, -2.0073261910740996, 1.9834072752360044, -1.546376439186588, 0.18499356933189404, 1.0731816151659928, -1.0023069938343667, -0.25586819066350586, 0.9665816912362573, 0.5792161878722624, -1.1313149990596258, -0.41448288004887957, 1.0447846070334634, 0.5542910928320453, -2.3800021891173913, 0.7809264892518684, -0.5031712710337928, -0.8452282446366581, 3.1925252592702833, -1.8441257435998608, -0.7872507429447495, -0.01104526651597837, 1.9226584203772603, -1.1243624109165609, 0.4822016371314817, 0.7753685008262607, -3.4650792984203918, 2.207509160462621, -0.9732460187096024, -0.7240534212539274, 4.602932842026092, -2.905633402062591, -0.06051823286067304, -0.3726943213484475, -1.0266677957520614, 1.4598803499611819, -0.30821152343129654, 0.20959979844245424, -0.509786845058116, 0.6083985700469583, -0.16126564026366452, 0.11463200029258758, 0.6016353477818797, -0.5550017078108027, 0.03449679650918824, -0.22381736064136248, -0.09911786595321814, 0.2884384300853924, -1.949878544191833, 1.2031491342117846, 1.389086114415349, -0.6423567044352723, 1.2840643528338376, -0.060151519120012154, -1.1813479171125891, -0.04256491660123629, -1.0060767275412985, 2.192841999791682, -1.6028715452525262, 0.41610627300212855, -0.09145648643134052, -1.4935017311298395, -0.9048652806178836, 2.4898234981790495, 0.3110063898456872, 0.08902779160689533, -1.6067698834766588, 1.206735702024048, 1.1754891862754562, -0.9548720495185421, 0.27739017726307225, -0.4980073140199863, 3.1486562806064455, -0.23150011544862537, 0.03551207321987704, -2.952668238377669, -1.4143238520668007, 1.6347495947350978, 0.8284842037632245, -1.0489099464315075, 1.1004593973715515, -2.3885390670272386, 1.5535380071834197, -0.2654583375277184, 0.9437564572523058, -0.9035803873670858, 0.20828865720072542, -0.24846472708595968, -0.49878557157704506, 1.5389368672571209, 1.3978058633736339, -2.4379571590536955, -0.3659534387662262, 1.0009691131001688, -1.3147062934719855, 0.6796906191380714, -2.4315543297653335, 2.4759206801745393, -0.6741621290088915, 0.6297957785997141, 0.29201468893217, 1.392683334836363, -1.1781737053163397, -0.5065243184521364, 0.6101221549146203, -3.420532898079557, 3.394110437701329, -0.5836996945363353, -1.8296247117456517, 0.10008530583971265, 1.4422665388995881, 0.2872728670063509, -0.33448236059135183, 2.154945704508691, -2.620010565350242, 0.7995472214329311, 0.4939534388655602, 0.46765343476837984, -0.5810675917401511, -0.3805392818937605, 2.0579610292634243, 0.5512661804326058, -1.5338842300776605, -1.0753429796183127, -0.7557190635652944, 0.7832012186388226, 0.3079023722354748, -0.33538452730900303, 1.5825895923333633, 0.8724182178017088, -2.12955975842695, -0.3254480517081504, 0.08434832249972146, -0.6051254982183707, 2.356428347096795, -1.8356511713781458, 1.6464579295496549, -0.3256314301748944, -1.7886178811992863, 0.4677913818244406, -0.7441972453481753, -0.482790852400683, -2.0909671021360055, 3.3179551998849206, -1.663494689327564, 2.6584389432992452, 0.8513850738655719, -1.8463293278372248, -0.6249993646257792, -0.3760433149396647, 1.2789195917902418, -0.27787691222479793, -0.7414166434504637, 0.10107798834891923, -0.9269492224609337, 1.5672878775624497, 0.5438250946119183, 0.8551026436771281, 0.936186852717583, -2.3351145910065725, 0.3345448265116602, 0.07148751549249255, -1.4994400496856883, 1.0934077076815925, 0.43105170795061554, 0.24739220853874144, -2.1333124265288745, 1.4548685100395176, 0.12099258470851737, 0.13680413004226466, -0.6265937265626462, 0.3687970118118642, 2.7419403066586767, -3.2613370131882675, 0.15718107313028895, 0.3622156333993871, -0.3617144150735214, -0.617451780402547, 1.6736130740645478, -0.6944468785884794, -1.038192912291521, 0.09342706329829298, 3.0399175199836463, -2.095151670990333, 1.029475094071472, -0.23939636648904639, -1.2591787395103609, 0.4691000119279636, 3.1699544596257, -2.1052596673110315, 0.847595313529439, -1.912290105844022, 4.005270692947363, -3.2881909773463747, 1.7187854621957115, -2.4358651777966713, -1.2726422857117825, 2.8811753205437753, -0.2704457956842248, -1.3380872391477396, -0.31161313485364417, -1.181236473212664, -0.49183693870230627, 1.9846865467685575, -0.18466742287898796, 0.38899121713453155, 0.6613688432499032, -0.8656926375054752, 0.37169436651635124, 0.1504409106610467, 1.3134098413355844, -1.8355451185129539, 3.300822421051464, 0.03829790378310349, -1.4987348269790743, -1.8403854978555216, -1.7737427378213226, 0.9353492769186573, -0.16750247315439992, 1.0058959340571505, -0.032164094135538335, -0.2926565317502252, 1.1692800774887075, -0.844459451602944, -0.2602989497168835, 2.322223971984016, -2.406416077541138, 0.3444910552740055, 0.43384940218859924, 1.4822999301759126, -1.2814542292080944, -0.6346951031564174, -2.0028077000622773, 1.8560344088786849, 0.8246007899721519, -0.6778274987885595, 0.31732306865225723, -0.47887125145405207, -0.2802625589173431, 0.4418107417191095, 0.8822774616019728, -0.0645469424810301, 0.8305668811955513, -1.6482974003165225, 1.1380169338818007, -1.1497761901269143, 0.9617731115614276, -0.950013855316314, -0.38767527328917595, 0.9898664140326332, 1.2124862008438413, -1.8146773415873554, 0.2208867092758453, -0.7163460280183926, 1.5131840922576885, -1.0177247735151127, -1.3301397421435013, -1.2723553230218556, 0.786933809707449, 1.8155612554578795, 0.6956618921402367, -0.76307402553104, -0.1944535215065173, 0.2618656548973206, -1.1785533603165845, 1.2914987183835365, -1.8600266121674736, 1.7470812541004648, 1.636090024387073, 0.34973723179004423, -2.570370340474682, 0.5845430842976214, 0.8186753446975388, -1.1137702059433536, 0.34664066884613476, -0.05154580760029148, -0.20544694928841523, -0.9866242418448508, 0.8410962830879214, 0.3509749080453446, 0.2129218126860053, 0.23748942776506965, -1.695215209365017, 1.2448039689139136, 1.9935204803790896, 1.76234318036839, -3.3793227393989866, -0.37654092134849293, 0.6292831489730588, 1.4466380062441146, -2.044432772907413, -0.03148838230973183, 0.6010711004058749, 1.077211233557648, -1.6540771297471792, -0.02420520421640049, -0.8024885590013184, -0.5167866454281977, 0.9745146119752519, 0.34476059245426427, -0.6825997476620387, -0.6032863261668524, 0.4520660399802807, 0.8338200338485819, 1.839530704730322, -1.7113875191777197, -0.4573425667031188, 0.3291993811504881, -1.4252035583783424, 0.46925444280148554, -1.0486451735543199, 2.0045942891311768, -0.8836188981222506, -0.30614663573518897, 0.40488502765143153, 0.7848805062059512, 0.0794921518264573, -0.7136362057813415, 1.7291908653518533, -1.0950468113969407, 1.8987505106012463, -0.6495678877333546, -0.2784397862336334, -0.9707428366342299, -0.08702604860403085, -1.3739780322371473, 2.6917799206372877, -1.2307758397961095, -1.1326657339259611, 1.3721980106020908, 0.2314059461937461, -0.47093822286987574, -1.6163737529966795, 0.136010115379122, 0.12732808628180692, 1.3530355513357222, -0.5919773762350644, 0.36114560159398934, 0.8082581718911115, -0.5774263972500648, -0.8097501119667072, -0.873231983742528, 2.4279941705580654, -0.7450120748488303, -0.22474000615594036, -1.572951369286244, 1.3982668651835013, 0.3994245102586831, -1.2061421368185563, -0.18082095192755787, -0.6907107192184299, 2.0776738079645725, 0.8467570206507276, -0.5237816380317781, -2.0417234900905896, 1.718748107471697, 0.716374807890503, 0.08952584136898167, -1.0555005329052847, 0.2495998836458284, -1.7546057621817113, 1.7286662052644886, 0.2544042820345851, -0.2284647251173908, -2.0480762218694224, 2.957954098402098, -1.0649459108056192, 0.15506803427294358, -1.2553173768336308, -0.46394936264911735, -0.19916922635994183, 1.91843596584269, 0.2570214610302912, 0.7903214568568444, 0.22984662770053887, -1.2771895455876177, 0.4032330431622597, -1.413643585329737, 1.8436390044846576, -0.8332284623171518, -1.545389643335426, 3.0347348887175656, -1.6888669642443972, 0.19952171886225756], \"type\": \"histogram2dcontour\", \"contours\": {\"coloring\": \"heatmap\"}}, {\"marker\": {\"opacity\": 0.3, \"color\": \"white\", \"size\": 3}, \"y\": [3.670121128273017, -1.9523963406456817, -2.2097650296995814, 0.49204024207224517, 1.8669392649884982, 1.8780419715172156, 1.8781823084349716, -5.623163544940685, -1.4761678244093588, -0.8459441316614722, 1.7170607016907944, 0.605051254380033, -0.09665687976164072, 2.545661522904668, -3.272417091194006, 0.8234124480509823, -4.299140957676023, 3.2498724513710826, 1.1805989369789174, -0.13133043067397665, -7.110206838399929, 4.17391929772387, -1.5607615494777036, 4.497049090153773, 0.6158517963495314, 1.6567950981032453, -0.6295662478448065, -1.6430806466079702, 3.4218990948484276, -3.1858162168052644, 3.6163989808586905, -3.8524818589018537, 1.2447250425825587, -2.828915996896548, -2.5892111821280466, 4.173402136442029, 0.02886883447115096, 1.4538827730892798, 0.09458740415513844, -1.5773390117155763, 0.17915837285865166, -0.9609881519900796, 0.1313895690300484, 0.6504402101013795, -0.3118821792340256, -0.062278723992371, -0.8649713533387953, 1.2391322565651919, -0.9618241904336884, 5.104551336472213, -4.1922248613239645, 0.049497715285440336, -2.4610763396620925, 2.553905223947808, 0.5857434626169606, -0.6785723469026834, -1.9496883388047905, 3.4395653263882195, -4.801102492945802, 3.311225505362387, -0.9593278223657009, -1.655931815991515, 7.584598899749771, -4.969339261392555, 0.1044259899709914, 2.32468382249926, -0.115714405813371, -2.3133954066568876, -3.2808705461723946, -1.667778032886524, 4.593632788249714, 0.35501579080919754, 2.5532633729173355, -7.696814645406086, 2.8202565194426583, 2.323294753046092, -0.5251082798000937, 2.2743891878743057, -2.300511119492782, 0.5512302114185701, -2.4568948625124563, 0.013659613969522866, 1.6094011886821278, 0.8338340598607914, 1.2439833416134434, 2.519279011367857, -1.1900961686910847, -2.5731661842902014, -2.779871232602048, -1.4444660711440065, 1.7351278516713933, 2.4892094520746753, -2.1307710804588282, 2.1512677419344044, -1.823989734967327, 1.8034930734917651, -2.145419582862303, 1.5944947194598171, -0.8826040815118859, 1.4335289449144, -1.02185817681098, -0.2883484199628583, -1.7863654212726772, 3.0965720180465155, 7.076619426658155, -9.08162653075891, 0.3099606501550056, 1.6950464539457073, 0.5556307406969836, -2.087659528794518, 5.550265885978263, -4.0182370978807285, 2.5610429231124527, 1.100891791675764, -4.912349694670496, 1.2504149798822652, 0.753478051755053, 0.582787506084486, 4.171426726939188, -5.507692284778756, 4.625256625629902, -5.192565277673452, 1.534506581017581, -0.9671979289740307, 0.35782636551826386, 1.5409281983161236, -5.994188873838397, 4.095434310003981, 0.6016168985592003, -1.1542006792019208, 0.5886496832026467, -0.03606590255989772, 0.4857186272139842, -1.5526319120478576, 0.3523764719229945, 0.7145368129108789, -3.301386875898629, 3.6582066631406462, -2.8790211888394595, 2.522201401597414, -2.589172345912999, 2.200013298298984, -2.3221478790250956, 2.7113069266390823, 3.5341785952704186, -4.942042139547937, 0.9439605502678887, 0.4639029940096293, 2.157964031705731, 0.9392994432320165, -0.5480126013012807, -2.5492508736364528, 5.301550089662754, -4.723512123587341, 0.2860373826718785, -0.8640753487473205, 3.0511973429294272, 0.20172551826505014, 0.7175234647991999, -3.970446325993663, 2.298839719001009, -3.2177937721343426, 3.6317446459361236, -2.712790592802776, 0.9770130289346497, 0.8552882491957092, -5.438578528874515, 3.6062772507441565, 2.441057500906112, 1.4625355357489696, 2.3664405396511086, -6.27003357630619, -7.118411317275104, 5.608673317964218, -2.138745801120109, 3.6484838004309665, 0.2928628435303722, -1.3824455128397801, -0.8196518987372485, 1.909234568046685, 1.9559528139700433, -5.282482877120003, 6.850633815964784, -3.524103752814824, 1.8283584464970204, -5.024528614337868, 6.854203094666815, -3.658032926825939, -1.7397777856711798, 1.1456572683672732, 2.1615829234275736, -1.567462406123667, -3.2198869912635075, 5.079281847677834, -1.8997712785514125, 0.040376422137086365, -2.408044540182999, 1.6603210006822167, 1.9823742654471914, -1.234650725946409, 1.6866734606671798, -2.481786277722051, -4.073855984807437, 4.868968801862309, -1.068088701044843, 2.805490377416419, 1.8910702497137493, -3.628471926085325, -3.7496146309655387, 7.828898151092005, -3.772812910192613, -0.30647060993385367, 5.522146216434862, -2.483590460566063, -1.6418292373143117, -1.3967265185544306, 0.4719978787140633, -4.196810090471303, 4.543301915726801, -0.8184897039695613, 3.064304419649261, -4.962501725992752, 0.4704575210657822, 1.4277397852777085, -1.872834871386317, 3.823245658507716, -4.723185029284508, 2.7727742421631376, 2.56749343577016, -3.452609853359462, 0.5510603435185146, 0.33405607407073035, 3.779449760462853, -5.700576524588001, -0.07772058990966002, 1.9988473540348366, 0.0777198419572187, 2.0404095086751965, 2.778790555615643, -4.89691990624803, 0.2478945137662265, -3.7866132115307494, -0.2789925019016266, 3.8177111996661495, 3.62143301544063, -2.4397297224987824, -0.44411647138002763, -0.7375868215618198, 0.9042322141746695, -3.13582418842563, 5.51105468464462, -3.2794627103936307, -0.28788443679891884, 1.7262525082642526, -4.254278348871679, 2.8159102774064024, -0.3146539906567227, -0.4367249528112893, -1.445739820053518, 2.19711876352153, -3.2003539182272505, 0.7915053783143833, 2.350368310084633, 0.05848022982823409, 2.9956402016045445, -3.2695809476618933, -2.577456515412848, 2.85139726147014, -0.205897841922706, 1.412835217836232, 0.34982969991131085, -1.5567670758248369, -1.8446461402055547, -2.7228138603083494, 5.556505821341318, -0.9890458208273571, 0.45092763335060226, -3.977572727359501, 2.665113389296806, 0.8615317047120641, -4.541850541014327, 6.15482779826894, -5.6239594871557586, 4.0109822299011455, -1.739646325914748, 2.5846044270411426, 0.4637032261230729, -1.3086613272494674, 3.740859848978346, 0.7277188020586607, -2.178384104798141, -2.2901945462388937, 0.3682663967543931, 2.2747708294134554, -3.862465257286715, 1.2194280311188663, -0.19361173917752694, 0.20714580171923558, -4.561033735432517, 4.54749967289078, -0.31282474727211707, -0.2863359502375431, -0.33298588820289865, 0.9321465857126157, 1.7885110900324435, -0.5721593673638097, 0.05937228143730522, -1.2757240041059674, -0.7491118578584803, 1.4849871775578833, 0.4644034999182338, -1.20027881961758, 5.103795808842165, -5.757875498401546, -2.762571271761118, 3.416650961320528, -3.660099900070776, 2.860040461965184, -3.6756646299429576, 4.475724068048521, -4.089535112882629, 4.17684131091238, -1.2367323314365422, 1.1494261334067915, -0.653064046008268, -4.801429769182505, 3.2287047688114967, 2.225789046379248, -0.8646836820601322, -0.40990735520770727, 0.5290609621784768, 0.7455300750893628, 0.45594659817976435, -0.15319497142712635, -2.928001756248136, 2.625250129495498, -4.748902248805422, 6.69940725123061, -1.0542001360346092, -0.8963048663906363, 5.502703878540274, -3.7656100342704804, -0.2747391108506463, -1.4623547334190334, -3.2839249327490165, 0.6563795497925184, -2.428831441303032, 5.056376824259587, 0.16625504317414652, 0.04549195937488548, 1.840251819595892, -2.0519988221450376, -3.1531809074151624, 2.797696665322235, -3.148813812689866, 3.5042980547828506, 0.13322298833958257, -2.99091118926043, 0.5045516879724232, 2.3531365129484243, -0.1763401494127379, 2.1759619704106967, -4.762443522907063, 2.762821701909104, 0.6153859368050689, 4.114566322646738, -3.093418119843818, -1.6365341396079884, 1.8493893635636596, -5.905308642280374, 4.503148338410597, -0.4472290596939956, 0.9033299324876793, 4.8048116986991545, -6.565549463044022, 0.857407831857131, -2.1417766835239718, 0.8413364016982428, 1.2278746946057595, 0.07256558721991269, 3.7529168485643254, -6.179832112936651, 4.563753335018987, -2.136838070646718, 0.5485971024947389, -0.5500394067761363, -1.849937425805706, 1.8513797300872739, 3.8137995780266465, -2.6248640176276012, 1.737745425095909, -2.926680985495068, -2.2710685916487705, 1.885049509506814, 2.511185982967902, -2.1251669008259455, -2.1488630548108745, 1.5676785080178206, -3.9309201823444937, 4.512104729137718, -0.26094515294005305, -0.20304537512396337, 0.32168786389257775, 0.1423026641714955, -0.9774450580848111, -1.799574829680978, 4.0190653522387265, -1.242045464472767, -0.939116946604031, -0.7243236046903121, 0.9356550970811668, 0.7277854542131763, -1.720087503792172, 3.067421428535795, -1.4440239338524634, 0.09669000910878367, 0.9058619378516255, -2.3772357962130286, 2.5652266556433574, -1.0938527972819543, 1.0096718470716155, 0.7404920911162662, -3.573499614269167, 1.8233356760813422, 1.3798145146770935, 2.5794294318468474, -3.7161307179845835, -0.24311322853918682, 1.0510404199098957, 3.0274992763362434, -5.786400127271236, 1.707860431024983, -1.7665446416676787, -1.6444447418163008, 8.505015181356612, -5.094025797872746, -1.6691165653246571, 0.518430652483687, 3.4970031272274014, -2.346317214386488, -0.06987729361441097, -0.25450736983407296, -6.2632643878095, 6.58764905125804, -4.0785243810791485, -0.38770686855002623, 9.953853953460566, -5.487622703831562, -1.2952263882539228, 3.222396955934471, -3.7699195898741777, 1.8427490221936864, 0.06955198635353099, 0.07838659408099602, -0.8405803267209535, 0.6926417462864833, 1.885015334482091, -1.616660158320883, 0.4262507628698131, -0.6946059390309074, 0.3109670935907616, 0.08395544711999037, -1.2340615174355776, 0.8391389767247688, -3.41298564032013, 2.9897574041339112, 2.223863998146271, -1.8006357619601658, 0.8336189226181432, 4.217840884522957, -3.674890822994712, -1.3765689841463882, -2.038102960072706, 4.837751546200423, -3.7362866034977174, 0.936638017369944, 1.0683898999404846, -3.0027810105847834, -2.7321616163740714, 4.666552727018313, 0.7828515772792457, 1.2364569201298536, -4.483825028294291, 2.4645165308851347, 3.3642603577221735, -0.6725008947150286, -2.8877068386963742, 0.19594737568928622, 5.21588737899026, -0.6048627023955646, 1.529990403883005, -6.1410150804776436, -2.602855492087258, 3.121192459426254, 2.969770761906318, -3.488107729245314, 4.622355920085454, -7.798122420063407, 5.092681174182019, -1.916914674204179, 3.1249871893906516, -3.2730214148628534, -0.41616427161301317, 0.5641984970851013, -2.807572842755576, 4.264223453597424, 1.8138225298839643, -3.270473140725926, 0.5185848013323948, 0.15535877810850707, -1.8277494612767669, 1.153805881835865, -3.711588030788562, 5.546647102267059, -2.2719196476534194, 0.4368605761749791, -1.52255490654494, 3.971956150577796, -1.636591822741309, -0.8128094212915471, 1.7780371053857493, -7.646793160512175, 9.430483627701392, -3.5617275725750233, -3.3512416641477216, -1.0979188693241326, 4.717982740828745, -0.2688222073568909, -2.4922143444012477, 4.781741596236941, -5.643220754703805, 3.3536935028681114, 1.1067216784528568, 2.771246005575847, -1.0590796619589469, -2.818888022069757, 3.362632407749686, 2.0451571165176006, -3.9063905421199365, -1.5013989821473501, -2.954149510564207, 1.3021353147559012, 2.6664648362432217, -1.0144506404349158, 3.636194802258899, 1.4068747438893752, -2.8168620733902117, -2.2262074727580057, 0.28751901232749333, 0.15066427069257315, 4.175807367030757, -4.6139906500507095, 3.5842577578271744, 1.7802526523356619, -6.576576551558105, 1.212066141395212, -0.7351385170567823, -1.3127138841952615, -2.3635341019904104, 4.411386503242454, -2.729491541795767, 8.149579919273208, -2.3296390417074804, -3.0904493357700744, -1.9465782153541795, -0.19237411006213279, 2.2316398390805716, -0.09268751366425931, -2.3101486143578427, 2.0496930987263227, -5.354804180186136, 5.61525969581777, 0.21715145763079136, 1.7235465750837307, 1.5304623792708867, -3.4711604119854087, 1.3811899975202095, -2.5753382548148807, -0.831058387350879, 2.0252066446454933, 1.8798982460110665, -0.7682542462662241, -6.189363333627739, 5.07771933388301, 1.071685509969086, -0.9008584936868829, -1.9835263960695784, 1.812699379787432, 5.503579739066026, -5.6321218367779124, -4.55912097050367, 4.6876630682155, 0.060995126389968846, -1.0893151785274426, 2.7943366365383895, -1.7660165844009157, -2.0652277499231104, 1.0396100899456542, 6.2739195312383345, -5.2483018712607645, -0.2537579987233016, 2.300341211460477, -4.631715540648429, 2.5851323279111966, 7.857626504435075, -7.834484088395982, 4.834425128953342, -4.8575675449924915, 8.027861050892056, -4.3728376874136075, 4.689507602912499, -8.344530966390948, -1.8398076348855739, 5.439727477109841, -0.69317637670963, -2.906743465514751, -1.5787855482706732, -2.309641937205356, -0.9027951309769833, 4.791222616453069, -0.27766893283347827, 4.4259976070432, -0.18658938862768082, -3.961739285582098, 0.4346725698820819, -1.9099884334873423, 2.5887501282688845, -1.1134342646637378, 7.21798258057953, 1.0923664442472045, -1.8478602200556224, -6.462488804771169, -2.0772696403455484, 1.455662879773456, -1.4636156679648025, 2.085222428536838, 0.6520284473519382, -1.3187034369198045, 2.0221967498214326, -1.3555217602536231, -2.0232355163580564, 6.008242927600691, -3.715577098421818, -0.26943031282075935, 0.015213741920263146, 3.9613734036400388, -4.088523728729513, 0.11193658316921073, -5.922321223582571, 3.9086679877146935, 0.22948085770065063, 1.7841723781672272, 1.095083698882604, -1.0092690342629567, -2.143151976513991, 2.0573373118943437, 0.36339757044856924, -0.5183816428954628, 1.207957443871294, -1.0529733714244571, 1.8831221289996734, -0.43511348886920587, -1.7018921746472415, 0.2538835345168309, -1.1707332462295312, 0.05181588240344581, 3.8829574384885177, -2.764040074662546, -1.8342874033039038, 1.5597924823637754, 1.962087160262456, -1.6875922393223277, -1.812912734869542, -5.492910008407307, 4.699282121324018, 2.6065406219528313, 2.242477716071903, -4.206491220909811, 2.199049845254308, -0.2350363404162863, -1.2179240699958882, 2.3178645239676143, -4.196524972047541, 3.0965845180757015, 4.00455477686603, -0.1250158888376518, -5.261970077086062, 1.3824311890573426, 1.7969767972272166, -4.195551711766939, 2.3365698513373445, 0.06200506320215027, -0.5841152452833285, -2.7096229090263932, 2.640062309939367, 0.6536758443705821, 1.1729488273850848, 0.5452611061941752, -3.434680306915425, 1.7164703733362785, 4.826638934545144, 3.3983184662756685, -9.2864409103654, 1.0614835095443595, -0.5318731599481907, 1.9495841794041553, -3.76632836453814, 2.348617345081948, 1.7706912282429812, 0.971559506202766, -3.5382598252592743, 0.7960090908136408, -3.703907275388133, 1.8086917405462373, 1.774541560971329, 0.12067397387045276, -1.0238295655844922, -1.7927622761210387, -0.4035992857466226, 3.2201911274521535, 2.3420833264443672, -3.005586831814753, -0.1352721608907359, 0.7987756662612355, -4.028331045238929, 0.9540289447942314, 0.25936481517317134, 2.8149372852716397, -4.181464007501859, 0.2600367575275868, 2.7852896896681614, 1.1361375603064516, -1.7481095968526006, 0.6314869066103483, 2.494860389865721, -1.3782376996235826, 1.639126886467011, 0.15766375581097236, -0.6328246167056477, -1.1639660255723356, -0.8104699945283755, -3.9429267861424933, 6.962504837189613, -2.2091080565186303, -2.7214580716868113, 3.7131193197030825, -3.1008193540137654, 2.109158105997494, -2.7859088991888257, -1.5738537056608948, -0.054985953423738465, 4.414748558273686, -2.9243719156318093, -0.3225876836659154, 4.204657784603114, -0.9576981853056168, 0.07461104996070844, -4.146227341409485, 4.988474714144559, -0.9168584226956682, -0.20433833353263253, -4.549350051981946, 4.723704899783797, 0.02998348573100884, -1.9852610106891007, -0.6338383780060894, -0.23845839829630222, 2.8575577869913786, 2.8212829443915552, -2.091429059755683, -3.655362752418114, 2.9255088677821277, 1.5756216332624717, 1.6252766643735868, -2.7955613542178526, -0.4053369434182059, -2.3584826921271542, 2.7770927512415255, -1.0907257293326893, 0.672115670218318, -3.072273486818517, 5.884850704989503, -3.372616460215113, 0.5600392420437856, -4.752498282886222, 0.6271644668070167, -1.2629071243984527, 5.388240940477772, 0.36849496844797613, 2.7063934501790072, -0.3627423443161888, -2.7121460743109083, 0.2951730460561066, -4.125525875467588, 5.146288396770501, -1.3159355673589062, -3.2773597391600333, 8.035529453853314, -4.27183566878125, -0.4863340459121446], \"type\": \"scatter\", \"mode\": \"markers\", \"x\": [1.1795160940222822, -0.974987994524797, -0.39838223297937136, 0.19385413348188618, 0.057928683095351374, 0.9483624128272559, 1.5798794326690921, -2.586170528591699, -0.12034178650575678, 0.41665153528121657, -0.6937410133424704, 0.39743126456701017, -0.33130150088123145, 1.3587306714512914, -1.3822907550743082, 0.3548615845042491, -1.2587279496680646, 1.5515352478600972, 1.0232257288215125, -1.3160330270135452, -2.434840236110192, 0.8196410774625287, -0.7889827176507174, 2.4041818762983818, 0.12289469389100205, 0.5601090081246891, 0.6122085326652744, -1.2952122346809638, 1.5238602001896968, -1.034490947668381, 1.7542204585791694, -2.243589711100487, 0.3222266844083368, -0.39879004401951157, -2.214871299575117, 2.291434659186292, -0.17133173722585582, 0.5711193473601792, 0.5122690274997037, -0.9120566376340253, -1.250309756955076, 1.419292943998057, -0.2353848898576434, 0.06640170281466418, -0.91332370121237, 0.35549111290001534, -0.08229980955289307, 0.6401323978652442, -0.984763992265469, 1.6115429103658077, -0.07160958346601554, -0.5551693346343232, -1.1538168796348334, 1.4722105132897845, -0.383150935157488, 0.06475730150253867, -1.0174993679534179, 1.3072558120703626, -2.9163226779815545, 2.626566233864608, -0.751853338121041, -0.4162694101793747, 3.294729460627977, -2.1266067123275647, -0.1541066515059768, 1.7653697624951725, -0.45113308923319906, -1.1601300217559931, -1.7549258210319039, -0.2128239703291186, 1.4806969026961738, 0.48705288866484864, 1.0403581508587436, -3.618494472795625, 0.8762748902268669, 1.7018614317100145, 0.10064578729370055, 0.310297243569444, -0.27762901735351875, -0.1333140135096187, -0.31906853650912836, -0.44147188858477904, -0.16715325795458114, 0.9276936830484956, 1.0842955009787403, 0.48577198450104575, 0.1936910445400848, -1.7637585300198744, -1.7862645832291868, 0.15130167466534772, -0.18808494783161223, 1.8230478563954478, 0.6480593402568857, -0.04050701527667755, -1.236731998900222, 0.6291796739200102, -1.2111251659026685, 0.36760724668371125, 0.04689452200122446, 0.7966233972177292, 0.012573582093143187, -0.3861586996220865, -0.36069367737442093, 0.7342787949033678, 4.081078965651642, -3.9360480502710438, -0.5149371656947572, 0.3699062503141626, 0.6863441096310083, -1.2253821385278165, 2.060018725503621, -1.5209806966068165, 1.1841154110551066, 0.46878584291013325, -2.0906124216435025, 0.43771116767825546, 0.12095509673055105, 0.8096728234498514, 0.6504434808525517, -1.5810714010329505, 2.5676933891694382, -1.9911651988100125, -0.5844363676279407, 0.007908177268507899, -0.7925269632382417, 1.1998505428419222, -2.6516807988334534, 2.2443572192297836, 0.13034439765562666, -0.33446626383582156, 0.45440925061973303, -0.250287384439531, -0.23470639884220645, -0.08459585504907352, 0.48001143431319804, -0.16070918042193227, -2.371498155555429, 3.0359139846892376, -2.1726817672794922, 1.5082659381456907, -1.530851480395981, 0.6915094158534174, -1.0086552689658674, 1.8479973335084168, 1.5030833322075594, -2.444748980876355, 0.526376392497852, 0.41528925617092227, 1.4611890447423406, 0.25319492589632375, 0.0595616800704164, -1.7739456507090665, 2.232070272935559, -2.1673292134732876, 0.7073385077155976, -0.7720795671778617, 2.084130742332711, -0.4536373445220079, 0.6271285382706964, -2.2576219360813923, 1.2314960252303493, -0.5330200511402978, 0.22556881825889263, -0.924044792348937, 0.38225081537920147, 0.1465797026211888, -2.2126648664266284, 1.6838343484262381, 0.9969353471421982, 0.12915615879951048, 1.4833555575929651, -2.609447063534681, -3.2334002590189215, 2.0786639184693243, -0.07955662971303212, 1.2342929702626364, -0.40340287661102536, 0.04817678140494763, -0.42787296719262713, 0.7830990623987191, 0.44810286909464025, -1.767670981111749, 3.1454713665932275, -1.825903254576133, 0.2923489962192818, -1.6127527417528498, 2.587862123967305, -1.2674583784337372, -1.1524420139487717, 0.4386565334463626, 0.5270920933370178, 0.1866933871653771, -2.0792291588995013, 1.9255074387770321, -0.9226690913400688, 1.076390811462531, -0.9404472533549679, 0.738618972459065, 1.3803546857919997, -1.1785264048960897, 0.2372596504883333, -0.1596849659068056, -2.0222247834648357, 1.944650098883315, -0.5297217889655954, 0.8352536283550549, 1.9590225884411083, -2.2645544278305536, -1.9477936624220291, 2.898818957774907, -0.56033671057817, -0.3906885847747077, 1.7413585609784263, -0.7984966993292204, -0.10893195342595163, -0.8339299082232685, -0.21521726608850145, -1.9724146853020343, 2.633546702893902, -0.44591475150335924, 2.0052285047917664, -2.535444041234392, -0.1304721610066295, 0.6606876974492408, -0.15502179979670672, 0.7417910889241952, -1.7223371933231917, 1.1355679041957174, 1.223899380552659, -1.177819369417648, 0.05604737495595202, -0.10212738609097016, 1.775921385953552, -2.8237158018931012, 0.12858879112948784, 0.9192056248100755, 0.4637042420468802, 0.3224898458051868, 0.7009757521652844, -1.4871698400173656, 0.8886777408137476, -2.4290999309067516, -0.19960085868196842, 1.7400230487749653, 0.8459760683242976, -0.9247204164632024, 0.27401096664817715, -0.1952666185092653, 0.3055407209838634, -0.8345056685313708, 1.9045153380594755, -1.3755503905119824, 0.21314525762380754, 0.9798080769370472, -1.9579737872235512, 0.7650204526627249, -1.0949417290355967, 0.21045703610117528, 0.12723226010500355, 0.7572524328294179, -1.8152014822149596, 0.6521725808975845, 0.24628981069720624, 0.9167390906201689, 0.9064147142650967, -1.0938840051334182, -0.9759996860151716, 1.1634689768834505, 0.5529477808148044, 0.6611393827064518, -0.6502786292435445, -0.5638085342777259, -0.9923886134628503, -1.022351480177278, 2.661399894568987, -0.6466598009288447, -0.013817840658944647, -1.3154179388827458, 1.4712465960818406, -0.14201081654013592, -1.5478076027643084, 2.24436703073863, -2.2114213778716874, 1.5148619498974085, -0.8597784737758758, 1.4072907003393595, 1.0149700086753342, -1.5624822352388037, 1.1338279947058112, 1.8621657524807915, -1.8582930491063507, -1.1377006980802378, -0.5331820385682562, 2.23255743096027, -1.3654928057611357, -0.3338825866308923, -0.49287578313300173, 0.3957143086304171, -1.3272389557049138, 1.4244004302075126, -0.5534239812313047, 0.5286098502131722, -0.5697752961035008, 0.5945894271216048, 1.1351523387106255, 0.5052766374002715, -0.9861905793437131, -0.6542383967671981, 0.5202517785049992, 0.9509257388374124, -0.4817384557141793, -0.989439061628218, 2.0277064159216422, -2.6102402186525637, -0.8747413382147329, 1.4572751409456544, -1.2139748087065243, 0.6445693644723036, -1.2262740071089269, 1.7956794513431333, -2.3458369732530713, 2.275279833088561, -0.8569912584187733, 0.9275483985832835, 0.35489517889476474, -2.7042095892760614, 0.6208152725427425, 1.7284991378385683, 0.19856485834597493, -1.1913344456120853, 0.7837349347726672, 0.2090346524934148, -0.12700665875816242, 0.33771025467970617, -1.3572396783754357, 1.1465360824539346, -1.6435237453294604, 2.939787872227612, -1.074811139865119, -0.22145298703307503, 2.219085099850659, -1.6401308706623183, -0.12134413062742055, -0.4576100985609344, -1.2314295986685835, -0.13495224193600563, -0.14420940792463455, 1.5105912485292237, -1.227175898982935, 1.267177792645768, 1.2087220077549574, -1.2487239014177902, -2.4391551946482792, 2.57388846003289, -1.9673524948260592, 1.832619229441434, -0.5408353165662731, -1.067596645445633, 0.13094025685407473, 1.477491705157803, 0.9433141850839917, 0.5460441959272231, -2.476270633301212, 0.9869122522899971, 0.2523475761092584, 0.30980217124192677, -1.6132280127437468, 1.0510782653925332, 1.1692867220639016, -2.4955016377520707, 1.7115162656132128, -0.38530134992505793, 0.1933096182682874, 1.485640480526044, -1.7061845849867865, 0.027234486192455165, -0.5609575648328189, 0.06773854363115106, 0.07467038878223775, 0.4185486324194585, 2.206243807970381, -3.4672152515485237, 2.1146775760457075, -0.8537061324675648, 1.2526953044129385, -1.4515799723963028, -0.021615246919282072, 0.2204999149026321, 0.6769306692840047, -0.3420681801894858, -0.17146772022404377, -0.16339476887044668, -0.9352994246682016, 0.20919673489780166, 1.7615770675267584, -1.0354743777563442, -0.7072679968943163, -0.5156794051298021, -1.3546126795140623, 2.5775600815381807, -0.30356473873646905, 0.4071243190193172, -0.10311102618629775, -0.0004485540965220025, -1.3571769623049477, -0.2773009718061985, 1.5072889937869718, 0.12718894032417438, -1.3650205158364201, -0.62956753981112, 1.2703117213556538, 0.7242763342918579, -0.5608096344404458, 1.102069977931535, -1.735794195872245, 1.1945338523811415, 1.5702953550247116, -2.0073261910740996, 1.9834072752360044, -1.546376439186588, 0.18499356933189404, 1.0731816151659928, -1.0023069938343667, -0.25586819066350586, 0.9665816912362573, 0.5792161878722624, -1.1313149990596258, -0.41448288004887957, 1.0447846070334634, 0.5542910928320453, -2.3800021891173913, 0.7809264892518684, -0.5031712710337928, -0.8452282446366581, 3.1925252592702833, -1.8441257435998608, -0.7872507429447495, -0.01104526651597837, 1.9226584203772603, -1.1243624109165609, 0.4822016371314817, 0.7753685008262607, -3.4650792984203918, 2.207509160462621, -0.9732460187096024, -0.7240534212539274, 4.602932842026092, -2.905633402062591, -0.06051823286067304, -0.3726943213484475, -1.0266677957520614, 1.4598803499611819, -0.30821152343129654, 0.20959979844245424, -0.509786845058116, 0.6083985700469583, -0.16126564026366452, 0.11463200029258758, 0.6016353477818797, -0.5550017078108027, 0.03449679650918824, -0.22381736064136248, -0.09911786595321814, 0.2884384300853924, -1.949878544191833, 1.2031491342117846, 1.389086114415349, -0.6423567044352723, 1.2840643528338376, -0.060151519120012154, -1.1813479171125891, -0.04256491660123629, -1.0060767275412985, 2.192841999791682, -1.6028715452525262, 0.41610627300212855, -0.09145648643134052, -1.4935017311298395, -0.9048652806178836, 2.4898234981790495, 0.3110063898456872, 0.08902779160689533, -1.6067698834766588, 1.206735702024048, 1.1754891862754562, -0.9548720495185421, 0.27739017726307225, -0.4980073140199863, 3.1486562806064455, -0.23150011544862537, 0.03551207321987704, -2.952668238377669, -1.4143238520668007, 1.6347495947350978, 0.8284842037632245, -1.0489099464315075, 1.1004593973715515, -2.3885390670272386, 1.5535380071834197, -0.2654583375277184, 0.9437564572523058, -0.9035803873670858, 0.20828865720072542, -0.24846472708595968, -0.49878557157704506, 1.5389368672571209, 1.3978058633736339, -2.4379571590536955, -0.3659534387662262, 1.0009691131001688, -1.3147062934719855, 0.6796906191380714, -2.4315543297653335, 2.4759206801745393, -0.6741621290088915, 0.6297957785997141, 0.29201468893217, 1.392683334836363, -1.1781737053163397, -0.5065243184521364, 0.6101221549146203, -3.420532898079557, 3.394110437701329, -0.5836996945363353, -1.8296247117456517, 0.10008530583971265, 1.4422665388995881, 0.2872728670063509, -0.33448236059135183, 2.154945704508691, -2.620010565350242, 0.7995472214329311, 0.4939534388655602, 0.46765343476837984, -0.5810675917401511, -0.3805392818937605, 2.0579610292634243, 0.5512661804326058, -1.5338842300776605, -1.0753429796183127, -0.7557190635652944, 0.7832012186388226, 0.3079023722354748, -0.33538452730900303, 1.5825895923333633, 0.8724182178017088, -2.12955975842695, -0.3254480517081504, 0.08434832249972146, -0.6051254982183707, 2.356428347096795, -1.8356511713781458, 1.6464579295496549, -0.3256314301748944, -1.7886178811992863, 0.4677913818244406, -0.7441972453481753, -0.482790852400683, -2.0909671021360055, 3.3179551998849206, -1.663494689327564, 2.6584389432992452, 0.8513850738655719, -1.8463293278372248, -0.6249993646257792, -0.3760433149396647, 1.2789195917902418, -0.27787691222479793, -0.7414166434504637, 0.10107798834891923, -0.9269492224609337, 1.5672878775624497, 0.5438250946119183, 0.8551026436771281, 0.936186852717583, -2.3351145910065725, 0.3345448265116602, 0.07148751549249255, -1.4994400496856883, 1.0934077076815925, 0.43105170795061554, 0.24739220853874144, -2.1333124265288745, 1.4548685100395176, 0.12099258470851737, 0.13680413004226466, -0.6265937265626462, 0.3687970118118642, 2.7419403066586767, -3.2613370131882675, 0.15718107313028895, 0.3622156333993871, -0.3617144150735214, -0.617451780402547, 1.6736130740645478, -0.6944468785884794, -1.038192912291521, 0.09342706329829298, 3.0399175199836463, -2.095151670990333, 1.029475094071472, -0.23939636648904639, -1.2591787395103609, 0.4691000119279636, 3.1699544596257, -2.1052596673110315, 0.847595313529439, -1.912290105844022, 4.005270692947363, -3.2881909773463747, 1.7187854621957115, -2.4358651777966713, -1.2726422857117825, 2.8811753205437753, -0.2704457956842248, -1.3380872391477396, -0.31161313485364417, -1.181236473212664, -0.49183693870230627, 1.9846865467685575, -0.18466742287898796, 0.38899121713453155, 0.6613688432499032, -0.8656926375054752, 0.37169436651635124, 0.1504409106610467, 1.3134098413355844, -1.8355451185129539, 3.300822421051464, 0.03829790378310349, -1.4987348269790743, -1.8403854978555216, -1.7737427378213226, 0.9353492769186573, -0.16750247315439992, 1.0058959340571505, -0.032164094135538335, -0.2926565317502252, 1.1692800774887075, -0.844459451602944, -0.2602989497168835, 2.322223971984016, -2.406416077541138, 0.3444910552740055, 0.43384940218859924, 1.4822999301759126, -1.2814542292080944, -0.6346951031564174, -2.0028077000622773, 1.8560344088786849, 0.8246007899721519, -0.6778274987885595, 0.31732306865225723, -0.47887125145405207, -0.2802625589173431, 0.4418107417191095, 0.8822774616019728, -0.0645469424810301, 0.8305668811955513, -1.6482974003165225, 1.1380169338818007, -1.1497761901269143, 0.9617731115614276, -0.950013855316314, -0.38767527328917595, 0.9898664140326332, 1.2124862008438413, -1.8146773415873554, 0.2208867092758453, -0.7163460280183926, 1.5131840922576885, -1.0177247735151127, -1.3301397421435013, -1.2723553230218556, 0.786933809707449, 1.8155612554578795, 0.6956618921402367, -0.76307402553104, -0.1944535215065173, 0.2618656548973206, -1.1785533603165845, 1.2914987183835365, -1.8600266121674736, 1.7470812541004648, 1.636090024387073, 0.34973723179004423, -2.570370340474682, 0.5845430842976214, 0.8186753446975388, -1.1137702059433536, 0.34664066884613476, -0.05154580760029148, -0.20544694928841523, -0.9866242418448508, 0.8410962830879214, 0.3509749080453446, 0.2129218126860053, 0.23748942776506965, -1.695215209365017, 1.2448039689139136, 1.9935204803790896, 1.76234318036839, -3.3793227393989866, -0.37654092134849293, 0.6292831489730588, 1.4466380062441146, -2.044432772907413, -0.03148838230973183, 0.6010711004058749, 1.077211233557648, -1.6540771297471792, -0.02420520421640049, -0.8024885590013184, -0.5167866454281977, 0.9745146119752519, 0.34476059245426427, -0.6825997476620387, -0.6032863261668524, 0.4520660399802807, 0.8338200338485819, 1.839530704730322, -1.7113875191777197, -0.4573425667031188, 0.3291993811504881, -1.4252035583783424, 0.46925444280148554, -1.0486451735543199, 2.0045942891311768, -0.8836188981222506, -0.30614663573518897, 0.40488502765143153, 0.7848805062059512, 0.0794921518264573, -0.7136362057813415, 1.7291908653518533, -1.0950468113969407, 1.8987505106012463, -0.6495678877333546, -0.2784397862336334, -0.9707428366342299, -0.08702604860403085, -1.3739780322371473, 2.6917799206372877, -1.2307758397961095, -1.1326657339259611, 1.3721980106020908, 0.2314059461937461, -0.47093822286987574, -1.6163737529966795, 0.136010115379122, 0.12732808628180692, 1.3530355513357222, -0.5919773762350644, 0.36114560159398934, 0.8082581718911115, -0.5774263972500648, -0.8097501119667072, -0.873231983742528, 2.4279941705580654, -0.7450120748488303, -0.22474000615594036, -1.572951369286244, 1.3982668651835013, 0.3994245102586831, -1.2061421368185563, -0.18082095192755787, -0.6907107192184299, 2.0776738079645725, 0.8467570206507276, -0.5237816380317781, -2.0417234900905896, 1.718748107471697, 0.716374807890503, 0.08952584136898167, -1.0555005329052847, 0.2495998836458284, -1.7546057621817113, 1.7286662052644886, 0.2544042820345851, -0.2284647251173908, -2.0480762218694224, 2.957954098402098, -1.0649459108056192, 0.15506803427294358, -1.2553173768336308, -0.46394936264911735, -0.19916922635994183, 1.91843596584269, 0.2570214610302912, 0.7903214568568444, 0.22984662770053887, -1.2771895455876177, 0.4032330431622597, -1.413643585329737, 1.8436390044846576, -0.8332284623171518, -1.545389643335426, 3.0347348887175656, -1.6888669642443972, 0.19952171886225756]}], {}, {\"linkText\": \"Export to plot.ly\", \"showLink\": false})</script>"
      ],
      "text/plain": [
       "<IPython.core.display.HTML object>"
      ]
     },
     "metadata": {},
     "output_type": "display_data"
    }
   ],
   "source": [
    "iplot([Histogram2dContour(x=dwx, y=dwy, contours=Contours(coloring='heatmap')),\n",
    "       Scatter(x=dwx, y=dwy, mode='markers', marker=Marker(color='white', size=3, opacity=0.3))], show_link=False)"
   ]
  },
  {
   "cell_type": "markdown",
   "metadata": {},
   "source": [
    "The last contour histogram looks of the mix-approach looks very similar to the pure-approach. The contour lines however look a bit more homogeneous or less curvy. The data points are in general a bit closer to each other given that the axis are of smaller scale. At last, the data cloud seems a bit fatter and less stretched. \n",
    "\n",
    "Concluding, we can see clear differences introduced due to the different transformation technics which should be seen in the regression results later on. "
   ]
  },
  {
   "cell_type": "markdown",
   "metadata": {},
   "source": [
    "<a id='MCPythonReg'></a> \n",
    "\n",
    "### 3.3.  Regression"
   ]
  },
  {
   "cell_type": "code",
   "execution_count": 165,
   "metadata": {
    "collapsed": false
   },
   "outputs": [
    {
     "name": "stdout",
     "output_type": "stream",
     "text": [
      "           FD   RT-pure    RT-mix\n",
      "Beta  2.99968  1.975571  1.957554\n"
     ]
    }
   ],
   "source": [
    "######### Regression\n",
    "# First-Difference\n",
    "x = np.mat(dx).T\n",
    "y = np.mat(dy).T\n",
    "estimate_fd = (x.T * x).I * x.T * y\n",
    "\n",
    "x2 = np.mat(d2x).T\n",
    "y2 = np.mat(d2y).T\n",
    "estimate_pure = (x2.T * x2).I * x2.T * y2\n",
    "\n",
    "xw = np.mat(dwx).T\n",
    "yw = np.mat(dwy).T\n",
    "estimate_mix = (xw.T * xw).I * xw.T * yw\n",
    "\n",
    "results = np.array((estimate_fd, estimate_pure, estimate_mix))\n",
    "results = np.mat(results)\n",
    "results_df = pd.DataFrame(results)\n",
    "results_df.columns = [\"FD\", \"RT-pure\", \"RT-mix\",]\n",
    "results_df.index = [\"Beta\"]\n",
    "print results_df\n",
    "\n",
    "########################## Possible OLS-regression packages we decided against. We kept in the code just in case we want to find it somewhen later on.\n",
    "#model = sm.OLS(dy, dx)\n",
    "#results = model.fit()\n",
    "#print(results.summary())\n",
    "#print('Parameters: ', results.params)\n",
    "\n",
    "#model = sm.OLS(d2y, d2x)\n",
    "#results = model.fit()\n",
    "#print(results.summary())\n",
    "#print('Parameters: ', results.params)"
   ]
  },
  {
   "cell_type": "markdown",
   "metadata": {
    "collapsed": false
   },
   "source": [
    "The results show for the first two entries a similar picture to what we had in in the Stata results as well. The FD is upwards biased due to the linear specific trend. The _pure_ estimation solves for the engogeneity problem and gives a coefficient very close to the true value. For the _mix_, where we first calculate the first-difference and then subtract the mean specific to each individual performs not as good as before. The coeffcient is equal to 1.9575542, so roughly biased by 0.04. Looking into the Stata help file of the [xtreg](http://www.stata.com/manuals13/xtxtreg.pdf) command shows us that in Stata does not just uses the within-transformation, but also adds the overall average:\n",
    "\n",
    "$$y_{it} - \\bar{y}_{i} + \\bar{\\bar{y}} = \\beta \\cdot (x_{it} - \\bar{x}_{i} + \\bar{\\bar{x}}) + \\alpha_i - \\alpha_i + \\bar{\\alpha} + e_{it} - \\bar{e}_{i} +\\bar{\\bar{e}} \\quad $$ \n",
    "\n",
    "with $\\bar{y}_{i} = \\sum_{t=1}^T y_{it}$, $\\bar{\\bar{y}} = \\sum_{i}\\sum_{t} x_{it} /(nT_i)$\n",
    "\n",
    "This however should just enable to calculate an intercept and have an impact on the standard errors. Another possibility would be that the seed was just not _in favor_ for the _mix_ method. This highly motivates to do a monte carlo study.\n",
    "\n",
    "As noted before, we will run now the regression with 1000 replications to see how the estimations behaves.\n",
    "\n",
    "<a id='MCPython'></a> \n",
    "### 3.4 Monte Carlo Study\n"
   ]
  },
  {
   "cell_type": "code",
   "execution_count": 6,
   "metadata": {
    "collapsed": false,
    "scrolled": true
   },
   "outputs": [
    {
     "name": "stdout",
     "output_type": "stream",
     "text": [
      "                 -5        -1       0.5         2\n",
      "FD_beta   -4.000160 -0.000160  1.499861  2.999858\n",
      "FD_se      0.000300  0.000310  0.000305  0.000310\n",
      "RT-1_beta -5.000413 -0.999641  0.499308  1.999462\n",
      "RT-1_se    0.053140  0.053358  0.054073  0.052788\n",
      "RT-2_beta -4.999997 -1.000037  0.499936  2.000243\n",
      "RT-2_se    0.045409  0.044478  0.045497  0.043901\n"
     ]
    }
   ],
   "source": [
    "r = 1000 # number of replications of the simulation\n",
    "\n",
    "#### empty matrices generated to store the results at the end of the loop\n",
    "# for first-difference\n",
    "estimate_fd = np.mat(np.empty((1, r))) \n",
    "estimate_mat_fd = np.mat(np.empty((4, r))) \n",
    "beta_fd_hat = np.zeros(4)\n",
    "se_fd_hat = np.zeros(4)\n",
    "\n",
    "# for random-trend (1) (pure)\n",
    "estimate_rt_p = np.mat(np.empty((1, r)))\n",
    "estimate_mat_p = np.mat(np.empty((4, r))) \n",
    "beta_rt_p_hat = np.zeros(4)\n",
    "se_rt_p_hat = np.zeros(4)\n",
    "\n",
    "# for random-trend (2) (mix)\n",
    "estimate_rt_m = np.mat(np.empty((1, r)))\n",
    "estimate_mat_m = np.mat(np.empty((4, r))) \n",
    "beta_rt_m_hat = np.zeros(4)\n",
    "se_rt_m_hat = np.zeros(4)\n",
    "####\n",
    "\n",
    "l = 0 # Used to move within a vector to store results at the end\n",
    "n = 200 # defines the number of individuals\n",
    "T = 5 # defines the number of time periods\n",
    "N = n * T # maximum number of observations, necessary for the calculations\n",
    "intercept = 3 # Even though the intercept cancels out, we leave it in the model because it was in the basic model\n",
    "for beta in (-5, -1, 0.5, 2): # Here we actually run the code vor reveral beta's, -5, -1, 0.5 and 2\n",
    "    # in stata it would be `forvalue beta in (-5, -1, 0.5, 2)`\n",
    "    for j in range(0, r): # Loop for the different amounts of replications of the simulation, done for each beta     \n",
    "        # DGP\n",
    "        random.seed(r) # Seed is defined in the loop to have a different seed per replication, but still knowing which seed's are used\n",
    "        alpha_i = np.random.normal(0, 1, n)\n",
    "        alpha_i = np.repeat(alpha_i,T) \n",
    "        i = np.arange(n)\n",
    "        i = np.repeat(i,T)\n",
    "        t = np.arange(T) + 1 \n",
    "        t = np.tile(t,n)\n",
    "        trend = t*i \n",
    "        mean = [0, 0]\n",
    "        cov = [[1, 0], [0, 1]]\n",
    "        nu_it, e_it = np.random.multivariate_normal(mean, cov, N).T \n",
    "        x_it = (nu_it + alpha_i + trend).T \n",
    "        y_it = (intercept + alpha_i + beta*x_it + trend + e_it).T # <=> `g y_it = 3 + alpha_i + 2*x_it + trend + e_it `\n",
    "        \n",
    "        ############################### Transformation for the first-difference and randon-trend (1) and (2)\n",
    "        \n",
    "        # First-difference and random-trend (1)\n",
    "        x_reshape = np.reshape(np.ravel(x_it), (n, T)).T \n",
    "        dx = np.zeros(x_reshape.shape)\n",
    "        dx[1:] = x_reshape[1:] - x_reshape[:-1] \n",
    "        dx = np.delete(dx,(0), axis=0) \n",
    "        dx_reshape = dx # result is stored for the within-transformation\n",
    "        d2x = np.zeros(dx.shape) \n",
    "        d2x[1:] = dx[1:] - dx[:-1] \n",
    "        d2x = np.delete(d2x,(0), axis=0)\n",
    "        \n",
    "        dX = np.reshape(dx.T, N-n) \n",
    "        d2X = np.reshape(d2x.T, N-2*n)\n",
    "\n",
    "        y_reshape = np.reshape(np.ravel(y_it), (n, T)).T \n",
    "        dy = np.zeros(y_reshape.shape)\n",
    "        dy[1:] = y_reshape[1:] - y_reshape[:-1] \n",
    "        dy = np.delete(dy,(0), axis=0)\n",
    "        dy_reshape = dy # result is stored for the within-transformation\n",
    "        d2y = np.zeros(dy.shape)\n",
    "        d2y[1:] = dy[1:] - dy[:-1] \n",
    "        d2y = np.delete(d2y,(0), axis=0)\n",
    "        dY = np.reshape(dy.T, N-n)\n",
    "        d2Y = np.reshape(d2y.T, N-2*n)\n",
    "        \n",
    "        # Within-transformation\n",
    "        dx_mean = dx_reshape.mean(axis=0) \n",
    "        dx_mean_i = np.repeat(dx_mean,T-1) \n",
    "        dx_mean_i_reshape = np.reshape(dx_mean_i.T, N-n) \n",
    "        dwX = dX - dx_mean_i_reshape\n",
    "        # dwX is now constructed for the Random-Trend 2, mix\n",
    "        # Same for the y-variable\n",
    "        dy_mean = dy_reshape.mean(axis=0) \n",
    "        dy_mean_i = np.repeat(dy_mean,T-1) \n",
    "        dy_mean_i_reshape = np.reshape(dy_mean_i.T, N-n) \n",
    "        dwY = dY - dy_mean_i_reshape \n",
    "        # dwY is now constructed for the Random-Trend 2, mix\n",
    "        \n",
    "        ################# First-Difference Regression\n",
    "        X = np.mat(dX).T\n",
    "        Y = np.mat(dY).T\n",
    "        M = (X.T * X).I * X.T\n",
    "        estimate_fd[:, j] = M * Y\n",
    "        estimate_mat_fd[l] = estimate_fd\n",
    "        \n",
    "        ################# Random-Trend (1), pure Regression\n",
    "        X2 = np.mat(d2X).T\n",
    "        Y2 = np.mat(d2Y).T\n",
    "        M2 = (X2.T * X2).I * X2.T\n",
    "        estimate_rt_p[:, j] = M2 * Y2\n",
    "        estimate_mat_p[l] = estimate_rt_p\n",
    "        \n",
    "        ################# Random-Trend (2), mix Regression\n",
    "        Xw = np.mat(dwX).T\n",
    "        Yw = np.mat(dwY).T\n",
    "        Mw = (Xw.T * Xw).I * Xw.T\n",
    "        estimate_rt_m[:, j] = Mw * Yw \n",
    "        estimate_mat_m[l] = estimate_rt_m\n",
    "        \n",
    "        \n",
    "        \n",
    "    mu_fd = estimate_fd.mean()\n",
    "    var_fd = estimate_fd.var()\n",
    "    sigma_fd = np.sqrt(var_fd)\n",
    "    beta_fd_hat[l] = mu_fd\n",
    "    se_fd_hat[l] = sigma_fd\n",
    "    \n",
    "    mu_rt_p = estimate_rt_p.mean()\n",
    "    var_rt_p = estimate_rt_p.var()\n",
    "    sigma_rt_p = np.sqrt(var_rt_p)\n",
    "    beta_rt_p_hat[l] = mu_rt_p\n",
    "    se_rt_p_hat[l] = sigma_rt_p\n",
    "    \n",
    "    mu_rt_m = estimate_rt_m.mean()\n",
    "    var_rt_m = estimate_rt_m.var()\n",
    "    sigma_rt_m = np.sqrt(var_rt_m)\n",
    "    beta_rt_m_hat[l] = mu_rt_m\n",
    "    se_rt_m_hat[l] = sigma_rt_m\n",
    "    \n",
    "    l = l + 1\n",
    "    \n",
    "\n",
    "#estimate_fd = np.squeeze(np.asarray(estimate_fd))\n",
    "\n",
    "\n",
    "#estimate_rt_p = np.squeeze(np.asarray(estimate_rt_p))\n",
    "\n",
    "\n",
    "#estimate_rt_m = np.squeeze(np.asarray(estimate_rt_m))\n",
    "\n",
    "\n",
    "results = np.matrix((beta_fd_hat, se_fd_hat, beta_rt_p_hat, se_rt_p_hat, beta_rt_m_hat, se_rt_m_hat))\n",
    "results_df = pd.DataFrame(results)\n",
    "results_df.index = [\"FD_beta\", \"FD_se\", \"RT-1_beta\", \"RT-1_se\", \"RT-2_beta\", \"RT-2_se\"]\n",
    "results_df.columns = [\"-5\", \"-1\", \"0.5\", \"2\"]\n",
    "print results_df"
   ]
  },
  {
   "cell_type": "markdown",
   "metadata": {},
   "source": [
    "In the output table `results` one can see the results of the estimated coefficient $\\beta$ for the first-difference and random-trend _pure_ (1) and _mix_ (2). Further, we included the the standard deviation of the distribution the estimated coefficients have from the various replication (so, this is not a mean from each standard error, but just the one standard error from the coefficients). The numbers of each columns show the true value of the coefficient.\n",
    "\n",
    "We see that the now the RT-_mix_ is not much different from the _pure_ estimation as before. Differences are only slightly. Looking at the standard errors, using the second data transformation increases the spread of the estimation in the replications. Within the method they are quite constant, but both RT have much higher standard errors than the FD.\n",
    "\n",
    "For a better overview of the results, the next cells will do some comparisons. First we calculate the differences of the estimated $\\hat{\\beta}$ (given by beta_fd_hat for the first-difference) and the true $\\beta$ (given by beta).\n",
    "\n",
    "#### 3.4.1 Comparison of the Monte Carlo Results"
   ]
  },
  {
   "cell_type": "code",
   "execution_count": 7,
   "metadata": {
    "collapsed": false
   },
   "outputs": [],
   "source": [
    "beta = np.array((-5, -1, 0.5, 2))\n",
    "diff_fd = beta_fd_hat - beta\n",
    "diff_fd_r = np.round(np.absolute(diff_fd),0)\n",
    "\n",
    "diff_rt_p = beta_rt_p_hat - beta\n",
    "diff_rt_p_r = np.round(np.absolute(diff_rt_p),0)\n",
    "\n",
    "diff_rt_m = beta_rt_m_hat - beta\n",
    "diff_rt_m_r = np.round(np.absolute(diff_rt_m),0)\n",
    "\n",
    "diff_se_rt = se_rt_p_hat - se_rt_m_hat        \n",
    "        "
   ]
  },
  {
   "cell_type": "markdown",
   "metadata": {},
   "source": [
    "To see whether the differences from the true coefficient is large, we compare the estimate to the value $0.01$ and let python tell us whether the difference is bigger or smaller than the chosen value.:"
   ]
  },
  {
   "cell_type": "code",
   "execution_count": 8,
   "metadata": {
    "collapsed": false
   },
   "outputs": [
    {
     "name": "stdout",
     "output_type": "stream",
     "text": [
      "\n",
      "Test if the difference between estimator of the first-difference and the true value is significant unequal to zero\n",
      "Reject\n",
      "Reject\n",
      "Reject\n",
      "Reject\n",
      "\n",
      "Test if the difference between estimator of the random-trend (1) and the true value is significant unequal to zero\n",
      "Don't reject\n",
      "Don't reject\n",
      "Don't reject\n",
      "Don't reject\n",
      "\n",
      "Test if the difference between estimator of the random-trend (2) and the true value is significant unequal to zero\n",
      "Don't reject\n",
      "Don't reject\n",
      "Don't reject\n",
      "Don't reject\n"
     ]
    }
   ],
   "source": [
    "print \"\"\n",
    "print \"Test if the difference between estimator of the first-difference and the true value is significant unequal to zero\" \n",
    "for l in range(0,4):\n",
    "    if diff_fd[l] / se_fd_hat[l] > 1.96:\n",
    "        print \"Reject\"\n",
    "    else:\n",
    "        print \"Don't reject\"  \n",
    "print \"\"\n",
    "print \"Test if the difference between estimator of the random-trend (1) and the true value is significant unequal to zero\"         \n",
    "for l in range(0,4):\n",
    "    if diff_rt_m[l] / se_rt_m_hat[l] > 1.96:\n",
    "        print \"Reject\"\n",
    "    else:\n",
    "        print \"Don't reject\" \n",
    "\n",
    "print \"\"\n",
    "print \"Test if the difference between estimator of the random-trend (2) and the true value is significant unequal to zero\"                 \n",
    "for l in range(0,4):\n",
    "    if diff_rt_m[l] / se_rt_m_hat[l] > 1.96:\n",
    "        print \"Reject\"\n",
    "    else:\n",
    "        print \"Don't reject\"         \n",
    "        \n"
   ]
  },
  {
   "cell_type": "markdown",
   "metadata": {},
   "source": [
    "For the test we used the 95\\%-quantile. We conclude that both, the _pure_ and the _mix_ random-trend give consistent estimates. The first-difference (as expected) gives us inconsistent results. Thereby we conferm the results we obtained from stata above. It seems that the code conducted by us works. Works in the sense that the transformations are done correctly.\n",
    "\n",
    "To see however whether _pure_ or _mix_ is better, we will see which difference of the coefficient is smaller and which standard-errors are smaller"
   ]
  },
  {
   "cell_type": "code",
   "execution_count": 166,
   "metadata": {
    "collapsed": false
   },
   "outputs": [
    {
     "name": "stdout",
     "output_type": "stream",
     "text": [
      "Which method produces a smaller differences with the true value?\n",
      "Pure\n",
      "Mix\n",
      "Pure\n",
      "Pure\n",
      "\n",
      "Which method produces smaller standard errors?\n",
      "Mix\n",
      "Mix\n",
      "Mix\n",
      "Mix\n",
      "\n",
      "Difference of the standard errors:\n",
      "[ 0.00773085  0.00888043  0.00857525  0.00888693]\n"
     ]
    }
   ],
   "source": [
    "print \"Which method produces a smaller differences with the true value?\"\n",
    "for l in range(0,4):\n",
    "    if diff_rt_p[l] < diff_rt_m[l]:\n",
    "        print \"Pure\"\n",
    "    else:\n",
    "        print \"Mix\" \n",
    "\n",
    "print \"\"        \n",
    "print \"Which method produces smaller standard errors?\"        \n",
    "for l in range(0,4):\n",
    "    if se_rt_p_hat[l] < se_rt_m_hat[l]:\n",
    "        print \"Pure\"\n",
    "    else:\n",
    "        print \"Mix\" \n",
    "        \n",
    "print \"\"\n",
    "print \"Difference of the standard errors:\"\n",
    "print diff_se_rt"
   ]
  },
  {
   "cell_type": "markdown",
   "metadata": {},
   "source": [
    "For our simulation, it does not seem that for the mean of the coefficient it makes a different whether ones uses the first or the second random-trend approach. Here, two times the _mix_-approach has a smaller difference and two times the _pure_-approach has a smaller difference. The differences overall are very small, so small that in empirical papers it should not matter.\n",
    "\n",
    "For the standard error however, always the _mix_-approach is preferred. This means that the for the 1000 replications, the _mix_-approach is more accurate than the _pure_-approach. The difference of the standard errors is at the second decimal digit which, from our point of view, does not seem to be small enough to neglect it.\n",
    "\n",
    "We therefore conclude that it might be reasonable to suggest to use the second random-trend approach, in which one calculates first the first-difference to cancel out the constant and transform the linear trend into a constant and then takes use of the within-transformation to cancel out the remaining constant.\n",
    "\n",
    "At the very last we also have a graphical view on our estimation.\n",
    "<a id='graphs'></a> \n",
    "\n",
    "### 3.5 Graphical Comparison of the Estimation Methods"
   ]
  },
  {
   "cell_type": "code",
   "execution_count": 174,
   "metadata": {
    "collapsed": false
   },
   "outputs": [
    {
     "data": {
      "text/html": [
       "<div id=\"7ba85b86-978e-4f89-9d8a-f93e83f9f67b\" style=\"height: 587; width: 1116px;\" class=\"plotly-graph-div\"></div><script type=\"text/javascript\">window.PLOTLYENV=window.PLOTLYENV || {};window.PLOTLYENV.BASE_URL=\"https://plot.ly\";Plotly.newPlot(\"7ba85b86-978e-4f89-9d8a-f93e83f9f67b\", [{\"opacity\": 0.8, \"orientation\": \"v\", \"yaxis\": \"y1\", \"histnorm\": \"\", \"histfunc\": \"count\", \"nbinsx\": 30, \"xaxis\": \"x1\", \"marker\": {\"color\": \"rgba(255, 153, 51, 1.0)\", \"line\": {\"color\": \"#4D5663\", \"width\": 1.3}}, \"x\": [-4.00023713178736, -3.9998691484038633, -4.000654128192716, -4.000825576969591, -3.9999975759234094, -3.999673479150058, -3.9999279869789666, -4.000704200789525, -3.9998719161415464, -4.000426701320117, -4.000449137840645, -4.000239621527589, -4.000449417263759, -4.000145933731634, -4.00047043860033, -4.000487010215281, -4.00048998855164, -3.9994696556772587, -4.000538373829726, -4.00017013055522, -4.000224424055238, -3.9998037998668923, -4.000061606564704, -4.0001967563433745, -3.999926609592271, -4.000317920338957, -4.0002465513421495, -4.000361131578507, -3.9999863482429348, -4.000552910458612, -4.000113099223814, -4.000197927247735, -3.999701240790065, -3.999957307550239, -3.99976437620126, -4.000513378471857, -4.0001494243897, -4.000388445302653, -3.999922886379075, -3.999827593830319, -3.9999979559543144, -4.000000553586375, -4.000371034373114, -4.000195627429187, -4.0004113709626585, -3.9998898260217475, -3.9998358896495896, -3.9997101123824637, -3.9998976586422943, -4.000077795308258, -4.000430769763635, -4.000258386099382, -3.999449819590002, -4.000159831661602, -4.000355585469893, -4.000144601510964, -4.00008615833892, -4.000706750667456, -4.0003565361445, -4.0000396759076855, -4.000488215281351, -4.000308669195567, -4.00041949284417, -3.9997611998141505, -3.999996086543742, -4.000656272296633, -4.000335183047874, -4.000106985387142, -4.000166396174956, -4.000442448294844, -4.000267538335957, -3.999512133361721, -4.0000380442336745, -4.000254734988799, -3.9998085130529386, -4.000628674089035, -4.000252944066641, -4.000034897919588, -4.0003111796963715, -4.000003552918323, -4.000295353928321, -3.999786077432348, -4.00022832326853, -3.9998277735632244, -3.999942794111779, -4.000473007367482, -3.9997512774961392, -4.0003845423833795, -3.9996649608722668, -4.000366722716396, -3.999801447684635, -3.9998850997731012, -4.0001883033677315, -4.000442795639473, -4.000052188063153, -4.000384760492487, -4.00059419933125, -4.000375110285685, -3.9997894012255357, -4.000264017616342, -4.000085927650246, -4.000080722319558, -4.000051536292606, -4.000154748988473, -3.9998783050673974, -4.000084340208035, -3.999995318026155, -3.9999878127095063, -4.000222421657159, -4.000049023261266, -3.9999799863125673, -4.000225574724809, -4.000609903940985, -4.000140781140942, -4.000145395582072, -4.000664609784584, -4.000253384239988, -3.9999615043349324, -4.000358642650319, -3.9997329636195067, -4.000431062083079, -4.000458404842507, -4.0001301255056525, -4.000328305527992, -4.000164168668919, -4.000666319116805, -4.000221845454545, -4.000393174762766, -3.999782220780231, -4.000300968020419, -3.9999119266878402, -4.000611259493311, -4.0002273001487, -4.000597593015737, -3.9995828685121366, -4.000082749533954, -4.000230558599453, -4.000286903733786, -4.000193111574646, -4.000555456391489, -4.0000680037595755, -4.000268819136841, -4.00032566764094, -4.0005273160500945, -3.9999806556726183, -4.000175513946106, -4.00066087141416, -4.0005122959767405, -4.000004271210626, -4.000506516705125, -3.9997557757472197, -3.999816307484625, -4.00004572851385, -4.000405210575762, -4.000018811221959, -4.000422675211569, -4.000271093491509, -4.000649197274669, -4.000241864388569, -4.0002887704471455, -3.9997836645128326, -4.00001015606947, -4.0004470145726, -4.000410231670264, -4.000205295094477, -3.9994016036553335, -4.0002532636216115, -4.000304652104385, -4.000260791662699, -4.000129379078929, -4.000353096162335, -4.0000029352186015, -4.000153134258261, -4.000140228638072, -3.9997700876718625, -4.000131167599666, -4.000322581139044, -3.999750519250109, -4.000575192782026, -4.000110578093244, -3.99973084460184, -4.000577599798969, -3.9999632950699606, -4.000223467461034, -3.9995209056515675, -4.000427397629709, -4.000003561879716, -4.000154247563895, -4.000084213532791, -3.9996397110398023, -4.0002340574850805, -3.9999643334100243, -3.999399004989349, -4.000552811123216, -4.000358211663228, -4.000587620353103, -4.0002656861805725, -4.000523836142376, -4.000227996665586, -4.000123622167328, -4.000117048259057, -4.000082831389764, -3.999480648991714, -4.000073280463763, -4.00036553505779, -3.999433360567016, -4.000166965451478, -3.9999298753204804, -4.000247195665791, -4.000445797582281, -4.000732153683664, -4.000041273836878, -4.000064098266897, -3.999913926350299, -4.000260488701091, -3.999965970943564, -3.9999897082824027, -3.999906863226281, -3.999715972371651, -3.9997059027436124, -4.0001800304445645, -4.000053497158135, -4.000287845299694, -3.9997279633464817, -3.9998696265521785, -4.000259433099918, -3.999927085993585, -4.0006076492481, -3.9998549377560453, -4.000253620177178, -3.999940672384769, -4.000195255861569, -4.000071562794203, -3.999384392362999, -4.0004884349976875, -4.00025421264373, -3.9999830770319207, -4.000180192098826, -4.000387812140846, -4.000433058980567, -3.999828883997738, -3.9997880195720725, -3.999434214671221, -4.000081232807774, -4.000345053511614, -4.000020221157119, -4.000400604088359, -4.0000020979387045, -4.000545828700067, -3.9999313984942324, -4.000432075141945, -4.000010234771297, -3.999886799839693, -3.999936576250443, -4.000332070152054, -4.000185136620707, -4.000080441531756, -4.000409192980734, -3.999946860435271, -4.00038392063891, -4.000348367593911, -3.9998655116306274, -4.000471923394352, -3.9999138789657573, -4.000144777087449, -4.000385730839106, -4.000680370064883, -4.000518488739702, -4.000456351840452, -4.000437410594849, -4.000306069001945, -3.999936095659214, -4.000179893883958, -4.000642802270196, -4.000213743564221, -4.000216652665143, -4.000495106737795, -3.999430403281279, -3.9991780078996317, -4.000853308304995, -4.000093876682081, -3.999940530005958, -4.000057383343655, -3.9995433291681657, -4.000157277824174, -4.000151084948599, -3.9998386058530953, -3.9999924489440426, -4.000431979130568, -4.000625579172891, -3.999910187484438, -4.000240961808828, -4.000342962162133, -4.000599720532329, -4.0003035875967985, -4.000398303355668, -4.000292320312948, -4.000304022639948, -4.000334832549502, -4.000068729984607, -4.000058180642286, -4.0004065239534485, -4.000098620563433, -4.000569581218395, -4.0005735409858385, -3.99951837871813, -4.000161383521526, -4.000583296470929, -4.000578024402452, -4.000391619080187, -4.000646397135568, -4.000272616144511, -4.000168770172829, -4.000215827638332, -3.9997165219224744, -4.000343625079336, -4.00074833341938, -4.000120313360763, -4.000326169726678, -4.000208467930797, -4.000177329652478, -4.000694646599638, -4.000080849284138, -4.000301496906834, -4.000820339350968, -3.9999857392859965, -4.000004913067469, -3.9998548349724703, -4.000520463268018, -4.000505493059336, -4.000427847009557, -4.000368847874288, -3.9999152681528187, -4.000072373767688, -3.999934181209013, -3.9999773497170246, -3.999801643361561, -3.9999828484177518, -4.000254924660864, -4.000176162304214, -4.000318037943154, -4.000025855455626, -4.000113930006987, -4.000234147890907, -3.9991985678737327, -3.99979052440751, -4.000094501630496, -4.000297047838687, -4.0002310861852015, -4.000181736079028, -4.00059576064614, -4.000198621417423, -3.9992532188716305, -4.000389591838232, -4.000378057275302, -3.9999767179903527, -4.0001802587497135, -4.000405267990816, -4.0003691388867155, -4.000230548223474, -4.000180774372272, -3.999951208438368, -3.9997960047358068, -3.9995277846514226, -4.000214469309935, -4.00059558144668, -3.9998595477514645, -4.000010124407186, -4.000023027183127, -4.000307674630167, -3.9998930720438697, -4.000141665630466, -4.000324521135134, -4.0000831019696435, -4.00011423646391, -4.000305850651352, -3.9999983430496004, -4.00077569860916, -4.000455716215138, -3.999979411142891, -4.000072956891618, -4.000115616758785, -3.9998892790889147, -4.00004468983143, -4.001303043201043, -4.000455893339433, -4.000434406703645, -4.000064474446386, -4.0002451037919355, -3.999711244715569, -3.9997741748256788, -4.000521749699906, -4.000332099609276, -3.9996212378002145, -3.999895152182852, -4.000042946937452, -3.9996273612350457, -3.9997868093941005, -4.000178836951607, -3.99988851283406, -3.999595210694856, -4.000193933286683, -4.000021867390351, -4.00062555748442, -4.0000861986436185, -4.000199368535344, -4.00019328775416, -4.000584512715596, -4.000817090939283, -3.999828126297869, -3.999633986382939, -4.000049295284178, -3.999750690204012, -4.000372660815969, -4.000304025971754, -3.9999026750159192, -4.000254974804402, -4.0005817818304905, -3.9999811229865565, -4.000302471203267, -4.000410013171225, -4.000545976421106, -4.000298657032138, -4.000503405681879, -4.000351064360878, -4.0005744694372645, -4.000698103118356, -4.000283865642586, -4.000399307169527, -4.000483498486152, -4.000293202127419, -4.000336499386522, -4.000301906737883, -4.0003334776913775, -3.9999448525359003, -4.000638784503254, -4.000135566485184, -4.000203957291371, -4.000751681511027, -3.9998608221964256, -4.0002062601292305, -3.9999145204962128, -4.000128438698555, -3.9996586493240223, -4.000156861077887, -3.9997968804050323, -3.999962322892227, -3.999714172408682, -3.999841694075834, -4.000583783923752, -4.000187875364767, -3.999863779275445, -4.000657263032399, -4.00029310555816, -4.000487128974796, -4.000077508048214, -3.999681477603105, -4.000246037028962, -4.000212980908911, -4.000640930233738, -3.9999911087312565, -4.0003261193219135, -3.9999491107760696, -4.000264549042237, -4.000327789215993, -4.000650952504339, -4.000355129361429, -4.0005574081188415, -4.0000321976889355, -3.9999583324852304, -4.000019355613326, -4.000451203443163, -4.000223411148882, -4.000023032023151, -3.9998581293903976, -4.000187593287091, -3.999760923324083, -4.000118937472014, -4.000184449482152, -4.000003209489338, -4.000757715532194, -3.9996705234472727, -3.999929002929678, -4.000400668146909, -3.9997599990380293, -4.000005158845394, -3.9997173091110434, -4.0003350820810315, -4.0000158319085894, -4.000246155130338, -4.0000757107058895, -4.000079662757374, -4.000766200013464, -3.999818002949146, -4.000451294631978, -4.000109805844134, -4.000495425952419, -3.9999913636725237, -4.000176767967087, -3.9995881280700503, -4.000441510852575, -3.9998551609260016, -4.0001617713057795, -4.0004030114436, -4.00049468647728, -4.000040506738797, -4.000441889454045, -4.000194528295561, -3.99951910038315, -4.000037706936228, -4.000734035498608, -3.999860144530891, -3.9999049761869694, -3.999993324579418, -4.000437210848631, -3.9997026289485906, -4.0006312704277445, -3.999678702914733, -4.000667902914383, -4.000222654466574, -4.000904576201129, -3.999723535016417, -3.9998518222159154, -3.999881119958062, -4.000503212444434, -3.9998875243623218, -3.9996212699013998, -4.000032569947716, -4.000175184146821, -3.999910610987171, -3.9998677306341293, -4.0000883253459305, -4.000074081090999, -4.000625797987361, -4.000427538834515, -4.000135332138533, -4.000732226151093, -4.000444383343883, -3.999906583007532, -3.9993621487079056, -4.000452822152084, -4.000220169193618, -3.999939401509208, -4.000490022650866, -3.999927522125565, -4.00013529774287, -3.9998462263983896, -3.9998376158183655, -4.000531583055172, -4.00058365573395, -4.000224958912122, -4.000246611707883, -4.000257002680733, -3.999948843918534, -4.000643310167921, -4.0002498862684925, -4.000062007356705, -4.000023460803557, -3.999832149163412, -3.9999328252530835, -3.9999215935302717, -4.000976231113661, -4.000050007286207, -3.9999123477814447, -4.000235715382752, -4.000244926162537, -4.000299055210263, -3.9996492466581994, -4.000007401010085, -4.000282705011019, -4.000418209931132, -3.9998981259869204, -4.000284462199864, -3.9998269652861915, -4.0003937677845105, -3.999849228789251, -4.000096278264505, -4.000338925267041, -4.000284539389633, -3.999967714310417, -3.9999076300427956, -4.000004633060595, -3.9996569133832587, -4.000161798928491, -4.000490775565216, -4.000221686934956, -3.9999678954853644, -4.000394948416142, -4.000225672175532, -3.9999665164513902, -4.000442691952783, -3.999903302801913, -4.000412877028502, -4.000053668465077, -3.9998472440366153, -4.000149577918627, -4.00030572489404, -3.9998715122581503, -4.00055407355102, -4.000056890142806, -3.9998133174992585, -4.000481796579546, -4.0006561642731935, -4.00045854116409, -4.000075063901503, -4.0004131142152, -4.000216706415207, -4.000061163005348, -4.000037142673966, -3.999462545854189, -3.999575771876727, -4.000299472023089, -4.000129439140001, -3.999824464312934, -3.999954556563617, -3.999738235868578, -3.999819664749567, -4.0000628973941925, -3.999770990535871, -3.9999235478848307, -4.0001791549293575, -3.9997755857893336, -3.99966739407543, -3.9999682551556535, -4.0002866793277345, -3.999620028457655, -4.0002734488950775, -4.000277303947495, -4.00019962469146, -4.000084275742532, -4.000300609336488, -4.0004008620477975, -3.999685610728566, -4.000583074416837, -4.000032184417467, -3.999451763159268, -4.000280183806376, -3.9998944741041624, -3.999904288022986, -3.999755255547246, -3.999980999539175, -4.00021990198418, -4.0001931197652905, -4.0001472575426975, -3.9996100486790342, -4.000453801512087, -4.00039430440428, -4.000497618430734, -4.000707665541052, -3.999967501865793, -4.0000834010789115, -4.000769562787977, -4.000029764855172, -4.000451200999198, -4.000585726387669, -3.9995688259664823, -4.000201561266715, -4.00054002329958, -3.9995082336357433, -4.00028979926233, -3.999789380940542, -3.9997226509980686, -4.000744985872782, -4.000432162274526, -3.999775033367354, -4.000371280352613, -4.000184980324781, -4.000418609610841, -4.000205000857675, -3.9999196295128225, -4.00039403590765, -4.000118452167991, -4.000241930235749, -4.000000569869123, -4.00013765063474, -4.0000228336150485, -4.000240831974059, -3.99999004465944, -3.9996652474813716, -3.9999135504235346, -3.999933816260155, -4.000041790330116, -4.000266404538736, -4.000089170311698, -3.9997175839021244, -4.00037072068767, -4.000460755589321, -4.000755189858521, -3.999918536864248, -4.000180413578275, -3.999758334368805, -3.9998186541692853, -4.000821432510948, -4.00009721019774, -3.9999985550222537, -4.000218091303296, -4.000230432156789, -4.000119204040181, -4.000339035866353, -4.000193618104693, -4.0001856382532175, -4.000182452893324, -4.000042215814353, -4.000070389451779, -4.000136278677095, -4.000957620173914, -4.0000358584850435, -4.000144533045336, -3.9999734479554228, -4.000694758905214, -4.00059081822851, -4.000474168603105, -4.000048093443459, -4.000138342700417, -3.999732743513135, -4.000395746629104, -4.00014942198098, -4.000239352226709, -4.000719167001794, -4.0004189796503935, -4.0003106488116345, -4.000112684828538, -4.00027528463845, -4.000485319961919, -3.9999103101038633, -4.000114327916302, -3.99978412290704, -3.9999307073531525, -4.000427238710804, -4.00006801279938, -4.000032946444716, -4.000374331263469, -3.9995429211175297, -3.9999260218058037, -4.000447659132773, -3.9999576620604405, -3.999988306350631, -4.000206322825701, -4.000359011156116, -3.999879968385038, -4.000173964737527, -4.000344401298653, -3.9999413983055576, -4.001043887353957, -4.000547218336274, -3.999655270087307, -4.000489202490985, -3.999645414190029, -4.0000459713200405, -3.9998418947658836, -4.000024868948097, -3.9998257983409236, -4.00015054988847, -4.000128710742944, -3.999757116836649, -4.0002013368863665, -4.000003179524321, -4.000282468244151, -4.000158739843284, -4.000103681041626, -4.000081175881612, -3.9999784096496267, -3.999800755860079, -4.000166058093691, -4.000288666243877, -4.000511331604506, -4.000126330899702, -4.000491204561743, -4.000212898996786, -4.00018898322668, -4.000315123660039, -4.000123630091526, -4.000505132712448, -3.9999345758362432, -3.9998929349454997, -4.000040615717808, -4.000432370037252, -4.000025603263474, -4.000330823551078, -4.000518355049578, -4.000512649848529, -4.0002995489541995, -4.000239452747529, -3.9997779399584044, -3.99995472111993, -3.99993013967852, -3.9997786329265175, -4.000097876882855, -3.9999600751504145, -4.000196736494505, -4.000078717742475, -4.000270109540329, -4.000172793025228, -3.9998571376711416, -3.9999229110161565, -3.9997605687148425, -4.0000542733187805, -4.000041811168915, -4.0000102510320135, -4.000018573744142, -3.9999798720680824, -4.000890513426889, -4.000363744877676, -4.000071951129565, -4.000048484425406, -3.9998440209209942, -4.000147395171052, -4.000211412269142, -4.000092072662788, -4.000484903922248, -4.000416517248645, -4.000512292039723, -3.99974392375074, -4.00026673080446, -3.9999838415254896, -4.000669840063371, -3.999963778359968, -4.000676649370385, -4.000791443377841, -4.000714516383793, -4.000041980136324, -3.999779529394372, -3.9999343486514105, -4.000132307244051, -4.000340813677205, -4.000164085772308, -3.999980561795915, -4.000209508822204, -4.000417290439951, -4.000029484977613, -4.000323902531193, -4.000527797674935, -3.9998168158581207, -3.999912537908551, -4.0001714853814505, -4.000146701765548, -4.000290205430574, -4.000045350093133, -3.9999395349119884, -3.9995639195057335, -4.000048438214106, -3.9999105067408443, -4.000035739930871, -3.999784101665322, -4.000161009401948, -3.9998525521366526, -3.9998029714133096, -3.9997676408629457, -4.000295860874269, -4.000653246100113, -4.000314111985772, -4.000306444592605, -4.000420803703439, -4.000376126783586, -3.9999975094375566, -4.0002405556238365, -3.9999127797421057, -4.00046664954775, -4.000315101100422, -4.000166445785968, -3.9999481154845893, -4.000106517302639, -4.000045755993073, -4.0001534342405805, -3.9998922470215077, -3.9997056961947477, -3.999876820183267, -4.00035432236624, -4.00057619059425, -4.0001486369841786, -4.001096205567921, -4.000052158666466, -4.000316637999752, -3.9999893921208005, -4.000418449617916, -4.000648190861178, -4.000110871703086, -4.0000979391119476, -4.000079885848823, -4.0004429451452115, -4.0001549194944035, -4.000350372832968, -4.000235812284476, -4.000664561612359, -4.000426465941885, -4.000036836159378, -3.999985075451781, -4.000093052972722, -4.000662975213484, -4.000138000827524, -4.000799888084903, -3.99990191209056, -4.00009877643407, -4.000043148072067, -3.9997622314191164, -4.00037537093654, -4.000583673563263, -4.000040622695421, -4.000173554879014, -3.999889053735826, -4.0003466990388095, -4.000049414061208, -4.000153711133902, -4.000259841557993, -3.999796442513746, -4.000110633392587, -4.000620354527705, -4.000234520197349, -4.000336880455885, -3.9999577109586593, -3.999338799428236, -4.000634829202469, -4.000010126379939, -3.9999954852967785, -4.000727104535895, -4.000168892955348, -3.999906669279561, -4.000408434728565, -4.000020153744666, -4.000292634282159, -3.999985249504795, -4.0002216867063085, -4.000043652220603, -4.000304337617607, -4.000194303194666, -4.000376315012364, -4.000131922812851, -4.0002495381537395, -4.000433908628076, -4.000215662558164, -4.000529333632867, -4.000177865557935, -3.9992860985744123, -4.000123145106471, -3.9999596518912695, -3.999975451412358, -4.0004259529205175, -4.000714372056545, -4.000855949895381, -4.000208798837755, -4.000200967384108, -3.9998361429251843, -3.9998087756911733, -3.9999344876540652, -3.9995682091476166, -4.000316655216659, -4.000242315818683, -4.00009004872335, -4.000205440934863, -4.000007165838288, -3.9996915629872856, -4.000023627998047, -3.9998015939505684, -4.0005760970646715, -4.000164200264354, -4.000286781305504, -3.999965508783002, -3.9998599550901157, -4.000121889706605, -4.000397843823042, -4.0003737567346285, -4.000013569939895, -3.9996640814946387, -4.000450005269737, -4.000446417638273, -4.000724428058196, -4.000343143070335, -4.0007350095940915, -4.000393955666349, -4.000259962454825, -3.999875854348243, -4.000357195502921, -3.999684432159159, -3.999992640859738, -4.00043496797538, -4.000459494718424, -4.000628335455955, -4.000083505584838, -4.000326431670191, -4.000282650973525, -3.9998096564473316, -4.000266981921343, -4.000318690645093, -4.000519689657003, -4.000129807513156, -4.00010232039312, -3.9999011422152297, -4.000009391484744, -4.000408006021513, -3.9995017683798624, -4.00006937048947, -4.000133521354195, -4.000429155396465, -4.000197391658249, -4.000227631907611, -4.00066353822827, -4.000337215580524, -4.000040482197949, -4.0006733230468425, -4.0003806077007305], \"type\": \"histogram\", \"name\": \"FD\"}, {\"opacity\": 0.8, \"orientation\": \"v\", \"yaxis\": \"y2\", \"histnorm\": \"\", \"histfunc\": \"count\", \"nbinsx\": 30, \"xaxis\": \"x2\", \"marker\": {\"color\": \"rgba(55, 128, 191, 1.0)\", \"line\": {\"color\": \"#4D5663\", \"width\": 1.3}}, \"x\": [-5.002149740386846, -5.0156633155965595, -5.015300989254978, -5.102955861365894, -4.995843266758267, -4.995559139832396, -4.9431687654153595, -4.92962743806053, -4.995975333050689, -5.0947215318773855, -4.924382615108996, -5.10190315797921, -5.018818326390202, -5.022572166750759, -5.045380861627881, -5.0333482887723395, -4.953181177771068, -5.022915783183771, -5.078228011316493, -5.073971859508567, -4.905272690699061, -4.9852760603276565, -5.079193724574763, -5.044076360090164, -5.009115254258319, -5.080991532523168, -5.006314964000892, -4.986753858333942, -4.994578493224241, -5.022153958285492, -5.001264622279823, -4.881207157619771, -5.081561296261149, -4.905598724402856, -4.9713279288927374, -5.019376983927135, -4.985918618952422, -5.072693288373648, -4.964007451948898, -4.96343979142075, -4.878903260736913, -4.9812531719972215, -4.872447818604124, -5.016206529766338, -4.99712563947822, -4.9439594346873, -5.020395308169382, -4.95473056635198, -4.8985746487103246, -4.958849444007367, -5.096666372433747, -4.961145827086016, -5.028472136144241, -5.008420322871803, -5.035933110558012, -4.887969697736997, -4.955906757194096, -4.98359734024203, -4.989655283056375, -5.057202454967365, -5.02626225195778, -5.009964877937129, -5.0217079269159335, -4.914525185160381, -4.988669123574088, -4.926896857544264, -5.024793456582646, -5.014467780150413, -5.004450609258402, -4.979645335644162, -4.9588757963735075, -4.986353123275585, -4.9817604686189005, -5.027420499642009, -5.001869706101912, -5.110785914245057, -4.955669990656505, -4.961359294680163, -5.033212011272832, -4.990407040847665, -5.029216137007286, -5.062609931267613, -5.017343049447405, -4.934567142511379, -4.873895542630246, -4.880522322973843, -4.9604341399165754, -4.979215901939748, -4.910563589236519, -4.896784285508003, -5.038696152331569, -5.034857092952061, -4.962035372621234, -4.996575697067215, -4.990576271786965, -4.974568865343851, -4.983841640013093, -4.942542388908734, -4.885718079257122, -5.014913307100535, -4.981588802408551, -5.023334975077813, -5.0187343940934745, -5.024197054299632, -4.811120717146103, -5.007793703271327, -5.106866214730488, -4.958891780621845, -5.047212973609655, -5.031784971737661, -4.981784630219041, -5.028958967623868, -5.055844957910895, -5.052938626801705, -4.920199555632031, -4.983023854451346, -5.078804062112821, -4.967551888850491, -5.008066182427971, -4.974757486521013, -4.99855119495478, -4.942657160824962, -5.072905629396358, -5.072147121325989, -4.981048806183404, -5.090163403826153, -4.92412405660822, -4.995564278175533, -5.031857275124917, -4.967807703669288, -4.957510740302257, -4.993966134195679, -4.968055992637557, -5.004927292196523, -4.98621308337599, -4.981758869339286, -4.96514486014844, -5.054465146265022, -4.935247126021075, -5.054513891568677, -5.076907261021639, -5.054502556673514, -5.089324481494596, -4.900672469461641, -5.00401971346837, -5.030964309014718, -5.002471574264303, -4.998204425007042, -4.974394418794597, -4.946711764616021, -5.093646434331546, -5.075566167772191, -4.966242448484573, -4.971988279232184, -4.964108357149449, -4.969807361646728, -5.108100169148528, -5.063573899433901, -4.9446256450070125, -5.054799962802317, -5.046856341188697, -5.076945395485783, -4.984946236897917, -4.995846311119004, -4.906823446683882, -4.959103550413408, -4.976221030215631, -5.021329028083881, -4.995793474984113, -5.050470432981614, -4.956669943641026, -4.998039305453235, -4.9513653291838295, -5.0397258892800965, -4.958885908370295, -5.013753746176669, -4.982699476902443, -5.020877024876455, -4.887863853732632, -5.0329389460013605, -5.010092412397704, -4.968083974108314, -5.003436306151347, -4.962521636833811, -5.052490089821985, -5.0645128749664, -4.941376926104127, -5.07963097118841, -4.903416791173869, -5.054827520487377, -4.957258191934505, -5.0000086955606395, -4.870166942908721, -4.974710075130749, -5.012450425564062, -5.016235519305578, -4.910923794032996, -5.017081800275774, -4.9425834398157615, -4.898129682674085, -5.003640790082912, -5.135240678873943, -4.9946072520584055, -4.950553899576422, -5.025572728306241, -5.022062663031557, -5.067721251388993, -5.038239749915922, -4.966883255640846, -5.002931615075187, -5.024193144158145, -4.987264828579653, -5.088031434800771, -4.932283755410737, -5.020485359648799, -4.919106646369841, -4.97386799978918, -4.8832492006255555, -4.998812836356455, -5.042390970309955, -4.982313559454295, -5.017219616419343, -4.987218455705074, -4.957141683773608, -4.979582448202324, -4.969671729955709, -5.110711522097381, -5.064373492752118, -5.055454133912324, -5.033784814896404, -5.003250318917051, -4.9960295787105204, -4.961144476668342, -5.007889893883971, -5.020468870749742, -4.9881605885182445, -5.053358365063307, -5.010445185991123, -4.990500194118163, -4.964123662156032, -5.0229583932652675, -5.033970529984455, -5.03041622659492, -5.050249991287804, -4.909555249359057, -5.0722236067964985, -5.012137433321758, -5.016225976277053, -5.02922996986627, -4.947674864313111, -5.021264384434692, -4.976581452176142, -5.0156725258619925, -4.9649991130431115, -5.113574629923092, -5.0496755895956476, -5.018698456850663, -5.109741025076623, -5.028435962058336, -4.941044863951264, -5.0735560292457365, -5.020983702365226, -4.97978965392527, -5.05217101933418, -5.022188135280131, -4.96088766558938, -5.064699880515608, -4.9797848428118145, -5.068522847013616, -4.938448476849562, -4.955605170907317, -5.018070045786235, -4.982120721701308, -4.982578182398257, -5.007485368875615, -5.031089216513001, -4.926502971851252, -4.922133803609272, -5.014499882444714, -5.006102860993513, -4.994418527322836, -4.953875634134031, -4.996583735908198, -4.94663873864955, -4.965530378274576, -4.9901385917122, -4.958419755282389, -5.059722129748414, -5.002252810362146, -4.9895156189948, -5.051774662903219, -4.99872313639918, -4.989035624605206, -4.928884827700711, -4.990134817662112, -4.936751760603491, -4.9698623661470025, -5.004384120082823, -4.995150448073599, -5.058412843535082, -5.040947833789032, -4.955104393012181, -5.048805293544898, -5.0331179243431174, -5.035176082314704, -5.078707965527963, -5.026402294939241, -5.0059642797058705, -5.08707979727782, -4.96524310377698, -5.024002188864401, -5.03190917979938, -4.9823511122383675, -4.975670552353337, -4.961421492642875, -5.009182319911986, -5.024402662785945, -4.988331046928048, -4.94894321744833, -5.136554919020648, -5.021575524780001, -4.998438043940624, -4.969313036678155, -4.99881082720378, -4.968250719039277, -5.040142007513179, -4.964395011324735, -4.970934339189453, -5.016328518464626, -4.999047630622401, -5.046015823176429, -5.1024990297125505, -4.961896026270024, -4.938888034541013, -4.9034293581458215, -5.07964761591626, -5.003654443486567, -5.014771777873394, -5.018838349413168, -5.039015776476576, -5.049456553279199, -4.9336988886033595, -5.020374812665603, -5.090034480401655, -5.112024194074574, -4.926453177184104, -5.015612812179769, -5.033672840351297, -5.056242263990446, -4.954173619194634, -5.0035621085542115, -5.091862614298099, -4.987525444111264, -5.009382638578634, -4.972979785009939, -5.030206589703188, -4.932281546431415, -5.0801737443907236, -4.9894639634134625, -5.045313120247469, -5.053137444923253, -4.970477377979519, -4.924441518492504, -4.909724451761242, -5.083531167617449, -5.003330604833042, -5.031414126563672, -4.960237493439157, -5.0017679991031105, -5.071911541431608, -4.998367934483163, -4.9432243362652635, -4.988017684761402, -5.129628601563262, -4.983467180777577, -5.02072417396981, -5.053360205101256, -5.046014743092215, -4.877518618564233, -4.972215990223544, -4.960150460913443, -4.927617816366874, -5.038571705953614, -4.96422512683334, -5.023534331808266, -4.985929754784101, -4.916145610696392, -5.03255157377586, -5.056295709689786, -5.020669031564109, -5.080243898105964, -4.97819625959573, -5.070020771363655, -4.9508627651763035, -5.060540607384009, -5.049202321648615, -4.971137561569018, -5.026451695821984, -4.984844503689272, -5.048948182601157, -5.038684596861415, -5.028928419348011, -4.963348250757874, -5.0299483070925906, -5.027254952543297, -5.079739605000866, -5.014928611763716, -5.012805995104308, -5.073872501843773, -4.9757565325436275, -4.955001440115135, -4.918828371037835, -5.072157928298012, -5.059394667669867, -5.047798225616522, -5.148388331831928, -4.925917228172303, -5.015403014078959, -4.995221182150392, -4.974873837397292, -5.028483242908833, -5.001648101804538, -4.953284255894939, -4.991481948506232, -5.005970826469888, -4.96492158766701, -4.942956470481695, -5.062830993843812, -5.09189940533251, -5.013234765001925, -5.105964795711603, -5.064232913695852, -4.991923022162531, -4.948595940195981, -5.021041183049365, -4.897630565830669, -4.990052861771396, -5.012182142734263, -4.9873535160097795, -5.028237435614076, -5.067812485142554, -4.989370767986085, -5.024437156425622, -5.000584492019055, -5.005096801494563, -5.056883433871002, -4.984857381928181, -5.043202065030671, -4.9486584174081045, -4.957487017767903, -4.95248548876704, -4.985920084082874, -4.9862114995848215, -4.917843698991048, -5.126457975331524, -4.995546592901084, -5.0048662070130865, -4.904868174383255, -4.981672752773508, -5.044060176386035, -5.008307004331158, -5.062625436076631, -4.97881311550079, -5.04054400655386, -5.017198395396836, -5.023914288459265, -5.016188863528903, -5.096004016768426, -5.031021957914095, -4.994909746380053, -5.1133434656664445, -5.106347545421447, -4.959609988596023, -5.003122186034776, -4.962008811767514, -5.077169318299658, -4.950666596089272, -4.990343935095256, -4.992477643818587, -5.005833676237003, -5.098041580759802, -4.967812910719237, -5.069002555301509, -4.973529128179779, -4.909388381856619, -5.026867847834849, -4.952808101253867, -4.987076510827481, -5.013435305498195, -4.860549990618701, -4.953487387750332, -5.007598606305473, -5.000216998913393, -4.9761035423333135, -4.973182504062094, -5.027093165733822, -5.003567660854683, -4.886714698015227, -4.993975135284499, -4.946859233724857, -4.9816276595108215, -5.009280152025605, -5.040644309745752, -4.906058313474003, -5.019700424730188, -5.004488598475328, -4.9313647071263365, -5.065238029743034, -5.087284766032484, -5.048366934817093, -5.034536643116846, -4.974318112086186, -5.101304958924785, -4.903412355526811, -5.051185902403699, -4.915920789415724, -5.015560141140746, -5.095041083224495, -4.961358226749894, -5.070809674998529, -4.9717295499107825, -4.89823170609249, -5.044677985040953, -5.039382050317192, -4.9746267695360356, -5.067310843662562, -4.9596452197694525, -5.052834524509475, -5.044509289287978, -4.955630843743883, -5.03294454075189, -5.039530178472771, -5.044065003302558, -5.048497032046594, -5.01988550770405, -5.033229154891294, -5.097867123224537, -4.990287384626478, -5.037231193997214, -5.017691226076185, -5.047238102789218, -4.903657035839489, -4.956111830810423, -5.0639206962386165, -4.990209128135294, -5.004603840301549, -5.024431242251977, -5.024451942947509, -5.037924976514464, -5.0073252829742305, -5.007913249787399, -5.0349587488825005, -4.9604019225526095, -5.010634227151818, -5.065617473166794, -5.07908722496493, -4.96472767125503, -5.059093364080336, -4.991953395567396, -4.962902142384406, -4.942769148345087, -5.1136755321808725, -4.964439894088699, -4.9947053572106235, -5.048373638531974, -5.0278051147515725, -4.955320310506186, -5.038810053407534, -5.007149517804988, -4.958588575111696, -4.978680569849745, -4.950278649931969, -5.072160860549872, -4.969005957305146, -5.073879306282022, -4.950988488290283, -5.041797605183467, -5.01942838406696, -5.06356880820821, -4.97254320136844, -5.005177250152485, -4.996963383859746, -4.963897975594036, -4.980671696453719, -5.070415715274682, -4.969943019947035, -4.983808869395109, -4.9850755310863235, -5.06610903836699, -5.020565915861785, -5.0238423546329924, -4.989565084334236, -4.921506582560339, -5.004900107292897, -5.059527456329622, -5.033972367810074, -5.048677776559476, -4.94140616269463, -4.996337213647814, -4.977320328450338, -4.924834457280271, -5.049988813660019, -4.938352962685091, -4.984842459820596, -5.083369362337, -4.940028712183836, -4.988794403444089, -4.917224149277756, -5.064202467222893, -5.021597888931641, -5.0231781577136125, -5.048853012948008, -5.045155916508172, -5.07303269186755, -5.059413551501421, -5.006774820014435, -5.000871121301712, -5.001976470941011, -5.007958633758136, -5.06278542517407, -4.890530967006459, -5.0151852191050965, -4.940341595392022, -4.88552620502746, -5.022006888050539, -5.0609732946171775, -4.97666769081129, -4.98332822038388, -5.063831194269756, -4.934154336197764, -4.968895743139939, -4.971095540632342, -5.063932739631251, -5.035211904747359, -5.019232370742792, -5.012667629054048, -5.086233179836925, -5.002189941983673, -4.897438470730964, -5.135783101272771, -4.942172417979356, -4.977508937079715, -5.036035897478121, -5.082770211764291, -4.925439493369927, -4.892361629665126, -4.978725955700363, -5.062800598092216, -4.911703280032945, -4.994132898421954, -4.9781745186330015, -4.956963705441762, -4.939732289420313, -4.918852877031865, -5.004761152019906, -5.015659757137665, -4.927291911028012, -4.895429437127054, -5.106203745877264, -4.96483952647969, -4.974767479544251, -4.958026218420519, -5.007168192824735, -4.899454932498578, -4.986188850262269, -4.943579037634538, -5.0662411386462125, -4.921867671457671, -4.9008737830858315, -4.858832445851911, -5.035232023370028, -4.972951079596387, -5.102995629302022, -5.018469095321133, -4.917365946429066, -5.119041258764099, -5.043451818167893, -4.957859027251508, -5.03711182854299, -4.949388930641984, -4.9870098884205, -5.029093644844478, -5.020100999370171, -5.037065828470556, -4.959289112487641, -4.950061206092535, -4.9628704012296465, -4.952030268214999, -5.071022627174553, -5.0242091991162265, -4.9322376406468535, -5.085103935237317, -5.038140050521019, -5.048103415315486, -5.04028120782241, -4.999059975019966, -4.953944558362119, -4.9583533926394905, -5.017349904866587, -4.971975656741213, -5.022528894046313, -4.931229814261316, -4.977899577450375, -5.068514198575826, -5.0156915080236555, -5.128816887007124, -5.064113524332387, -5.014661626078727, -4.911409438087761, -4.987417008244228, -4.962767391026485, -4.970137222558506, -4.907498465754271, -4.927143174727933, -5.0092924914366534, -4.96330451685657, -5.001950210449363, -4.898043790025747, -5.007674477019124, -5.029693892657532, -4.978312069484508, -4.944444938946656, -5.119965156092418, -4.999169683898208, -5.00055657498841, -5.01422606271718, -4.984029968704652, -4.9290844406857595, -4.96569210716367, -4.965605301708563, -5.007110872171986, -5.0544299999571365, -5.052201886404118, -5.047169071779931, -5.026112011148967, -4.928821257842756, -5.106522208622335, -4.919241718368772, -5.046738259058398, -4.977593387057326, -5.064345178351882, -5.016366017286849, -5.075823567423297, -5.137486250876301, -4.952238247988799, -4.962621735177115, -5.0236160346210506, -4.949792224638847, -5.041825602933153, -5.023090608196558, -5.017991402943418, -5.0314496418391474, -4.933232680787459, -5.013956308966442, -4.962821545513474, -5.037944101212734, -5.03243037976629, -5.0315199782974815, -4.960498564912243, -5.049552854203993, -5.013560357026596, -5.085666920614503, -5.040478595689326, -4.9850168237544406, -5.004147504714611, -4.956807199274065, -4.929790416662102, -5.021062315474234, -5.056058496990336, -5.022238944262273, -5.019339763548563, -5.164649853513163, -4.9465571229247, -5.036350015031017, -4.993824617712576, -5.018561777699844, -4.941323927157363, -5.007343277746516, -5.0358044222169696, -4.903631772374147, -5.001016267121967, -5.008240133850952, -4.952935580530825, -4.9786681462847096, -4.994650323034749, -4.9978911028026864, -4.925650046079884, -4.999820820926354, -5.03553605068751, -5.00930416947095, -5.036208682363634, -5.0094420646882565, -5.011101280964248, -4.981411638523183, -4.95759677131446, -5.017771067762429, -5.016498932375041, -4.886677719860563, -5.0605994150762825, -5.0055771098773985, -4.966202534040889, -4.968449574310992, -4.933928093456117, -4.992481584412388, -4.93618251659191, -5.061839097431891, -5.052358039426141, -5.017294741418292, -5.006388690416345, -4.9846827557222575, -5.0476082386510335, -4.931946202942289, -4.939657454554707, -5.017004757991163, -5.032431080380759, -4.989669125843318, -4.915124771897835, -4.969586619175702, -5.0206897422375185, -4.933586228545087, -5.065786867526558, -4.966396481262728, -5.057659232144845, -4.976109669246369, -5.049040101720094, -4.912667620211318, -5.040140046428739, -5.053651598000926, -5.00423841980715, -4.9476207422394864, -4.967421516469747, -4.9958098767617445, -4.920116568238669, -5.071854143236827, -4.966125001753978, -4.951204883965577, -5.06707809415577, -5.017092573559801, -4.997736582956167, -5.023176488595116, -5.057611421790455, -5.05721328989187, -4.942164430555764, -4.960556230452823, -4.94705719963541, -5.008433485702074, -5.050221781086105, -5.029479292955276, -4.988314126040774, -5.011586960987908, -4.873984110703985, -5.0303134110577865, -4.993410460126299, -5.024379252047688, -4.9931773718555, -5.023853823867121, -5.037517158128224, -4.938119326877752, -4.925289734581359, -4.9752034396384825, -5.014772631322341, -4.953133344315534, -4.927798042234554, -5.011080777972426, -5.04688717584107, -4.961535602631774, -4.974548043779317, -4.994661164723712, -5.028333125523129, -5.055461157837124, -4.935623430798052, -5.010992148974964, -5.035224480794321, -4.9322973862535235, -5.017515468361289, -5.011107729839237, -4.981855414701162, -5.0833904024271375, -5.019876493229655, -4.928677622486389, -5.025948116543525, -5.001671243992053, -4.919838774906056, -5.089625699346712, -4.928512929204487, -4.941019008225619, -5.039202266944424, -4.871996425010717, -5.0158018793117565, -4.980902781618495, -5.013833626340576, -4.97131355114, -4.978718240355892, -4.938885411965343, -4.948913507239248, -4.993686454949434, -4.9994923237139774, -5.013878125537305, -5.037118344074764, -5.035174516079604, -4.9802893178318115, -5.0445672084502124, -5.026746850414343, -5.0699138306111, -4.962204179360009, -5.030779291179151, -5.069181131088868, -4.957988071005817, -5.1080055421983115, -4.97776542343831, -4.954445533912931, -4.912816711266471, -4.963480800863659, -4.93709283823158, -5.097338370625595, -4.917607155213876, -5.0255108101617445, -5.025392571295898, -5.008449391577209, -5.067765801527457, -4.994458048072, -5.013707290712925, -5.008899761139659, -4.889332459487855, -4.984985536305727, -5.084736659056007, -5.0556110940898, -5.072547528479039, -4.952743904771149, -5.059304400892681, -4.978661115380595, -4.983995362344848, -5.014457111132618, -4.913170979044417, -4.948097299542237, -4.985921973974406, -5.04215394017227, -4.911163339965242, -5.077038811422758, -4.991396021743535, -5.010294722400095, -4.950505614510961, -4.915253449212999, -5.019996485870516, -5.031396052087084, -5.009828549746195, -4.912849819471805, -5.032195608409774, -4.958861891510528, -5.0287882578977, -4.91711169678726, -4.991386341545404, -5.02581504064006, -5.0435324488030435, -4.979141028171833, -5.021218026741018, -5.029544759140983, -4.932215381767239, -4.897871056741372, -5.047677136194421, -4.965510930506239, -5.03070554642278, -4.956550721309167, -5.034080690203298, -5.069814262985243, -4.995007972456818, -5.086213011515859, -4.979719293527739, -5.13963388603085, -4.988112708348232, -4.9749467648033425, -5.014342416391188, -4.923098756990418, -4.87807042002532, -4.957542978108801, -4.934983732700003, -4.988301122594651, -5.0096267813539885, -4.956948792324046, -5.012741463207012, -4.924571808710251, -5.02700250126441, -4.9716190627974886, -4.927056468014562, -5.024874919333284, -4.878406250999862, -5.034794046386569, -4.992315810680911, -5.061504497491889, -5.062570522279433, -4.97584206503681, -4.958530971797763, -4.966121148245514, -5.010850699141564, -4.989677768473499, -5.0648882233124635, -5.038196133748, -5.009742694430107, -5.017376533477361, -4.999048128782343], \"type\": \"histogram\", \"name\": \"FD-FD\"}, {\"opacity\": 0.8, \"orientation\": \"v\", \"yaxis\": \"y3\", \"histnorm\": \"\", \"histfunc\": \"count\", \"nbinsx\": 30, \"xaxis\": \"x3\", \"marker\": {\"color\": \"rgba(50, 171, 96, 1.0)\", \"line\": {\"color\": \"#4D5663\", \"width\": 1.3}}, \"x\": [-5.012667922302578, -5.028788588617811, -5.007321785671736, -5.064673978591581, -5.005567316476472, -4.993045052156182, -4.937516391014476, -4.947445317949788, -4.992141458003627, -5.083027224335047, -4.949150149006549, -5.082492332571455, -5.008843748999571, -5.021969132151834, -5.033552699608378, -5.018474478490306, -4.971261753970231, -5.022494635695153, -5.061079610850429, -5.055126243952293, -4.913801741324178, -4.984435153334841, -5.063243212763946, -5.030735301186122, -4.99313302017473, -5.090618794097196, -5.018753674341323, -5.0088739905953155, -5.005219524456951, -5.0414053610786524, -4.99768337093013, -4.899116593000555, -5.070111258369321, -4.926983218080519, -4.966905212976117, -5.008945058853136, -4.999586389503225, -5.061772507697603, -4.982314478982767, -4.957326440395629, -4.904107632200656, -4.986699860477472, -4.905152646367858, -5.016943082728083, -5.000126495096229, -4.95355199183881, -4.9996111845326245, -4.9789384116298026, -4.9183634362259685, -4.9758368311438925, -5.0750033799087975, -4.95864295927988, -5.036386336349368, -4.989394186619977, -5.013395262744363, -4.919230653181334, -4.9854636107761205, -5.002107867147107, -4.992928969027427, -5.034203540788527, -5.025122356729236, -5.00437925711467, -5.043687948993928, -4.919909401523306, -5.007818180331918, -4.9426006796836734, -5.01801077425568, -5.007084272319371, -5.01084926453208, -4.992015598024919, -4.96025844202891, -4.998741508783477, -4.994746608344444, -5.026749619717267, -5.038418520772306, -5.086108703803228, -4.967394151967289, -4.99892479449567, -5.040382369131029, -4.989460435242045, -5.010265379272054, -5.056455339671525, -5.033671163883165, -4.94155849993318, -4.90722395672201, -4.895151812717781, -4.965417774059308, -4.979393264392384, -4.937491012194753, -4.9079679245628824, -5.031523537897817, -5.0245048544117505, -4.9546066157009, -4.993375028496658, -4.97596937778499, -4.990922569060952, -5.009288645395589, -4.962712928227981, -4.871335696732561, -5.005378242918384, -4.977576218552393, -5.0193306391378405, -5.027950240849467, -5.024687396790588, -4.82364143403272, -5.001720577934171, -5.08625466987832, -4.968482593911176, -5.032538514190135, -5.012429985351958, -5.0106235046628065, -5.032489678441086, -5.073717966386813, -5.043582139563086, -4.940566887082406, -4.991924077187528, -5.063316648725155, -4.938510976029211, -5.0180560338634965, -4.96707694209182, -4.9663884923147865, -4.948659375894592, -5.0351066162849145, -5.056505996070096, -4.982538641040346, -5.059069292377662, -4.900325034473841, -4.973336055232705, -5.026360794350285, -4.973882865858344, -4.963119219095874, -4.986830551903709, -4.957966184709386, -5.002320436164277, -4.989426285983479, -4.994032068663248, -4.9689317597385685, -5.042233237793814, -4.975932300453014, -5.052009451203982, -5.059285536811071, -5.05333298551105, -5.0645908145220675, -4.914472545597233, -4.986929288999347, -5.023364643625279, -5.010316946326025, -4.998537472693814, -4.9703955000571645, -4.9783740988591125, -5.033819150962178, -5.053385221348942, -4.970719638620467, -4.949451369569378, -4.988986957823501, -4.9700554620696105, -5.078550483835915, -5.0609521649263405, -4.949344171187375, -5.0507062615937315, -5.046300092254366, -5.065185525862579, -4.971477144443318, -4.997208062130996, -4.916766862252939, -4.962844960495433, -4.984000288203524, -5.015822569844001, -5.01260834657494, -5.041984415918417, -4.952263689156881, -5.014882766760922, -4.95534523376703, -5.020794840581279, -4.9764543050030445, -5.029991105517137, -4.987106131427879, -5.025057575643236, -4.887674584174396, -5.048823617959222, -4.999825488620431, -4.97049296148276, -4.998867581036073, -4.9693327196609705, -5.03214878074747, -5.066871204269948, -4.933742934990107, -5.076610252593902, -4.914291944464393, -5.034901960051544, -4.974366183026942, -5.024484006872953, -4.882875865219351, -4.997139784074657, -5.009676492729234, -5.034881842705495, -4.944002844114242, -5.023544561809562, -4.948379849034733, -4.903925064669584, -4.99018290532564, -5.116883416179823, -4.997329985192879, -4.957225330248377, -5.01967902305333, -5.017511116112184, -5.05485449070903, -5.021834495247139, -4.985233436563703, -5.014093618431119, -5.042747918955861, -4.973641871282007, -5.0628432568927675, -4.948266015900139, -5.014532194800477, -4.926569882393466, -5.006015556476212, -4.888050876217861, -5.002458165408989, -5.019818746959234, -4.99838019317861, -4.993451483977116, -4.996297679180548, -4.954035200904228, -4.990646956589296, -4.9841961994529616, -5.077233758254005, -5.04341878224791, -5.052534926705269, -5.050663951382927, -4.999444564225389, -5.000226162355076, -4.970092012766719, -5.003369351371981, -5.014227125488154, -4.981064905818615, -5.052949119272486, -4.994118933560191, -4.990999984516025, -4.968516029378317, -5.018731126695649, -5.027865472958888, -5.017801633846876, -5.03748777189471, -4.920234193265134, -5.074564969036323, -5.007338999616977, -5.011429880724475, -5.021061289821465, -4.933847119540321, -5.019717048258734, -4.984913999249181, -5.008734720258107, -4.969317692931545, -5.100182361933292, -5.0284486815337335, -5.02448810832484, -5.096997819682582, -5.048943242945899, -4.944960839486864, -5.052070172273865, -5.038219124957952, -4.984899383995713, -5.0664774761146285, -5.017855334919567, -4.9784845755302936, -5.0544347980829905, -4.957233507757076, -5.0388879783119735, -4.953012702820105, -4.981696071409668, -5.015857818813036, -4.983903077070435, -4.985457379433575, -5.020421189477094, -5.00740223744833, -4.94908988196109, -4.929485078476845, -5.010168098631899, -5.001460955994043, -4.990052980961241, -4.949806437118898, -4.992199143474042, -4.951203932390774, -4.9955702039330045, -5.0006061281916026, -4.97580823490107, -5.05881127265347, -4.984969053073549, -5.012902799357217, -5.056714944844697, -5.0011307053093, -5.005382023346763, -4.96808656258396, -4.97282671451369, -4.930057028204264, -4.950497940113015, -4.9994851200545245, -4.9807044580045226, -5.063113464023057, -5.035574699442801, -4.973790453146821, -5.007906220822992, -5.038909866560287, -5.013016927048477, -5.051747419561243, -5.0127178545512905, -4.976784541875252, -5.073919249487185, -4.931390184230915, -5.037738508151671, -5.038937202745625, -4.966194212850953, -4.975022246576844, -4.97776923034845, -5.000591721181623, -5.018305431818822, -4.975826548927505, -4.95995187373628, -5.0939157303290425, -5.014689081281382, -5.01461458633731, -4.9769840974962705, -5.006184529362088, -4.949633615108226, -5.040876895310626, -4.969824313600504, -5.008293217088745, -4.9988521587923005, -5.024105715727945, -5.047503258815482, -5.076099916170303, -4.9624208539170205, -4.9684080656670195, -4.908844164342378, -5.062163190564682, -5.001896931501425, -5.022962909794986, -5.0247540101399775, -5.011009728457317, -5.041699864723497, -4.955148409009752, -5.023596097064777, -5.083437050386053, -5.079608810535797, -4.941859094564651, -5.0195239193085195, -5.030779290813692, -5.034940407071784, -4.976518039039879, -4.997972256382595, -5.083417222032651, -5.003370652486852, -4.986381590157052, -4.999204500524902, -5.047699786259045, -4.946045460055842, -5.071225185556857, -4.986496595646724, -5.058603481712874, -5.043730535732507, -4.968154894131051, -4.939388014109472, -4.9317108051329255, -5.079721217859718, -4.998282203988442, -5.037129662876331, -4.952935290028185, -5.008309393221326, -5.0738166541302485, -4.975034663144111, -4.956591646373579, -5.0047001749738325, -5.083888502429809, -5.007368881469849, -5.01063275902357, -5.029916481013147, -5.013951100869173, -4.8856358736972245, -4.9794513351071945, -4.974691112969536, -4.940075974733125, -5.0582872511480526, -4.965336240489673, -5.015901289989299, -4.975309269652069, -4.914020253482254, -5.050807667927087, -5.089850240349778, -5.035586676921404, -5.03768746627925, -5.00911971427808, -5.052654702264766, -4.947094987028018, -5.033185071978868, -5.0307300300081526, -4.995944084997962, -5.022388846748286, -5.008396455123558, -5.033037216498929, -5.020929383092509, -5.032077145391828, -4.9915691705285195, -5.034040181396181, -5.026376262987341, -5.059604688403345, -5.013285227678034, -4.998078269810083, -5.081977918411221, -4.99166369137424, -4.973823946363399, -4.936101609407631, -5.073136162768553, -5.038994395757051, -5.054414080697901, -5.131890759576328, -4.940276625782685, -5.02988499173895, -4.9960619805964015, -4.963889185225942, -5.008170418936527, -5.003546622652007, -4.963806655001351, -4.991827898652204, -5.007606113152444, -4.968920507751587, -4.975134270993213, -5.030077138068456, -5.061369751362419, -5.020955702262565, -5.086680302446258, -5.058217234786515, -5.0159331132301395, -4.963768028054377, -5.012279097473199, -4.942240027825505, -5.018596217292416, -5.01550671970462, -5.005258297228108, -5.014795489831496, -5.064190484956022, -4.9949286294067266, -5.0087605590062925, -4.987842587620191, -5.03267493881069, -5.049159265320355, -4.977562700457678, -5.0293332313021075, -4.956686355237922, -4.9821917022717965, -4.961764578698377, -4.984692129448439, -4.9887645293387175, -4.93043372928696, -5.092265380896149, -4.986967016088324, -4.984959902951889, -4.909954853957736, -4.967194144083881, -5.040397293046091, -4.989804347382929, -5.057882413014509, -4.977046510863623, -5.027782410342167, -5.007329861191872, -5.0167247153575705, -5.0240628700024725, -5.074015456318472, -5.007006553509654, -4.988859106559071, -5.083574952191771, -5.086395517408052, -4.968117418843615, -5.020265384034973, -4.965982930742806, -5.078516724285305, -4.964201302405222, -5.012658904436196, -5.009073933265123, -4.996235224406188, -5.0712228629534915, -4.989145821427818, -5.025208489180039, -4.987597420628999, -4.9261919222414425, -5.050328997018776, -4.975977611304034, -4.9788856214193, -5.00257471519733, -4.844191126638759, -4.949202595086993, -5.021377623505009, -5.009426056744739, -5.0108368612607315, -4.949266196664022, -5.02106134011733, -4.982748815714332, -4.902744348655368, -4.999311788625769, -4.9377965568377, -4.9816870524371275, -5.015883173495471, -5.035540359466605, -4.915071754544521, -5.016412903721909, -5.0113653601581944, -4.937729380193098, -5.062483235311802, -5.0863330488926835, -5.044069747639297, -5.0181060232187225, -4.959922708962277, -5.08694563987134, -4.934811594154367, -5.057922554094939, -4.9102313855684585, -5.011527279933109, -5.080317018094647, -4.973490189722455, -5.049731146982375, -4.972134608111553, -4.900207086048678, -5.05570098774389, -5.033594387708956, -4.985125043767137, -5.050454029936077, -4.950478186546607, -5.041982575145499, -5.0452759003556515, -4.95107483789222, -5.044160532063605, -5.041873758249338, -5.037384460589651, -5.021217281123885, -5.027844540535123, -5.0206320994107765, -5.06500312305076, -4.9722998944815915, -5.031227816364596, -5.002537885920357, -5.015957672346804, -4.929573362806388, -4.95689808320375, -5.039813146862027, -5.003595700311743, -4.99937479456171, -5.005088184231281, -5.022178094126148, -5.045852491635015, -4.998813677544337, -5.010037246236076, -5.0320591961675625, -4.975104596452252, -4.999024811931665, -5.073756734414935, -5.0835794298667345, -4.9339755559988765, -5.001944224330934, -4.999589573250151, -4.9726317048575615, -4.932093791088938, -5.100268741391101, -4.974931348873702, -4.991386066796991, -5.027191387919985, -5.034465318707989, -4.948671207572443, -5.02226548486111, -5.019266752008229, -4.972736442795041, -4.988033578591683, -4.980414615568247, -5.05780718662029, -4.97469193219449, -5.059717845985702, -4.934946777215865, -5.010669318992283, -5.006216714430995, -5.045351907244327, -4.974192698669487, -4.972657522958477, -4.9815663102311225, -4.961295968700631, -4.989302541674243, -5.048834702615893, -4.9718762428372045, -4.994539597837615, -5.007834996020595, -5.0485040579983895, -5.030676873380035, -5.025675191961436, -4.992841481505394, -4.938585136404251, -5.007196751230065, -5.040886546391982, -5.057460960267935, -5.079384440503586, -4.961771237164506, -5.0102604832491, -4.965118444366006, -4.935349325407866, -5.028538614580917, -4.987445931535801, -4.990613923003282, -5.070280785863507, -4.943136677826501, -4.995771519338104, -4.93738291099295, -5.034956191312045, -5.028157588143972, -5.007168209954991, -5.058778901126013, -5.03148206631252, -5.092639791050036, -5.057180997631502, -5.003895237581917, -5.002290644174597, -4.997358620289411, -5.015629524420127, -5.039356229482132, -4.902774309686391, -4.97866354200091, -4.920215955504819, -4.921605580675512, -5.020513141261988, -5.040644535372557, -4.988644605019113, -4.95681334885084, -5.07215401668133, -4.944872829031693, -4.9393000132604525, -5.006797079438902, -5.052279413307808, -5.037424649569452, -5.017612201600086, -5.015488331618798, -5.049235075040263, -4.99626169862766, -4.897657051544069, -5.094832260733266, -4.959485099169116, -5.002950150579824, -5.029362841655295, -5.063169462095567, -4.9215271264041345, -4.931848526195363, -4.9601825629166045, -5.039247541253178, -4.932192974971934, -4.995668923113296, -4.976747706736329, -4.976270939011386, -4.954709083392677, -4.903035833216155, -5.0243409513767965, -5.009532389426823, -4.955426078636157, -4.968246380265205, -5.082737875031873, -4.961109391856011, -4.993276031868692, -5.006307688571686, -5.015142880289345, -4.916285825644976, -5.006451334078411, -4.959766502135428, -5.026524292981112, -4.9262576107594445, -4.911870323691232, -4.8909622842065374, -5.027683277374516, -4.990878231052914, -5.098444320958424, -5.018381992782556, -4.936094677818246, -5.072417024145405, -5.040848837218803, -4.960643069894314, -5.043954309150881, -4.973294006832331, -4.983735371877088, -5.015681924616947, -5.0189678271254765, -5.051659484254303, -4.9751555983561335, -4.954694866231644, -4.962508320499642, -4.947022736920235, -5.041823630254246, -5.03357614017629, -4.929204337747208, -5.10038445734031, -5.02008673341202, -5.055837937556916, -5.060980869487107, -4.988180495197506, -4.9663418652612465, -4.971984059061339, -5.032379050066258, -4.987666223909281, -5.020214318207091, -4.929587477415219, -4.980730085645254, -5.0597923677037056, -5.011779987853242, -5.112604493469667, -5.0554119138010805, -4.996245978266247, -4.92732711144291, -4.984381031228081, -4.962580349555276, -4.990572336572282, -4.923788678620845, -4.930863580329181, -4.97584404422595, -4.970307824465647, -4.985658850208091, -4.89707748954064, -4.997223404615199, -5.055630994943794, -4.940112075905474, -4.956681801305367, -5.118912599362595, -4.987825583577463, -5.001287981154883, -4.983592451080961, -4.976178035686282, -4.953764076933843, -4.971866842344304, -4.986518135968047, -4.978420099550004, -5.0421139676231155, -5.05144949734281, -5.052370742151211, -5.037827923877317, -4.940876826417635, -5.073404417733274, -4.902173502583162, -5.016153593795313, -4.9987921835498526, -5.036143831463175, -5.013242186686386, -5.064817761982409, -5.1303917751173636, -4.957822320389396, -4.970959314089042, -5.021999949899957, -4.953766054677115, -4.99355897762945, -5.018831057797486, -5.012638128553998, -5.039151976818827, -4.933784500956495, -5.013225308024355, -4.938557269960894, -5.016375446885801, -5.004691171779848, -5.021455024456243, -4.957165866478016, -5.044125452863385, -5.0005188735887, -5.065516610399006, -5.033612611870513, -4.997426024227923, -4.984035454954708, -4.973612472736924, -4.942773463106903, -5.000876066739524, -5.052866358704568, -5.006609688296864, -5.011609176421755, -5.140674376955302, -4.951872306890639, -5.045510071528326, -4.992934091397291, -5.0008966435228075, -4.968177225053067, -5.007745474842915, -5.033805818167906, -4.954133997295196, -5.017789548660852, -5.0235539383127135, -4.958664522131321, -4.985515697225752, -4.978637449522067, -4.988554997252568, -4.929792999877403, -4.991246799734013, -4.989359201689357, -5.008102915481001, -5.017863178289119, -4.989543946279525, -5.0128329276833465, -4.985677445685038, -4.9578559523868675, -5.024615338886353, -5.012806083254483, -4.907882068539512, -5.031142504178067, -4.990564459207763, -4.956906814678371, -4.973761954782223, -4.9351920995596394, -5.013865969183672, -4.961289970979827, -5.0354833505441166, -5.070905540843983, -5.006226756963686, -4.9723862946116135, -5.007649381179153, -5.055453783021904, -4.990206163470159, -4.962941345283813, -5.002971922252187, -5.052963379414449, -4.995805920350819, -4.9197440958546705, -4.9969431216355735, -5.00750161977698, -4.9518426705954885, -5.058621433109811, -4.972287044914749, -5.0597467813376165, -4.974022983339467, -5.049957822083769, -4.929073670361503, -5.021449190101453, -5.027401534072005, -4.99517894386119, -4.959200363131553, -4.972889336928839, -4.992281700975461, -4.9421078316038045, -5.052294068992747, -4.987695748810635, -4.979309591745312, -5.046532892265177, -5.029005604931783, -5.006403046334798, -5.013992544770492, -5.037381540233196, -5.0212006198298615, -4.9756262536022975, -4.991634114670786, -4.962760965624087, -4.997541313264777, -5.054260487309541, -5.018124086115513, -5.00099656383714, -4.998652418208751, -4.887749887248242, -5.017470440026008, -4.998550341292203, -5.025532546089073, -5.013924756003677, -5.039306262010452, -5.006012084494027, -4.940364442152466, -4.948876285478832, -4.949218989729306, -5.013993450906982, -4.959425303284696, -4.9589821740877085, -4.9985472848395975, -5.049391336063893, -4.974587894352309, -4.97984939143312, -5.000691963952867, -5.0382506297641925, -5.00243338873387, -4.9394110272127545, -4.993049274159402, -4.996312750230043, -4.938470680629349, -5.0036052138038265, -4.998962675069916, -4.992485396027973, -5.084305393145387, -5.004439752815552, -4.9548038993637995, -5.0175528408519305, -4.98608021303532, -4.9452983571715485, -5.075289333949282, -4.947810114047137, -4.967045789492131, -5.017105012272901, -4.897930761182828, -5.001240027475373, -4.993531313341927, -5.015336907702816, -4.99035035474921, -4.981884080225996, -4.941613796940525, -4.974138747528546, -4.999807094929465, -5.024205712966176, -5.0144892926646705, -5.0302528564599776, -5.028236813704884, -4.996814572649839, -5.024011156033976, -5.017337357899152, -5.049650810088865, -4.987080262893792, -5.029782701901506, -5.062797501654191, -4.959538562674376, -5.075777534944693, -4.97395933347852, -4.943644429722067, -4.948875310341542, -4.951764158660884, -4.936006748806647, -5.068572277738514, -4.931060457257841, -5.028762799502557, -5.019867309312963, -5.00728253449474, -5.060209925304026, -4.978218395768431, -5.018520224015058, -5.027562378492387, -4.921344949583339, -4.976937259691319, -5.072737576995398, -5.033919183651359, -5.051956078408475, -4.954153220615787, -5.039812032936169, -4.9872381803319366, -4.990836813924653, -5.02659230562911, -4.924738676305265, -4.947508687530796, -4.977841635655672, -5.019153348484814, -4.901788140752822, -5.0538372503655715, -5.0094245395640975, -4.99645851298849, -4.978917265379849, -4.942735068760333, -5.005708403013783, -4.98914202853775, -5.008107122113371, -4.926745051221711, -5.004942822917797, -4.989497301588166, -4.998115218451345, -4.92668582841104, -4.981890389051267, -4.9961237917152, -5.047848569812165, -5.000485101299114, -5.013944516167774, -5.053251724431131, -4.953702143372841, -4.905271723929235, -5.032900729694788, -4.96994165541144, -5.0378482313848645, -4.979409537411322, -5.0306073748752045, -5.076780995640171, -4.992888886372734, -5.049838439693725, -5.003321012160214, -5.0999930175686465, -4.9975308523977215, -4.955868316861705, -5.025869327360543, -4.908098259521416, -4.903795363435286, -4.960073812380436, -4.927350529600796, -4.983386703755556, -4.981676079567419, -4.958310909770659, -4.978549585933445, -4.950455784769959, -5.047182044331745, -4.965591394560452, -4.932604203592857, -5.002614218173069, -4.90703239827047, -5.024286556996683, -4.970329975344859, -5.055964713175467, -5.0561399108531475, -4.972461818475158, -4.973399906736086, -4.962183050926998, -5.009559657799313, -4.981012705890434, -5.029414094288114, -5.040674151590328, -5.006217999477298, -4.999837545565261, -4.973452898730471], \"type\": \"histogram\", \"name\": \"FD-FE\"}], {\"title\": \"Histogram for estimates with true beta = (-5)\", \"paper_bgcolor\": \"#F5F6F9\", \"plot_bgcolor\": \"#F5F6F9\", \"xaxis3\": {\"domain\": [0.7111111111111111, 1.0], \"anchor\": \"y3\"}, \"xaxis2\": {\"domain\": [0.35555555555555557, 0.6444444444444445], \"anchor\": \"y2\"}, \"xaxis1\": {\"tickfont\": {\"color\": \"#4D5663\"}, \"domain\": [0.0, 0.2888888888888889], \"title\": \"\", \"showgrid\": true, \"zerolinecolor\": \"#E1E5ED\", \"gridcolor\": \"#E1E5ED\", \"titlefont\": {\"color\": \"#4D5663\"}, \"anchor\": \"y1\"}, \"height\": 587, \"width\": 1116, \"yaxis2\": {\"domain\": [0.0, 1.0], \"anchor\": \"x2\"}, \"yaxis3\": {\"domain\": [0.0, 1.0], \"anchor\": \"x3\"}, \"titlefont\": {\"color\": \"#4D5663\"}, \"barmode\": \"overlay\", \"annotations\": [{\"yanchor\": \"bottom\", \"xref\": \"paper\", \"xanchor\": \"center\", \"yref\": \"paper\", \"text\": \"FD Estimation\", \"y\": 1.0, \"x\": 0.14444444444444446, \"font\": {\"color\": \"#4D5663\", \"size\": 16}, \"showarrow\": false}, {\"yanchor\": \"bottom\", \"xref\": \"paper\", \"xanchor\": \"center\", \"yref\": \"paper\", \"text\": \"FD-FE Estimation\", \"y\": 1.0, \"x\": 0.5, \"font\": {\"color\": \"#4D5663\", \"size\": 16}, \"showarrow\": false}, {\"yanchor\": \"bottom\", \"xref\": \"paper\", \"xanchor\": \"center\", \"yref\": \"paper\", \"text\": \"FD-FD Estimation\", \"y\": 1.0, \"x\": 0.8555555555555556, \"font\": {\"color\": \"#4D5663\", \"size\": 16}, \"showarrow\": false}], \"yaxis1\": {\"tickfont\": {\"color\": \"#4D5663\"}, \"domain\": [0.0, 1.0], \"title\": \"\", \"showgrid\": true, \"zerolinecolor\": \"#E1E5ED\", \"gridcolor\": \"#E1E5ED\", \"titlefont\": {\"color\": \"#4D5663\"}, \"anchor\": \"x1\"}, \"legend\": {\"bgcolor\": \"#F5F6F9\", \"font\": {\"color\": \"#4D5663\"}}}, {\"linkText\": \"Export to plot.ly\", \"showLink\": true})</script>"
      ],
      "text/plain": [
       "<IPython.core.display.HTML object>"
      ]
     },
     "metadata": {},
     "output_type": "display_data"
    }
   ],
   "source": [
    "########## Restoring the data to panda data frames for the plot\n",
    "#fd\n",
    "estimate_fd_df = pd.DataFrame(estimate_mat_fd).T\n",
    "\n",
    "#mix\n",
    "estimate_m_df = pd.DataFrame(estimate_mat_m).T\n",
    "\n",
    "#pure\n",
    "estimate_p_df = pd.DataFrame(estimate_mat_p).T\n",
    "\n",
    "########## Generating plots using plotly\n",
    "\n",
    "cf.set_config_file(offline=False, world_readable=True, theme='pearl')\n",
    "\n",
    "df = pd.DataFrame({'FD': estimate_fd_df[0],\n",
    "                   'FD-FE': estimate_m_df[0],\n",
    "                   'FD-FD': estimate_p_df[0]})\n",
    "#df.head(2)\n",
    "\n",
    "df.iplot(kind='histogram', subplots=True, shape=(1, 3),\n",
    "         title = \"Histogram for estimates with true beta = (-5)\",\n",
    "         bins = 30,\n",
    "         subplot_titles=('FD Estimation', 'FD-FE Estimation','FD-FD Estimation'),\n",
    "         filename='cufflinks/histogram-subplots')\n",
    "\n",
    "# See https://plot.ly/ipython-notebooks/cufflinks/ for further options"
   ]
  },
  {
   "cell_type": "markdown",
   "metadata": {},
   "source": [
    "The histogram shows that for all three methods the distribution looks similar to a normal distribution which was to be expected. The estimation therefore behaves nicely and gives confident that there is no major errors in the DGP nor the the by-hand regressions.\n",
    "\n",
    "For a better comparison we plot the _mix_ (yellow) and _pure_ (blue) estimation within one plot to show differences. Since the FD estimation is biased and would only make the graphical comparison more difficult, we don't include it furthermore."
   ]
  },
  {
   "cell_type": "code",
   "execution_count": 189,
   "metadata": {
    "collapsed": false
   },
   "outputs": [
    {
     "data": {
      "text/html": [
       "<div id=\"5181db45-454e-4efd-9a71-6a9ce14ee4df\" style=\"height: 587; width: 1116px;\" class=\"plotly-graph-div\"></div><script type=\"text/javascript\">window.PLOTLYENV=window.PLOTLYENV || {};window.PLOTLYENV.BASE_URL=\"https://plot.ly\";Plotly.newPlot(\"5181db45-454e-4efd-9a71-6a9ce14ee4df\", [{\"opacity\": 0.8, \"name\": \"FD-FD\", \"histnorm\": \"percent\", \"histfunc\": \"count\", \"marker\": {\"color\": \"rgba(255, 153, 51, 1.0)\", \"line\": {\"color\": \"#4D5663\", \"width\": 1.3}}, \"x\": [-5.002149740386846, -5.0156633155965595, -5.015300989254978, -5.102955861365894, -4.995843266758267, -4.995559139832396, -4.9431687654153595, -4.92962743806053, -4.995975333050689, -5.0947215318773855, -4.924382615108996, -5.10190315797921, -5.018818326390202, -5.022572166750759, -5.045380861627881, -5.0333482887723395, -4.953181177771068, -5.022915783183771, -5.078228011316493, -5.073971859508567, -4.905272690699061, -4.9852760603276565, -5.079193724574763, -5.044076360090164, -5.009115254258319, -5.080991532523168, -5.006314964000892, -4.986753858333942, -4.994578493224241, -5.022153958285492, -5.001264622279823, -4.881207157619771, -5.081561296261149, -4.905598724402856, -4.9713279288927374, -5.019376983927135, -4.985918618952422, -5.072693288373648, -4.964007451948898, -4.96343979142075, -4.878903260736913, -4.9812531719972215, -4.872447818604124, -5.016206529766338, -4.99712563947822, -4.9439594346873, -5.020395308169382, -4.95473056635198, -4.8985746487103246, -4.958849444007367, -5.096666372433747, -4.961145827086016, -5.028472136144241, -5.008420322871803, -5.035933110558012, -4.887969697736997, -4.955906757194096, -4.98359734024203, -4.989655283056375, -5.057202454967365, -5.02626225195778, -5.009964877937129, -5.0217079269159335, -4.914525185160381, -4.988669123574088, -4.926896857544264, -5.024793456582646, -5.014467780150413, -5.004450609258402, -4.979645335644162, -4.9588757963735075, -4.986353123275585, -4.9817604686189005, -5.027420499642009, -5.001869706101912, -5.110785914245057, -4.955669990656505, -4.961359294680163, -5.033212011272832, -4.990407040847665, -5.029216137007286, -5.062609931267613, -5.017343049447405, -4.934567142511379, -4.873895542630246, -4.880522322973843, -4.9604341399165754, -4.979215901939748, -4.910563589236519, -4.896784285508003, -5.038696152331569, -5.034857092952061, -4.962035372621234, -4.996575697067215, -4.990576271786965, -4.974568865343851, -4.983841640013093, -4.942542388908734, -4.885718079257122, -5.014913307100535, -4.981588802408551, -5.023334975077813, -5.0187343940934745, -5.024197054299632, -4.811120717146103, -5.007793703271327, -5.106866214730488, -4.958891780621845, -5.047212973609655, -5.031784971737661, -4.981784630219041, -5.028958967623868, -5.055844957910895, -5.052938626801705, -4.920199555632031, -4.983023854451346, -5.078804062112821, -4.967551888850491, -5.008066182427971, -4.974757486521013, -4.99855119495478, -4.942657160824962, -5.072905629396358, -5.072147121325989, -4.981048806183404, -5.090163403826153, -4.92412405660822, -4.995564278175533, -5.031857275124917, -4.967807703669288, -4.957510740302257, -4.993966134195679, -4.968055992637557, -5.004927292196523, -4.98621308337599, -4.981758869339286, -4.96514486014844, -5.054465146265022, -4.935247126021075, -5.054513891568677, -5.076907261021639, -5.054502556673514, -5.089324481494596, -4.900672469461641, -5.00401971346837, -5.030964309014718, -5.002471574264303, -4.998204425007042, -4.974394418794597, -4.946711764616021, -5.093646434331546, -5.075566167772191, -4.966242448484573, -4.971988279232184, -4.964108357149449, -4.969807361646728, -5.108100169148528, -5.063573899433901, -4.9446256450070125, -5.054799962802317, -5.046856341188697, -5.076945395485783, -4.984946236897917, -4.995846311119004, -4.906823446683882, -4.959103550413408, -4.976221030215631, -5.021329028083881, -4.995793474984113, -5.050470432981614, -4.956669943641026, -4.998039305453235, -4.9513653291838295, -5.0397258892800965, -4.958885908370295, -5.013753746176669, -4.982699476902443, -5.020877024876455, -4.887863853732632, -5.0329389460013605, -5.010092412397704, -4.968083974108314, -5.003436306151347, -4.962521636833811, -5.052490089821985, -5.0645128749664, -4.941376926104127, -5.07963097118841, -4.903416791173869, -5.054827520487377, -4.957258191934505, -5.0000086955606395, -4.870166942908721, -4.974710075130749, -5.012450425564062, -5.016235519305578, -4.910923794032996, -5.017081800275774, -4.9425834398157615, -4.898129682674085, -5.003640790082912, -5.135240678873943, -4.9946072520584055, -4.950553899576422, -5.025572728306241, -5.022062663031557, -5.067721251388993, -5.038239749915922, -4.966883255640846, -5.002931615075187, -5.024193144158145, -4.987264828579653, -5.088031434800771, -4.932283755410737, -5.020485359648799, -4.919106646369841, -4.97386799978918, -4.8832492006255555, -4.998812836356455, -5.042390970309955, -4.982313559454295, -5.017219616419343, -4.987218455705074, -4.957141683773608, -4.979582448202324, -4.969671729955709, -5.110711522097381, -5.064373492752118, -5.055454133912324, -5.033784814896404, -5.003250318917051, -4.9960295787105204, -4.961144476668342, -5.007889893883971, -5.020468870749742, -4.9881605885182445, -5.053358365063307, -5.010445185991123, -4.990500194118163, -4.964123662156032, -5.0229583932652675, -5.033970529984455, -5.03041622659492, -5.050249991287804, -4.909555249359057, -5.0722236067964985, -5.012137433321758, -5.016225976277053, -5.02922996986627, -4.947674864313111, -5.021264384434692, -4.976581452176142, -5.0156725258619925, -4.9649991130431115, -5.113574629923092, -5.0496755895956476, -5.018698456850663, -5.109741025076623, -5.028435962058336, -4.941044863951264, -5.0735560292457365, -5.020983702365226, -4.97978965392527, -5.05217101933418, -5.022188135280131, -4.96088766558938, -5.064699880515608, -4.9797848428118145, -5.068522847013616, -4.938448476849562, -4.955605170907317, -5.018070045786235, -4.982120721701308, -4.982578182398257, -5.007485368875615, -5.031089216513001, -4.926502971851252, -4.922133803609272, -5.014499882444714, -5.006102860993513, -4.994418527322836, -4.953875634134031, -4.996583735908198, -4.94663873864955, -4.965530378274576, -4.9901385917122, -4.958419755282389, -5.059722129748414, -5.002252810362146, -4.9895156189948, -5.051774662903219, -4.99872313639918, -4.989035624605206, -4.928884827700711, -4.990134817662112, -4.936751760603491, -4.9698623661470025, -5.004384120082823, -4.995150448073599, -5.058412843535082, -5.040947833789032, -4.955104393012181, -5.048805293544898, -5.0331179243431174, -5.035176082314704, -5.078707965527963, -5.026402294939241, -5.0059642797058705, -5.08707979727782, -4.96524310377698, -5.024002188864401, -5.03190917979938, -4.9823511122383675, -4.975670552353337, -4.961421492642875, -5.009182319911986, -5.024402662785945, -4.988331046928048, -4.94894321744833, -5.136554919020648, -5.021575524780001, -4.998438043940624, -4.969313036678155, -4.99881082720378, -4.968250719039277, -5.040142007513179, -4.964395011324735, -4.970934339189453, -5.016328518464626, -4.999047630622401, -5.046015823176429, -5.1024990297125505, -4.961896026270024, -4.938888034541013, -4.9034293581458215, -5.07964761591626, -5.003654443486567, -5.014771777873394, -5.018838349413168, -5.039015776476576, -5.049456553279199, -4.9336988886033595, -5.020374812665603, -5.090034480401655, -5.112024194074574, -4.926453177184104, -5.015612812179769, -5.033672840351297, -5.056242263990446, -4.954173619194634, -5.0035621085542115, -5.091862614298099, -4.987525444111264, -5.009382638578634, -4.972979785009939, -5.030206589703188, -4.932281546431415, -5.0801737443907236, -4.9894639634134625, -5.045313120247469, -5.053137444923253, -4.970477377979519, -4.924441518492504, -4.909724451761242, -5.083531167617449, -5.003330604833042, -5.031414126563672, -4.960237493439157, -5.0017679991031105, -5.071911541431608, -4.998367934483163, -4.9432243362652635, -4.988017684761402, -5.129628601563262, -4.983467180777577, -5.02072417396981, -5.053360205101256, -5.046014743092215, -4.877518618564233, -4.972215990223544, -4.960150460913443, -4.927617816366874, -5.038571705953614, -4.96422512683334, -5.023534331808266, -4.985929754784101, -4.916145610696392, -5.03255157377586, -5.056295709689786, -5.020669031564109, -5.080243898105964, -4.97819625959573, -5.070020771363655, -4.9508627651763035, -5.060540607384009, -5.049202321648615, -4.971137561569018, -5.026451695821984, -4.984844503689272, -5.048948182601157, -5.038684596861415, -5.028928419348011, -4.963348250757874, -5.0299483070925906, -5.027254952543297, -5.079739605000866, -5.014928611763716, -5.012805995104308, -5.073872501843773, -4.9757565325436275, -4.955001440115135, -4.918828371037835, -5.072157928298012, -5.059394667669867, -5.047798225616522, -5.148388331831928, -4.925917228172303, -5.015403014078959, -4.995221182150392, -4.974873837397292, -5.028483242908833, -5.001648101804538, -4.953284255894939, -4.991481948506232, -5.005970826469888, -4.96492158766701, -4.942956470481695, -5.062830993843812, -5.09189940533251, -5.013234765001925, -5.105964795711603, -5.064232913695852, -4.991923022162531, -4.948595940195981, -5.021041183049365, -4.897630565830669, -4.990052861771396, -5.012182142734263, -4.9873535160097795, -5.028237435614076, -5.067812485142554, -4.989370767986085, -5.024437156425622, -5.000584492019055, -5.005096801494563, -5.056883433871002, -4.984857381928181, -5.043202065030671, -4.9486584174081045, -4.957487017767903, -4.95248548876704, -4.985920084082874, -4.9862114995848215, -4.917843698991048, -5.126457975331524, -4.995546592901084, -5.0048662070130865, -4.904868174383255, -4.981672752773508, -5.044060176386035, -5.008307004331158, -5.062625436076631, -4.97881311550079, -5.04054400655386, -5.017198395396836, -5.023914288459265, -5.016188863528903, -5.096004016768426, -5.031021957914095, -4.994909746380053, -5.1133434656664445, -5.106347545421447, -4.959609988596023, -5.003122186034776, -4.962008811767514, -5.077169318299658, -4.950666596089272, -4.990343935095256, -4.992477643818587, -5.005833676237003, -5.098041580759802, -4.967812910719237, -5.069002555301509, -4.973529128179779, -4.909388381856619, -5.026867847834849, -4.952808101253867, -4.987076510827481, -5.013435305498195, -4.860549990618701, -4.953487387750332, -5.007598606305473, -5.000216998913393, -4.9761035423333135, -4.973182504062094, -5.027093165733822, -5.003567660854683, -4.886714698015227, -4.993975135284499, -4.946859233724857, -4.9816276595108215, -5.009280152025605, -5.040644309745752, -4.906058313474003, -5.019700424730188, -5.004488598475328, -4.9313647071263365, -5.065238029743034, -5.087284766032484, -5.048366934817093, -5.034536643116846, -4.974318112086186, -5.101304958924785, -4.903412355526811, -5.051185902403699, -4.915920789415724, -5.015560141140746, -5.095041083224495, -4.961358226749894, -5.070809674998529, -4.9717295499107825, -4.89823170609249, -5.044677985040953, -5.039382050317192, -4.9746267695360356, -5.067310843662562, -4.9596452197694525, -5.052834524509475, -5.044509289287978, -4.955630843743883, -5.03294454075189, -5.039530178472771, -5.044065003302558, -5.048497032046594, -5.01988550770405, -5.033229154891294, -5.097867123224537, -4.990287384626478, -5.037231193997214, -5.017691226076185, -5.047238102789218, -4.903657035839489, -4.956111830810423, -5.0639206962386165, -4.990209128135294, -5.004603840301549, -5.024431242251977, -5.024451942947509, -5.037924976514464, -5.0073252829742305, -5.007913249787399, -5.0349587488825005, -4.9604019225526095, -5.010634227151818, -5.065617473166794, -5.07908722496493, -4.96472767125503, -5.059093364080336, -4.991953395567396, -4.962902142384406, -4.942769148345087, -5.1136755321808725, -4.964439894088699, -4.9947053572106235, -5.048373638531974, -5.0278051147515725, -4.955320310506186, -5.038810053407534, -5.007149517804988, -4.958588575111696, -4.978680569849745, -4.950278649931969, -5.072160860549872, -4.969005957305146, -5.073879306282022, -4.950988488290283, -5.041797605183467, -5.01942838406696, -5.06356880820821, -4.97254320136844, -5.005177250152485, -4.996963383859746, -4.963897975594036, -4.980671696453719, -5.070415715274682, -4.969943019947035, -4.983808869395109, -4.9850755310863235, -5.06610903836699, -5.020565915861785, -5.0238423546329924, -4.989565084334236, -4.921506582560339, -5.004900107292897, -5.059527456329622, -5.033972367810074, -5.048677776559476, -4.94140616269463, -4.996337213647814, -4.977320328450338, -4.924834457280271, -5.049988813660019, -4.938352962685091, -4.984842459820596, -5.083369362337, -4.940028712183836, -4.988794403444089, -4.917224149277756, -5.064202467222893, -5.021597888931641, -5.0231781577136125, -5.048853012948008, -5.045155916508172, -5.07303269186755, -5.059413551501421, -5.006774820014435, -5.000871121301712, -5.001976470941011, -5.007958633758136, -5.06278542517407, -4.890530967006459, -5.0151852191050965, -4.940341595392022, -4.88552620502746, -5.022006888050539, -5.0609732946171775, -4.97666769081129, -4.98332822038388, -5.063831194269756, -4.934154336197764, -4.968895743139939, -4.971095540632342, -5.063932739631251, -5.035211904747359, -5.019232370742792, -5.012667629054048, -5.086233179836925, -5.002189941983673, -4.897438470730964, -5.135783101272771, -4.942172417979356, -4.977508937079715, -5.036035897478121, -5.082770211764291, -4.925439493369927, -4.892361629665126, -4.978725955700363, -5.062800598092216, -4.911703280032945, -4.994132898421954, -4.9781745186330015, -4.956963705441762, -4.939732289420313, -4.918852877031865, -5.004761152019906, -5.015659757137665, -4.927291911028012, -4.895429437127054, -5.106203745877264, -4.96483952647969, -4.974767479544251, -4.958026218420519, -5.007168192824735, -4.899454932498578, -4.986188850262269, -4.943579037634538, -5.0662411386462125, -4.921867671457671, -4.9008737830858315, -4.858832445851911, -5.035232023370028, -4.972951079596387, -5.102995629302022, -5.018469095321133, -4.917365946429066, -5.119041258764099, -5.043451818167893, -4.957859027251508, -5.03711182854299, -4.949388930641984, -4.9870098884205, -5.029093644844478, -5.020100999370171, -5.037065828470556, -4.959289112487641, -4.950061206092535, -4.9628704012296465, -4.952030268214999, -5.071022627174553, -5.0242091991162265, -4.9322376406468535, -5.085103935237317, -5.038140050521019, -5.048103415315486, -5.04028120782241, -4.999059975019966, -4.953944558362119, -4.9583533926394905, -5.017349904866587, -4.971975656741213, -5.022528894046313, -4.931229814261316, -4.977899577450375, -5.068514198575826, -5.0156915080236555, -5.128816887007124, -5.064113524332387, -5.014661626078727, -4.911409438087761, -4.987417008244228, -4.962767391026485, -4.970137222558506, -4.907498465754271, -4.927143174727933, -5.0092924914366534, -4.96330451685657, -5.001950210449363, -4.898043790025747, -5.007674477019124, -5.029693892657532, -4.978312069484508, -4.944444938946656, -5.119965156092418, -4.999169683898208, -5.00055657498841, -5.01422606271718, -4.984029968704652, -4.9290844406857595, -4.96569210716367, -4.965605301708563, -5.007110872171986, -5.0544299999571365, -5.052201886404118, -5.047169071779931, -5.026112011148967, -4.928821257842756, -5.106522208622335, -4.919241718368772, -5.046738259058398, -4.977593387057326, -5.064345178351882, -5.016366017286849, -5.075823567423297, -5.137486250876301, -4.952238247988799, -4.962621735177115, -5.0236160346210506, -4.949792224638847, -5.041825602933153, -5.023090608196558, -5.017991402943418, -5.0314496418391474, -4.933232680787459, -5.013956308966442, -4.962821545513474, -5.037944101212734, -5.03243037976629, -5.0315199782974815, -4.960498564912243, -5.049552854203993, -5.013560357026596, -5.085666920614503, -5.040478595689326, -4.9850168237544406, -5.004147504714611, -4.956807199274065, -4.929790416662102, -5.021062315474234, -5.056058496990336, -5.022238944262273, -5.019339763548563, -5.164649853513163, -4.9465571229247, -5.036350015031017, -4.993824617712576, -5.018561777699844, -4.941323927157363, -5.007343277746516, -5.0358044222169696, -4.903631772374147, -5.001016267121967, -5.008240133850952, -4.952935580530825, -4.9786681462847096, -4.994650323034749, -4.9978911028026864, -4.925650046079884, -4.999820820926354, -5.03553605068751, -5.00930416947095, -5.036208682363634, -5.0094420646882565, -5.011101280964248, -4.981411638523183, -4.95759677131446, -5.017771067762429, -5.016498932375041, -4.886677719860563, -5.0605994150762825, -5.0055771098773985, -4.966202534040889, -4.968449574310992, -4.933928093456117, -4.992481584412388, -4.93618251659191, -5.061839097431891, -5.052358039426141, -5.017294741418292, -5.006388690416345, -4.9846827557222575, -5.0476082386510335, -4.931946202942289, -4.939657454554707, -5.017004757991163, -5.032431080380759, -4.989669125843318, -4.915124771897835, -4.969586619175702, -5.0206897422375185, -4.933586228545087, -5.065786867526558, -4.966396481262728, -5.057659232144845, -4.976109669246369, -5.049040101720094, -4.912667620211318, -5.040140046428739, -5.053651598000926, -5.00423841980715, -4.9476207422394864, -4.967421516469747, -4.9958098767617445, -4.920116568238669, -5.071854143236827, -4.966125001753978, -4.951204883965577, -5.06707809415577, -5.017092573559801, -4.997736582956167, -5.023176488595116, -5.057611421790455, -5.05721328989187, -4.942164430555764, -4.960556230452823, -4.94705719963541, -5.008433485702074, -5.050221781086105, -5.029479292955276, -4.988314126040774, -5.011586960987908, -4.873984110703985, -5.0303134110577865, -4.993410460126299, -5.024379252047688, -4.9931773718555, -5.023853823867121, -5.037517158128224, -4.938119326877752, -4.925289734581359, -4.9752034396384825, -5.014772631322341, -4.953133344315534, -4.927798042234554, -5.011080777972426, -5.04688717584107, -4.961535602631774, -4.974548043779317, -4.994661164723712, -5.028333125523129, -5.055461157837124, -4.935623430798052, -5.010992148974964, -5.035224480794321, -4.9322973862535235, -5.017515468361289, -5.011107729839237, -4.981855414701162, -5.0833904024271375, -5.019876493229655, -4.928677622486389, -5.025948116543525, -5.001671243992053, -4.919838774906056, -5.089625699346712, -4.928512929204487, -4.941019008225619, -5.039202266944424, -4.871996425010717, -5.0158018793117565, -4.980902781618495, -5.013833626340576, -4.97131355114, -4.978718240355892, -4.938885411965343, -4.948913507239248, -4.993686454949434, -4.9994923237139774, -5.013878125537305, -5.037118344074764, -5.035174516079604, -4.9802893178318115, -5.0445672084502124, -5.026746850414343, -5.0699138306111, -4.962204179360009, -5.030779291179151, -5.069181131088868, -4.957988071005817, -5.1080055421983115, -4.97776542343831, -4.954445533912931, -4.912816711266471, -4.963480800863659, -4.93709283823158, -5.097338370625595, -4.917607155213876, -5.0255108101617445, -5.025392571295898, -5.008449391577209, -5.067765801527457, -4.994458048072, -5.013707290712925, -5.008899761139659, -4.889332459487855, -4.984985536305727, -5.084736659056007, -5.0556110940898, -5.072547528479039, -4.952743904771149, -5.059304400892681, -4.978661115380595, -4.983995362344848, -5.014457111132618, -4.913170979044417, -4.948097299542237, -4.985921973974406, -5.04215394017227, -4.911163339965242, -5.077038811422758, -4.991396021743535, -5.010294722400095, -4.950505614510961, -4.915253449212999, -5.019996485870516, -5.031396052087084, -5.009828549746195, -4.912849819471805, -5.032195608409774, -4.958861891510528, -5.0287882578977, -4.91711169678726, -4.991386341545404, -5.02581504064006, -5.0435324488030435, -4.979141028171833, -5.021218026741018, -5.029544759140983, -4.932215381767239, -4.897871056741372, -5.047677136194421, -4.965510930506239, -5.03070554642278, -4.956550721309167, -5.034080690203298, -5.069814262985243, -4.995007972456818, -5.086213011515859, -4.979719293527739, -5.13963388603085, -4.988112708348232, -4.9749467648033425, -5.014342416391188, -4.923098756990418, -4.87807042002532, -4.957542978108801, -4.934983732700003, -4.988301122594651, -5.0096267813539885, -4.956948792324046, -5.012741463207012, -4.924571808710251, -5.02700250126441, -4.9716190627974886, -4.927056468014562, -5.024874919333284, -4.878406250999862, -5.034794046386569, -4.992315810680911, -5.061504497491889, -5.062570522279433, -4.97584206503681, -4.958530971797763, -4.966121148245514, -5.010850699141564, -4.989677768473499, -5.0648882233124635, -5.038196133748, -5.009742694430107, -5.017376533477361, -4.999048128782343], \"type\": \"histogram\", \"orientation\": \"v\"}, {\"opacity\": 0.8, \"name\": \"FD-FE\", \"histnorm\": \"percent\", \"histfunc\": \"count\", \"marker\": {\"color\": \"rgba(55, 128, 191, 1.0)\", \"line\": {\"color\": \"#4D5663\", \"width\": 1.3}}, \"x\": [-5.012667922302578, -5.028788588617811, -5.007321785671736, -5.064673978591581, -5.005567316476472, -4.993045052156182, -4.937516391014476, -4.947445317949788, -4.992141458003627, -5.083027224335047, -4.949150149006549, -5.082492332571455, -5.008843748999571, -5.021969132151834, -5.033552699608378, -5.018474478490306, -4.971261753970231, -5.022494635695153, -5.061079610850429, -5.055126243952293, -4.913801741324178, -4.984435153334841, -5.063243212763946, -5.030735301186122, -4.99313302017473, -5.090618794097196, -5.018753674341323, -5.0088739905953155, -5.005219524456951, -5.0414053610786524, -4.99768337093013, -4.899116593000555, -5.070111258369321, -4.926983218080519, -4.966905212976117, -5.008945058853136, -4.999586389503225, -5.061772507697603, -4.982314478982767, -4.957326440395629, -4.904107632200656, -4.986699860477472, -4.905152646367858, -5.016943082728083, -5.000126495096229, -4.95355199183881, -4.9996111845326245, -4.9789384116298026, -4.9183634362259685, -4.9758368311438925, -5.0750033799087975, -4.95864295927988, -5.036386336349368, -4.989394186619977, -5.013395262744363, -4.919230653181334, -4.9854636107761205, -5.002107867147107, -4.992928969027427, -5.034203540788527, -5.025122356729236, -5.00437925711467, -5.043687948993928, -4.919909401523306, -5.007818180331918, -4.9426006796836734, -5.01801077425568, -5.007084272319371, -5.01084926453208, -4.992015598024919, -4.96025844202891, -4.998741508783477, -4.994746608344444, -5.026749619717267, -5.038418520772306, -5.086108703803228, -4.967394151967289, -4.99892479449567, -5.040382369131029, -4.989460435242045, -5.010265379272054, -5.056455339671525, -5.033671163883165, -4.94155849993318, -4.90722395672201, -4.895151812717781, -4.965417774059308, -4.979393264392384, -4.937491012194753, -4.9079679245628824, -5.031523537897817, -5.0245048544117505, -4.9546066157009, -4.993375028496658, -4.97596937778499, -4.990922569060952, -5.009288645395589, -4.962712928227981, -4.871335696732561, -5.005378242918384, -4.977576218552393, -5.0193306391378405, -5.027950240849467, -5.024687396790588, -4.82364143403272, -5.001720577934171, -5.08625466987832, -4.968482593911176, -5.032538514190135, -5.012429985351958, -5.0106235046628065, -5.032489678441086, -5.073717966386813, -5.043582139563086, -4.940566887082406, -4.991924077187528, -5.063316648725155, -4.938510976029211, -5.0180560338634965, -4.96707694209182, -4.9663884923147865, -4.948659375894592, -5.0351066162849145, -5.056505996070096, -4.982538641040346, -5.059069292377662, -4.900325034473841, -4.973336055232705, -5.026360794350285, -4.973882865858344, -4.963119219095874, -4.986830551903709, -4.957966184709386, -5.002320436164277, -4.989426285983479, -4.994032068663248, -4.9689317597385685, -5.042233237793814, -4.975932300453014, -5.052009451203982, -5.059285536811071, -5.05333298551105, -5.0645908145220675, -4.914472545597233, -4.986929288999347, -5.023364643625279, -5.010316946326025, -4.998537472693814, -4.9703955000571645, -4.9783740988591125, -5.033819150962178, -5.053385221348942, -4.970719638620467, -4.949451369569378, -4.988986957823501, -4.9700554620696105, -5.078550483835915, -5.0609521649263405, -4.949344171187375, -5.0507062615937315, -5.046300092254366, -5.065185525862579, -4.971477144443318, -4.997208062130996, -4.916766862252939, -4.962844960495433, -4.984000288203524, -5.015822569844001, -5.01260834657494, -5.041984415918417, -4.952263689156881, -5.014882766760922, -4.95534523376703, -5.020794840581279, -4.9764543050030445, -5.029991105517137, -4.987106131427879, -5.025057575643236, -4.887674584174396, -5.048823617959222, -4.999825488620431, -4.97049296148276, -4.998867581036073, -4.9693327196609705, -5.03214878074747, -5.066871204269948, -4.933742934990107, -5.076610252593902, -4.914291944464393, -5.034901960051544, -4.974366183026942, -5.024484006872953, -4.882875865219351, -4.997139784074657, -5.009676492729234, -5.034881842705495, -4.944002844114242, -5.023544561809562, -4.948379849034733, -4.903925064669584, -4.99018290532564, -5.116883416179823, -4.997329985192879, -4.957225330248377, -5.01967902305333, -5.017511116112184, -5.05485449070903, -5.021834495247139, -4.985233436563703, -5.014093618431119, -5.042747918955861, -4.973641871282007, -5.0628432568927675, -4.948266015900139, -5.014532194800477, -4.926569882393466, -5.006015556476212, -4.888050876217861, -5.002458165408989, -5.019818746959234, -4.99838019317861, -4.993451483977116, -4.996297679180548, -4.954035200904228, -4.990646956589296, -4.9841961994529616, -5.077233758254005, -5.04341878224791, -5.052534926705269, -5.050663951382927, -4.999444564225389, -5.000226162355076, -4.970092012766719, -5.003369351371981, -5.014227125488154, -4.981064905818615, -5.052949119272486, -4.994118933560191, -4.990999984516025, -4.968516029378317, -5.018731126695649, -5.027865472958888, -5.017801633846876, -5.03748777189471, -4.920234193265134, -5.074564969036323, -5.007338999616977, -5.011429880724475, -5.021061289821465, -4.933847119540321, -5.019717048258734, -4.984913999249181, -5.008734720258107, -4.969317692931545, -5.100182361933292, -5.0284486815337335, -5.02448810832484, -5.096997819682582, -5.048943242945899, -4.944960839486864, -5.052070172273865, -5.038219124957952, -4.984899383995713, -5.0664774761146285, -5.017855334919567, -4.9784845755302936, -5.0544347980829905, -4.957233507757076, -5.0388879783119735, -4.953012702820105, -4.981696071409668, -5.015857818813036, -4.983903077070435, -4.985457379433575, -5.020421189477094, -5.00740223744833, -4.94908988196109, -4.929485078476845, -5.010168098631899, -5.001460955994043, -4.990052980961241, -4.949806437118898, -4.992199143474042, -4.951203932390774, -4.9955702039330045, -5.0006061281916026, -4.97580823490107, -5.05881127265347, -4.984969053073549, -5.012902799357217, -5.056714944844697, -5.0011307053093, -5.005382023346763, -4.96808656258396, -4.97282671451369, -4.930057028204264, -4.950497940113015, -4.9994851200545245, -4.9807044580045226, -5.063113464023057, -5.035574699442801, -4.973790453146821, -5.007906220822992, -5.038909866560287, -5.013016927048477, -5.051747419561243, -5.0127178545512905, -4.976784541875252, -5.073919249487185, -4.931390184230915, -5.037738508151671, -5.038937202745625, -4.966194212850953, -4.975022246576844, -4.97776923034845, -5.000591721181623, -5.018305431818822, -4.975826548927505, -4.95995187373628, -5.0939157303290425, -5.014689081281382, -5.01461458633731, -4.9769840974962705, -5.006184529362088, -4.949633615108226, -5.040876895310626, -4.969824313600504, -5.008293217088745, -4.9988521587923005, -5.024105715727945, -5.047503258815482, -5.076099916170303, -4.9624208539170205, -4.9684080656670195, -4.908844164342378, -5.062163190564682, -5.001896931501425, -5.022962909794986, -5.0247540101399775, -5.011009728457317, -5.041699864723497, -4.955148409009752, -5.023596097064777, -5.083437050386053, -5.079608810535797, -4.941859094564651, -5.0195239193085195, -5.030779290813692, -5.034940407071784, -4.976518039039879, -4.997972256382595, -5.083417222032651, -5.003370652486852, -4.986381590157052, -4.999204500524902, -5.047699786259045, -4.946045460055842, -5.071225185556857, -4.986496595646724, -5.058603481712874, -5.043730535732507, -4.968154894131051, -4.939388014109472, -4.9317108051329255, -5.079721217859718, -4.998282203988442, -5.037129662876331, -4.952935290028185, -5.008309393221326, -5.0738166541302485, -4.975034663144111, -4.956591646373579, -5.0047001749738325, -5.083888502429809, -5.007368881469849, -5.01063275902357, -5.029916481013147, -5.013951100869173, -4.8856358736972245, -4.9794513351071945, -4.974691112969536, -4.940075974733125, -5.0582872511480526, -4.965336240489673, -5.015901289989299, -4.975309269652069, -4.914020253482254, -5.050807667927087, -5.089850240349778, -5.035586676921404, -5.03768746627925, -5.00911971427808, -5.052654702264766, -4.947094987028018, -5.033185071978868, -5.0307300300081526, -4.995944084997962, -5.022388846748286, -5.008396455123558, -5.033037216498929, -5.020929383092509, -5.032077145391828, -4.9915691705285195, -5.034040181396181, -5.026376262987341, -5.059604688403345, -5.013285227678034, -4.998078269810083, -5.081977918411221, -4.99166369137424, -4.973823946363399, -4.936101609407631, -5.073136162768553, -5.038994395757051, -5.054414080697901, -5.131890759576328, -4.940276625782685, -5.02988499173895, -4.9960619805964015, -4.963889185225942, -5.008170418936527, -5.003546622652007, -4.963806655001351, -4.991827898652204, -5.007606113152444, -4.968920507751587, -4.975134270993213, -5.030077138068456, -5.061369751362419, -5.020955702262565, -5.086680302446258, -5.058217234786515, -5.0159331132301395, -4.963768028054377, -5.012279097473199, -4.942240027825505, -5.018596217292416, -5.01550671970462, -5.005258297228108, -5.014795489831496, -5.064190484956022, -4.9949286294067266, -5.0087605590062925, -4.987842587620191, -5.03267493881069, -5.049159265320355, -4.977562700457678, -5.0293332313021075, -4.956686355237922, -4.9821917022717965, -4.961764578698377, -4.984692129448439, -4.9887645293387175, -4.93043372928696, -5.092265380896149, -4.986967016088324, -4.984959902951889, -4.909954853957736, -4.967194144083881, -5.040397293046091, -4.989804347382929, -5.057882413014509, -4.977046510863623, -5.027782410342167, -5.007329861191872, -5.0167247153575705, -5.0240628700024725, -5.074015456318472, -5.007006553509654, -4.988859106559071, -5.083574952191771, -5.086395517408052, -4.968117418843615, -5.020265384034973, -4.965982930742806, -5.078516724285305, -4.964201302405222, -5.012658904436196, -5.009073933265123, -4.996235224406188, -5.0712228629534915, -4.989145821427818, -5.025208489180039, -4.987597420628999, -4.9261919222414425, -5.050328997018776, -4.975977611304034, -4.9788856214193, -5.00257471519733, -4.844191126638759, -4.949202595086993, -5.021377623505009, -5.009426056744739, -5.0108368612607315, -4.949266196664022, -5.02106134011733, -4.982748815714332, -4.902744348655368, -4.999311788625769, -4.9377965568377, -4.9816870524371275, -5.015883173495471, -5.035540359466605, -4.915071754544521, -5.016412903721909, -5.0113653601581944, -4.937729380193098, -5.062483235311802, -5.0863330488926835, -5.044069747639297, -5.0181060232187225, -4.959922708962277, -5.08694563987134, -4.934811594154367, -5.057922554094939, -4.9102313855684585, -5.011527279933109, -5.080317018094647, -4.973490189722455, -5.049731146982375, -4.972134608111553, -4.900207086048678, -5.05570098774389, -5.033594387708956, -4.985125043767137, -5.050454029936077, -4.950478186546607, -5.041982575145499, -5.0452759003556515, -4.95107483789222, -5.044160532063605, -5.041873758249338, -5.037384460589651, -5.021217281123885, -5.027844540535123, -5.0206320994107765, -5.06500312305076, -4.9722998944815915, -5.031227816364596, -5.002537885920357, -5.015957672346804, -4.929573362806388, -4.95689808320375, -5.039813146862027, -5.003595700311743, -4.99937479456171, -5.005088184231281, -5.022178094126148, -5.045852491635015, -4.998813677544337, -5.010037246236076, -5.0320591961675625, -4.975104596452252, -4.999024811931665, -5.073756734414935, -5.0835794298667345, -4.9339755559988765, -5.001944224330934, -4.999589573250151, -4.9726317048575615, -4.932093791088938, -5.100268741391101, -4.974931348873702, -4.991386066796991, -5.027191387919985, -5.034465318707989, -4.948671207572443, -5.02226548486111, -5.019266752008229, -4.972736442795041, -4.988033578591683, -4.980414615568247, -5.05780718662029, -4.97469193219449, -5.059717845985702, -4.934946777215865, -5.010669318992283, -5.006216714430995, -5.045351907244327, -4.974192698669487, -4.972657522958477, -4.9815663102311225, -4.961295968700631, -4.989302541674243, -5.048834702615893, -4.9718762428372045, -4.994539597837615, -5.007834996020595, -5.0485040579983895, -5.030676873380035, -5.025675191961436, -4.992841481505394, -4.938585136404251, -5.007196751230065, -5.040886546391982, -5.057460960267935, -5.079384440503586, -4.961771237164506, -5.0102604832491, -4.965118444366006, -4.935349325407866, -5.028538614580917, -4.987445931535801, -4.990613923003282, -5.070280785863507, -4.943136677826501, -4.995771519338104, -4.93738291099295, -5.034956191312045, -5.028157588143972, -5.007168209954991, -5.058778901126013, -5.03148206631252, -5.092639791050036, -5.057180997631502, -5.003895237581917, -5.002290644174597, -4.997358620289411, -5.015629524420127, -5.039356229482132, -4.902774309686391, -4.97866354200091, -4.920215955504819, -4.921605580675512, -5.020513141261988, -5.040644535372557, -4.988644605019113, -4.95681334885084, -5.07215401668133, -4.944872829031693, -4.9393000132604525, -5.006797079438902, -5.052279413307808, -5.037424649569452, -5.017612201600086, -5.015488331618798, -5.049235075040263, -4.99626169862766, -4.897657051544069, -5.094832260733266, -4.959485099169116, -5.002950150579824, -5.029362841655295, -5.063169462095567, -4.9215271264041345, -4.931848526195363, -4.9601825629166045, -5.039247541253178, -4.932192974971934, -4.995668923113296, -4.976747706736329, -4.976270939011386, -4.954709083392677, -4.903035833216155, -5.0243409513767965, -5.009532389426823, -4.955426078636157, -4.968246380265205, -5.082737875031873, -4.961109391856011, -4.993276031868692, -5.006307688571686, -5.015142880289345, -4.916285825644976, -5.006451334078411, -4.959766502135428, -5.026524292981112, -4.9262576107594445, -4.911870323691232, -4.8909622842065374, -5.027683277374516, -4.990878231052914, -5.098444320958424, -5.018381992782556, -4.936094677818246, -5.072417024145405, -5.040848837218803, -4.960643069894314, -5.043954309150881, -4.973294006832331, -4.983735371877088, -5.015681924616947, -5.0189678271254765, -5.051659484254303, -4.9751555983561335, -4.954694866231644, -4.962508320499642, -4.947022736920235, -5.041823630254246, -5.03357614017629, -4.929204337747208, -5.10038445734031, -5.02008673341202, -5.055837937556916, -5.060980869487107, -4.988180495197506, -4.9663418652612465, -4.971984059061339, -5.032379050066258, -4.987666223909281, -5.020214318207091, -4.929587477415219, -4.980730085645254, -5.0597923677037056, -5.011779987853242, -5.112604493469667, -5.0554119138010805, -4.996245978266247, -4.92732711144291, -4.984381031228081, -4.962580349555276, -4.990572336572282, -4.923788678620845, -4.930863580329181, -4.97584404422595, -4.970307824465647, -4.985658850208091, -4.89707748954064, -4.997223404615199, -5.055630994943794, -4.940112075905474, -4.956681801305367, -5.118912599362595, -4.987825583577463, -5.001287981154883, -4.983592451080961, -4.976178035686282, -4.953764076933843, -4.971866842344304, -4.986518135968047, -4.978420099550004, -5.0421139676231155, -5.05144949734281, -5.052370742151211, -5.037827923877317, -4.940876826417635, -5.073404417733274, -4.902173502583162, -5.016153593795313, -4.9987921835498526, -5.036143831463175, -5.013242186686386, -5.064817761982409, -5.1303917751173636, -4.957822320389396, -4.970959314089042, -5.021999949899957, -4.953766054677115, -4.99355897762945, -5.018831057797486, -5.012638128553998, -5.039151976818827, -4.933784500956495, -5.013225308024355, -4.938557269960894, -5.016375446885801, -5.004691171779848, -5.021455024456243, -4.957165866478016, -5.044125452863385, -5.0005188735887, -5.065516610399006, -5.033612611870513, -4.997426024227923, -4.984035454954708, -4.973612472736924, -4.942773463106903, -5.000876066739524, -5.052866358704568, -5.006609688296864, -5.011609176421755, -5.140674376955302, -4.951872306890639, -5.045510071528326, -4.992934091397291, -5.0008966435228075, -4.968177225053067, -5.007745474842915, -5.033805818167906, -4.954133997295196, -5.017789548660852, -5.0235539383127135, -4.958664522131321, -4.985515697225752, -4.978637449522067, -4.988554997252568, -4.929792999877403, -4.991246799734013, -4.989359201689357, -5.008102915481001, -5.017863178289119, -4.989543946279525, -5.0128329276833465, -4.985677445685038, -4.9578559523868675, -5.024615338886353, -5.012806083254483, -4.907882068539512, -5.031142504178067, -4.990564459207763, -4.956906814678371, -4.973761954782223, -4.9351920995596394, -5.013865969183672, -4.961289970979827, -5.0354833505441166, -5.070905540843983, -5.006226756963686, -4.9723862946116135, -5.007649381179153, -5.055453783021904, -4.990206163470159, -4.962941345283813, -5.002971922252187, -5.052963379414449, -4.995805920350819, -4.9197440958546705, -4.9969431216355735, -5.00750161977698, -4.9518426705954885, -5.058621433109811, -4.972287044914749, -5.0597467813376165, -4.974022983339467, -5.049957822083769, -4.929073670361503, -5.021449190101453, -5.027401534072005, -4.99517894386119, -4.959200363131553, -4.972889336928839, -4.992281700975461, -4.9421078316038045, -5.052294068992747, -4.987695748810635, -4.979309591745312, -5.046532892265177, -5.029005604931783, -5.006403046334798, -5.013992544770492, -5.037381540233196, -5.0212006198298615, -4.9756262536022975, -4.991634114670786, -4.962760965624087, -4.997541313264777, -5.054260487309541, -5.018124086115513, -5.00099656383714, -4.998652418208751, -4.887749887248242, -5.017470440026008, -4.998550341292203, -5.025532546089073, -5.013924756003677, -5.039306262010452, -5.006012084494027, -4.940364442152466, -4.948876285478832, -4.949218989729306, -5.013993450906982, -4.959425303284696, -4.9589821740877085, -4.9985472848395975, -5.049391336063893, -4.974587894352309, -4.97984939143312, -5.000691963952867, -5.0382506297641925, -5.00243338873387, -4.9394110272127545, -4.993049274159402, -4.996312750230043, -4.938470680629349, -5.0036052138038265, -4.998962675069916, -4.992485396027973, -5.084305393145387, -5.004439752815552, -4.9548038993637995, -5.0175528408519305, -4.98608021303532, -4.9452983571715485, -5.075289333949282, -4.947810114047137, -4.967045789492131, -5.017105012272901, -4.897930761182828, -5.001240027475373, -4.993531313341927, -5.015336907702816, -4.99035035474921, -4.981884080225996, -4.941613796940525, -4.974138747528546, -4.999807094929465, -5.024205712966176, -5.0144892926646705, -5.0302528564599776, -5.028236813704884, -4.996814572649839, -5.024011156033976, -5.017337357899152, -5.049650810088865, -4.987080262893792, -5.029782701901506, -5.062797501654191, -4.959538562674376, -5.075777534944693, -4.97395933347852, -4.943644429722067, -4.948875310341542, -4.951764158660884, -4.936006748806647, -5.068572277738514, -4.931060457257841, -5.028762799502557, -5.019867309312963, -5.00728253449474, -5.060209925304026, -4.978218395768431, -5.018520224015058, -5.027562378492387, -4.921344949583339, -4.976937259691319, -5.072737576995398, -5.033919183651359, -5.051956078408475, -4.954153220615787, -5.039812032936169, -4.9872381803319366, -4.990836813924653, -5.02659230562911, -4.924738676305265, -4.947508687530796, -4.977841635655672, -5.019153348484814, -4.901788140752822, -5.0538372503655715, -5.0094245395640975, -4.99645851298849, -4.978917265379849, -4.942735068760333, -5.005708403013783, -4.98914202853775, -5.008107122113371, -4.926745051221711, -5.004942822917797, -4.989497301588166, -4.998115218451345, -4.92668582841104, -4.981890389051267, -4.9961237917152, -5.047848569812165, -5.000485101299114, -5.013944516167774, -5.053251724431131, -4.953702143372841, -4.905271723929235, -5.032900729694788, -4.96994165541144, -5.0378482313848645, -4.979409537411322, -5.0306073748752045, -5.076780995640171, -4.992888886372734, -5.049838439693725, -5.003321012160214, -5.0999930175686465, -4.9975308523977215, -4.955868316861705, -5.025869327360543, -4.908098259521416, -4.903795363435286, -4.960073812380436, -4.927350529600796, -4.983386703755556, -4.981676079567419, -4.958310909770659, -4.978549585933445, -4.950455784769959, -5.047182044331745, -4.965591394560452, -4.932604203592857, -5.002614218173069, -4.90703239827047, -5.024286556996683, -4.970329975344859, -5.055964713175467, -5.0561399108531475, -4.972461818475158, -4.973399906736086, -4.962183050926998, -5.009559657799313, -4.981012705890434, -5.029414094288114, -5.040674151590328, -5.006217999477298, -4.999837545565261, -4.973452898730471], \"type\": \"histogram\", \"orientation\": \"v\"}], {\"title\": \"Overlay-Histogram for RT mix and pure, true beta = (-5)\", \"paper_bgcolor\": \"#F5F6F9\", \"plot_bgcolor\": \"#F5F6F9\", \"xaxis1\": {\"tickfont\": {\"color\": \"#4D5663\"}, \"title\": \"\", \"showgrid\": true, \"zerolinecolor\": \"#E1E5ED\", \"gridcolor\": \"#E1E5ED\", \"titlefont\": {\"color\": \"#4D5663\"}}, \"height\": 587, \"yaxis1\": {\"tickfont\": {\"color\": \"#4D5663\"}, \"title\": \"\", \"showgrid\": true, \"zerolinecolor\": \"#E1E5ED\", \"gridcolor\": \"#E1E5ED\", \"titlefont\": {\"color\": \"#4D5663\"}}, \"width\": 1116, \"titlefont\": {\"color\": \"#4D5663\"}, \"barmode\": \"overlay\", \"legend\": {\"bgcolor\": \"#F5F6F9\", \"font\": {\"color\": \"#4D5663\"}}}, {\"linkText\": \"Export to plot.ly\", \"showLink\": true})</script>"
      ],
      "text/plain": [
       "<IPython.core.display.HTML object>"
      ]
     },
     "metadata": {},
     "output_type": "display_data"
    },
    {
     "data": {
      "text/html": [
       "<div id=\"44dfd1a0-deb8-4daa-bcb1-5ef6d2dc72c4\" style=\"height: 587; width: 1116px;\" class=\"plotly-graph-div\"></div><script type=\"text/javascript\">window.PLOTLYENV=window.PLOTLYENV || {};window.PLOTLYENV.BASE_URL=\"https://plot.ly\";Plotly.newPlot(\"44dfd1a0-deb8-4daa-bcb1-5ef6d2dc72c4\", [{\"opacity\": 0.8, \"name\": \"FD-FD\", \"histnorm\": \"percent\", \"histfunc\": \"count\", \"marker\": {\"color\": \"rgba(255, 153, 51, 1.0)\", \"line\": {\"color\": \"#4D5663\", \"width\": 1.3}}, \"x\": [-0.8649285415952868, -0.9903543276735256, -0.9921746033623485, -0.9635207193296619, -0.9520084963071171, -0.9677105093594212, -0.9942883071453313, -1.0257726880347473, -0.9855453080000565, -1.015879467474961, -0.9127334569864642, -1.0023167949768266, -1.0848995697565804, -1.0022798592847313, -1.0145139026978447, -1.1441509336509466, -1.0050128769529265, -1.032884643284626, -0.9818562407190656, -1.0044650875371182, -1.0214916681426804, -0.9880020130309057, -1.0282824534401143, -0.9687631507198282, -1.0146600627027116, -1.0374569486527445, -1.0932143191143116, -1.0168715209374712, -1.0553270080283688, -1.0300290797067317, -1.0086181815770687, -1.0251329367628517, -1.0309287257539481, -0.917338099168815, -0.8274236644921964, -0.9169255133501462, -0.9621945002122498, -1.003886258434688, -1.0012558760998511, -1.0022459603655913, -1.0163611369348002, -0.9819730080119811, -1.0271006390951225, -0.996123620085777, -0.930143406822201, -1.0311550763725814, -0.9873304014097435, -0.9664084705609233, -1.010764724062001, -0.9083072667622423, -1.0345623245029076, -1.025818936101725, -0.9572218040506308, -0.9910121994394989, -0.9329605593325812, -1.039590052320552, -1.0543569249706466, -1.0162237996964296, -0.9517030846441485, -1.0258420026133568, -1.0672738281923424, -0.9209646994821625, -0.9674443333603754, -0.9568607910019757, -0.9107848287793617, -0.9622709133404307, -0.9650514243655204, -0.9677748738810621, -0.8957061697692486, -0.9597050873279751, -0.9963488501774629, -0.9129825431735905, -0.9786285956197012, -0.9804475017333626, -1.0199717256266205, -1.0627682492671418, -0.9618413464475108, -1.0051099222830489, -0.9817006820906884, -1.0944618351447066, -0.9442075165603526, -0.9517527289878815, -0.9046847389229156, -0.9544075394055422, -0.9774975106266995, -1.0459424798879775, -0.9314603691081755, -0.9214901851617867, -0.9124475280508029, -1.0143258953366296, -1.0298059382836258, -0.9760465094769157, -0.9526584649715077, -0.960764647246459, -1.0043789744185905, -1.0112377249236197, -0.9626138279167424, -0.9885363602216455, -0.9518125323799217, -1.0513469144359164, -0.9892342197397731, -1.0422357101809592, -0.9193012234449383, -1.0514384782211557, -1.048229794745067, -1.0039496695783943, -0.978126865681239, -1.0242143401530859, -0.9914935858633859, -1.0739962242953505, -1.017931446634846, -1.0205140259414391, -0.9988484737949667, -0.9920034377786221, -0.8512697695552349, -0.9897987638077017, -0.9006368130705755, -1.0180377833092302, -1.0982738667963465, -1.0085548805661526, -0.9954240169470076, -0.9836980493412408, -0.9651141214837613, -0.9558674660404587, -1.110535122969664, -1.0470087215202493, -1.0367101088486101, -0.9700177991618889, -0.841502066410409, -0.942689265605779, -1.0958608890864454, -0.9794557096468473, -1.0808651784701748, -1.046531625154225, -0.8728633622360829, -0.9747504327064442, -1.00973138379867, -0.9760500781706377, -1.026562345900688, -1.002275648595386, -0.9730016740201199, -0.9382589390707768, -1.0210141324407345, -0.9799143761585588, -0.9634775807982232, -1.021507572853582, -0.9564388080135056, -0.9384293037017266, -1.1297534470329191, -1.03368551780931, -1.048121725602524, -1.106954462714846, -0.9885417978446294, -1.0244051743305524, -1.0458681146295108, -1.0059198977274808, -0.9739295652152993, -1.01046099436333, -1.0850951751796578, -1.0054076188504357, -0.9832106242403238, -1.034418874063579, -1.0253256780976243, -1.0397482107657534, -1.0342746993633563, -0.9793135077417168, -1.0377231918081697, -0.9997386781612563, -0.9862460499767518, -0.8877903991648024, -0.9617998388145287, -1.0334900112144578, -1.0872340862823213, -0.9727636782804154, -0.9806655130035505, -1.0109986709607952, -1.084509008727862, -1.080856613936154, -0.9407819183218247, -1.0378840668793643, -1.0584399359950485, -0.9499035932489939, -1.0000045528025283, -1.0364679525768055, -0.9754971860826509, -0.9870662821387957, -1.0660548948635462, -0.9510778638865656, -1.1273357909269115, -1.1407887046385787, -1.0587519811673645, -1.0086447537590373, -1.0143215569482733, -0.983154891968661, -0.9911714331906459, -0.9880027675442169, -0.9436975199149076, -0.9737487792599293, -0.9855168808783403, -0.9562977741938262, -1.0155942883612725, -1.034897155986609, -1.005289586647271, -1.0256378631611098, -1.0939039841599523, -1.012261541133903, -1.0933675592348806, -1.0069675330022636, -1.049886255712659, -0.9411321146850831, -1.0079813979430288, -0.985061070356559, -0.8814640888845651, -0.9528002384850331, -1.0347910453605014, -1.0307315375594157, -1.0239538704906415, -1.0747477937057792, -0.9715492405873938, -1.0084663250928843, -0.9672500525549887, -0.9842165311011513, -0.9094317126631472, -1.1054487612356745, -0.8947413229853047, -1.000414251288507, -0.9527629869489045, -0.9783751959574893, -0.9887447372392892, -0.9518056722018795, -0.9672100710820907, -0.9380812296483287, -1.0592124836514687, -1.0036306289597294, -1.0481904770905626, -1.079403450739797, -1.037351965587209, -1.027050350029125, -1.071274182232945, -0.9927617796461324, -1.0086932558121435, -0.9757758054799659, -0.9894075885121657, -0.9587428045074663, -0.8629265135717655, -1.099204903108768, -1.0427090509321122, -1.0425183308297807, -1.0141071478986143, -0.9728143089426144, -1.037028241100034, -0.8787511553065338, -1.0793573583760263, -1.0866813771830084, -1.0617274971197668, -1.0144328958494695, -0.9719074552649508, -1.0009503665994617, -0.9864510442409553, -1.1073264446290043, -1.0004028360734631, -0.9946115036136889, -1.0172873375986358, -0.9196028158856144, -0.956718794938886, -0.8624391216894943, -1.025231022845265, -1.0694003609818772, -0.9843266743498436, -0.9419660355434304, -1.0028026862080253, -0.9187081733214436, -1.0174160751342884, -1.043818042465075, -1.0304810525854506, -1.054490192469625, -1.0589315791079108, -1.0437420534549346, -1.0251608885657224, -1.0122874084246076, -1.0295163468325745, -0.9711431644959825, -0.9885252986045424, -0.9848608071060863, -1.0512113684240179, -1.0203883440642243, -1.0197016320721999, -0.9049780772392636, -1.0331729803340188, -1.0140604182354844, -1.0636233859416224, -0.9102749690780094, -0.9944603572823867, -0.9206833275265993, -0.9030576693934426, -1.0433520184624945, -1.0509849717678876, -1.0330193006925519, -1.08944509797813, -1.0618480473124934, -1.059813751519226, -1.0104539567915023, -0.9667081913585444, -0.9941523852736893, -1.0042938225322022, -0.93783006980445, -0.9759323936366547, -0.9059240861557769, -0.8980581004970865, -0.9821347463771589, -0.9904134277108205, -1.0556014719630011, -0.8906676002875931, -1.0431905982498222, -1.0689381789098662, -0.9546629790840586, -1.11314086916795, -0.9881121313215999, -0.9694892907021132, -0.9662137737953007, -0.9839220115844123, -1.026769630770858, -1.0587422137173066, -0.9920665944122791, -0.9945374694730145, -1.0358378156587564, -0.9359877312603009, -1.062978793755755, -0.9763809800330847, -0.8949080244001704, -1.119533159147406, -1.0011834972078728, -1.0651743822536404, -0.9159255819055613, -0.9822636016754085, -1.0343524468698204, -0.9989538706190466, -1.0101861926412175, -0.9984923950316835, -1.0619650073045621, -1.0524571068371458, -0.9789233684866561, -1.030120108154057, -0.9447517362988886, -0.9916010758599492, -0.9974527235328976, -1.0757517560635206, -0.9408061175762581, -1.0072274674936144, -1.0180415637383118, -1.0925535783802918, -0.9642835009330404, -0.9432793924211713, -0.902570921741769, -1.0480084763385293, -1.0192438652506979, -1.015331395726222, -1.0457516617622233, -1.0632033227273723, -0.9586519687168307, -0.9717513837453171, -0.9527879851285468, -1.0503303687442582, -0.9400604079775108, -1.0392428697679494, -0.8927775809983348, -0.9418828808965097, -1.0007787177891445, -1.0318045123661572, -1.0914381975334704, -1.0416263664790961, -1.031142375180685, -0.9476236937254835, -0.9248014239181517, -0.9446865666808058, -0.9557456191289136, -1.03872491861347, -1.0175544403950183, -0.9586345960271847, -0.9560571784863166, -0.9560807560124411, -1.0184597442557526, -1.0295244216821136, -1.1296400874566166, -0.954801447886071, -0.8887309679704886, -1.142955299174272, -0.9200993524718233, -0.9938033989425605, -0.9785148696854467, -0.9454231495114043, -0.9629427297014367, -1.0222826422176183, -1.0547608241193265, -0.9667592435038876, -1.0624604501030628, -0.9776038849545599, -1.0347575247252094, -1.0250793204129793, -1.0807398089301654, -1.0068214008698115, -0.9528885997251486, -1.0584395485305143, -0.9932539546562232, -0.9980122301242428, -1.0814221603805514, -0.9324428745834582, -0.9451130904201218, -1.0287638747143344, -1.0654507892200202, -0.9865191839882046, -0.9089359423457679, -1.0413986683445047, -0.9958916917952307, -0.9458643159822155, -0.8992003923226675, -0.9900361381041338, -0.9274256253892728, -1.0414762118116438, -1.0184493564669108, -0.9118375867759714, -0.9401647357834497, -1.1236649839473198, -0.994023609943598, -1.1617635008096603, -1.0138533635600249, -1.0382302843390716, -1.061368521160391, -0.9816185436759512, -0.9206315880928462, -0.9731740168483238, -1.0239555977034145, -0.972798768718583, -1.0264189239339934, -0.9410755589194593, -0.9734769034358186, -1.0571185434437382, -1.0482736641071893, -0.9713289627151285, -0.9948733900842344, -1.0005931627336664, -0.9264892991708643, -1.0069870311725917, -0.9216989718700033, -1.031278535170351, -1.0476786324631344, -1.110379006196733, -1.025443772328904, -1.0101595871889009, -1.0900364947910062, -1.069642185784152, -1.004102046615937, -0.9762472154758515, -1.0216913553961904, -0.9772084572019837, -1.0425972302351902, -0.9168671400521413, -1.045793512659671, -0.9604851799931247, -1.0843859141677687, -0.9724894967495288, -0.9680726841640463, -0.950118665511285, -1.0045467298152588, -1.0634541051505924, -0.9685914215085338, -1.0395672960000681, -1.0228119616794, -0.9830131552213075, -0.957580398566633, -1.0492964782857799, -0.9799201508647377, -1.0454616497933533, -1.0853805709437911, -1.0434488303229958, -1.019278948095398, -0.9213632270625276, -0.956295502538538, -1.044307925371382, -1.0589905392055499, -1.0550337941808645, -1.0077049695793414, -0.9998880555451749, -1.060068310864646, -0.9738949747228125, -0.9850038610032472, -1.0514696021759278, -0.9707439181208852, -0.9421920857876183, -0.9699713687870163, -1.0031315178815214, -0.9512852013115789, -1.0143151429073352, -0.9512041871322082, -0.9877334461321373, -1.0193623438467037, -1.0243869152535088, -0.8997454260601604, -0.9466407952725233, -0.9562674460804335, -1.0587605490157772, -1.0610154107088094, -1.0724441619739224, -1.0412283137827933, -0.9517305684516015, -1.075735846047959, -1.0085119288419608, -1.0371945135703662, -1.018385898011739, -1.0770421817449354, -1.0517966036059103, -1.0327340827913551, -0.9403398851311937, -0.886872408711208, -0.9151044260279713, -1.0534330339732267, -1.0685519320799393, -0.9877324741434083, -1.0852169849794269, -0.9537922615656027, -0.9245803213206154, -1.003066281546816, -1.0927336576940863, -0.9385914241417573, -0.9863677668739597, -0.9630730029939178, -1.0103248136001555, -1.0982080537393064, -0.9688895886178112, -0.9647458487208684, -1.0014411158882546, -1.0050987834158804, -1.0402955327565462, -0.9464303817073099, -1.0253342322728796, -1.0171831703369327, -1.06838544783095, -1.0145881847608658, -0.9975237446772238, -0.9496813538336997, -0.9591671316818051, -1.061849106649636, -0.9902919084332631, -0.9413101518055937, -0.9556309258128884, -1.01171655847505, -0.9885540971149042, -1.0606886333706702, -0.9891906560027004, -0.9188197600346402, -0.921935173503149, -1.0606250522483838, -1.0269493359807198, -0.995248312782363, -1.028235301469684, -1.067898074621849, -0.905732403795787, -0.976872209619833, -0.9835759943353017, -0.9267531501886094, -1.0058076131838192, -0.9698167407243596, -0.9669086985917078, -1.0813452587024388, -1.10931075253416, -1.013416483922749, -1.0522945641818153, -0.9962336706629961, -1.073203425665611, -1.0257423390809448, -0.9701036412581965, -1.107966372715002, -0.9200123961009979, -0.8661096594992241, -0.9288945883283501, -1.0056756822591084, -0.9736687121973391, -1.0691719099640062, -0.8952701460615571, -1.0416594711138856, -0.9983236035502023, -1.0256152908060372, -0.9874015419247781, -1.0079615807047948, -1.0255406829619467, -0.9164433107151926, -0.9919882894404599, -0.986918961448925, -0.9895889936906189, -0.9733668531294111, -0.8756054986820141, -0.9986481113563275, -0.9921322766681304, -1.0506805804327313, -0.9969656889912798, -0.9430989173134228, -1.0058266998429715, -1.0566123653376716, -0.9554349165232692, -0.9812886934045698, -0.9063287703831677, -0.9623390576659083, -0.8874208069577779, -0.9840255169488751, -1.0055164801648502, -1.0329286221168827, -0.9906362730401581, -1.0128251573556764, -1.0166461237428526, -1.0041035260410494, -0.9474745303495627, -1.040867143444733, -0.9925113969761988, -0.9554159531858284, -0.9004008108659287, -1.0505781284866313, -1.011459298333274, -1.0005998518109336, -1.0013162481157076, -0.9832650012193523, -1.0030620576963067, -0.9930737043707087, -0.9720084533592859, -1.0412697398290556, -0.9113961914812443, -1.0394461634331735, -0.9656765262290754, -0.9363008700825084, -0.9291415682396957, -1.0037407255877966, -1.079607003858779, -1.0109977284008456, -1.0481335765335595, -1.0005417269131553, -0.9119081773054023, -0.8768062589201482, -0.9143812726114764, -1.028618658158635, -1.029702170537994, -0.9506639328376303, -1.0515708387242615, -0.9472465645392405, -0.9469048238037622, -0.9733774584798875, -1.0313124742597968, -1.0160361095695454, -1.0688727396737767, -0.9698507505037458, -0.9744627074784586, -0.9988309461915564, -1.0066423959582411, -1.0249876137820972, -0.903270720297537, -0.9286172506274848, -0.9560331716563137, -1.0183906533073073, -1.0051103910635777, -1.0040841974694126, -1.0775324019156183, -0.9711312694477304, -1.0142010336746217, -1.010629896315123, -1.080347186491466, -0.9085771307190773, -1.0740392693782703, -1.0415400131040746, -1.0399808607134378, -0.9594819920366893, -0.9269360193148031, -1.0239511281762599, -0.9874992051549628, -0.9149414656860875, -1.0005662475278396, -1.0143045275098608, -1.0079055246728506, -1.0581192426098023, -0.9737819246274191, -0.9899558034123928, -0.969784546105038, -0.9733207412472278, -0.9820521686289805, -1.04632022490137, -1.0972210327183418, -1.011644309741013, -0.9758658566041987, -0.9949728624737981, -0.9312923473342024, -0.9474764684684819, -0.9061076906114374, -0.9609312521278626, -1.0117614442458618, -1.028092431471702, -1.0369263836152407, -0.9199647924265242, -1.0454729544176302, -1.0572889165360837, -0.9570580820200456, -1.031465335532664, -0.9843399753891897, -1.0467337965720622, -1.0335440718922553, -0.8462018837799359, -0.9766568386868042, -0.9621455000041279, -1.0264903901185993, -1.1105402446885253, -0.9341769560776803, -1.0502083766522723, -1.0007242624310735, -1.06456290307665, -0.9472429144201253, -1.022655930223664, -0.9826710543903765, -1.025858364166528, -0.9519386409825802, -1.092267285947585, -0.9708644339578267, -1.0023164503847535, -1.0244954057764637, -1.027177989336229, -0.9695657675119792, -0.9366522840312701, -1.0102307611391277, -0.9889099518697418, -0.9464380767408438, -1.0675741249626896, -0.938907871628943, -1.0134911126792114, -0.9737064028047684, -0.880974565250312, -0.9872396981438203, -0.8898917156427353, -0.9666018597419959, -1.054932084796183, -0.9847078051058111, -0.9196162219205832, -1.068793531006214, -1.0459907835279292, -0.9864800272699012, -0.9452681189558274, -0.9842074582526582, -1.010475699812145, -1.0559114410794286, -0.9723580518176338, -0.946193686512578, -0.9739261969442545, -1.0289396391099985, -0.9936429107535412, -0.9637032126349522, -0.9742355392472427, -0.990540298038024, -0.9223148248016994, -0.9997600408522298, -1.0089461947228537, -1.0812371025773122, -1.0235399791114896, -0.9184909908984172, -1.0529708931424993, -1.104304100350777, -1.0028958311366059, -0.8747515688478475, -1.024270374369616, -1.0353801937499307, -0.9924247733488154, -0.956980066189878, -0.9660438257037047, -1.0309708513410745, -0.8863106112636371, -1.1723274387332645, -1.062983883388973, -1.126557483710897, -0.9558071514002076, -0.9139265317667347, -1.0031228911529104, -1.1285548253061088, -0.9803749306156653, -1.0388491105948983, -1.0649282967308804, -0.9317852291855772, -0.9855695962673168, -1.0189930807762713, -1.0336444956579063, -0.9711443418984751, -1.047462818960185, -0.8962362907857543, -1.0754492890998522, -1.0390916452748618, -0.9858045148450927, -1.0669269510472443, -0.9461062597248912, -0.9572440169602423, -0.9492005104609947, -0.9524237084410294, -1.046328787819574, -0.9886851323296111, -0.9839955148849951, -1.0821661868798735, -0.9368203130340115, -1.0089709302907035, -1.0863336930743528, -1.0373000137685164, -1.051055789385593, -1.0544640986708083, -1.0342210232467837, -0.9893391112953334, -0.9797545496681157, -0.9237247017942443, -1.0287015206484171, -1.0196204696983675, -0.9935098719506219, -0.9028317085518, -0.943189422124055, -0.9530956122682913, -1.0293078567807532, -1.0364406570576443, -1.0254509660606654, -1.0000839781089832, -1.0977448281067592, -0.9447483379252268, -1.0131164711126237, -0.9918840974958443, -0.9931863630018771, -0.9171635922571107, -0.9769532723155707, -1.008210221793434, -0.9744639041144779, -1.004951130408747, -0.9506518960760191, -0.8944353961803375, -0.9604474425571647, -1.0238460632966642, -1.0216625503161374, -0.9479884704282425, -1.0704813515605212, -0.9753727479757004, -1.0438973273972665, -1.035324650398541, -0.940379171604585, -1.0830111760046994, -1.0361616081512117, -1.014612083671886, -1.0126004890509057, -1.0674838281226453, -0.9482745390228543, -0.9541697521045653, -1.0203941260765368, -1.0110110920439188, -0.9667100648792757, -0.9577690360378928, -1.010881315578818, -0.9559283145512298, -0.9625503887019315, -0.986430137453703, -1.0731950773796872, -0.9870099618435151, -1.0083231951353775, -0.9736264083321966, -1.0237611835284202, -1.0183436687144005, -0.9734227911908621, -1.0821062541311215, -0.9803237861818421, -1.0482463968946434, -1.0387805339468605, -0.9798616841393349, -0.9498954476391007, -0.9266471153260248, -0.9544950406730283, -0.993991667867975, -0.958456590568635, -0.933473378566805, -0.9579412472081776, -0.9560702787115593, -1.1039637892232421, -0.9964630692560816, -1.0376753087571058, -0.8858389788145982, -1.0264132404209474, -1.0761221503526803, -0.958353662442418, -1.0510039245704492, -0.9785712707126295, -1.1410085042687705, -0.9518401359728962, -0.944520819200406, -0.9496810859940064, -0.9762291956827867, -0.9759495812282581, -0.9758399810001046, -1.001313834655183, -0.8968936743870546, -1.014692719588761, -1.0391740967910175, -1.0194557388363834, -1.0140017147257971, -0.9868592296842715, -1.0573670501001065, -1.0467835519468054, -0.9856204277356047, -1.005086916784323, -0.9762126075913344, -1.0127652766828312, -0.9374379779120775, -0.9951519745479791, -1.0184414615770236, -0.9714214317147896, -0.9207804930811032, -1.1042807741057776, -0.9673922546849854, -1.0167403163818078, -1.0410471742069345, -0.9842160211889708, -1.002712802567153, -1.0494240776726143, -1.0381976526345722, -1.0551508926000066, -0.9952144531683609, -0.9844803862799457, -1.113431188510009, -0.9161089814084413, -0.9363063086888179, -1.0532145363140675, -0.9424945211362183, -1.047292822639292, -1.0004757181695707, -1.0718906453931023, -1.0488318425679966, -0.9871949849315588, -1.0084336123139348, -0.989117131944298, -0.9429052182217299, -1.014014506982542, -0.9796259917886632, -0.9274473250539704, -1.0727964721064045, -0.9986275895129059, -0.9495545613464687, -1.0058136669778368, -1.054773561347814, -0.9726928020795658, -1.0248808341577216, -0.9922282137942406, -1.0384096911130847, -1.03075456548737, -1.0400560669178733, -1.0258353351047003, -1.0250737056099857, -0.9362640231487935, -1.0286690158797762, -1.0981067556779893, -0.9929991482061089, -0.948126740458084, -1.0124456965971151, -1.0634197270575911, -1.0458219288476989, -0.9636022957935801, -1.091330793652776, -1.112036548183267, -1.0605652593164165, -1.0147407509007362, -0.981289037777006, -0.9926905014556006, -1.0187290357100796, -0.9861119955310454, -0.9986655669405384, -1.030076591980546, -0.8826401871386691, -1.0143321261405036, -1.0442013533361387, -0.9845783568453609, -1.0065824348028323, -0.9792184373675392, -1.0304076894653715, -0.9888039015153944, -0.9707665119660771, -1.0638070812929212, -0.943621872946255, -0.9432010690614572, -1.0184772211923034, -1.0493448036481894, -1.039546876885279, -0.9937429987117071, -1.047534306083573, -0.9938711864819227, -1.0071161453520991, -1.0485792667842941, -1.0290056185929233, -1.0455699971002215, -0.9195920314303493, -1.025662079563874, -0.9720574757147955, -1.0658528982628135, -1.0295650977756627, -1.0904946716664767, -0.9985956711557155, -1.0139850057056665, -1.0446046692955098, -1.0084656187513803, -1.1101843705783807, -1.055057219840179], \"type\": \"histogram\", \"orientation\": \"v\"}, {\"opacity\": 0.8, \"name\": \"FD-FE\", \"histnorm\": \"percent\", \"histfunc\": \"count\", \"marker\": {\"color\": \"rgba(55, 128, 191, 1.0)\", \"line\": {\"color\": \"#4D5663\", \"width\": 1.3}}, \"x\": [-0.9098059174061904, -1.0107129973331754, -0.9838004967289683, -0.9604239130369929, -0.9715808730785624, -0.9596019376362184, -0.9921918637973286, -1.0010020203790297, -0.9891690959613761, -1.0430522819431296, -0.9116444894783874, -0.9787879680635159, -1.0787424301097692, -1.0067590516592952, -1.0304156666629158, -1.115339101401375, -0.994347794359588, -1.0292371457718343, -0.9823845210280864, -1.0000558242353614, -1.0113568232732277, -0.9761424571049417, -1.018731163281672, -0.986666291706391, -0.9983451912599961, -1.0112419475524588, -1.0675338919401476, -1.0008776380562103, -1.0539031903401428, -1.0402117801593667, -1.011953773485255, -1.0403801626508764, -0.9989326405690148, -0.9330678197086022, -0.8625408456606938, -0.9443680884530793, -0.9861851416779034, -0.990548526112387, -1.0269153107659412, -1.0203523358664757, -1.0224730650978189, -0.9899079709075012, -1.0357553174496958, -1.0414874007990098, -0.9271051453962744, -1.0369507998385765, -1.0071416172628942, -0.9836551892950931, -0.9959349714847372, -0.9139557431009955, -1.0392513057671402, -1.0297660467583185, -0.9526754802325581, -1.0128207493735593, -0.9497222165753917, -1.0348520102820427, -1.0137937766269918, -0.9980519899485981, -0.9878509938990525, -1.0255967319621746, -1.06105498890141, -0.923901435098748, -0.9859807955571656, -0.9530575211807399, -0.9518058858392533, -0.9816781322348123, -0.9637532735670116, -0.9901109156674583, -0.9236514065462533, -0.9849813524956355, -0.9978726964568394, -0.918072548524164, -0.9838071539323332, -0.9534145481987955, -1.0177112276766378, -1.0456130097574383, -0.9592619207337933, -1.014554798800075, -0.996473718191212, -1.083106505056881, -0.9759532387996838, -0.9507052589032204, -0.9604629847574246, -0.9552611874514432, -0.9425954349818263, -1.0489963020119193, -0.9241032604578575, -0.929716438459255, -0.9216301440668289, -0.9982056776670233, -1.0142754121889275, -0.9870788537262726, -0.961047461663156, -0.9704675180630067, -1.0184227490270743, -1.0084270608343822, -0.9853650878270818, -0.9983780821049606, -0.9702705447470876, -1.0500218177951766, -0.9890888205266186, -1.0242476394820093, -0.9345325396586331, -1.0474024754635338, -1.0417562260932356, -1.0284581442520477, -1.0034803929012357, -1.0093861180737724, -0.9970504826529548, -1.0595303979377078, -1.0121503910292737, -1.0292950922261603, -1.0378181945200093, -0.9928271460681167, -0.8938987633537265, -0.9998998004262759, -0.923968625280192, -1.0245747441747193, -1.038323096100126, -1.0130262277825897, -1.0166556433770517, -1.0035270598988406, -0.9745316675376512, -0.9640501616641468, -1.0965843048106878, -1.0395074788036944, -1.0206868272408554, -0.9732578031737252, -0.8780625644229882, -0.947980295984552, -1.0565646950814314, -0.9623160209925132, -1.0693839096103845, -1.0473518667546429, -0.9021590654943148, -0.9856759671872414, -0.9926623693117287, -0.995699118127787, -1.0128448340955913, -0.9994891092656786, -0.9696331824874391, -0.9529234943949083, -1.0115444187274232, -0.9709002320846765, -0.981920374719077, -1.0110189913082221, -0.9675919248615603, -0.9395430002470531, -1.1033129929226257, -0.9927116146788988, -1.0180162555269732, -1.09753310822908, -1.0109844884145556, -1.01945136776721, -1.0311927790808886, -1.012454994981832, -0.9902475325149674, -1.0069122085342477, -1.0428340438586274, -0.9922044523696836, -0.9788814990271633, -1.0335423787452016, -1.0262498322010687, -1.0272510904275176, -1.0064664959665532, -0.9865375198849682, -1.0392511924966608, -1.0021844069258523, -0.9699205137915932, -0.8889776888231948, -0.9626315213990633, -1.0216537886291368, -1.0717289592694446, -0.992745207841897, -0.958593569005217, -1.0266545418944646, -1.0549625452289417, -1.060151403201278, -0.9436477346061427, -0.9931398512073315, -1.0577008162239552, -0.9602000878111361, -0.9974392739854503, -1.034150657867154, -0.9647103321489485, -1.0010238221462564, -1.056712895079522, -0.9792546676552446, -1.1042754489684095, -1.0994077368807922, -1.0763167271076752, -0.9931857181753553, -1.0031401247189753, -0.9809910660698307, -1.0249857991675042, -1.008361051502658, -0.971182122302964, -0.9893539501438233, -0.9998662697484617, -0.9586216782724163, -1.004452841356589, -1.0268161099678759, -0.9568378391293668, -1.0138456268272535, -1.078015978231684, -1.0042999498463598, -1.0766924170160643, -1.0009014998669519, -1.0536182404225172, -0.9659371216511871, -1.0075402441349708, -0.979458153706753, -0.8940964047008355, -0.9518868618850354, -1.0191411825421461, -1.0138564755705506, -1.0348874589762598, -1.043968351543251, -0.9514476141574489, -1.0319590493228266, -0.9742705315897925, -1.0000922817421032, -0.9423721600785488, -1.0837382697124154, -0.8963997241865425, -0.9997567073051625, -0.9532404833174324, -0.9826245234345845, -0.9943500130698771, -0.9689187825373928, -0.9859302626764657, -0.9462073383054519, -1.0390825287552552, -0.9983398989520723, -1.0397925942004567, -1.074418195185797, -0.9990946628619715, -1.0260282526506304, -1.0523169187139851, -0.9815259997903574, -1.014703293251577, -0.9606776777401974, -0.9671577722392884, -0.9505067540679348, -0.8828147722541421, -1.0907408947280692, -1.0313180657528354, -1.0257933877302872, -1.0233806917972537, -0.9939600387849392, -1.0087521828012758, -0.8972184344067687, -1.0498202000594004, -1.0795808145112982, -1.0256675192435596, -0.9915846479769919, -0.9773372801064748, -1.0218168719067169, -0.9845852257244123, -1.0943356841401406, -0.9953191487158664, -1.0083224903324903, -1.0220836244073177, -0.9580688855580353, -0.9805979036954046, -0.8827563076473772, -1.0350893883207133, -1.0491436365654279, -0.9906801299079213, -0.9718060139349863, -1.0140978923210118, -0.9302225931409237, -1.0055016734419402, -1.039066680270225, -1.0210456534805656, -1.0488998364259707, -1.0563622843365852, -1.0504262973419491, -1.0169459153855414, -0.9963877696038002, -1.010361168906277, -0.9785371434445591, -0.9776035023178158, -0.9684547913756577, -1.0606364470853453, -1.0165028663264808, -1.0311982375416329, -0.9437605652273018, -1.0108602988429034, -1.0334656265194297, -1.0445075052953792, -0.9366144884984948, -1.0070692424531897, -0.9485041800254201, -0.9081818477754158, -1.0428462560974447, -1.037742609101599, -1.0260298140998863, -1.069844844921928, -1.0302126012098773, -1.0252422090891575, -1.0160357006002594, -0.9526841687566041, -1.0015300404057665, -1.0017788879604035, -0.9456714933261223, -0.993767674591049, -0.9059038507779635, -0.9091043059281898, -0.9898821241133293, -0.9707346728474444, -1.0648447815462871, -0.9116898638408149, -1.027614909837143, -1.0429845677411649, -0.9506390994474665, -1.0777581412678772, -0.995858699358402, -0.9698953298694867, -0.984989468229935, -0.986781444376895, -1.0356693906196481, -1.0459620532277483, -1.0007024970089904, -1.0230003312646287, -1.0108271833051574, -0.9161288556746516, -1.0156787852295712, -0.9866181589450587, -0.8961173562396336, -1.0992052103869172, -1.0144693164862923, -1.014897077289846, -0.9549614896356695, -0.9971834937283464, -1.00945621318778, -0.9840871146027921, -1.0201842294984944, -1.0044031413067676, -1.0513574366854228, -1.0395678564088864, -0.9734342947466562, -1.048732620184083, -0.9715676387489304, -1.0334189848719588, -1.0032357612449336, -1.0657326020568196, -0.9461476499363604, -1.0180719500386373, -1.0276394059071179, -1.0791376035929705, -0.9773928915049832, -0.951346475847547, -0.9517517329777205, -1.0470253184094371, -0.999082023664756, -0.999256879472014, -1.0450851668924543, -1.0952185767144225, -0.9706320762589117, -0.9758078490252873, -0.991011960326217, -1.0438864430219603, -0.9768672875324301, -1.0555273319324459, -0.9212857574738689, -0.9651200618123392, -1.0185360010910314, -1.0261693315982792, -1.0847087344571984, -1.0166382755369847, -1.0351481720803624, -0.957704515582062, -0.9601367048696885, -0.9504890075210155, -0.9817409451602437, -1.0321966959407463, -0.984925298385303, -0.9617739662902478, -0.9566014113316994, -0.9359905488153999, -1.0299452006531027, -1.042485588964703, -1.1119131605395012, -0.9522579610449252, -0.9304607499355482, -1.0867972135029365, -0.9226932896392401, -0.9963032358794532, -0.9709122034918215, -0.9776002789463127, -0.9649876735781222, -1.0381659913548615, -1.0497545447533572, -0.9914309389514733, -1.0598203236641661, -0.9840136565144112, -1.0273894213712589, -1.0483531374764965, -1.039061831830975, -0.9843449187452957, -0.9466577487013923, -1.0553612357776896, -0.9836789307773494, -1.0087676754694603, -1.0794373461393438, -0.9332118453320741, -0.964435613387542, -1.0281991683565117, -1.0644507618298464, -0.984754142928926, -0.952307449705371, -1.0023343705283398, -0.9921813486133041, -0.9348442617067789, -0.9057543635706218, -0.9880425577359562, -0.9220861336163221, -1.0310247267987196, -1.0026969171858429, -0.927997718279602, -0.93036851121863, -1.1018279612629422, -1.0290518623690088, -1.1243292536797527, -0.9978644704239469, -1.0117170725174458, -1.0646118353955303, -0.9867483354290858, -0.9327085932986622, -0.973342464166223, -1.0423503190258276, -0.9905637397722769, -1.017540862615896, -0.9655031515776993, -0.9875154755360955, -1.0533301956826189, -1.0514159234086522, -0.9755511907711001, -0.9956027568234483, -0.9891919976860778, -0.9497312905715654, -0.9870461687898082, -0.9195268557167948, -1.0161507243318997, -1.0592066885020868, -1.0914174144224336, -1.015520857275263, -1.042140856938971, -1.0973130281353896, -1.0415665295956917, -0.9892850237921356, -0.9917263698480522, -0.9979649245869616, -0.9719179482998752, -1.0302171897439245, -0.9673975423957517, -1.056504966980935, -0.9674101659582681, -1.0689204662550795, -0.9846720046881501, -0.9544495269577842, -0.9738321048643548, -0.9857872708133778, -1.06035180009337, -0.9699336276585732, -1.0233902657903244, -1.0361140739628032, -1.0064359051470448, -0.9849890618314527, -1.0271836371073846, -0.9545573967787478, -1.0324262222103942, -1.0954028102595794, -1.0265610247513524, -1.0211086581776314, -0.9230806123529519, -0.9402428454968814, -1.0652090586671017, -1.0472385306772598, -1.0401423008377475, -1.0208538401535214, -1.014430121606325, -1.0357628952874376, -0.9733281934807807, -1.0196122733681248, -1.038092033395757, -0.958901334106204, -0.9403091488670279, -1.011997184691169, -1.0048634904410265, -0.96433967146288, -0.9972184619513751, -0.9516712581762703, -0.9734934533878712, -1.001382525148959, -1.0171056252928175, -0.9276863020294518, -0.9590136243866101, -0.9726828160884169, -1.0334222779285718, -1.044828727772686, -1.063244199766415, -1.0504543135199405, -0.9634802076029274, -1.0779505273419625, -1.0373068064930142, -1.0429365901725816, -1.0054139874775554, -1.05924034675689, -1.03598964974558, -1.0196503486099733, -0.9861778790709295, -0.9068201093206034, -0.9355978266025089, -1.0559393471523548, -1.057232796584348, -0.994437684234572, -1.0496245311573889, -0.978880913204937, -0.9520741707408682, -1.0330157037085828, -1.0755202846598308, -0.939513580210998, -1.0003585654808298, -0.9835704144860675, -1.011159006280562, -1.0846361621563338, -0.9920763200435205, -0.9755255618388053, -0.983444150618564, -1.0125136671107555, -1.023113583527789, -0.9628082084908733, -1.051085146166909, -1.009984426097035, -1.0490551636724426, -1.0100398103862034, -1.006321122744657, -0.9396933408520718, -0.9572723668127178, -1.0548103358257275, -1.0109415234566377, -0.952464326323368, -0.9694276739526311, -1.015338464125203, -1.0194568364515257, -1.0279153129165268, -0.9803513809686524, -0.9447082642206428, -0.9388244820257775, -1.044798524727307, -1.0213353723635454, -0.9835782064498062, -1.0020146000217383, -1.0386670622987482, -0.9404688218185371, -0.9917033051621763, -0.9986324054964015, -0.917787197681063, -1.0060881204796182, -0.950017491852541, -0.9670883232565823, -1.0801817116715111, -1.089391346602532, -1.019366661897769, -1.0270223470096225, -0.9697124151074937, -1.0491518542018163, -1.0284921364888153, -0.9761840298820065, -1.0929376139749896, -0.9527218905476065, -0.9106520955801252, -0.9264338048548107, -1.0040238211573786, -0.9826446525002648, -1.0601588856737545, -0.8990640394056841, -1.0275966395267746, -1.0002355293791767, -1.0277893425420999, -0.9936392624333615, -0.9951176868809365, -1.0228310843449329, -0.9483193230717886, -1.0102916337813235, -0.9829697753716824, -0.9849530367921621, -0.9736201427119746, -0.8859635762553395, -0.9971222958902218, -0.9808798394912246, -1.0378182945064918, -0.9849970468243113, -0.9584880531286097, -0.9997805940283504, -1.046204930445574, -0.935826116089319, -0.9863677198894352, -0.9339122431302935, -0.9611608966739627, -0.9112797985386922, -0.9710355601468084, -0.9913406188436997, -1.0302758929304852, -0.9821271652730501, -0.9948783020893605, -0.9997611987838227, -1.0101347387132953, -0.9584645177564607, -1.030594749508214, -0.9826764565966619, -0.9610806920077613, -0.9333861936295965, -1.0269460713702565, -1.0376794284713984, -1.005333839547949, -1.0327971480730183, -0.9621950343723669, -1.009939768321491, -1.0144777048475042, -0.976197019299479, -1.0164396573081391, -0.9294683777369481, -1.0183183391292165, -0.951784122738213, -0.9658955328324124, -0.9442934195780335, -1.0015624514562087, -1.059867824848394, -1.0129506989870571, -1.068675961010237, -1.0209173186916576, -0.9369132196270651, -0.8912857221985917, -0.9290174401319425, -1.001720986851855, -1.0185103011115675, -0.961679643084588, -1.0588733961412204, -0.9794594528114628, -0.9795861519055522, -0.9856542579364929, -1.0158260320164234, -1.0180070354568467, -1.062869400104034, -0.9779569796450458, -0.9781285561315549, -0.9899182202820165, -0.9968176882413858, -1.0048278283413907, -0.9219121917963949, -0.9513331613948248, -0.9628758859479414, -0.9710791093462138, -1.0383664537244448, -0.9940261303908794, -1.059153099260556, -0.986784944089746, -1.025632195251407, -1.0149626070999114, -1.0816838557969675, -0.9078100734975678, -1.021137137569203, -1.0399101541687825, -0.9843104199458204, -0.9939375018079887, -0.9541427784498058, -1.0022365041007646, -1.0052390455934552, -0.923076348919561, -1.0020856598235226, -1.0072504779194675, -1.0135117114528138, -1.04383509497985, -0.9801056206183649, -1.0067662947651859, -0.968423063613522, -0.9937598676616656, -0.9844760324528138, -1.047399828318713, -1.0619227484865896, -1.0063617511449712, -0.9794441810772119, -1.0159156973765269, -0.9352465601425848, -0.9675395031411241, -0.9322019911296755, -0.958244403501503, -0.984532720617052, -1.016483851350416, -1.0236143650728455, -0.9276965788916725, -1.0457416233941585, -1.0634520406796124, -0.9656401995164977, -1.0277239858700038, -0.9896529510812487, -1.0308290931080821, -1.0337657792735153, -0.8782811546049833, -0.9981388124248581, -0.9665724866527328, -1.021349861876876, -1.0818487515429784, -0.9182965639746504, -1.0053148723160434, -0.9761969507019571, -1.0703891263523087, -0.9707212114367396, -1.027362034027916, -0.9695866753262111, -1.0305082948567388, -0.9906447820087523, -1.0870401745081617, -0.9780690368142854, -0.9909920695010882, -1.036510344026036, -1.0184852068544716, -0.9848524950407307, -0.9579402413898348, -0.9887499096817892, -0.9862604816660018, -0.9675554363186615, -1.0443624930617659, -0.9605529770334937, -1.0004329489120163, -0.9723039840011585, -0.9195171728071444, -0.998747676673532, -0.9128190726794614, -0.9566421291608407, -1.0410801277737496, -0.9949028730896166, -0.9558068883040834, -1.0624978830476104, -1.0562073887369734, -0.9707254750466952, -0.9369146850045983, -0.9599494219724476, -1.0203242431936541, -1.0440600208636865, -1.0089273387298832, -0.934917621973195, -0.9707868238735348, -1.0451514917272418, -0.9870768241045338, -0.9864094434620441, -0.9702797412917012, -0.9855630783799764, -0.9455975601304413, -1.0035452780015208, -1.0021506582825257, -1.0584528943704623, -1.007931488978665, -0.9475137688418265, -1.043400154963485, -1.058912649874795, -1.005736049938637, -0.900253285465652, -1.0021247927672081, -1.0007493295540377, -1.0001714872535956, -0.9507643486895954, -0.9941979883114641, -1.0146794064649574, -0.9110603142294331, -1.1292675285005616, -1.0363885979829837, -1.0934792029093152, -0.948629649072156, -0.9099371464009012, -1.0063957664119547, -1.137170828324909, -0.9810397056150468, -1.0334739754233637, -1.0660426399561633, -0.9448347583653885, -0.9947949794161878, -1.0317156518039683, -1.0562077111633925, -0.9928243277207225, -1.046521720853577, -0.9229276089334786, -1.0449611854379146, -1.0333412597978373, -0.9744564147629915, -1.0807679274168376, -0.9646240577606201, -0.9523196729332892, -0.9363216838149153, -0.9586651881808431, -1.0331814366550598, -1.0147114320160264, -0.9968147756346172, -1.0720940154583565, -0.9684019898522979, -1.0114926481382853, -1.0651866337890503, -1.0221574687666286, -1.0172274570824533, -1.0501350246322052, -1.0335437058150534, -0.9854766996487667, -0.9855972660454275, -0.9505884309151671, -1.0362113009248277, -1.0066666960481812, -0.9719648686427, -0.9277196126241631, -0.9239654662901049, -0.9667875796418609, -1.0278887018685599, -1.0475938565815095, -0.9999717962410513, -0.9877899534480822, -1.0811438349186568, -0.9457962243968996, -1.0099736669373474, -0.9895463719261162, -1.0044622648095116, -0.9469046063829114, -1.0045193865990711, -1.0285362740481983, -0.9580574150108443, -0.9956509261276927, -0.9646024869197956, -0.9201868292933325, -0.9593825135220757, -1.0165061969643192, -1.0169793900660986, -0.9604373997179266, -1.0820587313772414, -0.9702697766444354, -1.0371183135029791, -1.0317307317013715, -0.9625985571700469, -1.0669470148168614, -1.0314512187254952, -0.9927254171145938, -1.0142825931963526, -1.0324153700003524, -0.9400095945441008, -0.9524600547655662, -0.9935923157280941, -0.9742607891661502, -0.997997331398855, -0.9641130054442357, -1.0137450554985141, -0.9702196214064573, -0.9889661153520262, -0.9786196454726619, -1.0741592086983924, -1.0014938042758494, -1.04188045284564, -0.9881398763440243, -1.0196652864992086, -1.0083339495770804, -0.9540557566446455, -1.0504966190855927, -0.9671088316326051, -1.026234736241648, -1.0481503979695026, -1.001974364234751, -0.9846552894936307, -0.9159672057714157, -0.9778196671880863, -0.984107229710163, -0.9860779718052556, -0.9475780295662389, -0.9708131611820744, -0.9769365790477006, -1.0874922476527638, -1.0333800752448434, -1.0344507541351708, -0.907811060879266, -1.0146515205349, -1.0632991556787474, -0.9683089246934178, -1.028945087732467, -0.9813173962210919, -1.0898429526894344, -0.9585943989008401, -0.9702260146378685, -0.9597078300328885, -0.9890042875336937, -0.9696166600302065, -1.002812704388673, -0.999350008301839, -0.9173515686441795, -1.0176618770016213, -1.0251832890704575, -1.0060377609519842, -1.009624113936335, -0.9922923296939083, -1.0409224552678737, -1.027700093211975, -0.9921394278232759, -1.025412369927173, -0.9568873945473813, -0.9848161867357415, -0.9614111013239588, -1.0208122892178921, -1.0152422265801173, -0.9524658712145304, -0.9451617812277011, -1.0653174764803741, -0.973782976090776, -0.9996115690432096, -1.0394271513978286, -1.000932940305319, -1.0387750835002663, -1.022874359845232, -1.0171575917930407, -1.0462810504838376, -0.9993444164555458, -0.9995510178781518, -1.1045885416661902, -0.9271021075748545, -0.9478407216681266, -1.0248865287716886, -0.9599869936020382, -1.039442250757124, -0.9863684087268132, -1.073999909324195, -1.0311395087800652, -1.0035525092861117, -1.0194529578971232, -0.9592405894222809, -0.9565577345569924, -1.0298070924210547, -0.9830655482781718, -0.9504912114157188, -1.0526394099642964, -0.9989700456723574, -0.9469169380812912, -1.0232593421853815, -1.0524852695443643, -0.971272610468203, -1.0074157933441827, -1.0080814457560405, -1.024485834428142, -1.0457065839103752, -1.0320562959311959, -1.0096066851329972, -1.0104910710554222, -0.9387210361571495, -0.9995237670228624, -1.0689905716132304, -0.97020547156608, -0.9383037822135736, -1.0268110904329366, -1.0381754289381981, -1.031266048041982, -0.968142257768557, -1.0675374560907067, -1.0996421766829378, -1.03703848800447, -1.0164916751651212, -0.9725226825871638, -0.9847883879009921, -1.0048879419063668, -0.9938152958195174, -0.9994484771822758, -1.0427217707803016, -0.9006556280182589, -1.0140207870300433, -1.0089178223040052, -0.9790700999638116, -1.0220821695513502, -0.989349516828879, -1.0461611945795608, -0.9834981055346933, -0.980173066882783, -1.031644382145323, -0.9459819256714577, -0.9332953463473217, -1.0269091348693045, -1.0320740298253697, -1.023294501258142, -0.989993572859448, -1.0445811614373197, -0.9753008652905242, -1.0193375110633827, -1.0341414257174746, -1.0305126199610695, -1.0351555738581948, -0.9308195608272045, -1.0608368937091717, -0.9847406144580101, -1.0472219108069407, -1.0298447724848339, -1.0871611082733457, -0.9841646312129516, -1.021871557030161, -1.0369262851340406, -1.0159994626533473, -1.1055047115607994, -1.0277647608432554], \"type\": \"histogram\", \"orientation\": \"v\"}], {\"title\": \"Overlay-Histogram for RT mix and pure, true beta = (-1)\", \"paper_bgcolor\": \"#F5F6F9\", \"plot_bgcolor\": \"#F5F6F9\", \"xaxis1\": {\"tickfont\": {\"color\": \"#4D5663\"}, \"title\": \"\", \"showgrid\": true, \"zerolinecolor\": \"#E1E5ED\", \"gridcolor\": \"#E1E5ED\", \"titlefont\": {\"color\": \"#4D5663\"}}, \"height\": 587, \"yaxis1\": {\"tickfont\": {\"color\": \"#4D5663\"}, \"title\": \"\", \"showgrid\": true, \"zerolinecolor\": \"#E1E5ED\", \"gridcolor\": \"#E1E5ED\", \"titlefont\": {\"color\": \"#4D5663\"}}, \"width\": 1116, \"titlefont\": {\"color\": \"#4D5663\"}, \"barmode\": \"overlay\", \"legend\": {\"bgcolor\": \"#F5F6F9\", \"font\": {\"color\": \"#4D5663\"}}}, {\"linkText\": \"Export to plot.ly\", \"showLink\": true})</script>"
      ],
      "text/plain": [
       "<IPython.core.display.HTML object>"
      ]
     },
     "metadata": {},
     "output_type": "display_data"
    },
    {
     "data": {
      "text/html": [
       "<div id=\"ebb15eab-3dc9-47b8-a7a5-b942ddffb192\" style=\"height: 587; width: 1116px;\" class=\"plotly-graph-div\"></div><script type=\"text/javascript\">window.PLOTLYENV=window.PLOTLYENV || {};window.PLOTLYENV.BASE_URL=\"https://plot.ly\";Plotly.newPlot(\"ebb15eab-3dc9-47b8-a7a5-b942ddffb192\", [{\"opacity\": 0.8, \"name\": \"FD-FD\", \"histnorm\": \"percent\", \"histfunc\": \"count\", \"marker\": {\"color\": \"rgba(255, 153, 51, 1.0)\", \"line\": {\"color\": \"#4D5663\", \"width\": 1.3}}, \"x\": [0.47806864146808903, 0.5327432431591883, 0.37845439680558474, 0.5497505077951964, 0.4705526097853098, 0.5614337584130502, 0.42778192426941714, 0.47132590178873024, 0.515333065714296, 0.586659548445817, 0.48226385548439, 0.5583467841022798, 0.5099534299077398, 0.46397969011323675, 0.44855142685771676, 0.3814543809278933, 0.5187417992380285, 0.5609895802748776, 0.45857737128564013, 0.5518339534652177, 0.49624671106858775, 0.5787843113410321, 0.4535536323099827, 0.5382594218115082, 0.41961551384396045, 0.5142154282720841, 0.3778918094527197, 0.5929083694845938, 0.5392141679155134, 0.5030928731338147, 0.4962879681918488, 0.5689270942503534, 0.39770909307287494, 0.4129143061054786, 0.5478038246274299, 0.5024647024702966, 0.4740264603760227, 0.5155614875994842, 0.6013167652858391, 0.4416561459794981, 0.47707855823391787, 0.45488914863072166, 0.37685267199041, 0.4399578135529826, 0.47535458485199833, 0.5697102687223772, 0.4882017317398908, 0.496856972759858, 0.5035778997211064, 0.4821285724294575, 0.5681390247105536, 0.4652988271323502, 0.487238661943777, 0.524889589431716, 0.5183790804715835, 0.5977888657406307, 0.6124272090812883, 0.6215113937668169, 0.5035760649205696, 0.5117623847279933, 0.5332727228979713, 0.5246574248704716, 0.457392057495511, 0.4338855621918291, 0.5316994884069755, 0.6103730063623172, 0.4572313026832473, 0.4441876335580863, 0.5433211882260713, 0.4082471767558826, 0.4671211140153594, 0.5326916238026213, 0.6261146367603122, 0.5265280753693311, 0.49993821340347355, 0.5102751102781445, 0.5579967545669366, 0.46006466431800325, 0.526441202890556, 0.34829351255843366, 0.5794501450792454, 0.4365696365314962, 0.4739037896445098, 0.5236658599591852, 0.5610625328648209, 0.45185997352094354, 0.5057762648122998, 0.5205720711385802, 0.5191743333028184, 0.5935885198264428, 0.5563044402594908, 0.49045059742215336, 0.5963412428990219, 0.5526907737654836, 0.5588182839092932, 0.45093928683616835, 0.47481444331569467, 0.4868181405364622, 0.4654094357819216, 0.5473666863688895, 0.3983713804162564, 0.46739279016718505, 0.5585674171710988, 0.5135193020090814, 0.5254570351700527, 0.5026489107908282, 0.49205763126336355, 0.534892156255848, 0.40451795392586476, 0.5000587587591223, 0.46319325027644176, 0.5174501269519558, 0.42869823806494317, 0.4413668795764679, 0.4767834913760042, 0.49831862154952605, 0.45940096493734417, 0.5071687265139027, 0.5212859744451576, 0.45041970028568423, 0.46216807038170454, 0.6209753389008286, 0.4735886998842017, 0.5438555244982364, 0.5252978513192332, 0.4447700157021538, 0.48291635517463083, 0.5143989124863999, 0.5306396121876964, 0.5077044414620533, 0.48851796512786094, 0.4765306836754316, 0.4706589123910464, 0.43245056985044905, 0.49700428231309446, 0.5218804356636875, 0.40630657065416337, 0.47830605413894034, 0.4276976615698358, 0.5248516542820281, 0.4423769812811961, 0.5006212031183952, 0.5625677778992364, 0.5064030083290236, 0.550192089905485, 0.4983009230475636, 0.481973128452568, 0.5669972703709756, 0.5867626013668538, 0.621169453226478, 0.4584593868765187, 0.5575373977530524, 0.5681073289916241, 0.5251583873045327, 0.4549594152036974, 0.5385827888150128, 0.5286684999097527, 0.5660490194918755, 0.4675897247714973, 0.5871310881118137, 0.46940031403629967, 0.5306210088086358, 0.4189669992509777, 0.5246402678358499, 0.5563079269294253, 0.5237560520829048, 0.47433302526805576, 0.44433674093727293, 0.4938510632277032, 0.5658322515416626, 0.5458108573159681, 0.4935011124687519, 0.5994163671393321, 0.5392532589931356, 0.5106714640609025, 0.44724010289392657, 0.5455371597940536, 0.39146658484606695, 0.5411921496853384, 0.4848006542984205, 0.5310030750291637, 0.524065893041755, 0.49965701617380287, 0.4913930088709026, 0.5288054656320859, 0.5427267506007757, 0.4284191159844193, 0.4059274092210552, 0.552238727484635, 0.5451275374219997, 0.48131064548916164, 0.47931890362936885, 0.5677422575569864, 0.4762071353176309, 0.5537577390657085, 0.5262119760606561, 0.5307961872148022, 0.5582266949928665, 0.4802004962008377, 0.5645929150022084, 0.4458287946323569, 0.4504791320269068, 0.5315637180947534, 0.3899441466662846, 0.5136304950915783, 0.5448547649825455, 0.4801913365905537, 0.5240029643568795, 0.421538867776184, 0.49735710952107604, 0.5190731415938947, 0.5252166241578822, 0.47309822097038756, 0.5605674975279451, 0.513441284300075, 0.4421608530848059, 0.4693677832998069, 0.37047644803368895, 0.4503820493705465, 0.5210969523853226, 0.5471526022635018, 0.595229142309085, 0.6414834760402426, 0.48984959155257324, 0.499407741062963, 0.39484775021754337, 0.545304537716917, 0.4614778052757915, 0.4766582754202525, 0.4695786439292671, 0.4573073145044388, 0.42271299145997776, 0.42477570432645906, 0.5309060298400201, 0.5491426250062171, 0.5160971438815234, 0.5072047748903981, 0.5076188773318477, 0.5164526129830369, 0.4822025157038379, 0.4779343028166083, 0.40916768101669254, 0.5301479508496775, 0.5184333537752339, 0.4691443560711945, 0.4617226394042753, 0.5567861691943204, 0.5086806186473732, 0.4650964780576487, 0.5403156041498909, 0.3955137425797429, 0.5873497516011055, 0.4812213382474338, 0.48296461783747346, 0.6041683196084695, 0.4616993366779202, 0.5698251219619002, 0.5033486003517696, 0.5406569132321035, 0.5550699680747091, 0.47464603315437587, 0.6031020235750955, 0.5172928383303943, 0.5971419585527102, 0.5696149090366125, 0.5124286999991909, 0.4607623713377189, 0.5624202025928032, 0.4447617753832283, 0.5865746648162802, 0.46886241859250133, 0.5864005891956716, 0.4575746503560144, 0.40835855929054304, 0.5490868919454932, 0.4552634441622353, 0.49632041362135076, 0.40301004853256495, 0.5433070740998637, 0.5003785674016845, 0.4704846600744741, 0.5389044089067646, 0.4772266214238386, 0.39883103310899726, 0.4749911425851643, 0.49370270183652326, 0.4963163959566934, 0.553143028661274, 0.529589151092565, 0.40218059615547985, 0.4681734053916176, 0.49862704403239577, 0.4455996064290547, 0.619678923615977, 0.47681662068472724, 0.35883297503756667, 0.468589131133583, 0.5750827893596532, 0.5936518860899043, 0.5067431940288409, 0.44873560285148273, 0.5587219041814253, 0.5404332281522897, 0.465752037889856, 0.46470806627121297, 0.5051972444417709, 0.5195565389391612, 0.45701702109682474, 0.4783041293036952, 0.5610987829259034, 0.5100434619646937, 0.49209454141790815, 0.47794968523440373, 0.5190644971352394, 0.542389365572637, 0.46436661280914604, 0.4656285201640388, 0.43161365595919965, 0.452230441571724, 0.5140564197983313, 0.4426495733300132, 0.5770061281664438, 0.48849871225111924, 0.4784178633006283, 0.42708084936733326, 0.4284380183399989, 0.5375646872715331, 0.514571948124146, 0.5200981507598823, 0.5194828550406263, 0.5819749690329143, 0.5897867137279307, 0.4755868349097151, 0.43799279270026287, 0.43807641460633484, 0.47408411724945626, 0.4309581408768462, 0.3896698047132994, 0.4327529833609503, 0.49425479741027145, 0.4790626038612266, 0.49956932710818286, 0.47143252599156477, 0.5341675668797214, 0.4410763430023222, 0.4248648600252735, 0.548388290439292, 0.4961915418268672, 0.533234863398559, 0.5149287237766298, 0.4865934458830633, 0.4675176280842164, 0.505732536466712, 0.44412312330077014, 0.5211165667194209, 0.46760959767167004, 0.6182573929678203, 0.5740957615932389, 0.49763487497688524, 0.5905757473228375, 0.4448638135981071, 0.4783044599474255, 0.5579571215584993, 0.47935052813813417, 0.5413590276022212, 0.46705281656540765, 0.5595013044477118, 0.49283537371588426, 0.4963682314205278, 0.5723439430743089, 0.48543557405389237, 0.5432166207409251, 0.5495402026192759, 0.5231756843612472, 0.5283059995030477, 0.5586598661421494, 0.47067355752312384, 0.5123340346641216, 0.45732285067792255, 0.54371414885495, 0.6042831096354198, 0.4869707168490039, 0.557845018784934, 0.5307001686927244, 0.5877906225130285, 0.4577068209452491, 0.47274462991839106, 0.4180308922321343, 0.44202824389726314, 0.5041540267613939, 0.5171603289233713, 0.5264385321904435, 0.4874630127247792, 0.523955219410841, 0.4487076318311099, 0.5787383911731951, 0.450946405813781, 0.5041541379469421, 0.4030906533479337, 0.43901494687963294, 0.5045871201159983, 0.5470061235322361, 0.47212310433854904, 0.46602881190346357, 0.39579111574164827, 0.4361978258081943, 0.60022676387757, 0.5203142301028861, 0.5124966216316776, 0.4598852944396496, 0.3423028831690387, 0.5077285393275605, 0.5420875325686194, 0.4911438702299902, 0.507837287426967, 0.5267549307813261, 0.595193463765869, 0.49852719918764365, 0.5240812118297251, 0.5289300713455516, 0.48270721358381785, 0.4651173293962869, 0.5692649895617092, 0.4436481671427938, 0.5088433280316221, 0.5258831628143806, 0.519028296843415, 0.39788422974982013, 0.5785140852519759, 0.4950590823398381, 0.377077771078977, 0.5242709511900194, 0.5334067947508054, 0.4376497217367612, 0.49767435863528475, 0.48844340988071533, 0.42576647407012924, 0.5261931428928565, 0.4402382521882762, 0.4389290107771101, 0.489529331496783, 0.49941516302838695, 0.4416287153013988, 0.45524019722679043, 0.4375751711316469, 0.570578275035153, 0.5656814485846193, 0.4844087102280468, 0.48768994423871326, 0.5299955961641499, 0.5582312053725665, 0.4829910969940073, 0.48746758463358975, 0.535993343494016, 0.5296881408408821, 0.49859643023892924, 0.3417473536537767, 0.5099914202791445, 0.5349968238799334, 0.5330753243692152, 0.38771525233843396, 0.5027953609234291, 0.5088638486406569, 0.48579008447868477, 0.4860627604830032, 0.47692925846658935, 0.4420538743813731, 0.48566497171161277, 0.5061226756245095, 0.5229382892488628, 0.6012480081145215, 0.5741679954088501, 0.4571889630731562, 0.5535595713653608, 0.4440883750530201, 0.4383755173123979, 0.5725580734064819, 0.523367437673749, 0.3935811780046864, 0.4929877534552851, 0.4299615076546789, 0.4843067844468927, 0.4908498226859063, 0.4904386492291012, 0.46617996579090404, 0.5258498578803518, 0.49732662441169684, 0.4333510134416266, 0.47589926922298265, 0.44544090088734933, 0.4676366596297278, 0.5488863808166486, 0.48229196022179865, 0.5015537123552574, 0.4535193060062197, 0.40948461556739496, 0.5584176678874503, 0.522946147127686, 0.46465398767344007, 0.5583276469040599, 0.5022469632072841, 0.5958803037225023, 0.6140654408071307, 0.39727326081653447, 0.5145752224458414, 0.5415443721237054, 0.5618698247873586, 0.5038480478599429, 0.5351137888184727, 0.4734004483241839, 0.5186069840336529, 0.5549050166872778, 0.49130093398996777, 0.610712324547614, 0.5305256239300301, 0.4086301635069466, 0.5164794189585953, 0.5433732412948228, 0.4334816907927079, 0.5614474685688217, 0.5460554311190152, 0.4712674054776059, 0.4324743027314877, 0.3830327488809249, 0.5149115875560142, 0.5493708340564855, 0.43724457720032506, 0.4593094473969985, 0.5313619878071696, 0.4977610093364714, 0.47376535961282285, 0.5212387811674749, 0.5873469746758038, 0.5096712047798594, 0.45452299750079017, 0.45798465296213875, 0.5180199938158954, 0.5443377331473024, 0.48168314246424626, 0.4681693844422558, 0.5195286745330524, 0.47273857515897455, 0.5248504199458774, 0.46464258266686476, 0.4706327465584842, 0.4949835305344985, 0.5571986974793087, 0.4995354887136023, 0.4716991357864264, 0.44790185515139, 0.524299105493407, 0.506177586198014, 0.4681533750668999, 0.45671844118297356, 0.5132071642942736, 0.5723334818110934, 0.4398816277316153, 0.5493400899193213, 0.5681401245219408, 0.4820622424577041, 0.6035231971794586, 0.43223773674671967, 0.4788151938038666, 0.6336814438090685, 0.48037769936357344, 0.5533322487256196, 0.4274644728730508, 0.37367970470300904, 0.41268775839018457, 0.5010295911468611, 0.5050607977316904, 0.5051196637598727, 0.5389405944229633, 0.5433524581301659, 0.4573048982338255, 0.5409638923246765, 0.6038710352904542, 0.5963996055260901, 0.5251889406000234, 0.5639559767155717, 0.546993438958808, 0.48349623849498413, 0.48514085065217816, 0.3291254272229041, 0.5489084379666838, 0.45263139377685635, 0.5121190699153233, 0.4513567608632444, 0.49459757931277637, 0.45703139487243233, 0.526361850374623, 0.5047677714836496, 0.4785426166308482, 0.5031032885325657, 0.514555448110195, 0.5771840050614055, 0.5296101706778747, 0.5420779316918265, 0.47414090186641134, 0.5101438986430884, 0.5173194481992645, 0.573621958147055, 0.5212443432356229, 0.47546937682557744, 0.4433052247588432, 0.4439365346981242, 0.4463233259126713, 0.4884293803704426, 0.4170009951897028, 0.44865312809156144, 0.5562727520179807, 0.42090630921445843, 0.5212982047272168, 0.4242225304148505, 0.4912681061635577, 0.5131163416391402, 0.5545190685557803, 0.5815429135649728, 0.5257648397792478, 0.47304817726283255, 0.5670705290109072, 0.5833530155930815, 0.45507766224908025, 0.488115640275497, 0.5730355408513443, 0.5622163005436691, 0.5349202406101122, 0.43716083611578943, 0.5011364673044042, 0.4857961991338744, 0.47650365954782825, 0.4508472339139111, 0.5294801431647941, 0.5542377573818391, 0.4035481412183851, 0.5162763787827085, 0.49320915482192657, 0.4308794444386479, 0.535193723147089, 0.5051376002952055, 0.5419733545334495, 0.536022076541735, 0.4327067844762719, 0.4382774381471678, 0.5095222430051416, 0.5140222460369079, 0.6252984139619693, 0.5231938305876642, 0.4994405635009046, 0.5264816444733424, 0.4963526708035145, 0.4627480436599277, 0.5421858474754218, 0.6224083225649442, 0.4413877611222812, 0.4215701739192226, 0.47944000866687214, 0.5368453973544829, 0.6068748379306873, 0.5471369748126682, 0.49173652853373234, 0.521420747643814, 0.5048538311746698, 0.5243396830529448, 0.5488877037177393, 0.585741241977746, 0.4424407858322032, 0.546856703891424, 0.5098209350015236, 0.49719643742075936, 0.4616765696581616, 0.43754515138059463, 0.40170211034040093, 0.5416911774020259, 0.5479026369493162, 0.4603995255873236, 0.53910073241467, 0.5083648561684397, 0.4690086381275183, 0.4243218388284363, 0.4646541404422765, 0.3910979847871152, 0.4816472806751846, 0.5281397650046945, 0.49656903382927486, 0.4936461894911172, 0.6140858980120326, 0.5009954403576942, 0.5131274169893475, 0.4482615097650747, 0.6049685969016654, 0.5158714660507727, 0.4872095781653908, 0.5231420672553533, 0.6440328778333075, 0.4688742117153219, 0.39959726885479907, 0.5202187227303586, 0.46060135051682627, 0.5342505918591798, 0.5431278325581834, 0.5228246490854253, 0.48600922840459376, 0.48357675764378016, 0.5027934019562135, 0.46811501093145125, 0.45756021233239036, 0.5390842907097602, 0.49056763065961767, 0.43829919396226397, 0.4366724817615713, 0.4844610354854026, 0.4241018292457216, 0.4714766769239621, 0.5199238251904876, 0.4577960802258588, 0.4495453251995434, 0.46943244636631515, 0.4212654000964495, 0.5238020405244584, 0.5299606074714984, 0.4914789670413897, 0.6360085834133213, 0.5045508591680551, 0.4939274518927555, 0.5730965733859669, 0.4559110549432134, 0.4730110794638239, 0.4975357543830614, 0.4276627874393542, 0.5880693168094626, 0.518431107405657, 0.4575789460178966, 0.4694509869089486, 0.581144867209479, 0.45343500182839114, 0.453440093143225, 0.39759746307242255, 0.468909415235421, 0.5228367244383914, 0.48408942595888216, 0.5062629388678942, 0.5811300987775555, 0.4955368305712777, 0.47788607850364373, 0.5673532433968572, 0.45236764053052336, 0.43808508547515107, 0.4912641358230455, 0.5460966137543988, 0.5131886112896892, 0.46762594762638765, 0.48588143857591215, 0.4821533051169702, 0.6221834683984196, 0.4868307267153297, 0.5359155610825946, 0.4355825266155067, 0.5280962419377244, 0.49330841770598194, 0.5597783649004389, 0.47547530295422313, 0.48022015401103835, 0.43487635952260983, 0.507812593798116, 0.5852356325920909, 0.536986101355279, 0.6172299551727137, 0.4985641029215614, 0.5712027187680249, 0.5890408027036702, 0.5565926752994548, 0.6417709314301343, 0.49433234753276356, 0.4622463109820647, 0.463485601218205, 0.4489519755142871, 0.45138795381659325, 0.4825402999040879, 0.46066569247140826, 0.469303230187024, 0.435004467891659, 0.4655663189324808, 0.5548406301123325, 0.388058694868936, 0.4974085305308448, 0.4290129356367607, 0.4698297436816851, 0.5546998921691082, 0.5577678731951274, 0.47611889521481443, 0.49334909614717243, 0.5038274751471827, 0.4879751222057338, 0.5743296013494881, 0.5403722372889486, 0.4462721716804986, 0.46122840020691586, 0.4038011702275708, 0.49161882930182554, 0.5166173530604005, 0.49272013959757077, 0.5025059229174994, 0.5594257202687718, 0.5327633655949128, 0.4994422039508636, 0.49754341666977997, 0.5191309998971143, 0.4844190152726589, 0.4354007253645372, 0.4899221411755101, 0.5254319925600233, 0.5680349278973812, 0.5283205019950529, 0.47508041424651826, 0.502777945110209, 0.5547890301256299, 0.3424570461012929, 0.5146192653478341, 0.47948992538062024, 0.5154321182758452, 0.5821809503857676, 0.5265507213381087, 0.47572762581354583, 0.49559184043713717, 0.428884044797568, 0.6134103973516827, 0.42891740890956487, 0.5493252332900124, 0.5030272101247987, 0.4940928880572886, 0.4184235165188645, 0.46100703340221794, 0.4816397670009578, 0.551405427075571, 0.47698961165968834, 0.4694528066127233, 0.6069318457670287, 0.5318916771699164, 0.41391213979562125, 0.48671305531912606, 0.49530052406695824, 0.5285691246569793, 0.5728423980567967, 0.47826035239574466, 0.5432777887756574, 0.45023576443672064, 0.5340184808441576, 0.3761581328325898, 0.5175895349202371, 0.506737406461252, 0.47478846812569825, 0.4466560488662748, 0.5712231229949021, 0.49943187826573476, 0.4175799017878493, 0.4954124145246992, 0.4680169421675032, 0.43439435082260514, 0.5102168892018937, 0.4678362177388128, 0.5307021819806355, 0.5013388126207547, 0.41514126381959493, 0.5295928619328873, 0.5351697826831574, 0.5218063098433288, 0.5603952120014418, 0.45183864180363753, 0.5146041354728701, 0.44206437016089506, 0.43661595306657064, 0.4120555055062568, 0.5775396617612629, 0.4759343806298777, 0.5781250264685744, 0.43720681652010707, 0.4350459433410603, 0.5237268653595646, 0.5760586793314195, 0.4737105903082653, 0.4277581291744621, 0.44498667023651634, 0.4630754639801039, 0.4847521470635141, 0.4432107384371568, 0.5227504273882173, 0.37280562918491444, 0.4930225483785594, 0.45080288382466716, 0.6373699018409174, 0.4251870024439306, 0.48764331753806844, 0.4749755385160616, 0.47334933473771534, 0.4688898596557853, 0.48394619267483757, 0.4398902296884709, 0.5693845590644533, 0.46195349915698053, 0.554733089282179, 0.41686092912201805, 0.5275505347514371, 0.5035453541837129, 0.5042377309258989, 0.49761649437036604, 0.4182911212918836, 0.5071589642275833, 0.637849029817142, 0.40827412502573157, 0.5216468236359941, 0.37403732289920344, 0.5145996292424759, 0.5769158370548708, 0.40843479706295005, 0.4926754344327187, 0.42697328415547364, 0.3977063052556597, 0.5588533100126013, 0.4095064232173599, 0.4473470548068709, 0.5739199281794849, 0.4891414095301311, 0.45343248466525377, 0.5170727867298155, 0.5389777887697151, 0.5395791795155234, 0.5109054949594714, 0.5667215571525788, 0.5065726361491414, 0.558633994352949, 0.4669000855770687, 0.5881091194161855, 0.589798884433146, 0.4263873597198085, 0.40888810573135936, 0.519083098618089, 0.4469983883228816, 0.49452446523016613, 0.4581865087709116, 0.5048033382782292, 0.45497899162198363, 0.5184122526138764, 0.5479199991919619, 0.5515304817796106, 0.4903568857799332, 0.5319471395756876, 0.47018221797277265, 0.5391760243593167, 0.5423032301184114, 0.44185688878869256, 0.5401764248223765, 0.5375931249929602, 0.40336820457873, 0.4188485243150676, 0.43566400422235174, 0.4763526616699444, 0.5070518429175112, 0.6199476003015896, 0.5049569894616437, 0.5309004823163683, 0.497703919676047, 0.4813359959597291, 0.5555427343922852, 0.5100997426540127, 0.5474866850494835, 0.476831052228599, 0.4944652130165529, 0.5328092740443253, 0.4614792873962832, 0.43280159672726637, 0.47005546227312056, 0.5377190891584612, 0.5198808758493705, 0.5297078355191752, 0.47723108287312166, 0.5313746805305161, 0.5415376292763945, 0.508528342589364, 0.5645872656996953, 0.5545545596550754, 0.5914578651844098, 0.4140857360177373, 0.4873322679573272, 0.4505120405895517, 0.5005921651948653, 0.4653977111925223, 0.46583027090950646, 0.5785313151347201, 0.4738275362319572, 0.4795207503250418, 0.43286028763063067, 0.48445452314873844, 0.435581721378543, 0.4623591711059015, 0.5452529404466215, 0.4525445512570698, 0.5265664209204235, 0.5218022102718197, 0.5497593357707347], \"type\": \"histogram\", \"orientation\": \"v\"}, {\"opacity\": 0.8, \"name\": \"FD-FE\", \"histnorm\": \"percent\", \"histfunc\": \"count\", \"marker\": {\"color\": \"rgba(55, 128, 191, 1.0)\", \"line\": {\"color\": \"#4D5663\", \"width\": 1.3}}, \"x\": [0.46834862719047743, 0.5370243067759295, 0.4109726862790669, 0.5628277566653855, 0.467804518435939, 0.5377752329414603, 0.4565908155326298, 0.4764286912263276, 0.49143167269970334, 0.5777253582951918, 0.47497243857546406, 0.5503482262174042, 0.4933711934321515, 0.4805980536958856, 0.45656264167235533, 0.4073412532776615, 0.5134873390842739, 0.5463082961013708, 0.4853103674800652, 0.5293573515022708, 0.5236529405685643, 0.5748499548783743, 0.46199980019342823, 0.5325522749821031, 0.4323710900662168, 0.5114145132072203, 0.3926861455205657, 0.5821639376728012, 0.5261314326757663, 0.49095955181451767, 0.4918795889930064, 0.5510890460372813, 0.4114459154978616, 0.4273500434890748, 0.5569869999473386, 0.49267314679076535, 0.4683574755009017, 0.48039257802860363, 0.5628952031331023, 0.4359575776185051, 0.49438309868072405, 0.46524619024390074, 0.3953725725660538, 0.45298446362340533, 0.46301615124942896, 0.5359339809041482, 0.48725261898788585, 0.49065115968282147, 0.5127917100758194, 0.4731572305805625, 0.5482327564005849, 0.4548953838048033, 0.5206476039990255, 0.5419341800414905, 0.5344465594751504, 0.5643390769340741, 0.6016131323514684, 0.5873845242398756, 0.509999757718341, 0.5274581862263469, 0.5355166414982577, 0.5051592259711721, 0.46119262420216933, 0.4297000692434897, 0.5166342391237795, 0.5877696330819602, 0.46493522048109714, 0.4476066337009119, 0.5465037605801335, 0.4228968111717414, 0.44253909034249417, 0.5319859119792798, 0.599051283036452, 0.5331040658930675, 0.4974246015312316, 0.4753826873801352, 0.5526480606200844, 0.46836464660550614, 0.5263518831356407, 0.3776875563506459, 0.5637594365087137, 0.43093899358905297, 0.5065097417437328, 0.5229946929546052, 0.5512353342079538, 0.449050976013607, 0.4869856796963276, 0.5261296692628255, 0.5239243588042136, 0.5726316007118564, 0.5202505950995864, 0.4872140551097359, 0.564481933483112, 0.5423018761304332, 0.5413491128916288, 0.4619268940813862, 0.48538156243580705, 0.503526085876788, 0.48061819623303126, 0.549046343754303, 0.4174916563011307, 0.498456300347258, 0.5345000099782642, 0.5168569208996635, 0.5137778805664258, 0.5224133238091171, 0.4703359574324055, 0.5235503937548078, 0.43420664745024795, 0.523102782121467, 0.48991831197844127, 0.5026549647998952, 0.4756517051405534, 0.4645783397748158, 0.5045821733420219, 0.5135976301714927, 0.47189779536142, 0.5191797105959679, 0.5241295498658789, 0.4534441450522442, 0.47974601265227795, 0.5953757166246292, 0.4894942900350582, 0.5519298063164407, 0.5223990305932305, 0.4688808312212577, 0.48719924846770746, 0.5059405590462944, 0.5052363437899116, 0.49912138167521136, 0.49486843013956816, 0.4747219685479065, 0.46319524350130425, 0.4340259766384073, 0.5017795901232989, 0.5127358496164018, 0.41461329744271186, 0.48930869627461493, 0.46201399742046645, 0.5067936484439225, 0.45628509026220465, 0.49211968592189576, 0.5391153901903464, 0.50254936694727, 0.5381224375298871, 0.5009565057855009, 0.4799611517572719, 0.5668075239541293, 0.5891608385747954, 0.5915119831258326, 0.49665905948411015, 0.5542752198897796, 0.545712653879973, 0.5139293197117024, 0.46466178840943567, 0.5562068592320222, 0.5289977929178087, 0.5713052703373007, 0.4604013871273366, 0.5636299200205295, 0.46582755871144355, 0.5610232367177614, 0.4543477556755099, 0.5175985312819702, 0.5385441965311744, 0.5143225086917587, 0.4956573759132585, 0.4496043990308356, 0.5153919483026195, 0.5387143130370083, 0.536047635120082, 0.4946709774299274, 0.6033373400606825, 0.5191649099181561, 0.5141666037200687, 0.4469477289314024, 0.5265863228782103, 0.3989073240621752, 0.511097779676441, 0.5010960550677799, 0.5092711788593622, 0.49784947857730105, 0.4890165414455886, 0.48986488517195864, 0.5414426661024566, 0.5104488512295945, 0.41937847101504866, 0.440671446199686, 0.5377582399612251, 0.5273232355337292, 0.4988173131408802, 0.4886250502587834, 0.5812130731683087, 0.48549268570134435, 0.569959797427026, 0.5163074965138402, 0.4915429691314567, 0.540250688805604, 0.48317715884182544, 0.5414115799128503, 0.48239693382557797, 0.4621299306567407, 0.5117848286019187, 0.41489144496717645, 0.5045020419251884, 0.559034287701895, 0.48449775756232644, 0.532621794110646, 0.4455680385329419, 0.5040304737155633, 0.516533500417165, 0.5212723482844401, 0.4609741857230807, 0.5221151750444795, 0.5166345227459989, 0.45192646926483515, 0.4920845859995445, 0.41045751386072665, 0.46706442421020156, 0.5025656578490734, 0.5384853938382917, 0.6173939961214105, 0.5966196423031476, 0.482432301734474, 0.49201977199687225, 0.420894327617581, 0.5214578901462242, 0.4672085618321449, 0.4603046384058612, 0.4568728341406004, 0.4596466864995242, 0.43234867192391424, 0.4220702123083366, 0.525404480716462, 0.5317698453318522, 0.5124390138851453, 0.5188930168164183, 0.5253998662723234, 0.5006132991554497, 0.49304804354510934, 0.47670944320962017, 0.4025882009736711, 0.5091903237600339, 0.5081913927183705, 0.4912080792473843, 0.4702198107268205, 0.5485131435237098, 0.5228399763000733, 0.47975098760128176, 0.5318443607270602, 0.4236187290060572, 0.5557331995342751, 0.4882909717859668, 0.4921155550657559, 0.5903844952957227, 0.435097395581563, 0.5687011104442987, 0.5000022040628851, 0.5290493673446973, 0.5476914500814235, 0.485811298323767, 0.5820745452253875, 0.4939345083869088, 0.5768303134043328, 0.5585404158407414, 0.52004527874634, 0.47845001850335, 0.5400858220424971, 0.4591161351984273, 0.598042869530357, 0.4753921076677564, 0.5954633888906977, 0.4927195545326289, 0.44732841301630377, 0.550753522166634, 0.46477699809883966, 0.5049272878652835, 0.4176856246630885, 0.531164855749798, 0.5084459255723951, 0.4780535565053308, 0.5483400597176837, 0.47281780191478895, 0.41157675089437495, 0.47468336467623296, 0.48272257510493843, 0.5031096228204016, 0.5314947012064862, 0.5112317013670131, 0.4136206466026743, 0.4947407916846362, 0.48059506234772525, 0.4707530533578236, 0.5900200124735, 0.49405660007825447, 0.39520237659886903, 0.47137387311992396, 0.5742932574531472, 0.5633650397731279, 0.5031129075137378, 0.45466594559807677, 0.5472633365861225, 0.5162102937521993, 0.4598122188015483, 0.47358608471380076, 0.5082606582414336, 0.5210772112944121, 0.4442978269944138, 0.4986688750405863, 0.5378592946146219, 0.512408205179792, 0.5191177238252299, 0.4883921154950439, 0.5276924754596685, 0.5534691187375809, 0.48474714440869027, 0.4392357796906685, 0.4491550772052944, 0.4566750897934697, 0.5093572886158573, 0.47329575319211825, 0.5574578784398517, 0.4764167091867901, 0.49606636852775476, 0.4374541223591654, 0.422880732118849, 0.5161208449051602, 0.5096246285564179, 0.5317824915388318, 0.5141647412091551, 0.5908405098457834, 0.5836327401850591, 0.4600776320134352, 0.4533177022060778, 0.4425900906321022, 0.47536428465150005, 0.4830057991109915, 0.41370365276019816, 0.4617658725450847, 0.5044566038794973, 0.47032262619134935, 0.5074523819251135, 0.503725547727108, 0.5501350821234146, 0.461541926241567, 0.41387158325899964, 0.5415378551883985, 0.4975094880271108, 0.5496089448848903, 0.5184812605526838, 0.49223725808141283, 0.47227962048960037, 0.4856560120938085, 0.4530089781126927, 0.5169930525535054, 0.496750967907582, 0.594833435321489, 0.550533561119932, 0.49572344995934847, 0.5490920528901595, 0.4701887318172676, 0.4669663913229894, 0.5302066753167464, 0.4947197435978626, 0.5115410286943477, 0.4414008666957173, 0.5451170425679805, 0.48081056357427654, 0.5004916091669527, 0.5389186311943523, 0.4913275549498816, 0.5207176004157288, 0.5696551819926091, 0.49763988672323844, 0.5328260726342144, 0.550061850645269, 0.4791511850137704, 0.49568111572943085, 0.4511527622671041, 0.5526483464035081, 0.5878371525094627, 0.4864604487032507, 0.5634008572877699, 0.5345986075867419, 0.55014246565632, 0.44200314372651617, 0.46227073028366344, 0.4221500914717817, 0.44115576552479274, 0.5081591539521623, 0.49121209930175347, 0.5123563383381523, 0.4864518846926375, 0.5114907097992523, 0.4699230785422356, 0.5808336033892113, 0.4763825319660684, 0.5051881585906066, 0.42328748366454555, 0.4445173699159609, 0.4954128003639336, 0.5293842201394019, 0.4906211194746133, 0.4736614075238618, 0.43148568873245985, 0.4473963472060313, 0.5734842912769917, 0.4977842835294375, 0.49818750739723794, 0.4641442322679709, 0.37775431645026913, 0.5091465188329594, 0.5243843544805563, 0.4918235751982528, 0.5181243148029835, 0.5374821098880256, 0.5634907364978543, 0.49374740619855073, 0.5115806060381092, 0.5057300689758347, 0.48613670247860297, 0.5048991332168775, 0.5746060535913365, 0.4812588219175358, 0.48843427468803957, 0.5036092492406714, 0.5109290478503672, 0.4085265185773158, 0.5766826686416616, 0.5035670176725441, 0.372166836569483, 0.5434071121432867, 0.5145559157642515, 0.41861461040774806, 0.48679398343117286, 0.45375170731612346, 0.4609867080436488, 0.4981223464664828, 0.4629677457782302, 0.45658849244830807, 0.49063844035031984, 0.4709590321155873, 0.4510858917903686, 0.47349555118725206, 0.4409017870880171, 0.5853561824028182, 0.5641437821545829, 0.4863225854742742, 0.4940558640312277, 0.522357915748239, 0.5288612281912157, 0.4773105647125211, 0.5006031120534551, 0.5243465296750587, 0.5522447786064846, 0.5032443942359422, 0.36915024971459515, 0.4860438750119539, 0.5260419363372715, 0.5178340469899596, 0.3995180259099959, 0.49375865931042895, 0.50089764486632, 0.506632737972091, 0.48984202729462734, 0.4845100958819889, 0.44541113163583856, 0.4908246287929987, 0.5148222479212767, 0.5150335358649056, 0.6030988176342568, 0.5878223681320536, 0.45050332710831537, 0.5604648119632694, 0.4478856363673789, 0.44566889166568935, 0.5520173507250318, 0.5032579700849668, 0.425462466734678, 0.5073036280348243, 0.4228036490609429, 0.45103248059215273, 0.49126130022289816, 0.500475857147697, 0.516528214816552, 0.5151034065489888, 0.5124780810033703, 0.46122248204301153, 0.4847700899720959, 0.448084667287986, 0.5018014842895581, 0.5145066361441244, 0.4743883849422371, 0.5078873426892495, 0.4744343914549666, 0.4210490221120731, 0.5801365229105593, 0.5404567563793208, 0.48552885923507133, 0.5840799926047753, 0.48995431171308174, 0.588316433532883, 0.6121142681112017, 0.4147566852707708, 0.5001799171815129, 0.5419971556255383, 0.549866538397523, 0.49917793599570415, 0.5223335641646785, 0.4855993373987404, 0.5317932632540973, 0.5548585860177053, 0.5022130613050562, 0.5620098316273784, 0.5322259977510875, 0.43782865494171175, 0.5065158613414262, 0.5505038442992234, 0.43979919586311933, 0.5553180113841341, 0.5477370051468335, 0.4659064745801413, 0.4774433764600807, 0.3807177077875551, 0.49792679160034753, 0.5570807536117173, 0.44499229739763557, 0.47678732218755343, 0.5236392767481188, 0.4971434348456334, 0.5013370965438568, 0.524690418337243, 0.5789618836606188, 0.5237695375775627, 0.48549123999177296, 0.45492713335966894, 0.5256412820821308, 0.537967736862963, 0.49576593398939117, 0.4801188880844735, 0.49845584317901687, 0.48489364670065715, 0.5384193994004848, 0.4849342621990935, 0.4930505150512139, 0.5023906859365139, 0.5535438723334709, 0.5163111470256744, 0.4782346337755604, 0.45148988086212, 0.5181459377959047, 0.5039621019108247, 0.5074326399713007, 0.47134484144087896, 0.4907386462841966, 0.5787830581258775, 0.44575229758028045, 0.5336403203560838, 0.548403444599151, 0.461498330590361, 0.5787255023960504, 0.4707068753286523, 0.4452674827280422, 0.6122131678339815, 0.49901695208410835, 0.519821210949485, 0.44009132438941584, 0.39422365297083695, 0.4218677624928157, 0.51220681803597, 0.4963171384363052, 0.5192960034763237, 0.5331509561437033, 0.5438560376492956, 0.4791945356862127, 0.538001399628939, 0.6044789939370094, 0.5904311579350207, 0.5264291552059681, 0.5486775739391098, 0.5512427250745953, 0.471319177978303, 0.49595228835101096, 0.3688792223954294, 0.5347726177609077, 0.45576979078306923, 0.5492699084436654, 0.463727143438491, 0.49767482503539673, 0.4773737671931171, 0.5273739782640392, 0.5027337106198894, 0.49607552379802883, 0.5103401983022473, 0.5016680527337825, 0.5557358468018225, 0.52217609635932, 0.5134644967893213, 0.4926630357146775, 0.531722379347954, 0.5300951413364914, 0.5602839357148139, 0.501705420227082, 0.4745838807822328, 0.4827054553762328, 0.458237301199454, 0.43532074546537536, 0.5020244855685528, 0.42109722851537174, 0.47700545843124753, 0.5585853564960807, 0.42001954328404945, 0.5134158242985742, 0.44160702872190416, 0.4908035206736743, 0.5141239374551518, 0.5751817793336199, 0.5635166810075014, 0.5311180528513657, 0.48279750851051517, 0.5695798248965419, 0.5763385832232133, 0.4911857640040919, 0.47440300281888487, 0.5479371028578123, 0.549996760661114, 0.5556761474308008, 0.43593438595860423, 0.5197394229946654, 0.46574486270953014, 0.4459723265457007, 0.4671348269040474, 0.5133121083281706, 0.537374260256295, 0.4498983096986129, 0.5231961639309111, 0.47174691247674505, 0.4415594223482925, 0.5151369873769825, 0.497716206314477, 0.5617657874079122, 0.5327490694040946, 0.4353409483394588, 0.4396564630614304, 0.5119643503144751, 0.5200853282496971, 0.5998953926443038, 0.5034158976105311, 0.49514959035327466, 0.5276689985239402, 0.4973706584062587, 0.47944137272193255, 0.520049571317579, 0.5949172857929932, 0.4595094656095511, 0.4445872001635053, 0.47216129226644343, 0.5202622700747079, 0.579276467282986, 0.5629653661169525, 0.4868127460568689, 0.5269931883999867, 0.5231056121816229, 0.5249534165493801, 0.5221014796778697, 0.5756421470165853, 0.4754511685839114, 0.5423653846595344, 0.4743616680620176, 0.4669153503603065, 0.4610121886925413, 0.4619614483512202, 0.43396134327985997, 0.537561946015195, 0.5043916894551064, 0.4388628660409213, 0.5137727225646946, 0.5073304184051352, 0.47931049364627254, 0.4506509830571538, 0.45659543915596335, 0.39917660265530186, 0.5027108152353831, 0.5489267409578684, 0.4788854858960927, 0.494830527228471, 0.5939674527197429, 0.5022817668368809, 0.507014595422569, 0.43658238173590264, 0.553088983008875, 0.5144365933762565, 0.4942966249401215, 0.5148852473279872, 0.6170794763289129, 0.46050689313750076, 0.42948487375555433, 0.5199867122832103, 0.459891711489384, 0.5121379356531238, 0.5267335551220219, 0.5250470633270826, 0.4772073691155261, 0.47864527888930486, 0.5076610497729874, 0.48040416046879486, 0.4619870817737236, 0.5127800543187276, 0.4872767093503424, 0.45018154128028653, 0.453552620181713, 0.5101335343837835, 0.4186706351175351, 0.47485596602917757, 0.5013394518099477, 0.4876763227328496, 0.486678268141026, 0.47806612273082777, 0.4497128092616073, 0.5423775493505927, 0.4922780150731171, 0.47883935041183956, 0.6065569822062482, 0.5161448066167418, 0.4973992035432898, 0.5623671537239697, 0.4747077528591945, 0.4619683669016935, 0.5071444388540766, 0.4694676701274346, 0.6111735037688251, 0.5049465009664409, 0.463365845497523, 0.46686937220327757, 0.5513240258801049, 0.48831536284924915, 0.4472560578321356, 0.42768237464442943, 0.46641909847945956, 0.5303547824916333, 0.49224422131192586, 0.5119699106024708, 0.5510370722203644, 0.5115747184706273, 0.4804960912972415, 0.5387221421861537, 0.481051310725312, 0.4662811357057528, 0.4924861442500047, 0.5336018786382388, 0.5536214910430655, 0.47326639035522816, 0.4804512995237725, 0.47036300490985616, 0.6118263960608634, 0.4890667792475323, 0.5406707252882186, 0.45056347065018804, 0.5141329940777744, 0.49879861216914534, 0.5320243379457186, 0.45134182850181837, 0.4858410331089998, 0.46531365437870587, 0.5272290762833982, 0.5860130354266208, 0.522588462158668, 0.6239121946091795, 0.4867616078559851, 0.5442675690836318, 0.578564148332143, 0.5440775888506044, 0.632712795115659, 0.5147164590775404, 0.47905145835419927, 0.48353796788343983, 0.4651756427570099, 0.45407256128659346, 0.4821277085855585, 0.4811451554227216, 0.4764534075274934, 0.4531125165156415, 0.47309125806242225, 0.5343571463073086, 0.40682845481030244, 0.49851753401244786, 0.4781585105361834, 0.46786852366214515, 0.5303172838394872, 0.5514751087391423, 0.48242794956716106, 0.507639183151386, 0.4906348089165846, 0.4883065014713166, 0.571762611499032, 0.5093714312981725, 0.4385471573295164, 0.48909740627594933, 0.41869364708155243, 0.4884541048117169, 0.5116561389292579, 0.4936420128218878, 0.5079318113443925, 0.5341720033597068, 0.5400496501779897, 0.4904972954647171, 0.5001348134085865, 0.5003221223460186, 0.5137673192740624, 0.45080104361068607, 0.5047226989155917, 0.5309584736798332, 0.5761501831040602, 0.5177732796769683, 0.47942012364730413, 0.4906883651657989, 0.5301309461151973, 0.37052735425233213, 0.4806572917664712, 0.5178361960013226, 0.5171168024897779, 0.5698593081837812, 0.5576050070913179, 0.49358116801513496, 0.48170212706441273, 0.45778252965690786, 0.5831888536027481, 0.4498381885634655, 0.5389403811444352, 0.521393816103942, 0.48840418957762727, 0.45874590751720806, 0.45113236564472864, 0.4702521211760827, 0.5509055758918973, 0.5054346272619152, 0.47156493598079796, 0.5525575510218044, 0.5143561147100693, 0.4466365525032603, 0.48676716415172827, 0.4961393814804439, 0.5283858993306958, 0.5396950340714073, 0.4796008204006882, 0.5307960827521809, 0.45623943920827387, 0.5513286273231044, 0.38278940741095924, 0.5221602435320286, 0.5109150555302809, 0.46924878503957446, 0.4579877081150141, 0.5096936153172075, 0.521837833984113, 0.4361669141428786, 0.4889981566187708, 0.5168655462098806, 0.44495381764528785, 0.4937676191112761, 0.4659785838195422, 0.5005292486370395, 0.493322402901082, 0.4444453955415536, 0.5424817057065687, 0.5160637298913663, 0.5216094228614327, 0.560129383128047, 0.4610773025664016, 0.5002736135998382, 0.4504597829359011, 0.4284089782854488, 0.4432662903216157, 0.5829868116008079, 0.47377263182035023, 0.5436365845963302, 0.44418379952021914, 0.44586103073467664, 0.5213362250049998, 0.5699084987582311, 0.46053210106519094, 0.4496481145486466, 0.45369990215400324, 0.4697473940359745, 0.4856377247769769, 0.47670864700103943, 0.47175111013181054, 0.3963623707150099, 0.48120791524594725, 0.4673730114217064, 0.6113905462643221, 0.4294027797169818, 0.4924162642130958, 0.49831088527243034, 0.5032373412234992, 0.4543172756616233, 0.47927450266072924, 0.44607101433183455, 0.5190041883550653, 0.4991965797104437, 0.5544009197539022, 0.44072518202013466, 0.48683342295804927, 0.5056035511429011, 0.4928505028468, 0.4838847754732298, 0.45620612054729365, 0.49296465474576084, 0.6305966995989931, 0.4193041841064127, 0.5106302519885135, 0.4080076657589554, 0.4922721543624315, 0.5557273319548099, 0.4161545546921983, 0.4836955373696276, 0.4417669537638547, 0.4238523360916235, 0.5391307918825811, 0.4420373015716952, 0.4622149694051818, 0.5331983906701945, 0.4915111246956014, 0.4592679842251183, 0.5214238309731153, 0.5267106767400288, 0.5359615642728154, 0.5249887604048914, 0.5373478860143256, 0.47362523834573633, 0.5413893201379666, 0.46606246161038084, 0.5571624167825984, 0.5629660336513902, 0.41366279801079736, 0.43633487645049884, 0.5229678365201403, 0.46867729052755913, 0.501748707538391, 0.4591829771420036, 0.4962409414999886, 0.46935583473473463, 0.5033680309262094, 0.5438974317690537, 0.5542059735037974, 0.4786666520264041, 0.5202812957588655, 0.4500984378149205, 0.5178310688311494, 0.5356046871145286, 0.4358481805505346, 0.54705817141173, 0.5246844558816498, 0.42124339697692215, 0.4283962448999938, 0.45938215278271444, 0.4616712957897904, 0.4962670062747906, 0.6285223608013533, 0.48751938510542797, 0.5337083205756818, 0.49050793475455423, 0.4837006841470187, 0.5168314938018262, 0.5084515572781971, 0.5217958629483295, 0.4909399927024046, 0.49224168505115407, 0.5288302761678634, 0.46161046465072997, 0.4430390510890796, 0.47400825148221426, 0.5616159677934314, 0.5015031231016561, 0.5468982954241002, 0.5008453951359025, 0.5359362505554691, 0.5424929765418219, 0.47598070303059026, 0.5665300863160252, 0.546354606740589, 0.5804528623521242, 0.43460157809833544, 0.4740238000571836, 0.48303785787126163, 0.519559262843397, 0.4736808716970232, 0.4604489784961455, 0.5524523558107272, 0.4963760161288426, 0.5059058665354826, 0.4439524630869339, 0.4932770104231459, 0.45398977873955887, 0.47499754394124033, 0.5336902525237621, 0.4788029632341157, 0.5241342854800287, 0.5294714727228327, 0.5129002197236027], \"type\": \"histogram\", \"orientation\": \"v\"}], {\"title\": \"Overlay-Histogram for RT mix and pure, true beta = 0.5\", \"paper_bgcolor\": \"#F5F6F9\", \"plot_bgcolor\": \"#F5F6F9\", \"xaxis1\": {\"tickfont\": {\"color\": \"#4D5663\"}, \"title\": \"\", \"showgrid\": true, \"zerolinecolor\": \"#E1E5ED\", \"gridcolor\": \"#E1E5ED\", \"titlefont\": {\"color\": \"#4D5663\"}}, \"height\": 587, \"yaxis1\": {\"tickfont\": {\"color\": \"#4D5663\"}, \"title\": \"\", \"showgrid\": true, \"zerolinecolor\": \"#E1E5ED\", \"gridcolor\": \"#E1E5ED\", \"titlefont\": {\"color\": \"#4D5663\"}}, \"width\": 1116, \"titlefont\": {\"color\": \"#4D5663\"}, \"barmode\": \"overlay\", \"legend\": {\"bgcolor\": \"#F5F6F9\", \"font\": {\"color\": \"#4D5663\"}}}, {\"linkText\": \"Export to plot.ly\", \"showLink\": true})</script>"
      ],
      "text/plain": [
       "<IPython.core.display.HTML object>"
      ]
     },
     "metadata": {},
     "output_type": "display_data"
    },
    {
     "data": {
      "text/html": [
       "<div id=\"59ce8dcf-16a0-4416-a562-55c2b72735eb\" style=\"height: 587; width: 1116px;\" class=\"plotly-graph-div\"></div><script type=\"text/javascript\">window.PLOTLYENV=window.PLOTLYENV || {};window.PLOTLYENV.BASE_URL=\"https://plot.ly\";Plotly.newPlot(\"59ce8dcf-16a0-4416-a562-55c2b72735eb\", [{\"opacity\": 0.8, \"name\": \"FD-FD\", \"histnorm\": \"percent\", \"histfunc\": \"count\", \"marker\": {\"color\": \"rgba(255, 153, 51, 1.0)\", \"line\": {\"color\": \"#4D5663\", \"width\": 1.3}}, \"x\": [2.046687076023067, 1.980969322438765, 1.9904102412920215, 2.0066146712277746, 2.078945545031787, 2.007057205483351, 1.9374549167913793, 1.8637381763612857, 1.978674240481471, 2.03812637857824, 1.982925779203404, 2.029729223974462, 1.9567952106055149, 1.9722390658597233, 1.9439173058279002, 1.9409884019658443, 1.9411659493523805, 2.0421216253268955, 1.9131111996152754, 1.8997387062456819, 2.0192843227038386, 1.9690638983936473, 2.025742247265642, 2.0348909986672257, 2.0116101779495947, 2.0469644259718542, 1.9644652527420057, 2.0630576874342825, 2.0482708285191285, 2.085308089162269, 1.9259064352141857, 1.898913648196851, 2.044331552248565, 2.047106328812252, 1.9689076872146278, 2.075132464679094, 2.009201259501145, 2.002476512071036, 2.0201903067229607, 1.8858342650824331, 2.0259233743165006, 1.9807784529053931, 2.0083998184286305, 1.9192510322763416, 1.9545181177301778, 2.0931777555779485, 1.9758909747294413, 1.9900477378129047, 2.002926093458882, 2.0691145229702137, 2.0296055066255576, 1.943726267834351, 2.0091303659519046, 2.0520839530755994, 1.8822138759459395, 1.961517823451691, 2.060087920963184, 2.021736849198173, 2.0090893624722614, 2.0083506006549197, 1.9122753199293778, 2.133002769821389, 2.0487700066248244, 1.9440959453275073, 2.045595391412024, 2.0455846884851145, 1.9783166235649319, 2.0581313857019414, 1.949080982031555, 1.9470406046683226, 1.9989289294072805, 2.014641834538459, 1.950726494690481, 1.8435940043579757, 1.9377428807904633, 2.0383341413965654, 1.9472125108008305, 2.03126661617702, 1.985660879350308, 1.9646038142216917, 2.032022100725751, 1.995963619083987, 2.005432719795925, 1.980579999089552, 2.105438468244424, 1.9819963305002988, 1.9975318571814795, 1.884347610268032, 2.0273090537343412, 1.9506997897648308, 2.0076487106749674, 2.045122483473663, 1.944594478539531, 2.001082488960688, 1.993167731197047, 1.926843738808165, 1.9626189734912964, 2.1614031393607576, 2.0432811320277375, 2.0879985493840882, 1.9407751933804764, 1.9792014404173561, 2.011176884193385, 1.9991598891054527, 2.0883414573022985, 2.0124890515691667, 1.984261262145699, 2.067298792437521, 1.9669741851463545, 1.965170202812126, 1.9835574051488667, 1.975771810383364, 1.9520667368501872, 1.984381843198105, 1.9772514285306337, 1.9119775861016897, 1.9976421148378063, 1.9239970713581078, 1.9419234023630292, 2.0842314238940904, 2.001653215081518, 2.0336433100427644, 2.060342472604588, 2.0102226191803467, 2.068694125241435, 2.018165515979007, 2.055790612429472, 1.9703032510985605, 1.9879648532091123, 2.0567016338543804, 1.9958917430516827, 2.018987902216314, 2.1221113639466287, 1.9633565875909553, 2.00485129239366, 1.9955298129089365, 2.0038425633068115, 2.1080208674797203, 2.071440457790131, 1.976231544028043, 2.0332707713679365, 1.974596414158854, 1.9734949314609924, 1.9835307523939707, 1.9567864368216055, 2.012563193177134, 1.9792553764166243, 1.98971769571124, 1.9585866951500392, 1.9664868903031976, 2.030183724195334, 2.063802847766187, 1.9971193410938803, 2.027000877799126, 1.9788333732640895, 1.9536638721073516, 1.979099240650708, 2.068400361015191, 1.9195969539121533, 1.9871379918192238, 1.9278693829673408, 2.040228125869212, 2.0134957068896924, 2.023973119523617, 1.9745050124723624, 2.054211847683878, 2.0056988897660117, 2.091019807505062, 1.944163506313437, 1.987189284777298, 1.9411342393881232, 2.007956071549617, 2.0354493384186907, 2.0151881303545904, 1.8956405589387404, 2.073431070531374, 1.9820420512054684, 1.9609080217398944, 2.0694821959810596, 2.0027643462790756, 2.0270944696084214, 1.92999300338489, 1.9632199200545004, 1.986001080139897, 2.014465846866909, 1.956324275588463, 1.9245140775672245, 1.964515549563141, 1.9510558539485865, 1.9783493977666684, 1.9174557042684455, 2.0251672818029753, 1.9400842404020642, 1.889046292422245, 2.0242378037360105, 1.9606888834379856, 2.0759626469891774, 1.9313007760338798, 1.9876272595675015, 1.9557966992332485, 1.9789088305187916, 2.039505057356433, 2.0223691072012415, 2.0374518656104814, 2.0124974359291974, 1.9977556328858084, 2.0071610111399414, 1.9423870346631167, 1.993001636017204, 2.0143927306062213, 1.9518425622645905, 2.023279287522232, 1.9409366536459705, 2.0249150493573462, 2.012865321308251, 2.0596401866494594, 2.037634770959505, 2.1007598122342452, 1.9994991840482494, 2.1023940511195915, 2.100414694279039, 2.033123767612114, 2.003634745301778, 2.1191134028860166, 2.002880737694599, 2.0052882370920226, 1.9340481917135368, 1.9658398351651951, 1.9374330535070021, 1.8759999793668074, 1.9405782041271207, 2.02745780482702, 1.9753783050321212, 1.9880505984459165, 2.170788525256482, 2.0774702228727135, 2.024874958164494, 1.9690517507910343, 2.055273700269667, 2.0723440708483727, 2.078778851517834, 2.0677517193068295, 1.9557639994494922, 1.9880337310491762, 1.9864700828872361, 1.9740504899218614, 1.9811611521115802, 2.0439441738543778, 2.0663352447336316, 1.9513455837680411, 1.9676040521594729, 2.010844442357302, 2.059862545098362, 1.9525349286507288, 1.9432904977733, 1.9993320476613163, 2.0642808267497337, 1.9894980099658461, 2.0566868083428185, 1.9920587969661154, 2.0723307131881334, 2.009816448815676, 1.9876320660601379, 1.9756025600113667, 1.939854494714869, 1.9557434408856829, 1.9585696384210813, 2.0359111539623744, 1.963418251254197, 1.9793745512843837, 2.0416935721149083, 1.9978964557903058, 2.006999360784453, 1.9981532749930668, 2.1497682475750977, 2.009859647023158, 2.058766394430317, 1.9523988165676236, 1.9574738799738478, 1.9188993113694146, 2.04949687395453, 1.9194889887684385, 2.038509794541847, 2.0292405843382078, 1.952983644160318, 2.017319295873277, 1.9285554013397763, 1.8886201672459861, 2.014844733099388, 2.0397469153509062, 2.0787031324394816, 2.072539773995099, 1.9464022947908641, 2.0042458795666063, 2.0868110224325713, 2.005104805355585, 1.9982363385136321, 2.0051895240870543, 1.990833086306622, 1.9950236901975604, 2.011634405957996, 1.9865425490220123, 2.0060225981006434, 1.9926151248819384, 1.997139008452621, 2.0889303404357564, 1.9453767603752188, 1.9465355043051091, 2.0172879576383806, 1.930690603654741, 2.0240361732625733, 2.0250883377399043, 2.049799109495394, 1.8721037218069843, 1.9580834171011354, 1.981051198053776, 2.043601596445455, 1.9402992617424593, 1.9060297752198228, 1.9689169612364195, 2.0544729852333448, 1.979932277176438, 1.971395450321018, 1.970331682578418, 2.024139510313618, 1.991954120024368, 2.002366105886674, 2.0907963609190183, 2.022650870690034, 1.9952020267639057, 1.984327953779741, 2.020915591420963, 1.9646326678872992, 2.0236330369190925, 2.025581783395841, 2.042378353869239, 1.9733111866359891, 1.955099831394878, 1.9977621940318593, 2.0932346416452896, 2.054840172079828, 1.9857408766225344, 1.9623355750540814, 2.042625413845826, 2.0333996895932396, 1.946462244397115, 2.0169617961786734, 2.062164137669904, 1.9877091139709488, 2.105745588171982, 2.0550640265250273, 2.1039030361265767, 1.9617288817311724, 1.9769467279249526, 1.9477041554900474, 1.9331688591912015, 1.9530750143839481, 1.975545317793175, 1.993081188534386, 1.9978006261111005, 2.101364056555904, 1.989409010658379, 1.9889166462497543, 1.9289501115464933, 1.9187706450228172, 1.9848546838519479, 2.0212614826070157, 1.9472950763014247, 2.0077402885377964, 1.8940779505820677, 2.0459238336107846, 1.9788481611046231, 2.0031862993206424, 2.0723949488991282, 1.9832552289545433, 2.0774971918471055, 1.9387517540495849, 2.002559819931059, 2.0626664109242596, 1.9619929000986582, 1.9518267661478057, 1.9733407333193247, 2.0318485966307875, 1.9644219991188774, 2.0042354744408226, 2.1817987109632573, 2.0122243568239444, 2.055073882348192, 2.000954074898749, 1.8842549856344193, 2.030789425901519, 2.044524277997497, 1.9768789760256475, 2.0752233255262205, 1.9463547423584677, 2.012212498562109, 1.9820163141929446, 2.040013750116241, 1.9986713944702497, 2.0091934998003977, 2.008071175762196, 2.057347254356558, 2.0494638203377207, 1.8887013697217538, 2.017407132907167, 2.026969805525064, 1.9617979494822035, 1.985120824051948, 2.0148506507865545, 1.9828703266654921, 2.0292706630587647, 1.9667936638437493, 2.0316332655713225, 2.017448499158334, 2.011596543528059, 2.112285406363118, 1.9689873113401803, 1.951983648391733, 1.9920961013790954, 1.956928979938486, 2.067757425302845, 1.9523498648574091, 2.0038767422822636, 1.9950036004823357, 1.9586756211057033, 2.088316648797387, 1.9573144879348443, 1.983004307160731, 1.9947157664721673, 1.9884522769654347, 1.9819636831661294, 2.0080084880296507, 1.9718495494655344, 1.9962342633309398, 2.042928370517683, 1.991668480096811, 2.0184797677034485, 2.021497190622345, 2.0220400877525693, 2.0584157445527396, 1.9681505396785406, 2.0271390719951827, 1.9124049256329618, 1.9802848511501412, 2.036704186461325, 2.016613113825361, 1.9918774932472836, 2.1049278313589803, 2.030936241160113, 2.0579544573038886, 2.0320841923109403, 1.9887821741432425, 1.974989825215476, 2.009295004098868, 2.0191177147850476, 2.0166108760550703, 2.039284910673821, 2.041591274452921, 1.9722647571470233, 2.0167950061494686, 1.8804923313592523, 1.95541608757532, 1.9300192171269828, 1.9766766521786852, 2.001698980984564, 1.963862572317315, 2.0026765753827345, 2.091448674325008, 2.068966151159654, 2.0495412301620366, 2.0019969045857673, 2.037788658343196, 1.9862510119890513, 2.0263704121744537, 2.0664605101541125, 1.9752519509713982, 2.014871197119872, 1.988738220226574, 1.9271323307209793, 1.977076095441152, 2.044585038240969, 1.89803796134607, 2.0379348056306785, 2.026768571165512, 1.9815529266185075, 2.0320782905954426, 2.0554316715242598, 1.9939654325047664, 2.060159310268853, 2.0775030937337466, 1.997393383504488, 1.8406878947899257, 1.8894197715965997, 1.9333489737187417, 2.031412504302816, 1.9784185547091648, 1.9750634736181927, 1.9124050310262661, 1.9536538968527895, 1.9365720244757236, 1.9952045824735802, 1.9867776760973923, 1.9970650743684755, 1.992588195646208, 2.0977232987808443, 2.059827031925803, 2.0243617335730706, 2.049535475432717, 1.8964862820721757, 1.9570540894611814, 1.967649352363396, 1.938178177956229, 2.0302506705116286, 2.068759656125546, 2.0688459549895635, 1.9709543388767778, 1.9993507793457395, 2.0310130035554708, 1.9997067008637164, 2.030887425802759, 1.9826581647696753, 2.0458887834419315, 1.9743122685661592, 1.9335463163027198, 2.107798604714809, 1.9420736444554398, 1.9980904260782273, 1.9445194379482835, 2.0322636079728285, 2.041203593749941, 1.9264014364660345, 1.9825309142847587, 1.924286574507251, 1.9875004391270081, 2.036977377257009, 2.0580831462983467, 1.9190808116981857, 2.0018075932148496, 2.107946676603974, 2.0590053985732184, 2.0394691728021495, 1.957314129938733, 1.9916446348192627, 1.9673198084321963, 1.9744847242186672, 2.0365738083360148, 2.00495823587613, 1.9313269245865987, 2.02278252251397, 2.013003844013478, 2.0403730708628007, 1.87289319794337, 2.054390505337566, 1.997185431362935, 2.0292498575109947, 2.031685641307708, 2.017107291969026, 2.008669660321814, 1.9785070497046597, 2.003051721403378, 1.9959341071476682, 1.9486162364269812, 1.9567637922423633, 2.043434508631503, 2.079804742255071, 1.9215237485874295, 2.0056001411014694, 1.9650304648252237, 2.05505407459349, 2.042434794237807, 2.020011163358141, 2.031985314992167, 1.9675727912841499, 1.9307915877452932, 2.04809603420668, 2.0274742987602483, 2.0393743910260644, 1.9181848482401893, 2.0164477732598525, 1.9942221106984788, 1.9483031680180158, 1.9656018936875301, 2.0286657888786657, 1.9675618869227498, 2.0006604923254976, 2.0129250184010674, 1.9819805908277672, 1.9548776261586427, 2.072783574387942, 2.0347690960414586, 1.9707120673422156, 1.9756596149635088, 1.989140153051574, 2.02588565580554, 1.9473036476383112, 2.022613807627855, 1.9220235530748675, 2.009299041250681, 2.009225745473132, 1.943422991722052, 2.0946605690157325, 1.9728322606262931, 1.9202407182030385, 2.043475636015046, 1.9798987708146436, 1.951344050558656, 1.9055843334342377, 2.0161851898634753, 1.913025647112809, 2.003775167663313, 1.9504332587639681, 2.0407334612907664, 1.947379291606096, 2.0788237222343016, 1.9755797744688217, 1.9307640020790076, 2.051611822832982, 1.9947583212153117, 1.892327654549359, 2.012325186886537, 2.0003418233830956, 1.982852160477714, 2.0043251909716284, 2.036551183861465, 2.011054421583487, 2.071031809054972, 1.9846317646671938, 2.0082764974817398, 1.9205986718002348, 2.002792588277159, 2.038769524724752, 2.016343343086252, 1.9813715260504552, 2.0170073922892184, 2.0443910348830183, 2.0353536883808223, 1.996865194135073, 2.019923514759364, 1.9091628893811432, 2.042715250845905, 1.9751298455720347, 2.0068165482552143, 2.033358256453173, 1.9739739570850627, 2.0371527058197434, 1.9849813911400012, 2.022944238445546, 2.108485516542468, 1.9795787429803993, 1.9587905876702525, 2.058062464075328, 1.8787528444782802, 1.965455643732054, 1.9723806077499493, 1.9368997269998405, 2.0529634293214314, 1.963180451082006, 2.0344779924588288, 1.9450135480902322, 1.9285643340243606, 2.0424743917568966, 1.9800025291776606, 1.9534959566727257, 2.0651422299178908, 2.0829823611869136, 1.9241311309938776, 2.0251967357029774, 2.0172547662478224, 2.084043008334931, 1.9858383930290078, 2.0096297766036884, 2.04654358177985, 1.9779841927163, 2.0301347744884533, 1.987755888908916, 2.0291306026878693, 2.0199242343886072, 1.9291162564829962, 1.9553486827609166, 2.0367559896008967, 2.0158927522860624, 2.0510870975462643, 1.9055437652210352, 1.9132338982933548, 1.9741470982789442, 1.991762832296251, 2.069560829933611, 1.9484110417936908, 1.912987884360492, 1.9046820576803065, 2.018817209972215, 1.989961837895838, 2.0143528570934226, 1.9817089773877243, 1.895562546482747, 2.043698380479741, 1.9856948033668282, 1.9849823892245322, 2.0511661898010187, 2.0318683815074463, 2.056598191824129, 1.9117690306092348, 2.1383380606010314, 1.972303285443042, 1.9905813525413873, 2.004341923625355, 1.9820113916723332, 2.0974430243380495, 2.016362362890888, 1.9864751653207526, 1.97448680469454, 1.9831979318295205, 1.9917921173367932, 2.03822331712941, 2.087671797060035, 1.9191121240674738, 2.078976759625582, 1.9100774528843056, 1.992787124935088, 1.9356795196365812, 2.1480990514944382, 1.9299394119681594, 1.9953394346022852, 1.9661169669339367, 2.05145983817148, 1.9992576364681103, 1.9824635587094388, 1.9860772722726263, 2.078090524893049, 2.0878239186993857, 2.0810786537037673, 1.9997945570514937, 1.9901525887180953, 2.0581893062541825, 2.041503214893027, 2.03510835445691, 2.0773217615619646, 2.0326265389095615, 1.9855448945795515, 2.0264585377911004, 2.0318322614148725, 1.972838974189797, 1.88860689869143, 2.025297206159757, 1.8707447831368316, 2.082645961171825, 1.9910404744657533, 2.0290034463214557, 1.9724114229724283, 1.9890524190639354, 2.0936508359595436, 1.9767932575849914, 2.058312842504322, 1.9894243690361666, 2.0701098240994518, 1.984696561917087, 2.00451121052441, 1.9430171064536452, 1.966982998092957, 1.9824956951653232, 1.9478183218516734, 2.0487107656088006, 1.904656712038788, 2.0116053972168317, 2.0031824773373663, 1.9988340048474056, 1.977856418750318, 2.0828591276694626, 1.8557914558662993, 2.105883767242908, 2.056709705480455, 2.067878837047494, 1.9196976849862977, 2.0402462966666475, 2.027550765257995, 1.9005373632494744, 1.9250104975641253, 2.0670666967933355, 1.969218582133067, 1.967039885258572, 1.969267771063631, 1.9259722567546609, 1.953267548038979, 1.915254578211139, 2.026834505500844, 2.022414053669367, 2.0892695910611945, 1.9957873314695407, 2.060093308498793, 1.9928198486309392, 2.0836468747405883, 1.9473778327285298, 2.0033212517112466, 1.9666409410641934, 1.9580610204848472, 1.9977334154388118, 1.9515080985423805, 2.0359913171926927, 2.058830638136243, 2.0191123638940276, 1.9323518882935862, 2.006706884745128, 2.0013190695907324, 2.049429698293341, 2.031559023294197, 2.0030226072600765, 2.010587681700266, 2.047883074057243, 2.0595206205698444, 1.9857834186719177, 1.9450024941847537, 1.9945886723595034, 2.0206229908274453, 1.9951101623934737, 2.029274556390181, 2.0379490435105123, 1.932750923010674, 1.998363319035706, 2.006563916216202, 2.0110354943276647, 1.9797382596486521, 1.9843452248406206, 1.9562362748503377, 2.0041271975250674, 1.958177801361532, 1.9299879311471329, 1.9798283026755459, 1.9236568745710922, 1.9583057547850464, 2.0429832044578555, 2.0056653475793658, 1.9565722074895076, 1.914170405264326, 1.9815572817925253, 1.922825701732271, 1.9853586848621347, 1.9422379720187575, 2.078871033913275, 2.035029784245192, 2.0080631084849205, 2.0691039965526006, 1.9809559838358408, 2.015507906643137, 2.0028146954958106, 1.9553554452217408, 1.9519687892237274, 2.0356420660485677, 1.991287879968199, 1.944333742846633, 2.077276622592691, 1.9267043140787676, 2.001105842549798, 1.8938633623114756, 1.9768896951102346, 1.9577232757188388, 2.1290285669332674, 1.9625547937199594, 1.945312913741743, 2.05793013818353, 1.9800630731279203, 1.940546102150521, 1.88096437514214, 2.1504160415477527, 2.0229859236630316, 1.976703992697197, 1.992234696149937, 2.0102766685169593, 2.0353392440623383, 1.9441864271696714, 1.9301348922781836, 1.9659034123650632, 2.0037942292071653, 1.9590134225399671, 2.0403005606389804, 2.0074021126345443, 1.9971887063162077, 1.9971698220503882, 2.055069769593569, 2.0427435297997416, 1.9564067483224261, 2.0001907412973026, 2.131572877315158, 2.091790950573287, 1.9523748055445929, 1.9437009665185316, 2.0047229667151383, 2.022127846622292, 2.0556647188887256, 2.0152877561938447, 2.019473513166779, 1.883905374738792, 2.0513776345154984, 2.0565279150977642, 1.961397203633157, 1.9797043571333512, 1.9281432763701642, 2.0060690637092806, 1.9768755950816908, 1.9857180651197521, 2.0527703802350996, 2.0355823791455583, 1.9691395197232417, 2.002506019972146, 1.996083595445668, 2.0020901457114344, 1.9749776270243413, 2.023772550649853, 1.9490783585989315, 1.9398659927812, 1.9811622912397953, 2.0604346203939787, 2.05961314562295, 1.9906683266686434, 2.0160585016651673, 2.0360548699785483, 2.1011086059861004, 1.9410215609635713, 1.9870340678344356, 1.9032774930465952, 2.0797419009141977, 1.980442164002814, 1.9447449407731023, 2.0333182642876135, 2.0356626615427196, 2.1521195885388194, 2.0525019907790947, 2.0332688577696967, 2.0261630598701754, 2.095978763674011, 2.0047433148569875, 1.986374257928041, 1.9284984627359003, 1.8821969917556287, 1.9771256689011931, 1.9564980269358787, 2.0015591557875254, 1.9529508769328612, 1.9667755940886529, 1.967757322959618, 1.9510476129920848, 2.0528250807748134, 1.9657260150126354, 1.9139880878642492, 1.884213348413494, 2.013500885487557, 2.0099324139289614, 2.0010774539370013, 1.9152806096226458, 2.1050592987417995, 2.0132337467604824, 2.070155832253773, 2.052238188395204, 2.016078609794029, 2.026092091104881, 2.0941537615661225, 2.1123811954234286, 2.081152843550994, 1.9800313035252484, 1.9358135819648372, 1.943174559677247, 2.0360341881477093, 1.979635909084037, 2.1256818004078957, 1.9945021712052111, 1.9518077501991649, 1.9960522058013384, 2.0177545434538082, 1.988452218167584, 2.066007562045444, 1.9862820788031992, 2.0333119227133123, 2.0276335935555654, 2.0502768239467977, 1.9926562377623878, 2.037734646347073, 2.0314573345134703, 1.9711917861027044, 2.046998248304986, 1.9923968059773782, 1.967256426730907, 1.9182292988741718, 2.0645183061374346, 1.9668195154940364, 2.0241153068453634, 2.001553911757189, 2.034700596751807, 2.0674062758962366, 1.928165232727138, 2.0493762786130905, 1.969211160874225, 2.035344364353723, 1.8711377277648833, 1.8872299195479556, 1.9186283692783233, 1.961782748973023, 1.9753085704132214, 1.956492830656518, 2.0402281306050094, 2.1006522673388446, 1.982319304191015], \"type\": \"histogram\", \"orientation\": \"v\"}, {\"opacity\": 0.8, \"name\": \"FD-FE\", \"histnorm\": \"percent\", \"histfunc\": \"count\", \"marker\": {\"color\": \"rgba(55, 128, 191, 1.0)\", \"line\": {\"color\": \"#4D5663\", \"width\": 1.3}}, \"x\": [2.0430949260956415, 1.9990685514849573, 2.020136197355898, 2.0118643402438314, 2.074920809121683, 2.0070499479325856, 1.9498080503715223, 1.890432102806751, 1.9941793262547742, 2.0360870329597516, 1.9886212967568464, 2.012630561823589, 1.9857825807310516, 1.9892235066606339, 1.9660279795205156, 1.9507808308487715, 1.9505706868564858, 2.008743319378143, 1.9630502469284277, 1.9152691509850523, 2.0437007765316135, 2.000659685623573, 2.0275056353283603, 2.0499588793194254, 2.002962929777904, 2.0621826728081083, 1.9743440495107216, 2.0416112724981383, 2.0640640537495463, 2.0824893318784303, 1.9569216390954747, 1.9250472582577252, 2.0302916705918266, 2.039953443232628, 1.9553930031145532, 2.0505799319066056, 1.9956390985534858, 1.9962386347481076, 2.0465048079022807, 1.929055780916903, 1.9886333273000385, 1.9805158240932772, 1.9983005120673536, 1.941837747592818, 1.9395668888065412, 2.0393778687059316, 1.9673268485761959, 2.0002461282679063, 1.9861549975630428, 2.0786459228414715, 2.0121682345805385, 1.96013943641583, 2.019441398636986, 2.05578990214558, 1.9247242803815747, 1.9836549096180944, 2.0328598363719097, 2.0177684462134122, 2.0087529939282645, 2.0032590387325886, 1.9300426640921804, 2.1175258610712717, 2.0570235116899607, 1.9535413220393423, 2.0355162882594104, 2.0269440351050827, 1.959762759166252, 2.0258428217230713, 1.9752105969235565, 1.9601786643038555, 1.995900247390843, 2.020026948960912, 1.9808940020550163, 1.8700528619171988, 1.9454946943086306, 2.0370393843607877, 1.9286469270180577, 1.9900662830776494, 1.9779118295745797, 1.9818179927765502, 2.0341630311316434, 2.023381818803459, 1.990002635860239, 1.9881731193130692, 2.082658737464918, 1.995946063106599, 1.994836965760385, 1.8883688663626494, 2.0422118273409477, 1.9492759147760537, 2.0018791375445946, 2.03794171275522, 1.9659887450817246, 2.008903205016632, 1.9850729177146684, 1.9436098472902872, 1.9856409363712555, 2.117966756515048, 2.0409628690845447, 2.0836016474303687, 1.9525183930067633, 1.9645820396759455, 2.0399214580682283, 2.0284446921040455, 2.0575568301463276, 1.9883196833627086, 1.9755622339653551, 2.0681533332550996, 1.985209605713192, 1.9658816223503854, 1.9747190269949226, 1.999415323098915, 1.9591056452465645, 1.9790240976874123, 1.9911368904531273, 1.9484490845915416, 1.985451837163738, 1.9513113401029374, 1.9277896604306881, 2.0311697133711895, 1.981612586111265, 2.0366546691304523, 2.061291110121843, 2.01908452051493, 2.0628392382005614, 1.9930910486603648, 2.070330416588723, 1.968640438452606, 1.9788891228151613, 2.048756975540893, 2.008258988002936, 2.0210861292389124, 2.0651398610314633, 1.970858033786095, 2.011030465912597, 2.0100598969405965, 2.029345150908921, 2.083714779024362, 2.0559627875631312, 1.9749053497447395, 2.030240411474975, 1.959961921152912, 1.9853506128933425, 2.0018542875911, 1.9747658153866248, 1.997214219641695, 2.002138011081703, 1.9860807511937737, 1.95693733318143, 1.9747080561927954, 2.0081594908000997, 2.0416034603477526, 2.001032528601688, 2.0205650896249927, 1.9754421105899969, 1.9709941041504517, 1.986486251129275, 2.067808158855393, 1.9494465576419135, 1.9791222181609893, 1.9649236826019996, 2.019250165705588, 2.028360427099308, 2.003688385913007, 1.9859246753337922, 2.0603968085045143, 1.993422005461579, 2.060533413706426, 1.9481706615537586, 1.997993811608685, 1.9867488541490443, 1.9954238946523075, 2.037655854857398, 2.0132875983783416, 1.933944751154562, 2.055014274779635, 1.967648340950821, 1.9736595944096913, 2.05189158434327, 2.013645826078526, 2.0110926254275783, 1.9345484946024913, 1.968977749788211, 1.9795267519148243, 2.0100866111811646, 1.9642421377452763, 1.9732983380045201, 1.973645923380259, 1.9740381995178335, 1.989704062291278, 1.9172716456353798, 2.0053841056676416, 1.9445533238465589, 1.9136850350618313, 2.0471451738906055, 1.9650456606738347, 2.0786118804654636, 1.9703873489035637, 2.006474517503438, 1.963429381732702, 1.9974353882443303, 2.024896337263474, 2.02009522831791, 2.0304701796370055, 2.0387478901606766, 1.9910882267784626, 2.0109105406008623, 1.9299392801025417, 1.984716159557592, 2.028292063240544, 1.971945765849489, 2.0228866917632553, 1.9654293377910161, 2.0361098277721914, 2.0027059116154593, 2.0545311497591916, 2.047567581157713, 2.093359570460805, 1.9998480486563013, 2.100749088790475, 2.0858571679372906, 2.041949805990472, 2.0046047941039937, 2.1047596757219518, 2.007044848463218, 1.9770154360027157, 1.950696249748908, 1.9615562006097436, 1.9405514902564072, 1.9137705335949935, 1.9457652883287095, 2.0018594660731335, 1.9845575551126426, 1.9986087233285845, 2.1078354086691546, 2.0676842028203577, 1.9971010824567061, 1.984667494758579, 2.046508381932754, 2.0771222451319193, 2.057091652303641, 2.030437772921653, 1.9751015431512955, 2.010375206489951, 2.0017688732597985, 1.9843656576089055, 1.9741496436605057, 2.016664769553974, 2.071111656626662, 1.9500694662189766, 1.97636925228588, 2.02827653585328, 2.061148177776417, 1.9609730861096466, 1.9397558107352837, 2.0198324532203173, 2.050169624786491, 2.000307772778684, 2.060321472478173, 1.9964817486555246, 2.0695751329260377, 2.002117818510795, 1.9718325158196066, 1.9865811202373806, 1.9423632362043757, 1.9629317819793715, 1.9476036225595017, 2.035815280692008, 1.956660738578171, 1.9963001088485717, 2.0310203705031538, 2.003596558153672, 2.0184924489905707, 1.9928650751159758, 2.128674394733771, 2.0202513713511974, 2.048118777104784, 1.973621419373968, 1.9805307188394357, 1.9322375023378777, 2.0574363777253026, 1.9261865893680614, 2.0300373134437244, 2.0202704984506745, 1.982003749541151, 2.0053749789052064, 1.9413912952980388, 1.9014830614530962, 2.0031040516621776, 2.0249859543503588, 2.075387135068593, 2.0758679550113888, 1.9657928535889346, 2.006947392908651, 2.0899089414739853, 1.9907298555127364, 1.9883923734529731, 2.015000948554332, 1.9901516093835747, 1.9924010919426354, 1.9983004732626004, 1.9893835225593899, 1.990677304565792, 1.9799803080839564, 1.984757145126618, 2.0762954017714796, 1.9670504305109353, 1.951402121779862, 2.0137782663080834, 1.9652902481831689, 2.021151289184007, 2.0081382228327844, 2.0464482461331994, 1.8812562953286025, 1.9528503202475753, 1.999809493332498, 2.038646759552988, 1.9236995951267972, 1.9232507192750368, 1.9861175567397398, 2.0504205741664263, 1.9796115120571751, 1.968519348151983, 1.9609377810044928, 2.0063216238319224, 2.002242632040222, 1.9963412420545703, 2.0880058410200726, 2.028998607088386, 2.003234477312202, 1.9773289286009235, 2.0156072134050413, 1.9716447934159005, 2.03140685600326, 2.035606322018248, 2.038624737922139, 1.9727926828342142, 1.9445226583058226, 2.0038743090265108, 2.07963486464832, 2.04963330092047, 2.0003481062202693, 1.9630414284995845, 2.0286866428016195, 2.009345751365693, 1.96066906568013, 2.015898686499484, 2.052909619385554, 1.9871777038504947, 2.0766500652039266, 2.0440814519542636, 2.0590653488758957, 1.9585159879033411, 1.9807485671000649, 1.9477895708540742, 1.9592417980723407, 1.967346851856335, 1.9887905699107697, 1.9973728958919619, 1.9966528184102588, 2.0787619866768, 1.9951314928548576, 1.9829840437105637, 1.958850349148628, 1.96454533199403, 2.013603879522897, 2.023723835807144, 1.9551693617387622, 1.9879294564634216, 1.9153505535658526, 2.023741863999385, 1.9666816179868816, 2.0181970071506803, 2.059763037159523, 1.9946535056503873, 2.054838881219472, 1.9324696337982739, 2.0015500419956638, 2.0531881591385805, 1.9742157628773773, 1.9430471738292547, 1.9732675451682828, 2.046317558558421, 1.9772986557208267, 1.992644670051873, 2.1255154426821665, 2.0135441347700223, 2.0485502824005906, 1.981022003496112, 1.914507120954549, 2.0154746105046346, 2.0382696773756535, 1.9765721473612308, 2.059599566642089, 1.9499728983037228, 1.9922304447557058, 1.9920866537503363, 2.022518043651776, 1.9991627088801742, 1.9951598729245843, 1.9973402790981842, 2.064731040729013, 2.0564795317654285, 1.9165487072200849, 2.0126799136392366, 1.997962043235141, 1.968395490815722, 1.9564745699082415, 2.016040193221782, 1.9925744172550337, 2.0221556306090323, 1.9684794631437597, 2.0317419392092004, 1.99052829062363, 2.0211413218324643, 2.106441594970775, 1.9748133709389228, 1.9476721197149565, 1.9974526599001217, 1.9661236092771603, 2.0464576171046116, 1.9905948775311546, 2.0111862986461726, 1.9794374919544073, 1.984105009558438, 2.0726502626429437, 1.9862497273757869, 1.9714744595877294, 2.007662093311204, 1.980183805967304, 1.97994510184729, 2.010754445960527, 1.9743467530455694, 1.9835206000282342, 2.046675017834412, 1.997030193717896, 2.0357258961310554, 2.020974515020849, 2.0173109148305564, 2.0508104857667937, 1.9940837280366746, 2.0270327909801233, 1.9223526471344967, 1.9550028861946251, 2.04098461968052, 1.9982624648082803, 1.979095983375282, 2.109204380068679, 2.0214005272337743, 2.0388855432946933, 2.015640699455069, 1.9737047941981802, 1.9673610828951793, 2.0110285166016926, 1.996803077436888, 2.0600414354722565, 2.0075533110438393, 2.0193233312154804, 1.9887037560628311, 2.0209215207421876, 1.8922971330668639, 1.9533561522902905, 1.9543531273289902, 1.9954363789254526, 1.999114833042928, 1.976709460463679, 2.0215105016104404, 2.058779731035621, 2.059547795520062, 2.0347697267940825, 2.0026437011595366, 2.034573922067107, 1.9876740031914517, 2.0302592676604956, 2.0648615163059514, 1.9869147662907412, 2.01917411197306, 1.9912047264481818, 1.9460397727642929, 1.971489399325082, 2.0472303987431584, 1.9139099394682388, 2.0273118135295394, 2.0261619707770535, 1.9793800604834129, 2.0154820379956835, 2.0370228807344546, 1.985167684104769, 2.0513607063224013, 2.075656898966092, 2.0168568372817903, 1.8668132302224916, 1.9034329536687986, 1.9573223465147365, 2.0192718681947652, 1.987806243051383, 1.9805411662901595, 1.9398036515526218, 1.9806703971353126, 1.935314134249462, 2.0126858559580763, 1.992423283300224, 1.9865993118571081, 2.0161295433347517, 2.089639427333565, 2.0490239530447183, 2.0090419826120467, 2.0440272542787046, 1.9331979550909777, 1.9556792621225476, 1.9780158290017043, 1.948755609653937, 2.026513280906487, 2.05103041416936, 2.0433989448844554, 1.9664130862841296, 2.008143127025928, 2.0098963467238726, 2.014557027215638, 2.0099935405737024, 1.990789373289384, 2.042985835179392, 1.975924704222191, 1.94321300050017, 2.0612971172973635, 1.9502041098986909, 1.999103719451624, 1.9494639543323218, 2.0103921676918075, 2.0068557909199685, 1.9386545851293606, 2.0098707963542553, 1.9280785047622686, 1.9851628479426568, 2.0352049079330317, 2.0574877630500548, 1.955374931142877, 2.0107834236192637, 2.0755684117347037, 2.0583551954638253, 2.036054661746028, 1.9757047474640712, 2.019256576368435, 1.9553931932517838, 2.0074713117902228, 2.0429057131177233, 2.0041913478979247, 1.9768724170583714, 1.989237783353722, 2.001684735431512, 2.019386672569431, 1.8840711944188833, 2.035842566068074, 1.9916847139798934, 2.00135527946286, 2.032693835721216, 2.0357720033506665, 2.0157853083512887, 1.9579244304706722, 1.995025470280812, 2.0124045525815157, 1.9405035971393114, 1.967818014135882, 2.0474366682658784, 2.0717362131056425, 1.9274712619962087, 2.0035558937399767, 1.978484476754561, 2.0373831042324686, 2.031323832768152, 2.0001968886699517, 2.0333812820930675, 1.9811426919735255, 1.9421720137185094, 2.035194800054418, 2.048262527921486, 2.0166182822585914, 1.9040990124068888, 2.0228330871680837, 1.9786078921168866, 1.9353947590592915, 1.9598683175875358, 2.020322805158791, 1.9748691436798076, 2.015697160646858, 1.9923679937246608, 1.9841988051091746, 1.9672393987965455, 2.059337110264724, 2.0321034033258583, 1.9809707683496782, 1.953698403241282, 2.0027824895764583, 2.035150674846527, 1.9629918662424017, 2.019507655983129, 1.9514118591311118, 2.0232259015204783, 2.031715884003642, 1.9573359539076425, 2.0704906530742946, 1.971990499822732, 1.936168212431562, 2.0290588109577925, 1.9906795989778945, 1.985170799529753, 1.9171971838807673, 2.031446391363383, 1.9119366354216503, 2.0207408880664435, 1.959954782316119, 2.028140678702847, 1.938185617819613, 2.055139902192613, 1.9806423974647722, 1.9259382266712115, 2.041341309246959, 1.9925718089625328, 1.9260730611597239, 2.0294950450062648, 1.9860732534075387, 1.9825865521915376, 2.017446858324443, 2.03999775085662, 2.013465830815905, 2.0570387165846533, 1.9898571415450128, 2.026705254077079, 1.9517967667482565, 2.003048189035228, 1.9954729413931658, 2.008175020625659, 1.981580436255498, 2.0030320204414043, 2.023174450106863, 2.0178424294537, 1.9883142204134614, 2.009532933288705, 1.9390287567347746, 2.037159598211585, 2.005636700761462, 2.018314054482781, 2.0379918927742477, 1.9837965395933825, 2.036839257226938, 2.020781117945839, 2.002982168289365, 2.0804044641438235, 1.9769148015233402, 1.9784684471129197, 2.0512210586728976, 1.9229482289960458, 1.9696458048668537, 1.9863170277554287, 1.951186566741705, 2.0580845377544295, 1.9529987943956737, 2.023708339435468, 1.9530272798561645, 1.923087704192214, 2.047819689564354, 1.987981307808053, 1.9557886154404764, 2.0587276377179244, 2.068863006047518, 1.9133533485592573, 2.008360981406377, 2.02204531964476, 2.0602324880572787, 1.9820735124496536, 2.0092213721521546, 2.041943208521203, 1.9730222913450879, 2.008976359370019, 1.969554514203195, 2.0279203077201973, 2.0018246628688203, 1.9320532407984845, 1.9346035281375462, 2.0218884861217816, 2.0257615018665494, 2.0484843690741044, 1.9161398258699955, 1.9249005292030206, 1.9487691018610904, 1.9702543624855458, 2.0665560390807016, 1.9593775143524588, 1.9267600728732255, 1.926947880917262, 2.006592324609135, 1.9926934371970662, 2.0139939350026674, 1.9912825489266963, 1.9297219111095398, 2.0373849452065835, 2.004757217897923, 2.0098138096042533, 2.05610278207482, 2.0092916375695067, 2.012691701342267, 1.9458762135326422, 2.111714625774791, 1.9920300634291634, 2.0136204717397366, 1.9925062338437762, 1.9650857793634207, 2.0823392564307994, 2.0284642606089394, 1.9878392173703077, 1.9898833044704014, 1.9978102793776202, 1.9890360953185502, 2.0402811865477597, 2.037846857757249, 1.9315482925966359, 2.067968919864742, 1.9230763246129747, 2.0030937109457514, 1.9293475519208974, 2.123244619131837, 1.9477878257735362, 1.9909456706050763, 1.9678881118344749, 2.0435352612520132, 2.00326731967906, 1.980141639283581, 1.9965581616384367, 2.0722834847915053, 2.0756432377195484, 2.065957577851704, 1.9999328224897237, 2.0074080056810155, 2.0404749686850545, 2.0103222989542697, 2.0222991000932575, 2.059676713021756, 2.010120608519267, 1.971319304343114, 2.0077128896331757, 2.0291649171361823, 1.9971373430489123, 1.9165485098310406, 2.0381912565010407, 1.9020282063256042, 2.060051776276029, 1.9742383651274673, 2.027621709828594, 1.983165876754367, 1.9844437501973262, 2.063467679826325, 1.9897328946545172, 2.0479446664425094, 1.982878725796068, 2.056738328715627, 1.9856199680013058, 2.0124613536772507, 1.9542782521237863, 1.9776844349457239, 1.9835964475505794, 1.97374478864644, 2.0353901655310254, 1.9596734681131478, 2.0073795075010694, 2.0009190631647744, 1.9968629489567609, 1.986303341059855, 2.075659830479009, 1.8790316409404095, 2.0762461611808414, 2.0492599788420547, 2.0459150169523523, 1.918484529344874, 2.0479662982479736, 1.990888585983276, 1.9339327198703942, 1.9295360285394152, 2.0547703899900753, 1.9685026271210164, 1.9835744553458161, 1.971816989740532, 1.9514744215031148, 1.9775618991608872, 1.9521918209240052, 2.0279085819555487, 2.0085530793090367, 2.0891475860201805, 1.9918620301850303, 2.0471066753710527, 1.982517702553663, 2.051206692995156, 1.9529843310474007, 2.0185643082044207, 2.003249659900832, 1.9636031430204965, 2.003759755112505, 1.9688974083578985, 2.033421220387892, 2.035913724555853, 2.001189057036538, 1.9321256309750217, 2.000521493194897, 1.9912403701775867, 2.0199793694918937, 2.007670492641349, 2.001702130190401, 2.017605104234788, 2.063466692844975, 2.049018689627803, 1.983982441960567, 1.9433387113681952, 2.0023620522246266, 2.0219339723759564, 1.9791723513798998, 2.028465883485414, 2.015510224414667, 1.9390274310860935, 1.9895835553741295, 2.0102596906565244, 1.9810909707436906, 1.9497829790963521, 2.01211234686589, 1.968094236821134, 1.9919755818570901, 1.9550804129934145, 1.9550673925490458, 1.9957614942223036, 1.937830973462595, 1.9407563226159397, 2.0497985102183085, 2.0160152711247177, 1.9685952006484557, 1.931954141824535, 1.9724064444331002, 1.951109936379636, 2.003744582433765, 1.9365609404180342, 2.085283395481718, 2.0456722268608925, 2.0105342531282786, 2.0745816666503583, 1.9975262671707734, 2.032019830392387, 2.0025885202772624, 1.954212022247431, 1.960814342254798, 2.013073348237687, 1.9936592747380062, 1.958819805996439, 2.084882954686748, 1.938108832392726, 1.9995845177375617, 1.9142483753731827, 1.9928697139428009, 1.958632986710771, 2.109025679975007, 1.9656494428647613, 1.9371892263646848, 2.0548033673085797, 1.97519638042075, 1.957209872362632, 1.897957437115553, 2.122441161407653, 2.0283908782860562, 1.9914734680449504, 1.9906828635263185, 2.012737100753195, 2.036791998850693, 1.9627853141705756, 1.9553438087122887, 1.9880198583311341, 2.016192147254515, 1.9429922455788493, 2.0418325200818597, 1.9926732637424323, 1.989203400144803, 1.9801195643123002, 2.045395879064276, 2.043521240094961, 1.9715279925916203, 1.984765201381118, 2.090844413669696, 2.075892359976885, 1.9709129771173526, 1.9601688779321291, 2.0169918902070627, 2.02419417733907, 2.0421220638471516, 2.0008542456402543, 2.0311437836242994, 1.9155924339912334, 2.0403857173862967, 2.0512645581341573, 1.9895075975812164, 1.967977663907258, 1.9150655577619486, 1.9917757636512963, 1.977105424891489, 1.9807537260387886, 2.037954029198959, 2.0353188876834776, 1.998702500341961, 2.013259722411277, 2.015653877759352, 1.991272620947227, 1.983593140931486, 2.0229330977717455, 1.9621731241634364, 1.970927138812146, 1.9966287987275766, 2.0575578260368577, 2.0501033690287502, 1.9839283440634938, 2.039555709880133, 2.03102409216274, 2.096945596325466, 1.9657703903526929, 1.9909025569369647, 1.9342048371875185, 2.0552872524339207, 1.983227171813118, 1.9483249157102018, 2.0381382232302947, 1.985680372087065, 2.124135293876816, 2.03461197382812, 2.0069558371801515, 2.03397861586675, 2.078481229972402, 2.0137299386823235, 2.0037192194235223, 1.9435420534536982, 1.945280296131811, 1.995899713213647, 1.9625541351308002, 1.9930710410799581, 1.9727672988306546, 1.982268336035096, 1.9399360238057133, 1.9290283931435712, 2.024926433881463, 1.9779532265705109, 1.9415382579463594, 1.8926182039633437, 2.0036425628768715, 2.0158004564142313, 2.002817767668862, 1.9257393482723963, 2.0765126842993142, 2.031032280148295, 2.0590936320530684, 2.0527757840337797, 2.0160179044571183, 2.0287302715881816, 2.0744751583794097, 2.0846823660201044, 2.0624235908276796, 1.9944084210859891, 1.9734970339383135, 1.9557203329451966, 2.0423752082475257, 1.9823395246203024, 2.1226659272650203, 2.003179412879044, 1.947255427508038, 2.007080449539217, 2.0293275414575813, 1.9919733885483657, 2.0394461683237886, 1.9851692307378983, 2.0117125576968427, 2.022737583531829, 2.035995574239506, 1.9900297094119441, 2.0309491762994543, 2.0250679954393656, 1.9839017572717266, 2.031005590578646, 1.9882203740622342, 1.9741482696848958, 1.9361129440591767, 2.066636769230561, 1.9638648018044178, 2.006576451607122, 2.0052623467793347, 2.00974862184425, 2.0512700485711766, 1.9332353882990327, 2.043386838268662, 1.9726891083874665, 2.0395344755445937, 1.9130665449783026, 1.9162717261341418, 1.9481456805428852, 1.9692162924976264, 1.9779268871419498, 1.9702804285029947, 2.0194282470476703, 2.086413466014016, 1.9985873352477457], \"type\": \"histogram\", \"orientation\": \"v\"}], {\"title\": \"Overlay-Histogram for RT mix and pure, true beta = 2\", \"paper_bgcolor\": \"#F5F6F9\", \"plot_bgcolor\": \"#F5F6F9\", \"xaxis1\": {\"tickfont\": {\"color\": \"#4D5663\"}, \"title\": \"\", \"showgrid\": true, \"zerolinecolor\": \"#E1E5ED\", \"gridcolor\": \"#E1E5ED\", \"titlefont\": {\"color\": \"#4D5663\"}}, \"height\": 587, \"yaxis1\": {\"tickfont\": {\"color\": \"#4D5663\"}, \"title\": \"\", \"showgrid\": true, \"zerolinecolor\": \"#E1E5ED\", \"gridcolor\": \"#E1E5ED\", \"titlefont\": {\"color\": \"#4D5663\"}}, \"width\": 1116, \"titlefont\": {\"color\": \"#4D5663\"}, \"barmode\": \"overlay\", \"legend\": {\"bgcolor\": \"#F5F6F9\", \"font\": {\"color\": \"#4D5663\"}}}, {\"linkText\": \"Export to plot.ly\", \"showLink\": true})</script>"
      ],
      "text/plain": [
       "<IPython.core.display.HTML object>"
      ]
     },
     "metadata": {},
     "output_type": "display_data"
    }
   ],
   "source": [
    "###### True beta = -5\n",
    "\n",
    "cf.set_config_file(offline=False, world_readable=True, theme='pearl')\n",
    "\n",
    "df = pd.DataFrame({'FD-FE': estimate_m_df[0],\n",
    "                   'FD-FD': estimate_p_df[0]})\n",
    "#df.head(2)\n",
    "\n",
    "df.iplot(kind='histogram',barmode='overlay', \n",
    "         histnorm='percent', \n",
    "         title = \"Overlay-Histogram for RT mix and pure, true beta = (-5)\",\n",
    "         filename='cufflinks/multiple-histograms')\n",
    "\n",
    "\n",
    "###### True beta = -1\n",
    "\n",
    "cf.set_config_file(offline=False, world_readable=True, theme='pearl')\n",
    "\n",
    "df = pd.DataFrame({'FD-FE': estimate_m_df[1],\n",
    "                   'FD-FD': estimate_p_df[1]})\n",
    "#df.head(2)\n",
    "\n",
    "df.iplot(kind='histogram',barmode='overlay', \n",
    "         histnorm='percent', \n",
    "         title = \"Overlay-Histogram for RT mix and pure, true beta = (-1)\",\n",
    "         filename='cufflinks/multiple-histograms')\n",
    "\n",
    "\n",
    "###### True beta = 0.5\n",
    "\n",
    "cf.set_config_file(offline=False, world_readable=True, theme='pearl')\n",
    "\n",
    "df = pd.DataFrame({'FD-FE': estimate_m_df[2],\n",
    "                   'FD-FD': estimate_p_df[2]})\n",
    "#df.head(2)\n",
    "\n",
    "df.iplot(kind='histogram',barmode='overlay', \n",
    "         histnorm='percent', \n",
    "         title = \"Overlay-Histogram for RT mix and pure, true beta = 0.5\",\n",
    "         filename='cufflinks/multiple-histograms')\n",
    "\n",
    "\n",
    "###### True beta = 2\n",
    "\n",
    "cf.set_config_file(offline=False, world_readable=True, theme='pearl')\n",
    "\n",
    "df = pd.DataFrame({'FD-FE': estimate_m_df[3],\n",
    "                   'FD-FD': estimate_p_df[3]})\n",
    "#df.head(2)\n",
    "\n",
    "df.iplot(kind='histogram',barmode='overlay', \n",
    "         histnorm='percent', \n",
    "         title = \"Overlay-Histogram for RT mix and pure, true beta = 2\",\n",
    "         filename='cufflinks/multiple-histograms')"
   ]
  },
  {
   "cell_type": "markdown",
   "metadata": {},
   "source": [
    "One can see that for all fours graphs the _mix_ estimation results have a higher kurtosis and (consequently) less fatter tails than the _pure_ estimation results (neglecting the two outliers to the right for _mix_).\n",
    "\n",
    "This strengthens our conclusions from the comparison of the means and standard errors. The _mix_ method seem to perform better in the sense that it is more narrowed to the true value. "
   ]
  },
  {
   "cell_type": "code",
   "execution_count": null,
   "metadata": {
    "collapsed": false
   },
   "outputs": [],
   "source": []
  },
  {
   "cell_type": "code",
   "execution_count": null,
   "metadata": {
    "collapsed": false
   },
   "outputs": [],
   "source": []
  },
  {
   "cell_type": "markdown",
   "metadata": {
    "collapsed": true
   },
   "source": [
    "<a id='Conclusion'></a> "
   ]
  },
  {
   "cell_type": "markdown",
   "metadata": {
    "collapsed": false
   },
   "source": [
    "# 4. Conclusion\n",
    "\n",
    "In this study we have looked at some foundational [panel data](#EQ1) models. Using both, commercial and open software packages we performed numerical simulation based on a predefined [data generating process](#DGP). Our interest was first of all to find an unbiased estimator after a linear random-trend has already introduced some bias in the classical panel estimation methods. We evaluated the consistency and effectiveness of several alternative approaches in estimating a model which contains a [random-trend](#RT) component. We compared two competing theoretical approaches for getting rid of the trend: (i) [first-differencing the data twice](#EQ4) (ii) [within transformation after first differencing once](#EQ5). \n",
    "\n",
    "\n",
    "We have evaluated the [robustness](#ConclusionModels) of the two approaches. Also, we have compared the [effectiveness](#ConclusionStataPython) of _stata_ vs python based open source libraries including _numpy_ and _pandas_.   \n",
    "\n",
    "<a id='ConclusionModels'></a> \n",
    "## 4.1. Comparison between models\n",
    "\n",
    "We have found that a random-trend model solves the endogeneity problem imposed by the linear trend. The RT estimation is superior to the FD and FE estimations because they can only solve for an endogeneity problem induced by a constant. However, we saw that the first-difference works if the trend is [the same for all individuals](#MCNoTrend) or [the marginal increase decreases (log)](#MCNLogTrend). Further, the random-trend is equally biased compared to the first-difference if the trend increases [exponentially](#MCNonLinTrend) over time. <span style=\"color:green\">More research has to be done here to for a more precise view.</span>\n",
    "\n",
    "The comparison of the different RT methods suggests that the _mix_-approach (FD-FE) is superior as long as the calculation time is not much of a burden. Giving the bad results for nonlinear trends, it is questionable if the RT estimation model overall can be used in empirical work if have reason to believe that the trend can be exponential for example. As a result, more research has to be done for the estimation of non-linear trends.\n",
    "\n",
    "<a id='ConclusionStataPython'></a> \n",
    "## 4.2. Comparison between Stata and Python\n",
    "\n",
    "We found several advantages of _Stata_ over open source python libraries\n",
    "   - Stata is an easier set up because of the richness of implemented commands designed for econometric work. As a result it is faster to code when one wants to run a simple or complex regression.\n",
    "   - It offers a huge amount of online example and is well documented.\n",
    "    \n",
    "Some disadvantages of using Stata (in notebook) can be listed as well\n",
    "   - Does not save background estimation results (saved in vectors or matrices originally in Stata)\n",
    "   - It does not go hand in hand to synchronize estimation output with other python packages (i.e. creating plots in _plotly_)\n",
    "   - Seems to be slower than within Stata\n",
    "   - Not all commands work\n",
    "    \n",
    "Still if one is more comfortable with Stata, or has old code that can be reused, the _ipystata_ add-in could be a convenient addition to the econometrician's toolbox. In those cases, as we found out one transition smoothly and translate gradually more and more code from Stata to Python and thus get the best out of both.\n",
    "\n",
    "Python Pros:\n",
    "- There is wide debate about the advantages of python for scientific research. Instead of naming them here as well, we recommend this [blog post](http://cyrille.rossant.net/why-using-python-for-scientific-computing/). \n",
    "    \n",
    "Python Cons\n",
    "- There is a steep learning curve and one needs to be able to code really well to utilize its full potential. We did not find any library that was especially developed for complex econometric work (e.g. panel data). Of course, we are hoping that it is only a matter of time that this gets sorted out. \n",
    "    \n",
    "We failed to find a packages to safe the time python needs to run. For Stata clearly the FD is much faster than the FE estimation, and thereby _pure_ faster than _mix_. A comparison is also difficult because while coding using Python it was convenient to run all three transformations (FD, FD-FE, FD-FD) within one cell. Just from our feeling, the code does run very fast for all and might be even faster than the FE-Estimation in Stata. However, we do the estimation ourselves and calculate only the coefficients we need at hand. Stata on the contrary estimates usually much more just the coefficient which of course costs more time as well."
   ]
  },
  {
   "cell_type": "markdown",
   "metadata": {
    "collapsed": false
   },
   "source": [
    "Last step of our journey is to convert this python workbook into HTML. This can be done easily by executing the following command into the _command prompt_\n",
    "\n",
    "```ipython nbconvert Third_Assignment.ipynb --to html --template full```"
   ]
  },
  {
   "cell_type": "code",
   "execution_count": null,
   "metadata": {
    "collapsed": false
   },
   "outputs": [],
   "source": []
  },
  {
   "cell_type": "code",
   "execution_count": 20,
   "metadata": {
    "collapsed": false
   },
   "outputs": [
    {
     "name": "stdout",
     "output_type": "stream",
     "text": [
      "(3, 200)\n"
     ]
    },
    {
     "data": {
      "text/plain": [
       "(5, 200)"
      ]
     },
     "execution_count": 20,
     "metadata": {},
     "output_type": "execute_result"
    }
   ],
   "source": [
    "print d2x.reshape(3,200).shape \n",
    "x_reshape.shape"
   ]
  },
  {
   "cell_type": "code",
   "execution_count": 22,
   "metadata": {
    "collapsed": false
   },
   "outputs": [],
   "source": [
    "\n",
    "\n",
    "v = 150\n",
    "x_df = pd.DataFrame(x_reshape)\n",
    "x_df_1 = \n",
    "x_df_2 = x_df[v+1].values\n",
    "x_df_3 = x_df[v+2].values\n",
    "x_df_4 = x_df[v+3].values\n",
    "x_df_0 =  \n",
    "\n",
    "dx_df = pd.DataFrame(dx.reshape(4,200))\n",
    "dx_df_1 = dx_df[v].values\n",
    "dx_df_2 = dx_df[v+1].values\n",
    "dx_df_3 = dx_df[v+2].values\n",
    "dx_df_4 = dx_df[v+3].values\n",
    "dx_df_0 = np.concatenate((dx_df_1, dx_df_2, dx_df_3, dx_df_4), axis=0) \n",
    "\n",
    "d2x_df = pd.DataFrame(d2x.reshape(3,200))\n",
    "d2x_df_1 = d2x_df[v].values\n",
    "d2x_df_2 = d2x_df[v+1].values\n",
    "d2x_df_3 = d2x_df[v+2].values\n",
    "d2x_df_4 = d2x_df[v+3].values\n",
    "d2x_df_0 = np.concatenate((d2x_df_1, d2x_df_2, d2x_df_3, d2x_df_4), axis=0) \n",
    "\n",
    "#dx_mean_reshape = \n",
    "dwx = dx.reshape(4,200) - dx_mean_i.reshape(4,200)\n",
    "dwx_df = pd.DataFrame(dwx)\n",
    "dwx_df_1 = dwx_df[v].values\n",
    "dwx_df_2 = dwx_df[v+1].values\n",
    "dwx_df_3 = dwx_df[v+2].values\n",
    "dwx_df_4 = dwx_df[v+3].values\n",
    "dwx_df_0 = np.concatenate((dwx_df_1, dwx_df_2, dwx_df_3, dwx_df_4), axis=0) \n",
    "\n",
    "y_df = pd.DataFrame(y_reshape)\n",
    "y_df_1 = y_df[v].values\n",
    "y_df_2 = y_df[v+1].values\n",
    "y_df_3 = y_df[v+2].values\n",
    "y_df_4 = y_df[v+3].values\n",
    "y_df_0 = np.concatenate((y_df_1, y_df_2, y_df_3, y_df_4), axis=0) \n",
    "\n",
    "dy_df = pd.DataFrame(dy.reshape(4,200))\n",
    "dy_df_1 = dy_df[v].values\n",
    "dy_df_2 = dy_df[v+1].values\n",
    "dy_df_3 = dy_df[v+2].values\n",
    "dy_df_4 = dy_df[v+3].values\n",
    "dy_df_0 = np.concatenate((dy_df_1, dy_df_2, dy_df_3, dy_df_4), axis=0) \n",
    "\n",
    "d2y_df = pd.DataFrame(d2y.reshape(3,200))\n",
    "d2y_df_1 = d2y_df[v].values\n",
    "d2y_df_2 = d2y_df[v+1].values\n",
    "d2y_df_3 = d2y_df[v+2].values\n",
    "d2y_df_4 = d2y_df[v+3].values\n",
    "d2y_df_0 = np.concatenate((d2y_df_1, d2y_df_2, d2y_df_3, d2y_df_4), axis=0) \n",
    "\n",
    "#dy_mean_reshape = \n",
    "dwy = dy.reshape(4,200) - dy_mean_i.reshape(4,200)\n",
    "dwy_df = pd.DataFrame(dwy)\n",
    "dwy_df_1 = dwy_df[v].values\n",
    "dwy_df_2 = dwy_df[v+1].values\n",
    "dwy_df_3 = dwy_df[v+2].values\n",
    "dwy_df_4 = dwy_df[v+3].values\n",
    "dwy_df_0 = np.concatenate((dwy_df_1, dwy_df_2, dwy_df_3, dwy_df_4), axis=0) "
   ]
  },
  {
   "cell_type": "code",
   "execution_count": 28,
   "metadata": {
    "collapsed": false
   },
   "outputs": [
    {
     "ename": "PlotlyError",
     "evalue": "Request throttled. You've created/updated more charts than your allowed limit of 50/day. You may either wait one day or upgrade your account. Visit https://plot.ly/settings/subscription/ to upgrade.",
     "output_type": "error",
     "traceback": [
      "\u001b[0;31m---------------------------------------------------------------------------\u001b[0m",
      "\u001b[0;31mPlotlyError\u001b[0m                               Traceback (most recent call last)",
      "\u001b[0;32m<ipython-input-28-4789325cc389>\u001b[0m in \u001b[0;36m<module>\u001b[0;34m()\u001b[0m\n\u001b[1;32m     35\u001b[0m \u001b[0;34m\u001b[0m\u001b[0m\n\u001b[1;32m     36\u001b[0m \u001b[0;31m# Plot and embed in ipython notebook!\u001b[0m\u001b[0;34m\u001b[0m\u001b[0;34m\u001b[0m\u001b[0m\n\u001b[0;32m---> 37\u001b[0;31m \u001b[0mpy\u001b[0m\u001b[0;34m.\u001b[0m\u001b[0miplot\u001b[0m\u001b[0;34m(\u001b[0m\u001b[0mdata\u001b[0m\u001b[0;34m,\u001b[0m \u001b[0mfilename\u001b[0m\u001b[0;34m=\u001b[0m\u001b[0;34m'scatter-mode'\u001b[0m\u001b[0;34m)\u001b[0m\u001b[0;34m\u001b[0m\u001b[0m\n\u001b[0m",
      "\u001b[0;32m/Applications/anaconda/lib/python2.7/site-packages/plotly/plotly/plotly.pyc\u001b[0m in \u001b[0;36miplot\u001b[0;34m(figure_or_data, **plot_options)\u001b[0m\n\u001b[1;32m    149\u001b[0m     \u001b[0;32mif\u001b[0m \u001b[0;34m'auto_open'\u001b[0m \u001b[0;32mnot\u001b[0m \u001b[0;32min\u001b[0m \u001b[0mplot_options\u001b[0m\u001b[0;34m:\u001b[0m\u001b[0;34m\u001b[0m\u001b[0m\n\u001b[1;32m    150\u001b[0m         \u001b[0mplot_options\u001b[0m\u001b[0;34m[\u001b[0m\u001b[0;34m'auto_open'\u001b[0m\u001b[0;34m]\u001b[0m \u001b[0;34m=\u001b[0m \u001b[0mFalse\u001b[0m\u001b[0;34m\u001b[0m\u001b[0m\n\u001b[0;32m--> 151\u001b[0;31m     \u001b[0murl\u001b[0m \u001b[0;34m=\u001b[0m \u001b[0mplot\u001b[0m\u001b[0;34m(\u001b[0m\u001b[0mfigure_or_data\u001b[0m\u001b[0;34m,\u001b[0m \u001b[0;34m**\u001b[0m\u001b[0mplot_options\u001b[0m\u001b[0;34m)\u001b[0m\u001b[0;34m\u001b[0m\u001b[0m\n\u001b[0m\u001b[1;32m    152\u001b[0m \u001b[0;34m\u001b[0m\u001b[0m\n\u001b[1;32m    153\u001b[0m     \u001b[0;32mif\u001b[0m \u001b[0misinstance\u001b[0m\u001b[0;34m(\u001b[0m\u001b[0mfigure_or_data\u001b[0m\u001b[0;34m,\u001b[0m \u001b[0mdict\u001b[0m\u001b[0;34m)\u001b[0m\u001b[0;34m:\u001b[0m\u001b[0;34m\u001b[0m\u001b[0m\n",
      "\u001b[0;32m/Applications/anaconda/lib/python2.7/site-packages/plotly/plotly/plotly.pyc\u001b[0m in \u001b[0;36mplot\u001b[0;34m(figure_or_data, validate, **plot_options)\u001b[0m\n\u001b[1;32m    239\u001b[0m \u001b[0;34m\u001b[0m\u001b[0m\n\u001b[1;32m    240\u001b[0m     \u001b[0mplot_options\u001b[0m \u001b[0;34m=\u001b[0m \u001b[0m_plot_option_logic\u001b[0m\u001b[0;34m(\u001b[0m\u001b[0mplot_options\u001b[0m\u001b[0;34m)\u001b[0m\u001b[0;34m\u001b[0m\u001b[0m\n\u001b[0;32m--> 241\u001b[0;31m     \u001b[0mres\u001b[0m \u001b[0;34m=\u001b[0m \u001b[0m_send_to_plotly\u001b[0m\u001b[0;34m(\u001b[0m\u001b[0mfigure\u001b[0m\u001b[0;34m,\u001b[0m \u001b[0;34m**\u001b[0m\u001b[0mplot_options\u001b[0m\u001b[0;34m)\u001b[0m\u001b[0;34m\u001b[0m\u001b[0m\n\u001b[0m\u001b[1;32m    242\u001b[0m     \u001b[0;32mif\u001b[0m \u001b[0mres\u001b[0m\u001b[0;34m[\u001b[0m\u001b[0;34m'error'\u001b[0m\u001b[0;34m]\u001b[0m \u001b[0;34m==\u001b[0m \u001b[0;34m''\u001b[0m\u001b[0;34m:\u001b[0m\u001b[0;34m\u001b[0m\u001b[0m\n\u001b[1;32m    243\u001b[0m         \u001b[0;32mif\u001b[0m \u001b[0mplot_options\u001b[0m\u001b[0;34m[\u001b[0m\u001b[0;34m'auto_open'\u001b[0m\u001b[0;34m]\u001b[0m\u001b[0;34m:\u001b[0m\u001b[0;34m\u001b[0m\u001b[0m\n",
      "\u001b[0;32m/Applications/anaconda/lib/python2.7/site-packages/plotly/plotly/plotly.pyc\u001b[0m in \u001b[0;36m_send_to_plotly\u001b[0;34m(figure, **plot_options)\u001b[0m\n\u001b[1;32m   1402\u001b[0m \u001b[0;34m\u001b[0m\u001b[0m\n\u001b[1;32m   1403\u001b[0m     \u001b[0;32mif\u001b[0m \u001b[0;34m'error'\u001b[0m \u001b[0;32min\u001b[0m \u001b[0mr\u001b[0m \u001b[0;32mand\u001b[0m \u001b[0mr\u001b[0m\u001b[0;34m[\u001b[0m\u001b[0;34m'error'\u001b[0m\u001b[0;34m]\u001b[0m \u001b[0;34m!=\u001b[0m \u001b[0;34m''\u001b[0m\u001b[0;34m:\u001b[0m\u001b[0;34m\u001b[0m\u001b[0m\n\u001b[0;32m-> 1404\u001b[0;31m         \u001b[0;32mraise\u001b[0m \u001b[0mexceptions\u001b[0m\u001b[0;34m.\u001b[0m\u001b[0mPlotlyError\u001b[0m\u001b[0;34m(\u001b[0m\u001b[0mr\u001b[0m\u001b[0;34m[\u001b[0m\u001b[0;34m'error'\u001b[0m\u001b[0;34m]\u001b[0m\u001b[0;34m)\u001b[0m\u001b[0;34m\u001b[0m\u001b[0m\n\u001b[0m\u001b[1;32m   1405\u001b[0m \u001b[0;34m\u001b[0m\u001b[0m\n\u001b[1;32m   1406\u001b[0m     \u001b[0;31m# Check if the url needs a secret key\u001b[0m\u001b[0;34m\u001b[0m\u001b[0;34m\u001b[0m\u001b[0m\n",
      "\u001b[0;31mPlotlyError\u001b[0m: Request throttled. You've created/updated more charts than your allowed limit of 50/day. You may either wait one day or upgrade your account. Visit https://plot.ly/settings/subscription/ to upgrade."
     ]
    }
   ],
   "source": [
    "x_df = pd.DataFrame(x_reshape) # Putting the data in a panda form makes it easier to take some individuals\n",
    "y_df = pd.DataFrame(y_reshape)\n",
    "# Create traces\n",
    "\n",
    "trace1 = go.Scatter(\n",
    "    x = x_df[v].values,\n",
    "    y = y_df[v].values,\n",
    "    mode = 'lines+markers',\n",
    "    name = 'lines+markers'\n",
    ")\n",
    "trace2 = go.Scatter(\n",
    "    x = x_df[v+1].values,\n",
    "    y = y_df[v+1].values,\n",
    "    mode = 'lines+markers',\n",
    "    name = 'lines+markers'\n",
    ")\n",
    "trace3 = go.Scatter(\n",
    "    x = x_df[v+2].values,\n",
    "    y = y_df[v+2].values,\n",
    "    mode = 'lines+markers',\n",
    "    name = 'lines+markers'\n",
    ")\n",
    "trace4 = go.Scatter(\n",
    "    x = x_df[v+3].values,\n",
    "    y = y_df[v+3].values,\n",
    "    mode = 'lines+markers',\n",
    "    name = 'lines+markers'\n",
    ")\n",
    "trace0 = go.Scatter(\n",
    "    x = np.concatenate((x_df[v], x_df[v+1], x_df[v+2], x_df[v+3]), axis=0),\n",
    "    y = np.concatenate((y_df[v], y_df[v+1], y_df[v+2], y_df[v+3]), axis=0),\n",
    "    mode = 'markers',\n",
    "    name = 'markers'\n",
    ")\n",
    "data = [ trace1, trace2, trace3, trace4, trace0]\n",
    "\n",
    "# Plot and embed in ipython notebook!\n",
    "py.iplot(data, filename='scatter-mode')"
   ]
  },
  {
   "cell_type": "code",
   "execution_count": 24,
   "metadata": {
    "collapsed": false
   },
   "outputs": [
    {
     "ename": "NameError",
     "evalue": "name 'go' is not defined",
     "output_type": "error",
     "traceback": [
      "\u001b[0;31m---------------------------------------------------------------------------\u001b[0m",
      "\u001b[0;31mNameError\u001b[0m                                 Traceback (most recent call last)",
      "\u001b[0;32m<ipython-input-24-3e900eca0de2>\u001b[0m in \u001b[0;36m<module>\u001b[0;34m()\u001b[0m\n\u001b[1;32m      1\u001b[0m \u001b[0;34m\u001b[0m\u001b[0m\n\u001b[1;32m      2\u001b[0m \u001b[0;31m# Create traces\u001b[0m\u001b[0;34m\u001b[0m\u001b[0;34m\u001b[0m\u001b[0m\n\u001b[0;32m----> 3\u001b[0;31m trace0 = go.Scatter(\n\u001b[0m\u001b[1;32m      4\u001b[0m     \u001b[0mx\u001b[0m \u001b[0;34m=\u001b[0m \u001b[0mdx_df_0\u001b[0m\u001b[0;34m,\u001b[0m\u001b[0;34m\u001b[0m\u001b[0m\n\u001b[1;32m      5\u001b[0m     \u001b[0my\u001b[0m \u001b[0;34m=\u001b[0m \u001b[0mdy_df_0\u001b[0m\u001b[0;34m,\u001b[0m\u001b[0;34m\u001b[0m\u001b[0m\n",
      "\u001b[0;31mNameError\u001b[0m: name 'go' is not defined"
     ]
    }
   ],
   "source": [
    "dx_df = pd.DataFrame(dx.reshape(4,200))\n",
    "dy_df = pd.DataFrame(dy.reshape(4,200))\n",
    "# Create traces\n",
    "\n",
    "trace1 = go.Scatter(\n",
    "    x = dx_df[v].values,\n",
    "    y = dy_df[v].values,\n",
    "    mode = 'lines+markers',\n",
    "    name = 'lines+markers'\n",
    ")\n",
    "trace2 = go.Scatter(\n",
    "    x = dx_df[v+1].values,\n",
    "    y = dy_df[v+1].values,\n",
    "    mode = 'lines+markers',\n",
    "    name = 'lines+markers'\n",
    ")\n",
    "trace3 = go.Scatter(\n",
    "    x = dx_df[v+2].values,\n",
    "    y = dy_df[v+2].values,\n",
    "    mode = 'lines+markers',\n",
    "    name = 'lines+markers'\n",
    ")\n",
    "trace4 = go.Scatter(\n",
    "    x = dx_df[v+3].values,\n",
    "    y = dy_df[v+3].values,\n",
    "    mode = 'lines+markers',\n",
    "    name = 'lines+markers'\n",
    ")\n",
    "trace0 = go.Scatter(\n",
    "    x = np.concatenate((dx_df[v], dx_df[v+1], dx_df[v+2], dx_df[v+3]), axis=0),\n",
    "    y = np.concatenate((dy_df[v], dy_df[v+1], dy_df[v+2], dy_df[v+3]), axis=0),\n",
    "    mode = 'markers',\n",
    "    name = 'markers'\n",
    ")\n",
    "data = [ trace1, trace2, trace3, trace4, trace0]\n",
    "\n",
    "# Plot and embed in ipython notebook!\n",
    "py.iplot(data, filename='scatter-mode')"
   ]
  },
  {
   "cell_type": "code",
   "execution_count": null,
   "metadata": {
    "collapsed": false
   },
   "outputs": [],
   "source": [
    "d2x_df = pd.DataFrame(d2x.reshape(4,200))\n",
    "d2y_df = pd.DataFrame(d2y.reshape(4,200))\n",
    "# Create traces\n",
    "\n",
    "trace1 = go.Scatter(\n",
    "    x = d2x_df[v].values,\n",
    "    y = d2y_df[v].values,\n",
    "    mode = 'lines+markers',\n",
    "    name = 'lines+markers'\n",
    ")\n",
    "trace2 = go.Scatter(\n",
    "    x = d2x_df[v+1].values,\n",
    "    y = d2y_df[v+1].values,\n",
    "    mode = 'lines+markers',\n",
    "    name = 'lines+markers'\n",
    ")\n",
    "trace3 = go.Scatter(\n",
    "    x = d2x_df[v+2].values,\n",
    "    y = d2y_df[v+2].values,\n",
    "    mode = 'lines+markers',\n",
    "    name = 'lines+markers'\n",
    ")\n",
    "trace4 = go.Scatter(\n",
    "    x = d2x_df[v+3].values,\n",
    "    y = d2y_df[v+3].values,\n",
    "    mode = 'lines+markers',\n",
    "    name = 'lines+markers'\n",
    ")\n",
    "trace0 = go.Scatter(\n",
    "    x = np.concatenate((d2x_df[v], d2x_df[v+1], d2x_df[v+2], d2x_df[v+3]), axis=0),\n",
    "    y = np.concatenate((d2y_df[v], d2y_df[v+1], d2y_df[v+2], d2y_df[v+3]), axis=0),\n",
    "    mode = 'markers',\n",
    "    name = 'markers'\n",
    ")\n",
    "data = [ trace1, trace2, trace3, trace4, trace0]\n",
    "\n",
    "# Plot and embed in ipython notebook!\n",
    "py.iplot(data, filename='scatter-mode')"
   ]
  },
  {
   "cell_type": "code",
   "execution_count": null,
   "metadata": {
    "collapsed": false
   },
   "outputs": [],
   "source": [
    "dwx_df = pd.DataFrame(dwx.reshape(4,200))\n",
    "dwy_df = pd.DataFrame(dwy.reshape(4,200))\n",
    "# Create traces\n",
    "\n",
    "trace1 = go.Scatter(\n",
    "    x = dwx_df[v].values,\n",
    "    y = dwy_df[v].values,\n",
    "    mode = 'lines+markers',\n",
    "    name = 'lines+markers'\n",
    ")\n",
    "trace2 = go.Scatter(\n",
    "    x = dwx_df[v+1].values,\n",
    "    y = dwy_df[v+1].values,\n",
    "    mode = 'lines+markers',\n",
    "    name = 'lines+markers'\n",
    ")\n",
    "trace3 = go.Scatter(\n",
    "    x = dwx_df[v+2].values,\n",
    "    y = dwy_df[v+2].values,\n",
    "    mode = 'lines+markers',\n",
    "    name = 'lines+markers'\n",
    ")\n",
    "trace4 = go.Scatter(\n",
    "    x = dwx_df[v+3].values,\n",
    "    y = dwy_df[v+3].values,\n",
    "    mode = 'lines+markers',\n",
    "    name = 'lines+markers'\n",
    ")\n",
    "trace0 = go.Scatter(\n",
    "    x = np.concatenate((dwx_df[v], dwx_df[v+1], dwx_df[v+2], dwx_df[v+3]), axis=0),\n",
    "    y = np.concatenate((dwy_df[v], dwy_df[v+1], dwy_df[v+2], dwy_df[v+3]), axis=0),\n",
    "    mode = 'markers',\n",
    "    name = 'markers'\n",
    ")\n",
    "data = [ trace1, trace2, trace3, trace4, trace0]\n",
    "\n",
    "# Plot and embed in ipython notebook!\n",
    "py.iplot(data, filename='scatter-mode')"
   ]
  },
  {
   "cell_type": "code",
   "execution_count": null,
   "metadata": {
    "collapsed": false
   },
   "outputs": [],
   "source": []
  },
  {
   "cell_type": "code",
   "execution_count": null,
   "metadata": {
    "collapsed": true
   },
   "outputs": [],
   "source": []
  },
  {
   "cell_type": "code",
   "execution_count": null,
   "metadata": {
    "collapsed": true
   },
   "outputs": [],
   "source": []
  },
  {
   "cell_type": "code",
   "execution_count": null,
   "metadata": {
    "collapsed": false
   },
   "outputs": [],
   "source": []
  },
  {
   "cell_type": "markdown",
   "metadata": {},
   "source": []
  },
  {
   "cell_type": "code",
   "execution_count": null,
   "metadata": {
    "collapsed": false
   },
   "outputs": [],
   "source": []
  },
  {
   "cell_type": "markdown",
   "metadata": {},
   "source": []
  },
  {
   "cell_type": "code",
   "execution_count": null,
   "metadata": {
    "collapsed": false
   },
   "outputs": [],
   "source": []
  },
  {
   "cell_type": "code",
   "execution_count": 23,
   "metadata": {
    "collapsed": false
   },
   "outputs": [],
   "source": []
  },
  {
   "cell_type": "code",
   "execution_count": 26,
   "metadata": {
    "collapsed": false
   },
   "outputs": [],
   "source": []
  },
  {
   "cell_type": "code",
   "execution_count": null,
   "metadata": {
    "collapsed": false
   },
   "outputs": [],
   "source": []
  },
  {
   "cell_type": "code",
   "execution_count": null,
   "metadata": {
    "collapsed": true
   },
   "outputs": [],
   "source": []
  },
  {
   "cell_type": "code",
   "execution_count": null,
   "metadata": {
    "collapsed": true
   },
   "outputs": [],
   "source": []
  }
 ],
 "metadata": {
  "kernelspec": {
   "display_name": "Python 2",
   "language": "python",
   "name": "python2"
  },
  "language_info": {
   "codemirror_mode": {
    "name": "ipython",
    "version": 2
   },
   "file_extension": ".py",
   "mimetype": "text/x-python",
   "name": "python",
   "nbconvert_exporter": "python",
   "pygments_lexer": "ipython2",
   "version": "2.7.11"
  }
 },
 "nbformat": 4,
 "nbformat_minor": 0
}
