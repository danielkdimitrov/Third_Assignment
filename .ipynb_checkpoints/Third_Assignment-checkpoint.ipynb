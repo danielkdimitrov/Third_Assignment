{
 "cells": [
  {
   "cell_type": "markdown",
   "metadata": {
    "collapsed": false
   },
   "source": [
    "<center> <h1> Third Assignment: Numerical Simulation </h1></center>\n",
    "\n",
    "<center> <h2><span style=\"font-family:Courier New; \"> Random Trend Model Estimation for Panel Data </span></h2></center>\n",
    "\n",
    "\n",
    "<center> <h3><span style=\"color:blue; font-family:Courier New; \"> Carlos Gonzales (536572) </span></h3></center>\n",
    "\n",
    "<center> <h3><span style=\"color:blue; font-family:Courier New; \"> Daniel Dimitrov (275140) </span></h3></center>\n",
    "\n",
    "<center> <h3><span style=\"color:blue; font-family:Courier New; \"> Jakob Schwerter (110583) </span></h3></center>"
   ]
  },
  {
   "cell_type": "markdown",
   "metadata": {},
   "source": [
    "--------------------"
   ]
  },
  {
   "cell_type": "markdown",
   "metadata": {},
   "source": [
    "Things that have to be done:\n",
    "    - Fixing the problem of the random.seed: Does not work in the python code\n",
    "    - Nice plots for all the results to picture the results. \n",
    "    - Make plots flexible to parameter changes (for us n, t and beta)\n",
    "    - If possible, make the code faster / easier\n",
    "    - Count the time python code needs\n",
    "    - Comment on which program to prefer\n",
    "    - Loading a dataset to check the simulation results for a empirical dataset\n",
    "    - write an executive summary/abstract\n",
    "    - write a conclusion"
   ]
  },
  {
   "cell_type": "markdown",
   "metadata": {},
   "source": [
    "<center><h2><span style=\"font-family:Courier New; \"> Contents </span></h2></center>\n",
    "<h3><span style=\"font-family:Courier New; \">1. <a href='#Motivation'>Motivation</a></span></h3>\n",
    "<h3><span style=\"font-family:Courier New; \"> 2. <a href='#SimStata'>Simulation and Estimation with Stata</a></span></h3>\n",
    "<h4><span style=\"font-family:Courier New; \">        2.1. <a href='#SimStata'>Preparing ipystata</span></a></h4>\n",
    "<h4><span style=\"font-family:Courier New; \">        2.2. <a href='#DGP'>Overview of the DGP</span></a></h4>\n",
    "<h4><span style=\"font-family:Courier New; \">        2.2. <a href='#SimNoTrend'>Simulation without Random Trend in the true DGP]</a></span></h4>\n",
    "<h4><span style=\"font-family:Courier New; \">        2.3. <a href='#MCNoTrend'>Monte Carlo study without trend in the DGP]</a></span></h4>\n",
    "<h4><span style=\"font-family:Courier New; \">        2.4. <a href='#MCConstTrend'>Monte Carlo study with the same trend for all individuals</a></span></h4>\n",
    "<h4><span style=\"font-family:Courier New; \">        2.5. <a href='#MCIndivTrend'>Monte Carlo study with individual specific linear trends (Random Trend)</a></span></h4>\n",
    "<h4><span style=\"font-family:Courier New; \">        2.6. <a href='#MCNonLinTrend'>Monte Carlo study with nonlinear individual specific trends</a></span></h4>\n",
    "<h3><span style=\"font-family:Courier New; \"> 3. <a href='#MCPythonRT'>Random Trend Simulation using Python</a></span></h3>\n",
    "<h4><span style=\"font-family:Courier New; \">        3.1. <a href='#MCPythonDGP'>DGP</a></span></h4>\n",
    "<h4><span style=\"font-family:Courier New; \">        3.2. <a href='#MCPythonDataTr'>Data Transformation</a></span></h4>\n",
    "<h4><span style=\"font-family:Courier New; \">        3.3. <a href='#MCPythonReg'>Regression</a></span></h4>"
   ]
  },
  {
   "cell_type": "markdown",
   "metadata": {
    "collapsed": true
   },
   "source": [
    "-----------------\n",
    "<a id='Motivation'></a>"
   ]
  },
  {
   "cell_type": "markdown",
   "metadata": {
    "collapsed": false
   },
   "source": [
    "# 1. Motivation\n",
    "\n",
    "We construct a simulation for a random-trend (RT) model as defined by [Wooldrige 2010](https://mitpress.mit.edu/books/econometric-analysis-cross-section-and-panel-data),  section 11.7.1. The model is an extension of the [first-difference (FD) model](https://en.wikipedia.org/wiki/First-difference_estimator) for panel-data and overcomes some of its deficiencies. Our main interest is to find an unbiased estimator after a linear random-trend has already introduced some bias in the classical panel estimation methods.\n",
    "\n",
    "## 1.1. Basic Panel Data Model\n",
    "\n",
    "The basic model to estimate a dependent variable follows a linear panel data specification. The specific model is as follows:\n",
    "\n",
    "<a id='EQ1'></a>\n",
    "$$y_{it} = \\beta \\cdot x_{it} + u_{it} \\quad (1) $$\n",
    "\n",
    "As we are working with a panel, the index $i$ stands for an individual (person, company, country, etc.), while the index $t$ represents time. The dependent and the independent variables are respectively indicated by $y_{it}$ and $x_{it}$ and vary both over the individuals and over the time dimension. The error term is represented by $u_{it}$. This can be decomposed into three terms:\n",
    "\n",
    "$$u_{it} = \\alpha_i + e_{it} $$\n",
    "\n",
    "In this context $\\alpha_i$ is an unobserved individual specific effect that stays constant for each individual and $e_{it}$ is an idiosyncratic error that changes both over time and over individuals. In practice we are mostly interested in estimating the effect of $x$ on $y$ and so we are looking for an unbiased and consistent estimation of $\\beta$. \n",
    "\n",
    "Given that both $x$ and $y$ are correlated with the first two parts of the error term, using just normal OLS without any data-transformation (pooled regression) will give biased results due to an [endogeneity bias](https://en.wikipedia.org/wiki/Endogeneity_%28econometrics%29).\n",
    "\n",
    "Two methods can be used to deal with the endogeneity problem induced by the constant error term: The [fixed-effects](https://en.wikipedia.org/wiki/Fixed_effects_model) (FE) and the first-differences (FD) method.\n",
    "\n",
    "The fixed-effects (FE) method can handle situations using the so-called within transformation, subtracting the mean from each variable corresponding to each individual. This eliminates the individual-specific effect which is constant over time (here: $\\alpha_i$) and allows for a consistent [OLS estimation](https://en.wikipedia.org/wiki/Ordinary_least_squares): \n",
    "\n",
    "<a id='EQ2'></a>\n",
    "$$y_{it} - \\bar{y}_{i} = \\beta \\cdot (x_{it} - \\bar{x}_{i}) + \\alpha_i - \\alpha_i + e_{it} - \\bar{e}_{i} \\quad (2)$$ \n",
    "\n",
    "with $\\bar{y}_{i} = \\sum_{t=1}^T y_{it}$, $\\bar{x}_{i} = \\sum_{t=1}^T x_{it}$ and $\\bar{e}_{i} = \\sum_{t=1}^T e_{it}$\n",
    "\n",
    "The first-differences manages to control for the bias by subtracting the past observation from the current one:\n",
    "\n",
    "<a id='EQ3'></a>\n",
    "$$y_{it} - y_{it-1} = \\beta \\cdot ( x_{it} - x_{it-1}) + \\alpha_i - \\alpha_{i} + (e_{it} - e_{it-1}) \\quad (3) $$\n",
    "\n",
    "One can clearly see that in both methods the $\\alpha_i$ cancels out of the regression, solving a possible correlation between $\\alpha_i$ with $y_{it} $ and $x_{it}$. Still, a crucial requirement for retrieving reliable estimates is that the independent variable and the idiosyncratic term remain uncorrelated in expectations.     \n",
    "\n",
    "Things get complicated however, when besides the unobserved constant ($\\alpha_i$), the variable of interest $x_{it}$ is correlated also with a linear trend ($g_i \\cdot t$). Keeping the variable names as before, the error term can now be decomposed as:\n",
    "\n",
    "$$u_{it} = \\alpha_i + g_i \\cdot t + e_{it} $$\n",
    "\n",
    "Now, $g_i$ is a linear trend which is specific for each individual. Note that if $y_{it}$ is a logarithm of the original variable, $g_i$ can also be interpreted as roughly the average growth rate over a period. In that case, the equation is usually referred to a random-growth model, otherwise simply as a random-trend. Overall, this presents an additional source of heterogeneity and needs to be dealt with before employing an OLS estimation.      \n",
    "\n",
    "To solve the possible bias problem due to the RT component, the literature states that in the first step we have to calculate the first-differences in order to transform the linear trend into a constant. To illustrate this more formally, taking the first-difference in the RT set-up gives\n",
    "\n",
    "$$y_{it} - y_{it-1} = \\beta \\cdot (x_{it} - x_{it-1}) + \\alpha_i - \\alpha_{i} +   g_i \\cdot t - g_{i} \\cdot (t-1) + (e_{it} - e_{it-1})$$\n",
    "\n",
    "$$ \\iff \\Delta y_{it} = \\beta \\cdot \\Delta x_{it} + g_i + \\Delta  e_{it}$$\n",
    "\n",
    "Thereafter, it is up to the researcher to continue with either the within-transformation or to first-difference again. Note that even though both are fixed-effect methods, we will be consistent with the literature to call the within-transformation the fixed-effect method. We will investigate if one of the approaches is superior to the other in means of the estimation bias of the coefficient. <span style=\"color: green\">It would be further of interest to investigate the standard errors and model selection criteria like $R^2$, AIC and BIC, but this will be left out for the future research. </span>\n",
    "\n",
    "As we saw, the linear trend has been reduced to a constant term which can now be canceled out by a second first-difference or a with-transformation. So, we have two possibilities for estimation given the RT model: \n",
    "- The **FD Method**: Taking two times the first-difference, will be named _pure_ in the tables later on\n",
    "- The **FD-FE Method**: First the first-difference, then the fixed-effect, named _mix_.\n",
    "\n",
    "First-differencing leads to the FD Method:\n",
    "\n",
    "<a id='EQ4'></a>\n",
    "$$\\Delta^2 y_{it} = \\beta \\cdot \\Delta^2 x_{it} + \\Delta^2 e_{it} \\quad (4) $$ where $\\Delta^2$ stands for the taking two first-differences. \n",
    "\n",
    "The alternative is to do a FE transformation for each variable by subtracting from it the mean corresponding to each individual. This leads to the FD-FE method:\n",
    "\n",
    "<a id='EQ5'></a>\n",
    "$$\\Delta y'_{it} = \\beta \\cdot \\Delta x'_{it} + \\Delta e'_{it} \\quad (5) $$\n",
    "\n",
    "where ' denotes that the variables are demeaned.\n",
    "\n",
    "One can clearly see that in (4) and (5) we canceled out both terms $\\alpha_i$ and $g_i \\cdot t$. Thereby $\\beta$ will not be biased even though the data initially included two different sorts of bias.\n",
    "\n",
    "On the other hand, if we had failed to take first differences in the first place, taking first the fixed-effects as in equation (3) would have given us the following:\n",
    "\n",
    "$$y_{it} - \\bar{y}_{i} = \\beta \\cdot ( x_{it} - \\bar{x}_{i}) + \\alpha_i - \\alpha_{i} +   g_i \\cdot (t - \\bar{t}) + (e_{it} - \\bar{e}_{i})$$\n",
    "\n",
    "Using a second transformation we will not be able to cancel out the time trend effect (we will confirm this in the simulation [at some point](#MCNonFEFD)). We thereby see that it is crucial to first take the first-difference and not the within-transformation.\n",
    "\n",
    "Given that our group is new to python but experienced in Stata, we will first do the simulation via Stata by using the package [`ipystata`](https://github.com/TiesdeKok/ipystata). Thereby we have a known language which we can refer to as our benchmark. In a second step we will use only open software packages to replicate the results. Thereby we will comment which python code is comparable to which Stata code. Besides having the results obtained using Stata as a benchmark, we start a nice _translater_ from Stata to Python. We will also comment on the speed of both languages as well as advantages and disadvantages of the coding part.\n",
    "\n",
    "The assignment will continue as follows: (i) First we explain step by step our [Data Generating Process (DGP)](#DGP). (ii) Then we run a [simulation without a random trend](#SimNoTrend) to see if everything works fine. As a single simulation is not enough to produce definitive answers, from here on we perform a Monte Carlo study with numerous simulation draws. First we do that with the basic DGP model [without a trend](#MCNoTrend) (iii) Next we run the same simulation using a [constant linear trend](#MCConstTrend) and (iv) an [individual specific trend](#MCIndivTrend) in the data generating process. To see how robust the random-trend estimates are, we will further run two simulations using two [non-linear trends](#MCNonLinTrend). Finally that we will reproduce the results of the individual trend using [open-source python packages](#MCPythonRT) only, such as _numpy_, _pandas_ and _random_.\n",
    "\n",
    "## 1.2. Setting up Python packages  for this study\n"
   ]
  },
  {
   "cell_type": "markdown",
   "metadata": {},
   "source": [
    "   > First we import the computational packages that will be used for this study. Note that _ipystata_, even though an open source package itself, relies on [Stata libraries](http://www.stata.com/) and as a result requires a Stata license and installation on your computer.  \n",
    "   \n",
    "   > After that we install and activate a spell checker in order to keep typos under control. We use [_ICalico_](http://calicoproject.org/ICalico) for the purpose.  "
   ]
  },
  {
   "cell_type": "code",
   "execution_count": 8,
   "metadata": {
    "collapsed": false
   },
   "outputs": [
    {
     "data": {
      "application/javascript": [
       "IPython.CodeCell.config_defaults.highlight_modes['magic_stata'] = {'reg':[/^%%stata/]};"
      ]
     },
     "metadata": {},
     "output_type": "display_data"
    }
   ],
   "source": [
    "import ipystata # https://github.com/TiesdeKok/ipystata - We kind of helped so that ipystata works on mac as well :)\n",
    "import numpy as np\n",
    "import pandas as pd\n",
    "import random\n",
    "\n",
    "#from scipy import stats\n",
    "#import statsmodels.api as sm\n",
    "#from statsmodels.sandbox.regression.predstd import wls_prediction_std\n",
    "#import matplotlib.pyplot as plt\n",
    "#%matplotlib inline\n",
    "# Those packages where not used in the end, but we keep it to find them easier for later projects\n",
    "\n",
    "\n",
    "\n",
    "# pip install ipystata --upgrade --force-reinstall\n",
    "# Check if a new version is online before running the code.\n",
    "# Might be useful and does not take much time"
   ]
  },
  {
   "cell_type": "code",
   "execution_count": 4,
   "metadata": {
    "collapsed": false,
    "scrolled": true
   },
   "outputs": [
    {
     "name": "stdout",
     "output_type": "stream",
     "text": [
      "downloading https://bitbucket.org/ipre/calico/downloads/calico-spell-check-1.0.zip to c:\\users\\daniel\\appdata\\local\\temp\\tmpv6drbw\\calico-spell-check-1.0.zip\n",
      "extracting c:\\users\\daniel\\appdata\\local\\temp\\tmpv6drbw\\calico-spell-check-1.0.zip to C:\\ProgramData\\jupyter\\nbextensions\n"
     ]
    }
   ],
   "source": [
    "#install spellchecker\n",
    "!ipython install-nbextension https://bitbucket.org/ipre/calico/downloads/calico-spell-check-1.0.zip\n",
    "#after you install it, activate it executing the next step.     \n",
    "#this video provides a demo of how it works after you install it: https://www.youtube.com/watch?v=Km3AtRynWFQ"
   ]
  },
  {
   "cell_type": "code",
   "execution_count": 5,
   "metadata": {
    "collapsed": false
   },
   "outputs": [
    {
     "data": {
      "application/javascript": [
       "require(['base/js/utils'],\n",
       "function(utils) {\n",
       "   utils.load_extensions('calico-spell-check');\n",
       "});"
      ],
      "text/plain": [
       "<IPython.core.display.Javascript object>"
      ]
     },
     "metadata": {},
     "output_type": "display_data"
    }
   ],
   "source": [
    "%%javascript\n",
    "require(['base/js/utils'],\n",
    "function(utils) {\n",
    "   utils.load_extensions('calico-spell-check');\n",
    "});"
   ]
  },
  {
   "cell_type": "markdown",
   "metadata": {},
   "source": [
    "-------------------\n",
    "<a id='SimStata'></a>"
   ]
  },
  {
   "cell_type": "markdown",
   "metadata": {
    "collapsed": false
   },
   "source": [
    "# 2. Simulation and Estimation with Stata\n",
    "\n",
    "## 2.1. Preparing ipystata\n",
    "Before we proceed with setting up our DGP we will first make sure that _ipystata_ has been successfully installed and is working well within the python environment. The first two cells are to call _Stata_ and to see if it actually works within the Python environment. In the third cell you have to provide a path to a folder on your computer so that the system can use it to store data from the simulations. "
   ]
  },
  {
   "cell_type": "code",
   "execution_count": 4,
   "metadata": {
    "collapsed": false
   },
   "outputs": [],
   "source": [
    "from ipystata.config import config_stata\n",
    "config_stata('/Applications/Stata/StataSE.app/Contents/MacOS/StataSE') \n",
    "\n",
    "# Windows  --> 'C:\\Program Files (x86)\\Stata14\\StataSE-64.exe'\n",
    "# Mac OS X --> '/Applications/Stata/StataSE.app/Contents/MacOS/stataSE'\n",
    "# Linux    --> '/home/user/stata14/stata-se'"
   ]
  },
  {
   "cell_type": "code",
   "execution_count": 5,
   "metadata": {
    "collapsed": false
   },
   "outputs": [
    {
     "name": "stdout",
     "output_type": "stream",
     "text": [
      "\n",
      "Hello, I am printed by Stata\n",
      "We welcome you to our assignment and we hope you enjoy it\n"
     ]
    }
   ],
   "source": [
    "%%stata \n",
    "display \"Hello, I am printed by Stata\" \n",
    "display \"We welcome you to our assignment and we hope you enjoy it\""
   ]
  },
  {
   "cell_type": "code",
   "execution_count": 6,
   "metadata": {
    "collapsed": false,
    "scrolled": true
   },
   "outputs": [
    {
     "name": "stdout",
     "output_type": "stream",
     "text": [
      "\n",
      "/Users/jakobschwerter/Dropbox/github/python/Stata/Assignment\n"
     ]
    }
   ],
   "source": [
    "%%stata \n",
    "cd \"/Users/jakobschwerter/Dropbox/github/python/Stata/Assignment\"\n",
    "    * cd \"D:\\Google Doc\\_Tilburg\\_Simulation\\stata\" \n",
    "set seed 100"
   ]
  },
  {
   "cell_type": "markdown",
   "metadata": {},
   "source": [
    "<a id='DGP'></a> \n",
    "## 2.2. Overview of the DGP\n",
    "\n",
    "We will now go through the main part of the simulation process. Minor changes or additions to the process later on will be explained with _Stata's_ commenting functionality within the code, which is done by \" * \".\n",
    "\n",
    "> First we have to _call_ Stata using `%%stata`. Then by using `cd` we indicate where it should look for files and where it can save them.\n",
    "\n",
    "> We further set the seed to 100, so that results are easier to be reproduced."
   ]
  },
  {
   "cell_type": "code",
   "execution_count": 7,
   "metadata": {
    "collapsed": false
   },
   "outputs": [
    {
     "name": "stdout",
     "output_type": "stream",
     "text": [
      "\n",
      "(obs 200)\n"
     ]
    }
   ],
   "source": [
    "%%stata -o simulation\n",
    "drawnorm alpha_i, n(200)\n"
   ]
  },
  {
   "cell_type": "markdown",
   "metadata": {},
   "source": [
    ">We create a new dataset called _simulation_ using `-o`. The type is a pandas core frame Data Frame. This is necessary for `ipystata` on mac, because the data would not be stored otherwise.\n",
    "\n",
    ">Then we draw 200 (independent and identical distributed (iid) random numbers of a standard normal distribution with mean zero and variance 1. We name it $alpha_i$ ($\\alpha_i$). In the context of panel data, the variable $\\alpha_i$ stands for the unobserved time-invariant individual effect.   "
   ]
  },
  {
   "cell_type": "code",
   "execution_count": 8,
   "metadata": {
    "collapsed": false
   },
   "outputs": [
    {
     "name": "stdout",
     "output_type": "stream",
     "text": [
      "\n",
      "(800 observations created)\n"
     ]
    }
   ],
   "source": [
    "%%stata -d simulation -o simulation\n",
    "expand 5"
   ]
  },
  {
   "cell_type": "markdown",
   "metadata": {
    "collapsed": false
   },
   "source": [
    "> `-d` calls the dataset _simulation_ , otherwise the commands afterwards would not find any variables. The command `-o simulation` saves the changes.\n",
    "\n",
    "> We expand the generated data by 5, i.e. simply repeating every alpha 4 additional times. This creates 800 additional observations.\n",
    "\n",
    ">As a result, the vector expands from $(200 \\; \\text{x} \\; 1)$ to $(200 \\cdot 5 \\; \\text{x} \\; 1)$. What we have done is to create a variable of 800 observations, each described by some measure that is randomly generated. The expanding here ensures that for each individual the measure stays constant over time, thus replicating time-invariant individual effects. "
   ]
  },
  {
   "cell_type": "code",
   "execution_count": 9,
   "metadata": {
    "collapsed": false
   },
   "outputs": [
    {
     "name": "stdout",
     "output_type": "stream",
     "text": [
      "\n",
      "\n"
     ]
    }
   ],
   "source": [
    "%%stata -d simulation -o simulation\n",
    "drawnorm nu_it e_it, n(1000)"
   ]
  },
  {
   "cell_type": "markdown",
   "metadata": {},
   "source": [
    "> We draw two new variables (or vectors) now with 1000 entries from a multivariate normal distribution. 1000 draws are made, so that this fits with the 200 persons and the 5 time periods we created by expanding the alphas by 5. Both variables are independent from each other, so they are not correlated, and the data is also i.i.d. over time.\n",
    " \n",
    "> To verify that we did everything correctly, we have a look into summary statistics"
   ]
  },
  {
   "cell_type": "code",
   "execution_count": 10,
   "metadata": {
    "collapsed": false
   },
   "outputs": [
    {
     "name": "stdout",
     "output_type": "stream",
     "text": [
      "\n",
      "    Variable |       Obs        Mean    Std. Dev.       Min        Max\n",
      "-------------+--------------------------------------------------------\n",
      "       index |      1000       499.5    288.8194          0        999\n",
      "     alpha_i |      1000   -.0376166    1.014596  -2.885089    2.10282\n",
      "       nu_it |      1000    .0101147    1.027895  -2.885089   3.081883\n",
      "        e_it |      1000   -.0310172    .9936022  -2.741925   3.359478\n"
     ]
    }
   ],
   "source": [
    "%%stata -d simulation\n",
    "sum "
   ]
  },
  {
   "cell_type": "markdown",
   "metadata": {},
   "source": [
    ">We see the three generated variables $\\alpha_i, \\; nu_{it}, \\; e_{it}$, having a mean very close to zero and a standard deviation close to 1. Further, using stata in python, and index variable is generated automatically. The index variable would be the individual identifier variable if we would run a pooled panel regression. "
   ]
  },
  {
   "cell_type": "code",
   "execution_count": 11,
   "metadata": {
    "collapsed": false
   },
   "outputs": [
    {
     "name": "stdout",
     "output_type": "stream",
     "text": [
      "\n",
      "\n"
     ]
    }
   ],
   "source": [
    "%%stata -d simulation -o simulation\n",
    "g x_it = nu_it + alpha_i"
   ]
  },
  {
   "cell_type": "markdown",
   "metadata": {},
   "source": [
    ">Generates our variable of interest $x_{it}$ using the two variables we created in a previous step. Since $\\alpha_i$ is part of it and is time-invariant, $x_{it}$ will be correlated over time."
   ]
  },
  {
   "cell_type": "code",
   "execution_count": 12,
   "metadata": {
    "collapsed": false
   },
   "outputs": [
    {
     "name": "stdout",
     "output_type": "stream",
     "text": [
      "\n",
      "\n"
     ]
    }
   ],
   "source": [
    "%%stata -d simulation -o simulation\n",
    "g y_it=3+alpha_i+2*x_it+e_it"
   ]
  },
  {
   "cell_type": "markdown",
   "metadata": {},
   "source": [
    ">Generates our dependent variable $y_{it}$. We use an intercept, $\\alpha_i$, dependent variable $x_{it}$ and residual $e_{it}$ for that. The assigned regression parameter to $x_{it}$ is $2$.\n",
    " \n",
    ">The underlying model is a panel data model, consisting of 200 individuals and 5 time periods per person. It is completely balanced. The variables $y_{it}$ and $x_{it}$ are correlated with a constant term $\\alpha_i$. This produces autocorrelation within an individual.\n",
    "\n",
    "\n",
    "\n",
    ">Checking if the code worked:"
   ]
  },
  {
   "cell_type": "code",
   "execution_count": 13,
   "metadata": {
    "collapsed": false
   },
   "outputs": [
    {
     "name": "stdout",
     "output_type": "stream",
     "text": [
      "\n",
      "             |    index  alpha_i    nu_it     e_it     x_it     y_it\n",
      "-------------+------------------------------------------------------\n",
      "       index |   1.0000 \n",
      "             |\n",
      "             |\n",
      "     alpha_i |   0.0079   1.0000 \n",
      "             |   0.8022\n",
      "             |\n",
      "       nu_it |   0.0283   0.2159   1.0000 \n",
      "             |   0.3711   0.0000\n",
      "             |\n",
      "        e_it |  -0.0082  -0.0082  -0.0185   1.0000 \n",
      "             |   0.7967   0.7949   0.5600\n",
      "             |\n",
      "        x_it |   0.0233   0.7764   0.7830  -0.0172   1.0000 \n",
      "             |   0.4612   0.0000   0.0000   0.5880\n",
      "             |\n",
      "        y_it |   0.0180   0.8425   0.6525   0.2253   0.9579   1.0000 \n",
      "             |   0.5701   0.0000   0.0000   0.0000   0.0000\n",
      "             |\n",
      "An output file must be specified\n"
     ]
    }
   ],
   "source": [
    "%%stata -d simulation\n",
    "pwcorr,sig\n",
    "corrtex alpha_i e_it x_it y_it, sig "
   ]
  },
  {
   "cell_type": "markdown",
   "metadata": {},
   "source": [
    "> The command [_pwcorr_](http://www.stata.com/help.cgi?pwcorr) shows a correlation table of the variables in the dataset (which were generated previously). The option _sig_ prints significance level for each correlation. Results are presented above. There is a statistically significant correlation between $x_{it}$ and $\\alpha_i$ (77.64%). As a result, not including or solving for $\\alpha_i$ when regressing in a panel model $x_it$ on $y_{it}$ will produce biased estimates. The correlation of $x_{it}$ on $y_{it}$ and $\\alpha_i$ is naturally very high, since it depends on both variables in our set-up.\n",
    " The correlation of $e_{it}$ with $x_{it}$ and $\\alpha_i$ is very low and statistical insignificant, which is necessary and by construction. An OLS model like $y_{it} = \\beta x_{it}$  will be upward biased since the correlation of $\\alpha_i$ and $x_{it}$ is positive. $\\beta$ will estimate the effect of $\\alpha$ and $x_{it}$. If the correlation would be negative, it would have been downward biased.\n",
    "\n",
    " To check if the DGP is correct, we do one simulation without imposing a trend into the DGP.\n",
    "\n",
    "<a id='SimNoTrend'></a> \n",
    "\n",
    "\n",
    "# 2.2. Simulation without Random Trend in the true DGP\n",
    "\n",
    "Now we run the DGP [defined earlier](#DGP) and verify how different estimation procedures are able to capture the parameters we have embedded, namely a intercept of 3 and a $\\beta$ of 2. We evaluate the following panel data methods\n",
    "   + Pooled regression, i.e. ignoring the panel structure as presented in equation [(1)](#EQ1) and pooling time and individual information together \n",
    "   + Fixed Effects (FE),  [(2)](#EQ2)\n",
    "   + First-Difference (FD),  [(3)](#EQ3)\n",
    "   + Random-Trend using the first approach, namely taking two first-differences (_pure_),  [(4)](#EQ4)\n",
    "   + Random-Trend using the second approach, namely taking first the  first-differences and then the fixed-effects (_mix_), [(5)](#EQ5)\n"
   ]
  },
  {
   "cell_type": "code",
   "execution_count": 14,
   "metadata": {
    "collapsed": false
   },
   "outputs": [
    {
     "name": "stdout",
     "output_type": "stream",
     "text": [
      "\n",
      ". qui expand 5\n",
      ". qui drawnorm nu_it e_it, n(1000)\n",
      ". qui xtset i t \n",
      ". qui gen dx_it = d.x_it \n",
      ". qui gen dy_it = d.y_it \n",
      ". . qui eststo: xtreg  y_it x_it, fe  \n",
      ". qui eststo: reg d.y_it d.x_it, \n",
      ". qui eststo: xtreg d.y_it d.x_it,fe \n",
      ". qui eststo: reg d2.y_it d2.x_it,  \n",
      ". esttab, long compress nogaps rename(D.x_it x_it D2.x_it x_it D.dx_it x_it) drop(_cons) ///\n",
      ">         b(%7,5f) se(%6.5f) scalars(\"N N\" \"F F-Stat\" \"p p-value\" \"r2 r2\") sfmt(%4,0f %5,2f %5,4f %6,5f %9,2f %9,2f) star(+ 0.1 * 0.05 ** 0.01 *** 0.001) ///\n",
      ">         label mtitles( \"OLS\" \"FE\" \"FD\" \"FD-FE\" \"2-FD\" \"FD-FD\" ) title(\"Without a random trend component\") nolabel replace\n",
      "\n",
      "Without a random trend component\n",
      "---------------------------------------------------------------------------------\n",
      "                       (1)          (2)          (3)          (4)          (5)   \n",
      "                       OLS           FE           FD        FD-FE         2-FD   \n",
      "---------------------------------------------------------------------------------\n",
      "x_it               2,50010***   2,05160***   2,00198***   1,98926***   1,99534***\n",
      "                 (0.03124)    (0.03384)    (0.03543)    (0.04120)    (0.04218)   \n",
      "---------------------------------------------------------------------------------\n",
      "Observations          1000         1000          800          800          600   \n",
      "F-Stat             6403,01      3675,01      3192,34      2331,34      2238,10   \n",
      "p-value             0,0000       0,0000       0,0000       0,0000       0,0000   \n",
      "r2                 0,89486      0,82141      0,80002      0,79559      0,78915   \n",
      "---------------------------------------------------------------------------------\n",
      "Standard errors in parentheses\n",
      "+ p<0.1, * p<0.05, ** p<0.01, *** p<0.001\n"
     ]
    }
   ],
   "source": [
    "%%stata -o sim\n",
    "qui set seed 123\n",
    "qui drawnorm alpha_i, n(200)\n",
    "qui gen i = _n \n",
    "    * included additional to generate an index for the individual level\n",
    "qui expand 5\n",
    "qui bys i: g t = _n \n",
    "    * included additional to generate an index for the time level\n",
    "qui drawnorm nu_it e_it, n(1000)\n",
    "qui g x_it = nu_it + alpha_i\n",
    "qui g y_it = 3 + alpha_i + 2*x_it + e_it \n",
    "    * DGP\n",
    "\n",
    "qui xtset i t \n",
    "    * give stata panel-information\n",
    "\n",
    "qui gen dx_it = d.x_it \n",
    "    * generates the first-difference for x prior to the regression command\n",
    "qui gen dy_it = d.y_it \n",
    "    * generates the first-difference for y prior to the regression command\n",
    "\n",
    "\n",
    "qui eststo: reg y_it x_it, cluster(i) \n",
    "    * OLS-regression (biased) (eststo saves the regression results)\n",
    "qui eststo: xtreg  y_it x_it, fe  \n",
    "    * FE-regression (OLS, but first the within-transformation is done)\n",
    "qui eststo: reg d.y_it d.x_it, \n",
    "    * FD-regression\n",
    "qui eststo: xtreg d.y_it d.x_it,fe \n",
    "    * Random-Trend 1 (mix)\n",
    "qui eststo: reg d2.y_it d2.x_it,  \n",
    "    * Random-Trend 2 (pure)  \n",
    "\n",
    "esttab, long compress nogaps rename(D.x_it x_it D2.x_it x_it D.dx_it x_it) drop(_cons) ///\n",
    "\tb(%7,5f) se(%6.5f) scalars(\"N N\" \"F F-Stat\" \"p p-value\" \"r2 r2\") sfmt(%4,0f %5,2f %5,4f %6,5f %9,2f %9,2f) star(+ 0.1 * 0.05 ** 0.01 *** 0.001) ///\n",
    "\tlabel mtitles( \"OLS\" \"FE\" \"FD\" \"FD-FE\" \"2-FD\" \"FD-FD\" ) title(\"Without a random trend component\") nolabel replace\n",
    "    * esttab produces the table"
   ]
  },
  {
   "cell_type": "markdown",
   "metadata": {},
   "source": [
    "> We can see that the results of the normal OLS are biased, i.e. the coefficient for $x_{it}$ is not 2 but around 2.5. For FE and the FD however the coefficient if very close to 2.\n",
    "Also both random-trend (RT) approaches are unbiased. _mix_ is farthermost of the true parameter and also the standard error is the highest (together with the other RT-approach). So we can conclude that even if we do not have a random-trend component, using two transformations does not really harm the estimation.\n",
    "\n",
    "> Comparing the different RT calculations, we see that the _mix_ seem to be more efficient, but the _pure_ is closer to the true value. This is consistent comparing just the normal FE and FD."
   ]
  },
  {
   "cell_type": "markdown",
   "metadata": {},
   "source": [
    "# 2.3. Monte Carlo study without trend in the DGP\n",
    "<a id='MCnoTrend'></a> \n",
    "\n",
    "In a single simulation we need to keep in mind that the results from just one run can be misleading, as they can be driven by chance if the seed in use simply draws numbers which work better for one method than the other. Therefore, we will run a program now to do a Monte Carlo study which will take 1000 replications to see if above results are robust.\n",
    "\n",
    "What we add in the code now is:\n",
    "\n",
    "   1. A timer to measure the time the code runs. The necessary commands are `timer on 1`, starting the timer, called '1', `timer off 1`, stopping the started timer and `timer list 1`, displaying the time needed.\n",
    "   2.  For the simulation commands `simulation`, we first have to embed the code in a program. The first line `capture program drop mcprog_pool` drops if somehow the program is already defined. This command is useful if you run the code an additional time. `program mcprog_pool` starts the program and ends with `end`.\n",
    "\n",
    "The DGP in each of the following simulations stays the same, namely\n",
    "\n",
    "$$y_{it} = 3 + \\alpha_i + 2\\cdot x_{it} + e_{it} $$\n",
    "\n",
    "What we change in each of the Monte Carlo specifications is the estimation procedure by applying each of the procedures discussed so far. In the code, the following notation will be used: _pool_ stands for the [pooled regress](#MCnoTrendPool), _fe_ for the [within-transformation](#MCnoTrendFE), _fd_ for [the first-difference](#MCnoTrendFD), _mix_ for the random-trend estimation using [first-difference](#MCnoTrendFDFE) and fixed-effects and _pure_ the random trend with [two first-differences](#MCnoTrendFDFD).  \n",
    "\n",
    "The simulation results are stored in `_b` for the coefficient and `_se` for the standard errors. <span style=\"color: green\">The simulation of the standard errors differ from the standard deviation of the estimate ($\\beta$) which was presented in the table above. In the simulation only the variation in beta is used. It is not calculated\n",
    "by the normal variance formula which includes the variances of the error component $\\alpha_{i}$ und $e_{it}$. </span>\n",
    "\n",
    "We take 1000 replications and we call the earlier defined program `mcprog_pool` (Monte Carlo Program - Pooled Regression). \n",
    "\n",
    "At the end we rename the coefficient for a better understanding and drop everything else from the data frame (`keep beta_pool`). The outcomes from all Monte Carlo runs are [compared](#MCnoTrendComp) in the end.\n",
    "\n"
   ]
  },
  {
   "cell_type": "markdown",
   "metadata": {},
   "source": [
    "<a id='MCnoTrendPool'></a>"
   ]
  },
  {
   "cell_type": "markdown",
   "metadata": {},
   "source": [
    "###  2.3.1. Pooled OLS Regression"
   ]
  },
  {
   "cell_type": "code",
   "execution_count": 15,
   "metadata": {
    "collapsed": false
   },
   "outputs": [
    {
     "name": "stdout",
     "output_type": "stream",
     "text": [
      "\n",
      "The time this codes run is\n",
      "   1:     11.42 /        1 =      11.4200\n"
     ]
    }
   ],
   "source": [
    "%%stata -o pool \n",
    "timer on 1\n",
    "set seed 100\n",
    "capture program drop mcprog_pool\n",
    "program mcprog_pool\n",
    "        clear\n",
    "        drawnorm alpha_i, n(200)\n",
    "        gen i = _n \n",
    "        expand 5\n",
    "        bys i: g t = _n \n",
    "        drawnorm nu_it e_it, n(1000)\n",
    "        g x_it=nu_it+alpha_i\n",
    "        g y_it=3+alpha_i+2*x_it+e_it\n",
    "        reg y_it x_it, \n",
    "        drop nu_it alpha_i e_it y_it x_it\n",
    "end\n",
    "        simulate _b _se, nodots nolegend  reps(1000): mcprog_pool\n",
    "        rename _b_x_it beta_pool\n",
    "        rename _se_x_it se_pool\n",
    "        keep beta_pool se_pool\n",
    "timer off 1\n",
    "display \"The time this code runs is\"\n",
    "timer list 1\n"
   ]
  },
  {
   "cell_type": "markdown",
   "metadata": {},
   "source": [
    "<a id='MCnoTrendFE'></a>"
   ]
  },
  {
   "cell_type": "markdown",
   "metadata": {},
   "source": [
    "### 2.3.2.  FE Estimation"
   ]
  },
  {
   "cell_type": "code",
   "execution_count": 16,
   "metadata": {
    "collapsed": false
   },
   "outputs": [
    {
     "name": "stdout",
     "output_type": "stream",
     "text": [
      "\n",
      "The time this codes run is\n",
      "   1:     56.57 /        1 =      56.5720\n"
     ]
    }
   ],
   "source": [
    "%%stata -o fe\n",
    "timer on 1\n",
    "set seed 100\n",
    "capture program drop mcprog_fe\n",
    "        program mcprog_fe\n",
    "         clear\n",
    "         drawnorm alpha_i, n(200)\n",
    "         gen i = _n \n",
    "         expand 5\n",
    "         bys i: g t = _n \n",
    "         drawnorm nu_it e_it, n(1000)\n",
    "         g x_it=nu_it+alpha_i\n",
    "         g y_it=3+alpha_i+2*x_it+e_it\n",
    "         xtset i t\n",
    "         xtreg y_it x_it, fe \n",
    "         drop nu_it alpha_i e_it y_it x_it\n",
    "end\n",
    "        simulate _b _se, nodots nolegend  reps(1000): mcprog_fe\n",
    "        rename _b_x_it beta_fe\n",
    "        rename _se_x_it se_fe\n",
    "        keep beta_fe se_fe\n",
    "timer off 1\n",
    "display \"The time this code runs is\"\n",
    "timer list 1\n",
    "        "
   ]
  },
  {
   "cell_type": "markdown",
   "metadata": {},
   "source": [
    "<a id='MCnoTrendFD'></a> "
   ]
  },
  {
   "cell_type": "markdown",
   "metadata": {},
   "source": [
    "### 2.3.2. FD Estimation"
   ]
  },
  {
   "cell_type": "code",
   "execution_count": 17,
   "metadata": {
    "collapsed": false,
    "scrolled": true
   },
   "outputs": [
    {
     "name": "stdout",
     "output_type": "stream",
     "text": [
      "\n",
      "The time this codes run is\n",
      "   1:     18.25 /        1 =      18.2480\n",
      ".         \n"
     ]
    }
   ],
   "source": [
    "%%stata -o fd\n",
    "timer on 1\n",
    "set seed 100\n",
    "capture program drop mcprog_fd\n",
    "        program mcprog_fd\n",
    "        clear\n",
    "        drawnorm alpha_i, n(200)\n",
    "        gen i = _n \n",
    "        expand 5\n",
    "        bys i: g t = _n \n",
    "        drawnorm nu_it e_it, n(1000)\n",
    "        g x_it=nu_it+alpha_i\n",
    "        g y_it=3+alpha_i+2*x_it+e_it\n",
    "        xtset i t\n",
    "        g dx_it = d.x_it\n",
    "        g dy_it = d.y_it\n",
    "        reg dy_it dx_it, \n",
    "        drop nu_it alpha_i e_it dy_it dx_it y_it x_it\n",
    "end\n",
    "        simulate _b _se, nodots nolegend  reps(1000): mcprog_fd\n",
    "        rename _b_dx_it beta_fd\n",
    "        rename _se_dx_it se_fd\n",
    "        keep beta_fd se_fd\n",
    "timer off 1\n",
    "display \"The time this code runs is\"\n",
    "timer list 1\n",
    "        \n",
    "        "
   ]
  },
  {
   "cell_type": "markdown",
   "metadata": {},
   "source": [
    "<a id='MCnoTrendFDFE'></a> "
   ]
  },
  {
   "cell_type": "markdown",
   "metadata": {},
   "source": [
    "###  2.3.3.  FD-FE (mix) Estimation"
   ]
  },
  {
   "cell_type": "code",
   "execution_count": 18,
   "metadata": {
    "collapsed": false
   },
   "outputs": [
    {
     "name": "stdout",
     "output_type": "stream",
     "text": [
      "\n",
      ". timer off 1\n",
      "The time this codes run is\n",
      "   1:     61.27 /        1 =      61.2690\n"
     ]
    }
   ],
   "source": [
    "%%stata -o mix\n",
    "timer on 1\n",
    "set seed 100\n",
    "capture program drop mcprog_mix\n",
    "        program mcprog_mix\n",
    "         clear\n",
    "         drawnorm alpha_i, n(200)\n",
    "         gen i = _n \n",
    "         expand 5\n",
    "         bys i: g t = _n \n",
    "         drawnorm nu_it e_it, n(1000)\n",
    "         g x_it=nu_it+alpha_i\n",
    "        g y_it=3+alpha_i+2*x_it+e_it\n",
    "        xtset i t\n",
    "        g dx_it = d.x_it\n",
    "        g dy_it = d.y_it\n",
    "         xtreg dy_it dx_it, fe \n",
    "         drop nu_it alpha_i e_it dy_it dx_it y_it x_it\n",
    "end\n",
    "        simulate _b _se, nodots nolegend  reps(1000): mcprog_mix\n",
    "        rename _b_dx_it beta_mix\n",
    "        rename _se_dx_it se_mix\n",
    "        keep beta_mix se_mix\n",
    "        \n",
    "timer off 1\n",
    "display \"The time this code runs is\"\n",
    "timer list 1"
   ]
  },
  {
   "cell_type": "markdown",
   "metadata": {},
   "source": [
    "<a id='MCnoTrendFDFD'></a> "
   ]
  },
  {
   "cell_type": "markdown",
   "metadata": {},
   "source": [
    "###  2.3.4.  FD-FD (pure) Estimation"
   ]
  },
  {
   "cell_type": "code",
   "execution_count": 19,
   "metadata": {
    "collapsed": false
   },
   "outputs": [
    {
     "name": "stdout",
     "output_type": "stream",
     "text": [
      "\n",
      ". timer off 1\n",
      "The time this codes run is\n",
      "   1:     16.97 /        1 =      16.9680\n"
     ]
    }
   ],
   "source": [
    "%%stata -o pure\n",
    "timer on 1\n",
    "set seed 100\n",
    "capture program drop mcprog_pure\n",
    "        program mcprog_pure\n",
    "         clear\n",
    "         drawnorm alpha_i, n(200)\n",
    "         gen i = _n \n",
    "         expand 5\n",
    "         bys i: g t = _n \n",
    "         drawnorm nu_it e_it, n(1000)\n",
    "         g x_it=nu_it+alpha_i\n",
    "         g y_it=3+alpha_i+2*x_it+e_it\n",
    "        xtset i t\n",
    "        g d2x_it = d2.x_it\n",
    "        g d2y_it = d2.y_it\n",
    "         reg d2y_it d2x_it, \n",
    "         drop nu_it alpha_i e_it y_it x_it d2y_it d2x_it\n",
    "end\n",
    "        simulate _b _se, nodots nolegend  reps(1000): mcprog_pure\n",
    "        rename _b_d2x_it beta_pure\n",
    "        rename _se_d2x_it se_pure\n",
    "        keep beta_pure se_pure\n",
    "        \n",
    "timer off 1\n",
    "display \"The time this code runs is\"\n",
    "timer list 1"
   ]
  },
  {
   "cell_type": "markdown",
   "metadata": {},
   "source": [
    "> First, before we talk about the regression results, we want to point out that the within-transformation in FE and _mix_ is the reason the time is much higher in those to simulations. Thus, those are less efficient in the sense on how fast they can be calculated. "
   ]
  },
  {
   "cell_type": "markdown",
   "metadata": {},
   "source": [
    "<a id='MCnoTrendComp'></a> "
   ]
  },
  {
   "cell_type": "markdown",
   "metadata": {
    "collapsed": false
   },
   "source": [
    "###  2.3.5. Comparison of results"
   ]
  },
  {
   "cell_type": "code",
   "execution_count": 20,
   "metadata": {
    "collapsed": false
   },
   "outputs": [
    {
     "name": "stdout",
     "output_type": "stream",
     "text": [
      "          Pool        FE        FD       mix      pure\n",
      "Beta  2.499105  2.001513  2.000731  2.000577  1.999209\n",
      "SE    0.027386  0.035339  0.035368  0.040823  0.040857\n"
     ]
    }
   ],
   "source": [
    "############################ Regression Results without trend\n",
    "# Pool Regression Results\n",
    "pool_mean = pool.mean() # Storing the results produces by the pool-simulation\n",
    "beta_pool = pool_mean[0] # Results of the coefficient\n",
    "se_pool = pool_mean[1] # Results of the standard error\n",
    "# FE Regression Results\n",
    "fe_mean = fe.mean()\n",
    "beta_fe = fe_mean[0]\n",
    "se_fe = fe_mean[1]\n",
    "# FD Regression Results\n",
    "fd_mean = fd.mean()\n",
    "beta_fd = fd_mean[0]\n",
    "se_fd = fd_mean[1]\n",
    "# Mix Regression Results\n",
    "mix_mean = mix.mean()\n",
    "beta_mix = mix_mean[0]\n",
    "se_mix = mix_mean[1]\n",
    "# Pure Regression Results\n",
    "pure_mean = pure.mean()\n",
    "beta_pure = pure_mean[0]\n",
    "se_pure = pure_mean[1]\n",
    "\n",
    "\n",
    "results_notrend_beta = np.array([beta_pool, beta_fe, beta_fd, beta_mix, beta_pure])\n",
    "results_notrend_se = np.array([se_pool, se_fe, se_fd, se_mix, se_pure])\n",
    "results_notrend = np.mat([results_notrend_beta, results_notrend_se]) \n",
    "results_notrend = pd.DataFrame(results_notrend)\n",
    "results_notrend.index = [\"Beta\", \"SE\"]\n",
    "results_notrend.columns = [\"Pool\", \"FE\", \"FD\", \"mix\", \"pure\"]\n",
    "print results_notrend\n",
    "\n"
   ]
  },
  {
   "cell_type": "markdown",
   "metadata": {},
   "source": [
    "> We can see that the pooled regression is upward biased from the true beta value (2). This is in line with econometric theory, as not considering the nature of the panel and pooling together the unobserved individual effects produces biased results. All other methods produce unbiased results that very close to each other. The SE are smallest for the pooled regression. Then the FE and FD are very close to each other and both RT has the highest variation. For every transformation we do we have a loss in efficiency. "
   ]
  },
  {
   "cell_type": "markdown",
   "metadata": {},
   "source": [
    "<a id='MCNoTrend'></a> "
   ]
  },
  {
   "cell_type": "markdown",
   "metadata": {},
   "source": [
    "\n",
    "# 2.4. Monte Carlo study with the same trend for all individuals\n",
    "\n",
    "Here we investigate what happens to our estimator as we include the same trend for all individuals. If we would just run normal regression as presented first, we could just use the same datasets, replacing just some variables. But since we have to define programs, we need to copy all the programs and change for the trend. We will leave out the pooled regression because we already know, that this one is biased just due to the constant $\\alpha_i$."
   ]
  },
  {
   "cell_type": "code",
   "execution_count": 21,
   "metadata": {
    "collapsed": false
   },
   "outputs": [
    {
     "name": "stdout",
     "output_type": "stream",
     "text": [
      "\n",
      ". timer off 1\n",
      "The time this codes run is\n",
      "   1:      6.38 /        1 =       6.3810\n"
     ]
    }
   ],
   "source": [
    "%%stata -o fe_st\n",
    "timer on 1\n",
    "set seed 100\n",
    "capture program drop mcprog_fe\n",
    "        program mcprog_fe\n",
    "        clear\n",
    "        drawnorm alpha_i, n(200)\n",
    "        gen i = _n \n",
    "        expand 5\n",
    "        bys i: g t = _n \n",
    "        drawnorm nu_it e_it, n(1000)\n",
    "        g x_it = nu_it + alpha_i + t \n",
    "            *NOW: x_it is correlated with a linear term\n",
    "        g y_it = 3 + alpha_i + 2*x_it + t + e_it \n",
    "            *DGP includes now a linear trend t\n",
    "        xtset i t\n",
    "        xtreg y_it x_it, fe \n",
    "        drop nu_it alpha_i e_it y_it x_it\n",
    "end\n",
    "        simulate _b _se, nodots nolegend  reps(100): mcprog_fe\n",
    "        rename _b_x_it beta_fe_st\n",
    "        rename _se_x_it se_fe_st\n",
    "        keep beta_fe_st se_fe_st\n",
    "            *st = same trend\n",
    "timer off 1\n",
    "display \"The time this code runs is\"\n",
    "timer list 1"
   ]
  },
  {
   "cell_type": "code",
   "execution_count": 22,
   "metadata": {
    "collapsed": false
   },
   "outputs": [
    {
     "name": "stdout",
     "output_type": "stream",
     "text": [
      "\n",
      "The time this codes run is\n",
      "   1:      3.79 /        1 =       3.7870\n"
     ]
    }
   ],
   "source": [
    "%%stata -o fd_st\n",
    "timer on 1\n",
    "set seed 100\n",
    "capture program drop mcprog_fe\n",
    "        program mcprog_fe\n",
    "        clear\n",
    "        drawnorm alpha_i, n(200)\n",
    "        gen i = _n \n",
    "        expand 5\n",
    "        bys i: g t = _n \n",
    "        drawnorm nu_it e_it, n(1000)\n",
    "        g x_it = nu_it + alpha_i + t \n",
    "            * NOW: x_it is correlated with a linear term\n",
    "        g y_it = 3 + alpha_i + 2*x_it + t + e_it \n",
    "            * DGP includes know the linear trend\n",
    "        xtset i t\n",
    "        g dx_it = d.x_it\n",
    "        g dy_it = d.y_it\n",
    "        reg dy_it dx_it, \n",
    "        drop nu_it alpha_i e_it y_it x_it dy_it dx_it\n",
    "end\n",
    "        simulate _b _se, nodots nolegend  reps(100): mcprog_fe\n",
    "        rename _b_dx_it beta_fd_st\n",
    "        rename _se_dx_it se_fd_st\n",
    "        keep beta_fd_st se_fd_st\n",
    "timer off 1\n",
    "display \"The time this code runs is\"\n",
    "timer list 1"
   ]
  },
  {
   "cell_type": "code",
   "execution_count": 23,
   "metadata": {
    "collapsed": false
   },
   "outputs": [
    {
     "name": "stdout",
     "output_type": "stream",
     "text": [
      "\n",
      ". timer off 1\n",
      "The time this codes run is\n",
      "   1:      6.09 /        1 =       6.0880\n"
     ]
    }
   ],
   "source": [
    "%%stata -o mix_st\n",
    "timer on 1\n",
    "set seed 100\n",
    "capture program drop mcprog_mix\n",
    "        program mcprog_mix\n",
    "        clear\n",
    "        drawnorm alpha_i, n(200)\n",
    "        gen i = _n \n",
    "        expand 5\n",
    "        bys i: g t = _n \n",
    "        drawnorm nu_it e_it, n(1000)\n",
    "        g x_it = nu_it + alpha_i + t \n",
    "            * NOW: x_it is correlated with a linear term\n",
    "        g y_it = 3 + alpha_i + 2*x_it + t + e_it \n",
    "            * DGP includes know the linear trend\n",
    "        xtset i t\n",
    "        g dx_it = d.x_it\n",
    "        g dy_it = d.y_it\n",
    "        xtreg dy_it dx_it, fe \n",
    "        drop nu_it alpha_i e_it dy_it dx_it y_it x_it\n",
    "end\n",
    "        simulate _b _se, nodots nolegend  reps(100): mcprog_mix\n",
    "        rename _b_dx_it beta_mix_st\n",
    "        rename _se_dx_it se_mix_st\n",
    "        keep beta_mix_st se_mix_st\n",
    "        \n",
    "timer off 1\n",
    "display \"The time this code runs is\"\n",
    "timer list 1"
   ]
  },
  {
   "cell_type": "code",
   "execution_count": 24,
   "metadata": {
    "collapsed": false
   },
   "outputs": [
    {
     "name": "stdout",
     "output_type": "stream",
     "text": [
      "\n",
      ". timer off 1\n",
      "The time this codes run is\n",
      "   1:      1.99 /        1 =       1.9930\n"
     ]
    }
   ],
   "source": [
    "%%stata -o pure_st\n",
    "timer on 1\n",
    "set seed 100\n",
    "capture program drop mcprog_pure\n",
    "        program mcprog_pure\n",
    "        clear\n",
    "        drawnorm alpha_i, n(200)\n",
    "        gen i = _n \n",
    "        expand 5\n",
    "        bys i: g t = _n \n",
    "        drawnorm nu_it e_it, n(1000)\n",
    "        g x_it = nu_it + alpha_i + t \n",
    "            * NOW: x_it is correlated with a linear term\n",
    "        g y_it = 3 + alpha_i + 2*x_it + t + e_it \n",
    "            * DGP includes know the linear trend\n",
    "        xtset i t\n",
    "        g d2x_it = d2.x_it\n",
    "        g d2y_it = d2.y_it\n",
    "        reg d2y_it d2x_it, \n",
    "            * cluster(i)\n",
    "        drop nu_it alpha_i e_it y_it x_it d2y_it d2x_it\n",
    "end\n",
    "        simulate _b _se, nodots nolegend  reps(100): mcprog_pure\n",
    "        rename _b_d2x_it beta_pure_st\n",
    "        rename _se_d2x_it se_pure_st\n",
    "        keep beta_pure_st se_pure_st\n",
    "        \n",
    "timer off 1\n",
    "display \"The time this code runs is\"\n",
    "timer list 1"
   ]
  },
  {
   "cell_type": "code",
   "execution_count": 26,
   "metadata": {
    "collapsed": false
   },
   "outputs": [
    {
     "name": "stdout",
     "output_type": "stream",
     "text": [
      "            FE        FD       mix      pure\n",
      "Beta  2.714095  2.003978  2.004183  2.002594\n",
      "SE    0.024645  0.035522  0.040986  0.041070\n"
     ]
    }
   ],
   "source": [
    "############################ Regression Results with same trend\n",
    "# FE Regression Results\n",
    "fe_mean = fe_st.mean()\n",
    "beta_fe = fe_mean[0]\n",
    "se_fe = fe_mean[1]\n",
    "# FD Regression Results\n",
    "fd_mean = fd_st.mean()\n",
    "beta_fd = fd_mean[0]\n",
    "se_fd = fd_mean[1]\n",
    "# Mix Regression Results\n",
    "mix_mean = mix_st.mean()\n",
    "beta_mix = mix_mean[0]\n",
    "se_mix = mix_mean[1]\n",
    "# Pure Regression Results\n",
    "pure_mean = pure_st.mean()\n",
    "beta_pure = pure_mean[0]\n",
    "se_pure = pure_mean[1]\n",
    "\n",
    "\n",
    "results_sametrend_beta = np.array([beta_fe, beta_fd, beta_mix, beta_pure])\n",
    "results_sametrend_se = np.array([se_fe, se_fd, se_mix, se_pure])\n",
    "results_sametrend = np.mat([results_sametrend_beta, results_sametrend_se]) \n",
    "results_sametrend = pd.DataFrame(results_sametrend)\n",
    "results_sametrend.index = [\"Beta\", \"SE\"]\n",
    "results_sametrend.columns = [ \"FE\", \"FD\", \"mix\", \"pure\"]\n",
    "print results_sametrend"
   ]
  },
  {
   "cell_type": "markdown",
   "metadata": {},
   "source": [
    "\n",
    "> As expected, the simulation shows that if the trend is the same for all individuals in the data, the within-transformation cannot solve the linear trend. Thereby the coefficient is biased. Surprisingly however, the first-difference is enough to solve for the problem introduced by a correlation of the variable of interest and the trend. We will not take a deeper look here, but it might be interest to investigate how many individuals are allowed to differ so that the first-difference is not unbiased anymore.\n",
    "The FD is thereby more robust than the FE. It is however questionable in empirical work if the observed individuals really follow the same trend.\n",
    "\n",
    ">Further, the first-difference performs better than the _mix_, but worse than the _pure_. The _pure_ again has a higher standard error than the _mix_.\n",
    "\n",
    "<a id='MCIndivTrend'></a> \n",
    "\n",
    "# 2.5. Monte Carlo study with individual specific linear trends (Random Trend)\n",
    "\n",
    "\n",
    "<span style=\"color: green\"> Here we will (finally) introduce the model including the individual specific linear trend. Here we expect that only the two RT-methods will solve for the bias in $x_it$ and that now both, FE and FD preform poorly. </span>\n",
    "\n"
   ]
  },
  {
   "cell_type": "code",
   "execution_count": null,
   "metadata": {
    "collapsed": false
   },
   "outputs": [],
   "source": []
  },
  {
   "cell_type": "code",
   "execution_count": 27,
   "metadata": {
    "collapsed": false
   },
   "outputs": [
    {
     "name": "stdout",
     "output_type": "stream",
     "text": [
      "\n",
      ". timer off 1\n",
      "The time this codes run is\n",
      "   1:     11.01 /        1 =      11.0080\n"
     ]
    }
   ],
   "source": [
    "%%stata -o fe_it\n",
    "timer on 1\n",
    "set seed 100\n",
    "capture program drop mcprog_fe\n",
    "        program mcprog_fe\n",
    "        clear\n",
    "        drawnorm alpha_i, n(200)\n",
    "        gen i = _n \n",
    "        expand 5\n",
    "        bys i: g t = _n \n",
    "        gen trend = t*i\n",
    "            * individual specific trand   \n",
    "        drawnorm nu_it e_it, n(1000)\n",
    "        g x_it = nu_it + alpha_i + trend \n",
    "            * NOW: x_it is correlated with a linear specific term\n",
    "        g y_it = 3 + alpha_i + 2*x_it + trend + e_it \n",
    "        xtset i t\n",
    "        xtreg y_it x_it, fe \n",
    "            * cluster(i)\n",
    "        drop nu_it alpha_i e_it y_it x_it\n",
    "end\n",
    "        simulate _b _se, nodots nolegend  reps(100): mcprog_fe\n",
    "        rename _b_x_it beta_fe_it\n",
    "        rename _se_x_it se_fe_it\n",
    "        keep beta_fe_it se_fe_it\n",
    "            * it = individual trend\n",
    "timer off 1\n",
    "display \"The time this code runs is\"\n",
    "timer list 1"
   ]
  },
  {
   "cell_type": "code",
   "execution_count": 28,
   "metadata": {
    "collapsed": false
   },
   "outputs": [
    {
     "name": "stdout",
     "output_type": "stream",
     "text": [
      "\n",
      "The time this codes run is\n",
      "   1:      2.36 /        1 =       2.3620\n"
     ]
    }
   ],
   "source": [
    "%%stata -o fd_it\n",
    "timer on 1\n",
    "set seed 100\n",
    "capture program drop mcprog_fe\n",
    "        program mcprog_fe\n",
    "        clear\n",
    "        drawnorm alpha_i, n(200)\n",
    "        gen i = _n \n",
    "        expand 5\n",
    "        bys i: g t = _n \n",
    "        gen trend = t*i \n",
    "            * individual specific trand   \n",
    "        drawnorm nu_it e_it, n(1000)\n",
    "        g x_it = nu_it + alpha_i + trend \n",
    "            * NOW: x_it is correlated with a linear specific term\n",
    "        g y_it = 3 + alpha_i + 2*x_it + trend + e_it \n",
    "        xtset i t\n",
    "        g dx_it = d.x_it\n",
    "        g dy_it = d.y_it\n",
    "        reg dy_it dx_it, \n",
    "        drop nu_it alpha_i e_it y_it x_it dy_it dx_it\n",
    "end\n",
    "        simulate _b _se, nodots nolegend  reps(100): mcprog_fe\n",
    "        rename _b_dx_it beta_fd_it\n",
    "        rename _se_dx_it se_fd_it\n",
    "        keep beta_fd_it se_fd_it\n",
    "timer off 1\n",
    "display \"The time this code runs is\"\n",
    "timer list 1"
   ]
  },
  {
   "cell_type": "code",
   "execution_count": 29,
   "metadata": {
    "collapsed": false
   },
   "outputs": [
    {
     "name": "stdout",
     "output_type": "stream",
     "text": [
      "\n",
      ". timer off 1\n",
      "The time this codes run is\n",
      "   1:      6.91 /        1 =       6.9080\n"
     ]
    }
   ],
   "source": [
    "%%stata -o mix_it\n",
    "timer on 1\n",
    "set seed 100\n",
    "capture program drop mcprog_mix\n",
    "        program mcprog_mix\n",
    "        clear\n",
    "        drawnorm alpha_i, n(200)\n",
    "        gen i = _n\n",
    "        expand 5\n",
    "        bys i: g t = _n \n",
    "        gen trend = t*i \n",
    "            * individual specific trand   \n",
    "        drawnorm nu_it e_it, n(1000)\n",
    "        g x_it = nu_it + alpha_i + trend \n",
    "            * NOW: x_it is correlated with a linear specific term\n",
    "        g y_it = 3 + alpha_i + 2*x_it + trend + e_it \n",
    "        xtset i t\n",
    "        g dx_it = d.x_it\n",
    "        g dy_it = d.y_it\n",
    "        xtreg dy_it dx_it, fe \n",
    "        drop nu_it alpha_i e_it dy_it dx_it y_it x_it\n",
    "end\n",
    "        simulate _b _se, nodots nolegend  reps(100): mcprog_mix\n",
    "        rename _b_dx_it beta_mix_it\n",
    "        rename _se_dx_it se_mix_it\n",
    "        keep beta_mix_it se_mix_it\n",
    "        \n",
    "timer off 1\n",
    "display \"The time this code runs is\"\n",
    "timer list 1"
   ]
  },
  {
   "cell_type": "code",
   "execution_count": 30,
   "metadata": {
    "collapsed": false
   },
   "outputs": [
    {
     "name": "stdout",
     "output_type": "stream",
     "text": [
      "\n",
      ". timer off 1\n",
      "The time this codes run is\n",
      "   1:      2.11 /        1 =       2.1130\n"
     ]
    }
   ],
   "source": [
    "%%stata -o pure_it\n",
    "timer on 1\n",
    "set seed 100\n",
    "capture program drop mcprog_pure\n",
    "        program mcprog_pure\n",
    "        clear\n",
    "        drawnorm alpha_i, n(200)\n",
    "        gen i = _n \n",
    "        expand 5\n",
    "        bys i: g t = _n \n",
    "        gen trend = t*i \n",
    "            * individual specific trand   \n",
    "        drawnorm nu_it e_it, n(1000)\n",
    "        g x_it = nu_it + alpha_i + trend \n",
    "            * NOW: x_it is correlated with a linear specific term\n",
    "        g y_it = 3 + alpha_i + 2*x_it + trend + e_it \n",
    "        xtset i t\n",
    "        g d2x_it = d2.x_it\n",
    "        g d2y_it = d2.y_it\n",
    "        reg d2y_it d2x_it, \n",
    "        drop nu_it alpha_i e_it y_it x_it d2y_it d2x_it\n",
    "end\n",
    "        simulate _b _se, nodots nolegend  reps(100): mcprog_pure\n",
    "        rename _b_d2x_it beta_pure_it\n",
    "        rename _se_d2x_it se_pure_it\n",
    "        keep beta_pure_it se_pure_it\n",
    "        \n",
    "timer off 1\n",
    "display \"The time this code runs is\"\n",
    "timer list 1"
   ]
  },
  {
   "cell_type": "code",
   "execution_count": 31,
   "metadata": {
    "collapsed": false
   },
   "outputs": [
    {
     "name": "stdout",
     "output_type": "stream",
     "text": [
      "            FE        FD       mix      pure\n",
      "Beta  2.999957  2.999481  2.004183  2.002594\n",
      "SE    0.000272  0.001220  0.040986  0.041070\n"
     ]
    }
   ],
   "source": [
    "############################ Regression Results with individual specific linear trend\n",
    "# FE Regression Results\n",
    "fe_mean_it = fe_it.mean()\n",
    "beta_fe_it = fe_mean_it[0]\n",
    "se_fe_it = fe_mean_it[1]\n",
    "# FD Regression Results\n",
    "fd_mean_it = fd_it.mean()\n",
    "beta_fd_it = fd_mean_it[0]\n",
    "se_fd_it = fd_mean_it[1]\n",
    "# Mix Regression Results\n",
    "mix_mean_it = mix_it.mean()\n",
    "beta_mix_it = mix_mean_it[0]\n",
    "se_mix_it = mix_mean_it[1]\n",
    "# Pure Regression Results\n",
    "pure_mean_it = pure_it.mean()\n",
    "beta_pure_it = pure_mean_it[0]\n",
    "se_pure_it = pure_mean_it[1]\n",
    "\n",
    "\n",
    "results_inditrend_beta = np.array([beta_fe_it, beta_fd_it, beta_mix_it, beta_pure_it])\n",
    "results_inditrend_se = np.array([se_fe_it, se_fd_it, se_mix_it, se_pure_it])\n",
    "results_inditrend = np.mat([results_inditrend_beta, results_inditrend_se]) \n",
    "results_inditrend = pd.DataFrame(results_inditrend)\n",
    "results_inditrend.index = [\"Beta\", \"SE\"]\n",
    "results_inditrend.columns = [ \"FE\", \"FD\", \"mix\", \"pure\"]\n",
    "print results_inditrend"
   ]
  },
  {
   "cell_type": "markdown",
   "metadata": {},
   "source": [
    ">The results confirm (unsurprisingly) the bad results of the FE. Now, also the FD is not capable to control for the trend within $x_{it}$. Only unbiased estimations are obtained by _mix_ and _pure_. The results are the same as before (remember: same seed and the only difference is canceled out). After checking that we really changed the code, it can be concluded that for the random-trend model it does not matter whether the trend is constant or individual specific.\n",
    "\n",
    "> In this easy example it further seems that the double difference (_pure_) is more robust, i.e. closer to the true value. Thereby the example is in favor to use the _pure_ rather than the _mix_ random-trend method. Also the time point, the _pure_ is much faster. Only the standard error suggest to use _mix_.\n",
    "\n",
    "<a id='MCNonLinTrend'></a> \n",
    "\n",
    "# 2.6. Monte Carlo study with nonlinear individual specific trends \n",
    "\n",
    "We will further check for two cases in which the trend is non-linear. The motivation is to see if one of the random-trend methods performs better even though the baseline assumption of a linear trend does not hold. Therefore we will use an exponential individual specific trend and a log individual specific trend. \n",
    "\n",
    "Here we will not include the FE estimation anymore, because it preforms equally bad or worse than the FD. The FD is included to check whether the RT are of additional help.\n",
    "\n",
    "### 2.6.1 Monte Carlo study with exponential individual specific trends \n"
   ]
  },
  {
   "cell_type": "code",
   "execution_count": 32,
   "metadata": {
    "collapsed": false
   },
   "outputs": [
    {
     "name": "stdout",
     "output_type": "stream",
     "text": [
      "\n",
      "The time this codes run is\n",
      "   1:      2.14 /        1 =       2.1430\n"
     ]
    }
   ],
   "source": [
    "%%stata -o fd_exp\n",
    "timer on 1\n",
    "set seed 100\n",
    "capture program drop mcprog_fe\n",
    "        program mcprog_fe\n",
    "        clear\n",
    "        drawnorm alpha_i, n(200)\n",
    "        gen i = _n \n",
    "        expand 5\n",
    "        bys i: g t = _n \n",
    "        gen trend = exp(t*i/100) \n",
    "            * exponential individual specific trand   \n",
    "            * We devide by 100, because otherwise the values of the trend would have been to high at the end\n",
    "            * Thereby it would have dominated the whole term, in our case resulting in no variation between the replications\n",
    "        drawnorm nu_it e_it, n(1000)\n",
    "        g x_it = nu_it + alpha_i + trend \n",
    "        g y_it = 3 + alpha_i + 2*x_it + trend + e_it \n",
    "        xtset i t\n",
    "        g dx_it = d.x_it\n",
    "        g dy_it = d.y_it\n",
    "        reg dy_it dx_it, \n",
    "        drop nu_it alpha_i e_it y_it x_it dy_it dx_it\n",
    "end\n",
    "        simulate _b _se, nodots nolegend  reps(100): mcprog_fe\n",
    "        rename _b_dx_it beta_fd_exp\n",
    "        rename _se_dx_it se_fd_exp\n",
    "        keep beta_fd_exp se_fd_exp\n",
    "timer off 1\n",
    "display \"The time this code runs is\"\n",
    "timer list 1"
   ]
  },
  {
   "cell_type": "code",
   "execution_count": 33,
   "metadata": {
    "collapsed": false
   },
   "outputs": [
    {
     "name": "stdout",
     "output_type": "stream",
     "text": [
      "\n",
      ". timer off 1\n",
      "The time this codes run is\n",
      "   1:      6.12 /        1 =       6.1150\n"
     ]
    }
   ],
   "source": [
    "%%stata -o mix_exp\n",
    "timer on 1\n",
    "set seed 100\n",
    "capture program drop mcprog_mix\n",
    "        program mcprog_mix\n",
    "        clear\n",
    "        drawnorm alpha_i, n(200)\n",
    "        gen i = _n \n",
    "        expand 5\n",
    "        bys i: g t = _n \n",
    "        gen trend = exp(t*i/100) \n",
    "            * exponential individual specific trand   \n",
    "        drawnorm nu_it e_it, n(1000)\n",
    "        g x_it = nu_it + alpha_i + trend \n",
    "        g y_it = 3 + alpha_i + 2*x_it + trend + e_it \n",
    "        xtset i t\n",
    "        g dx_it = d.x_it\n",
    "        g dy_it = d.y_it\n",
    "        xtreg dy_it dx_it, fe \n",
    "        drop nu_it alpha_i e_it dy_it dx_it y_it x_it\n",
    "end\n",
    "        simulate _b _se, nodots nolegend  reps(100): mcprog_mix\n",
    "        rename _b_dx_it beta_mix_exp\n",
    "        rename _se_dx_it se_mix_exp\n",
    "        keep beta_mix_exp se_mix_exp\n",
    "        \n",
    "timer off 1\n",
    "display \"The time this code runs is\"\n",
    "timer list 1"
   ]
  },
  {
   "cell_type": "code",
   "execution_count": 34,
   "metadata": {
    "collapsed": false
   },
   "outputs": [
    {
     "name": "stdout",
     "output_type": "stream",
     "text": [
      "\n",
      ".         The time this codes run is\n",
      "   1:      2.19 /        1 =       2.1860\n"
     ]
    }
   ],
   "source": [
    "%%stata -o pure_exp\n",
    "timer on 1\n",
    "set seed 100\n",
    "capture program drop mcprog_pure\n",
    "        program mcprog_pure\n",
    "        clear\n",
    "        drawnorm alpha_i, n(200)\n",
    "        gen i = _n \n",
    "        expand 5\n",
    "        bys i: g t = _n \n",
    "        gen trend = exp(t*i/100) \n",
    "            * exponential individual specific trand   \n",
    "        drawnorm nu_it e_it, n(1000)\n",
    "        g x_it = nu_it + alpha_i + trend \n",
    "        g y_it = 3 + alpha_i + 2*x_it + trend + e_it \n",
    "        xtset i t\n",
    "        g d2x_it = d2.x_it\n",
    "        g d2y_it = d2.y_it\n",
    "        reg d2y_it d2x_it, \n",
    "        drop nu_it alpha_i e_it y_it x_it d2y_it d2x_it\n",
    "end\n",
    "        simulate _b _se, nodots nolegend  reps(100): mcprog_pure\n",
    "        rename _b_d2x_it beta_pure_exp\n",
    "        rename _se_d2x_it se_pure_exp\n",
    "        keep beta_pure_exp se_pure_exp\n",
    "            * exp for exponential\n",
    "        \n",
    "timer off 1\n",
    "display \"The time this code runs is\"\n",
    "timer list 1"
   ]
  },
  {
   "cell_type": "markdown",
   "metadata": {},
   "source": [
    "###  Comparison"
   ]
  },
  {
   "cell_type": "code",
   "execution_count": 35,
   "metadata": {
    "collapsed": false
   },
   "outputs": [
    {
     "name": "stdout",
     "output_type": "stream",
     "text": [
      "            FD       mix      pure\n",
      "Beta  3.000002  3.000002  2.999999\n",
      "SE    0.000034  0.000045  0.000069\n"
     ]
    }
   ],
   "source": [
    "############################ Regression Results with exponential individual specific linear trend\n",
    "# FD Regression Results\n",
    "fd_mean_exp = fd_exp.mean()\n",
    "beta_fd_exp = fd_mean_exp[0]\n",
    "se_fd_exp = fd_mean_exp[1]\n",
    "# Mix Regression Results\n",
    "mix_mean_exp = mix_exp.mean()\n",
    "beta_mix_exp = mix_mean_exp[0]\n",
    "se_mix_exp = mix_mean_exp[1]\n",
    "# Pure Regression Results\n",
    "pure_mean_exp = pure_exp.mean()\n",
    "beta_pure_exp = pure_mean_exp[0]\n",
    "se_pure_exp = pure_mean_exp[1]\n",
    "\n",
    "\n",
    "results_exptrend_beta = np.array([beta_fd_exp, beta_mix_exp, beta_pure_exp])\n",
    "results_exptrend_se = np.array([se_fd_exp, se_mix_exp, se_pure_exp])\n",
    "results_exptrend = np.mat([results_exptrend_beta, results_exptrend_se]) \n",
    "results_exptrend = pd.DataFrame(results_exptrend)\n",
    "results_exptrend.index = [\"Beta\", \"SE\"]\n",
    "results_exptrend.columns = [\"FD\", \"mix\", \"pure\"]\n",
    "print results_exptrend"
   ]
  },
  {
   "cell_type": "markdown",
   "metadata": {},
   "source": [
    "> Here we have the case that the trend increases individual specific exponential over time, i.e. the trend is a convex function.\n",
    "Both RT methods are biased, and the difference between the two is at the 6. digit, so obsolete from our point of view. Surprisingly to us is, that there is no difference between the normal FD and the RT's. This means that if the trend increases exponential, the random trend method does not improve the estimation. I would have expected that the random-trend model comes a bite closer to the true, but in this example it does not. Thus, we just get higher standard errors without the trade of more robust results.\n",
    "\n",
    "### 2.6.2 Monte Carlo study with log individual specific trends "
   ]
  },
  {
   "cell_type": "code",
   "execution_count": 36,
   "metadata": {
    "collapsed": false
   },
   "outputs": [
    {
     "name": "stdout",
     "output_type": "stream",
     "text": [
      "\n",
      "The time this codes run is\n",
      "   1:      1.88 /        1 =       1.8800\n"
     ]
    }
   ],
   "source": [
    "%%stata -o fd_log\n",
    "timer on 1\n",
    "set seed 100\n",
    "capture program drop mcprog_fe\n",
    "        program mcprog_fe\n",
    "        clear\n",
    "        drawnorm alpha_i, n(200)\n",
    "        gen i = _n \n",
    "        expand 5\n",
    "        bys i: g t = _n \n",
    "        gen trend = log(t*i) \n",
    "            * logarithm !!! \n",
    "        drawnorm nu_it e_it, n(1000)\n",
    "        g x_it = nu_it + alpha_i + trend \n",
    "        g y_it = 3 + alpha_i + 2*x_it + trend + e_it \n",
    "        xtset i t\n",
    "        g dx_it = d.x_it\n",
    "        g dy_it = d.y_it\n",
    "        reg dy_it dx_it\n",
    "        drop nu_it alpha_i e_it y_it x_it dy_it dx_it\n",
    "end\n",
    "        simulate _b _se, nodots nolegend  reps(100): mcprog_fe\n",
    "        rename _b_dx_it beta_fd_log\n",
    "        rename _se_dx_it se_fd_log\n",
    "        keep beta_fd_log se_fd_log\n",
    "timer off 1\n",
    "display \"The time this code runs is\"\n",
    "timer list 1"
   ]
  },
  {
   "cell_type": "code",
   "execution_count": 37,
   "metadata": {
    "collapsed": false
   },
   "outputs": [
    {
     "name": "stdout",
     "output_type": "stream",
     "text": [
      "\n",
      ". timer off 1\n",
      "The time this codes run is\n",
      "   1:      7.15 /        1 =       7.1510\n"
     ]
    }
   ],
   "source": [
    "%%stata -o mix_log\n",
    "timer on 1\n",
    "set seed 100\n",
    "capture program drop mcprog_mix\n",
    "        program mcprog_mix\n",
    "        clear\n",
    "        drawnorm alpha_i, n(200)\n",
    "        gen i = _n \n",
    "        expand 5\n",
    "        bys i: g t = _n \n",
    "        gen trend = log(t*i) \n",
    "            * logarithm!\n",
    "        drawnorm nu_it e_it, n(1000)\n",
    "        g x_it = nu_it + alpha_i + trend \n",
    "        g y_it = 3 + alpha_i + 2*x_it + trend + e_it \n",
    "        xtset i t\n",
    "        g dx_it = d.x_it\n",
    "        g dy_it = d.y_it\n",
    "        xtreg dy_it dx_it, fe \n",
    "            * cluster(i)\n",
    "        drop nu_it alpha_i e_it dy_it dx_it y_it x_it\n",
    "end\n",
    "        simulate _b _se, nodots nolegend  reps(100): mcprog_mix\n",
    "        rename _b_dx_it beta_mix_log\n",
    "        rename _se_dx_it se_mix_log\n",
    "        keep beta_mix_log se_mix_log\n",
    "        \n",
    "timer off 1\n",
    "display \"The time this code runs is\"\n",
    "timer list 1"
   ]
  },
  {
   "cell_type": "code",
   "execution_count": 38,
   "metadata": {
    "collapsed": false
   },
   "outputs": [
    {
     "name": "stdout",
     "output_type": "stream",
     "text": [
      "\n",
      ". timer off 1\n",
      "The time this codes run is\n",
      "   1:      2.34 /        1 =       2.3430\n"
     ]
    }
   ],
   "source": [
    "%%stata -o pure_log\n",
    "timer on 1\n",
    "set seed 100\n",
    "capture program drop mcprog_pure\n",
    "        program mcprog_pure\n",
    "        clear\n",
    "        drawnorm alpha_i, n(200)\n",
    "        gen i = _n \n",
    "        expand 5\n",
    "        bys i: g t = _n \n",
    "        gen trend = log(t*i) \n",
    "            * logarithm! \n",
    "        drawnorm nu_it e_it, n(1000)\n",
    "        g x_it = nu_it + alpha_i + trend \n",
    "        g y_it = 3 + alpha_i + 2*x_it + trend + e_it \n",
    "        xtset i t\n",
    "        g d2x_it = d2.x_it\n",
    "        g d2y_it = d2.y_it\n",
    "        reg d2y_it d2x_it, \n",
    "        drop nu_it alpha_i e_it y_it x_it d2y_it d2x_it\n",
    "end\n",
    "        simulate _b _se, nodots nolegend  reps(100): mcprog_pure\n",
    "        rename _b_d2x_it beta_pure_log\n",
    "        rename _se_d2x_it se_pure_log\n",
    "        keep beta_pure_log se_pure_log\n",
    "        \n",
    "timer off 1\n",
    "display \"The time this code runs is\"\n",
    "timer list 1\n",
    "    "
   ]
  },
  {
   "cell_type": "markdown",
   "metadata": {},
   "source": [
    "###  Comparison"
   ]
  },
  {
   "cell_type": "code",
   "execution_count": 39,
   "metadata": {
    "collapsed": false
   },
   "outputs": [
    {
     "name": "stdout",
     "output_type": "stream",
     "text": [
      "            FD       mix      pure\n",
      "Beta  2.020059  2.021325  2.004355\n",
      "SE    0.035496  0.040955  0.041070\n"
     ]
    }
   ],
   "source": [
    "############################ Regression Results with log individual specific linear trend\n",
    "# FD Regression Results\n",
    "fd_mean_log = fd_log.mean()\n",
    "beta_fd_log = fd_mean_log[0]\n",
    "se_fd_log = fd_mean_log[1]\n",
    "# Mix Regression Results\n",
    "mix_mean_log = mix_log.mean()\n",
    "beta_mix_log = mix_mean_log[0]\n",
    "se_mix_log = mix_mean_log[1]\n",
    "# Pure Regression Results\n",
    "pure_mean_log = pure_log.mean()\n",
    "beta_pure_log = pure_mean_log[0]\n",
    "se_pure_log = pure_mean_log[1]\n",
    "\n",
    "\n",
    "results_logtrend_beta = np.array([beta_fd_log, beta_mix_log, beta_pure_log])\n",
    "results_logtrend_se = np.array([se_fd_log, se_mix_log, se_pure_log])\n",
    "results_logtrend = np.mat([results_logtrend_beta, results_logtrend_se]) \n",
    "results_logtrend = pd.DataFrame(results_logtrend)\n",
    "results_logtrend.index = [\"Beta\", \"SE\"]\n",
    "results_logtrend.columns = [\"FD\", \"mix\", \"pure\"]\n",
    "print results_logtrend"
   ]
  },
  {
   "cell_type": "markdown",
   "metadata": {},
   "source": [
    "> For the log individual specific trend we have the case that the trend is upward sloping, but the marginal increase decreases, i.e. we have concave trends.\n",
    "All three methods are good in capturing the _unobserved_ trend component. As for the constant trend, the _mix_ performs worst, FD second and _pure_ performs best.\n",
    "\n",
    "> Again, FD is capable to solve the endogeneity problem and there is no need for a random-trend model."
   ]
  },
  {
   "cell_type": "markdown",
   "metadata": {
    "collapsed": true
   },
   "source": [
    "<a id='MCNonFEFD'></a> "
   ]
  },
  {
   "cell_type": "markdown",
   "metadata": {},
   "source": [
    "### 2.6.3. The within-transformation first-step \n",
    "We discussed in the beginning that it does not make sense theoretically to first transform the data using the within-transformation and then to use the first-differences. For the canceling of the trend, it was crucial to take first the first-difference. We will verify here with the Monte Carlo framework that this produces biased results."
   ]
  },
  {
   "cell_type": "code",
   "execution_count": 40,
   "metadata": {
    "collapsed": false
   },
   "outputs": [
    {
     "name": "stdout",
     "output_type": "stream",
     "text": [
      "\n",
      ". timer off 1\n",
      "The time this codes run is\n",
      "   1:      6.60 /        1 =       6.5970\n"
     ]
    }
   ],
   "source": [
    "%%stata -o fe_fe\n",
    "timer on 1\n",
    "set seed 100\n",
    "capture program drop mcprog_fe\n",
    "        program mcprog_fe\n",
    "        clear\n",
    "        drawnorm alpha_i, n(200)\n",
    "        gen i = _n \n",
    "        expand 5\n",
    "        bys i: g t = _n \n",
    "        gen trend = t*i  \n",
    "        drawnorm nu_it e_it, n(1000)\n",
    "        g x_it = nu_it + alpha_i + trend \n",
    "        g y_it = 3 + alpha_i + 2*x_it + trend + e_it \n",
    "        xtset i t\n",
    "        xtdata i t x_it y_it, fe clear \n",
    "            * preforms the within-transformation, so we can be sure that it is really the first thing in the regression\n",
    "        xtreg y_it x_it, fe \n",
    "            *  Random-Trend (FE-FD)\n",
    "        drop y_it x_it\n",
    "end\n",
    "        simulate _b, nodots nolegend  reps(100): mcprog_fe\n",
    "        rename _b_x_it beta_fe_fe\n",
    "        keep beta_fe_fe \n",
    "            * it = individual trend\n",
    "timer off 1\n",
    "display \"The time this codes run is\"\n",
    "timer list 1\n",
    "\n"
   ]
  },
  {
   "cell_type": "code",
   "execution_count": 41,
   "metadata": {
    "collapsed": false
   },
   "outputs": [
    {
     "name": "stdout",
     "output_type": "stream",
     "text": [
      "\n",
      ". timer off 1\n",
      "The time this codes run is\n",
      "   1:      3.95 /        1 =       3.9490\n"
     ]
    }
   ],
   "source": [
    "%%stata -o fe_fd\n",
    "timer on 1\n",
    "set seed 100\n",
    "capture program drop mcprog_fe\n",
    "        program mcprog_fe\n",
    "        clear\n",
    "        drawnorm alpha_i, n(200)\n",
    "        gen i = _n \n",
    "        expand 5\n",
    "        bys i: g t = _n \n",
    "        gen trend = t*i  \n",
    "        drawnorm nu_it e_it, n(1000)\n",
    "        g x_it = nu_it + alpha_i + trend \n",
    "        g y_it = 3 + alpha_i + 2*x_it + trend + e_it \n",
    "        xtset i t\n",
    "        xtdata i t x_it y_it, fe clear \n",
    "            * preforms the within-transformation, so we can be sure that it is really the first thing in the regression\n",
    "        xtset i t \n",
    "            * to sort the data\n",
    "        g dx_it = d.x_it\n",
    "        g dy_it = d.y_it\n",
    "        reg dy_it dx_it,  \n",
    "            * Random-Trend (FE-FD)\n",
    "        drop y_it x_it\n",
    "end\n",
    "        simulate _b, nodots nolegend  reps(100): mcprog_fe\n",
    "        rename _b_dx_it beta_fe_fd\n",
    "        keep beta_fe_fd \n",
    "            * it = individual trend\n",
    "timer off 1\n",
    "display \"The time this code runs is\"\n",
    "timer list 1"
   ]
  },
  {
   "cell_type": "markdown",
   "metadata": {},
   "source": [
    "###  Comparison"
   ]
  },
  {
   "cell_type": "code",
   "execution_count": 42,
   "metadata": {
    "collapsed": false
   },
   "outputs": [
    {
     "name": "stdout",
     "output_type": "stream",
     "text": [
      "           Beta\n",
      "FE-FE  2.999957\n",
      "FE-FD  2.999481\n"
     ]
    }
   ],
   "source": [
    "fe_fe_mean = fe_fe.mean()\n",
    "fe_fd_mean = fe_fd.mean()\n",
    "\n",
    "results_within_beta = np.mat([fe_fe_mean, fe_fd_mean])\n",
    "results_within = pd.DataFrame(results_within_beta)\n",
    "results_within.index = [\"FE-FE\", \"FE-FD\"]\n",
    "results_within.columns = [\"Beta\"]\n",
    "print results_within\n",
    "\n"
   ]
  },
  {
   "cell_type": "markdown",
   "metadata": {},
   "source": [
    "> Results are just as biased to the normal FE. Doing the second transformation was not helpful at all, i.e. the results confirm the theoretical model. We suppress the standard errors because the results are inconsistent anyway and are in line with our expectations."
   ]
  },
  {
   "cell_type": "markdown",
   "metadata": {},
   "source": [
    "-------------------------------\n",
    "<a id='MCPythonRT'></a> "
   ]
  },
  {
   "cell_type": "markdown",
   "metadata": {},
   "source": [
    "# 3. Random Trend Simulation using Python\n",
    "\n",
    "Since the course requires not only a strong focus on simulation within Jupyter Notebook, but is also about employing free software packages (especially python), we will now do a similar simulation using Python. \n",
    "\n",
    "As before, we will first do an example with just one simulation to verify that the code is working properly. In a second step, we will run the same simulation with 1,000 replications.\n",
    "\n",
    "Following the conclusions from our benchmark results with _ipstata_, we will only look into the case of the linear individual specific trend. If we get similar results here, results should hold for the others as well. Besides, the RT estimation was our main question of interest in the first place.\n",
    "\n",
    "There are some packages which can be used to run regressions, but we did not find a package that explicitly runs panel-data transformations. Since we had to write the transformation on our own, we decided calculate the regression ourselves as well. "
   ]
  },
  {
   "cell_type": "markdown",
   "metadata": {},
   "source": [
    "<a id='MCPythonDGP'></a> "
   ]
  },
  {
   "cell_type": "markdown",
   "metadata": {
    "collapsed": false
   },
   "source": [
    "###  3.1. DGP"
   ]
  },
  {
   "cell_type": "code",
   "execution_count": 2,
   "metadata": {
    "collapsed": false
   },
   "outputs": [
    {
     "name": "stdout",
     "output_type": "stream",
     "text": [
      "     Individual  Time   alpha_i  trend         y_it        x_it      e_it\n",
      "0             1     1  0.081644      1     5.732273    0.351133  0.948363\n",
      "1             1     2  0.081644      2     6.612057    0.817430 -0.104446\n",
      "2             1     3  0.081644      3    10.512407    2.190635  0.049494\n",
      "3             1     4  0.081644      4    16.866963    4.559402  0.666515\n",
      "4             1     5  0.081644      5    15.316393    4.412193 -1.589636\n",
      "5             2     1  1.439534      2    13.505864    3.198058  0.670213\n",
      "6             2     2  1.439534      4    19.428657    5.940613 -0.892103\n",
      "7             2     3  1.439534      6    24.871091    6.401702  1.628153\n",
      "8             2     4  1.439534      8    29.753050    8.545861  0.221795\n",
      "9             2     5  1.439534     10    37.783102   11.411411  0.520746\n",
      "10            3     1  0.849931      3    12.201132    3.499279 -1.647356\n",
      "11            3     2  0.849931      6    19.919996    5.134927 -0.199789\n",
      "12            3     3  0.849931      9    34.974311   11.494172 -0.863964\n",
      "13            3     4  0.849931     12    40.245492   12.691722 -0.987882\n",
      "14            3     5  0.849931     15    51.452178   16.478044 -0.353840\n",
      "15            4     1  0.148844      4    14.838310    3.385863  0.917739\n",
      "16            4     2  0.148844      8    30.525287    9.374828  0.626786\n",
      "17            4     3  0.148844     12    40.541130   12.640741  0.110804\n",
      "18            4     4  0.148844     16    53.344457   16.013194  2.169224\n",
      "19            4     5  0.148844     20    65.079354   21.051145 -0.171780\n",
      "20            5     1 -0.341874      5    17.476832    4.760752  0.297201\n",
      "21            5     2 -0.341874     10    34.756116   10.460827  1.176335\n",
      "22            5     3 -0.341874     15    43.651854   14.167716 -2.341704\n",
      "23            5     4 -0.341874     20    61.874014   19.873927 -0.531966\n",
      "24            5     5 -0.341874     25    76.914891   23.943467  1.369830\n",
      "25            6     1  0.699115      6    21.502037    5.530137  0.742649\n",
      "26            6     2  0.699115     12    41.691355   12.419381  1.153478\n",
      "27            6     3  0.699115     18    58.002449   18.172144 -0.040953\n",
      "28            6     4  0.699115     24    79.717473   25.241246  1.535867\n",
      "29            6     5  0.699115     30    95.147823   31.357970 -1.267232\n",
      "..          ...   ...       ...    ...          ...         ...       ...\n",
      "970         195     1 -1.601181    195   580.751835  192.271003 -0.188990\n",
      "971         195     2 -1.601181    390  1172.561358  389.932692  1.297155\n",
      "972         195     3 -1.601181    585  1754.472944  583.536638  1.000850\n",
      "973         195     4 -1.601181    780  2337.161787  777.733976  0.295015\n",
      "974         195     5 -1.601181    975  2921.585985  972.387930  0.411306\n",
      "975         196     1  0.666279    196   593.518304  196.491222  0.869580\n",
      "976         196     2  0.666279    392  1176.061868  390.732142 -1.068695\n",
      "977         196     3  0.666279    588  1770.130783  589.060130  0.344243\n",
      "978         196     4  0.666279    784  2355.084773  783.804157 -0.189820\n",
      "979         196     5  0.666279    980  2949.276267  982.647443  0.315103\n",
      "980         197     1  0.893637    197   595.609236  197.869762 -1.023925\n",
      "981         197     2  0.893637    394  1188.135227  395.283467 -0.325343\n",
      "982         197     3  0.893637    591  1778.573536  592.029845 -0.379791\n",
      "983         197     4  0.893637    788  2367.983576  788.293365 -0.496792\n",
      "984         197     5  0.893637    985  2959.193990  985.785830 -1.271308\n",
      "985         198     1 -0.104579    198   594.651543  197.034409 -0.312696\n",
      "986         198     2 -0.104579    396  1194.952345  397.717231  0.622462\n",
      "987         198     3 -0.104579    594  1780.894758  592.164506 -0.329675\n",
      "988         198     4 -0.104579    792  2376.898186  791.420007 -0.837248\n",
      "989         198     5 -0.104579    990  2970.995794  989.339512 -0.578651\n",
      "990         199     1  0.050863    199   596.831085  197.773460 -0.766698\n",
      "991         199     2  0.050863    398  1198.531280  398.784509 -0.088601\n",
      "992         199     3  0.050863    597  1796.707892  598.819837 -0.982646\n",
      "993         199     4  0.050863    796  2386.712984  794.545137 -1.428153\n",
      "994         199     5  0.050863    995  2986.143698  995.135712 -2.178588\n",
      "995         200     1 -0.485988    200   603.093052  200.324650 -0.070260\n",
      "996         200     2 -0.485988    400  1200.811033  398.913590  0.469841\n",
      "997         200     3 -0.485988    600  1807.004852  601.375480  1.739880\n",
      "998         200     4 -0.485988    800  2401.631164  799.313008  0.491136\n",
      "999         200     5 -0.485988   1000  2999.523101  998.680646 -0.352204\n",
      "\n",
      "[1000 rows x 7 columns]\n"
     ]
    }
   ],
   "source": [
    "random.seed(100) # Equivalent to `set seed 100`\n",
    "############################################### Somehow the seed does not work\n",
    "\n",
    "# For the coding part, we will set some variables which was not necessary in stata:\n",
    "n = 200 # in python there is no need (or not allowed) to write `generate`\n",
    "T = 5\n",
    "N = n * T\n",
    "\n",
    "alpha_i = np.random.normal(0, 1, 200) # Equivalent to `drawnorm alpha_i, n(200)`\n",
    "alpha_i = np.repeat(alpha_i,5) # Equivalent to `expand 5`  \n",
    "\n",
    "i = np.arange(n) + 1 # Equivalent to `gen i = _n`  # +1 because python would start with 0\n",
    "i = np.repeat(i,T) # Equivalent to `expand 5`  \n",
    "\n",
    "t = np.arange(5) + 1 # Equivalent to bys i: g t = _n \n",
    "t = np.tile(t,200) # Equivalent to `expand 5`  \n",
    "\n",
    "trend = t*i # <=> `gen trend = t*i`\n",
    "\n",
    "mean = [0, 0]\n",
    "cov = [[1, 0], [0, 1]]\n",
    "nu_it, e_it = np.random.multivariate_normal(mean, cov, 1000).T # <=> `drawnorm nu_it e_it, n(1000)`\n",
    "\n",
    "x_it = (nu_it + alpha_i + trend).T # <=> `g x_it = nu_it + alpha_i + trend`\n",
    "# Since we will transform the data at least ones, we don't have to include an intercept in the first place.\n",
    "\n",
    "y_it = (3 + alpha_i + 2*x_it + trend + e_it).T # <=> `g y_it = 3 + alpha_i + 2*x_it + trend + e_it `\n",
    "\n",
    "m = np.matrix((i, t, alpha_i, trend, y_it, x_it, e_it))\n",
    "mt = m.transpose()\n",
    "df = pd.DataFrame(mt)\n",
    "df.columns = [\"Individual\", \"Time\", \"alpha_i\", \"trend\", \"y_it\", \"x_it\", \"e_it\"]\n",
    "print(df)\n"
   ]
  },
  {
   "cell_type": "markdown",
   "metadata": {},
   "source": [
    "> The data generating process is here now down completely using open source packages (numpy). We print the data frame to have a quick overview whether the the DGP was correct or not. Judging from the output, it seems that so far everything is fine.\n",
    "\n",
    "> The arising problem now however is, that our Internet research did not provide us with commands which can analyze panel data as easily as Stata can do. I.e. there is no command which is directly comparable to \n",
    "`xtset i t` and `xtreg y_it x_it, fe`. We therefor have to construct the transformations ourselves. \n",
    "\n",
    "<a id='MCPythonDataTr'></a> \n",
    "\n",
    "###  3.2. Data Transformation"
   ]
  },
  {
   "cell_type": "code",
   "execution_count": 3,
   "metadata": {
    "collapsed": false
   },
   "outputs": [],
   "source": [
    "\n",
    "# First and double Difference for x:\n",
    "x_reshape = np.reshape(np.ravel(x_it), (200, 5)).T # reshape x-variable to wide form for the transformation\n",
    "    # To verify the reshape command, comment out the next to lines. We need 200 columsn with each 5 rows for 200 individuals haven 5 time periods\n",
    "    #x_df = pd.DataFrame(x_reshape)\n",
    "    #print x_df.head(n=5) # One can see that we have now 200 columns with each 5 time periods\n",
    "dx = np.zeros(x_reshape.shape) #Constructing a zero variable for the first-difference command which is following (this is necessary)\n",
    "dx[1:] = x_reshape[1:] - x_reshape[:-1] # First-Difference\n",
    "dx = np.delete(dx,(0), axis=0) # Dropping the first period which does not contain any information anymore.\n",
    "    # Every dirst-difference means that we will lose one time period.\n",
    "    #dx = numpy.delete(dx,(0), axis=1)\n",
    "d2x = np.zeros(dx.shape) #Constructing a zero variable for the first-difference command which is following (this is necessary)\n",
    "d2x[1:] = dx[1:] - dx[:-1] # Second-Difference\n",
    "d2x = np.delete(d2x,(0), axis=0)\n",
    "    #For verification command out the next lines:\n",
    "    #dx_df = pd.DataFrame(dx)\n",
    "    #print dx_df.head(n=5) # The first entry is now zero for all zero because we can't take the first-difference from the starting value. Comparing dx_df and x_df one can clearly see that the first-differnce worked well.\n",
    "    # Now we have the reshape the data again in long form for the regression\n",
    "dx_reshape = dx # result is stored for the within-transformation    \n",
    "dx = np.reshape(dx.T, N-n) # replacing dx with long form (to be used in a regression)\n",
    "# We have to substract n from N, because we delete one time period\n",
    "d2x = np.reshape(d2x.T, N-2*n)\n",
    "# Same here, just that now we deleted two time periods.\n",
    "    #dx[:11] #to check if transition worked\n",
    "\n",
    "# Within-transformation for x\n",
    "dx_mean = dx_reshape.mean(axis=0) # obtaining the mean for each individual after the first-difference is done\n",
    "dx_mean_i = np.repeat(dx_mean,T-1) # for the calculation, construct a mean-matrix with same shape as the x-variable\n",
    "dx_mean_i_reshape = np.reshape(dx_mean_i.T, N-n) # Reshaping the data into long-form\n",
    "dwx = dx - dx_mean_i_reshape # Substracting the mean for the within-fransformation:\n",
    "# dwx is now constructed for the Random-Trend 2, mix    \n",
    "    \n",
    "################ Some transition for the y-variable\n",
    "y_reshape = np.reshape(np.ravel(y_it), (200, 5)).T # reshape x-variable to wide form for the transformation\n",
    "dy = np.zeros(y_reshape.shape) #Constructing a zero variable for the first-difference command which is following (this is necessary)\n",
    "dy[1:] = y_reshape[1:] - y_reshape[:-1] # First-Difference\n",
    "dy = np.delete(dy,(0), axis=0) # Dropping the first period which does not contain any information nomore.\n",
    "\n",
    "d2y = np.zeros(dy.shape) #Constructing a zero variable for the first-difference command which is following (this is necessary)\n",
    "d2y[1:] = dy[1:] - dy[:-1] # Second-Difference\n",
    "d2y = np.delete(d2y,(0), axis=0)\n",
    "dy_reshape = dy # result is stored for the within-transformation\n",
    "dy = np.reshape(dy.T, N-n)\n",
    "d2y = np.reshape(d2y.T, N-2*n)\n",
    "\n",
    "dy_mean = dy_reshape.mean(axis=0) \n",
    "dy_mean_i = np.repeat(dy_mean,T-1) \n",
    "dy_mean_i_reshape = np.reshape(dy_mean_i.T, N-n) \n",
    "dwy = dy - dy_mean_i_reshape \n",
    "# dwy is now constructed for the Random-Trend 2, mix\n",
    "\n"
   ]
  },
  {
   "cell_type": "markdown",
   "metadata": {},
   "source": [
    ">Already noting this transformation part, it does seem very reasonable to rely on Stata if one wants to analyze panel data. Surely, this code is not as efficient as possible since we just started coding, and we are certain that the code can be improved, but Stata seems so far still more convenient to us.\n",
    "\n",
    "<a id='MCPythonReg'></a> \n",
    "\n",
    "### 3.3.  Regression"
   ]
  },
  {
   "cell_type": "code",
   "execution_count": 4,
   "metadata": {
    "collapsed": false
   },
   "outputs": [
    {
     "name": "stdout",
     "output_type": "stream",
     "text": [
      "            FD   RT-pure    RT-mix\n",
      "Beta  2.999848  2.037157  2.023651\n"
     ]
    }
   ],
   "source": [
    "######### Regression\n",
    "# First-Difference\n",
    "x = np.mat(dx).T\n",
    "y = np.mat(dy).T\n",
    "estimate_fd = (x.T * x).I * x.T * y\n",
    "\n",
    "x2 = np.mat(d2x).T\n",
    "y2 = np.mat(d2y).T\n",
    "estimate_pure = (x2.T * x2).I * x2.T * y2\n",
    "\n",
    "xw = np.mat(dwx).T\n",
    "yw = np.mat(dwy).T\n",
    "estimate_mix = (xw.T * xw).I * xw.T * yw\n",
    "\n",
    "results = np.array((estimate_fd, estimate_pure, estimate_mix))\n",
    "results = np.mat(results)\n",
    "results_df = pd.DataFrame(results)\n",
    "results_df.columns = [\"FD\", \"RT-pure\", \"RT-mix\",]\n",
    "results_df.index = [\"Beta\"]\n",
    "print results_df\n",
    "\n",
    "########################## Possible OLS-regression packages we decided against. We kept in the code just in case we want to find it somewhen later on.\n",
    "#model = sm.OLS(dy, dx)\n",
    "#results = model.fit()\n",
    "#print(results.summary())\n",
    "#print('Parameters: ', results.params)\n",
    "\n",
    "#model = sm.OLS(d2y, d2x)\n",
    "#results = model.fit()\n",
    "#print(results.summary())\n",
    "#print('Parameters: ', results.params)"
   ]
  },
  {
   "cell_type": "code",
   "execution_count": null,
   "metadata": {
    "collapsed": false
   },
   "outputs": [],
   "source": []
  },
  {
   "cell_type": "markdown",
   "metadata": {
    "collapsed": false
   },
   "source": [
    "The results show for the first two entries a similar picture to what we had in in the Stata results as well. The FD is upwards biased due to the linear specific trend. The _pure_ estimation solves for the engogeneity problem and gives a coefficient very close to the true value (difference is only at the 3. digit which should play a dig role). For the _mix_, where we first calculate the first-difference and then subtract the mean specific to each individual performs not as good as before. The coeffcient is equal to 2.277722, so roughly biased by 0.28. Looking into the Stata help file of the [xtreg](http://www.stata.com/manuals13/xtxtreg.pdf) command shows us that in Stata does not just uses the within-transformation, but also adds the overall average:\n",
    "\n",
    "$$y_{it} - \\bar{y}_{i} + \\bar{\\bar{y}} = \\beta \\cdot (x_{it} - \\bar{x}_{i} + \\bar{\\bar{x}}) + \\alpha_i - \\alpha_i + \\bar{\\alpha} + e_{it} - \\bar{e}_{i} +\\bar{\\bar{e}} \\quad $$ \n",
    "\n",
    "with $\\bar{y}_{i} = \\sum_{t=1}^T y_{it}$, $\\bar{\\bar{y}} = \\sum_{i}\\sum_{t} x_{it} /(nT_i)$\n",
    "\n",
    "This might influence the results. Another possibility would be that the seed was just not _in favor_ for the _mix_ method.\n",
    "\n",
    "As noted before, we will run now the regression with 1000 replications to see how the estimations behaves.\n"
   ]
  },
  {
   "cell_type": "code",
   "execution_count": 6,
   "metadata": {
    "collapsed": false,
    "scrolled": true
   },
   "outputs": [
    {
     "name": "stdout",
     "output_type": "stream",
     "text": [
      "                 -5        -1       0.5         2\n",
      "FD_beta   -4.000132 -0.000149  1.499847  2.999853\n",
      "FD_se      0.000310  0.000306  0.000304  0.000309\n",
      "RT-1_beta -5.003224 -0.997453  0.500794  1.998778\n",
      "RT-1_se    0.053411  0.053555  0.052878  0.050429\n",
      "RT-2_beta -5.003025 -0.997914  0.500105  1.999347\n",
      "RT-2_se    0.044368  0.044986  0.045133  0.043389\n"
     ]
    }
   ],
   "source": [
    "r = 1000 # number of replications of the simulation\n",
    "\n",
    "#### empty matrices generated to store the results at the end of the loop\n",
    "# for first-difference\n",
    "estimate_fd = np.mat(np.empty((1, r))) \n",
    "estimate_mat_fd = np.mat(np.empty((4, r))) \n",
    "beta_fd_hat = np.zeros(4)\n",
    "se_fd_hat = np.zeros(4)\n",
    "\n",
    "# for random-trend (1) (pure)\n",
    "estimate_rt_p = np.mat(np.empty((1, r)))\n",
    "estimate_mat_p = np.mat(np.empty((4, r))) \n",
    "beta_rt_p_hat = np.zeros(4)\n",
    "se_rt_p_hat = np.zeros(4)\n",
    "\n",
    "# for random-trend (2) (mix)\n",
    "estimate_rt_m = np.mat(np.empty((1, r)))\n",
    "estimate_mat_m = np.mat(np.empty((4, r))) \n",
    "beta_rt_m_hat = np.zeros(4)\n",
    "se_rt_m_hat = np.zeros(4)\n",
    "####\n",
    "\n",
    "l = 0 # Used to move within a vector to store results at the end\n",
    "n = 200 # defines the number of individuals\n",
    "T = 5 # defines the number of time periods\n",
    "N = n * T # maximum number of observations, necessary for the calculations\n",
    "intercept = 3 # Even though the intercept cancels out, we leave it in the model because it was in the basic model\n",
    "for beta in (-5, -1, 0.5, 2): # Here we actually run the code vor reveral beta's, -5, -1, 0.5 and 2\n",
    "    # in stata it would be `forvalue beta in (-5, -1, 0.5, 2)`\n",
    "    for j in range(0, r): # Loop for the different amounts of replications of the simulation, done for each beta     \n",
    "        # DGP\n",
    "        random.seed(r) # Seed is defined in the loop to have a different seed per replication, but still knowing which seed's are used\n",
    "        alpha_i = np.random.normal(0, 1, n)\n",
    "        alpha_i = np.repeat(alpha_i,T) \n",
    "        i = np.arange(n)\n",
    "        i = np.repeat(i,T)\n",
    "        t = np.arange(T) + 1 \n",
    "        t = np.tile(t,n)\n",
    "        trend = t*i \n",
    "        mean = [0, 0]\n",
    "        cov = [[1, 0], [0, 1]]\n",
    "        nu_it, e_it = np.random.multivariate_normal(mean, cov, N).T \n",
    "        x_it = (nu_it + alpha_i + trend).T \n",
    "        y_it = (intercept + alpha_i + beta*x_it + trend + e_it).T # <=> `g y_it = 3 + alpha_i + 2*x_it + trend + e_it `\n",
    "        \n",
    "        ############################### Transformation for the first-difference and randon-trend (1) and (2)\n",
    "        \n",
    "        # First-difference and random-trend (1)\n",
    "        x_reshape = np.reshape(np.ravel(x_it), (n, T)).T \n",
    "        dx = np.zeros(x_reshape.shape)\n",
    "        dx[1:] = x_reshape[1:] - x_reshape[:-1] \n",
    "        dx = np.delete(dx,(0), axis=0) \n",
    "        dx_reshape = dx # result is stored for the within-transformation\n",
    "        d2x = np.zeros(dx.shape) \n",
    "        d2x[1:] = dx[1:] - dx[:-1] \n",
    "        d2x = np.delete(d2x,(0), axis=0)\n",
    "        \n",
    "        dX = np.reshape(dx.T, N-n) \n",
    "        d2X = np.reshape(d2x.T, N-2*n)\n",
    "\n",
    "        y_reshape = np.reshape(np.ravel(y_it), (n, T)).T \n",
    "        dy = np.zeros(y_reshape.shape)\n",
    "        dy[1:] = y_reshape[1:] - y_reshape[:-1] \n",
    "        dy = np.delete(dy,(0), axis=0)\n",
    "        dy_reshape = dy # result is stored for the within-transformation\n",
    "        d2y = np.zeros(dy.shape)\n",
    "        d2y[1:] = dy[1:] - dy[:-1] \n",
    "        d2y = np.delete(d2y,(0), axis=0)\n",
    "        dY = np.reshape(dy.T, N-n)\n",
    "        d2Y = np.reshape(d2y.T, N-2*n)\n",
    "        \n",
    "        # Within-transformation\n",
    "        dx_mean = dx_reshape.mean(axis=0) \n",
    "        dx_mean_i = np.repeat(dx_mean,T-1) \n",
    "        dx_mean_i_reshape = np.reshape(dx_mean_i.T, N-n) \n",
    "        dwX = dX - dx_mean_i_reshape\n",
    "        # dwX is now constructed for the Random-Trend 2, mix\n",
    "        # Same for the y-variable\n",
    "        dy_mean = dy_reshape.mean(axis=0) \n",
    "        dy_mean_i = np.repeat(dy_mean,T-1) \n",
    "        dy_mean_i_reshape = np.reshape(dy_mean_i.T, N-n) \n",
    "        dwY = dY - dy_mean_i_reshape \n",
    "        # dwY is now constructed for the Random-Trend 2, mix\n",
    "        \n",
    "        ################# First-Difference Regression\n",
    "        X = np.mat(dX).T\n",
    "        Y = np.mat(dY).T\n",
    "        M = (X.T * X).I * X.T\n",
    "        estimate_fd[:, j] = M * Y\n",
    "        estimate_mat_fd[l] = estimate_fd\n",
    "        \n",
    "        ################# Random-Trend (1), pure Regression\n",
    "        X2 = np.mat(d2X).T\n",
    "        Y2 = np.mat(d2Y).T\n",
    "        M2 = (X2.T * X2).I * X2.T\n",
    "        estimate_rt_p[:, j] = M2 * Y2\n",
    "        estimate_mat_p[l] = estimate_rt_p\n",
    "        \n",
    "        ################# Random-Trend (2), mix Regression\n",
    "        Xw = np.mat(dwX).T\n",
    "        Yw = np.mat(dwY).T\n",
    "        Mw = (Xw.T * Xw).I * Xw.T\n",
    "        estimate_rt_m[:, j] = Mw * Yw \n",
    "        estimate_mat_m[l] = estimate_rt_m\n",
    "        \n",
    "        \n",
    "        \n",
    "    mu_fd = estimate_fd.mean()\n",
    "    var_fd = estimate_fd.var()\n",
    "    sigma_fd = np.sqrt(var_fd)\n",
    "    beta_fd_hat[l] = mu_fd\n",
    "    se_fd_hat[l] = sigma_fd\n",
    "    \n",
    "    mu_rt_p = estimate_rt_p.mean()\n",
    "    var_rt_p = estimate_rt_p.var()\n",
    "    sigma_rt_p = np.sqrt(var_rt_p)\n",
    "    beta_rt_p_hat[l] = mu_rt_p\n",
    "    se_rt_p_hat[l] = sigma_rt_p\n",
    "    \n",
    "    mu_rt_m = estimate_rt_m.mean()\n",
    "    var_rt_m = estimate_rt_m.var()\n",
    "    sigma_rt_m = np.sqrt(var_rt_m)\n",
    "    beta_rt_m_hat[l] = mu_rt_m\n",
    "    se_rt_m_hat[l] = sigma_rt_m\n",
    "    \n",
    "    l = l + 1\n",
    "    \n",
    "\n",
    "#estimate_fd = np.squeeze(np.asarray(estimate_fd))\n",
    "\n",
    "\n",
    "#estimate_rt_p = np.squeeze(np.asarray(estimate_rt_p))\n",
    "\n",
    "\n",
    "#estimate_rt_m = np.squeeze(np.asarray(estimate_rt_m))\n",
    "\n",
    "\n",
    "results = np.matrix((beta_fd_hat, se_fd_hat, beta_rt_p_hat, se_rt_p_hat, beta_rt_m_hat, se_rt_m_hat))\n",
    "results_df = pd.DataFrame(results)\n",
    "results_df.index = [\"FD_beta\", \"FD_se\", \"RT-1_beta\", \"RT-1_se\", \"RT-2_beta\", \"RT-2_se\"]\n",
    "results_df.columns = [\"-5\", \"-1\", \"0.5\", \"2\"]\n",
    "print results_df"
   ]
  },
  {
   "cell_type": "markdown",
   "metadata": {},
   "source": [
    "In the output table `results` one can see the results of the estimated coefficient $\\beta$ for the first-difference and random-trend _pure_ and _mix_. Further, we included the the standard deviation of the distribution the estimated coefficients have from the various replication (so, this is not a mean from each standard error, but just the one standard error from the coefficients. This goes more into the direction of bootstrapping(?)). The numbers of each columns show the true value of the coefficient.\n",
    "\n",
    "First we see that the now the _mix_ (=2) RT is not much different from the _pure_ estimation.\n",
    "\n",
    "For a better overview of the results, the next cells will do some comparisons. First we calculate the differences of the estimated $\\hat{\\beta}$ (given by beta_fd_hat for the first-difference) and the true $\\beta$ (given by beta)."
   ]
  },
  {
   "cell_type": "code",
   "execution_count": 7,
   "metadata": {
    "collapsed": false
   },
   "outputs": [],
   "source": [
    "beta = np.array((-5, -1, 0.5, 2))\n",
    "diff_fd = beta_fd_hat - beta\n",
    "diff_fd_r = np.round(np.absolute(diff_fd),0)\n",
    "\n",
    "diff_rt_p = beta_rt_p_hat - beta\n",
    "diff_rt_p_r = np.round(np.absolute(diff_rt_p),0)\n",
    "\n",
    "diff_rt_m = beta_rt_m_hat - beta\n",
    "diff_rt_m_r = np.round(np.absolute(diff_rt_m),0)\n",
    "\n",
    "diff_se_rt = se_rt_p_hat - se_rt_m_hat        \n",
    "        "
   ]
  },
  {
   "cell_type": "markdown",
   "metadata": {},
   "source": [
    "To see whether the differences from the true coefficient is large, we compare the estimate to the value $0.01$ and let python tell us whether the difference is bigger or smaller than the chosen value.:"
   ]
  },
  {
   "cell_type": "code",
   "execution_count": 8,
   "metadata": {
    "collapsed": false
   },
   "outputs": [
    {
     "name": "stdout",
     "output_type": "stream",
     "text": [
      "\n",
      "Test if the difference between estimator of the first-difference and the true value is significant unequal to zero\n",
      "Reject\n",
      "Reject\n",
      "Reject\n",
      "Reject\n",
      "\n",
      "Test if the difference between estimator of the random-trend (1) and the true value is significant unequal to zero\n",
      "Don't reject\n",
      "Don't reject\n",
      "Don't reject\n",
      "Don't reject\n",
      "\n",
      "Test if the difference between estimator of the random-trend (2) and the true value is significant unequal to zero\n",
      "Don't reject\n",
      "Don't reject\n",
      "Don't reject\n",
      "Don't reject\n"
     ]
    }
   ],
   "source": [
    "print \"\"\n",
    "print \"Test if the difference between estimator of the first-difference and the true value is significant unequal to zero\" \n",
    "for l in range(0,4):\n",
    "    if diff_fd[l] / se_fd_hat[l] > 1.96:\n",
    "        print \"Reject\"\n",
    "    else:\n",
    "        print \"Don't reject\"  \n",
    "print \"\"\n",
    "print \"Test if the difference between estimator of the random-trend (1) and the true value is significant unequal to zero\"         \n",
    "for l in range(0,4):\n",
    "    if diff_rt_m[l] / se_rt_m_hat[l] > 1.96:\n",
    "        print \"Reject\"\n",
    "    else:\n",
    "        print \"Don't reject\" \n",
    "\n",
    "print \"\"\n",
    "print \"Test if the difference between estimator of the random-trend (2) and the true value is significant unequal to zero\"                 \n",
    "for l in range(0,4):\n",
    "    if diff_rt_m[l] / se_rt_m_hat[l] > 1.96:\n",
    "        print \"Reject\"\n",
    "    else:\n",
    "        print \"Don't reject\"         \n",
    "        \n"
   ]
  },
  {
   "cell_type": "markdown",
   "metadata": {},
   "source": [
    "For the test we used the 95\\%-quantile. We conclude that both, the _pure_ and the _mix_ random-trend give consistent estimates. The first-difference (as expected) gives us inconsistent results. Thereby we conferm the results we obtained from stata above. It seems that the code conducted by us works. Works in the sense that the transformations are done correctly.\n",
    "\n",
    "To see however whether _pure_ or _mix_ is better, we will see which difference of the coefficient is smaller and which standard-errors are smaller"
   ]
  },
  {
   "cell_type": "code",
   "execution_count": 9,
   "metadata": {
    "collapsed": false
   },
   "outputs": [
    {
     "name": "stdout",
     "output_type": "stream",
     "text": [
      "Which method produces a smaller differences with the true value?\n",
      "Pure\n",
      "Mix\n",
      "Mix\n",
      "Pure\n",
      "\n",
      "Which method produces smaller standard errors?\n",
      "Mix\n",
      "Mix\n",
      "Mix\n",
      "Mix\n",
      "\n",
      "Difference of the standard errors:\n",
      "[ 0.00904223  0.00856889  0.00774504  0.00703955]\n"
     ]
    }
   ],
   "source": [
    "print \"Which method produces a smaller differences with the true value?\"\n",
    "for l in range(0,4):\n",
    "    if diff_rt_p[l] < diff_rt_m[l]:\n",
    "        print \"Pure\"\n",
    "    else:\n",
    "        print \"Mix\" \n",
    "\n",
    "print \"\"        \n",
    "print \"Which method produces smaller standard errors?\"        \n",
    "for l in range(0,4):\n",
    "    if se_rt_p_hat[l] < se_rt_m_hat[l]:\n",
    "        print \"Pure\"\n",
    "    else:\n",
    "        print \"Mix\" \n",
    "        \n",
    "print \"\"\n",
    "print \"Difference of the standard errors:\"\n",
    "print diff_se_rt"
   ]
  },
  {
   "cell_type": "markdown",
   "metadata": {},
   "source": [
    "For our simulation, it does not seem that for the mean of the coefficient it makes a different whether ones uses the first or the second random-trend approach. Here, two times the _mix_-approach has a smaller difference and two times the _pure_-approach has a smaller difference. The differences overall are very small, so small that in empirical papers it should not matter.\n",
    "\n",
    "For the standard error however, always the _mix_-approach is preferred. This means that the for the 1000 replications, the _mix_-approach is more accurant than the _pure_-approach. The difference of the standard errors is at the second decimal digit which, from our point of view, does not seem to be small enough to neglet it.\n",
    "\n",
    "We therefore conclude that it might be reasonable to suggest to use the second random-trend approach, in which one calculates first the first-difference to cancel out the constant and tranform the linear trend into a constant and then takes use of the within-transformation to cancel out the remaining constant."
   ]
  },
  {
   "cell_type": "code",
   "execution_count": 11,
   "metadata": {
    "collapsed": false
   },
   "outputs": [
    {
     "data": {
      "image/png": "[encoded data removed]",
      "text/plain": [
       "<matplotlib.figure.Figure at 0x1071c6810>"
      ]
     },
     "metadata": {},
     "output_type": "display_data"
    }
   ],
   "source": [
    "import matplotlib.pyplot as plt\n",
    "%matplotlib inline\n",
    "mu = 0\n",
    "sigma = 1\n",
    "s = np.random.normal(0, 1, 200)\n",
    "count, bins, ignored = plt.hist(s, 30, normed=True)\n",
    "plt.plot(bins, 1/(sigma * np.sqrt(2 * np.pi)) *\n",
    "               np.exp( - (bins - mu)**2 / (2 * sigma**2) ),\n",
    "         linewidth=2, color='r')\n",
    "plt.show()"
   ]
  },
  {
   "cell_type": "code",
   "execution_count": 12,
   "metadata": {
    "collapsed": false
   },
   "outputs": [
    {
     "name": "stderr",
     "output_type": "stream",
     "text": [
      "/Applications/anaconda/lib/python2.7/site-packages/matplotlib/axes/_axes.py:5907: UserWarning: 2D hist input should be nsamples x nvariables;\n",
      " this looks transposed (shape is 1 x 1000)\n",
      "  '(shape is %d x %d)' % inp.shape[::-1])\n"
     ]
    },
    {
     "ename": "KeyboardInterrupt",
     "evalue": "",
     "output_type": "error",
     "traceback": [
      "\u001b[0;31m---------------------------------------------------------------------------\u001b[0m",
      "\u001b[0;31mKeyboardInterrupt\u001b[0m                         Traceback (most recent call last)",
      "\u001b[0;32m<ipython-input-12-8c328f336a77>\u001b[0m in \u001b[0;36m<module>\u001b[0;34m()\u001b[0m\n\u001b[1;32m      8\u001b[0m          linewidth=2, color='r')\n\u001b[1;32m      9\u001b[0m \u001b[0;31m#plt.text(60, .025, r'$\\mu=100,\\ \\sigma=15$')\u001b[0m\u001b[0;34m\u001b[0m\u001b[0;34m\u001b[0m\u001b[0m\n\u001b[0;32m---> 10\u001b[0;31m \u001b[0mplt\u001b[0m\u001b[0;34m.\u001b[0m\u001b[0mshow\u001b[0m\u001b[0;34m(\u001b[0m\u001b[0;34m)\u001b[0m\u001b[0;34m\u001b[0m\u001b[0m\n\u001b[0m\u001b[1;32m     11\u001b[0m \u001b[0;34m\u001b[0m\u001b[0m\n\u001b[1;32m     12\u001b[0m \u001b[0;31m#axis = np.round(estimate,4)\u001b[0m\u001b[0;34m\u001b[0m\u001b[0;34m\u001b[0m\u001b[0m\n",
      "\u001b[0;32m/Applications/anaconda/lib/python2.7/site-packages/matplotlib/pyplot.pyc\u001b[0m in \u001b[0;36mshow\u001b[0;34m(*args, **kw)\u001b[0m\n\u001b[1;32m    242\u001b[0m     \"\"\"\n\u001b[1;32m    243\u001b[0m     \u001b[0;32mglobal\u001b[0m \u001b[0m_show\u001b[0m\u001b[0;34m\u001b[0m\u001b[0m\n\u001b[0;32m--> 244\u001b[0;31m     \u001b[0;32mreturn\u001b[0m \u001b[0m_show\u001b[0m\u001b[0;34m(\u001b[0m\u001b[0;34m*\u001b[0m\u001b[0margs\u001b[0m\u001b[0;34m,\u001b[0m \u001b[0;34m**\u001b[0m\u001b[0mkw\u001b[0m\u001b[0;34m)\u001b[0m\u001b[0;34m\u001b[0m\u001b[0m\n\u001b[0m\u001b[1;32m    245\u001b[0m \u001b[0;34m\u001b[0m\u001b[0m\n\u001b[1;32m    246\u001b[0m \u001b[0;34m\u001b[0m\u001b[0m\n",
      "\u001b[0;32m/Applications/anaconda/lib/python2.7/site-packages/ipykernel/pylab/backend_inline.pyc\u001b[0m in \u001b[0;36mshow\u001b[0;34m(close, block)\u001b[0m\n\u001b[1;32m     34\u001b[0m     \u001b[0;32mtry\u001b[0m\u001b[0;34m:\u001b[0m\u001b[0;34m\u001b[0m\u001b[0m\n\u001b[1;32m     35\u001b[0m         \u001b[0;32mfor\u001b[0m \u001b[0mfigure_manager\u001b[0m \u001b[0;32min\u001b[0m \u001b[0mGcf\u001b[0m\u001b[0;34m.\u001b[0m\u001b[0mget_all_fig_managers\u001b[0m\u001b[0;34m(\u001b[0m\u001b[0;34m)\u001b[0m\u001b[0;34m:\u001b[0m\u001b[0;34m\u001b[0m\u001b[0m\n\u001b[0;32m---> 36\u001b[0;31m             \u001b[0mdisplay\u001b[0m\u001b[0;34m(\u001b[0m\u001b[0mfigure_manager\u001b[0m\u001b[0;34m.\u001b[0m\u001b[0mcanvas\u001b[0m\u001b[0;34m.\u001b[0m\u001b[0mfigure\u001b[0m\u001b[0;34m)\u001b[0m\u001b[0;34m\u001b[0m\u001b[0m\n\u001b[0m\u001b[1;32m     37\u001b[0m     \u001b[0;32mfinally\u001b[0m\u001b[0;34m:\u001b[0m\u001b[0;34m\u001b[0m\u001b[0m\n\u001b[1;32m     38\u001b[0m         \u001b[0mshow\u001b[0m\u001b[0;34m.\u001b[0m\u001b[0m_to_draw\u001b[0m \u001b[0;34m=\u001b[0m \u001b[0;34m[\u001b[0m\u001b[0;34m]\u001b[0m\u001b[0;34m\u001b[0m\u001b[0m\n",
      "\u001b[0;32m/Applications/anaconda/lib/python2.7/site-packages/ipython-4.1.2-py2.7.egg/IPython/core/display.pyc\u001b[0m in \u001b[0;36mdisplay\u001b[0;34m(*objs, **kwargs)\u001b[0m\n\u001b[1;32m    156\u001b[0m             \u001b[0mpublish_display_data\u001b[0m\u001b[0;34m(\u001b[0m\u001b[0mdata\u001b[0m\u001b[0;34m=\u001b[0m\u001b[0mobj\u001b[0m\u001b[0;34m,\u001b[0m \u001b[0mmetadata\u001b[0m\u001b[0;34m=\u001b[0m\u001b[0mmetadata\u001b[0m\u001b[0;34m)\u001b[0m\u001b[0;34m\u001b[0m\u001b[0m\n\u001b[1;32m    157\u001b[0m         \u001b[0;32melse\u001b[0m\u001b[0;34m:\u001b[0m\u001b[0;34m\u001b[0m\u001b[0m\n\u001b[0;32m--> 158\u001b[0;31m             \u001b[0mformat_dict\u001b[0m\u001b[0;34m,\u001b[0m \u001b[0mmd_dict\u001b[0m \u001b[0;34m=\u001b[0m \u001b[0mformat\u001b[0m\u001b[0;34m(\u001b[0m\u001b[0mobj\u001b[0m\u001b[0;34m,\u001b[0m \u001b[0minclude\u001b[0m\u001b[0;34m=\u001b[0m\u001b[0minclude\u001b[0m\u001b[0;34m,\u001b[0m \u001b[0mexclude\u001b[0m\u001b[0;34m=\u001b[0m\u001b[0mexclude\u001b[0m\u001b[0;34m)\u001b[0m\u001b[0;34m\u001b[0m\u001b[0m\n\u001b[0m\u001b[1;32m    159\u001b[0m             \u001b[0;32mif\u001b[0m \u001b[0;32mnot\u001b[0m \u001b[0mformat_dict\u001b[0m\u001b[0;34m:\u001b[0m\u001b[0;34m\u001b[0m\u001b[0m\n\u001b[1;32m    160\u001b[0m                 \u001b[0;31m# nothing to display (e.g. _ipython_display_ took over)\u001b[0m\u001b[0;34m\u001b[0m\u001b[0;34m\u001b[0m\u001b[0m\n",
      "\u001b[0;32m/Applications/anaconda/lib/python2.7/site-packages/ipython-4.1.2-py2.7.egg/IPython/core/formatters.pyc\u001b[0m in \u001b[0;36mformat\u001b[0;34m(self, obj, include, exclude)\u001b[0m\n\u001b[1;32m    175\u001b[0m             \u001b[0mmd\u001b[0m \u001b[0;34m=\u001b[0m \u001b[0mNone\u001b[0m\u001b[0;34m\u001b[0m\u001b[0m\n\u001b[1;32m    176\u001b[0m             \u001b[0;32mtry\u001b[0m\u001b[0;34m:\u001b[0m\u001b[0;34m\u001b[0m\u001b[0m\n\u001b[0;32m--> 177\u001b[0;31m                 \u001b[0mdata\u001b[0m \u001b[0;34m=\u001b[0m \u001b[0mformatter\u001b[0m\u001b[0;34m(\u001b[0m\u001b[0mobj\u001b[0m\u001b[0;34m)\u001b[0m\u001b[0;34m\u001b[0m\u001b[0m\n\u001b[0m\u001b[1;32m    178\u001b[0m             \u001b[0;32mexcept\u001b[0m\u001b[0;34m:\u001b[0m\u001b[0;34m\u001b[0m\u001b[0m\n\u001b[1;32m    179\u001b[0m                 \u001b[0;31m# FIXME: log the exception\u001b[0m\u001b[0;34m\u001b[0m\u001b[0;34m\u001b[0m\u001b[0m\n",
      "\u001b[0;32m/Applications/anaconda/lib/python2.7/site-packages/ipython-4.1.2-py2.7.egg/IPython/core/formatters.pyc\u001b[0m in \u001b[0;36m__call__\u001b[0;34m(self, obj)\u001b[0m\n",
      "\u001b[0;32m/Applications/anaconda/lib/python2.7/site-packages/ipython-4.1.2-py2.7.egg/IPython/core/formatters.pyc\u001b[0m in \u001b[0;36mcatch_format_error\u001b[0;34m(method, self, *args, **kwargs)\u001b[0m\n\u001b[1;32m    220\u001b[0m     \u001b[0;34m\"\"\"show traceback on failed format call\"\"\"\u001b[0m\u001b[0;34m\u001b[0m\u001b[0m\n\u001b[1;32m    221\u001b[0m     \u001b[0;32mtry\u001b[0m\u001b[0;34m:\u001b[0m\u001b[0;34m\u001b[0m\u001b[0m\n\u001b[0;32m--> 222\u001b[0;31m         \u001b[0mr\u001b[0m \u001b[0;34m=\u001b[0m \u001b[0mmethod\u001b[0m\u001b[0;34m(\u001b[0m\u001b[0mself\u001b[0m\u001b[0;34m,\u001b[0m \u001b[0;34m*\u001b[0m\u001b[0margs\u001b[0m\u001b[0;34m,\u001b[0m \u001b[0;34m**\u001b[0m\u001b[0mkwargs\u001b[0m\u001b[0;34m)\u001b[0m\u001b[0;34m\u001b[0m\u001b[0m\n\u001b[0m\u001b[1;32m    223\u001b[0m     \u001b[0;32mexcept\u001b[0m \u001b[0mNotImplementedError\u001b[0m\u001b[0;34m:\u001b[0m\u001b[0;34m\u001b[0m\u001b[0m\n\u001b[1;32m    224\u001b[0m         \u001b[0;31m# don't warn on NotImplementedErrors\u001b[0m\u001b[0;34m\u001b[0m\u001b[0;34m\u001b[0m\u001b[0m\n",
      "\u001b[0;32m/Applications/anaconda/lib/python2.7/site-packages/ipython-4.1.2-py2.7.egg/IPython/core/formatters.pyc\u001b[0m in \u001b[0;36m__call__\u001b[0;34m(self, obj)\u001b[0m\n\u001b[1;32m    337\u001b[0m                 \u001b[0;32mpass\u001b[0m\u001b[0;34m\u001b[0m\u001b[0m\n\u001b[1;32m    338\u001b[0m             \u001b[0;32melse\u001b[0m\u001b[0;34m:\u001b[0m\u001b[0;34m\u001b[0m\u001b[0m\n\u001b[0;32m--> 339\u001b[0;31m                 \u001b[0;32mreturn\u001b[0m \u001b[0mprinter\u001b[0m\u001b[0;34m(\u001b[0m\u001b[0mobj\u001b[0m\u001b[0;34m)\u001b[0m\u001b[0;34m\u001b[0m\u001b[0m\n\u001b[0m\u001b[1;32m    340\u001b[0m             \u001b[0;31m# Finally look for special method names\u001b[0m\u001b[0;34m\u001b[0m\u001b[0;34m\u001b[0m\u001b[0m\n\u001b[1;32m    341\u001b[0m             \u001b[0mmethod\u001b[0m \u001b[0;34m=\u001b[0m \u001b[0m_safe_get_formatter_method\u001b[0m\u001b[0;34m(\u001b[0m\u001b[0mobj\u001b[0m\u001b[0;34m,\u001b[0m \u001b[0mself\u001b[0m\u001b[0;34m.\u001b[0m\u001b[0mprint_method\u001b[0m\u001b[0;34m)\u001b[0m\u001b[0;34m\u001b[0m\u001b[0m\n",
      "\u001b[0;32m/Applications/anaconda/lib/python2.7/site-packages/ipython-4.1.2-py2.7.egg/IPython/core/pylabtools.pyc\u001b[0m in \u001b[0;36m<lambda>\u001b[0;34m(fig)\u001b[0m\n\u001b[1;32m    224\u001b[0m \u001b[0;34m\u001b[0m\u001b[0m\n\u001b[1;32m    225\u001b[0m     \u001b[0;32mif\u001b[0m \u001b[0;34m'png'\u001b[0m \u001b[0;32min\u001b[0m \u001b[0mformats\u001b[0m\u001b[0;34m:\u001b[0m\u001b[0;34m\u001b[0m\u001b[0m\n\u001b[0;32m--> 226\u001b[0;31m         \u001b[0mpng_formatter\u001b[0m\u001b[0;34m.\u001b[0m\u001b[0mfor_type\u001b[0m\u001b[0;34m(\u001b[0m\u001b[0mFigure\u001b[0m\u001b[0;34m,\u001b[0m \u001b[0;32mlambda\u001b[0m \u001b[0mfig\u001b[0m\u001b[0;34m:\u001b[0m \u001b[0mprint_figure\u001b[0m\u001b[0;34m(\u001b[0m\u001b[0mfig\u001b[0m\u001b[0;34m,\u001b[0m \u001b[0;34m'png'\u001b[0m\u001b[0;34m,\u001b[0m \u001b[0;34m**\u001b[0m\u001b[0mkwargs\u001b[0m\u001b[0;34m)\u001b[0m\u001b[0;34m)\u001b[0m\u001b[0;34m\u001b[0m\u001b[0m\n\u001b[0m\u001b[1;32m    227\u001b[0m     \u001b[0;32mif\u001b[0m \u001b[0;34m'retina'\u001b[0m \u001b[0;32min\u001b[0m \u001b[0mformats\u001b[0m \u001b[0;32mor\u001b[0m \u001b[0;34m'png2x'\u001b[0m \u001b[0;32min\u001b[0m \u001b[0mformats\u001b[0m\u001b[0;34m:\u001b[0m\u001b[0;34m\u001b[0m\u001b[0m\n\u001b[1;32m    228\u001b[0m         \u001b[0mpng_formatter\u001b[0m\u001b[0;34m.\u001b[0m\u001b[0mfor_type\u001b[0m\u001b[0;34m(\u001b[0m\u001b[0mFigure\u001b[0m\u001b[0;34m,\u001b[0m \u001b[0;32mlambda\u001b[0m \u001b[0mfig\u001b[0m\u001b[0;34m:\u001b[0m \u001b[0mretina_figure\u001b[0m\u001b[0;34m(\u001b[0m\u001b[0mfig\u001b[0m\u001b[0;34m,\u001b[0m \u001b[0;34m**\u001b[0m\u001b[0mkwargs\u001b[0m\u001b[0;34m)\u001b[0m\u001b[0;34m)\u001b[0m\u001b[0;34m\u001b[0m\u001b[0m\n",
      "\u001b[0;32m/Applications/anaconda/lib/python2.7/site-packages/ipython-4.1.2-py2.7.egg/IPython/core/pylabtools.pyc\u001b[0m in \u001b[0;36mprint_figure\u001b[0;34m(fig, fmt, bbox_inches, **kwargs)\u001b[0m\n\u001b[1;32m    115\u001b[0m \u001b[0;34m\u001b[0m\u001b[0m\n\u001b[1;32m    116\u001b[0m     \u001b[0mbytes_io\u001b[0m \u001b[0;34m=\u001b[0m \u001b[0mBytesIO\u001b[0m\u001b[0;34m(\u001b[0m\u001b[0;34m)\u001b[0m\u001b[0;34m\u001b[0m\u001b[0m\n\u001b[0;32m--> 117\u001b[0;31m     \u001b[0mfig\u001b[0m\u001b[0;34m.\u001b[0m\u001b[0mcanvas\u001b[0m\u001b[0;34m.\u001b[0m\u001b[0mprint_figure\u001b[0m\u001b[0;34m(\u001b[0m\u001b[0mbytes_io\u001b[0m\u001b[0;34m,\u001b[0m \u001b[0;34m**\u001b[0m\u001b[0mkw\u001b[0m\u001b[0;34m)\u001b[0m\u001b[0;34m\u001b[0m\u001b[0m\n\u001b[0m\u001b[1;32m    118\u001b[0m     \u001b[0mdata\u001b[0m \u001b[0;34m=\u001b[0m \u001b[0mbytes_io\u001b[0m\u001b[0;34m.\u001b[0m\u001b[0mgetvalue\u001b[0m\u001b[0;34m(\u001b[0m\u001b[0;34m)\u001b[0m\u001b[0;34m\u001b[0m\u001b[0m\n\u001b[1;32m    119\u001b[0m     \u001b[0;32mif\u001b[0m \u001b[0mfmt\u001b[0m \u001b[0;34m==\u001b[0m \u001b[0;34m'svg'\u001b[0m\u001b[0;34m:\u001b[0m\u001b[0;34m\u001b[0m\u001b[0m\n",
      "\u001b[0;32m/Applications/anaconda/lib/python2.7/site-packages/matplotlib/backend_bases.pyc\u001b[0m in \u001b[0;36mprint_figure\u001b[0;34m(self, filename, dpi, facecolor, edgecolor, orientation, format, **kwargs)\u001b[0m\n\u001b[1;32m   2192\u001b[0m                         \u001b[0mclip_box\u001b[0m \u001b[0;34m=\u001b[0m \u001b[0ma\u001b[0m\u001b[0;34m.\u001b[0m\u001b[0mget_clip_box\u001b[0m\u001b[0;34m(\u001b[0m\u001b[0;34m)\u001b[0m\u001b[0;34m\u001b[0m\u001b[0m\n\u001b[1;32m   2193\u001b[0m                         \u001b[0;32mif\u001b[0m \u001b[0mclip_box\u001b[0m \u001b[0;32mis\u001b[0m \u001b[0;32mnot\u001b[0m \u001b[0mNone\u001b[0m\u001b[0;34m:\u001b[0m\u001b[0;34m\u001b[0m\u001b[0m\n\u001b[0;32m-> 2194\u001b[0;31m                             \u001b[0mbbox\u001b[0m \u001b[0;34m=\u001b[0m \u001b[0mBbox\u001b[0m\u001b[0;34m.\u001b[0m\u001b[0mintersection\u001b[0m\u001b[0;34m(\u001b[0m\u001b[0mbbox\u001b[0m\u001b[0;34m,\u001b[0m \u001b[0mclip_box\u001b[0m\u001b[0;34m)\u001b[0m\u001b[0;34m\u001b[0m\u001b[0m\n\u001b[0m\u001b[1;32m   2195\u001b[0m                         \u001b[0mclip_path\u001b[0m \u001b[0;34m=\u001b[0m \u001b[0ma\u001b[0m\u001b[0;34m.\u001b[0m\u001b[0mget_clip_path\u001b[0m\u001b[0;34m(\u001b[0m\u001b[0;34m)\u001b[0m\u001b[0;34m\u001b[0m\u001b[0m\n\u001b[1;32m   2196\u001b[0m                         \u001b[0;32mif\u001b[0m \u001b[0mclip_path\u001b[0m \u001b[0;32mis\u001b[0m \u001b[0;32mnot\u001b[0m \u001b[0mNone\u001b[0m \u001b[0;32mand\u001b[0m \u001b[0mbbox\u001b[0m \u001b[0;32mis\u001b[0m \u001b[0;32mnot\u001b[0m \u001b[0mNone\u001b[0m\u001b[0;34m:\u001b[0m\u001b[0;34m\u001b[0m\u001b[0m\n",
      "\u001b[0;32m/Applications/anaconda/lib/python2.7/site-packages/matplotlib/transforms.pyc\u001b[0m in \u001b[0;36mintersection\u001b[0;34m(bbox1, bbox2)\u001b[0m\n\u001b[1;32m    768\u001b[0m             \u001b[0my0\u001b[0m \u001b[0;34m=\u001b[0m \u001b[0mmax\u001b[0m\u001b[0;34m(\u001b[0m\u001b[0;34m[\u001b[0m\u001b[0mbbox1\u001b[0m\u001b[0;34m.\u001b[0m\u001b[0mymin\u001b[0m\u001b[0;34m,\u001b[0m \u001b[0mbbox2\u001b[0m\u001b[0;34m.\u001b[0m\u001b[0mymin\u001b[0m\u001b[0;34m]\u001b[0m\u001b[0;34m)\u001b[0m\u001b[0;34m\u001b[0m\u001b[0m\n\u001b[1;32m    769\u001b[0m             \u001b[0my1\u001b[0m \u001b[0;34m=\u001b[0m \u001b[0mmin\u001b[0m\u001b[0;34m(\u001b[0m\u001b[0;34m[\u001b[0m\u001b[0mbbox1\u001b[0m\u001b[0;34m.\u001b[0m\u001b[0mymax\u001b[0m\u001b[0;34m,\u001b[0m \u001b[0mbbox2\u001b[0m\u001b[0;34m.\u001b[0m\u001b[0mymax\u001b[0m\u001b[0;34m]\u001b[0m\u001b[0;34m)\u001b[0m\u001b[0;34m\u001b[0m\u001b[0m\n\u001b[0;32m--> 770\u001b[0;31m             \u001b[0;32mreturn\u001b[0m \u001b[0mBbox\u001b[0m\u001b[0;34m.\u001b[0m\u001b[0mfrom_extents\u001b[0m\u001b[0;34m(\u001b[0m\u001b[0mx0\u001b[0m\u001b[0;34m,\u001b[0m \u001b[0my0\u001b[0m\u001b[0;34m,\u001b[0m \u001b[0mx1\u001b[0m\u001b[0;34m,\u001b[0m \u001b[0my1\u001b[0m\u001b[0;34m)\u001b[0m\u001b[0;34m\u001b[0m\u001b[0m\n\u001b[0m\u001b[1;32m    771\u001b[0m \u001b[0;34m\u001b[0m\u001b[0m\n\u001b[1;32m    772\u001b[0m         \u001b[0;32mreturn\u001b[0m \u001b[0mNone\u001b[0m\u001b[0;34m\u001b[0m\u001b[0m\n",
      "\u001b[0;32m/Applications/anaconda/lib/python2.7/site-packages/matplotlib/transforms.pyc\u001b[0m in \u001b[0;36mfrom_extents\u001b[0;34m(*args)\u001b[0m\n\u001b[1;32m    844\u001b[0m         \"\"\"\n\u001b[1;32m    845\u001b[0m         \u001b[0mpoints\u001b[0m \u001b[0;34m=\u001b[0m \u001b[0mnp\u001b[0m\u001b[0;34m.\u001b[0m\u001b[0marray\u001b[0m\u001b[0;34m(\u001b[0m\u001b[0margs\u001b[0m\u001b[0;34m,\u001b[0m \u001b[0mdtype\u001b[0m\u001b[0;34m=\u001b[0m\u001b[0mnp\u001b[0m\u001b[0;34m.\u001b[0m\u001b[0mfloat_\u001b[0m\u001b[0;34m)\u001b[0m\u001b[0;34m.\u001b[0m\u001b[0mreshape\u001b[0m\u001b[0;34m(\u001b[0m\u001b[0;36m2\u001b[0m\u001b[0;34m,\u001b[0m \u001b[0;36m2\u001b[0m\u001b[0;34m)\u001b[0m\u001b[0;34m\u001b[0m\u001b[0m\n\u001b[0;32m--> 846\u001b[0;31m         \u001b[0;32mreturn\u001b[0m \u001b[0mBbox\u001b[0m\u001b[0;34m(\u001b[0m\u001b[0mpoints\u001b[0m\u001b[0;34m)\u001b[0m\u001b[0;34m\u001b[0m\u001b[0m\n\u001b[0m\u001b[1;32m    847\u001b[0m \u001b[0;34m\u001b[0m\u001b[0m\n\u001b[1;32m    848\u001b[0m     \u001b[0;32mdef\u001b[0m \u001b[0m__format__\u001b[0m\u001b[0;34m(\u001b[0m\u001b[0mself\u001b[0m\u001b[0;34m,\u001b[0m \u001b[0mfmt\u001b[0m\u001b[0;34m)\u001b[0m\u001b[0;34m:\u001b[0m\u001b[0;34m\u001b[0m\u001b[0m\n",
      "\u001b[0;32m/Applications/anaconda/lib/python2.7/site-packages/matplotlib/transforms.pyc\u001b[0m in \u001b[0;36m__init__\u001b[0;34m(self, points, **kwargs)\u001b[0m\n\u001b[1;32m    786\u001b[0m         \u001b[0;34m:\u001b[0m\u001b[0mmeth\u001b[0m\u001b[0;34m:\u001b[0m\u001b[0;34m`\u001b[0m\u001b[0mfrom_bounds\u001b[0m\u001b[0;34m`\u001b[0m \u001b[0;32mand\u001b[0m \u001b[0;34m:\u001b[0m\u001b[0mmeth\u001b[0m\u001b[0;34m:\u001b[0m\u001b[0;34m`\u001b[0m\u001b[0mfrom_extents\u001b[0m\u001b[0;34m`\u001b[0m\u001b[0;34m.\u001b[0m\u001b[0;34m\u001b[0m\u001b[0m\n\u001b[1;32m    787\u001b[0m         \"\"\"\n\u001b[0;32m--> 788\u001b[0;31m         \u001b[0mBboxBase\u001b[0m\u001b[0;34m.\u001b[0m\u001b[0m__init__\u001b[0m\u001b[0;34m(\u001b[0m\u001b[0mself\u001b[0m\u001b[0;34m,\u001b[0m \u001b[0;34m**\u001b[0m\u001b[0mkwargs\u001b[0m\u001b[0;34m)\u001b[0m\u001b[0;34m\u001b[0m\u001b[0m\n\u001b[0m\u001b[1;32m    789\u001b[0m         \u001b[0mpoints\u001b[0m \u001b[0;34m=\u001b[0m \u001b[0mnp\u001b[0m\u001b[0;34m.\u001b[0m\u001b[0masarray\u001b[0m\u001b[0;34m(\u001b[0m\u001b[0mpoints\u001b[0m\u001b[0;34m,\u001b[0m \u001b[0mnp\u001b[0m\u001b[0;34m.\u001b[0m\u001b[0mfloat_\u001b[0m\u001b[0;34m)\u001b[0m\u001b[0;34m\u001b[0m\u001b[0m\n\u001b[1;32m    790\u001b[0m         \u001b[0;32mif\u001b[0m \u001b[0mpoints\u001b[0m\u001b[0;34m.\u001b[0m\u001b[0mshape\u001b[0m \u001b[0;34m!=\u001b[0m \u001b[0;34m(\u001b[0m\u001b[0;36m2\u001b[0m\u001b[0;34m,\u001b[0m \u001b[0;36m2\u001b[0m\u001b[0;34m)\u001b[0m\u001b[0;34m:\u001b[0m\u001b[0;34m\u001b[0m\u001b[0m\n",
      "\u001b[0;32m/Applications/anaconda/lib/python2.7/site-packages/matplotlib/transforms.pyc\u001b[0m in \u001b[0;36m__init__\u001b[0;34m(self, shorthand_name)\u001b[0m\n\u001b[1;32m     96\u001b[0m         \u001b[0;31m# parents are deleted, references from the children won't keep\u001b[0m\u001b[0;34m\u001b[0m\u001b[0;34m\u001b[0m\u001b[0m\n\u001b[1;32m     97\u001b[0m         \u001b[0;31m# them alive.\u001b[0m\u001b[0;34m\u001b[0m\u001b[0;34m\u001b[0m\u001b[0m\n\u001b[0;32m---> 98\u001b[0;31m         \u001b[0mself\u001b[0m\u001b[0;34m.\u001b[0m\u001b[0m_parents\u001b[0m \u001b[0;34m=\u001b[0m \u001b[0mWeakValueDictionary\u001b[0m\u001b[0;34m(\u001b[0m\u001b[0;34m)\u001b[0m\u001b[0;34m\u001b[0m\u001b[0m\n\u001b[0m\u001b[1;32m     99\u001b[0m \u001b[0;34m\u001b[0m\u001b[0m\n\u001b[1;32m    100\u001b[0m         \u001b[0;31m# TransformNodes start out as invalid until their values are\u001b[0m\u001b[0;34m\u001b[0m\u001b[0;34m\u001b[0m\u001b[0m\n",
      "\u001b[0;32m/Applications/anaconda/lib/python2.7/weakref.pyc\u001b[0m in \u001b[0;36m__init__\u001b[0;34m(*args, **kw)\u001b[0m\n\u001b[1;32m     62\u001b[0m         \u001b[0mself\u001b[0m\u001b[0;34m.\u001b[0m\u001b[0m_remove\u001b[0m \u001b[0;34m=\u001b[0m \u001b[0mremove\u001b[0m\u001b[0;34m\u001b[0m\u001b[0m\n\u001b[1;32m     63\u001b[0m         \u001b[0;31m# A list of keys to be removed\u001b[0m\u001b[0;34m\u001b[0m\u001b[0;34m\u001b[0m\u001b[0m\n\u001b[0;32m---> 64\u001b[0;31m         \u001b[0mself\u001b[0m\u001b[0;34m.\u001b[0m\u001b[0m_pending_removals\u001b[0m \u001b[0;34m=\u001b[0m \u001b[0;34m[\u001b[0m\u001b[0;34m]\u001b[0m\u001b[0;34m\u001b[0m\u001b[0m\n\u001b[0m\u001b[1;32m     65\u001b[0m         \u001b[0mself\u001b[0m\u001b[0;34m.\u001b[0m\u001b[0m_iterating\u001b[0m \u001b[0;34m=\u001b[0m \u001b[0mset\u001b[0m\u001b[0;34m(\u001b[0m\u001b[0;34m)\u001b[0m\u001b[0;34m\u001b[0m\u001b[0m\n\u001b[1;32m     66\u001b[0m         \u001b[0mUserDict\u001b[0m\u001b[0;34m.\u001b[0m\u001b[0mUserDict\u001b[0m\u001b[0;34m.\u001b[0m\u001b[0m__init__\u001b[0m\u001b[0;34m(\u001b[0m\u001b[0mself\u001b[0m\u001b[0;34m,\u001b[0m \u001b[0;34m*\u001b[0m\u001b[0margs\u001b[0m\u001b[0;34m,\u001b[0m \u001b[0;34m**\u001b[0m\u001b[0mkw\u001b[0m\u001b[0;34m)\u001b[0m\u001b[0;34m\u001b[0m\u001b[0m\n",
      "\u001b[0;31mKeyboardInterrupt\u001b[0m: "
     ]
    }
   ],
   "source": [
    "#axis = np.round(estimate,4)\n",
    "#h = plt.hist(np.round(estimate,2))    \n",
    "n, bins, patches = plt.hist(np.round(estimate_fd,6), 15, normed=1, facecolor='g', alpha=0.85)\n",
    "#plt.axis([2.9981, 3.0009, 0, 25])\n",
    "plt.xlabel('Coefficient of variable x'); plt.ylabel('Density'); plt.title('Histogram Estimation Results')\n",
    "plt.plot(bins, 1/(sigma_fd * np.sqrt(2 * np.pi)) *\n",
    "               np.exp( - (bins - mu_fd)**2 / (2 * sigma_fd**2) ),\n",
    "         linewidth=2, color='r')\n",
    "#plt.text(60, .025, r'$\\mu=100,\\ \\sigma=15$')\n",
    "plt.show()\n",
    "\n",
    "#axis = np.round(estimate,4)\n",
    "#h = plt.hist(np.round(estimate,2))    \n",
    "n, bins, patches = plt.hist(np.round(estimate_rt,6), 15, normed=1, facecolor='g', alpha=0.85)\n",
    "#plt.axis([2.9981, 3.0009, 0, 25])\n",
    "plt.xlabel('Coefficient of random trend model'); plt.ylabel('Density'); plt.title('Histogram Estimation Results')\n",
    "#plt.text(60, .025, r'$\\mu=100,\\ \\sigma=15$')\n",
    "plt.show()\n",
    "\n",
    "#diff = beta - estimate_fd\n",
    "#h = plt.hist(diff)    \n",
    "#n, bins, patches = plt.hist(estimate, 12, normed=1, facecolor='g', alpha=0.85)\n",
    "#plt.axis([2.9981, 3.0009, 0, 25])\n",
    "#plt.xlabel('Coefficient of variable x'); plt.ylabel('Density'); plt.title('Histogram Estimation Results')\n",
    "#plt.text(20, -1.0005, r'$\\mu=100,\\ \\sigma=15$')\n",
    "#plt.show()"
   ]
  },
  {
   "cell_type": "code",
   "execution_count": null,
   "metadata": {
    "collapsed": false
   },
   "outputs": [],
   "source": []
  },
  {
   "cell_type": "code",
   "execution_count": null,
   "metadata": {
    "collapsed": false
   },
   "outputs": [],
   "source": []
  },
  {
   "cell_type": "code",
   "execution_count": null,
   "metadata": {
    "collapsed": false
   },
   "outputs": [],
   "source": []
  },
  {
   "cell_type": "code",
   "execution_count": null,
   "metadata": {
    "collapsed": false
   },
   "outputs": [],
   "source": []
  },
  {
   "cell_type": "code",
   "execution_count": 13,
   "metadata": {
    "collapsed": false
   },
   "outputs": [],
   "source": [
    "import plotly.tools as tls \n",
    "tls.set_credentials_file(username=\"jaschwer\",\n",
    "                             api_key=\"aixfdrxn9e\")\n",
    "credentials = tls.get_credentials_file()\n",
    "import plotly.plotly as py\n",
    "#py.sign_in('jaschwer','aixfdrxn9e')\n",
    "from plotly.graph_objs import Figure, Data, Layout"
   ]
  },
  {
   "cell_type": "code",
   "execution_count": 14,
   "metadata": {
    "collapsed": false
   },
   "outputs": [],
   "source": [
    "import plotly.graph_objs as go\n",
    "x = np.random.randn(500)\n",
    "\n",
    "data = [\n",
    "    go.Histogram(\n",
    "        x=x\n",
    "    )\n",
    "]\n",
    "plot_url = py.plot(data, filename='basic-histogram')"
   ]
  },
  {
   "cell_type": "code",
   "execution_count": null,
   "metadata": {
    "collapsed": false
   },
   "outputs": [],
   "source": []
  },
  {
   "cell_type": "code",
   "execution_count": null,
   "metadata": {
    "collapsed": true
   },
   "outputs": [],
   "source": []
  },
  {
   "cell_type": "code",
   "execution_count": null,
   "metadata": {
    "collapsed": true
   },
   "outputs": [],
   "source": []
  }
 ],
 "metadata": {
  "kernelspec": {
   "display_name": "Python 2",
   "language": "python",
   "name": "python2"
  },
  "language_info": {
   "codemirror_mode": {
    "name": "ipython",
    "version": 2
   },
   "file_extension": ".py",
   "mimetype": "text/x-python",
   "name": "python",
   "nbconvert_exporter": "python",
   "pygments_lexer": "ipython2",
   "version": "2.7.11"
  }
 },
 "nbformat": 4,
 "nbformat_minor": 0
}
